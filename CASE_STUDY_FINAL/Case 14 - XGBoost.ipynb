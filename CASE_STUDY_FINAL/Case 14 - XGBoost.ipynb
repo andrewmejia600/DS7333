{
 "cells": [
  {
   "cell_type": "code",
   "execution_count": 3,
   "metadata": {},
   "outputs": [],
   "source": [
    "import altair as alt\n",
    "import pandas as pd\n",
    "import numpy as np\n",
    "from sklearn.model_selection import train_test_split\n",
    "import matplotlib.pyplot as plt\n",
    "import seaborn as sns\n",
    "from sklearn import metrics\n",
    "import xgboost as xg\n",
    "from sklearn.metrics import *"
   ]
  },
  {
   "cell_type": "code",
   "execution_count": 5,
   "metadata": {},
   "outputs": [],
   "source": [
    "#load csv\n",
    "file_path = \"C:\\\\Users\\\\blgai\\\\OneDrive\\\\Documents\\\\School\\\\SMU\\\\Courses\\\\Spring 2021\\\\Quantifying The World\\\\Case Study 14\\\\Data\\\\final_project.csv\"\n",
    "#load Data into Pandas\n",
    "df_full = pd.read_csv(file_path)"
   ]
  },
  {
   "cell_type": "code",
   "execution_count": 6,
   "metadata": {},
   "outputs": [
    {
     "data": {
      "text/html": [
       "<div>\n",
       "<style scoped>\n",
       "    .dataframe tbody tr th:only-of-type {\n",
       "        vertical-align: middle;\n",
       "    }\n",
       "\n",
       "    .dataframe tbody tr th {\n",
       "        vertical-align: top;\n",
       "    }\n",
       "\n",
       "    .dataframe thead th {\n",
       "        text-align: right;\n",
       "    }\n",
       "</style>\n",
       "<table border=\"1\" class=\"dataframe\">\n",
       "  <thead>\n",
       "    <tr style=\"text-align: right;\">\n",
       "      <th></th>\n",
       "      <th>x0</th>\n",
       "      <th>x1</th>\n",
       "      <th>x2</th>\n",
       "      <th>x3</th>\n",
       "      <th>x4</th>\n",
       "      <th>x5</th>\n",
       "      <th>x6</th>\n",
       "      <th>x7</th>\n",
       "      <th>x8</th>\n",
       "      <th>x9</th>\n",
       "      <th>...</th>\n",
       "      <th>x41</th>\n",
       "      <th>x42</th>\n",
       "      <th>x43</th>\n",
       "      <th>x44</th>\n",
       "      <th>x45</th>\n",
       "      <th>x46</th>\n",
       "      <th>x47</th>\n",
       "      <th>x48</th>\n",
       "      <th>x49</th>\n",
       "      <th>y</th>\n",
       "    </tr>\n",
       "  </thead>\n",
       "  <tbody>\n",
       "    <tr>\n",
       "      <th>0</th>\n",
       "      <td>-0.166563</td>\n",
       "      <td>-3.961588</td>\n",
       "      <td>4.621113</td>\n",
       "      <td>2.481908</td>\n",
       "      <td>-1.800135</td>\n",
       "      <td>0.804684</td>\n",
       "      <td>6.718751</td>\n",
       "      <td>-14.789997</td>\n",
       "      <td>-1.040673</td>\n",
       "      <td>-4.204950</td>\n",
       "      <td>...</td>\n",
       "      <td>-1.497117</td>\n",
       "      <td>5.414063</td>\n",
       "      <td>-2.325655</td>\n",
       "      <td>1.674827</td>\n",
       "      <td>-0.264332</td>\n",
       "      <td>60.781427</td>\n",
       "      <td>-7.689696</td>\n",
       "      <td>0.151589</td>\n",
       "      <td>-8.040166</td>\n",
       "      <td>0</td>\n",
       "    </tr>\n",
       "    <tr>\n",
       "      <th>1</th>\n",
       "      <td>-0.149894</td>\n",
       "      <td>-0.585676</td>\n",
       "      <td>27.839856</td>\n",
       "      <td>4.152333</td>\n",
       "      <td>6.426802</td>\n",
       "      <td>-2.426943</td>\n",
       "      <td>40.477058</td>\n",
       "      <td>-6.725709</td>\n",
       "      <td>0.896421</td>\n",
       "      <td>0.330165</td>\n",
       "      <td>...</td>\n",
       "      <td>36.292790</td>\n",
       "      <td>4.490915</td>\n",
       "      <td>0.762561</td>\n",
       "      <td>6.526662</td>\n",
       "      <td>1.007927</td>\n",
       "      <td>15.805696</td>\n",
       "      <td>-4.896678</td>\n",
       "      <td>-0.320283</td>\n",
       "      <td>16.719974</td>\n",
       "      <td>0</td>\n",
       "    </tr>\n",
       "    <tr>\n",
       "      <th>2</th>\n",
       "      <td>-0.321707</td>\n",
       "      <td>-1.429819</td>\n",
       "      <td>12.251561</td>\n",
       "      <td>6.586874</td>\n",
       "      <td>-5.304647</td>\n",
       "      <td>-11.311090</td>\n",
       "      <td>17.812850</td>\n",
       "      <td>11.060572</td>\n",
       "      <td>5.325880</td>\n",
       "      <td>-2.632984</td>\n",
       "      <td>...</td>\n",
       "      <td>-0.368491</td>\n",
       "      <td>9.088864</td>\n",
       "      <td>-0.689886</td>\n",
       "      <td>-2.731118</td>\n",
       "      <td>0.754200</td>\n",
       "      <td>30.856417</td>\n",
       "      <td>-7.428573</td>\n",
       "      <td>-2.090804</td>\n",
       "      <td>-7.869421</td>\n",
       "      <td>0</td>\n",
       "    </tr>\n",
       "    <tr>\n",
       "      <th>3</th>\n",
       "      <td>-0.245594</td>\n",
       "      <td>5.076677</td>\n",
       "      <td>-24.149632</td>\n",
       "      <td>3.637307</td>\n",
       "      <td>6.505811</td>\n",
       "      <td>2.290224</td>\n",
       "      <td>-35.111751</td>\n",
       "      <td>-18.913592</td>\n",
       "      <td>-0.337041</td>\n",
       "      <td>-5.568076</td>\n",
       "      <td>...</td>\n",
       "      <td>15.691546</td>\n",
       "      <td>-7.467775</td>\n",
       "      <td>2.940789</td>\n",
       "      <td>-6.424112</td>\n",
       "      <td>0.419776</td>\n",
       "      <td>-72.424569</td>\n",
       "      <td>5.361375</td>\n",
       "      <td>1.806070</td>\n",
       "      <td>-7.670847</td>\n",
       "      <td>0</td>\n",
       "    </tr>\n",
       "    <tr>\n",
       "      <th>4</th>\n",
       "      <td>-0.273366</td>\n",
       "      <td>0.306326</td>\n",
       "      <td>-11.352593</td>\n",
       "      <td>1.676758</td>\n",
       "      <td>2.928441</td>\n",
       "      <td>-0.616824</td>\n",
       "      <td>-16.505817</td>\n",
       "      <td>27.532281</td>\n",
       "      <td>1.199715</td>\n",
       "      <td>-4.309105</td>\n",
       "      <td>...</td>\n",
       "      <td>-13.911297</td>\n",
       "      <td>-5.229937</td>\n",
       "      <td>1.783928</td>\n",
       "      <td>3.957801</td>\n",
       "      <td>-0.096988</td>\n",
       "      <td>-14.085435</td>\n",
       "      <td>-0.208351</td>\n",
       "      <td>-0.894942</td>\n",
       "      <td>15.724742</td>\n",
       "      <td>1</td>\n",
       "    </tr>\n",
       "  </tbody>\n",
       "</table>\n",
       "<p>5 rows × 51 columns</p>\n",
       "</div>"
      ],
      "text/plain": [
       "         x0        x1         x2        x3        x4         x5         x6  \\\n",
       "0 -0.166563 -3.961588   4.621113  2.481908 -1.800135   0.804684   6.718751   \n",
       "1 -0.149894 -0.585676  27.839856  4.152333  6.426802  -2.426943  40.477058   \n",
       "2 -0.321707 -1.429819  12.251561  6.586874 -5.304647 -11.311090  17.812850   \n",
       "3 -0.245594  5.076677 -24.149632  3.637307  6.505811   2.290224 -35.111751   \n",
       "4 -0.273366  0.306326 -11.352593  1.676758  2.928441  -0.616824 -16.505817   \n",
       "\n",
       "          x7        x8        x9  ...        x41       x42       x43  \\\n",
       "0 -14.789997 -1.040673 -4.204950  ...  -1.497117  5.414063 -2.325655   \n",
       "1  -6.725709  0.896421  0.330165  ...  36.292790  4.490915  0.762561   \n",
       "2  11.060572  5.325880 -2.632984  ...  -0.368491  9.088864 -0.689886   \n",
       "3 -18.913592 -0.337041 -5.568076  ...  15.691546 -7.467775  2.940789   \n",
       "4  27.532281  1.199715 -4.309105  ... -13.911297 -5.229937  1.783928   \n",
       "\n",
       "        x44       x45        x46       x47       x48        x49  y  \n",
       "0  1.674827 -0.264332  60.781427 -7.689696  0.151589  -8.040166  0  \n",
       "1  6.526662  1.007927  15.805696 -4.896678 -0.320283  16.719974  0  \n",
       "2 -2.731118  0.754200  30.856417 -7.428573 -2.090804  -7.869421  0  \n",
       "3 -6.424112  0.419776 -72.424569  5.361375  1.806070  -7.670847  0  \n",
       "4  3.957801 -0.096988 -14.085435 -0.208351 -0.894942  15.724742  1  \n",
       "\n",
       "[5 rows x 51 columns]"
      ]
     },
     "execution_count": 6,
     "metadata": {},
     "output_type": "execute_result"
    }
   ],
   "source": [
    "df_full.head(5)"
   ]
  },
  {
   "cell_type": "code",
   "execution_count": 8,
   "metadata": {},
   "outputs": [
    {
     "data": {
      "text/plain": [
       "(160000, 51)"
      ]
     },
     "execution_count": 8,
     "metadata": {},
     "output_type": "execute_result"
    }
   ],
   "source": [
    "df_full.shape"
   ]
  },
  {
   "cell_type": "code",
   "execution_count": 9,
   "metadata": {},
   "outputs": [
    {
     "data": {
      "text/plain": [
       "x0     26\n",
       "x1     25\n",
       "x2     38\n",
       "x3     37\n",
       "x4     26\n",
       "x5     37\n",
       "x6     26\n",
       "x7     27\n",
       "x8     21\n",
       "x9     30\n",
       "x10    43\n",
       "x11    30\n",
       "x12    36\n",
       "x13    31\n",
       "x14    34\n",
       "x15    35\n",
       "x16    26\n",
       "x17    27\n",
       "x18    40\n",
       "x19    35\n",
       "x20    38\n",
       "x21    29\n",
       "x22    27\n",
       "x23    47\n",
       "x24    28\n",
       "x25    22\n",
       "x26    36\n",
       "x27    30\n",
       "x28    35\n",
       "x29    30\n",
       "x30    30\n",
       "x31    39\n",
       "x32    31\n",
       "x33    41\n",
       "x34    41\n",
       "x35    30\n",
       "x36    27\n",
       "x37    23\n",
       "x38    31\n",
       "x39    23\n",
       "x40    36\n",
       "x41    40\n",
       "x42    26\n",
       "x43    37\n",
       "x44    40\n",
       "x45    29\n",
       "x46    31\n",
       "x47    37\n",
       "x48    32\n",
       "x49    32\n",
       "y       0\n",
       "dtype: int64"
      ]
     },
     "execution_count": 9,
     "metadata": {},
     "output_type": "execute_result"
    }
   ],
   "source": [
    "#Let's check to see how many data points are missing by attribute\n",
    "len(df_full)-df_full.count()"
   ]
  },
  {
   "cell_type": "code",
   "execution_count": 10,
   "metadata": {},
   "outputs": [
    {
     "data": {
      "text/html": [
       "<div>\n",
       "<style scoped>\n",
       "    .dataframe tbody tr th:only-of-type {\n",
       "        vertical-align: middle;\n",
       "    }\n",
       "\n",
       "    .dataframe tbody tr th {\n",
       "        vertical-align: top;\n",
       "    }\n",
       "\n",
       "    .dataframe thead th {\n",
       "        text-align: right;\n",
       "    }\n",
       "</style>\n",
       "<table border=\"1\" class=\"dataframe\">\n",
       "  <thead>\n",
       "    <tr style=\"text-align: right;\">\n",
       "      <th></th>\n",
       "      <th>x0</th>\n",
       "      <th>x1</th>\n",
       "      <th>x2</th>\n",
       "      <th>x3</th>\n",
       "      <th>x4</th>\n",
       "      <th>x5</th>\n",
       "      <th>x6</th>\n",
       "      <th>x7</th>\n",
       "      <th>x8</th>\n",
       "      <th>x9</th>\n",
       "      <th>...</th>\n",
       "      <th>x41</th>\n",
       "      <th>x42</th>\n",
       "      <th>x43</th>\n",
       "      <th>x44</th>\n",
       "      <th>x45</th>\n",
       "      <th>x46</th>\n",
       "      <th>x47</th>\n",
       "      <th>x48</th>\n",
       "      <th>x49</th>\n",
       "      <th>y</th>\n",
       "    </tr>\n",
       "  </thead>\n",
       "  <tbody>\n",
       "    <tr>\n",
       "      <th>count</th>\n",
       "      <td>159974.000000</td>\n",
       "      <td>159975.000000</td>\n",
       "      <td>159962.000000</td>\n",
       "      <td>159963.000000</td>\n",
       "      <td>159974.000000</td>\n",
       "      <td>159963.000000</td>\n",
       "      <td>159974.000000</td>\n",
       "      <td>159973.000000</td>\n",
       "      <td>159979.000000</td>\n",
       "      <td>159970.000000</td>\n",
       "      <td>...</td>\n",
       "      <td>159960.000000</td>\n",
       "      <td>159974.000000</td>\n",
       "      <td>159963.000000</td>\n",
       "      <td>159960.000000</td>\n",
       "      <td>159971.000000</td>\n",
       "      <td>159969.000000</td>\n",
       "      <td>159963.000000</td>\n",
       "      <td>159968.000000</td>\n",
       "      <td>159968.000000</td>\n",
       "      <td>160000.000000</td>\n",
       "    </tr>\n",
       "    <tr>\n",
       "      <th>mean</th>\n",
       "      <td>-0.001028</td>\n",
       "      <td>0.001358</td>\n",
       "      <td>-1.150145</td>\n",
       "      <td>-0.024637</td>\n",
       "      <td>-0.000549</td>\n",
       "      <td>0.013582</td>\n",
       "      <td>-1.670670</td>\n",
       "      <td>-7.692795</td>\n",
       "      <td>-0.030540</td>\n",
       "      <td>0.005462</td>\n",
       "      <td>...</td>\n",
       "      <td>6.701076</td>\n",
       "      <td>-1.833820</td>\n",
       "      <td>-0.002091</td>\n",
       "      <td>-0.006250</td>\n",
       "      <td>0.000885</td>\n",
       "      <td>-12.755395</td>\n",
       "      <td>0.028622</td>\n",
       "      <td>-0.000224</td>\n",
       "      <td>-0.674224</td>\n",
       "      <td>0.401231</td>\n",
       "    </tr>\n",
       "    <tr>\n",
       "      <th>std</th>\n",
       "      <td>0.371137</td>\n",
       "      <td>6.340632</td>\n",
       "      <td>13.273480</td>\n",
       "      <td>8.065032</td>\n",
       "      <td>6.382293</td>\n",
       "      <td>7.670076</td>\n",
       "      <td>19.298665</td>\n",
       "      <td>30.542264</td>\n",
       "      <td>8.901185</td>\n",
       "      <td>6.355040</td>\n",
       "      <td>...</td>\n",
       "      <td>18.680196</td>\n",
       "      <td>5.110705</td>\n",
       "      <td>1.534952</td>\n",
       "      <td>4.164595</td>\n",
       "      <td>0.396621</td>\n",
       "      <td>36.608641</td>\n",
       "      <td>4.788157</td>\n",
       "      <td>1.935501</td>\n",
       "      <td>15.036738</td>\n",
       "      <td>0.490149</td>\n",
       "    </tr>\n",
       "    <tr>\n",
       "      <th>min</th>\n",
       "      <td>-1.592635</td>\n",
       "      <td>-26.278302</td>\n",
       "      <td>-59.394048</td>\n",
       "      <td>-35.476594</td>\n",
       "      <td>-28.467536</td>\n",
       "      <td>-33.822988</td>\n",
       "      <td>-86.354483</td>\n",
       "      <td>-181.506976</td>\n",
       "      <td>-37.691045</td>\n",
       "      <td>-27.980659</td>\n",
       "      <td>...</td>\n",
       "      <td>-82.167224</td>\n",
       "      <td>-27.933750</td>\n",
       "      <td>-6.876234</td>\n",
       "      <td>-17.983487</td>\n",
       "      <td>-1.753221</td>\n",
       "      <td>-201.826828</td>\n",
       "      <td>-21.086333</td>\n",
       "      <td>-8.490155</td>\n",
       "      <td>-65.791191</td>\n",
       "      <td>0.000000</td>\n",
       "    </tr>\n",
       "    <tr>\n",
       "      <th>25%</th>\n",
       "      <td>-0.251641</td>\n",
       "      <td>-4.260973</td>\n",
       "      <td>-10.166536</td>\n",
       "      <td>-5.454438</td>\n",
       "      <td>-4.313118</td>\n",
       "      <td>-5.148130</td>\n",
       "      <td>-14.780146</td>\n",
       "      <td>-27.324771</td>\n",
       "      <td>-6.031058</td>\n",
       "      <td>-4.260619</td>\n",
       "      <td>...</td>\n",
       "      <td>-5.804080</td>\n",
       "      <td>-5.162869</td>\n",
       "      <td>-1.039677</td>\n",
       "      <td>-2.812055</td>\n",
       "      <td>-0.266518</td>\n",
       "      <td>-36.428329</td>\n",
       "      <td>-3.216016</td>\n",
       "      <td>-1.320800</td>\n",
       "      <td>-10.931753</td>\n",
       "      <td>0.000000</td>\n",
       "    </tr>\n",
       "    <tr>\n",
       "      <th>50%</th>\n",
       "      <td>-0.002047</td>\n",
       "      <td>0.004813</td>\n",
       "      <td>-1.340932</td>\n",
       "      <td>-0.031408</td>\n",
       "      <td>0.000857</td>\n",
       "      <td>0.014118</td>\n",
       "      <td>-1.948594</td>\n",
       "      <td>-6.956789</td>\n",
       "      <td>-0.016840</td>\n",
       "      <td>0.006045</td>\n",
       "      <td>...</td>\n",
       "      <td>6.840110</td>\n",
       "      <td>-1.923754</td>\n",
       "      <td>-0.004385</td>\n",
       "      <td>-0.010484</td>\n",
       "      <td>0.001645</td>\n",
       "      <td>-12.982497</td>\n",
       "      <td>0.035865</td>\n",
       "      <td>-0.011993</td>\n",
       "      <td>-0.574410</td>\n",
       "      <td>0.000000</td>\n",
       "    </tr>\n",
       "    <tr>\n",
       "      <th>75%</th>\n",
       "      <td>0.248532</td>\n",
       "      <td>4.284220</td>\n",
       "      <td>7.871676</td>\n",
       "      <td>5.445179</td>\n",
       "      <td>4.306660</td>\n",
       "      <td>5.190749</td>\n",
       "      <td>11.446931</td>\n",
       "      <td>12.217071</td>\n",
       "      <td>5.972349</td>\n",
       "      <td>4.305734</td>\n",
       "      <td>...</td>\n",
       "      <td>19.266367</td>\n",
       "      <td>1.453507</td>\n",
       "      <td>1.033275</td>\n",
       "      <td>2.783274</td>\n",
       "      <td>0.269049</td>\n",
       "      <td>11.445443</td>\n",
       "      <td>3.268028</td>\n",
       "      <td>1.317703</td>\n",
       "      <td>9.651072</td>\n",
       "      <td>1.000000</td>\n",
       "    </tr>\n",
       "    <tr>\n",
       "      <th>max</th>\n",
       "      <td>1.600849</td>\n",
       "      <td>27.988178</td>\n",
       "      <td>63.545653</td>\n",
       "      <td>38.906025</td>\n",
       "      <td>26.247812</td>\n",
       "      <td>35.550110</td>\n",
       "      <td>92.390605</td>\n",
       "      <td>149.150634</td>\n",
       "      <td>39.049831</td>\n",
       "      <td>27.377842</td>\n",
       "      <td>...</td>\n",
       "      <td>100.050432</td>\n",
       "      <td>22.668041</td>\n",
       "      <td>6.680922</td>\n",
       "      <td>19.069759</td>\n",
       "      <td>1.669205</td>\n",
       "      <td>150.859415</td>\n",
       "      <td>20.836854</td>\n",
       "      <td>8.226552</td>\n",
       "      <td>66.877604</td>\n",
       "      <td>1.000000</td>\n",
       "    </tr>\n",
       "  </tbody>\n",
       "</table>\n",
       "<p>8 rows × 46 columns</p>\n",
       "</div>"
      ],
      "text/plain": [
       "                  x0             x1             x2             x3  \\\n",
       "count  159974.000000  159975.000000  159962.000000  159963.000000   \n",
       "mean       -0.001028       0.001358      -1.150145      -0.024637   \n",
       "std         0.371137       6.340632      13.273480       8.065032   \n",
       "min        -1.592635     -26.278302     -59.394048     -35.476594   \n",
       "25%        -0.251641      -4.260973     -10.166536      -5.454438   \n",
       "50%        -0.002047       0.004813      -1.340932      -0.031408   \n",
       "75%         0.248532       4.284220       7.871676       5.445179   \n",
       "max         1.600849      27.988178      63.545653      38.906025   \n",
       "\n",
       "                  x4             x5             x6             x7  \\\n",
       "count  159974.000000  159963.000000  159974.000000  159973.000000   \n",
       "mean       -0.000549       0.013582      -1.670670      -7.692795   \n",
       "std         6.382293       7.670076      19.298665      30.542264   \n",
       "min       -28.467536     -33.822988     -86.354483    -181.506976   \n",
       "25%        -4.313118      -5.148130     -14.780146     -27.324771   \n",
       "50%         0.000857       0.014118      -1.948594      -6.956789   \n",
       "75%         4.306660       5.190749      11.446931      12.217071   \n",
       "max        26.247812      35.550110      92.390605     149.150634   \n",
       "\n",
       "                  x8             x9  ...            x41            x42  \\\n",
       "count  159979.000000  159970.000000  ...  159960.000000  159974.000000   \n",
       "mean       -0.030540       0.005462  ...       6.701076      -1.833820   \n",
       "std         8.901185       6.355040  ...      18.680196       5.110705   \n",
       "min       -37.691045     -27.980659  ...     -82.167224     -27.933750   \n",
       "25%        -6.031058      -4.260619  ...      -5.804080      -5.162869   \n",
       "50%        -0.016840       0.006045  ...       6.840110      -1.923754   \n",
       "75%         5.972349       4.305734  ...      19.266367       1.453507   \n",
       "max        39.049831      27.377842  ...     100.050432      22.668041   \n",
       "\n",
       "                 x43            x44            x45            x46  \\\n",
       "count  159963.000000  159960.000000  159971.000000  159969.000000   \n",
       "mean       -0.002091      -0.006250       0.000885     -12.755395   \n",
       "std         1.534952       4.164595       0.396621      36.608641   \n",
       "min        -6.876234     -17.983487      -1.753221    -201.826828   \n",
       "25%        -1.039677      -2.812055      -0.266518     -36.428329   \n",
       "50%        -0.004385      -0.010484       0.001645     -12.982497   \n",
       "75%         1.033275       2.783274       0.269049      11.445443   \n",
       "max         6.680922      19.069759       1.669205     150.859415   \n",
       "\n",
       "                 x47            x48            x49              y  \n",
       "count  159963.000000  159968.000000  159968.000000  160000.000000  \n",
       "mean        0.028622      -0.000224      -0.674224       0.401231  \n",
       "std         4.788157       1.935501      15.036738       0.490149  \n",
       "min       -21.086333      -8.490155     -65.791191       0.000000  \n",
       "25%        -3.216016      -1.320800     -10.931753       0.000000  \n",
       "50%         0.035865      -0.011993      -0.574410       0.000000  \n",
       "75%         3.268028       1.317703       9.651072       1.000000  \n",
       "max        20.836854       8.226552      66.877604       1.000000  \n",
       "\n",
       "[8 rows x 46 columns]"
      ]
     },
     "execution_count": 10,
     "metadata": {},
     "output_type": "execute_result"
    }
   ],
   "source": [
    "#let's check the 5 number summary of the data\n",
    "df_full.describe()"
   ]
  },
  {
   "cell_type": "code",
   "execution_count": 11,
   "metadata": {},
   "outputs": [],
   "source": [
    "#let's drop records containing missing values\n",
    "df_full = df_full.dropna()"
   ]
  },
  {
   "cell_type": "code",
   "execution_count": 12,
   "metadata": {},
   "outputs": [
    {
     "data": {
      "text/plain": [
       "(158392, 51)"
      ]
     },
     "execution_count": 12,
     "metadata": {},
     "output_type": "execute_result"
    }
   ],
   "source": [
    "#after dropping records with missing data we end up with 158392 records out of 160000\n",
    "df_full.shape"
   ]
  },
  {
   "cell_type": "code",
   "execution_count": 16,
   "metadata": {},
   "outputs": [
    {
     "data": {
      "text/plain": [
       "0.98995"
      ]
     },
     "execution_count": 16,
     "metadata": {},
     "output_type": "execute_result"
    }
   ],
   "source": [
    "#we still have 98.99% of the data, only removing 1.1% of the data with missing values\n",
    "len(df_full)/160000"
   ]
  },
  {
   "cell_type": "code",
   "execution_count": 39,
   "metadata": {},
   "outputs": [
    {
     "data": {
      "text/plain": [
       "x0     float64\n",
       "x1     float64\n",
       "x2     float64\n",
       "x3     float64\n",
       "x4     float64\n",
       "x5     float64\n",
       "x6     float64\n",
       "x7     float64\n",
       "x8     float64\n",
       "x9     float64\n",
       "x10    float64\n",
       "x11    float64\n",
       "x12    float64\n",
       "x13    float64\n",
       "x14    float64\n",
       "x15    float64\n",
       "x16    float64\n",
       "x17    float64\n",
       "x18    float64\n",
       "x19    float64\n",
       "x20    float64\n",
       "x21    float64\n",
       "x22    float64\n",
       "x23    float64\n",
       "x24     object\n",
       "x25    float64\n",
       "x26    float64\n",
       "x27    float64\n",
       "x28    float64\n",
       "x29     object\n",
       "x30     object\n",
       "x31    float64\n",
       "x32     object\n",
       "x33    float64\n",
       "x34    float64\n",
       "x35    float64\n",
       "x36    float64\n",
       "x37     object\n",
       "x38    float64\n",
       "x39    float64\n",
       "x40    float64\n",
       "x41    float64\n",
       "x42    float64\n",
       "x43    float64\n",
       "x44    float64\n",
       "x45    float64\n",
       "x46    float64\n",
       "x47    float64\n",
       "x48    float64\n",
       "x49    float64\n",
       "y        int64\n",
       "dtype: object"
      ]
     },
     "execution_count": 39,
     "metadata": {},
     "output_type": "execute_result"
    }
   ],
   "source": [
    "# we can see that there are categorical variables\n",
    "df_full.dtypes"
   ]
  },
  {
   "cell_type": "code",
   "execution_count": 44,
   "metadata": {},
   "outputs": [],
   "source": [
    "#remove percent sign and convert to float\n",
    "df_full['x32'] = df_full['x32'].str.rstrip('%').astype('float') / 100.0\n",
    "\n",
    "#remove dollar sign and convert to float\n",
    "df_full['x37'] = df_full['x37'].str.lstrip('$').astype('float')"
   ]
  },
  {
   "cell_type": "code",
   "execution_count": 45,
   "metadata": {},
   "outputs": [],
   "source": [
    "#establish which columns we want to encode - the categoricals we identified above\n",
    "from collections import Counter\n",
    "\n",
    "#get the list of all column names\n",
    "all_columns = df_full.columns.tolist()\n",
    "#select the columns to encode\n",
    "columns_to_encode = ['x24','x29','x30']\n",
    "#remove columns to encode from list of all columns\n",
    "remaining = Counter(all_columns) - Counter(columns_to_encode)\n",
    "#now we also have the columns we don't want to encode\n",
    "columns_no_change = list(remaining.elements())\n"
   ]
  },
  {
   "cell_type": "code",
   "execution_count": 46,
   "metadata": {},
   "outputs": [],
   "source": [
    "#one hot encode the categorical features\n",
    "from sklearn.preprocessing import StandardScaler, OneHotEncoder\n",
    "\n",
    "df_existing = df_full[columns_no_change]\n",
    "existing_cols = df_existing.to_numpy()\n",
    "\n",
    "#encoder \n",
    "ohe = OneHotEncoder(sparse=False)\n",
    "\n",
    "#ohe separate columns\n",
    "encoded_columns = ohe.fit_transform(df_full[columns_to_encode])\n",
    "\n",
    "#concatenate processed columns back together into np_full\n",
    "np_full = np.concatenate([encoded_columns,existing_cols],axis=1)\n",
    "\n",
    "#get the column names back to the dataframe\n",
    "df1 = pd.DataFrame(np_full)\n",
    "feature_names = ohe.get_feature_names().tolist()\n",
    "col_names = feature_names+columns_no_change\n",
    "df1.columns = col_names\n",
    "df_enc = df1"
   ]
  },
  {
   "cell_type": "code",
   "execution_count": 47,
   "metadata": {},
   "outputs": [],
   "source": [
    "#get training and test data using a 70:30 split\n",
    "train_set = df_enc.sample(frac=0.7, random_state=100)\n",
    "test_set = df_enc[~df_enc.isin(train_set)].dropna()"
   ]
  },
  {
   "cell_type": "code",
   "execution_count": 48,
   "metadata": {},
   "outputs": [
    {
     "data": {
      "text/html": [
       "<div>\n",
       "<style scoped>\n",
       "    .dataframe tbody tr th:only-of-type {\n",
       "        vertical-align: middle;\n",
       "    }\n",
       "\n",
       "    .dataframe tbody tr th {\n",
       "        vertical-align: top;\n",
       "    }\n",
       "\n",
       "    .dataframe thead th {\n",
       "        text-align: right;\n",
       "    }\n",
       "</style>\n",
       "<table border=\"1\" class=\"dataframe\">\n",
       "  <thead>\n",
       "    <tr style=\"text-align: right;\">\n",
       "      <th></th>\n",
       "      <th>x0_america</th>\n",
       "      <th>x0_asia</th>\n",
       "      <th>x0_euorpe</th>\n",
       "      <th>x1_Apr</th>\n",
       "      <th>x1_Aug</th>\n",
       "      <th>x1_Dev</th>\n",
       "      <th>x1_Feb</th>\n",
       "      <th>x1_January</th>\n",
       "      <th>x1_July</th>\n",
       "      <th>x1_Jun</th>\n",
       "      <th>...</th>\n",
       "      <th>x41</th>\n",
       "      <th>x42</th>\n",
       "      <th>x43</th>\n",
       "      <th>x44</th>\n",
       "      <th>x45</th>\n",
       "      <th>x46</th>\n",
       "      <th>x47</th>\n",
       "      <th>x48</th>\n",
       "      <th>x49</th>\n",
       "      <th>y</th>\n",
       "    </tr>\n",
       "  </thead>\n",
       "  <tbody>\n",
       "    <tr>\n",
       "      <th>153031</th>\n",
       "      <td>0.0</td>\n",
       "      <td>1.0</td>\n",
       "      <td>0.0</td>\n",
       "      <td>0.0</td>\n",
       "      <td>0.0</td>\n",
       "      <td>0.0</td>\n",
       "      <td>0.0</td>\n",
       "      <td>0.0</td>\n",
       "      <td>1.0</td>\n",
       "      <td>0.0</td>\n",
       "      <td>...</td>\n",
       "      <td>-5.066063</td>\n",
       "      <td>-0.457926</td>\n",
       "      <td>1.667307</td>\n",
       "      <td>-0.551113</td>\n",
       "      <td>-0.201617</td>\n",
       "      <td>10.801960</td>\n",
       "      <td>-3.938598</td>\n",
       "      <td>0.694430</td>\n",
       "      <td>-0.285937</td>\n",
       "      <td>0.0</td>\n",
       "    </tr>\n",
       "    <tr>\n",
       "      <th>53185</th>\n",
       "      <td>0.0</td>\n",
       "      <td>1.0</td>\n",
       "      <td>0.0</td>\n",
       "      <td>0.0</td>\n",
       "      <td>0.0</td>\n",
       "      <td>0.0</td>\n",
       "      <td>0.0</td>\n",
       "      <td>0.0</td>\n",
       "      <td>1.0</td>\n",
       "      <td>0.0</td>\n",
       "      <td>...</td>\n",
       "      <td>25.296005</td>\n",
       "      <td>-0.970483</td>\n",
       "      <td>0.031527</td>\n",
       "      <td>-8.783706</td>\n",
       "      <td>-0.133021</td>\n",
       "      <td>-29.467004</td>\n",
       "      <td>0.311234</td>\n",
       "      <td>2.691652</td>\n",
       "      <td>14.490999</td>\n",
       "      <td>0.0</td>\n",
       "    </tr>\n",
       "    <tr>\n",
       "      <th>149956</th>\n",
       "      <td>1.0</td>\n",
       "      <td>0.0</td>\n",
       "      <td>0.0</td>\n",
       "      <td>0.0</td>\n",
       "      <td>0.0</td>\n",
       "      <td>0.0</td>\n",
       "      <td>0.0</td>\n",
       "      <td>0.0</td>\n",
       "      <td>0.0</td>\n",
       "      <td>1.0</td>\n",
       "      <td>...</td>\n",
       "      <td>9.572387</td>\n",
       "      <td>-10.301428</td>\n",
       "      <td>0.339596</td>\n",
       "      <td>2.670589</td>\n",
       "      <td>0.085581</td>\n",
       "      <td>-90.398156</td>\n",
       "      <td>2.040747</td>\n",
       "      <td>0.601428</td>\n",
       "      <td>-8.797383</td>\n",
       "      <td>0.0</td>\n",
       "    </tr>\n",
       "    <tr>\n",
       "      <th>131462</th>\n",
       "      <td>0.0</td>\n",
       "      <td>1.0</td>\n",
       "      <td>0.0</td>\n",
       "      <td>0.0</td>\n",
       "      <td>0.0</td>\n",
       "      <td>0.0</td>\n",
       "      <td>0.0</td>\n",
       "      <td>0.0</td>\n",
       "      <td>0.0</td>\n",
       "      <td>0.0</td>\n",
       "      <td>...</td>\n",
       "      <td>-11.440283</td>\n",
       "      <td>-1.156105</td>\n",
       "      <td>0.304508</td>\n",
       "      <td>-9.080351</td>\n",
       "      <td>0.383922</td>\n",
       "      <td>2.281883</td>\n",
       "      <td>-6.345140</td>\n",
       "      <td>0.791787</td>\n",
       "      <td>-1.197098</td>\n",
       "      <td>1.0</td>\n",
       "    </tr>\n",
       "    <tr>\n",
       "      <th>37557</th>\n",
       "      <td>0.0</td>\n",
       "      <td>1.0</td>\n",
       "      <td>0.0</td>\n",
       "      <td>0.0</td>\n",
       "      <td>0.0</td>\n",
       "      <td>0.0</td>\n",
       "      <td>0.0</td>\n",
       "      <td>0.0</td>\n",
       "      <td>0.0</td>\n",
       "      <td>1.0</td>\n",
       "      <td>...</td>\n",
       "      <td>5.870788</td>\n",
       "      <td>-2.228647</td>\n",
       "      <td>1.363441</td>\n",
       "      <td>3.850160</td>\n",
       "      <td>0.275508</td>\n",
       "      <td>-72.481023</td>\n",
       "      <td>2.199502</td>\n",
       "      <td>1.766310</td>\n",
       "      <td>-17.309968</td>\n",
       "      <td>0.0</td>\n",
       "    </tr>\n",
       "  </tbody>\n",
       "</table>\n",
       "<p>5 rows × 68 columns</p>\n",
       "</div>"
      ],
      "text/plain": [
       "        x0_america  x0_asia  x0_euorpe  x1_Apr  x1_Aug  x1_Dev  x1_Feb  \\\n",
       "153031         0.0      1.0        0.0     0.0     0.0     0.0     0.0   \n",
       "53185          0.0      1.0        0.0     0.0     0.0     0.0     0.0   \n",
       "149956         1.0      0.0        0.0     0.0     0.0     0.0     0.0   \n",
       "131462         0.0      1.0        0.0     0.0     0.0     0.0     0.0   \n",
       "37557          0.0      1.0        0.0     0.0     0.0     0.0     0.0   \n",
       "\n",
       "        x1_January  x1_July  x1_Jun  ...        x41        x42       x43  \\\n",
       "153031         0.0      1.0     0.0  ...  -5.066063  -0.457926  1.667307   \n",
       "53185          0.0      1.0     0.0  ...  25.296005  -0.970483  0.031527   \n",
       "149956         0.0      0.0     1.0  ...   9.572387 -10.301428  0.339596   \n",
       "131462         0.0      0.0     0.0  ... -11.440283  -1.156105  0.304508   \n",
       "37557          0.0      0.0     1.0  ...   5.870788  -2.228647  1.363441   \n",
       "\n",
       "             x44       x45        x46       x47       x48        x49    y  \n",
       "153031 -0.551113 -0.201617  10.801960 -3.938598  0.694430  -0.285937  0.0  \n",
       "53185  -8.783706 -0.133021 -29.467004  0.311234  2.691652  14.490999  0.0  \n",
       "149956  2.670589  0.085581 -90.398156  2.040747  0.601428  -8.797383  0.0  \n",
       "131462 -9.080351  0.383922   2.281883 -6.345140  0.791787  -1.197098  1.0  \n",
       "37557   3.850160  0.275508 -72.481023  2.199502  1.766310 -17.309968  0.0  \n",
       "\n",
       "[5 rows x 68 columns]"
      ]
     },
     "execution_count": 48,
     "metadata": {},
     "output_type": "execute_result"
    }
   ],
   "source": [
    "train_set.head(5)"
   ]
  },
  {
   "cell_type": "code",
   "execution_count": 49,
   "metadata": {},
   "outputs": [
    {
     "data": {
      "text/plain": [
       "x0_america    float64\n",
       "x0_asia       float64\n",
       "x0_euorpe     float64\n",
       "x1_Apr        float64\n",
       "x1_Aug        float64\n",
       "               ...   \n",
       "x46           float64\n",
       "x47           float64\n",
       "x48           float64\n",
       "x49           float64\n",
       "y             float64\n",
       "Length: 68, dtype: object"
      ]
     },
     "execution_count": 49,
     "metadata": {},
     "output_type": "execute_result"
    }
   ],
   "source": [
    "train_set.dtypes"
   ]
  },
  {
   "cell_type": "code",
   "execution_count": 50,
   "metadata": {},
   "outputs": [
    {
     "data": {
      "text/html": [
       "<div>\n",
       "<style scoped>\n",
       "    .dataframe tbody tr th:only-of-type {\n",
       "        vertical-align: middle;\n",
       "    }\n",
       "\n",
       "    .dataframe tbody tr th {\n",
       "        vertical-align: top;\n",
       "    }\n",
       "\n",
       "    .dataframe thead th {\n",
       "        text-align: right;\n",
       "    }\n",
       "</style>\n",
       "<table border=\"1\" class=\"dataframe\">\n",
       "  <thead>\n",
       "    <tr style=\"text-align: right;\">\n",
       "      <th></th>\n",
       "      <th>x0_america</th>\n",
       "      <th>x0_asia</th>\n",
       "      <th>x0_euorpe</th>\n",
       "      <th>x1_Apr</th>\n",
       "      <th>x1_Aug</th>\n",
       "      <th>x1_Dev</th>\n",
       "      <th>x1_Feb</th>\n",
       "      <th>x1_January</th>\n",
       "      <th>x1_July</th>\n",
       "      <th>x1_Jun</th>\n",
       "      <th>...</th>\n",
       "      <th>x41</th>\n",
       "      <th>x42</th>\n",
       "      <th>x43</th>\n",
       "      <th>x44</th>\n",
       "      <th>x45</th>\n",
       "      <th>x46</th>\n",
       "      <th>x47</th>\n",
       "      <th>x48</th>\n",
       "      <th>x49</th>\n",
       "      <th>y</th>\n",
       "    </tr>\n",
       "  </thead>\n",
       "  <tbody>\n",
       "    <tr>\n",
       "      <th>2</th>\n",
       "      <td>0.0</td>\n",
       "      <td>1.0</td>\n",
       "      <td>0.0</td>\n",
       "      <td>0.0</td>\n",
       "      <td>0.0</td>\n",
       "      <td>0.0</td>\n",
       "      <td>0.0</td>\n",
       "      <td>0.0</td>\n",
       "      <td>1.0</td>\n",
       "      <td>0.0</td>\n",
       "      <td>...</td>\n",
       "      <td>-0.368491</td>\n",
       "      <td>9.088864</td>\n",
       "      <td>-0.689886</td>\n",
       "      <td>-2.731118</td>\n",
       "      <td>0.754200</td>\n",
       "      <td>30.856417</td>\n",
       "      <td>-7.428573</td>\n",
       "      <td>-2.090804</td>\n",
       "      <td>-7.869421</td>\n",
       "      <td>0.0</td>\n",
       "    </tr>\n",
       "    <tr>\n",
       "      <th>4</th>\n",
       "      <td>0.0</td>\n",
       "      <td>1.0</td>\n",
       "      <td>0.0</td>\n",
       "      <td>0.0</td>\n",
       "      <td>0.0</td>\n",
       "      <td>0.0</td>\n",
       "      <td>0.0</td>\n",
       "      <td>0.0</td>\n",
       "      <td>1.0</td>\n",
       "      <td>0.0</td>\n",
       "      <td>...</td>\n",
       "      <td>-13.911297</td>\n",
       "      <td>-5.229937</td>\n",
       "      <td>1.783928</td>\n",
       "      <td>3.957801</td>\n",
       "      <td>-0.096988</td>\n",
       "      <td>-14.085435</td>\n",
       "      <td>-0.208351</td>\n",
       "      <td>-0.894942</td>\n",
       "      <td>15.724742</td>\n",
       "      <td>1.0</td>\n",
       "    </tr>\n",
       "    <tr>\n",
       "      <th>9</th>\n",
       "      <td>0.0</td>\n",
       "      <td>1.0</td>\n",
       "      <td>0.0</td>\n",
       "      <td>0.0</td>\n",
       "      <td>0.0</td>\n",
       "      <td>0.0</td>\n",
       "      <td>0.0</td>\n",
       "      <td>0.0</td>\n",
       "      <td>0.0</td>\n",
       "      <td>1.0</td>\n",
       "      <td>...</td>\n",
       "      <td>19.267232</td>\n",
       "      <td>-0.675888</td>\n",
       "      <td>-2.560935</td>\n",
       "      <td>1.326146</td>\n",
       "      <td>0.444997</td>\n",
       "      <td>-20.942887</td>\n",
       "      <td>-3.141996</td>\n",
       "      <td>-1.608473</td>\n",
       "      <td>7.169219</td>\n",
       "      <td>1.0</td>\n",
       "    </tr>\n",
       "    <tr>\n",
       "      <th>10</th>\n",
       "      <td>0.0</td>\n",
       "      <td>1.0</td>\n",
       "      <td>0.0</td>\n",
       "      <td>0.0</td>\n",
       "      <td>0.0</td>\n",
       "      <td>0.0</td>\n",
       "      <td>0.0</td>\n",
       "      <td>0.0</td>\n",
       "      <td>1.0</td>\n",
       "      <td>0.0</td>\n",
       "      <td>...</td>\n",
       "      <td>5.027775</td>\n",
       "      <td>-3.903575</td>\n",
       "      <td>1.938380</td>\n",
       "      <td>-5.395413</td>\n",
       "      <td>0.459957</td>\n",
       "      <td>-77.491333</td>\n",
       "      <td>0.754309</td>\n",
       "      <td>-0.442017</td>\n",
       "      <td>-21.824215</td>\n",
       "      <td>1.0</td>\n",
       "    </tr>\n",
       "    <tr>\n",
       "      <th>11</th>\n",
       "      <td>1.0</td>\n",
       "      <td>0.0</td>\n",
       "      <td>0.0</td>\n",
       "      <td>0.0</td>\n",
       "      <td>0.0</td>\n",
       "      <td>0.0</td>\n",
       "      <td>0.0</td>\n",
       "      <td>0.0</td>\n",
       "      <td>1.0</td>\n",
       "      <td>0.0</td>\n",
       "      <td>...</td>\n",
       "      <td>-13.341481</td>\n",
       "      <td>-8.749303</td>\n",
       "      <td>-2.927836</td>\n",
       "      <td>-4.118254</td>\n",
       "      <td>0.790090</td>\n",
       "      <td>-95.290753</td>\n",
       "      <td>-2.076083</td>\n",
       "      <td>0.841078</td>\n",
       "      <td>-16.644318</td>\n",
       "      <td>0.0</td>\n",
       "    </tr>\n",
       "  </tbody>\n",
       "</table>\n",
       "<p>5 rows × 68 columns</p>\n",
       "</div>"
      ],
      "text/plain": [
       "    x0_america  x0_asia  x0_euorpe  x1_Apr  x1_Aug  x1_Dev  x1_Feb  \\\n",
       "2          0.0      1.0        0.0     0.0     0.0     0.0     0.0   \n",
       "4          0.0      1.0        0.0     0.0     0.0     0.0     0.0   \n",
       "9          0.0      1.0        0.0     0.0     0.0     0.0     0.0   \n",
       "10         0.0      1.0        0.0     0.0     0.0     0.0     0.0   \n",
       "11         1.0      0.0        0.0     0.0     0.0     0.0     0.0   \n",
       "\n",
       "    x1_January  x1_July  x1_Jun  ...        x41       x42       x43       x44  \\\n",
       "2          0.0      1.0     0.0  ...  -0.368491  9.088864 -0.689886 -2.731118   \n",
       "4          0.0      1.0     0.0  ... -13.911297 -5.229937  1.783928  3.957801   \n",
       "9          0.0      0.0     1.0  ...  19.267232 -0.675888 -2.560935  1.326146   \n",
       "10         0.0      1.0     0.0  ...   5.027775 -3.903575  1.938380 -5.395413   \n",
       "11         0.0      1.0     0.0  ... -13.341481 -8.749303 -2.927836 -4.118254   \n",
       "\n",
       "         x45        x46       x47       x48        x49    y  \n",
       "2   0.754200  30.856417 -7.428573 -2.090804  -7.869421  0.0  \n",
       "4  -0.096988 -14.085435 -0.208351 -0.894942  15.724742  1.0  \n",
       "9   0.444997 -20.942887 -3.141996 -1.608473   7.169219  1.0  \n",
       "10  0.459957 -77.491333  0.754309 -0.442017 -21.824215  1.0  \n",
       "11  0.790090 -95.290753 -2.076083  0.841078 -16.644318  0.0  \n",
       "\n",
       "[5 rows x 68 columns]"
      ]
     },
     "execution_count": 50,
     "metadata": {},
     "output_type": "execute_result"
    }
   ],
   "source": [
    "test_set.head(5)"
   ]
  },
  {
   "cell_type": "code",
   "execution_count": 51,
   "metadata": {},
   "outputs": [
    {
     "data": {
      "text/plain": [
       "x0_america    float64\n",
       "x0_asia       float64\n",
       "x0_euorpe     float64\n",
       "x1_Apr        float64\n",
       "x1_Aug        float64\n",
       "               ...   \n",
       "x46           float64\n",
       "x47           float64\n",
       "x48           float64\n",
       "x49           float64\n",
       "y               int64\n",
       "Length: 68, dtype: object"
      ]
     },
     "execution_count": 51,
     "metadata": {},
     "output_type": "execute_result"
    }
   ],
   "source": [
    "test_set = test_set.astype({'y': 'int64'})\n",
    "test_set.dtypes"
   ]
  },
  {
   "cell_type": "code",
   "execution_count": 52,
   "metadata": {},
   "outputs": [
    {
     "data": {
      "text/plain": [
       "158392"
      ]
     },
     "execution_count": 52,
     "metadata": {},
     "output_type": "execute_result"
    }
   ],
   "source": [
    "len(train_set) + len(test_set)"
   ]
  },
  {
   "cell_type": "code",
   "execution_count": 53,
   "metadata": {},
   "outputs": [],
   "source": [
    "# Establish our x and y training and test data\n",
    "X_train = train_set.iloc[:, 0:50].values # returns the data; excluding the target\n",
    "Y_train = train_set.iloc[:, -1].values # returns the target only\n",
    "X_test = test_set.iloc[:, 0:50].values # returns the data; excluding the target\n",
    "Y_test = test_set.iloc[:, -1].values # returns the target only"
   ]
  },
  {
   "cell_type": "markdown",
   "metadata": {},
   "source": [
    "# Establish Baseline Model and Metrics"
   ]
  },
  {
   "cell_type": "code",
   "execution_count": 54,
   "metadata": {},
   "outputs": [],
   "source": [
    "#implement simple model with minimal hyperparameters\n",
    "xgb_c = xg.XGBClassifier(importance_type='gain', max_depth=5)"
   ]
  },
  {
   "cell_type": "code",
   "execution_count": 55,
   "metadata": {},
   "outputs": [
    {
     "name": "stderr",
     "output_type": "stream",
     "text": [
      "C:\\Users\\blgai\\anaconda3\\lib\\site-packages\\xgboost\\sklearn.py:888: UserWarning: The use of label encoder in XGBClassifier is deprecated and will be removed in a future release. To remove this warning, do the following: 1) Pass option use_label_encoder=False when constructing XGBClassifier object; and 2) Encode your labels (y) as integers starting with 0, i.e. 0, 1, 2, ..., [num_class - 1].\n",
      "  warnings.warn(label_encoder_deprecation_msg, UserWarning)\n"
     ]
    },
    {
     "name": "stdout",
     "output_type": "stream",
     "text": [
      "[21:39:14] WARNING: C:/Users/Administrator/workspace/xgboost-win64_release_1.3.0/src/learner.cc:1061: Starting in XGBoost 1.3.0, the default evaluation metric used with the objective 'binary:logistic' was changed from 'error' to 'logloss'. Explicitly set eval_metric if you'd like to restore the old behavior.\n"
     ]
    },
    {
     "data": {
      "text/plain": [
       "XGBClassifier(base_score=0.5, booster='gbtree', colsample_bylevel=1,\n",
       "              colsample_bynode=1, colsample_bytree=1, gamma=0, gpu_id=-1,\n",
       "              importance_type='gain', interaction_constraints='',\n",
       "              learning_rate=0.300000012, max_delta_step=0, max_depth=5,\n",
       "              min_child_weight=1, missing=nan, monotone_constraints='()',\n",
       "              n_estimators=100, n_jobs=8, num_parallel_tree=1, random_state=0,\n",
       "              reg_alpha=0, reg_lambda=1, scale_pos_weight=1, subsample=1,\n",
       "              tree_method='exact', validate_parameters=1, verbosity=None)"
      ]
     },
     "execution_count": 55,
     "metadata": {},
     "output_type": "execute_result"
    }
   ],
   "source": [
    "xgb_c.fit(X_train,Y_train)"
   ]
  },
  {
   "cell_type": "code",
   "execution_count": 56,
   "metadata": {},
   "outputs": [],
   "source": [
    "Y_pred = xgb_c.predict(X_test)"
   ]
  },
  {
   "cell_type": "code",
   "execution_count": 57,
   "metadata": {},
   "outputs": [
    {
     "data": {
      "text/plain": [
       "array([[25934,  2558],\n",
       "       [ 3837, 15189]], dtype=int64)"
      ]
     },
     "execution_count": 57,
     "metadata": {},
     "output_type": "execute_result"
    }
   ],
   "source": [
    "confusion_matrix(Y_test,Y_pred)"
   ]
  },
  {
   "cell_type": "code",
   "execution_count": 67,
   "metadata": {},
   "outputs": [
    {
     "name": "stdout",
     "output_type": "stream",
     "text": [
      "True Positive: 15189\n",
      "False Positive: 2558\n",
      "False Negative: 3837\n",
      "True Negative: 25934\n",
      "=======================\n",
      "Accuracy: 0.8654194200092596\n",
      "TPR: 0.7983286029643646\n",
      "FPR: 0.08977958725256212\n",
      "Precision: 0.8558629627542683\n"
     ]
    }
   ],
   "source": [
    "tn, fp, fn, tp = confusion_matrix(Y_test,Y_pred).ravel()\n",
    "print(\"True Positive: {}\".format(tp))\n",
    "print(\"False Positive: {}\".format(fp))\n",
    "print(\"False Negative: {}\".format(fn))\n",
    "print(\"True Negative: {}\".format(tn))\n",
    "print(\"=======================\")\n",
    "print(\"Accuracy: {}\".format((tp+tn)/(tp+tn+fp+fn)))\n",
    "print(\"TPR: {}\".format(tp/(tp+fn)))\n",
    "print(\"FPR: {}\".format(fp/(fp+tn)))\n",
    "print(\"Precision: {}\".format(tp/(tp+fp)))"
   ]
  },
  {
   "cell_type": "markdown",
   "metadata": {},
   "source": [
    "# Grid Search"
   ]
  },
  {
   "cell_type": "code",
   "execution_count": 68,
   "metadata": {},
   "outputs": [],
   "source": [
    "from sklearn.model_selection import RandomizedSearchCV, GridSearchCV\n",
    "#Set up the parameters for grid search\n",
    "parameters = {'learning_rate' : [0.05,0.3],\n",
    "              'n_estimators' : [50,75,100],\n",
    "              'max_depth' : [5,7,9],\n",
    "              'gamma' : [.5,1,5],\n",
    "              'colsample_bytree' : [.075,1]\n",
    "             }"
   ]
  },
  {
   "cell_type": "code",
   "execution_count": 72,
   "metadata": {},
   "outputs": [],
   "source": [
    "%%capture\n",
    "\n",
    "from sklearn.model_selection import KFold\n",
    "xgb_c = xg.XGBClassifier()\n",
    "parameter_combo = 5\n",
    "kf = KFold(n_splits=3,shuffle=True,random_state=0)\n",
    "random_search = RandomizedSearchCV(xgb_c, param_distributions=parameters, n_iter=parameter_combo, cv=kf.split(X_train,Y_train) ,verbose=False, random_state=45)\n",
    "%time random_search.fit(X_train,Y_train)"
   ]
  },
  {
   "cell_type": "code",
   "execution_count": 73,
   "metadata": {},
   "outputs": [
    {
     "name": "stdout",
     "output_type": "stream",
     "text": [
      "XGBClassifier(base_score=0.5, booster='gbtree', colsample_bylevel=1,\n",
      "              colsample_bynode=1, colsample_bytree=1, gamma=0.5, gpu_id=-1,\n",
      "              importance_type='gain', interaction_constraints='',\n",
      "              learning_rate=0.3, max_delta_step=0, max_depth=9,\n",
      "              min_child_weight=1, missing=nan, monotone_constraints='()',\n",
      "              n_estimators=75, n_jobs=8, num_parallel_tree=1, random_state=0,\n",
      "              reg_alpha=0, reg_lambda=1, scale_pos_weight=1, subsample=1,\n",
      "              tree_method='exact', validate_parameters=1, verbosity=None)\n"
     ]
    }
   ],
   "source": [
    "print(random_search.best_estimator_)"
   ]
  },
  {
   "cell_type": "code",
   "execution_count": 74,
   "metadata": {},
   "outputs": [
    {
     "name": "stdout",
     "output_type": "stream",
     "text": [
      "0.8755975251186031\n"
     ]
    }
   ],
   "source": [
    "print(random_search.best_score_)"
   ]
  },
  {
   "cell_type": "markdown",
   "metadata": {},
   "source": [
    "# fit the best model"
   ]
  },
  {
   "cell_type": "code",
   "execution_count": 77,
   "metadata": {},
   "outputs": [],
   "source": [
    "#fit the best model\n",
    "xgb_c = xg.XGBClassifier(colsample_bytree=1, gamma=0.5, learning_rate=0.3, max_depth=9, n_estimators=75)"
   ]
  },
  {
   "cell_type": "code",
   "execution_count": 78,
   "metadata": {},
   "outputs": [
    {
     "name": "stdout",
     "output_type": "stream",
     "text": [
      "[22:20:23] WARNING: C:/Users/Administrator/workspace/xgboost-win64_release_1.3.0/src/learner.cc:1061: Starting in XGBoost 1.3.0, the default evaluation metric used with the objective 'binary:logistic' was changed from 'error' to 'logloss'. Explicitly set eval_metric if you'd like to restore the old behavior.\n"
     ]
    },
    {
     "data": {
      "text/plain": [
       "XGBClassifier(base_score=0.5, booster='gbtree', colsample_bylevel=1,\n",
       "              colsample_bynode=1, colsample_bytree=1, gamma=0.5, gpu_id=-1,\n",
       "              importance_type='gain', interaction_constraints='',\n",
       "              learning_rate=0.3, max_delta_step=0, max_depth=9,\n",
       "              min_child_weight=1, missing=nan, monotone_constraints='()',\n",
       "              n_estimators=75, n_jobs=8, num_parallel_tree=1, random_state=0,\n",
       "              reg_alpha=0, reg_lambda=1, scale_pos_weight=1, subsample=1,\n",
       "              tree_method='exact', validate_parameters=1, verbosity=None)"
      ]
     },
     "execution_count": 78,
     "metadata": {},
     "output_type": "execute_result"
    }
   ],
   "source": [
    "xgb_c.fit(X_train,Y_train)"
   ]
  },
  {
   "cell_type": "code",
   "execution_count": 79,
   "metadata": {},
   "outputs": [],
   "source": [
    "Y_pred = xgb_c.predict(X_test)"
   ]
  },
  {
   "cell_type": "code",
   "execution_count": 80,
   "metadata": {},
   "outputs": [
    {
     "name": "stdout",
     "output_type": "stream",
     "text": [
      "True Positive: 15750\n",
      "False Positive: 2410\n",
      "False Negative: 3276\n",
      "True Negative: 26082\n",
      "=======================\n",
      "Accuracy: 0.8803400816532683\n",
      "TPR: 0.8278145695364238\n",
      "FPR: 0.08458514670784782\n",
      "Precision: 0.8672907488986784\n"
     ]
    }
   ],
   "source": [
    "tn, fp, fn, tp = confusion_matrix(Y_test,Y_pred).ravel()\n",
    "print(\"True Positive: {}\".format(tp))\n",
    "print(\"False Positive: {}\".format(fp))\n",
    "print(\"False Negative: {}\".format(fn))\n",
    "print(\"True Negative: {}\".format(tn))\n",
    "print(\"=======================\")\n",
    "print(\"Accuracy: {}\".format((tp+tn)/(tp+tn+fp+fn)))\n",
    "print(\"TPR: {}\".format(tp/(tp+fn)))\n",
    "print(\"FPR: {}\".format(fp/(fp+tn)))\n",
    "print(\"Precision: {}\".format(tp/(tp+fp)))"
   ]
  },
  {
   "cell_type": "code",
   "execution_count": 81,
   "metadata": {},
   "outputs": [
    {
     "name": "stdout",
     "output_type": "stream",
     "text": [
      "Cost of False Positives: $24100\n",
      "Cost of False Negatives: $1638000\n",
      "Total Cost: $1662100\n"
     ]
    }
   ],
   "source": [
    "fp_cost = fp*10\n",
    "fn_cost = fn*500\n",
    "print(\"Cost of False Positives: ${}\".format(fp_cost))\n",
    "print(\"Cost of False Negatives: ${}\".format(fn_cost))\n",
    "print(\"Total Cost: ${}\".format(fp_cost+fn_cost))"
   ]
  },
  {
   "cell_type": "code",
   "execution_count": 93,
   "metadata": {},
   "outputs": [
    {
     "data": {
      "text/plain": [
       "0.9488823631682832"
      ]
     },
     "execution_count": 93,
     "metadata": {},
     "output_type": "execute_result"
    }
   ],
   "source": [
    "from sklearn.metrics import roc_auc_score\n",
    "Y_score = xgb_c.predict_proba(X_test)[:,1]\n",
    "fpr, tpr, thresholds = roc_curve(Y_test, Y_score, pos_label=2)\n",
    "roc_auc_score(Y_test,Y_score)"
   ]
  },
  {
   "cell_type": "code",
   "execution_count": 96,
   "metadata": {},
   "outputs": [
    {
     "data": {
      "image/png": "[encoded data removed]",
      "text/plain": [
       "<Figure size 432x288 with 1 Axes>"
      ]
     },
     "metadata": {
      "needs_background": "light"
     },
     "output_type": "display_data"
    }
   ],
   "source": [
    "plot_roc_curve(xgb_c, X_test, Y_test)\n",
    "plt.show()"
   ]
  }
 ],
 "metadata": {
  "kernelspec": {
   "display_name": "Python 3",
   "language": "python",
   "name": "python3"
  },
  "language_info": {
   "codemirror_mode": {
    "name": "ipython",
    "version": 3
   },
   "file_extension": ".py",
   "mimetype": "text/x-python",
   "name": "python",
   "nbconvert_exporter": "python",
   "pygments_lexer": "ipython3",
   "version": "3.8.5"
  }
 },
 "nbformat": 4,
 "nbformat_minor": 4
}
