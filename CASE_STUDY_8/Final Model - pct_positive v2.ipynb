{
 "cells": [
  {
   "cell_type": "code",
   "execution_count": 1,
   "id": "centered-immune",
   "metadata": {},
   "outputs": [],
   "source": [
    "import numpy as np\n",
    "import pandas as pd \n",
    "import fbprophet \n",
    "from fbprophet import Prophet\n",
    "import plotly\n",
    "import statsmodels\n",
    "from statsmodels.tsa.stattools import acf\n",
    "from matplotlib import pyplot\n",
    "import altair as alt\n",
    "import scipy\n",
    "from scipy import signal\n",
    "import spectrum \n",
    "from spectrum import WelchPeriodogram\n",
    "from spectrum import Periodogram\n",
    "from statsmodels.tsa.arima.model import ARIMA\n",
    "from statsmodels.tsa.stattools import q_stat\n",
    "from sklearn.metrics import mean_squared_error\n",
    "from statsmodels.tsa.arima_process import arma_generate_sample\n",
    "from statsmodels.tsa.stattools import arma_order_select_ic\n",
    "from statsmodels.tsa.seasonal import STL\n",
    "from statsmodels.tsa.stattools import adfuller\n",
    "import statsmodels.api as sm\n",
    "import matplotlib as mpl\n",
    "import matplotlib.pyplot as plt\n",
    "from math import sqrt\n",
    "import warnings\n",
    "from statsmodels.tsa.stattools import kpss\n",
    "warnings.filterwarnings('ignore', 'statsmodels.tsa.arima_model.ARMA',\n",
    "                        FutureWarning)\n",
    "warnings.filterwarnings('ignore', 'statsmodels.tsa.arima_model.ARIMA',\n",
    "                        FutureWarning)"
   ]
  },
  {
   "cell_type": "code",
   "execution_count": 2,
   "id": "pleased-european",
   "metadata": {},
   "outputs": [],
   "source": [
    "flu_data = pd.read_csv('flu.csv', header = 2, sep = ',')"
   ]
  },
  {
   "cell_type": "code",
   "execution_count": 3,
   "id": "tough-motivation",
   "metadata": {},
   "outputs": [
    {
     "data": {
      "text/html": [
       "<div>\n",
       "<style scoped>\n",
       "    .dataframe tbody tr th:only-of-type {\n",
       "        vertical-align: middle;\n",
       "    }\n",
       "\n",
       "    .dataframe tbody tr th {\n",
       "        vertical-align: top;\n",
       "    }\n",
       "\n",
       "    .dataframe thead th {\n",
       "        text-align: right;\n",
       "    }\n",
       "</style>\n",
       "<table border=\"1\" class=\"dataframe\">\n",
       "  <thead>\n",
       "    <tr style=\"text-align: right;\">\n",
       "      <th></th>\n",
       "      <th>Country</th>\n",
       "      <th>WHOREGION</th>\n",
       "      <th>FLUREGION</th>\n",
       "      <th>Year</th>\n",
       "      <th>Week</th>\n",
       "      <th>SDATE</th>\n",
       "      <th>EDATE</th>\n",
       "      <th>SPEC_RECEIVED_NB</th>\n",
       "      <th>SPEC_PROCESSED_NB</th>\n",
       "      <th>AH1</th>\n",
       "      <th>...</th>\n",
       "      <th>AH5</th>\n",
       "      <th>ANOTSUBTYPED</th>\n",
       "      <th>INF_A</th>\n",
       "      <th>BYAMAGATA</th>\n",
       "      <th>BVICTORIA</th>\n",
       "      <th>BNOTDETERMINED</th>\n",
       "      <th>INF_B</th>\n",
       "      <th>ALL_INF</th>\n",
       "      <th>ALL_INF2</th>\n",
       "      <th>TITLE</th>\n",
       "    </tr>\n",
       "  </thead>\n",
       "  <tbody>\n",
       "    <tr>\n",
       "      <th>0</th>\n",
       "      <td>United States of America</td>\n",
       "      <td>Region of the Americas of WHO</td>\n",
       "      <td>North America</td>\n",
       "      <td>2013</td>\n",
       "      <td>1</td>\n",
       "      <td>2012-12-31</td>\n",
       "      <td>2013-01-06</td>\n",
       "      <td>18219</td>\n",
       "      <td>18219</td>\n",
       "      <td>0.0</td>\n",
       "      <td>...</td>\n",
       "      <td>0.0</td>\n",
       "      <td>1653</td>\n",
       "      <td>5377</td>\n",
       "      <td>0</td>\n",
       "      <td>0</td>\n",
       "      <td>1097</td>\n",
       "      <td>1097</td>\n",
       "      <td>6474</td>\n",
       "      <td>NaN</td>\n",
       "      <td>Widespread Outbreak</td>\n",
       "    </tr>\n",
       "    <tr>\n",
       "      <th>1</th>\n",
       "      <td>United States of America</td>\n",
       "      <td>Region of the Americas of WHO</td>\n",
       "      <td>North America</td>\n",
       "      <td>2013</td>\n",
       "      <td>2</td>\n",
       "      <td>2013-01-07</td>\n",
       "      <td>2013-01-13</td>\n",
       "      <td>20013</td>\n",
       "      <td>20013</td>\n",
       "      <td>0.0</td>\n",
       "      <td>...</td>\n",
       "      <td>0.0</td>\n",
       "      <td>1767</td>\n",
       "      <td>5752</td>\n",
       "      <td>0</td>\n",
       "      <td>0</td>\n",
       "      <td>1145</td>\n",
       "      <td>1145</td>\n",
       "      <td>6897</td>\n",
       "      <td>NaN</td>\n",
       "      <td>Widespread Outbreak</td>\n",
       "    </tr>\n",
       "    <tr>\n",
       "      <th>2</th>\n",
       "      <td>United States of America</td>\n",
       "      <td>Region of the Americas of WHO</td>\n",
       "      <td>North America</td>\n",
       "      <td>2013</td>\n",
       "      <td>3</td>\n",
       "      <td>2013-01-14</td>\n",
       "      <td>2013-01-20</td>\n",
       "      <td>19228</td>\n",
       "      <td>19228</td>\n",
       "      <td>0.0</td>\n",
       "      <td>...</td>\n",
       "      <td>0.0</td>\n",
       "      <td>1624</td>\n",
       "      <td>4858</td>\n",
       "      <td>0</td>\n",
       "      <td>0</td>\n",
       "      <td>1078</td>\n",
       "      <td>1078</td>\n",
       "      <td>5936</td>\n",
       "      <td>NaN</td>\n",
       "      <td>Widespread Outbreak</td>\n",
       "    </tr>\n",
       "    <tr>\n",
       "      <th>3</th>\n",
       "      <td>United States of America</td>\n",
       "      <td>Region of the Americas of WHO</td>\n",
       "      <td>North America</td>\n",
       "      <td>2013</td>\n",
       "      <td>4</td>\n",
       "      <td>2013-01-21</td>\n",
       "      <td>2013-01-27</td>\n",
       "      <td>17139</td>\n",
       "      <td>17139</td>\n",
       "      <td>0.0</td>\n",
       "      <td>...</td>\n",
       "      <td>0.0</td>\n",
       "      <td>1528</td>\n",
       "      <td>4039</td>\n",
       "      <td>0</td>\n",
       "      <td>0</td>\n",
       "      <td>1091</td>\n",
       "      <td>1091</td>\n",
       "      <td>5130</td>\n",
       "      <td>NaN</td>\n",
       "      <td>Widespread Outbreak</td>\n",
       "    </tr>\n",
       "    <tr>\n",
       "      <th>4</th>\n",
       "      <td>United States of America</td>\n",
       "      <td>Region of the Americas of WHO</td>\n",
       "      <td>North America</td>\n",
       "      <td>2013</td>\n",
       "      <td>5</td>\n",
       "      <td>2013-01-28</td>\n",
       "      <td>2013-02-03</td>\n",
       "      <td>14795</td>\n",
       "      <td>14795</td>\n",
       "      <td>0.0</td>\n",
       "      <td>...</td>\n",
       "      <td>0.0</td>\n",
       "      <td>951</td>\n",
       "      <td>2963</td>\n",
       "      <td>0</td>\n",
       "      <td>0</td>\n",
       "      <td>1076</td>\n",
       "      <td>1076</td>\n",
       "      <td>4039</td>\n",
       "      <td>NaN</td>\n",
       "      <td>Widespread Outbreak</td>\n",
       "    </tr>\n",
       "    <tr>\n",
       "      <th>5</th>\n",
       "      <td>United States of America</td>\n",
       "      <td>Region of the Americas of WHO</td>\n",
       "      <td>North America</td>\n",
       "      <td>2013</td>\n",
       "      <td>6</td>\n",
       "      <td>2013-02-04</td>\n",
       "      <td>2013-02-10</td>\n",
       "      <td>13259</td>\n",
       "      <td>13259</td>\n",
       "      <td>0.0</td>\n",
       "      <td>...</td>\n",
       "      <td>0.0</td>\n",
       "      <td>706</td>\n",
       "      <td>2008</td>\n",
       "      <td>0</td>\n",
       "      <td>0</td>\n",
       "      <td>1051</td>\n",
       "      <td>1051</td>\n",
       "      <td>3059</td>\n",
       "      <td>NaN</td>\n",
       "      <td>Widespread Outbreak</td>\n",
       "    </tr>\n",
       "    <tr>\n",
       "      <th>6</th>\n",
       "      <td>United States of America</td>\n",
       "      <td>Region of the Americas of WHO</td>\n",
       "      <td>North America</td>\n",
       "      <td>2013</td>\n",
       "      <td>7</td>\n",
       "      <td>2013-02-11</td>\n",
       "      <td>2013-02-17</td>\n",
       "      <td>11468</td>\n",
       "      <td>11468</td>\n",
       "      <td>0.0</td>\n",
       "      <td>...</td>\n",
       "      <td>0.0</td>\n",
       "      <td>486</td>\n",
       "      <td>1353</td>\n",
       "      <td>0</td>\n",
       "      <td>0</td>\n",
       "      <td>1032</td>\n",
       "      <td>1032</td>\n",
       "      <td>2385</td>\n",
       "      <td>NaN</td>\n",
       "      <td>Widespread Outbreak</td>\n",
       "    </tr>\n",
       "    <tr>\n",
       "      <th>7</th>\n",
       "      <td>United States of America</td>\n",
       "      <td>Region of the Americas of WHO</td>\n",
       "      <td>North America</td>\n",
       "      <td>2013</td>\n",
       "      <td>8</td>\n",
       "      <td>2013-02-18</td>\n",
       "      <td>2013-02-24</td>\n",
       "      <td>10398</td>\n",
       "      <td>10398</td>\n",
       "      <td>0.0</td>\n",
       "      <td>...</td>\n",
       "      <td>0.0</td>\n",
       "      <td>363</td>\n",
       "      <td>985</td>\n",
       "      <td>0</td>\n",
       "      <td>0</td>\n",
       "      <td>1084</td>\n",
       "      <td>1084</td>\n",
       "      <td>2069</td>\n",
       "      <td>NaN</td>\n",
       "      <td>Widespread Outbreak</td>\n",
       "    </tr>\n",
       "    <tr>\n",
       "      <th>8</th>\n",
       "      <td>United States of America</td>\n",
       "      <td>Region of the Americas of WHO</td>\n",
       "      <td>North America</td>\n",
       "      <td>2013</td>\n",
       "      <td>9</td>\n",
       "      <td>2013-02-25</td>\n",
       "      <td>2013-03-03</td>\n",
       "      <td>9499</td>\n",
       "      <td>9499</td>\n",
       "      <td>0.0</td>\n",
       "      <td>...</td>\n",
       "      <td>0.0</td>\n",
       "      <td>289</td>\n",
       "      <td>730</td>\n",
       "      <td>0</td>\n",
       "      <td>0</td>\n",
       "      <td>1046</td>\n",
       "      <td>1046</td>\n",
       "      <td>1776</td>\n",
       "      <td>NaN</td>\n",
       "      <td>Widespread Outbreak</td>\n",
       "    </tr>\n",
       "    <tr>\n",
       "      <th>9</th>\n",
       "      <td>United States of America</td>\n",
       "      <td>Region of the Americas of WHO</td>\n",
       "      <td>North America</td>\n",
       "      <td>2013</td>\n",
       "      <td>10</td>\n",
       "      <td>2013-03-04</td>\n",
       "      <td>2013-03-10</td>\n",
       "      <td>8999</td>\n",
       "      <td>8999</td>\n",
       "      <td>0.0</td>\n",
       "      <td>...</td>\n",
       "      <td>0.0</td>\n",
       "      <td>200</td>\n",
       "      <td>562</td>\n",
       "      <td>0</td>\n",
       "      <td>0</td>\n",
       "      <td>1083</td>\n",
       "      <td>1083</td>\n",
       "      <td>1645</td>\n",
       "      <td>NaN</td>\n",
       "      <td>Regional Outbreak</td>\n",
       "    </tr>\n",
       "  </tbody>\n",
       "</table>\n",
       "<p>10 rows × 22 columns</p>\n",
       "</div>"
      ],
      "text/plain": [
       "                    Country                      WHOREGION      FLUREGION  \\\n",
       "0  United States of America  Region of the Americas of WHO  North America   \n",
       "1  United States of America  Region of the Americas of WHO  North America   \n",
       "2  United States of America  Region of the Americas of WHO  North America   \n",
       "3  United States of America  Region of the Americas of WHO  North America   \n",
       "4  United States of America  Region of the Americas of WHO  North America   \n",
       "5  United States of America  Region of the Americas of WHO  North America   \n",
       "6  United States of America  Region of the Americas of WHO  North America   \n",
       "7  United States of America  Region of the Americas of WHO  North America   \n",
       "8  United States of America  Region of the Americas of WHO  North America   \n",
       "9  United States of America  Region of the Americas of WHO  North America   \n",
       "\n",
       "   Year  Week       SDATE       EDATE  SPEC_RECEIVED_NB  SPEC_PROCESSED_NB  \\\n",
       "0  2013     1  2012-12-31  2013-01-06             18219              18219   \n",
       "1  2013     2  2013-01-07  2013-01-13             20013              20013   \n",
       "2  2013     3  2013-01-14  2013-01-20             19228              19228   \n",
       "3  2013     4  2013-01-21  2013-01-27             17139              17139   \n",
       "4  2013     5  2013-01-28  2013-02-03             14795              14795   \n",
       "5  2013     6  2013-02-04  2013-02-10             13259              13259   \n",
       "6  2013     7  2013-02-11  2013-02-17             11468              11468   \n",
       "7  2013     8  2013-02-18  2013-02-24             10398              10398   \n",
       "8  2013     9  2013-02-25  2013-03-03              9499               9499   \n",
       "9  2013    10  2013-03-04  2013-03-10              8999               8999   \n",
       "\n",
       "   AH1  ...  AH5  ANOTSUBTYPED  INF_A  BYAMAGATA  BVICTORIA  BNOTDETERMINED  \\\n",
       "0  0.0  ...  0.0          1653   5377          0          0            1097   \n",
       "1  0.0  ...  0.0          1767   5752          0          0            1145   \n",
       "2  0.0  ...  0.0          1624   4858          0          0            1078   \n",
       "3  0.0  ...  0.0          1528   4039          0          0            1091   \n",
       "4  0.0  ...  0.0           951   2963          0          0            1076   \n",
       "5  0.0  ...  0.0           706   2008          0          0            1051   \n",
       "6  0.0  ...  0.0           486   1353          0          0            1032   \n",
       "7  0.0  ...  0.0           363    985          0          0            1084   \n",
       "8  0.0  ...  0.0           289    730          0          0            1046   \n",
       "9  0.0  ...  0.0           200    562          0          0            1083   \n",
       "\n",
       "   INF_B  ALL_INF  ALL_INF2                TITLE  \n",
       "0   1097     6474       NaN  Widespread Outbreak  \n",
       "1   1145     6897       NaN  Widespread Outbreak  \n",
       "2   1078     5936       NaN  Widespread Outbreak  \n",
       "3   1091     5130       NaN  Widespread Outbreak  \n",
       "4   1076     4039       NaN  Widespread Outbreak  \n",
       "5   1051     3059       NaN  Widespread Outbreak  \n",
       "6   1032     2385       NaN  Widespread Outbreak  \n",
       "7   1084     2069       NaN  Widespread Outbreak  \n",
       "8   1046     1776       NaN  Widespread Outbreak  \n",
       "9   1083     1645       NaN    Regional Outbreak  \n",
       "\n",
       "[10 rows x 22 columns]"
      ]
     },
     "execution_count": 3,
     "metadata": {},
     "output_type": "execute_result"
    }
   ],
   "source": [
    "flu_data.head(10)"
   ]
  },
  {
   "cell_type": "code",
   "execution_count": 4,
   "id": "acoustic-yacht",
   "metadata": {},
   "outputs": [],
   "source": [
    "#Percentage of positive results\n",
    "flu_data[\"pct_positive\"]=round((flu_data[\"ALL_INF\"]/flu_data[\"SPEC_PROCESSED_NB\"])*100,2)"
   ]
  },
  {
   "cell_type": "code",
   "execution_count": 5,
   "id": "removable-adams",
   "metadata": {},
   "outputs": [
    {
     "data": {
      "text/html": [
       "<div>\n",
       "<style scoped>\n",
       "    .dataframe tbody tr th:only-of-type {\n",
       "        vertical-align: middle;\n",
       "    }\n",
       "\n",
       "    .dataframe tbody tr th {\n",
       "        vertical-align: top;\n",
       "    }\n",
       "\n",
       "    .dataframe thead th {\n",
       "        text-align: right;\n",
       "    }\n",
       "</style>\n",
       "<table border=\"1\" class=\"dataframe\">\n",
       "  <thead>\n",
       "    <tr style=\"text-align: right;\">\n",
       "      <th></th>\n",
       "      <th>Country</th>\n",
       "      <th>WHOREGION</th>\n",
       "      <th>FLUREGION</th>\n",
       "      <th>Year</th>\n",
       "      <th>Week</th>\n",
       "      <th>SDATE</th>\n",
       "      <th>EDATE</th>\n",
       "      <th>SPEC_RECEIVED_NB</th>\n",
       "      <th>SPEC_PROCESSED_NB</th>\n",
       "      <th>AH1</th>\n",
       "      <th>...</th>\n",
       "      <th>ANOTSUBTYPED</th>\n",
       "      <th>INF_A</th>\n",
       "      <th>BYAMAGATA</th>\n",
       "      <th>BVICTORIA</th>\n",
       "      <th>BNOTDETERMINED</th>\n",
       "      <th>INF_B</th>\n",
       "      <th>ALL_INF</th>\n",
       "      <th>ALL_INF2</th>\n",
       "      <th>TITLE</th>\n",
       "      <th>pct_positive</th>\n",
       "    </tr>\n",
       "  </thead>\n",
       "  <tbody>\n",
       "    <tr>\n",
       "      <th>0</th>\n",
       "      <td>United States of America</td>\n",
       "      <td>Region of the Americas of WHO</td>\n",
       "      <td>North America</td>\n",
       "      <td>2013</td>\n",
       "      <td>1</td>\n",
       "      <td>2012-12-31</td>\n",
       "      <td>2013-01-06</td>\n",
       "      <td>18219</td>\n",
       "      <td>18219</td>\n",
       "      <td>0.0</td>\n",
       "      <td>...</td>\n",
       "      <td>1653</td>\n",
       "      <td>5377</td>\n",
       "      <td>0</td>\n",
       "      <td>0</td>\n",
       "      <td>1097</td>\n",
       "      <td>1097</td>\n",
       "      <td>6474</td>\n",
       "      <td>NaN</td>\n",
       "      <td>Widespread Outbreak</td>\n",
       "      <td>35.53</td>\n",
       "    </tr>\n",
       "    <tr>\n",
       "      <th>1</th>\n",
       "      <td>United States of America</td>\n",
       "      <td>Region of the Americas of WHO</td>\n",
       "      <td>North America</td>\n",
       "      <td>2013</td>\n",
       "      <td>2</td>\n",
       "      <td>2013-01-07</td>\n",
       "      <td>2013-01-13</td>\n",
       "      <td>20013</td>\n",
       "      <td>20013</td>\n",
       "      <td>0.0</td>\n",
       "      <td>...</td>\n",
       "      <td>1767</td>\n",
       "      <td>5752</td>\n",
       "      <td>0</td>\n",
       "      <td>0</td>\n",
       "      <td>1145</td>\n",
       "      <td>1145</td>\n",
       "      <td>6897</td>\n",
       "      <td>NaN</td>\n",
       "      <td>Widespread Outbreak</td>\n",
       "      <td>34.46</td>\n",
       "    </tr>\n",
       "    <tr>\n",
       "      <th>2</th>\n",
       "      <td>United States of America</td>\n",
       "      <td>Region of the Americas of WHO</td>\n",
       "      <td>North America</td>\n",
       "      <td>2013</td>\n",
       "      <td>3</td>\n",
       "      <td>2013-01-14</td>\n",
       "      <td>2013-01-20</td>\n",
       "      <td>19228</td>\n",
       "      <td>19228</td>\n",
       "      <td>0.0</td>\n",
       "      <td>...</td>\n",
       "      <td>1624</td>\n",
       "      <td>4858</td>\n",
       "      <td>0</td>\n",
       "      <td>0</td>\n",
       "      <td>1078</td>\n",
       "      <td>1078</td>\n",
       "      <td>5936</td>\n",
       "      <td>NaN</td>\n",
       "      <td>Widespread Outbreak</td>\n",
       "      <td>30.87</td>\n",
       "    </tr>\n",
       "    <tr>\n",
       "      <th>3</th>\n",
       "      <td>United States of America</td>\n",
       "      <td>Region of the Americas of WHO</td>\n",
       "      <td>North America</td>\n",
       "      <td>2013</td>\n",
       "      <td>4</td>\n",
       "      <td>2013-01-21</td>\n",
       "      <td>2013-01-27</td>\n",
       "      <td>17139</td>\n",
       "      <td>17139</td>\n",
       "      <td>0.0</td>\n",
       "      <td>...</td>\n",
       "      <td>1528</td>\n",
       "      <td>4039</td>\n",
       "      <td>0</td>\n",
       "      <td>0</td>\n",
       "      <td>1091</td>\n",
       "      <td>1091</td>\n",
       "      <td>5130</td>\n",
       "      <td>NaN</td>\n",
       "      <td>Widespread Outbreak</td>\n",
       "      <td>29.93</td>\n",
       "    </tr>\n",
       "    <tr>\n",
       "      <th>4</th>\n",
       "      <td>United States of America</td>\n",
       "      <td>Region of the Americas of WHO</td>\n",
       "      <td>North America</td>\n",
       "      <td>2013</td>\n",
       "      <td>5</td>\n",
       "      <td>2013-01-28</td>\n",
       "      <td>2013-02-03</td>\n",
       "      <td>14795</td>\n",
       "      <td>14795</td>\n",
       "      <td>0.0</td>\n",
       "      <td>...</td>\n",
       "      <td>951</td>\n",
       "      <td>2963</td>\n",
       "      <td>0</td>\n",
       "      <td>0</td>\n",
       "      <td>1076</td>\n",
       "      <td>1076</td>\n",
       "      <td>4039</td>\n",
       "      <td>NaN</td>\n",
       "      <td>Widespread Outbreak</td>\n",
       "      <td>27.30</td>\n",
       "    </tr>\n",
       "    <tr>\n",
       "      <th>5</th>\n",
       "      <td>United States of America</td>\n",
       "      <td>Region of the Americas of WHO</td>\n",
       "      <td>North America</td>\n",
       "      <td>2013</td>\n",
       "      <td>6</td>\n",
       "      <td>2013-02-04</td>\n",
       "      <td>2013-02-10</td>\n",
       "      <td>13259</td>\n",
       "      <td>13259</td>\n",
       "      <td>0.0</td>\n",
       "      <td>...</td>\n",
       "      <td>706</td>\n",
       "      <td>2008</td>\n",
       "      <td>0</td>\n",
       "      <td>0</td>\n",
       "      <td>1051</td>\n",
       "      <td>1051</td>\n",
       "      <td>3059</td>\n",
       "      <td>NaN</td>\n",
       "      <td>Widespread Outbreak</td>\n",
       "      <td>23.07</td>\n",
       "    </tr>\n",
       "    <tr>\n",
       "      <th>6</th>\n",
       "      <td>United States of America</td>\n",
       "      <td>Region of the Americas of WHO</td>\n",
       "      <td>North America</td>\n",
       "      <td>2013</td>\n",
       "      <td>7</td>\n",
       "      <td>2013-02-11</td>\n",
       "      <td>2013-02-17</td>\n",
       "      <td>11468</td>\n",
       "      <td>11468</td>\n",
       "      <td>0.0</td>\n",
       "      <td>...</td>\n",
       "      <td>486</td>\n",
       "      <td>1353</td>\n",
       "      <td>0</td>\n",
       "      <td>0</td>\n",
       "      <td>1032</td>\n",
       "      <td>1032</td>\n",
       "      <td>2385</td>\n",
       "      <td>NaN</td>\n",
       "      <td>Widespread Outbreak</td>\n",
       "      <td>20.80</td>\n",
       "    </tr>\n",
       "    <tr>\n",
       "      <th>7</th>\n",
       "      <td>United States of America</td>\n",
       "      <td>Region of the Americas of WHO</td>\n",
       "      <td>North America</td>\n",
       "      <td>2013</td>\n",
       "      <td>8</td>\n",
       "      <td>2013-02-18</td>\n",
       "      <td>2013-02-24</td>\n",
       "      <td>10398</td>\n",
       "      <td>10398</td>\n",
       "      <td>0.0</td>\n",
       "      <td>...</td>\n",
       "      <td>363</td>\n",
       "      <td>985</td>\n",
       "      <td>0</td>\n",
       "      <td>0</td>\n",
       "      <td>1084</td>\n",
       "      <td>1084</td>\n",
       "      <td>2069</td>\n",
       "      <td>NaN</td>\n",
       "      <td>Widespread Outbreak</td>\n",
       "      <td>19.90</td>\n",
       "    </tr>\n",
       "    <tr>\n",
       "      <th>8</th>\n",
       "      <td>United States of America</td>\n",
       "      <td>Region of the Americas of WHO</td>\n",
       "      <td>North America</td>\n",
       "      <td>2013</td>\n",
       "      <td>9</td>\n",
       "      <td>2013-02-25</td>\n",
       "      <td>2013-03-03</td>\n",
       "      <td>9499</td>\n",
       "      <td>9499</td>\n",
       "      <td>0.0</td>\n",
       "      <td>...</td>\n",
       "      <td>289</td>\n",
       "      <td>730</td>\n",
       "      <td>0</td>\n",
       "      <td>0</td>\n",
       "      <td>1046</td>\n",
       "      <td>1046</td>\n",
       "      <td>1776</td>\n",
       "      <td>NaN</td>\n",
       "      <td>Widespread Outbreak</td>\n",
       "      <td>18.70</td>\n",
       "    </tr>\n",
       "    <tr>\n",
       "      <th>9</th>\n",
       "      <td>United States of America</td>\n",
       "      <td>Region of the Americas of WHO</td>\n",
       "      <td>North America</td>\n",
       "      <td>2013</td>\n",
       "      <td>10</td>\n",
       "      <td>2013-03-04</td>\n",
       "      <td>2013-03-10</td>\n",
       "      <td>8999</td>\n",
       "      <td>8999</td>\n",
       "      <td>0.0</td>\n",
       "      <td>...</td>\n",
       "      <td>200</td>\n",
       "      <td>562</td>\n",
       "      <td>0</td>\n",
       "      <td>0</td>\n",
       "      <td>1083</td>\n",
       "      <td>1083</td>\n",
       "      <td>1645</td>\n",
       "      <td>NaN</td>\n",
       "      <td>Regional Outbreak</td>\n",
       "      <td>18.28</td>\n",
       "    </tr>\n",
       "  </tbody>\n",
       "</table>\n",
       "<p>10 rows × 23 columns</p>\n",
       "</div>"
      ],
      "text/plain": [
       "                    Country                      WHOREGION      FLUREGION  \\\n",
       "0  United States of America  Region of the Americas of WHO  North America   \n",
       "1  United States of America  Region of the Americas of WHO  North America   \n",
       "2  United States of America  Region of the Americas of WHO  North America   \n",
       "3  United States of America  Region of the Americas of WHO  North America   \n",
       "4  United States of America  Region of the Americas of WHO  North America   \n",
       "5  United States of America  Region of the Americas of WHO  North America   \n",
       "6  United States of America  Region of the Americas of WHO  North America   \n",
       "7  United States of America  Region of the Americas of WHO  North America   \n",
       "8  United States of America  Region of the Americas of WHO  North America   \n",
       "9  United States of America  Region of the Americas of WHO  North America   \n",
       "\n",
       "   Year  Week       SDATE       EDATE  SPEC_RECEIVED_NB  SPEC_PROCESSED_NB  \\\n",
       "0  2013     1  2012-12-31  2013-01-06             18219              18219   \n",
       "1  2013     2  2013-01-07  2013-01-13             20013              20013   \n",
       "2  2013     3  2013-01-14  2013-01-20             19228              19228   \n",
       "3  2013     4  2013-01-21  2013-01-27             17139              17139   \n",
       "4  2013     5  2013-01-28  2013-02-03             14795              14795   \n",
       "5  2013     6  2013-02-04  2013-02-10             13259              13259   \n",
       "6  2013     7  2013-02-11  2013-02-17             11468              11468   \n",
       "7  2013     8  2013-02-18  2013-02-24             10398              10398   \n",
       "8  2013     9  2013-02-25  2013-03-03              9499               9499   \n",
       "9  2013    10  2013-03-04  2013-03-10              8999               8999   \n",
       "\n",
       "   AH1  ...  ANOTSUBTYPED  INF_A  BYAMAGATA  BVICTORIA  BNOTDETERMINED  INF_B  \\\n",
       "0  0.0  ...          1653   5377          0          0            1097   1097   \n",
       "1  0.0  ...          1767   5752          0          0            1145   1145   \n",
       "2  0.0  ...          1624   4858          0          0            1078   1078   \n",
       "3  0.0  ...          1528   4039          0          0            1091   1091   \n",
       "4  0.0  ...           951   2963          0          0            1076   1076   \n",
       "5  0.0  ...           706   2008          0          0            1051   1051   \n",
       "6  0.0  ...           486   1353          0          0            1032   1032   \n",
       "7  0.0  ...           363    985          0          0            1084   1084   \n",
       "8  0.0  ...           289    730          0          0            1046   1046   \n",
       "9  0.0  ...           200    562          0          0            1083   1083   \n",
       "\n",
       "   ALL_INF  ALL_INF2                TITLE  pct_positive  \n",
       "0     6474       NaN  Widespread Outbreak         35.53  \n",
       "1     6897       NaN  Widespread Outbreak         34.46  \n",
       "2     5936       NaN  Widespread Outbreak         30.87  \n",
       "3     5130       NaN  Widespread Outbreak         29.93  \n",
       "4     4039       NaN  Widespread Outbreak         27.30  \n",
       "5     3059       NaN  Widespread Outbreak         23.07  \n",
       "6     2385       NaN  Widespread Outbreak         20.80  \n",
       "7     2069       NaN  Widespread Outbreak         19.90  \n",
       "8     1776       NaN  Widespread Outbreak         18.70  \n",
       "9     1645       NaN    Regional Outbreak         18.28  \n",
       "\n",
       "[10 rows x 23 columns]"
      ]
     },
     "execution_count": 5,
     "metadata": {},
     "output_type": "execute_result"
    }
   ],
   "source": [
    "flu_data.head(10)"
   ]
  },
  {
   "cell_type": "code",
   "execution_count": null,
   "id": "frozen-graphics",
   "metadata": {},
   "outputs": [],
   "source": []
  },
  {
   "cell_type": "markdown",
   "id": "empty-enough",
   "metadata": {},
   "source": [
    "## Utility Functions"
   ]
  },
  {
   "cell_type": "code",
   "execution_count": 6,
   "id": "afraid-nothing",
   "metadata": {},
   "outputs": [],
   "source": [
    "def arima_window_ase(data_series, train_ratio = .60, order = (0,0,0)): \n",
    "    X_series = data_series.values\n",
    "    size = int(len(X_series)*train_ratio)\n",
    "    train,test = X_series[0:size], X_series[size:len(X_series)]\n",
    "    history = [i for i in train]\n",
    "    preds = list()\n",
    "    for t in range(len(test)): \n",
    "        model = ARIMA(history, order=order)\n",
    "        model_fit = model.fit()\n",
    "        fore_cast = model_fit.forecast()\n",
    "        yhat = fore_cast[0]\n",
    "        preds.append(yhat)\n",
    "        obs = test[t]\n",
    "        history.append(obs)\n",
    "    rmse = sqrt(mean_squared_error(test, preds))\n",
    "    pyplot.plot(test)\n",
    "    pyplot.plot(preds, color='red')\n",
    "    pyplot.show()\n",
    "    \n",
    "    return rmse\n",
    "    print(residuals.describe())"
   ]
  },
  {
   "cell_type": "code",
   "execution_count": 7,
   "id": "improving-consistency",
   "metadata": {},
   "outputs": [],
   "source": [
    "\n",
    "def arima_seas_window_ase(data_series, train_ratio = .60, order = (0,0,0), seasonal_order = (0,0,0,0),simple_differencing=True): \n",
    "    X_series = data_series.values\n",
    "    size = int(len(X_series)*train_ratio)\n",
    "    train,test = X_series[0:size], X_series[size:len(X_series)]\n",
    "    history = [i for i in train]\n",
    "    preds = list()\n",
    "    for t in range(len(test)): \n",
    "        model = ARIMA(history, order=order)\n",
    "        model = sm.tsa.statespace.SARIMAX(history, order=order, seasonal_order=seasonal_order,simple_differencing=simple_differencing) \n",
    "        model_fit = model.fit()\n",
    "        fore_cast = model_fit.forecast()\n",
    "        yhat = fore_cast[0]\n",
    "        preds.append(yhat)\n",
    "        obs = test[t]\n",
    "        history.append(obs)\n",
    "    rmse = sqrt(mean_squared_error(test, preds))\n",
    "    pyplot.plot(test)\n",
    "    pyplot.plot(preds, color='red')\n",
    "    pyplot.show()\n",
    "    \n",
    "    return rmse\n",
    "    print(residuals.describe())"
   ]
  },
  {
   "cell_type": "code",
   "execution_count": 8,
   "id": "foreign-chrome",
   "metadata": {},
   "outputs": [],
   "source": [
    "\n",
    "def kpss_test(timeseries):\n",
    "    print ('Results of KPSS Test:')\n",
    "    kpsstest = kpss(timeseries, regression='c', nlags=\"auto\")\n",
    "    kpss_output = pd.Series(kpsstest[0:3], index=['Test Statistic','p-value','Lags Used'])\n",
    "    for key,value in kpsstest[3].items():\n",
    "        kpss_output['Critical Value (%s)'%key] = value\n",
    "    print (kpss_output)"
   ]
  },
  {
   "cell_type": "code",
   "execution_count": 9,
   "id": "digital-mathematics",
   "metadata": {},
   "outputs": [],
   "source": [
    "def make_realization(data_frame,x,y): \n",
    "    \n",
    "    vis = alt.Chart(data_frame).mark_line().encode(\n",
    "    x = x, \n",
    "    y = y\n",
    "    )\n",
    "    \n",
    "    return vis"
   ]
  },
  {
   "cell_type": "code",
   "execution_count": 10,
   "id": "piano-virus",
   "metadata": {},
   "outputs": [],
   "source": [
    "def make_autocorr(data_series, nlags=40, fft = False): \n",
    "    auto_corr = statsmodels.tsa.stattools.acf(data_series, nlags=nlags, fft=fft)\n",
    "    data = pd.DataFrame(list(enumerate(auto_corr)), columns = ['Lag', 'AutoCor'])\n",
    "    vis = alt.Chart(data).mark_bar().encode(\n",
    "    x='Lag',\n",
    "    y='AutoCor',\n",
    "    )\n",
    "    return vis"
   ]
  },
  {
   "cell_type": "code",
   "execution_count": 11,
   "id": "specific-sessions",
   "metadata": {},
   "outputs": [],
   "source": [
    "def make_sig_periodgram(data_series, fs = 1, scaling = 'density'): \n",
    "    f, Pxx_den = scipy.signal.periodogram(data_series, fs = fs, scaling=scaling)\n",
    "    data = pd.DataFrame({'Freq' : f,'Density' : Pxx_den})\n",
    "    vis = alt.Chart(data).mark_bar().encode(\n",
    "        x='Freq',\n",
    "        y='Density',\n",
    "    )\n",
    "    return vis"
   ]
  },
  {
   "cell_type": "code",
   "execution_count": 12,
   "id": "finished-metropolitan",
   "metadata": {},
   "outputs": [],
   "source": [
    "def make_welch_sig_periodgram(data_series, fs = 1, nperseg=50): \n",
    "    f, Pxx_den = scipy.signal.welch(flu_data.SPEC_RECEIVED_NB, fs = 1, nperseg=nperseg)\n",
    "    data = pd.DataFrame({'Freq' : f,'Density' : Pxx_den})\n",
    "    vis = alt.Chart(data).mark_bar().encode(\n",
    "        x='Freq',\n",
    "        y='Density',\n",
    "    )\n",
    "    return vis"
   ]
  },
  {
   "cell_type": "code",
   "execution_count": 13,
   "id": "approximate-foster",
   "metadata": {},
   "outputs": [],
   "source": [
    "def make_welch_periodgram(data_series, sampling = 50):\n",
    "    psd = WelchPeriodogram(data_series, sampling)\n",
    "    return psd[1]"
   ]
  },
  {
   "cell_type": "code",
   "execution_count": 14,
   "id": "refined-graduate",
   "metadata": {},
   "outputs": [],
   "source": [
    "def adf_test(timeseries):\n",
    "    print ('Results of Dickey-Fuller Test:')\n",
    "    dftest = adfuller(timeseries, autolag='AIC')\n",
    "    dfoutput = pd.Series(dftest[0:4], index=['Test Statistic','p-value','#Lags Used','Number of Observations Used'])\n",
    "    for key,value in dftest[4].items():\n",
    "        dfoutput['Critical Value (%s)'%key] = value\n",
    "    print (dfoutput)"
   ]
  },
  {
   "cell_type": "code",
   "execution_count": 15,
   "id": "reduced-interval",
   "metadata": {},
   "outputs": [],
   "source": [
    "def plot_predict(self, start=None, end=None, exog=None, dynamic=False,alpha=.05, plot_insample=True, ax=None):\n",
    "    from statsmodels.graphics.utils import _import_mpl, create_mpl_ax\n",
    "    _ = _import_mpl()\n",
    "    fig, ax = create_mpl_ax(ax)\n",
    "\n",
    "    # use predict so you set dates\n",
    "    forecast = self.predict(start, end, exog, dynamic)\n",
    "    # doing this twice. just add a plot keyword to predict?\n",
    "    start, end, out_of_sample, _ = (\n",
    "        self.model._get_prediction_index(start, end, dynamic=False))\n",
    "\n",
    "    if out_of_sample:\n",
    "        steps = out_of_sample\n",
    "        fc_error = self._forecast_error(steps)\n",
    "        conf_int = self._forecast_conf_int(forecast[-steps:], fc_error,\n",
    "                                               alpha)\n",
    "\n",
    "    if hasattr(self.data, \"predict_dates\"):\n",
    "        from pandas import Series\n",
    "        forecast = Series(forecast, index=self.data.predict_dates)\n",
    "        ax = forecast.plot(ax=ax, label='forecast')\n",
    "    else:\n",
    "        ax.plot(forecast)\n",
    "\n",
    "    x = ax.get_lines()[-1].get_xdata()\n",
    "    if out_of_sample:\n",
    "        label = \"{0:.0%} confidence interval\".format(1 - alpha)\n",
    "        ax.fill_between(x[-out_of_sample:], conf_int[:, 0], conf_int[:, 1],\n",
    "                        color='gray', alpha=.5, label=label)\n",
    "\n",
    "    if plot_insample:\n",
    "        ax.plot(x[:end + 1 - start], self.model.endog[start:end + 1], label=self.model.endog_names)\n",
    "\n",
    "    ax.legend(loc='best')\n",
    "\n",
    "    return fig"
   ]
  },
  {
   "cell_type": "markdown",
   "id": "demonstrated-belize",
   "metadata": {},
   "source": [
    "# Charts based on pct_positive\n",
    "> pct_positive = (flu_data[\"ALL_INF\"]/flu_data[\"SPEC_PROCESSED_NB\"])*100"
   ]
  },
  {
   "cell_type": "code",
   "execution_count": 16,
   "id": "english-crime",
   "metadata": {},
   "outputs": [
    {
     "data": {
      "text/html": [
       "\n",
       "<div id=\"altair-viz-6af79a1f6bca4a96b9fa70f1316758e1\"></div>\n",
       "<script type=\"text/javascript\">\n",
       "  (function(spec, embedOpt){\n",
       "    let outputDiv = document.currentScript.previousElementSibling;\n",
       "    if (outputDiv.id !== \"altair-viz-6af79a1f6bca4a96b9fa70f1316758e1\") {\n",
       "      outputDiv = document.getElementById(\"altair-viz-6af79a1f6bca4a96b9fa70f1316758e1\");\n",
       "    }\n",
       "    const paths = {\n",
       "      \"vega\": \"https://cdn.jsdelivr.net/npm//vega@5?noext\",\n",
       "      \"vega-lib\": \"https://cdn.jsdelivr.net/npm//vega-lib?noext\",\n",
       "      \"vega-lite\": \"https://cdn.jsdelivr.net/npm//vega-lite@4.8.1?noext\",\n",
       "      \"vega-embed\": \"https://cdn.jsdelivr.net/npm//vega-embed@6?noext\",\n",
       "    };\n",
       "\n",
       "    function loadScript(lib) {\n",
       "      return new Promise(function(resolve, reject) {\n",
       "        var s = document.createElement('script');\n",
       "        s.src = paths[lib];\n",
       "        s.async = true;\n",
       "        s.onload = () => resolve(paths[lib]);\n",
       "        s.onerror = () => reject(`Error loading script: ${paths[lib]}`);\n",
       "        document.getElementsByTagName(\"head\")[0].appendChild(s);\n",
       "      });\n",
       "    }\n",
       "\n",
       "    function showError(err) {\n",
       "      outputDiv.innerHTML = `<div class=\"error\" style=\"color:red;\">${err}</div>`;\n",
       "      throw err;\n",
       "    }\n",
       "\n",
       "    function displayChart(vegaEmbed) {\n",
       "      vegaEmbed(outputDiv, spec, embedOpt)\n",
       "        .catch(err => showError(`Javascript Error: ${err.message}<br>This usually means there's a typo in your chart specification. See the javascript console for the full traceback.`));\n",
       "    }\n",
       "\n",
       "    if(typeof define === \"function\" && define.amd) {\n",
       "      requirejs.config({paths});\n",
       "      require([\"vega-embed\"], displayChart, err => showError(`Error loading script: ${err.message}`));\n",
       "    } else if (typeof vegaEmbed === \"function\") {\n",
       "      displayChart(vegaEmbed);\n",
       "    } else {\n",
       "      loadScript(\"vega\")\n",
       "        .then(() => loadScript(\"vega-lite\"))\n",
       "        .then(() => loadScript(\"vega-embed\"))\n",
       "        .catch(showError)\n",
       "        .then(() => displayChart(vegaEmbed));\n",
       "    }\n",
       "  })({\"config\": {\"view\": {\"continuousWidth\": 400, \"continuousHeight\": 300}}, \"data\": {\"name\": \"data-16a31838f2e995fa1ae9cf5c7b95788b\"}, \"mark\": \"line\", \"encoding\": {\"x\": {\"type\": \"temporal\", \"field\": \"EDATE\"}, \"y\": {\"type\": \"quantitative\", \"field\": \"pct_positive\"}}, \"$schema\": \"https://vega.github.io/schema/vega-lite/v4.8.1.json\", \"datasets\": {\"data-16a31838f2e995fa1ae9cf5c7b95788b\": [{\"Country\": \"United States of America\", \"WHOREGION\": \"Region of the Americas of WHO\", \"FLUREGION\": \"North America\", \"Year\": 2013, \"Week\": 1, \"SDATE\": \"2012-12-31\", \"EDATE\": \"2013-01-06\", \"SPEC_RECEIVED_NB\": 18219, \"SPEC_PROCESSED_NB\": 18219, \"AH1\": 0.0, \"AH1N12009\": 84, \"AH3\": 3640, \"AH5\": 0.0, \"ANOTSUBTYPED\": 1653, \"INF_A\": 5377, \"BYAMAGATA\": 0, \"BVICTORIA\": 0, \"BNOTDETERMINED\": 1097, \"INF_B\": 1097, \"ALL_INF\": 6474, \"ALL_INF2\": null, \"TITLE\": \"Widespread Outbreak\", \"pct_positive\": 35.53}, {\"Country\": \"United States of America\", \"WHOREGION\": \"Region of the Americas of WHO\", \"FLUREGION\": \"North America\", \"Year\": 2013, \"Week\": 2, \"SDATE\": \"2013-01-07\", \"EDATE\": \"2013-01-13\", \"SPEC_RECEIVED_NB\": 20013, \"SPEC_PROCESSED_NB\": 20013, \"AH1\": 0.0, \"AH1N12009\": 96, \"AH3\": 3889, \"AH5\": 0.0, \"ANOTSUBTYPED\": 1767, \"INF_A\": 5752, \"BYAMAGATA\": 0, \"BVICTORIA\": 0, \"BNOTDETERMINED\": 1145, \"INF_B\": 1145, \"ALL_INF\": 6897, \"ALL_INF2\": null, \"TITLE\": \"Widespread Outbreak\", \"pct_positive\": 34.46}, {\"Country\": \"United States of America\", \"WHOREGION\": \"Region of the Americas of WHO\", \"FLUREGION\": \"North America\", \"Year\": 2013, \"Week\": 3, \"SDATE\": \"2013-01-14\", \"EDATE\": \"2013-01-20\", \"SPEC_RECEIVED_NB\": 19228, \"SPEC_PROCESSED_NB\": 19228, \"AH1\": 0.0, \"AH1N12009\": 113, \"AH3\": 3121, \"AH5\": 0.0, \"ANOTSUBTYPED\": 1624, \"INF_A\": 4858, \"BYAMAGATA\": 0, \"BVICTORIA\": 0, \"BNOTDETERMINED\": 1078, \"INF_B\": 1078, \"ALL_INF\": 5936, \"ALL_INF2\": null, \"TITLE\": \"Widespread Outbreak\", \"pct_positive\": 30.87}, {\"Country\": \"United States of America\", \"WHOREGION\": \"Region of the Americas of WHO\", \"FLUREGION\": \"North America\", \"Year\": 2013, \"Week\": 4, \"SDATE\": \"2013-01-21\", \"EDATE\": \"2013-01-27\", \"SPEC_RECEIVED_NB\": 17139, \"SPEC_PROCESSED_NB\": 17139, \"AH1\": 0.0, \"AH1N12009\": 129, \"AH3\": 2382, \"AH5\": 0.0, \"ANOTSUBTYPED\": 1528, \"INF_A\": 4039, \"BYAMAGATA\": 0, \"BVICTORIA\": 0, \"BNOTDETERMINED\": 1091, \"INF_B\": 1091, \"ALL_INF\": 5130, \"ALL_INF2\": null, \"TITLE\": \"Widespread Outbreak\", \"pct_positive\": 29.93}, {\"Country\": \"United States of America\", \"WHOREGION\": \"Region of the Americas of WHO\", \"FLUREGION\": \"North America\", \"Year\": 2013, \"Week\": 5, \"SDATE\": \"2013-01-28\", \"EDATE\": \"2013-02-03\", \"SPEC_RECEIVED_NB\": 14795, \"SPEC_PROCESSED_NB\": 14795, \"AH1\": 0.0, \"AH1N12009\": 122, \"AH3\": 1890, \"AH5\": 0.0, \"ANOTSUBTYPED\": 951, \"INF_A\": 2963, \"BYAMAGATA\": 0, \"BVICTORIA\": 0, \"BNOTDETERMINED\": 1076, \"INF_B\": 1076, \"ALL_INF\": 4039, \"ALL_INF2\": null, \"TITLE\": \"Widespread Outbreak\", \"pct_positive\": 27.3}, {\"Country\": \"United States of America\", \"WHOREGION\": \"Region of the Americas of WHO\", \"FLUREGION\": \"North America\", \"Year\": 2013, \"Week\": 6, \"SDATE\": \"2013-02-04\", \"EDATE\": \"2013-02-10\", \"SPEC_RECEIVED_NB\": 13259, \"SPEC_PROCESSED_NB\": 13259, \"AH1\": 0.0, \"AH1N12009\": 121, \"AH3\": 1181, \"AH5\": 0.0, \"ANOTSUBTYPED\": 706, \"INF_A\": 2008, \"BYAMAGATA\": 0, \"BVICTORIA\": 0, \"BNOTDETERMINED\": 1051, \"INF_B\": 1051, \"ALL_INF\": 3059, \"ALL_INF2\": null, \"TITLE\": \"Widespread Outbreak\", \"pct_positive\": 23.07}, {\"Country\": \"United States of America\", \"WHOREGION\": \"Region of the Americas of WHO\", \"FLUREGION\": \"North America\", \"Year\": 2013, \"Week\": 7, \"SDATE\": \"2013-02-11\", \"EDATE\": \"2013-02-17\", \"SPEC_RECEIVED_NB\": 11468, \"SPEC_PROCESSED_NB\": 11468, \"AH1\": 0.0, \"AH1N12009\": 69, \"AH3\": 798, \"AH5\": 0.0, \"ANOTSUBTYPED\": 486, \"INF_A\": 1353, \"BYAMAGATA\": 0, \"BVICTORIA\": 0, \"BNOTDETERMINED\": 1032, \"INF_B\": 1032, \"ALL_INF\": 2385, \"ALL_INF2\": null, \"TITLE\": \"Widespread Outbreak\", \"pct_positive\": 20.8}, {\"Country\": \"United States of America\", \"WHOREGION\": \"Region of the Americas of WHO\", \"FLUREGION\": \"North America\", \"Year\": 2013, \"Week\": 8, \"SDATE\": \"2013-02-18\", \"EDATE\": \"2013-02-24\", \"SPEC_RECEIVED_NB\": 10398, \"SPEC_PROCESSED_NB\": 10398, \"AH1\": 0.0, \"AH1N12009\": 74, \"AH3\": 548, \"AH5\": 0.0, \"ANOTSUBTYPED\": 363, \"INF_A\": 985, \"BYAMAGATA\": 0, \"BVICTORIA\": 0, \"BNOTDETERMINED\": 1084, \"INF_B\": 1084, \"ALL_INF\": 2069, \"ALL_INF2\": null, \"TITLE\": \"Widespread Outbreak\", \"pct_positive\": 19.9}, {\"Country\": \"United States of America\", \"WHOREGION\": \"Region of the Americas of WHO\", \"FLUREGION\": \"North America\", \"Year\": 2013, \"Week\": 9, \"SDATE\": \"2013-02-25\", \"EDATE\": \"2013-03-03\", \"SPEC_RECEIVED_NB\": 9499, \"SPEC_PROCESSED_NB\": 9499, \"AH1\": 0.0, \"AH1N12009\": 49, \"AH3\": 392, \"AH5\": 0.0, \"ANOTSUBTYPED\": 289, \"INF_A\": 730, \"BYAMAGATA\": 0, \"BVICTORIA\": 0, \"BNOTDETERMINED\": 1046, \"INF_B\": 1046, \"ALL_INF\": 1776, \"ALL_INF2\": null, \"TITLE\": \"Widespread Outbreak\", \"pct_positive\": 18.7}, {\"Country\": \"United States of America\", \"WHOREGION\": \"Region of the Americas of WHO\", \"FLUREGION\": \"North America\", \"Year\": 2013, \"Week\": 10, \"SDATE\": \"2013-03-04\", \"EDATE\": \"2013-03-10\", \"SPEC_RECEIVED_NB\": 8999, \"SPEC_PROCESSED_NB\": 8999, \"AH1\": 0.0, \"AH1N12009\": 61, \"AH3\": 301, \"AH5\": 0.0, \"ANOTSUBTYPED\": 200, \"INF_A\": 562, \"BYAMAGATA\": 0, \"BVICTORIA\": 0, \"BNOTDETERMINED\": 1083, \"INF_B\": 1083, \"ALL_INF\": 1645, \"ALL_INF2\": null, \"TITLE\": \"Regional Outbreak\", \"pct_positive\": 18.28}, {\"Country\": \"United States of America\", \"WHOREGION\": \"Region of the Americas of WHO\", \"FLUREGION\": \"North America\", \"Year\": 2013, \"Week\": 11, \"SDATE\": \"2013-03-11\", \"EDATE\": \"2013-03-17\", \"SPEC_RECEIVED_NB\": 8733, \"SPEC_PROCESSED_NB\": 8733, \"AH1\": 0.0, \"AH1N12009\": 41, \"AH3\": 202, \"AH5\": 0.0, \"ANOTSUBTYPED\": 191, \"INF_A\": 434, \"BYAMAGATA\": 0, \"BVICTORIA\": 0, \"BNOTDETERMINED\": 1018, \"INF_B\": 1018, \"ALL_INF\": 1452, \"ALL_INF2\": null, \"TITLE\": \"Local Outbreak\", \"pct_positive\": 16.63}, {\"Country\": \"United States of America\", \"WHOREGION\": \"Region of the Americas of WHO\", \"FLUREGION\": \"North America\", \"Year\": 2013, \"Week\": 12, \"SDATE\": \"2013-03-18\", \"EDATE\": \"2013-03-24\", \"SPEC_RECEIVED_NB\": 7849, \"SPEC_PROCESSED_NB\": 7849, \"AH1\": 0.0, \"AH1N12009\": 29, \"AH3\": 159, \"AH5\": 0.0, \"ANOTSUBTYPED\": 137, \"INF_A\": 325, \"BYAMAGATA\": 0, \"BVICTORIA\": 0, \"BNOTDETERMINED\": 894, \"INF_B\": 894, \"ALL_INF\": 1219, \"ALL_INF2\": null, \"TITLE\": \"Local Outbreak\", \"pct_positive\": 15.53}, {\"Country\": \"United States of America\", \"WHOREGION\": \"Region of the Americas of WHO\", \"FLUREGION\": \"North America\", \"Year\": 2013, \"Week\": 13, \"SDATE\": \"2013-03-25\", \"EDATE\": \"2013-03-31\", \"SPEC_RECEIVED_NB\": 6635, \"SPEC_PROCESSED_NB\": 6635, \"AH1\": 0.0, \"AH1N12009\": 31, \"AH3\": 98, \"AH5\": 0.0, \"ANOTSUBTYPED\": 92, \"INF_A\": 221, \"BYAMAGATA\": 0, \"BVICTORIA\": 0, \"BNOTDETERMINED\": 732, \"INF_B\": 732, \"ALL_INF\": 953, \"ALL_INF2\": null, \"TITLE\": \"Local Outbreak\", \"pct_positive\": 14.36}, {\"Country\": \"United States of America\", \"WHOREGION\": \"Region of the Americas of WHO\", \"FLUREGION\": \"North America\", \"Year\": 2013, \"Week\": 14, \"SDATE\": \"2013-04-01\", \"EDATE\": \"2013-04-07\", \"SPEC_RECEIVED_NB\": 6311, \"SPEC_PROCESSED_NB\": 6311, \"AH1\": 0.0, \"AH1N12009\": 31, \"AH3\": 120, \"AH5\": 0.0, \"ANOTSUBTYPED\": 101, \"INF_A\": 252, \"BYAMAGATA\": 0, \"BVICTORIA\": 0, \"BNOTDETERMINED\": 641, \"INF_B\": 641, \"ALL_INF\": 893, \"ALL_INF2\": null, \"TITLE\": \"Local Outbreak\", \"pct_positive\": 14.15}, {\"Country\": \"United States of America\", \"WHOREGION\": \"Region of the Americas of WHO\", \"FLUREGION\": \"North America\", \"Year\": 2013, \"Week\": 15, \"SDATE\": \"2013-04-08\", \"EDATE\": \"2013-04-14\", \"SPEC_RECEIVED_NB\": 5779, \"SPEC_PROCESSED_NB\": 5779, \"AH1\": 0.0, \"AH1N12009\": 44, \"AH3\": 67, \"AH5\": 0.0, \"ANOTSUBTYPED\": 63, \"INF_A\": 174, \"BYAMAGATA\": 0, \"BVICTORIA\": 0, \"BNOTDETERMINED\": 457, \"INF_B\": 457, \"ALL_INF\": 631, \"ALL_INF2\": null, \"TITLE\": \"Local Outbreak\", \"pct_positive\": 10.92}, {\"Country\": \"United States of America\", \"WHOREGION\": \"Region of the Americas of WHO\", \"FLUREGION\": \"North America\", \"Year\": 2013, \"Week\": 16, \"SDATE\": \"2013-04-15\", \"EDATE\": \"2013-04-21\", \"SPEC_RECEIVED_NB\": 5229, \"SPEC_PROCESSED_NB\": 5229, \"AH1\": 0.0, \"AH1N12009\": 27, \"AH3\": 73, \"AH5\": 0.0, \"ANOTSUBTYPED\": 43, \"INF_A\": 143, \"BYAMAGATA\": 0, \"BVICTORIA\": 0, \"BNOTDETERMINED\": 311, \"INF_B\": 311, \"ALL_INF\": 454, \"ALL_INF2\": null, \"TITLE\": \"Local Outbreak\", \"pct_positive\": 8.68}, {\"Country\": \"United States of America\", \"WHOREGION\": \"Region of the Americas of WHO\", \"FLUREGION\": \"North America\", \"Year\": 2013, \"Week\": 17, \"SDATE\": \"2013-04-22\", \"EDATE\": \"2013-04-28\", \"SPEC_RECEIVED_NB\": 4518, \"SPEC_PROCESSED_NB\": 4518, \"AH1\": 0.0, \"AH1N12009\": 33, \"AH3\": 61, \"AH5\": 0.0, \"ANOTSUBTYPED\": 46, \"INF_A\": 140, \"BYAMAGATA\": 0, \"BVICTORIA\": 0, \"BNOTDETERMINED\": 239, \"INF_B\": 239, \"ALL_INF\": 379, \"ALL_INF2\": null, \"TITLE\": \"Sporadic\", \"pct_positive\": 8.39}, {\"Country\": \"United States of America\", \"WHOREGION\": \"Region of the Americas of WHO\", \"FLUREGION\": \"North America\", \"Year\": 2013, \"Week\": 18, \"SDATE\": \"2013-04-29\", \"EDATE\": \"2013-05-05\", \"SPEC_RECEIVED_NB\": 4317, \"SPEC_PROCESSED_NB\": 4317, \"AH1\": 0.0, \"AH1N12009\": 15, \"AH3\": 54, \"AH5\": 0.0, \"ANOTSUBTYPED\": 29, \"INF_A\": 98, \"BYAMAGATA\": 0, \"BVICTORIA\": 0, \"BNOTDETERMINED\": 195, \"INF_B\": 195, \"ALL_INF\": 293, \"ALL_INF2\": null, \"TITLE\": \"Sporadic\", \"pct_positive\": 6.79}, {\"Country\": \"United States of America\", \"WHOREGION\": \"Region of the Americas of WHO\", \"FLUREGION\": \"North America\", \"Year\": 2013, \"Week\": 19, \"SDATE\": \"2013-05-06\", \"EDATE\": \"2013-05-12\", \"SPEC_RECEIVED_NB\": 3917, \"SPEC_PROCESSED_NB\": 3917, \"AH1\": 0.0, \"AH1N12009\": 12, \"AH3\": 36, \"AH5\": 0.0, \"ANOTSUBTYPED\": 27, \"INF_A\": 75, \"BYAMAGATA\": 0, \"BVICTORIA\": 0, \"BNOTDETERMINED\": 174, \"INF_B\": 174, \"ALL_INF\": 249, \"ALL_INF2\": null, \"TITLE\": \"Sporadic\", \"pct_positive\": 6.36}, {\"Country\": \"United States of America\", \"WHOREGION\": \"Region of the Americas of WHO\", \"FLUREGION\": \"North America\", \"Year\": 2013, \"Week\": 20, \"SDATE\": \"2013-05-13\", \"EDATE\": \"2013-05-19\", \"SPEC_RECEIVED_NB\": 3562, \"SPEC_PROCESSED_NB\": 3562, \"AH1\": 0.0, \"AH1N12009\": 11, \"AH3\": 24, \"AH5\": 0.0, \"ANOTSUBTYPED\": 19, \"INF_A\": 54, \"BYAMAGATA\": 0, \"BVICTORIA\": 0, \"BNOTDETERMINED\": 120, \"INF_B\": 120, \"ALL_INF\": 174, \"ALL_INF2\": null, \"TITLE\": \"Sporadic\", \"pct_positive\": 4.88}, {\"Country\": \"United States of America\", \"WHOREGION\": \"Region of the Americas of WHO\", \"FLUREGION\": \"North America\", \"Year\": 2013, \"Week\": 21, \"SDATE\": \"2013-05-20\", \"EDATE\": \"2013-05-26\", \"SPEC_RECEIVED_NB\": 3488, \"SPEC_PROCESSED_NB\": 3488, \"AH1\": 0.0, \"AH1N12009\": 13, \"AH3\": 18, \"AH5\": 0.0, \"ANOTSUBTYPED\": 21, \"INF_A\": 52, \"BYAMAGATA\": 0, \"BVICTORIA\": 0, \"BNOTDETERMINED\": 109, \"INF_B\": 109, \"ALL_INF\": 161, \"ALL_INF2\": null, \"TITLE\": \"Sporadic\", \"pct_positive\": 4.62}, {\"Country\": \"United States of America\", \"WHOREGION\": \"Region of the Americas of WHO\", \"FLUREGION\": \"North America\", \"Year\": 2013, \"Week\": 22, \"SDATE\": \"2013-05-27\", \"EDATE\": \"2013-06-02\", \"SPEC_RECEIVED_NB\": 3207, \"SPEC_PROCESSED_NB\": 3207, \"AH1\": 0.0, \"AH1N12009\": 14, \"AH3\": 14, \"AH5\": 0.0, \"ANOTSUBTYPED\": 28, \"INF_A\": 56, \"BYAMAGATA\": 0, \"BVICTORIA\": 0, \"BNOTDETERMINED\": 92, \"INF_B\": 92, \"ALL_INF\": 148, \"ALL_INF2\": null, \"TITLE\": \"Sporadic\", \"pct_positive\": 4.61}, {\"Country\": \"United States of America\", \"WHOREGION\": \"Region of the Americas of WHO\", \"FLUREGION\": \"North America\", \"Year\": 2013, \"Week\": 23, \"SDATE\": \"2013-06-03\", \"EDATE\": \"2013-06-09\", \"SPEC_RECEIVED_NB\": 3167, \"SPEC_PROCESSED_NB\": 3167, \"AH1\": 0.0, \"AH1N12009\": 10, \"AH3\": 12, \"AH5\": 0.0, \"ANOTSUBTYPED\": 29, \"INF_A\": 51, \"BYAMAGATA\": 0, \"BVICTORIA\": 0, \"BNOTDETERMINED\": 78, \"INF_B\": 78, \"ALL_INF\": 129, \"ALL_INF2\": null, \"TITLE\": \"Sporadic\", \"pct_positive\": 4.07}, {\"Country\": \"United States of America\", \"WHOREGION\": \"Region of the Americas of WHO\", \"FLUREGION\": \"North America\", \"Year\": 2013, \"Week\": 24, \"SDATE\": \"2013-06-10\", \"EDATE\": \"2013-06-16\", \"SPEC_RECEIVED_NB\": 2893, \"SPEC_PROCESSED_NB\": 2893, \"AH1\": 0.0, \"AH1N12009\": 20, \"AH3\": 12, \"AH5\": 0.0, \"ANOTSUBTYPED\": 32, \"INF_A\": 64, \"BYAMAGATA\": 0, \"BVICTORIA\": 0, \"BNOTDETERMINED\": 62, \"INF_B\": 62, \"ALL_INF\": 126, \"ALL_INF2\": null, \"TITLE\": \"Sporadic\", \"pct_positive\": 4.36}, {\"Country\": \"United States of America\", \"WHOREGION\": \"Region of the Americas of WHO\", \"FLUREGION\": \"North America\", \"Year\": 2013, \"Week\": 25, \"SDATE\": \"2013-06-17\", \"EDATE\": \"2013-06-23\", \"SPEC_RECEIVED_NB\": 2811, \"SPEC_PROCESSED_NB\": 2811, \"AH1\": 0.0, \"AH1N12009\": 5, \"AH3\": 10, \"AH5\": 0.0, \"ANOTSUBTYPED\": 31, \"INF_A\": 48, \"BYAMAGATA\": 0, \"BVICTORIA\": 0, \"BNOTDETERMINED\": 47, \"INF_B\": 47, \"ALL_INF\": 95, \"ALL_INF2\": null, \"TITLE\": \"Sporadic\", \"pct_positive\": 3.38}, {\"Country\": \"United States of America\", \"WHOREGION\": \"Region of the Americas of WHO\", \"FLUREGION\": \"North America\", \"Year\": 2013, \"Week\": 26, \"SDATE\": \"2013-06-24\", \"EDATE\": \"2013-06-30\", \"SPEC_RECEIVED_NB\": 2591, \"SPEC_PROCESSED_NB\": 2591, \"AH1\": 0.0, \"AH1N12009\": 6, \"AH3\": 5, \"AH5\": 0.0, \"ANOTSUBTYPED\": 21, \"INF_A\": 38, \"BYAMAGATA\": 0, \"BVICTORIA\": 0, \"BNOTDETERMINED\": 27, \"INF_B\": 27, \"ALL_INF\": 65, \"ALL_INF2\": null, \"TITLE\": \"Sporadic\", \"pct_positive\": 2.51}, {\"Country\": \"United States of America\", \"WHOREGION\": \"Region of the Americas of WHO\", \"FLUREGION\": \"North America\", \"Year\": 2013, \"Week\": 27, \"SDATE\": \"2013-07-01\", \"EDATE\": \"2013-07-07\", \"SPEC_RECEIVED_NB\": 2256, \"SPEC_PROCESSED_NB\": 2256, \"AH1\": 0.0, \"AH1N12009\": 6, \"AH3\": 12, \"AH5\": 0.0, \"ANOTSUBTYPED\": 22, \"INF_A\": 44, \"BYAMAGATA\": 0, \"BVICTORIA\": 0, \"BNOTDETERMINED\": 23, \"INF_B\": 23, \"ALL_INF\": 67, \"ALL_INF2\": null, \"TITLE\": \"Sporadic\", \"pct_positive\": 2.97}, {\"Country\": \"United States of America\", \"WHOREGION\": \"Region of the Americas of WHO\", \"FLUREGION\": \"North America\", \"Year\": 2013, \"Week\": 28, \"SDATE\": \"2013-07-08\", \"EDATE\": \"2013-07-14\", \"SPEC_RECEIVED_NB\": 2337, \"SPEC_PROCESSED_NB\": 2337, \"AH1\": 0.0, \"AH1N12009\": 6, \"AH3\": 27, \"AH5\": 0.0, \"ANOTSUBTYPED\": 33, \"INF_A\": 66, \"BYAMAGATA\": 0, \"BVICTORIA\": 0, \"BNOTDETERMINED\": 13, \"INF_B\": 13, \"ALL_INF\": 79, \"ALL_INF2\": null, \"TITLE\": \"Sporadic\", \"pct_positive\": 3.38}, {\"Country\": \"United States of America\", \"WHOREGION\": \"Region of the Americas of WHO\", \"FLUREGION\": \"North America\", \"Year\": 2013, \"Week\": 29, \"SDATE\": \"2013-07-15\", \"EDATE\": \"2013-07-21\", \"SPEC_RECEIVED_NB\": 2212, \"SPEC_PROCESSED_NB\": 2212, \"AH1\": 0.0, \"AH1N12009\": 5, \"AH3\": 12, \"AH5\": 0.0, \"ANOTSUBTYPED\": 24, \"INF_A\": 42, \"BYAMAGATA\": 0, \"BVICTORIA\": 0, \"BNOTDETERMINED\": 14, \"INF_B\": 14, \"ALL_INF\": 56, \"ALL_INF2\": null, \"TITLE\": \"Sporadic\", \"pct_positive\": 2.53}, {\"Country\": \"United States of America\", \"WHOREGION\": \"Region of the Americas of WHO\", \"FLUREGION\": \"North America\", \"Year\": 2013, \"Week\": 30, \"SDATE\": \"2013-07-22\", \"EDATE\": \"2013-07-28\", \"SPEC_RECEIVED_NB\": 2050, \"SPEC_PROCESSED_NB\": 2050, \"AH1\": 0.0, \"AH1N12009\": 11, \"AH3\": 10, \"AH5\": 0.0, \"ANOTSUBTYPED\": 29, \"INF_A\": 51, \"BYAMAGATA\": 0, \"BVICTORIA\": 0, \"BNOTDETERMINED\": 9, \"INF_B\": 9, \"ALL_INF\": 60, \"ALL_INF2\": null, \"TITLE\": \"Sporadic\", \"pct_positive\": 2.93}, {\"Country\": \"United States of America\", \"WHOREGION\": \"Region of the Americas of WHO\", \"FLUREGION\": \"North America\", \"Year\": 2013, \"Week\": 31, \"SDATE\": \"2013-07-29\", \"EDATE\": \"2013-08-04\", \"SPEC_RECEIVED_NB\": 2246, \"SPEC_PROCESSED_NB\": 2246, \"AH1\": 0.0, \"AH1N12009\": 8, \"AH3\": 14, \"AH5\": 0.0, \"ANOTSUBTYPED\": 31, \"INF_A\": 55, \"BYAMAGATA\": 0, \"BVICTORIA\": 0, \"BNOTDETERMINED\": 20, \"INF_B\": 20, \"ALL_INF\": 75, \"ALL_INF2\": null, \"TITLE\": \"Sporadic\", \"pct_positive\": 3.34}, {\"Country\": \"United States of America\", \"WHOREGION\": \"Region of the Americas of WHO\", \"FLUREGION\": \"North America\", \"Year\": 2013, \"Week\": 32, \"SDATE\": \"2013-08-05\", \"EDATE\": \"2013-08-11\", \"SPEC_RECEIVED_NB\": 2195, \"SPEC_PROCESSED_NB\": 2195, \"AH1\": 0.0, \"AH1N12009\": 14, \"AH3\": 11, \"AH5\": 0.0, \"ANOTSUBTYPED\": 26, \"INF_A\": 51, \"BYAMAGATA\": 0, \"BVICTORIA\": 0, \"BNOTDETERMINED\": 12, \"INF_B\": 12, \"ALL_INF\": 63, \"ALL_INF2\": null, \"TITLE\": \"Sporadic\", \"pct_positive\": 2.87}, {\"Country\": \"United States of America\", \"WHOREGION\": \"Region of the Americas of WHO\", \"FLUREGION\": \"North America\", \"Year\": 2013, \"Week\": 33, \"SDATE\": \"2013-08-12\", \"EDATE\": \"2013-08-18\", \"SPEC_RECEIVED_NB\": 1968, \"SPEC_PROCESSED_NB\": 1968, \"AH1\": 0.0, \"AH1N12009\": 13, \"AH3\": 3, \"AH5\": 0.0, \"ANOTSUBTYPED\": 32, \"INF_A\": 48, \"BYAMAGATA\": 0, \"BVICTORIA\": 0, \"BNOTDETERMINED\": 10, \"INF_B\": 10, \"ALL_INF\": 58, \"ALL_INF2\": null, \"TITLE\": \"Sporadic\", \"pct_positive\": 2.95}, {\"Country\": \"United States of America\", \"WHOREGION\": \"Region of the Americas of WHO\", \"FLUREGION\": \"North America\", \"Year\": 2013, \"Week\": 34, \"SDATE\": \"2013-08-19\", \"EDATE\": \"2013-08-25\", \"SPEC_RECEIVED_NB\": 2187, \"SPEC_PROCESSED_NB\": 2187, \"AH1\": 0.0, \"AH1N12009\": 9, \"AH3\": 4, \"AH5\": 0.0, \"ANOTSUBTYPED\": 41, \"INF_A\": 55, \"BYAMAGATA\": 0, \"BVICTORIA\": 0, \"BNOTDETERMINED\": 3, \"INF_B\": 3, \"ALL_INF\": 58, \"ALL_INF2\": null, \"TITLE\": \"Sporadic\", \"pct_positive\": 2.65}, {\"Country\": \"United States of America\", \"WHOREGION\": \"Region of the Americas of WHO\", \"FLUREGION\": \"North America\", \"Year\": 2013, \"Week\": 35, \"SDATE\": \"2013-08-26\", \"EDATE\": \"2013-09-01\", \"SPEC_RECEIVED_NB\": 2674, \"SPEC_PROCESSED_NB\": 2674, \"AH1\": 0.0, \"AH1N12009\": 39, \"AH3\": 3, \"AH5\": 0.0, \"ANOTSUBTYPED\": 67, \"INF_A\": 110, \"BYAMAGATA\": 0, \"BVICTORIA\": 0, \"BNOTDETERMINED\": 10, \"INF_B\": 10, \"ALL_INF\": 120, \"ALL_INF2\": null, \"TITLE\": \"Sporadic\", \"pct_positive\": 4.49}, {\"Country\": \"United States of America\", \"WHOREGION\": \"Region of the Americas of WHO\", \"FLUREGION\": \"North America\", \"Year\": 2013, \"Week\": 36, \"SDATE\": \"2013-09-02\", \"EDATE\": \"2013-09-08\", \"SPEC_RECEIVED_NB\": 2825, \"SPEC_PROCESSED_NB\": 2825, \"AH1\": 0.0, \"AH1N12009\": 23, \"AH3\": 5, \"AH5\": 0.0, \"ANOTSUBTYPED\": 73, \"INF_A\": 101, \"BYAMAGATA\": 0, \"BVICTORIA\": 0, \"BNOTDETERMINED\": 12, \"INF_B\": 12, \"ALL_INF\": 113, \"ALL_INF2\": null, \"TITLE\": \"Sporadic\", \"pct_positive\": 4.0}, {\"Country\": \"United States of America\", \"WHOREGION\": \"Region of the Americas of WHO\", \"FLUREGION\": \"North America\", \"Year\": 2013, \"Week\": 37, \"SDATE\": \"2013-09-09\", \"EDATE\": \"2013-09-15\", \"SPEC_RECEIVED_NB\": 3190, \"SPEC_PROCESSED_NB\": 3190, \"AH1\": 0.0, \"AH1N12009\": 48, \"AH3\": 7, \"AH5\": 0.0, \"ANOTSUBTYPED\": 60, \"INF_A\": 115, \"BYAMAGATA\": 0, \"BVICTORIA\": 0, \"BNOTDETERMINED\": 7, \"INF_B\": 7, \"ALL_INF\": 122, \"ALL_INF2\": null, \"TITLE\": \"Sporadic\", \"pct_positive\": 3.82}, {\"Country\": \"United States of America\", \"WHOREGION\": \"Region of the Americas of WHO\", \"FLUREGION\": \"North America\", \"Year\": 2013, \"Week\": 38, \"SDATE\": \"2013-09-16\", \"EDATE\": \"2013-09-22\", \"SPEC_RECEIVED_NB\": 3400, \"SPEC_PROCESSED_NB\": 3400, \"AH1\": 0.0, \"AH1N12009\": 32, \"AH3\": 7, \"AH5\": 0.0, \"ANOTSUBTYPED\": 56, \"INF_A\": 95, \"BYAMAGATA\": 0, \"BVICTORIA\": 0, \"BNOTDETERMINED\": 22, \"INF_B\": 22, \"ALL_INF\": 117, \"ALL_INF2\": null, \"TITLE\": \"Sporadic\", \"pct_positive\": 3.44}, {\"Country\": \"United States of America\", \"WHOREGION\": \"Region of the Americas of WHO\", \"FLUREGION\": \"North America\", \"Year\": 2013, \"Week\": 39, \"SDATE\": \"2013-09-23\", \"EDATE\": \"2013-09-29\", \"SPEC_RECEIVED_NB\": 3890, \"SPEC_PROCESSED_NB\": 3890, \"AH1\": 0.0, \"AH1N12009\": 49, \"AH3\": 10, \"AH5\": 0.0, \"ANOTSUBTYPED\": 56, \"INF_A\": 115, \"BYAMAGATA\": 0, \"BVICTORIA\": 0, \"BNOTDETERMINED\": 22, \"INF_B\": 22, \"ALL_INF\": 137, \"ALL_INF2\": null, \"TITLE\": \"Sporadic\", \"pct_positive\": 3.52}, {\"Country\": \"United States of America\", \"WHOREGION\": \"Region of the Americas of WHO\", \"FLUREGION\": \"North America\", \"Year\": 2013, \"Week\": 40, \"SDATE\": \"2013-09-30\", \"EDATE\": \"2013-10-06\", \"SPEC_RECEIVED_NB\": 4407, \"SPEC_PROCESSED_NB\": 4407, \"AH1\": 0.0, \"AH1N12009\": 64, \"AH3\": 10, \"AH5\": 0.0, \"ANOTSUBTYPED\": 84, \"INF_A\": 159, \"BYAMAGATA\": 0, \"BVICTORIA\": 0, \"BNOTDETERMINED\": 26, \"INF_B\": 26, \"ALL_INF\": 185, \"ALL_INF2\": null, \"TITLE\": \"Sporadic\", \"pct_positive\": 4.2}, {\"Country\": \"United States of America\", \"WHOREGION\": \"Region of the Americas of WHO\", \"FLUREGION\": \"North America\", \"Year\": 2013, \"Week\": 41, \"SDATE\": \"2013-10-07\", \"EDATE\": \"2013-10-13\", \"SPEC_RECEIVED_NB\": 5244, \"SPEC_PROCESSED_NB\": 5244, \"AH1\": 0.0, \"AH1N12009\": 57, \"AH3\": 21, \"AH5\": 0.0, \"ANOTSUBTYPED\": 115, \"INF_A\": 193, \"BYAMAGATA\": 0, \"BVICTORIA\": 0, \"BNOTDETERMINED\": 28, \"INF_B\": 28, \"ALL_INF\": 221, \"ALL_INF2\": null, \"TITLE\": \"Sporadic\", \"pct_positive\": 4.21}, {\"Country\": \"United States of America\", \"WHOREGION\": \"Region of the Americas of WHO\", \"FLUREGION\": \"North America\", \"Year\": 2013, \"Week\": 42, \"SDATE\": \"2013-10-14\", \"EDATE\": \"2013-10-20\", \"SPEC_RECEIVED_NB\": 5320, \"SPEC_PROCESSED_NB\": 5320, \"AH1\": 0.0, \"AH1N12009\": 34, \"AH3\": 12, \"AH5\": 0.0, \"ANOTSUBTYPED\": 104, \"INF_A\": 150, \"BYAMAGATA\": 0, \"BVICTORIA\": 0, \"BNOTDETERMINED\": 25, \"INF_B\": 25, \"ALL_INF\": 175, \"ALL_INF2\": null, \"TITLE\": \"Sporadic\", \"pct_positive\": 3.29}, {\"Country\": \"United States of America\", \"WHOREGION\": \"Region of the Americas of WHO\", \"FLUREGION\": \"North America\", \"Year\": 2013, \"Week\": 43, \"SDATE\": \"2013-10-21\", \"EDATE\": \"2013-10-27\", \"SPEC_RECEIVED_NB\": 5402, \"SPEC_PROCESSED_NB\": 5402, \"AH1\": 0.0, \"AH1N12009\": 65, \"AH3\": 16, \"AH5\": 0.0, \"ANOTSUBTYPED\": 102, \"INF_A\": 183, \"BYAMAGATA\": 0, \"BVICTORIA\": 0, \"BNOTDETERMINED\": 14, \"INF_B\": 14, \"ALL_INF\": 197, \"ALL_INF2\": null, \"TITLE\": \"Sporadic\", \"pct_positive\": 3.65}, {\"Country\": \"United States of America\", \"WHOREGION\": \"Region of the Americas of WHO\", \"FLUREGION\": \"North America\", \"Year\": 2013, \"Week\": 44, \"SDATE\": \"2013-10-28\", \"EDATE\": \"2013-11-03\", \"SPEC_RECEIVED_NB\": 5853, \"SPEC_PROCESSED_NB\": 5853, \"AH1\": 0.0, \"AH1N12009\": 74, \"AH3\": 24, \"AH5\": 0.0, \"ANOTSUBTYPED\": 135, \"INF_A\": 233, \"BYAMAGATA\": 0, \"BVICTORIA\": 0, \"BNOTDETERMINED\": 41, \"INF_B\": 41, \"ALL_INF\": 274, \"ALL_INF2\": null, \"TITLE\": \"Sporadic\", \"pct_positive\": 4.68}, {\"Country\": \"United States of America\", \"WHOREGION\": \"Region of the Americas of WHO\", \"FLUREGION\": \"North America\", \"Year\": 2013, \"Week\": 45, \"SDATE\": \"2013-11-04\", \"EDATE\": \"2013-11-10\", \"SPEC_RECEIVED_NB\": 6765, \"SPEC_PROCESSED_NB\": 6765, \"AH1\": 0.0, \"AH1N12009\": 150, \"AH3\": 28, \"AH5\": 0.0, \"ANOTSUBTYPED\": 173, \"INF_A\": 351, \"BYAMAGATA\": 0, \"BVICTORIA\": 0, \"BNOTDETERMINED\": 43, \"INF_B\": 43, \"ALL_INF\": 394, \"ALL_INF2\": null, \"TITLE\": \"Local Outbreak\", \"pct_positive\": 5.82}, {\"Country\": \"United States of America\", \"WHOREGION\": \"Region of the Americas of WHO\", \"FLUREGION\": \"North America\", \"Year\": 2013, \"Week\": 46, \"SDATE\": \"2013-11-11\", \"EDATE\": \"2013-11-17\", \"SPEC_RECEIVED_NB\": 6963, \"SPEC_PROCESSED_NB\": 6963, \"AH1\": 0.0, \"AH1N12009\": 265, \"AH3\": 25, \"AH5\": 0.0, \"ANOTSUBTYPED\": 191, \"INF_A\": 481, \"BYAMAGATA\": 0, \"BVICTORIA\": 0, \"BNOTDETERMINED\": 39, \"INF_B\": 39, \"ALL_INF\": 520, \"ALL_INF2\": null, \"TITLE\": \"Local Outbreak\", \"pct_positive\": 7.47}, {\"Country\": \"United States of America\", \"WHOREGION\": \"Region of the Americas of WHO\", \"FLUREGION\": \"North America\", \"Year\": 2013, \"Week\": 47, \"SDATE\": \"2013-11-18\", \"EDATE\": \"2013-11-24\", \"SPEC_RECEIVED_NB\": 7569, \"SPEC_PROCESSED_NB\": 7569, \"AH1\": 0.0, \"AH1N12009\": 417, \"AH3\": 20, \"AH5\": 0.0, \"ANOTSUBTYPED\": 211, \"INF_A\": 648, \"BYAMAGATA\": 0, \"BVICTORIA\": 0, \"BNOTDETERMINED\": 55, \"INF_B\": 55, \"ALL_INF\": 703, \"ALL_INF2\": null, \"TITLE\": \"Local Outbreak\", \"pct_positive\": 9.29}, {\"Country\": \"United States of America\", \"WHOREGION\": \"Region of the Americas of WHO\", \"FLUREGION\": \"North America\", \"Year\": 2013, \"Week\": 48, \"SDATE\": \"2013-11-25\", \"EDATE\": \"2013-12-01\", \"SPEC_RECEIVED_NB\": 7118, \"SPEC_PROCESSED_NB\": 7118, \"AH1\": 0.0, \"AH1N12009\": 465, \"AH3\": 28, \"AH5\": 0.0, \"ANOTSUBTYPED\": 330, \"INF_A\": 823, \"BYAMAGATA\": 0, \"BVICTORIA\": 0, \"BNOTDETERMINED\": 40, \"INF_B\": 40, \"ALL_INF\": 863, \"ALL_INF2\": null, \"TITLE\": \"Local Outbreak\", \"pct_positive\": 12.12}, {\"Country\": \"United States of America\", \"WHOREGION\": \"Region of the Americas of WHO\", \"FLUREGION\": \"North America\", \"Year\": 2013, \"Week\": 49, \"SDATE\": \"2013-12-02\", \"EDATE\": \"2013-12-08\", \"SPEC_RECEIVED_NB\": 9628, \"SPEC_PROCESSED_NB\": 9628, \"AH1\": 0.0, \"AH1N12009\": 899, \"AH3\": 30, \"AH5\": 0.0, \"ANOTSUBTYPED\": 726, \"INF_A\": 1655, \"BYAMAGATA\": 0, \"BVICTORIA\": 0, \"BNOTDETERMINED\": 67, \"INF_B\": 67, \"ALL_INF\": 1722, \"ALL_INF2\": null, \"TITLE\": \"Local Outbreak\", \"pct_positive\": 17.89}, {\"Country\": \"United States of America\", \"WHOREGION\": \"Region of the Americas of WHO\", \"FLUREGION\": \"North America\", \"Year\": 2013, \"Week\": 50, \"SDATE\": \"2013-12-09\", \"EDATE\": \"2013-12-15\", \"SPEC_RECEIVED_NB\": 9942, \"SPEC_PROCESSED_NB\": 9942, \"AH1\": 0.0, \"AH1N12009\": 1062, \"AH3\": 46, \"AH5\": 0.0, \"ANOTSUBTYPED\": 813, \"INF_A\": 1921, \"BYAMAGATA\": 0, \"BVICTORIA\": 0, \"BNOTDETERMINED\": 47, \"INF_B\": 47, \"ALL_INF\": 1968, \"ALL_INF2\": null, \"TITLE\": \"Local Outbreak\", \"pct_positive\": 19.79}, {\"Country\": \"United States of America\", \"WHOREGION\": \"Region of the Americas of WHO\", \"FLUREGION\": \"North America\", \"Year\": 2013, \"Week\": 51, \"SDATE\": \"2013-12-16\", \"EDATE\": \"2013-12-22\", \"SPEC_RECEIVED_NB\": 13165, \"SPEC_PROCESSED_NB\": 13165, \"AH1\": 0.0, \"AH1N12009\": 1996, \"AH3\": 50, \"AH5\": 0.0, \"ANOTSUBTYPED\": 1577, \"INF_A\": 3623, \"BYAMAGATA\": 0, \"BVICTORIA\": 0, \"BNOTDETERMINED\": 62, \"INF_B\": 62, \"ALL_INF\": 3685, \"ALL_INF2\": null, \"TITLE\": \"Widespread Outbreak\", \"pct_positive\": 27.99}, {\"Country\": \"United States of America\", \"WHOREGION\": \"Region of the Americas of WHO\", \"FLUREGION\": \"North America\", \"Year\": 2013, \"Week\": 52, \"SDATE\": \"2013-12-23\", \"EDATE\": \"2013-12-29\", \"SPEC_RECEIVED_NB\": 14631, \"SPEC_PROCESSED_NB\": 14631, \"AH1\": 0.0, \"AH1N12009\": 2663, \"AH3\": 39, \"AH5\": 0.0, \"ANOTSUBTYPED\": 1689, \"INF_A\": 4391, \"BYAMAGATA\": 0, \"BVICTORIA\": 0, \"BNOTDETERMINED\": 87, \"INF_B\": 87, \"ALL_INF\": 4478, \"ALL_INF2\": null, \"TITLE\": \"Widespread Outbreak\", \"pct_positive\": 30.61}, {\"Country\": \"United States of America\", \"WHOREGION\": \"Region of the Americas of WHO\", \"FLUREGION\": \"North America\", \"Year\": 2014, \"Week\": 1, \"SDATE\": \"2013-12-30\", \"EDATE\": \"2014-01-05\", \"SPEC_RECEIVED_NB\": 16955, \"SPEC_PROCESSED_NB\": 16955, \"AH1\": 0.0, \"AH1N12009\": 3317, \"AH3\": 79, \"AH5\": 0.0, \"ANOTSUBTYPED\": 1502, \"INF_A\": 4898, \"BYAMAGATA\": 0, \"BVICTORIA\": 0, \"BNOTDETERMINED\": 84, \"INF_B\": 84, \"ALL_INF\": 4982, \"ALL_INF2\": null, \"TITLE\": \"Widespread Outbreak\", \"pct_positive\": 29.38}, {\"Country\": \"United States of America\", \"WHOREGION\": \"Region of the Americas of WHO\", \"FLUREGION\": \"North America\", \"Year\": 2014, \"Week\": 2, \"SDATE\": \"2014-01-06\", \"EDATE\": \"2014-01-12\", \"SPEC_RECEIVED_NB\": 16829, \"SPEC_PROCESSED_NB\": 16829, \"AH1\": 0.0, \"AH1N12009\": 3204, \"AH3\": 104, \"AH5\": 0.0, \"ANOTSUBTYPED\": 1246, \"INF_A\": 4554, \"BYAMAGATA\": 0, \"BVICTORIA\": 0, \"BNOTDETERMINED\": 82, \"INF_B\": 82, \"ALL_INF\": 4636, \"ALL_INF2\": null, \"TITLE\": \"Widespread Outbreak\", \"pct_positive\": 27.55}, {\"Country\": \"United States of America\", \"WHOREGION\": \"Region of the Americas of WHO\", \"FLUREGION\": \"North America\", \"Year\": 2014, \"Week\": 3, \"SDATE\": \"2014-01-13\", \"EDATE\": \"2014-01-19\", \"SPEC_RECEIVED_NB\": 16051, \"SPEC_PROCESSED_NB\": 16051, \"AH1\": 0.0, \"AH1N12009\": 2907, \"AH3\": 107, \"AH5\": 0.0, \"ANOTSUBTYPED\": 1119, \"INF_A\": 4133, \"BYAMAGATA\": 0, \"BVICTORIA\": 0, \"BNOTDETERMINED\": 110, \"INF_B\": 110, \"ALL_INF\": 4243, \"ALL_INF2\": null, \"TITLE\": \"Widespread Outbreak\", \"pct_positive\": 26.43}, {\"Country\": \"United States of America\", \"WHOREGION\": \"Region of the Americas of WHO\", \"FLUREGION\": \"North America\", \"Year\": 2014, \"Week\": 4, \"SDATE\": \"2014-01-20\", \"EDATE\": \"2014-01-26\", \"SPEC_RECEIVED_NB\": 15130, \"SPEC_PROCESSED_NB\": 15130, \"AH1\": 0.0, \"AH1N12009\": 2341, \"AH3\": 118, \"AH5\": 0.0, \"ANOTSUBTYPED\": 1002, \"INF_A\": 3461, \"BYAMAGATA\": 0, \"BVICTORIA\": 0, \"BNOTDETERMINED\": 152, \"INF_B\": 152, \"ALL_INF\": 3613, \"ALL_INF2\": null, \"TITLE\": \"Widespread Outbreak\", \"pct_positive\": 23.88}, {\"Country\": \"United States of America\", \"WHOREGION\": \"Region of the Americas of WHO\", \"FLUREGION\": \"North America\", \"Year\": 2014, \"Week\": 5, \"SDATE\": \"2014-01-27\", \"EDATE\": \"2014-02-02\", \"SPEC_RECEIVED_NB\": 13460, \"SPEC_PROCESSED_NB\": 13460, \"AH1\": 0.0, \"AH1N12009\": 1735, \"AH3\": 77, \"AH5\": 0.0, \"ANOTSUBTYPED\": 743, \"INF_A\": 2555, \"BYAMAGATA\": 0, \"BVICTORIA\": 0, \"BNOTDETERMINED\": 153, \"INF_B\": 153, \"ALL_INF\": 2708, \"ALL_INF2\": null, \"TITLE\": \"Widespread Outbreak\", \"pct_positive\": 20.12}, {\"Country\": \"United States of America\", \"WHOREGION\": \"Region of the Americas of WHO\", \"FLUREGION\": \"North America\", \"Year\": 2014, \"Week\": 6, \"SDATE\": \"2014-02-03\", \"EDATE\": \"2014-02-09\", \"SPEC_RECEIVED_NB\": 12072, \"SPEC_PROCESSED_NB\": 12072, \"AH1\": 0.0, \"AH1N12009\": 1451, \"AH3\": 115, \"AH5\": 0.0, \"ANOTSUBTYPED\": 525, \"INF_A\": 2091, \"BYAMAGATA\": 0, \"BVICTORIA\": 0, \"BNOTDETERMINED\": 198, \"INF_B\": 198, \"ALL_INF\": 2289, \"ALL_INF2\": null, \"TITLE\": \"Widespread Outbreak\", \"pct_positive\": 18.96}, {\"Country\": \"United States of America\", \"WHOREGION\": \"Region of the Americas of WHO\", \"FLUREGION\": \"North America\", \"Year\": 2014, \"Week\": 7, \"SDATE\": \"2014-02-10\", \"EDATE\": \"2014-02-16\", \"SPEC_RECEIVED_NB\": 10991, \"SPEC_PROCESSED_NB\": 10991, \"AH1\": 0.0, \"AH1N12009\": 1056, \"AH3\": 91, \"AH5\": 0.0, \"ANOTSUBTYPED\": 466, \"INF_A\": 1613, \"BYAMAGATA\": 0, \"BVICTORIA\": 0, \"BNOTDETERMINED\": 199, \"INF_B\": 199, \"ALL_INF\": 1812, \"ALL_INF2\": null, \"TITLE\": \"Widespread Outbreak\", \"pct_positive\": 16.49}, {\"Country\": \"United States of America\", \"WHOREGION\": \"Region of the Americas of WHO\", \"FLUREGION\": \"North America\", \"Year\": 2014, \"Week\": 8, \"SDATE\": \"2014-02-17\", \"EDATE\": \"2014-02-23\", \"SPEC_RECEIVED_NB\": 10451, \"SPEC_PROCESSED_NB\": 10451, \"AH1\": 0.0, \"AH1N12009\": 741, \"AH3\": 85, \"AH5\": 0.0, \"ANOTSUBTYPED\": 327, \"INF_A\": 1153, \"BYAMAGATA\": 0, \"BVICTORIA\": 0, \"BNOTDETERMINED\": 220, \"INF_B\": 220, \"ALL_INF\": 1373, \"ALL_INF2\": null, \"TITLE\": \"Widespread Outbreak\", \"pct_positive\": 13.14}, {\"Country\": \"United States of America\", \"WHOREGION\": \"Region of the Americas of WHO\", \"FLUREGION\": \"North America\", \"Year\": 2014, \"Week\": 9, \"SDATE\": \"2014-02-24\", \"EDATE\": \"2014-03-02\", \"SPEC_RECEIVED_NB\": 9349, \"SPEC_PROCESSED_NB\": 9349, \"AH1\": 0.0, \"AH1N12009\": 454, \"AH3\": 85, \"AH5\": 0.0, \"ANOTSUBTYPED\": 250, \"INF_A\": 789, \"BYAMAGATA\": 0, \"BVICTORIA\": 0, \"BNOTDETERMINED\": 237, \"INF_B\": 237, \"ALL_INF\": 1026, \"ALL_INF2\": null, \"TITLE\": \"Regional Outbreak\", \"pct_positive\": 10.97}, {\"Country\": \"United States of America\", \"WHOREGION\": \"Region of the Americas of WHO\", \"FLUREGION\": \"North America\", \"Year\": 2014, \"Week\": 10, \"SDATE\": \"2014-03-03\", \"EDATE\": \"2014-03-09\", \"SPEC_RECEIVED_NB\": 8995, \"SPEC_PROCESSED_NB\": 8995, \"AH1\": 0.0, \"AH1N12009\": 390, \"AH3\": 99, \"AH5\": 0.0, \"ANOTSUBTYPED\": 204, \"INF_A\": 693, \"BYAMAGATA\": 0, \"BVICTORIA\": 0, \"BNOTDETERMINED\": 281, \"INF_B\": 281, \"ALL_INF\": 974, \"ALL_INF2\": null, \"TITLE\": \"Regional Outbreak\", \"pct_positive\": 10.83}, {\"Country\": \"United States of America\", \"WHOREGION\": \"Region of the Americas of WHO\", \"FLUREGION\": \"North America\", \"Year\": 2014, \"Week\": 11, \"SDATE\": \"2014-03-10\", \"EDATE\": \"2014-03-16\", \"SPEC_RECEIVED_NB\": 8282, \"SPEC_PROCESSED_NB\": 8282, \"AH1\": 0.0, \"AH1N12009\": 330, \"AH3\": 132, \"AH5\": 0.0, \"ANOTSUBTYPED\": 155, \"INF_A\": 617, \"BYAMAGATA\": 0, \"BVICTORIA\": 0, \"BNOTDETERMINED\": 313, \"INF_B\": 313, \"ALL_INF\": 930, \"ALL_INF2\": null, \"TITLE\": \"Regional Outbreak\", \"pct_positive\": 11.23}, {\"Country\": \"United States of America\", \"WHOREGION\": \"Region of the Americas of WHO\", \"FLUREGION\": \"North America\", \"Year\": 2014, \"Week\": 12, \"SDATE\": \"2014-03-17\", \"EDATE\": \"2014-03-23\", \"SPEC_RECEIVED_NB\": 7617, \"SPEC_PROCESSED_NB\": 7617, \"AH1\": 0.0, \"AH1N12009\": 187, \"AH3\": 149, \"AH5\": 0.0, \"ANOTSUBTYPED\": 181, \"INF_A\": 517, \"BYAMAGATA\": 0, \"BVICTORIA\": 0, \"BNOTDETERMINED\": 402, \"INF_B\": 402, \"ALL_INF\": 919, \"ALL_INF2\": null, \"TITLE\": \"Regional Outbreak\", \"pct_positive\": 12.07}, {\"Country\": \"United States of America\", \"WHOREGION\": \"Region of the Americas of WHO\", \"FLUREGION\": \"North America\", \"Year\": 2014, \"Week\": 13, \"SDATE\": \"2014-03-24\", \"EDATE\": \"2014-03-30\", \"SPEC_RECEIVED_NB\": 7327, \"SPEC_PROCESSED_NB\": 7327, \"AH1\": 0.0, \"AH1N12009\": 134, \"AH3\": 161, \"AH5\": 0.0, \"ANOTSUBTYPED\": 176, \"INF_A\": 471, \"BYAMAGATA\": 0, \"BVICTORIA\": 0, \"BNOTDETERMINED\": 462, \"INF_B\": 462, \"ALL_INF\": 933, \"ALL_INF2\": null, \"TITLE\": \"Local Outbreak\", \"pct_positive\": 12.73}, {\"Country\": \"United States of America\", \"WHOREGION\": \"Region of the Americas of WHO\", \"FLUREGION\": \"North America\", \"Year\": 2014, \"Week\": 14, \"SDATE\": \"2014-03-31\", \"EDATE\": \"2014-04-06\", \"SPEC_RECEIVED_NB\": 7024, \"SPEC_PROCESSED_NB\": 7024, \"AH1\": 0.0, \"AH1N12009\": 98, \"AH3\": 221, \"AH5\": 0.0, \"ANOTSUBTYPED\": 128, \"INF_A\": 447, \"BYAMAGATA\": 0, \"BVICTORIA\": 0, \"BNOTDETERMINED\": 492, \"INF_B\": 492, \"ALL_INF\": 939, \"ALL_INF2\": null, \"TITLE\": \"Local Outbreak\", \"pct_positive\": 13.37}, {\"Country\": \"United States of America\", \"WHOREGION\": \"Region of the Americas of WHO\", \"FLUREGION\": \"North America\", \"Year\": 2014, \"Week\": 15, \"SDATE\": \"2014-04-07\", \"EDATE\": \"2014-04-13\", \"SPEC_RECEIVED_NB\": 6661, \"SPEC_PROCESSED_NB\": 6661, \"AH1\": 0.0, \"AH1N12009\": 46, \"AH3\": 221, \"AH5\": 0.0, \"ANOTSUBTYPED\": 154, \"INF_A\": 421, \"BYAMAGATA\": 0, \"BVICTORIA\": 0, \"BNOTDETERMINED\": 533, \"INF_B\": 533, \"ALL_INF\": 954, \"ALL_INF2\": null, \"TITLE\": \"Local Outbreak\", \"pct_positive\": 14.32}, {\"Country\": \"United States of America\", \"WHOREGION\": \"Region of the Americas of WHO\", \"FLUREGION\": \"North America\", \"Year\": 2014, \"Week\": 16, \"SDATE\": \"2014-04-14\", \"EDATE\": \"2014-04-20\", \"SPEC_RECEIVED_NB\": 6167, \"SPEC_PROCESSED_NB\": 6167, \"AH1\": 0.0, \"AH1N12009\": 28, \"AH3\": 195, \"AH5\": 0.0, \"ANOTSUBTYPED\": 128, \"INF_A\": 351, \"BYAMAGATA\": 0, \"BVICTORIA\": 0, \"BNOTDETERMINED\": 445, \"INF_B\": 445, \"ALL_INF\": 796, \"ALL_INF2\": null, \"TITLE\": \"Local Outbreak\", \"pct_positive\": 12.91}, {\"Country\": \"United States of America\", \"WHOREGION\": \"Region of the Americas of WHO\", \"FLUREGION\": \"North America\", \"Year\": 2014, \"Week\": 17, \"SDATE\": \"2014-04-21\", \"EDATE\": \"2014-04-27\", \"SPEC_RECEIVED_NB\": 5521, \"SPEC_PROCESSED_NB\": 5521, \"AH1\": 0.0, \"AH1N12009\": 15, \"AH3\": 174, \"AH5\": 0.0, \"ANOTSUBTYPED\": 123, \"INF_A\": 312, \"BYAMAGATA\": 0, \"BVICTORIA\": 0, \"BNOTDETERMINED\": 405, \"INF_B\": 405, \"ALL_INF\": 717, \"ALL_INF2\": null, \"TITLE\": \"Local Outbreak\", \"pct_positive\": 12.99}, {\"Country\": \"United States of America\", \"WHOREGION\": \"Region of the Americas of WHO\", \"FLUREGION\": \"North America\", \"Year\": 2014, \"Week\": 18, \"SDATE\": \"2014-04-28\", \"EDATE\": \"2014-05-04\", \"SPEC_RECEIVED_NB\": 5571, \"SPEC_PROCESSED_NB\": 5571, \"AH1\": 0.0, \"AH1N12009\": 13, \"AH3\": 141, \"AH5\": 0.0, \"ANOTSUBTYPED\": 128, \"INF_A\": 282, \"BYAMAGATA\": 0, \"BVICTORIA\": 0, \"BNOTDETERMINED\": 415, \"INF_B\": 415, \"ALL_INF\": 697, \"ALL_INF2\": null, \"TITLE\": \"Sporadic\", \"pct_positive\": 12.51}, {\"Country\": \"United States of America\", \"WHOREGION\": \"Region of the Americas of WHO\", \"FLUREGION\": \"North America\", \"Year\": 2014, \"Week\": 19, \"SDATE\": \"2014-05-05\", \"EDATE\": \"2014-05-11\", \"SPEC_RECEIVED_NB\": 5221, \"SPEC_PROCESSED_NB\": 5221, \"AH1\": 0.0, \"AH1N12009\": 7, \"AH3\": 128, \"AH5\": 0.0, \"ANOTSUBTYPED\": 99, \"INF_A\": 234, \"BYAMAGATA\": 0, \"BVICTORIA\": 0, \"BNOTDETERMINED\": 327, \"INF_B\": 327, \"ALL_INF\": 561, \"ALL_INF2\": null, \"TITLE\": \"Local Outbreak\", \"pct_positive\": 10.75}, {\"Country\": \"United States of America\", \"WHOREGION\": \"Region of the Americas of WHO\", \"FLUREGION\": \"North America\", \"Year\": 2014, \"Week\": 20, \"SDATE\": \"2014-05-12\", \"EDATE\": \"2014-05-18\", \"SPEC_RECEIVED_NB\": 5044, \"SPEC_PROCESSED_NB\": 5044, \"AH1\": 0.0, \"AH1N12009\": 6, \"AH3\": 100, \"AH5\": 0.0, \"ANOTSUBTYPED\": 96, \"INF_A\": 202, \"BYAMAGATA\": 0, \"BVICTORIA\": 0, \"BNOTDETERMINED\": 294, \"INF_B\": 294, \"ALL_INF\": 496, \"ALL_INF2\": null, \"TITLE\": \"Local Outbreak\", \"pct_positive\": 9.83}, {\"Country\": \"United States of America\", \"WHOREGION\": \"Region of the Americas of WHO\", \"FLUREGION\": \"North America\", \"Year\": 2014, \"Week\": 21, \"SDATE\": \"2014-05-19\", \"EDATE\": \"2014-05-25\", \"SPEC_RECEIVED_NB\": 4544, \"SPEC_PROCESSED_NB\": 4544, \"AH1\": 0.0, \"AH1N12009\": 1, \"AH3\": 101, \"AH5\": 0.0, \"ANOTSUBTYPED\": 61, \"INF_A\": 163, \"BYAMAGATA\": 0, \"BVICTORIA\": 0, \"BNOTDETERMINED\": 222, \"INF_B\": 222, \"ALL_INF\": 385, \"ALL_INF2\": null, \"TITLE\": \"Sporadic\", \"pct_positive\": 8.47}, {\"Country\": \"United States of America\", \"WHOREGION\": \"Region of the Americas of WHO\", \"FLUREGION\": \"North America\", \"Year\": 2014, \"Week\": 22, \"SDATE\": \"2014-05-26\", \"EDATE\": \"2014-06-01\", \"SPEC_RECEIVED_NB\": 4516, \"SPEC_PROCESSED_NB\": 4516, \"AH1\": 0.0, \"AH1N12009\": 3, \"AH3\": 103, \"AH5\": 0.0, \"ANOTSUBTYPED\": 82, \"INF_A\": 188, \"BYAMAGATA\": 0, \"BVICTORIA\": 0, \"BNOTDETERMINED\": 208, \"INF_B\": 208, \"ALL_INF\": 396, \"ALL_INF2\": null, \"TITLE\": \"Sporadic\", \"pct_positive\": 8.77}, {\"Country\": \"United States of America\", \"WHOREGION\": \"Region of the Americas of WHO\", \"FLUREGION\": \"North America\", \"Year\": 2014, \"Week\": 23, \"SDATE\": \"2014-06-02\", \"EDATE\": \"2014-06-08\", \"SPEC_RECEIVED_NB\": 4063, \"SPEC_PROCESSED_NB\": 4063, \"AH1\": 0.0, \"AH1N12009\": 2, \"AH3\": 86, \"AH5\": 0.0, \"ANOTSUBTYPED\": 51, \"INF_A\": 139, \"BYAMAGATA\": 0, \"BVICTORIA\": 0, \"BNOTDETERMINED\": 131, \"INF_B\": 131, \"ALL_INF\": 270, \"ALL_INF2\": null, \"TITLE\": \"Local Outbreak\", \"pct_positive\": 6.65}, {\"Country\": \"United States of America\", \"WHOREGION\": \"Region of the Americas of WHO\", \"FLUREGION\": \"North America\", \"Year\": 2014, \"Week\": 24, \"SDATE\": \"2014-06-09\", \"EDATE\": \"2014-06-15\", \"SPEC_RECEIVED_NB\": 3963, \"SPEC_PROCESSED_NB\": 3963, \"AH1\": 0.0, \"AH1N12009\": 3, \"AH3\": 99, \"AH5\": 0.0, \"ANOTSUBTYPED\": 49, \"INF_A\": 151, \"BYAMAGATA\": 0, \"BVICTORIA\": 0, \"BNOTDETERMINED\": 139, \"INF_B\": 139, \"ALL_INF\": 290, \"ALL_INF2\": null, \"TITLE\": \"Local Outbreak\", \"pct_positive\": 7.32}, {\"Country\": \"United States of America\", \"WHOREGION\": \"Region of the Americas of WHO\", \"FLUREGION\": \"North America\", \"Year\": 2014, \"Week\": 25, \"SDATE\": \"2014-06-16\", \"EDATE\": \"2014-06-22\", \"SPEC_RECEIVED_NB\": 3694, \"SPEC_PROCESSED_NB\": 3694, \"AH1\": 0.0, \"AH1N12009\": 3, \"AH3\": 69, \"AH5\": 0.0, \"ANOTSUBTYPED\": 43, \"INF_A\": 115, \"BYAMAGATA\": 0, \"BVICTORIA\": 0, \"BNOTDETERMINED\": 106, \"INF_B\": 106, \"ALL_INF\": 221, \"ALL_INF2\": null, \"TITLE\": \"Sporadic\", \"pct_positive\": 5.98}, {\"Country\": \"United States of America\", \"WHOREGION\": \"Region of the Americas of WHO\", \"FLUREGION\": \"North America\", \"Year\": 2014, \"Week\": 26, \"SDATE\": \"2014-06-23\", \"EDATE\": \"2014-06-29\", \"SPEC_RECEIVED_NB\": 3358, \"SPEC_PROCESSED_NB\": 3358, \"AH1\": 0.0, \"AH1N12009\": 0, \"AH3\": 45, \"AH5\": 0.0, \"ANOTSUBTYPED\": 28, \"INF_A\": 73, \"BYAMAGATA\": 0, \"BVICTORIA\": 0, \"BNOTDETERMINED\": 97, \"INF_B\": 97, \"ALL_INF\": 170, \"ALL_INF2\": null, \"TITLE\": \"Local Outbreak\", \"pct_positive\": 5.06}, {\"Country\": \"United States of America\", \"WHOREGION\": \"Region of the Americas of WHO\", \"FLUREGION\": \"North America\", \"Year\": 2014, \"Week\": 27, \"SDATE\": \"2014-06-30\", \"EDATE\": \"2014-07-06\", \"SPEC_RECEIVED_NB\": 3020, \"SPEC_PROCESSED_NB\": 3020, \"AH1\": 0.0, \"AH1N12009\": 1, \"AH3\": 46, \"AH5\": 0.0, \"ANOTSUBTYPED\": 26, \"INF_A\": 73, \"BYAMAGATA\": 0, \"BVICTORIA\": 0, \"BNOTDETERMINED\": 80, \"INF_B\": 80, \"ALL_INF\": 153, \"ALL_INF2\": null, \"TITLE\": \"Sporadic\", \"pct_positive\": 5.07}, {\"Country\": \"United States of America\", \"WHOREGION\": \"Region of the Americas of WHO\", \"FLUREGION\": \"North America\", \"Year\": 2014, \"Week\": 28, \"SDATE\": \"2014-07-07\", \"EDATE\": \"2014-07-13\", \"SPEC_RECEIVED_NB\": 2917, \"SPEC_PROCESSED_NB\": 2917, \"AH1\": 0.0, \"AH1N12009\": 3, \"AH3\": 53, \"AH5\": 0.0, \"ANOTSUBTYPED\": 29, \"INF_A\": 85, \"BYAMAGATA\": 0, \"BVICTORIA\": 0, \"BNOTDETERMINED\": 59, \"INF_B\": 59, \"ALL_INF\": 144, \"ALL_INF2\": null, \"TITLE\": \"Local Outbreak\", \"pct_positive\": 4.94}, {\"Country\": \"United States of America\", \"WHOREGION\": \"Region of the Americas of WHO\", \"FLUREGION\": \"North America\", \"Year\": 2014, \"Week\": 29, \"SDATE\": \"2014-07-14\", \"EDATE\": \"2014-07-20\", \"SPEC_RECEIVED_NB\": 2764, \"SPEC_PROCESSED_NB\": 2761, \"AH1\": 0.0, \"AH1N12009\": 0, \"AH3\": 32, \"AH5\": 0.0, \"ANOTSUBTYPED\": 20, \"INF_A\": 52, \"BYAMAGATA\": 0, \"BVICTORIA\": 0, \"BNOTDETERMINED\": 42, \"INF_B\": 42, \"ALL_INF\": 94, \"ALL_INF2\": null, \"TITLE\": \"Local Outbreak\", \"pct_positive\": 3.4}, {\"Country\": \"United States of America\", \"WHOREGION\": \"Region of the Americas of WHO\", \"FLUREGION\": \"North America\", \"Year\": 2014, \"Week\": 30, \"SDATE\": \"2014-07-21\", \"EDATE\": \"2014-07-27\", \"SPEC_RECEIVED_NB\": 3042, \"SPEC_PROCESSED_NB\": 3042, \"AH1\": 0.0, \"AH1N12009\": 1, \"AH3\": 36, \"AH5\": 0.0, \"ANOTSUBTYPED\": 28, \"INF_A\": 65, \"BYAMAGATA\": 0, \"BVICTORIA\": 0, \"BNOTDETERMINED\": 50, \"INF_B\": 50, \"ALL_INF\": 115, \"ALL_INF2\": null, \"TITLE\": \"Sporadic\", \"pct_positive\": 3.78}, {\"Country\": \"United States of America\", \"WHOREGION\": \"Region of the Americas of WHO\", \"FLUREGION\": \"North America\", \"Year\": 2014, \"Week\": 31, \"SDATE\": \"2014-07-28\", \"EDATE\": \"2014-08-03\", \"SPEC_RECEIVED_NB\": 2827, \"SPEC_PROCESSED_NB\": 2827, \"AH1\": 0.0, \"AH1N12009\": 2, \"AH3\": 46, \"AH5\": 0.0, \"ANOTSUBTYPED\": 25, \"INF_A\": 73, \"BYAMAGATA\": 0, \"BVICTORIA\": 0, \"BNOTDETERMINED\": 21, \"INF_B\": 21, \"ALL_INF\": 94, \"ALL_INF2\": null, \"TITLE\": \"Sporadic\", \"pct_positive\": 3.33}, {\"Country\": \"United States of America\", \"WHOREGION\": \"Region of the Americas of WHO\", \"FLUREGION\": \"North America\", \"Year\": 2014, \"Week\": 32, \"SDATE\": \"2014-08-04\", \"EDATE\": \"2014-08-10\", \"SPEC_RECEIVED_NB\": 2820, \"SPEC_PROCESSED_NB\": 2820, \"AH1\": 0.0, \"AH1N12009\": 3, \"AH3\": 39, \"AH5\": 0.0, \"ANOTSUBTYPED\": 15, \"INF_A\": 58, \"BYAMAGATA\": 0, \"BVICTORIA\": 0, \"BNOTDETERMINED\": 21, \"INF_B\": 21, \"ALL_INF\": 79, \"ALL_INF2\": null, \"TITLE\": \"Sporadic\", \"pct_positive\": 2.8}, {\"Country\": \"United States of America\", \"WHOREGION\": \"Region of the Americas of WHO\", \"FLUREGION\": \"North America\", \"Year\": 2014, \"Week\": 33, \"SDATE\": \"2014-08-11\", \"EDATE\": \"2014-08-17\", \"SPEC_RECEIVED_NB\": 3241, \"SPEC_PROCESSED_NB\": 3241, \"AH1\": 0.0, \"AH1N12009\": 1, \"AH3\": 54, \"AH5\": 0.0, \"ANOTSUBTYPED\": 21, \"INF_A\": 76, \"BYAMAGATA\": 0, \"BVICTORIA\": 0, \"BNOTDETERMINED\": 36, \"INF_B\": 36, \"ALL_INF\": 112, \"ALL_INF2\": null, \"TITLE\": \"Sporadic\", \"pct_positive\": 3.46}, {\"Country\": \"United States of America\", \"WHOREGION\": \"Region of the Americas of WHO\", \"FLUREGION\": \"North America\", \"Year\": 2014, \"Week\": 34, \"SDATE\": \"2014-08-18\", \"EDATE\": \"2014-08-24\", \"SPEC_RECEIVED_NB\": 3304, \"SPEC_PROCESSED_NB\": 3304, \"AH1\": 0.0, \"AH1N12009\": 3, \"AH3\": 44, \"AH5\": 0.0, \"ANOTSUBTYPED\": 18, \"INF_A\": 66, \"BYAMAGATA\": 0, \"BVICTORIA\": 0, \"BNOTDETERMINED\": 40, \"INF_B\": 40, \"ALL_INF\": 106, \"ALL_INF2\": null, \"TITLE\": \"Sporadic\", \"pct_positive\": 3.21}, {\"Country\": \"United States of America\", \"WHOREGION\": \"Region of the Americas of WHO\", \"FLUREGION\": \"North America\", \"Year\": 2014, \"Week\": 35, \"SDATE\": \"2014-08-25\", \"EDATE\": \"2014-08-31\", \"SPEC_RECEIVED_NB\": 3915, \"SPEC_PROCESSED_NB\": 3915, \"AH1\": 0.0, \"AH1N12009\": 6, \"AH3\": 59, \"AH5\": 0.0, \"ANOTSUBTYPED\": 28, \"INF_A\": 93, \"BYAMAGATA\": 0, \"BVICTORIA\": 0, \"BNOTDETERMINED\": 40, \"INF_B\": 40, \"ALL_INF\": 133, \"ALL_INF2\": null, \"TITLE\": \"Sporadic\", \"pct_positive\": 3.4}, {\"Country\": \"United States of America\", \"WHOREGION\": \"Region of the Americas of WHO\", \"FLUREGION\": \"North America\", \"Year\": 2014, \"Week\": 36, \"SDATE\": \"2014-09-01\", \"EDATE\": \"2014-09-07\", \"SPEC_RECEIVED_NB\": 4147, \"SPEC_PROCESSED_NB\": 4147, \"AH1\": 0.0, \"AH1N12009\": 7, \"AH3\": 42, \"AH5\": 0.0, \"ANOTSUBTYPED\": 33, \"INF_A\": 82, \"BYAMAGATA\": 0, \"BVICTORIA\": 0, \"BNOTDETERMINED\": 29, \"INF_B\": 29, \"ALL_INF\": 111, \"ALL_INF2\": null, \"TITLE\": \"Sporadic\", \"pct_positive\": 2.68}, {\"Country\": \"United States of America\", \"WHOREGION\": \"Region of the Americas of WHO\", \"FLUREGION\": \"North America\", \"Year\": 2014, \"Week\": 37, \"SDATE\": \"2014-09-08\", \"EDATE\": \"2014-09-14\", \"SPEC_RECEIVED_NB\": 5231, \"SPEC_PROCESSED_NB\": 5231, \"AH1\": 0.0, \"AH1N12009\": 1, \"AH3\": 65, \"AH5\": 0.0, \"ANOTSUBTYPED\": 33, \"INF_A\": 99, \"BYAMAGATA\": 0, \"BVICTORIA\": 0, \"BNOTDETERMINED\": 30, \"INF_B\": 30, \"ALL_INF\": 129, \"ALL_INF2\": null, \"TITLE\": \"Sporadic\", \"pct_positive\": 2.47}, {\"Country\": \"United States of America\", \"WHOREGION\": \"Region of the Americas of WHO\", \"FLUREGION\": \"North America\", \"Year\": 2014, \"Week\": 38, \"SDATE\": \"2014-09-15\", \"EDATE\": \"2014-09-21\", \"SPEC_RECEIVED_NB\": 5592, \"SPEC_PROCESSED_NB\": 5592, \"AH1\": 0.0, \"AH1N12009\": 6, \"AH3\": 80, \"AH5\": 0.0, \"ANOTSUBTYPED\": 32, \"INF_A\": 118, \"BYAMAGATA\": 0, \"BVICTORIA\": 0, \"BNOTDETERMINED\": 53, \"INF_B\": 53, \"ALL_INF\": 171, \"ALL_INF2\": null, \"TITLE\": \"Sporadic\", \"pct_positive\": 3.06}, {\"Country\": \"United States of America\", \"WHOREGION\": \"Region of the Americas of WHO\", \"FLUREGION\": \"North America\", \"Year\": 2014, \"Week\": 39, \"SDATE\": \"2014-09-22\", \"EDATE\": \"2014-09-28\", \"SPEC_RECEIVED_NB\": 5809, \"SPEC_PROCESSED_NB\": 5809, \"AH1\": 0.0, \"AH1N12009\": 1, \"AH3\": 84, \"AH5\": 0.0, \"ANOTSUBTYPED\": 51, \"INF_A\": 136, \"BYAMAGATA\": 0, \"BVICTORIA\": 0, \"BNOTDETERMINED\": 64, \"INF_B\": 64, \"ALL_INF\": 200, \"ALL_INF2\": null, \"TITLE\": \"Sporadic\", \"pct_positive\": 3.44}, {\"Country\": \"United States of America\", \"WHOREGION\": \"Region of the Americas of WHO\", \"FLUREGION\": \"North America\", \"Year\": 2014, \"Week\": 40, \"SDATE\": \"2014-09-29\", \"EDATE\": \"2014-10-05\", \"SPEC_RECEIVED_NB\": 9567, \"SPEC_PROCESSED_NB\": 9567, \"AH1\": 0.0, \"AH1N12009\": 2, \"AH3\": 100, \"AH5\": 0.0, \"ANOTSUBTYPED\": 97, \"INF_A\": 199, \"BYAMAGATA\": 0, \"BVICTORIA\": 0, \"BNOTDETERMINED\": 110, \"INF_B\": 110, \"ALL_INF\": 309, \"ALL_INF2\": null, \"TITLE\": \"Sporadic\", \"pct_positive\": 3.23}, {\"Country\": \"United States of America\", \"WHOREGION\": \"Region of the Americas of WHO\", \"FLUREGION\": \"North America\", \"Year\": 2014, \"Week\": 41, \"SDATE\": \"2014-10-06\", \"EDATE\": \"2014-10-12\", \"SPEC_RECEIVED_NB\": 11036, \"SPEC_PROCESSED_NB\": 11036, \"AH1\": 0.0, \"AH1N12009\": 5, \"AH3\": 125, \"AH5\": 0.0, \"ANOTSUBTYPED\": 149, \"INF_A\": 279, \"BYAMAGATA\": 0, \"BVICTORIA\": 0, \"BNOTDETERMINED\": 160, \"INF_B\": 160, \"ALL_INF\": 439, \"ALL_INF2\": null, \"TITLE\": \"Sporadic\", \"pct_positive\": 3.98}, {\"Country\": \"United States of America\", \"WHOREGION\": \"Region of the Americas of WHO\", \"FLUREGION\": \"North America\", \"Year\": 2014, \"Week\": 42, \"SDATE\": \"2014-10-13\", \"EDATE\": \"2014-10-19\", \"SPEC_RECEIVED_NB\": 11729, \"SPEC_PROCESSED_NB\": 11729, \"AH1\": 0.0, \"AH1N12009\": 7, \"AH3\": 226, \"AH5\": 0.0, \"ANOTSUBTYPED\": 186, \"INF_A\": 420, \"BYAMAGATA\": 0, \"BVICTORIA\": 0, \"BNOTDETERMINED\": 164, \"INF_B\": 164, \"ALL_INF\": 584, \"ALL_INF2\": null, \"TITLE\": \"Local Outbreak\", \"pct_positive\": 4.98}, {\"Country\": \"United States of America\", \"WHOREGION\": \"Region of the Americas of WHO\", \"FLUREGION\": \"North America\", \"Year\": 2014, \"Week\": 43, \"SDATE\": \"2014-10-20\", \"EDATE\": \"2014-10-26\", \"SPEC_RECEIVED_NB\": 11385, \"SPEC_PROCESSED_NB\": 11385, \"AH1\": 0.0, \"AH1N12009\": 5, \"AH3\": 212, \"AH5\": 0.0, \"ANOTSUBTYPED\": 200, \"INF_A\": 417, \"BYAMAGATA\": 0, \"BVICTORIA\": 0, \"BNOTDETERMINED\": 127, \"INF_B\": 127, \"ALL_INF\": 544, \"ALL_INF2\": null, \"TITLE\": \"Sporadic\", \"pct_positive\": 4.78}, {\"Country\": \"United States of America\", \"WHOREGION\": \"Region of the Americas of WHO\", \"FLUREGION\": \"North America\", \"Year\": 2014, \"Week\": 44, \"SDATE\": \"2014-10-27\", \"EDATE\": \"2014-11-02\", \"SPEC_RECEIVED_NB\": 11525, \"SPEC_PROCESSED_NB\": 11525, \"AH1\": 0.0, \"AH1N12009\": 4, \"AH3\": 295, \"AH5\": 0.0, \"ANOTSUBTYPED\": 292, \"INF_A\": 591, \"BYAMAGATA\": 0, \"BVICTORIA\": 0, \"BNOTDETERMINED\": 135, \"INF_B\": 135, \"ALL_INF\": 726, \"ALL_INF2\": null, \"TITLE\": \"Sporadic\", \"pct_positive\": 6.3}, {\"Country\": \"United States of America\", \"WHOREGION\": \"Region of the Americas of WHO\", \"FLUREGION\": \"North America\", \"Year\": 2014, \"Week\": 45, \"SDATE\": \"2014-11-03\", \"EDATE\": \"2014-11-09\", \"SPEC_RECEIVED_NB\": 12918, \"SPEC_PROCESSED_NB\": 12918, \"AH1\": 0.0, \"AH1N12009\": 6, \"AH3\": 506, \"AH5\": 0.0, \"ANOTSUBTYPED\": 489, \"INF_A\": 1001, \"BYAMAGATA\": 0, \"BVICTORIA\": 0, \"BNOTDETERMINED\": 155, \"INF_B\": 155, \"ALL_INF\": 1156, \"ALL_INF2\": null, \"TITLE\": \"Sporadic\", \"pct_positive\": 8.95}, {\"Country\": \"United States of America\", \"WHOREGION\": \"Region of the Americas of WHO\", \"FLUREGION\": \"North America\", \"Year\": 2014, \"Week\": 46, \"SDATE\": \"2014-11-10\", \"EDATE\": \"2014-11-16\", \"SPEC_RECEIVED_NB\": 13776, \"SPEC_PROCESSED_NB\": 13776, \"AH1\": 0.0, \"AH1N12009\": 8, \"AH3\": 632, \"AH5\": 0.0, \"ANOTSUBTYPED\": 629, \"INF_A\": 1269, \"BYAMAGATA\": 0, \"BVICTORIA\": 0, \"BNOTDETERMINED\": 147, \"INF_B\": 147, \"ALL_INF\": 1416, \"ALL_INF2\": null, \"TITLE\": \"Sporadic\", \"pct_positive\": 10.28}, {\"Country\": \"United States of America\", \"WHOREGION\": \"Region of the Americas of WHO\", \"FLUREGION\": \"North America\", \"Year\": 2014, \"Week\": 47, \"SDATE\": \"2014-11-17\", \"EDATE\": \"2014-11-23\", \"SPEC_RECEIVED_NB\": 16166, \"SPEC_PROCESSED_NB\": 16166, \"AH1\": 0.0, \"AH1N12009\": 5, \"AH3\": 1001, \"AH5\": 0.0, \"ANOTSUBTYPED\": 1233, \"INF_A\": 2239, \"BYAMAGATA\": 0, \"BVICTORIA\": 0, \"BNOTDETERMINED\": 163, \"INF_B\": 163, \"ALL_INF\": 2402, \"ALL_INF2\": null, \"TITLE\": \"Regional Outbreak\", \"pct_positive\": 14.86}, {\"Country\": \"United States of America\", \"WHOREGION\": \"Region of the Americas of WHO\", \"FLUREGION\": \"North America\", \"Year\": 2014, \"Week\": 48, \"SDATE\": \"2014-11-24\", \"EDATE\": \"2014-11-30\", \"SPEC_RECEIVED_NB\": 18504, \"SPEC_PROCESSED_NB\": 18504, \"AH1\": 0.0, \"AH1N12009\": 8, \"AH3\": 1538, \"AH5\": 0.0, \"ANOTSUBTYPED\": 1878, \"INF_A\": 3424, \"BYAMAGATA\": 0, \"BVICTORIA\": 0, \"BNOTDETERMINED\": 200, \"INF_B\": 200, \"ALL_INF\": 3624, \"ALL_INF2\": null, \"TITLE\": \"Widespread Outbreak\", \"pct_positive\": 19.58}, {\"Country\": \"United States of America\", \"WHOREGION\": \"Region of the Americas of WHO\", \"FLUREGION\": \"North America\", \"Year\": 2014, \"Week\": 49, \"SDATE\": \"2014-12-01\", \"EDATE\": \"2014-12-07\", \"SPEC_RECEIVED_NB\": 21961, \"SPEC_PROCESSED_NB\": 21961, \"AH1\": 0.0, \"AH1N12009\": 11, \"AH3\": 2296, \"AH5\": 0.0, \"ANOTSUBTYPED\": 2398, \"INF_A\": 4705, \"BYAMAGATA\": 0, \"BVICTORIA\": 0, \"BNOTDETERMINED\": 242, \"INF_B\": 242, \"ALL_INF\": 4947, \"ALL_INF2\": null, \"TITLE\": \"Widespread Outbreak\", \"pct_positive\": 22.53}, {\"Country\": \"United States of America\", \"WHOREGION\": \"Region of the Americas of WHO\", \"FLUREGION\": \"North America\", \"Year\": 2014, \"Week\": 50, \"SDATE\": \"2014-12-08\", \"EDATE\": \"2014-12-14\", \"SPEC_RECEIVED_NB\": 29214, \"SPEC_PROCESSED_NB\": 29214, \"AH1\": 0.0, \"AH1N12009\": 6, \"AH3\": 3814, \"AH5\": 0.0, \"ANOTSUBTYPED\": 4047, \"INF_A\": 7867, \"BYAMAGATA\": 0, \"BVICTORIA\": 0, \"BNOTDETERMINED\": 315, \"INF_B\": 315, \"ALL_INF\": 8182, \"ALL_INF2\": null, \"TITLE\": \"Widespread Outbreak\", \"pct_positive\": 28.01}, {\"Country\": \"United States of America\", \"WHOREGION\": \"Region of the Americas of WHO\", \"FLUREGION\": \"North America\", \"Year\": 2014, \"Week\": 51, \"SDATE\": \"2014-12-15\", \"EDATE\": \"2014-12-21\", \"SPEC_RECEIVED_NB\": 37109, \"SPEC_PROCESSED_NB\": 37109, \"AH1\": 0.0, \"AH1N12009\": 4, \"AH3\": 4972, \"AH5\": 0.0, \"ANOTSUBTYPED\": 6163, \"INF_A\": 11139, \"BYAMAGATA\": 0, \"BVICTORIA\": 0, \"BNOTDETERMINED\": 325, \"INF_B\": 325, \"ALL_INF\": 11464, \"ALL_INF2\": null, \"TITLE\": \"Widespread Outbreak\", \"pct_positive\": 30.89}, {\"Country\": \"United States of America\", \"WHOREGION\": \"Region of the Americas of WHO\", \"FLUREGION\": \"North America\", \"Year\": 2014, \"Week\": 52, \"SDATE\": \"2014-12-22\", \"EDATE\": \"2014-12-28\", \"SPEC_RECEIVED_NB\": 42466, \"SPEC_PROCESSED_NB\": 42466, \"AH1\": 0.0, \"AH1N12009\": 10, \"AH3\": 5498, \"AH5\": 0.0, \"ANOTSUBTYPED\": 7847, \"INF_A\": 13355, \"BYAMAGATA\": 0, \"BVICTORIA\": 0, \"BNOTDETERMINED\": 392, \"INF_B\": 392, \"ALL_INF\": 13747, \"ALL_INF2\": null, \"TITLE\": \"Widespread Outbreak\", \"pct_positive\": 32.37}, {\"Country\": \"United States of America\", \"WHOREGION\": \"Region of the Americas of WHO\", \"FLUREGION\": \"North America\", \"Year\": 2015, \"Week\": 1, \"SDATE\": \"2014-12-29\", \"EDATE\": \"2015-01-04\", \"SPEC_RECEIVED_NB\": 41579, \"SPEC_PROCESSED_NB\": 41579, \"AH1\": 0.0, \"AH1N12009\": 10, \"AH3\": 5292, \"AH5\": 0.0, \"ANOTSUBTYPED\": 5695, \"INF_A\": 10997, \"BYAMAGATA\": 0, \"BVICTORIA\": 0, \"BNOTDETERMINED\": 409, \"INF_B\": 409, \"ALL_INF\": 11406, \"ALL_INF2\": null, \"TITLE\": \"Widespread Outbreak\", \"pct_positive\": 27.43}, {\"Country\": \"United States of America\", \"WHOREGION\": \"Region of the Americas of WHO\", \"FLUREGION\": \"North America\", \"Year\": 2015, \"Week\": 2, \"SDATE\": \"2015-01-05\", \"EDATE\": \"2015-01-11\", \"SPEC_RECEIVED_NB\": 38493, \"SPEC_PROCESSED_NB\": 38493, \"AH1\": 0.0, \"AH1N12009\": 10, \"AH3\": 4901, \"AH5\": 0.0, \"ANOTSUBTYPED\": 3955, \"INF_A\": 8866, \"BYAMAGATA\": 0, \"BVICTORIA\": 0, \"BNOTDETERMINED\": 372, \"INF_B\": 372, \"ALL_INF\": 9238, \"ALL_INF2\": null, \"TITLE\": \"Widespread Outbreak\", \"pct_positive\": 24.0}, {\"Country\": \"United States of America\", \"WHOREGION\": \"Region of the Americas of WHO\", \"FLUREGION\": \"North America\", \"Year\": 2015, \"Week\": 3, \"SDATE\": \"2015-01-12\", \"EDATE\": \"2015-01-18\", \"SPEC_RECEIVED_NB\": 35593, \"SPEC_PROCESSED_NB\": 35593, \"AH1\": 0.0, \"AH1N12009\": 8, \"AH3\": 4584, \"AH5\": 0.0, \"ANOTSUBTYPED\": 3580, \"INF_A\": 8172, \"BYAMAGATA\": 0, \"BVICTORIA\": 0, \"BNOTDETERMINED\": 473, \"INF_B\": 473, \"ALL_INF\": 8645, \"ALL_INF2\": null, \"TITLE\": \"Widespread Outbreak\", \"pct_positive\": 24.29}, {\"Country\": \"United States of America\", \"WHOREGION\": \"Region of the Americas of WHO\", \"FLUREGION\": \"North America\", \"Year\": 2015, \"Week\": 4, \"SDATE\": \"2015-01-19\", \"EDATE\": \"2015-01-25\", \"SPEC_RECEIVED_NB\": 34191, \"SPEC_PROCESSED_NB\": 34191, \"AH1\": 0.0, \"AH1N12009\": 4, \"AH3\": 3917, \"AH5\": 0.0, \"ANOTSUBTYPED\": 3513, \"INF_A\": 7435, \"BYAMAGATA\": 0, \"BVICTORIA\": 0, \"BNOTDETERMINED\": 548, \"INF_B\": 548, \"ALL_INF\": 7983, \"ALL_INF2\": null, \"TITLE\": \"Widespread Outbreak\", \"pct_positive\": 23.35}, {\"Country\": \"United States of America\", \"WHOREGION\": \"Region of the Americas of WHO\", \"FLUREGION\": \"North America\", \"Year\": 2015, \"Week\": 5, \"SDATE\": \"2015-01-26\", \"EDATE\": \"2015-02-01\", \"SPEC_RECEIVED_NB\": 32001, \"SPEC_PROCESSED_NB\": 32001, \"AH1\": 0.0, \"AH1N12009\": 10, \"AH3\": 3475, \"AH5\": 0.0, \"ANOTSUBTYPED\": 2789, \"INF_A\": 6274, \"BYAMAGATA\": 0, \"BVICTORIA\": 0, \"BNOTDETERMINED\": 606, \"INF_B\": 606, \"ALL_INF\": 6880, \"ALL_INF2\": null, \"TITLE\": \"Widespread Outbreak\", \"pct_positive\": 21.5}, {\"Country\": \"United States of America\", \"WHOREGION\": \"Region of the Americas of WHO\", \"FLUREGION\": \"North America\", \"Year\": 2015, \"Week\": 6, \"SDATE\": \"2015-02-02\", \"EDATE\": \"2015-02-08\", \"SPEC_RECEIVED_NB\": 29578, \"SPEC_PROCESSED_NB\": 29578, \"AH1\": 0.0, \"AH1N12009\": 10, \"AH3\": 2719, \"AH5\": 0.0, \"ANOTSUBTYPED\": 2170, \"INF_A\": 4899, \"BYAMAGATA\": 0, \"BVICTORIA\": 0, \"BNOTDETERMINED\": 723, \"INF_B\": 723, \"ALL_INF\": 5622, \"ALL_INF2\": null, \"TITLE\": \"Widespread Outbreak\", \"pct_positive\": 19.01}, {\"Country\": \"United States of America\", \"WHOREGION\": \"Region of the Americas of WHO\", \"FLUREGION\": \"North America\", \"Year\": 2015, \"Week\": 7, \"SDATE\": \"2015-02-09\", \"EDATE\": \"2015-02-15\", \"SPEC_RECEIVED_NB\": 26986, \"SPEC_PROCESSED_NB\": 26986, \"AH1\": 0.0, \"AH1N12009\": 7, \"AH3\": 1744, \"AH5\": 0.0, \"ANOTSUBTYPED\": 1575, \"INF_A\": 3326, \"BYAMAGATA\": 0, \"BVICTORIA\": 0, \"BNOTDETERMINED\": 869, \"INF_B\": 869, \"ALL_INF\": 4195, \"ALL_INF2\": null, \"TITLE\": \"Widespread Outbreak\", \"pct_positive\": 15.55}, {\"Country\": \"United States of America\", \"WHOREGION\": \"Region of the Americas of WHO\", \"FLUREGION\": \"North America\", \"Year\": 2015, \"Week\": 8, \"SDATE\": \"2015-02-16\", \"EDATE\": \"2015-02-22\", \"SPEC_RECEIVED_NB\": 24292, \"SPEC_PROCESSED_NB\": 24292, \"AH1\": 0.0, \"AH1N12009\": 10, \"AH3\": 1242, \"AH5\": 0.0, \"ANOTSUBTYPED\": 1108, \"INF_A\": 2360, \"BYAMAGATA\": 0, \"BVICTORIA\": 0, \"BNOTDETERMINED\": 1009, \"INF_B\": 1009, \"ALL_INF\": 3369, \"ALL_INF2\": null, \"TITLE\": \"Widespread Outbreak\", \"pct_positive\": 13.87}, {\"Country\": \"United States of America\", \"WHOREGION\": \"Region of the Americas of WHO\", \"FLUREGION\": \"North America\", \"Year\": 2015, \"Week\": 9, \"SDATE\": \"2015-02-23\", \"EDATE\": \"2015-03-01\", \"SPEC_RECEIVED_NB\": 22293, \"SPEC_PROCESSED_NB\": 22293, \"AH1\": 0.0, \"AH1N12009\": 18, \"AH3\": 954, \"AH5\": 0.0, \"ANOTSUBTYPED\": 740, \"INF_A\": 1712, \"BYAMAGATA\": 0, \"BVICTORIA\": 0, \"BNOTDETERMINED\": 1127, \"INF_B\": 1127, \"ALL_INF\": 2839, \"ALL_INF2\": null, \"TITLE\": \"Widespread Outbreak\", \"pct_positive\": 12.73}, {\"Country\": \"United States of America\", \"WHOREGION\": \"Region of the Americas of WHO\", \"FLUREGION\": \"North America\", \"Year\": 2015, \"Week\": 10, \"SDATE\": \"2015-03-02\", \"EDATE\": \"2015-03-08\", \"SPEC_RECEIVED_NB\": 20419, \"SPEC_PROCESSED_NB\": 20419, \"AH1\": 0.0, \"AH1N12009\": 5, \"AH3\": 774, \"AH5\": 0.0, \"ANOTSUBTYPED\": 557, \"INF_A\": 1336, \"BYAMAGATA\": 0, \"BVICTORIA\": 0, \"BNOTDETERMINED\": 1352, \"INF_B\": 1352, \"ALL_INF\": 2688, \"ALL_INF2\": null, \"TITLE\": \"Widespread Outbreak\", \"pct_positive\": 13.16}, {\"Country\": \"United States of America\", \"WHOREGION\": \"Region of the Americas of WHO\", \"FLUREGION\": \"North America\", \"Year\": 2015, \"Week\": 11, \"SDATE\": \"2015-03-09\", \"EDATE\": \"2015-03-15\", \"SPEC_RECEIVED_NB\": 19843, \"SPEC_PROCESSED_NB\": 19843, \"AH1\": 0.0, \"AH1N12009\": 7, \"AH3\": 458, \"AH5\": 0.0, \"ANOTSUBTYPED\": 405, \"INF_A\": 870, \"BYAMAGATA\": 0, \"BVICTORIA\": 0, \"BNOTDETERMINED\": 1654, \"INF_B\": 1654, \"ALL_INF\": 2524, \"ALL_INF2\": null, \"TITLE\": \"Widespread Outbreak\", \"pct_positive\": 12.72}, {\"Country\": \"United States of America\", \"WHOREGION\": \"Region of the Americas of WHO\", \"FLUREGION\": \"North America\", \"Year\": 2015, \"Week\": 12, \"SDATE\": \"2015-03-16\", \"EDATE\": \"2015-03-22\", \"SPEC_RECEIVED_NB\": 18418, \"SPEC_PROCESSED_NB\": 18418, \"AH1\": 0.0, \"AH1N12009\": 2, \"AH3\": 340, \"AH5\": 0.0, \"ANOTSUBTYPED\": 302, \"INF_A\": 644, \"BYAMAGATA\": 0, \"BVICTORIA\": 0, \"BNOTDETERMINED\": 1564, \"INF_B\": 1564, \"ALL_INF\": 2208, \"ALL_INF2\": null, \"TITLE\": \"Regional Outbreak\", \"pct_positive\": 11.99}, {\"Country\": \"United States of America\", \"WHOREGION\": \"Region of the Americas of WHO\", \"FLUREGION\": \"North America\", \"Year\": 2015, \"Week\": 13, \"SDATE\": \"2015-03-23\", \"EDATE\": \"2015-03-29\", \"SPEC_RECEIVED_NB\": 16980, \"SPEC_PROCESSED_NB\": 16980, \"AH1\": 0.0, \"AH1N12009\": 7, \"AH3\": 227, \"AH5\": 0.0, \"ANOTSUBTYPED\": 197, \"INF_A\": 431, \"BYAMAGATA\": 0, \"BVICTORIA\": 0, \"BNOTDETERMINED\": 1479, \"INF_B\": 1479, \"ALL_INF\": 1910, \"ALL_INF2\": null, \"TITLE\": \"Regional Outbreak\", \"pct_positive\": 11.25}, {\"Country\": \"United States of America\", \"WHOREGION\": \"Region of the Americas of WHO\", \"FLUREGION\": \"North America\", \"Year\": 2015, \"Week\": 14, \"SDATE\": \"2015-03-30\", \"EDATE\": \"2015-04-05\", \"SPEC_RECEIVED_NB\": 15123, \"SPEC_PROCESSED_NB\": 15123, \"AH1\": 0.0, \"AH1N12009\": 4, \"AH3\": 168, \"AH5\": 0.0, \"ANOTSUBTYPED\": 119, \"INF_A\": 291, \"BYAMAGATA\": 0, \"BVICTORIA\": 0, \"BNOTDETERMINED\": 1375, \"INF_B\": 1375, \"ALL_INF\": 1666, \"ALL_INF2\": null, \"TITLE\": \"Regional Outbreak\", \"pct_positive\": 11.02}, {\"Country\": \"United States of America\", \"WHOREGION\": \"Region of the Americas of WHO\", \"FLUREGION\": \"North America\", \"Year\": 2015, \"Week\": 15, \"SDATE\": \"2015-04-06\", \"EDATE\": \"2015-04-12\", \"SPEC_RECEIVED_NB\": 14741, \"SPEC_PROCESSED_NB\": 14741, \"AH1\": 0.0, \"AH1N12009\": 7, \"AH3\": 87, \"AH5\": 0.0, \"ANOTSUBTYPED\": 107, \"INF_A\": 201, \"BYAMAGATA\": 0, \"BVICTORIA\": 0, \"BNOTDETERMINED\": 1271, \"INF_B\": 1271, \"ALL_INF\": 1472, \"ALL_INF2\": null, \"TITLE\": \"Local Outbreak\", \"pct_positive\": 9.99}, {\"Country\": \"United States of America\", \"WHOREGION\": \"Region of the Americas of WHO\", \"FLUREGION\": \"North America\", \"Year\": 2015, \"Week\": 16, \"SDATE\": \"2015-04-13\", \"EDATE\": \"2015-04-19\", \"SPEC_RECEIVED_NB\": 13389, \"SPEC_PROCESSED_NB\": 13389, \"AH1\": 0.0, \"AH1N12009\": 13, \"AH3\": 66, \"AH5\": 0.0, \"ANOTSUBTYPED\": 79, \"INF_A\": 158, \"BYAMAGATA\": 0, \"BVICTORIA\": 0, \"BNOTDETERMINED\": 969, \"INF_B\": 969, \"ALL_INF\": 1127, \"ALL_INF2\": null, \"TITLE\": \"Sporadic\", \"pct_positive\": 8.42}, {\"Country\": \"United States of America\", \"WHOREGION\": \"Region of the Americas of WHO\", \"FLUREGION\": \"North America\", \"Year\": 2015, \"Week\": 17, \"SDATE\": \"2015-04-20\", \"EDATE\": \"2015-04-26\", \"SPEC_RECEIVED_NB\": 11872, \"SPEC_PROCESSED_NB\": 11872, \"AH1\": 0.0, \"AH1N12009\": 1, \"AH3\": 48, \"AH5\": 0.0, \"ANOTSUBTYPED\": 40, \"INF_A\": 89, \"BYAMAGATA\": 0, \"BVICTORIA\": 0, \"BNOTDETERMINED\": 683, \"INF_B\": 683, \"ALL_INF\": 772, \"ALL_INF2\": null, \"TITLE\": \"Local Outbreak\", \"pct_positive\": 6.5}, {\"Country\": \"United States of America\", \"WHOREGION\": \"Region of the Americas of WHO\", \"FLUREGION\": \"North America\", \"Year\": 2015, \"Week\": 18, \"SDATE\": \"2015-04-27\", \"EDATE\": \"2015-05-03\", \"SPEC_RECEIVED_NB\": 10769, \"SPEC_PROCESSED_NB\": 10769, \"AH1\": 0.0, \"AH1N12009\": 4, \"AH3\": 26, \"AH5\": 0.0, \"ANOTSUBTYPED\": 36, \"INF_A\": 67, \"BYAMAGATA\": 0, \"BVICTORIA\": 0, \"BNOTDETERMINED\": 543, \"INF_B\": 543, \"ALL_INF\": 610, \"ALL_INF2\": null, \"TITLE\": \"Sporadic\", \"pct_positive\": 5.66}, {\"Country\": \"United States of America\", \"WHOREGION\": \"Region of the Americas of WHO\", \"FLUREGION\": \"North America\", \"Year\": 2015, \"Week\": 19, \"SDATE\": \"2015-05-04\", \"EDATE\": \"2015-05-10\", \"SPEC_RECEIVED_NB\": 9784, \"SPEC_PROCESSED_NB\": 9784, \"AH1\": 0.0, \"AH1N12009\": 2, \"AH3\": 12, \"AH5\": 0.0, \"ANOTSUBTYPED\": 19, \"INF_A\": 33, \"BYAMAGATA\": 0, \"BVICTORIA\": 0, \"BNOTDETERMINED\": 494, \"INF_B\": 494, \"ALL_INF\": 527, \"ALL_INF2\": null, \"TITLE\": \"Sporadic\", \"pct_positive\": 5.39}, {\"Country\": \"United States of America\", \"WHOREGION\": \"Region of the Americas of WHO\", \"FLUREGION\": \"North America\", \"Year\": 2015, \"Week\": 20, \"SDATE\": \"2015-05-11\", \"EDATE\": \"2015-05-17\", \"SPEC_RECEIVED_NB\": 9188, \"SPEC_PROCESSED_NB\": 9188, \"AH1\": 0.0, \"AH1N12009\": 2, \"AH3\": 16, \"AH5\": 0.0, \"ANOTSUBTYPED\": 26, \"INF_A\": 44, \"BYAMAGATA\": 0, \"BVICTORIA\": 0, \"BNOTDETERMINED\": 340, \"INF_B\": 340, \"ALL_INF\": 384, \"ALL_INF2\": null, \"TITLE\": \"Sporadic\", \"pct_positive\": 4.18}, {\"Country\": \"United States of America\", \"WHOREGION\": \"Region of the Americas of WHO\", \"FLUREGION\": \"North America\", \"Year\": 2015, \"Week\": 21, \"SDATE\": \"2015-05-18\", \"EDATE\": \"2015-05-24\", \"SPEC_RECEIVED_NB\": 8412, \"SPEC_PROCESSED_NB\": 8412, \"AH1\": 0.0, \"AH1N12009\": 0, \"AH3\": 21, \"AH5\": 0.0, \"ANOTSUBTYPED\": 19, \"INF_A\": 40, \"BYAMAGATA\": 0, \"BVICTORIA\": 0, \"BNOTDETERMINED\": 267, \"INF_B\": 267, \"ALL_INF\": 307, \"ALL_INF2\": null, \"TITLE\": \"Sporadic\", \"pct_positive\": 3.65}, {\"Country\": \"United States of America\", \"WHOREGION\": \"Region of the Americas of WHO\", \"FLUREGION\": \"North America\", \"Year\": 2015, \"Week\": 22, \"SDATE\": \"2015-05-25\", \"EDATE\": \"2015-05-31\", \"SPEC_RECEIVED_NB\": 7747, \"SPEC_PROCESSED_NB\": 7747, \"AH1\": 0.0, \"AH1N12009\": 1, \"AH3\": 20, \"AH5\": 0.0, \"ANOTSUBTYPED\": 21, \"INF_A\": 42, \"BYAMAGATA\": 0, \"BVICTORIA\": 0, \"BNOTDETERMINED\": 184, \"INF_B\": 184, \"ALL_INF\": 226, \"ALL_INF2\": null, \"TITLE\": \"Sporadic\", \"pct_positive\": 2.92}, {\"Country\": \"United States of America\", \"WHOREGION\": \"Region of the Americas of WHO\", \"FLUREGION\": \"North America\", \"Year\": 2015, \"Week\": 23, \"SDATE\": \"2015-06-01\", \"EDATE\": \"2015-06-07\", \"SPEC_RECEIVED_NB\": 6991, \"SPEC_PROCESSED_NB\": 6991, \"AH1\": 0.0, \"AH1N12009\": 0, \"AH3\": 20, \"AH5\": 0.0, \"ANOTSUBTYPED\": 22, \"INF_A\": 42, \"BYAMAGATA\": 0, \"BVICTORIA\": 0, \"BNOTDETERMINED\": 151, \"INF_B\": 151, \"ALL_INF\": 193, \"ALL_INF2\": null, \"TITLE\": \"Sporadic\", \"pct_positive\": 2.76}, {\"Country\": \"United States of America\", \"WHOREGION\": \"Region of the Americas of WHO\", \"FLUREGION\": \"North America\", \"Year\": 2015, \"Week\": 24, \"SDATE\": \"2015-06-08\", \"EDATE\": \"2015-06-14\", \"SPEC_RECEIVED_NB\": 6724, \"SPEC_PROCESSED_NB\": 6724, \"AH1\": 0.0, \"AH1N12009\": 1, \"AH3\": 20, \"AH5\": 0.0, \"ANOTSUBTYPED\": 28, \"INF_A\": 49, \"BYAMAGATA\": 0, \"BVICTORIA\": 0, \"BNOTDETERMINED\": 129, \"INF_B\": 129, \"ALL_INF\": 178, \"ALL_INF2\": null, \"TITLE\": \"Sporadic\", \"pct_positive\": 2.65}, {\"Country\": \"United States of America\", \"WHOREGION\": \"Region of the Americas of WHO\", \"FLUREGION\": \"North America\", \"Year\": 2015, \"Week\": 25, \"SDATE\": \"2015-06-15\", \"EDATE\": \"2015-06-21\", \"SPEC_RECEIVED_NB\": 6132, \"SPEC_PROCESSED_NB\": 6132, \"AH1\": 0.0, \"AH1N12009\": 2, \"AH3\": 50, \"AH5\": 0.0, \"ANOTSUBTYPED\": 22, \"INF_A\": 74, \"BYAMAGATA\": 0, \"BVICTORIA\": 0, \"BNOTDETERMINED\": 78, \"INF_B\": 78, \"ALL_INF\": 152, \"ALL_INF2\": null, \"TITLE\": \"Sporadic\", \"pct_positive\": 2.48}, {\"Country\": \"United States of America\", \"WHOREGION\": \"Region of the Americas of WHO\", \"FLUREGION\": \"North America\", \"Year\": 2015, \"Week\": 26, \"SDATE\": \"2015-06-22\", \"EDATE\": \"2015-06-28\", \"SPEC_RECEIVED_NB\": 5557, \"SPEC_PROCESSED_NB\": 5557, \"AH1\": 0.0, \"AH1N12009\": 0, \"AH3\": 51, \"AH5\": 0.0, \"ANOTSUBTYPED\": 24, \"INF_A\": 75, \"BYAMAGATA\": 0, \"BVICTORIA\": 0, \"BNOTDETERMINED\": 46, \"INF_B\": 46, \"ALL_INF\": 121, \"ALL_INF2\": null, \"TITLE\": \"Sporadic\", \"pct_positive\": 2.18}, {\"Country\": \"United States of America\", \"WHOREGION\": \"Region of the Americas of WHO\", \"FLUREGION\": \"North America\", \"Year\": 2015, \"Week\": 27, \"SDATE\": \"2015-06-29\", \"EDATE\": \"2015-07-05\", \"SPEC_RECEIVED_NB\": 5230, \"SPEC_PROCESSED_NB\": 5230, \"AH1\": 0.0, \"AH1N12009\": 2, \"AH3\": 59, \"AH5\": 0.0, \"ANOTSUBTYPED\": 35, \"INF_A\": 96, \"BYAMAGATA\": 0, \"BVICTORIA\": 0, \"BNOTDETERMINED\": 33, \"INF_B\": 33, \"ALL_INF\": 129, \"ALL_INF2\": null, \"TITLE\": \"Sporadic\", \"pct_positive\": 2.47}, {\"Country\": \"United States of America\", \"WHOREGION\": \"Region of the Americas of WHO\", \"FLUREGION\": \"North America\", \"Year\": 2015, \"Week\": 28, \"SDATE\": \"2015-07-06\", \"EDATE\": \"2015-07-12\", \"SPEC_RECEIVED_NB\": 5253, \"SPEC_PROCESSED_NB\": 5253, \"AH1\": 0.0, \"AH1N12009\": 4, \"AH3\": 40, \"AH5\": 0.0, \"ANOTSUBTYPED\": 18, \"INF_A\": 63, \"BYAMAGATA\": 0, \"BVICTORIA\": 0, \"BNOTDETERMINED\": 36, \"INF_B\": 36, \"ALL_INF\": 99, \"ALL_INF2\": null, \"TITLE\": \"Sporadic\", \"pct_positive\": 1.88}, {\"Country\": \"United States of America\", \"WHOREGION\": \"Region of the Americas of WHO\", \"FLUREGION\": \"North America\", \"Year\": 2015, \"Week\": 29, \"SDATE\": \"2015-07-13\", \"EDATE\": \"2015-07-19\", \"SPEC_RECEIVED_NB\": 5034, \"SPEC_PROCESSED_NB\": 5034, \"AH1\": 0.0, \"AH1N12009\": 3, \"AH3\": 35, \"AH5\": 0.0, \"ANOTSUBTYPED\": 11, \"INF_A\": 49, \"BYAMAGATA\": 0, \"BVICTORIA\": 0, \"BNOTDETERMINED\": 37, \"INF_B\": 37, \"ALL_INF\": 86, \"ALL_INF2\": null, \"TITLE\": \"Sporadic\", \"pct_positive\": 1.71}, {\"Country\": \"United States of America\", \"WHOREGION\": \"Region of the Americas of WHO\", \"FLUREGION\": \"North America\", \"Year\": 2015, \"Week\": 30, \"SDATE\": \"2015-07-20\", \"EDATE\": \"2015-07-26\", \"SPEC_RECEIVED_NB\": 4802, \"SPEC_PROCESSED_NB\": 4802, \"AH1\": 0.0, \"AH1N12009\": 4, \"AH3\": 34, \"AH5\": 0.0, \"ANOTSUBTYPED\": 19, \"INF_A\": 57, \"BYAMAGATA\": 0, \"BVICTORIA\": 0, \"BNOTDETERMINED\": 23, \"INF_B\": 23, \"ALL_INF\": 80, \"ALL_INF2\": null, \"TITLE\": \"Sporadic\", \"pct_positive\": 1.67}, {\"Country\": \"United States of America\", \"WHOREGION\": \"Region of the Americas of WHO\", \"FLUREGION\": \"North America\", \"Year\": 2015, \"Week\": 31, \"SDATE\": \"2015-07-27\", \"EDATE\": \"2015-08-02\", \"SPEC_RECEIVED_NB\": 4785, \"SPEC_PROCESSED_NB\": 4785, \"AH1\": 0.0, \"AH1N12009\": 0, \"AH3\": 44, \"AH5\": 0.0, \"ANOTSUBTYPED\": 23, \"INF_A\": 67, \"BYAMAGATA\": 0, \"BVICTORIA\": 0, \"BNOTDETERMINED\": 10, \"INF_B\": 10, \"ALL_INF\": 77, \"ALL_INF2\": null, \"TITLE\": \"Sporadic\", \"pct_positive\": 1.61}, {\"Country\": \"United States of America\", \"WHOREGION\": \"Region of the Americas of WHO\", \"FLUREGION\": \"North America\", \"Year\": 2015, \"Week\": 32, \"SDATE\": \"2015-08-03\", \"EDATE\": \"2015-08-09\", \"SPEC_RECEIVED_NB\": 4781, \"SPEC_PROCESSED_NB\": 4781, \"AH1\": 0.0, \"AH1N12009\": 4, \"AH3\": 50, \"AH5\": 0.0, \"ANOTSUBTYPED\": 20, \"INF_A\": 74, \"BYAMAGATA\": 0, \"BVICTORIA\": 0, \"BNOTDETERMINED\": 17, \"INF_B\": 17, \"ALL_INF\": 91, \"ALL_INF2\": null, \"TITLE\": \"Sporadic\", \"pct_positive\": 1.9}, {\"Country\": \"United States of America\", \"WHOREGION\": \"Region of the Americas of WHO\", \"FLUREGION\": \"North America\", \"Year\": 2015, \"Week\": 33, \"SDATE\": \"2015-08-10\", \"EDATE\": \"2015-08-16\", \"SPEC_RECEIVED_NB\": 4857, \"SPEC_PROCESSED_NB\": 4857, \"AH1\": 0.0, \"AH1N12009\": 3, \"AH3\": 33, \"AH5\": 0.0, \"ANOTSUBTYPED\": 30, \"INF_A\": 66, \"BYAMAGATA\": 0, \"BVICTORIA\": 0, \"BNOTDETERMINED\": 13, \"INF_B\": 13, \"ALL_INF\": 79, \"ALL_INF2\": null, \"TITLE\": \"Sporadic\", \"pct_positive\": 1.63}, {\"Country\": \"United States of America\", \"WHOREGION\": \"Region of the Americas of WHO\", \"FLUREGION\": \"North America\", \"Year\": 2015, \"Week\": 34, \"SDATE\": \"2015-08-17\", \"EDATE\": \"2015-08-23\", \"SPEC_RECEIVED_NB\": 5118, \"SPEC_PROCESSED_NB\": 5118, \"AH1\": 0.0, \"AH1N12009\": 2, \"AH3\": 53, \"AH5\": 0.0, \"ANOTSUBTYPED\": 25, \"INF_A\": 80, \"BYAMAGATA\": 0, \"BVICTORIA\": 0, \"BNOTDETERMINED\": 16, \"INF_B\": 16, \"ALL_INF\": 96, \"ALL_INF2\": null, \"TITLE\": \"Sporadic\", \"pct_positive\": 1.88}, {\"Country\": \"United States of America\", \"WHOREGION\": \"Region of the Americas of WHO\", \"FLUREGION\": \"North America\", \"Year\": 2015, \"Week\": 35, \"SDATE\": \"2015-08-24\", \"EDATE\": \"2015-08-30\", \"SPEC_RECEIVED_NB\": 5322, \"SPEC_PROCESSED_NB\": 5322, \"AH1\": 0.0, \"AH1N12009\": 3, \"AH3\": 42, \"AH5\": 0.0, \"ANOTSUBTYPED\": 33, \"INF_A\": 78, \"BYAMAGATA\": 0, \"BVICTORIA\": 0, \"BNOTDETERMINED\": 20, \"INF_B\": 20, \"ALL_INF\": 98, \"ALL_INF2\": null, \"TITLE\": \"Sporadic\", \"pct_positive\": 1.84}, {\"Country\": \"United States of America\", \"WHOREGION\": \"Region of the Americas of WHO\", \"FLUREGION\": \"North America\", \"Year\": 2015, \"Week\": 36, \"SDATE\": \"2015-08-31\", \"EDATE\": \"2015-09-06\", \"SPEC_RECEIVED_NB\": 5979, \"SPEC_PROCESSED_NB\": 5979, \"AH1\": 0.0, \"AH1N12009\": 3, \"AH3\": 63, \"AH5\": 0.0, \"ANOTSUBTYPED\": 41, \"INF_A\": 107, \"BYAMAGATA\": 0, \"BVICTORIA\": 0, \"BNOTDETERMINED\": 27, \"INF_B\": 27, \"ALL_INF\": 134, \"ALL_INF2\": null, \"TITLE\": \"Sporadic\", \"pct_positive\": 2.24}, {\"Country\": \"United States of America\", \"WHOREGION\": \"Region of the Americas of WHO\", \"FLUREGION\": \"North America\", \"Year\": 2015, \"Week\": 37, \"SDATE\": \"2015-09-07\", \"EDATE\": \"2015-09-13\", \"SPEC_RECEIVED_NB\": 6493, \"SPEC_PROCESSED_NB\": 6493, \"AH1\": 0.0, \"AH1N12009\": 1, \"AH3\": 70, \"AH5\": 0.0, \"ANOTSUBTYPED\": 32, \"INF_A\": 103, \"BYAMAGATA\": 0, \"BVICTORIA\": 0, \"BNOTDETERMINED\": 28, \"INF_B\": 28, \"ALL_INF\": 131, \"ALL_INF2\": null, \"TITLE\": \"Sporadic\", \"pct_positive\": 2.02}, {\"Country\": \"United States of America\", \"WHOREGION\": \"Region of the Americas of WHO\", \"FLUREGION\": \"North America\", \"Year\": 2015, \"Week\": 38, \"SDATE\": \"2015-09-14\", \"EDATE\": \"2015-09-20\", \"SPEC_RECEIVED_NB\": 6854, \"SPEC_PROCESSED_NB\": 6854, \"AH1\": 0.0, \"AH1N12009\": 3, \"AH3\": 76, \"AH5\": 0.0, \"ANOTSUBTYPED\": 55, \"INF_A\": 134, \"BYAMAGATA\": 0, \"BVICTORIA\": 0, \"BNOTDETERMINED\": 33, \"INF_B\": 33, \"ALL_INF\": 167, \"ALL_INF2\": null, \"TITLE\": \"Sporadic\", \"pct_positive\": 2.44}, {\"Country\": \"United States of America\", \"WHOREGION\": \"Region of the Americas of WHO\", \"FLUREGION\": \"North America\", \"Year\": 2015, \"Week\": 39, \"SDATE\": \"2015-09-21\", \"EDATE\": \"2015-09-27\", \"SPEC_RECEIVED_NB\": 7253, \"SPEC_PROCESSED_NB\": 7253, \"AH1\": 0.0, \"AH1N12009\": 0, \"AH3\": 27, \"AH5\": 0.0, \"ANOTSUBTYPED\": 55, \"INF_A\": 82, \"BYAMAGATA\": 0, \"BVICTORIA\": 0, \"BNOTDETERMINED\": 33, \"INF_B\": 33, \"ALL_INF\": 115, \"ALL_INF2\": null, \"TITLE\": \"Sporadic\", \"pct_positive\": 1.59}, {\"Country\": \"United States of America\", \"WHOREGION\": \"Region of the Americas of WHO\", \"FLUREGION\": \"North America\", \"Year\": 2015, \"Week\": 40, \"SDATE\": \"2015-09-28\", \"EDATE\": \"2015-10-04\", \"SPEC_RECEIVED_NB\": 6354, \"SPEC_PROCESSED_NB\": 6354, \"AH1\": 0.0, \"AH1N12009\": 6, \"AH3\": 17, \"AH5\": 0.0, \"ANOTSUBTYPED\": 50, \"INF_A\": 73, \"BYAMAGATA\": 0, \"BVICTORIA\": 0, \"BNOTDETERMINED\": 32, \"INF_B\": 32, \"ALL_INF\": 105, \"ALL_INF2\": null, \"TITLE\": \"Sporadic\", \"pct_positive\": 1.65}, {\"Country\": \"United States of America\", \"WHOREGION\": \"Region of the Americas of WHO\", \"FLUREGION\": \"North America\", \"Year\": 2015, \"Week\": 41, \"SDATE\": \"2015-10-05\", \"EDATE\": \"2015-10-11\", \"SPEC_RECEIVED_NB\": 13168, \"SPEC_PROCESSED_NB\": 13168, \"AH1\": 0.0, \"AH1N12009\": 4, \"AH3\": 65, \"AH5\": null, \"ANOTSUBTYPED\": 86, \"INF_A\": 155, \"BYAMAGATA\": 1, \"BVICTORIA\": 0, \"BNOTDETERMINED\": 53, \"INF_B\": 54, \"ALL_INF\": 209, \"ALL_INF2\": 12959.0, \"TITLE\": \"Sporadic\", \"pct_positive\": 1.59}, {\"Country\": \"United States of America\", \"WHOREGION\": \"Region of the Americas of WHO\", \"FLUREGION\": \"North America\", \"Year\": 2015, \"Week\": 42, \"SDATE\": \"2015-10-12\", \"EDATE\": \"2015-10-18\", \"SPEC_RECEIVED_NB\": 14263, \"SPEC_PROCESSED_NB\": 14263, \"AH1\": 0.0, \"AH1N12009\": 5, \"AH3\": 41, \"AH5\": null, \"ANOTSUBTYPED\": 118, \"INF_A\": 164, \"BYAMAGATA\": 0, \"BVICTORIA\": 3, \"BNOTDETERMINED\": 61, \"INF_B\": 64, \"ALL_INF\": 228, \"ALL_INF2\": 14035.0, \"TITLE\": \"Sporadic\", \"pct_positive\": 1.6}, {\"Country\": \"United States of America\", \"WHOREGION\": \"Region of the Americas of WHO\", \"FLUREGION\": \"North America\", \"Year\": 2015, \"Week\": 43, \"SDATE\": \"2015-10-19\", \"EDATE\": \"2015-10-25\", \"SPEC_RECEIVED_NB\": 14639, \"SPEC_PROCESSED_NB\": 14639, \"AH1\": 0.0, \"AH1N12009\": 10, \"AH3\": 50, \"AH5\": null, \"ANOTSUBTYPED\": 98, \"INF_A\": 158, \"BYAMAGATA\": 2, \"BVICTORIA\": 3, \"BNOTDETERMINED\": 60, \"INF_B\": 65, \"ALL_INF\": 223, \"ALL_INF2\": 14416.0, \"TITLE\": \"Sporadic\", \"pct_positive\": 1.52}, {\"Country\": \"United States of America\", \"WHOREGION\": \"Region of the Americas of WHO\", \"FLUREGION\": \"North America\", \"Year\": 2015, \"Week\": 44, \"SDATE\": \"2015-10-26\", \"EDATE\": \"2015-11-01\", \"SPEC_RECEIVED_NB\": 14781, \"SPEC_PROCESSED_NB\": 14781, \"AH1\": 0.0, \"AH1N12009\": 9, \"AH3\": 31, \"AH5\": null, \"ANOTSUBTYPED\": 102, \"INF_A\": 142, \"BYAMAGATA\": 4, \"BVICTORIA\": 1, \"BNOTDETERMINED\": 61, \"INF_B\": 66, \"ALL_INF\": 208, \"ALL_INF2\": 14573.0, \"TITLE\": \"Sporadic\", \"pct_positive\": 1.41}, {\"Country\": \"United States of America\", \"WHOREGION\": \"Region of the Americas of WHO\", \"FLUREGION\": \"North America\", \"Year\": 2015, \"Week\": 45, \"SDATE\": \"2015-11-02\", \"EDATE\": \"2015-11-08\", \"SPEC_RECEIVED_NB\": 16152, \"SPEC_PROCESSED_NB\": 16152, \"AH1\": 0.0, \"AH1N12009\": 4, \"AH3\": 23, \"AH5\": null, \"ANOTSUBTYPED\": 101, \"INF_A\": 128, \"BYAMAGATA\": 4, \"BVICTORIA\": 1, \"BNOTDETERMINED\": 77, \"INF_B\": 82, \"ALL_INF\": 210, \"ALL_INF2\": 15942.0, \"TITLE\": \"Sporadic\", \"pct_positive\": 1.3}, {\"Country\": \"United States of America\", \"WHOREGION\": \"Region of the Americas of WHO\", \"FLUREGION\": \"North America\", \"Year\": 2015, \"Week\": 46, \"SDATE\": \"2015-11-09\", \"EDATE\": \"2015-11-15\", \"SPEC_RECEIVED_NB\": 16441, \"SPEC_PROCESSED_NB\": 16441, \"AH1\": 0.0, \"AH1N12009\": 11, \"AH3\": 34, \"AH5\": null, \"ANOTSUBTYPED\": 123, \"INF_A\": 168, \"BYAMAGATA\": 2, \"BVICTORIA\": 4, \"BNOTDETERMINED\": 96, \"INF_B\": 102, \"ALL_INF\": 270, \"ALL_INF2\": 16171.0, \"TITLE\": \"Local Outbreak\", \"pct_positive\": 1.64}, {\"Country\": \"United States of America\", \"WHOREGION\": \"Region of the Americas of WHO\", \"FLUREGION\": \"North America\", \"Year\": 2015, \"Week\": 47, \"SDATE\": \"2015-11-16\", \"EDATE\": \"2015-11-22\", \"SPEC_RECEIVED_NB\": 16708, \"SPEC_PROCESSED_NB\": 16708, \"AH1\": 0.0, \"AH1N12009\": 17, \"AH3\": 42, \"AH5\": null, \"ANOTSUBTYPED\": 85, \"INF_A\": 144, \"BYAMAGATA\": 4, \"BVICTORIA\": 0, \"BNOTDETERMINED\": 102, \"INF_B\": 106, \"ALL_INF\": 250, \"ALL_INF2\": 16458.0, \"TITLE\": \"No Report\", \"pct_positive\": 1.5}, {\"Country\": \"United States of America\", \"WHOREGION\": \"Region of the Americas of WHO\", \"FLUREGION\": \"North America\", \"Year\": 2015, \"Week\": 48, \"SDATE\": \"2015-11-23\", \"EDATE\": \"2015-11-29\", \"SPEC_RECEIVED_NB\": 16391, \"SPEC_PROCESSED_NB\": 16391, \"AH1\": 0.0, \"AH1N12009\": 17, \"AH3\": 24, \"AH5\": null, \"ANOTSUBTYPED\": 119, \"INF_A\": 160, \"BYAMAGATA\": 9, \"BVICTORIA\": 3, \"BNOTDETERMINED\": 96, \"INF_B\": 108, \"ALL_INF\": 268, \"ALL_INF2\": 16123.0, \"TITLE\": \"No Report\", \"pct_positive\": 1.64}, {\"Country\": \"United States of America\", \"WHOREGION\": \"Region of the Americas of WHO\", \"FLUREGION\": \"North America\", \"Year\": 2015, \"Week\": 49, \"SDATE\": \"2015-11-30\", \"EDATE\": \"2015-12-06\", \"SPEC_RECEIVED_NB\": 17751, \"SPEC_PROCESSED_NB\": 17751, \"AH1\": 0.0, \"AH1N12009\": 27, \"AH3\": 36, \"AH5\": null, \"ANOTSUBTYPED\": 148, \"INF_A\": 211, \"BYAMAGATA\": 12, \"BVICTORIA\": 3, \"BNOTDETERMINED\": 90, \"INF_B\": 105, \"ALL_INF\": 316, \"ALL_INF2\": 17435.0, \"TITLE\": \"No Report\", \"pct_positive\": 1.78}, {\"Country\": \"United States of America\", \"WHOREGION\": \"Region of the Americas of WHO\", \"FLUREGION\": \"North America\", \"Year\": 2015, \"Week\": 50, \"SDATE\": \"2015-12-07\", \"EDATE\": \"2015-12-13\", \"SPEC_RECEIVED_NB\": 18191, \"SPEC_PROCESSED_NB\": 18191, \"AH1\": 0.0, \"AH1N12009\": 38, \"AH3\": 37, \"AH5\": null, \"ANOTSUBTYPED\": 143, \"INF_A\": 218, \"BYAMAGATA\": 11, \"BVICTORIA\": 2, \"BNOTDETERMINED\": 117, \"INF_B\": 130, \"ALL_INF\": 348, \"ALL_INF2\": 17843.0, \"TITLE\": \"No Report\", \"pct_positive\": 1.91}, {\"Country\": \"United States of America\", \"WHOREGION\": \"Region of the Americas of WHO\", \"FLUREGION\": \"North America\", \"Year\": 2015, \"Week\": 51, \"SDATE\": \"2015-12-14\", \"EDATE\": \"2015-12-20\", \"SPEC_RECEIVED_NB\": 18833, \"SPEC_PROCESSED_NB\": 18833, \"AH1\": 0.0, \"AH1N12009\": 69, \"AH3\": 39, \"AH5\": null, \"ANOTSUBTYPED\": 244, \"INF_A\": 352, \"BYAMAGATA\": 19, \"BVICTORIA\": 4, \"BNOTDETERMINED\": 202, \"INF_B\": 225, \"ALL_INF\": 577, \"ALL_INF2\": 18256.0, \"TITLE\": \"No Report\", \"pct_positive\": 3.06}, {\"Country\": \"United States of America\", \"WHOREGION\": \"Region of the Americas of WHO\", \"FLUREGION\": \"North America\", \"Year\": 2015, \"Week\": 52, \"SDATE\": \"2015-12-21\", \"EDATE\": \"2015-12-27\", \"SPEC_RECEIVED_NB\": 18123, \"SPEC_PROCESSED_NB\": 18123, \"AH1\": 0.0, \"AH1N12009\": 89, \"AH3\": 33, \"AH5\": null, \"ANOTSUBTYPED\": 221, \"INF_A\": 343, \"BYAMAGATA\": 28, \"BVICTORIA\": 3, \"BNOTDETERMINED\": 178, \"INF_B\": 209, \"ALL_INF\": 552, \"ALL_INF2\": 17571.0, \"TITLE\": \"No Report\", \"pct_positive\": 3.05}, {\"Country\": \"United States of America\", \"WHOREGION\": \"Region of the Americas of WHO\", \"FLUREGION\": \"North America\", \"Year\": 2015, \"Week\": 53, \"SDATE\": \"2015-12-28\", \"EDATE\": \"2016-01-03\", \"SPEC_RECEIVED_NB\": 20350, \"SPEC_PROCESSED_NB\": 20350, \"AH1\": 0.0, \"AH1N12009\": 146, \"AH3\": 56, \"AH5\": null, \"ANOTSUBTYPED\": 265, \"INF_A\": 467, \"BYAMAGATA\": 35, \"BVICTORIA\": 9, \"BNOTDETERMINED\": 213, \"INF_B\": 257, \"ALL_INF\": 724, \"ALL_INF2\": 19626.0, \"TITLE\": \"No Report\", \"pct_positive\": 3.56}, {\"Country\": \"United States of America\", \"WHOREGION\": \"Region of the Americas of WHO\", \"FLUREGION\": \"North America\", \"Year\": 2016, \"Week\": 1, \"SDATE\": \"2016-01-04\", \"EDATE\": \"2016-01-10\", \"SPEC_RECEIVED_NB\": 21627, \"SPEC_PROCESSED_NB\": 21627, \"AH1\": 0.0, \"AH1N12009\": 232, \"AH3\": 68, \"AH5\": null, \"ANOTSUBTYPED\": 398, \"INF_A\": 698, \"BYAMAGATA\": 52, \"BVICTORIA\": 12, \"BNOTDETERMINED\": 198, \"INF_B\": 262, \"ALL_INF\": 960, \"ALL_INF2\": 20667.0, \"TITLE\": \"No Report\", \"pct_positive\": 4.44}, {\"Country\": \"United States of America\", \"WHOREGION\": \"Region of the Americas of WHO\", \"FLUREGION\": \"North America\", \"Year\": 2016, \"Week\": 2, \"SDATE\": \"2016-01-11\", \"EDATE\": \"2016-01-17\", \"SPEC_RECEIVED_NB\": 20437, \"SPEC_PROCESSED_NB\": 20437, \"AH1\": 0.0, \"AH1N12009\": 256, \"AH3\": 89, \"AH5\": null, \"ANOTSUBTYPED\": 576, \"INF_A\": 921, \"BYAMAGATA\": 60, \"BVICTORIA\": 23, \"BNOTDETERMINED\": 271, \"INF_B\": 354, \"ALL_INF\": 1275, \"ALL_INF2\": 19162.0, \"TITLE\": \"No Report\", \"pct_positive\": 6.24}, {\"Country\": \"United States of America\", \"WHOREGION\": \"Region of the Americas of WHO\", \"FLUREGION\": \"North America\", \"Year\": 2016, \"Week\": 3, \"SDATE\": \"2016-01-18\", \"EDATE\": \"2016-01-24\", \"SPEC_RECEIVED_NB\": 20744, \"SPEC_PROCESSED_NB\": 20744, \"AH1\": 0.0, \"AH1N12009\": 361, \"AH3\": 100, \"AH5\": null, \"ANOTSUBTYPED\": 729, \"INF_A\": 1190, \"BYAMAGATA\": 83, \"BVICTORIA\": 25, \"BNOTDETERMINED\": 360, \"INF_B\": 468, \"ALL_INF\": 1658, \"ALL_INF2\": 19086.0, \"TITLE\": \"No Report\", \"pct_positive\": 7.99}, {\"Country\": \"United States of America\", \"WHOREGION\": \"Region of the Americas of WHO\", \"FLUREGION\": \"North America\", \"Year\": 2016, \"Week\": 4, \"SDATE\": \"2016-01-25\", \"EDATE\": \"2016-01-31\", \"SPEC_RECEIVED_NB\": 23359, \"SPEC_PROCESSED_NB\": 23359, \"AH1\": 0.0, \"AH1N12009\": 526, \"AH3\": 160, \"AH5\": null, \"ANOTSUBTYPED\": 1050, \"INF_A\": 1736, \"BYAMAGATA\": 104, \"BVICTORIA\": 28, \"BNOTDETERMINED\": 509, \"INF_B\": 641, \"ALL_INF\": 2377, \"ALL_INF2\": 20982.0, \"TITLE\": \"No Report\", \"pct_positive\": 10.18}, {\"Country\": \"United States of America\", \"WHOREGION\": \"Region of the Americas of WHO\", \"FLUREGION\": \"North America\", \"Year\": 2016, \"Week\": 5, \"SDATE\": \"2016-02-01\", \"EDATE\": \"2016-02-07\", \"SPEC_RECEIVED_NB\": 24988, \"SPEC_PROCESSED_NB\": 24988, \"AH1\": 0.0, \"AH1N12009\": 672, \"AH3\": 171, \"AH5\": null, \"ANOTSUBTYPED\": 1585, \"INF_A\": 2428, \"BYAMAGATA\": 143, \"BVICTORIA\": 62, \"BNOTDETERMINED\": 685, \"INF_B\": 890, \"ALL_INF\": 3318, \"ALL_INF2\": 21670.0, \"TITLE\": \"No Report\", \"pct_positive\": 13.28}, {\"Country\": \"United States of America\", \"WHOREGION\": \"Region of the Americas of WHO\", \"FLUREGION\": \"North America\", \"Year\": 2016, \"Week\": 6, \"SDATE\": \"2016-02-08\", \"EDATE\": \"2016-02-14\", \"SPEC_RECEIVED_NB\": 28136, \"SPEC_PROCESSED_NB\": 28136, \"AH1\": 0.0, \"AH1N12009\": 891, \"AH3\": 236, \"AH5\": null, \"ANOTSUBTYPED\": 2282, \"INF_A\": 3409, \"BYAMAGATA\": 206, \"BVICTORIA\": 71, \"BNOTDETERMINED\": 1025, \"INF_B\": 1302, \"ALL_INF\": 4711, \"ALL_INF2\": 23425.0, \"TITLE\": \"No Report\", \"pct_positive\": 16.74}, {\"Country\": \"United States of America\", \"WHOREGION\": \"Region of the Americas of WHO\", \"FLUREGION\": \"North America\", \"Year\": 2016, \"Week\": 7, \"SDATE\": \"2016-02-15\", \"EDATE\": \"2016-02-21\", \"SPEC_RECEIVED_NB\": 31106, \"SPEC_PROCESSED_NB\": 31106, \"AH1\": 0.0, \"AH1N12009\": 1340, \"AH3\": 256, \"AH5\": null, \"ANOTSUBTYPED\": 3154, \"INF_A\": 4750, \"BYAMAGATA\": 309, \"BVICTORIA\": 103, \"BNOTDETERMINED\": 1271, \"INF_B\": 1683, \"ALL_INF\": 6433, \"ALL_INF2\": 24673.0, \"TITLE\": \"No Report\", \"pct_positive\": 20.68}, {\"Country\": \"United States of America\", \"WHOREGION\": \"Region of the Americas of WHO\", \"FLUREGION\": \"North America\", \"Year\": 2016, \"Week\": 8, \"SDATE\": \"2016-02-22\", \"EDATE\": \"2016-02-28\", \"SPEC_RECEIVED_NB\": 35517, \"SPEC_PROCESSED_NB\": 35517, \"AH1\": 0.0, \"AH1N12009\": 1672, \"AH3\": 232, \"AH5\": null, \"ANOTSUBTYPED\": 4438, \"INF_A\": 6342, \"BYAMAGATA\": 383, \"BVICTORIA\": 156, \"BNOTDETERMINED\": 1491, \"INF_B\": 2030, \"ALL_INF\": 8372, \"ALL_INF2\": 27145.0, \"TITLE\": \"No Report\", \"pct_positive\": 23.57}, {\"Country\": \"United States of America\", \"WHOREGION\": \"Region of the Americas of WHO\", \"FLUREGION\": \"North America\", \"Year\": 2016, \"Week\": 9, \"SDATE\": \"2016-02-29\", \"EDATE\": \"2016-03-06\", \"SPEC_RECEIVED_NB\": 38567, \"SPEC_PROCESSED_NB\": 38567, \"AH1\": 0.0, \"AH1N12009\": 1886, \"AH3\": 313, \"AH5\": null, \"ANOTSUBTYPED\": 5555, \"INF_A\": 7754, \"BYAMAGATA\": 347, \"BVICTORIA\": 143, \"BNOTDETERMINED\": 1840, \"INF_B\": 2330, \"ALL_INF\": 10084, \"ALL_INF2\": 28483.0, \"TITLE\": \"No Report\", \"pct_positive\": 26.15}, {\"Country\": \"United States of America\", \"WHOREGION\": \"Region of the Americas of WHO\", \"FLUREGION\": \"North America\", \"Year\": 2016, \"Week\": 10, \"SDATE\": \"2016-03-07\", \"EDATE\": \"2016-03-13\", \"SPEC_RECEIVED_NB\": 41876, \"SPEC_PROCESSED_NB\": 41876, \"AH1\": 0.0, \"AH1N12009\": 2173, \"AH3\": 313, \"AH5\": null, \"ANOTSUBTYPED\": 6726, \"INF_A\": 9212, \"BYAMAGATA\": 333, \"BVICTORIA\": 162, \"BNOTDETERMINED\": 2264, \"INF_B\": 2759, \"ALL_INF\": 11971, \"ALL_INF2\": 29905.0, \"TITLE\": \"No Report\", \"pct_positive\": 28.59}, {\"Country\": \"United States of America\", \"WHOREGION\": \"Region of the Americas of WHO\", \"FLUREGION\": \"North America\", \"Year\": 2016, \"Week\": 11, \"SDATE\": \"2016-03-14\", \"EDATE\": \"2016-03-20\", \"SPEC_RECEIVED_NB\": 38344, \"SPEC_PROCESSED_NB\": 38344, \"AH1\": 0.0, \"AH1N12009\": 1514, \"AH3\": 213, \"AH5\": null, \"ANOTSUBTYPED\": 5071, \"INF_A\": 6798, \"BYAMAGATA\": 278, \"BVICTORIA\": 154, \"BNOTDETERMINED\": 1975, \"INF_B\": 2407, \"ALL_INF\": 9205, \"ALL_INF2\": 29139.0, \"TITLE\": \"No Report\", \"pct_positive\": 24.01}, {\"Country\": \"United States of America\", \"WHOREGION\": \"Region of the Americas of WHO\", \"FLUREGION\": \"North America\", \"Year\": 2016, \"Week\": 12, \"SDATE\": \"2016-03-21\", \"EDATE\": \"2016-03-27\", \"SPEC_RECEIVED_NB\": 33518, \"SPEC_PROCESSED_NB\": 33518, \"AH1\": 0.0, \"AH1N12009\": 1058, \"AH3\": 198, \"AH5\": null, \"ANOTSUBTYPED\": 3938, \"INF_A\": 5194, \"BYAMAGATA\": 207, \"BVICTORIA\": 117, \"BNOTDETERMINED\": 1837, \"INF_B\": 2161, \"ALL_INF\": 7355, \"ALL_INF2\": 26163.0, \"TITLE\": \"No Report\", \"pct_positive\": 21.94}, {\"Country\": \"United States of America\", \"WHOREGION\": \"Region of the Americas of WHO\", \"FLUREGION\": \"North America\", \"Year\": 2016, \"Week\": 13, \"SDATE\": \"2016-03-28\", \"EDATE\": \"2016-04-03\", \"SPEC_RECEIVED_NB\": 30674, \"SPEC_PROCESSED_NB\": 30674, \"AH1\": 0.0, \"AH1N12009\": 807, \"AH3\": 180, \"AH5\": null, \"ANOTSUBTYPED\": 2998, \"INF_A\": 3985, \"BYAMAGATA\": 211, \"BVICTORIA\": 127, \"BNOTDETERMINED\": 1722, \"INF_B\": 2060, \"ALL_INF\": 6045, \"ALL_INF2\": 24629.0, \"TITLE\": \"No Report\", \"pct_positive\": 19.71}, {\"Country\": \"United States of America\", \"WHOREGION\": \"Region of the Americas of WHO\", \"FLUREGION\": \"North America\", \"Year\": 2016, \"Week\": 14, \"SDATE\": \"2016-04-04\", \"EDATE\": \"2016-04-10\", \"SPEC_RECEIVED_NB\": 26382, \"SPEC_PROCESSED_NB\": 26382, \"AH1\": 0.0, \"AH1N12009\": 534, \"AH3\": 135, \"AH5\": null, \"ANOTSUBTYPED\": 2004, \"INF_A\": 2673, \"BYAMAGATA\": 163, \"BVICTORIA\": 106, \"BNOTDETERMINED\": 1563, \"INF_B\": 1832, \"ALL_INF\": 4505, \"ALL_INF2\": 21877.0, \"TITLE\": \"No Report\", \"pct_positive\": 17.08}, {\"Country\": \"United States of America\", \"WHOREGION\": \"Region of the Americas of WHO\", \"FLUREGION\": \"North America\", \"Year\": 2016, \"Week\": 15, \"SDATE\": \"2016-04-11\", \"EDATE\": \"2016-04-17\", \"SPEC_RECEIVED_NB\": 23773, \"SPEC_PROCESSED_NB\": 23773, \"AH1\": 0.0, \"AH1N12009\": 383, \"AH3\": 117, \"AH5\": null, \"ANOTSUBTYPED\": 1522, \"INF_A\": 2022, \"BYAMAGATA\": 162, \"BVICTORIA\": 88, \"BNOTDETERMINED\": 1512, \"INF_B\": 1762, \"ALL_INF\": 3784, \"ALL_INF2\": 19989.0, \"TITLE\": \"No Report\", \"pct_positive\": 15.92}, {\"Country\": \"United States of America\", \"WHOREGION\": \"Region of the Americas of WHO\", \"FLUREGION\": \"North America\", \"Year\": 2016, \"Week\": 16, \"SDATE\": \"2016-04-18\", \"EDATE\": \"2016-04-24\", \"SPEC_RECEIVED_NB\": 21676, \"SPEC_PROCESSED_NB\": 21676, \"AH1\": 0.0, \"AH1N12009\": 276, \"AH3\": 127, \"AH5\": null, \"ANOTSUBTYPED\": 1139, \"INF_A\": 1542, \"BYAMAGATA\": 163, \"BVICTORIA\": 86, \"BNOTDETERMINED\": 1487, \"INF_B\": 1736, \"ALL_INF\": 3278, \"ALL_INF2\": 18398.0, \"TITLE\": \"No Report\", \"pct_positive\": 15.12}, {\"Country\": \"United States of America\", \"WHOREGION\": \"Region of the Americas of WHO\", \"FLUREGION\": \"North America\", \"Year\": 2016, \"Week\": 17, \"SDATE\": \"2016-04-25\", \"EDATE\": \"2016-05-01\", \"SPEC_RECEIVED_NB\": 19461, \"SPEC_PROCESSED_NB\": 19461, \"AH1\": 0.0, \"AH1N12009\": 167, \"AH3\": 98, \"AH5\": null, \"ANOTSUBTYPED\": 706, \"INF_A\": 971, \"BYAMAGATA\": 119, \"BVICTORIA\": 78, \"BNOTDETERMINED\": 1237, \"INF_B\": 1434, \"ALL_INF\": 2405, \"ALL_INF2\": 17056.0, \"TITLE\": \"No Report\", \"pct_positive\": 12.36}, {\"Country\": \"United States of America\", \"WHOREGION\": \"Region of the Americas of WHO\", \"FLUREGION\": \"North America\", \"Year\": 2016, \"Week\": 18, \"SDATE\": \"2016-05-02\", \"EDATE\": \"2016-05-08\", \"SPEC_RECEIVED_NB\": 16505, \"SPEC_PROCESSED_NB\": 16505, \"AH1\": 0.0, \"AH1N12009\": 77, \"AH3\": 59, \"AH5\": null, \"ANOTSUBTYPED\": 429, \"INF_A\": 565, \"BYAMAGATA\": 82, \"BVICTORIA\": 53, \"BNOTDETERMINED\": 902, \"INF_B\": 1037, \"ALL_INF\": 1602, \"ALL_INF2\": 14903.0, \"TITLE\": \"No Report\", \"pct_positive\": 9.71}, {\"Country\": \"United States of America\", \"WHOREGION\": \"Region of the Americas of WHO\", \"FLUREGION\": \"North America\", \"Year\": 2016, \"Week\": 19, \"SDATE\": \"2016-05-09\", \"EDATE\": \"2016-05-15\", \"SPEC_RECEIVED_NB\": 15109, \"SPEC_PROCESSED_NB\": 15109, \"AH1\": 0.0, \"AH1N12009\": 53, \"AH3\": 62, \"AH5\": null, \"ANOTSUBTYPED\": 282, \"INF_A\": 397, \"BYAMAGATA\": 71, \"BVICTORIA\": 36, \"BNOTDETERMINED\": 715, \"INF_B\": 822, \"ALL_INF\": 1219, \"ALL_INF2\": 13890.0, \"TITLE\": \"No Report\", \"pct_positive\": 8.07}, {\"Country\": \"United States of America\", \"WHOREGION\": \"Region of the Americas of WHO\", \"FLUREGION\": \"North America\", \"Year\": 2016, \"Week\": 20, \"SDATE\": \"2016-05-16\", \"EDATE\": \"2016-05-22\", \"SPEC_RECEIVED_NB\": 13361, \"SPEC_PROCESSED_NB\": 13361, \"AH1\": 0.0, \"AH1N12009\": 35, \"AH3\": 77, \"AH5\": null, \"ANOTSUBTYPED\": 228, \"INF_A\": 340, \"BYAMAGATA\": 50, \"BVICTORIA\": 14, \"BNOTDETERMINED\": 549, \"INF_B\": 613, \"ALL_INF\": 953, \"ALL_INF2\": 12408.0, \"TITLE\": \"No Report\", \"pct_positive\": 7.13}, {\"Country\": \"United States of America\", \"WHOREGION\": \"Region of the Americas of WHO\", \"FLUREGION\": \"North America\", \"Year\": 2016, \"Week\": 21, \"SDATE\": \"2016-05-23\", \"EDATE\": \"2016-05-29\", \"SPEC_RECEIVED_NB\": 12230, \"SPEC_PROCESSED_NB\": 12230, \"AH1\": 0.0, \"AH1N12009\": 16, \"AH3\": 44, \"AH5\": null, \"ANOTSUBTYPED\": 141, \"INF_A\": 201, \"BYAMAGATA\": 32, \"BVICTORIA\": 22, \"BNOTDETERMINED\": 438, \"INF_B\": 492, \"ALL_INF\": 693, \"ALL_INF2\": 11537.0, \"TITLE\": \"No Report\", \"pct_positive\": 5.67}, {\"Country\": \"United States of America\", \"WHOREGION\": \"Region of the Americas of WHO\", \"FLUREGION\": \"North America\", \"Year\": 2016, \"Week\": 22, \"SDATE\": \"2016-05-30\", \"EDATE\": \"2016-06-05\", \"SPEC_RECEIVED_NB\": 10549, \"SPEC_PROCESSED_NB\": 10549, \"AH1\": 0.0, \"AH1N12009\": 4, \"AH3\": 13, \"AH5\": null, \"ANOTSUBTYPED\": 83, \"INF_A\": 100, \"BYAMAGATA\": 35, \"BVICTORIA\": 14, \"BNOTDETERMINED\": 250, \"INF_B\": 299, \"ALL_INF\": 399, \"ALL_INF2\": 10150.0, \"TITLE\": \"No Report\", \"pct_positive\": 3.78}, {\"Country\": \"United States of America\", \"WHOREGION\": \"Region of the Americas of WHO\", \"FLUREGION\": \"North America\", \"Year\": 2016, \"Week\": 23, \"SDATE\": \"2016-06-06\", \"EDATE\": \"2016-06-12\", \"SPEC_RECEIVED_NB\": 9636, \"SPEC_PROCESSED_NB\": 9636, \"AH1\": 0.0, \"AH1N12009\": 5, \"AH3\": 15, \"AH5\": null, \"ANOTSUBTYPED\": 71, \"INF_A\": 91, \"BYAMAGATA\": 17, \"BVICTORIA\": 6, \"BNOTDETERMINED\": 221, \"INF_B\": 244, \"ALL_INF\": 335, \"ALL_INF2\": 9301.0, \"TITLE\": \"No Report\", \"pct_positive\": 3.48}, {\"Country\": \"United States of America\", \"WHOREGION\": \"Region of the Americas of WHO\", \"FLUREGION\": \"North America\", \"Year\": 2016, \"Week\": 24, \"SDATE\": \"2016-06-13\", \"EDATE\": \"2016-06-19\", \"SPEC_RECEIVED_NB\": 8788, \"SPEC_PROCESSED_NB\": 8788, \"AH1\": 0.0, \"AH1N12009\": 7, \"AH3\": 18, \"AH5\": null, \"ANOTSUBTYPED\": 59, \"INF_A\": 84, \"BYAMAGATA\": 10, \"BVICTORIA\": 6, \"BNOTDETERMINED\": 100, \"INF_B\": 116, \"ALL_INF\": 200, \"ALL_INF2\": 8588.0, \"TITLE\": \"No Report\", \"pct_positive\": 2.28}, {\"Country\": \"United States of America\", \"WHOREGION\": \"Region of the Americas of WHO\", \"FLUREGION\": \"North America\", \"Year\": 2016, \"Week\": 25, \"SDATE\": \"2016-06-20\", \"EDATE\": \"2016-06-26\", \"SPEC_RECEIVED_NB\": 7737, \"SPEC_PROCESSED_NB\": 7737, \"AH1\": 0.0, \"AH1N12009\": 5, \"AH3\": 22, \"AH5\": null, \"ANOTSUBTYPED\": 44, \"INF_A\": 71, \"BYAMAGATA\": 11, \"BVICTORIA\": 9, \"BNOTDETERMINED\": 93, \"INF_B\": 113, \"ALL_INF\": 184, \"ALL_INF2\": 7553.0, \"TITLE\": \"No Report\", \"pct_positive\": 2.38}, {\"Country\": \"United States of America\", \"WHOREGION\": \"Region of the Americas of WHO\", \"FLUREGION\": \"North America\", \"Year\": 2016, \"Week\": 26, \"SDATE\": \"2016-06-27\", \"EDATE\": \"2016-07-03\", \"SPEC_RECEIVED_NB\": 6623, \"SPEC_PROCESSED_NB\": 6623, \"AH1\": 0.0, \"AH1N12009\": 3, \"AH3\": 18, \"AH5\": null, \"ANOTSUBTYPED\": 29, \"INF_A\": 50, \"BYAMAGATA\": 9, \"BVICTORIA\": 6, \"BNOTDETERMINED\": 55, \"INF_B\": 70, \"ALL_INF\": 120, \"ALL_INF2\": 6503.0, \"TITLE\": \"No Report\", \"pct_positive\": 1.81}, {\"Country\": \"United States of America\", \"WHOREGION\": \"Region of the Americas of WHO\", \"FLUREGION\": \"North America\", \"Year\": 2016, \"Week\": 27, \"SDATE\": \"2016-07-04\", \"EDATE\": \"2016-07-10\", \"SPEC_RECEIVED_NB\": 6249, \"SPEC_PROCESSED_NB\": 6249, \"AH1\": 0.0, \"AH1N12009\": 2, \"AH3\": 18, \"AH5\": null, \"ANOTSUBTYPED\": 24, \"INF_A\": 44, \"BYAMAGATA\": 9, \"BVICTORIA\": 5, \"BNOTDETERMINED\": 35, \"INF_B\": 49, \"ALL_INF\": 93, \"ALL_INF2\": 6156.0, \"TITLE\": \"No Report\", \"pct_positive\": 1.49}, {\"Country\": \"United States of America\", \"WHOREGION\": \"Region of the Americas of WHO\", \"FLUREGION\": \"North America\", \"Year\": 2016, \"Week\": 28, \"SDATE\": \"2016-07-11\", \"EDATE\": \"2016-07-17\", \"SPEC_RECEIVED_NB\": 6619, \"SPEC_PROCESSED_NB\": 6619, \"AH1\": 0.0, \"AH1N12009\": 1, \"AH3\": 21, \"AH5\": null, \"ANOTSUBTYPED\": 25, \"INF_A\": 47, \"BYAMAGATA\": 11, \"BVICTORIA\": 2, \"BNOTDETERMINED\": 34, \"INF_B\": 47, \"ALL_INF\": 94, \"ALL_INF2\": 6525.0, \"TITLE\": \"No Report\", \"pct_positive\": 1.42}, {\"Country\": \"United States of America\", \"WHOREGION\": \"Region of the Americas of WHO\", \"FLUREGION\": \"North America\", \"Year\": 2016, \"Week\": 29, \"SDATE\": \"2016-07-18\", \"EDATE\": \"2016-07-24\", \"SPEC_RECEIVED_NB\": 6185, \"SPEC_PROCESSED_NB\": 6185, \"AH1\": 0.0, \"AH1N12009\": 2, \"AH3\": 18, \"AH5\": null, \"ANOTSUBTYPED\": 25, \"INF_A\": 45, \"BYAMAGATA\": 10, \"BVICTORIA\": 0, \"BNOTDETERMINED\": 30, \"INF_B\": 40, \"ALL_INF\": 85, \"ALL_INF2\": 6100.0, \"TITLE\": \"No Report\", \"pct_positive\": 1.37}, {\"Country\": \"United States of America\", \"WHOREGION\": \"Region of the Americas of WHO\", \"FLUREGION\": \"North America\", \"Year\": 2016, \"Week\": 30, \"SDATE\": \"2016-07-25\", \"EDATE\": \"2016-07-31\", \"SPEC_RECEIVED_NB\": 6054, \"SPEC_PROCESSED_NB\": 6054, \"AH1\": 0.0, \"AH1N12009\": 2, \"AH3\": 38, \"AH5\": null, \"ANOTSUBTYPED\": 20, \"INF_A\": 60, \"BYAMAGATA\": 10, \"BVICTORIA\": 2, \"BNOTDETERMINED\": 27, \"INF_B\": 39, \"ALL_INF\": 99, \"ALL_INF2\": 5954.0, \"TITLE\": \"No Report\", \"pct_positive\": 1.64}, {\"Country\": \"United States of America\", \"WHOREGION\": \"Region of the Americas of WHO\", \"FLUREGION\": \"North America\", \"Year\": 2016, \"Week\": 31, \"SDATE\": \"2016-08-01\", \"EDATE\": \"2016-08-07\", \"SPEC_RECEIVED_NB\": 6026, \"SPEC_PROCESSED_NB\": 6026, \"AH1\": 0.0, \"AH1N12009\": 1, \"AH3\": 45, \"AH5\": null, \"ANOTSUBTYPED\": 35, \"INF_A\": 81, \"BYAMAGATA\": 4, \"BVICTORIA\": 1, \"BNOTDETERMINED\": 20, \"INF_B\": 25, \"ALL_INF\": 106, \"ALL_INF2\": 5917.0, \"TITLE\": \"No Report\", \"pct_positive\": 1.76}, {\"Country\": \"United States of America\", \"WHOREGION\": \"Region of the Americas of WHO\", \"FLUREGION\": \"North America\", \"Year\": 2016, \"Week\": 32, \"SDATE\": \"2016-08-08\", \"EDATE\": \"2016-08-14\", \"SPEC_RECEIVED_NB\": 6124, \"SPEC_PROCESSED_NB\": 6124, \"AH1\": 0.0, \"AH1N12009\": 6, \"AH3\": 28, \"AH5\": null, \"ANOTSUBTYPED\": 22, \"INF_A\": 56, \"BYAMAGATA\": 12, \"BVICTORIA\": 3, \"BNOTDETERMINED\": 31, \"INF_B\": 46, \"ALL_INF\": 102, \"ALL_INF2\": 6012.0, \"TITLE\": \"No Report\", \"pct_positive\": 1.67}, {\"Country\": \"United States of America\", \"WHOREGION\": \"Region of the Americas of WHO\", \"FLUREGION\": \"North America\", \"Year\": 2016, \"Week\": 33, \"SDATE\": \"2016-08-15\", \"EDATE\": \"2016-08-21\", \"SPEC_RECEIVED_NB\": 6350, \"SPEC_PROCESSED_NB\": 6350, \"AH1\": 0.0, \"AH1N12009\": 1, \"AH3\": 29, \"AH5\": null, \"ANOTSUBTYPED\": 27, \"INF_A\": 57, \"BYAMAGATA\": 7, \"BVICTORIA\": 1, \"BNOTDETERMINED\": 24, \"INF_B\": 32, \"ALL_INF\": 89, \"ALL_INF2\": 6257.0, \"TITLE\": \"No Report\", \"pct_positive\": 1.4}, {\"Country\": \"United States of America\", \"WHOREGION\": \"Region of the Americas of WHO\", \"FLUREGION\": \"North America\", \"Year\": 2016, \"Week\": 34, \"SDATE\": \"2016-08-22\", \"EDATE\": \"2016-08-28\", \"SPEC_RECEIVED_NB\": 6628, \"SPEC_PROCESSED_NB\": 6628, \"AH1\": 0.0, \"AH1N12009\": 5, \"AH3\": 28, \"AH5\": null, \"ANOTSUBTYPED\": 63, \"INF_A\": 96, \"BYAMAGATA\": 6, \"BVICTORIA\": 2, \"BNOTDETERMINED\": 27, \"INF_B\": 35, \"ALL_INF\": 131, \"ALL_INF2\": 6497.0, \"TITLE\": \"No Report\", \"pct_positive\": 1.98}, {\"Country\": \"United States of America\", \"WHOREGION\": \"Region of the Americas of WHO\", \"FLUREGION\": \"North America\", \"Year\": 2016, \"Week\": 35, \"SDATE\": \"2016-08-29\", \"EDATE\": \"2016-09-04\", \"SPEC_RECEIVED_NB\": 7501, \"SPEC_PROCESSED_NB\": 7501, \"AH1\": 0.0, \"AH1N12009\": 7, \"AH3\": 33, \"AH5\": null, \"ANOTSUBTYPED\": 78, \"INF_A\": 118, \"BYAMAGATA\": 2, \"BVICTORIA\": 4, \"BNOTDETERMINED\": 46, \"INF_B\": 52, \"ALL_INF\": 170, \"ALL_INF2\": 7331.0, \"TITLE\": \"No Report\", \"pct_positive\": 2.27}, {\"Country\": \"United States of America\", \"WHOREGION\": \"Region of the Americas of WHO\", \"FLUREGION\": \"North America\", \"Year\": 2016, \"Week\": 36, \"SDATE\": \"2016-09-05\", \"EDATE\": \"2016-09-11\", \"SPEC_RECEIVED_NB\": 8132, \"SPEC_PROCESSED_NB\": 8132, \"AH1\": 0.0, \"AH1N12009\": 3, \"AH3\": 45, \"AH5\": null, \"ANOTSUBTYPED\": 57, \"INF_A\": 105, \"BYAMAGATA\": 3, \"BVICTORIA\": 1, \"BNOTDETERMINED\": 62, \"INF_B\": 66, \"ALL_INF\": 171, \"ALL_INF2\": 7961.0, \"TITLE\": \"No Report\", \"pct_positive\": 2.1}, {\"Country\": \"United States of America\", \"WHOREGION\": \"Region of the Americas of WHO\", \"FLUREGION\": \"North America\", \"Year\": 2016, \"Week\": 37, \"SDATE\": \"2016-09-12\", \"EDATE\": \"2016-09-18\", \"SPEC_RECEIVED_NB\": 9280, \"SPEC_PROCESSED_NB\": 9280, \"AH1\": 0.0, \"AH1N12009\": 8, \"AH3\": 55, \"AH5\": null, \"ANOTSUBTYPED\": 76, \"INF_A\": 139, \"BYAMAGATA\": 6, \"BVICTORIA\": 4, \"BNOTDETERMINED\": 68, \"INF_B\": 78, \"ALL_INF\": 217, \"ALL_INF2\": 9063.0, \"TITLE\": \"No Report\", \"pct_positive\": 2.34}, {\"Country\": \"United States of America\", \"WHOREGION\": \"Region of the Americas of WHO\", \"FLUREGION\": \"North America\", \"Year\": 2016, \"Week\": 38, \"SDATE\": \"2016-09-19\", \"EDATE\": \"2016-09-25\", \"SPEC_RECEIVED_NB\": 10040, \"SPEC_PROCESSED_NB\": 10040, \"AH1\": 0.0, \"AH1N12009\": 6, \"AH3\": 77, \"AH5\": null, \"ANOTSUBTYPED\": 97, \"INF_A\": 180, \"BYAMAGATA\": 5, \"BVICTORIA\": 3, \"BNOTDETERMINED\": 75, \"INF_B\": 83, \"ALL_INF\": 263, \"ALL_INF2\": 9777.0, \"TITLE\": \"No Report\", \"pct_positive\": 2.62}, {\"Country\": \"United States of America\", \"WHOREGION\": \"Region of the Americas of WHO\", \"FLUREGION\": \"North America\", \"Year\": 2016, \"Week\": 39, \"SDATE\": \"2016-09-26\", \"EDATE\": \"2016-10-02\", \"SPEC_RECEIVED_NB\": 11292, \"SPEC_PROCESSED_NB\": 11292, \"AH1\": 0.0, \"AH1N12009\": 5, \"AH3\": 73, \"AH5\": null, \"ANOTSUBTYPED\": 107, \"INF_A\": 185, \"BYAMAGATA\": 0, \"BVICTORIA\": 11, \"BNOTDETERMINED\": 88, \"INF_B\": 99, \"ALL_INF\": 284, \"ALL_INF2\": 11008.0, \"TITLE\": \"No Report\", \"pct_positive\": 2.52}, {\"Country\": \"United States of America\", \"WHOREGION\": \"Region of the Americas of WHO\", \"FLUREGION\": \"North America\", \"Year\": 2016, \"Week\": 40, \"SDATE\": \"2016-10-03\", \"EDATE\": \"2016-10-09\", \"SPEC_RECEIVED_NB\": 14278, \"SPEC_PROCESSED_NB\": 14278, \"AH1\": 0.0, \"AH1N12009\": 9, \"AH3\": 87, \"AH5\": null, \"ANOTSUBTYPED\": 120, \"INF_A\": 216, \"BYAMAGATA\": 4, \"BVICTORIA\": 5, \"BNOTDETERMINED\": 91, \"INF_B\": 100, \"ALL_INF\": 316, \"ALL_INF2\": 13962.0, \"TITLE\": \"No Report\", \"pct_positive\": 2.21}, {\"Country\": \"United States of America\", \"WHOREGION\": \"Region of the Americas of WHO\", \"FLUREGION\": \"North America\", \"Year\": 2016, \"Week\": 41, \"SDATE\": \"2016-10-10\", \"EDATE\": \"2016-10-16\", \"SPEC_RECEIVED_NB\": 15023, \"SPEC_PROCESSED_NB\": 15023, \"AH1\": 0.0, \"AH1N12009\": 11, \"AH3\": 81, \"AH5\": null, \"ANOTSUBTYPED\": 108, \"INF_A\": 200, \"BYAMAGATA\": 6, \"BVICTORIA\": 7, \"BNOTDETERMINED\": 86, \"INF_B\": 99, \"ALL_INF\": 299, \"ALL_INF2\": 14724.0, \"TITLE\": \"No Report\", \"pct_positive\": 1.99}, {\"Country\": \"United States of America\", \"WHOREGION\": \"Region of the Americas of WHO\", \"FLUREGION\": \"North America\", \"Year\": 2016, \"Week\": 42, \"SDATE\": \"2016-10-17\", \"EDATE\": \"2016-10-23\", \"SPEC_RECEIVED_NB\": 16250, \"SPEC_PROCESSED_NB\": 16250, \"AH1\": 0.0, \"AH1N12009\": 12, \"AH3\": 134, \"AH5\": null, \"ANOTSUBTYPED\": 117, \"INF_A\": 263, \"BYAMAGATA\": 10, \"BVICTORIA\": 8, \"BNOTDETERMINED\": 98, \"INF_B\": 116, \"ALL_INF\": 379, \"ALL_INF2\": 15871.0, \"TITLE\": \"No Report\", \"pct_positive\": 2.33}, {\"Country\": \"United States of America\", \"WHOREGION\": \"Region of the Americas of WHO\", \"FLUREGION\": \"North America\", \"Year\": 2016, \"Week\": 43, \"SDATE\": \"2016-10-24\", \"EDATE\": \"2016-10-30\", \"SPEC_RECEIVED_NB\": 16480, \"SPEC_PROCESSED_NB\": 16480, \"AH1\": 0.0, \"AH1N12009\": 13, \"AH3\": 130, \"AH5\": null, \"ANOTSUBTYPED\": 144, \"INF_A\": 287, \"BYAMAGATA\": 3, \"BVICTORIA\": 3, \"BNOTDETERMINED\": 94, \"INF_B\": 100, \"ALL_INF\": 387, \"ALL_INF2\": 16093.0, \"TITLE\": \"No Report\", \"pct_positive\": 2.35}, {\"Country\": \"United States of America\", \"WHOREGION\": \"Region of the Americas of WHO\", \"FLUREGION\": \"North America\", \"Year\": 2016, \"Week\": 44, \"SDATE\": \"2016-10-31\", \"EDATE\": \"2016-11-06\", \"SPEC_RECEIVED_NB\": 17948, \"SPEC_PROCESSED_NB\": 17948, \"AH1\": 0.0, \"AH1N12009\": 12, \"AH3\": 122, \"AH5\": null, \"ANOTSUBTYPED\": 204, \"INF_A\": 338, \"BYAMAGATA\": 7, \"BVICTORIA\": 10, \"BNOTDETERMINED\": 121, \"INF_B\": 138, \"ALL_INF\": 476, \"ALL_INF2\": 17472.0, \"TITLE\": \"No Report\", \"pct_positive\": 2.65}, {\"Country\": \"United States of America\", \"WHOREGION\": \"Region of the Americas of WHO\", \"FLUREGION\": \"North America\", \"Year\": 2016, \"Week\": 45, \"SDATE\": \"2016-11-07\", \"EDATE\": \"2016-11-13\", \"SPEC_RECEIVED_NB\": 19086, \"SPEC_PROCESSED_NB\": 19086, \"AH1\": 0.0, \"AH1N12009\": 5, \"AH3\": 155, \"AH5\": null, \"ANOTSUBTYPED\": 272, \"INF_A\": 432, \"BYAMAGATA\": 1, \"BVICTORIA\": 6, \"BNOTDETERMINED\": 126, \"INF_B\": 133, \"ALL_INF\": 565, \"ALL_INF2\": 18521.0, \"TITLE\": \"No Report\", \"pct_positive\": 2.96}, {\"Country\": \"United States of America\", \"WHOREGION\": \"Region of the Americas of WHO\", \"FLUREGION\": \"North America\", \"Year\": 2016, \"Week\": 46, \"SDATE\": \"2016-11-14\", \"EDATE\": \"2016-11-20\", \"SPEC_RECEIVED_NB\": 20411, \"SPEC_PROCESSED_NB\": 20411, \"AH1\": 0.0, \"AH1N12009\": 9, \"AH3\": 189, \"AH5\": null, \"ANOTSUBTYPED\": 349, \"INF_A\": 547, \"BYAMAGATA\": 1, \"BVICTORIA\": 7, \"BNOTDETERMINED\": 157, \"INF_B\": 165, \"ALL_INF\": 712, \"ALL_INF2\": 19699.0, \"TITLE\": \"No Report\", \"pct_positive\": 3.49}, {\"Country\": \"United States of America\", \"WHOREGION\": \"Region of the Americas of WHO\", \"FLUREGION\": \"North America\", \"Year\": 2016, \"Week\": 47, \"SDATE\": \"2016-11-21\", \"EDATE\": \"2016-11-27\", \"SPEC_RECEIVED_NB\": 19618, \"SPEC_PROCESSED_NB\": 19618, \"AH1\": 0.0, \"AH1N12009\": 5, \"AH3\": 164, \"AH5\": null, \"ANOTSUBTYPED\": 465, \"INF_A\": 634, \"BYAMAGATA\": 3, \"BVICTORIA\": 4, \"BNOTDETERMINED\": 179, \"INF_B\": 186, \"ALL_INF\": 820, \"ALL_INF2\": 18798.0, \"TITLE\": \"No Report\", \"pct_positive\": 4.18}, {\"Country\": \"United States of America\", \"WHOREGION\": \"Region of the Americas of WHO\", \"FLUREGION\": \"North America\", \"Year\": 2016, \"Week\": 48, \"SDATE\": \"2016-11-28\", \"EDATE\": \"2016-12-04\", \"SPEC_RECEIVED_NB\": 23255, \"SPEC_PROCESSED_NB\": 23255, \"AH1\": 0.0, \"AH1N12009\": 13, \"AH3\": 318, \"AH5\": null, \"ANOTSUBTYPED\": 543, \"INF_A\": 874, \"BYAMAGATA\": 5, \"BVICTORIA\": 17, \"BNOTDETERMINED\": 201, \"INF_B\": 223, \"ALL_INF\": 1097, \"ALL_INF2\": 22158.0, \"TITLE\": \"No Report\", \"pct_positive\": 4.72}, {\"Country\": \"United States of America\", \"WHOREGION\": \"Region of the Americas of WHO\", \"FLUREGION\": \"North America\", \"Year\": 2016, \"Week\": 49, \"SDATE\": \"2016-12-05\", \"EDATE\": \"2016-12-11\", \"SPEC_RECEIVED_NB\": 22444, \"SPEC_PROCESSED_NB\": 22444, \"AH1\": 0.0, \"AH1N12009\": 14, \"AH3\": 479, \"AH5\": null, \"ANOTSUBTYPED\": 699, \"INF_A\": 1192, \"BYAMAGATA\": 7, \"BVICTORIA\": 20, \"BNOTDETERMINED\": 183, \"INF_B\": 210, \"ALL_INF\": 1402, \"ALL_INF2\": 21042.0, \"TITLE\": \"No Report\", \"pct_positive\": 6.25}, {\"Country\": \"United States of America\", \"WHOREGION\": \"Region of the Americas of WHO\", \"FLUREGION\": \"North America\", \"Year\": 2016, \"Week\": 50, \"SDATE\": \"2016-12-12\", \"EDATE\": \"2016-12-18\", \"SPEC_RECEIVED_NB\": 25720, \"SPEC_PROCESSED_NB\": 25720, \"AH1\": 0.0, \"AH1N12009\": 18, \"AH3\": 750, \"AH5\": null, \"ANOTSUBTYPED\": 1368, \"INF_A\": 2136, \"BYAMAGATA\": 18, \"BVICTORIA\": 27, \"BNOTDETERMINED\": 226, \"INF_B\": 271, \"ALL_INF\": 2407, \"ALL_INF2\": 23313.0, \"TITLE\": \"No Report\", \"pct_positive\": 9.36}, {\"Country\": \"United States of America\", \"WHOREGION\": \"Region of the Americas of WHO\", \"FLUREGION\": \"North America\", \"Year\": 2016, \"Week\": 51, \"SDATE\": \"2016-12-19\", \"EDATE\": \"2016-12-25\", \"SPEC_RECEIVED_NB\": 29439, \"SPEC_PROCESSED_NB\": 29439, \"AH1\": 0.0, \"AH1N12009\": 29, \"AH3\": 1016, \"AH5\": null, \"ANOTSUBTYPED\": 2574, \"INF_A\": 3619, \"BYAMAGATA\": 28, \"BVICTORIA\": 38, \"BNOTDETERMINED\": 357, \"INF_B\": 423, \"ALL_INF\": 4042, \"ALL_INF2\": 25397.0, \"TITLE\": \"No Report\", \"pct_positive\": 13.73}, {\"Country\": \"United States of America\", \"WHOREGION\": \"Region of the Americas of WHO\", \"FLUREGION\": \"North America\", \"Year\": 2016, \"Week\": 52, \"SDATE\": \"2016-12-26\", \"EDATE\": \"2017-01-01\", \"SPEC_RECEIVED_NB\": 36560, \"SPEC_PROCESSED_NB\": 36560, \"AH1\": 0.0, \"AH1N12009\": 32, \"AH3\": 1676, \"AH5\": null, \"ANOTSUBTYPED\": 4301, \"INF_A\": 6009, \"BYAMAGATA\": 37, \"BVICTORIA\": 59, \"BNOTDETERMINED\": 401, \"INF_B\": 497, \"ALL_INF\": 6506, \"ALL_INF2\": 30054.0, \"TITLE\": \"No Report\", \"pct_positive\": 17.8}, {\"Country\": \"United States of America\", \"WHOREGION\": \"Region of the Americas of WHO\", \"FLUREGION\": \"North America\", \"Year\": 2017, \"Week\": 1, \"SDATE\": \"2017-01-02\", \"EDATE\": \"2017-01-08\", \"SPEC_RECEIVED_NB\": 38960, \"SPEC_PROCESSED_NB\": 38960, \"AH1\": 0.0, \"AH1N12009\": 53, \"AH3\": 2067, \"AH5\": null, \"ANOTSUBTYPED\": 4301, \"INF_A\": 6421, \"BYAMAGATA\": 60, \"BVICTORIA\": 47, \"BNOTDETERMINED\": 405, \"INF_B\": 512, \"ALL_INF\": 6933, \"ALL_INF2\": 32027.0, \"TITLE\": \"No Report\", \"pct_positive\": 17.8}, {\"Country\": \"United States of America\", \"WHOREGION\": \"Region of the Americas of WHO\", \"FLUREGION\": \"North America\", \"Year\": 2017, \"Week\": 2, \"SDATE\": \"2017-01-09\", \"EDATE\": \"2017-01-15\", \"SPEC_RECEIVED_NB\": 39546, \"SPEC_PROCESSED_NB\": 39546, \"AH1\": 0.0, \"AH1N12009\": 49, \"AH3\": 2210, \"AH5\": null, \"ANOTSUBTYPED\": 4965, \"INF_A\": 7224, \"BYAMAGATA\": 76, \"BVICTORIA\": 49, \"BNOTDETERMINED\": 501, \"INF_B\": 626, \"ALL_INF\": 7850, \"ALL_INF2\": 31696.0, \"TITLE\": \"No Report\", \"pct_positive\": 19.85}, {\"Country\": \"United States of America\", \"WHOREGION\": \"Region of the Americas of WHO\", \"FLUREGION\": \"North America\", \"Year\": 2017, \"Week\": 3, \"SDATE\": \"2017-01-16\", \"EDATE\": \"2017-01-22\", \"SPEC_RECEIVED_NB\": 41010, \"SPEC_PROCESSED_NB\": 41010, \"AH1\": 0.0, \"AH1N12009\": 57, \"AH3\": 2253, \"AH5\": null, \"ANOTSUBTYPED\": 6086, \"INF_A\": 8396, \"BYAMAGATA\": 104, \"BVICTORIA\": 69, \"BNOTDETERMINED\": 681, \"INF_B\": 854, \"ALL_INF\": 9250, \"ALL_INF2\": 31760.0, \"TITLE\": \"No Report\", \"pct_positive\": 22.56}, {\"Country\": \"United States of America\", \"WHOREGION\": \"Region of the Americas of WHO\", \"FLUREGION\": \"North America\", \"Year\": 2017, \"Week\": 4, \"SDATE\": \"2017-01-23\", \"EDATE\": \"2017-01-29\", \"SPEC_RECEIVED_NB\": 42620, \"SPEC_PROCESSED_NB\": 42620, \"AH1\": 0.0, \"AH1N12009\": 47, \"AH3\": 2431, \"AH5\": null, \"ANOTSUBTYPED\": 6283, \"INF_A\": 8761, \"BYAMAGATA\": 123, \"BVICTORIA\": 71, \"BNOTDETERMINED\": 827, \"INF_B\": 1021, \"ALL_INF\": 9782, \"ALL_INF2\": 32838.0, \"TITLE\": \"No Report\", \"pct_positive\": 22.95}, {\"Country\": \"United States of America\", \"WHOREGION\": \"Region of the Americas of WHO\", \"FLUREGION\": \"North America\", \"Year\": 2017, \"Week\": 5, \"SDATE\": \"2017-01-30\", \"EDATE\": \"2017-02-05\", \"SPEC_RECEIVED_NB\": 46521, \"SPEC_PROCESSED_NB\": 46521, \"AH1\": 0.0, \"AH1N12009\": 51, \"AH3\": 2596, \"AH5\": null, \"ANOTSUBTYPED\": 7809, \"INF_A\": 10456, \"BYAMAGATA\": 182, \"BVICTORIA\": 96, \"BNOTDETERMINED\": 1147, \"INF_B\": 1425, \"ALL_INF\": 11881, \"ALL_INF2\": 34640.0, \"TITLE\": \"No Report\", \"pct_positive\": 25.54}, {\"Country\": \"United States of America\", \"WHOREGION\": \"Region of the Americas of WHO\", \"FLUREGION\": \"North America\", \"Year\": 2017, \"Week\": 6, \"SDATE\": \"2017-02-06\", \"EDATE\": \"2017-02-12\", \"SPEC_RECEIVED_NB\": 53516, \"SPEC_PROCESSED_NB\": 53516, \"AH1\": 0.0, \"AH1N12009\": 71, \"AH3\": 2975, \"AH5\": null, \"ANOTSUBTYPED\": 9725, \"INF_A\": 12771, \"BYAMAGATA\": 240, \"BVICTORIA\": 126, \"BNOTDETERMINED\": 1937, \"INF_B\": 2303, \"ALL_INF\": 15074, \"ALL_INF2\": 38442.0, \"TITLE\": \"No Report\", \"pct_positive\": 28.17}, {\"Country\": \"United States of America\", \"WHOREGION\": \"Region of the Americas of WHO\", \"FLUREGION\": \"North America\", \"Year\": 2017, \"Week\": 7, \"SDATE\": \"2017-02-13\", \"EDATE\": \"2017-02-19\", \"SPEC_RECEIVED_NB\": 54691, \"SPEC_PROCESSED_NB\": 54691, \"AH1\": 0.0, \"AH1N12009\": 68, \"AH3\": 2617, \"AH5\": null, \"ANOTSUBTYPED\": 9563, \"INF_A\": 12248, \"BYAMAGATA\": 300, \"BVICTORIA\": 152, \"BNOTDETERMINED\": 2656, \"INF_B\": 3108, \"ALL_INF\": 15356, \"ALL_INF2\": 39335.0, \"TITLE\": \"No Report\", \"pct_positive\": 28.08}, {\"Country\": \"United States of America\", \"WHOREGION\": \"Region of the Americas of WHO\", \"FLUREGION\": \"North America\", \"Year\": 2017, \"Week\": 8, \"SDATE\": \"2017-02-20\", \"EDATE\": \"2017-02-26\", \"SPEC_RECEIVED_NB\": 52446, \"SPEC_PROCESSED_NB\": 52446, \"AH1\": 0.0, \"AH1N12009\": 87, \"AH3\": 2364, \"AH5\": null, \"ANOTSUBTYPED\": 8775, \"INF_A\": 11226, \"BYAMAGATA\": 357, \"BVICTORIA\": 159, \"BNOTDETERMINED\": 3041, \"INF_B\": 3557, \"ALL_INF\": 14783, \"ALL_INF2\": 37663.0, \"TITLE\": \"No Report\", \"pct_positive\": 28.19}, {\"Country\": \"United States of America\", \"WHOREGION\": \"Region of the Americas of WHO\", \"FLUREGION\": \"North America\", \"Year\": 2017, \"Week\": 9, \"SDATE\": \"2017-02-27\", \"EDATE\": \"2017-03-05\", \"SPEC_RECEIVED_NB\": 44426, \"SPEC_PROCESSED_NB\": 44426, \"AH1\": 0.0, \"AH1N12009\": 54, \"AH3\": 1492, \"AH5\": null, \"ANOTSUBTYPED\": 5618, \"INF_A\": 7164, \"BYAMAGATA\": 358, \"BVICTORIA\": 149, \"BNOTDETERMINED\": 2491, \"INF_B\": 2998, \"ALL_INF\": 10162, \"ALL_INF2\": 34264.0, \"TITLE\": \"No Report\", \"pct_positive\": 22.87}, {\"Country\": \"United States of America\", \"WHOREGION\": \"Region of the Americas of WHO\", \"FLUREGION\": \"North America\", \"Year\": 2017, \"Week\": 10, \"SDATE\": \"2017-03-06\", \"EDATE\": \"2017-03-12\", \"SPEC_RECEIVED_NB\": 42112, \"SPEC_PROCESSED_NB\": 42112, \"AH1\": 0.0, \"AH1N12009\": 50, \"AH3\": 1256, \"AH5\": null, \"ANOTSUBTYPED\": 4647, \"INF_A\": 5953, \"BYAMAGATA\": 389, \"BVICTORIA\": 138, \"BNOTDETERMINED\": 2892, \"INF_B\": 3419, \"ALL_INF\": 9372, \"ALL_INF2\": 32740.0, \"TITLE\": \"No Report\", \"pct_positive\": 22.25}, {\"Country\": \"United States of America\", \"WHOREGION\": \"Region of the Americas of WHO\", \"FLUREGION\": \"North America\", \"Year\": 2017, \"Week\": 11, \"SDATE\": \"2017-03-13\", \"EDATE\": \"2017-03-19\", \"SPEC_RECEIVED_NB\": 39836, \"SPEC_PROCESSED_NB\": 39836, \"AH1\": 0.0, \"AH1N12009\": 28, \"AH3\": 909, \"AH5\": null, \"ANOTSUBTYPED\": 3806, \"INF_A\": 4743, \"BYAMAGATA\": 440, \"BVICTORIA\": 141, \"BNOTDETERMINED\": 3295, \"INF_B\": 3876, \"ALL_INF\": 8619, \"ALL_INF2\": 31217.0, \"TITLE\": \"No Report\", \"pct_positive\": 21.64}, {\"Country\": \"United States of America\", \"WHOREGION\": \"Region of the Americas of WHO\", \"FLUREGION\": \"North America\", \"Year\": 2017, \"Week\": 12, \"SDATE\": \"2017-03-20\", \"EDATE\": \"2017-03-26\", \"SPEC_RECEIVED_NB\": 38400, \"SPEC_PROCESSED_NB\": 38400, \"AH1\": 0.0, \"AH1N12009\": 31, \"AH3\": 843, \"AH5\": null, \"ANOTSUBTYPED\": 3225, \"INF_A\": 4099, \"BYAMAGATA\": 523, \"BVICTORIA\": 193, \"BNOTDETERMINED\": 3839, \"INF_B\": 4555, \"ALL_INF\": 8654, \"ALL_INF2\": 29746.0, \"TITLE\": \"No Report\", \"pct_positive\": 22.54}, {\"Country\": \"United States of America\", \"WHOREGION\": \"Region of the Americas of WHO\", \"FLUREGION\": \"North America\", \"Year\": 2017, \"Week\": 13, \"SDATE\": \"2017-03-27\", \"EDATE\": \"2017-04-02\", \"SPEC_RECEIVED_NB\": 35530, \"SPEC_PROCESSED_NB\": 35530, \"AH1\": 0.0, \"AH1N12009\": 27, \"AH3\": 655, \"AH5\": null, \"ANOTSUBTYPED\": 2348, \"INF_A\": 3030, \"BYAMAGATA\": 576, \"BVICTORIA\": 143, \"BNOTDETERMINED\": 3876, \"INF_B\": 4595, \"ALL_INF\": 7625, \"ALL_INF2\": 27905.0, \"TITLE\": \"No Report\", \"pct_positive\": 21.46}, {\"Country\": \"United States of America\", \"WHOREGION\": \"Region of the Americas of WHO\", \"FLUREGION\": \"North America\", \"Year\": 2017, \"Week\": 14, \"SDATE\": \"2017-04-03\", \"EDATE\": \"2017-04-09\", \"SPEC_RECEIVED_NB\": 31021, \"SPEC_PROCESSED_NB\": 31021, \"AH1\": 0.0, \"AH1N12009\": 17, \"AH3\": 374, \"AH5\": null, \"ANOTSUBTYPED\": 1447, \"INF_A\": 1838, \"BYAMAGATA\": 450, \"BVICTORIA\": 117, \"BNOTDETERMINED\": 3119, \"INF_B\": 3686, \"ALL_INF\": 5524, \"ALL_INF2\": 25497.0, \"TITLE\": \"No Report\", \"pct_positive\": 17.81}, {\"Country\": \"United States of America\", \"WHOREGION\": \"Region of the Americas of WHO\", \"FLUREGION\": \"North America\", \"Year\": 2017, \"Week\": 15, \"SDATE\": \"2017-04-10\", \"EDATE\": \"2017-04-16\", \"SPEC_RECEIVED_NB\": 26720, \"SPEC_PROCESSED_NB\": 26720, \"AH1\": 0.0, \"AH1N12009\": 5, \"AH3\": 221, \"AH5\": null, \"ANOTSUBTYPED\": 903, \"INF_A\": 1129, \"BYAMAGATA\": 383, \"BVICTORIA\": 66, \"BNOTDETERMINED\": 2364, \"INF_B\": 2813, \"ALL_INF\": 3942, \"ALL_INF2\": 22778.0, \"TITLE\": \"No Report\", \"pct_positive\": 14.75}, {\"Country\": \"United States of America\", \"WHOREGION\": \"Region of the Americas of WHO\", \"FLUREGION\": \"North America\", \"Year\": 2017, \"Week\": 16, \"SDATE\": \"2017-04-17\", \"EDATE\": \"2017-04-23\", \"SPEC_RECEIVED_NB\": 23640, \"SPEC_PROCESSED_NB\": 23640, \"AH1\": 0.0, \"AH1N12009\": 11, \"AH3\": 144, \"AH5\": null, \"ANOTSUBTYPED\": 569, \"INF_A\": 724, \"BYAMAGATA\": 250, \"BVICTORIA\": 54, \"BNOTDETERMINED\": 1656, \"INF_B\": 1960, \"ALL_INF\": 2684, \"ALL_INF2\": 20956.0, \"TITLE\": \"No Report\", \"pct_positive\": 11.35}, {\"Country\": \"United States of America\", \"WHOREGION\": \"Region of the Americas of WHO\", \"FLUREGION\": \"North America\", \"Year\": 2017, \"Week\": 17, \"SDATE\": \"2017-04-24\", \"EDATE\": \"2017-04-30\", \"SPEC_RECEIVED_NB\": 20099, \"SPEC_PROCESSED_NB\": 20099, \"AH1\": 0.0, \"AH1N12009\": 7, \"AH3\": 133, \"AH5\": null, \"ANOTSUBTYPED\": 328, \"INF_A\": 468, \"BYAMAGATA\": 181, \"BVICTORIA\": 51, \"BNOTDETERMINED\": 995, \"INF_B\": 1227, \"ALL_INF\": 1695, \"ALL_INF2\": 18404.0, \"TITLE\": \"No Report\", \"pct_positive\": 8.43}, {\"Country\": \"United States of America\", \"WHOREGION\": \"Region of the Americas of WHO\", \"FLUREGION\": \"North America\", \"Year\": 2017, \"Week\": 18, \"SDATE\": \"2017-05-01\", \"EDATE\": \"2017-05-07\", \"SPEC_RECEIVED_NB\": 17267, \"SPEC_PROCESSED_NB\": 17267, \"AH1\": 0.0, \"AH1N12009\": 5, \"AH3\": 83, \"AH5\": null, \"ANOTSUBTYPED\": 254, \"INF_A\": 342, \"BYAMAGATA\": 131, \"BVICTORIA\": 31, \"BNOTDETERMINED\": 749, \"INF_B\": 911, \"ALL_INF\": 1253, \"ALL_INF2\": 16014.0, \"TITLE\": \"No Report\", \"pct_positive\": 7.26}, {\"Country\": \"United States of America\", \"WHOREGION\": \"Region of the Americas of WHO\", \"FLUREGION\": \"North America\", \"Year\": 2017, \"Week\": 19, \"SDATE\": \"2017-05-08\", \"EDATE\": \"2017-05-14\", \"SPEC_RECEIVED_NB\": 16191, \"SPEC_PROCESSED_NB\": 16191, \"AH1\": 0.0, \"AH1N12009\": 3, \"AH3\": 97, \"AH5\": null, \"ANOTSUBTYPED\": 234, \"INF_A\": 334, \"BYAMAGATA\": 117, \"BVICTORIA\": 38, \"BNOTDETERMINED\": 620, \"INF_B\": 775, \"ALL_INF\": 1109, \"ALL_INF2\": 15082.0, \"TITLE\": \"No Report\", \"pct_positive\": 6.85}, {\"Country\": \"United States of America\", \"WHOREGION\": \"Region of the Americas of WHO\", \"FLUREGION\": \"North America\", \"Year\": 2017, \"Week\": 20, \"SDATE\": \"2017-05-15\", \"EDATE\": \"2017-05-21\", \"SPEC_RECEIVED_NB\": 15080, \"SPEC_PROCESSED_NB\": 15080, \"AH1\": 0.0, \"AH1N12009\": 5, \"AH3\": 63, \"AH5\": null, \"ANOTSUBTYPED\": 217, \"INF_A\": 285, \"BYAMAGATA\": 114, \"BVICTORIA\": 33, \"BNOTDETERMINED\": 512, \"INF_B\": 659, \"ALL_INF\": 944, \"ALL_INF2\": 14136.0, \"TITLE\": \"No Report\", \"pct_positive\": 6.26}, {\"Country\": \"United States of America\", \"WHOREGION\": \"Region of the Americas of WHO\", \"FLUREGION\": \"North America\", \"Year\": 2017, \"Week\": 21, \"SDATE\": \"2017-05-22\", \"EDATE\": \"2017-05-28\", \"SPEC_RECEIVED_NB\": 13461, \"SPEC_PROCESSED_NB\": 13461, \"AH1\": 0.0, \"AH1N12009\": 6, \"AH3\": 41, \"AH5\": null, \"ANOTSUBTYPED\": 180, \"INF_A\": 227, \"BYAMAGATA\": 80, \"BVICTORIA\": 26, \"BNOTDETERMINED\": 401, \"INF_B\": 507, \"ALL_INF\": 734, \"ALL_INF2\": 12727.0, \"TITLE\": \"No Report\", \"pct_positive\": 5.45}, {\"Country\": \"United States of America\", \"WHOREGION\": \"Region of the Americas of WHO\", \"FLUREGION\": \"North America\", \"Year\": 2017, \"Week\": 22, \"SDATE\": \"2017-05-29\", \"EDATE\": \"2017-06-04\", \"SPEC_RECEIVED_NB\": 12194, \"SPEC_PROCESSED_NB\": 12194, \"AH1\": 0.0, \"AH1N12009\": 1, \"AH3\": 39, \"AH5\": null, \"ANOTSUBTYPED\": 171, \"INF_A\": 211, \"BYAMAGATA\": 60, \"BVICTORIA\": 51, \"BNOTDETERMINED\": 331, \"INF_B\": 442, \"ALL_INF\": 653, \"ALL_INF2\": 11541.0, \"TITLE\": \"No Report\", \"pct_positive\": 5.36}, {\"Country\": \"United States of America\", \"WHOREGION\": \"Region of the Americas of WHO\", \"FLUREGION\": \"North America\", \"Year\": 2017, \"Week\": 23, \"SDATE\": \"2017-06-05\", \"EDATE\": \"2017-06-11\", \"SPEC_RECEIVED_NB\": 11119, \"SPEC_PROCESSED_NB\": 11119, \"AH1\": 0.0, \"AH1N12009\": 5, \"AH3\": 33, \"AH5\": null, \"ANOTSUBTYPED\": 136, \"INF_A\": 174, \"BYAMAGATA\": 63, \"BVICTORIA\": 22, \"BNOTDETERMINED\": 244, \"INF_B\": 329, \"ALL_INF\": 503, \"ALL_INF2\": 10616.0, \"TITLE\": \"No Report\", \"pct_positive\": 4.52}, {\"Country\": \"United States of America\", \"WHOREGION\": \"Region of the Americas of WHO\", \"FLUREGION\": \"North America\", \"Year\": 2017, \"Week\": 24, \"SDATE\": \"2017-06-12\", \"EDATE\": \"2017-06-18\", \"SPEC_RECEIVED_NB\": 9966, \"SPEC_PROCESSED_NB\": 9966, \"AH1\": 0.0, \"AH1N12009\": 8, \"AH3\": 43, \"AH5\": null, \"ANOTSUBTYPED\": 132, \"INF_A\": 183, \"BYAMAGATA\": 45, \"BVICTORIA\": 11, \"BNOTDETERMINED\": 171, \"INF_B\": 227, \"ALL_INF\": 410, \"ALL_INF2\": 9556.0, \"TITLE\": \"No Report\", \"pct_positive\": 4.11}, {\"Country\": \"United States of America\", \"WHOREGION\": \"Region of the Americas of WHO\", \"FLUREGION\": \"North America\", \"Year\": 2017, \"Week\": 25, \"SDATE\": \"2017-06-19\", \"EDATE\": \"2017-06-25\", \"SPEC_RECEIVED_NB\": 8843, \"SPEC_PROCESSED_NB\": 8843, \"AH1\": 0.0, \"AH1N12009\": 5, \"AH3\": 40, \"AH5\": null, \"ANOTSUBTYPED\": 107, \"INF_A\": 152, \"BYAMAGATA\": 31, \"BVICTORIA\": 11, \"BNOTDETERMINED\": 125, \"INF_B\": 167, \"ALL_INF\": 319, \"ALL_INF2\": 8524.0, \"TITLE\": \"No Report\", \"pct_positive\": 3.61}, {\"Country\": \"United States of America\", \"WHOREGION\": \"Region of the Americas of WHO\", \"FLUREGION\": \"North America\", \"Year\": 2017, \"Week\": 26, \"SDATE\": \"2017-06-26\", \"EDATE\": \"2017-07-02\", \"SPEC_RECEIVED_NB\": 7859, \"SPEC_PROCESSED_NB\": 7859, \"AH1\": 0.0, \"AH1N12009\": 5, \"AH3\": 39, \"AH5\": null, \"ANOTSUBTYPED\": 95, \"INF_A\": 139, \"BYAMAGATA\": 21, \"BVICTORIA\": 4, \"BNOTDETERMINED\": 103, \"INF_B\": 128, \"ALL_INF\": 267, \"ALL_INF2\": 7592.0, \"TITLE\": \"No Report\", \"pct_positive\": 3.4}, {\"Country\": \"United States of America\", \"WHOREGION\": \"Region of the Americas of WHO\", \"FLUREGION\": \"North America\", \"Year\": 2017, \"Week\": 27, \"SDATE\": \"2017-07-03\", \"EDATE\": \"2017-07-09\", \"SPEC_RECEIVED_NB\": 7366, \"SPEC_PROCESSED_NB\": 7366, \"AH1\": 0.0, \"AH1N12009\": 10, \"AH3\": 29, \"AH5\": null, \"ANOTSUBTYPED\": 75, \"INF_A\": 114, \"BYAMAGATA\": 7, \"BVICTORIA\": 7, \"BNOTDETERMINED\": 83, \"INF_B\": 97, \"ALL_INF\": 211, \"ALL_INF2\": 7155.0, \"TITLE\": \"No Report\", \"pct_positive\": 2.86}, {\"Country\": \"United States of America\", \"WHOREGION\": \"Region of the Americas of WHO\", \"FLUREGION\": \"North America\", \"Year\": 2017, \"Week\": 28, \"SDATE\": \"2017-07-10\", \"EDATE\": \"2017-07-16\", \"SPEC_RECEIVED_NB\": 7741, \"SPEC_PROCESSED_NB\": 7741, \"AH1\": 0.0, \"AH1N12009\": 4, \"AH3\": 31, \"AH5\": null, \"ANOTSUBTYPED\": 92, \"INF_A\": 127, \"BYAMAGATA\": 9, \"BVICTORIA\": 5, \"BNOTDETERMINED\": 79, \"INF_B\": 93, \"ALL_INF\": 220, \"ALL_INF2\": 7519.0, \"TITLE\": \"No Report\", \"pct_positive\": 2.84}, {\"Country\": \"United States of America\", \"WHOREGION\": \"Region of the Americas of WHO\", \"FLUREGION\": \"North America\", \"Year\": 2017, \"Week\": 29, \"SDATE\": \"2017-07-17\", \"EDATE\": \"2017-07-23\", \"SPEC_RECEIVED_NB\": 7532, \"SPEC_PROCESSED_NB\": 7532, \"AH1\": 0.0, \"AH1N12009\": 8, \"AH3\": 26, \"AH5\": null, \"ANOTSUBTYPED\": 87, \"INF_A\": 121, \"BYAMAGATA\": 7, \"BVICTORIA\": 0, \"BNOTDETERMINED\": 54, \"INF_B\": 61, \"ALL_INF\": 182, \"ALL_INF2\": 7341.0, \"TITLE\": \"No Report\", \"pct_positive\": 2.42}, {\"Country\": \"United States of America\", \"WHOREGION\": \"Region of the Americas of WHO\", \"FLUREGION\": \"North America\", \"Year\": 2017, \"Week\": 30, \"SDATE\": \"2017-07-24\", \"EDATE\": \"2017-07-30\", \"SPEC_RECEIVED_NB\": 7122, \"SPEC_PROCESSED_NB\": 7122, \"AH1\": 0.0, \"AH1N12009\": 7, \"AH3\": 31, \"AH5\": null, \"ANOTSUBTYPED\": 76, \"INF_A\": 114, \"BYAMAGATA\": 21, \"BVICTORIA\": 1, \"BNOTDETERMINED\": 53, \"INF_B\": 75, \"ALL_INF\": 189, \"ALL_INF2\": 6933.0, \"TITLE\": \"No Report\", \"pct_positive\": 2.65}, {\"Country\": \"United States of America\", \"WHOREGION\": \"Region of the Americas of WHO\", \"FLUREGION\": \"North America\", \"Year\": 2017, \"Week\": 31, \"SDATE\": \"2017-07-31\", \"EDATE\": \"2017-08-06\", \"SPEC_RECEIVED_NB\": 7110, \"SPEC_PROCESSED_NB\": 7110, \"AH1\": 0.0, \"AH1N12009\": 8, \"AH3\": 41, \"AH5\": null, \"ANOTSUBTYPED\": 96, \"INF_A\": 145, \"BYAMAGATA\": 8, \"BVICTORIA\": 0, \"BNOTDETERMINED\": 38, \"INF_B\": 46, \"ALL_INF\": 191, \"ALL_INF2\": 6914.0, \"TITLE\": \"No Report\", \"pct_positive\": 2.69}, {\"Country\": \"United States of America\", \"WHOREGION\": \"Region of the Americas of WHO\", \"FLUREGION\": \"North America\", \"Year\": 2017, \"Week\": 32, \"SDATE\": \"2017-08-07\", \"EDATE\": \"2017-08-13\", \"SPEC_RECEIVED_NB\": 7266, \"SPEC_PROCESSED_NB\": 7266, \"AH1\": 0.0, \"AH1N12009\": 6, \"AH3\": 42, \"AH5\": null, \"ANOTSUBTYPED\": 77, \"INF_A\": 125, \"BYAMAGATA\": 20, \"BVICTORIA\": 0, \"BNOTDETERMINED\": 62, \"INF_B\": 82, \"ALL_INF\": 207, \"ALL_INF2\": 7058.0, \"TITLE\": \"No Report\", \"pct_positive\": 2.85}, {\"Country\": \"United States of America\", \"WHOREGION\": \"Region of the Americas of WHO\", \"FLUREGION\": \"North America\", \"Year\": 2017, \"Week\": 33, \"SDATE\": \"2017-08-14\", \"EDATE\": \"2017-08-20\", \"SPEC_RECEIVED_NB\": 7949, \"SPEC_PROCESSED_NB\": 7949, \"AH1\": 0.0, \"AH1N12009\": 5, \"AH3\": 32, \"AH5\": null, \"ANOTSUBTYPED\": 65, \"INF_A\": 102, \"BYAMAGATA\": 9, \"BVICTORIA\": 0, \"BNOTDETERMINED\": 41, \"INF_B\": 50, \"ALL_INF\": 152, \"ALL_INF2\": 7797.0, \"TITLE\": \"No Report\", \"pct_positive\": 1.91}, {\"Country\": \"United States of America\", \"WHOREGION\": \"Region of the Americas of WHO\", \"FLUREGION\": \"North America\", \"Year\": 2017, \"Week\": 34, \"SDATE\": \"2017-08-21\", \"EDATE\": \"2017-08-27\", \"SPEC_RECEIVED_NB\": 8570, \"SPEC_PROCESSED_NB\": 8570, \"AH1\": 0.0, \"AH1N12009\": 6, \"AH3\": 54, \"AH5\": null, \"ANOTSUBTYPED\": 82, \"INF_A\": 142, \"BYAMAGATA\": 9, \"BVICTORIA\": 1, \"BNOTDETERMINED\": 47, \"INF_B\": 57, \"ALL_INF\": 199, \"ALL_INF2\": 8371.0, \"TITLE\": \"No Report\", \"pct_positive\": 2.32}, {\"Country\": \"United States of America\", \"WHOREGION\": \"Region of the Americas of WHO\", \"FLUREGION\": \"North America\", \"Year\": 2017, \"Week\": 35, \"SDATE\": \"2017-08-28\", \"EDATE\": \"2017-09-03\", \"SPEC_RECEIVED_NB\": 9890, \"SPEC_PROCESSED_NB\": 9890, \"AH1\": 0.0, \"AH1N12009\": 18, \"AH3\": 64, \"AH5\": null, \"ANOTSUBTYPED\": 121, \"INF_A\": 203, \"BYAMAGATA\": 0, \"BVICTORIA\": 0, \"BNOTDETERMINED\": 69, \"INF_B\": 69, \"ALL_INF\": 272, \"ALL_INF2\": 9618.0, \"TITLE\": \"No Report\", \"pct_positive\": 2.75}, {\"Country\": \"United States of America\", \"WHOREGION\": \"Region of the Americas of WHO\", \"FLUREGION\": \"North America\", \"Year\": 2017, \"Week\": 36, \"SDATE\": \"2017-09-04\", \"EDATE\": \"2017-09-10\", \"SPEC_RECEIVED_NB\": 10850, \"SPEC_PROCESSED_NB\": 10850, \"AH1\": 0.0, \"AH1N12009\": 12, \"AH3\": 105, \"AH5\": null, \"ANOTSUBTYPED\": 130, \"INF_A\": 247, \"BYAMAGATA\": 13, \"BVICTORIA\": 0, \"BNOTDETERMINED\": 71, \"INF_B\": 84, \"ALL_INF\": 331, \"ALL_INF2\": 10519.0, \"TITLE\": \"No Report\", \"pct_positive\": 3.05}, {\"Country\": \"United States of America\", \"WHOREGION\": \"Region of the Americas of WHO\", \"FLUREGION\": \"North America\", \"Year\": 2017, \"Week\": 37, \"SDATE\": \"2017-09-11\", \"EDATE\": \"2017-09-17\", \"SPEC_RECEIVED_NB\": 12321, \"SPEC_PROCESSED_NB\": 12321, \"AH1\": 0.0, \"AH1N12009\": 8, \"AH3\": 109, \"AH5\": null, \"ANOTSUBTYPED\": 148, \"INF_A\": 265, \"BYAMAGATA\": 17, \"BVICTORIA\": 2, \"BNOTDETERMINED\": 86, \"INF_B\": 105, \"ALL_INF\": 370, \"ALL_INF2\": 11951.0, \"TITLE\": \"No Report\", \"pct_positive\": 3.0}, {\"Country\": \"United States of America\", \"WHOREGION\": \"Region of the Americas of WHO\", \"FLUREGION\": \"North America\", \"Year\": 2017, \"Week\": 38, \"SDATE\": \"2017-09-18\", \"EDATE\": \"2017-09-24\", \"SPEC_RECEIVED_NB\": 13529, \"SPEC_PROCESSED_NB\": 13529, \"AH1\": 0.0, \"AH1N12009\": 2, \"AH3\": 101, \"AH5\": null, \"ANOTSUBTYPED\": 140, \"INF_A\": 243, \"BYAMAGATA\": 18, \"BVICTORIA\": 1, \"BNOTDETERMINED\": 85, \"INF_B\": 104, \"ALL_INF\": 347, \"ALL_INF2\": 13165.0, \"TITLE\": \"No Report\", \"pct_positive\": 2.56}, {\"Country\": \"United States of America\", \"WHOREGION\": \"Region of the Americas of WHO\", \"FLUREGION\": \"North America\", \"Year\": 2017, \"Week\": 39, \"SDATE\": \"2017-09-25\", \"EDATE\": \"2017-10-01\", \"SPEC_RECEIVED_NB\": 14583, \"SPEC_PROCESSED_NB\": 14583, \"AH1\": 0.0, \"AH1N12009\": 10, \"AH3\": 119, \"AH5\": null, \"ANOTSUBTYPED\": 156, \"INF_A\": 285, \"BYAMAGATA\": 10, \"BVICTORIA\": 0, \"BNOTDETERMINED\": 80, \"INF_B\": 90, \"ALL_INF\": 375, \"ALL_INF2\": 14184.0, \"TITLE\": \"No Report\", \"pct_positive\": 2.57}, {\"Country\": \"United States of America\", \"WHOREGION\": \"Region of the Americas of WHO\", \"FLUREGION\": \"North America\", \"Year\": 2017, \"Week\": 40, \"SDATE\": \"2017-10-02\", \"EDATE\": \"2017-10-08\", \"SPEC_RECEIVED_NB\": 16573, \"SPEC_PROCESSED_NB\": 16573, \"AH1\": 0.0, \"AH1N12009\": 13, \"AH3\": 123, \"AH5\": null, \"ANOTSUBTYPED\": 233, \"INF_A\": 369, \"BYAMAGATA\": 16, \"BVICTORIA\": 0, \"BNOTDETERMINED\": 117, \"INF_B\": 133, \"ALL_INF\": 502, \"ALL_INF2\": 16070.0, \"TITLE\": \"No Report\", \"pct_positive\": 3.03}, {\"Country\": \"United States of America\", \"WHOREGION\": \"Region of the Americas of WHO\", \"FLUREGION\": \"North America\", \"Year\": 2017, \"Week\": 41, \"SDATE\": \"2017-10-09\", \"EDATE\": \"2017-10-15\", \"SPEC_RECEIVED_NB\": 17636, \"SPEC_PROCESSED_NB\": 17636, \"AH1\": 0.0, \"AH1N12009\": 14, \"AH3\": 143, \"AH5\": null, \"ANOTSUBTYPED\": 256, \"INF_A\": 413, \"BYAMAGATA\": 13, \"BVICTORIA\": 4, \"BNOTDETERMINED\": 104, \"INF_B\": 121, \"ALL_INF\": 534, \"ALL_INF2\": 17102.0, \"TITLE\": \"No Report\", \"pct_positive\": 3.03}, {\"Country\": \"United States of America\", \"WHOREGION\": \"Region of the Americas of WHO\", \"FLUREGION\": \"North America\", \"Year\": 2017, \"Week\": 42, \"SDATE\": \"2017-10-16\", \"EDATE\": \"2017-10-22\", \"SPEC_RECEIVED_NB\": 19061, \"SPEC_PROCESSED_NB\": 19061, \"AH1\": 0.0, \"AH1N12009\": 14, \"AH3\": 173, \"AH5\": null, \"ANOTSUBTYPED\": 278, \"INF_A\": 465, \"BYAMAGATA\": 11, \"BVICTORIA\": 1, \"BNOTDETERMINED\": 112, \"INF_B\": 124, \"ALL_INF\": 589, \"ALL_INF2\": 18472.0, \"TITLE\": \"No Report\", \"pct_positive\": 3.09}, {\"Country\": \"United States of America\", \"WHOREGION\": \"Region of the Americas of WHO\", \"FLUREGION\": \"North America\", \"Year\": 2017, \"Week\": 43, \"SDATE\": \"2017-10-23\", \"EDATE\": \"2017-10-29\", \"SPEC_RECEIVED_NB\": 19864, \"SPEC_PROCESSED_NB\": 19864, \"AH1\": 0.0, \"AH1N12009\": 26, \"AH3\": 180, \"AH5\": null, \"ANOTSUBTYPED\": 364, \"INF_A\": 570, \"BYAMAGATA\": 21, \"BVICTORIA\": 1, \"BNOTDETERMINED\": 148, \"INF_B\": 170, \"ALL_INF\": 740, \"ALL_INF2\": 19124.0, \"TITLE\": \"No Report\", \"pct_positive\": 3.73}, {\"Country\": \"United States of America\", \"WHOREGION\": \"Region of the Americas of WHO\", \"FLUREGION\": \"North America\", \"Year\": 2017, \"Week\": 44, \"SDATE\": \"2017-10-30\", \"EDATE\": \"2017-11-05\", \"SPEC_RECEIVED_NB\": 21606, \"SPEC_PROCESSED_NB\": 21606, \"AH1\": 0.0, \"AH1N12009\": 24, \"AH3\": 249, \"AH5\": null, \"ANOTSUBTYPED\": 518, \"INF_A\": 791, \"BYAMAGATA\": 36, \"BVICTORIA\": 3, \"BNOTDETERMINED\": 236, \"INF_B\": 275, \"ALL_INF\": 1066, \"ALL_INF2\": 20540.0, \"TITLE\": \"No Report\", \"pct_positive\": 4.93}, {\"Country\": \"United States of America\", \"WHOREGION\": \"Region of the Americas of WHO\", \"FLUREGION\": \"North America\", \"Year\": 2017, \"Week\": 45, \"SDATE\": \"2017-11-06\", \"EDATE\": \"2017-11-12\", \"SPEC_RECEIVED_NB\": 23440, \"SPEC_PROCESSED_NB\": 23440, \"AH1\": 0.0, \"AH1N12009\": 29, \"AH3\": 315, \"AH5\": null, \"ANOTSUBTYPED\": 690, \"INF_A\": 1034, \"BYAMAGATA\": 33, \"BVICTORIA\": 4, \"BNOTDETERMINED\": 252, \"INF_B\": 289, \"ALL_INF\": 1323, \"ALL_INF2\": 22117.0, \"TITLE\": \"No Report\", \"pct_positive\": 5.64}, {\"Country\": \"United States of America\", \"WHOREGION\": \"Region of the Americas of WHO\", \"FLUREGION\": \"North America\", \"Year\": 2017, \"Week\": 46, \"SDATE\": \"2017-11-13\", \"EDATE\": \"2017-11-19\", \"SPEC_RECEIVED_NB\": 25670, \"SPEC_PROCESSED_NB\": 25670, \"AH1\": 0.0, \"AH1N12009\": 56, \"AH3\": 405, \"AH5\": null, \"ANOTSUBTYPED\": 941, \"INF_A\": 1402, \"BYAMAGATA\": 61, \"BVICTORIA\": 5, \"BNOTDETERMINED\": 351, \"INF_B\": 417, \"ALL_INF\": 1819, \"ALL_INF2\": 23851.0, \"TITLE\": \"No Report\", \"pct_positive\": 7.09}, {\"Country\": \"United States of America\", \"WHOREGION\": \"Region of the Americas of WHO\", \"FLUREGION\": \"North America\", \"Year\": 2017, \"Week\": 47, \"SDATE\": \"2017-11-20\", \"EDATE\": \"2017-11-26\", \"SPEC_RECEIVED_NB\": 25441, \"SPEC_PROCESSED_NB\": 25441, \"AH1\": 0.0, \"AH1N12009\": 41, \"AH3\": 490, \"AH5\": null, \"ANOTSUBTYPED\": 1338, \"INF_A\": 1869, \"BYAMAGATA\": 60, \"BVICTORIA\": 5, \"BNOTDETERMINED\": 363, \"INF_B\": 428, \"ALL_INF\": 2297, \"ALL_INF2\": 23144.0, \"TITLE\": \"No Report\", \"pct_positive\": 9.03}, {\"Country\": \"United States of America\", \"WHOREGION\": \"Region of the Americas of WHO\", \"FLUREGION\": \"North America\", \"Year\": 2017, \"Week\": 48, \"SDATE\": \"2017-11-27\", \"EDATE\": \"2017-12-03\", \"SPEC_RECEIVED_NB\": 29582, \"SPEC_PROCESSED_NB\": 29582, \"AH1\": 0.0, \"AH1N12009\": 61, \"AH3\": 787, \"AH5\": null, \"ANOTSUBTYPED\": 1563, \"INF_A\": 2411, \"BYAMAGATA\": 108, \"BVICTORIA\": 8, \"BNOTDETERMINED\": 456, \"INF_B\": 572, \"ALL_INF\": 2983, \"ALL_INF2\": 26598.0, \"TITLE\": \"No Report\", \"pct_positive\": 10.08}, {\"Country\": \"United States of America\", \"WHOREGION\": \"Region of the Americas of WHO\", \"FLUREGION\": \"North America\", \"Year\": 2017, \"Week\": 49, \"SDATE\": \"2017-12-04\", \"EDATE\": \"2017-12-10\", \"SPEC_RECEIVED_NB\": 33552, \"SPEC_PROCESSED_NB\": 33552, \"AH1\": 0.0, \"AH1N12009\": 72, \"AH3\": 1055, \"AH5\": null, \"ANOTSUBTYPED\": 2483, \"INF_A\": 3610, \"BYAMAGATA\": 103, \"BVICTORIA\": 16, \"BNOTDETERMINED\": 858, \"INF_B\": 977, \"ALL_INF\": 4587, \"ALL_INF2\": 28965.0, \"TITLE\": \"No Report\", \"pct_positive\": 13.67}, {\"Country\": \"United States of America\", \"WHOREGION\": \"Region of the Americas of WHO\", \"FLUREGION\": \"North America\", \"Year\": 2017, \"Week\": 50, \"SDATE\": \"2017-12-11\", \"EDATE\": \"2017-12-17\", \"SPEC_RECEIVED_NB\": 38752, \"SPEC_PROCESSED_NB\": 38752, \"AH1\": 0.0, \"AH1N12009\": 137, \"AH3\": 1515, \"AH5\": null, \"ANOTSUBTYPED\": 4571, \"INF_A\": 6223, \"BYAMAGATA\": 174, \"BVICTORIA\": 36, \"BNOTDETERMINED\": 883, \"INF_B\": 1093, \"ALL_INF\": 7316, \"ALL_INF2\": 31436.0, \"TITLE\": \"No Report\", \"pct_positive\": 18.88}, {\"Country\": \"United States of America\", \"WHOREGION\": \"Region of the Americas of WHO\", \"FLUREGION\": \"North America\", \"Year\": 2017, \"Week\": 51, \"SDATE\": \"2017-12-18\", \"EDATE\": \"2017-12-24\", \"SPEC_RECEIVED_NB\": 52824, \"SPEC_PROCESSED_NB\": 52824, \"AH1\": 0.0, \"AH1N12009\": 240, \"AH3\": 2491, \"AH5\": null, \"ANOTSUBTYPED\": 9256, \"INF_A\": 11987, \"BYAMAGATA\": 258, \"BVICTORIA\": 39, \"BNOTDETERMINED\": 1776, \"INF_B\": 2073, \"ALL_INF\": 14060, \"ALL_INF2\": 38764.0, \"TITLE\": \"No Report\", \"pct_positive\": 26.62}, {\"Country\": \"United States of America\", \"WHOREGION\": \"Region of the Americas of WHO\", \"FLUREGION\": \"North America\", \"Year\": 2017, \"Week\": 52, \"SDATE\": \"2017-12-25\", \"EDATE\": \"2017-12-31\", \"SPEC_RECEIVED_NB\": 60942, \"SPEC_PROCESSED_NB\": 60942, \"AH1\": 0.0, \"AH1N12009\": 279, \"AH3\": 2984, \"AH5\": null, \"ANOTSUBTYPED\": 12031, \"INF_A\": 15294, \"BYAMAGATA\": 372, \"BVICTORIA\": 35, \"BNOTDETERMINED\": 2192, \"INF_B\": 2599, \"ALL_INF\": 17893, \"ALL_INF2\": 43049.0, \"TITLE\": \"No Report\", \"pct_positive\": 29.36}, {\"Country\": \"United States of America\", \"WHOREGION\": \"Region of the Americas of WHO\", \"FLUREGION\": \"North America\", \"Year\": 2018, \"Week\": 1, \"SDATE\": \"2018-01-01\", \"EDATE\": \"2018-01-07\", \"SPEC_RECEIVED_NB\": 67726, \"SPEC_PROCESSED_NB\": 67726, \"AH1\": 0.0, \"AH1N12009\": 320, \"AH3\": 3295, \"AH5\": null, \"ANOTSUBTYPED\": 13057, \"INF_A\": 16672, \"BYAMAGATA\": 463, \"BVICTORIA\": 45, \"BNOTDETERMINED\": 2700, \"INF_B\": 3208, \"ALL_INF\": 19880, \"ALL_INF2\": 47846.0, \"TITLE\": \"No Report\", \"pct_positive\": 29.35}, {\"Country\": \"United States of America\", \"WHOREGION\": \"Region of the Americas of WHO\", \"FLUREGION\": \"North America\", \"Year\": 2018, \"Week\": 2, \"SDATE\": \"2018-01-08\", \"EDATE\": \"2018-01-14\", \"SPEC_RECEIVED_NB\": 75195, \"SPEC_PROCESSED_NB\": 75195, \"AH1\": 0.0, \"AH1N12009\": 393, \"AH3\": 3336, \"AH5\": null, \"ANOTSUBTYPED\": 15219, \"INF_A\": 18948, \"BYAMAGATA\": 534, \"BVICTORIA\": 42, \"BNOTDETERMINED\": 3409, \"INF_B\": 3985, \"ALL_INF\": 22933, \"ALL_INF2\": 52262.0, \"TITLE\": \"No Report\", \"pct_positive\": 30.5}, {\"Country\": \"United States of America\", \"WHOREGION\": \"Region of the Americas of WHO\", \"FLUREGION\": \"North America\", \"Year\": 2018, \"Week\": 3, \"SDATE\": \"2018-01-15\", \"EDATE\": \"2018-01-21\", \"SPEC_RECEIVED_NB\": 75417, \"SPEC_PROCESSED_NB\": 75417, \"AH1\": 0.0, \"AH1N12009\": 406, \"AH3\": 2727, \"AH5\": null, \"ANOTSUBTYPED\": 14832, \"INF_A\": 17965, \"BYAMAGATA\": 536, \"BVICTORIA\": 47, \"BNOTDETERMINED\": 4094, \"INF_B\": 4677, \"ALL_INF\": 22642, \"ALL_INF2\": 52775.0, \"TITLE\": \"No Report\", \"pct_positive\": 30.02}, {\"Country\": \"United States of America\", \"WHOREGION\": \"Region of the Americas of WHO\", \"FLUREGION\": \"North America\", \"Year\": 2018, \"Week\": 4, \"SDATE\": \"2018-01-22\", \"EDATE\": \"2018-01-28\", \"SPEC_RECEIVED_NB\": 87245, \"SPEC_PROCESSED_NB\": 87245, \"AH1\": 0.0, \"AH1N12009\": 540, \"AH3\": 2749, \"AH5\": null, \"ANOTSUBTYPED\": 16672, \"INF_A\": 19961, \"BYAMAGATA\": 718, \"BVICTORIA\": 58, \"BNOTDETERMINED\": 5581, \"INF_B\": 6357, \"ALL_INF\": 26318, \"ALL_INF2\": 60927.0, \"TITLE\": \"No Report\", \"pct_positive\": 30.17}, {\"Country\": \"United States of America\", \"WHOREGION\": \"Region of the Americas of WHO\", \"FLUREGION\": \"North America\", \"Year\": 2018, \"Week\": 5, \"SDATE\": \"2018-01-29\", \"EDATE\": \"2018-02-04\", \"SPEC_RECEIVED_NB\": 88743, \"SPEC_PROCESSED_NB\": 88743, \"AH1\": 0.0, \"AH1N12009\": 542, \"AH3\": 2494, \"AH5\": null, \"ANOTSUBTYPED\": 15234, \"INF_A\": 18270, \"BYAMAGATA\": 804, \"BVICTORIA\": 91, \"BNOTDETERMINED\": 7221, \"INF_B\": 8116, \"ALL_INF\": 26386, \"ALL_INF2\": 62357.0, \"TITLE\": \"No Report\", \"pct_positive\": 29.73}, {\"Country\": \"United States of America\", \"WHOREGION\": \"Region of the Americas of WHO\", \"FLUREGION\": \"North America\", \"Year\": 2018, \"Week\": 6, \"SDATE\": \"2018-02-05\", \"EDATE\": \"2018-02-11\", \"SPEC_RECEIVED_NB\": 87883, \"SPEC_PROCESSED_NB\": 87883, \"AH1\": 0.0, \"AH1N12009\": 544, \"AH3\": 2040, \"AH5\": null, \"ANOTSUBTYPED\": 14148, \"INF_A\": 16732, \"BYAMAGATA\": 931, \"BVICTORIA\": 113, \"BNOTDETERMINED\": 8187, \"INF_B\": 9231, \"ALL_INF\": 25963, \"ALL_INF2\": 61920.0, \"TITLE\": \"No Report\", \"pct_positive\": 29.54}, {\"Country\": \"United States of America\", \"WHOREGION\": \"Region of the Americas of WHO\", \"FLUREGION\": \"North America\", \"Year\": 2018, \"Week\": 7, \"SDATE\": \"2018-02-12\", \"EDATE\": \"2018-02-18\", \"SPEC_RECEIVED_NB\": 80481, \"SPEC_PROCESSED_NB\": 80481, \"AH1\": 0.0, \"AH1N12009\": 495, \"AH3\": 1511, \"AH5\": null, \"ANOTSUBTYPED\": 11395, \"INF_A\": 13401, \"BYAMAGATA\": 931, \"BVICTORIA\": 115, \"BNOTDETERMINED\": 8461, \"INF_B\": 9507, \"ALL_INF\": 22908, \"ALL_INF2\": 57573.0, \"TITLE\": \"No Report\", \"pct_positive\": 28.46}, {\"Country\": \"United States of America\", \"WHOREGION\": \"Region of the Americas of WHO\", \"FLUREGION\": \"North America\", \"Year\": 2018, \"Week\": 8, \"SDATE\": \"2018-02-19\", \"EDATE\": \"2018-02-25\", \"SPEC_RECEIVED_NB\": 64580, \"SPEC_PROCESSED_NB\": 64580, \"AH1\": 0.0, \"AH1N12009\": 306, \"AH3\": 1073, \"AH5\": null, \"ANOTSUBTYPED\": 7196, \"INF_A\": 8575, \"BYAMAGATA\": 891, \"BVICTORIA\": 116, \"BNOTDETERMINED\": 6645, \"INF_B\": 7652, \"ALL_INF\": 16227, \"ALL_INF2\": 48353.0, \"TITLE\": \"No Report\", \"pct_positive\": 25.13}, {\"Country\": \"United States of America\", \"WHOREGION\": \"Region of the Americas of WHO\", \"FLUREGION\": \"North America\", \"Year\": 2018, \"Week\": 9, \"SDATE\": \"2018-02-26\", \"EDATE\": \"2018-03-04\", \"SPEC_RECEIVED_NB\": 52069, \"SPEC_PROCESSED_NB\": 52069, \"AH1\": 0.0, \"AH1N12009\": 246, \"AH3\": 588, \"AH5\": null, \"ANOTSUBTYPED\": 4417, \"INF_A\": 5251, \"BYAMAGATA\": 699, \"BVICTORIA\": 88, \"BNOTDETERMINED\": 4763, \"INF_B\": 5550, \"ALL_INF\": 10801, \"ALL_INF2\": 41268.0, \"TITLE\": \"No Report\", \"pct_positive\": 20.74}, {\"Country\": \"United States of America\", \"WHOREGION\": \"Region of the Americas of WHO\", \"FLUREGION\": \"North America\", \"Year\": 2018, \"Week\": 10, \"SDATE\": \"2018-03-05\", \"EDATE\": \"2018-03-11\", \"SPEC_RECEIVED_NB\": 44035, \"SPEC_PROCESSED_NB\": 44035, \"AH1\": 0.0, \"AH1N12009\": 144, \"AH3\": 411, \"AH5\": null, \"ANOTSUBTYPED\": 2922, \"INF_A\": 3477, \"BYAMAGATA\": 646, \"BVICTORIA\": 88, \"BNOTDETERMINED\": 3706, \"INF_B\": 4440, \"ALL_INF\": 7917, \"ALL_INF2\": 36118.0, \"TITLE\": \"No Report\", \"pct_positive\": 17.98}, {\"Country\": \"United States of America\", \"WHOREGION\": \"Region of the Americas of WHO\", \"FLUREGION\": \"North America\", \"Year\": 2018, \"Week\": 11, \"SDATE\": \"2018-03-12\", \"EDATE\": \"2018-03-18\", \"SPEC_RECEIVED_NB\": 39323, \"SPEC_PROCESSED_NB\": 39323, \"AH1\": 0.0, \"AH1N12009\": 188, \"AH3\": 277, \"AH5\": null, \"ANOTSUBTYPED\": 2374, \"INF_A\": 2839, \"BYAMAGATA\": 542, \"BVICTORIA\": 70, \"BNOTDETERMINED\": 3558, \"INF_B\": 4170, \"ALL_INF\": 7009, \"ALL_INF2\": 32314.0, \"TITLE\": \"No Report\", \"pct_positive\": 17.82}, {\"Country\": \"United States of America\", \"WHOREGION\": \"Region of the Americas of WHO\", \"FLUREGION\": \"North America\", \"Year\": 2018, \"Week\": 12, \"SDATE\": \"2018-03-19\", \"EDATE\": \"2018-03-25\", \"SPEC_RECEIVED_NB\": 35690, \"SPEC_PROCESSED_NB\": 35690, \"AH1\": 0.0, \"AH1N12009\": 120, \"AH3\": 234, \"AH5\": null, \"ANOTSUBTYPED\": 2033, \"INF_A\": 2387, \"BYAMAGATA\": 467, \"BVICTORIA\": 52, \"BNOTDETERMINED\": 3232, \"INF_B\": 3751, \"ALL_INF\": 6138, \"ALL_INF2\": 29552.0, \"TITLE\": \"No Report\", \"pct_positive\": 17.2}, {\"Country\": \"United States of America\", \"WHOREGION\": \"Region of the Americas of WHO\", \"FLUREGION\": \"North America\", \"Year\": 2018, \"Week\": 13, \"SDATE\": \"2018-03-26\", \"EDATE\": \"2018-04-01\", \"SPEC_RECEIVED_NB\": 32633, \"SPEC_PROCESSED_NB\": 32633, \"AH1\": 0.0, \"AH1N12009\": 132, \"AH3\": 220, \"AH5\": null, \"ANOTSUBTYPED\": 1716, \"INF_A\": 2068, \"BYAMAGATA\": 455, \"BVICTORIA\": 62, \"BNOTDETERMINED\": 3034, \"INF_B\": 3551, \"ALL_INF\": 5619, \"ALL_INF2\": 27014.0, \"TITLE\": \"No Report\", \"pct_positive\": 17.22}, {\"Country\": \"United States of America\", \"WHOREGION\": \"Region of the Americas of WHO\", \"FLUREGION\": \"North America\", \"Year\": 2018, \"Week\": 14, \"SDATE\": \"2018-04-02\", \"EDATE\": \"2018-04-08\", \"SPEC_RECEIVED_NB\": 29245, \"SPEC_PROCESSED_NB\": 29245, \"AH1\": 0.0, \"AH1N12009\": 120, \"AH3\": 163, \"AH5\": null, \"ANOTSUBTYPED\": 1139, \"INF_A\": 1422, \"BYAMAGATA\": 405, \"BVICTORIA\": 54, \"BNOTDETERMINED\": 2409, \"INF_B\": 2868, \"ALL_INF\": 4290, \"ALL_INF2\": 24955.0, \"TITLE\": \"No Report\", \"pct_positive\": 14.67}, {\"Country\": \"United States of America\", \"WHOREGION\": \"Region of the Americas of WHO\", \"FLUREGION\": \"North America\", \"Year\": 2018, \"Week\": 15, \"SDATE\": \"2018-04-09\", \"EDATE\": \"2018-04-15\", \"SPEC_RECEIVED_NB\": 26533, \"SPEC_PROCESSED_NB\": 26533, \"AH1\": 0.0, \"AH1N12009\": 101, \"AH3\": 102, \"AH5\": null, \"ANOTSUBTYPED\": 903, \"INF_A\": 1106, \"BYAMAGATA\": 297, \"BVICTORIA\": 40, \"BNOTDETERMINED\": 1971, \"INF_B\": 2308, \"ALL_INF\": 3414, \"ALL_INF2\": 23119.0, \"TITLE\": \"No Report\", \"pct_positive\": 12.87}, {\"Country\": \"United States of America\", \"WHOREGION\": \"Region of the Americas of WHO\", \"FLUREGION\": \"North America\", \"Year\": 2018, \"Week\": 16, \"SDATE\": \"2018-04-16\", \"EDATE\": \"2018-04-22\", \"SPEC_RECEIVED_NB\": 22657, \"SPEC_PROCESSED_NB\": 22657, \"AH1\": 0.0, \"AH1N12009\": 51, \"AH3\": 86, \"AH5\": null, \"ANOTSUBTYPED\": 595, \"INF_A\": 732, \"BYAMAGATA\": 211, \"BVICTORIA\": 43, \"BNOTDETERMINED\": 1469, \"INF_B\": 1723, \"ALL_INF\": 2455, \"ALL_INF2\": 20202.0, \"TITLE\": \"No Report\", \"pct_positive\": 10.84}, {\"Country\": \"United States of America\", \"WHOREGION\": \"Region of the Americas of WHO\", \"FLUREGION\": \"North America\", \"Year\": 2018, \"Week\": 17, \"SDATE\": \"2018-04-23\", \"EDATE\": \"2018-04-29\", \"SPEC_RECEIVED_NB\": 20356, \"SPEC_PROCESSED_NB\": 20356, \"AH1\": 0.0, \"AH1N12009\": 56, \"AH3\": 53, \"AH5\": null, \"ANOTSUBTYPED\": 473, \"INF_A\": 582, \"BYAMAGATA\": 138, \"BVICTORIA\": 28, \"BNOTDETERMINED\": 1127, \"INF_B\": 1293, \"ALL_INF\": 1875, \"ALL_INF2\": 18481.0, \"TITLE\": \"No Report\", \"pct_positive\": 9.21}, {\"Country\": \"United States of America\", \"WHOREGION\": \"Region of the Americas of WHO\", \"FLUREGION\": \"North America\", \"Year\": 2018, \"Week\": 18, \"SDATE\": \"2018-04-30\", \"EDATE\": \"2018-05-06\", \"SPEC_RECEIVED_NB\": 17926, \"SPEC_PROCESSED_NB\": 17926, \"AH1\": 0.0, \"AH1N12009\": 40, \"AH3\": 31, \"AH5\": null, \"ANOTSUBTYPED\": 348, \"INF_A\": 419, \"BYAMAGATA\": 137, \"BVICTORIA\": 14, \"BNOTDETERMINED\": 747, \"INF_B\": 898, \"ALL_INF\": 1317, \"ALL_INF2\": 16609.0, \"TITLE\": \"No Report\", \"pct_positive\": 7.35}, {\"Country\": \"United States of America\", \"WHOREGION\": \"Region of the Americas of WHO\", \"FLUREGION\": \"North America\", \"Year\": 2018, \"Week\": 19, \"SDATE\": \"2018-05-07\", \"EDATE\": \"2018-05-13\", \"SPEC_RECEIVED_NB\": 15577, \"SPEC_PROCESSED_NB\": 15577, \"AH1\": 0.0, \"AH1N12009\": 16, \"AH3\": 20, \"AH5\": null, \"ANOTSUBTYPED\": 191, \"INF_A\": 227, \"BYAMAGATA\": 68, \"BVICTORIA\": 6, \"BNOTDETERMINED\": 475, \"INF_B\": 549, \"ALL_INF\": 776, \"ALL_INF2\": 14801.0, \"TITLE\": \"No Report\", \"pct_positive\": 4.98}, {\"Country\": \"United States of America\", \"WHOREGION\": \"Region of the Americas of WHO\", \"FLUREGION\": \"North America\", \"Year\": 2018, \"Week\": 20, \"SDATE\": \"2018-05-14\", \"EDATE\": \"2018-05-20\", \"SPEC_RECEIVED_NB\": 13477, \"SPEC_PROCESSED_NB\": 13477, \"AH1\": 0.0, \"AH1N12009\": 16, \"AH3\": 10, \"AH5\": null, \"ANOTSUBTYPED\": 176, \"INF_A\": 202, \"BYAMAGATA\": 27, \"BVICTORIA\": 6, \"BNOTDETERMINED\": 246, \"INF_B\": 279, \"ALL_INF\": 481, \"ALL_INF2\": 12996.0, \"TITLE\": \"No Report\", \"pct_positive\": 3.57}, {\"Country\": \"United States of America\", \"WHOREGION\": \"Region of the Americas of WHO\", \"FLUREGION\": \"North America\", \"Year\": 2018, \"Week\": 21, \"SDATE\": \"2018-05-21\", \"EDATE\": \"2018-05-27\", \"SPEC_RECEIVED_NB\": 12143, \"SPEC_PROCESSED_NB\": 12143, \"AH1\": 0.0, \"AH1N12009\": 18, \"AH3\": 6, \"AH5\": null, \"ANOTSUBTYPED\": 119, \"INF_A\": 143, \"BYAMAGATA\": 20, \"BVICTORIA\": 4, \"BNOTDETERMINED\": 171, \"INF_B\": 195, \"ALL_INF\": 338, \"ALL_INF2\": 11805.0, \"TITLE\": \"No Report\", \"pct_positive\": 2.78}, {\"Country\": \"United States of America\", \"WHOREGION\": \"Region of the Americas of WHO\", \"FLUREGION\": \"North America\", \"Year\": 2018, \"Week\": 22, \"SDATE\": \"2018-05-28\", \"EDATE\": \"2018-06-03\", \"SPEC_RECEIVED_NB\": 11054, \"SPEC_PROCESSED_NB\": 11054, \"AH1\": 0.0, \"AH1N12009\": 8, \"AH3\": 5, \"AH5\": null, \"ANOTSUBTYPED\": 76, \"INF_A\": 89, \"BYAMAGATA\": 11, \"BVICTORIA\": 2, \"BNOTDETERMINED\": 91, \"INF_B\": 104, \"ALL_INF\": 193, \"ALL_INF2\": 10861.0, \"TITLE\": \"No Report\", \"pct_positive\": 1.75}, {\"Country\": \"United States of America\", \"WHOREGION\": \"Region of the Americas of WHO\", \"FLUREGION\": \"North America\", \"Year\": 2018, \"Week\": 23, \"SDATE\": \"2018-06-04\", \"EDATE\": \"2018-06-10\", \"SPEC_RECEIVED_NB\": 9989, \"SPEC_PROCESSED_NB\": 9989, \"AH1\": 0.0, \"AH1N12009\": 7, \"AH3\": 3, \"AH5\": null, \"ANOTSUBTYPED\": 73, \"INF_A\": 83, \"BYAMAGATA\": 9, \"BVICTORIA\": 3, \"BNOTDETERMINED\": 83, \"INF_B\": 95, \"ALL_INF\": 178, \"ALL_INF2\": 9811.0, \"TITLE\": \"No Report\", \"pct_positive\": 1.78}, {\"Country\": \"United States of America\", \"WHOREGION\": \"Region of the Americas of WHO\", \"FLUREGION\": \"North America\", \"Year\": 2018, \"Week\": 24, \"SDATE\": \"2018-06-11\", \"EDATE\": \"2018-06-17\", \"SPEC_RECEIVED_NB\": 9212, \"SPEC_PROCESSED_NB\": 9212, \"AH1\": 0.0, \"AH1N12009\": 6, \"AH3\": 3, \"AH5\": null, \"ANOTSUBTYPED\": 51, \"INF_A\": 60, \"BYAMAGATA\": 8, \"BVICTORIA\": 3, \"BNOTDETERMINED\": 67, \"INF_B\": 78, \"ALL_INF\": 138, \"ALL_INF2\": 9074.0, \"TITLE\": \"No Report\", \"pct_positive\": 1.5}, {\"Country\": \"United States of America\", \"WHOREGION\": \"Region of the Americas of WHO\", \"FLUREGION\": \"North America\", \"Year\": 2018, \"Week\": 25, \"SDATE\": \"2018-06-18\", \"EDATE\": \"2018-06-24\", \"SPEC_RECEIVED_NB\": 8715, \"SPEC_PROCESSED_NB\": 8715, \"AH1\": 0.0, \"AH1N12009\": 1, \"AH3\": 3, \"AH5\": null, \"ANOTSUBTYPED\": 49, \"INF_A\": 53, \"BYAMAGATA\": 6, \"BVICTORIA\": 3, \"BNOTDETERMINED\": 38, \"INF_B\": 47, \"ALL_INF\": 100, \"ALL_INF2\": 8614.0, \"TITLE\": \"No Report\", \"pct_positive\": 1.15}, {\"Country\": \"United States of America\", \"WHOREGION\": \"Region of the Americas of WHO\", \"FLUREGION\": \"North America\", \"Year\": 2018, \"Week\": 26, \"SDATE\": \"2018-06-25\", \"EDATE\": \"2018-07-01\", \"SPEC_RECEIVED_NB\": 7920, \"SPEC_PROCESSED_NB\": 7920, \"AH1\": 0.0, \"AH1N12009\": 2, \"AH3\": 6, \"AH5\": null, \"ANOTSUBTYPED\": 57, \"INF_A\": 65, \"BYAMAGATA\": 1, \"BVICTORIA\": 0, \"BNOTDETERMINED\": 29, \"INF_B\": 30, \"ALL_INF\": 95, \"ALL_INF2\": 7825.0, \"TITLE\": \"No Report\", \"pct_positive\": 1.2}, {\"Country\": \"United States of America\", \"WHOREGION\": \"Region of the Americas of WHO\", \"FLUREGION\": \"North America\", \"Year\": 2018, \"Week\": 27, \"SDATE\": \"2018-07-02\", \"EDATE\": \"2018-07-08\", \"SPEC_RECEIVED_NB\": 7010, \"SPEC_PROCESSED_NB\": 7010, \"AH1\": 0.0, \"AH1N12009\": 9, \"AH3\": 5, \"AH5\": null, \"ANOTSUBTYPED\": 44, \"INF_A\": 58, \"BYAMAGATA\": 6, \"BVICTORIA\": 0, \"BNOTDETERMINED\": 26, \"INF_B\": 32, \"ALL_INF\": 90, \"ALL_INF2\": 6920.0, \"TITLE\": \"No Report\", \"pct_positive\": 1.28}, {\"Country\": \"United States of America\", \"WHOREGION\": \"Region of the Americas of WHO\", \"FLUREGION\": \"North America\", \"Year\": 2018, \"Week\": 28, \"SDATE\": \"2018-07-09\", \"EDATE\": \"2018-07-15\", \"SPEC_RECEIVED_NB\": 7162, \"SPEC_PROCESSED_NB\": 7162, \"AH1\": 0.0, \"AH1N12009\": 8, \"AH3\": 9, \"AH5\": null, \"ANOTSUBTYPED\": 51, \"INF_A\": 68, \"BYAMAGATA\": 3, \"BVICTORIA\": 2, \"BNOTDETERMINED\": 14, \"INF_B\": 19, \"ALL_INF\": 87, \"ALL_INF2\": 7075.0, \"TITLE\": \"No Report\", \"pct_positive\": 1.21}, {\"Country\": \"United States of America\", \"WHOREGION\": \"Region of the Americas of WHO\", \"FLUREGION\": \"North America\", \"Year\": 2018, \"Week\": 29, \"SDATE\": \"2018-07-16\", \"EDATE\": \"2018-07-22\", \"SPEC_RECEIVED_NB\": 7009, \"SPEC_PROCESSED_NB\": 7009, \"AH1\": 0.0, \"AH1N12009\": 15, \"AH3\": 5, \"AH5\": null, \"ANOTSUBTYPED\": 57, \"INF_A\": 77, \"BYAMAGATA\": 4, \"BVICTORIA\": 2, \"BNOTDETERMINED\": 18, \"INF_B\": 24, \"ALL_INF\": 101, \"ALL_INF2\": 6908.0, \"TITLE\": \"No Report\", \"pct_positive\": 1.44}, {\"Country\": \"United States of America\", \"WHOREGION\": \"Region of the Americas of WHO\", \"FLUREGION\": \"North America\", \"Year\": 2018, \"Week\": 30, \"SDATE\": \"2018-07-23\", \"EDATE\": \"2018-07-29\", \"SPEC_RECEIVED_NB\": 6976, \"SPEC_PROCESSED_NB\": 6976, \"AH1\": 0.0, \"AH1N12009\": 9, \"AH3\": 3, \"AH5\": null, \"ANOTSUBTYPED\": 52, \"INF_A\": 64, \"BYAMAGATA\": 0, \"BVICTORIA\": 2, \"BNOTDETERMINED\": 19, \"INF_B\": 21, \"ALL_INF\": 85, \"ALL_INF2\": 6891.0, \"TITLE\": \"No Report\", \"pct_positive\": 1.22}, {\"Country\": \"United States of America\", \"WHOREGION\": \"Region of the Americas of WHO\", \"FLUREGION\": \"North America\", \"Year\": 2018, \"Week\": 31, \"SDATE\": \"2018-07-30\", \"EDATE\": \"2018-08-05\", \"SPEC_RECEIVED_NB\": 6477, \"SPEC_PROCESSED_NB\": 6477, \"AH1\": 0.0, \"AH1N12009\": 7, \"AH3\": 10, \"AH5\": null, \"ANOTSUBTYPED\": 46, \"INF_A\": 63, \"BYAMAGATA\": 1, \"BVICTORIA\": 0, \"BNOTDETERMINED\": 17, \"INF_B\": 18, \"ALL_INF\": 81, \"ALL_INF2\": 6396.0, \"TITLE\": \"No Report\", \"pct_positive\": 1.25}, {\"Country\": \"United States of America\", \"WHOREGION\": \"Region of the Americas of WHO\", \"FLUREGION\": \"North America\", \"Year\": 2018, \"Week\": 32, \"SDATE\": \"2018-08-06\", \"EDATE\": \"2018-08-12\", \"SPEC_RECEIVED_NB\": 6954, \"SPEC_PROCESSED_NB\": 6954, \"AH1\": 0.0, \"AH1N12009\": 6, \"AH3\": 8, \"AH5\": null, \"ANOTSUBTYPED\": 48, \"INF_A\": 62, \"BYAMAGATA\": 2, \"BVICTORIA\": 0, \"BNOTDETERMINED\": 23, \"INF_B\": 25, \"ALL_INF\": 87, \"ALL_INF2\": 6867.0, \"TITLE\": \"No Report\", \"pct_positive\": 1.25}, {\"Country\": \"United States of America\", \"WHOREGION\": \"Region of the Americas of WHO\", \"FLUREGION\": \"North America\", \"Year\": 2018, \"Week\": 33, \"SDATE\": \"2018-08-13\", \"EDATE\": \"2018-08-19\", \"SPEC_RECEIVED_NB\": 7246, \"SPEC_PROCESSED_NB\": 7246, \"AH1\": 0.0, \"AH1N12009\": 5, \"AH3\": 9, \"AH5\": null, \"ANOTSUBTYPED\": 42, \"INF_A\": 56, \"BYAMAGATA\": 2, \"BVICTORIA\": 0, \"BNOTDETERMINED\": 19, \"INF_B\": 21, \"ALL_INF\": 77, \"ALL_INF2\": 7169.0, \"TITLE\": \"No Report\", \"pct_positive\": 1.06}, {\"Country\": \"United States of America\", \"WHOREGION\": \"Region of the Americas of WHO\", \"FLUREGION\": \"North America\", \"Year\": 2018, \"Week\": 34, \"SDATE\": \"2018-08-20\", \"EDATE\": \"2018-08-26\", \"SPEC_RECEIVED_NB\": 8042, \"SPEC_PROCESSED_NB\": 8042, \"AH1\": 0.0, \"AH1N12009\": 17, \"AH3\": 20, \"AH5\": null, \"ANOTSUBTYPED\": 83, \"INF_A\": 120, \"BYAMAGATA\": 1, \"BVICTORIA\": 0, \"BNOTDETERMINED\": 28, \"INF_B\": 29, \"ALL_INF\": 149, \"ALL_INF2\": 7893.0, \"TITLE\": \"No Report\", \"pct_positive\": 1.85}, {\"Country\": \"United States of America\", \"WHOREGION\": \"Region of the Americas of WHO\", \"FLUREGION\": \"North America\", \"Year\": 2018, \"Week\": 35, \"SDATE\": \"2018-08-27\", \"EDATE\": \"2018-09-02\", \"SPEC_RECEIVED_NB\": 8970, \"SPEC_PROCESSED_NB\": 8970, \"AH1\": 0.0, \"AH1N12009\": 10, \"AH3\": 6, \"AH5\": null, \"ANOTSUBTYPED\": 98, \"INF_A\": 114, \"BYAMAGATA\": 2, \"BVICTORIA\": 0, \"BNOTDETERMINED\": 33, \"INF_B\": 35, \"ALL_INF\": 149, \"ALL_INF2\": 8821.0, \"TITLE\": \"No Report\", \"pct_positive\": 1.66}, {\"Country\": \"United States of America\", \"WHOREGION\": \"Region of the Americas of WHO\", \"FLUREGION\": \"North America\", \"Year\": 2018, \"Week\": 36, \"SDATE\": \"2018-09-03\", \"EDATE\": \"2018-09-09\", \"SPEC_RECEIVED_NB\": 10137, \"SPEC_PROCESSED_NB\": 10137, \"AH1\": 0.0, \"AH1N12009\": 17, \"AH3\": 17, \"AH5\": null, \"ANOTSUBTYPED\": 119, \"INF_A\": 153, \"BYAMAGATA\": 1, \"BVICTORIA\": 0, \"BNOTDETERMINED\": 53, \"INF_B\": 54, \"ALL_INF\": 207, \"ALL_INF2\": 9930.0, \"TITLE\": \"No Report\", \"pct_positive\": 2.04}, {\"Country\": \"United States of America\", \"WHOREGION\": \"Region of the Americas of WHO\", \"FLUREGION\": \"North America\", \"Year\": 2018, \"Week\": 37, \"SDATE\": \"2018-09-10\", \"EDATE\": \"2018-09-16\", \"SPEC_RECEIVED_NB\": 12476, \"SPEC_PROCESSED_NB\": 12476, \"AH1\": 0.0, \"AH1N12009\": 29, \"AH3\": 14, \"AH5\": null, \"ANOTSUBTYPED\": 155, \"INF_A\": 198, \"BYAMAGATA\": 5, \"BVICTORIA\": 1, \"BNOTDETERMINED\": 48, \"INF_B\": 54, \"ALL_INF\": 252, \"ALL_INF2\": 12224.0, \"TITLE\": \"No Report\", \"pct_positive\": 2.02}, {\"Country\": \"United States of America\", \"WHOREGION\": \"Region of the Americas of WHO\", \"FLUREGION\": \"North America\", \"Year\": 2018, \"Week\": 38, \"SDATE\": \"2018-09-17\", \"EDATE\": \"2018-09-23\", \"SPEC_RECEIVED_NB\": 13717, \"SPEC_PROCESSED_NB\": 13717, \"AH1\": 0.0, \"AH1N12009\": 22, \"AH3\": 17, \"AH5\": null, \"ANOTSUBTYPED\": 160, \"INF_A\": 199, \"BYAMAGATA\": 2, \"BVICTORIA\": 1, \"BNOTDETERMINED\": 68, \"INF_B\": 71, \"ALL_INF\": 270, \"ALL_INF2\": 13447.0, \"TITLE\": \"No Report\", \"pct_positive\": 1.97}, {\"Country\": \"United States of America\", \"WHOREGION\": \"Region of the Americas of WHO\", \"FLUREGION\": \"North America\", \"Year\": 2018, \"Week\": 39, \"SDATE\": \"2018-09-24\", \"EDATE\": \"2018-09-30\", \"SPEC_RECEIVED_NB\": 15324, \"SPEC_PROCESSED_NB\": 15324, \"AH1\": 0.0, \"AH1N12009\": 20, \"AH3\": 13, \"AH5\": null, \"ANOTSUBTYPED\": 169, \"INF_A\": 202, \"BYAMAGATA\": 3, \"BVICTORIA\": 0, \"BNOTDETERMINED\": 52, \"INF_B\": 55, \"ALL_INF\": 257, \"ALL_INF2\": 15067.0, \"TITLE\": \"No Report\", \"pct_positive\": 1.68}, {\"Country\": \"United States of America\", \"WHOREGION\": \"Region of the Americas of WHO\", \"FLUREGION\": \"North America\", \"Year\": 2018, \"Week\": 40, \"SDATE\": \"2018-10-01\", \"EDATE\": \"2018-10-07\", \"SPEC_RECEIVED_NB\": 17330, \"SPEC_PROCESSED_NB\": 17330, \"AH1\": 0.0, \"AH1N12009\": 29, \"AH3\": 11, \"AH5\": null, \"ANOTSUBTYPED\": 226, \"INF_A\": 266, \"BYAMAGATA\": 11, \"BVICTORIA\": 7, \"BNOTDETERMINED\": 71, \"INF_B\": 89, \"ALL_INF\": 355, \"ALL_INF2\": 16975.0, \"TITLE\": \"No Report\", \"pct_positive\": 2.05}, {\"Country\": \"United States of America\", \"WHOREGION\": \"Region of the Americas of WHO\", \"FLUREGION\": \"North America\", \"Year\": 2018, \"Week\": 41, \"SDATE\": \"2018-10-08\", \"EDATE\": \"2018-10-14\", \"SPEC_RECEIVED_NB\": 18954, \"SPEC_PROCESSED_NB\": 18954, \"AH1\": 0.0, \"AH1N12009\": 52, \"AH3\": 11, \"AH5\": null, \"ANOTSUBTYPED\": 231, \"INF_A\": 294, \"BYAMAGATA\": 5, \"BVICTORIA\": 3, \"BNOTDETERMINED\": 88, \"INF_B\": 96, \"ALL_INF\": 390, \"ALL_INF2\": 18564.0, \"TITLE\": \"No Report\", \"pct_positive\": 2.06}, {\"Country\": \"United States of America\", \"WHOREGION\": \"Region of the Americas of WHO\", \"FLUREGION\": \"North America\", \"Year\": 2018, \"Week\": 42, \"SDATE\": \"2018-10-15\", \"EDATE\": \"2018-10-21\", \"SPEC_RECEIVED_NB\": 21301, \"SPEC_PROCESSED_NB\": 21301, \"AH1\": 0.0, \"AH1N12009\": 52, \"AH3\": 22, \"AH5\": null, \"ANOTSUBTYPED\": 324, \"INF_A\": 398, \"BYAMAGATA\": 14, \"BVICTORIA\": 2, \"BNOTDETERMINED\": 90, \"INF_B\": 106, \"ALL_INF\": 504, \"ALL_INF2\": 20797.0, \"TITLE\": \"No Report\", \"pct_positive\": 2.37}, {\"Country\": \"United States of America\", \"WHOREGION\": \"Region of the Americas of WHO\", \"FLUREGION\": \"North America\", \"Year\": 2018, \"Week\": 43, \"SDATE\": \"2018-10-22\", \"EDATE\": \"2018-10-28\", \"SPEC_RECEIVED_NB\": 22528, \"SPEC_PROCESSED_NB\": 22528, \"AH1\": 0.0, \"AH1N12009\": 76, \"AH3\": 35, \"AH5\": null, \"ANOTSUBTYPED\": 343, \"INF_A\": 454, \"BYAMAGATA\": 13, \"BVICTORIA\": 0, \"BNOTDETERMINED\": 104, \"INF_B\": 117, \"ALL_INF\": 571, \"ALL_INF2\": 21957.0, \"TITLE\": \"No Report\", \"pct_positive\": 2.53}, {\"Country\": \"United States of America\", \"WHOREGION\": \"Region of the Americas of WHO\", \"FLUREGION\": \"North America\", \"Year\": 2018, \"Week\": 44, \"SDATE\": \"2018-10-29\", \"EDATE\": \"2018-11-04\", \"SPEC_RECEIVED_NB\": 23695, \"SPEC_PROCESSED_NB\": 23695, \"AH1\": 0.0, \"AH1N12009\": 84, \"AH3\": 23, \"AH5\": null, \"ANOTSUBTYPED\": 393, \"INF_A\": 500, \"BYAMAGATA\": 8, \"BVICTORIA\": 1, \"BNOTDETERMINED\": 100, \"INF_B\": 109, \"ALL_INF\": 609, \"ALL_INF2\": 23086.0, \"TITLE\": \"No Report\", \"pct_positive\": 2.57}, {\"Country\": \"United States of America\", \"WHOREGION\": \"Region of the Americas of WHO\", \"FLUREGION\": \"North America\", \"Year\": 2018, \"Week\": 45, \"SDATE\": \"2018-11-05\", \"EDATE\": \"2018-11-11\", \"SPEC_RECEIVED_NB\": 24855, \"SPEC_PROCESSED_NB\": 24855, \"AH1\": 0.0, \"AH1N12009\": 117, \"AH3\": 27, \"AH5\": null, \"ANOTSUBTYPED\": 561, \"INF_A\": 705, \"BYAMAGATA\": 7, \"BVICTORIA\": 4, \"BNOTDETERMINED\": 103, \"INF_B\": 114, \"ALL_INF\": 819, \"ALL_INF2\": 24036.0, \"TITLE\": \"No Report\", \"pct_positive\": 3.3}, {\"Country\": \"United States of America\", \"WHOREGION\": \"Region of the Americas of WHO\", \"FLUREGION\": \"North America\", \"Year\": 2018, \"Week\": 46, \"SDATE\": \"2018-11-12\", \"EDATE\": \"2018-11-18\", \"SPEC_RECEIVED_NB\": 25902, \"SPEC_PROCESSED_NB\": 25902, \"AH1\": 0.0, \"AH1N12009\": 148, \"AH3\": 41, \"AH5\": null, \"ANOTSUBTYPED\": 680, \"INF_A\": 869, \"BYAMAGATA\": 3, \"BVICTORIA\": 2, \"BNOTDETERMINED\": 104, \"INF_B\": 109, \"ALL_INF\": 978, \"ALL_INF2\": 24924.0, \"TITLE\": \"No Report\", \"pct_positive\": 3.78}, {\"Country\": \"United States of America\", \"WHOREGION\": \"Region of the Americas of WHO\", \"FLUREGION\": \"North America\", \"Year\": 2018, \"Week\": 47, \"SDATE\": \"2018-11-19\", \"EDATE\": \"2018-11-25\", \"SPEC_RECEIVED_NB\": 25858, \"SPEC_PROCESSED_NB\": 25858, \"AH1\": 0.0, \"AH1N12009\": 215, \"AH3\": 54, \"AH5\": null, \"ANOTSUBTYPED\": 907, \"INF_A\": 1176, \"BYAMAGATA\": 5, \"BVICTORIA\": 2, \"BNOTDETERMINED\": 77, \"INF_B\": 84, \"ALL_INF\": 1260, \"ALL_INF2\": 24598.0, \"TITLE\": \"No Report\", \"pct_positive\": 4.87}, {\"Country\": \"United States of America\", \"WHOREGION\": \"Region of the Americas of WHO\", \"FLUREGION\": \"North America\", \"Year\": 2018, \"Week\": 48, \"SDATE\": \"2018-11-26\", \"EDATE\": \"2018-12-02\", \"SPEC_RECEIVED_NB\": 29989, \"SPEC_PROCESSED_NB\": 29989, \"AH1\": 0.0, \"AH1N12009\": 326, \"AH3\": 64, \"AH5\": null, \"ANOTSUBTYPED\": 1013, \"INF_A\": 1403, \"BYAMAGATA\": 10, \"BVICTORIA\": 2, \"BNOTDETERMINED\": 107, \"INF_B\": 119, \"ALL_INF\": 1522, \"ALL_INF2\": 28467.0, \"TITLE\": \"No Report\", \"pct_positive\": 5.08}, {\"Country\": \"United States of America\", \"WHOREGION\": \"Region of the Americas of WHO\", \"FLUREGION\": \"North America\", \"Year\": 2018, \"Week\": 49, \"SDATE\": \"2018-12-03\", \"EDATE\": \"2018-12-09\", \"SPEC_RECEIVED_NB\": 30761, \"SPEC_PROCESSED_NB\": 30761, \"AH1\": 0.0, \"AH1N12009\": 361, \"AH3\": 90, \"AH5\": null, \"ANOTSUBTYPED\": 1674, \"INF_A\": 2125, \"BYAMAGATA\": 7, \"BVICTORIA\": 3, \"BNOTDETERMINED\": 159, \"INF_B\": 169, \"ALL_INF\": 2294, \"ALL_INF2\": 28467.0, \"TITLE\": \"No Report\", \"pct_positive\": 7.46}, {\"Country\": \"United States of America\", \"WHOREGION\": \"Region of the Americas of WHO\", \"FLUREGION\": \"North America\", \"Year\": 2018, \"Week\": 50, \"SDATE\": \"2018-12-10\", \"EDATE\": \"2018-12-16\", \"SPEC_RECEIVED_NB\": 35316, \"SPEC_PROCESSED_NB\": 35316, \"AH1\": 0.0, \"AH1N12009\": 674, \"AH3\": 166, \"AH5\": null, \"ANOTSUBTYPED\": 3262, \"INF_A\": 4102, \"BYAMAGATA\": 6, \"BVICTORIA\": 7, \"BNOTDETERMINED\": 197, \"INF_B\": 210, \"ALL_INF\": 4312, \"ALL_INF2\": 31004.0, \"TITLE\": \"No Report\", \"pct_positive\": 12.21}, {\"Country\": \"United States of America\", \"WHOREGION\": \"Region of the Americas of WHO\", \"FLUREGION\": \"North America\", \"Year\": 2018, \"Week\": 51, \"SDATE\": \"2018-12-17\", \"EDATE\": \"2018-12-23\", \"SPEC_RECEIVED_NB\": 41051, \"SPEC_PROCESSED_NB\": 41051, \"AH1\": 0.0, \"AH1N12009\": 1115, \"AH3\": 248, \"AH5\": null, \"ANOTSUBTYPED\": 5367, \"INF_A\": 6730, \"BYAMAGATA\": 8, \"BVICTORIA\": 20, \"BNOTDETERMINED\": 201, \"INF_B\": 229, \"ALL_INF\": 6959, \"ALL_INF2\": 34092.0, \"TITLE\": \"No Report\", \"pct_positive\": 16.95}, {\"Country\": \"United States of America\", \"WHOREGION\": \"Region of the Americas of WHO\", \"FLUREGION\": \"North America\", \"Year\": 2018, \"Week\": 52, \"SDATE\": \"2018-12-24\", \"EDATE\": \"2018-12-30\", \"SPEC_RECEIVED_NB\": 45896, \"SPEC_PROCESSED_NB\": 45896, \"AH1\": 0.0, \"AH1N12009\": 1243, \"AH3\": 274, \"AH5\": null, \"ANOTSUBTYPED\": 6962, \"INF_A\": 8479, \"BYAMAGATA\": 9, \"BVICTORIA\": 19, \"BNOTDETERMINED\": 248, \"INF_B\": 276, \"ALL_INF\": 8755, \"ALL_INF2\": 37141.0, \"TITLE\": \"No Report\", \"pct_positive\": 19.08}, {\"Country\": \"United States of America\", \"WHOREGION\": \"Region of the Americas of WHO\", \"FLUREGION\": \"North America\", \"Year\": 2019, \"Week\": 1, \"SDATE\": \"2018-12-31\", \"EDATE\": \"2019-01-06\", \"SPEC_RECEIVED_NB\": 47278, \"SPEC_PROCESSED_NB\": 47278, \"AH1\": 0.0, \"AH1N12009\": 1182, \"AH3\": 305, \"AH5\": null, \"ANOTSUBTYPED\": 5400, \"INF_A\": 6887, \"BYAMAGATA\": 17, \"BVICTORIA\": 6, \"BNOTDETERMINED\": 158, \"INF_B\": 181, \"ALL_INF\": 7068, \"ALL_INF2\": 40210.0, \"TITLE\": \"No Report\", \"pct_positive\": 14.95}, {\"Country\": \"United States of America\", \"WHOREGION\": \"Region of the Americas of WHO\", \"FLUREGION\": \"North America\", \"Year\": 2019, \"Week\": 2, \"SDATE\": \"2019-01-07\", \"EDATE\": \"2019-01-13\", \"SPEC_RECEIVED_NB\": 44838, \"SPEC_PROCESSED_NB\": 44838, \"AH1\": 0.0, \"AH1N12009\": 1429, \"AH3\": 233, \"AH5\": null, \"ANOTSUBTYPED\": 5175, \"INF_A\": 6837, \"BYAMAGATA\": 20, \"BVICTORIA\": 4, \"BNOTDETERMINED\": 230, \"INF_B\": 254, \"ALL_INF\": 7091, \"ALL_INF2\": 37747.0, \"TITLE\": \"No Report\", \"pct_positive\": 15.81}, {\"Country\": \"United States of America\", \"WHOREGION\": \"Region of the Americas of WHO\", \"FLUREGION\": \"North America\", \"Year\": 2019, \"Week\": 3, \"SDATE\": \"2019-01-14\", \"EDATE\": \"2019-01-20\", \"SPEC_RECEIVED_NB\": 45296, \"SPEC_PROCESSED_NB\": 45296, \"AH1\": 0.0, \"AH1N12009\": 1475, \"AH3\": 366, \"AH5\": null, \"ANOTSUBTYPED\": 6783, \"INF_A\": 8624, \"BYAMAGATA\": 16, \"BVICTORIA\": 17, \"BNOTDETERMINED\": 195, \"INF_B\": 228, \"ALL_INF\": 8852, \"ALL_INF2\": 36444.0, \"TITLE\": \"No Report\", \"pct_positive\": 19.54}, {\"Country\": \"United States of America\", \"WHOREGION\": \"Region of the Americas of WHO\", \"FLUREGION\": \"North America\", \"Year\": 2019, \"Week\": 4, \"SDATE\": \"2019-01-21\", \"EDATE\": \"2019-01-27\", \"SPEC_RECEIVED_NB\": 47652, \"SPEC_PROCESSED_NB\": 47652, \"AH1\": 0.0, \"AH1N12009\": 1546, \"AH3\": 511, \"AH5\": null, \"ANOTSUBTYPED\": 8426, \"INF_A\": 10483, \"BYAMAGATA\": 9, \"BVICTORIA\": 17, \"BNOTDETERMINED\": 262, \"INF_B\": 288, \"ALL_INF\": 10771, \"ALL_INF2\": 36881.0, \"TITLE\": \"No Report\", \"pct_positive\": 22.6}, {\"Country\": \"United States of America\", \"WHOREGION\": \"Region of the Americas of WHO\", \"FLUREGION\": \"North America\", \"Year\": 2019, \"Week\": 5, \"SDATE\": \"2019-01-28\", \"EDATE\": \"2019-02-03\", \"SPEC_RECEIVED_NB\": 52704, \"SPEC_PROCESSED_NB\": 52704, \"AH1\": 0.0, \"AH1N12009\": 1678, \"AH3\": 806, \"AH5\": null, \"ANOTSUBTYPED\": 10732, \"INF_A\": 13216, \"BYAMAGATA\": 18, \"BVICTORIA\": 24, \"BNOTDETERMINED\": 300, \"INF_B\": 342, \"ALL_INF\": 13558, \"ALL_INF2\": 39146.0, \"TITLE\": \"No Report\", \"pct_positive\": 25.72}, {\"Country\": \"United States of America\", \"WHOREGION\": \"Region of the Americas of WHO\", \"FLUREGION\": \"North America\", \"Year\": 2019, \"Week\": 6, \"SDATE\": \"2019-02-04\", \"EDATE\": \"2019-02-10\", \"SPEC_RECEIVED_NB\": 58794, \"SPEC_PROCESSED_NB\": 58794, \"AH1\": 0.0, \"AH1N12009\": 1878, \"AH3\": 1202, \"AH5\": null, \"ANOTSUBTYPED\": 13197, \"INF_A\": 16277, \"BYAMAGATA\": 11, \"BVICTORIA\": 18, \"BNOTDETERMINED\": 446, \"INF_B\": 475, \"ALL_INF\": 16752, \"ALL_INF2\": 42040.0, \"TITLE\": \"No Report\", \"pct_positive\": 28.49}, {\"Country\": \"United States of America\", \"WHOREGION\": \"Region of the Americas of WHO\", \"FLUREGION\": \"North America\", \"Year\": 2019, \"Week\": 7, \"SDATE\": \"2019-02-11\", \"EDATE\": \"2019-02-17\", \"SPEC_RECEIVED_NB\": 57876, \"SPEC_PROCESSED_NB\": 57876, \"AH1\": 0.0, \"AH1N12009\": 1703, \"AH3\": 1305, \"AH5\": null, \"ANOTSUBTYPED\": 13375, \"INF_A\": 16383, \"BYAMAGATA\": 18, \"BVICTORIA\": 29, \"BNOTDETERMINED\": 532, \"INF_B\": 579, \"ALL_INF\": 16962, \"ALL_INF2\": 40913.0, \"TITLE\": \"No Report\", \"pct_positive\": 29.31}, {\"Country\": \"United States of America\", \"WHOREGION\": \"Region of the Americas of WHO\", \"FLUREGION\": \"North America\", \"Year\": 2019, \"Week\": 8, \"SDATE\": \"2019-02-18\", \"EDATE\": \"2019-02-24\", \"SPEC_RECEIVED_NB\": 58689, \"SPEC_PROCESSED_NB\": 58689, \"AH1\": 0.0, \"AH1N12009\": 1480, \"AH3\": 1501, \"AH5\": null, \"ANOTSUBTYPED\": 13759, \"INF_A\": 16740, \"BYAMAGATA\": 12, \"BVICTORIA\": 28, \"BNOTDETERMINED\": 532, \"INF_B\": 572, \"ALL_INF\": 17312, \"ALL_INF2\": 41377.0, \"TITLE\": \"No Report\", \"pct_positive\": 29.5}, {\"Country\": \"United States of America\", \"WHOREGION\": \"Region of the Americas of WHO\", \"FLUREGION\": \"North America\", \"Year\": 2019, \"Week\": 9, \"SDATE\": \"2019-02-25\", \"EDATE\": \"2019-03-03\", \"SPEC_RECEIVED_NB\": 58082, \"SPEC_PROCESSED_NB\": 58082, \"AH1\": 0.0, \"AH1N12009\": 1377, \"AH3\": 1785, \"AH5\": null, \"ANOTSUBTYPED\": 13498, \"INF_A\": 16660, \"BYAMAGATA\": 10, \"BVICTORIA\": 34, \"BNOTDETERMINED\": 474, \"INF_B\": 518, \"ALL_INF\": 17178, \"ALL_INF2\": 40904.0, \"TITLE\": \"No Report\", \"pct_positive\": 29.58}, {\"Country\": \"United States of America\", \"WHOREGION\": \"Region of the Americas of WHO\", \"FLUREGION\": \"North America\", \"Year\": 2019, \"Week\": 10, \"SDATE\": \"2019-03-04\", \"EDATE\": \"2019-03-10\", \"SPEC_RECEIVED_NB\": 57990, \"SPEC_PROCESSED_NB\": 57990, \"AH1\": 0.0, \"AH1N12009\": 1292, \"AH3\": 1829, \"AH5\": null, \"ANOTSUBTYPED\": 13258, \"INF_A\": 16379, \"BYAMAGATA\": 27, \"BVICTORIA\": 42, \"BNOTDETERMINED\": 491, \"INF_B\": 560, \"ALL_INF\": 16939, \"ALL_INF2\": 41051.0, \"TITLE\": \"No Report\", \"pct_positive\": 29.21}, {\"Country\": \"United States of America\", \"WHOREGION\": \"Region of the Americas of WHO\", \"FLUREGION\": \"North America\", \"Year\": 2019, \"Week\": 11, \"SDATE\": \"2019-03-11\", \"EDATE\": \"2019-03-17\", \"SPEC_RECEIVED_NB\": 57812, \"SPEC_PROCESSED_NB\": 57812, \"AH1\": 0.0, \"AH1N12009\": 1052, \"AH3\": 1828, \"AH5\": null, \"ANOTSUBTYPED\": 13412, \"INF_A\": 16292, \"BYAMAGATA\": 31, \"BVICTORIA\": 56, \"BNOTDETERMINED\": 611, \"INF_B\": 698, \"ALL_INF\": 16990, \"ALL_INF2\": 40822.0, \"TITLE\": \"No Report\", \"pct_positive\": 29.39}, {\"Country\": \"United States of America\", \"WHOREGION\": \"Region of the Americas of WHO\", \"FLUREGION\": \"North America\", \"Year\": 2019, \"Week\": 12, \"SDATE\": \"2019-03-18\", \"EDATE\": \"2019-03-24\", \"SPEC_RECEIVED_NB\": 52500, \"SPEC_PROCESSED_NB\": 52500, \"AH1\": 0.0, \"AH1N12009\": 745, \"AH3\": 1402, \"AH5\": null, \"ANOTSUBTYPED\": 10349, \"INF_A\": 12496, \"BYAMAGATA\": 19, \"BVICTORIA\": 50, \"BNOTDETERMINED\": 689, \"INF_B\": 758, \"ALL_INF\": 13254, \"ALL_INF2\": 39246.0, \"TITLE\": \"No Report\", \"pct_positive\": 25.25}, {\"Country\": \"United States of America\", \"WHOREGION\": \"Region of the Americas of WHO\", \"FLUREGION\": \"North America\", \"Year\": 2019, \"Week\": 13, \"SDATE\": \"2019-03-25\", \"EDATE\": \"2019-03-31\", \"SPEC_RECEIVED_NB\": 45764, \"SPEC_PROCESSED_NB\": 45764, \"AH1\": 0.0, \"AH1N12009\": 472, \"AH3\": 1110, \"AH5\": null, \"ANOTSUBTYPED\": 7695, \"INF_A\": 9277, \"BYAMAGATA\": 25, \"BVICTORIA\": 66, \"BNOTDETERMINED\": 698, \"INF_B\": 789, \"ALL_INF\": 10066, \"ALL_INF2\": 35698.0, \"TITLE\": \"No Report\", \"pct_positive\": 22.0}, {\"Country\": \"United States of America\", \"WHOREGION\": \"Region of the Americas of WHO\", \"FLUREGION\": \"North America\", \"Year\": 2019, \"Week\": 14, \"SDATE\": \"2019-04-01\", \"EDATE\": \"2019-04-07\", \"SPEC_RECEIVED_NB\": 39287, \"SPEC_PROCESSED_NB\": 39287, \"AH1\": 0.0, \"AH1N12009\": 336, \"AH3\": 889, \"AH5\": null, \"ANOTSUBTYPED\": 4904, \"INF_A\": 6129, \"BYAMAGATA\": 20, \"BVICTORIA\": 70, \"BNOTDETERMINED\": 684, \"INF_B\": 774, \"ALL_INF\": 6903, \"ALL_INF2\": 32384.0, \"TITLE\": \"No Report\", \"pct_positive\": 17.57}, {\"Country\": \"United States of America\", \"WHOREGION\": \"Region of the Americas of WHO\", \"FLUREGION\": \"North America\", \"Year\": 2019, \"Week\": 15, \"SDATE\": \"2019-04-08\", \"EDATE\": \"2019-04-14\", \"SPEC_RECEIVED_NB\": 33751, \"SPEC_PROCESSED_NB\": 33751, \"AH1\": 0.0, \"AH1N12009\": 217, \"AH3\": 660, \"AH5\": null, \"ANOTSUBTYPED\": 3210, \"INF_A\": 4087, \"BYAMAGATA\": 18, \"BVICTORIA\": 58, \"BNOTDETERMINED\": 638, \"INF_B\": 714, \"ALL_INF\": 4801, \"ALL_INF2\": 28950.0, \"TITLE\": \"No Report\", \"pct_positive\": 14.22}, {\"Country\": \"United States of America\", \"WHOREGION\": \"Region of the Americas of WHO\", \"FLUREGION\": \"North America\", \"Year\": 2019, \"Week\": 16, \"SDATE\": \"2019-04-15\", \"EDATE\": \"2019-04-21\", \"SPEC_RECEIVED_NB\": 29429, \"SPEC_PROCESSED_NB\": 29429, \"AH1\": 0.0, \"AH1N12009\": 130, \"AH3\": 354, \"AH5\": null, \"ANOTSUBTYPED\": 1898, \"INF_A\": 2382, \"BYAMAGATA\": 19, \"BVICTORIA\": 50, \"BNOTDETERMINED\": 536, \"INF_B\": 605, \"ALL_INF\": 2987, \"ALL_INF2\": 26442.0, \"TITLE\": \"No Report\", \"pct_positive\": 10.15}, {\"Country\": \"United States of America\", \"WHOREGION\": \"Region of the Americas of WHO\", \"FLUREGION\": \"North America\", \"Year\": 2019, \"Week\": 17, \"SDATE\": \"2019-04-22\", \"EDATE\": \"2019-04-28\", \"SPEC_RECEIVED_NB\": 25890, \"SPEC_PROCESSED_NB\": 25890, \"AH1\": 0.0, \"AH1N12009\": 87, \"AH3\": 218, \"AH5\": null, \"ANOTSUBTYPED\": 1032, \"INF_A\": 1337, \"BYAMAGATA\": 14, \"BVICTORIA\": 39, \"BNOTDETERMINED\": 475, \"INF_B\": 528, \"ALL_INF\": 1865, \"ALL_INF2\": 24025.0, \"TITLE\": \"No Report\", \"pct_positive\": 7.2}, {\"Country\": \"United States of America\", \"WHOREGION\": \"Region of the Americas of WHO\", \"FLUREGION\": \"North America\", \"Year\": 2019, \"Week\": 18, \"SDATE\": \"2019-04-29\", \"EDATE\": \"2019-05-05\", \"SPEC_RECEIVED_NB\": 21148, \"SPEC_PROCESSED_NB\": 21148, \"AH1\": 0.0, \"AH1N12009\": 65, \"AH3\": 158, \"AH5\": null, \"ANOTSUBTYPED\": 640, \"INF_A\": 863, \"BYAMAGATA\": 11, \"BVICTORIA\": 40, \"BNOTDETERMINED\": 345, \"INF_B\": 396, \"ALL_INF\": 1259, \"ALL_INF2\": 19889.0, \"TITLE\": \"No Report\", \"pct_positive\": 5.95}, {\"Country\": \"United States of America\", \"WHOREGION\": \"Region of the Americas of WHO\", \"FLUREGION\": \"North America\", \"Year\": 2019, \"Week\": 19, \"SDATE\": \"2019-05-06\", \"EDATE\": \"2019-05-12\", \"SPEC_RECEIVED_NB\": 18525, \"SPEC_PROCESSED_NB\": 18525, \"AH1\": 0.0, \"AH1N12009\": 45, \"AH3\": 94, \"AH5\": null, \"ANOTSUBTYPED\": 418, \"INF_A\": 557, \"BYAMAGATA\": 9, \"BVICTORIA\": 41, \"BNOTDETERMINED\": 297, \"INF_B\": 347, \"ALL_INF\": 904, \"ALL_INF2\": 17621.0, \"TITLE\": \"No Report\", \"pct_positive\": 4.88}, {\"Country\": \"United States of America\", \"WHOREGION\": \"Region of the Americas of WHO\", \"FLUREGION\": \"North America\", \"Year\": 2019, \"Week\": 20, \"SDATE\": \"2019-05-13\", \"EDATE\": \"2019-05-19\", \"SPEC_RECEIVED_NB\": 17777, \"SPEC_PROCESSED_NB\": 17777, \"AH1\": 0.0, \"AH1N12009\": 43, \"AH3\": 82, \"AH5\": null, \"ANOTSUBTYPED\": 336, \"INF_A\": 461, \"BYAMAGATA\": 7, \"BVICTORIA\": 40, \"BNOTDETERMINED\": 279, \"INF_B\": 326, \"ALL_INF\": 787, \"ALL_INF2\": 16990.0, \"TITLE\": \"No Report\", \"pct_positive\": 4.43}, {\"Country\": \"United States of America\", \"WHOREGION\": \"Region of the Americas of WHO\", \"FLUREGION\": \"North America\", \"Year\": 2019, \"Week\": 21, \"SDATE\": \"2019-05-20\", \"EDATE\": \"2019-05-26\", \"SPEC_RECEIVED_NB\": 16180, \"SPEC_PROCESSED_NB\": 16180, \"AH1\": 0.0, \"AH1N12009\": 29, \"AH3\": 67, \"AH5\": null, \"ANOTSUBTYPED\": 280, \"INF_A\": 376, \"BYAMAGATA\": 3, \"BVICTORIA\": 27, \"BNOTDETERMINED\": 261, \"INF_B\": 291, \"ALL_INF\": 667, \"ALL_INF2\": 15513.0, \"TITLE\": \"No Report\", \"pct_positive\": 4.12}, {\"Country\": \"United States of America\", \"WHOREGION\": \"Region of the Americas of WHO\", \"FLUREGION\": \"North America\", \"Year\": 2019, \"Week\": 22, \"SDATE\": \"2019-05-27\", \"EDATE\": \"2019-06-02\", \"SPEC_RECEIVED_NB\": 14912, \"SPEC_PROCESSED_NB\": 14912, \"AH1\": 0.0, \"AH1N12009\": 23, \"AH3\": 55, \"AH5\": null, \"ANOTSUBTYPED\": 216, \"INF_A\": 294, \"BYAMAGATA\": 11, \"BVICTORIA\": 25, \"BNOTDETERMINED\": 249, \"INF_B\": 285, \"ALL_INF\": 579, \"ALL_INF2\": 14333.0, \"TITLE\": \"No Report\", \"pct_positive\": 3.88}, {\"Country\": \"United States of America\", \"WHOREGION\": \"Region of the Americas of WHO\", \"FLUREGION\": \"North America\", \"Year\": 2019, \"Week\": 23, \"SDATE\": \"2019-06-03\", \"EDATE\": \"2019-06-09\", \"SPEC_RECEIVED_NB\": 13102, \"SPEC_PROCESSED_NB\": 13102, \"AH1\": 0.0, \"AH1N12009\": 26, \"AH3\": 54, \"AH5\": null, \"ANOTSUBTYPED\": 147, \"INF_A\": 227, \"BYAMAGATA\": 1, \"BVICTORIA\": 32, \"BNOTDETERMINED\": 226, \"INF_B\": 259, \"ALL_INF\": 486, \"ALL_INF2\": 12616.0, \"TITLE\": \"No Report\", \"pct_positive\": 3.71}, {\"Country\": \"United States of America\", \"WHOREGION\": \"Region of the Americas of WHO\", \"FLUREGION\": \"North America\", \"Year\": 2019, \"Week\": 24, \"SDATE\": \"2019-06-10\", \"EDATE\": \"2019-06-16\", \"SPEC_RECEIVED_NB\": 11817, \"SPEC_PROCESSED_NB\": 11817, \"AH1\": 0.0, \"AH1N12009\": 21, \"AH3\": 57, \"AH5\": null, \"ANOTSUBTYPED\": 136, \"INF_A\": 214, \"BYAMAGATA\": 2, \"BVICTORIA\": 19, \"BNOTDETERMINED\": 140, \"INF_B\": 161, \"ALL_INF\": 375, \"ALL_INF2\": 11442.0, \"TITLE\": \"No Report\", \"pct_positive\": 3.17}, {\"Country\": \"United States of America\", \"WHOREGION\": \"Region of the Americas of WHO\", \"FLUREGION\": \"North America\", \"Year\": 2019, \"Week\": 25, \"SDATE\": \"2019-06-17\", \"EDATE\": \"2019-06-23\", \"SPEC_RECEIVED_NB\": 10843, \"SPEC_PROCESSED_NB\": 10843, \"AH1\": 0.0, \"AH1N12009\": 19, \"AH3\": 52, \"AH5\": null, \"ANOTSUBTYPED\": 111, \"INF_A\": 182, \"BYAMAGATA\": 0, \"BVICTORIA\": 13, \"BNOTDETERMINED\": 99, \"INF_B\": 112, \"ALL_INF\": 294, \"ALL_INF2\": 10549.0, \"TITLE\": \"No Report\", \"pct_positive\": 2.71}, {\"Country\": \"United States of America\", \"WHOREGION\": \"Region of the Americas of WHO\", \"FLUREGION\": \"North America\", \"Year\": 2019, \"Week\": 26, \"SDATE\": \"2019-06-24\", \"EDATE\": \"2019-06-30\", \"SPEC_RECEIVED_NB\": 9513, \"SPEC_PROCESSED_NB\": 9513, \"AH1\": 0.0, \"AH1N12009\": 21, \"AH3\": 48, \"AH5\": null, \"ANOTSUBTYPED\": 95, \"INF_A\": 164, \"BYAMAGATA\": 3, \"BVICTORIA\": 12, \"BNOTDETERMINED\": 100, \"INF_B\": 115, \"ALL_INF\": 279, \"ALL_INF2\": 9234.0, \"TITLE\": \"No Report\", \"pct_positive\": 2.93}, {\"Country\": \"United States of America\", \"WHOREGION\": \"Region of the Americas of WHO\", \"FLUREGION\": \"North America\", \"Year\": 2019, \"Week\": 27, \"SDATE\": \"2019-07-01\", \"EDATE\": \"2019-07-07\", \"SPEC_RECEIVED_NB\": 9212, \"SPEC_PROCESSED_NB\": 9212, \"AH1\": 0.0, \"AH1N12009\": 29, \"AH3\": 41, \"AH5\": null, \"ANOTSUBTYPED\": 132, \"INF_A\": 202, \"BYAMAGATA\": 1, \"BVICTORIA\": 13, \"BNOTDETERMINED\": 89, \"INF_B\": 103, \"ALL_INF\": 305, \"ALL_INF2\": 8907.0, \"TITLE\": \"No Report\", \"pct_positive\": 3.31}, {\"Country\": \"United States of America\", \"WHOREGION\": \"Region of the Americas of WHO\", \"FLUREGION\": \"North America\", \"Year\": 2019, \"Week\": 28, \"SDATE\": \"2019-07-08\", \"EDATE\": \"2019-07-14\", \"SPEC_RECEIVED_NB\": 9474, \"SPEC_PROCESSED_NB\": 9474, \"AH1\": 0.0, \"AH1N12009\": 10, \"AH3\": 42, \"AH5\": null, \"ANOTSUBTYPED\": 103, \"INF_A\": 155, \"BYAMAGATA\": 1, \"BVICTORIA\": 9, \"BNOTDETERMINED\": 83, \"INF_B\": 93, \"ALL_INF\": 248, \"ALL_INF2\": 9226.0, \"TITLE\": \"No Report\", \"pct_positive\": 2.62}, {\"Country\": \"United States of America\", \"WHOREGION\": \"Region of the Americas of WHO\", \"FLUREGION\": \"North America\", \"Year\": 2019, \"Week\": 29, \"SDATE\": \"2019-07-15\", \"EDATE\": \"2019-07-21\", \"SPEC_RECEIVED_NB\": 8662, \"SPEC_PROCESSED_NB\": 8662, \"AH1\": 0.0, \"AH1N12009\": 12, \"AH3\": 55, \"AH5\": null, \"ANOTSUBTYPED\": 109, \"INF_A\": 176, \"BYAMAGATA\": 0, \"BVICTORIA\": 10, \"BNOTDETERMINED\": 81, \"INF_B\": 91, \"ALL_INF\": 267, \"ALL_INF2\": 8395.0, \"TITLE\": \"No Report\", \"pct_positive\": 3.08}, {\"Country\": \"United States of America\", \"WHOREGION\": \"Region of the Americas of WHO\", \"FLUREGION\": \"North America\", \"Year\": 2019, \"Week\": 30, \"SDATE\": \"2019-07-22\", \"EDATE\": \"2019-07-28\", \"SPEC_RECEIVED_NB\": 8245, \"SPEC_PROCESSED_NB\": 8245, \"AH1\": 0.0, \"AH1N12009\": 19, \"AH3\": 29, \"AH5\": null, \"ANOTSUBTYPED\": 106, \"INF_A\": 154, \"BYAMAGATA\": 0, \"BVICTORIA\": 11, \"BNOTDETERMINED\": 88, \"INF_B\": 99, \"ALL_INF\": 253, \"ALL_INF2\": 7992.0, \"TITLE\": \"No Report\", \"pct_positive\": 3.07}, {\"Country\": \"United States of America\", \"WHOREGION\": \"Region of the Americas of WHO\", \"FLUREGION\": \"North America\", \"Year\": 2019, \"Week\": 31, \"SDATE\": \"2019-07-29\", \"EDATE\": \"2019-08-04\", \"SPEC_RECEIVED_NB\": 8213, \"SPEC_PROCESSED_NB\": 8213, \"AH1\": 0.0, \"AH1N12009\": 14, \"AH3\": 30, \"AH5\": null, \"ANOTSUBTYPED\": 106, \"INF_A\": 150, \"BYAMAGATA\": 2, \"BVICTORIA\": 10, \"BNOTDETERMINED\": 86, \"INF_B\": 98, \"ALL_INF\": 248, \"ALL_INF2\": 7965.0, \"TITLE\": \"No Report\", \"pct_positive\": 3.02}, {\"Country\": \"United States of America\", \"WHOREGION\": \"Region of the Americas of WHO\", \"FLUREGION\": \"North America\", \"Year\": 2019, \"Week\": 32, \"SDATE\": \"2019-08-05\", \"EDATE\": \"2019-08-11\", \"SPEC_RECEIVED_NB\": 8374, \"SPEC_PROCESSED_NB\": 8374, \"AH1\": 0.0, \"AH1N12009\": 7, \"AH3\": 33, \"AH5\": null, \"ANOTSUBTYPED\": 79, \"INF_A\": 119, \"BYAMAGATA\": 0, \"BVICTORIA\": 16, \"BNOTDETERMINED\": 88, \"INF_B\": 104, \"ALL_INF\": 223, \"ALL_INF2\": 8151.0, \"TITLE\": \"No Report\", \"pct_positive\": 2.66}, {\"Country\": \"United States of America\", \"WHOREGION\": \"Region of the Americas of WHO\", \"FLUREGION\": \"North America\", \"Year\": 2019, \"Week\": 33, \"SDATE\": \"2019-08-12\", \"EDATE\": \"2019-08-18\", \"SPEC_RECEIVED_NB\": 8647, \"SPEC_PROCESSED_NB\": 8647, \"AH1\": 0.0, \"AH1N12009\": 20, \"AH3\": 34, \"AH5\": null, \"ANOTSUBTYPED\": 81, \"INF_A\": 135, \"BYAMAGATA\": 0, \"BVICTORIA\": 38, \"BNOTDETERMINED\": 94, \"INF_B\": 132, \"ALL_INF\": 267, \"ALL_INF2\": 8380.0, \"TITLE\": \"No Report\", \"pct_positive\": 3.09}, {\"Country\": \"United States of America\", \"WHOREGION\": \"Region of the Americas of WHO\", \"FLUREGION\": \"North America\", \"Year\": 2019, \"Week\": 34, \"SDATE\": \"2019-08-19\", \"EDATE\": \"2019-08-25\", \"SPEC_RECEIVED_NB\": 9244, \"SPEC_PROCESSED_NB\": 9244, \"AH1\": 0.0, \"AH1N12009\": 19, \"AH3\": 38, \"AH5\": null, \"ANOTSUBTYPED\": 95, \"INF_A\": 152, \"BYAMAGATA\": 0, \"BVICTORIA\": 32, \"BNOTDETERMINED\": 118, \"INF_B\": 150, \"ALL_INF\": 302, \"ALL_INF2\": 8942.0, \"TITLE\": \"No Report\", \"pct_positive\": 3.27}, {\"Country\": \"United States of America\", \"WHOREGION\": \"Region of the Americas of WHO\", \"FLUREGION\": \"North America\", \"Year\": 2019, \"Week\": 35, \"SDATE\": \"2019-08-26\", \"EDATE\": \"2019-09-01\", \"SPEC_RECEIVED_NB\": 10870, \"SPEC_PROCESSED_NB\": 10870, \"AH1\": 0.0, \"AH1N12009\": 14, \"AH3\": 34, \"AH5\": null, \"ANOTSUBTYPED\": 146, \"INF_A\": 194, \"BYAMAGATA\": 0, \"BVICTORIA\": 29, \"BNOTDETERMINED\": 226, \"INF_B\": 255, \"ALL_INF\": 449, \"ALL_INF2\": 10421.0, \"TITLE\": \"No Report\", \"pct_positive\": 4.13}, {\"Country\": \"United States of America\", \"WHOREGION\": \"Region of the Americas of WHO\", \"FLUREGION\": \"North America\", \"Year\": 2019, \"Week\": 36, \"SDATE\": \"2019-09-02\", \"EDATE\": \"2019-09-08\", \"SPEC_RECEIVED_NB\": 12268, \"SPEC_PROCESSED_NB\": 12268, \"AH1\": 0.0, \"AH1N12009\": 16, \"AH3\": 54, \"AH5\": null, \"ANOTSUBTYPED\": 145, \"INF_A\": 215, \"BYAMAGATA\": 1, \"BVICTORIA\": 29, \"BNOTDETERMINED\": 231, \"INF_B\": 261, \"ALL_INF\": 476, \"ALL_INF2\": 11792.0, \"TITLE\": \"No Report\", \"pct_positive\": 3.88}, {\"Country\": \"United States of America\", \"WHOREGION\": \"Region of the Americas of WHO\", \"FLUREGION\": \"North America\", \"Year\": 2019, \"Week\": 37, \"SDATE\": \"2019-09-09\", \"EDATE\": \"2019-09-15\", \"SPEC_RECEIVED_NB\": 13954, \"SPEC_PROCESSED_NB\": 13954, \"AH1\": 0.0, \"AH1N12009\": 12, \"AH3\": 69, \"AH5\": null, \"ANOTSUBTYPED\": 166, \"INF_A\": 247, \"BYAMAGATA\": 2, \"BVICTORIA\": 44, \"BNOTDETERMINED\": 182, \"INF_B\": 228, \"ALL_INF\": 475, \"ALL_INF2\": 13479.0, \"TITLE\": \"No Report\", \"pct_positive\": 3.4}, {\"Country\": \"United States of America\", \"WHOREGION\": \"Region of the Americas of WHO\", \"FLUREGION\": \"North America\", \"Year\": 2019, \"Week\": 38, \"SDATE\": \"2019-09-16\", \"EDATE\": \"2019-09-22\", \"SPEC_RECEIVED_NB\": 15837, \"SPEC_PROCESSED_NB\": 15837, \"AH1\": 0.0, \"AH1N12009\": 27, \"AH3\": 59, \"AH5\": null, \"ANOTSUBTYPED\": 171, \"INF_A\": 257, \"BYAMAGATA\": 0, \"BVICTORIA\": 46, \"BNOTDETERMINED\": 258, \"INF_B\": 304, \"ALL_INF\": 561, \"ALL_INF2\": 15276.0, \"TITLE\": \"No Report\", \"pct_positive\": 3.54}, {\"Country\": \"United States of America\", \"WHOREGION\": \"Region of the Americas of WHO\", \"FLUREGION\": \"North America\", \"Year\": 2019, \"Week\": 39, \"SDATE\": \"2019-09-23\", \"EDATE\": \"2019-09-29\", \"SPEC_RECEIVED_NB\": 18142, \"SPEC_PROCESSED_NB\": 18142, \"AH1\": 0.0, \"AH1N12009\": 18, \"AH3\": 60, \"AH5\": null, \"ANOTSUBTYPED\": 171, \"INF_A\": 249, \"BYAMAGATA\": 0, \"BVICTORIA\": 49, \"BNOTDETERMINED\": 329, \"INF_B\": 378, \"ALL_INF\": 627, \"ALL_INF2\": 17515.0, \"TITLE\": \"No Report\", \"pct_positive\": 3.46}, {\"Country\": \"United States of America\", \"WHOREGION\": \"Region of the Americas of WHO\", \"FLUREGION\": \"North America\", \"Year\": 2019, \"Week\": 40, \"SDATE\": \"2019-09-30\", \"EDATE\": \"2019-10-06\", \"SPEC_RECEIVED_NB\": 20838, \"SPEC_PROCESSED_NB\": 20838, \"AH1\": 0.0, \"AH1N12009\": 25, \"AH3\": 57, \"AH5\": null, \"ANOTSUBTYPED\": 157, \"INF_A\": 239, \"BYAMAGATA\": 1, \"BVICTORIA\": 56, \"BNOTDETERMINED\": 131, \"INF_B\": 188, \"ALL_INF\": 427, \"ALL_INF2\": 20411.0, \"TITLE\": \"No Report\", \"pct_positive\": 2.05}, {\"Country\": \"United States of America\", \"WHOREGION\": \"Region of the Americas of WHO\", \"FLUREGION\": \"North America\", \"Year\": 2019, \"Week\": 41, \"SDATE\": \"2019-10-07\", \"EDATE\": \"2019-10-13\", \"SPEC_RECEIVED_NB\": 23213, \"SPEC_PROCESSED_NB\": 23213, \"AH1\": 0.0, \"AH1N12009\": 33, \"AH3\": 64, \"AH5\": null, \"ANOTSUBTYPED\": 168, \"INF_A\": 265, \"BYAMAGATA\": 2, \"BVICTORIA\": 70, \"BNOTDETERMINED\": 188, \"INF_B\": 260, \"ALL_INF\": 525, \"ALL_INF2\": 22688.0, \"TITLE\": \"No Report\", \"pct_positive\": 2.26}, {\"Country\": \"United States of America\", \"WHOREGION\": \"Region of the Americas of WHO\", \"FLUREGION\": \"North America\", \"Year\": 2019, \"Week\": 42, \"SDATE\": \"2019-10-14\", \"EDATE\": \"2019-10-20\", \"SPEC_RECEIVED_NB\": 24387, \"SPEC_PROCESSED_NB\": 24387, \"AH1\": 0.0, \"AH1N12009\": 36, \"AH3\": 82, \"AH5\": null, \"ANOTSUBTYPED\": 196, \"INF_A\": 314, \"BYAMAGATA\": 3, \"BVICTORIA\": 77, \"BNOTDETERMINED\": 200, \"INF_B\": 280, \"ALL_INF\": 594, \"ALL_INF2\": 23793.0, \"TITLE\": \"No Report\", \"pct_positive\": 2.44}, {\"Country\": \"United States of America\", \"WHOREGION\": \"Region of the Americas of WHO\", \"FLUREGION\": \"North America\", \"Year\": 2019, \"Week\": 43, \"SDATE\": \"2019-10-21\", \"EDATE\": \"2019-10-27\", \"SPEC_RECEIVED_NB\": 26123, \"SPEC_PROCESSED_NB\": 26123, \"AH1\": 0.0, \"AH1N12009\": 53, \"AH3\": 78, \"AH5\": null, \"ANOTSUBTYPED\": 249, \"INF_A\": 380, \"BYAMAGATA\": 5, \"BVICTORIA\": 96, \"BNOTDETERMINED\": 374, \"INF_B\": 475, \"ALL_INF\": 855, \"ALL_INF2\": 25268.0, \"TITLE\": \"No Report\", \"pct_positive\": 3.27}, {\"Country\": \"United States of America\", \"WHOREGION\": \"Region of the Americas of WHO\", \"FLUREGION\": \"North America\", \"Year\": 2019, \"Week\": 44, \"SDATE\": \"2019-10-28\", \"EDATE\": \"2019-11-03\", \"SPEC_RECEIVED_NB\": 27014, \"SPEC_PROCESSED_NB\": 27014, \"AH1\": 0.0, \"AH1N12009\": 52, \"AH3\": 61, \"AH5\": null, \"ANOTSUBTYPED\": 304, \"INF_A\": 417, \"BYAMAGATA\": 5, \"BVICTORIA\": 120, \"BNOTDETERMINED\": 595, \"INF_B\": 720, \"ALL_INF\": 1137, \"ALL_INF2\": 25877.0, \"TITLE\": \"No Report\", \"pct_positive\": 4.21}, {\"Country\": \"United States of America\", \"WHOREGION\": \"Region of the Americas of WHO\", \"FLUREGION\": \"North America\", \"Year\": 2019, \"Week\": 45, \"SDATE\": \"2019-11-04\", \"EDATE\": \"2019-11-10\", \"SPEC_RECEIVED_NB\": 31189, \"SPEC_PROCESSED_NB\": 31189, \"AH1\": 0.0, \"AH1N12009\": 122, \"AH3\": 74, \"AH5\": null, \"ANOTSUBTYPED\": 619, \"INF_A\": 815, \"BYAMAGATA\": 10, \"BVICTORIA\": 234, \"BNOTDETERMINED\": 1149, \"INF_B\": 1393, \"ALL_INF\": 2208, \"ALL_INF2\": 28981.0, \"TITLE\": \"No Report\", \"pct_positive\": 7.08}, {\"Country\": \"United States of America\", \"WHOREGION\": \"Region of the Americas of WHO\", \"FLUREGION\": \"North America\", \"Year\": 2019, \"Week\": 46, \"SDATE\": \"2019-11-11\", \"EDATE\": \"2019-11-17\", \"SPEC_RECEIVED_NB\": 33647, \"SPEC_PROCESSED_NB\": 33647, \"AH1\": 0.0, \"AH1N12009\": 149, \"AH3\": 58, \"AH5\": null, \"ANOTSUBTYPED\": 681, \"INF_A\": 888, \"BYAMAGATA\": 10, \"BVICTORIA\": 330, \"BNOTDETERMINED\": 1678, \"INF_B\": 2018, \"ALL_INF\": 2906, \"ALL_INF2\": 30741.0, \"TITLE\": \"No Report\", \"pct_positive\": 8.64}, {\"Country\": \"United States of America\", \"WHOREGION\": \"Region of the Americas of WHO\", \"FLUREGION\": \"North America\", \"Year\": 2019, \"Week\": 47, \"SDATE\": \"2019-11-18\", \"EDATE\": \"2019-11-24\", \"SPEC_RECEIVED_NB\": 39305, \"SPEC_PROCESSED_NB\": 39305, \"AH1\": 0.0, \"AH1N12009\": 258, \"AH3\": 78, \"AH5\": null, \"ANOTSUBTYPED\": 1076, \"INF_A\": 1412, \"BYAMAGATA\": 10, \"BVICTORIA\": 423, \"BNOTDETERMINED\": 2754, \"INF_B\": 3187, \"ALL_INF\": 4599, \"ALL_INF2\": 34706.0, \"TITLE\": \"No Report\", \"pct_positive\": 11.7}, {\"Country\": \"United States of America\", \"WHOREGION\": \"Region of the Americas of WHO\", \"FLUREGION\": \"North America\", \"Year\": 2019, \"Week\": 48, \"SDATE\": \"2019-11-25\", \"EDATE\": \"2019-12-01\", \"SPEC_RECEIVED_NB\": 37757, \"SPEC_PROCESSED_NB\": 37757, \"AH1\": 0.0, \"AH1N12009\": 369, \"AH3\": 83, \"AH5\": null, \"ANOTSUBTYPED\": 1171, \"INF_A\": 1623, \"BYAMAGATA\": 10, \"BVICTORIA\": 500, \"BNOTDETERMINED\": 2934, \"INF_B\": 3444, \"ALL_INF\": 5067, \"ALL_INF2\": 32690.0, \"TITLE\": \"No Report\", \"pct_positive\": 13.42}, {\"Country\": \"United States of America\", \"WHOREGION\": \"Region of the Americas of WHO\", \"FLUREGION\": \"North America\", \"Year\": 2019, \"Week\": 49, \"SDATE\": \"2019-12-02\", \"EDATE\": \"2019-12-08\", \"SPEC_RECEIVED_NB\": 45188, \"SPEC_PROCESSED_NB\": 45188, \"AH1\": 0.0, \"AH1N12009\": 513, \"AH3\": 83, \"AH5\": null, \"ANOTSUBTYPED\": 1512, \"INF_A\": 2108, \"BYAMAGATA\": 14, \"BVICTORIA\": 657, \"BNOTDETERMINED\": 3656, \"INF_B\": 4327, \"ALL_INF\": 6435, \"ALL_INF2\": 38753.0, \"TITLE\": \"No Report\", \"pct_positive\": 14.24}, {\"Country\": \"United States of America\", \"WHOREGION\": \"Region of the Americas of WHO\", \"FLUREGION\": \"North America\", \"Year\": 2019, \"Week\": 50, \"SDATE\": \"2019-12-09\", \"EDATE\": \"2019-12-15\", \"SPEC_RECEIVED_NB\": 48415, \"SPEC_PROCESSED_NB\": 48415, \"AH1\": 0.0, \"AH1N12009\": 620, \"AH3\": 78, \"AH5\": null, \"ANOTSUBTYPED\": 2199, \"INF_A\": 2897, \"BYAMAGATA\": 15, \"BVICTORIA\": 807, \"BNOTDETERMINED\": 5408, \"INF_B\": 6230, \"ALL_INF\": 9127, \"ALL_INF2\": 39288.0, \"TITLE\": \"No Report\", \"pct_positive\": 18.85}, {\"Country\": \"United States of America\", \"WHOREGION\": \"Region of the Americas of WHO\", \"FLUREGION\": \"North America\", \"Year\": 2019, \"Week\": 51, \"SDATE\": \"2019-12-16\", \"EDATE\": \"2019-12-22\", \"SPEC_RECEIVED_NB\": 58494, \"SPEC_PROCESSED_NB\": 58494, \"AH1\": 0.0, \"AH1N12009\": 915, \"AH3\": 52, \"AH5\": null, \"ANOTSUBTYPED\": 3749, \"INF_A\": 4716, \"BYAMAGATA\": 16, \"BVICTORIA\": 1110, \"BNOTDETERMINED\": 8855, \"INF_B\": 9981, \"ALL_INF\": 14697, \"ALL_INF2\": 43797.0, \"TITLE\": \"No Report\", \"pct_positive\": 25.13}, {\"Country\": \"United States of America\", \"WHOREGION\": \"Region of the Americas of WHO\", \"FLUREGION\": \"North America\", \"Year\": 2019, \"Week\": 52, \"SDATE\": \"2019-12-23\", \"EDATE\": \"2019-12-29\", \"SPEC_RECEIVED_NB\": 68238, \"SPEC_PROCESSED_NB\": 68238, \"AH1\": 0.0, \"AH1N12009\": 1210, \"AH3\": 88, \"AH5\": null, \"ANOTSUBTYPED\": 6007, \"INF_A\": 7305, \"BYAMAGATA\": 24, \"BVICTORIA\": 1326, \"BNOTDETERMINED\": 11612, \"INF_B\": 12962, \"ALL_INF\": 20267, \"ALL_INF2\": 47971.0, \"TITLE\": \"No Report\", \"pct_positive\": 29.7}, {\"Country\": \"United States of America\", \"WHOREGION\": \"Region of the Americas of WHO\", \"FLUREGION\": \"North America\", \"Year\": 2020, \"Week\": 1, \"SDATE\": \"2019-12-30\", \"EDATE\": \"2020-01-05\", \"SPEC_RECEIVED_NB\": 69417, \"SPEC_PROCESSED_NB\": 69417, \"AH1\": null, \"AH1N12009\": 1262, \"AH3\": 101, \"AH5\": null, \"ANOTSUBTYPED\": 5690, \"INF_A\": 7053, \"BYAMAGATA\": 23, \"BVICTORIA\": 1275, \"BNOTDETERMINED\": 9853, \"INF_B\": 11151, \"ALL_INF\": 18204, \"ALL_INF2\": 51213.0, \"TITLE\": \"No Report\", \"pct_positive\": 26.22}, {\"Country\": \"United States of America\", \"WHOREGION\": \"Region of the Americas of WHO\", \"FLUREGION\": \"North America\", \"Year\": 2020, \"Week\": 2, \"SDATE\": \"2020-01-06\", \"EDATE\": \"2020-01-12\", \"SPEC_RECEIVED_NB\": 65248, \"SPEC_PROCESSED_NB\": 65248, \"AH1\": null, \"AH1N12009\": 1338, \"AH3\": 86, \"AH5\": null, \"ANOTSUBTYPED\": 6143, \"INF_A\": 7567, \"BYAMAGATA\": 20, \"BVICTORIA\": 1145, \"BNOTDETERMINED\": 8151, \"INF_B\": 9316, \"ALL_INF\": 16883, \"ALL_INF2\": 48365.0, \"TITLE\": \"No Report\", \"pct_positive\": 25.88}, {\"Country\": \"United States of America\", \"WHOREGION\": \"Region of the Americas of WHO\", \"FLUREGION\": \"North America\", \"Year\": 2020, \"Week\": 3, \"SDATE\": \"2020-01-13\", \"EDATE\": \"2020-01-19\", \"SPEC_RECEIVED_NB\": 65248, \"SPEC_PROCESSED_NB\": 65248, \"AH1\": null, \"AH1N12009\": 1598, \"AH3\": 73, \"AH5\": null, \"ANOTSUBTYPED\": 7768, \"INF_A\": 9439, \"BYAMAGATA\": 12, \"BVICTORIA\": 1244, \"BNOTDETERMINED\": 8272, \"INF_B\": 9528, \"ALL_INF\": 18967, \"ALL_INF2\": 46281.0, \"TITLE\": \"No Report\", \"pct_positive\": 29.07}, {\"Country\": \"United States of America\", \"WHOREGION\": \"Region of the Americas of WHO\", \"FLUREGION\": \"North America\", \"Year\": 2020, \"Week\": 4, \"SDATE\": \"2020-01-20\", \"EDATE\": \"2020-01-26\", \"SPEC_RECEIVED_NB\": 69503, \"SPEC_PROCESSED_NB\": 69503, \"AH1\": null, \"AH1N12009\": 1769, \"AH3\": 79, \"AH5\": null, \"ANOTSUBTYPED\": 9515, \"INF_A\": 11363, \"BYAMAGATA\": 8, \"BVICTORIA\": 1137, \"BNOTDETERMINED\": 9020, \"INF_B\": 10165, \"ALL_INF\": 21528, \"ALL_INF2\": 47975.0, \"TITLE\": \"No Report\", \"pct_positive\": 30.97}, {\"Country\": \"United States of America\", \"WHOREGION\": \"Region of the Americas of WHO\", \"FLUREGION\": \"North America\", \"Year\": 2020, \"Week\": 5, \"SDATE\": \"2020-01-27\", \"EDATE\": \"2020-02-02\", \"SPEC_RECEIVED_NB\": 78337, \"SPEC_PROCESSED_NB\": 78337, \"AH1\": null, \"AH1N12009\": 2359, \"AH3\": 92, \"AH5\": null, \"ANOTSUBTYPED\": 12152, \"INF_A\": 14603, \"BYAMAGATA\": 8, \"BVICTORIA\": 1069, \"BNOTDETERMINED\": 9980, \"INF_B\": 11057, \"ALL_INF\": 25660, \"ALL_INF2\": 52677.0, \"TITLE\": \"No Report\", \"pct_positive\": 32.76}, {\"Country\": \"United States of America\", \"WHOREGION\": \"Region of the Americas of WHO\", \"FLUREGION\": \"North America\", \"Year\": 2020, \"Week\": 6, \"SDATE\": \"2020-02-03\", \"EDATE\": \"2020-02-09\", \"SPEC_RECEIVED_NB\": 77514, \"SPEC_PROCESSED_NB\": 77514, \"AH1\": null, \"AH1N12009\": 2346, \"AH3\": 91, \"AH5\": null, \"ANOTSUBTYPED\": 13024, \"INF_A\": 15461, \"BYAMAGATA\": 5, \"BVICTORIA\": 871, \"BNOTDETERMINED\": 9075, \"INF_B\": 9951, \"ALL_INF\": 25412, \"ALL_INF2\": 52102.0, \"TITLE\": \"No Report\", \"pct_positive\": 32.78}, {\"Country\": \"United States of America\", \"WHOREGION\": \"Region of the Americas of WHO\", \"FLUREGION\": \"North America\", \"Year\": 2020, \"Week\": 7, \"SDATE\": \"2020-02-10\", \"EDATE\": \"2020-02-16\", \"SPEC_RECEIVED_NB\": 74285, \"SPEC_PROCESSED_NB\": 74285, \"AH1\": null, \"AH1N12009\": 2048, \"AH3\": 65, \"AH5\": null, \"ANOTSUBTYPED\": 13501, \"INF_A\": 15614, \"BYAMAGATA\": 10, \"BVICTORIA\": 744, \"BNOTDETERMINED\": 7460, \"INF_B\": 8214, \"ALL_INF\": 23828, \"ALL_INF2\": 50457.0, \"TITLE\": \"No Report\", \"pct_positive\": 32.08}, {\"Country\": \"United States of America\", \"WHOREGION\": \"Region of the Americas of WHO\", \"FLUREGION\": \"North America\", \"Year\": 2020, \"Week\": 8, \"SDATE\": \"2020-02-17\", \"EDATE\": \"2020-02-23\", \"SPEC_RECEIVED_NB\": 69556, \"SPEC_PROCESSED_NB\": 69556, \"AH1\": null, \"AH1N12009\": 1752, \"AH3\": 76, \"AH5\": null, \"ANOTSUBTYPED\": 12833, \"INF_A\": 14661, \"BYAMAGATA\": 9, \"BVICTORIA\": 564, \"BNOTDETERMINED\": 5924, \"INF_B\": 6497, \"ALL_INF\": 21158, \"ALL_INF2\": 48398.0, \"TITLE\": \"No Report\", \"pct_positive\": 30.42}, {\"Country\": \"United States of America\", \"WHOREGION\": \"Region of the Americas of WHO\", \"FLUREGION\": \"North America\", \"Year\": 2020, \"Week\": 9, \"SDATE\": \"2020-02-24\", \"EDATE\": \"2020-03-01\", \"SPEC_RECEIVED_NB\": 66390, \"SPEC_PROCESSED_NB\": 66390, \"AH1\": null, \"AH1N12009\": 1662, \"AH3\": 63, \"AH5\": null, \"ANOTSUBTYPED\": 11763, \"INF_A\": 13488, \"BYAMAGATA\": 8, \"BVICTORIA\": 454, \"BNOTDETERMINED\": 4503, \"INF_B\": 4965, \"ALL_INF\": 18453, \"ALL_INF2\": 47937.0, \"TITLE\": \"No Report\", \"pct_positive\": 27.79}, {\"Country\": \"United States of America\", \"WHOREGION\": \"Region of the Americas of WHO\", \"FLUREGION\": \"North America\", \"Year\": 2020, \"Week\": 10, \"SDATE\": \"2020-03-02\", \"EDATE\": \"2020-03-08\", \"SPEC_RECEIVED_NB\": 68289, \"SPEC_PROCESSED_NB\": 68289, \"AH1\": null, \"AH1N12009\": 1601, \"AH3\": 73, \"AH5\": null, \"ANOTSUBTYPED\": 11115, \"INF_A\": 12789, \"BYAMAGATA\": 8, \"BVICTORIA\": 352, \"BNOTDETERMINED\": 3508, \"INF_B\": 3868, \"ALL_INF\": 16657, \"ALL_INF2\": 51632.0, \"TITLE\": \"No Report\", \"pct_positive\": 24.39}, {\"Country\": \"United States of America\", \"WHOREGION\": \"Region of the Americas of WHO\", \"FLUREGION\": \"North America\", \"Year\": 2020, \"Week\": 11, \"SDATE\": \"2020-03-09\", \"EDATE\": \"2020-03-15\", \"SPEC_RECEIVED_NB\": 78010, \"SPEC_PROCESSED_NB\": 78010, \"AH1\": null, \"AH1N12009\": 1136, \"AH3\": 74, \"AH5\": null, \"ANOTSUBTYPED\": 9127, \"INF_A\": 10337, \"BYAMAGATA\": 3, \"BVICTORIA\": 197, \"BNOTDETERMINED\": 2775, \"INF_B\": 2975, \"ALL_INF\": 13312, \"ALL_INF2\": 64698.0, \"TITLE\": \"No Report\", \"pct_positive\": 17.06}, {\"Country\": \"United States of America\", \"WHOREGION\": \"Region of the Americas of WHO\", \"FLUREGION\": \"North America\", \"Year\": 2020, \"Week\": 12, \"SDATE\": \"2020-03-16\", \"EDATE\": \"2020-03-22\", \"SPEC_RECEIVED_NB\": 75949, \"SPEC_PROCESSED_NB\": 75949, \"AH1\": null, \"AH1N12009\": 444, \"AH3\": 30, \"AH5\": null, \"ANOTSUBTYPED\": 4154, \"INF_A\": 4628, \"BYAMAGATA\": 1, \"BVICTORIA\": 77, \"BNOTDETERMINED\": 1397, \"INF_B\": 1475, \"ALL_INF\": 6103, \"ALL_INF2\": 69846.0, \"TITLE\": \"No Report\", \"pct_positive\": 8.04}, {\"Country\": \"United States of America\", \"WHOREGION\": \"Region of the Americas of WHO\", \"FLUREGION\": \"North America\", \"Year\": 2020, \"Week\": 13, \"SDATE\": \"2020-03-23\", \"EDATE\": \"2020-03-29\", \"SPEC_RECEIVED_NB\": 46900, \"SPEC_PROCESSED_NB\": 46900, \"AH1\": null, \"AH1N12009\": 100, \"AH3\": 7, \"AH5\": null, \"ANOTSUBTYPED\": 767, \"INF_A\": 874, \"BYAMAGATA\": 2, \"BVICTORIA\": 20, \"BNOTDETERMINED\": 314, \"INF_B\": 336, \"ALL_INF\": 1210, \"ALL_INF2\": 45690.0, \"TITLE\": \"No Report\", \"pct_positive\": 2.58}, {\"Country\": \"United States of America\", \"WHOREGION\": \"Region of the Americas of WHO\", \"FLUREGION\": \"North America\", \"Year\": 2020, \"Week\": 14, \"SDATE\": \"2020-03-30\", \"EDATE\": \"2020-04-05\", \"SPEC_RECEIVED_NB\": 32310, \"SPEC_PROCESSED_NB\": 32310, \"AH1\": null, \"AH1N12009\": 37, \"AH3\": 1, \"AH5\": null, \"ANOTSUBTYPED\": 200, \"INF_A\": 238, \"BYAMAGATA\": 0, \"BVICTORIA\": 5, \"BNOTDETERMINED\": 129, \"INF_B\": 134, \"ALL_INF\": 372, \"ALL_INF2\": 31938.0, \"TITLE\": \"No Report\", \"pct_positive\": 1.15}, {\"Country\": \"United States of America\", \"WHOREGION\": \"Region of the Americas of WHO\", \"FLUREGION\": \"North America\", \"Year\": 2020, \"Week\": 15, \"SDATE\": \"2020-04-06\", \"EDATE\": \"2020-04-12\", \"SPEC_RECEIVED_NB\": 20593, \"SPEC_PROCESSED_NB\": 20593, \"AH1\": null, \"AH1N12009\": 28, \"AH3\": 0, \"AH5\": null, \"ANOTSUBTYPED\": 78, \"INF_A\": 106, \"BYAMAGATA\": 0, \"BVICTORIA\": 0, \"BNOTDETERMINED\": 50, \"INF_B\": 50, \"ALL_INF\": 156, \"ALL_INF2\": 20437.0, \"TITLE\": \"No Report\", \"pct_positive\": 0.76}, {\"Country\": \"United States of America\", \"WHOREGION\": \"Region of the Americas of WHO\", \"FLUREGION\": \"North America\", \"Year\": 2020, \"Week\": 16, \"SDATE\": \"2020-04-13\", \"EDATE\": \"2020-04-19\", \"SPEC_RECEIVED_NB\": 15327, \"SPEC_PROCESSED_NB\": 15327, \"AH1\": null, \"AH1N12009\": 19, \"AH3\": 0, \"AH5\": null, \"ANOTSUBTYPED\": 58, \"INF_A\": 77, \"BYAMAGATA\": 0, \"BVICTORIA\": 2, \"BNOTDETERMINED\": 35, \"INF_B\": 37, \"ALL_INF\": 114, \"ALL_INF2\": 15213.0, \"TITLE\": \"No Report\", \"pct_positive\": 0.74}, {\"Country\": \"United States of America\", \"WHOREGION\": \"Region of the Americas of WHO\", \"FLUREGION\": \"North America\", \"Year\": 2020, \"Week\": 17, \"SDATE\": \"2020-04-20\", \"EDATE\": \"2020-04-26\", \"SPEC_RECEIVED_NB\": 13640, \"SPEC_PROCESSED_NB\": 13640, \"AH1\": null, \"AH1N12009\": 26, \"AH3\": 0, \"AH5\": null, \"ANOTSUBTYPED\": 20, \"INF_A\": 46, \"BYAMAGATA\": 0, \"BVICTORIA\": 0, \"BNOTDETERMINED\": 12, \"INF_B\": 12, \"ALL_INF\": 58, \"ALL_INF2\": 13582.0, \"TITLE\": \"No Report\", \"pct_positive\": 0.43}, {\"Country\": \"United States of America\", \"WHOREGION\": \"Region of the Americas of WHO\", \"FLUREGION\": \"North America\", \"Year\": 2020, \"Week\": 18, \"SDATE\": \"2020-04-27\", \"EDATE\": \"2020-05-03\", \"SPEC_RECEIVED_NB\": 11010, \"SPEC_PROCESSED_NB\": 11010, \"AH1\": null, \"AH1N12009\": 23, \"AH3\": 0, \"AH5\": null, \"ANOTSUBTYPED\": 20, \"INF_A\": 43, \"BYAMAGATA\": 0, \"BVICTORIA\": 1, \"BNOTDETERMINED\": 10, \"INF_B\": 11, \"ALL_INF\": 54, \"ALL_INF2\": 10956.0, \"TITLE\": \"No Report\", \"pct_positive\": 0.49}, {\"Country\": \"United States of America\", \"WHOREGION\": \"Region of the Americas of WHO\", \"FLUREGION\": \"North America\", \"Year\": 2020, \"Week\": 19, \"SDATE\": \"2020-05-04\", \"EDATE\": \"2020-05-10\", \"SPEC_RECEIVED_NB\": 9550, \"SPEC_PROCESSED_NB\": 9550, \"AH1\": null, \"AH1N12009\": 26, \"AH3\": 1, \"AH5\": null, \"ANOTSUBTYPED\": 14, \"INF_A\": 41, \"BYAMAGATA\": 0, \"BVICTORIA\": 0, \"BNOTDETERMINED\": 17, \"INF_B\": 17, \"ALL_INF\": 58, \"ALL_INF2\": 9492.0, \"TITLE\": \"No Report\", \"pct_positive\": 0.61}, {\"Country\": \"United States of America\", \"WHOREGION\": \"Region of the Americas of WHO\", \"FLUREGION\": \"North America\", \"Year\": 2020, \"Week\": 20, \"SDATE\": \"2020-05-11\", \"EDATE\": \"2020-05-17\", \"SPEC_RECEIVED_NB\": 8526, \"SPEC_PROCESSED_NB\": 8526, \"AH1\": null, \"AH1N12009\": 24, \"AH3\": 0, \"AH5\": null, \"ANOTSUBTYPED\": 14, \"INF_A\": 38, \"BYAMAGATA\": 0, \"BVICTORIA\": 0, \"BNOTDETERMINED\": 13, \"INF_B\": 13, \"ALL_INF\": 51, \"ALL_INF2\": 8475.0, \"TITLE\": \"No Report\", \"pct_positive\": 0.6}, {\"Country\": \"United States of America\", \"WHOREGION\": \"Region of the Americas of WHO\", \"FLUREGION\": \"North America\", \"Year\": 2020, \"Week\": 21, \"SDATE\": \"2020-05-18\", \"EDATE\": \"2020-05-24\", \"SPEC_RECEIVED_NB\": 8076, \"SPEC_PROCESSED_NB\": 8076, \"AH1\": null, \"AH1N12009\": 0, \"AH3\": 0, \"AH5\": null, \"ANOTSUBTYPED\": 9, \"INF_A\": 9, \"BYAMAGATA\": 0, \"BVICTORIA\": 0, \"BNOTDETERMINED\": 8, \"INF_B\": 8, \"ALL_INF\": 17, \"ALL_INF2\": 8059.0, \"TITLE\": \"No Report\", \"pct_positive\": 0.21}, {\"Country\": \"United States of America\", \"WHOREGION\": \"Region of the Americas of WHO\", \"FLUREGION\": \"North America\", \"Year\": 2020, \"Week\": 22, \"SDATE\": \"2020-05-25\", \"EDATE\": \"2020-05-31\", \"SPEC_RECEIVED_NB\": 6583, \"SPEC_PROCESSED_NB\": 6583, \"AH1\": null, \"AH1N12009\": 2, \"AH3\": 0, \"AH5\": null, \"ANOTSUBTYPED\": 8, \"INF_A\": 10, \"BYAMAGATA\": 0, \"BVICTORIA\": 0, \"BNOTDETERMINED\": 4, \"INF_B\": 4, \"ALL_INF\": 14, \"ALL_INF2\": 6569.0, \"TITLE\": \"No Report\", \"pct_positive\": 0.21}, {\"Country\": \"United States of America\", \"WHOREGION\": \"Region of the Americas of WHO\", \"FLUREGION\": \"North America\", \"Year\": 2020, \"Week\": 23, \"SDATE\": \"2020-06-01\", \"EDATE\": \"2020-06-07\", \"SPEC_RECEIVED_NB\": 6540, \"SPEC_PROCESSED_NB\": 6540, \"AH1\": null, \"AH1N12009\": 0, \"AH3\": 0, \"AH5\": null, \"ANOTSUBTYPED\": 9, \"INF_A\": 9, \"BYAMAGATA\": 0, \"BVICTORIA\": 0, \"BNOTDETERMINED\": 14, \"INF_B\": 14, \"ALL_INF\": 23, \"ALL_INF2\": 6517.0, \"TITLE\": \"No Report\", \"pct_positive\": 0.35}, {\"Country\": \"United States of America\", \"WHOREGION\": \"Region of the Americas of WHO\", \"FLUREGION\": \"North America\", \"Year\": 2020, \"Week\": 24, \"SDATE\": \"2020-06-08\", \"EDATE\": \"2020-06-14\", \"SPEC_RECEIVED_NB\": 6065, \"SPEC_PROCESSED_NB\": 6065, \"AH1\": null, \"AH1N12009\": 1, \"AH3\": 0, \"AH5\": null, \"ANOTSUBTYPED\": 9, \"INF_A\": 10, \"BYAMAGATA\": 0, \"BVICTORIA\": 1, \"BNOTDETERMINED\": 11, \"INF_B\": 12, \"ALL_INF\": 22, \"ALL_INF2\": 6043.0, \"TITLE\": \"No Report\", \"pct_positive\": 0.36}, {\"Country\": \"United States of America\", \"WHOREGION\": \"Region of the Americas of WHO\", \"FLUREGION\": \"North America\", \"Year\": 2020, \"Week\": 25, \"SDATE\": \"2020-06-15\", \"EDATE\": \"2020-06-21\", \"SPEC_RECEIVED_NB\": 5645, \"SPEC_PROCESSED_NB\": 5645, \"AH1\": null, \"AH1N12009\": 0, \"AH3\": 0, \"AH5\": null, \"ANOTSUBTYPED\": 12, \"INF_A\": 12, \"BYAMAGATA\": 0, \"BVICTORIA\": 0, \"BNOTDETERMINED\": 8, \"INF_B\": 8, \"ALL_INF\": 20, \"ALL_INF2\": 5625.0, \"TITLE\": \"No Report\", \"pct_positive\": 0.35}, {\"Country\": \"United States of America\", \"WHOREGION\": \"Region of the Americas of WHO\", \"FLUREGION\": \"North America\", \"Year\": 2020, \"Week\": 26, \"SDATE\": \"2020-06-22\", \"EDATE\": \"2020-06-28\", \"SPEC_RECEIVED_NB\": 5875, \"SPEC_PROCESSED_NB\": 5875, \"AH1\": null, \"AH1N12009\": 0, \"AH3\": 0, \"AH5\": null, \"ANOTSUBTYPED\": 12, \"INF_A\": 12, \"BYAMAGATA\": 0, \"BVICTORIA\": 0, \"BNOTDETERMINED\": 7, \"INF_B\": 7, \"ALL_INF\": 19, \"ALL_INF2\": 5856.0, \"TITLE\": \"No Report\", \"pct_positive\": 0.32}, {\"Country\": \"United States of America\", \"WHOREGION\": \"Region of the Americas of WHO\", \"FLUREGION\": \"North America\", \"Year\": 2020, \"Week\": 27, \"SDATE\": \"2020-06-29\", \"EDATE\": \"2020-07-05\", \"SPEC_RECEIVED_NB\": 6378, \"SPEC_PROCESSED_NB\": 6378, \"AH1\": null, \"AH1N12009\": 0, \"AH3\": 0, \"AH5\": null, \"ANOTSUBTYPED\": 9, \"INF_A\": 9, \"BYAMAGATA\": 0, \"BVICTORIA\": 0, \"BNOTDETERMINED\": 5, \"INF_B\": 5, \"ALL_INF\": 14, \"ALL_INF2\": 6364.0, \"TITLE\": \"No Report\", \"pct_positive\": 0.22}, {\"Country\": \"United States of America\", \"WHOREGION\": \"Region of the Americas of WHO\", \"FLUREGION\": \"North America\", \"Year\": 2020, \"Week\": 28, \"SDATE\": \"2020-07-06\", \"EDATE\": \"2020-07-12\", \"SPEC_RECEIVED_NB\": 6503, \"SPEC_PROCESSED_NB\": 6503, \"AH1\": null, \"AH1N12009\": 0, \"AH3\": 0, \"AH5\": null, \"ANOTSUBTYPED\": 7, \"INF_A\": 7, \"BYAMAGATA\": 0, \"BVICTORIA\": 0, \"BNOTDETERMINED\": 6, \"INF_B\": 6, \"ALL_INF\": 13, \"ALL_INF2\": 6490.0, \"TITLE\": \"No Report\", \"pct_positive\": 0.2}, {\"Country\": \"United States of America\", \"WHOREGION\": \"Region of the Americas of WHO\", \"FLUREGION\": \"North America\", \"Year\": 2020, \"Week\": 29, \"SDATE\": \"2020-07-13\", \"EDATE\": \"2020-07-19\", \"SPEC_RECEIVED_NB\": 6339, \"SPEC_PROCESSED_NB\": 6339, \"AH1\": null, \"AH1N12009\": 0, \"AH3\": 0, \"AH5\": null, \"ANOTSUBTYPED\": 11, \"INF_A\": 11, \"BYAMAGATA\": 0, \"BVICTORIA\": 0, \"BNOTDETERMINED\": 12, \"INF_B\": 12, \"ALL_INF\": 23, \"ALL_INF2\": 6316.0, \"TITLE\": \"No Report\", \"pct_positive\": 0.36}, {\"Country\": \"United States of America\", \"WHOREGION\": \"Region of the Americas of WHO\", \"FLUREGION\": \"North America\", \"Year\": 2020, \"Week\": 30, \"SDATE\": \"2020-07-20\", \"EDATE\": \"2020-07-26\", \"SPEC_RECEIVED_NB\": 6212, \"SPEC_PROCESSED_NB\": 6212, \"AH1\": null, \"AH1N12009\": 0, \"AH3\": 0, \"AH5\": null, \"ANOTSUBTYPED\": 7, \"INF_A\": 7, \"BYAMAGATA\": 0, \"BVICTORIA\": 0, \"BNOTDETERMINED\": 4, \"INF_B\": 4, \"ALL_INF\": 11, \"ALL_INF2\": 6201.0, \"TITLE\": \"No Report\", \"pct_positive\": 0.18}, {\"Country\": \"United States of America\", \"WHOREGION\": \"Region of the Americas of WHO\", \"FLUREGION\": \"North America\", \"Year\": 2020, \"Week\": 31, \"SDATE\": \"2020-07-27\", \"EDATE\": \"2020-08-02\", \"SPEC_RECEIVED_NB\": 6233, \"SPEC_PROCESSED_NB\": 6233, \"AH1\": null, \"AH1N12009\": 0, \"AH3\": 0, \"AH5\": null, \"ANOTSUBTYPED\": 3, \"INF_A\": 3, \"BYAMAGATA\": 0, \"BVICTORIA\": 0, \"BNOTDETERMINED\": 5, \"INF_B\": 5, \"ALL_INF\": 8, \"ALL_INF2\": 6225.0, \"TITLE\": \"No Report\", \"pct_positive\": 0.13}, {\"Country\": \"United States of America\", \"WHOREGION\": \"Region of the Americas of WHO\", \"FLUREGION\": \"North America\", \"Year\": 2020, \"Week\": 32, \"SDATE\": \"2020-08-03\", \"EDATE\": \"2020-08-09\", \"SPEC_RECEIVED_NB\": 6412, \"SPEC_PROCESSED_NB\": 6412, \"AH1\": null, \"AH1N12009\": 0, \"AH3\": 0, \"AH5\": null, \"ANOTSUBTYPED\": 7, \"INF_A\": 7, \"BYAMAGATA\": 0, \"BVICTORIA\": 0, \"BNOTDETERMINED\": 4, \"INF_B\": 4, \"ALL_INF\": 11, \"ALL_INF2\": 6401.0, \"TITLE\": \"No Report\", \"pct_positive\": 0.17}, {\"Country\": \"United States of America\", \"WHOREGION\": \"Region of the Americas of WHO\", \"FLUREGION\": \"North America\", \"Year\": 2020, \"Week\": 33, \"SDATE\": \"2020-08-10\", \"EDATE\": \"2020-08-16\", \"SPEC_RECEIVED_NB\": 6163, \"SPEC_PROCESSED_NB\": 6163, \"AH1\": null, \"AH1N12009\": 0, \"AH3\": 0, \"AH5\": null, \"ANOTSUBTYPED\": 4, \"INF_A\": 4, \"BYAMAGATA\": 0, \"BVICTORIA\": 0, \"BNOTDETERMINED\": 5, \"INF_B\": 5, \"ALL_INF\": 9, \"ALL_INF2\": 6154.0, \"TITLE\": \"No Report\", \"pct_positive\": 0.15}, {\"Country\": \"United States of America\", \"WHOREGION\": \"Region of the Americas of WHO\", \"FLUREGION\": \"North America\", \"Year\": 2020, \"Week\": 34, \"SDATE\": \"2020-08-17\", \"EDATE\": \"2020-08-23\", \"SPEC_RECEIVED_NB\": 6349, \"SPEC_PROCESSED_NB\": 6349, \"AH1\": null, \"AH1N12009\": 0, \"AH3\": 0, \"AH5\": null, \"ANOTSUBTYPED\": 6, \"INF_A\": 6, \"BYAMAGATA\": 0, \"BVICTORIA\": 0, \"BNOTDETERMINED\": 8, \"INF_B\": 8, \"ALL_INF\": 14, \"ALL_INF2\": 6335.0, \"TITLE\": \"No Report\", \"pct_positive\": 0.22}, {\"Country\": \"United States of America\", \"WHOREGION\": \"Region of the Americas of WHO\", \"FLUREGION\": \"North America\", \"Year\": 2020, \"Week\": 35, \"SDATE\": \"2020-08-24\", \"EDATE\": \"2020-08-30\", \"SPEC_RECEIVED_NB\": 8657, \"SPEC_PROCESSED_NB\": 8657, \"AH1\": null, \"AH1N12009\": 0, \"AH3\": 0, \"AH5\": null, \"ANOTSUBTYPED\": 7, \"INF_A\": 7, \"BYAMAGATA\": 0, \"BVICTORIA\": 0, \"BNOTDETERMINED\": 13, \"INF_B\": 13, \"ALL_INF\": 20, \"ALL_INF2\": 8637.0, \"TITLE\": \"No Report\", \"pct_positive\": 0.23}, {\"Country\": \"United States of America\", \"WHOREGION\": \"Region of the Americas of WHO\", \"FLUREGION\": \"North America\", \"Year\": 2020, \"Week\": 36, \"SDATE\": \"2020-08-31\", \"EDATE\": \"2020-09-06\", \"SPEC_RECEIVED_NB\": 8561, \"SPEC_PROCESSED_NB\": 8561, \"AH1\": null, \"AH1N12009\": 0, \"AH3\": 0, \"AH5\": null, \"ANOTSUBTYPED\": 8, \"INF_A\": 8, \"BYAMAGATA\": 0, \"BVICTORIA\": 0, \"BNOTDETERMINED\": 6, \"INF_B\": 6, \"ALL_INF\": 14, \"ALL_INF2\": 8547.0, \"TITLE\": \"No Report\", \"pct_positive\": 0.16}, {\"Country\": \"United States of America\", \"WHOREGION\": \"Region of the Americas of WHO\", \"FLUREGION\": \"North America\", \"Year\": 2020, \"Week\": 37, \"SDATE\": \"2020-09-07\", \"EDATE\": \"2020-09-13\", \"SPEC_RECEIVED_NB\": 6603, \"SPEC_PROCESSED_NB\": 6603, \"AH1\": null, \"AH1N12009\": 0, \"AH3\": 1, \"AH5\": null, \"ANOTSUBTYPED\": 7, \"INF_A\": 8, \"BYAMAGATA\": 0, \"BVICTORIA\": 0, \"BNOTDETERMINED\": 6, \"INF_B\": 6, \"ALL_INF\": 14, \"ALL_INF2\": 6589.0, \"TITLE\": \"No Report\", \"pct_positive\": 0.21}, {\"Country\": \"United States of America\", \"WHOREGION\": \"Region of the Americas of WHO\", \"FLUREGION\": \"North America\", \"Year\": 2020, \"Week\": 38, \"SDATE\": \"2020-09-14\", \"EDATE\": \"2020-09-20\", \"SPEC_RECEIVED_NB\": 7539, \"SPEC_PROCESSED_NB\": 7539, \"AH1\": null, \"AH1N12009\": 0, \"AH3\": 0, \"AH5\": null, \"ANOTSUBTYPED\": 15, \"INF_A\": 15, \"BYAMAGATA\": 0, \"BVICTORIA\": 0, \"BNOTDETERMINED\": 18, \"INF_B\": 18, \"ALL_INF\": 33, \"ALL_INF2\": 7506.0, \"TITLE\": \"No Report\", \"pct_positive\": 0.44}, {\"Country\": \"United States of America\", \"WHOREGION\": \"Region of the Americas of WHO\", \"FLUREGION\": \"North America\", \"Year\": 2020, \"Week\": 39, \"SDATE\": \"2020-09-21\", \"EDATE\": \"2020-09-27\", \"SPEC_RECEIVED_NB\": 9814, \"SPEC_PROCESSED_NB\": 9814, \"AH1\": null, \"AH1N12009\": 0, \"AH3\": 0, \"AH5\": null, \"ANOTSUBTYPED\": 14, \"INF_A\": 14, \"BYAMAGATA\": 0, \"BVICTORIA\": 0, \"BNOTDETERMINED\": 10, \"INF_B\": 10, \"ALL_INF\": 24, \"ALL_INF2\": 9790.0, \"TITLE\": \"No Report\", \"pct_positive\": 0.24}, {\"Country\": \"United States of America\", \"WHOREGION\": \"Region of the Americas of WHO\", \"FLUREGION\": \"North America\", \"Year\": 2020, \"Week\": 40, \"SDATE\": \"2020-09-28\", \"EDATE\": \"2020-10-04\", \"SPEC_RECEIVED_NB\": 23679, \"SPEC_PROCESSED_NB\": 23679, \"AH1\": null, \"AH1N12009\": 0, \"AH3\": 0, \"AH5\": null, \"ANOTSUBTYPED\": 22, \"INF_A\": 22, \"BYAMAGATA\": 0, \"BVICTORIA\": 0, \"BNOTDETERMINED\": 23, \"INF_B\": 23, \"ALL_INF\": 45, \"ALL_INF2\": 23634.0, \"TITLE\": \"No Report\", \"pct_positive\": 0.19}, {\"Country\": \"United States of America\", \"WHOREGION\": \"Region of the Americas of WHO\", \"FLUREGION\": \"North America\", \"Year\": 2020, \"Week\": 41, \"SDATE\": \"2020-10-05\", \"EDATE\": \"2020-10-11\", \"SPEC_RECEIVED_NB\": 27004, \"SPEC_PROCESSED_NB\": 27004, \"AH1\": null, \"AH1N12009\": 3, \"AH3\": 2, \"AH5\": null, \"ANOTSUBTYPED\": 33, \"INF_A\": 38, \"BYAMAGATA\": 0, \"BVICTORIA\": 1, \"BNOTDETERMINED\": 33, \"INF_B\": 34, \"ALL_INF\": 72, \"ALL_INF2\": 26932.0, \"TITLE\": \"No Report\", \"pct_positive\": 0.27}, {\"Country\": \"United States of America\", \"WHOREGION\": \"Region of the Americas of WHO\", \"FLUREGION\": \"North America\", \"Year\": 2020, \"Week\": 42, \"SDATE\": \"2020-10-12\", \"EDATE\": \"2020-10-18\", \"SPEC_RECEIVED_NB\": 26264, \"SPEC_PROCESSED_NB\": 26264, \"AH1\": null, \"AH1N12009\": 0, \"AH3\": 1, \"AH5\": null, \"ANOTSUBTYPED\": 31, \"INF_A\": 32, \"BYAMAGATA\": 0, \"BVICTORIA\": 0, \"BNOTDETERMINED\": 31, \"INF_B\": 31, \"ALL_INF\": 63, \"ALL_INF2\": 26201.0, \"TITLE\": \"No Report\", \"pct_positive\": 0.24}, {\"Country\": \"United States of America\", \"WHOREGION\": \"Region of the Americas of WHO\", \"FLUREGION\": \"North America\", \"Year\": 2020, \"Week\": 43, \"SDATE\": \"2020-10-19\", \"EDATE\": \"2020-10-25\", \"SPEC_RECEIVED_NB\": 31983, \"SPEC_PROCESSED_NB\": 31983, \"AH1\": null, \"AH1N12009\": 1, \"AH3\": 1, \"AH5\": null, \"ANOTSUBTYPED\": 32, \"INF_A\": 34, \"BYAMAGATA\": 0, \"BVICTORIA\": 0, \"BNOTDETERMINED\": 24, \"INF_B\": 24, \"ALL_INF\": 58, \"ALL_INF2\": 31925.0, \"TITLE\": \"No Report\", \"pct_positive\": 0.18}, {\"Country\": \"United States of America\", \"WHOREGION\": \"Region of the Americas of WHO\", \"FLUREGION\": \"North America\", \"Year\": 2020, \"Week\": 44, \"SDATE\": \"2020-10-26\", \"EDATE\": \"2020-11-01\", \"SPEC_RECEIVED_NB\": 40801, \"SPEC_PROCESSED_NB\": 40801, \"AH1\": null, \"AH1N12009\": 0, \"AH3\": 1, \"AH5\": null, \"ANOTSUBTYPED\": 31, \"INF_A\": 32, \"BYAMAGATA\": 2, \"BVICTORIA\": 1, \"BNOTDETERMINED\": 33, \"INF_B\": 36, \"ALL_INF\": 68, \"ALL_INF2\": 40733.0, \"TITLE\": \"No Report\", \"pct_positive\": 0.17}, {\"Country\": \"United States of America\", \"WHOREGION\": \"Region of the Americas of WHO\", \"FLUREGION\": \"North America\", \"Year\": 2020, \"Week\": 45, \"SDATE\": \"2020-11-02\", \"EDATE\": \"2020-11-08\", \"SPEC_RECEIVED_NB\": 52641, \"SPEC_PROCESSED_NB\": 52641, \"AH1\": null, \"AH1N12009\": 0, \"AH3\": 0, \"AH5\": null, \"ANOTSUBTYPED\": 34, \"INF_A\": 34, \"BYAMAGATA\": 0, \"BVICTORIA\": 0, \"BNOTDETERMINED\": 27, \"INF_B\": 27, \"ALL_INF\": 61, \"ALL_INF2\": 52580.0, \"TITLE\": \"No Report\", \"pct_positive\": 0.12}, {\"Country\": \"United States of America\", \"WHOREGION\": \"Region of the Americas of WHO\", \"FLUREGION\": \"North America\", \"Year\": 2020, \"Week\": 46, \"SDATE\": \"2020-11-09\", \"EDATE\": \"2020-11-15\", \"SPEC_RECEIVED_NB\": 60106, \"SPEC_PROCESSED_NB\": 60106, \"AH1\": null, \"AH1N12009\": 3, \"AH3\": 4, \"AH5\": null, \"ANOTSUBTYPED\": 36, \"INF_A\": 43, \"BYAMAGATA\": 1, \"BVICTORIA\": 0, \"BNOTDETERMINED\": 47, \"INF_B\": 48, \"ALL_INF\": 91, \"ALL_INF2\": 60015.0, \"TITLE\": \"No Report\", \"pct_positive\": 0.15}, {\"Country\": \"United States of America\", \"WHOREGION\": \"Region of the Americas of WHO\", \"FLUREGION\": \"North America\", \"Year\": 2020, \"Week\": 47, \"SDATE\": \"2020-11-16\", \"EDATE\": \"2020-11-22\", \"SPEC_RECEIVED_NB\": 58064, \"SPEC_PROCESSED_NB\": 58064, \"AH1\": null, \"AH1N12009\": 0, \"AH3\": 3, \"AH5\": null, \"ANOTSUBTYPED\": 35, \"INF_A\": 38, \"BYAMAGATA\": 2, \"BVICTORIA\": 1, \"BNOTDETERMINED\": 57, \"INF_B\": 60, \"ALL_INF\": 98, \"ALL_INF2\": 57966.0, \"TITLE\": \"No Report\", \"pct_positive\": 0.17}, {\"Country\": \"United States of America\", \"WHOREGION\": \"Region of the Americas of WHO\", \"FLUREGION\": \"North America\", \"Year\": 2020, \"Week\": 48, \"SDATE\": \"2020-11-23\", \"EDATE\": \"2020-11-29\", \"SPEC_RECEIVED_NB\": 45312, \"SPEC_PROCESSED_NB\": 45312, \"AH1\": null, \"AH1N12009\": 2, \"AH3\": 0, \"AH5\": null, \"ANOTSUBTYPED\": 25, \"INF_A\": 27, \"BYAMAGATA\": 0, \"BVICTORIA\": 1, \"BNOTDETERMINED\": 37, \"INF_B\": 38, \"ALL_INF\": 65, \"ALL_INF2\": 45247.0, \"TITLE\": \"No Report\", \"pct_positive\": 0.14}, {\"Country\": \"United States of America\", \"WHOREGION\": \"Region of the Americas of WHO\", \"FLUREGION\": \"North America\", \"Year\": 2020, \"Week\": 49, \"SDATE\": \"2020-11-30\", \"EDATE\": \"2020-12-06\", \"SPEC_RECEIVED_NB\": 59863, \"SPEC_PROCESSED_NB\": 59863, \"AH1\": null, \"AH1N12009\": 0, \"AH3\": 0, \"AH5\": null, \"ANOTSUBTYPED\": 36, \"INF_A\": 36, \"BYAMAGATA\": 3, \"BVICTORIA\": 2, \"BNOTDETERMINED\": 69, \"INF_B\": 74, \"ALL_INF\": 110, \"ALL_INF2\": 59753.0, \"TITLE\": \"No Report\", \"pct_positive\": 0.18}, {\"Country\": \"United States of America\", \"WHOREGION\": \"Region of the Americas of WHO\", \"FLUREGION\": \"North America\", \"Year\": 2020, \"Week\": 50, \"SDATE\": \"2020-12-07\", \"EDATE\": \"2020-12-13\", \"SPEC_RECEIVED_NB\": 57605, \"SPEC_PROCESSED_NB\": 57605, \"AH1\": null, \"AH1N12009\": 3, \"AH3\": 3, \"AH5\": null, \"ANOTSUBTYPED\": 31, \"INF_A\": 37, \"BYAMAGATA\": 0, \"BVICTORIA\": 2, \"BNOTDETERMINED\": 77, \"INF_B\": 79, \"ALL_INF\": 116, \"ALL_INF2\": 57489.0, \"TITLE\": \"No Report\", \"pct_positive\": 0.2}, {\"Country\": \"United States of America\", \"WHOREGION\": \"Region of the Americas of WHO\", \"FLUREGION\": \"North America\", \"Year\": 2020, \"Week\": 51, \"SDATE\": \"2020-12-14\", \"EDATE\": \"2020-12-20\", \"SPEC_RECEIVED_NB\": 55897, \"SPEC_PROCESSED_NB\": 55897, \"AH1\": null, \"AH1N12009\": 0, \"AH3\": 0, \"AH5\": null, \"ANOTSUBTYPED\": 40, \"INF_A\": 40, \"BYAMAGATA\": 0, \"BVICTORIA\": 0, \"BNOTDETERMINED\": 84, \"INF_B\": 84, \"ALL_INF\": 124, \"ALL_INF2\": 55773.0, \"TITLE\": \"No Report\", \"pct_positive\": 0.22}, {\"Country\": \"United States of America\", \"WHOREGION\": \"Region of the Americas of WHO\", \"FLUREGION\": \"North America\", \"Year\": 2020, \"Week\": 52, \"SDATE\": \"2020-12-21\", \"EDATE\": \"2020-12-27\", \"SPEC_RECEIVED_NB\": 50932, \"SPEC_PROCESSED_NB\": 50932, \"AH1\": null, \"AH1N12009\": 0, \"AH3\": 0, \"AH5\": null, \"ANOTSUBTYPED\": 36, \"INF_A\": 36, \"BYAMAGATA\": 0, \"BVICTORIA\": 0, \"BNOTDETERMINED\": 69, \"INF_B\": 69, \"ALL_INF\": 105, \"ALL_INF2\": 50827.0, \"TITLE\": \"No Report\", \"pct_positive\": 0.21}, {\"Country\": \"United States of America\", \"WHOREGION\": \"Region of the Americas of WHO\", \"FLUREGION\": \"North America\", \"Year\": 2020, \"Week\": 53, \"SDATE\": \"2020-12-28\", \"EDATE\": \"2021-01-03\", \"SPEC_RECEIVED_NB\": 52112, \"SPEC_PROCESSED_NB\": 52112, \"AH1\": null, \"AH1N12009\": 0, \"AH3\": 0, \"AH5\": null, \"ANOTSUBTYPED\": 39, \"INF_A\": 39, \"BYAMAGATA\": 0, \"BVICTORIA\": 0, \"BNOTDETERMINED\": 75, \"INF_B\": 75, \"ALL_INF\": 114, \"ALL_INF2\": 51998.0, \"TITLE\": \"No Report\", \"pct_positive\": 0.22}, {\"Country\": \"United States of America\", \"WHOREGION\": \"Region of the Americas of WHO\", \"FLUREGION\": \"North America\", \"Year\": 2021, \"Week\": 1, \"SDATE\": \"2021-01-04\", \"EDATE\": \"2021-01-10\", \"SPEC_RECEIVED_NB\": 58829, \"SPEC_PROCESSED_NB\": 58829, \"AH1\": null, \"AH1N12009\": 0, \"AH3\": 0, \"AH5\": null, \"ANOTSUBTYPED\": 34, \"INF_A\": 34, \"BYAMAGATA\": 0, \"BVICTORIA\": 0, \"BNOTDETERMINED\": 98, \"INF_B\": 98, \"ALL_INF\": 132, \"ALL_INF2\": 58697.0, \"TITLE\": \"No Report\", \"pct_positive\": 0.22}, {\"Country\": \"United States of America\", \"WHOREGION\": \"Region of the Americas of WHO\", \"FLUREGION\": \"North America\", \"Year\": 2021, \"Week\": 2, \"SDATE\": \"2021-01-11\", \"EDATE\": \"2021-01-17\", \"SPEC_RECEIVED_NB\": 53892, \"SPEC_PROCESSED_NB\": 53892, \"AH1\": null, \"AH1N12009\": 0, \"AH3\": 0, \"AH5\": null, \"ANOTSUBTYPED\": 22, \"INF_A\": 22, \"BYAMAGATA\": 0, \"BVICTORIA\": 0, \"BNOTDETERMINED\": 45, \"INF_B\": 45, \"ALL_INF\": 67, \"ALL_INF2\": 53825.0, \"TITLE\": \"No Report\", \"pct_positive\": 0.12}, {\"Country\": \"United States of America\", \"WHOREGION\": \"Region of the Americas of WHO\", \"FLUREGION\": \"North America\", \"Year\": 2021, \"Week\": 3, \"SDATE\": \"2021-01-18\", \"EDATE\": \"2021-01-24\", \"SPEC_RECEIVED_NB\": 49125, \"SPEC_PROCESSED_NB\": 49125, \"AH1\": null, \"AH1N12009\": 0, \"AH3\": 1, \"AH5\": null, \"ANOTSUBTYPED\": 23, \"INF_A\": 24, \"BYAMAGATA\": 0, \"BVICTORIA\": 0, \"BNOTDETERMINED\": 61, \"INF_B\": 61, \"ALL_INF\": 85, \"ALL_INF2\": 49040.0, \"TITLE\": \"No Report\", \"pct_positive\": 0.17}, {\"Country\": \"United States of America\", \"WHOREGION\": \"Region of the Americas of WHO\", \"FLUREGION\": \"North America\", \"Year\": 2021, \"Week\": 4, \"SDATE\": \"2021-01-25\", \"EDATE\": \"2021-01-31\", \"SPEC_RECEIVED_NB\": 42094, \"SPEC_PROCESSED_NB\": 42094, \"AH1\": null, \"AH1N12009\": 0, \"AH3\": 0, \"AH5\": null, \"ANOTSUBTYPED\": 12, \"INF_A\": 12, \"BYAMAGATA\": 0, \"BVICTORIA\": 0, \"BNOTDETERMINED\": 45, \"INF_B\": 45, \"ALL_INF\": 57, \"ALL_INF2\": 42037.0, \"TITLE\": \"No Report\", \"pct_positive\": 0.14}, {\"Country\": \"United States of America\", \"WHOREGION\": \"Region of the Americas of WHO\", \"FLUREGION\": \"North America\", \"Year\": 2021, \"Week\": 5, \"SDATE\": \"2021-02-01\", \"EDATE\": \"2021-02-07\", \"SPEC_RECEIVED_NB\": 40034, \"SPEC_PROCESSED_NB\": 40034, \"AH1\": null, \"AH1N12009\": 0, \"AH3\": 0, \"AH5\": null, \"ANOTSUBTYPED\": 13, \"INF_A\": 13, \"BYAMAGATA\": 0, \"BVICTORIA\": 0, \"BNOTDETERMINED\": 9, \"INF_B\": 9, \"ALL_INF\": 22, \"ALL_INF2\": 40012.0, \"TITLE\": \"No Report\", \"pct_positive\": 0.05}]}}, {\"mode\": \"vega-lite\"});\n",
       "</script>"
      ],
      "text/plain": [
       "alt.Chart(...)"
      ]
     },
     "execution_count": 16,
     "metadata": {},
     "output_type": "execute_result"
    }
   ],
   "source": [
    "#Based on pct_positive\n",
    "make_realization(flu_data, 'EDATE:T', 'pct_positive')\n"
   ]
  },
  {
   "cell_type": "code",
   "execution_count": 17,
   "id": "entitled-engineer",
   "metadata": {},
   "outputs": [
    {
     "data": {
      "text/html": [
       "\n",
       "<div id=\"altair-viz-204145c72421404db8c1f951a288f365\"></div>\n",
       "<script type=\"text/javascript\">\n",
       "  (function(spec, embedOpt){\n",
       "    let outputDiv = document.currentScript.previousElementSibling;\n",
       "    if (outputDiv.id !== \"altair-viz-204145c72421404db8c1f951a288f365\") {\n",
       "      outputDiv = document.getElementById(\"altair-viz-204145c72421404db8c1f951a288f365\");\n",
       "    }\n",
       "    const paths = {\n",
       "      \"vega\": \"https://cdn.jsdelivr.net/npm//vega@5?noext\",\n",
       "      \"vega-lib\": \"https://cdn.jsdelivr.net/npm//vega-lib?noext\",\n",
       "      \"vega-lite\": \"https://cdn.jsdelivr.net/npm//vega-lite@4.8.1?noext\",\n",
       "      \"vega-embed\": \"https://cdn.jsdelivr.net/npm//vega-embed@6?noext\",\n",
       "    };\n",
       "\n",
       "    function loadScript(lib) {\n",
       "      return new Promise(function(resolve, reject) {\n",
       "        var s = document.createElement('script');\n",
       "        s.src = paths[lib];\n",
       "        s.async = true;\n",
       "        s.onload = () => resolve(paths[lib]);\n",
       "        s.onerror = () => reject(`Error loading script: ${paths[lib]}`);\n",
       "        document.getElementsByTagName(\"head\")[0].appendChild(s);\n",
       "      });\n",
       "    }\n",
       "\n",
       "    function showError(err) {\n",
       "      outputDiv.innerHTML = `<div class=\"error\" style=\"color:red;\">${err}</div>`;\n",
       "      throw err;\n",
       "    }\n",
       "\n",
       "    function displayChart(vegaEmbed) {\n",
       "      vegaEmbed(outputDiv, spec, embedOpt)\n",
       "        .catch(err => showError(`Javascript Error: ${err.message}<br>This usually means there's a typo in your chart specification. See the javascript console for the full traceback.`));\n",
       "    }\n",
       "\n",
       "    if(typeof define === \"function\" && define.amd) {\n",
       "      requirejs.config({paths});\n",
       "      require([\"vega-embed\"], displayChart, err => showError(`Error loading script: ${err.message}`));\n",
       "    } else if (typeof vegaEmbed === \"function\") {\n",
       "      displayChart(vegaEmbed);\n",
       "    } else {\n",
       "      loadScript(\"vega\")\n",
       "        .then(() => loadScript(\"vega-lite\"))\n",
       "        .then(() => loadScript(\"vega-embed\"))\n",
       "        .catch(showError)\n",
       "        .then(() => displayChart(vegaEmbed));\n",
       "    }\n",
       "  })({\"config\": {\"view\": {\"continuousWidth\": 400, \"continuousHeight\": 300}}, \"data\": {\"name\": \"data-16a31838f2e995fa1ae9cf5c7b95788b\"}, \"mark\": \"line\", \"encoding\": {\"x\": {\"type\": \"temporal\", \"field\": \"EDATE\"}, \"y\": {\"type\": \"quantitative\", \"field\": \"pct_positive\"}}, \"$schema\": \"https://vega.github.io/schema/vega-lite/v4.8.1.json\", \"datasets\": {\"data-16a31838f2e995fa1ae9cf5c7b95788b\": [{\"Country\": \"United States of America\", \"WHOREGION\": \"Region of the Americas of WHO\", \"FLUREGION\": \"North America\", \"Year\": 2013, \"Week\": 1, \"SDATE\": \"2012-12-31\", \"EDATE\": \"2013-01-06\", \"SPEC_RECEIVED_NB\": 18219, \"SPEC_PROCESSED_NB\": 18219, \"AH1\": 0.0, \"AH1N12009\": 84, \"AH3\": 3640, \"AH5\": 0.0, \"ANOTSUBTYPED\": 1653, \"INF_A\": 5377, \"BYAMAGATA\": 0, \"BVICTORIA\": 0, \"BNOTDETERMINED\": 1097, \"INF_B\": 1097, \"ALL_INF\": 6474, \"ALL_INF2\": null, \"TITLE\": \"Widespread Outbreak\", \"pct_positive\": 35.53}, {\"Country\": \"United States of America\", \"WHOREGION\": \"Region of the Americas of WHO\", \"FLUREGION\": \"North America\", \"Year\": 2013, \"Week\": 2, \"SDATE\": \"2013-01-07\", \"EDATE\": \"2013-01-13\", \"SPEC_RECEIVED_NB\": 20013, \"SPEC_PROCESSED_NB\": 20013, \"AH1\": 0.0, \"AH1N12009\": 96, \"AH3\": 3889, \"AH5\": 0.0, \"ANOTSUBTYPED\": 1767, \"INF_A\": 5752, \"BYAMAGATA\": 0, \"BVICTORIA\": 0, \"BNOTDETERMINED\": 1145, \"INF_B\": 1145, \"ALL_INF\": 6897, \"ALL_INF2\": null, \"TITLE\": \"Widespread Outbreak\", \"pct_positive\": 34.46}, {\"Country\": \"United States of America\", \"WHOREGION\": \"Region of the Americas of WHO\", \"FLUREGION\": \"North America\", \"Year\": 2013, \"Week\": 3, \"SDATE\": \"2013-01-14\", \"EDATE\": \"2013-01-20\", \"SPEC_RECEIVED_NB\": 19228, \"SPEC_PROCESSED_NB\": 19228, \"AH1\": 0.0, \"AH1N12009\": 113, \"AH3\": 3121, \"AH5\": 0.0, \"ANOTSUBTYPED\": 1624, \"INF_A\": 4858, \"BYAMAGATA\": 0, \"BVICTORIA\": 0, \"BNOTDETERMINED\": 1078, \"INF_B\": 1078, \"ALL_INF\": 5936, \"ALL_INF2\": null, \"TITLE\": \"Widespread Outbreak\", \"pct_positive\": 30.87}, {\"Country\": \"United States of America\", \"WHOREGION\": \"Region of the Americas of WHO\", \"FLUREGION\": \"North America\", \"Year\": 2013, \"Week\": 4, \"SDATE\": \"2013-01-21\", \"EDATE\": \"2013-01-27\", \"SPEC_RECEIVED_NB\": 17139, \"SPEC_PROCESSED_NB\": 17139, \"AH1\": 0.0, \"AH1N12009\": 129, \"AH3\": 2382, \"AH5\": 0.0, \"ANOTSUBTYPED\": 1528, \"INF_A\": 4039, \"BYAMAGATA\": 0, \"BVICTORIA\": 0, \"BNOTDETERMINED\": 1091, \"INF_B\": 1091, \"ALL_INF\": 5130, \"ALL_INF2\": null, \"TITLE\": \"Widespread Outbreak\", \"pct_positive\": 29.93}, {\"Country\": \"United States of America\", \"WHOREGION\": \"Region of the Americas of WHO\", \"FLUREGION\": \"North America\", \"Year\": 2013, \"Week\": 5, \"SDATE\": \"2013-01-28\", \"EDATE\": \"2013-02-03\", \"SPEC_RECEIVED_NB\": 14795, \"SPEC_PROCESSED_NB\": 14795, \"AH1\": 0.0, \"AH1N12009\": 122, \"AH3\": 1890, \"AH5\": 0.0, \"ANOTSUBTYPED\": 951, \"INF_A\": 2963, \"BYAMAGATA\": 0, \"BVICTORIA\": 0, \"BNOTDETERMINED\": 1076, \"INF_B\": 1076, \"ALL_INF\": 4039, \"ALL_INF2\": null, \"TITLE\": \"Widespread Outbreak\", \"pct_positive\": 27.3}, {\"Country\": \"United States of America\", \"WHOREGION\": \"Region of the Americas of WHO\", \"FLUREGION\": \"North America\", \"Year\": 2013, \"Week\": 6, \"SDATE\": \"2013-02-04\", \"EDATE\": \"2013-02-10\", \"SPEC_RECEIVED_NB\": 13259, \"SPEC_PROCESSED_NB\": 13259, \"AH1\": 0.0, \"AH1N12009\": 121, \"AH3\": 1181, \"AH5\": 0.0, \"ANOTSUBTYPED\": 706, \"INF_A\": 2008, \"BYAMAGATA\": 0, \"BVICTORIA\": 0, \"BNOTDETERMINED\": 1051, \"INF_B\": 1051, \"ALL_INF\": 3059, \"ALL_INF2\": null, \"TITLE\": \"Widespread Outbreak\", \"pct_positive\": 23.07}, {\"Country\": \"United States of America\", \"WHOREGION\": \"Region of the Americas of WHO\", \"FLUREGION\": \"North America\", \"Year\": 2013, \"Week\": 7, \"SDATE\": \"2013-02-11\", \"EDATE\": \"2013-02-17\", \"SPEC_RECEIVED_NB\": 11468, \"SPEC_PROCESSED_NB\": 11468, \"AH1\": 0.0, \"AH1N12009\": 69, \"AH3\": 798, \"AH5\": 0.0, \"ANOTSUBTYPED\": 486, \"INF_A\": 1353, \"BYAMAGATA\": 0, \"BVICTORIA\": 0, \"BNOTDETERMINED\": 1032, \"INF_B\": 1032, \"ALL_INF\": 2385, \"ALL_INF2\": null, \"TITLE\": \"Widespread Outbreak\", \"pct_positive\": 20.8}, {\"Country\": \"United States of America\", \"WHOREGION\": \"Region of the Americas of WHO\", \"FLUREGION\": \"North America\", \"Year\": 2013, \"Week\": 8, \"SDATE\": \"2013-02-18\", \"EDATE\": \"2013-02-24\", \"SPEC_RECEIVED_NB\": 10398, \"SPEC_PROCESSED_NB\": 10398, \"AH1\": 0.0, \"AH1N12009\": 74, \"AH3\": 548, \"AH5\": 0.0, \"ANOTSUBTYPED\": 363, \"INF_A\": 985, \"BYAMAGATA\": 0, \"BVICTORIA\": 0, \"BNOTDETERMINED\": 1084, \"INF_B\": 1084, \"ALL_INF\": 2069, \"ALL_INF2\": null, \"TITLE\": \"Widespread Outbreak\", \"pct_positive\": 19.9}, {\"Country\": \"United States of America\", \"WHOREGION\": \"Region of the Americas of WHO\", \"FLUREGION\": \"North America\", \"Year\": 2013, \"Week\": 9, \"SDATE\": \"2013-02-25\", \"EDATE\": \"2013-03-03\", \"SPEC_RECEIVED_NB\": 9499, \"SPEC_PROCESSED_NB\": 9499, \"AH1\": 0.0, \"AH1N12009\": 49, \"AH3\": 392, \"AH5\": 0.0, \"ANOTSUBTYPED\": 289, \"INF_A\": 730, \"BYAMAGATA\": 0, \"BVICTORIA\": 0, \"BNOTDETERMINED\": 1046, \"INF_B\": 1046, \"ALL_INF\": 1776, \"ALL_INF2\": null, \"TITLE\": \"Widespread Outbreak\", \"pct_positive\": 18.7}, {\"Country\": \"United States of America\", \"WHOREGION\": \"Region of the Americas of WHO\", \"FLUREGION\": \"North America\", \"Year\": 2013, \"Week\": 10, \"SDATE\": \"2013-03-04\", \"EDATE\": \"2013-03-10\", \"SPEC_RECEIVED_NB\": 8999, \"SPEC_PROCESSED_NB\": 8999, \"AH1\": 0.0, \"AH1N12009\": 61, \"AH3\": 301, \"AH5\": 0.0, \"ANOTSUBTYPED\": 200, \"INF_A\": 562, \"BYAMAGATA\": 0, \"BVICTORIA\": 0, \"BNOTDETERMINED\": 1083, \"INF_B\": 1083, \"ALL_INF\": 1645, \"ALL_INF2\": null, \"TITLE\": \"Regional Outbreak\", \"pct_positive\": 18.28}, {\"Country\": \"United States of America\", \"WHOREGION\": \"Region of the Americas of WHO\", \"FLUREGION\": \"North America\", \"Year\": 2013, \"Week\": 11, \"SDATE\": \"2013-03-11\", \"EDATE\": \"2013-03-17\", \"SPEC_RECEIVED_NB\": 8733, \"SPEC_PROCESSED_NB\": 8733, \"AH1\": 0.0, \"AH1N12009\": 41, \"AH3\": 202, \"AH5\": 0.0, \"ANOTSUBTYPED\": 191, \"INF_A\": 434, \"BYAMAGATA\": 0, \"BVICTORIA\": 0, \"BNOTDETERMINED\": 1018, \"INF_B\": 1018, \"ALL_INF\": 1452, \"ALL_INF2\": null, \"TITLE\": \"Local Outbreak\", \"pct_positive\": 16.63}, {\"Country\": \"United States of America\", \"WHOREGION\": \"Region of the Americas of WHO\", \"FLUREGION\": \"North America\", \"Year\": 2013, \"Week\": 12, \"SDATE\": \"2013-03-18\", \"EDATE\": \"2013-03-24\", \"SPEC_RECEIVED_NB\": 7849, \"SPEC_PROCESSED_NB\": 7849, \"AH1\": 0.0, \"AH1N12009\": 29, \"AH3\": 159, \"AH5\": 0.0, \"ANOTSUBTYPED\": 137, \"INF_A\": 325, \"BYAMAGATA\": 0, \"BVICTORIA\": 0, \"BNOTDETERMINED\": 894, \"INF_B\": 894, \"ALL_INF\": 1219, \"ALL_INF2\": null, \"TITLE\": \"Local Outbreak\", \"pct_positive\": 15.53}, {\"Country\": \"United States of America\", \"WHOREGION\": \"Region of the Americas of WHO\", \"FLUREGION\": \"North America\", \"Year\": 2013, \"Week\": 13, \"SDATE\": \"2013-03-25\", \"EDATE\": \"2013-03-31\", \"SPEC_RECEIVED_NB\": 6635, \"SPEC_PROCESSED_NB\": 6635, \"AH1\": 0.0, \"AH1N12009\": 31, \"AH3\": 98, \"AH5\": 0.0, \"ANOTSUBTYPED\": 92, \"INF_A\": 221, \"BYAMAGATA\": 0, \"BVICTORIA\": 0, \"BNOTDETERMINED\": 732, \"INF_B\": 732, \"ALL_INF\": 953, \"ALL_INF2\": null, \"TITLE\": \"Local Outbreak\", \"pct_positive\": 14.36}, {\"Country\": \"United States of America\", \"WHOREGION\": \"Region of the Americas of WHO\", \"FLUREGION\": \"North America\", \"Year\": 2013, \"Week\": 14, \"SDATE\": \"2013-04-01\", \"EDATE\": \"2013-04-07\", \"SPEC_RECEIVED_NB\": 6311, \"SPEC_PROCESSED_NB\": 6311, \"AH1\": 0.0, \"AH1N12009\": 31, \"AH3\": 120, \"AH5\": 0.0, \"ANOTSUBTYPED\": 101, \"INF_A\": 252, \"BYAMAGATA\": 0, \"BVICTORIA\": 0, \"BNOTDETERMINED\": 641, \"INF_B\": 641, \"ALL_INF\": 893, \"ALL_INF2\": null, \"TITLE\": \"Local Outbreak\", \"pct_positive\": 14.15}, {\"Country\": \"United States of America\", \"WHOREGION\": \"Region of the Americas of WHO\", \"FLUREGION\": \"North America\", \"Year\": 2013, \"Week\": 15, \"SDATE\": \"2013-04-08\", \"EDATE\": \"2013-04-14\", \"SPEC_RECEIVED_NB\": 5779, \"SPEC_PROCESSED_NB\": 5779, \"AH1\": 0.0, \"AH1N12009\": 44, \"AH3\": 67, \"AH5\": 0.0, \"ANOTSUBTYPED\": 63, \"INF_A\": 174, \"BYAMAGATA\": 0, \"BVICTORIA\": 0, \"BNOTDETERMINED\": 457, \"INF_B\": 457, \"ALL_INF\": 631, \"ALL_INF2\": null, \"TITLE\": \"Local Outbreak\", \"pct_positive\": 10.92}, {\"Country\": \"United States of America\", \"WHOREGION\": \"Region of the Americas of WHO\", \"FLUREGION\": \"North America\", \"Year\": 2013, \"Week\": 16, \"SDATE\": \"2013-04-15\", \"EDATE\": \"2013-04-21\", \"SPEC_RECEIVED_NB\": 5229, \"SPEC_PROCESSED_NB\": 5229, \"AH1\": 0.0, \"AH1N12009\": 27, \"AH3\": 73, \"AH5\": 0.0, \"ANOTSUBTYPED\": 43, \"INF_A\": 143, \"BYAMAGATA\": 0, \"BVICTORIA\": 0, \"BNOTDETERMINED\": 311, \"INF_B\": 311, \"ALL_INF\": 454, \"ALL_INF2\": null, \"TITLE\": \"Local Outbreak\", \"pct_positive\": 8.68}, {\"Country\": \"United States of America\", \"WHOREGION\": \"Region of the Americas of WHO\", \"FLUREGION\": \"North America\", \"Year\": 2013, \"Week\": 17, \"SDATE\": \"2013-04-22\", \"EDATE\": \"2013-04-28\", \"SPEC_RECEIVED_NB\": 4518, \"SPEC_PROCESSED_NB\": 4518, \"AH1\": 0.0, \"AH1N12009\": 33, \"AH3\": 61, \"AH5\": 0.0, \"ANOTSUBTYPED\": 46, \"INF_A\": 140, \"BYAMAGATA\": 0, \"BVICTORIA\": 0, \"BNOTDETERMINED\": 239, \"INF_B\": 239, \"ALL_INF\": 379, \"ALL_INF2\": null, \"TITLE\": \"Sporadic\", \"pct_positive\": 8.39}, {\"Country\": \"United States of America\", \"WHOREGION\": \"Region of the Americas of WHO\", \"FLUREGION\": \"North America\", \"Year\": 2013, \"Week\": 18, \"SDATE\": \"2013-04-29\", \"EDATE\": \"2013-05-05\", \"SPEC_RECEIVED_NB\": 4317, \"SPEC_PROCESSED_NB\": 4317, \"AH1\": 0.0, \"AH1N12009\": 15, \"AH3\": 54, \"AH5\": 0.0, \"ANOTSUBTYPED\": 29, \"INF_A\": 98, \"BYAMAGATA\": 0, \"BVICTORIA\": 0, \"BNOTDETERMINED\": 195, \"INF_B\": 195, \"ALL_INF\": 293, \"ALL_INF2\": null, \"TITLE\": \"Sporadic\", \"pct_positive\": 6.79}, {\"Country\": \"United States of America\", \"WHOREGION\": \"Region of the Americas of WHO\", \"FLUREGION\": \"North America\", \"Year\": 2013, \"Week\": 19, \"SDATE\": \"2013-05-06\", \"EDATE\": \"2013-05-12\", \"SPEC_RECEIVED_NB\": 3917, \"SPEC_PROCESSED_NB\": 3917, \"AH1\": 0.0, \"AH1N12009\": 12, \"AH3\": 36, \"AH5\": 0.0, \"ANOTSUBTYPED\": 27, \"INF_A\": 75, \"BYAMAGATA\": 0, \"BVICTORIA\": 0, \"BNOTDETERMINED\": 174, \"INF_B\": 174, \"ALL_INF\": 249, \"ALL_INF2\": null, \"TITLE\": \"Sporadic\", \"pct_positive\": 6.36}, {\"Country\": \"United States of America\", \"WHOREGION\": \"Region of the Americas of WHO\", \"FLUREGION\": \"North America\", \"Year\": 2013, \"Week\": 20, \"SDATE\": \"2013-05-13\", \"EDATE\": \"2013-05-19\", \"SPEC_RECEIVED_NB\": 3562, \"SPEC_PROCESSED_NB\": 3562, \"AH1\": 0.0, \"AH1N12009\": 11, \"AH3\": 24, \"AH5\": 0.0, \"ANOTSUBTYPED\": 19, \"INF_A\": 54, \"BYAMAGATA\": 0, \"BVICTORIA\": 0, \"BNOTDETERMINED\": 120, \"INF_B\": 120, \"ALL_INF\": 174, \"ALL_INF2\": null, \"TITLE\": \"Sporadic\", \"pct_positive\": 4.88}, {\"Country\": \"United States of America\", \"WHOREGION\": \"Region of the Americas of WHO\", \"FLUREGION\": \"North America\", \"Year\": 2013, \"Week\": 21, \"SDATE\": \"2013-05-20\", \"EDATE\": \"2013-05-26\", \"SPEC_RECEIVED_NB\": 3488, \"SPEC_PROCESSED_NB\": 3488, \"AH1\": 0.0, \"AH1N12009\": 13, \"AH3\": 18, \"AH5\": 0.0, \"ANOTSUBTYPED\": 21, \"INF_A\": 52, \"BYAMAGATA\": 0, \"BVICTORIA\": 0, \"BNOTDETERMINED\": 109, \"INF_B\": 109, \"ALL_INF\": 161, \"ALL_INF2\": null, \"TITLE\": \"Sporadic\", \"pct_positive\": 4.62}, {\"Country\": \"United States of America\", \"WHOREGION\": \"Region of the Americas of WHO\", \"FLUREGION\": \"North America\", \"Year\": 2013, \"Week\": 22, \"SDATE\": \"2013-05-27\", \"EDATE\": \"2013-06-02\", \"SPEC_RECEIVED_NB\": 3207, \"SPEC_PROCESSED_NB\": 3207, \"AH1\": 0.0, \"AH1N12009\": 14, \"AH3\": 14, \"AH5\": 0.0, \"ANOTSUBTYPED\": 28, \"INF_A\": 56, \"BYAMAGATA\": 0, \"BVICTORIA\": 0, \"BNOTDETERMINED\": 92, \"INF_B\": 92, \"ALL_INF\": 148, \"ALL_INF2\": null, \"TITLE\": \"Sporadic\", \"pct_positive\": 4.61}, {\"Country\": \"United States of America\", \"WHOREGION\": \"Region of the Americas of WHO\", \"FLUREGION\": \"North America\", \"Year\": 2013, \"Week\": 23, \"SDATE\": \"2013-06-03\", \"EDATE\": \"2013-06-09\", \"SPEC_RECEIVED_NB\": 3167, \"SPEC_PROCESSED_NB\": 3167, \"AH1\": 0.0, \"AH1N12009\": 10, \"AH3\": 12, \"AH5\": 0.0, \"ANOTSUBTYPED\": 29, \"INF_A\": 51, \"BYAMAGATA\": 0, \"BVICTORIA\": 0, \"BNOTDETERMINED\": 78, \"INF_B\": 78, \"ALL_INF\": 129, \"ALL_INF2\": null, \"TITLE\": \"Sporadic\", \"pct_positive\": 4.07}, {\"Country\": \"United States of America\", \"WHOREGION\": \"Region of the Americas of WHO\", \"FLUREGION\": \"North America\", \"Year\": 2013, \"Week\": 24, \"SDATE\": \"2013-06-10\", \"EDATE\": \"2013-06-16\", \"SPEC_RECEIVED_NB\": 2893, \"SPEC_PROCESSED_NB\": 2893, \"AH1\": 0.0, \"AH1N12009\": 20, \"AH3\": 12, \"AH5\": 0.0, \"ANOTSUBTYPED\": 32, \"INF_A\": 64, \"BYAMAGATA\": 0, \"BVICTORIA\": 0, \"BNOTDETERMINED\": 62, \"INF_B\": 62, \"ALL_INF\": 126, \"ALL_INF2\": null, \"TITLE\": \"Sporadic\", \"pct_positive\": 4.36}, {\"Country\": \"United States of America\", \"WHOREGION\": \"Region of the Americas of WHO\", \"FLUREGION\": \"North America\", \"Year\": 2013, \"Week\": 25, \"SDATE\": \"2013-06-17\", \"EDATE\": \"2013-06-23\", \"SPEC_RECEIVED_NB\": 2811, \"SPEC_PROCESSED_NB\": 2811, \"AH1\": 0.0, \"AH1N12009\": 5, \"AH3\": 10, \"AH5\": 0.0, \"ANOTSUBTYPED\": 31, \"INF_A\": 48, \"BYAMAGATA\": 0, \"BVICTORIA\": 0, \"BNOTDETERMINED\": 47, \"INF_B\": 47, \"ALL_INF\": 95, \"ALL_INF2\": null, \"TITLE\": \"Sporadic\", \"pct_positive\": 3.38}, {\"Country\": \"United States of America\", \"WHOREGION\": \"Region of the Americas of WHO\", \"FLUREGION\": \"North America\", \"Year\": 2013, \"Week\": 26, \"SDATE\": \"2013-06-24\", \"EDATE\": \"2013-06-30\", \"SPEC_RECEIVED_NB\": 2591, \"SPEC_PROCESSED_NB\": 2591, \"AH1\": 0.0, \"AH1N12009\": 6, \"AH3\": 5, \"AH5\": 0.0, \"ANOTSUBTYPED\": 21, \"INF_A\": 38, \"BYAMAGATA\": 0, \"BVICTORIA\": 0, \"BNOTDETERMINED\": 27, \"INF_B\": 27, \"ALL_INF\": 65, \"ALL_INF2\": null, \"TITLE\": \"Sporadic\", \"pct_positive\": 2.51}, {\"Country\": \"United States of America\", \"WHOREGION\": \"Region of the Americas of WHO\", \"FLUREGION\": \"North America\", \"Year\": 2013, \"Week\": 27, \"SDATE\": \"2013-07-01\", \"EDATE\": \"2013-07-07\", \"SPEC_RECEIVED_NB\": 2256, \"SPEC_PROCESSED_NB\": 2256, \"AH1\": 0.0, \"AH1N12009\": 6, \"AH3\": 12, \"AH5\": 0.0, \"ANOTSUBTYPED\": 22, \"INF_A\": 44, \"BYAMAGATA\": 0, \"BVICTORIA\": 0, \"BNOTDETERMINED\": 23, \"INF_B\": 23, \"ALL_INF\": 67, \"ALL_INF2\": null, \"TITLE\": \"Sporadic\", \"pct_positive\": 2.97}, {\"Country\": \"United States of America\", \"WHOREGION\": \"Region of the Americas of WHO\", \"FLUREGION\": \"North America\", \"Year\": 2013, \"Week\": 28, \"SDATE\": \"2013-07-08\", \"EDATE\": \"2013-07-14\", \"SPEC_RECEIVED_NB\": 2337, \"SPEC_PROCESSED_NB\": 2337, \"AH1\": 0.0, \"AH1N12009\": 6, \"AH3\": 27, \"AH5\": 0.0, \"ANOTSUBTYPED\": 33, \"INF_A\": 66, \"BYAMAGATA\": 0, \"BVICTORIA\": 0, \"BNOTDETERMINED\": 13, \"INF_B\": 13, \"ALL_INF\": 79, \"ALL_INF2\": null, \"TITLE\": \"Sporadic\", \"pct_positive\": 3.38}, {\"Country\": \"United States of America\", \"WHOREGION\": \"Region of the Americas of WHO\", \"FLUREGION\": \"North America\", \"Year\": 2013, \"Week\": 29, \"SDATE\": \"2013-07-15\", \"EDATE\": \"2013-07-21\", \"SPEC_RECEIVED_NB\": 2212, \"SPEC_PROCESSED_NB\": 2212, \"AH1\": 0.0, \"AH1N12009\": 5, \"AH3\": 12, \"AH5\": 0.0, \"ANOTSUBTYPED\": 24, \"INF_A\": 42, \"BYAMAGATA\": 0, \"BVICTORIA\": 0, \"BNOTDETERMINED\": 14, \"INF_B\": 14, \"ALL_INF\": 56, \"ALL_INF2\": null, \"TITLE\": \"Sporadic\", \"pct_positive\": 2.53}, {\"Country\": \"United States of America\", \"WHOREGION\": \"Region of the Americas of WHO\", \"FLUREGION\": \"North America\", \"Year\": 2013, \"Week\": 30, \"SDATE\": \"2013-07-22\", \"EDATE\": \"2013-07-28\", \"SPEC_RECEIVED_NB\": 2050, \"SPEC_PROCESSED_NB\": 2050, \"AH1\": 0.0, \"AH1N12009\": 11, \"AH3\": 10, \"AH5\": 0.0, \"ANOTSUBTYPED\": 29, \"INF_A\": 51, \"BYAMAGATA\": 0, \"BVICTORIA\": 0, \"BNOTDETERMINED\": 9, \"INF_B\": 9, \"ALL_INF\": 60, \"ALL_INF2\": null, \"TITLE\": \"Sporadic\", \"pct_positive\": 2.93}, {\"Country\": \"United States of America\", \"WHOREGION\": \"Region of the Americas of WHO\", \"FLUREGION\": \"North America\", \"Year\": 2013, \"Week\": 31, \"SDATE\": \"2013-07-29\", \"EDATE\": \"2013-08-04\", \"SPEC_RECEIVED_NB\": 2246, \"SPEC_PROCESSED_NB\": 2246, \"AH1\": 0.0, \"AH1N12009\": 8, \"AH3\": 14, \"AH5\": 0.0, \"ANOTSUBTYPED\": 31, \"INF_A\": 55, \"BYAMAGATA\": 0, \"BVICTORIA\": 0, \"BNOTDETERMINED\": 20, \"INF_B\": 20, \"ALL_INF\": 75, \"ALL_INF2\": null, \"TITLE\": \"Sporadic\", \"pct_positive\": 3.34}, {\"Country\": \"United States of America\", \"WHOREGION\": \"Region of the Americas of WHO\", \"FLUREGION\": \"North America\", \"Year\": 2013, \"Week\": 32, \"SDATE\": \"2013-08-05\", \"EDATE\": \"2013-08-11\", \"SPEC_RECEIVED_NB\": 2195, \"SPEC_PROCESSED_NB\": 2195, \"AH1\": 0.0, \"AH1N12009\": 14, \"AH3\": 11, \"AH5\": 0.0, \"ANOTSUBTYPED\": 26, \"INF_A\": 51, \"BYAMAGATA\": 0, \"BVICTORIA\": 0, \"BNOTDETERMINED\": 12, \"INF_B\": 12, \"ALL_INF\": 63, \"ALL_INF2\": null, \"TITLE\": \"Sporadic\", \"pct_positive\": 2.87}, {\"Country\": \"United States of America\", \"WHOREGION\": \"Region of the Americas of WHO\", \"FLUREGION\": \"North America\", \"Year\": 2013, \"Week\": 33, \"SDATE\": \"2013-08-12\", \"EDATE\": \"2013-08-18\", \"SPEC_RECEIVED_NB\": 1968, \"SPEC_PROCESSED_NB\": 1968, \"AH1\": 0.0, \"AH1N12009\": 13, \"AH3\": 3, \"AH5\": 0.0, \"ANOTSUBTYPED\": 32, \"INF_A\": 48, \"BYAMAGATA\": 0, \"BVICTORIA\": 0, \"BNOTDETERMINED\": 10, \"INF_B\": 10, \"ALL_INF\": 58, \"ALL_INF2\": null, \"TITLE\": \"Sporadic\", \"pct_positive\": 2.95}, {\"Country\": \"United States of America\", \"WHOREGION\": \"Region of the Americas of WHO\", \"FLUREGION\": \"North America\", \"Year\": 2013, \"Week\": 34, \"SDATE\": \"2013-08-19\", \"EDATE\": \"2013-08-25\", \"SPEC_RECEIVED_NB\": 2187, \"SPEC_PROCESSED_NB\": 2187, \"AH1\": 0.0, \"AH1N12009\": 9, \"AH3\": 4, \"AH5\": 0.0, \"ANOTSUBTYPED\": 41, \"INF_A\": 55, \"BYAMAGATA\": 0, \"BVICTORIA\": 0, \"BNOTDETERMINED\": 3, \"INF_B\": 3, \"ALL_INF\": 58, \"ALL_INF2\": null, \"TITLE\": \"Sporadic\", \"pct_positive\": 2.65}, {\"Country\": \"United States of America\", \"WHOREGION\": \"Region of the Americas of WHO\", \"FLUREGION\": \"North America\", \"Year\": 2013, \"Week\": 35, \"SDATE\": \"2013-08-26\", \"EDATE\": \"2013-09-01\", \"SPEC_RECEIVED_NB\": 2674, \"SPEC_PROCESSED_NB\": 2674, \"AH1\": 0.0, \"AH1N12009\": 39, \"AH3\": 3, \"AH5\": 0.0, \"ANOTSUBTYPED\": 67, \"INF_A\": 110, \"BYAMAGATA\": 0, \"BVICTORIA\": 0, \"BNOTDETERMINED\": 10, \"INF_B\": 10, \"ALL_INF\": 120, \"ALL_INF2\": null, \"TITLE\": \"Sporadic\", \"pct_positive\": 4.49}, {\"Country\": \"United States of America\", \"WHOREGION\": \"Region of the Americas of WHO\", \"FLUREGION\": \"North America\", \"Year\": 2013, \"Week\": 36, \"SDATE\": \"2013-09-02\", \"EDATE\": \"2013-09-08\", \"SPEC_RECEIVED_NB\": 2825, \"SPEC_PROCESSED_NB\": 2825, \"AH1\": 0.0, \"AH1N12009\": 23, \"AH3\": 5, \"AH5\": 0.0, \"ANOTSUBTYPED\": 73, \"INF_A\": 101, \"BYAMAGATA\": 0, \"BVICTORIA\": 0, \"BNOTDETERMINED\": 12, \"INF_B\": 12, \"ALL_INF\": 113, \"ALL_INF2\": null, \"TITLE\": \"Sporadic\", \"pct_positive\": 4.0}, {\"Country\": \"United States of America\", \"WHOREGION\": \"Region of the Americas of WHO\", \"FLUREGION\": \"North America\", \"Year\": 2013, \"Week\": 37, \"SDATE\": \"2013-09-09\", \"EDATE\": \"2013-09-15\", \"SPEC_RECEIVED_NB\": 3190, \"SPEC_PROCESSED_NB\": 3190, \"AH1\": 0.0, \"AH1N12009\": 48, \"AH3\": 7, \"AH5\": 0.0, \"ANOTSUBTYPED\": 60, \"INF_A\": 115, \"BYAMAGATA\": 0, \"BVICTORIA\": 0, \"BNOTDETERMINED\": 7, \"INF_B\": 7, \"ALL_INF\": 122, \"ALL_INF2\": null, \"TITLE\": \"Sporadic\", \"pct_positive\": 3.82}, {\"Country\": \"United States of America\", \"WHOREGION\": \"Region of the Americas of WHO\", \"FLUREGION\": \"North America\", \"Year\": 2013, \"Week\": 38, \"SDATE\": \"2013-09-16\", \"EDATE\": \"2013-09-22\", \"SPEC_RECEIVED_NB\": 3400, \"SPEC_PROCESSED_NB\": 3400, \"AH1\": 0.0, \"AH1N12009\": 32, \"AH3\": 7, \"AH5\": 0.0, \"ANOTSUBTYPED\": 56, \"INF_A\": 95, \"BYAMAGATA\": 0, \"BVICTORIA\": 0, \"BNOTDETERMINED\": 22, \"INF_B\": 22, \"ALL_INF\": 117, \"ALL_INF2\": null, \"TITLE\": \"Sporadic\", \"pct_positive\": 3.44}, {\"Country\": \"United States of America\", \"WHOREGION\": \"Region of the Americas of WHO\", \"FLUREGION\": \"North America\", \"Year\": 2013, \"Week\": 39, \"SDATE\": \"2013-09-23\", \"EDATE\": \"2013-09-29\", \"SPEC_RECEIVED_NB\": 3890, \"SPEC_PROCESSED_NB\": 3890, \"AH1\": 0.0, \"AH1N12009\": 49, \"AH3\": 10, \"AH5\": 0.0, \"ANOTSUBTYPED\": 56, \"INF_A\": 115, \"BYAMAGATA\": 0, \"BVICTORIA\": 0, \"BNOTDETERMINED\": 22, \"INF_B\": 22, \"ALL_INF\": 137, \"ALL_INF2\": null, \"TITLE\": \"Sporadic\", \"pct_positive\": 3.52}, {\"Country\": \"United States of America\", \"WHOREGION\": \"Region of the Americas of WHO\", \"FLUREGION\": \"North America\", \"Year\": 2013, \"Week\": 40, \"SDATE\": \"2013-09-30\", \"EDATE\": \"2013-10-06\", \"SPEC_RECEIVED_NB\": 4407, \"SPEC_PROCESSED_NB\": 4407, \"AH1\": 0.0, \"AH1N12009\": 64, \"AH3\": 10, \"AH5\": 0.0, \"ANOTSUBTYPED\": 84, \"INF_A\": 159, \"BYAMAGATA\": 0, \"BVICTORIA\": 0, \"BNOTDETERMINED\": 26, \"INF_B\": 26, \"ALL_INF\": 185, \"ALL_INF2\": null, \"TITLE\": \"Sporadic\", \"pct_positive\": 4.2}, {\"Country\": \"United States of America\", \"WHOREGION\": \"Region of the Americas of WHO\", \"FLUREGION\": \"North America\", \"Year\": 2013, \"Week\": 41, \"SDATE\": \"2013-10-07\", \"EDATE\": \"2013-10-13\", \"SPEC_RECEIVED_NB\": 5244, \"SPEC_PROCESSED_NB\": 5244, \"AH1\": 0.0, \"AH1N12009\": 57, \"AH3\": 21, \"AH5\": 0.0, \"ANOTSUBTYPED\": 115, \"INF_A\": 193, \"BYAMAGATA\": 0, \"BVICTORIA\": 0, \"BNOTDETERMINED\": 28, \"INF_B\": 28, \"ALL_INF\": 221, \"ALL_INF2\": null, \"TITLE\": \"Sporadic\", \"pct_positive\": 4.21}, {\"Country\": \"United States of America\", \"WHOREGION\": \"Region of the Americas of WHO\", \"FLUREGION\": \"North America\", \"Year\": 2013, \"Week\": 42, \"SDATE\": \"2013-10-14\", \"EDATE\": \"2013-10-20\", \"SPEC_RECEIVED_NB\": 5320, \"SPEC_PROCESSED_NB\": 5320, \"AH1\": 0.0, \"AH1N12009\": 34, \"AH3\": 12, \"AH5\": 0.0, \"ANOTSUBTYPED\": 104, \"INF_A\": 150, \"BYAMAGATA\": 0, \"BVICTORIA\": 0, \"BNOTDETERMINED\": 25, \"INF_B\": 25, \"ALL_INF\": 175, \"ALL_INF2\": null, \"TITLE\": \"Sporadic\", \"pct_positive\": 3.29}, {\"Country\": \"United States of America\", \"WHOREGION\": \"Region of the Americas of WHO\", \"FLUREGION\": \"North America\", \"Year\": 2013, \"Week\": 43, \"SDATE\": \"2013-10-21\", \"EDATE\": \"2013-10-27\", \"SPEC_RECEIVED_NB\": 5402, \"SPEC_PROCESSED_NB\": 5402, \"AH1\": 0.0, \"AH1N12009\": 65, \"AH3\": 16, \"AH5\": 0.0, \"ANOTSUBTYPED\": 102, \"INF_A\": 183, \"BYAMAGATA\": 0, \"BVICTORIA\": 0, \"BNOTDETERMINED\": 14, \"INF_B\": 14, \"ALL_INF\": 197, \"ALL_INF2\": null, \"TITLE\": \"Sporadic\", \"pct_positive\": 3.65}, {\"Country\": \"United States of America\", \"WHOREGION\": \"Region of the Americas of WHO\", \"FLUREGION\": \"North America\", \"Year\": 2013, \"Week\": 44, \"SDATE\": \"2013-10-28\", \"EDATE\": \"2013-11-03\", \"SPEC_RECEIVED_NB\": 5853, \"SPEC_PROCESSED_NB\": 5853, \"AH1\": 0.0, \"AH1N12009\": 74, \"AH3\": 24, \"AH5\": 0.0, \"ANOTSUBTYPED\": 135, \"INF_A\": 233, \"BYAMAGATA\": 0, \"BVICTORIA\": 0, \"BNOTDETERMINED\": 41, \"INF_B\": 41, \"ALL_INF\": 274, \"ALL_INF2\": null, \"TITLE\": \"Sporadic\", \"pct_positive\": 4.68}, {\"Country\": \"United States of America\", \"WHOREGION\": \"Region of the Americas of WHO\", \"FLUREGION\": \"North America\", \"Year\": 2013, \"Week\": 45, \"SDATE\": \"2013-11-04\", \"EDATE\": \"2013-11-10\", \"SPEC_RECEIVED_NB\": 6765, \"SPEC_PROCESSED_NB\": 6765, \"AH1\": 0.0, \"AH1N12009\": 150, \"AH3\": 28, \"AH5\": 0.0, \"ANOTSUBTYPED\": 173, \"INF_A\": 351, \"BYAMAGATA\": 0, \"BVICTORIA\": 0, \"BNOTDETERMINED\": 43, \"INF_B\": 43, \"ALL_INF\": 394, \"ALL_INF2\": null, \"TITLE\": \"Local Outbreak\", \"pct_positive\": 5.82}, {\"Country\": \"United States of America\", \"WHOREGION\": \"Region of the Americas of WHO\", \"FLUREGION\": \"North America\", \"Year\": 2013, \"Week\": 46, \"SDATE\": \"2013-11-11\", \"EDATE\": \"2013-11-17\", \"SPEC_RECEIVED_NB\": 6963, \"SPEC_PROCESSED_NB\": 6963, \"AH1\": 0.0, \"AH1N12009\": 265, \"AH3\": 25, \"AH5\": 0.0, \"ANOTSUBTYPED\": 191, \"INF_A\": 481, \"BYAMAGATA\": 0, \"BVICTORIA\": 0, \"BNOTDETERMINED\": 39, \"INF_B\": 39, \"ALL_INF\": 520, \"ALL_INF2\": null, \"TITLE\": \"Local Outbreak\", \"pct_positive\": 7.47}, {\"Country\": \"United States of America\", \"WHOREGION\": \"Region of the Americas of WHO\", \"FLUREGION\": \"North America\", \"Year\": 2013, \"Week\": 47, \"SDATE\": \"2013-11-18\", \"EDATE\": \"2013-11-24\", \"SPEC_RECEIVED_NB\": 7569, \"SPEC_PROCESSED_NB\": 7569, \"AH1\": 0.0, \"AH1N12009\": 417, \"AH3\": 20, \"AH5\": 0.0, \"ANOTSUBTYPED\": 211, \"INF_A\": 648, \"BYAMAGATA\": 0, \"BVICTORIA\": 0, \"BNOTDETERMINED\": 55, \"INF_B\": 55, \"ALL_INF\": 703, \"ALL_INF2\": null, \"TITLE\": \"Local Outbreak\", \"pct_positive\": 9.29}, {\"Country\": \"United States of America\", \"WHOREGION\": \"Region of the Americas of WHO\", \"FLUREGION\": \"North America\", \"Year\": 2013, \"Week\": 48, \"SDATE\": \"2013-11-25\", \"EDATE\": \"2013-12-01\", \"SPEC_RECEIVED_NB\": 7118, \"SPEC_PROCESSED_NB\": 7118, \"AH1\": 0.0, \"AH1N12009\": 465, \"AH3\": 28, \"AH5\": 0.0, \"ANOTSUBTYPED\": 330, \"INF_A\": 823, \"BYAMAGATA\": 0, \"BVICTORIA\": 0, \"BNOTDETERMINED\": 40, \"INF_B\": 40, \"ALL_INF\": 863, \"ALL_INF2\": null, \"TITLE\": \"Local Outbreak\", \"pct_positive\": 12.12}, {\"Country\": \"United States of America\", \"WHOREGION\": \"Region of the Americas of WHO\", \"FLUREGION\": \"North America\", \"Year\": 2013, \"Week\": 49, \"SDATE\": \"2013-12-02\", \"EDATE\": \"2013-12-08\", \"SPEC_RECEIVED_NB\": 9628, \"SPEC_PROCESSED_NB\": 9628, \"AH1\": 0.0, \"AH1N12009\": 899, \"AH3\": 30, \"AH5\": 0.0, \"ANOTSUBTYPED\": 726, \"INF_A\": 1655, \"BYAMAGATA\": 0, \"BVICTORIA\": 0, \"BNOTDETERMINED\": 67, \"INF_B\": 67, \"ALL_INF\": 1722, \"ALL_INF2\": null, \"TITLE\": \"Local Outbreak\", \"pct_positive\": 17.89}, {\"Country\": \"United States of America\", \"WHOREGION\": \"Region of the Americas of WHO\", \"FLUREGION\": \"North America\", \"Year\": 2013, \"Week\": 50, \"SDATE\": \"2013-12-09\", \"EDATE\": \"2013-12-15\", \"SPEC_RECEIVED_NB\": 9942, \"SPEC_PROCESSED_NB\": 9942, \"AH1\": 0.0, \"AH1N12009\": 1062, \"AH3\": 46, \"AH5\": 0.0, \"ANOTSUBTYPED\": 813, \"INF_A\": 1921, \"BYAMAGATA\": 0, \"BVICTORIA\": 0, \"BNOTDETERMINED\": 47, \"INF_B\": 47, \"ALL_INF\": 1968, \"ALL_INF2\": null, \"TITLE\": \"Local Outbreak\", \"pct_positive\": 19.79}, {\"Country\": \"United States of America\", \"WHOREGION\": \"Region of the Americas of WHO\", \"FLUREGION\": \"North America\", \"Year\": 2013, \"Week\": 51, \"SDATE\": \"2013-12-16\", \"EDATE\": \"2013-12-22\", \"SPEC_RECEIVED_NB\": 13165, \"SPEC_PROCESSED_NB\": 13165, \"AH1\": 0.0, \"AH1N12009\": 1996, \"AH3\": 50, \"AH5\": 0.0, \"ANOTSUBTYPED\": 1577, \"INF_A\": 3623, \"BYAMAGATA\": 0, \"BVICTORIA\": 0, \"BNOTDETERMINED\": 62, \"INF_B\": 62, \"ALL_INF\": 3685, \"ALL_INF2\": null, \"TITLE\": \"Widespread Outbreak\", \"pct_positive\": 27.99}, {\"Country\": \"United States of America\", \"WHOREGION\": \"Region of the Americas of WHO\", \"FLUREGION\": \"North America\", \"Year\": 2013, \"Week\": 52, \"SDATE\": \"2013-12-23\", \"EDATE\": \"2013-12-29\", \"SPEC_RECEIVED_NB\": 14631, \"SPEC_PROCESSED_NB\": 14631, \"AH1\": 0.0, \"AH1N12009\": 2663, \"AH3\": 39, \"AH5\": 0.0, \"ANOTSUBTYPED\": 1689, \"INF_A\": 4391, \"BYAMAGATA\": 0, \"BVICTORIA\": 0, \"BNOTDETERMINED\": 87, \"INF_B\": 87, \"ALL_INF\": 4478, \"ALL_INF2\": null, \"TITLE\": \"Widespread Outbreak\", \"pct_positive\": 30.61}, {\"Country\": \"United States of America\", \"WHOREGION\": \"Region of the Americas of WHO\", \"FLUREGION\": \"North America\", \"Year\": 2014, \"Week\": 1, \"SDATE\": \"2013-12-30\", \"EDATE\": \"2014-01-05\", \"SPEC_RECEIVED_NB\": 16955, \"SPEC_PROCESSED_NB\": 16955, \"AH1\": 0.0, \"AH1N12009\": 3317, \"AH3\": 79, \"AH5\": 0.0, \"ANOTSUBTYPED\": 1502, \"INF_A\": 4898, \"BYAMAGATA\": 0, \"BVICTORIA\": 0, \"BNOTDETERMINED\": 84, \"INF_B\": 84, \"ALL_INF\": 4982, \"ALL_INF2\": null, \"TITLE\": \"Widespread Outbreak\", \"pct_positive\": 29.38}, {\"Country\": \"United States of America\", \"WHOREGION\": \"Region of the Americas of WHO\", \"FLUREGION\": \"North America\", \"Year\": 2014, \"Week\": 2, \"SDATE\": \"2014-01-06\", \"EDATE\": \"2014-01-12\", \"SPEC_RECEIVED_NB\": 16829, \"SPEC_PROCESSED_NB\": 16829, \"AH1\": 0.0, \"AH1N12009\": 3204, \"AH3\": 104, \"AH5\": 0.0, \"ANOTSUBTYPED\": 1246, \"INF_A\": 4554, \"BYAMAGATA\": 0, \"BVICTORIA\": 0, \"BNOTDETERMINED\": 82, \"INF_B\": 82, \"ALL_INF\": 4636, \"ALL_INF2\": null, \"TITLE\": \"Widespread Outbreak\", \"pct_positive\": 27.55}, {\"Country\": \"United States of America\", \"WHOREGION\": \"Region of the Americas of WHO\", \"FLUREGION\": \"North America\", \"Year\": 2014, \"Week\": 3, \"SDATE\": \"2014-01-13\", \"EDATE\": \"2014-01-19\", \"SPEC_RECEIVED_NB\": 16051, \"SPEC_PROCESSED_NB\": 16051, \"AH1\": 0.0, \"AH1N12009\": 2907, \"AH3\": 107, \"AH5\": 0.0, \"ANOTSUBTYPED\": 1119, \"INF_A\": 4133, \"BYAMAGATA\": 0, \"BVICTORIA\": 0, \"BNOTDETERMINED\": 110, \"INF_B\": 110, \"ALL_INF\": 4243, \"ALL_INF2\": null, \"TITLE\": \"Widespread Outbreak\", \"pct_positive\": 26.43}, {\"Country\": \"United States of America\", \"WHOREGION\": \"Region of the Americas of WHO\", \"FLUREGION\": \"North America\", \"Year\": 2014, \"Week\": 4, \"SDATE\": \"2014-01-20\", \"EDATE\": \"2014-01-26\", \"SPEC_RECEIVED_NB\": 15130, \"SPEC_PROCESSED_NB\": 15130, \"AH1\": 0.0, \"AH1N12009\": 2341, \"AH3\": 118, \"AH5\": 0.0, \"ANOTSUBTYPED\": 1002, \"INF_A\": 3461, \"BYAMAGATA\": 0, \"BVICTORIA\": 0, \"BNOTDETERMINED\": 152, \"INF_B\": 152, \"ALL_INF\": 3613, \"ALL_INF2\": null, \"TITLE\": \"Widespread Outbreak\", \"pct_positive\": 23.88}, {\"Country\": \"United States of America\", \"WHOREGION\": \"Region of the Americas of WHO\", \"FLUREGION\": \"North America\", \"Year\": 2014, \"Week\": 5, \"SDATE\": \"2014-01-27\", \"EDATE\": \"2014-02-02\", \"SPEC_RECEIVED_NB\": 13460, \"SPEC_PROCESSED_NB\": 13460, \"AH1\": 0.0, \"AH1N12009\": 1735, \"AH3\": 77, \"AH5\": 0.0, \"ANOTSUBTYPED\": 743, \"INF_A\": 2555, \"BYAMAGATA\": 0, \"BVICTORIA\": 0, \"BNOTDETERMINED\": 153, \"INF_B\": 153, \"ALL_INF\": 2708, \"ALL_INF2\": null, \"TITLE\": \"Widespread Outbreak\", \"pct_positive\": 20.12}, {\"Country\": \"United States of America\", \"WHOREGION\": \"Region of the Americas of WHO\", \"FLUREGION\": \"North America\", \"Year\": 2014, \"Week\": 6, \"SDATE\": \"2014-02-03\", \"EDATE\": \"2014-02-09\", \"SPEC_RECEIVED_NB\": 12072, \"SPEC_PROCESSED_NB\": 12072, \"AH1\": 0.0, \"AH1N12009\": 1451, \"AH3\": 115, \"AH5\": 0.0, \"ANOTSUBTYPED\": 525, \"INF_A\": 2091, \"BYAMAGATA\": 0, \"BVICTORIA\": 0, \"BNOTDETERMINED\": 198, \"INF_B\": 198, \"ALL_INF\": 2289, \"ALL_INF2\": null, \"TITLE\": \"Widespread Outbreak\", \"pct_positive\": 18.96}, {\"Country\": \"United States of America\", \"WHOREGION\": \"Region of the Americas of WHO\", \"FLUREGION\": \"North America\", \"Year\": 2014, \"Week\": 7, \"SDATE\": \"2014-02-10\", \"EDATE\": \"2014-02-16\", \"SPEC_RECEIVED_NB\": 10991, \"SPEC_PROCESSED_NB\": 10991, \"AH1\": 0.0, \"AH1N12009\": 1056, \"AH3\": 91, \"AH5\": 0.0, \"ANOTSUBTYPED\": 466, \"INF_A\": 1613, \"BYAMAGATA\": 0, \"BVICTORIA\": 0, \"BNOTDETERMINED\": 199, \"INF_B\": 199, \"ALL_INF\": 1812, \"ALL_INF2\": null, \"TITLE\": \"Widespread Outbreak\", \"pct_positive\": 16.49}, {\"Country\": \"United States of America\", \"WHOREGION\": \"Region of the Americas of WHO\", \"FLUREGION\": \"North America\", \"Year\": 2014, \"Week\": 8, \"SDATE\": \"2014-02-17\", \"EDATE\": \"2014-02-23\", \"SPEC_RECEIVED_NB\": 10451, \"SPEC_PROCESSED_NB\": 10451, \"AH1\": 0.0, \"AH1N12009\": 741, \"AH3\": 85, \"AH5\": 0.0, \"ANOTSUBTYPED\": 327, \"INF_A\": 1153, \"BYAMAGATA\": 0, \"BVICTORIA\": 0, \"BNOTDETERMINED\": 220, \"INF_B\": 220, \"ALL_INF\": 1373, \"ALL_INF2\": null, \"TITLE\": \"Widespread Outbreak\", \"pct_positive\": 13.14}, {\"Country\": \"United States of America\", \"WHOREGION\": \"Region of the Americas of WHO\", \"FLUREGION\": \"North America\", \"Year\": 2014, \"Week\": 9, \"SDATE\": \"2014-02-24\", \"EDATE\": \"2014-03-02\", \"SPEC_RECEIVED_NB\": 9349, \"SPEC_PROCESSED_NB\": 9349, \"AH1\": 0.0, \"AH1N12009\": 454, \"AH3\": 85, \"AH5\": 0.0, \"ANOTSUBTYPED\": 250, \"INF_A\": 789, \"BYAMAGATA\": 0, \"BVICTORIA\": 0, \"BNOTDETERMINED\": 237, \"INF_B\": 237, \"ALL_INF\": 1026, \"ALL_INF2\": null, \"TITLE\": \"Regional Outbreak\", \"pct_positive\": 10.97}, {\"Country\": \"United States of America\", \"WHOREGION\": \"Region of the Americas of WHO\", \"FLUREGION\": \"North America\", \"Year\": 2014, \"Week\": 10, \"SDATE\": \"2014-03-03\", \"EDATE\": \"2014-03-09\", \"SPEC_RECEIVED_NB\": 8995, \"SPEC_PROCESSED_NB\": 8995, \"AH1\": 0.0, \"AH1N12009\": 390, \"AH3\": 99, \"AH5\": 0.0, \"ANOTSUBTYPED\": 204, \"INF_A\": 693, \"BYAMAGATA\": 0, \"BVICTORIA\": 0, \"BNOTDETERMINED\": 281, \"INF_B\": 281, \"ALL_INF\": 974, \"ALL_INF2\": null, \"TITLE\": \"Regional Outbreak\", \"pct_positive\": 10.83}, {\"Country\": \"United States of America\", \"WHOREGION\": \"Region of the Americas of WHO\", \"FLUREGION\": \"North America\", \"Year\": 2014, \"Week\": 11, \"SDATE\": \"2014-03-10\", \"EDATE\": \"2014-03-16\", \"SPEC_RECEIVED_NB\": 8282, \"SPEC_PROCESSED_NB\": 8282, \"AH1\": 0.0, \"AH1N12009\": 330, \"AH3\": 132, \"AH5\": 0.0, \"ANOTSUBTYPED\": 155, \"INF_A\": 617, \"BYAMAGATA\": 0, \"BVICTORIA\": 0, \"BNOTDETERMINED\": 313, \"INF_B\": 313, \"ALL_INF\": 930, \"ALL_INF2\": null, \"TITLE\": \"Regional Outbreak\", \"pct_positive\": 11.23}, {\"Country\": \"United States of America\", \"WHOREGION\": \"Region of the Americas of WHO\", \"FLUREGION\": \"North America\", \"Year\": 2014, \"Week\": 12, \"SDATE\": \"2014-03-17\", \"EDATE\": \"2014-03-23\", \"SPEC_RECEIVED_NB\": 7617, \"SPEC_PROCESSED_NB\": 7617, \"AH1\": 0.0, \"AH1N12009\": 187, \"AH3\": 149, \"AH5\": 0.0, \"ANOTSUBTYPED\": 181, \"INF_A\": 517, \"BYAMAGATA\": 0, \"BVICTORIA\": 0, \"BNOTDETERMINED\": 402, \"INF_B\": 402, \"ALL_INF\": 919, \"ALL_INF2\": null, \"TITLE\": \"Regional Outbreak\", \"pct_positive\": 12.07}, {\"Country\": \"United States of America\", \"WHOREGION\": \"Region of the Americas of WHO\", \"FLUREGION\": \"North America\", \"Year\": 2014, \"Week\": 13, \"SDATE\": \"2014-03-24\", \"EDATE\": \"2014-03-30\", \"SPEC_RECEIVED_NB\": 7327, \"SPEC_PROCESSED_NB\": 7327, \"AH1\": 0.0, \"AH1N12009\": 134, \"AH3\": 161, \"AH5\": 0.0, \"ANOTSUBTYPED\": 176, \"INF_A\": 471, \"BYAMAGATA\": 0, \"BVICTORIA\": 0, \"BNOTDETERMINED\": 462, \"INF_B\": 462, \"ALL_INF\": 933, \"ALL_INF2\": null, \"TITLE\": \"Local Outbreak\", \"pct_positive\": 12.73}, {\"Country\": \"United States of America\", \"WHOREGION\": \"Region of the Americas of WHO\", \"FLUREGION\": \"North America\", \"Year\": 2014, \"Week\": 14, \"SDATE\": \"2014-03-31\", \"EDATE\": \"2014-04-06\", \"SPEC_RECEIVED_NB\": 7024, \"SPEC_PROCESSED_NB\": 7024, \"AH1\": 0.0, \"AH1N12009\": 98, \"AH3\": 221, \"AH5\": 0.0, \"ANOTSUBTYPED\": 128, \"INF_A\": 447, \"BYAMAGATA\": 0, \"BVICTORIA\": 0, \"BNOTDETERMINED\": 492, \"INF_B\": 492, \"ALL_INF\": 939, \"ALL_INF2\": null, \"TITLE\": \"Local Outbreak\", \"pct_positive\": 13.37}, {\"Country\": \"United States of America\", \"WHOREGION\": \"Region of the Americas of WHO\", \"FLUREGION\": \"North America\", \"Year\": 2014, \"Week\": 15, \"SDATE\": \"2014-04-07\", \"EDATE\": \"2014-04-13\", \"SPEC_RECEIVED_NB\": 6661, \"SPEC_PROCESSED_NB\": 6661, \"AH1\": 0.0, \"AH1N12009\": 46, \"AH3\": 221, \"AH5\": 0.0, \"ANOTSUBTYPED\": 154, \"INF_A\": 421, \"BYAMAGATA\": 0, \"BVICTORIA\": 0, \"BNOTDETERMINED\": 533, \"INF_B\": 533, \"ALL_INF\": 954, \"ALL_INF2\": null, \"TITLE\": \"Local Outbreak\", \"pct_positive\": 14.32}, {\"Country\": \"United States of America\", \"WHOREGION\": \"Region of the Americas of WHO\", \"FLUREGION\": \"North America\", \"Year\": 2014, \"Week\": 16, \"SDATE\": \"2014-04-14\", \"EDATE\": \"2014-04-20\", \"SPEC_RECEIVED_NB\": 6167, \"SPEC_PROCESSED_NB\": 6167, \"AH1\": 0.0, \"AH1N12009\": 28, \"AH3\": 195, \"AH5\": 0.0, \"ANOTSUBTYPED\": 128, \"INF_A\": 351, \"BYAMAGATA\": 0, \"BVICTORIA\": 0, \"BNOTDETERMINED\": 445, \"INF_B\": 445, \"ALL_INF\": 796, \"ALL_INF2\": null, \"TITLE\": \"Local Outbreak\", \"pct_positive\": 12.91}, {\"Country\": \"United States of America\", \"WHOREGION\": \"Region of the Americas of WHO\", \"FLUREGION\": \"North America\", \"Year\": 2014, \"Week\": 17, \"SDATE\": \"2014-04-21\", \"EDATE\": \"2014-04-27\", \"SPEC_RECEIVED_NB\": 5521, \"SPEC_PROCESSED_NB\": 5521, \"AH1\": 0.0, \"AH1N12009\": 15, \"AH3\": 174, \"AH5\": 0.0, \"ANOTSUBTYPED\": 123, \"INF_A\": 312, \"BYAMAGATA\": 0, \"BVICTORIA\": 0, \"BNOTDETERMINED\": 405, \"INF_B\": 405, \"ALL_INF\": 717, \"ALL_INF2\": null, \"TITLE\": \"Local Outbreak\", \"pct_positive\": 12.99}, {\"Country\": \"United States of America\", \"WHOREGION\": \"Region of the Americas of WHO\", \"FLUREGION\": \"North America\", \"Year\": 2014, \"Week\": 18, \"SDATE\": \"2014-04-28\", \"EDATE\": \"2014-05-04\", \"SPEC_RECEIVED_NB\": 5571, \"SPEC_PROCESSED_NB\": 5571, \"AH1\": 0.0, \"AH1N12009\": 13, \"AH3\": 141, \"AH5\": 0.0, \"ANOTSUBTYPED\": 128, \"INF_A\": 282, \"BYAMAGATA\": 0, \"BVICTORIA\": 0, \"BNOTDETERMINED\": 415, \"INF_B\": 415, \"ALL_INF\": 697, \"ALL_INF2\": null, \"TITLE\": \"Sporadic\", \"pct_positive\": 12.51}, {\"Country\": \"United States of America\", \"WHOREGION\": \"Region of the Americas of WHO\", \"FLUREGION\": \"North America\", \"Year\": 2014, \"Week\": 19, \"SDATE\": \"2014-05-05\", \"EDATE\": \"2014-05-11\", \"SPEC_RECEIVED_NB\": 5221, \"SPEC_PROCESSED_NB\": 5221, \"AH1\": 0.0, \"AH1N12009\": 7, \"AH3\": 128, \"AH5\": 0.0, \"ANOTSUBTYPED\": 99, \"INF_A\": 234, \"BYAMAGATA\": 0, \"BVICTORIA\": 0, \"BNOTDETERMINED\": 327, \"INF_B\": 327, \"ALL_INF\": 561, \"ALL_INF2\": null, \"TITLE\": \"Local Outbreak\", \"pct_positive\": 10.75}, {\"Country\": \"United States of America\", \"WHOREGION\": \"Region of the Americas of WHO\", \"FLUREGION\": \"North America\", \"Year\": 2014, \"Week\": 20, \"SDATE\": \"2014-05-12\", \"EDATE\": \"2014-05-18\", \"SPEC_RECEIVED_NB\": 5044, \"SPEC_PROCESSED_NB\": 5044, \"AH1\": 0.0, \"AH1N12009\": 6, \"AH3\": 100, \"AH5\": 0.0, \"ANOTSUBTYPED\": 96, \"INF_A\": 202, \"BYAMAGATA\": 0, \"BVICTORIA\": 0, \"BNOTDETERMINED\": 294, \"INF_B\": 294, \"ALL_INF\": 496, \"ALL_INF2\": null, \"TITLE\": \"Local Outbreak\", \"pct_positive\": 9.83}, {\"Country\": \"United States of America\", \"WHOREGION\": \"Region of the Americas of WHO\", \"FLUREGION\": \"North America\", \"Year\": 2014, \"Week\": 21, \"SDATE\": \"2014-05-19\", \"EDATE\": \"2014-05-25\", \"SPEC_RECEIVED_NB\": 4544, \"SPEC_PROCESSED_NB\": 4544, \"AH1\": 0.0, \"AH1N12009\": 1, \"AH3\": 101, \"AH5\": 0.0, \"ANOTSUBTYPED\": 61, \"INF_A\": 163, \"BYAMAGATA\": 0, \"BVICTORIA\": 0, \"BNOTDETERMINED\": 222, \"INF_B\": 222, \"ALL_INF\": 385, \"ALL_INF2\": null, \"TITLE\": \"Sporadic\", \"pct_positive\": 8.47}, {\"Country\": \"United States of America\", \"WHOREGION\": \"Region of the Americas of WHO\", \"FLUREGION\": \"North America\", \"Year\": 2014, \"Week\": 22, \"SDATE\": \"2014-05-26\", \"EDATE\": \"2014-06-01\", \"SPEC_RECEIVED_NB\": 4516, \"SPEC_PROCESSED_NB\": 4516, \"AH1\": 0.0, \"AH1N12009\": 3, \"AH3\": 103, \"AH5\": 0.0, \"ANOTSUBTYPED\": 82, \"INF_A\": 188, \"BYAMAGATA\": 0, \"BVICTORIA\": 0, \"BNOTDETERMINED\": 208, \"INF_B\": 208, \"ALL_INF\": 396, \"ALL_INF2\": null, \"TITLE\": \"Sporadic\", \"pct_positive\": 8.77}, {\"Country\": \"United States of America\", \"WHOREGION\": \"Region of the Americas of WHO\", \"FLUREGION\": \"North America\", \"Year\": 2014, \"Week\": 23, \"SDATE\": \"2014-06-02\", \"EDATE\": \"2014-06-08\", \"SPEC_RECEIVED_NB\": 4063, \"SPEC_PROCESSED_NB\": 4063, \"AH1\": 0.0, \"AH1N12009\": 2, \"AH3\": 86, \"AH5\": 0.0, \"ANOTSUBTYPED\": 51, \"INF_A\": 139, \"BYAMAGATA\": 0, \"BVICTORIA\": 0, \"BNOTDETERMINED\": 131, \"INF_B\": 131, \"ALL_INF\": 270, \"ALL_INF2\": null, \"TITLE\": \"Local Outbreak\", \"pct_positive\": 6.65}, {\"Country\": \"United States of America\", \"WHOREGION\": \"Region of the Americas of WHO\", \"FLUREGION\": \"North America\", \"Year\": 2014, \"Week\": 24, \"SDATE\": \"2014-06-09\", \"EDATE\": \"2014-06-15\", \"SPEC_RECEIVED_NB\": 3963, \"SPEC_PROCESSED_NB\": 3963, \"AH1\": 0.0, \"AH1N12009\": 3, \"AH3\": 99, \"AH5\": 0.0, \"ANOTSUBTYPED\": 49, \"INF_A\": 151, \"BYAMAGATA\": 0, \"BVICTORIA\": 0, \"BNOTDETERMINED\": 139, \"INF_B\": 139, \"ALL_INF\": 290, \"ALL_INF2\": null, \"TITLE\": \"Local Outbreak\", \"pct_positive\": 7.32}, {\"Country\": \"United States of America\", \"WHOREGION\": \"Region of the Americas of WHO\", \"FLUREGION\": \"North America\", \"Year\": 2014, \"Week\": 25, \"SDATE\": \"2014-06-16\", \"EDATE\": \"2014-06-22\", \"SPEC_RECEIVED_NB\": 3694, \"SPEC_PROCESSED_NB\": 3694, \"AH1\": 0.0, \"AH1N12009\": 3, \"AH3\": 69, \"AH5\": 0.0, \"ANOTSUBTYPED\": 43, \"INF_A\": 115, \"BYAMAGATA\": 0, \"BVICTORIA\": 0, \"BNOTDETERMINED\": 106, \"INF_B\": 106, \"ALL_INF\": 221, \"ALL_INF2\": null, \"TITLE\": \"Sporadic\", \"pct_positive\": 5.98}, {\"Country\": \"United States of America\", \"WHOREGION\": \"Region of the Americas of WHO\", \"FLUREGION\": \"North America\", \"Year\": 2014, \"Week\": 26, \"SDATE\": \"2014-06-23\", \"EDATE\": \"2014-06-29\", \"SPEC_RECEIVED_NB\": 3358, \"SPEC_PROCESSED_NB\": 3358, \"AH1\": 0.0, \"AH1N12009\": 0, \"AH3\": 45, \"AH5\": 0.0, \"ANOTSUBTYPED\": 28, \"INF_A\": 73, \"BYAMAGATA\": 0, \"BVICTORIA\": 0, \"BNOTDETERMINED\": 97, \"INF_B\": 97, \"ALL_INF\": 170, \"ALL_INF2\": null, \"TITLE\": \"Local Outbreak\", \"pct_positive\": 5.06}, {\"Country\": \"United States of America\", \"WHOREGION\": \"Region of the Americas of WHO\", \"FLUREGION\": \"North America\", \"Year\": 2014, \"Week\": 27, \"SDATE\": \"2014-06-30\", \"EDATE\": \"2014-07-06\", \"SPEC_RECEIVED_NB\": 3020, \"SPEC_PROCESSED_NB\": 3020, \"AH1\": 0.0, \"AH1N12009\": 1, \"AH3\": 46, \"AH5\": 0.0, \"ANOTSUBTYPED\": 26, \"INF_A\": 73, \"BYAMAGATA\": 0, \"BVICTORIA\": 0, \"BNOTDETERMINED\": 80, \"INF_B\": 80, \"ALL_INF\": 153, \"ALL_INF2\": null, \"TITLE\": \"Sporadic\", \"pct_positive\": 5.07}, {\"Country\": \"United States of America\", \"WHOREGION\": \"Region of the Americas of WHO\", \"FLUREGION\": \"North America\", \"Year\": 2014, \"Week\": 28, \"SDATE\": \"2014-07-07\", \"EDATE\": \"2014-07-13\", \"SPEC_RECEIVED_NB\": 2917, \"SPEC_PROCESSED_NB\": 2917, \"AH1\": 0.0, \"AH1N12009\": 3, \"AH3\": 53, \"AH5\": 0.0, \"ANOTSUBTYPED\": 29, \"INF_A\": 85, \"BYAMAGATA\": 0, \"BVICTORIA\": 0, \"BNOTDETERMINED\": 59, \"INF_B\": 59, \"ALL_INF\": 144, \"ALL_INF2\": null, \"TITLE\": \"Local Outbreak\", \"pct_positive\": 4.94}, {\"Country\": \"United States of America\", \"WHOREGION\": \"Region of the Americas of WHO\", \"FLUREGION\": \"North America\", \"Year\": 2014, \"Week\": 29, \"SDATE\": \"2014-07-14\", \"EDATE\": \"2014-07-20\", \"SPEC_RECEIVED_NB\": 2764, \"SPEC_PROCESSED_NB\": 2761, \"AH1\": 0.0, \"AH1N12009\": 0, \"AH3\": 32, \"AH5\": 0.0, \"ANOTSUBTYPED\": 20, \"INF_A\": 52, \"BYAMAGATA\": 0, \"BVICTORIA\": 0, \"BNOTDETERMINED\": 42, \"INF_B\": 42, \"ALL_INF\": 94, \"ALL_INF2\": null, \"TITLE\": \"Local Outbreak\", \"pct_positive\": 3.4}, {\"Country\": \"United States of America\", \"WHOREGION\": \"Region of the Americas of WHO\", \"FLUREGION\": \"North America\", \"Year\": 2014, \"Week\": 30, \"SDATE\": \"2014-07-21\", \"EDATE\": \"2014-07-27\", \"SPEC_RECEIVED_NB\": 3042, \"SPEC_PROCESSED_NB\": 3042, \"AH1\": 0.0, \"AH1N12009\": 1, \"AH3\": 36, \"AH5\": 0.0, \"ANOTSUBTYPED\": 28, \"INF_A\": 65, \"BYAMAGATA\": 0, \"BVICTORIA\": 0, \"BNOTDETERMINED\": 50, \"INF_B\": 50, \"ALL_INF\": 115, \"ALL_INF2\": null, \"TITLE\": \"Sporadic\", \"pct_positive\": 3.78}, {\"Country\": \"United States of America\", \"WHOREGION\": \"Region of the Americas of WHO\", \"FLUREGION\": \"North America\", \"Year\": 2014, \"Week\": 31, \"SDATE\": \"2014-07-28\", \"EDATE\": \"2014-08-03\", \"SPEC_RECEIVED_NB\": 2827, \"SPEC_PROCESSED_NB\": 2827, \"AH1\": 0.0, \"AH1N12009\": 2, \"AH3\": 46, \"AH5\": 0.0, \"ANOTSUBTYPED\": 25, \"INF_A\": 73, \"BYAMAGATA\": 0, \"BVICTORIA\": 0, \"BNOTDETERMINED\": 21, \"INF_B\": 21, \"ALL_INF\": 94, \"ALL_INF2\": null, \"TITLE\": \"Sporadic\", \"pct_positive\": 3.33}, {\"Country\": \"United States of America\", \"WHOREGION\": \"Region of the Americas of WHO\", \"FLUREGION\": \"North America\", \"Year\": 2014, \"Week\": 32, \"SDATE\": \"2014-08-04\", \"EDATE\": \"2014-08-10\", \"SPEC_RECEIVED_NB\": 2820, \"SPEC_PROCESSED_NB\": 2820, \"AH1\": 0.0, \"AH1N12009\": 3, \"AH3\": 39, \"AH5\": 0.0, \"ANOTSUBTYPED\": 15, \"INF_A\": 58, \"BYAMAGATA\": 0, \"BVICTORIA\": 0, \"BNOTDETERMINED\": 21, \"INF_B\": 21, \"ALL_INF\": 79, \"ALL_INF2\": null, \"TITLE\": \"Sporadic\", \"pct_positive\": 2.8}, {\"Country\": \"United States of America\", \"WHOREGION\": \"Region of the Americas of WHO\", \"FLUREGION\": \"North America\", \"Year\": 2014, \"Week\": 33, \"SDATE\": \"2014-08-11\", \"EDATE\": \"2014-08-17\", \"SPEC_RECEIVED_NB\": 3241, \"SPEC_PROCESSED_NB\": 3241, \"AH1\": 0.0, \"AH1N12009\": 1, \"AH3\": 54, \"AH5\": 0.0, \"ANOTSUBTYPED\": 21, \"INF_A\": 76, \"BYAMAGATA\": 0, \"BVICTORIA\": 0, \"BNOTDETERMINED\": 36, \"INF_B\": 36, \"ALL_INF\": 112, \"ALL_INF2\": null, \"TITLE\": \"Sporadic\", \"pct_positive\": 3.46}, {\"Country\": \"United States of America\", \"WHOREGION\": \"Region of the Americas of WHO\", \"FLUREGION\": \"North America\", \"Year\": 2014, \"Week\": 34, \"SDATE\": \"2014-08-18\", \"EDATE\": \"2014-08-24\", \"SPEC_RECEIVED_NB\": 3304, \"SPEC_PROCESSED_NB\": 3304, \"AH1\": 0.0, \"AH1N12009\": 3, \"AH3\": 44, \"AH5\": 0.0, \"ANOTSUBTYPED\": 18, \"INF_A\": 66, \"BYAMAGATA\": 0, \"BVICTORIA\": 0, \"BNOTDETERMINED\": 40, \"INF_B\": 40, \"ALL_INF\": 106, \"ALL_INF2\": null, \"TITLE\": \"Sporadic\", \"pct_positive\": 3.21}, {\"Country\": \"United States of America\", \"WHOREGION\": \"Region of the Americas of WHO\", \"FLUREGION\": \"North America\", \"Year\": 2014, \"Week\": 35, \"SDATE\": \"2014-08-25\", \"EDATE\": \"2014-08-31\", \"SPEC_RECEIVED_NB\": 3915, \"SPEC_PROCESSED_NB\": 3915, \"AH1\": 0.0, \"AH1N12009\": 6, \"AH3\": 59, \"AH5\": 0.0, \"ANOTSUBTYPED\": 28, \"INF_A\": 93, \"BYAMAGATA\": 0, \"BVICTORIA\": 0, \"BNOTDETERMINED\": 40, \"INF_B\": 40, \"ALL_INF\": 133, \"ALL_INF2\": null, \"TITLE\": \"Sporadic\", \"pct_positive\": 3.4}, {\"Country\": \"United States of America\", \"WHOREGION\": \"Region of the Americas of WHO\", \"FLUREGION\": \"North America\", \"Year\": 2014, \"Week\": 36, \"SDATE\": \"2014-09-01\", \"EDATE\": \"2014-09-07\", \"SPEC_RECEIVED_NB\": 4147, \"SPEC_PROCESSED_NB\": 4147, \"AH1\": 0.0, \"AH1N12009\": 7, \"AH3\": 42, \"AH5\": 0.0, \"ANOTSUBTYPED\": 33, \"INF_A\": 82, \"BYAMAGATA\": 0, \"BVICTORIA\": 0, \"BNOTDETERMINED\": 29, \"INF_B\": 29, \"ALL_INF\": 111, \"ALL_INF2\": null, \"TITLE\": \"Sporadic\", \"pct_positive\": 2.68}, {\"Country\": \"United States of America\", \"WHOREGION\": \"Region of the Americas of WHO\", \"FLUREGION\": \"North America\", \"Year\": 2014, \"Week\": 37, \"SDATE\": \"2014-09-08\", \"EDATE\": \"2014-09-14\", \"SPEC_RECEIVED_NB\": 5231, \"SPEC_PROCESSED_NB\": 5231, \"AH1\": 0.0, \"AH1N12009\": 1, \"AH3\": 65, \"AH5\": 0.0, \"ANOTSUBTYPED\": 33, \"INF_A\": 99, \"BYAMAGATA\": 0, \"BVICTORIA\": 0, \"BNOTDETERMINED\": 30, \"INF_B\": 30, \"ALL_INF\": 129, \"ALL_INF2\": null, \"TITLE\": \"Sporadic\", \"pct_positive\": 2.47}, {\"Country\": \"United States of America\", \"WHOREGION\": \"Region of the Americas of WHO\", \"FLUREGION\": \"North America\", \"Year\": 2014, \"Week\": 38, \"SDATE\": \"2014-09-15\", \"EDATE\": \"2014-09-21\", \"SPEC_RECEIVED_NB\": 5592, \"SPEC_PROCESSED_NB\": 5592, \"AH1\": 0.0, \"AH1N12009\": 6, \"AH3\": 80, \"AH5\": 0.0, \"ANOTSUBTYPED\": 32, \"INF_A\": 118, \"BYAMAGATA\": 0, \"BVICTORIA\": 0, \"BNOTDETERMINED\": 53, \"INF_B\": 53, \"ALL_INF\": 171, \"ALL_INF2\": null, \"TITLE\": \"Sporadic\", \"pct_positive\": 3.06}, {\"Country\": \"United States of America\", \"WHOREGION\": \"Region of the Americas of WHO\", \"FLUREGION\": \"North America\", \"Year\": 2014, \"Week\": 39, \"SDATE\": \"2014-09-22\", \"EDATE\": \"2014-09-28\", \"SPEC_RECEIVED_NB\": 5809, \"SPEC_PROCESSED_NB\": 5809, \"AH1\": 0.0, \"AH1N12009\": 1, \"AH3\": 84, \"AH5\": 0.0, \"ANOTSUBTYPED\": 51, \"INF_A\": 136, \"BYAMAGATA\": 0, \"BVICTORIA\": 0, \"BNOTDETERMINED\": 64, \"INF_B\": 64, \"ALL_INF\": 200, \"ALL_INF2\": null, \"TITLE\": \"Sporadic\", \"pct_positive\": 3.44}, {\"Country\": \"United States of America\", \"WHOREGION\": \"Region of the Americas of WHO\", \"FLUREGION\": \"North America\", \"Year\": 2014, \"Week\": 40, \"SDATE\": \"2014-09-29\", \"EDATE\": \"2014-10-05\", \"SPEC_RECEIVED_NB\": 9567, \"SPEC_PROCESSED_NB\": 9567, \"AH1\": 0.0, \"AH1N12009\": 2, \"AH3\": 100, \"AH5\": 0.0, \"ANOTSUBTYPED\": 97, \"INF_A\": 199, \"BYAMAGATA\": 0, \"BVICTORIA\": 0, \"BNOTDETERMINED\": 110, \"INF_B\": 110, \"ALL_INF\": 309, \"ALL_INF2\": null, \"TITLE\": \"Sporadic\", \"pct_positive\": 3.23}, {\"Country\": \"United States of America\", \"WHOREGION\": \"Region of the Americas of WHO\", \"FLUREGION\": \"North America\", \"Year\": 2014, \"Week\": 41, \"SDATE\": \"2014-10-06\", \"EDATE\": \"2014-10-12\", \"SPEC_RECEIVED_NB\": 11036, \"SPEC_PROCESSED_NB\": 11036, \"AH1\": 0.0, \"AH1N12009\": 5, \"AH3\": 125, \"AH5\": 0.0, \"ANOTSUBTYPED\": 149, \"INF_A\": 279, \"BYAMAGATA\": 0, \"BVICTORIA\": 0, \"BNOTDETERMINED\": 160, \"INF_B\": 160, \"ALL_INF\": 439, \"ALL_INF2\": null, \"TITLE\": \"Sporadic\", \"pct_positive\": 3.98}, {\"Country\": \"United States of America\", \"WHOREGION\": \"Region of the Americas of WHO\", \"FLUREGION\": \"North America\", \"Year\": 2014, \"Week\": 42, \"SDATE\": \"2014-10-13\", \"EDATE\": \"2014-10-19\", \"SPEC_RECEIVED_NB\": 11729, \"SPEC_PROCESSED_NB\": 11729, \"AH1\": 0.0, \"AH1N12009\": 7, \"AH3\": 226, \"AH5\": 0.0, \"ANOTSUBTYPED\": 186, \"INF_A\": 420, \"BYAMAGATA\": 0, \"BVICTORIA\": 0, \"BNOTDETERMINED\": 164, \"INF_B\": 164, \"ALL_INF\": 584, \"ALL_INF2\": null, \"TITLE\": \"Local Outbreak\", \"pct_positive\": 4.98}, {\"Country\": \"United States of America\", \"WHOREGION\": \"Region of the Americas of WHO\", \"FLUREGION\": \"North America\", \"Year\": 2014, \"Week\": 43, \"SDATE\": \"2014-10-20\", \"EDATE\": \"2014-10-26\", \"SPEC_RECEIVED_NB\": 11385, \"SPEC_PROCESSED_NB\": 11385, \"AH1\": 0.0, \"AH1N12009\": 5, \"AH3\": 212, \"AH5\": 0.0, \"ANOTSUBTYPED\": 200, \"INF_A\": 417, \"BYAMAGATA\": 0, \"BVICTORIA\": 0, \"BNOTDETERMINED\": 127, \"INF_B\": 127, \"ALL_INF\": 544, \"ALL_INF2\": null, \"TITLE\": \"Sporadic\", \"pct_positive\": 4.78}, {\"Country\": \"United States of America\", \"WHOREGION\": \"Region of the Americas of WHO\", \"FLUREGION\": \"North America\", \"Year\": 2014, \"Week\": 44, \"SDATE\": \"2014-10-27\", \"EDATE\": \"2014-11-02\", \"SPEC_RECEIVED_NB\": 11525, \"SPEC_PROCESSED_NB\": 11525, \"AH1\": 0.0, \"AH1N12009\": 4, \"AH3\": 295, \"AH5\": 0.0, \"ANOTSUBTYPED\": 292, \"INF_A\": 591, \"BYAMAGATA\": 0, \"BVICTORIA\": 0, \"BNOTDETERMINED\": 135, \"INF_B\": 135, \"ALL_INF\": 726, \"ALL_INF2\": null, \"TITLE\": \"Sporadic\", \"pct_positive\": 6.3}, {\"Country\": \"United States of America\", \"WHOREGION\": \"Region of the Americas of WHO\", \"FLUREGION\": \"North America\", \"Year\": 2014, \"Week\": 45, \"SDATE\": \"2014-11-03\", \"EDATE\": \"2014-11-09\", \"SPEC_RECEIVED_NB\": 12918, \"SPEC_PROCESSED_NB\": 12918, \"AH1\": 0.0, \"AH1N12009\": 6, \"AH3\": 506, \"AH5\": 0.0, \"ANOTSUBTYPED\": 489, \"INF_A\": 1001, \"BYAMAGATA\": 0, \"BVICTORIA\": 0, \"BNOTDETERMINED\": 155, \"INF_B\": 155, \"ALL_INF\": 1156, \"ALL_INF2\": null, \"TITLE\": \"Sporadic\", \"pct_positive\": 8.95}, {\"Country\": \"United States of America\", \"WHOREGION\": \"Region of the Americas of WHO\", \"FLUREGION\": \"North America\", \"Year\": 2014, \"Week\": 46, \"SDATE\": \"2014-11-10\", \"EDATE\": \"2014-11-16\", \"SPEC_RECEIVED_NB\": 13776, \"SPEC_PROCESSED_NB\": 13776, \"AH1\": 0.0, \"AH1N12009\": 8, \"AH3\": 632, \"AH5\": 0.0, \"ANOTSUBTYPED\": 629, \"INF_A\": 1269, \"BYAMAGATA\": 0, \"BVICTORIA\": 0, \"BNOTDETERMINED\": 147, \"INF_B\": 147, \"ALL_INF\": 1416, \"ALL_INF2\": null, \"TITLE\": \"Sporadic\", \"pct_positive\": 10.28}, {\"Country\": \"United States of America\", \"WHOREGION\": \"Region of the Americas of WHO\", \"FLUREGION\": \"North America\", \"Year\": 2014, \"Week\": 47, \"SDATE\": \"2014-11-17\", \"EDATE\": \"2014-11-23\", \"SPEC_RECEIVED_NB\": 16166, \"SPEC_PROCESSED_NB\": 16166, \"AH1\": 0.0, \"AH1N12009\": 5, \"AH3\": 1001, \"AH5\": 0.0, \"ANOTSUBTYPED\": 1233, \"INF_A\": 2239, \"BYAMAGATA\": 0, \"BVICTORIA\": 0, \"BNOTDETERMINED\": 163, \"INF_B\": 163, \"ALL_INF\": 2402, \"ALL_INF2\": null, \"TITLE\": \"Regional Outbreak\", \"pct_positive\": 14.86}, {\"Country\": \"United States of America\", \"WHOREGION\": \"Region of the Americas of WHO\", \"FLUREGION\": \"North America\", \"Year\": 2014, \"Week\": 48, \"SDATE\": \"2014-11-24\", \"EDATE\": \"2014-11-30\", \"SPEC_RECEIVED_NB\": 18504, \"SPEC_PROCESSED_NB\": 18504, \"AH1\": 0.0, \"AH1N12009\": 8, \"AH3\": 1538, \"AH5\": 0.0, \"ANOTSUBTYPED\": 1878, \"INF_A\": 3424, \"BYAMAGATA\": 0, \"BVICTORIA\": 0, \"BNOTDETERMINED\": 200, \"INF_B\": 200, \"ALL_INF\": 3624, \"ALL_INF2\": null, \"TITLE\": \"Widespread Outbreak\", \"pct_positive\": 19.58}, {\"Country\": \"United States of America\", \"WHOREGION\": \"Region of the Americas of WHO\", \"FLUREGION\": \"North America\", \"Year\": 2014, \"Week\": 49, \"SDATE\": \"2014-12-01\", \"EDATE\": \"2014-12-07\", \"SPEC_RECEIVED_NB\": 21961, \"SPEC_PROCESSED_NB\": 21961, \"AH1\": 0.0, \"AH1N12009\": 11, \"AH3\": 2296, \"AH5\": 0.0, \"ANOTSUBTYPED\": 2398, \"INF_A\": 4705, \"BYAMAGATA\": 0, \"BVICTORIA\": 0, \"BNOTDETERMINED\": 242, \"INF_B\": 242, \"ALL_INF\": 4947, \"ALL_INF2\": null, \"TITLE\": \"Widespread Outbreak\", \"pct_positive\": 22.53}, {\"Country\": \"United States of America\", \"WHOREGION\": \"Region of the Americas of WHO\", \"FLUREGION\": \"North America\", \"Year\": 2014, \"Week\": 50, \"SDATE\": \"2014-12-08\", \"EDATE\": \"2014-12-14\", \"SPEC_RECEIVED_NB\": 29214, \"SPEC_PROCESSED_NB\": 29214, \"AH1\": 0.0, \"AH1N12009\": 6, \"AH3\": 3814, \"AH5\": 0.0, \"ANOTSUBTYPED\": 4047, \"INF_A\": 7867, \"BYAMAGATA\": 0, \"BVICTORIA\": 0, \"BNOTDETERMINED\": 315, \"INF_B\": 315, \"ALL_INF\": 8182, \"ALL_INF2\": null, \"TITLE\": \"Widespread Outbreak\", \"pct_positive\": 28.01}, {\"Country\": \"United States of America\", \"WHOREGION\": \"Region of the Americas of WHO\", \"FLUREGION\": \"North America\", \"Year\": 2014, \"Week\": 51, \"SDATE\": \"2014-12-15\", \"EDATE\": \"2014-12-21\", \"SPEC_RECEIVED_NB\": 37109, \"SPEC_PROCESSED_NB\": 37109, \"AH1\": 0.0, \"AH1N12009\": 4, \"AH3\": 4972, \"AH5\": 0.0, \"ANOTSUBTYPED\": 6163, \"INF_A\": 11139, \"BYAMAGATA\": 0, \"BVICTORIA\": 0, \"BNOTDETERMINED\": 325, \"INF_B\": 325, \"ALL_INF\": 11464, \"ALL_INF2\": null, \"TITLE\": \"Widespread Outbreak\", \"pct_positive\": 30.89}, {\"Country\": \"United States of America\", \"WHOREGION\": \"Region of the Americas of WHO\", \"FLUREGION\": \"North America\", \"Year\": 2014, \"Week\": 52, \"SDATE\": \"2014-12-22\", \"EDATE\": \"2014-12-28\", \"SPEC_RECEIVED_NB\": 42466, \"SPEC_PROCESSED_NB\": 42466, \"AH1\": 0.0, \"AH1N12009\": 10, \"AH3\": 5498, \"AH5\": 0.0, \"ANOTSUBTYPED\": 7847, \"INF_A\": 13355, \"BYAMAGATA\": 0, \"BVICTORIA\": 0, \"BNOTDETERMINED\": 392, \"INF_B\": 392, \"ALL_INF\": 13747, \"ALL_INF2\": null, \"TITLE\": \"Widespread Outbreak\", \"pct_positive\": 32.37}, {\"Country\": \"United States of America\", \"WHOREGION\": \"Region of the Americas of WHO\", \"FLUREGION\": \"North America\", \"Year\": 2015, \"Week\": 1, \"SDATE\": \"2014-12-29\", \"EDATE\": \"2015-01-04\", \"SPEC_RECEIVED_NB\": 41579, \"SPEC_PROCESSED_NB\": 41579, \"AH1\": 0.0, \"AH1N12009\": 10, \"AH3\": 5292, \"AH5\": 0.0, \"ANOTSUBTYPED\": 5695, \"INF_A\": 10997, \"BYAMAGATA\": 0, \"BVICTORIA\": 0, \"BNOTDETERMINED\": 409, \"INF_B\": 409, \"ALL_INF\": 11406, \"ALL_INF2\": null, \"TITLE\": \"Widespread Outbreak\", \"pct_positive\": 27.43}, {\"Country\": \"United States of America\", \"WHOREGION\": \"Region of the Americas of WHO\", \"FLUREGION\": \"North America\", \"Year\": 2015, \"Week\": 2, \"SDATE\": \"2015-01-05\", \"EDATE\": \"2015-01-11\", \"SPEC_RECEIVED_NB\": 38493, \"SPEC_PROCESSED_NB\": 38493, \"AH1\": 0.0, \"AH1N12009\": 10, \"AH3\": 4901, \"AH5\": 0.0, \"ANOTSUBTYPED\": 3955, \"INF_A\": 8866, \"BYAMAGATA\": 0, \"BVICTORIA\": 0, \"BNOTDETERMINED\": 372, \"INF_B\": 372, \"ALL_INF\": 9238, \"ALL_INF2\": null, \"TITLE\": \"Widespread Outbreak\", \"pct_positive\": 24.0}, {\"Country\": \"United States of America\", \"WHOREGION\": \"Region of the Americas of WHO\", \"FLUREGION\": \"North America\", \"Year\": 2015, \"Week\": 3, \"SDATE\": \"2015-01-12\", \"EDATE\": \"2015-01-18\", \"SPEC_RECEIVED_NB\": 35593, \"SPEC_PROCESSED_NB\": 35593, \"AH1\": 0.0, \"AH1N12009\": 8, \"AH3\": 4584, \"AH5\": 0.0, \"ANOTSUBTYPED\": 3580, \"INF_A\": 8172, \"BYAMAGATA\": 0, \"BVICTORIA\": 0, \"BNOTDETERMINED\": 473, \"INF_B\": 473, \"ALL_INF\": 8645, \"ALL_INF2\": null, \"TITLE\": \"Widespread Outbreak\", \"pct_positive\": 24.29}, {\"Country\": \"United States of America\", \"WHOREGION\": \"Region of the Americas of WHO\", \"FLUREGION\": \"North America\", \"Year\": 2015, \"Week\": 4, \"SDATE\": \"2015-01-19\", \"EDATE\": \"2015-01-25\", \"SPEC_RECEIVED_NB\": 34191, \"SPEC_PROCESSED_NB\": 34191, \"AH1\": 0.0, \"AH1N12009\": 4, \"AH3\": 3917, \"AH5\": 0.0, \"ANOTSUBTYPED\": 3513, \"INF_A\": 7435, \"BYAMAGATA\": 0, \"BVICTORIA\": 0, \"BNOTDETERMINED\": 548, \"INF_B\": 548, \"ALL_INF\": 7983, \"ALL_INF2\": null, \"TITLE\": \"Widespread Outbreak\", \"pct_positive\": 23.35}, {\"Country\": \"United States of America\", \"WHOREGION\": \"Region of the Americas of WHO\", \"FLUREGION\": \"North America\", \"Year\": 2015, \"Week\": 5, \"SDATE\": \"2015-01-26\", \"EDATE\": \"2015-02-01\", \"SPEC_RECEIVED_NB\": 32001, \"SPEC_PROCESSED_NB\": 32001, \"AH1\": 0.0, \"AH1N12009\": 10, \"AH3\": 3475, \"AH5\": 0.0, \"ANOTSUBTYPED\": 2789, \"INF_A\": 6274, \"BYAMAGATA\": 0, \"BVICTORIA\": 0, \"BNOTDETERMINED\": 606, \"INF_B\": 606, \"ALL_INF\": 6880, \"ALL_INF2\": null, \"TITLE\": \"Widespread Outbreak\", \"pct_positive\": 21.5}, {\"Country\": \"United States of America\", \"WHOREGION\": \"Region of the Americas of WHO\", \"FLUREGION\": \"North America\", \"Year\": 2015, \"Week\": 6, \"SDATE\": \"2015-02-02\", \"EDATE\": \"2015-02-08\", \"SPEC_RECEIVED_NB\": 29578, \"SPEC_PROCESSED_NB\": 29578, \"AH1\": 0.0, \"AH1N12009\": 10, \"AH3\": 2719, \"AH5\": 0.0, \"ANOTSUBTYPED\": 2170, \"INF_A\": 4899, \"BYAMAGATA\": 0, \"BVICTORIA\": 0, \"BNOTDETERMINED\": 723, \"INF_B\": 723, \"ALL_INF\": 5622, \"ALL_INF2\": null, \"TITLE\": \"Widespread Outbreak\", \"pct_positive\": 19.01}, {\"Country\": \"United States of America\", \"WHOREGION\": \"Region of the Americas of WHO\", \"FLUREGION\": \"North America\", \"Year\": 2015, \"Week\": 7, \"SDATE\": \"2015-02-09\", \"EDATE\": \"2015-02-15\", \"SPEC_RECEIVED_NB\": 26986, \"SPEC_PROCESSED_NB\": 26986, \"AH1\": 0.0, \"AH1N12009\": 7, \"AH3\": 1744, \"AH5\": 0.0, \"ANOTSUBTYPED\": 1575, \"INF_A\": 3326, \"BYAMAGATA\": 0, \"BVICTORIA\": 0, \"BNOTDETERMINED\": 869, \"INF_B\": 869, \"ALL_INF\": 4195, \"ALL_INF2\": null, \"TITLE\": \"Widespread Outbreak\", \"pct_positive\": 15.55}, {\"Country\": \"United States of America\", \"WHOREGION\": \"Region of the Americas of WHO\", \"FLUREGION\": \"North America\", \"Year\": 2015, \"Week\": 8, \"SDATE\": \"2015-02-16\", \"EDATE\": \"2015-02-22\", \"SPEC_RECEIVED_NB\": 24292, \"SPEC_PROCESSED_NB\": 24292, \"AH1\": 0.0, \"AH1N12009\": 10, \"AH3\": 1242, \"AH5\": 0.0, \"ANOTSUBTYPED\": 1108, \"INF_A\": 2360, \"BYAMAGATA\": 0, \"BVICTORIA\": 0, \"BNOTDETERMINED\": 1009, \"INF_B\": 1009, \"ALL_INF\": 3369, \"ALL_INF2\": null, \"TITLE\": \"Widespread Outbreak\", \"pct_positive\": 13.87}, {\"Country\": \"United States of America\", \"WHOREGION\": \"Region of the Americas of WHO\", \"FLUREGION\": \"North America\", \"Year\": 2015, \"Week\": 9, \"SDATE\": \"2015-02-23\", \"EDATE\": \"2015-03-01\", \"SPEC_RECEIVED_NB\": 22293, \"SPEC_PROCESSED_NB\": 22293, \"AH1\": 0.0, \"AH1N12009\": 18, \"AH3\": 954, \"AH5\": 0.0, \"ANOTSUBTYPED\": 740, \"INF_A\": 1712, \"BYAMAGATA\": 0, \"BVICTORIA\": 0, \"BNOTDETERMINED\": 1127, \"INF_B\": 1127, \"ALL_INF\": 2839, \"ALL_INF2\": null, \"TITLE\": \"Widespread Outbreak\", \"pct_positive\": 12.73}, {\"Country\": \"United States of America\", \"WHOREGION\": \"Region of the Americas of WHO\", \"FLUREGION\": \"North America\", \"Year\": 2015, \"Week\": 10, \"SDATE\": \"2015-03-02\", \"EDATE\": \"2015-03-08\", \"SPEC_RECEIVED_NB\": 20419, \"SPEC_PROCESSED_NB\": 20419, \"AH1\": 0.0, \"AH1N12009\": 5, \"AH3\": 774, \"AH5\": 0.0, \"ANOTSUBTYPED\": 557, \"INF_A\": 1336, \"BYAMAGATA\": 0, \"BVICTORIA\": 0, \"BNOTDETERMINED\": 1352, \"INF_B\": 1352, \"ALL_INF\": 2688, \"ALL_INF2\": null, \"TITLE\": \"Widespread Outbreak\", \"pct_positive\": 13.16}, {\"Country\": \"United States of America\", \"WHOREGION\": \"Region of the Americas of WHO\", \"FLUREGION\": \"North America\", \"Year\": 2015, \"Week\": 11, \"SDATE\": \"2015-03-09\", \"EDATE\": \"2015-03-15\", \"SPEC_RECEIVED_NB\": 19843, \"SPEC_PROCESSED_NB\": 19843, \"AH1\": 0.0, \"AH1N12009\": 7, \"AH3\": 458, \"AH5\": 0.0, \"ANOTSUBTYPED\": 405, \"INF_A\": 870, \"BYAMAGATA\": 0, \"BVICTORIA\": 0, \"BNOTDETERMINED\": 1654, \"INF_B\": 1654, \"ALL_INF\": 2524, \"ALL_INF2\": null, \"TITLE\": \"Widespread Outbreak\", \"pct_positive\": 12.72}, {\"Country\": \"United States of America\", \"WHOREGION\": \"Region of the Americas of WHO\", \"FLUREGION\": \"North America\", \"Year\": 2015, \"Week\": 12, \"SDATE\": \"2015-03-16\", \"EDATE\": \"2015-03-22\", \"SPEC_RECEIVED_NB\": 18418, \"SPEC_PROCESSED_NB\": 18418, \"AH1\": 0.0, \"AH1N12009\": 2, \"AH3\": 340, \"AH5\": 0.0, \"ANOTSUBTYPED\": 302, \"INF_A\": 644, \"BYAMAGATA\": 0, \"BVICTORIA\": 0, \"BNOTDETERMINED\": 1564, \"INF_B\": 1564, \"ALL_INF\": 2208, \"ALL_INF2\": null, \"TITLE\": \"Regional Outbreak\", \"pct_positive\": 11.99}, {\"Country\": \"United States of America\", \"WHOREGION\": \"Region of the Americas of WHO\", \"FLUREGION\": \"North America\", \"Year\": 2015, \"Week\": 13, \"SDATE\": \"2015-03-23\", \"EDATE\": \"2015-03-29\", \"SPEC_RECEIVED_NB\": 16980, \"SPEC_PROCESSED_NB\": 16980, \"AH1\": 0.0, \"AH1N12009\": 7, \"AH3\": 227, \"AH5\": 0.0, \"ANOTSUBTYPED\": 197, \"INF_A\": 431, \"BYAMAGATA\": 0, \"BVICTORIA\": 0, \"BNOTDETERMINED\": 1479, \"INF_B\": 1479, \"ALL_INF\": 1910, \"ALL_INF2\": null, \"TITLE\": \"Regional Outbreak\", \"pct_positive\": 11.25}, {\"Country\": \"United States of America\", \"WHOREGION\": \"Region of the Americas of WHO\", \"FLUREGION\": \"North America\", \"Year\": 2015, \"Week\": 14, \"SDATE\": \"2015-03-30\", \"EDATE\": \"2015-04-05\", \"SPEC_RECEIVED_NB\": 15123, \"SPEC_PROCESSED_NB\": 15123, \"AH1\": 0.0, \"AH1N12009\": 4, \"AH3\": 168, \"AH5\": 0.0, \"ANOTSUBTYPED\": 119, \"INF_A\": 291, \"BYAMAGATA\": 0, \"BVICTORIA\": 0, \"BNOTDETERMINED\": 1375, \"INF_B\": 1375, \"ALL_INF\": 1666, \"ALL_INF2\": null, \"TITLE\": \"Regional Outbreak\", \"pct_positive\": 11.02}, {\"Country\": \"United States of America\", \"WHOREGION\": \"Region of the Americas of WHO\", \"FLUREGION\": \"North America\", \"Year\": 2015, \"Week\": 15, \"SDATE\": \"2015-04-06\", \"EDATE\": \"2015-04-12\", \"SPEC_RECEIVED_NB\": 14741, \"SPEC_PROCESSED_NB\": 14741, \"AH1\": 0.0, \"AH1N12009\": 7, \"AH3\": 87, \"AH5\": 0.0, \"ANOTSUBTYPED\": 107, \"INF_A\": 201, \"BYAMAGATA\": 0, \"BVICTORIA\": 0, \"BNOTDETERMINED\": 1271, \"INF_B\": 1271, \"ALL_INF\": 1472, \"ALL_INF2\": null, \"TITLE\": \"Local Outbreak\", \"pct_positive\": 9.99}, {\"Country\": \"United States of America\", \"WHOREGION\": \"Region of the Americas of WHO\", \"FLUREGION\": \"North America\", \"Year\": 2015, \"Week\": 16, \"SDATE\": \"2015-04-13\", \"EDATE\": \"2015-04-19\", \"SPEC_RECEIVED_NB\": 13389, \"SPEC_PROCESSED_NB\": 13389, \"AH1\": 0.0, \"AH1N12009\": 13, \"AH3\": 66, \"AH5\": 0.0, \"ANOTSUBTYPED\": 79, \"INF_A\": 158, \"BYAMAGATA\": 0, \"BVICTORIA\": 0, \"BNOTDETERMINED\": 969, \"INF_B\": 969, \"ALL_INF\": 1127, \"ALL_INF2\": null, \"TITLE\": \"Sporadic\", \"pct_positive\": 8.42}, {\"Country\": \"United States of America\", \"WHOREGION\": \"Region of the Americas of WHO\", \"FLUREGION\": \"North America\", \"Year\": 2015, \"Week\": 17, \"SDATE\": \"2015-04-20\", \"EDATE\": \"2015-04-26\", \"SPEC_RECEIVED_NB\": 11872, \"SPEC_PROCESSED_NB\": 11872, \"AH1\": 0.0, \"AH1N12009\": 1, \"AH3\": 48, \"AH5\": 0.0, \"ANOTSUBTYPED\": 40, \"INF_A\": 89, \"BYAMAGATA\": 0, \"BVICTORIA\": 0, \"BNOTDETERMINED\": 683, \"INF_B\": 683, \"ALL_INF\": 772, \"ALL_INF2\": null, \"TITLE\": \"Local Outbreak\", \"pct_positive\": 6.5}, {\"Country\": \"United States of America\", \"WHOREGION\": \"Region of the Americas of WHO\", \"FLUREGION\": \"North America\", \"Year\": 2015, \"Week\": 18, \"SDATE\": \"2015-04-27\", \"EDATE\": \"2015-05-03\", \"SPEC_RECEIVED_NB\": 10769, \"SPEC_PROCESSED_NB\": 10769, \"AH1\": 0.0, \"AH1N12009\": 4, \"AH3\": 26, \"AH5\": 0.0, \"ANOTSUBTYPED\": 36, \"INF_A\": 67, \"BYAMAGATA\": 0, \"BVICTORIA\": 0, \"BNOTDETERMINED\": 543, \"INF_B\": 543, \"ALL_INF\": 610, \"ALL_INF2\": null, \"TITLE\": \"Sporadic\", \"pct_positive\": 5.66}, {\"Country\": \"United States of America\", \"WHOREGION\": \"Region of the Americas of WHO\", \"FLUREGION\": \"North America\", \"Year\": 2015, \"Week\": 19, \"SDATE\": \"2015-05-04\", \"EDATE\": \"2015-05-10\", \"SPEC_RECEIVED_NB\": 9784, \"SPEC_PROCESSED_NB\": 9784, \"AH1\": 0.0, \"AH1N12009\": 2, \"AH3\": 12, \"AH5\": 0.0, \"ANOTSUBTYPED\": 19, \"INF_A\": 33, \"BYAMAGATA\": 0, \"BVICTORIA\": 0, \"BNOTDETERMINED\": 494, \"INF_B\": 494, \"ALL_INF\": 527, \"ALL_INF2\": null, \"TITLE\": \"Sporadic\", \"pct_positive\": 5.39}, {\"Country\": \"United States of America\", \"WHOREGION\": \"Region of the Americas of WHO\", \"FLUREGION\": \"North America\", \"Year\": 2015, \"Week\": 20, \"SDATE\": \"2015-05-11\", \"EDATE\": \"2015-05-17\", \"SPEC_RECEIVED_NB\": 9188, \"SPEC_PROCESSED_NB\": 9188, \"AH1\": 0.0, \"AH1N12009\": 2, \"AH3\": 16, \"AH5\": 0.0, \"ANOTSUBTYPED\": 26, \"INF_A\": 44, \"BYAMAGATA\": 0, \"BVICTORIA\": 0, \"BNOTDETERMINED\": 340, \"INF_B\": 340, \"ALL_INF\": 384, \"ALL_INF2\": null, \"TITLE\": \"Sporadic\", \"pct_positive\": 4.18}, {\"Country\": \"United States of America\", \"WHOREGION\": \"Region of the Americas of WHO\", \"FLUREGION\": \"North America\", \"Year\": 2015, \"Week\": 21, \"SDATE\": \"2015-05-18\", \"EDATE\": \"2015-05-24\", \"SPEC_RECEIVED_NB\": 8412, \"SPEC_PROCESSED_NB\": 8412, \"AH1\": 0.0, \"AH1N12009\": 0, \"AH3\": 21, \"AH5\": 0.0, \"ANOTSUBTYPED\": 19, \"INF_A\": 40, \"BYAMAGATA\": 0, \"BVICTORIA\": 0, \"BNOTDETERMINED\": 267, \"INF_B\": 267, \"ALL_INF\": 307, \"ALL_INF2\": null, \"TITLE\": \"Sporadic\", \"pct_positive\": 3.65}, {\"Country\": \"United States of America\", \"WHOREGION\": \"Region of the Americas of WHO\", \"FLUREGION\": \"North America\", \"Year\": 2015, \"Week\": 22, \"SDATE\": \"2015-05-25\", \"EDATE\": \"2015-05-31\", \"SPEC_RECEIVED_NB\": 7747, \"SPEC_PROCESSED_NB\": 7747, \"AH1\": 0.0, \"AH1N12009\": 1, \"AH3\": 20, \"AH5\": 0.0, \"ANOTSUBTYPED\": 21, \"INF_A\": 42, \"BYAMAGATA\": 0, \"BVICTORIA\": 0, \"BNOTDETERMINED\": 184, \"INF_B\": 184, \"ALL_INF\": 226, \"ALL_INF2\": null, \"TITLE\": \"Sporadic\", \"pct_positive\": 2.92}, {\"Country\": \"United States of America\", \"WHOREGION\": \"Region of the Americas of WHO\", \"FLUREGION\": \"North America\", \"Year\": 2015, \"Week\": 23, \"SDATE\": \"2015-06-01\", \"EDATE\": \"2015-06-07\", \"SPEC_RECEIVED_NB\": 6991, \"SPEC_PROCESSED_NB\": 6991, \"AH1\": 0.0, \"AH1N12009\": 0, \"AH3\": 20, \"AH5\": 0.0, \"ANOTSUBTYPED\": 22, \"INF_A\": 42, \"BYAMAGATA\": 0, \"BVICTORIA\": 0, \"BNOTDETERMINED\": 151, \"INF_B\": 151, \"ALL_INF\": 193, \"ALL_INF2\": null, \"TITLE\": \"Sporadic\", \"pct_positive\": 2.76}, {\"Country\": \"United States of America\", \"WHOREGION\": \"Region of the Americas of WHO\", \"FLUREGION\": \"North America\", \"Year\": 2015, \"Week\": 24, \"SDATE\": \"2015-06-08\", \"EDATE\": \"2015-06-14\", \"SPEC_RECEIVED_NB\": 6724, \"SPEC_PROCESSED_NB\": 6724, \"AH1\": 0.0, \"AH1N12009\": 1, \"AH3\": 20, \"AH5\": 0.0, \"ANOTSUBTYPED\": 28, \"INF_A\": 49, \"BYAMAGATA\": 0, \"BVICTORIA\": 0, \"BNOTDETERMINED\": 129, \"INF_B\": 129, \"ALL_INF\": 178, \"ALL_INF2\": null, \"TITLE\": \"Sporadic\", \"pct_positive\": 2.65}, {\"Country\": \"United States of America\", \"WHOREGION\": \"Region of the Americas of WHO\", \"FLUREGION\": \"North America\", \"Year\": 2015, \"Week\": 25, \"SDATE\": \"2015-06-15\", \"EDATE\": \"2015-06-21\", \"SPEC_RECEIVED_NB\": 6132, \"SPEC_PROCESSED_NB\": 6132, \"AH1\": 0.0, \"AH1N12009\": 2, \"AH3\": 50, \"AH5\": 0.0, \"ANOTSUBTYPED\": 22, \"INF_A\": 74, \"BYAMAGATA\": 0, \"BVICTORIA\": 0, \"BNOTDETERMINED\": 78, \"INF_B\": 78, \"ALL_INF\": 152, \"ALL_INF2\": null, \"TITLE\": \"Sporadic\", \"pct_positive\": 2.48}, {\"Country\": \"United States of America\", \"WHOREGION\": \"Region of the Americas of WHO\", \"FLUREGION\": \"North America\", \"Year\": 2015, \"Week\": 26, \"SDATE\": \"2015-06-22\", \"EDATE\": \"2015-06-28\", \"SPEC_RECEIVED_NB\": 5557, \"SPEC_PROCESSED_NB\": 5557, \"AH1\": 0.0, \"AH1N12009\": 0, \"AH3\": 51, \"AH5\": 0.0, \"ANOTSUBTYPED\": 24, \"INF_A\": 75, \"BYAMAGATA\": 0, \"BVICTORIA\": 0, \"BNOTDETERMINED\": 46, \"INF_B\": 46, \"ALL_INF\": 121, \"ALL_INF2\": null, \"TITLE\": \"Sporadic\", \"pct_positive\": 2.18}, {\"Country\": \"United States of America\", \"WHOREGION\": \"Region of the Americas of WHO\", \"FLUREGION\": \"North America\", \"Year\": 2015, \"Week\": 27, \"SDATE\": \"2015-06-29\", \"EDATE\": \"2015-07-05\", \"SPEC_RECEIVED_NB\": 5230, \"SPEC_PROCESSED_NB\": 5230, \"AH1\": 0.0, \"AH1N12009\": 2, \"AH3\": 59, \"AH5\": 0.0, \"ANOTSUBTYPED\": 35, \"INF_A\": 96, \"BYAMAGATA\": 0, \"BVICTORIA\": 0, \"BNOTDETERMINED\": 33, \"INF_B\": 33, \"ALL_INF\": 129, \"ALL_INF2\": null, \"TITLE\": \"Sporadic\", \"pct_positive\": 2.47}, {\"Country\": \"United States of America\", \"WHOREGION\": \"Region of the Americas of WHO\", \"FLUREGION\": \"North America\", \"Year\": 2015, \"Week\": 28, \"SDATE\": \"2015-07-06\", \"EDATE\": \"2015-07-12\", \"SPEC_RECEIVED_NB\": 5253, \"SPEC_PROCESSED_NB\": 5253, \"AH1\": 0.0, \"AH1N12009\": 4, \"AH3\": 40, \"AH5\": 0.0, \"ANOTSUBTYPED\": 18, \"INF_A\": 63, \"BYAMAGATA\": 0, \"BVICTORIA\": 0, \"BNOTDETERMINED\": 36, \"INF_B\": 36, \"ALL_INF\": 99, \"ALL_INF2\": null, \"TITLE\": \"Sporadic\", \"pct_positive\": 1.88}, {\"Country\": \"United States of America\", \"WHOREGION\": \"Region of the Americas of WHO\", \"FLUREGION\": \"North America\", \"Year\": 2015, \"Week\": 29, \"SDATE\": \"2015-07-13\", \"EDATE\": \"2015-07-19\", \"SPEC_RECEIVED_NB\": 5034, \"SPEC_PROCESSED_NB\": 5034, \"AH1\": 0.0, \"AH1N12009\": 3, \"AH3\": 35, \"AH5\": 0.0, \"ANOTSUBTYPED\": 11, \"INF_A\": 49, \"BYAMAGATA\": 0, \"BVICTORIA\": 0, \"BNOTDETERMINED\": 37, \"INF_B\": 37, \"ALL_INF\": 86, \"ALL_INF2\": null, \"TITLE\": \"Sporadic\", \"pct_positive\": 1.71}, {\"Country\": \"United States of America\", \"WHOREGION\": \"Region of the Americas of WHO\", \"FLUREGION\": \"North America\", \"Year\": 2015, \"Week\": 30, \"SDATE\": \"2015-07-20\", \"EDATE\": \"2015-07-26\", \"SPEC_RECEIVED_NB\": 4802, \"SPEC_PROCESSED_NB\": 4802, \"AH1\": 0.0, \"AH1N12009\": 4, \"AH3\": 34, \"AH5\": 0.0, \"ANOTSUBTYPED\": 19, \"INF_A\": 57, \"BYAMAGATA\": 0, \"BVICTORIA\": 0, \"BNOTDETERMINED\": 23, \"INF_B\": 23, \"ALL_INF\": 80, \"ALL_INF2\": null, \"TITLE\": \"Sporadic\", \"pct_positive\": 1.67}, {\"Country\": \"United States of America\", \"WHOREGION\": \"Region of the Americas of WHO\", \"FLUREGION\": \"North America\", \"Year\": 2015, \"Week\": 31, \"SDATE\": \"2015-07-27\", \"EDATE\": \"2015-08-02\", \"SPEC_RECEIVED_NB\": 4785, \"SPEC_PROCESSED_NB\": 4785, \"AH1\": 0.0, \"AH1N12009\": 0, \"AH3\": 44, \"AH5\": 0.0, \"ANOTSUBTYPED\": 23, \"INF_A\": 67, \"BYAMAGATA\": 0, \"BVICTORIA\": 0, \"BNOTDETERMINED\": 10, \"INF_B\": 10, \"ALL_INF\": 77, \"ALL_INF2\": null, \"TITLE\": \"Sporadic\", \"pct_positive\": 1.61}, {\"Country\": \"United States of America\", \"WHOREGION\": \"Region of the Americas of WHO\", \"FLUREGION\": \"North America\", \"Year\": 2015, \"Week\": 32, \"SDATE\": \"2015-08-03\", \"EDATE\": \"2015-08-09\", \"SPEC_RECEIVED_NB\": 4781, \"SPEC_PROCESSED_NB\": 4781, \"AH1\": 0.0, \"AH1N12009\": 4, \"AH3\": 50, \"AH5\": 0.0, \"ANOTSUBTYPED\": 20, \"INF_A\": 74, \"BYAMAGATA\": 0, \"BVICTORIA\": 0, \"BNOTDETERMINED\": 17, \"INF_B\": 17, \"ALL_INF\": 91, \"ALL_INF2\": null, \"TITLE\": \"Sporadic\", \"pct_positive\": 1.9}, {\"Country\": \"United States of America\", \"WHOREGION\": \"Region of the Americas of WHO\", \"FLUREGION\": \"North America\", \"Year\": 2015, \"Week\": 33, \"SDATE\": \"2015-08-10\", \"EDATE\": \"2015-08-16\", \"SPEC_RECEIVED_NB\": 4857, \"SPEC_PROCESSED_NB\": 4857, \"AH1\": 0.0, \"AH1N12009\": 3, \"AH3\": 33, \"AH5\": 0.0, \"ANOTSUBTYPED\": 30, \"INF_A\": 66, \"BYAMAGATA\": 0, \"BVICTORIA\": 0, \"BNOTDETERMINED\": 13, \"INF_B\": 13, \"ALL_INF\": 79, \"ALL_INF2\": null, \"TITLE\": \"Sporadic\", \"pct_positive\": 1.63}, {\"Country\": \"United States of America\", \"WHOREGION\": \"Region of the Americas of WHO\", \"FLUREGION\": \"North America\", \"Year\": 2015, \"Week\": 34, \"SDATE\": \"2015-08-17\", \"EDATE\": \"2015-08-23\", \"SPEC_RECEIVED_NB\": 5118, \"SPEC_PROCESSED_NB\": 5118, \"AH1\": 0.0, \"AH1N12009\": 2, \"AH3\": 53, \"AH5\": 0.0, \"ANOTSUBTYPED\": 25, \"INF_A\": 80, \"BYAMAGATA\": 0, \"BVICTORIA\": 0, \"BNOTDETERMINED\": 16, \"INF_B\": 16, \"ALL_INF\": 96, \"ALL_INF2\": null, \"TITLE\": \"Sporadic\", \"pct_positive\": 1.88}, {\"Country\": \"United States of America\", \"WHOREGION\": \"Region of the Americas of WHO\", \"FLUREGION\": \"North America\", \"Year\": 2015, \"Week\": 35, \"SDATE\": \"2015-08-24\", \"EDATE\": \"2015-08-30\", \"SPEC_RECEIVED_NB\": 5322, \"SPEC_PROCESSED_NB\": 5322, \"AH1\": 0.0, \"AH1N12009\": 3, \"AH3\": 42, \"AH5\": 0.0, \"ANOTSUBTYPED\": 33, \"INF_A\": 78, \"BYAMAGATA\": 0, \"BVICTORIA\": 0, \"BNOTDETERMINED\": 20, \"INF_B\": 20, \"ALL_INF\": 98, \"ALL_INF2\": null, \"TITLE\": \"Sporadic\", \"pct_positive\": 1.84}, {\"Country\": \"United States of America\", \"WHOREGION\": \"Region of the Americas of WHO\", \"FLUREGION\": \"North America\", \"Year\": 2015, \"Week\": 36, \"SDATE\": \"2015-08-31\", \"EDATE\": \"2015-09-06\", \"SPEC_RECEIVED_NB\": 5979, \"SPEC_PROCESSED_NB\": 5979, \"AH1\": 0.0, \"AH1N12009\": 3, \"AH3\": 63, \"AH5\": 0.0, \"ANOTSUBTYPED\": 41, \"INF_A\": 107, \"BYAMAGATA\": 0, \"BVICTORIA\": 0, \"BNOTDETERMINED\": 27, \"INF_B\": 27, \"ALL_INF\": 134, \"ALL_INF2\": null, \"TITLE\": \"Sporadic\", \"pct_positive\": 2.24}, {\"Country\": \"United States of America\", \"WHOREGION\": \"Region of the Americas of WHO\", \"FLUREGION\": \"North America\", \"Year\": 2015, \"Week\": 37, \"SDATE\": \"2015-09-07\", \"EDATE\": \"2015-09-13\", \"SPEC_RECEIVED_NB\": 6493, \"SPEC_PROCESSED_NB\": 6493, \"AH1\": 0.0, \"AH1N12009\": 1, \"AH3\": 70, \"AH5\": 0.0, \"ANOTSUBTYPED\": 32, \"INF_A\": 103, \"BYAMAGATA\": 0, \"BVICTORIA\": 0, \"BNOTDETERMINED\": 28, \"INF_B\": 28, \"ALL_INF\": 131, \"ALL_INF2\": null, \"TITLE\": \"Sporadic\", \"pct_positive\": 2.02}, {\"Country\": \"United States of America\", \"WHOREGION\": \"Region of the Americas of WHO\", \"FLUREGION\": \"North America\", \"Year\": 2015, \"Week\": 38, \"SDATE\": \"2015-09-14\", \"EDATE\": \"2015-09-20\", \"SPEC_RECEIVED_NB\": 6854, \"SPEC_PROCESSED_NB\": 6854, \"AH1\": 0.0, \"AH1N12009\": 3, \"AH3\": 76, \"AH5\": 0.0, \"ANOTSUBTYPED\": 55, \"INF_A\": 134, \"BYAMAGATA\": 0, \"BVICTORIA\": 0, \"BNOTDETERMINED\": 33, \"INF_B\": 33, \"ALL_INF\": 167, \"ALL_INF2\": null, \"TITLE\": \"Sporadic\", \"pct_positive\": 2.44}, {\"Country\": \"United States of America\", \"WHOREGION\": \"Region of the Americas of WHO\", \"FLUREGION\": \"North America\", \"Year\": 2015, \"Week\": 39, \"SDATE\": \"2015-09-21\", \"EDATE\": \"2015-09-27\", \"SPEC_RECEIVED_NB\": 7253, \"SPEC_PROCESSED_NB\": 7253, \"AH1\": 0.0, \"AH1N12009\": 0, \"AH3\": 27, \"AH5\": 0.0, \"ANOTSUBTYPED\": 55, \"INF_A\": 82, \"BYAMAGATA\": 0, \"BVICTORIA\": 0, \"BNOTDETERMINED\": 33, \"INF_B\": 33, \"ALL_INF\": 115, \"ALL_INF2\": null, \"TITLE\": \"Sporadic\", \"pct_positive\": 1.59}, {\"Country\": \"United States of America\", \"WHOREGION\": \"Region of the Americas of WHO\", \"FLUREGION\": \"North America\", \"Year\": 2015, \"Week\": 40, \"SDATE\": \"2015-09-28\", \"EDATE\": \"2015-10-04\", \"SPEC_RECEIVED_NB\": 6354, \"SPEC_PROCESSED_NB\": 6354, \"AH1\": 0.0, \"AH1N12009\": 6, \"AH3\": 17, \"AH5\": 0.0, \"ANOTSUBTYPED\": 50, \"INF_A\": 73, \"BYAMAGATA\": 0, \"BVICTORIA\": 0, \"BNOTDETERMINED\": 32, \"INF_B\": 32, \"ALL_INF\": 105, \"ALL_INF2\": null, \"TITLE\": \"Sporadic\", \"pct_positive\": 1.65}, {\"Country\": \"United States of America\", \"WHOREGION\": \"Region of the Americas of WHO\", \"FLUREGION\": \"North America\", \"Year\": 2015, \"Week\": 41, \"SDATE\": \"2015-10-05\", \"EDATE\": \"2015-10-11\", \"SPEC_RECEIVED_NB\": 13168, \"SPEC_PROCESSED_NB\": 13168, \"AH1\": 0.0, \"AH1N12009\": 4, \"AH3\": 65, \"AH5\": null, \"ANOTSUBTYPED\": 86, \"INF_A\": 155, \"BYAMAGATA\": 1, \"BVICTORIA\": 0, \"BNOTDETERMINED\": 53, \"INF_B\": 54, \"ALL_INF\": 209, \"ALL_INF2\": 12959.0, \"TITLE\": \"Sporadic\", \"pct_positive\": 1.59}, {\"Country\": \"United States of America\", \"WHOREGION\": \"Region of the Americas of WHO\", \"FLUREGION\": \"North America\", \"Year\": 2015, \"Week\": 42, \"SDATE\": \"2015-10-12\", \"EDATE\": \"2015-10-18\", \"SPEC_RECEIVED_NB\": 14263, \"SPEC_PROCESSED_NB\": 14263, \"AH1\": 0.0, \"AH1N12009\": 5, \"AH3\": 41, \"AH5\": null, \"ANOTSUBTYPED\": 118, \"INF_A\": 164, \"BYAMAGATA\": 0, \"BVICTORIA\": 3, \"BNOTDETERMINED\": 61, \"INF_B\": 64, \"ALL_INF\": 228, \"ALL_INF2\": 14035.0, \"TITLE\": \"Sporadic\", \"pct_positive\": 1.6}, {\"Country\": \"United States of America\", \"WHOREGION\": \"Region of the Americas of WHO\", \"FLUREGION\": \"North America\", \"Year\": 2015, \"Week\": 43, \"SDATE\": \"2015-10-19\", \"EDATE\": \"2015-10-25\", \"SPEC_RECEIVED_NB\": 14639, \"SPEC_PROCESSED_NB\": 14639, \"AH1\": 0.0, \"AH1N12009\": 10, \"AH3\": 50, \"AH5\": null, \"ANOTSUBTYPED\": 98, \"INF_A\": 158, \"BYAMAGATA\": 2, \"BVICTORIA\": 3, \"BNOTDETERMINED\": 60, \"INF_B\": 65, \"ALL_INF\": 223, \"ALL_INF2\": 14416.0, \"TITLE\": \"Sporadic\", \"pct_positive\": 1.52}, {\"Country\": \"United States of America\", \"WHOREGION\": \"Region of the Americas of WHO\", \"FLUREGION\": \"North America\", \"Year\": 2015, \"Week\": 44, \"SDATE\": \"2015-10-26\", \"EDATE\": \"2015-11-01\", \"SPEC_RECEIVED_NB\": 14781, \"SPEC_PROCESSED_NB\": 14781, \"AH1\": 0.0, \"AH1N12009\": 9, \"AH3\": 31, \"AH5\": null, \"ANOTSUBTYPED\": 102, \"INF_A\": 142, \"BYAMAGATA\": 4, \"BVICTORIA\": 1, \"BNOTDETERMINED\": 61, \"INF_B\": 66, \"ALL_INF\": 208, \"ALL_INF2\": 14573.0, \"TITLE\": \"Sporadic\", \"pct_positive\": 1.41}, {\"Country\": \"United States of America\", \"WHOREGION\": \"Region of the Americas of WHO\", \"FLUREGION\": \"North America\", \"Year\": 2015, \"Week\": 45, \"SDATE\": \"2015-11-02\", \"EDATE\": \"2015-11-08\", \"SPEC_RECEIVED_NB\": 16152, \"SPEC_PROCESSED_NB\": 16152, \"AH1\": 0.0, \"AH1N12009\": 4, \"AH3\": 23, \"AH5\": null, \"ANOTSUBTYPED\": 101, \"INF_A\": 128, \"BYAMAGATA\": 4, \"BVICTORIA\": 1, \"BNOTDETERMINED\": 77, \"INF_B\": 82, \"ALL_INF\": 210, \"ALL_INF2\": 15942.0, \"TITLE\": \"Sporadic\", \"pct_positive\": 1.3}, {\"Country\": \"United States of America\", \"WHOREGION\": \"Region of the Americas of WHO\", \"FLUREGION\": \"North America\", \"Year\": 2015, \"Week\": 46, \"SDATE\": \"2015-11-09\", \"EDATE\": \"2015-11-15\", \"SPEC_RECEIVED_NB\": 16441, \"SPEC_PROCESSED_NB\": 16441, \"AH1\": 0.0, \"AH1N12009\": 11, \"AH3\": 34, \"AH5\": null, \"ANOTSUBTYPED\": 123, \"INF_A\": 168, \"BYAMAGATA\": 2, \"BVICTORIA\": 4, \"BNOTDETERMINED\": 96, \"INF_B\": 102, \"ALL_INF\": 270, \"ALL_INF2\": 16171.0, \"TITLE\": \"Local Outbreak\", \"pct_positive\": 1.64}, {\"Country\": \"United States of America\", \"WHOREGION\": \"Region of the Americas of WHO\", \"FLUREGION\": \"North America\", \"Year\": 2015, \"Week\": 47, \"SDATE\": \"2015-11-16\", \"EDATE\": \"2015-11-22\", \"SPEC_RECEIVED_NB\": 16708, \"SPEC_PROCESSED_NB\": 16708, \"AH1\": 0.0, \"AH1N12009\": 17, \"AH3\": 42, \"AH5\": null, \"ANOTSUBTYPED\": 85, \"INF_A\": 144, \"BYAMAGATA\": 4, \"BVICTORIA\": 0, \"BNOTDETERMINED\": 102, \"INF_B\": 106, \"ALL_INF\": 250, \"ALL_INF2\": 16458.0, \"TITLE\": \"No Report\", \"pct_positive\": 1.5}, {\"Country\": \"United States of America\", \"WHOREGION\": \"Region of the Americas of WHO\", \"FLUREGION\": \"North America\", \"Year\": 2015, \"Week\": 48, \"SDATE\": \"2015-11-23\", \"EDATE\": \"2015-11-29\", \"SPEC_RECEIVED_NB\": 16391, \"SPEC_PROCESSED_NB\": 16391, \"AH1\": 0.0, \"AH1N12009\": 17, \"AH3\": 24, \"AH5\": null, \"ANOTSUBTYPED\": 119, \"INF_A\": 160, \"BYAMAGATA\": 9, \"BVICTORIA\": 3, \"BNOTDETERMINED\": 96, \"INF_B\": 108, \"ALL_INF\": 268, \"ALL_INF2\": 16123.0, \"TITLE\": \"No Report\", \"pct_positive\": 1.64}, {\"Country\": \"United States of America\", \"WHOREGION\": \"Region of the Americas of WHO\", \"FLUREGION\": \"North America\", \"Year\": 2015, \"Week\": 49, \"SDATE\": \"2015-11-30\", \"EDATE\": \"2015-12-06\", \"SPEC_RECEIVED_NB\": 17751, \"SPEC_PROCESSED_NB\": 17751, \"AH1\": 0.0, \"AH1N12009\": 27, \"AH3\": 36, \"AH5\": null, \"ANOTSUBTYPED\": 148, \"INF_A\": 211, \"BYAMAGATA\": 12, \"BVICTORIA\": 3, \"BNOTDETERMINED\": 90, \"INF_B\": 105, \"ALL_INF\": 316, \"ALL_INF2\": 17435.0, \"TITLE\": \"No Report\", \"pct_positive\": 1.78}, {\"Country\": \"United States of America\", \"WHOREGION\": \"Region of the Americas of WHO\", \"FLUREGION\": \"North America\", \"Year\": 2015, \"Week\": 50, \"SDATE\": \"2015-12-07\", \"EDATE\": \"2015-12-13\", \"SPEC_RECEIVED_NB\": 18191, \"SPEC_PROCESSED_NB\": 18191, \"AH1\": 0.0, \"AH1N12009\": 38, \"AH3\": 37, \"AH5\": null, \"ANOTSUBTYPED\": 143, \"INF_A\": 218, \"BYAMAGATA\": 11, \"BVICTORIA\": 2, \"BNOTDETERMINED\": 117, \"INF_B\": 130, \"ALL_INF\": 348, \"ALL_INF2\": 17843.0, \"TITLE\": \"No Report\", \"pct_positive\": 1.91}, {\"Country\": \"United States of America\", \"WHOREGION\": \"Region of the Americas of WHO\", \"FLUREGION\": \"North America\", \"Year\": 2015, \"Week\": 51, \"SDATE\": \"2015-12-14\", \"EDATE\": \"2015-12-20\", \"SPEC_RECEIVED_NB\": 18833, \"SPEC_PROCESSED_NB\": 18833, \"AH1\": 0.0, \"AH1N12009\": 69, \"AH3\": 39, \"AH5\": null, \"ANOTSUBTYPED\": 244, \"INF_A\": 352, \"BYAMAGATA\": 19, \"BVICTORIA\": 4, \"BNOTDETERMINED\": 202, \"INF_B\": 225, \"ALL_INF\": 577, \"ALL_INF2\": 18256.0, \"TITLE\": \"No Report\", \"pct_positive\": 3.06}, {\"Country\": \"United States of America\", \"WHOREGION\": \"Region of the Americas of WHO\", \"FLUREGION\": \"North America\", \"Year\": 2015, \"Week\": 52, \"SDATE\": \"2015-12-21\", \"EDATE\": \"2015-12-27\", \"SPEC_RECEIVED_NB\": 18123, \"SPEC_PROCESSED_NB\": 18123, \"AH1\": 0.0, \"AH1N12009\": 89, \"AH3\": 33, \"AH5\": null, \"ANOTSUBTYPED\": 221, \"INF_A\": 343, \"BYAMAGATA\": 28, \"BVICTORIA\": 3, \"BNOTDETERMINED\": 178, \"INF_B\": 209, \"ALL_INF\": 552, \"ALL_INF2\": 17571.0, \"TITLE\": \"No Report\", \"pct_positive\": 3.05}, {\"Country\": \"United States of America\", \"WHOREGION\": \"Region of the Americas of WHO\", \"FLUREGION\": \"North America\", \"Year\": 2015, \"Week\": 53, \"SDATE\": \"2015-12-28\", \"EDATE\": \"2016-01-03\", \"SPEC_RECEIVED_NB\": 20350, \"SPEC_PROCESSED_NB\": 20350, \"AH1\": 0.0, \"AH1N12009\": 146, \"AH3\": 56, \"AH5\": null, \"ANOTSUBTYPED\": 265, \"INF_A\": 467, \"BYAMAGATA\": 35, \"BVICTORIA\": 9, \"BNOTDETERMINED\": 213, \"INF_B\": 257, \"ALL_INF\": 724, \"ALL_INF2\": 19626.0, \"TITLE\": \"No Report\", \"pct_positive\": 3.56}, {\"Country\": \"United States of America\", \"WHOREGION\": \"Region of the Americas of WHO\", \"FLUREGION\": \"North America\", \"Year\": 2016, \"Week\": 1, \"SDATE\": \"2016-01-04\", \"EDATE\": \"2016-01-10\", \"SPEC_RECEIVED_NB\": 21627, \"SPEC_PROCESSED_NB\": 21627, \"AH1\": 0.0, \"AH1N12009\": 232, \"AH3\": 68, \"AH5\": null, \"ANOTSUBTYPED\": 398, \"INF_A\": 698, \"BYAMAGATA\": 52, \"BVICTORIA\": 12, \"BNOTDETERMINED\": 198, \"INF_B\": 262, \"ALL_INF\": 960, \"ALL_INF2\": 20667.0, \"TITLE\": \"No Report\", \"pct_positive\": 4.44}, {\"Country\": \"United States of America\", \"WHOREGION\": \"Region of the Americas of WHO\", \"FLUREGION\": \"North America\", \"Year\": 2016, \"Week\": 2, \"SDATE\": \"2016-01-11\", \"EDATE\": \"2016-01-17\", \"SPEC_RECEIVED_NB\": 20437, \"SPEC_PROCESSED_NB\": 20437, \"AH1\": 0.0, \"AH1N12009\": 256, \"AH3\": 89, \"AH5\": null, \"ANOTSUBTYPED\": 576, \"INF_A\": 921, \"BYAMAGATA\": 60, \"BVICTORIA\": 23, \"BNOTDETERMINED\": 271, \"INF_B\": 354, \"ALL_INF\": 1275, \"ALL_INF2\": 19162.0, \"TITLE\": \"No Report\", \"pct_positive\": 6.24}, {\"Country\": \"United States of America\", \"WHOREGION\": \"Region of the Americas of WHO\", \"FLUREGION\": \"North America\", \"Year\": 2016, \"Week\": 3, \"SDATE\": \"2016-01-18\", \"EDATE\": \"2016-01-24\", \"SPEC_RECEIVED_NB\": 20744, \"SPEC_PROCESSED_NB\": 20744, \"AH1\": 0.0, \"AH1N12009\": 361, \"AH3\": 100, \"AH5\": null, \"ANOTSUBTYPED\": 729, \"INF_A\": 1190, \"BYAMAGATA\": 83, \"BVICTORIA\": 25, \"BNOTDETERMINED\": 360, \"INF_B\": 468, \"ALL_INF\": 1658, \"ALL_INF2\": 19086.0, \"TITLE\": \"No Report\", \"pct_positive\": 7.99}, {\"Country\": \"United States of America\", \"WHOREGION\": \"Region of the Americas of WHO\", \"FLUREGION\": \"North America\", \"Year\": 2016, \"Week\": 4, \"SDATE\": \"2016-01-25\", \"EDATE\": \"2016-01-31\", \"SPEC_RECEIVED_NB\": 23359, \"SPEC_PROCESSED_NB\": 23359, \"AH1\": 0.0, \"AH1N12009\": 526, \"AH3\": 160, \"AH5\": null, \"ANOTSUBTYPED\": 1050, \"INF_A\": 1736, \"BYAMAGATA\": 104, \"BVICTORIA\": 28, \"BNOTDETERMINED\": 509, \"INF_B\": 641, \"ALL_INF\": 2377, \"ALL_INF2\": 20982.0, \"TITLE\": \"No Report\", \"pct_positive\": 10.18}, {\"Country\": \"United States of America\", \"WHOREGION\": \"Region of the Americas of WHO\", \"FLUREGION\": \"North America\", \"Year\": 2016, \"Week\": 5, \"SDATE\": \"2016-02-01\", \"EDATE\": \"2016-02-07\", \"SPEC_RECEIVED_NB\": 24988, \"SPEC_PROCESSED_NB\": 24988, \"AH1\": 0.0, \"AH1N12009\": 672, \"AH3\": 171, \"AH5\": null, \"ANOTSUBTYPED\": 1585, \"INF_A\": 2428, \"BYAMAGATA\": 143, \"BVICTORIA\": 62, \"BNOTDETERMINED\": 685, \"INF_B\": 890, \"ALL_INF\": 3318, \"ALL_INF2\": 21670.0, \"TITLE\": \"No Report\", \"pct_positive\": 13.28}, {\"Country\": \"United States of America\", \"WHOREGION\": \"Region of the Americas of WHO\", \"FLUREGION\": \"North America\", \"Year\": 2016, \"Week\": 6, \"SDATE\": \"2016-02-08\", \"EDATE\": \"2016-02-14\", \"SPEC_RECEIVED_NB\": 28136, \"SPEC_PROCESSED_NB\": 28136, \"AH1\": 0.0, \"AH1N12009\": 891, \"AH3\": 236, \"AH5\": null, \"ANOTSUBTYPED\": 2282, \"INF_A\": 3409, \"BYAMAGATA\": 206, \"BVICTORIA\": 71, \"BNOTDETERMINED\": 1025, \"INF_B\": 1302, \"ALL_INF\": 4711, \"ALL_INF2\": 23425.0, \"TITLE\": \"No Report\", \"pct_positive\": 16.74}, {\"Country\": \"United States of America\", \"WHOREGION\": \"Region of the Americas of WHO\", \"FLUREGION\": \"North America\", \"Year\": 2016, \"Week\": 7, \"SDATE\": \"2016-02-15\", \"EDATE\": \"2016-02-21\", \"SPEC_RECEIVED_NB\": 31106, \"SPEC_PROCESSED_NB\": 31106, \"AH1\": 0.0, \"AH1N12009\": 1340, \"AH3\": 256, \"AH5\": null, \"ANOTSUBTYPED\": 3154, \"INF_A\": 4750, \"BYAMAGATA\": 309, \"BVICTORIA\": 103, \"BNOTDETERMINED\": 1271, \"INF_B\": 1683, \"ALL_INF\": 6433, \"ALL_INF2\": 24673.0, \"TITLE\": \"No Report\", \"pct_positive\": 20.68}, {\"Country\": \"United States of America\", \"WHOREGION\": \"Region of the Americas of WHO\", \"FLUREGION\": \"North America\", \"Year\": 2016, \"Week\": 8, \"SDATE\": \"2016-02-22\", \"EDATE\": \"2016-02-28\", \"SPEC_RECEIVED_NB\": 35517, \"SPEC_PROCESSED_NB\": 35517, \"AH1\": 0.0, \"AH1N12009\": 1672, \"AH3\": 232, \"AH5\": null, \"ANOTSUBTYPED\": 4438, \"INF_A\": 6342, \"BYAMAGATA\": 383, \"BVICTORIA\": 156, \"BNOTDETERMINED\": 1491, \"INF_B\": 2030, \"ALL_INF\": 8372, \"ALL_INF2\": 27145.0, \"TITLE\": \"No Report\", \"pct_positive\": 23.57}, {\"Country\": \"United States of America\", \"WHOREGION\": \"Region of the Americas of WHO\", \"FLUREGION\": \"North America\", \"Year\": 2016, \"Week\": 9, \"SDATE\": \"2016-02-29\", \"EDATE\": \"2016-03-06\", \"SPEC_RECEIVED_NB\": 38567, \"SPEC_PROCESSED_NB\": 38567, \"AH1\": 0.0, \"AH1N12009\": 1886, \"AH3\": 313, \"AH5\": null, \"ANOTSUBTYPED\": 5555, \"INF_A\": 7754, \"BYAMAGATA\": 347, \"BVICTORIA\": 143, \"BNOTDETERMINED\": 1840, \"INF_B\": 2330, \"ALL_INF\": 10084, \"ALL_INF2\": 28483.0, \"TITLE\": \"No Report\", \"pct_positive\": 26.15}, {\"Country\": \"United States of America\", \"WHOREGION\": \"Region of the Americas of WHO\", \"FLUREGION\": \"North America\", \"Year\": 2016, \"Week\": 10, \"SDATE\": \"2016-03-07\", \"EDATE\": \"2016-03-13\", \"SPEC_RECEIVED_NB\": 41876, \"SPEC_PROCESSED_NB\": 41876, \"AH1\": 0.0, \"AH1N12009\": 2173, \"AH3\": 313, \"AH5\": null, \"ANOTSUBTYPED\": 6726, \"INF_A\": 9212, \"BYAMAGATA\": 333, \"BVICTORIA\": 162, \"BNOTDETERMINED\": 2264, \"INF_B\": 2759, \"ALL_INF\": 11971, \"ALL_INF2\": 29905.0, \"TITLE\": \"No Report\", \"pct_positive\": 28.59}, {\"Country\": \"United States of America\", \"WHOREGION\": \"Region of the Americas of WHO\", \"FLUREGION\": \"North America\", \"Year\": 2016, \"Week\": 11, \"SDATE\": \"2016-03-14\", \"EDATE\": \"2016-03-20\", \"SPEC_RECEIVED_NB\": 38344, \"SPEC_PROCESSED_NB\": 38344, \"AH1\": 0.0, \"AH1N12009\": 1514, \"AH3\": 213, \"AH5\": null, \"ANOTSUBTYPED\": 5071, \"INF_A\": 6798, \"BYAMAGATA\": 278, \"BVICTORIA\": 154, \"BNOTDETERMINED\": 1975, \"INF_B\": 2407, \"ALL_INF\": 9205, \"ALL_INF2\": 29139.0, \"TITLE\": \"No Report\", \"pct_positive\": 24.01}, {\"Country\": \"United States of America\", \"WHOREGION\": \"Region of the Americas of WHO\", \"FLUREGION\": \"North America\", \"Year\": 2016, \"Week\": 12, \"SDATE\": \"2016-03-21\", \"EDATE\": \"2016-03-27\", \"SPEC_RECEIVED_NB\": 33518, \"SPEC_PROCESSED_NB\": 33518, \"AH1\": 0.0, \"AH1N12009\": 1058, \"AH3\": 198, \"AH5\": null, \"ANOTSUBTYPED\": 3938, \"INF_A\": 5194, \"BYAMAGATA\": 207, \"BVICTORIA\": 117, \"BNOTDETERMINED\": 1837, \"INF_B\": 2161, \"ALL_INF\": 7355, \"ALL_INF2\": 26163.0, \"TITLE\": \"No Report\", \"pct_positive\": 21.94}, {\"Country\": \"United States of America\", \"WHOREGION\": \"Region of the Americas of WHO\", \"FLUREGION\": \"North America\", \"Year\": 2016, \"Week\": 13, \"SDATE\": \"2016-03-28\", \"EDATE\": \"2016-04-03\", \"SPEC_RECEIVED_NB\": 30674, \"SPEC_PROCESSED_NB\": 30674, \"AH1\": 0.0, \"AH1N12009\": 807, \"AH3\": 180, \"AH5\": null, \"ANOTSUBTYPED\": 2998, \"INF_A\": 3985, \"BYAMAGATA\": 211, \"BVICTORIA\": 127, \"BNOTDETERMINED\": 1722, \"INF_B\": 2060, \"ALL_INF\": 6045, \"ALL_INF2\": 24629.0, \"TITLE\": \"No Report\", \"pct_positive\": 19.71}, {\"Country\": \"United States of America\", \"WHOREGION\": \"Region of the Americas of WHO\", \"FLUREGION\": \"North America\", \"Year\": 2016, \"Week\": 14, \"SDATE\": \"2016-04-04\", \"EDATE\": \"2016-04-10\", \"SPEC_RECEIVED_NB\": 26382, \"SPEC_PROCESSED_NB\": 26382, \"AH1\": 0.0, \"AH1N12009\": 534, \"AH3\": 135, \"AH5\": null, \"ANOTSUBTYPED\": 2004, \"INF_A\": 2673, \"BYAMAGATA\": 163, \"BVICTORIA\": 106, \"BNOTDETERMINED\": 1563, \"INF_B\": 1832, \"ALL_INF\": 4505, \"ALL_INF2\": 21877.0, \"TITLE\": \"No Report\", \"pct_positive\": 17.08}, {\"Country\": \"United States of America\", \"WHOREGION\": \"Region of the Americas of WHO\", \"FLUREGION\": \"North America\", \"Year\": 2016, \"Week\": 15, \"SDATE\": \"2016-04-11\", \"EDATE\": \"2016-04-17\", \"SPEC_RECEIVED_NB\": 23773, \"SPEC_PROCESSED_NB\": 23773, \"AH1\": 0.0, \"AH1N12009\": 383, \"AH3\": 117, \"AH5\": null, \"ANOTSUBTYPED\": 1522, \"INF_A\": 2022, \"BYAMAGATA\": 162, \"BVICTORIA\": 88, \"BNOTDETERMINED\": 1512, \"INF_B\": 1762, \"ALL_INF\": 3784, \"ALL_INF2\": 19989.0, \"TITLE\": \"No Report\", \"pct_positive\": 15.92}, {\"Country\": \"United States of America\", \"WHOREGION\": \"Region of the Americas of WHO\", \"FLUREGION\": \"North America\", \"Year\": 2016, \"Week\": 16, \"SDATE\": \"2016-04-18\", \"EDATE\": \"2016-04-24\", \"SPEC_RECEIVED_NB\": 21676, \"SPEC_PROCESSED_NB\": 21676, \"AH1\": 0.0, \"AH1N12009\": 276, \"AH3\": 127, \"AH5\": null, \"ANOTSUBTYPED\": 1139, \"INF_A\": 1542, \"BYAMAGATA\": 163, \"BVICTORIA\": 86, \"BNOTDETERMINED\": 1487, \"INF_B\": 1736, \"ALL_INF\": 3278, \"ALL_INF2\": 18398.0, \"TITLE\": \"No Report\", \"pct_positive\": 15.12}, {\"Country\": \"United States of America\", \"WHOREGION\": \"Region of the Americas of WHO\", \"FLUREGION\": \"North America\", \"Year\": 2016, \"Week\": 17, \"SDATE\": \"2016-04-25\", \"EDATE\": \"2016-05-01\", \"SPEC_RECEIVED_NB\": 19461, \"SPEC_PROCESSED_NB\": 19461, \"AH1\": 0.0, \"AH1N12009\": 167, \"AH3\": 98, \"AH5\": null, \"ANOTSUBTYPED\": 706, \"INF_A\": 971, \"BYAMAGATA\": 119, \"BVICTORIA\": 78, \"BNOTDETERMINED\": 1237, \"INF_B\": 1434, \"ALL_INF\": 2405, \"ALL_INF2\": 17056.0, \"TITLE\": \"No Report\", \"pct_positive\": 12.36}, {\"Country\": \"United States of America\", \"WHOREGION\": \"Region of the Americas of WHO\", \"FLUREGION\": \"North America\", \"Year\": 2016, \"Week\": 18, \"SDATE\": \"2016-05-02\", \"EDATE\": \"2016-05-08\", \"SPEC_RECEIVED_NB\": 16505, \"SPEC_PROCESSED_NB\": 16505, \"AH1\": 0.0, \"AH1N12009\": 77, \"AH3\": 59, \"AH5\": null, \"ANOTSUBTYPED\": 429, \"INF_A\": 565, \"BYAMAGATA\": 82, \"BVICTORIA\": 53, \"BNOTDETERMINED\": 902, \"INF_B\": 1037, \"ALL_INF\": 1602, \"ALL_INF2\": 14903.0, \"TITLE\": \"No Report\", \"pct_positive\": 9.71}, {\"Country\": \"United States of America\", \"WHOREGION\": \"Region of the Americas of WHO\", \"FLUREGION\": \"North America\", \"Year\": 2016, \"Week\": 19, \"SDATE\": \"2016-05-09\", \"EDATE\": \"2016-05-15\", \"SPEC_RECEIVED_NB\": 15109, \"SPEC_PROCESSED_NB\": 15109, \"AH1\": 0.0, \"AH1N12009\": 53, \"AH3\": 62, \"AH5\": null, \"ANOTSUBTYPED\": 282, \"INF_A\": 397, \"BYAMAGATA\": 71, \"BVICTORIA\": 36, \"BNOTDETERMINED\": 715, \"INF_B\": 822, \"ALL_INF\": 1219, \"ALL_INF2\": 13890.0, \"TITLE\": \"No Report\", \"pct_positive\": 8.07}, {\"Country\": \"United States of America\", \"WHOREGION\": \"Region of the Americas of WHO\", \"FLUREGION\": \"North America\", \"Year\": 2016, \"Week\": 20, \"SDATE\": \"2016-05-16\", \"EDATE\": \"2016-05-22\", \"SPEC_RECEIVED_NB\": 13361, \"SPEC_PROCESSED_NB\": 13361, \"AH1\": 0.0, \"AH1N12009\": 35, \"AH3\": 77, \"AH5\": null, \"ANOTSUBTYPED\": 228, \"INF_A\": 340, \"BYAMAGATA\": 50, \"BVICTORIA\": 14, \"BNOTDETERMINED\": 549, \"INF_B\": 613, \"ALL_INF\": 953, \"ALL_INF2\": 12408.0, \"TITLE\": \"No Report\", \"pct_positive\": 7.13}, {\"Country\": \"United States of America\", \"WHOREGION\": \"Region of the Americas of WHO\", \"FLUREGION\": \"North America\", \"Year\": 2016, \"Week\": 21, \"SDATE\": \"2016-05-23\", \"EDATE\": \"2016-05-29\", \"SPEC_RECEIVED_NB\": 12230, \"SPEC_PROCESSED_NB\": 12230, \"AH1\": 0.0, \"AH1N12009\": 16, \"AH3\": 44, \"AH5\": null, \"ANOTSUBTYPED\": 141, \"INF_A\": 201, \"BYAMAGATA\": 32, \"BVICTORIA\": 22, \"BNOTDETERMINED\": 438, \"INF_B\": 492, \"ALL_INF\": 693, \"ALL_INF2\": 11537.0, \"TITLE\": \"No Report\", \"pct_positive\": 5.67}, {\"Country\": \"United States of America\", \"WHOREGION\": \"Region of the Americas of WHO\", \"FLUREGION\": \"North America\", \"Year\": 2016, \"Week\": 22, \"SDATE\": \"2016-05-30\", \"EDATE\": \"2016-06-05\", \"SPEC_RECEIVED_NB\": 10549, \"SPEC_PROCESSED_NB\": 10549, \"AH1\": 0.0, \"AH1N12009\": 4, \"AH3\": 13, \"AH5\": null, \"ANOTSUBTYPED\": 83, \"INF_A\": 100, \"BYAMAGATA\": 35, \"BVICTORIA\": 14, \"BNOTDETERMINED\": 250, \"INF_B\": 299, \"ALL_INF\": 399, \"ALL_INF2\": 10150.0, \"TITLE\": \"No Report\", \"pct_positive\": 3.78}, {\"Country\": \"United States of America\", \"WHOREGION\": \"Region of the Americas of WHO\", \"FLUREGION\": \"North America\", \"Year\": 2016, \"Week\": 23, \"SDATE\": \"2016-06-06\", \"EDATE\": \"2016-06-12\", \"SPEC_RECEIVED_NB\": 9636, \"SPEC_PROCESSED_NB\": 9636, \"AH1\": 0.0, \"AH1N12009\": 5, \"AH3\": 15, \"AH5\": null, \"ANOTSUBTYPED\": 71, \"INF_A\": 91, \"BYAMAGATA\": 17, \"BVICTORIA\": 6, \"BNOTDETERMINED\": 221, \"INF_B\": 244, \"ALL_INF\": 335, \"ALL_INF2\": 9301.0, \"TITLE\": \"No Report\", \"pct_positive\": 3.48}, {\"Country\": \"United States of America\", \"WHOREGION\": \"Region of the Americas of WHO\", \"FLUREGION\": \"North America\", \"Year\": 2016, \"Week\": 24, \"SDATE\": \"2016-06-13\", \"EDATE\": \"2016-06-19\", \"SPEC_RECEIVED_NB\": 8788, \"SPEC_PROCESSED_NB\": 8788, \"AH1\": 0.0, \"AH1N12009\": 7, \"AH3\": 18, \"AH5\": null, \"ANOTSUBTYPED\": 59, \"INF_A\": 84, \"BYAMAGATA\": 10, \"BVICTORIA\": 6, \"BNOTDETERMINED\": 100, \"INF_B\": 116, \"ALL_INF\": 200, \"ALL_INF2\": 8588.0, \"TITLE\": \"No Report\", \"pct_positive\": 2.28}, {\"Country\": \"United States of America\", \"WHOREGION\": \"Region of the Americas of WHO\", \"FLUREGION\": \"North America\", \"Year\": 2016, \"Week\": 25, \"SDATE\": \"2016-06-20\", \"EDATE\": \"2016-06-26\", \"SPEC_RECEIVED_NB\": 7737, \"SPEC_PROCESSED_NB\": 7737, \"AH1\": 0.0, \"AH1N12009\": 5, \"AH3\": 22, \"AH5\": null, \"ANOTSUBTYPED\": 44, \"INF_A\": 71, \"BYAMAGATA\": 11, \"BVICTORIA\": 9, \"BNOTDETERMINED\": 93, \"INF_B\": 113, \"ALL_INF\": 184, \"ALL_INF2\": 7553.0, \"TITLE\": \"No Report\", \"pct_positive\": 2.38}, {\"Country\": \"United States of America\", \"WHOREGION\": \"Region of the Americas of WHO\", \"FLUREGION\": \"North America\", \"Year\": 2016, \"Week\": 26, \"SDATE\": \"2016-06-27\", \"EDATE\": \"2016-07-03\", \"SPEC_RECEIVED_NB\": 6623, \"SPEC_PROCESSED_NB\": 6623, \"AH1\": 0.0, \"AH1N12009\": 3, \"AH3\": 18, \"AH5\": null, \"ANOTSUBTYPED\": 29, \"INF_A\": 50, \"BYAMAGATA\": 9, \"BVICTORIA\": 6, \"BNOTDETERMINED\": 55, \"INF_B\": 70, \"ALL_INF\": 120, \"ALL_INF2\": 6503.0, \"TITLE\": \"No Report\", \"pct_positive\": 1.81}, {\"Country\": \"United States of America\", \"WHOREGION\": \"Region of the Americas of WHO\", \"FLUREGION\": \"North America\", \"Year\": 2016, \"Week\": 27, \"SDATE\": \"2016-07-04\", \"EDATE\": \"2016-07-10\", \"SPEC_RECEIVED_NB\": 6249, \"SPEC_PROCESSED_NB\": 6249, \"AH1\": 0.0, \"AH1N12009\": 2, \"AH3\": 18, \"AH5\": null, \"ANOTSUBTYPED\": 24, \"INF_A\": 44, \"BYAMAGATA\": 9, \"BVICTORIA\": 5, \"BNOTDETERMINED\": 35, \"INF_B\": 49, \"ALL_INF\": 93, \"ALL_INF2\": 6156.0, \"TITLE\": \"No Report\", \"pct_positive\": 1.49}, {\"Country\": \"United States of America\", \"WHOREGION\": \"Region of the Americas of WHO\", \"FLUREGION\": \"North America\", \"Year\": 2016, \"Week\": 28, \"SDATE\": \"2016-07-11\", \"EDATE\": \"2016-07-17\", \"SPEC_RECEIVED_NB\": 6619, \"SPEC_PROCESSED_NB\": 6619, \"AH1\": 0.0, \"AH1N12009\": 1, \"AH3\": 21, \"AH5\": null, \"ANOTSUBTYPED\": 25, \"INF_A\": 47, \"BYAMAGATA\": 11, \"BVICTORIA\": 2, \"BNOTDETERMINED\": 34, \"INF_B\": 47, \"ALL_INF\": 94, \"ALL_INF2\": 6525.0, \"TITLE\": \"No Report\", \"pct_positive\": 1.42}, {\"Country\": \"United States of America\", \"WHOREGION\": \"Region of the Americas of WHO\", \"FLUREGION\": \"North America\", \"Year\": 2016, \"Week\": 29, \"SDATE\": \"2016-07-18\", \"EDATE\": \"2016-07-24\", \"SPEC_RECEIVED_NB\": 6185, \"SPEC_PROCESSED_NB\": 6185, \"AH1\": 0.0, \"AH1N12009\": 2, \"AH3\": 18, \"AH5\": null, \"ANOTSUBTYPED\": 25, \"INF_A\": 45, \"BYAMAGATA\": 10, \"BVICTORIA\": 0, \"BNOTDETERMINED\": 30, \"INF_B\": 40, \"ALL_INF\": 85, \"ALL_INF2\": 6100.0, \"TITLE\": \"No Report\", \"pct_positive\": 1.37}, {\"Country\": \"United States of America\", \"WHOREGION\": \"Region of the Americas of WHO\", \"FLUREGION\": \"North America\", \"Year\": 2016, \"Week\": 30, \"SDATE\": \"2016-07-25\", \"EDATE\": \"2016-07-31\", \"SPEC_RECEIVED_NB\": 6054, \"SPEC_PROCESSED_NB\": 6054, \"AH1\": 0.0, \"AH1N12009\": 2, \"AH3\": 38, \"AH5\": null, \"ANOTSUBTYPED\": 20, \"INF_A\": 60, \"BYAMAGATA\": 10, \"BVICTORIA\": 2, \"BNOTDETERMINED\": 27, \"INF_B\": 39, \"ALL_INF\": 99, \"ALL_INF2\": 5954.0, \"TITLE\": \"No Report\", \"pct_positive\": 1.64}, {\"Country\": \"United States of America\", \"WHOREGION\": \"Region of the Americas of WHO\", \"FLUREGION\": \"North America\", \"Year\": 2016, \"Week\": 31, \"SDATE\": \"2016-08-01\", \"EDATE\": \"2016-08-07\", \"SPEC_RECEIVED_NB\": 6026, \"SPEC_PROCESSED_NB\": 6026, \"AH1\": 0.0, \"AH1N12009\": 1, \"AH3\": 45, \"AH5\": null, \"ANOTSUBTYPED\": 35, \"INF_A\": 81, \"BYAMAGATA\": 4, \"BVICTORIA\": 1, \"BNOTDETERMINED\": 20, \"INF_B\": 25, \"ALL_INF\": 106, \"ALL_INF2\": 5917.0, \"TITLE\": \"No Report\", \"pct_positive\": 1.76}, {\"Country\": \"United States of America\", \"WHOREGION\": \"Region of the Americas of WHO\", \"FLUREGION\": \"North America\", \"Year\": 2016, \"Week\": 32, \"SDATE\": \"2016-08-08\", \"EDATE\": \"2016-08-14\", \"SPEC_RECEIVED_NB\": 6124, \"SPEC_PROCESSED_NB\": 6124, \"AH1\": 0.0, \"AH1N12009\": 6, \"AH3\": 28, \"AH5\": null, \"ANOTSUBTYPED\": 22, \"INF_A\": 56, \"BYAMAGATA\": 12, \"BVICTORIA\": 3, \"BNOTDETERMINED\": 31, \"INF_B\": 46, \"ALL_INF\": 102, \"ALL_INF2\": 6012.0, \"TITLE\": \"No Report\", \"pct_positive\": 1.67}, {\"Country\": \"United States of America\", \"WHOREGION\": \"Region of the Americas of WHO\", \"FLUREGION\": \"North America\", \"Year\": 2016, \"Week\": 33, \"SDATE\": \"2016-08-15\", \"EDATE\": \"2016-08-21\", \"SPEC_RECEIVED_NB\": 6350, \"SPEC_PROCESSED_NB\": 6350, \"AH1\": 0.0, \"AH1N12009\": 1, \"AH3\": 29, \"AH5\": null, \"ANOTSUBTYPED\": 27, \"INF_A\": 57, \"BYAMAGATA\": 7, \"BVICTORIA\": 1, \"BNOTDETERMINED\": 24, \"INF_B\": 32, \"ALL_INF\": 89, \"ALL_INF2\": 6257.0, \"TITLE\": \"No Report\", \"pct_positive\": 1.4}, {\"Country\": \"United States of America\", \"WHOREGION\": \"Region of the Americas of WHO\", \"FLUREGION\": \"North America\", \"Year\": 2016, \"Week\": 34, \"SDATE\": \"2016-08-22\", \"EDATE\": \"2016-08-28\", \"SPEC_RECEIVED_NB\": 6628, \"SPEC_PROCESSED_NB\": 6628, \"AH1\": 0.0, \"AH1N12009\": 5, \"AH3\": 28, \"AH5\": null, \"ANOTSUBTYPED\": 63, \"INF_A\": 96, \"BYAMAGATA\": 6, \"BVICTORIA\": 2, \"BNOTDETERMINED\": 27, \"INF_B\": 35, \"ALL_INF\": 131, \"ALL_INF2\": 6497.0, \"TITLE\": \"No Report\", \"pct_positive\": 1.98}, {\"Country\": \"United States of America\", \"WHOREGION\": \"Region of the Americas of WHO\", \"FLUREGION\": \"North America\", \"Year\": 2016, \"Week\": 35, \"SDATE\": \"2016-08-29\", \"EDATE\": \"2016-09-04\", \"SPEC_RECEIVED_NB\": 7501, \"SPEC_PROCESSED_NB\": 7501, \"AH1\": 0.0, \"AH1N12009\": 7, \"AH3\": 33, \"AH5\": null, \"ANOTSUBTYPED\": 78, \"INF_A\": 118, \"BYAMAGATA\": 2, \"BVICTORIA\": 4, \"BNOTDETERMINED\": 46, \"INF_B\": 52, \"ALL_INF\": 170, \"ALL_INF2\": 7331.0, \"TITLE\": \"No Report\", \"pct_positive\": 2.27}, {\"Country\": \"United States of America\", \"WHOREGION\": \"Region of the Americas of WHO\", \"FLUREGION\": \"North America\", \"Year\": 2016, \"Week\": 36, \"SDATE\": \"2016-09-05\", \"EDATE\": \"2016-09-11\", \"SPEC_RECEIVED_NB\": 8132, \"SPEC_PROCESSED_NB\": 8132, \"AH1\": 0.0, \"AH1N12009\": 3, \"AH3\": 45, \"AH5\": null, \"ANOTSUBTYPED\": 57, \"INF_A\": 105, \"BYAMAGATA\": 3, \"BVICTORIA\": 1, \"BNOTDETERMINED\": 62, \"INF_B\": 66, \"ALL_INF\": 171, \"ALL_INF2\": 7961.0, \"TITLE\": \"No Report\", \"pct_positive\": 2.1}, {\"Country\": \"United States of America\", \"WHOREGION\": \"Region of the Americas of WHO\", \"FLUREGION\": \"North America\", \"Year\": 2016, \"Week\": 37, \"SDATE\": \"2016-09-12\", \"EDATE\": \"2016-09-18\", \"SPEC_RECEIVED_NB\": 9280, \"SPEC_PROCESSED_NB\": 9280, \"AH1\": 0.0, \"AH1N12009\": 8, \"AH3\": 55, \"AH5\": null, \"ANOTSUBTYPED\": 76, \"INF_A\": 139, \"BYAMAGATA\": 6, \"BVICTORIA\": 4, \"BNOTDETERMINED\": 68, \"INF_B\": 78, \"ALL_INF\": 217, \"ALL_INF2\": 9063.0, \"TITLE\": \"No Report\", \"pct_positive\": 2.34}, {\"Country\": \"United States of America\", \"WHOREGION\": \"Region of the Americas of WHO\", \"FLUREGION\": \"North America\", \"Year\": 2016, \"Week\": 38, \"SDATE\": \"2016-09-19\", \"EDATE\": \"2016-09-25\", \"SPEC_RECEIVED_NB\": 10040, \"SPEC_PROCESSED_NB\": 10040, \"AH1\": 0.0, \"AH1N12009\": 6, \"AH3\": 77, \"AH5\": null, \"ANOTSUBTYPED\": 97, \"INF_A\": 180, \"BYAMAGATA\": 5, \"BVICTORIA\": 3, \"BNOTDETERMINED\": 75, \"INF_B\": 83, \"ALL_INF\": 263, \"ALL_INF2\": 9777.0, \"TITLE\": \"No Report\", \"pct_positive\": 2.62}, {\"Country\": \"United States of America\", \"WHOREGION\": \"Region of the Americas of WHO\", \"FLUREGION\": \"North America\", \"Year\": 2016, \"Week\": 39, \"SDATE\": \"2016-09-26\", \"EDATE\": \"2016-10-02\", \"SPEC_RECEIVED_NB\": 11292, \"SPEC_PROCESSED_NB\": 11292, \"AH1\": 0.0, \"AH1N12009\": 5, \"AH3\": 73, \"AH5\": null, \"ANOTSUBTYPED\": 107, \"INF_A\": 185, \"BYAMAGATA\": 0, \"BVICTORIA\": 11, \"BNOTDETERMINED\": 88, \"INF_B\": 99, \"ALL_INF\": 284, \"ALL_INF2\": 11008.0, \"TITLE\": \"No Report\", \"pct_positive\": 2.52}, {\"Country\": \"United States of America\", \"WHOREGION\": \"Region of the Americas of WHO\", \"FLUREGION\": \"North America\", \"Year\": 2016, \"Week\": 40, \"SDATE\": \"2016-10-03\", \"EDATE\": \"2016-10-09\", \"SPEC_RECEIVED_NB\": 14278, \"SPEC_PROCESSED_NB\": 14278, \"AH1\": 0.0, \"AH1N12009\": 9, \"AH3\": 87, \"AH5\": null, \"ANOTSUBTYPED\": 120, \"INF_A\": 216, \"BYAMAGATA\": 4, \"BVICTORIA\": 5, \"BNOTDETERMINED\": 91, \"INF_B\": 100, \"ALL_INF\": 316, \"ALL_INF2\": 13962.0, \"TITLE\": \"No Report\", \"pct_positive\": 2.21}, {\"Country\": \"United States of America\", \"WHOREGION\": \"Region of the Americas of WHO\", \"FLUREGION\": \"North America\", \"Year\": 2016, \"Week\": 41, \"SDATE\": \"2016-10-10\", \"EDATE\": \"2016-10-16\", \"SPEC_RECEIVED_NB\": 15023, \"SPEC_PROCESSED_NB\": 15023, \"AH1\": 0.0, \"AH1N12009\": 11, \"AH3\": 81, \"AH5\": null, \"ANOTSUBTYPED\": 108, \"INF_A\": 200, \"BYAMAGATA\": 6, \"BVICTORIA\": 7, \"BNOTDETERMINED\": 86, \"INF_B\": 99, \"ALL_INF\": 299, \"ALL_INF2\": 14724.0, \"TITLE\": \"No Report\", \"pct_positive\": 1.99}, {\"Country\": \"United States of America\", \"WHOREGION\": \"Region of the Americas of WHO\", \"FLUREGION\": \"North America\", \"Year\": 2016, \"Week\": 42, \"SDATE\": \"2016-10-17\", \"EDATE\": \"2016-10-23\", \"SPEC_RECEIVED_NB\": 16250, \"SPEC_PROCESSED_NB\": 16250, \"AH1\": 0.0, \"AH1N12009\": 12, \"AH3\": 134, \"AH5\": null, \"ANOTSUBTYPED\": 117, \"INF_A\": 263, \"BYAMAGATA\": 10, \"BVICTORIA\": 8, \"BNOTDETERMINED\": 98, \"INF_B\": 116, \"ALL_INF\": 379, \"ALL_INF2\": 15871.0, \"TITLE\": \"No Report\", \"pct_positive\": 2.33}, {\"Country\": \"United States of America\", \"WHOREGION\": \"Region of the Americas of WHO\", \"FLUREGION\": \"North America\", \"Year\": 2016, \"Week\": 43, \"SDATE\": \"2016-10-24\", \"EDATE\": \"2016-10-30\", \"SPEC_RECEIVED_NB\": 16480, \"SPEC_PROCESSED_NB\": 16480, \"AH1\": 0.0, \"AH1N12009\": 13, \"AH3\": 130, \"AH5\": null, \"ANOTSUBTYPED\": 144, \"INF_A\": 287, \"BYAMAGATA\": 3, \"BVICTORIA\": 3, \"BNOTDETERMINED\": 94, \"INF_B\": 100, \"ALL_INF\": 387, \"ALL_INF2\": 16093.0, \"TITLE\": \"No Report\", \"pct_positive\": 2.35}, {\"Country\": \"United States of America\", \"WHOREGION\": \"Region of the Americas of WHO\", \"FLUREGION\": \"North America\", \"Year\": 2016, \"Week\": 44, \"SDATE\": \"2016-10-31\", \"EDATE\": \"2016-11-06\", \"SPEC_RECEIVED_NB\": 17948, \"SPEC_PROCESSED_NB\": 17948, \"AH1\": 0.0, \"AH1N12009\": 12, \"AH3\": 122, \"AH5\": null, \"ANOTSUBTYPED\": 204, \"INF_A\": 338, \"BYAMAGATA\": 7, \"BVICTORIA\": 10, \"BNOTDETERMINED\": 121, \"INF_B\": 138, \"ALL_INF\": 476, \"ALL_INF2\": 17472.0, \"TITLE\": \"No Report\", \"pct_positive\": 2.65}, {\"Country\": \"United States of America\", \"WHOREGION\": \"Region of the Americas of WHO\", \"FLUREGION\": \"North America\", \"Year\": 2016, \"Week\": 45, \"SDATE\": \"2016-11-07\", \"EDATE\": \"2016-11-13\", \"SPEC_RECEIVED_NB\": 19086, \"SPEC_PROCESSED_NB\": 19086, \"AH1\": 0.0, \"AH1N12009\": 5, \"AH3\": 155, \"AH5\": null, \"ANOTSUBTYPED\": 272, \"INF_A\": 432, \"BYAMAGATA\": 1, \"BVICTORIA\": 6, \"BNOTDETERMINED\": 126, \"INF_B\": 133, \"ALL_INF\": 565, \"ALL_INF2\": 18521.0, \"TITLE\": \"No Report\", \"pct_positive\": 2.96}, {\"Country\": \"United States of America\", \"WHOREGION\": \"Region of the Americas of WHO\", \"FLUREGION\": \"North America\", \"Year\": 2016, \"Week\": 46, \"SDATE\": \"2016-11-14\", \"EDATE\": \"2016-11-20\", \"SPEC_RECEIVED_NB\": 20411, \"SPEC_PROCESSED_NB\": 20411, \"AH1\": 0.0, \"AH1N12009\": 9, \"AH3\": 189, \"AH5\": null, \"ANOTSUBTYPED\": 349, \"INF_A\": 547, \"BYAMAGATA\": 1, \"BVICTORIA\": 7, \"BNOTDETERMINED\": 157, \"INF_B\": 165, \"ALL_INF\": 712, \"ALL_INF2\": 19699.0, \"TITLE\": \"No Report\", \"pct_positive\": 3.49}, {\"Country\": \"United States of America\", \"WHOREGION\": \"Region of the Americas of WHO\", \"FLUREGION\": \"North America\", \"Year\": 2016, \"Week\": 47, \"SDATE\": \"2016-11-21\", \"EDATE\": \"2016-11-27\", \"SPEC_RECEIVED_NB\": 19618, \"SPEC_PROCESSED_NB\": 19618, \"AH1\": 0.0, \"AH1N12009\": 5, \"AH3\": 164, \"AH5\": null, \"ANOTSUBTYPED\": 465, \"INF_A\": 634, \"BYAMAGATA\": 3, \"BVICTORIA\": 4, \"BNOTDETERMINED\": 179, \"INF_B\": 186, \"ALL_INF\": 820, \"ALL_INF2\": 18798.0, \"TITLE\": \"No Report\", \"pct_positive\": 4.18}, {\"Country\": \"United States of America\", \"WHOREGION\": \"Region of the Americas of WHO\", \"FLUREGION\": \"North America\", \"Year\": 2016, \"Week\": 48, \"SDATE\": \"2016-11-28\", \"EDATE\": \"2016-12-04\", \"SPEC_RECEIVED_NB\": 23255, \"SPEC_PROCESSED_NB\": 23255, \"AH1\": 0.0, \"AH1N12009\": 13, \"AH3\": 318, \"AH5\": null, \"ANOTSUBTYPED\": 543, \"INF_A\": 874, \"BYAMAGATA\": 5, \"BVICTORIA\": 17, \"BNOTDETERMINED\": 201, \"INF_B\": 223, \"ALL_INF\": 1097, \"ALL_INF2\": 22158.0, \"TITLE\": \"No Report\", \"pct_positive\": 4.72}, {\"Country\": \"United States of America\", \"WHOREGION\": \"Region of the Americas of WHO\", \"FLUREGION\": \"North America\", \"Year\": 2016, \"Week\": 49, \"SDATE\": \"2016-12-05\", \"EDATE\": \"2016-12-11\", \"SPEC_RECEIVED_NB\": 22444, \"SPEC_PROCESSED_NB\": 22444, \"AH1\": 0.0, \"AH1N12009\": 14, \"AH3\": 479, \"AH5\": null, \"ANOTSUBTYPED\": 699, \"INF_A\": 1192, \"BYAMAGATA\": 7, \"BVICTORIA\": 20, \"BNOTDETERMINED\": 183, \"INF_B\": 210, \"ALL_INF\": 1402, \"ALL_INF2\": 21042.0, \"TITLE\": \"No Report\", \"pct_positive\": 6.25}, {\"Country\": \"United States of America\", \"WHOREGION\": \"Region of the Americas of WHO\", \"FLUREGION\": \"North America\", \"Year\": 2016, \"Week\": 50, \"SDATE\": \"2016-12-12\", \"EDATE\": \"2016-12-18\", \"SPEC_RECEIVED_NB\": 25720, \"SPEC_PROCESSED_NB\": 25720, \"AH1\": 0.0, \"AH1N12009\": 18, \"AH3\": 750, \"AH5\": null, \"ANOTSUBTYPED\": 1368, \"INF_A\": 2136, \"BYAMAGATA\": 18, \"BVICTORIA\": 27, \"BNOTDETERMINED\": 226, \"INF_B\": 271, \"ALL_INF\": 2407, \"ALL_INF2\": 23313.0, \"TITLE\": \"No Report\", \"pct_positive\": 9.36}, {\"Country\": \"United States of America\", \"WHOREGION\": \"Region of the Americas of WHO\", \"FLUREGION\": \"North America\", \"Year\": 2016, \"Week\": 51, \"SDATE\": \"2016-12-19\", \"EDATE\": \"2016-12-25\", \"SPEC_RECEIVED_NB\": 29439, \"SPEC_PROCESSED_NB\": 29439, \"AH1\": 0.0, \"AH1N12009\": 29, \"AH3\": 1016, \"AH5\": null, \"ANOTSUBTYPED\": 2574, \"INF_A\": 3619, \"BYAMAGATA\": 28, \"BVICTORIA\": 38, \"BNOTDETERMINED\": 357, \"INF_B\": 423, \"ALL_INF\": 4042, \"ALL_INF2\": 25397.0, \"TITLE\": \"No Report\", \"pct_positive\": 13.73}, {\"Country\": \"United States of America\", \"WHOREGION\": \"Region of the Americas of WHO\", \"FLUREGION\": \"North America\", \"Year\": 2016, \"Week\": 52, \"SDATE\": \"2016-12-26\", \"EDATE\": \"2017-01-01\", \"SPEC_RECEIVED_NB\": 36560, \"SPEC_PROCESSED_NB\": 36560, \"AH1\": 0.0, \"AH1N12009\": 32, \"AH3\": 1676, \"AH5\": null, \"ANOTSUBTYPED\": 4301, \"INF_A\": 6009, \"BYAMAGATA\": 37, \"BVICTORIA\": 59, \"BNOTDETERMINED\": 401, \"INF_B\": 497, \"ALL_INF\": 6506, \"ALL_INF2\": 30054.0, \"TITLE\": \"No Report\", \"pct_positive\": 17.8}, {\"Country\": \"United States of America\", \"WHOREGION\": \"Region of the Americas of WHO\", \"FLUREGION\": \"North America\", \"Year\": 2017, \"Week\": 1, \"SDATE\": \"2017-01-02\", \"EDATE\": \"2017-01-08\", \"SPEC_RECEIVED_NB\": 38960, \"SPEC_PROCESSED_NB\": 38960, \"AH1\": 0.0, \"AH1N12009\": 53, \"AH3\": 2067, \"AH5\": null, \"ANOTSUBTYPED\": 4301, \"INF_A\": 6421, \"BYAMAGATA\": 60, \"BVICTORIA\": 47, \"BNOTDETERMINED\": 405, \"INF_B\": 512, \"ALL_INF\": 6933, \"ALL_INF2\": 32027.0, \"TITLE\": \"No Report\", \"pct_positive\": 17.8}, {\"Country\": \"United States of America\", \"WHOREGION\": \"Region of the Americas of WHO\", \"FLUREGION\": \"North America\", \"Year\": 2017, \"Week\": 2, \"SDATE\": \"2017-01-09\", \"EDATE\": \"2017-01-15\", \"SPEC_RECEIVED_NB\": 39546, \"SPEC_PROCESSED_NB\": 39546, \"AH1\": 0.0, \"AH1N12009\": 49, \"AH3\": 2210, \"AH5\": null, \"ANOTSUBTYPED\": 4965, \"INF_A\": 7224, \"BYAMAGATA\": 76, \"BVICTORIA\": 49, \"BNOTDETERMINED\": 501, \"INF_B\": 626, \"ALL_INF\": 7850, \"ALL_INF2\": 31696.0, \"TITLE\": \"No Report\", \"pct_positive\": 19.85}, {\"Country\": \"United States of America\", \"WHOREGION\": \"Region of the Americas of WHO\", \"FLUREGION\": \"North America\", \"Year\": 2017, \"Week\": 3, \"SDATE\": \"2017-01-16\", \"EDATE\": \"2017-01-22\", \"SPEC_RECEIVED_NB\": 41010, \"SPEC_PROCESSED_NB\": 41010, \"AH1\": 0.0, \"AH1N12009\": 57, \"AH3\": 2253, \"AH5\": null, \"ANOTSUBTYPED\": 6086, \"INF_A\": 8396, \"BYAMAGATA\": 104, \"BVICTORIA\": 69, \"BNOTDETERMINED\": 681, \"INF_B\": 854, \"ALL_INF\": 9250, \"ALL_INF2\": 31760.0, \"TITLE\": \"No Report\", \"pct_positive\": 22.56}, {\"Country\": \"United States of America\", \"WHOREGION\": \"Region of the Americas of WHO\", \"FLUREGION\": \"North America\", \"Year\": 2017, \"Week\": 4, \"SDATE\": \"2017-01-23\", \"EDATE\": \"2017-01-29\", \"SPEC_RECEIVED_NB\": 42620, \"SPEC_PROCESSED_NB\": 42620, \"AH1\": 0.0, \"AH1N12009\": 47, \"AH3\": 2431, \"AH5\": null, \"ANOTSUBTYPED\": 6283, \"INF_A\": 8761, \"BYAMAGATA\": 123, \"BVICTORIA\": 71, \"BNOTDETERMINED\": 827, \"INF_B\": 1021, \"ALL_INF\": 9782, \"ALL_INF2\": 32838.0, \"TITLE\": \"No Report\", \"pct_positive\": 22.95}, {\"Country\": \"United States of America\", \"WHOREGION\": \"Region of the Americas of WHO\", \"FLUREGION\": \"North America\", \"Year\": 2017, \"Week\": 5, \"SDATE\": \"2017-01-30\", \"EDATE\": \"2017-02-05\", \"SPEC_RECEIVED_NB\": 46521, \"SPEC_PROCESSED_NB\": 46521, \"AH1\": 0.0, \"AH1N12009\": 51, \"AH3\": 2596, \"AH5\": null, \"ANOTSUBTYPED\": 7809, \"INF_A\": 10456, \"BYAMAGATA\": 182, \"BVICTORIA\": 96, \"BNOTDETERMINED\": 1147, \"INF_B\": 1425, \"ALL_INF\": 11881, \"ALL_INF2\": 34640.0, \"TITLE\": \"No Report\", \"pct_positive\": 25.54}, {\"Country\": \"United States of America\", \"WHOREGION\": \"Region of the Americas of WHO\", \"FLUREGION\": \"North America\", \"Year\": 2017, \"Week\": 6, \"SDATE\": \"2017-02-06\", \"EDATE\": \"2017-02-12\", \"SPEC_RECEIVED_NB\": 53516, \"SPEC_PROCESSED_NB\": 53516, \"AH1\": 0.0, \"AH1N12009\": 71, \"AH3\": 2975, \"AH5\": null, \"ANOTSUBTYPED\": 9725, \"INF_A\": 12771, \"BYAMAGATA\": 240, \"BVICTORIA\": 126, \"BNOTDETERMINED\": 1937, \"INF_B\": 2303, \"ALL_INF\": 15074, \"ALL_INF2\": 38442.0, \"TITLE\": \"No Report\", \"pct_positive\": 28.17}, {\"Country\": \"United States of America\", \"WHOREGION\": \"Region of the Americas of WHO\", \"FLUREGION\": \"North America\", \"Year\": 2017, \"Week\": 7, \"SDATE\": \"2017-02-13\", \"EDATE\": \"2017-02-19\", \"SPEC_RECEIVED_NB\": 54691, \"SPEC_PROCESSED_NB\": 54691, \"AH1\": 0.0, \"AH1N12009\": 68, \"AH3\": 2617, \"AH5\": null, \"ANOTSUBTYPED\": 9563, \"INF_A\": 12248, \"BYAMAGATA\": 300, \"BVICTORIA\": 152, \"BNOTDETERMINED\": 2656, \"INF_B\": 3108, \"ALL_INF\": 15356, \"ALL_INF2\": 39335.0, \"TITLE\": \"No Report\", \"pct_positive\": 28.08}, {\"Country\": \"United States of America\", \"WHOREGION\": \"Region of the Americas of WHO\", \"FLUREGION\": \"North America\", \"Year\": 2017, \"Week\": 8, \"SDATE\": \"2017-02-20\", \"EDATE\": \"2017-02-26\", \"SPEC_RECEIVED_NB\": 52446, \"SPEC_PROCESSED_NB\": 52446, \"AH1\": 0.0, \"AH1N12009\": 87, \"AH3\": 2364, \"AH5\": null, \"ANOTSUBTYPED\": 8775, \"INF_A\": 11226, \"BYAMAGATA\": 357, \"BVICTORIA\": 159, \"BNOTDETERMINED\": 3041, \"INF_B\": 3557, \"ALL_INF\": 14783, \"ALL_INF2\": 37663.0, \"TITLE\": \"No Report\", \"pct_positive\": 28.19}, {\"Country\": \"United States of America\", \"WHOREGION\": \"Region of the Americas of WHO\", \"FLUREGION\": \"North America\", \"Year\": 2017, \"Week\": 9, \"SDATE\": \"2017-02-27\", \"EDATE\": \"2017-03-05\", \"SPEC_RECEIVED_NB\": 44426, \"SPEC_PROCESSED_NB\": 44426, \"AH1\": 0.0, \"AH1N12009\": 54, \"AH3\": 1492, \"AH5\": null, \"ANOTSUBTYPED\": 5618, \"INF_A\": 7164, \"BYAMAGATA\": 358, \"BVICTORIA\": 149, \"BNOTDETERMINED\": 2491, \"INF_B\": 2998, \"ALL_INF\": 10162, \"ALL_INF2\": 34264.0, \"TITLE\": \"No Report\", \"pct_positive\": 22.87}, {\"Country\": \"United States of America\", \"WHOREGION\": \"Region of the Americas of WHO\", \"FLUREGION\": \"North America\", \"Year\": 2017, \"Week\": 10, \"SDATE\": \"2017-03-06\", \"EDATE\": \"2017-03-12\", \"SPEC_RECEIVED_NB\": 42112, \"SPEC_PROCESSED_NB\": 42112, \"AH1\": 0.0, \"AH1N12009\": 50, \"AH3\": 1256, \"AH5\": null, \"ANOTSUBTYPED\": 4647, \"INF_A\": 5953, \"BYAMAGATA\": 389, \"BVICTORIA\": 138, \"BNOTDETERMINED\": 2892, \"INF_B\": 3419, \"ALL_INF\": 9372, \"ALL_INF2\": 32740.0, \"TITLE\": \"No Report\", \"pct_positive\": 22.25}, {\"Country\": \"United States of America\", \"WHOREGION\": \"Region of the Americas of WHO\", \"FLUREGION\": \"North America\", \"Year\": 2017, \"Week\": 11, \"SDATE\": \"2017-03-13\", \"EDATE\": \"2017-03-19\", \"SPEC_RECEIVED_NB\": 39836, \"SPEC_PROCESSED_NB\": 39836, \"AH1\": 0.0, \"AH1N12009\": 28, \"AH3\": 909, \"AH5\": null, \"ANOTSUBTYPED\": 3806, \"INF_A\": 4743, \"BYAMAGATA\": 440, \"BVICTORIA\": 141, \"BNOTDETERMINED\": 3295, \"INF_B\": 3876, \"ALL_INF\": 8619, \"ALL_INF2\": 31217.0, \"TITLE\": \"No Report\", \"pct_positive\": 21.64}, {\"Country\": \"United States of America\", \"WHOREGION\": \"Region of the Americas of WHO\", \"FLUREGION\": \"North America\", \"Year\": 2017, \"Week\": 12, \"SDATE\": \"2017-03-20\", \"EDATE\": \"2017-03-26\", \"SPEC_RECEIVED_NB\": 38400, \"SPEC_PROCESSED_NB\": 38400, \"AH1\": 0.0, \"AH1N12009\": 31, \"AH3\": 843, \"AH5\": null, \"ANOTSUBTYPED\": 3225, \"INF_A\": 4099, \"BYAMAGATA\": 523, \"BVICTORIA\": 193, \"BNOTDETERMINED\": 3839, \"INF_B\": 4555, \"ALL_INF\": 8654, \"ALL_INF2\": 29746.0, \"TITLE\": \"No Report\", \"pct_positive\": 22.54}, {\"Country\": \"United States of America\", \"WHOREGION\": \"Region of the Americas of WHO\", \"FLUREGION\": \"North America\", \"Year\": 2017, \"Week\": 13, \"SDATE\": \"2017-03-27\", \"EDATE\": \"2017-04-02\", \"SPEC_RECEIVED_NB\": 35530, \"SPEC_PROCESSED_NB\": 35530, \"AH1\": 0.0, \"AH1N12009\": 27, \"AH3\": 655, \"AH5\": null, \"ANOTSUBTYPED\": 2348, \"INF_A\": 3030, \"BYAMAGATA\": 576, \"BVICTORIA\": 143, \"BNOTDETERMINED\": 3876, \"INF_B\": 4595, \"ALL_INF\": 7625, \"ALL_INF2\": 27905.0, \"TITLE\": \"No Report\", \"pct_positive\": 21.46}, {\"Country\": \"United States of America\", \"WHOREGION\": \"Region of the Americas of WHO\", \"FLUREGION\": \"North America\", \"Year\": 2017, \"Week\": 14, \"SDATE\": \"2017-04-03\", \"EDATE\": \"2017-04-09\", \"SPEC_RECEIVED_NB\": 31021, \"SPEC_PROCESSED_NB\": 31021, \"AH1\": 0.0, \"AH1N12009\": 17, \"AH3\": 374, \"AH5\": null, \"ANOTSUBTYPED\": 1447, \"INF_A\": 1838, \"BYAMAGATA\": 450, \"BVICTORIA\": 117, \"BNOTDETERMINED\": 3119, \"INF_B\": 3686, \"ALL_INF\": 5524, \"ALL_INF2\": 25497.0, \"TITLE\": \"No Report\", \"pct_positive\": 17.81}, {\"Country\": \"United States of America\", \"WHOREGION\": \"Region of the Americas of WHO\", \"FLUREGION\": \"North America\", \"Year\": 2017, \"Week\": 15, \"SDATE\": \"2017-04-10\", \"EDATE\": \"2017-04-16\", \"SPEC_RECEIVED_NB\": 26720, \"SPEC_PROCESSED_NB\": 26720, \"AH1\": 0.0, \"AH1N12009\": 5, \"AH3\": 221, \"AH5\": null, \"ANOTSUBTYPED\": 903, \"INF_A\": 1129, \"BYAMAGATA\": 383, \"BVICTORIA\": 66, \"BNOTDETERMINED\": 2364, \"INF_B\": 2813, \"ALL_INF\": 3942, \"ALL_INF2\": 22778.0, \"TITLE\": \"No Report\", \"pct_positive\": 14.75}, {\"Country\": \"United States of America\", \"WHOREGION\": \"Region of the Americas of WHO\", \"FLUREGION\": \"North America\", \"Year\": 2017, \"Week\": 16, \"SDATE\": \"2017-04-17\", \"EDATE\": \"2017-04-23\", \"SPEC_RECEIVED_NB\": 23640, \"SPEC_PROCESSED_NB\": 23640, \"AH1\": 0.0, \"AH1N12009\": 11, \"AH3\": 144, \"AH5\": null, \"ANOTSUBTYPED\": 569, \"INF_A\": 724, \"BYAMAGATA\": 250, \"BVICTORIA\": 54, \"BNOTDETERMINED\": 1656, \"INF_B\": 1960, \"ALL_INF\": 2684, \"ALL_INF2\": 20956.0, \"TITLE\": \"No Report\", \"pct_positive\": 11.35}, {\"Country\": \"United States of America\", \"WHOREGION\": \"Region of the Americas of WHO\", \"FLUREGION\": \"North America\", \"Year\": 2017, \"Week\": 17, \"SDATE\": \"2017-04-24\", \"EDATE\": \"2017-04-30\", \"SPEC_RECEIVED_NB\": 20099, \"SPEC_PROCESSED_NB\": 20099, \"AH1\": 0.0, \"AH1N12009\": 7, \"AH3\": 133, \"AH5\": null, \"ANOTSUBTYPED\": 328, \"INF_A\": 468, \"BYAMAGATA\": 181, \"BVICTORIA\": 51, \"BNOTDETERMINED\": 995, \"INF_B\": 1227, \"ALL_INF\": 1695, \"ALL_INF2\": 18404.0, \"TITLE\": \"No Report\", \"pct_positive\": 8.43}, {\"Country\": \"United States of America\", \"WHOREGION\": \"Region of the Americas of WHO\", \"FLUREGION\": \"North America\", \"Year\": 2017, \"Week\": 18, \"SDATE\": \"2017-05-01\", \"EDATE\": \"2017-05-07\", \"SPEC_RECEIVED_NB\": 17267, \"SPEC_PROCESSED_NB\": 17267, \"AH1\": 0.0, \"AH1N12009\": 5, \"AH3\": 83, \"AH5\": null, \"ANOTSUBTYPED\": 254, \"INF_A\": 342, \"BYAMAGATA\": 131, \"BVICTORIA\": 31, \"BNOTDETERMINED\": 749, \"INF_B\": 911, \"ALL_INF\": 1253, \"ALL_INF2\": 16014.0, \"TITLE\": \"No Report\", \"pct_positive\": 7.26}, {\"Country\": \"United States of America\", \"WHOREGION\": \"Region of the Americas of WHO\", \"FLUREGION\": \"North America\", \"Year\": 2017, \"Week\": 19, \"SDATE\": \"2017-05-08\", \"EDATE\": \"2017-05-14\", \"SPEC_RECEIVED_NB\": 16191, \"SPEC_PROCESSED_NB\": 16191, \"AH1\": 0.0, \"AH1N12009\": 3, \"AH3\": 97, \"AH5\": null, \"ANOTSUBTYPED\": 234, \"INF_A\": 334, \"BYAMAGATA\": 117, \"BVICTORIA\": 38, \"BNOTDETERMINED\": 620, \"INF_B\": 775, \"ALL_INF\": 1109, \"ALL_INF2\": 15082.0, \"TITLE\": \"No Report\", \"pct_positive\": 6.85}, {\"Country\": \"United States of America\", \"WHOREGION\": \"Region of the Americas of WHO\", \"FLUREGION\": \"North America\", \"Year\": 2017, \"Week\": 20, \"SDATE\": \"2017-05-15\", \"EDATE\": \"2017-05-21\", \"SPEC_RECEIVED_NB\": 15080, \"SPEC_PROCESSED_NB\": 15080, \"AH1\": 0.0, \"AH1N12009\": 5, \"AH3\": 63, \"AH5\": null, \"ANOTSUBTYPED\": 217, \"INF_A\": 285, \"BYAMAGATA\": 114, \"BVICTORIA\": 33, \"BNOTDETERMINED\": 512, \"INF_B\": 659, \"ALL_INF\": 944, \"ALL_INF2\": 14136.0, \"TITLE\": \"No Report\", \"pct_positive\": 6.26}, {\"Country\": \"United States of America\", \"WHOREGION\": \"Region of the Americas of WHO\", \"FLUREGION\": \"North America\", \"Year\": 2017, \"Week\": 21, \"SDATE\": \"2017-05-22\", \"EDATE\": \"2017-05-28\", \"SPEC_RECEIVED_NB\": 13461, \"SPEC_PROCESSED_NB\": 13461, \"AH1\": 0.0, \"AH1N12009\": 6, \"AH3\": 41, \"AH5\": null, \"ANOTSUBTYPED\": 180, \"INF_A\": 227, \"BYAMAGATA\": 80, \"BVICTORIA\": 26, \"BNOTDETERMINED\": 401, \"INF_B\": 507, \"ALL_INF\": 734, \"ALL_INF2\": 12727.0, \"TITLE\": \"No Report\", \"pct_positive\": 5.45}, {\"Country\": \"United States of America\", \"WHOREGION\": \"Region of the Americas of WHO\", \"FLUREGION\": \"North America\", \"Year\": 2017, \"Week\": 22, \"SDATE\": \"2017-05-29\", \"EDATE\": \"2017-06-04\", \"SPEC_RECEIVED_NB\": 12194, \"SPEC_PROCESSED_NB\": 12194, \"AH1\": 0.0, \"AH1N12009\": 1, \"AH3\": 39, \"AH5\": null, \"ANOTSUBTYPED\": 171, \"INF_A\": 211, \"BYAMAGATA\": 60, \"BVICTORIA\": 51, \"BNOTDETERMINED\": 331, \"INF_B\": 442, \"ALL_INF\": 653, \"ALL_INF2\": 11541.0, \"TITLE\": \"No Report\", \"pct_positive\": 5.36}, {\"Country\": \"United States of America\", \"WHOREGION\": \"Region of the Americas of WHO\", \"FLUREGION\": \"North America\", \"Year\": 2017, \"Week\": 23, \"SDATE\": \"2017-06-05\", \"EDATE\": \"2017-06-11\", \"SPEC_RECEIVED_NB\": 11119, \"SPEC_PROCESSED_NB\": 11119, \"AH1\": 0.0, \"AH1N12009\": 5, \"AH3\": 33, \"AH5\": null, \"ANOTSUBTYPED\": 136, \"INF_A\": 174, \"BYAMAGATA\": 63, \"BVICTORIA\": 22, \"BNOTDETERMINED\": 244, \"INF_B\": 329, \"ALL_INF\": 503, \"ALL_INF2\": 10616.0, \"TITLE\": \"No Report\", \"pct_positive\": 4.52}, {\"Country\": \"United States of America\", \"WHOREGION\": \"Region of the Americas of WHO\", \"FLUREGION\": \"North America\", \"Year\": 2017, \"Week\": 24, \"SDATE\": \"2017-06-12\", \"EDATE\": \"2017-06-18\", \"SPEC_RECEIVED_NB\": 9966, \"SPEC_PROCESSED_NB\": 9966, \"AH1\": 0.0, \"AH1N12009\": 8, \"AH3\": 43, \"AH5\": null, \"ANOTSUBTYPED\": 132, \"INF_A\": 183, \"BYAMAGATA\": 45, \"BVICTORIA\": 11, \"BNOTDETERMINED\": 171, \"INF_B\": 227, \"ALL_INF\": 410, \"ALL_INF2\": 9556.0, \"TITLE\": \"No Report\", \"pct_positive\": 4.11}, {\"Country\": \"United States of America\", \"WHOREGION\": \"Region of the Americas of WHO\", \"FLUREGION\": \"North America\", \"Year\": 2017, \"Week\": 25, \"SDATE\": \"2017-06-19\", \"EDATE\": \"2017-06-25\", \"SPEC_RECEIVED_NB\": 8843, \"SPEC_PROCESSED_NB\": 8843, \"AH1\": 0.0, \"AH1N12009\": 5, \"AH3\": 40, \"AH5\": null, \"ANOTSUBTYPED\": 107, \"INF_A\": 152, \"BYAMAGATA\": 31, \"BVICTORIA\": 11, \"BNOTDETERMINED\": 125, \"INF_B\": 167, \"ALL_INF\": 319, \"ALL_INF2\": 8524.0, \"TITLE\": \"No Report\", \"pct_positive\": 3.61}, {\"Country\": \"United States of America\", \"WHOREGION\": \"Region of the Americas of WHO\", \"FLUREGION\": \"North America\", \"Year\": 2017, \"Week\": 26, \"SDATE\": \"2017-06-26\", \"EDATE\": \"2017-07-02\", \"SPEC_RECEIVED_NB\": 7859, \"SPEC_PROCESSED_NB\": 7859, \"AH1\": 0.0, \"AH1N12009\": 5, \"AH3\": 39, \"AH5\": null, \"ANOTSUBTYPED\": 95, \"INF_A\": 139, \"BYAMAGATA\": 21, \"BVICTORIA\": 4, \"BNOTDETERMINED\": 103, \"INF_B\": 128, \"ALL_INF\": 267, \"ALL_INF2\": 7592.0, \"TITLE\": \"No Report\", \"pct_positive\": 3.4}, {\"Country\": \"United States of America\", \"WHOREGION\": \"Region of the Americas of WHO\", \"FLUREGION\": \"North America\", \"Year\": 2017, \"Week\": 27, \"SDATE\": \"2017-07-03\", \"EDATE\": \"2017-07-09\", \"SPEC_RECEIVED_NB\": 7366, \"SPEC_PROCESSED_NB\": 7366, \"AH1\": 0.0, \"AH1N12009\": 10, \"AH3\": 29, \"AH5\": null, \"ANOTSUBTYPED\": 75, \"INF_A\": 114, \"BYAMAGATA\": 7, \"BVICTORIA\": 7, \"BNOTDETERMINED\": 83, \"INF_B\": 97, \"ALL_INF\": 211, \"ALL_INF2\": 7155.0, \"TITLE\": \"No Report\", \"pct_positive\": 2.86}, {\"Country\": \"United States of America\", \"WHOREGION\": \"Region of the Americas of WHO\", \"FLUREGION\": \"North America\", \"Year\": 2017, \"Week\": 28, \"SDATE\": \"2017-07-10\", \"EDATE\": \"2017-07-16\", \"SPEC_RECEIVED_NB\": 7741, \"SPEC_PROCESSED_NB\": 7741, \"AH1\": 0.0, \"AH1N12009\": 4, \"AH3\": 31, \"AH5\": null, \"ANOTSUBTYPED\": 92, \"INF_A\": 127, \"BYAMAGATA\": 9, \"BVICTORIA\": 5, \"BNOTDETERMINED\": 79, \"INF_B\": 93, \"ALL_INF\": 220, \"ALL_INF2\": 7519.0, \"TITLE\": \"No Report\", \"pct_positive\": 2.84}, {\"Country\": \"United States of America\", \"WHOREGION\": \"Region of the Americas of WHO\", \"FLUREGION\": \"North America\", \"Year\": 2017, \"Week\": 29, \"SDATE\": \"2017-07-17\", \"EDATE\": \"2017-07-23\", \"SPEC_RECEIVED_NB\": 7532, \"SPEC_PROCESSED_NB\": 7532, \"AH1\": 0.0, \"AH1N12009\": 8, \"AH3\": 26, \"AH5\": null, \"ANOTSUBTYPED\": 87, \"INF_A\": 121, \"BYAMAGATA\": 7, \"BVICTORIA\": 0, \"BNOTDETERMINED\": 54, \"INF_B\": 61, \"ALL_INF\": 182, \"ALL_INF2\": 7341.0, \"TITLE\": \"No Report\", \"pct_positive\": 2.42}, {\"Country\": \"United States of America\", \"WHOREGION\": \"Region of the Americas of WHO\", \"FLUREGION\": \"North America\", \"Year\": 2017, \"Week\": 30, \"SDATE\": \"2017-07-24\", \"EDATE\": \"2017-07-30\", \"SPEC_RECEIVED_NB\": 7122, \"SPEC_PROCESSED_NB\": 7122, \"AH1\": 0.0, \"AH1N12009\": 7, \"AH3\": 31, \"AH5\": null, \"ANOTSUBTYPED\": 76, \"INF_A\": 114, \"BYAMAGATA\": 21, \"BVICTORIA\": 1, \"BNOTDETERMINED\": 53, \"INF_B\": 75, \"ALL_INF\": 189, \"ALL_INF2\": 6933.0, \"TITLE\": \"No Report\", \"pct_positive\": 2.65}, {\"Country\": \"United States of America\", \"WHOREGION\": \"Region of the Americas of WHO\", \"FLUREGION\": \"North America\", \"Year\": 2017, \"Week\": 31, \"SDATE\": \"2017-07-31\", \"EDATE\": \"2017-08-06\", \"SPEC_RECEIVED_NB\": 7110, \"SPEC_PROCESSED_NB\": 7110, \"AH1\": 0.0, \"AH1N12009\": 8, \"AH3\": 41, \"AH5\": null, \"ANOTSUBTYPED\": 96, \"INF_A\": 145, \"BYAMAGATA\": 8, \"BVICTORIA\": 0, \"BNOTDETERMINED\": 38, \"INF_B\": 46, \"ALL_INF\": 191, \"ALL_INF2\": 6914.0, \"TITLE\": \"No Report\", \"pct_positive\": 2.69}, {\"Country\": \"United States of America\", \"WHOREGION\": \"Region of the Americas of WHO\", \"FLUREGION\": \"North America\", \"Year\": 2017, \"Week\": 32, \"SDATE\": \"2017-08-07\", \"EDATE\": \"2017-08-13\", \"SPEC_RECEIVED_NB\": 7266, \"SPEC_PROCESSED_NB\": 7266, \"AH1\": 0.0, \"AH1N12009\": 6, \"AH3\": 42, \"AH5\": null, \"ANOTSUBTYPED\": 77, \"INF_A\": 125, \"BYAMAGATA\": 20, \"BVICTORIA\": 0, \"BNOTDETERMINED\": 62, \"INF_B\": 82, \"ALL_INF\": 207, \"ALL_INF2\": 7058.0, \"TITLE\": \"No Report\", \"pct_positive\": 2.85}, {\"Country\": \"United States of America\", \"WHOREGION\": \"Region of the Americas of WHO\", \"FLUREGION\": \"North America\", \"Year\": 2017, \"Week\": 33, \"SDATE\": \"2017-08-14\", \"EDATE\": \"2017-08-20\", \"SPEC_RECEIVED_NB\": 7949, \"SPEC_PROCESSED_NB\": 7949, \"AH1\": 0.0, \"AH1N12009\": 5, \"AH3\": 32, \"AH5\": null, \"ANOTSUBTYPED\": 65, \"INF_A\": 102, \"BYAMAGATA\": 9, \"BVICTORIA\": 0, \"BNOTDETERMINED\": 41, \"INF_B\": 50, \"ALL_INF\": 152, \"ALL_INF2\": 7797.0, \"TITLE\": \"No Report\", \"pct_positive\": 1.91}, {\"Country\": \"United States of America\", \"WHOREGION\": \"Region of the Americas of WHO\", \"FLUREGION\": \"North America\", \"Year\": 2017, \"Week\": 34, \"SDATE\": \"2017-08-21\", \"EDATE\": \"2017-08-27\", \"SPEC_RECEIVED_NB\": 8570, \"SPEC_PROCESSED_NB\": 8570, \"AH1\": 0.0, \"AH1N12009\": 6, \"AH3\": 54, \"AH5\": null, \"ANOTSUBTYPED\": 82, \"INF_A\": 142, \"BYAMAGATA\": 9, \"BVICTORIA\": 1, \"BNOTDETERMINED\": 47, \"INF_B\": 57, \"ALL_INF\": 199, \"ALL_INF2\": 8371.0, \"TITLE\": \"No Report\", \"pct_positive\": 2.32}, {\"Country\": \"United States of America\", \"WHOREGION\": \"Region of the Americas of WHO\", \"FLUREGION\": \"North America\", \"Year\": 2017, \"Week\": 35, \"SDATE\": \"2017-08-28\", \"EDATE\": \"2017-09-03\", \"SPEC_RECEIVED_NB\": 9890, \"SPEC_PROCESSED_NB\": 9890, \"AH1\": 0.0, \"AH1N12009\": 18, \"AH3\": 64, \"AH5\": null, \"ANOTSUBTYPED\": 121, \"INF_A\": 203, \"BYAMAGATA\": 0, \"BVICTORIA\": 0, \"BNOTDETERMINED\": 69, \"INF_B\": 69, \"ALL_INF\": 272, \"ALL_INF2\": 9618.0, \"TITLE\": \"No Report\", \"pct_positive\": 2.75}, {\"Country\": \"United States of America\", \"WHOREGION\": \"Region of the Americas of WHO\", \"FLUREGION\": \"North America\", \"Year\": 2017, \"Week\": 36, \"SDATE\": \"2017-09-04\", \"EDATE\": \"2017-09-10\", \"SPEC_RECEIVED_NB\": 10850, \"SPEC_PROCESSED_NB\": 10850, \"AH1\": 0.0, \"AH1N12009\": 12, \"AH3\": 105, \"AH5\": null, \"ANOTSUBTYPED\": 130, \"INF_A\": 247, \"BYAMAGATA\": 13, \"BVICTORIA\": 0, \"BNOTDETERMINED\": 71, \"INF_B\": 84, \"ALL_INF\": 331, \"ALL_INF2\": 10519.0, \"TITLE\": \"No Report\", \"pct_positive\": 3.05}, {\"Country\": \"United States of America\", \"WHOREGION\": \"Region of the Americas of WHO\", \"FLUREGION\": \"North America\", \"Year\": 2017, \"Week\": 37, \"SDATE\": \"2017-09-11\", \"EDATE\": \"2017-09-17\", \"SPEC_RECEIVED_NB\": 12321, \"SPEC_PROCESSED_NB\": 12321, \"AH1\": 0.0, \"AH1N12009\": 8, \"AH3\": 109, \"AH5\": null, \"ANOTSUBTYPED\": 148, \"INF_A\": 265, \"BYAMAGATA\": 17, \"BVICTORIA\": 2, \"BNOTDETERMINED\": 86, \"INF_B\": 105, \"ALL_INF\": 370, \"ALL_INF2\": 11951.0, \"TITLE\": \"No Report\", \"pct_positive\": 3.0}, {\"Country\": \"United States of America\", \"WHOREGION\": \"Region of the Americas of WHO\", \"FLUREGION\": \"North America\", \"Year\": 2017, \"Week\": 38, \"SDATE\": \"2017-09-18\", \"EDATE\": \"2017-09-24\", \"SPEC_RECEIVED_NB\": 13529, \"SPEC_PROCESSED_NB\": 13529, \"AH1\": 0.0, \"AH1N12009\": 2, \"AH3\": 101, \"AH5\": null, \"ANOTSUBTYPED\": 140, \"INF_A\": 243, \"BYAMAGATA\": 18, \"BVICTORIA\": 1, \"BNOTDETERMINED\": 85, \"INF_B\": 104, \"ALL_INF\": 347, \"ALL_INF2\": 13165.0, \"TITLE\": \"No Report\", \"pct_positive\": 2.56}, {\"Country\": \"United States of America\", \"WHOREGION\": \"Region of the Americas of WHO\", \"FLUREGION\": \"North America\", \"Year\": 2017, \"Week\": 39, \"SDATE\": \"2017-09-25\", \"EDATE\": \"2017-10-01\", \"SPEC_RECEIVED_NB\": 14583, \"SPEC_PROCESSED_NB\": 14583, \"AH1\": 0.0, \"AH1N12009\": 10, \"AH3\": 119, \"AH5\": null, \"ANOTSUBTYPED\": 156, \"INF_A\": 285, \"BYAMAGATA\": 10, \"BVICTORIA\": 0, \"BNOTDETERMINED\": 80, \"INF_B\": 90, \"ALL_INF\": 375, \"ALL_INF2\": 14184.0, \"TITLE\": \"No Report\", \"pct_positive\": 2.57}, {\"Country\": \"United States of America\", \"WHOREGION\": \"Region of the Americas of WHO\", \"FLUREGION\": \"North America\", \"Year\": 2017, \"Week\": 40, \"SDATE\": \"2017-10-02\", \"EDATE\": \"2017-10-08\", \"SPEC_RECEIVED_NB\": 16573, \"SPEC_PROCESSED_NB\": 16573, \"AH1\": 0.0, \"AH1N12009\": 13, \"AH3\": 123, \"AH5\": null, \"ANOTSUBTYPED\": 233, \"INF_A\": 369, \"BYAMAGATA\": 16, \"BVICTORIA\": 0, \"BNOTDETERMINED\": 117, \"INF_B\": 133, \"ALL_INF\": 502, \"ALL_INF2\": 16070.0, \"TITLE\": \"No Report\", \"pct_positive\": 3.03}, {\"Country\": \"United States of America\", \"WHOREGION\": \"Region of the Americas of WHO\", \"FLUREGION\": \"North America\", \"Year\": 2017, \"Week\": 41, \"SDATE\": \"2017-10-09\", \"EDATE\": \"2017-10-15\", \"SPEC_RECEIVED_NB\": 17636, \"SPEC_PROCESSED_NB\": 17636, \"AH1\": 0.0, \"AH1N12009\": 14, \"AH3\": 143, \"AH5\": null, \"ANOTSUBTYPED\": 256, \"INF_A\": 413, \"BYAMAGATA\": 13, \"BVICTORIA\": 4, \"BNOTDETERMINED\": 104, \"INF_B\": 121, \"ALL_INF\": 534, \"ALL_INF2\": 17102.0, \"TITLE\": \"No Report\", \"pct_positive\": 3.03}, {\"Country\": \"United States of America\", \"WHOREGION\": \"Region of the Americas of WHO\", \"FLUREGION\": \"North America\", \"Year\": 2017, \"Week\": 42, \"SDATE\": \"2017-10-16\", \"EDATE\": \"2017-10-22\", \"SPEC_RECEIVED_NB\": 19061, \"SPEC_PROCESSED_NB\": 19061, \"AH1\": 0.0, \"AH1N12009\": 14, \"AH3\": 173, \"AH5\": null, \"ANOTSUBTYPED\": 278, \"INF_A\": 465, \"BYAMAGATA\": 11, \"BVICTORIA\": 1, \"BNOTDETERMINED\": 112, \"INF_B\": 124, \"ALL_INF\": 589, \"ALL_INF2\": 18472.0, \"TITLE\": \"No Report\", \"pct_positive\": 3.09}, {\"Country\": \"United States of America\", \"WHOREGION\": \"Region of the Americas of WHO\", \"FLUREGION\": \"North America\", \"Year\": 2017, \"Week\": 43, \"SDATE\": \"2017-10-23\", \"EDATE\": \"2017-10-29\", \"SPEC_RECEIVED_NB\": 19864, \"SPEC_PROCESSED_NB\": 19864, \"AH1\": 0.0, \"AH1N12009\": 26, \"AH3\": 180, \"AH5\": null, \"ANOTSUBTYPED\": 364, \"INF_A\": 570, \"BYAMAGATA\": 21, \"BVICTORIA\": 1, \"BNOTDETERMINED\": 148, \"INF_B\": 170, \"ALL_INF\": 740, \"ALL_INF2\": 19124.0, \"TITLE\": \"No Report\", \"pct_positive\": 3.73}, {\"Country\": \"United States of America\", \"WHOREGION\": \"Region of the Americas of WHO\", \"FLUREGION\": \"North America\", \"Year\": 2017, \"Week\": 44, \"SDATE\": \"2017-10-30\", \"EDATE\": \"2017-11-05\", \"SPEC_RECEIVED_NB\": 21606, \"SPEC_PROCESSED_NB\": 21606, \"AH1\": 0.0, \"AH1N12009\": 24, \"AH3\": 249, \"AH5\": null, \"ANOTSUBTYPED\": 518, \"INF_A\": 791, \"BYAMAGATA\": 36, \"BVICTORIA\": 3, \"BNOTDETERMINED\": 236, \"INF_B\": 275, \"ALL_INF\": 1066, \"ALL_INF2\": 20540.0, \"TITLE\": \"No Report\", \"pct_positive\": 4.93}, {\"Country\": \"United States of America\", \"WHOREGION\": \"Region of the Americas of WHO\", \"FLUREGION\": \"North America\", \"Year\": 2017, \"Week\": 45, \"SDATE\": \"2017-11-06\", \"EDATE\": \"2017-11-12\", \"SPEC_RECEIVED_NB\": 23440, \"SPEC_PROCESSED_NB\": 23440, \"AH1\": 0.0, \"AH1N12009\": 29, \"AH3\": 315, \"AH5\": null, \"ANOTSUBTYPED\": 690, \"INF_A\": 1034, \"BYAMAGATA\": 33, \"BVICTORIA\": 4, \"BNOTDETERMINED\": 252, \"INF_B\": 289, \"ALL_INF\": 1323, \"ALL_INF2\": 22117.0, \"TITLE\": \"No Report\", \"pct_positive\": 5.64}, {\"Country\": \"United States of America\", \"WHOREGION\": \"Region of the Americas of WHO\", \"FLUREGION\": \"North America\", \"Year\": 2017, \"Week\": 46, \"SDATE\": \"2017-11-13\", \"EDATE\": \"2017-11-19\", \"SPEC_RECEIVED_NB\": 25670, \"SPEC_PROCESSED_NB\": 25670, \"AH1\": 0.0, \"AH1N12009\": 56, \"AH3\": 405, \"AH5\": null, \"ANOTSUBTYPED\": 941, \"INF_A\": 1402, \"BYAMAGATA\": 61, \"BVICTORIA\": 5, \"BNOTDETERMINED\": 351, \"INF_B\": 417, \"ALL_INF\": 1819, \"ALL_INF2\": 23851.0, \"TITLE\": \"No Report\", \"pct_positive\": 7.09}, {\"Country\": \"United States of America\", \"WHOREGION\": \"Region of the Americas of WHO\", \"FLUREGION\": \"North America\", \"Year\": 2017, \"Week\": 47, \"SDATE\": \"2017-11-20\", \"EDATE\": \"2017-11-26\", \"SPEC_RECEIVED_NB\": 25441, \"SPEC_PROCESSED_NB\": 25441, \"AH1\": 0.0, \"AH1N12009\": 41, \"AH3\": 490, \"AH5\": null, \"ANOTSUBTYPED\": 1338, \"INF_A\": 1869, \"BYAMAGATA\": 60, \"BVICTORIA\": 5, \"BNOTDETERMINED\": 363, \"INF_B\": 428, \"ALL_INF\": 2297, \"ALL_INF2\": 23144.0, \"TITLE\": \"No Report\", \"pct_positive\": 9.03}, {\"Country\": \"United States of America\", \"WHOREGION\": \"Region of the Americas of WHO\", \"FLUREGION\": \"North America\", \"Year\": 2017, \"Week\": 48, \"SDATE\": \"2017-11-27\", \"EDATE\": \"2017-12-03\", \"SPEC_RECEIVED_NB\": 29582, \"SPEC_PROCESSED_NB\": 29582, \"AH1\": 0.0, \"AH1N12009\": 61, \"AH3\": 787, \"AH5\": null, \"ANOTSUBTYPED\": 1563, \"INF_A\": 2411, \"BYAMAGATA\": 108, \"BVICTORIA\": 8, \"BNOTDETERMINED\": 456, \"INF_B\": 572, \"ALL_INF\": 2983, \"ALL_INF2\": 26598.0, \"TITLE\": \"No Report\", \"pct_positive\": 10.08}, {\"Country\": \"United States of America\", \"WHOREGION\": \"Region of the Americas of WHO\", \"FLUREGION\": \"North America\", \"Year\": 2017, \"Week\": 49, \"SDATE\": \"2017-12-04\", \"EDATE\": \"2017-12-10\", \"SPEC_RECEIVED_NB\": 33552, \"SPEC_PROCESSED_NB\": 33552, \"AH1\": 0.0, \"AH1N12009\": 72, \"AH3\": 1055, \"AH5\": null, \"ANOTSUBTYPED\": 2483, \"INF_A\": 3610, \"BYAMAGATA\": 103, \"BVICTORIA\": 16, \"BNOTDETERMINED\": 858, \"INF_B\": 977, \"ALL_INF\": 4587, \"ALL_INF2\": 28965.0, \"TITLE\": \"No Report\", \"pct_positive\": 13.67}, {\"Country\": \"United States of America\", \"WHOREGION\": \"Region of the Americas of WHO\", \"FLUREGION\": \"North America\", \"Year\": 2017, \"Week\": 50, \"SDATE\": \"2017-12-11\", \"EDATE\": \"2017-12-17\", \"SPEC_RECEIVED_NB\": 38752, \"SPEC_PROCESSED_NB\": 38752, \"AH1\": 0.0, \"AH1N12009\": 137, \"AH3\": 1515, \"AH5\": null, \"ANOTSUBTYPED\": 4571, \"INF_A\": 6223, \"BYAMAGATA\": 174, \"BVICTORIA\": 36, \"BNOTDETERMINED\": 883, \"INF_B\": 1093, \"ALL_INF\": 7316, \"ALL_INF2\": 31436.0, \"TITLE\": \"No Report\", \"pct_positive\": 18.88}, {\"Country\": \"United States of America\", \"WHOREGION\": \"Region of the Americas of WHO\", \"FLUREGION\": \"North America\", \"Year\": 2017, \"Week\": 51, \"SDATE\": \"2017-12-18\", \"EDATE\": \"2017-12-24\", \"SPEC_RECEIVED_NB\": 52824, \"SPEC_PROCESSED_NB\": 52824, \"AH1\": 0.0, \"AH1N12009\": 240, \"AH3\": 2491, \"AH5\": null, \"ANOTSUBTYPED\": 9256, \"INF_A\": 11987, \"BYAMAGATA\": 258, \"BVICTORIA\": 39, \"BNOTDETERMINED\": 1776, \"INF_B\": 2073, \"ALL_INF\": 14060, \"ALL_INF2\": 38764.0, \"TITLE\": \"No Report\", \"pct_positive\": 26.62}, {\"Country\": \"United States of America\", \"WHOREGION\": \"Region of the Americas of WHO\", \"FLUREGION\": \"North America\", \"Year\": 2017, \"Week\": 52, \"SDATE\": \"2017-12-25\", \"EDATE\": \"2017-12-31\", \"SPEC_RECEIVED_NB\": 60942, \"SPEC_PROCESSED_NB\": 60942, \"AH1\": 0.0, \"AH1N12009\": 279, \"AH3\": 2984, \"AH5\": null, \"ANOTSUBTYPED\": 12031, \"INF_A\": 15294, \"BYAMAGATA\": 372, \"BVICTORIA\": 35, \"BNOTDETERMINED\": 2192, \"INF_B\": 2599, \"ALL_INF\": 17893, \"ALL_INF2\": 43049.0, \"TITLE\": \"No Report\", \"pct_positive\": 29.36}, {\"Country\": \"United States of America\", \"WHOREGION\": \"Region of the Americas of WHO\", \"FLUREGION\": \"North America\", \"Year\": 2018, \"Week\": 1, \"SDATE\": \"2018-01-01\", \"EDATE\": \"2018-01-07\", \"SPEC_RECEIVED_NB\": 67726, \"SPEC_PROCESSED_NB\": 67726, \"AH1\": 0.0, \"AH1N12009\": 320, \"AH3\": 3295, \"AH5\": null, \"ANOTSUBTYPED\": 13057, \"INF_A\": 16672, \"BYAMAGATA\": 463, \"BVICTORIA\": 45, \"BNOTDETERMINED\": 2700, \"INF_B\": 3208, \"ALL_INF\": 19880, \"ALL_INF2\": 47846.0, \"TITLE\": \"No Report\", \"pct_positive\": 29.35}, {\"Country\": \"United States of America\", \"WHOREGION\": \"Region of the Americas of WHO\", \"FLUREGION\": \"North America\", \"Year\": 2018, \"Week\": 2, \"SDATE\": \"2018-01-08\", \"EDATE\": \"2018-01-14\", \"SPEC_RECEIVED_NB\": 75195, \"SPEC_PROCESSED_NB\": 75195, \"AH1\": 0.0, \"AH1N12009\": 393, \"AH3\": 3336, \"AH5\": null, \"ANOTSUBTYPED\": 15219, \"INF_A\": 18948, \"BYAMAGATA\": 534, \"BVICTORIA\": 42, \"BNOTDETERMINED\": 3409, \"INF_B\": 3985, \"ALL_INF\": 22933, \"ALL_INF2\": 52262.0, \"TITLE\": \"No Report\", \"pct_positive\": 30.5}, {\"Country\": \"United States of America\", \"WHOREGION\": \"Region of the Americas of WHO\", \"FLUREGION\": \"North America\", \"Year\": 2018, \"Week\": 3, \"SDATE\": \"2018-01-15\", \"EDATE\": \"2018-01-21\", \"SPEC_RECEIVED_NB\": 75417, \"SPEC_PROCESSED_NB\": 75417, \"AH1\": 0.0, \"AH1N12009\": 406, \"AH3\": 2727, \"AH5\": null, \"ANOTSUBTYPED\": 14832, \"INF_A\": 17965, \"BYAMAGATA\": 536, \"BVICTORIA\": 47, \"BNOTDETERMINED\": 4094, \"INF_B\": 4677, \"ALL_INF\": 22642, \"ALL_INF2\": 52775.0, \"TITLE\": \"No Report\", \"pct_positive\": 30.02}, {\"Country\": \"United States of America\", \"WHOREGION\": \"Region of the Americas of WHO\", \"FLUREGION\": \"North America\", \"Year\": 2018, \"Week\": 4, \"SDATE\": \"2018-01-22\", \"EDATE\": \"2018-01-28\", \"SPEC_RECEIVED_NB\": 87245, \"SPEC_PROCESSED_NB\": 87245, \"AH1\": 0.0, \"AH1N12009\": 540, \"AH3\": 2749, \"AH5\": null, \"ANOTSUBTYPED\": 16672, \"INF_A\": 19961, \"BYAMAGATA\": 718, \"BVICTORIA\": 58, \"BNOTDETERMINED\": 5581, \"INF_B\": 6357, \"ALL_INF\": 26318, \"ALL_INF2\": 60927.0, \"TITLE\": \"No Report\", \"pct_positive\": 30.17}, {\"Country\": \"United States of America\", \"WHOREGION\": \"Region of the Americas of WHO\", \"FLUREGION\": \"North America\", \"Year\": 2018, \"Week\": 5, \"SDATE\": \"2018-01-29\", \"EDATE\": \"2018-02-04\", \"SPEC_RECEIVED_NB\": 88743, \"SPEC_PROCESSED_NB\": 88743, \"AH1\": 0.0, \"AH1N12009\": 542, \"AH3\": 2494, \"AH5\": null, \"ANOTSUBTYPED\": 15234, \"INF_A\": 18270, \"BYAMAGATA\": 804, \"BVICTORIA\": 91, \"BNOTDETERMINED\": 7221, \"INF_B\": 8116, \"ALL_INF\": 26386, \"ALL_INF2\": 62357.0, \"TITLE\": \"No Report\", \"pct_positive\": 29.73}, {\"Country\": \"United States of America\", \"WHOREGION\": \"Region of the Americas of WHO\", \"FLUREGION\": \"North America\", \"Year\": 2018, \"Week\": 6, \"SDATE\": \"2018-02-05\", \"EDATE\": \"2018-02-11\", \"SPEC_RECEIVED_NB\": 87883, \"SPEC_PROCESSED_NB\": 87883, \"AH1\": 0.0, \"AH1N12009\": 544, \"AH3\": 2040, \"AH5\": null, \"ANOTSUBTYPED\": 14148, \"INF_A\": 16732, \"BYAMAGATA\": 931, \"BVICTORIA\": 113, \"BNOTDETERMINED\": 8187, \"INF_B\": 9231, \"ALL_INF\": 25963, \"ALL_INF2\": 61920.0, \"TITLE\": \"No Report\", \"pct_positive\": 29.54}, {\"Country\": \"United States of America\", \"WHOREGION\": \"Region of the Americas of WHO\", \"FLUREGION\": \"North America\", \"Year\": 2018, \"Week\": 7, \"SDATE\": \"2018-02-12\", \"EDATE\": \"2018-02-18\", \"SPEC_RECEIVED_NB\": 80481, \"SPEC_PROCESSED_NB\": 80481, \"AH1\": 0.0, \"AH1N12009\": 495, \"AH3\": 1511, \"AH5\": null, \"ANOTSUBTYPED\": 11395, \"INF_A\": 13401, \"BYAMAGATA\": 931, \"BVICTORIA\": 115, \"BNOTDETERMINED\": 8461, \"INF_B\": 9507, \"ALL_INF\": 22908, \"ALL_INF2\": 57573.0, \"TITLE\": \"No Report\", \"pct_positive\": 28.46}, {\"Country\": \"United States of America\", \"WHOREGION\": \"Region of the Americas of WHO\", \"FLUREGION\": \"North America\", \"Year\": 2018, \"Week\": 8, \"SDATE\": \"2018-02-19\", \"EDATE\": \"2018-02-25\", \"SPEC_RECEIVED_NB\": 64580, \"SPEC_PROCESSED_NB\": 64580, \"AH1\": 0.0, \"AH1N12009\": 306, \"AH3\": 1073, \"AH5\": null, \"ANOTSUBTYPED\": 7196, \"INF_A\": 8575, \"BYAMAGATA\": 891, \"BVICTORIA\": 116, \"BNOTDETERMINED\": 6645, \"INF_B\": 7652, \"ALL_INF\": 16227, \"ALL_INF2\": 48353.0, \"TITLE\": \"No Report\", \"pct_positive\": 25.13}, {\"Country\": \"United States of America\", \"WHOREGION\": \"Region of the Americas of WHO\", \"FLUREGION\": \"North America\", \"Year\": 2018, \"Week\": 9, \"SDATE\": \"2018-02-26\", \"EDATE\": \"2018-03-04\", \"SPEC_RECEIVED_NB\": 52069, \"SPEC_PROCESSED_NB\": 52069, \"AH1\": 0.0, \"AH1N12009\": 246, \"AH3\": 588, \"AH5\": null, \"ANOTSUBTYPED\": 4417, \"INF_A\": 5251, \"BYAMAGATA\": 699, \"BVICTORIA\": 88, \"BNOTDETERMINED\": 4763, \"INF_B\": 5550, \"ALL_INF\": 10801, \"ALL_INF2\": 41268.0, \"TITLE\": \"No Report\", \"pct_positive\": 20.74}, {\"Country\": \"United States of America\", \"WHOREGION\": \"Region of the Americas of WHO\", \"FLUREGION\": \"North America\", \"Year\": 2018, \"Week\": 10, \"SDATE\": \"2018-03-05\", \"EDATE\": \"2018-03-11\", \"SPEC_RECEIVED_NB\": 44035, \"SPEC_PROCESSED_NB\": 44035, \"AH1\": 0.0, \"AH1N12009\": 144, \"AH3\": 411, \"AH5\": null, \"ANOTSUBTYPED\": 2922, \"INF_A\": 3477, \"BYAMAGATA\": 646, \"BVICTORIA\": 88, \"BNOTDETERMINED\": 3706, \"INF_B\": 4440, \"ALL_INF\": 7917, \"ALL_INF2\": 36118.0, \"TITLE\": \"No Report\", \"pct_positive\": 17.98}, {\"Country\": \"United States of America\", \"WHOREGION\": \"Region of the Americas of WHO\", \"FLUREGION\": \"North America\", \"Year\": 2018, \"Week\": 11, \"SDATE\": \"2018-03-12\", \"EDATE\": \"2018-03-18\", \"SPEC_RECEIVED_NB\": 39323, \"SPEC_PROCESSED_NB\": 39323, \"AH1\": 0.0, \"AH1N12009\": 188, \"AH3\": 277, \"AH5\": null, \"ANOTSUBTYPED\": 2374, \"INF_A\": 2839, \"BYAMAGATA\": 542, \"BVICTORIA\": 70, \"BNOTDETERMINED\": 3558, \"INF_B\": 4170, \"ALL_INF\": 7009, \"ALL_INF2\": 32314.0, \"TITLE\": \"No Report\", \"pct_positive\": 17.82}, {\"Country\": \"United States of America\", \"WHOREGION\": \"Region of the Americas of WHO\", \"FLUREGION\": \"North America\", \"Year\": 2018, \"Week\": 12, \"SDATE\": \"2018-03-19\", \"EDATE\": \"2018-03-25\", \"SPEC_RECEIVED_NB\": 35690, \"SPEC_PROCESSED_NB\": 35690, \"AH1\": 0.0, \"AH1N12009\": 120, \"AH3\": 234, \"AH5\": null, \"ANOTSUBTYPED\": 2033, \"INF_A\": 2387, \"BYAMAGATA\": 467, \"BVICTORIA\": 52, \"BNOTDETERMINED\": 3232, \"INF_B\": 3751, \"ALL_INF\": 6138, \"ALL_INF2\": 29552.0, \"TITLE\": \"No Report\", \"pct_positive\": 17.2}, {\"Country\": \"United States of America\", \"WHOREGION\": \"Region of the Americas of WHO\", \"FLUREGION\": \"North America\", \"Year\": 2018, \"Week\": 13, \"SDATE\": \"2018-03-26\", \"EDATE\": \"2018-04-01\", \"SPEC_RECEIVED_NB\": 32633, \"SPEC_PROCESSED_NB\": 32633, \"AH1\": 0.0, \"AH1N12009\": 132, \"AH3\": 220, \"AH5\": null, \"ANOTSUBTYPED\": 1716, \"INF_A\": 2068, \"BYAMAGATA\": 455, \"BVICTORIA\": 62, \"BNOTDETERMINED\": 3034, \"INF_B\": 3551, \"ALL_INF\": 5619, \"ALL_INF2\": 27014.0, \"TITLE\": \"No Report\", \"pct_positive\": 17.22}, {\"Country\": \"United States of America\", \"WHOREGION\": \"Region of the Americas of WHO\", \"FLUREGION\": \"North America\", \"Year\": 2018, \"Week\": 14, \"SDATE\": \"2018-04-02\", \"EDATE\": \"2018-04-08\", \"SPEC_RECEIVED_NB\": 29245, \"SPEC_PROCESSED_NB\": 29245, \"AH1\": 0.0, \"AH1N12009\": 120, \"AH3\": 163, \"AH5\": null, \"ANOTSUBTYPED\": 1139, \"INF_A\": 1422, \"BYAMAGATA\": 405, \"BVICTORIA\": 54, \"BNOTDETERMINED\": 2409, \"INF_B\": 2868, \"ALL_INF\": 4290, \"ALL_INF2\": 24955.0, \"TITLE\": \"No Report\", \"pct_positive\": 14.67}, {\"Country\": \"United States of America\", \"WHOREGION\": \"Region of the Americas of WHO\", \"FLUREGION\": \"North America\", \"Year\": 2018, \"Week\": 15, \"SDATE\": \"2018-04-09\", \"EDATE\": \"2018-04-15\", \"SPEC_RECEIVED_NB\": 26533, \"SPEC_PROCESSED_NB\": 26533, \"AH1\": 0.0, \"AH1N12009\": 101, \"AH3\": 102, \"AH5\": null, \"ANOTSUBTYPED\": 903, \"INF_A\": 1106, \"BYAMAGATA\": 297, \"BVICTORIA\": 40, \"BNOTDETERMINED\": 1971, \"INF_B\": 2308, \"ALL_INF\": 3414, \"ALL_INF2\": 23119.0, \"TITLE\": \"No Report\", \"pct_positive\": 12.87}, {\"Country\": \"United States of America\", \"WHOREGION\": \"Region of the Americas of WHO\", \"FLUREGION\": \"North America\", \"Year\": 2018, \"Week\": 16, \"SDATE\": \"2018-04-16\", \"EDATE\": \"2018-04-22\", \"SPEC_RECEIVED_NB\": 22657, \"SPEC_PROCESSED_NB\": 22657, \"AH1\": 0.0, \"AH1N12009\": 51, \"AH3\": 86, \"AH5\": null, \"ANOTSUBTYPED\": 595, \"INF_A\": 732, \"BYAMAGATA\": 211, \"BVICTORIA\": 43, \"BNOTDETERMINED\": 1469, \"INF_B\": 1723, \"ALL_INF\": 2455, \"ALL_INF2\": 20202.0, \"TITLE\": \"No Report\", \"pct_positive\": 10.84}, {\"Country\": \"United States of America\", \"WHOREGION\": \"Region of the Americas of WHO\", \"FLUREGION\": \"North America\", \"Year\": 2018, \"Week\": 17, \"SDATE\": \"2018-04-23\", \"EDATE\": \"2018-04-29\", \"SPEC_RECEIVED_NB\": 20356, \"SPEC_PROCESSED_NB\": 20356, \"AH1\": 0.0, \"AH1N12009\": 56, \"AH3\": 53, \"AH5\": null, \"ANOTSUBTYPED\": 473, \"INF_A\": 582, \"BYAMAGATA\": 138, \"BVICTORIA\": 28, \"BNOTDETERMINED\": 1127, \"INF_B\": 1293, \"ALL_INF\": 1875, \"ALL_INF2\": 18481.0, \"TITLE\": \"No Report\", \"pct_positive\": 9.21}, {\"Country\": \"United States of America\", \"WHOREGION\": \"Region of the Americas of WHO\", \"FLUREGION\": \"North America\", \"Year\": 2018, \"Week\": 18, \"SDATE\": \"2018-04-30\", \"EDATE\": \"2018-05-06\", \"SPEC_RECEIVED_NB\": 17926, \"SPEC_PROCESSED_NB\": 17926, \"AH1\": 0.0, \"AH1N12009\": 40, \"AH3\": 31, \"AH5\": null, \"ANOTSUBTYPED\": 348, \"INF_A\": 419, \"BYAMAGATA\": 137, \"BVICTORIA\": 14, \"BNOTDETERMINED\": 747, \"INF_B\": 898, \"ALL_INF\": 1317, \"ALL_INF2\": 16609.0, \"TITLE\": \"No Report\", \"pct_positive\": 7.35}, {\"Country\": \"United States of America\", \"WHOREGION\": \"Region of the Americas of WHO\", \"FLUREGION\": \"North America\", \"Year\": 2018, \"Week\": 19, \"SDATE\": \"2018-05-07\", \"EDATE\": \"2018-05-13\", \"SPEC_RECEIVED_NB\": 15577, \"SPEC_PROCESSED_NB\": 15577, \"AH1\": 0.0, \"AH1N12009\": 16, \"AH3\": 20, \"AH5\": null, \"ANOTSUBTYPED\": 191, \"INF_A\": 227, \"BYAMAGATA\": 68, \"BVICTORIA\": 6, \"BNOTDETERMINED\": 475, \"INF_B\": 549, \"ALL_INF\": 776, \"ALL_INF2\": 14801.0, \"TITLE\": \"No Report\", \"pct_positive\": 4.98}, {\"Country\": \"United States of America\", \"WHOREGION\": \"Region of the Americas of WHO\", \"FLUREGION\": \"North America\", \"Year\": 2018, \"Week\": 20, \"SDATE\": \"2018-05-14\", \"EDATE\": \"2018-05-20\", \"SPEC_RECEIVED_NB\": 13477, \"SPEC_PROCESSED_NB\": 13477, \"AH1\": 0.0, \"AH1N12009\": 16, \"AH3\": 10, \"AH5\": null, \"ANOTSUBTYPED\": 176, \"INF_A\": 202, \"BYAMAGATA\": 27, \"BVICTORIA\": 6, \"BNOTDETERMINED\": 246, \"INF_B\": 279, \"ALL_INF\": 481, \"ALL_INF2\": 12996.0, \"TITLE\": \"No Report\", \"pct_positive\": 3.57}, {\"Country\": \"United States of America\", \"WHOREGION\": \"Region of the Americas of WHO\", \"FLUREGION\": \"North America\", \"Year\": 2018, \"Week\": 21, \"SDATE\": \"2018-05-21\", \"EDATE\": \"2018-05-27\", \"SPEC_RECEIVED_NB\": 12143, \"SPEC_PROCESSED_NB\": 12143, \"AH1\": 0.0, \"AH1N12009\": 18, \"AH3\": 6, \"AH5\": null, \"ANOTSUBTYPED\": 119, \"INF_A\": 143, \"BYAMAGATA\": 20, \"BVICTORIA\": 4, \"BNOTDETERMINED\": 171, \"INF_B\": 195, \"ALL_INF\": 338, \"ALL_INF2\": 11805.0, \"TITLE\": \"No Report\", \"pct_positive\": 2.78}, {\"Country\": \"United States of America\", \"WHOREGION\": \"Region of the Americas of WHO\", \"FLUREGION\": \"North America\", \"Year\": 2018, \"Week\": 22, \"SDATE\": \"2018-05-28\", \"EDATE\": \"2018-06-03\", \"SPEC_RECEIVED_NB\": 11054, \"SPEC_PROCESSED_NB\": 11054, \"AH1\": 0.0, \"AH1N12009\": 8, \"AH3\": 5, \"AH5\": null, \"ANOTSUBTYPED\": 76, \"INF_A\": 89, \"BYAMAGATA\": 11, \"BVICTORIA\": 2, \"BNOTDETERMINED\": 91, \"INF_B\": 104, \"ALL_INF\": 193, \"ALL_INF2\": 10861.0, \"TITLE\": \"No Report\", \"pct_positive\": 1.75}, {\"Country\": \"United States of America\", \"WHOREGION\": \"Region of the Americas of WHO\", \"FLUREGION\": \"North America\", \"Year\": 2018, \"Week\": 23, \"SDATE\": \"2018-06-04\", \"EDATE\": \"2018-06-10\", \"SPEC_RECEIVED_NB\": 9989, \"SPEC_PROCESSED_NB\": 9989, \"AH1\": 0.0, \"AH1N12009\": 7, \"AH3\": 3, \"AH5\": null, \"ANOTSUBTYPED\": 73, \"INF_A\": 83, \"BYAMAGATA\": 9, \"BVICTORIA\": 3, \"BNOTDETERMINED\": 83, \"INF_B\": 95, \"ALL_INF\": 178, \"ALL_INF2\": 9811.0, \"TITLE\": \"No Report\", \"pct_positive\": 1.78}, {\"Country\": \"United States of America\", \"WHOREGION\": \"Region of the Americas of WHO\", \"FLUREGION\": \"North America\", \"Year\": 2018, \"Week\": 24, \"SDATE\": \"2018-06-11\", \"EDATE\": \"2018-06-17\", \"SPEC_RECEIVED_NB\": 9212, \"SPEC_PROCESSED_NB\": 9212, \"AH1\": 0.0, \"AH1N12009\": 6, \"AH3\": 3, \"AH5\": null, \"ANOTSUBTYPED\": 51, \"INF_A\": 60, \"BYAMAGATA\": 8, \"BVICTORIA\": 3, \"BNOTDETERMINED\": 67, \"INF_B\": 78, \"ALL_INF\": 138, \"ALL_INF2\": 9074.0, \"TITLE\": \"No Report\", \"pct_positive\": 1.5}, {\"Country\": \"United States of America\", \"WHOREGION\": \"Region of the Americas of WHO\", \"FLUREGION\": \"North America\", \"Year\": 2018, \"Week\": 25, \"SDATE\": \"2018-06-18\", \"EDATE\": \"2018-06-24\", \"SPEC_RECEIVED_NB\": 8715, \"SPEC_PROCESSED_NB\": 8715, \"AH1\": 0.0, \"AH1N12009\": 1, \"AH3\": 3, \"AH5\": null, \"ANOTSUBTYPED\": 49, \"INF_A\": 53, \"BYAMAGATA\": 6, \"BVICTORIA\": 3, \"BNOTDETERMINED\": 38, \"INF_B\": 47, \"ALL_INF\": 100, \"ALL_INF2\": 8614.0, \"TITLE\": \"No Report\", \"pct_positive\": 1.15}, {\"Country\": \"United States of America\", \"WHOREGION\": \"Region of the Americas of WHO\", \"FLUREGION\": \"North America\", \"Year\": 2018, \"Week\": 26, \"SDATE\": \"2018-06-25\", \"EDATE\": \"2018-07-01\", \"SPEC_RECEIVED_NB\": 7920, \"SPEC_PROCESSED_NB\": 7920, \"AH1\": 0.0, \"AH1N12009\": 2, \"AH3\": 6, \"AH5\": null, \"ANOTSUBTYPED\": 57, \"INF_A\": 65, \"BYAMAGATA\": 1, \"BVICTORIA\": 0, \"BNOTDETERMINED\": 29, \"INF_B\": 30, \"ALL_INF\": 95, \"ALL_INF2\": 7825.0, \"TITLE\": \"No Report\", \"pct_positive\": 1.2}, {\"Country\": \"United States of America\", \"WHOREGION\": \"Region of the Americas of WHO\", \"FLUREGION\": \"North America\", \"Year\": 2018, \"Week\": 27, \"SDATE\": \"2018-07-02\", \"EDATE\": \"2018-07-08\", \"SPEC_RECEIVED_NB\": 7010, \"SPEC_PROCESSED_NB\": 7010, \"AH1\": 0.0, \"AH1N12009\": 9, \"AH3\": 5, \"AH5\": null, \"ANOTSUBTYPED\": 44, \"INF_A\": 58, \"BYAMAGATA\": 6, \"BVICTORIA\": 0, \"BNOTDETERMINED\": 26, \"INF_B\": 32, \"ALL_INF\": 90, \"ALL_INF2\": 6920.0, \"TITLE\": \"No Report\", \"pct_positive\": 1.28}, {\"Country\": \"United States of America\", \"WHOREGION\": \"Region of the Americas of WHO\", \"FLUREGION\": \"North America\", \"Year\": 2018, \"Week\": 28, \"SDATE\": \"2018-07-09\", \"EDATE\": \"2018-07-15\", \"SPEC_RECEIVED_NB\": 7162, \"SPEC_PROCESSED_NB\": 7162, \"AH1\": 0.0, \"AH1N12009\": 8, \"AH3\": 9, \"AH5\": null, \"ANOTSUBTYPED\": 51, \"INF_A\": 68, \"BYAMAGATA\": 3, \"BVICTORIA\": 2, \"BNOTDETERMINED\": 14, \"INF_B\": 19, \"ALL_INF\": 87, \"ALL_INF2\": 7075.0, \"TITLE\": \"No Report\", \"pct_positive\": 1.21}, {\"Country\": \"United States of America\", \"WHOREGION\": \"Region of the Americas of WHO\", \"FLUREGION\": \"North America\", \"Year\": 2018, \"Week\": 29, \"SDATE\": \"2018-07-16\", \"EDATE\": \"2018-07-22\", \"SPEC_RECEIVED_NB\": 7009, \"SPEC_PROCESSED_NB\": 7009, \"AH1\": 0.0, \"AH1N12009\": 15, \"AH3\": 5, \"AH5\": null, \"ANOTSUBTYPED\": 57, \"INF_A\": 77, \"BYAMAGATA\": 4, \"BVICTORIA\": 2, \"BNOTDETERMINED\": 18, \"INF_B\": 24, \"ALL_INF\": 101, \"ALL_INF2\": 6908.0, \"TITLE\": \"No Report\", \"pct_positive\": 1.44}, {\"Country\": \"United States of America\", \"WHOREGION\": \"Region of the Americas of WHO\", \"FLUREGION\": \"North America\", \"Year\": 2018, \"Week\": 30, \"SDATE\": \"2018-07-23\", \"EDATE\": \"2018-07-29\", \"SPEC_RECEIVED_NB\": 6976, \"SPEC_PROCESSED_NB\": 6976, \"AH1\": 0.0, \"AH1N12009\": 9, \"AH3\": 3, \"AH5\": null, \"ANOTSUBTYPED\": 52, \"INF_A\": 64, \"BYAMAGATA\": 0, \"BVICTORIA\": 2, \"BNOTDETERMINED\": 19, \"INF_B\": 21, \"ALL_INF\": 85, \"ALL_INF2\": 6891.0, \"TITLE\": \"No Report\", \"pct_positive\": 1.22}, {\"Country\": \"United States of America\", \"WHOREGION\": \"Region of the Americas of WHO\", \"FLUREGION\": \"North America\", \"Year\": 2018, \"Week\": 31, \"SDATE\": \"2018-07-30\", \"EDATE\": \"2018-08-05\", \"SPEC_RECEIVED_NB\": 6477, \"SPEC_PROCESSED_NB\": 6477, \"AH1\": 0.0, \"AH1N12009\": 7, \"AH3\": 10, \"AH5\": null, \"ANOTSUBTYPED\": 46, \"INF_A\": 63, \"BYAMAGATA\": 1, \"BVICTORIA\": 0, \"BNOTDETERMINED\": 17, \"INF_B\": 18, \"ALL_INF\": 81, \"ALL_INF2\": 6396.0, \"TITLE\": \"No Report\", \"pct_positive\": 1.25}, {\"Country\": \"United States of America\", \"WHOREGION\": \"Region of the Americas of WHO\", \"FLUREGION\": \"North America\", \"Year\": 2018, \"Week\": 32, \"SDATE\": \"2018-08-06\", \"EDATE\": \"2018-08-12\", \"SPEC_RECEIVED_NB\": 6954, \"SPEC_PROCESSED_NB\": 6954, \"AH1\": 0.0, \"AH1N12009\": 6, \"AH3\": 8, \"AH5\": null, \"ANOTSUBTYPED\": 48, \"INF_A\": 62, \"BYAMAGATA\": 2, \"BVICTORIA\": 0, \"BNOTDETERMINED\": 23, \"INF_B\": 25, \"ALL_INF\": 87, \"ALL_INF2\": 6867.0, \"TITLE\": \"No Report\", \"pct_positive\": 1.25}, {\"Country\": \"United States of America\", \"WHOREGION\": \"Region of the Americas of WHO\", \"FLUREGION\": \"North America\", \"Year\": 2018, \"Week\": 33, \"SDATE\": \"2018-08-13\", \"EDATE\": \"2018-08-19\", \"SPEC_RECEIVED_NB\": 7246, \"SPEC_PROCESSED_NB\": 7246, \"AH1\": 0.0, \"AH1N12009\": 5, \"AH3\": 9, \"AH5\": null, \"ANOTSUBTYPED\": 42, \"INF_A\": 56, \"BYAMAGATA\": 2, \"BVICTORIA\": 0, \"BNOTDETERMINED\": 19, \"INF_B\": 21, \"ALL_INF\": 77, \"ALL_INF2\": 7169.0, \"TITLE\": \"No Report\", \"pct_positive\": 1.06}, {\"Country\": \"United States of America\", \"WHOREGION\": \"Region of the Americas of WHO\", \"FLUREGION\": \"North America\", \"Year\": 2018, \"Week\": 34, \"SDATE\": \"2018-08-20\", \"EDATE\": \"2018-08-26\", \"SPEC_RECEIVED_NB\": 8042, \"SPEC_PROCESSED_NB\": 8042, \"AH1\": 0.0, \"AH1N12009\": 17, \"AH3\": 20, \"AH5\": null, \"ANOTSUBTYPED\": 83, \"INF_A\": 120, \"BYAMAGATA\": 1, \"BVICTORIA\": 0, \"BNOTDETERMINED\": 28, \"INF_B\": 29, \"ALL_INF\": 149, \"ALL_INF2\": 7893.0, \"TITLE\": \"No Report\", \"pct_positive\": 1.85}, {\"Country\": \"United States of America\", \"WHOREGION\": \"Region of the Americas of WHO\", \"FLUREGION\": \"North America\", \"Year\": 2018, \"Week\": 35, \"SDATE\": \"2018-08-27\", \"EDATE\": \"2018-09-02\", \"SPEC_RECEIVED_NB\": 8970, \"SPEC_PROCESSED_NB\": 8970, \"AH1\": 0.0, \"AH1N12009\": 10, \"AH3\": 6, \"AH5\": null, \"ANOTSUBTYPED\": 98, \"INF_A\": 114, \"BYAMAGATA\": 2, \"BVICTORIA\": 0, \"BNOTDETERMINED\": 33, \"INF_B\": 35, \"ALL_INF\": 149, \"ALL_INF2\": 8821.0, \"TITLE\": \"No Report\", \"pct_positive\": 1.66}, {\"Country\": \"United States of America\", \"WHOREGION\": \"Region of the Americas of WHO\", \"FLUREGION\": \"North America\", \"Year\": 2018, \"Week\": 36, \"SDATE\": \"2018-09-03\", \"EDATE\": \"2018-09-09\", \"SPEC_RECEIVED_NB\": 10137, \"SPEC_PROCESSED_NB\": 10137, \"AH1\": 0.0, \"AH1N12009\": 17, \"AH3\": 17, \"AH5\": null, \"ANOTSUBTYPED\": 119, \"INF_A\": 153, \"BYAMAGATA\": 1, \"BVICTORIA\": 0, \"BNOTDETERMINED\": 53, \"INF_B\": 54, \"ALL_INF\": 207, \"ALL_INF2\": 9930.0, \"TITLE\": \"No Report\", \"pct_positive\": 2.04}, {\"Country\": \"United States of America\", \"WHOREGION\": \"Region of the Americas of WHO\", \"FLUREGION\": \"North America\", \"Year\": 2018, \"Week\": 37, \"SDATE\": \"2018-09-10\", \"EDATE\": \"2018-09-16\", \"SPEC_RECEIVED_NB\": 12476, \"SPEC_PROCESSED_NB\": 12476, \"AH1\": 0.0, \"AH1N12009\": 29, \"AH3\": 14, \"AH5\": null, \"ANOTSUBTYPED\": 155, \"INF_A\": 198, \"BYAMAGATA\": 5, \"BVICTORIA\": 1, \"BNOTDETERMINED\": 48, \"INF_B\": 54, \"ALL_INF\": 252, \"ALL_INF2\": 12224.0, \"TITLE\": \"No Report\", \"pct_positive\": 2.02}, {\"Country\": \"United States of America\", \"WHOREGION\": \"Region of the Americas of WHO\", \"FLUREGION\": \"North America\", \"Year\": 2018, \"Week\": 38, \"SDATE\": \"2018-09-17\", \"EDATE\": \"2018-09-23\", \"SPEC_RECEIVED_NB\": 13717, \"SPEC_PROCESSED_NB\": 13717, \"AH1\": 0.0, \"AH1N12009\": 22, \"AH3\": 17, \"AH5\": null, \"ANOTSUBTYPED\": 160, \"INF_A\": 199, \"BYAMAGATA\": 2, \"BVICTORIA\": 1, \"BNOTDETERMINED\": 68, \"INF_B\": 71, \"ALL_INF\": 270, \"ALL_INF2\": 13447.0, \"TITLE\": \"No Report\", \"pct_positive\": 1.97}, {\"Country\": \"United States of America\", \"WHOREGION\": \"Region of the Americas of WHO\", \"FLUREGION\": \"North America\", \"Year\": 2018, \"Week\": 39, \"SDATE\": \"2018-09-24\", \"EDATE\": \"2018-09-30\", \"SPEC_RECEIVED_NB\": 15324, \"SPEC_PROCESSED_NB\": 15324, \"AH1\": 0.0, \"AH1N12009\": 20, \"AH3\": 13, \"AH5\": null, \"ANOTSUBTYPED\": 169, \"INF_A\": 202, \"BYAMAGATA\": 3, \"BVICTORIA\": 0, \"BNOTDETERMINED\": 52, \"INF_B\": 55, \"ALL_INF\": 257, \"ALL_INF2\": 15067.0, \"TITLE\": \"No Report\", \"pct_positive\": 1.68}, {\"Country\": \"United States of America\", \"WHOREGION\": \"Region of the Americas of WHO\", \"FLUREGION\": \"North America\", \"Year\": 2018, \"Week\": 40, \"SDATE\": \"2018-10-01\", \"EDATE\": \"2018-10-07\", \"SPEC_RECEIVED_NB\": 17330, \"SPEC_PROCESSED_NB\": 17330, \"AH1\": 0.0, \"AH1N12009\": 29, \"AH3\": 11, \"AH5\": null, \"ANOTSUBTYPED\": 226, \"INF_A\": 266, \"BYAMAGATA\": 11, \"BVICTORIA\": 7, \"BNOTDETERMINED\": 71, \"INF_B\": 89, \"ALL_INF\": 355, \"ALL_INF2\": 16975.0, \"TITLE\": \"No Report\", \"pct_positive\": 2.05}, {\"Country\": \"United States of America\", \"WHOREGION\": \"Region of the Americas of WHO\", \"FLUREGION\": \"North America\", \"Year\": 2018, \"Week\": 41, \"SDATE\": \"2018-10-08\", \"EDATE\": \"2018-10-14\", \"SPEC_RECEIVED_NB\": 18954, \"SPEC_PROCESSED_NB\": 18954, \"AH1\": 0.0, \"AH1N12009\": 52, \"AH3\": 11, \"AH5\": null, \"ANOTSUBTYPED\": 231, \"INF_A\": 294, \"BYAMAGATA\": 5, \"BVICTORIA\": 3, \"BNOTDETERMINED\": 88, \"INF_B\": 96, \"ALL_INF\": 390, \"ALL_INF2\": 18564.0, \"TITLE\": \"No Report\", \"pct_positive\": 2.06}, {\"Country\": \"United States of America\", \"WHOREGION\": \"Region of the Americas of WHO\", \"FLUREGION\": \"North America\", \"Year\": 2018, \"Week\": 42, \"SDATE\": \"2018-10-15\", \"EDATE\": \"2018-10-21\", \"SPEC_RECEIVED_NB\": 21301, \"SPEC_PROCESSED_NB\": 21301, \"AH1\": 0.0, \"AH1N12009\": 52, \"AH3\": 22, \"AH5\": null, \"ANOTSUBTYPED\": 324, \"INF_A\": 398, \"BYAMAGATA\": 14, \"BVICTORIA\": 2, \"BNOTDETERMINED\": 90, \"INF_B\": 106, \"ALL_INF\": 504, \"ALL_INF2\": 20797.0, \"TITLE\": \"No Report\", \"pct_positive\": 2.37}, {\"Country\": \"United States of America\", \"WHOREGION\": \"Region of the Americas of WHO\", \"FLUREGION\": \"North America\", \"Year\": 2018, \"Week\": 43, \"SDATE\": \"2018-10-22\", \"EDATE\": \"2018-10-28\", \"SPEC_RECEIVED_NB\": 22528, \"SPEC_PROCESSED_NB\": 22528, \"AH1\": 0.0, \"AH1N12009\": 76, \"AH3\": 35, \"AH5\": null, \"ANOTSUBTYPED\": 343, \"INF_A\": 454, \"BYAMAGATA\": 13, \"BVICTORIA\": 0, \"BNOTDETERMINED\": 104, \"INF_B\": 117, \"ALL_INF\": 571, \"ALL_INF2\": 21957.0, \"TITLE\": \"No Report\", \"pct_positive\": 2.53}, {\"Country\": \"United States of America\", \"WHOREGION\": \"Region of the Americas of WHO\", \"FLUREGION\": \"North America\", \"Year\": 2018, \"Week\": 44, \"SDATE\": \"2018-10-29\", \"EDATE\": \"2018-11-04\", \"SPEC_RECEIVED_NB\": 23695, \"SPEC_PROCESSED_NB\": 23695, \"AH1\": 0.0, \"AH1N12009\": 84, \"AH3\": 23, \"AH5\": null, \"ANOTSUBTYPED\": 393, \"INF_A\": 500, \"BYAMAGATA\": 8, \"BVICTORIA\": 1, \"BNOTDETERMINED\": 100, \"INF_B\": 109, \"ALL_INF\": 609, \"ALL_INF2\": 23086.0, \"TITLE\": \"No Report\", \"pct_positive\": 2.57}, {\"Country\": \"United States of America\", \"WHOREGION\": \"Region of the Americas of WHO\", \"FLUREGION\": \"North America\", \"Year\": 2018, \"Week\": 45, \"SDATE\": \"2018-11-05\", \"EDATE\": \"2018-11-11\", \"SPEC_RECEIVED_NB\": 24855, \"SPEC_PROCESSED_NB\": 24855, \"AH1\": 0.0, \"AH1N12009\": 117, \"AH3\": 27, \"AH5\": null, \"ANOTSUBTYPED\": 561, \"INF_A\": 705, \"BYAMAGATA\": 7, \"BVICTORIA\": 4, \"BNOTDETERMINED\": 103, \"INF_B\": 114, \"ALL_INF\": 819, \"ALL_INF2\": 24036.0, \"TITLE\": \"No Report\", \"pct_positive\": 3.3}, {\"Country\": \"United States of America\", \"WHOREGION\": \"Region of the Americas of WHO\", \"FLUREGION\": \"North America\", \"Year\": 2018, \"Week\": 46, \"SDATE\": \"2018-11-12\", \"EDATE\": \"2018-11-18\", \"SPEC_RECEIVED_NB\": 25902, \"SPEC_PROCESSED_NB\": 25902, \"AH1\": 0.0, \"AH1N12009\": 148, \"AH3\": 41, \"AH5\": null, \"ANOTSUBTYPED\": 680, \"INF_A\": 869, \"BYAMAGATA\": 3, \"BVICTORIA\": 2, \"BNOTDETERMINED\": 104, \"INF_B\": 109, \"ALL_INF\": 978, \"ALL_INF2\": 24924.0, \"TITLE\": \"No Report\", \"pct_positive\": 3.78}, {\"Country\": \"United States of America\", \"WHOREGION\": \"Region of the Americas of WHO\", \"FLUREGION\": \"North America\", \"Year\": 2018, \"Week\": 47, \"SDATE\": \"2018-11-19\", \"EDATE\": \"2018-11-25\", \"SPEC_RECEIVED_NB\": 25858, \"SPEC_PROCESSED_NB\": 25858, \"AH1\": 0.0, \"AH1N12009\": 215, \"AH3\": 54, \"AH5\": null, \"ANOTSUBTYPED\": 907, \"INF_A\": 1176, \"BYAMAGATA\": 5, \"BVICTORIA\": 2, \"BNOTDETERMINED\": 77, \"INF_B\": 84, \"ALL_INF\": 1260, \"ALL_INF2\": 24598.0, \"TITLE\": \"No Report\", \"pct_positive\": 4.87}, {\"Country\": \"United States of America\", \"WHOREGION\": \"Region of the Americas of WHO\", \"FLUREGION\": \"North America\", \"Year\": 2018, \"Week\": 48, \"SDATE\": \"2018-11-26\", \"EDATE\": \"2018-12-02\", \"SPEC_RECEIVED_NB\": 29989, \"SPEC_PROCESSED_NB\": 29989, \"AH1\": 0.0, \"AH1N12009\": 326, \"AH3\": 64, \"AH5\": null, \"ANOTSUBTYPED\": 1013, \"INF_A\": 1403, \"BYAMAGATA\": 10, \"BVICTORIA\": 2, \"BNOTDETERMINED\": 107, \"INF_B\": 119, \"ALL_INF\": 1522, \"ALL_INF2\": 28467.0, \"TITLE\": \"No Report\", \"pct_positive\": 5.08}, {\"Country\": \"United States of America\", \"WHOREGION\": \"Region of the Americas of WHO\", \"FLUREGION\": \"North America\", \"Year\": 2018, \"Week\": 49, \"SDATE\": \"2018-12-03\", \"EDATE\": \"2018-12-09\", \"SPEC_RECEIVED_NB\": 30761, \"SPEC_PROCESSED_NB\": 30761, \"AH1\": 0.0, \"AH1N12009\": 361, \"AH3\": 90, \"AH5\": null, \"ANOTSUBTYPED\": 1674, \"INF_A\": 2125, \"BYAMAGATA\": 7, \"BVICTORIA\": 3, \"BNOTDETERMINED\": 159, \"INF_B\": 169, \"ALL_INF\": 2294, \"ALL_INF2\": 28467.0, \"TITLE\": \"No Report\", \"pct_positive\": 7.46}, {\"Country\": \"United States of America\", \"WHOREGION\": \"Region of the Americas of WHO\", \"FLUREGION\": \"North America\", \"Year\": 2018, \"Week\": 50, \"SDATE\": \"2018-12-10\", \"EDATE\": \"2018-12-16\", \"SPEC_RECEIVED_NB\": 35316, \"SPEC_PROCESSED_NB\": 35316, \"AH1\": 0.0, \"AH1N12009\": 674, \"AH3\": 166, \"AH5\": null, \"ANOTSUBTYPED\": 3262, \"INF_A\": 4102, \"BYAMAGATA\": 6, \"BVICTORIA\": 7, \"BNOTDETERMINED\": 197, \"INF_B\": 210, \"ALL_INF\": 4312, \"ALL_INF2\": 31004.0, \"TITLE\": \"No Report\", \"pct_positive\": 12.21}, {\"Country\": \"United States of America\", \"WHOREGION\": \"Region of the Americas of WHO\", \"FLUREGION\": \"North America\", \"Year\": 2018, \"Week\": 51, \"SDATE\": \"2018-12-17\", \"EDATE\": \"2018-12-23\", \"SPEC_RECEIVED_NB\": 41051, \"SPEC_PROCESSED_NB\": 41051, \"AH1\": 0.0, \"AH1N12009\": 1115, \"AH3\": 248, \"AH5\": null, \"ANOTSUBTYPED\": 5367, \"INF_A\": 6730, \"BYAMAGATA\": 8, \"BVICTORIA\": 20, \"BNOTDETERMINED\": 201, \"INF_B\": 229, \"ALL_INF\": 6959, \"ALL_INF2\": 34092.0, \"TITLE\": \"No Report\", \"pct_positive\": 16.95}, {\"Country\": \"United States of America\", \"WHOREGION\": \"Region of the Americas of WHO\", \"FLUREGION\": \"North America\", \"Year\": 2018, \"Week\": 52, \"SDATE\": \"2018-12-24\", \"EDATE\": \"2018-12-30\", \"SPEC_RECEIVED_NB\": 45896, \"SPEC_PROCESSED_NB\": 45896, \"AH1\": 0.0, \"AH1N12009\": 1243, \"AH3\": 274, \"AH5\": null, \"ANOTSUBTYPED\": 6962, \"INF_A\": 8479, \"BYAMAGATA\": 9, \"BVICTORIA\": 19, \"BNOTDETERMINED\": 248, \"INF_B\": 276, \"ALL_INF\": 8755, \"ALL_INF2\": 37141.0, \"TITLE\": \"No Report\", \"pct_positive\": 19.08}, {\"Country\": \"United States of America\", \"WHOREGION\": \"Region of the Americas of WHO\", \"FLUREGION\": \"North America\", \"Year\": 2019, \"Week\": 1, \"SDATE\": \"2018-12-31\", \"EDATE\": \"2019-01-06\", \"SPEC_RECEIVED_NB\": 47278, \"SPEC_PROCESSED_NB\": 47278, \"AH1\": 0.0, \"AH1N12009\": 1182, \"AH3\": 305, \"AH5\": null, \"ANOTSUBTYPED\": 5400, \"INF_A\": 6887, \"BYAMAGATA\": 17, \"BVICTORIA\": 6, \"BNOTDETERMINED\": 158, \"INF_B\": 181, \"ALL_INF\": 7068, \"ALL_INF2\": 40210.0, \"TITLE\": \"No Report\", \"pct_positive\": 14.95}, {\"Country\": \"United States of America\", \"WHOREGION\": \"Region of the Americas of WHO\", \"FLUREGION\": \"North America\", \"Year\": 2019, \"Week\": 2, \"SDATE\": \"2019-01-07\", \"EDATE\": \"2019-01-13\", \"SPEC_RECEIVED_NB\": 44838, \"SPEC_PROCESSED_NB\": 44838, \"AH1\": 0.0, \"AH1N12009\": 1429, \"AH3\": 233, \"AH5\": null, \"ANOTSUBTYPED\": 5175, \"INF_A\": 6837, \"BYAMAGATA\": 20, \"BVICTORIA\": 4, \"BNOTDETERMINED\": 230, \"INF_B\": 254, \"ALL_INF\": 7091, \"ALL_INF2\": 37747.0, \"TITLE\": \"No Report\", \"pct_positive\": 15.81}, {\"Country\": \"United States of America\", \"WHOREGION\": \"Region of the Americas of WHO\", \"FLUREGION\": \"North America\", \"Year\": 2019, \"Week\": 3, \"SDATE\": \"2019-01-14\", \"EDATE\": \"2019-01-20\", \"SPEC_RECEIVED_NB\": 45296, \"SPEC_PROCESSED_NB\": 45296, \"AH1\": 0.0, \"AH1N12009\": 1475, \"AH3\": 366, \"AH5\": null, \"ANOTSUBTYPED\": 6783, \"INF_A\": 8624, \"BYAMAGATA\": 16, \"BVICTORIA\": 17, \"BNOTDETERMINED\": 195, \"INF_B\": 228, \"ALL_INF\": 8852, \"ALL_INF2\": 36444.0, \"TITLE\": \"No Report\", \"pct_positive\": 19.54}, {\"Country\": \"United States of America\", \"WHOREGION\": \"Region of the Americas of WHO\", \"FLUREGION\": \"North America\", \"Year\": 2019, \"Week\": 4, \"SDATE\": \"2019-01-21\", \"EDATE\": \"2019-01-27\", \"SPEC_RECEIVED_NB\": 47652, \"SPEC_PROCESSED_NB\": 47652, \"AH1\": 0.0, \"AH1N12009\": 1546, \"AH3\": 511, \"AH5\": null, \"ANOTSUBTYPED\": 8426, \"INF_A\": 10483, \"BYAMAGATA\": 9, \"BVICTORIA\": 17, \"BNOTDETERMINED\": 262, \"INF_B\": 288, \"ALL_INF\": 10771, \"ALL_INF2\": 36881.0, \"TITLE\": \"No Report\", \"pct_positive\": 22.6}, {\"Country\": \"United States of America\", \"WHOREGION\": \"Region of the Americas of WHO\", \"FLUREGION\": \"North America\", \"Year\": 2019, \"Week\": 5, \"SDATE\": \"2019-01-28\", \"EDATE\": \"2019-02-03\", \"SPEC_RECEIVED_NB\": 52704, \"SPEC_PROCESSED_NB\": 52704, \"AH1\": 0.0, \"AH1N12009\": 1678, \"AH3\": 806, \"AH5\": null, \"ANOTSUBTYPED\": 10732, \"INF_A\": 13216, \"BYAMAGATA\": 18, \"BVICTORIA\": 24, \"BNOTDETERMINED\": 300, \"INF_B\": 342, \"ALL_INF\": 13558, \"ALL_INF2\": 39146.0, \"TITLE\": \"No Report\", \"pct_positive\": 25.72}, {\"Country\": \"United States of America\", \"WHOREGION\": \"Region of the Americas of WHO\", \"FLUREGION\": \"North America\", \"Year\": 2019, \"Week\": 6, \"SDATE\": \"2019-02-04\", \"EDATE\": \"2019-02-10\", \"SPEC_RECEIVED_NB\": 58794, \"SPEC_PROCESSED_NB\": 58794, \"AH1\": 0.0, \"AH1N12009\": 1878, \"AH3\": 1202, \"AH5\": null, \"ANOTSUBTYPED\": 13197, \"INF_A\": 16277, \"BYAMAGATA\": 11, \"BVICTORIA\": 18, \"BNOTDETERMINED\": 446, \"INF_B\": 475, \"ALL_INF\": 16752, \"ALL_INF2\": 42040.0, \"TITLE\": \"No Report\", \"pct_positive\": 28.49}, {\"Country\": \"United States of America\", \"WHOREGION\": \"Region of the Americas of WHO\", \"FLUREGION\": \"North America\", \"Year\": 2019, \"Week\": 7, \"SDATE\": \"2019-02-11\", \"EDATE\": \"2019-02-17\", \"SPEC_RECEIVED_NB\": 57876, \"SPEC_PROCESSED_NB\": 57876, \"AH1\": 0.0, \"AH1N12009\": 1703, \"AH3\": 1305, \"AH5\": null, \"ANOTSUBTYPED\": 13375, \"INF_A\": 16383, \"BYAMAGATA\": 18, \"BVICTORIA\": 29, \"BNOTDETERMINED\": 532, \"INF_B\": 579, \"ALL_INF\": 16962, \"ALL_INF2\": 40913.0, \"TITLE\": \"No Report\", \"pct_positive\": 29.31}, {\"Country\": \"United States of America\", \"WHOREGION\": \"Region of the Americas of WHO\", \"FLUREGION\": \"North America\", \"Year\": 2019, \"Week\": 8, \"SDATE\": \"2019-02-18\", \"EDATE\": \"2019-02-24\", \"SPEC_RECEIVED_NB\": 58689, \"SPEC_PROCESSED_NB\": 58689, \"AH1\": 0.0, \"AH1N12009\": 1480, \"AH3\": 1501, \"AH5\": null, \"ANOTSUBTYPED\": 13759, \"INF_A\": 16740, \"BYAMAGATA\": 12, \"BVICTORIA\": 28, \"BNOTDETERMINED\": 532, \"INF_B\": 572, \"ALL_INF\": 17312, \"ALL_INF2\": 41377.0, \"TITLE\": \"No Report\", \"pct_positive\": 29.5}, {\"Country\": \"United States of America\", \"WHOREGION\": \"Region of the Americas of WHO\", \"FLUREGION\": \"North America\", \"Year\": 2019, \"Week\": 9, \"SDATE\": \"2019-02-25\", \"EDATE\": \"2019-03-03\", \"SPEC_RECEIVED_NB\": 58082, \"SPEC_PROCESSED_NB\": 58082, \"AH1\": 0.0, \"AH1N12009\": 1377, \"AH3\": 1785, \"AH5\": null, \"ANOTSUBTYPED\": 13498, \"INF_A\": 16660, \"BYAMAGATA\": 10, \"BVICTORIA\": 34, \"BNOTDETERMINED\": 474, \"INF_B\": 518, \"ALL_INF\": 17178, \"ALL_INF2\": 40904.0, \"TITLE\": \"No Report\", \"pct_positive\": 29.58}, {\"Country\": \"United States of America\", \"WHOREGION\": \"Region of the Americas of WHO\", \"FLUREGION\": \"North America\", \"Year\": 2019, \"Week\": 10, \"SDATE\": \"2019-03-04\", \"EDATE\": \"2019-03-10\", \"SPEC_RECEIVED_NB\": 57990, \"SPEC_PROCESSED_NB\": 57990, \"AH1\": 0.0, \"AH1N12009\": 1292, \"AH3\": 1829, \"AH5\": null, \"ANOTSUBTYPED\": 13258, \"INF_A\": 16379, \"BYAMAGATA\": 27, \"BVICTORIA\": 42, \"BNOTDETERMINED\": 491, \"INF_B\": 560, \"ALL_INF\": 16939, \"ALL_INF2\": 41051.0, \"TITLE\": \"No Report\", \"pct_positive\": 29.21}, {\"Country\": \"United States of America\", \"WHOREGION\": \"Region of the Americas of WHO\", \"FLUREGION\": \"North America\", \"Year\": 2019, \"Week\": 11, \"SDATE\": \"2019-03-11\", \"EDATE\": \"2019-03-17\", \"SPEC_RECEIVED_NB\": 57812, \"SPEC_PROCESSED_NB\": 57812, \"AH1\": 0.0, \"AH1N12009\": 1052, \"AH3\": 1828, \"AH5\": null, \"ANOTSUBTYPED\": 13412, \"INF_A\": 16292, \"BYAMAGATA\": 31, \"BVICTORIA\": 56, \"BNOTDETERMINED\": 611, \"INF_B\": 698, \"ALL_INF\": 16990, \"ALL_INF2\": 40822.0, \"TITLE\": \"No Report\", \"pct_positive\": 29.39}, {\"Country\": \"United States of America\", \"WHOREGION\": \"Region of the Americas of WHO\", \"FLUREGION\": \"North America\", \"Year\": 2019, \"Week\": 12, \"SDATE\": \"2019-03-18\", \"EDATE\": \"2019-03-24\", \"SPEC_RECEIVED_NB\": 52500, \"SPEC_PROCESSED_NB\": 52500, \"AH1\": 0.0, \"AH1N12009\": 745, \"AH3\": 1402, \"AH5\": null, \"ANOTSUBTYPED\": 10349, \"INF_A\": 12496, \"BYAMAGATA\": 19, \"BVICTORIA\": 50, \"BNOTDETERMINED\": 689, \"INF_B\": 758, \"ALL_INF\": 13254, \"ALL_INF2\": 39246.0, \"TITLE\": \"No Report\", \"pct_positive\": 25.25}, {\"Country\": \"United States of America\", \"WHOREGION\": \"Region of the Americas of WHO\", \"FLUREGION\": \"North America\", \"Year\": 2019, \"Week\": 13, \"SDATE\": \"2019-03-25\", \"EDATE\": \"2019-03-31\", \"SPEC_RECEIVED_NB\": 45764, \"SPEC_PROCESSED_NB\": 45764, \"AH1\": 0.0, \"AH1N12009\": 472, \"AH3\": 1110, \"AH5\": null, \"ANOTSUBTYPED\": 7695, \"INF_A\": 9277, \"BYAMAGATA\": 25, \"BVICTORIA\": 66, \"BNOTDETERMINED\": 698, \"INF_B\": 789, \"ALL_INF\": 10066, \"ALL_INF2\": 35698.0, \"TITLE\": \"No Report\", \"pct_positive\": 22.0}, {\"Country\": \"United States of America\", \"WHOREGION\": \"Region of the Americas of WHO\", \"FLUREGION\": \"North America\", \"Year\": 2019, \"Week\": 14, \"SDATE\": \"2019-04-01\", \"EDATE\": \"2019-04-07\", \"SPEC_RECEIVED_NB\": 39287, \"SPEC_PROCESSED_NB\": 39287, \"AH1\": 0.0, \"AH1N12009\": 336, \"AH3\": 889, \"AH5\": null, \"ANOTSUBTYPED\": 4904, \"INF_A\": 6129, \"BYAMAGATA\": 20, \"BVICTORIA\": 70, \"BNOTDETERMINED\": 684, \"INF_B\": 774, \"ALL_INF\": 6903, \"ALL_INF2\": 32384.0, \"TITLE\": \"No Report\", \"pct_positive\": 17.57}, {\"Country\": \"United States of America\", \"WHOREGION\": \"Region of the Americas of WHO\", \"FLUREGION\": \"North America\", \"Year\": 2019, \"Week\": 15, \"SDATE\": \"2019-04-08\", \"EDATE\": \"2019-04-14\", \"SPEC_RECEIVED_NB\": 33751, \"SPEC_PROCESSED_NB\": 33751, \"AH1\": 0.0, \"AH1N12009\": 217, \"AH3\": 660, \"AH5\": null, \"ANOTSUBTYPED\": 3210, \"INF_A\": 4087, \"BYAMAGATA\": 18, \"BVICTORIA\": 58, \"BNOTDETERMINED\": 638, \"INF_B\": 714, \"ALL_INF\": 4801, \"ALL_INF2\": 28950.0, \"TITLE\": \"No Report\", \"pct_positive\": 14.22}, {\"Country\": \"United States of America\", \"WHOREGION\": \"Region of the Americas of WHO\", \"FLUREGION\": \"North America\", \"Year\": 2019, \"Week\": 16, \"SDATE\": \"2019-04-15\", \"EDATE\": \"2019-04-21\", \"SPEC_RECEIVED_NB\": 29429, \"SPEC_PROCESSED_NB\": 29429, \"AH1\": 0.0, \"AH1N12009\": 130, \"AH3\": 354, \"AH5\": null, \"ANOTSUBTYPED\": 1898, \"INF_A\": 2382, \"BYAMAGATA\": 19, \"BVICTORIA\": 50, \"BNOTDETERMINED\": 536, \"INF_B\": 605, \"ALL_INF\": 2987, \"ALL_INF2\": 26442.0, \"TITLE\": \"No Report\", \"pct_positive\": 10.15}, {\"Country\": \"United States of America\", \"WHOREGION\": \"Region of the Americas of WHO\", \"FLUREGION\": \"North America\", \"Year\": 2019, \"Week\": 17, \"SDATE\": \"2019-04-22\", \"EDATE\": \"2019-04-28\", \"SPEC_RECEIVED_NB\": 25890, \"SPEC_PROCESSED_NB\": 25890, \"AH1\": 0.0, \"AH1N12009\": 87, \"AH3\": 218, \"AH5\": null, \"ANOTSUBTYPED\": 1032, \"INF_A\": 1337, \"BYAMAGATA\": 14, \"BVICTORIA\": 39, \"BNOTDETERMINED\": 475, \"INF_B\": 528, \"ALL_INF\": 1865, \"ALL_INF2\": 24025.0, \"TITLE\": \"No Report\", \"pct_positive\": 7.2}, {\"Country\": \"United States of America\", \"WHOREGION\": \"Region of the Americas of WHO\", \"FLUREGION\": \"North America\", \"Year\": 2019, \"Week\": 18, \"SDATE\": \"2019-04-29\", \"EDATE\": \"2019-05-05\", \"SPEC_RECEIVED_NB\": 21148, \"SPEC_PROCESSED_NB\": 21148, \"AH1\": 0.0, \"AH1N12009\": 65, \"AH3\": 158, \"AH5\": null, \"ANOTSUBTYPED\": 640, \"INF_A\": 863, \"BYAMAGATA\": 11, \"BVICTORIA\": 40, \"BNOTDETERMINED\": 345, \"INF_B\": 396, \"ALL_INF\": 1259, \"ALL_INF2\": 19889.0, \"TITLE\": \"No Report\", \"pct_positive\": 5.95}, {\"Country\": \"United States of America\", \"WHOREGION\": \"Region of the Americas of WHO\", \"FLUREGION\": \"North America\", \"Year\": 2019, \"Week\": 19, \"SDATE\": \"2019-05-06\", \"EDATE\": \"2019-05-12\", \"SPEC_RECEIVED_NB\": 18525, \"SPEC_PROCESSED_NB\": 18525, \"AH1\": 0.0, \"AH1N12009\": 45, \"AH3\": 94, \"AH5\": null, \"ANOTSUBTYPED\": 418, \"INF_A\": 557, \"BYAMAGATA\": 9, \"BVICTORIA\": 41, \"BNOTDETERMINED\": 297, \"INF_B\": 347, \"ALL_INF\": 904, \"ALL_INF2\": 17621.0, \"TITLE\": \"No Report\", \"pct_positive\": 4.88}, {\"Country\": \"United States of America\", \"WHOREGION\": \"Region of the Americas of WHO\", \"FLUREGION\": \"North America\", \"Year\": 2019, \"Week\": 20, \"SDATE\": \"2019-05-13\", \"EDATE\": \"2019-05-19\", \"SPEC_RECEIVED_NB\": 17777, \"SPEC_PROCESSED_NB\": 17777, \"AH1\": 0.0, \"AH1N12009\": 43, \"AH3\": 82, \"AH5\": null, \"ANOTSUBTYPED\": 336, \"INF_A\": 461, \"BYAMAGATA\": 7, \"BVICTORIA\": 40, \"BNOTDETERMINED\": 279, \"INF_B\": 326, \"ALL_INF\": 787, \"ALL_INF2\": 16990.0, \"TITLE\": \"No Report\", \"pct_positive\": 4.43}, {\"Country\": \"United States of America\", \"WHOREGION\": \"Region of the Americas of WHO\", \"FLUREGION\": \"North America\", \"Year\": 2019, \"Week\": 21, \"SDATE\": \"2019-05-20\", \"EDATE\": \"2019-05-26\", \"SPEC_RECEIVED_NB\": 16180, \"SPEC_PROCESSED_NB\": 16180, \"AH1\": 0.0, \"AH1N12009\": 29, \"AH3\": 67, \"AH5\": null, \"ANOTSUBTYPED\": 280, \"INF_A\": 376, \"BYAMAGATA\": 3, \"BVICTORIA\": 27, \"BNOTDETERMINED\": 261, \"INF_B\": 291, \"ALL_INF\": 667, \"ALL_INF2\": 15513.0, \"TITLE\": \"No Report\", \"pct_positive\": 4.12}, {\"Country\": \"United States of America\", \"WHOREGION\": \"Region of the Americas of WHO\", \"FLUREGION\": \"North America\", \"Year\": 2019, \"Week\": 22, \"SDATE\": \"2019-05-27\", \"EDATE\": \"2019-06-02\", \"SPEC_RECEIVED_NB\": 14912, \"SPEC_PROCESSED_NB\": 14912, \"AH1\": 0.0, \"AH1N12009\": 23, \"AH3\": 55, \"AH5\": null, \"ANOTSUBTYPED\": 216, \"INF_A\": 294, \"BYAMAGATA\": 11, \"BVICTORIA\": 25, \"BNOTDETERMINED\": 249, \"INF_B\": 285, \"ALL_INF\": 579, \"ALL_INF2\": 14333.0, \"TITLE\": \"No Report\", \"pct_positive\": 3.88}, {\"Country\": \"United States of America\", \"WHOREGION\": \"Region of the Americas of WHO\", \"FLUREGION\": \"North America\", \"Year\": 2019, \"Week\": 23, \"SDATE\": \"2019-06-03\", \"EDATE\": \"2019-06-09\", \"SPEC_RECEIVED_NB\": 13102, \"SPEC_PROCESSED_NB\": 13102, \"AH1\": 0.0, \"AH1N12009\": 26, \"AH3\": 54, \"AH5\": null, \"ANOTSUBTYPED\": 147, \"INF_A\": 227, \"BYAMAGATA\": 1, \"BVICTORIA\": 32, \"BNOTDETERMINED\": 226, \"INF_B\": 259, \"ALL_INF\": 486, \"ALL_INF2\": 12616.0, \"TITLE\": \"No Report\", \"pct_positive\": 3.71}, {\"Country\": \"United States of America\", \"WHOREGION\": \"Region of the Americas of WHO\", \"FLUREGION\": \"North America\", \"Year\": 2019, \"Week\": 24, \"SDATE\": \"2019-06-10\", \"EDATE\": \"2019-06-16\", \"SPEC_RECEIVED_NB\": 11817, \"SPEC_PROCESSED_NB\": 11817, \"AH1\": 0.0, \"AH1N12009\": 21, \"AH3\": 57, \"AH5\": null, \"ANOTSUBTYPED\": 136, \"INF_A\": 214, \"BYAMAGATA\": 2, \"BVICTORIA\": 19, \"BNOTDETERMINED\": 140, \"INF_B\": 161, \"ALL_INF\": 375, \"ALL_INF2\": 11442.0, \"TITLE\": \"No Report\", \"pct_positive\": 3.17}, {\"Country\": \"United States of America\", \"WHOREGION\": \"Region of the Americas of WHO\", \"FLUREGION\": \"North America\", \"Year\": 2019, \"Week\": 25, \"SDATE\": \"2019-06-17\", \"EDATE\": \"2019-06-23\", \"SPEC_RECEIVED_NB\": 10843, \"SPEC_PROCESSED_NB\": 10843, \"AH1\": 0.0, \"AH1N12009\": 19, \"AH3\": 52, \"AH5\": null, \"ANOTSUBTYPED\": 111, \"INF_A\": 182, \"BYAMAGATA\": 0, \"BVICTORIA\": 13, \"BNOTDETERMINED\": 99, \"INF_B\": 112, \"ALL_INF\": 294, \"ALL_INF2\": 10549.0, \"TITLE\": \"No Report\", \"pct_positive\": 2.71}, {\"Country\": \"United States of America\", \"WHOREGION\": \"Region of the Americas of WHO\", \"FLUREGION\": \"North America\", \"Year\": 2019, \"Week\": 26, \"SDATE\": \"2019-06-24\", \"EDATE\": \"2019-06-30\", \"SPEC_RECEIVED_NB\": 9513, \"SPEC_PROCESSED_NB\": 9513, \"AH1\": 0.0, \"AH1N12009\": 21, \"AH3\": 48, \"AH5\": null, \"ANOTSUBTYPED\": 95, \"INF_A\": 164, \"BYAMAGATA\": 3, \"BVICTORIA\": 12, \"BNOTDETERMINED\": 100, \"INF_B\": 115, \"ALL_INF\": 279, \"ALL_INF2\": 9234.0, \"TITLE\": \"No Report\", \"pct_positive\": 2.93}, {\"Country\": \"United States of America\", \"WHOREGION\": \"Region of the Americas of WHO\", \"FLUREGION\": \"North America\", \"Year\": 2019, \"Week\": 27, \"SDATE\": \"2019-07-01\", \"EDATE\": \"2019-07-07\", \"SPEC_RECEIVED_NB\": 9212, \"SPEC_PROCESSED_NB\": 9212, \"AH1\": 0.0, \"AH1N12009\": 29, \"AH3\": 41, \"AH5\": null, \"ANOTSUBTYPED\": 132, \"INF_A\": 202, \"BYAMAGATA\": 1, \"BVICTORIA\": 13, \"BNOTDETERMINED\": 89, \"INF_B\": 103, \"ALL_INF\": 305, \"ALL_INF2\": 8907.0, \"TITLE\": \"No Report\", \"pct_positive\": 3.31}, {\"Country\": \"United States of America\", \"WHOREGION\": \"Region of the Americas of WHO\", \"FLUREGION\": \"North America\", \"Year\": 2019, \"Week\": 28, \"SDATE\": \"2019-07-08\", \"EDATE\": \"2019-07-14\", \"SPEC_RECEIVED_NB\": 9474, \"SPEC_PROCESSED_NB\": 9474, \"AH1\": 0.0, \"AH1N12009\": 10, \"AH3\": 42, \"AH5\": null, \"ANOTSUBTYPED\": 103, \"INF_A\": 155, \"BYAMAGATA\": 1, \"BVICTORIA\": 9, \"BNOTDETERMINED\": 83, \"INF_B\": 93, \"ALL_INF\": 248, \"ALL_INF2\": 9226.0, \"TITLE\": \"No Report\", \"pct_positive\": 2.62}, {\"Country\": \"United States of America\", \"WHOREGION\": \"Region of the Americas of WHO\", \"FLUREGION\": \"North America\", \"Year\": 2019, \"Week\": 29, \"SDATE\": \"2019-07-15\", \"EDATE\": \"2019-07-21\", \"SPEC_RECEIVED_NB\": 8662, \"SPEC_PROCESSED_NB\": 8662, \"AH1\": 0.0, \"AH1N12009\": 12, \"AH3\": 55, \"AH5\": null, \"ANOTSUBTYPED\": 109, \"INF_A\": 176, \"BYAMAGATA\": 0, \"BVICTORIA\": 10, \"BNOTDETERMINED\": 81, \"INF_B\": 91, \"ALL_INF\": 267, \"ALL_INF2\": 8395.0, \"TITLE\": \"No Report\", \"pct_positive\": 3.08}, {\"Country\": \"United States of America\", \"WHOREGION\": \"Region of the Americas of WHO\", \"FLUREGION\": \"North America\", \"Year\": 2019, \"Week\": 30, \"SDATE\": \"2019-07-22\", \"EDATE\": \"2019-07-28\", \"SPEC_RECEIVED_NB\": 8245, \"SPEC_PROCESSED_NB\": 8245, \"AH1\": 0.0, \"AH1N12009\": 19, \"AH3\": 29, \"AH5\": null, \"ANOTSUBTYPED\": 106, \"INF_A\": 154, \"BYAMAGATA\": 0, \"BVICTORIA\": 11, \"BNOTDETERMINED\": 88, \"INF_B\": 99, \"ALL_INF\": 253, \"ALL_INF2\": 7992.0, \"TITLE\": \"No Report\", \"pct_positive\": 3.07}, {\"Country\": \"United States of America\", \"WHOREGION\": \"Region of the Americas of WHO\", \"FLUREGION\": \"North America\", \"Year\": 2019, \"Week\": 31, \"SDATE\": \"2019-07-29\", \"EDATE\": \"2019-08-04\", \"SPEC_RECEIVED_NB\": 8213, \"SPEC_PROCESSED_NB\": 8213, \"AH1\": 0.0, \"AH1N12009\": 14, \"AH3\": 30, \"AH5\": null, \"ANOTSUBTYPED\": 106, \"INF_A\": 150, \"BYAMAGATA\": 2, \"BVICTORIA\": 10, \"BNOTDETERMINED\": 86, \"INF_B\": 98, \"ALL_INF\": 248, \"ALL_INF2\": 7965.0, \"TITLE\": \"No Report\", \"pct_positive\": 3.02}, {\"Country\": \"United States of America\", \"WHOREGION\": \"Region of the Americas of WHO\", \"FLUREGION\": \"North America\", \"Year\": 2019, \"Week\": 32, \"SDATE\": \"2019-08-05\", \"EDATE\": \"2019-08-11\", \"SPEC_RECEIVED_NB\": 8374, \"SPEC_PROCESSED_NB\": 8374, \"AH1\": 0.0, \"AH1N12009\": 7, \"AH3\": 33, \"AH5\": null, \"ANOTSUBTYPED\": 79, \"INF_A\": 119, \"BYAMAGATA\": 0, \"BVICTORIA\": 16, \"BNOTDETERMINED\": 88, \"INF_B\": 104, \"ALL_INF\": 223, \"ALL_INF2\": 8151.0, \"TITLE\": \"No Report\", \"pct_positive\": 2.66}, {\"Country\": \"United States of America\", \"WHOREGION\": \"Region of the Americas of WHO\", \"FLUREGION\": \"North America\", \"Year\": 2019, \"Week\": 33, \"SDATE\": \"2019-08-12\", \"EDATE\": \"2019-08-18\", \"SPEC_RECEIVED_NB\": 8647, \"SPEC_PROCESSED_NB\": 8647, \"AH1\": 0.0, \"AH1N12009\": 20, \"AH3\": 34, \"AH5\": null, \"ANOTSUBTYPED\": 81, \"INF_A\": 135, \"BYAMAGATA\": 0, \"BVICTORIA\": 38, \"BNOTDETERMINED\": 94, \"INF_B\": 132, \"ALL_INF\": 267, \"ALL_INF2\": 8380.0, \"TITLE\": \"No Report\", \"pct_positive\": 3.09}, {\"Country\": \"United States of America\", \"WHOREGION\": \"Region of the Americas of WHO\", \"FLUREGION\": \"North America\", \"Year\": 2019, \"Week\": 34, \"SDATE\": \"2019-08-19\", \"EDATE\": \"2019-08-25\", \"SPEC_RECEIVED_NB\": 9244, \"SPEC_PROCESSED_NB\": 9244, \"AH1\": 0.0, \"AH1N12009\": 19, \"AH3\": 38, \"AH5\": null, \"ANOTSUBTYPED\": 95, \"INF_A\": 152, \"BYAMAGATA\": 0, \"BVICTORIA\": 32, \"BNOTDETERMINED\": 118, \"INF_B\": 150, \"ALL_INF\": 302, \"ALL_INF2\": 8942.0, \"TITLE\": \"No Report\", \"pct_positive\": 3.27}, {\"Country\": \"United States of America\", \"WHOREGION\": \"Region of the Americas of WHO\", \"FLUREGION\": \"North America\", \"Year\": 2019, \"Week\": 35, \"SDATE\": \"2019-08-26\", \"EDATE\": \"2019-09-01\", \"SPEC_RECEIVED_NB\": 10870, \"SPEC_PROCESSED_NB\": 10870, \"AH1\": 0.0, \"AH1N12009\": 14, \"AH3\": 34, \"AH5\": null, \"ANOTSUBTYPED\": 146, \"INF_A\": 194, \"BYAMAGATA\": 0, \"BVICTORIA\": 29, \"BNOTDETERMINED\": 226, \"INF_B\": 255, \"ALL_INF\": 449, \"ALL_INF2\": 10421.0, \"TITLE\": \"No Report\", \"pct_positive\": 4.13}, {\"Country\": \"United States of America\", \"WHOREGION\": \"Region of the Americas of WHO\", \"FLUREGION\": \"North America\", \"Year\": 2019, \"Week\": 36, \"SDATE\": \"2019-09-02\", \"EDATE\": \"2019-09-08\", \"SPEC_RECEIVED_NB\": 12268, \"SPEC_PROCESSED_NB\": 12268, \"AH1\": 0.0, \"AH1N12009\": 16, \"AH3\": 54, \"AH5\": null, \"ANOTSUBTYPED\": 145, \"INF_A\": 215, \"BYAMAGATA\": 1, \"BVICTORIA\": 29, \"BNOTDETERMINED\": 231, \"INF_B\": 261, \"ALL_INF\": 476, \"ALL_INF2\": 11792.0, \"TITLE\": \"No Report\", \"pct_positive\": 3.88}, {\"Country\": \"United States of America\", \"WHOREGION\": \"Region of the Americas of WHO\", \"FLUREGION\": \"North America\", \"Year\": 2019, \"Week\": 37, \"SDATE\": \"2019-09-09\", \"EDATE\": \"2019-09-15\", \"SPEC_RECEIVED_NB\": 13954, \"SPEC_PROCESSED_NB\": 13954, \"AH1\": 0.0, \"AH1N12009\": 12, \"AH3\": 69, \"AH5\": null, \"ANOTSUBTYPED\": 166, \"INF_A\": 247, \"BYAMAGATA\": 2, \"BVICTORIA\": 44, \"BNOTDETERMINED\": 182, \"INF_B\": 228, \"ALL_INF\": 475, \"ALL_INF2\": 13479.0, \"TITLE\": \"No Report\", \"pct_positive\": 3.4}, {\"Country\": \"United States of America\", \"WHOREGION\": \"Region of the Americas of WHO\", \"FLUREGION\": \"North America\", \"Year\": 2019, \"Week\": 38, \"SDATE\": \"2019-09-16\", \"EDATE\": \"2019-09-22\", \"SPEC_RECEIVED_NB\": 15837, \"SPEC_PROCESSED_NB\": 15837, \"AH1\": 0.0, \"AH1N12009\": 27, \"AH3\": 59, \"AH5\": null, \"ANOTSUBTYPED\": 171, \"INF_A\": 257, \"BYAMAGATA\": 0, \"BVICTORIA\": 46, \"BNOTDETERMINED\": 258, \"INF_B\": 304, \"ALL_INF\": 561, \"ALL_INF2\": 15276.0, \"TITLE\": \"No Report\", \"pct_positive\": 3.54}, {\"Country\": \"United States of America\", \"WHOREGION\": \"Region of the Americas of WHO\", \"FLUREGION\": \"North America\", \"Year\": 2019, \"Week\": 39, \"SDATE\": \"2019-09-23\", \"EDATE\": \"2019-09-29\", \"SPEC_RECEIVED_NB\": 18142, \"SPEC_PROCESSED_NB\": 18142, \"AH1\": 0.0, \"AH1N12009\": 18, \"AH3\": 60, \"AH5\": null, \"ANOTSUBTYPED\": 171, \"INF_A\": 249, \"BYAMAGATA\": 0, \"BVICTORIA\": 49, \"BNOTDETERMINED\": 329, \"INF_B\": 378, \"ALL_INF\": 627, \"ALL_INF2\": 17515.0, \"TITLE\": \"No Report\", \"pct_positive\": 3.46}, {\"Country\": \"United States of America\", \"WHOREGION\": \"Region of the Americas of WHO\", \"FLUREGION\": \"North America\", \"Year\": 2019, \"Week\": 40, \"SDATE\": \"2019-09-30\", \"EDATE\": \"2019-10-06\", \"SPEC_RECEIVED_NB\": 20838, \"SPEC_PROCESSED_NB\": 20838, \"AH1\": 0.0, \"AH1N12009\": 25, \"AH3\": 57, \"AH5\": null, \"ANOTSUBTYPED\": 157, \"INF_A\": 239, \"BYAMAGATA\": 1, \"BVICTORIA\": 56, \"BNOTDETERMINED\": 131, \"INF_B\": 188, \"ALL_INF\": 427, \"ALL_INF2\": 20411.0, \"TITLE\": \"No Report\", \"pct_positive\": 2.05}, {\"Country\": \"United States of America\", \"WHOREGION\": \"Region of the Americas of WHO\", \"FLUREGION\": \"North America\", \"Year\": 2019, \"Week\": 41, \"SDATE\": \"2019-10-07\", \"EDATE\": \"2019-10-13\", \"SPEC_RECEIVED_NB\": 23213, \"SPEC_PROCESSED_NB\": 23213, \"AH1\": 0.0, \"AH1N12009\": 33, \"AH3\": 64, \"AH5\": null, \"ANOTSUBTYPED\": 168, \"INF_A\": 265, \"BYAMAGATA\": 2, \"BVICTORIA\": 70, \"BNOTDETERMINED\": 188, \"INF_B\": 260, \"ALL_INF\": 525, \"ALL_INF2\": 22688.0, \"TITLE\": \"No Report\", \"pct_positive\": 2.26}, {\"Country\": \"United States of America\", \"WHOREGION\": \"Region of the Americas of WHO\", \"FLUREGION\": \"North America\", \"Year\": 2019, \"Week\": 42, \"SDATE\": \"2019-10-14\", \"EDATE\": \"2019-10-20\", \"SPEC_RECEIVED_NB\": 24387, \"SPEC_PROCESSED_NB\": 24387, \"AH1\": 0.0, \"AH1N12009\": 36, \"AH3\": 82, \"AH5\": null, \"ANOTSUBTYPED\": 196, \"INF_A\": 314, \"BYAMAGATA\": 3, \"BVICTORIA\": 77, \"BNOTDETERMINED\": 200, \"INF_B\": 280, \"ALL_INF\": 594, \"ALL_INF2\": 23793.0, \"TITLE\": \"No Report\", \"pct_positive\": 2.44}, {\"Country\": \"United States of America\", \"WHOREGION\": \"Region of the Americas of WHO\", \"FLUREGION\": \"North America\", \"Year\": 2019, \"Week\": 43, \"SDATE\": \"2019-10-21\", \"EDATE\": \"2019-10-27\", \"SPEC_RECEIVED_NB\": 26123, \"SPEC_PROCESSED_NB\": 26123, \"AH1\": 0.0, \"AH1N12009\": 53, \"AH3\": 78, \"AH5\": null, \"ANOTSUBTYPED\": 249, \"INF_A\": 380, \"BYAMAGATA\": 5, \"BVICTORIA\": 96, \"BNOTDETERMINED\": 374, \"INF_B\": 475, \"ALL_INF\": 855, \"ALL_INF2\": 25268.0, \"TITLE\": \"No Report\", \"pct_positive\": 3.27}, {\"Country\": \"United States of America\", \"WHOREGION\": \"Region of the Americas of WHO\", \"FLUREGION\": \"North America\", \"Year\": 2019, \"Week\": 44, \"SDATE\": \"2019-10-28\", \"EDATE\": \"2019-11-03\", \"SPEC_RECEIVED_NB\": 27014, \"SPEC_PROCESSED_NB\": 27014, \"AH1\": 0.0, \"AH1N12009\": 52, \"AH3\": 61, \"AH5\": null, \"ANOTSUBTYPED\": 304, \"INF_A\": 417, \"BYAMAGATA\": 5, \"BVICTORIA\": 120, \"BNOTDETERMINED\": 595, \"INF_B\": 720, \"ALL_INF\": 1137, \"ALL_INF2\": 25877.0, \"TITLE\": \"No Report\", \"pct_positive\": 4.21}, {\"Country\": \"United States of America\", \"WHOREGION\": \"Region of the Americas of WHO\", \"FLUREGION\": \"North America\", \"Year\": 2019, \"Week\": 45, \"SDATE\": \"2019-11-04\", \"EDATE\": \"2019-11-10\", \"SPEC_RECEIVED_NB\": 31189, \"SPEC_PROCESSED_NB\": 31189, \"AH1\": 0.0, \"AH1N12009\": 122, \"AH3\": 74, \"AH5\": null, \"ANOTSUBTYPED\": 619, \"INF_A\": 815, \"BYAMAGATA\": 10, \"BVICTORIA\": 234, \"BNOTDETERMINED\": 1149, \"INF_B\": 1393, \"ALL_INF\": 2208, \"ALL_INF2\": 28981.0, \"TITLE\": \"No Report\", \"pct_positive\": 7.08}, {\"Country\": \"United States of America\", \"WHOREGION\": \"Region of the Americas of WHO\", \"FLUREGION\": \"North America\", \"Year\": 2019, \"Week\": 46, \"SDATE\": \"2019-11-11\", \"EDATE\": \"2019-11-17\", \"SPEC_RECEIVED_NB\": 33647, \"SPEC_PROCESSED_NB\": 33647, \"AH1\": 0.0, \"AH1N12009\": 149, \"AH3\": 58, \"AH5\": null, \"ANOTSUBTYPED\": 681, \"INF_A\": 888, \"BYAMAGATA\": 10, \"BVICTORIA\": 330, \"BNOTDETERMINED\": 1678, \"INF_B\": 2018, \"ALL_INF\": 2906, \"ALL_INF2\": 30741.0, \"TITLE\": \"No Report\", \"pct_positive\": 8.64}, {\"Country\": \"United States of America\", \"WHOREGION\": \"Region of the Americas of WHO\", \"FLUREGION\": \"North America\", \"Year\": 2019, \"Week\": 47, \"SDATE\": \"2019-11-18\", \"EDATE\": \"2019-11-24\", \"SPEC_RECEIVED_NB\": 39305, \"SPEC_PROCESSED_NB\": 39305, \"AH1\": 0.0, \"AH1N12009\": 258, \"AH3\": 78, \"AH5\": null, \"ANOTSUBTYPED\": 1076, \"INF_A\": 1412, \"BYAMAGATA\": 10, \"BVICTORIA\": 423, \"BNOTDETERMINED\": 2754, \"INF_B\": 3187, \"ALL_INF\": 4599, \"ALL_INF2\": 34706.0, \"TITLE\": \"No Report\", \"pct_positive\": 11.7}, {\"Country\": \"United States of America\", \"WHOREGION\": \"Region of the Americas of WHO\", \"FLUREGION\": \"North America\", \"Year\": 2019, \"Week\": 48, \"SDATE\": \"2019-11-25\", \"EDATE\": \"2019-12-01\", \"SPEC_RECEIVED_NB\": 37757, \"SPEC_PROCESSED_NB\": 37757, \"AH1\": 0.0, \"AH1N12009\": 369, \"AH3\": 83, \"AH5\": null, \"ANOTSUBTYPED\": 1171, \"INF_A\": 1623, \"BYAMAGATA\": 10, \"BVICTORIA\": 500, \"BNOTDETERMINED\": 2934, \"INF_B\": 3444, \"ALL_INF\": 5067, \"ALL_INF2\": 32690.0, \"TITLE\": \"No Report\", \"pct_positive\": 13.42}, {\"Country\": \"United States of America\", \"WHOREGION\": \"Region of the Americas of WHO\", \"FLUREGION\": \"North America\", \"Year\": 2019, \"Week\": 49, \"SDATE\": \"2019-12-02\", \"EDATE\": \"2019-12-08\", \"SPEC_RECEIVED_NB\": 45188, \"SPEC_PROCESSED_NB\": 45188, \"AH1\": 0.0, \"AH1N12009\": 513, \"AH3\": 83, \"AH5\": null, \"ANOTSUBTYPED\": 1512, \"INF_A\": 2108, \"BYAMAGATA\": 14, \"BVICTORIA\": 657, \"BNOTDETERMINED\": 3656, \"INF_B\": 4327, \"ALL_INF\": 6435, \"ALL_INF2\": 38753.0, \"TITLE\": \"No Report\", \"pct_positive\": 14.24}, {\"Country\": \"United States of America\", \"WHOREGION\": \"Region of the Americas of WHO\", \"FLUREGION\": \"North America\", \"Year\": 2019, \"Week\": 50, \"SDATE\": \"2019-12-09\", \"EDATE\": \"2019-12-15\", \"SPEC_RECEIVED_NB\": 48415, \"SPEC_PROCESSED_NB\": 48415, \"AH1\": 0.0, \"AH1N12009\": 620, \"AH3\": 78, \"AH5\": null, \"ANOTSUBTYPED\": 2199, \"INF_A\": 2897, \"BYAMAGATA\": 15, \"BVICTORIA\": 807, \"BNOTDETERMINED\": 5408, \"INF_B\": 6230, \"ALL_INF\": 9127, \"ALL_INF2\": 39288.0, \"TITLE\": \"No Report\", \"pct_positive\": 18.85}, {\"Country\": \"United States of America\", \"WHOREGION\": \"Region of the Americas of WHO\", \"FLUREGION\": \"North America\", \"Year\": 2019, \"Week\": 51, \"SDATE\": \"2019-12-16\", \"EDATE\": \"2019-12-22\", \"SPEC_RECEIVED_NB\": 58494, \"SPEC_PROCESSED_NB\": 58494, \"AH1\": 0.0, \"AH1N12009\": 915, \"AH3\": 52, \"AH5\": null, \"ANOTSUBTYPED\": 3749, \"INF_A\": 4716, \"BYAMAGATA\": 16, \"BVICTORIA\": 1110, \"BNOTDETERMINED\": 8855, \"INF_B\": 9981, \"ALL_INF\": 14697, \"ALL_INF2\": 43797.0, \"TITLE\": \"No Report\", \"pct_positive\": 25.13}, {\"Country\": \"United States of America\", \"WHOREGION\": \"Region of the Americas of WHO\", \"FLUREGION\": \"North America\", \"Year\": 2019, \"Week\": 52, \"SDATE\": \"2019-12-23\", \"EDATE\": \"2019-12-29\", \"SPEC_RECEIVED_NB\": 68238, \"SPEC_PROCESSED_NB\": 68238, \"AH1\": 0.0, \"AH1N12009\": 1210, \"AH3\": 88, \"AH5\": null, \"ANOTSUBTYPED\": 6007, \"INF_A\": 7305, \"BYAMAGATA\": 24, \"BVICTORIA\": 1326, \"BNOTDETERMINED\": 11612, \"INF_B\": 12962, \"ALL_INF\": 20267, \"ALL_INF2\": 47971.0, \"TITLE\": \"No Report\", \"pct_positive\": 29.7}, {\"Country\": \"United States of America\", \"WHOREGION\": \"Region of the Americas of WHO\", \"FLUREGION\": \"North America\", \"Year\": 2020, \"Week\": 1, \"SDATE\": \"2019-12-30\", \"EDATE\": \"2020-01-05\", \"SPEC_RECEIVED_NB\": 69417, \"SPEC_PROCESSED_NB\": 69417, \"AH1\": null, \"AH1N12009\": 1262, \"AH3\": 101, \"AH5\": null, \"ANOTSUBTYPED\": 5690, \"INF_A\": 7053, \"BYAMAGATA\": 23, \"BVICTORIA\": 1275, \"BNOTDETERMINED\": 9853, \"INF_B\": 11151, \"ALL_INF\": 18204, \"ALL_INF2\": 51213.0, \"TITLE\": \"No Report\", \"pct_positive\": 26.22}, {\"Country\": \"United States of America\", \"WHOREGION\": \"Region of the Americas of WHO\", \"FLUREGION\": \"North America\", \"Year\": 2020, \"Week\": 2, \"SDATE\": \"2020-01-06\", \"EDATE\": \"2020-01-12\", \"SPEC_RECEIVED_NB\": 65248, \"SPEC_PROCESSED_NB\": 65248, \"AH1\": null, \"AH1N12009\": 1338, \"AH3\": 86, \"AH5\": null, \"ANOTSUBTYPED\": 6143, \"INF_A\": 7567, \"BYAMAGATA\": 20, \"BVICTORIA\": 1145, \"BNOTDETERMINED\": 8151, \"INF_B\": 9316, \"ALL_INF\": 16883, \"ALL_INF2\": 48365.0, \"TITLE\": \"No Report\", \"pct_positive\": 25.88}, {\"Country\": \"United States of America\", \"WHOREGION\": \"Region of the Americas of WHO\", \"FLUREGION\": \"North America\", \"Year\": 2020, \"Week\": 3, \"SDATE\": \"2020-01-13\", \"EDATE\": \"2020-01-19\", \"SPEC_RECEIVED_NB\": 65248, \"SPEC_PROCESSED_NB\": 65248, \"AH1\": null, \"AH1N12009\": 1598, \"AH3\": 73, \"AH5\": null, \"ANOTSUBTYPED\": 7768, \"INF_A\": 9439, \"BYAMAGATA\": 12, \"BVICTORIA\": 1244, \"BNOTDETERMINED\": 8272, \"INF_B\": 9528, \"ALL_INF\": 18967, \"ALL_INF2\": 46281.0, \"TITLE\": \"No Report\", \"pct_positive\": 29.07}, {\"Country\": \"United States of America\", \"WHOREGION\": \"Region of the Americas of WHO\", \"FLUREGION\": \"North America\", \"Year\": 2020, \"Week\": 4, \"SDATE\": \"2020-01-20\", \"EDATE\": \"2020-01-26\", \"SPEC_RECEIVED_NB\": 69503, \"SPEC_PROCESSED_NB\": 69503, \"AH1\": null, \"AH1N12009\": 1769, \"AH3\": 79, \"AH5\": null, \"ANOTSUBTYPED\": 9515, \"INF_A\": 11363, \"BYAMAGATA\": 8, \"BVICTORIA\": 1137, \"BNOTDETERMINED\": 9020, \"INF_B\": 10165, \"ALL_INF\": 21528, \"ALL_INF2\": 47975.0, \"TITLE\": \"No Report\", \"pct_positive\": 30.97}, {\"Country\": \"United States of America\", \"WHOREGION\": \"Region of the Americas of WHO\", \"FLUREGION\": \"North America\", \"Year\": 2020, \"Week\": 5, \"SDATE\": \"2020-01-27\", \"EDATE\": \"2020-02-02\", \"SPEC_RECEIVED_NB\": 78337, \"SPEC_PROCESSED_NB\": 78337, \"AH1\": null, \"AH1N12009\": 2359, \"AH3\": 92, \"AH5\": null, \"ANOTSUBTYPED\": 12152, \"INF_A\": 14603, \"BYAMAGATA\": 8, \"BVICTORIA\": 1069, \"BNOTDETERMINED\": 9980, \"INF_B\": 11057, \"ALL_INF\": 25660, \"ALL_INF2\": 52677.0, \"TITLE\": \"No Report\", \"pct_positive\": 32.76}, {\"Country\": \"United States of America\", \"WHOREGION\": \"Region of the Americas of WHO\", \"FLUREGION\": \"North America\", \"Year\": 2020, \"Week\": 6, \"SDATE\": \"2020-02-03\", \"EDATE\": \"2020-02-09\", \"SPEC_RECEIVED_NB\": 77514, \"SPEC_PROCESSED_NB\": 77514, \"AH1\": null, \"AH1N12009\": 2346, \"AH3\": 91, \"AH5\": null, \"ANOTSUBTYPED\": 13024, \"INF_A\": 15461, \"BYAMAGATA\": 5, \"BVICTORIA\": 871, \"BNOTDETERMINED\": 9075, \"INF_B\": 9951, \"ALL_INF\": 25412, \"ALL_INF2\": 52102.0, \"TITLE\": \"No Report\", \"pct_positive\": 32.78}, {\"Country\": \"United States of America\", \"WHOREGION\": \"Region of the Americas of WHO\", \"FLUREGION\": \"North America\", \"Year\": 2020, \"Week\": 7, \"SDATE\": \"2020-02-10\", \"EDATE\": \"2020-02-16\", \"SPEC_RECEIVED_NB\": 74285, \"SPEC_PROCESSED_NB\": 74285, \"AH1\": null, \"AH1N12009\": 2048, \"AH3\": 65, \"AH5\": null, \"ANOTSUBTYPED\": 13501, \"INF_A\": 15614, \"BYAMAGATA\": 10, \"BVICTORIA\": 744, \"BNOTDETERMINED\": 7460, \"INF_B\": 8214, \"ALL_INF\": 23828, \"ALL_INF2\": 50457.0, \"TITLE\": \"No Report\", \"pct_positive\": 32.08}, {\"Country\": \"United States of America\", \"WHOREGION\": \"Region of the Americas of WHO\", \"FLUREGION\": \"North America\", \"Year\": 2020, \"Week\": 8, \"SDATE\": \"2020-02-17\", \"EDATE\": \"2020-02-23\", \"SPEC_RECEIVED_NB\": 69556, \"SPEC_PROCESSED_NB\": 69556, \"AH1\": null, \"AH1N12009\": 1752, \"AH3\": 76, \"AH5\": null, \"ANOTSUBTYPED\": 12833, \"INF_A\": 14661, \"BYAMAGATA\": 9, \"BVICTORIA\": 564, \"BNOTDETERMINED\": 5924, \"INF_B\": 6497, \"ALL_INF\": 21158, \"ALL_INF2\": 48398.0, \"TITLE\": \"No Report\", \"pct_positive\": 30.42}, {\"Country\": \"United States of America\", \"WHOREGION\": \"Region of the Americas of WHO\", \"FLUREGION\": \"North America\", \"Year\": 2020, \"Week\": 9, \"SDATE\": \"2020-02-24\", \"EDATE\": \"2020-03-01\", \"SPEC_RECEIVED_NB\": 66390, \"SPEC_PROCESSED_NB\": 66390, \"AH1\": null, \"AH1N12009\": 1662, \"AH3\": 63, \"AH5\": null, \"ANOTSUBTYPED\": 11763, \"INF_A\": 13488, \"BYAMAGATA\": 8, \"BVICTORIA\": 454, \"BNOTDETERMINED\": 4503, \"INF_B\": 4965, \"ALL_INF\": 18453, \"ALL_INF2\": 47937.0, \"TITLE\": \"No Report\", \"pct_positive\": 27.79}, {\"Country\": \"United States of America\", \"WHOREGION\": \"Region of the Americas of WHO\", \"FLUREGION\": \"North America\", \"Year\": 2020, \"Week\": 10, \"SDATE\": \"2020-03-02\", \"EDATE\": \"2020-03-08\", \"SPEC_RECEIVED_NB\": 68289, \"SPEC_PROCESSED_NB\": 68289, \"AH1\": null, \"AH1N12009\": 1601, \"AH3\": 73, \"AH5\": null, \"ANOTSUBTYPED\": 11115, \"INF_A\": 12789, \"BYAMAGATA\": 8, \"BVICTORIA\": 352, \"BNOTDETERMINED\": 3508, \"INF_B\": 3868, \"ALL_INF\": 16657, \"ALL_INF2\": 51632.0, \"TITLE\": \"No Report\", \"pct_positive\": 24.39}, {\"Country\": \"United States of America\", \"WHOREGION\": \"Region of the Americas of WHO\", \"FLUREGION\": \"North America\", \"Year\": 2020, \"Week\": 11, \"SDATE\": \"2020-03-09\", \"EDATE\": \"2020-03-15\", \"SPEC_RECEIVED_NB\": 78010, \"SPEC_PROCESSED_NB\": 78010, \"AH1\": null, \"AH1N12009\": 1136, \"AH3\": 74, \"AH5\": null, \"ANOTSUBTYPED\": 9127, \"INF_A\": 10337, \"BYAMAGATA\": 3, \"BVICTORIA\": 197, \"BNOTDETERMINED\": 2775, \"INF_B\": 2975, \"ALL_INF\": 13312, \"ALL_INF2\": 64698.0, \"TITLE\": \"No Report\", \"pct_positive\": 17.06}, {\"Country\": \"United States of America\", \"WHOREGION\": \"Region of the Americas of WHO\", \"FLUREGION\": \"North America\", \"Year\": 2020, \"Week\": 12, \"SDATE\": \"2020-03-16\", \"EDATE\": \"2020-03-22\", \"SPEC_RECEIVED_NB\": 75949, \"SPEC_PROCESSED_NB\": 75949, \"AH1\": null, \"AH1N12009\": 444, \"AH3\": 30, \"AH5\": null, \"ANOTSUBTYPED\": 4154, \"INF_A\": 4628, \"BYAMAGATA\": 1, \"BVICTORIA\": 77, \"BNOTDETERMINED\": 1397, \"INF_B\": 1475, \"ALL_INF\": 6103, \"ALL_INF2\": 69846.0, \"TITLE\": \"No Report\", \"pct_positive\": 8.04}, {\"Country\": \"United States of America\", \"WHOREGION\": \"Region of the Americas of WHO\", \"FLUREGION\": \"North America\", \"Year\": 2020, \"Week\": 13, \"SDATE\": \"2020-03-23\", \"EDATE\": \"2020-03-29\", \"SPEC_RECEIVED_NB\": 46900, \"SPEC_PROCESSED_NB\": 46900, \"AH1\": null, \"AH1N12009\": 100, \"AH3\": 7, \"AH5\": null, \"ANOTSUBTYPED\": 767, \"INF_A\": 874, \"BYAMAGATA\": 2, \"BVICTORIA\": 20, \"BNOTDETERMINED\": 314, \"INF_B\": 336, \"ALL_INF\": 1210, \"ALL_INF2\": 45690.0, \"TITLE\": \"No Report\", \"pct_positive\": 2.58}, {\"Country\": \"United States of America\", \"WHOREGION\": \"Region of the Americas of WHO\", \"FLUREGION\": \"North America\", \"Year\": 2020, \"Week\": 14, \"SDATE\": \"2020-03-30\", \"EDATE\": \"2020-04-05\", \"SPEC_RECEIVED_NB\": 32310, \"SPEC_PROCESSED_NB\": 32310, \"AH1\": null, \"AH1N12009\": 37, \"AH3\": 1, \"AH5\": null, \"ANOTSUBTYPED\": 200, \"INF_A\": 238, \"BYAMAGATA\": 0, \"BVICTORIA\": 5, \"BNOTDETERMINED\": 129, \"INF_B\": 134, \"ALL_INF\": 372, \"ALL_INF2\": 31938.0, \"TITLE\": \"No Report\", \"pct_positive\": 1.15}, {\"Country\": \"United States of America\", \"WHOREGION\": \"Region of the Americas of WHO\", \"FLUREGION\": \"North America\", \"Year\": 2020, \"Week\": 15, \"SDATE\": \"2020-04-06\", \"EDATE\": \"2020-04-12\", \"SPEC_RECEIVED_NB\": 20593, \"SPEC_PROCESSED_NB\": 20593, \"AH1\": null, \"AH1N12009\": 28, \"AH3\": 0, \"AH5\": null, \"ANOTSUBTYPED\": 78, \"INF_A\": 106, \"BYAMAGATA\": 0, \"BVICTORIA\": 0, \"BNOTDETERMINED\": 50, \"INF_B\": 50, \"ALL_INF\": 156, \"ALL_INF2\": 20437.0, \"TITLE\": \"No Report\", \"pct_positive\": 0.76}, {\"Country\": \"United States of America\", \"WHOREGION\": \"Region of the Americas of WHO\", \"FLUREGION\": \"North America\", \"Year\": 2020, \"Week\": 16, \"SDATE\": \"2020-04-13\", \"EDATE\": \"2020-04-19\", \"SPEC_RECEIVED_NB\": 15327, \"SPEC_PROCESSED_NB\": 15327, \"AH1\": null, \"AH1N12009\": 19, \"AH3\": 0, \"AH5\": null, \"ANOTSUBTYPED\": 58, \"INF_A\": 77, \"BYAMAGATA\": 0, \"BVICTORIA\": 2, \"BNOTDETERMINED\": 35, \"INF_B\": 37, \"ALL_INF\": 114, \"ALL_INF2\": 15213.0, \"TITLE\": \"No Report\", \"pct_positive\": 0.74}, {\"Country\": \"United States of America\", \"WHOREGION\": \"Region of the Americas of WHO\", \"FLUREGION\": \"North America\", \"Year\": 2020, \"Week\": 17, \"SDATE\": \"2020-04-20\", \"EDATE\": \"2020-04-26\", \"SPEC_RECEIVED_NB\": 13640, \"SPEC_PROCESSED_NB\": 13640, \"AH1\": null, \"AH1N12009\": 26, \"AH3\": 0, \"AH5\": null, \"ANOTSUBTYPED\": 20, \"INF_A\": 46, \"BYAMAGATA\": 0, \"BVICTORIA\": 0, \"BNOTDETERMINED\": 12, \"INF_B\": 12, \"ALL_INF\": 58, \"ALL_INF2\": 13582.0, \"TITLE\": \"No Report\", \"pct_positive\": 0.43}, {\"Country\": \"United States of America\", \"WHOREGION\": \"Region of the Americas of WHO\", \"FLUREGION\": \"North America\", \"Year\": 2020, \"Week\": 18, \"SDATE\": \"2020-04-27\", \"EDATE\": \"2020-05-03\", \"SPEC_RECEIVED_NB\": 11010, \"SPEC_PROCESSED_NB\": 11010, \"AH1\": null, \"AH1N12009\": 23, \"AH3\": 0, \"AH5\": null, \"ANOTSUBTYPED\": 20, \"INF_A\": 43, \"BYAMAGATA\": 0, \"BVICTORIA\": 1, \"BNOTDETERMINED\": 10, \"INF_B\": 11, \"ALL_INF\": 54, \"ALL_INF2\": 10956.0, \"TITLE\": \"No Report\", \"pct_positive\": 0.49}, {\"Country\": \"United States of America\", \"WHOREGION\": \"Region of the Americas of WHO\", \"FLUREGION\": \"North America\", \"Year\": 2020, \"Week\": 19, \"SDATE\": \"2020-05-04\", \"EDATE\": \"2020-05-10\", \"SPEC_RECEIVED_NB\": 9550, \"SPEC_PROCESSED_NB\": 9550, \"AH1\": null, \"AH1N12009\": 26, \"AH3\": 1, \"AH5\": null, \"ANOTSUBTYPED\": 14, \"INF_A\": 41, \"BYAMAGATA\": 0, \"BVICTORIA\": 0, \"BNOTDETERMINED\": 17, \"INF_B\": 17, \"ALL_INF\": 58, \"ALL_INF2\": 9492.0, \"TITLE\": \"No Report\", \"pct_positive\": 0.61}, {\"Country\": \"United States of America\", \"WHOREGION\": \"Region of the Americas of WHO\", \"FLUREGION\": \"North America\", \"Year\": 2020, \"Week\": 20, \"SDATE\": \"2020-05-11\", \"EDATE\": \"2020-05-17\", \"SPEC_RECEIVED_NB\": 8526, \"SPEC_PROCESSED_NB\": 8526, \"AH1\": null, \"AH1N12009\": 24, \"AH3\": 0, \"AH5\": null, \"ANOTSUBTYPED\": 14, \"INF_A\": 38, \"BYAMAGATA\": 0, \"BVICTORIA\": 0, \"BNOTDETERMINED\": 13, \"INF_B\": 13, \"ALL_INF\": 51, \"ALL_INF2\": 8475.0, \"TITLE\": \"No Report\", \"pct_positive\": 0.6}, {\"Country\": \"United States of America\", \"WHOREGION\": \"Region of the Americas of WHO\", \"FLUREGION\": \"North America\", \"Year\": 2020, \"Week\": 21, \"SDATE\": \"2020-05-18\", \"EDATE\": \"2020-05-24\", \"SPEC_RECEIVED_NB\": 8076, \"SPEC_PROCESSED_NB\": 8076, \"AH1\": null, \"AH1N12009\": 0, \"AH3\": 0, \"AH5\": null, \"ANOTSUBTYPED\": 9, \"INF_A\": 9, \"BYAMAGATA\": 0, \"BVICTORIA\": 0, \"BNOTDETERMINED\": 8, \"INF_B\": 8, \"ALL_INF\": 17, \"ALL_INF2\": 8059.0, \"TITLE\": \"No Report\", \"pct_positive\": 0.21}, {\"Country\": \"United States of America\", \"WHOREGION\": \"Region of the Americas of WHO\", \"FLUREGION\": \"North America\", \"Year\": 2020, \"Week\": 22, \"SDATE\": \"2020-05-25\", \"EDATE\": \"2020-05-31\", \"SPEC_RECEIVED_NB\": 6583, \"SPEC_PROCESSED_NB\": 6583, \"AH1\": null, \"AH1N12009\": 2, \"AH3\": 0, \"AH5\": null, \"ANOTSUBTYPED\": 8, \"INF_A\": 10, \"BYAMAGATA\": 0, \"BVICTORIA\": 0, \"BNOTDETERMINED\": 4, \"INF_B\": 4, \"ALL_INF\": 14, \"ALL_INF2\": 6569.0, \"TITLE\": \"No Report\", \"pct_positive\": 0.21}, {\"Country\": \"United States of America\", \"WHOREGION\": \"Region of the Americas of WHO\", \"FLUREGION\": \"North America\", \"Year\": 2020, \"Week\": 23, \"SDATE\": \"2020-06-01\", \"EDATE\": \"2020-06-07\", \"SPEC_RECEIVED_NB\": 6540, \"SPEC_PROCESSED_NB\": 6540, \"AH1\": null, \"AH1N12009\": 0, \"AH3\": 0, \"AH5\": null, \"ANOTSUBTYPED\": 9, \"INF_A\": 9, \"BYAMAGATA\": 0, \"BVICTORIA\": 0, \"BNOTDETERMINED\": 14, \"INF_B\": 14, \"ALL_INF\": 23, \"ALL_INF2\": 6517.0, \"TITLE\": \"No Report\", \"pct_positive\": 0.35}, {\"Country\": \"United States of America\", \"WHOREGION\": \"Region of the Americas of WHO\", \"FLUREGION\": \"North America\", \"Year\": 2020, \"Week\": 24, \"SDATE\": \"2020-06-08\", \"EDATE\": \"2020-06-14\", \"SPEC_RECEIVED_NB\": 6065, \"SPEC_PROCESSED_NB\": 6065, \"AH1\": null, \"AH1N12009\": 1, \"AH3\": 0, \"AH5\": null, \"ANOTSUBTYPED\": 9, \"INF_A\": 10, \"BYAMAGATA\": 0, \"BVICTORIA\": 1, \"BNOTDETERMINED\": 11, \"INF_B\": 12, \"ALL_INF\": 22, \"ALL_INF2\": 6043.0, \"TITLE\": \"No Report\", \"pct_positive\": 0.36}, {\"Country\": \"United States of America\", \"WHOREGION\": \"Region of the Americas of WHO\", \"FLUREGION\": \"North America\", \"Year\": 2020, \"Week\": 25, \"SDATE\": \"2020-06-15\", \"EDATE\": \"2020-06-21\", \"SPEC_RECEIVED_NB\": 5645, \"SPEC_PROCESSED_NB\": 5645, \"AH1\": null, \"AH1N12009\": 0, \"AH3\": 0, \"AH5\": null, \"ANOTSUBTYPED\": 12, \"INF_A\": 12, \"BYAMAGATA\": 0, \"BVICTORIA\": 0, \"BNOTDETERMINED\": 8, \"INF_B\": 8, \"ALL_INF\": 20, \"ALL_INF2\": 5625.0, \"TITLE\": \"No Report\", \"pct_positive\": 0.35}, {\"Country\": \"United States of America\", \"WHOREGION\": \"Region of the Americas of WHO\", \"FLUREGION\": \"North America\", \"Year\": 2020, \"Week\": 26, \"SDATE\": \"2020-06-22\", \"EDATE\": \"2020-06-28\", \"SPEC_RECEIVED_NB\": 5875, \"SPEC_PROCESSED_NB\": 5875, \"AH1\": null, \"AH1N12009\": 0, \"AH3\": 0, \"AH5\": null, \"ANOTSUBTYPED\": 12, \"INF_A\": 12, \"BYAMAGATA\": 0, \"BVICTORIA\": 0, \"BNOTDETERMINED\": 7, \"INF_B\": 7, \"ALL_INF\": 19, \"ALL_INF2\": 5856.0, \"TITLE\": \"No Report\", \"pct_positive\": 0.32}, {\"Country\": \"United States of America\", \"WHOREGION\": \"Region of the Americas of WHO\", \"FLUREGION\": \"North America\", \"Year\": 2020, \"Week\": 27, \"SDATE\": \"2020-06-29\", \"EDATE\": \"2020-07-05\", \"SPEC_RECEIVED_NB\": 6378, \"SPEC_PROCESSED_NB\": 6378, \"AH1\": null, \"AH1N12009\": 0, \"AH3\": 0, \"AH5\": null, \"ANOTSUBTYPED\": 9, \"INF_A\": 9, \"BYAMAGATA\": 0, \"BVICTORIA\": 0, \"BNOTDETERMINED\": 5, \"INF_B\": 5, \"ALL_INF\": 14, \"ALL_INF2\": 6364.0, \"TITLE\": \"No Report\", \"pct_positive\": 0.22}, {\"Country\": \"United States of America\", \"WHOREGION\": \"Region of the Americas of WHO\", \"FLUREGION\": \"North America\", \"Year\": 2020, \"Week\": 28, \"SDATE\": \"2020-07-06\", \"EDATE\": \"2020-07-12\", \"SPEC_RECEIVED_NB\": 6503, \"SPEC_PROCESSED_NB\": 6503, \"AH1\": null, \"AH1N12009\": 0, \"AH3\": 0, \"AH5\": null, \"ANOTSUBTYPED\": 7, \"INF_A\": 7, \"BYAMAGATA\": 0, \"BVICTORIA\": 0, \"BNOTDETERMINED\": 6, \"INF_B\": 6, \"ALL_INF\": 13, \"ALL_INF2\": 6490.0, \"TITLE\": \"No Report\", \"pct_positive\": 0.2}, {\"Country\": \"United States of America\", \"WHOREGION\": \"Region of the Americas of WHO\", \"FLUREGION\": \"North America\", \"Year\": 2020, \"Week\": 29, \"SDATE\": \"2020-07-13\", \"EDATE\": \"2020-07-19\", \"SPEC_RECEIVED_NB\": 6339, \"SPEC_PROCESSED_NB\": 6339, \"AH1\": null, \"AH1N12009\": 0, \"AH3\": 0, \"AH5\": null, \"ANOTSUBTYPED\": 11, \"INF_A\": 11, \"BYAMAGATA\": 0, \"BVICTORIA\": 0, \"BNOTDETERMINED\": 12, \"INF_B\": 12, \"ALL_INF\": 23, \"ALL_INF2\": 6316.0, \"TITLE\": \"No Report\", \"pct_positive\": 0.36}, {\"Country\": \"United States of America\", \"WHOREGION\": \"Region of the Americas of WHO\", \"FLUREGION\": \"North America\", \"Year\": 2020, \"Week\": 30, \"SDATE\": \"2020-07-20\", \"EDATE\": \"2020-07-26\", \"SPEC_RECEIVED_NB\": 6212, \"SPEC_PROCESSED_NB\": 6212, \"AH1\": null, \"AH1N12009\": 0, \"AH3\": 0, \"AH5\": null, \"ANOTSUBTYPED\": 7, \"INF_A\": 7, \"BYAMAGATA\": 0, \"BVICTORIA\": 0, \"BNOTDETERMINED\": 4, \"INF_B\": 4, \"ALL_INF\": 11, \"ALL_INF2\": 6201.0, \"TITLE\": \"No Report\", \"pct_positive\": 0.18}, {\"Country\": \"United States of America\", \"WHOREGION\": \"Region of the Americas of WHO\", \"FLUREGION\": \"North America\", \"Year\": 2020, \"Week\": 31, \"SDATE\": \"2020-07-27\", \"EDATE\": \"2020-08-02\", \"SPEC_RECEIVED_NB\": 6233, \"SPEC_PROCESSED_NB\": 6233, \"AH1\": null, \"AH1N12009\": 0, \"AH3\": 0, \"AH5\": null, \"ANOTSUBTYPED\": 3, \"INF_A\": 3, \"BYAMAGATA\": 0, \"BVICTORIA\": 0, \"BNOTDETERMINED\": 5, \"INF_B\": 5, \"ALL_INF\": 8, \"ALL_INF2\": 6225.0, \"TITLE\": \"No Report\", \"pct_positive\": 0.13}, {\"Country\": \"United States of America\", \"WHOREGION\": \"Region of the Americas of WHO\", \"FLUREGION\": \"North America\", \"Year\": 2020, \"Week\": 32, \"SDATE\": \"2020-08-03\", \"EDATE\": \"2020-08-09\", \"SPEC_RECEIVED_NB\": 6412, \"SPEC_PROCESSED_NB\": 6412, \"AH1\": null, \"AH1N12009\": 0, \"AH3\": 0, \"AH5\": null, \"ANOTSUBTYPED\": 7, \"INF_A\": 7, \"BYAMAGATA\": 0, \"BVICTORIA\": 0, \"BNOTDETERMINED\": 4, \"INF_B\": 4, \"ALL_INF\": 11, \"ALL_INF2\": 6401.0, \"TITLE\": \"No Report\", \"pct_positive\": 0.17}, {\"Country\": \"United States of America\", \"WHOREGION\": \"Region of the Americas of WHO\", \"FLUREGION\": \"North America\", \"Year\": 2020, \"Week\": 33, \"SDATE\": \"2020-08-10\", \"EDATE\": \"2020-08-16\", \"SPEC_RECEIVED_NB\": 6163, \"SPEC_PROCESSED_NB\": 6163, \"AH1\": null, \"AH1N12009\": 0, \"AH3\": 0, \"AH5\": null, \"ANOTSUBTYPED\": 4, \"INF_A\": 4, \"BYAMAGATA\": 0, \"BVICTORIA\": 0, \"BNOTDETERMINED\": 5, \"INF_B\": 5, \"ALL_INF\": 9, \"ALL_INF2\": 6154.0, \"TITLE\": \"No Report\", \"pct_positive\": 0.15}, {\"Country\": \"United States of America\", \"WHOREGION\": \"Region of the Americas of WHO\", \"FLUREGION\": \"North America\", \"Year\": 2020, \"Week\": 34, \"SDATE\": \"2020-08-17\", \"EDATE\": \"2020-08-23\", \"SPEC_RECEIVED_NB\": 6349, \"SPEC_PROCESSED_NB\": 6349, \"AH1\": null, \"AH1N12009\": 0, \"AH3\": 0, \"AH5\": null, \"ANOTSUBTYPED\": 6, \"INF_A\": 6, \"BYAMAGATA\": 0, \"BVICTORIA\": 0, \"BNOTDETERMINED\": 8, \"INF_B\": 8, \"ALL_INF\": 14, \"ALL_INF2\": 6335.0, \"TITLE\": \"No Report\", \"pct_positive\": 0.22}, {\"Country\": \"United States of America\", \"WHOREGION\": \"Region of the Americas of WHO\", \"FLUREGION\": \"North America\", \"Year\": 2020, \"Week\": 35, \"SDATE\": \"2020-08-24\", \"EDATE\": \"2020-08-30\", \"SPEC_RECEIVED_NB\": 8657, \"SPEC_PROCESSED_NB\": 8657, \"AH1\": null, \"AH1N12009\": 0, \"AH3\": 0, \"AH5\": null, \"ANOTSUBTYPED\": 7, \"INF_A\": 7, \"BYAMAGATA\": 0, \"BVICTORIA\": 0, \"BNOTDETERMINED\": 13, \"INF_B\": 13, \"ALL_INF\": 20, \"ALL_INF2\": 8637.0, \"TITLE\": \"No Report\", \"pct_positive\": 0.23}, {\"Country\": \"United States of America\", \"WHOREGION\": \"Region of the Americas of WHO\", \"FLUREGION\": \"North America\", \"Year\": 2020, \"Week\": 36, \"SDATE\": \"2020-08-31\", \"EDATE\": \"2020-09-06\", \"SPEC_RECEIVED_NB\": 8561, \"SPEC_PROCESSED_NB\": 8561, \"AH1\": null, \"AH1N12009\": 0, \"AH3\": 0, \"AH5\": null, \"ANOTSUBTYPED\": 8, \"INF_A\": 8, \"BYAMAGATA\": 0, \"BVICTORIA\": 0, \"BNOTDETERMINED\": 6, \"INF_B\": 6, \"ALL_INF\": 14, \"ALL_INF2\": 8547.0, \"TITLE\": \"No Report\", \"pct_positive\": 0.16}, {\"Country\": \"United States of America\", \"WHOREGION\": \"Region of the Americas of WHO\", \"FLUREGION\": \"North America\", \"Year\": 2020, \"Week\": 37, \"SDATE\": \"2020-09-07\", \"EDATE\": \"2020-09-13\", \"SPEC_RECEIVED_NB\": 6603, \"SPEC_PROCESSED_NB\": 6603, \"AH1\": null, \"AH1N12009\": 0, \"AH3\": 1, \"AH5\": null, \"ANOTSUBTYPED\": 7, \"INF_A\": 8, \"BYAMAGATA\": 0, \"BVICTORIA\": 0, \"BNOTDETERMINED\": 6, \"INF_B\": 6, \"ALL_INF\": 14, \"ALL_INF2\": 6589.0, \"TITLE\": \"No Report\", \"pct_positive\": 0.21}, {\"Country\": \"United States of America\", \"WHOREGION\": \"Region of the Americas of WHO\", \"FLUREGION\": \"North America\", \"Year\": 2020, \"Week\": 38, \"SDATE\": \"2020-09-14\", \"EDATE\": \"2020-09-20\", \"SPEC_RECEIVED_NB\": 7539, \"SPEC_PROCESSED_NB\": 7539, \"AH1\": null, \"AH1N12009\": 0, \"AH3\": 0, \"AH5\": null, \"ANOTSUBTYPED\": 15, \"INF_A\": 15, \"BYAMAGATA\": 0, \"BVICTORIA\": 0, \"BNOTDETERMINED\": 18, \"INF_B\": 18, \"ALL_INF\": 33, \"ALL_INF2\": 7506.0, \"TITLE\": \"No Report\", \"pct_positive\": 0.44}, {\"Country\": \"United States of America\", \"WHOREGION\": \"Region of the Americas of WHO\", \"FLUREGION\": \"North America\", \"Year\": 2020, \"Week\": 39, \"SDATE\": \"2020-09-21\", \"EDATE\": \"2020-09-27\", \"SPEC_RECEIVED_NB\": 9814, \"SPEC_PROCESSED_NB\": 9814, \"AH1\": null, \"AH1N12009\": 0, \"AH3\": 0, \"AH5\": null, \"ANOTSUBTYPED\": 14, \"INF_A\": 14, \"BYAMAGATA\": 0, \"BVICTORIA\": 0, \"BNOTDETERMINED\": 10, \"INF_B\": 10, \"ALL_INF\": 24, \"ALL_INF2\": 9790.0, \"TITLE\": \"No Report\", \"pct_positive\": 0.24}, {\"Country\": \"United States of America\", \"WHOREGION\": \"Region of the Americas of WHO\", \"FLUREGION\": \"North America\", \"Year\": 2020, \"Week\": 40, \"SDATE\": \"2020-09-28\", \"EDATE\": \"2020-10-04\", \"SPEC_RECEIVED_NB\": 23679, \"SPEC_PROCESSED_NB\": 23679, \"AH1\": null, \"AH1N12009\": 0, \"AH3\": 0, \"AH5\": null, \"ANOTSUBTYPED\": 22, \"INF_A\": 22, \"BYAMAGATA\": 0, \"BVICTORIA\": 0, \"BNOTDETERMINED\": 23, \"INF_B\": 23, \"ALL_INF\": 45, \"ALL_INF2\": 23634.0, \"TITLE\": \"No Report\", \"pct_positive\": 0.19}, {\"Country\": \"United States of America\", \"WHOREGION\": \"Region of the Americas of WHO\", \"FLUREGION\": \"North America\", \"Year\": 2020, \"Week\": 41, \"SDATE\": \"2020-10-05\", \"EDATE\": \"2020-10-11\", \"SPEC_RECEIVED_NB\": 27004, \"SPEC_PROCESSED_NB\": 27004, \"AH1\": null, \"AH1N12009\": 3, \"AH3\": 2, \"AH5\": null, \"ANOTSUBTYPED\": 33, \"INF_A\": 38, \"BYAMAGATA\": 0, \"BVICTORIA\": 1, \"BNOTDETERMINED\": 33, \"INF_B\": 34, \"ALL_INF\": 72, \"ALL_INF2\": 26932.0, \"TITLE\": \"No Report\", \"pct_positive\": 0.27}, {\"Country\": \"United States of America\", \"WHOREGION\": \"Region of the Americas of WHO\", \"FLUREGION\": \"North America\", \"Year\": 2020, \"Week\": 42, \"SDATE\": \"2020-10-12\", \"EDATE\": \"2020-10-18\", \"SPEC_RECEIVED_NB\": 26264, \"SPEC_PROCESSED_NB\": 26264, \"AH1\": null, \"AH1N12009\": 0, \"AH3\": 1, \"AH5\": null, \"ANOTSUBTYPED\": 31, \"INF_A\": 32, \"BYAMAGATA\": 0, \"BVICTORIA\": 0, \"BNOTDETERMINED\": 31, \"INF_B\": 31, \"ALL_INF\": 63, \"ALL_INF2\": 26201.0, \"TITLE\": \"No Report\", \"pct_positive\": 0.24}, {\"Country\": \"United States of America\", \"WHOREGION\": \"Region of the Americas of WHO\", \"FLUREGION\": \"North America\", \"Year\": 2020, \"Week\": 43, \"SDATE\": \"2020-10-19\", \"EDATE\": \"2020-10-25\", \"SPEC_RECEIVED_NB\": 31983, \"SPEC_PROCESSED_NB\": 31983, \"AH1\": null, \"AH1N12009\": 1, \"AH3\": 1, \"AH5\": null, \"ANOTSUBTYPED\": 32, \"INF_A\": 34, \"BYAMAGATA\": 0, \"BVICTORIA\": 0, \"BNOTDETERMINED\": 24, \"INF_B\": 24, \"ALL_INF\": 58, \"ALL_INF2\": 31925.0, \"TITLE\": \"No Report\", \"pct_positive\": 0.18}, {\"Country\": \"United States of America\", \"WHOREGION\": \"Region of the Americas of WHO\", \"FLUREGION\": \"North America\", \"Year\": 2020, \"Week\": 44, \"SDATE\": \"2020-10-26\", \"EDATE\": \"2020-11-01\", \"SPEC_RECEIVED_NB\": 40801, \"SPEC_PROCESSED_NB\": 40801, \"AH1\": null, \"AH1N12009\": 0, \"AH3\": 1, \"AH5\": null, \"ANOTSUBTYPED\": 31, \"INF_A\": 32, \"BYAMAGATA\": 2, \"BVICTORIA\": 1, \"BNOTDETERMINED\": 33, \"INF_B\": 36, \"ALL_INF\": 68, \"ALL_INF2\": 40733.0, \"TITLE\": \"No Report\", \"pct_positive\": 0.17}, {\"Country\": \"United States of America\", \"WHOREGION\": \"Region of the Americas of WHO\", \"FLUREGION\": \"North America\", \"Year\": 2020, \"Week\": 45, \"SDATE\": \"2020-11-02\", \"EDATE\": \"2020-11-08\", \"SPEC_RECEIVED_NB\": 52641, \"SPEC_PROCESSED_NB\": 52641, \"AH1\": null, \"AH1N12009\": 0, \"AH3\": 0, \"AH5\": null, \"ANOTSUBTYPED\": 34, \"INF_A\": 34, \"BYAMAGATA\": 0, \"BVICTORIA\": 0, \"BNOTDETERMINED\": 27, \"INF_B\": 27, \"ALL_INF\": 61, \"ALL_INF2\": 52580.0, \"TITLE\": \"No Report\", \"pct_positive\": 0.12}, {\"Country\": \"United States of America\", \"WHOREGION\": \"Region of the Americas of WHO\", \"FLUREGION\": \"North America\", \"Year\": 2020, \"Week\": 46, \"SDATE\": \"2020-11-09\", \"EDATE\": \"2020-11-15\", \"SPEC_RECEIVED_NB\": 60106, \"SPEC_PROCESSED_NB\": 60106, \"AH1\": null, \"AH1N12009\": 3, \"AH3\": 4, \"AH5\": null, \"ANOTSUBTYPED\": 36, \"INF_A\": 43, \"BYAMAGATA\": 1, \"BVICTORIA\": 0, \"BNOTDETERMINED\": 47, \"INF_B\": 48, \"ALL_INF\": 91, \"ALL_INF2\": 60015.0, \"TITLE\": \"No Report\", \"pct_positive\": 0.15}, {\"Country\": \"United States of America\", \"WHOREGION\": \"Region of the Americas of WHO\", \"FLUREGION\": \"North America\", \"Year\": 2020, \"Week\": 47, \"SDATE\": \"2020-11-16\", \"EDATE\": \"2020-11-22\", \"SPEC_RECEIVED_NB\": 58064, \"SPEC_PROCESSED_NB\": 58064, \"AH1\": null, \"AH1N12009\": 0, \"AH3\": 3, \"AH5\": null, \"ANOTSUBTYPED\": 35, \"INF_A\": 38, \"BYAMAGATA\": 2, \"BVICTORIA\": 1, \"BNOTDETERMINED\": 57, \"INF_B\": 60, \"ALL_INF\": 98, \"ALL_INF2\": 57966.0, \"TITLE\": \"No Report\", \"pct_positive\": 0.17}, {\"Country\": \"United States of America\", \"WHOREGION\": \"Region of the Americas of WHO\", \"FLUREGION\": \"North America\", \"Year\": 2020, \"Week\": 48, \"SDATE\": \"2020-11-23\", \"EDATE\": \"2020-11-29\", \"SPEC_RECEIVED_NB\": 45312, \"SPEC_PROCESSED_NB\": 45312, \"AH1\": null, \"AH1N12009\": 2, \"AH3\": 0, \"AH5\": null, \"ANOTSUBTYPED\": 25, \"INF_A\": 27, \"BYAMAGATA\": 0, \"BVICTORIA\": 1, \"BNOTDETERMINED\": 37, \"INF_B\": 38, \"ALL_INF\": 65, \"ALL_INF2\": 45247.0, \"TITLE\": \"No Report\", \"pct_positive\": 0.14}, {\"Country\": \"United States of America\", \"WHOREGION\": \"Region of the Americas of WHO\", \"FLUREGION\": \"North America\", \"Year\": 2020, \"Week\": 49, \"SDATE\": \"2020-11-30\", \"EDATE\": \"2020-12-06\", \"SPEC_RECEIVED_NB\": 59863, \"SPEC_PROCESSED_NB\": 59863, \"AH1\": null, \"AH1N12009\": 0, \"AH3\": 0, \"AH5\": null, \"ANOTSUBTYPED\": 36, \"INF_A\": 36, \"BYAMAGATA\": 3, \"BVICTORIA\": 2, \"BNOTDETERMINED\": 69, \"INF_B\": 74, \"ALL_INF\": 110, \"ALL_INF2\": 59753.0, \"TITLE\": \"No Report\", \"pct_positive\": 0.18}, {\"Country\": \"United States of America\", \"WHOREGION\": \"Region of the Americas of WHO\", \"FLUREGION\": \"North America\", \"Year\": 2020, \"Week\": 50, \"SDATE\": \"2020-12-07\", \"EDATE\": \"2020-12-13\", \"SPEC_RECEIVED_NB\": 57605, \"SPEC_PROCESSED_NB\": 57605, \"AH1\": null, \"AH1N12009\": 3, \"AH3\": 3, \"AH5\": null, \"ANOTSUBTYPED\": 31, \"INF_A\": 37, \"BYAMAGATA\": 0, \"BVICTORIA\": 2, \"BNOTDETERMINED\": 77, \"INF_B\": 79, \"ALL_INF\": 116, \"ALL_INF2\": 57489.0, \"TITLE\": \"No Report\", \"pct_positive\": 0.2}, {\"Country\": \"United States of America\", \"WHOREGION\": \"Region of the Americas of WHO\", \"FLUREGION\": \"North America\", \"Year\": 2020, \"Week\": 51, \"SDATE\": \"2020-12-14\", \"EDATE\": \"2020-12-20\", \"SPEC_RECEIVED_NB\": 55897, \"SPEC_PROCESSED_NB\": 55897, \"AH1\": null, \"AH1N12009\": 0, \"AH3\": 0, \"AH5\": null, \"ANOTSUBTYPED\": 40, \"INF_A\": 40, \"BYAMAGATA\": 0, \"BVICTORIA\": 0, \"BNOTDETERMINED\": 84, \"INF_B\": 84, \"ALL_INF\": 124, \"ALL_INF2\": 55773.0, \"TITLE\": \"No Report\", \"pct_positive\": 0.22}, {\"Country\": \"United States of America\", \"WHOREGION\": \"Region of the Americas of WHO\", \"FLUREGION\": \"North America\", \"Year\": 2020, \"Week\": 52, \"SDATE\": \"2020-12-21\", \"EDATE\": \"2020-12-27\", \"SPEC_RECEIVED_NB\": 50932, \"SPEC_PROCESSED_NB\": 50932, \"AH1\": null, \"AH1N12009\": 0, \"AH3\": 0, \"AH5\": null, \"ANOTSUBTYPED\": 36, \"INF_A\": 36, \"BYAMAGATA\": 0, \"BVICTORIA\": 0, \"BNOTDETERMINED\": 69, \"INF_B\": 69, \"ALL_INF\": 105, \"ALL_INF2\": 50827.0, \"TITLE\": \"No Report\", \"pct_positive\": 0.21}, {\"Country\": \"United States of America\", \"WHOREGION\": \"Region of the Americas of WHO\", \"FLUREGION\": \"North America\", \"Year\": 2020, \"Week\": 53, \"SDATE\": \"2020-12-28\", \"EDATE\": \"2021-01-03\", \"SPEC_RECEIVED_NB\": 52112, \"SPEC_PROCESSED_NB\": 52112, \"AH1\": null, \"AH1N12009\": 0, \"AH3\": 0, \"AH5\": null, \"ANOTSUBTYPED\": 39, \"INF_A\": 39, \"BYAMAGATA\": 0, \"BVICTORIA\": 0, \"BNOTDETERMINED\": 75, \"INF_B\": 75, \"ALL_INF\": 114, \"ALL_INF2\": 51998.0, \"TITLE\": \"No Report\", \"pct_positive\": 0.22}, {\"Country\": \"United States of America\", \"WHOREGION\": \"Region of the Americas of WHO\", \"FLUREGION\": \"North America\", \"Year\": 2021, \"Week\": 1, \"SDATE\": \"2021-01-04\", \"EDATE\": \"2021-01-10\", \"SPEC_RECEIVED_NB\": 58829, \"SPEC_PROCESSED_NB\": 58829, \"AH1\": null, \"AH1N12009\": 0, \"AH3\": 0, \"AH5\": null, \"ANOTSUBTYPED\": 34, \"INF_A\": 34, \"BYAMAGATA\": 0, \"BVICTORIA\": 0, \"BNOTDETERMINED\": 98, \"INF_B\": 98, \"ALL_INF\": 132, \"ALL_INF2\": 58697.0, \"TITLE\": \"No Report\", \"pct_positive\": 0.22}, {\"Country\": \"United States of America\", \"WHOREGION\": \"Region of the Americas of WHO\", \"FLUREGION\": \"North America\", \"Year\": 2021, \"Week\": 2, \"SDATE\": \"2021-01-11\", \"EDATE\": \"2021-01-17\", \"SPEC_RECEIVED_NB\": 53892, \"SPEC_PROCESSED_NB\": 53892, \"AH1\": null, \"AH1N12009\": 0, \"AH3\": 0, \"AH5\": null, \"ANOTSUBTYPED\": 22, \"INF_A\": 22, \"BYAMAGATA\": 0, \"BVICTORIA\": 0, \"BNOTDETERMINED\": 45, \"INF_B\": 45, \"ALL_INF\": 67, \"ALL_INF2\": 53825.0, \"TITLE\": \"No Report\", \"pct_positive\": 0.12}, {\"Country\": \"United States of America\", \"WHOREGION\": \"Region of the Americas of WHO\", \"FLUREGION\": \"North America\", \"Year\": 2021, \"Week\": 3, \"SDATE\": \"2021-01-18\", \"EDATE\": \"2021-01-24\", \"SPEC_RECEIVED_NB\": 49125, \"SPEC_PROCESSED_NB\": 49125, \"AH1\": null, \"AH1N12009\": 0, \"AH3\": 1, \"AH5\": null, \"ANOTSUBTYPED\": 23, \"INF_A\": 24, \"BYAMAGATA\": 0, \"BVICTORIA\": 0, \"BNOTDETERMINED\": 61, \"INF_B\": 61, \"ALL_INF\": 85, \"ALL_INF2\": 49040.0, \"TITLE\": \"No Report\", \"pct_positive\": 0.17}, {\"Country\": \"United States of America\", \"WHOREGION\": \"Region of the Americas of WHO\", \"FLUREGION\": \"North America\", \"Year\": 2021, \"Week\": 4, \"SDATE\": \"2021-01-25\", \"EDATE\": \"2021-01-31\", \"SPEC_RECEIVED_NB\": 42094, \"SPEC_PROCESSED_NB\": 42094, \"AH1\": null, \"AH1N12009\": 0, \"AH3\": 0, \"AH5\": null, \"ANOTSUBTYPED\": 12, \"INF_A\": 12, \"BYAMAGATA\": 0, \"BVICTORIA\": 0, \"BNOTDETERMINED\": 45, \"INF_B\": 45, \"ALL_INF\": 57, \"ALL_INF2\": 42037.0, \"TITLE\": \"No Report\", \"pct_positive\": 0.14}, {\"Country\": \"United States of America\", \"WHOREGION\": \"Region of the Americas of WHO\", \"FLUREGION\": \"North America\", \"Year\": 2021, \"Week\": 5, \"SDATE\": \"2021-02-01\", \"EDATE\": \"2021-02-07\", \"SPEC_RECEIVED_NB\": 40034, \"SPEC_PROCESSED_NB\": 40034, \"AH1\": null, \"AH1N12009\": 0, \"AH3\": 0, \"AH5\": null, \"ANOTSUBTYPED\": 13, \"INF_A\": 13, \"BYAMAGATA\": 0, \"BVICTORIA\": 0, \"BNOTDETERMINED\": 9, \"INF_B\": 9, \"ALL_INF\": 22, \"ALL_INF2\": 40012.0, \"TITLE\": \"No Report\", \"pct_positive\": 0.05}]}}, {\"mode\": \"vega-lite\"});\n",
       "</script>"
      ],
      "text/plain": [
       "alt.Chart(...)"
      ]
     },
     "execution_count": 17,
     "metadata": {},
     "output_type": "execute_result"
    }
   ],
   "source": [
    "#pct_positive\n",
    "alt.Chart(flu_data).mark_line().encode(\n",
    "    x='EDATE:T',\n",
    "    y='pct_positive'\n",
    ")"
   ]
  },
  {
   "cell_type": "code",
   "execution_count": 18,
   "id": "dangerous-nutrition",
   "metadata": {},
   "outputs": [
    {
     "data": {
      "text/html": [
       "\n",
       "<div id=\"altair-viz-e24889845ba64a968523c04b4887d798\"></div>\n",
       "<script type=\"text/javascript\">\n",
       "  (function(spec, embedOpt){\n",
       "    let outputDiv = document.currentScript.previousElementSibling;\n",
       "    if (outputDiv.id !== \"altair-viz-e24889845ba64a968523c04b4887d798\") {\n",
       "      outputDiv = document.getElementById(\"altair-viz-e24889845ba64a968523c04b4887d798\");\n",
       "    }\n",
       "    const paths = {\n",
       "      \"vega\": \"https://cdn.jsdelivr.net/npm//vega@5?noext\",\n",
       "      \"vega-lib\": \"https://cdn.jsdelivr.net/npm//vega-lib?noext\",\n",
       "      \"vega-lite\": \"https://cdn.jsdelivr.net/npm//vega-lite@4.8.1?noext\",\n",
       "      \"vega-embed\": \"https://cdn.jsdelivr.net/npm//vega-embed@6?noext\",\n",
       "    };\n",
       "\n",
       "    function loadScript(lib) {\n",
       "      return new Promise(function(resolve, reject) {\n",
       "        var s = document.createElement('script');\n",
       "        s.src = paths[lib];\n",
       "        s.async = true;\n",
       "        s.onload = () => resolve(paths[lib]);\n",
       "        s.onerror = () => reject(`Error loading script: ${paths[lib]}`);\n",
       "        document.getElementsByTagName(\"head\")[0].appendChild(s);\n",
       "      });\n",
       "    }\n",
       "\n",
       "    function showError(err) {\n",
       "      outputDiv.innerHTML = `<div class=\"error\" style=\"color:red;\">${err}</div>`;\n",
       "      throw err;\n",
       "    }\n",
       "\n",
       "    function displayChart(vegaEmbed) {\n",
       "      vegaEmbed(outputDiv, spec, embedOpt)\n",
       "        .catch(err => showError(`Javascript Error: ${err.message}<br>This usually means there's a typo in your chart specification. See the javascript console for the full traceback.`));\n",
       "    }\n",
       "\n",
       "    if(typeof define === \"function\" && define.amd) {\n",
       "      requirejs.config({paths});\n",
       "      require([\"vega-embed\"], displayChart, err => showError(`Error loading script: ${err.message}`));\n",
       "    } else if (typeof vegaEmbed === \"function\") {\n",
       "      displayChart(vegaEmbed);\n",
       "    } else {\n",
       "      loadScript(\"vega\")\n",
       "        .then(() => loadScript(\"vega-lite\"))\n",
       "        .then(() => loadScript(\"vega-embed\"))\n",
       "        .catch(showError)\n",
       "        .then(() => displayChart(vegaEmbed));\n",
       "    }\n",
       "  })({\"config\": {\"view\": {\"continuousWidth\": 400, \"continuousHeight\": 300}}, \"data\": {\"name\": \"data-89d4e6b7158c4c539cb4f6a28d76e0e8\"}, \"mark\": \"bar\", \"encoding\": {\"x\": {\"type\": \"quantitative\", \"field\": \"Lag\"}, \"y\": {\"type\": \"quantitative\", \"field\": \"AutoCor\"}}, \"$schema\": \"https://vega.github.io/schema/vega-lite/v4.8.1.json\", \"datasets\": {\"data-89d4e6b7158c4c539cb4f6a28d76e0e8\": [{\"Lag\": 0, \"AutoCor\": 1.0}, {\"Lag\": 1, \"AutoCor\": 0.9705844710215771}, {\"Lag\": 2, \"AutoCor\": 0.9157210973417454}, {\"Lag\": 3, \"AutoCor\": 0.8448628745005943}, {\"Lag\": 4, \"AutoCor\": 0.7609477543154575}, {\"Lag\": 5, \"AutoCor\": 0.668162595402828}, {\"Lag\": 6, \"AutoCor\": 0.5697950155507426}, {\"Lag\": 7, \"AutoCor\": 0.46843006188363867}, {\"Lag\": 8, \"AutoCor\": 0.3658457705816783}, {\"Lag\": 9, \"AutoCor\": 0.26611929680681895}, {\"Lag\": 10, \"AutoCor\": 0.17162311419569906}, {\"Lag\": 11, \"AutoCor\": 0.08361796633510606}, {\"Lag\": 12, \"AutoCor\": 0.0017190056694765226}, {\"Lag\": 13, \"AutoCor\": -0.07331372845181619}, {\"Lag\": 14, \"AutoCor\": -0.1420394237641874}, {\"Lag\": 15, \"AutoCor\": -0.20258813563929653}, {\"Lag\": 16, \"AutoCor\": -0.2558949222429266}, {\"Lag\": 17, \"AutoCor\": -0.3037897674620175}, {\"Lag\": 18, \"AutoCor\": -0.34411266518898487}, {\"Lag\": 19, \"AutoCor\": -0.37815210852120273}, {\"Lag\": 20, \"AutoCor\": -0.4046974382621556}, {\"Lag\": 21, \"AutoCor\": -0.4258293392470267}, {\"Lag\": 22, \"AutoCor\": -0.4428365661049576}, {\"Lag\": 23, \"AutoCor\": -0.4553027030833896}, {\"Lag\": 24, \"AutoCor\": -0.46495062262703996}, {\"Lag\": 25, \"AutoCor\": -0.4709782138690728}, {\"Lag\": 26, \"AutoCor\": -0.4732984777831417}, {\"Lag\": 27, \"AutoCor\": -0.471606881762185}, {\"Lag\": 28, \"AutoCor\": -0.46706006823592}, {\"Lag\": 29, \"AutoCor\": -0.4584487000169865}, {\"Lag\": 30, \"AutoCor\": -0.4456579099836518}, {\"Lag\": 31, \"AutoCor\": -0.42829062505484156}, {\"Lag\": 32, \"AutoCor\": -0.40526058221200406}, {\"Lag\": 33, \"AutoCor\": -0.37686297100389216}, {\"Lag\": 34, \"AutoCor\": -0.34186825767210915}, {\"Lag\": 35, \"AutoCor\": -0.3020936122706609}, {\"Lag\": 36, \"AutoCor\": -0.25589330632798896}, {\"Lag\": 37, \"AutoCor\": -0.20368741275854926}, {\"Lag\": 38, \"AutoCor\": -0.14600218103472723}, {\"Lag\": 39, \"AutoCor\": -0.08371889428606079}, {\"Lag\": 40, \"AutoCor\": -0.018754046513833843}, {\"Lag\": 41, \"AutoCor\": 0.05062628764207535}, {\"Lag\": 42, \"AutoCor\": 0.12396757181009406}, {\"Lag\": 43, \"AutoCor\": 0.19989004475809113}, {\"Lag\": 44, \"AutoCor\": 0.27595592293844984}, {\"Lag\": 45, \"AutoCor\": 0.3482395418246739}, {\"Lag\": 46, \"AutoCor\": 0.4138418093710717}, {\"Lag\": 47, \"AutoCor\": 0.4726211888345764}, {\"Lag\": 48, \"AutoCor\": 0.5225128604354327}, {\"Lag\": 49, \"AutoCor\": 0.558364828234554}, {\"Lag\": 50, \"AutoCor\": 0.5817828518413751}, {\"Lag\": 51, \"AutoCor\": 0.5867905648816474}, {\"Lag\": 52, \"AutoCor\": 0.5750221028834669}, {\"Lag\": 53, \"AutoCor\": 0.5482811991083565}, {\"Lag\": 54, \"AutoCor\": 0.5112507217981929}, {\"Lag\": 55, \"AutoCor\": 0.46910070463015796}, {\"Lag\": 56, \"AutoCor\": 0.4235320721829029}, {\"Lag\": 57, \"AutoCor\": 0.3757215252380317}, {\"Lag\": 58, \"AutoCor\": 0.3242859634446138}, {\"Lag\": 59, \"AutoCor\": 0.2727979954016937}, {\"Lag\": 60, \"AutoCor\": 0.22127036274564382}, {\"Lag\": 61, \"AutoCor\": 0.1699192084668521}, {\"Lag\": 62, \"AutoCor\": 0.1186138594024505}, {\"Lag\": 63, \"AutoCor\": 0.06627390551694914}, {\"Lag\": 64, \"AutoCor\": 0.011351220915345002}, {\"Lag\": 65, \"AutoCor\": -0.04481524592005644}, {\"Lag\": 66, \"AutoCor\": -0.09974651140008654}, {\"Lag\": 67, \"AutoCor\": -0.152729001560019}, {\"Lag\": 68, \"AutoCor\": -0.20159223622865236}, {\"Lag\": 69, \"AutoCor\": -0.2472523848264345}, {\"Lag\": 70, \"AutoCor\": -0.28832582377203597}, {\"Lag\": 71, \"AutoCor\": -0.32368327213152187}, {\"Lag\": 72, \"AutoCor\": -0.3530972753596444}, {\"Lag\": 73, \"AutoCor\": -0.3777936652776853}, {\"Lag\": 74, \"AutoCor\": -0.39950270224125334}, {\"Lag\": 75, \"AutoCor\": -0.4158997232016313}, {\"Lag\": 76, \"AutoCor\": -0.42895999333192436}, {\"Lag\": 77, \"AutoCor\": -0.4377541549355645}, {\"Lag\": 78, \"AutoCor\": -0.44196541472726203}, {\"Lag\": 79, \"AutoCor\": -0.44249903321583467}, {\"Lag\": 80, \"AutoCor\": -0.4390440704884038}, {\"Lag\": 81, \"AutoCor\": -0.43103959786010293}, {\"Lag\": 82, \"AutoCor\": -0.41874534969321586}, {\"Lag\": 83, \"AutoCor\": -0.4015092251706345}, {\"Lag\": 84, \"AutoCor\": -0.3791402040924985}, {\"Lag\": 85, \"AutoCor\": -0.3518877166251944}, {\"Lag\": 86, \"AutoCor\": -0.3190732826739266}, {\"Lag\": 87, \"AutoCor\": -0.28115177283918985}, {\"Lag\": 88, \"AutoCor\": -0.23767320096831793}, {\"Lag\": 89, \"AutoCor\": -0.18911340848256616}, {\"Lag\": 90, \"AutoCor\": -0.1368809298919239}, {\"Lag\": 91, \"AutoCor\": -0.08186180184100982}, {\"Lag\": 92, \"AutoCor\": -0.024672182216509676}, {\"Lag\": 93, \"AutoCor\": 0.03503016232179243}, {\"Lag\": 94, \"AutoCor\": 0.0963132365667203}, {\"Lag\": 95, \"AutoCor\": 0.15943852222646904}, {\"Lag\": 96, \"AutoCor\": 0.2210608036743649}, {\"Lag\": 97, \"AutoCor\": 0.2775656786227349}, {\"Lag\": 98, \"AutoCor\": 0.32959823558903034}, {\"Lag\": 99, \"AutoCor\": 0.3745507365922443}, {\"Lag\": 100, \"AutoCor\": 0.4120340080677225}, {\"Lag\": 101, \"AutoCor\": 0.4411086378074115}, {\"Lag\": 102, \"AutoCor\": 0.4598685412415913}, {\"Lag\": 103, \"AutoCor\": 0.4698430395082263}, {\"Lag\": 104, \"AutoCor\": 0.47187287491999585}, {\"Lag\": 105, \"AutoCor\": 0.4693674233760788}, {\"Lag\": 106, \"AutoCor\": 0.4609111983604139}, {\"Lag\": 107, \"AutoCor\": 0.4455274641560484}, {\"Lag\": 108, \"AutoCor\": 0.4226199995842072}, {\"Lag\": 109, \"AutoCor\": 0.392458967183146}, {\"Lag\": 110, \"AutoCor\": 0.356555676606029}, {\"Lag\": 111, \"AutoCor\": 0.31806119457658194}, {\"Lag\": 112, \"AutoCor\": 0.2747425383353313}, {\"Lag\": 113, \"AutoCor\": 0.2252753988381104}, {\"Lag\": 114, \"AutoCor\": 0.16995885690599224}, {\"Lag\": 115, \"AutoCor\": 0.1117240567433629}, {\"Lag\": 116, \"AutoCor\": 0.05215042273410911}, {\"Lag\": 117, \"AutoCor\": -0.00514579320045193}, {\"Lag\": 118, \"AutoCor\": -0.058556694254664046}, {\"Lag\": 119, \"AutoCor\": -0.10788287708427588}, {\"Lag\": 120, \"AutoCor\": -0.15208233772177598}, {\"Lag\": 121, \"AutoCor\": -0.19129544330367967}, {\"Lag\": 122, \"AutoCor\": -0.2262039980814284}, {\"Lag\": 123, \"AutoCor\": -0.25650082059058904}, {\"Lag\": 124, \"AutoCor\": -0.28144622368146893}, {\"Lag\": 125, \"AutoCor\": -0.30197804898098224}, {\"Lag\": 126, \"AutoCor\": -0.31848957124122257}, {\"Lag\": 127, \"AutoCor\": -0.33148426475598064}, {\"Lag\": 128, \"AutoCor\": -0.34149650544932586}, {\"Lag\": 129, \"AutoCor\": -0.34842066669199434}, {\"Lag\": 130, \"AutoCor\": -0.35293048919153364}, {\"Lag\": 131, \"AutoCor\": -0.3550360781861353}, {\"Lag\": 132, \"AutoCor\": -0.3542190474546894}, {\"Lag\": 133, \"AutoCor\": -0.3504336660373589}, {\"Lag\": 134, \"AutoCor\": -0.3429356571856017}, {\"Lag\": 135, \"AutoCor\": -0.3318369480970543}, {\"Lag\": 136, \"AutoCor\": -0.31764379680474536}, {\"Lag\": 137, \"AutoCor\": -0.29994050607320927}, {\"Lag\": 138, \"AutoCor\": -0.27896882258588424}, {\"Lag\": 139, \"AutoCor\": -0.25367115614984975}, {\"Lag\": 140, \"AutoCor\": -0.22476600717180892}, {\"Lag\": 141, \"AutoCor\": -0.1921931509818232}, {\"Lag\": 142, \"AutoCor\": -0.15662924957837135}, {\"Lag\": 143, \"AutoCor\": -0.11784740479695208}, {\"Lag\": 144, \"AutoCor\": -0.07759507529327808}, {\"Lag\": 145, \"AutoCor\": -0.03540993803515314}, {\"Lag\": 146, \"AutoCor\": 0.00786632544198168}, {\"Lag\": 147, \"AutoCor\": 0.051620830458895046}, {\"Lag\": 148, \"AutoCor\": 0.09655820811789277}, {\"Lag\": 149, \"AutoCor\": 0.14114370095776801}, {\"Lag\": 150, \"AutoCor\": 0.1845173561507754}, {\"Lag\": 151, \"AutoCor\": 0.22542910580127687}, {\"Lag\": 152, \"AutoCor\": 0.26289489263774446}, {\"Lag\": 153, \"AutoCor\": 0.29580124421471976}, {\"Lag\": 154, \"AutoCor\": 0.32360921920458735}, {\"Lag\": 155, \"AutoCor\": 0.3469782666772969}, {\"Lag\": 156, \"AutoCor\": 0.36608789387280244}, {\"Lag\": 157, \"AutoCor\": 0.3776442466773973}, {\"Lag\": 158, \"AutoCor\": 0.38029692511050356}, {\"Lag\": 159, \"AutoCor\": 0.3739365083854809}, {\"Lag\": 160, \"AutoCor\": 0.35892057544982886}, {\"Lag\": 161, \"AutoCor\": 0.33644965061567117}, {\"Lag\": 162, \"AutoCor\": 0.3070879925647665}, {\"Lag\": 163, \"AutoCor\": 0.2727690626584989}, {\"Lag\": 164, \"AutoCor\": 0.23239896434337495}, {\"Lag\": 165, \"AutoCor\": 0.1860062337832749}, {\"Lag\": 166, \"AutoCor\": 0.13535105436138198}, {\"Lag\": 167, \"AutoCor\": 0.08210009505635837}, {\"Lag\": 168, \"AutoCor\": 0.03402864091661112}, {\"Lag\": 169, \"AutoCor\": -0.010940339012807651}, {\"Lag\": 170, \"AutoCor\": -0.05227193534309402}, {\"Lag\": 171, \"AutoCor\": -0.09019148233217641}, {\"Lag\": 172, \"AutoCor\": -0.12564459586402288}, {\"Lag\": 173, \"AutoCor\": -0.15887679670012692}, {\"Lag\": 174, \"AutoCor\": -0.1883541962409873}, {\"Lag\": 175, \"AutoCor\": -0.21347117735357982}, {\"Lag\": 176, \"AutoCor\": -0.23490615572313234}, {\"Lag\": 177, \"AutoCor\": -0.25335330262740896}, {\"Lag\": 178, \"AutoCor\": -0.26819200384972075}, {\"Lag\": 179, \"AutoCor\": -0.2789938444354265}, {\"Lag\": 180, \"AutoCor\": -0.286811324219239}, {\"Lag\": 181, \"AutoCor\": -0.29152753388453545}, {\"Lag\": 182, \"AutoCor\": -0.2942534903037268}, {\"Lag\": 183, \"AutoCor\": -0.2942517815200057}, {\"Lag\": 184, \"AutoCor\": -0.29105873584937575}, {\"Lag\": 185, \"AutoCor\": -0.2852799984580407}, {\"Lag\": 186, \"AutoCor\": -0.2767360569888787}, {\"Lag\": 187, \"AutoCor\": -0.265310586094222}, {\"Lag\": 188, \"AutoCor\": -0.2511718850261897}, {\"Lag\": 189, \"AutoCor\": -0.23390967385004427}, {\"Lag\": 190, \"AutoCor\": -0.21305595198038604}, {\"Lag\": 191, \"AutoCor\": -0.18925353324237335}, {\"Lag\": 192, \"AutoCor\": -0.1631231888718743}, {\"Lag\": 193, \"AutoCor\": -0.13481188531625318}, {\"Lag\": 194, \"AutoCor\": -0.10562090836969068}, {\"Lag\": 195, \"AutoCor\": -0.07577590688468708}, {\"Lag\": 196, \"AutoCor\": -0.0450527155980303}, {\"Lag\": 197, \"AutoCor\": -0.0134101274598736}, {\"Lag\": 198, \"AutoCor\": 0.0182336696647776}, {\"Lag\": 199, \"AutoCor\": 0.048705473079046435}, {\"Lag\": 200, \"AutoCor\": 0.08003537651699742}, {\"Lag\": 201, \"AutoCor\": 0.1122692284108393}, {\"Lag\": 202, \"AutoCor\": 0.14499664320081804}, {\"Lag\": 203, \"AutoCor\": 0.17669199423281823}, {\"Lag\": 204, \"AutoCor\": 0.2062018230678703}, {\"Lag\": 205, \"AutoCor\": 0.2334907716900707}, {\"Lag\": 206, \"AutoCor\": 0.2577997136082696}, {\"Lag\": 207, \"AutoCor\": 0.2795095593293077}, {\"Lag\": 208, \"AutoCor\": 0.29479059700600513}, {\"Lag\": 209, \"AutoCor\": 0.30155320695023774}, {\"Lag\": 210, \"AutoCor\": 0.3009357400532334}, {\"Lag\": 211, \"AutoCor\": 0.29392079196768023}, {\"Lag\": 212, \"AutoCor\": 0.28254391588938255}, {\"Lag\": 213, \"AutoCor\": 0.26849200306512067}, {\"Lag\": 214, \"AutoCor\": 0.2508989904907883}, {\"Lag\": 215, \"AutoCor\": 0.22985839829990906}, {\"Lag\": 216, \"AutoCor\": 0.20572594445957507}, {\"Lag\": 217, \"AutoCor\": 0.17751951210600803}, {\"Lag\": 218, \"AutoCor\": 0.14957092248693274}, {\"Lag\": 219, \"AutoCor\": 0.11972021454808919}, {\"Lag\": 220, \"AutoCor\": 0.08788389007330596}, {\"Lag\": 221, \"AutoCor\": 0.05279318286924319}, {\"Lag\": 222, \"AutoCor\": 0.016410453446344783}, {\"Lag\": 223, \"AutoCor\": -0.01861776830083377}, {\"Lag\": 224, \"AutoCor\": -0.05214058499455802}, {\"Lag\": 225, \"AutoCor\": -0.08262154144198829}, {\"Lag\": 226, \"AutoCor\": -0.11001057433335874}, {\"Lag\": 227, \"AutoCor\": -0.1342213335214379}, {\"Lag\": 228, \"AutoCor\": -0.15530612196681004}, {\"Lag\": 229, \"AutoCor\": -0.17287831245197396}, {\"Lag\": 230, \"AutoCor\": -0.1868505384600712}, {\"Lag\": 231, \"AutoCor\": -0.19794341985080327}, {\"Lag\": 232, \"AutoCor\": -0.2056931937767182}, {\"Lag\": 233, \"AutoCor\": -0.21116077375306158}, {\"Lag\": 234, \"AutoCor\": -0.21481632142302984}, {\"Lag\": 235, \"AutoCor\": -0.21620564904991163}, {\"Lag\": 236, \"AutoCor\": -0.21485806864531387}, {\"Lag\": 237, \"AutoCor\": -0.21174659913816374}, {\"Lag\": 238, \"AutoCor\": -0.20670475158566465}, {\"Lag\": 239, \"AutoCor\": -0.19958174280079216}, {\"Lag\": 240, \"AutoCor\": -0.19086419652215197}, {\"Lag\": 241, \"AutoCor\": -0.17988575099804455}, {\"Lag\": 242, \"AutoCor\": -0.16634088350507642}, {\"Lag\": 243, \"AutoCor\": -0.15129748426046138}, {\"Lag\": 244, \"AutoCor\": -0.13432733131577565}, {\"Lag\": 245, \"AutoCor\": -0.11593468973408615}, {\"Lag\": 246, \"AutoCor\": -0.09543805700998262}, {\"Lag\": 247, \"AutoCor\": -0.07354206441263497}, {\"Lag\": 248, \"AutoCor\": -0.04988248590492229}, {\"Lag\": 249, \"AutoCor\": -0.02465260319672897}, {\"Lag\": 250, \"AutoCor\": 0.0027871013023942227}, {\"Lag\": 251, \"AutoCor\": 0.032221211740467555}, {\"Lag\": 252, \"AutoCor\": 0.06325775001119965}, {\"Lag\": 253, \"AutoCor\": 0.09564615516538139}, {\"Lag\": 254, \"AutoCor\": 0.13022768334607662}, {\"Lag\": 255, \"AutoCor\": 0.16547505027055803}, {\"Lag\": 256, \"AutoCor\": 0.200068940916622}, {\"Lag\": 257, \"AutoCor\": 0.23472805737412544}, {\"Lag\": 258, \"AutoCor\": 0.26545168606737923}, {\"Lag\": 259, \"AutoCor\": 0.29155670713224613}, {\"Lag\": 260, \"AutoCor\": 0.31070359225903427}, {\"Lag\": 261, \"AutoCor\": 0.3237603721140799}, {\"Lag\": 262, \"AutoCor\": 0.3308207391459673}, {\"Lag\": 263, \"AutoCor\": 0.33241723088064223}, {\"Lag\": 264, \"AutoCor\": 0.3307391221232523}, {\"Lag\": 265, \"AutoCor\": 0.32369816764579806}, {\"Lag\": 266, \"AutoCor\": 0.3109264887545938}, {\"Lag\": 267, \"AutoCor\": 0.29154942404636985}, {\"Lag\": 268, \"AutoCor\": 0.2661263524272529}, {\"Lag\": 269, \"AutoCor\": 0.2363503718234927}, {\"Lag\": 270, \"AutoCor\": 0.20403123662313083}, {\"Lag\": 271, \"AutoCor\": 0.1688012249847963}, {\"Lag\": 272, \"AutoCor\": 0.1289118446405189}, {\"Lag\": 273, \"AutoCor\": 0.08571708259420345}, {\"Lag\": 274, \"AutoCor\": 0.04126241606536331}, {\"Lag\": 275, \"AutoCor\": 0.0002940581588285111}, {\"Lag\": 276, \"AutoCor\": -0.03649003970685013}, {\"Lag\": 277, \"AutoCor\": -0.06792462630159256}, {\"Lag\": 278, \"AutoCor\": -0.0939981407754771}, {\"Lag\": 279, \"AutoCor\": -0.11467999425729096}, {\"Lag\": 280, \"AutoCor\": -0.1295888280430473}, {\"Lag\": 281, \"AutoCor\": -0.14035639945714545}, {\"Lag\": 282, \"AutoCor\": -0.1477815348122038}, {\"Lag\": 283, \"AutoCor\": -0.15269796345378844}, {\"Lag\": 284, \"AutoCor\": -0.15577877376180577}, {\"Lag\": 285, \"AutoCor\": -0.1574878238631457}, {\"Lag\": 286, \"AutoCor\": -0.15800591135834777}, {\"Lag\": 287, \"AutoCor\": -0.15707344789127217}, {\"Lag\": 288, \"AutoCor\": -0.15467548610377507}, {\"Lag\": 289, \"AutoCor\": -0.15155337600257157}, {\"Lag\": 290, \"AutoCor\": -0.14809514818840913}, {\"Lag\": 291, \"AutoCor\": -0.14312099091981897}, {\"Lag\": 292, \"AutoCor\": -0.13743875168675465}, {\"Lag\": 293, \"AutoCor\": -0.13022648186491922}, {\"Lag\": 294, \"AutoCor\": -0.12216927860318005}, {\"Lag\": 295, \"AutoCor\": -0.11419000213001776}, {\"Lag\": 296, \"AutoCor\": -0.10545568027382408}, {\"Lag\": 297, \"AutoCor\": -0.09661701258207334}, {\"Lag\": 298, \"AutoCor\": -0.08703158264442605}, {\"Lag\": 299, \"AutoCor\": -0.07682112281932105}, {\"Lag\": 300, \"AutoCor\": -0.06602485297126791}, {\"Lag\": 301, \"AutoCor\": -0.05426044107760721}, {\"Lag\": 302, \"AutoCor\": -0.04116870279071108}, {\"Lag\": 303, \"AutoCor\": -0.026689867644897464}, {\"Lag\": 304, \"AutoCor\": -0.010365070645297602}, {\"Lag\": 305, \"AutoCor\": 0.008363716460044893}, {\"Lag\": 306, \"AutoCor\": 0.028073262877943206}, {\"Lag\": 307, \"AutoCor\": 0.048427506906176365}, {\"Lag\": 308, \"AutoCor\": 0.06868105347257043}, {\"Lag\": 309, \"AutoCor\": 0.08955422680914842}, {\"Lag\": 310, \"AutoCor\": 0.10855446325356326}, {\"Lag\": 311, \"AutoCor\": 0.12429958337820925}, {\"Lag\": 312, \"AutoCor\": 0.13656306635408294}, {\"Lag\": 313, \"AutoCor\": 0.14609885186663915}, {\"Lag\": 314, \"AutoCor\": 0.15729479270394653}, {\"Lag\": 315, \"AutoCor\": 0.16608811895244222}, {\"Lag\": 316, \"AutoCor\": 0.17077235162602508}, {\"Lag\": 317, \"AutoCor\": 0.1701716396154178}, {\"Lag\": 318, \"AutoCor\": 0.16354869661252916}, {\"Lag\": 319, \"AutoCor\": 0.15206434149025425}, {\"Lag\": 320, \"AutoCor\": 0.136938857558292}, {\"Lag\": 321, \"AutoCor\": 0.1173078395523909}, {\"Lag\": 322, \"AutoCor\": 0.09360296417664032}, {\"Lag\": 323, \"AutoCor\": 0.0664756841477326}, {\"Lag\": 324, \"AutoCor\": 0.03676686164243874}, {\"Lag\": 325, \"AutoCor\": 0.008017625723300897}, {\"Lag\": 326, \"AutoCor\": -0.018302110341568863}, {\"Lag\": 327, \"AutoCor\": -0.039228465489801204}, {\"Lag\": 328, \"AutoCor\": -0.05570774864786145}, {\"Lag\": 329, \"AutoCor\": -0.06738649523795873}, {\"Lag\": 330, \"AutoCor\": -0.07523396123524263}, {\"Lag\": 331, \"AutoCor\": -0.08133071834099273}, {\"Lag\": 332, \"AutoCor\": -0.08547329739872113}, {\"Lag\": 333, \"AutoCor\": -0.0884548745335658}, {\"Lag\": 334, \"AutoCor\": -0.09092372052946283}, {\"Lag\": 335, \"AutoCor\": -0.09329084218145126}, {\"Lag\": 336, \"AutoCor\": -0.09546608150206169}, {\"Lag\": 337, \"AutoCor\": -0.09691917688131187}, {\"Lag\": 338, \"AutoCor\": -0.09795552200097454}, {\"Lag\": 339, \"AutoCor\": -0.09878851332290846}, {\"Lag\": 340, \"AutoCor\": -0.09956366301766123}, {\"Lag\": 341, \"AutoCor\": -0.0993675870726645}, {\"Lag\": 342, \"AutoCor\": -0.09889013743115822}, {\"Lag\": 343, \"AutoCor\": -0.09758344163921961}, {\"Lag\": 344, \"AutoCor\": -0.09489343719425153}, {\"Lag\": 345, \"AutoCor\": -0.09115051130444797}, {\"Lag\": 346, \"AutoCor\": -0.08667699959270736}, {\"Lag\": 347, \"AutoCor\": -0.0814550317969345}, {\"Lag\": 348, \"AutoCor\": -0.07580150582625055}, {\"Lag\": 349, \"AutoCor\": -0.06928849730665869}, {\"Lag\": 350, \"AutoCor\": -0.060709289541262354}, {\"Lag\": 351, \"AutoCor\": -0.051574012842931345}, {\"Lag\": 352, \"AutoCor\": -0.04174682682183125}, {\"Lag\": 353, \"AutoCor\": -0.02972897062181709}, {\"Lag\": 354, \"AutoCor\": -0.016247415119562215}, {\"Lag\": 355, \"AutoCor\": -0.0017757923991600214}, {\"Lag\": 356, \"AutoCor\": 0.01299831244582675}, {\"Lag\": 357, \"AutoCor\": 0.028111050981647505}, {\"Lag\": 358, \"AutoCor\": 0.041789173471082436}, {\"Lag\": 359, \"AutoCor\": 0.054946656238863155}, {\"Lag\": 360, \"AutoCor\": 0.0660177923591102}, {\"Lag\": 361, \"AutoCor\": 0.07525170735986676}, {\"Lag\": 362, \"AutoCor\": 0.08324685940089965}, {\"Lag\": 363, \"AutoCor\": 0.08770700295695094}, {\"Lag\": 364, \"AutoCor\": 0.08761728836662035}, {\"Lag\": 365, \"AutoCor\": 0.08457529094141493}, {\"Lag\": 366, \"AutoCor\": 0.08398835306700964}, {\"Lag\": 367, \"AutoCor\": 0.0831561906706245}, {\"Lag\": 368, \"AutoCor\": 0.08014812151353826}, {\"Lag\": 369, \"AutoCor\": 0.07529533920283148}, {\"Lag\": 370, \"AutoCor\": 0.06799406667224529}, {\"Lag\": 371, \"AutoCor\": 0.05909014410155437}, {\"Lag\": 372, \"AutoCor\": 0.04869866504716294}, {\"Lag\": 373, \"AutoCor\": 0.03692869114840752}, {\"Lag\": 374, \"AutoCor\": 0.023407385509812972}, {\"Lag\": 375, \"AutoCor\": 0.010435232673876768}, {\"Lag\": 376, \"AutoCor\": 0.00020788766394731208}, {\"Lag\": 377, \"AutoCor\": -0.004867812155369408}, {\"Lag\": 378, \"AutoCor\": -0.006741674604000724}, {\"Lag\": 379, \"AutoCor\": -0.008045389790123153}, {\"Lag\": 380, \"AutoCor\": -0.00940357616978567}, {\"Lag\": 381, \"AutoCor\": -0.011053008931125314}, {\"Lag\": 382, \"AutoCor\": -0.012592622489820762}, {\"Lag\": 383, \"AutoCor\": -0.013940181179591922}, {\"Lag\": 384, \"AutoCor\": -0.01539346578280486}, {\"Lag\": 385, \"AutoCor\": -0.017025934020735194}, {\"Lag\": 386, \"AutoCor\": -0.01839978677622718}, {\"Lag\": 387, \"AutoCor\": -0.019699320846975177}, {\"Lag\": 388, \"AutoCor\": -0.021043121310786606}, {\"Lag\": 389, \"AutoCor\": -0.022262732897548102}, {\"Lag\": 390, \"AutoCor\": -0.023962583388139388}, {\"Lag\": 391, \"AutoCor\": -0.025582474128414058}, {\"Lag\": 392, \"AutoCor\": -0.027138140186616058}, {\"Lag\": 393, \"AutoCor\": -0.028576697525518353}, {\"Lag\": 394, \"AutoCor\": -0.030235534862422232}, {\"Lag\": 395, \"AutoCor\": -0.031866058131649035}, {\"Lag\": 396, \"AutoCor\": -0.033261408943040575}, {\"Lag\": 397, \"AutoCor\": -0.034763809679399245}, {\"Lag\": 398, \"AutoCor\": -0.03635322807526946}, {\"Lag\": 399, \"AutoCor\": -0.037793895578398316}, {\"Lag\": 400, \"AutoCor\": -0.03900847265082581}]}}, {\"mode\": \"vega-lite\"});\n",
       "</script>"
      ],
      "text/plain": [
       "alt.Chart(...)"
      ]
     },
     "execution_count": 18,
     "metadata": {},
     "output_type": "execute_result"
    }
   ],
   "source": [
    "#pct_positive\n",
    "make_autocorr(flu_data.pct_positive, nlags = 400)"
   ]
  },
  {
   "cell_type": "code",
   "execution_count": 19,
   "id": "subtle-neighborhood",
   "metadata": {},
   "outputs": [
    {
     "data": {
      "text/html": [
       "\n",
       "<div id=\"altair-viz-ce0257fd5516441c9c3c32c4fcc646f4\"></div>\n",
       "<script type=\"text/javascript\">\n",
       "  (function(spec, embedOpt){\n",
       "    let outputDiv = document.currentScript.previousElementSibling;\n",
       "    if (outputDiv.id !== \"altair-viz-ce0257fd5516441c9c3c32c4fcc646f4\") {\n",
       "      outputDiv = document.getElementById(\"altair-viz-ce0257fd5516441c9c3c32c4fcc646f4\");\n",
       "    }\n",
       "    const paths = {\n",
       "      \"vega\": \"https://cdn.jsdelivr.net/npm//vega@5?noext\",\n",
       "      \"vega-lib\": \"https://cdn.jsdelivr.net/npm//vega-lib?noext\",\n",
       "      \"vega-lite\": \"https://cdn.jsdelivr.net/npm//vega-lite@4.8.1?noext\",\n",
       "      \"vega-embed\": \"https://cdn.jsdelivr.net/npm//vega-embed@6?noext\",\n",
       "    };\n",
       "\n",
       "    function loadScript(lib) {\n",
       "      return new Promise(function(resolve, reject) {\n",
       "        var s = document.createElement('script');\n",
       "        s.src = paths[lib];\n",
       "        s.async = true;\n",
       "        s.onload = () => resolve(paths[lib]);\n",
       "        s.onerror = () => reject(`Error loading script: ${paths[lib]}`);\n",
       "        document.getElementsByTagName(\"head\")[0].appendChild(s);\n",
       "      });\n",
       "    }\n",
       "\n",
       "    function showError(err) {\n",
       "      outputDiv.innerHTML = `<div class=\"error\" style=\"color:red;\">${err}</div>`;\n",
       "      throw err;\n",
       "    }\n",
       "\n",
       "    function displayChart(vegaEmbed) {\n",
       "      vegaEmbed(outputDiv, spec, embedOpt)\n",
       "        .catch(err => showError(`Javascript Error: ${err.message}<br>This usually means there's a typo in your chart specification. See the javascript console for the full traceback.`));\n",
       "    }\n",
       "\n",
       "    if(typeof define === \"function\" && define.amd) {\n",
       "      requirejs.config({paths});\n",
       "      require([\"vega-embed\"], displayChart, err => showError(`Error loading script: ${err.message}`));\n",
       "    } else if (typeof vegaEmbed === \"function\") {\n",
       "      displayChart(vegaEmbed);\n",
       "    } else {\n",
       "      loadScript(\"vega\")\n",
       "        .then(() => loadScript(\"vega-lite\"))\n",
       "        .then(() => loadScript(\"vega-embed\"))\n",
       "        .catch(showError)\n",
       "        .then(() => displayChart(vegaEmbed));\n",
       "    }\n",
       "  })({\"config\": {\"view\": {\"continuousWidth\": 400, \"continuousHeight\": 300}}, \"data\": {\"name\": \"data-c946c75f5079b0636ccb64af980d3632\"}, \"mark\": \"bar\", \"encoding\": {\"x\": {\"type\": \"quantitative\", \"field\": \"Freq\"}, \"y\": {\"type\": \"quantitative\", \"field\": \"Density\"}}, \"$schema\": \"https://vega.github.io/schema/vega-lite/v4.8.1.json\", \"datasets\": {\"data-c946c75f5079b0636ccb64af980d3632\": [{\"Freq\": 0.0, \"Density\": 2.5441678003882495e-27}, {\"Freq\": 0.002364066193853428, \"Density\": 64.1573640165527}, {\"Freq\": 0.004728132387706856, \"Density\": 715.8929136962995}, {\"Freq\": 0.0070921985815602835, \"Density\": 730.9186974588026}, {\"Freq\": 0.009456264775413711, \"Density\": 168.711094131282}, {\"Freq\": 0.01182033096926714, \"Density\": 699.1709955755833}, {\"Freq\": 0.014184397163120567, \"Density\": 81.88175837122965}, {\"Freq\": 0.016548463356973995, \"Density\": 232.86585517809837}, {\"Freq\": 0.018912529550827423, \"Density\": 22464.598993124186}, {\"Freq\": 0.02127659574468085, \"Density\": 945.282437219296}, {\"Freq\": 0.02364066193853428, \"Density\": 635.593066190136}, {\"Freq\": 0.026004728132387706, \"Density\": 985.9949066549552}, {\"Freq\": 0.028368794326241134, \"Density\": 282.7898408411292}, {\"Freq\": 0.030732860520094562, \"Density\": 1186.711967499205}, {\"Freq\": 0.03309692671394799, \"Density\": 245.98333553485807}, {\"Freq\": 0.035460992907801414, \"Density\": 109.80844119126594}, {\"Freq\": 0.037825059101654845, \"Density\": 3303.6987967916925}, {\"Freq\": 0.04018912529550828, \"Density\": 549.7045504674403}, {\"Freq\": 0.0425531914893617, \"Density\": 455.5175303666081}, {\"Freq\": 0.044917257683215125, \"Density\": 773.274860983115}, {\"Freq\": 0.04728132387706856, \"Density\": 261.1917577449823}, {\"Freq\": 0.04964539007092199, \"Density\": 261.2165859757202}, {\"Freq\": 0.05200945626477541, \"Density\": 42.87053861641996}, {\"Freq\": 0.05437352245862884, \"Density\": 34.723239747135956}, {\"Freq\": 0.05673758865248227, \"Density\": 307.82834499061266}, {\"Freq\": 0.0591016548463357, \"Density\": 239.4317948969204}, {\"Freq\": 0.061465721040189124, \"Density\": 332.2625573634938}, {\"Freq\": 0.06382978723404255, \"Density\": 181.46313453181446}, {\"Freq\": 0.06619385342789598, \"Density\": 67.14574949152885}, {\"Freq\": 0.06855791962174941, \"Density\": 44.826327825197275}, {\"Freq\": 0.07092198581560283, \"Density\": 8.295838898810041}, {\"Freq\": 0.07328605200945626, \"Density\": 39.080215435427895}, {\"Freq\": 0.07565011820330969, \"Density\": 24.115884894559837}, {\"Freq\": 0.07801418439716312, \"Density\": 241.49671511471476}, {\"Freq\": 0.08037825059101655, \"Density\": 206.03186241008206}, {\"Freq\": 0.08274231678486997, \"Density\": 8.11303575519552}, {\"Freq\": 0.0851063829787234, \"Density\": 7.541840133865029}, {\"Freq\": 0.08747044917257683, \"Density\": 30.310644364543755}, {\"Freq\": 0.08983451536643025, \"Density\": 7.8038629980968155}, {\"Freq\": 0.09219858156028368, \"Density\": 57.16525580736387}, {\"Freq\": 0.09456264775413711, \"Density\": 20.38327673766845}, {\"Freq\": 0.09692671394799054, \"Density\": 94.86597236972358}, {\"Freq\": 0.09929078014184398, \"Density\": 73.3883810339082}, {\"Freq\": 0.1016548463356974, \"Density\": 8.868125662341859}, {\"Freq\": 0.10401891252955082, \"Density\": 15.062319216310119}, {\"Freq\": 0.10638297872340426, \"Density\": 7.231127561996575}, {\"Freq\": 0.10874704491725767, \"Density\": 17.897494430599423}, {\"Freq\": 0.1111111111111111, \"Density\": 28.21856569837028}, {\"Freq\": 0.11347517730496454, \"Density\": 33.07211850595891}, {\"Freq\": 0.11583924349881797, \"Density\": 37.05055040304567}, {\"Freq\": 0.1182033096926714, \"Density\": 18.06565393526124}, {\"Freq\": 0.12056737588652482, \"Density\": 39.27944168449936}, {\"Freq\": 0.12293144208037825, \"Density\": 24.19294130558941}, {\"Freq\": 0.12529550827423167, \"Density\": 0.6036432245105623}, {\"Freq\": 0.1276595744680851, \"Density\": 9.09591264253578}, {\"Freq\": 0.13002364066193853, \"Density\": 9.50851018801559}, {\"Freq\": 0.13238770685579196, \"Density\": 41.53508113856588}, {\"Freq\": 0.1347517730496454, \"Density\": 27.607065489661455}, {\"Freq\": 0.13711583924349882, \"Density\": 0.19741862556111536}, {\"Freq\": 0.13947990543735225, \"Density\": 53.77032135947159}, {\"Freq\": 0.14184397163120566, \"Density\": 15.116755525452716}, {\"Freq\": 0.1442080378250591, \"Density\": 2.867449961076611}, {\"Freq\": 0.14657210401891252, \"Density\": 10.71569866691887}, {\"Freq\": 0.14893617021276595, \"Density\": 5.9321352524019435}, {\"Freq\": 0.15130023640661938, \"Density\": 19.26698497441918}, {\"Freq\": 0.1536643026004728, \"Density\": 11.74699992390993}, {\"Freq\": 0.15602836879432624, \"Density\": 1.6879800479135165}, {\"Freq\": 0.15839243498817968, \"Density\": 45.22643055654147}, {\"Freq\": 0.1607565011820331, \"Density\": 6.8689546707641576}, {\"Freq\": 0.1631205673758865, \"Density\": 8.320006755067512}, {\"Freq\": 0.16548463356973994, \"Density\": 7.096131089692286}, {\"Freq\": 0.16784869976359337, \"Density\": 11.06678961273767}, {\"Freq\": 0.1702127659574468, \"Density\": 4.626417247430533}, {\"Freq\": 0.17257683215130024, \"Density\": 4.92675985104413}, {\"Freq\": 0.17494089834515367, \"Density\": 0.699390352143892}, {\"Freq\": 0.1773049645390071, \"Density\": 37.86840725880715}, {\"Freq\": 0.1796690307328605, \"Density\": 12.152389305287034}, {\"Freq\": 0.18203309692671393, \"Density\": 10.782181301956301}, {\"Freq\": 0.18439716312056736, \"Density\": 5.779361218311669}, {\"Freq\": 0.1867612293144208, \"Density\": 16.589850647739276}, {\"Freq\": 0.18912529550827423, \"Density\": 1.0271497524929811}, {\"Freq\": 0.19148936170212766, \"Density\": 2.3249004666781827}, {\"Freq\": 0.1938534278959811, \"Density\": 3.1470685757931545}, {\"Freq\": 0.19621749408983452, \"Density\": 11.82143325020966}, {\"Freq\": 0.19858156028368795, \"Density\": 9.22158623821101}, {\"Freq\": 0.20094562647754136, \"Density\": 4.627610143650249}, {\"Freq\": 0.2033096926713948, \"Density\": 7.3213769100417245}, {\"Freq\": 0.20567375886524822, \"Density\": 12.942566711681199}, {\"Freq\": 0.20803782505910165, \"Density\": 0.9222534142855028}, {\"Freq\": 0.21040189125295508, \"Density\": 1.981097282196771}, {\"Freq\": 0.2127659574468085, \"Density\": 3.889274059953133}, {\"Freq\": 0.21513002364066194, \"Density\": 4.344064881751364}, {\"Freq\": 0.21749408983451535, \"Density\": 6.207260407388255}, {\"Freq\": 0.21985815602836878, \"Density\": 2.3668662638961897}, {\"Freq\": 0.2222222222222222, \"Density\": 8.24694962055}, {\"Freq\": 0.22458628841607564, \"Density\": 4.442547844831226}, {\"Freq\": 0.22695035460992907, \"Density\": 2.2206340497281016}, {\"Freq\": 0.2293144208037825, \"Density\": 3.9434680948157506}, {\"Freq\": 0.23167848699763594, \"Density\": 11.843012105978172}, {\"Freq\": 0.23404255319148937, \"Density\": 4.788974757577855}, {\"Freq\": 0.2364066193853428, \"Density\": 7.2662095724114115}, {\"Freq\": 0.2387706855791962, \"Density\": 3.5776234605272204}, {\"Freq\": 0.24113475177304963, \"Density\": 3.232626770800254}, {\"Freq\": 0.24349881796690306, \"Density\": 3.051806142031665}, {\"Freq\": 0.2458628841607565, \"Density\": 4.391082444487174}, {\"Freq\": 0.24822695035460993, \"Density\": 8.991485594115282}, {\"Freq\": 0.25059101654846333, \"Density\": 9.00083180275555}, {\"Freq\": 0.25295508274231676, \"Density\": 3.0804879431033387}, {\"Freq\": 0.2553191489361702, \"Density\": 4.972464735334722}, {\"Freq\": 0.2576832151300236, \"Density\": 2.1268776940430345}, {\"Freq\": 0.26004728132387706, \"Density\": 5.190772160107086}, {\"Freq\": 0.2624113475177305, \"Density\": 4.602766604926277}, {\"Freq\": 0.2647754137115839, \"Density\": 4.778087886445869}, {\"Freq\": 0.26713947990543735, \"Density\": 7.579687156522381}, {\"Freq\": 0.2695035460992908, \"Density\": 4.182931192617199}, {\"Freq\": 0.2718676122931442, \"Density\": 3.470290959730455}, {\"Freq\": 0.27423167848699764, \"Density\": 3.424592324669662}, {\"Freq\": 0.2765957446808511, \"Density\": 1.055967010821159}, {\"Freq\": 0.2789598108747045, \"Density\": 4.644892573909022}, {\"Freq\": 0.28132387706855794, \"Density\": 2.244719266738827}, {\"Freq\": 0.2836879432624113, \"Density\": 5.151760675782877}, {\"Freq\": 0.28605200945626474, \"Density\": 3.812735652098839}, {\"Freq\": 0.2884160756501182, \"Density\": 4.239603495455643}, {\"Freq\": 0.2907801418439716, \"Density\": 3.929571393617983}, {\"Freq\": 0.29314420803782504, \"Density\": 3.5280539944772613}, {\"Freq\": 0.29550827423167847, \"Density\": 4.59823675768299}, {\"Freq\": 0.2978723404255319, \"Density\": 2.6415045465774747}, {\"Freq\": 0.30023640661938533, \"Density\": 3.349518562793428}, {\"Freq\": 0.30260047281323876, \"Density\": 6.702272727508744}, {\"Freq\": 0.3049645390070922, \"Density\": 4.8009378896304105}, {\"Freq\": 0.3073286052009456, \"Density\": 1.7925084951731811}, {\"Freq\": 0.30969267139479906, \"Density\": 1.6645931607543187}, {\"Freq\": 0.3120567375886525, \"Density\": 1.9558933176850537}, {\"Freq\": 0.3144208037825059, \"Density\": 6.798697862152749}, {\"Freq\": 0.31678486997635935, \"Density\": 2.877915935716673}, {\"Freq\": 0.3191489361702128, \"Density\": 4.229617208198502}, {\"Freq\": 0.3215130023640662, \"Density\": 4.226981290670762}, {\"Freq\": 0.3238770685579196, \"Density\": 1.4951536675568975}, {\"Freq\": 0.326241134751773, \"Density\": 0.9769507792225671}, {\"Freq\": 0.32860520094562645, \"Density\": 1.0300071075743642}, {\"Freq\": 0.3309692671394799, \"Density\": 5.580448115831732}, {\"Freq\": 0.3333333333333333, \"Density\": 6.012409929078014}, {\"Freq\": 0.33569739952718675, \"Density\": 2.9185786993272895}, {\"Freq\": 0.3380614657210402, \"Density\": 3.2523954324560265}, {\"Freq\": 0.3404255319148936, \"Density\": 1.5484199317448428}, {\"Freq\": 0.34278959810874704, \"Density\": 2.5965715498878965}, {\"Freq\": 0.34515366430260047, \"Density\": 0.871780082441029}, {\"Freq\": 0.3475177304964539, \"Density\": 2.502809054936773}, {\"Freq\": 0.34988179669030733, \"Density\": 2.018798088008345}, {\"Freq\": 0.35224586288416077, \"Density\": 1.7943351520420006}, {\"Freq\": 0.3546099290780142, \"Density\": 2.1097394592942305}, {\"Freq\": 0.35697399527186763, \"Density\": 4.728419541489203}, {\"Freq\": 0.359338061465721, \"Density\": 1.7483808484215615}, {\"Freq\": 0.36170212765957444, \"Density\": 1.5701511566413977}, {\"Freq\": 0.36406619385342787, \"Density\": 0.31751580112292277}, {\"Freq\": 0.3664302600472813, \"Density\": 1.8766472787937782}, {\"Freq\": 0.36879432624113473, \"Density\": 1.9645583960285646}, {\"Freq\": 0.37115839243498816, \"Density\": 2.333360012983542}, {\"Freq\": 0.3735224586288416, \"Density\": 2.0558373302285036}, {\"Freq\": 0.375886524822695, \"Density\": 2.6806140230033257}, {\"Freq\": 0.37825059101654845, \"Density\": 4.261444628760214}, {\"Freq\": 0.3806146572104019, \"Density\": 3.8065912862262374}, {\"Freq\": 0.3829787234042553, \"Density\": 0.1436973937877339}, {\"Freq\": 0.38534278959810875, \"Density\": 5.712775770522573}, {\"Freq\": 0.3877068557919622, \"Density\": 1.9733412971413788}, {\"Freq\": 0.3900709219858156, \"Density\": 1.5647284259653593}, {\"Freq\": 0.39243498817966904, \"Density\": 0.9488740512710171}, {\"Freq\": 0.3947990543735225, \"Density\": 2.184932744412489}, {\"Freq\": 0.3971631205673759, \"Density\": 4.088944790980761}, {\"Freq\": 0.3995271867612293, \"Density\": 2.298680763396512}, {\"Freq\": 0.4018912529550827, \"Density\": 0.1470504097924337}, {\"Freq\": 0.40425531914893614, \"Density\": 2.873900626628864}, {\"Freq\": 0.4066193853427896, \"Density\": 1.0377764332381947}, {\"Freq\": 0.408983451536643, \"Density\": 3.1752255356831283}, {\"Freq\": 0.41134751773049644, \"Density\": 0.42756603627506873}, {\"Freq\": 0.41371158392434987, \"Density\": 0.8993036506312997}, {\"Freq\": 0.4160756501182033, \"Density\": 2.2858377701022152}, {\"Freq\": 0.41843971631205673, \"Density\": 1.3380074189207867}, {\"Freq\": 0.42080378250591016, \"Density\": 1.7404362639247108}, {\"Freq\": 0.4231678486997636, \"Density\": 1.3925636617158852}, {\"Freq\": 0.425531914893617, \"Density\": 1.7250852233240608}, {\"Freq\": 0.42789598108747046, \"Density\": 1.459981585173878}, {\"Freq\": 0.4302600472813239, \"Density\": 0.4499974533432402}, {\"Freq\": 0.4326241134751773, \"Density\": 0.5788861559956598}, {\"Freq\": 0.4349881796690307, \"Density\": 2.7802492807653953}, {\"Freq\": 0.4373522458628841, \"Density\": 1.8397517541996598}, {\"Freq\": 0.43971631205673756, \"Density\": 7.859639436360173}, {\"Freq\": 0.442080378250591, \"Density\": 2.7633365281814877}, {\"Freq\": 0.4444444444444444, \"Density\": 1.0707258158315136}, {\"Freq\": 0.44680851063829785, \"Density\": 1.3175598206228634}, {\"Freq\": 0.4491725768321513, \"Density\": 0.6530095065561137}, {\"Freq\": 0.4515366430260047, \"Density\": 1.3460175420632459}, {\"Freq\": 0.45390070921985815, \"Density\": 2.2161025242060917}, {\"Freq\": 0.4562647754137116, \"Density\": 1.293284411181275}, {\"Freq\": 0.458628841607565, \"Density\": 4.332306051135374}, {\"Freq\": 0.46099290780141844, \"Density\": 0.8699385695960747}, {\"Freq\": 0.46335697399527187, \"Density\": 1.2173952378575044}, {\"Freq\": 0.4657210401891253, \"Density\": 0.9713860744683166}, {\"Freq\": 0.46808510638297873, \"Density\": 2.123529972941207}, {\"Freq\": 0.47044917257683216, \"Density\": 1.373515755949976}, {\"Freq\": 0.4728132387706856, \"Density\": 0.6762817947226392}, {\"Freq\": 0.47517730496453897, \"Density\": 2.50565263327847}, {\"Freq\": 0.4775413711583924, \"Density\": 2.342505807502805}, {\"Freq\": 0.47990543735224583, \"Density\": 1.5360691244383171}, {\"Freq\": 0.48226950354609927, \"Density\": 1.7429376664305927}, {\"Freq\": 0.4846335697399527, \"Density\": 0.6469972650389426}, {\"Freq\": 0.48699763593380613, \"Density\": 2.143668614926329}, {\"Freq\": 0.48936170212765956, \"Density\": 0.6448833814466522}, {\"Freq\": 0.491725768321513, \"Density\": 0.8033145579424246}, {\"Freq\": 0.4940898345153664, \"Density\": 1.9584338740878737}, {\"Freq\": 0.49645390070921985, \"Density\": 1.8162918285059837}, {\"Freq\": 0.4988179669030733, \"Density\": 1.6989474541160663}]}}, {\"mode\": \"vega-lite\"});\n",
       "</script>"
      ],
      "text/plain": [
       "alt.Chart(...)"
      ]
     },
     "execution_count": 19,
     "metadata": {},
     "output_type": "execute_result"
    }
   ],
   "source": [
    "#pct_positive\n",
    "make_sig_periodgram(flu_data.pct_positive)"
   ]
  },
  {
   "cell_type": "code",
   "execution_count": 20,
   "id": "continent-superior",
   "metadata": {},
   "outputs": [],
   "source": [
    "f2, Pxx_den2 = scipy.signal.periodogram(flu_data.pct_positive, fs = 1, scaling='density')"
   ]
  },
  {
   "cell_type": "code",
   "execution_count": 21,
   "id": "valued-nomination",
   "metadata": {},
   "outputs": [
    {
     "data": {
      "text/html": [
       "\n",
       "<div id=\"altair-viz-60d365999b2042b0ab794ddb588ab803\"></div>\n",
       "<script type=\"text/javascript\">\n",
       "  (function(spec, embedOpt){\n",
       "    let outputDiv = document.currentScript.previousElementSibling;\n",
       "    if (outputDiv.id !== \"altair-viz-60d365999b2042b0ab794ddb588ab803\") {\n",
       "      outputDiv = document.getElementById(\"altair-viz-60d365999b2042b0ab794ddb588ab803\");\n",
       "    }\n",
       "    const paths = {\n",
       "      \"vega\": \"https://cdn.jsdelivr.net/npm//vega@5?noext\",\n",
       "      \"vega-lib\": \"https://cdn.jsdelivr.net/npm//vega-lib?noext\",\n",
       "      \"vega-lite\": \"https://cdn.jsdelivr.net/npm//vega-lite@4.8.1?noext\",\n",
       "      \"vega-embed\": \"https://cdn.jsdelivr.net/npm//vega-embed@6?noext\",\n",
       "    };\n",
       "\n",
       "    function loadScript(lib) {\n",
       "      return new Promise(function(resolve, reject) {\n",
       "        var s = document.createElement('script');\n",
       "        s.src = paths[lib];\n",
       "        s.async = true;\n",
       "        s.onload = () => resolve(paths[lib]);\n",
       "        s.onerror = () => reject(`Error loading script: ${paths[lib]}`);\n",
       "        document.getElementsByTagName(\"head\")[0].appendChild(s);\n",
       "      });\n",
       "    }\n",
       "\n",
       "    function showError(err) {\n",
       "      outputDiv.innerHTML = `<div class=\"error\" style=\"color:red;\">${err}</div>`;\n",
       "      throw err;\n",
       "    }\n",
       "\n",
       "    function displayChart(vegaEmbed) {\n",
       "      vegaEmbed(outputDiv, spec, embedOpt)\n",
       "        .catch(err => showError(`Javascript Error: ${err.message}<br>This usually means there's a typo in your chart specification. See the javascript console for the full traceback.`));\n",
       "    }\n",
       "\n",
       "    if(typeof define === \"function\" && define.amd) {\n",
       "      requirejs.config({paths});\n",
       "      require([\"vega-embed\"], displayChart, err => showError(`Error loading script: ${err.message}`));\n",
       "    } else if (typeof vegaEmbed === \"function\") {\n",
       "      displayChart(vegaEmbed);\n",
       "    } else {\n",
       "      loadScript(\"vega\")\n",
       "        .then(() => loadScript(\"vega-lite\"))\n",
       "        .then(() => loadScript(\"vega-embed\"))\n",
       "        .catch(showError)\n",
       "        .then(() => displayChart(vegaEmbed));\n",
       "    }\n",
       "  })({\"config\": {\"view\": {\"continuousWidth\": 400, \"continuousHeight\": 300}}, \"data\": {\"name\": \"data-c946c75f5079b0636ccb64af980d3632\"}, \"mark\": \"bar\", \"encoding\": {\"x\": {\"type\": \"quantitative\", \"field\": \"Freq\"}, \"y\": {\"type\": \"quantitative\", \"field\": \"Density\"}}, \"$schema\": \"https://vega.github.io/schema/vega-lite/v4.8.1.json\", \"datasets\": {\"data-c946c75f5079b0636ccb64af980d3632\": [{\"Freq\": 0.0, \"Density\": 2.5441678003882495e-27}, {\"Freq\": 0.002364066193853428, \"Density\": 64.1573640165527}, {\"Freq\": 0.004728132387706856, \"Density\": 715.8929136962995}, {\"Freq\": 0.0070921985815602835, \"Density\": 730.9186974588026}, {\"Freq\": 0.009456264775413711, \"Density\": 168.711094131282}, {\"Freq\": 0.01182033096926714, \"Density\": 699.1709955755833}, {\"Freq\": 0.014184397163120567, \"Density\": 81.88175837122965}, {\"Freq\": 0.016548463356973995, \"Density\": 232.86585517809837}, {\"Freq\": 0.018912529550827423, \"Density\": 22464.598993124186}, {\"Freq\": 0.02127659574468085, \"Density\": 945.282437219296}, {\"Freq\": 0.02364066193853428, \"Density\": 635.593066190136}, {\"Freq\": 0.026004728132387706, \"Density\": 985.9949066549552}, {\"Freq\": 0.028368794326241134, \"Density\": 282.7898408411292}, {\"Freq\": 0.030732860520094562, \"Density\": 1186.711967499205}, {\"Freq\": 0.03309692671394799, \"Density\": 245.98333553485807}, {\"Freq\": 0.035460992907801414, \"Density\": 109.80844119126594}, {\"Freq\": 0.037825059101654845, \"Density\": 3303.6987967916925}, {\"Freq\": 0.04018912529550828, \"Density\": 549.7045504674403}, {\"Freq\": 0.0425531914893617, \"Density\": 455.5175303666081}, {\"Freq\": 0.044917257683215125, \"Density\": 773.274860983115}, {\"Freq\": 0.04728132387706856, \"Density\": 261.1917577449823}, {\"Freq\": 0.04964539007092199, \"Density\": 261.2165859757202}, {\"Freq\": 0.05200945626477541, \"Density\": 42.87053861641996}, {\"Freq\": 0.05437352245862884, \"Density\": 34.723239747135956}, {\"Freq\": 0.05673758865248227, \"Density\": 307.82834499061266}, {\"Freq\": 0.0591016548463357, \"Density\": 239.4317948969204}, {\"Freq\": 0.061465721040189124, \"Density\": 332.2625573634938}, {\"Freq\": 0.06382978723404255, \"Density\": 181.46313453181446}, {\"Freq\": 0.06619385342789598, \"Density\": 67.14574949152885}, {\"Freq\": 0.06855791962174941, \"Density\": 44.826327825197275}, {\"Freq\": 0.07092198581560283, \"Density\": 8.295838898810041}, {\"Freq\": 0.07328605200945626, \"Density\": 39.080215435427895}, {\"Freq\": 0.07565011820330969, \"Density\": 24.115884894559837}, {\"Freq\": 0.07801418439716312, \"Density\": 241.49671511471476}, {\"Freq\": 0.08037825059101655, \"Density\": 206.03186241008206}, {\"Freq\": 0.08274231678486997, \"Density\": 8.11303575519552}, {\"Freq\": 0.0851063829787234, \"Density\": 7.541840133865029}, {\"Freq\": 0.08747044917257683, \"Density\": 30.310644364543755}, {\"Freq\": 0.08983451536643025, \"Density\": 7.8038629980968155}, {\"Freq\": 0.09219858156028368, \"Density\": 57.16525580736387}, {\"Freq\": 0.09456264775413711, \"Density\": 20.38327673766845}, {\"Freq\": 0.09692671394799054, \"Density\": 94.86597236972358}, {\"Freq\": 0.09929078014184398, \"Density\": 73.3883810339082}, {\"Freq\": 0.1016548463356974, \"Density\": 8.868125662341859}, {\"Freq\": 0.10401891252955082, \"Density\": 15.062319216310119}, {\"Freq\": 0.10638297872340426, \"Density\": 7.231127561996575}, {\"Freq\": 0.10874704491725767, \"Density\": 17.897494430599423}, {\"Freq\": 0.1111111111111111, \"Density\": 28.21856569837028}, {\"Freq\": 0.11347517730496454, \"Density\": 33.07211850595891}, {\"Freq\": 0.11583924349881797, \"Density\": 37.05055040304567}, {\"Freq\": 0.1182033096926714, \"Density\": 18.06565393526124}, {\"Freq\": 0.12056737588652482, \"Density\": 39.27944168449936}, {\"Freq\": 0.12293144208037825, \"Density\": 24.19294130558941}, {\"Freq\": 0.12529550827423167, \"Density\": 0.6036432245105623}, {\"Freq\": 0.1276595744680851, \"Density\": 9.09591264253578}, {\"Freq\": 0.13002364066193853, \"Density\": 9.50851018801559}, {\"Freq\": 0.13238770685579196, \"Density\": 41.53508113856588}, {\"Freq\": 0.1347517730496454, \"Density\": 27.607065489661455}, {\"Freq\": 0.13711583924349882, \"Density\": 0.19741862556111536}, {\"Freq\": 0.13947990543735225, \"Density\": 53.77032135947159}, {\"Freq\": 0.14184397163120566, \"Density\": 15.116755525452716}, {\"Freq\": 0.1442080378250591, \"Density\": 2.867449961076611}, {\"Freq\": 0.14657210401891252, \"Density\": 10.71569866691887}, {\"Freq\": 0.14893617021276595, \"Density\": 5.9321352524019435}, {\"Freq\": 0.15130023640661938, \"Density\": 19.26698497441918}, {\"Freq\": 0.1536643026004728, \"Density\": 11.74699992390993}, {\"Freq\": 0.15602836879432624, \"Density\": 1.6879800479135165}, {\"Freq\": 0.15839243498817968, \"Density\": 45.22643055654147}, {\"Freq\": 0.1607565011820331, \"Density\": 6.8689546707641576}, {\"Freq\": 0.1631205673758865, \"Density\": 8.320006755067512}, {\"Freq\": 0.16548463356973994, \"Density\": 7.096131089692286}, {\"Freq\": 0.16784869976359337, \"Density\": 11.06678961273767}, {\"Freq\": 0.1702127659574468, \"Density\": 4.626417247430533}, {\"Freq\": 0.17257683215130024, \"Density\": 4.92675985104413}, {\"Freq\": 0.17494089834515367, \"Density\": 0.699390352143892}, {\"Freq\": 0.1773049645390071, \"Density\": 37.86840725880715}, {\"Freq\": 0.1796690307328605, \"Density\": 12.152389305287034}, {\"Freq\": 0.18203309692671393, \"Density\": 10.782181301956301}, {\"Freq\": 0.18439716312056736, \"Density\": 5.779361218311669}, {\"Freq\": 0.1867612293144208, \"Density\": 16.589850647739276}, {\"Freq\": 0.18912529550827423, \"Density\": 1.0271497524929811}, {\"Freq\": 0.19148936170212766, \"Density\": 2.3249004666781827}, {\"Freq\": 0.1938534278959811, \"Density\": 3.1470685757931545}, {\"Freq\": 0.19621749408983452, \"Density\": 11.82143325020966}, {\"Freq\": 0.19858156028368795, \"Density\": 9.22158623821101}, {\"Freq\": 0.20094562647754136, \"Density\": 4.627610143650249}, {\"Freq\": 0.2033096926713948, \"Density\": 7.3213769100417245}, {\"Freq\": 0.20567375886524822, \"Density\": 12.942566711681199}, {\"Freq\": 0.20803782505910165, \"Density\": 0.9222534142855028}, {\"Freq\": 0.21040189125295508, \"Density\": 1.981097282196771}, {\"Freq\": 0.2127659574468085, \"Density\": 3.889274059953133}, {\"Freq\": 0.21513002364066194, \"Density\": 4.344064881751364}, {\"Freq\": 0.21749408983451535, \"Density\": 6.207260407388255}, {\"Freq\": 0.21985815602836878, \"Density\": 2.3668662638961897}, {\"Freq\": 0.2222222222222222, \"Density\": 8.24694962055}, {\"Freq\": 0.22458628841607564, \"Density\": 4.442547844831226}, {\"Freq\": 0.22695035460992907, \"Density\": 2.2206340497281016}, {\"Freq\": 0.2293144208037825, \"Density\": 3.9434680948157506}, {\"Freq\": 0.23167848699763594, \"Density\": 11.843012105978172}, {\"Freq\": 0.23404255319148937, \"Density\": 4.788974757577855}, {\"Freq\": 0.2364066193853428, \"Density\": 7.2662095724114115}, {\"Freq\": 0.2387706855791962, \"Density\": 3.5776234605272204}, {\"Freq\": 0.24113475177304963, \"Density\": 3.232626770800254}, {\"Freq\": 0.24349881796690306, \"Density\": 3.051806142031665}, {\"Freq\": 0.2458628841607565, \"Density\": 4.391082444487174}, {\"Freq\": 0.24822695035460993, \"Density\": 8.991485594115282}, {\"Freq\": 0.25059101654846333, \"Density\": 9.00083180275555}, {\"Freq\": 0.25295508274231676, \"Density\": 3.0804879431033387}, {\"Freq\": 0.2553191489361702, \"Density\": 4.972464735334722}, {\"Freq\": 0.2576832151300236, \"Density\": 2.1268776940430345}, {\"Freq\": 0.26004728132387706, \"Density\": 5.190772160107086}, {\"Freq\": 0.2624113475177305, \"Density\": 4.602766604926277}, {\"Freq\": 0.2647754137115839, \"Density\": 4.778087886445869}, {\"Freq\": 0.26713947990543735, \"Density\": 7.579687156522381}, {\"Freq\": 0.2695035460992908, \"Density\": 4.182931192617199}, {\"Freq\": 0.2718676122931442, \"Density\": 3.470290959730455}, {\"Freq\": 0.27423167848699764, \"Density\": 3.424592324669662}, {\"Freq\": 0.2765957446808511, \"Density\": 1.055967010821159}, {\"Freq\": 0.2789598108747045, \"Density\": 4.644892573909022}, {\"Freq\": 0.28132387706855794, \"Density\": 2.244719266738827}, {\"Freq\": 0.2836879432624113, \"Density\": 5.151760675782877}, {\"Freq\": 0.28605200945626474, \"Density\": 3.812735652098839}, {\"Freq\": 0.2884160756501182, \"Density\": 4.239603495455643}, {\"Freq\": 0.2907801418439716, \"Density\": 3.929571393617983}, {\"Freq\": 0.29314420803782504, \"Density\": 3.5280539944772613}, {\"Freq\": 0.29550827423167847, \"Density\": 4.59823675768299}, {\"Freq\": 0.2978723404255319, \"Density\": 2.6415045465774747}, {\"Freq\": 0.30023640661938533, \"Density\": 3.349518562793428}, {\"Freq\": 0.30260047281323876, \"Density\": 6.702272727508744}, {\"Freq\": 0.3049645390070922, \"Density\": 4.8009378896304105}, {\"Freq\": 0.3073286052009456, \"Density\": 1.7925084951731811}, {\"Freq\": 0.30969267139479906, \"Density\": 1.6645931607543187}, {\"Freq\": 0.3120567375886525, \"Density\": 1.9558933176850537}, {\"Freq\": 0.3144208037825059, \"Density\": 6.798697862152749}, {\"Freq\": 0.31678486997635935, \"Density\": 2.877915935716673}, {\"Freq\": 0.3191489361702128, \"Density\": 4.229617208198502}, {\"Freq\": 0.3215130023640662, \"Density\": 4.226981290670762}, {\"Freq\": 0.3238770685579196, \"Density\": 1.4951536675568975}, {\"Freq\": 0.326241134751773, \"Density\": 0.9769507792225671}, {\"Freq\": 0.32860520094562645, \"Density\": 1.0300071075743642}, {\"Freq\": 0.3309692671394799, \"Density\": 5.580448115831732}, {\"Freq\": 0.3333333333333333, \"Density\": 6.012409929078014}, {\"Freq\": 0.33569739952718675, \"Density\": 2.9185786993272895}, {\"Freq\": 0.3380614657210402, \"Density\": 3.2523954324560265}, {\"Freq\": 0.3404255319148936, \"Density\": 1.5484199317448428}, {\"Freq\": 0.34278959810874704, \"Density\": 2.5965715498878965}, {\"Freq\": 0.34515366430260047, \"Density\": 0.871780082441029}, {\"Freq\": 0.3475177304964539, \"Density\": 2.502809054936773}, {\"Freq\": 0.34988179669030733, \"Density\": 2.018798088008345}, {\"Freq\": 0.35224586288416077, \"Density\": 1.7943351520420006}, {\"Freq\": 0.3546099290780142, \"Density\": 2.1097394592942305}, {\"Freq\": 0.35697399527186763, \"Density\": 4.728419541489203}, {\"Freq\": 0.359338061465721, \"Density\": 1.7483808484215615}, {\"Freq\": 0.36170212765957444, \"Density\": 1.5701511566413977}, {\"Freq\": 0.36406619385342787, \"Density\": 0.31751580112292277}, {\"Freq\": 0.3664302600472813, \"Density\": 1.8766472787937782}, {\"Freq\": 0.36879432624113473, \"Density\": 1.9645583960285646}, {\"Freq\": 0.37115839243498816, \"Density\": 2.333360012983542}, {\"Freq\": 0.3735224586288416, \"Density\": 2.0558373302285036}, {\"Freq\": 0.375886524822695, \"Density\": 2.6806140230033257}, {\"Freq\": 0.37825059101654845, \"Density\": 4.261444628760214}, {\"Freq\": 0.3806146572104019, \"Density\": 3.8065912862262374}, {\"Freq\": 0.3829787234042553, \"Density\": 0.1436973937877339}, {\"Freq\": 0.38534278959810875, \"Density\": 5.712775770522573}, {\"Freq\": 0.3877068557919622, \"Density\": 1.9733412971413788}, {\"Freq\": 0.3900709219858156, \"Density\": 1.5647284259653593}, {\"Freq\": 0.39243498817966904, \"Density\": 0.9488740512710171}, {\"Freq\": 0.3947990543735225, \"Density\": 2.184932744412489}, {\"Freq\": 0.3971631205673759, \"Density\": 4.088944790980761}, {\"Freq\": 0.3995271867612293, \"Density\": 2.298680763396512}, {\"Freq\": 0.4018912529550827, \"Density\": 0.1470504097924337}, {\"Freq\": 0.40425531914893614, \"Density\": 2.873900626628864}, {\"Freq\": 0.4066193853427896, \"Density\": 1.0377764332381947}, {\"Freq\": 0.408983451536643, \"Density\": 3.1752255356831283}, {\"Freq\": 0.41134751773049644, \"Density\": 0.42756603627506873}, {\"Freq\": 0.41371158392434987, \"Density\": 0.8993036506312997}, {\"Freq\": 0.4160756501182033, \"Density\": 2.2858377701022152}, {\"Freq\": 0.41843971631205673, \"Density\": 1.3380074189207867}, {\"Freq\": 0.42080378250591016, \"Density\": 1.7404362639247108}, {\"Freq\": 0.4231678486997636, \"Density\": 1.3925636617158852}, {\"Freq\": 0.425531914893617, \"Density\": 1.7250852233240608}, {\"Freq\": 0.42789598108747046, \"Density\": 1.459981585173878}, {\"Freq\": 0.4302600472813239, \"Density\": 0.4499974533432402}, {\"Freq\": 0.4326241134751773, \"Density\": 0.5788861559956598}, {\"Freq\": 0.4349881796690307, \"Density\": 2.7802492807653953}, {\"Freq\": 0.4373522458628841, \"Density\": 1.8397517541996598}, {\"Freq\": 0.43971631205673756, \"Density\": 7.859639436360173}, {\"Freq\": 0.442080378250591, \"Density\": 2.7633365281814877}, {\"Freq\": 0.4444444444444444, \"Density\": 1.0707258158315136}, {\"Freq\": 0.44680851063829785, \"Density\": 1.3175598206228634}, {\"Freq\": 0.4491725768321513, \"Density\": 0.6530095065561137}, {\"Freq\": 0.4515366430260047, \"Density\": 1.3460175420632459}, {\"Freq\": 0.45390070921985815, \"Density\": 2.2161025242060917}, {\"Freq\": 0.4562647754137116, \"Density\": 1.293284411181275}, {\"Freq\": 0.458628841607565, \"Density\": 4.332306051135374}, {\"Freq\": 0.46099290780141844, \"Density\": 0.8699385695960747}, {\"Freq\": 0.46335697399527187, \"Density\": 1.2173952378575044}, {\"Freq\": 0.4657210401891253, \"Density\": 0.9713860744683166}, {\"Freq\": 0.46808510638297873, \"Density\": 2.123529972941207}, {\"Freq\": 0.47044917257683216, \"Density\": 1.373515755949976}, {\"Freq\": 0.4728132387706856, \"Density\": 0.6762817947226392}, {\"Freq\": 0.47517730496453897, \"Density\": 2.50565263327847}, {\"Freq\": 0.4775413711583924, \"Density\": 2.342505807502805}, {\"Freq\": 0.47990543735224583, \"Density\": 1.5360691244383171}, {\"Freq\": 0.48226950354609927, \"Density\": 1.7429376664305927}, {\"Freq\": 0.4846335697399527, \"Density\": 0.6469972650389426}, {\"Freq\": 0.48699763593380613, \"Density\": 2.143668614926329}, {\"Freq\": 0.48936170212765956, \"Density\": 0.6448833814466522}, {\"Freq\": 0.491725768321513, \"Density\": 0.8033145579424246}, {\"Freq\": 0.4940898345153664, \"Density\": 1.9584338740878737}, {\"Freq\": 0.49645390070921985, \"Density\": 1.8162918285059837}, {\"Freq\": 0.4988179669030733, \"Density\": 1.6989474541160663}]}}, {\"mode\": \"vega-lite\"});\n",
       "</script>"
      ],
      "text/plain": [
       "alt.Chart(...)"
      ]
     },
     "execution_count": 21,
     "metadata": {},
     "output_type": "execute_result"
    }
   ],
   "source": [
    "data = pd.DataFrame({'Freq' : f2,'Density' : Pxx_den2})\n",
    "alt.Chart(data).mark_bar().encode(\n",
    "    x='Freq',\n",
    "    y='Density',\n",
    ")"
   ]
  },
  {
   "cell_type": "code",
   "execution_count": 22,
   "id": "typical-kentucky",
   "metadata": {},
   "outputs": [
    {
     "data": {
      "text/plain": [
       "<spectrum.psd.Spectrum at 0x193a2788a08>"
      ]
     },
     "execution_count": 22,
     "metadata": {},
     "output_type": "execute_result"
    },
    {
     "data": {
      "image/png": "[encoded data removed]",
      "text/plain": [
       "<Figure size 432x288 with 1 Axes>"
      ]
     },
     "metadata": {
      "needs_background": "light"
     },
     "output_type": "display_data"
    }
   ],
   "source": [
    "make_welch_periodgram(flu_data.pct_positive,sampling = 50)"
   ]
  },
  {
   "cell_type": "code",
   "execution_count": 23,
   "id": "metropolitan-serbia",
   "metadata": {},
   "outputs": [
    {
     "data": {
      "image/png": "[encoded data removed]",
      "text/plain": [
       "<Figure size 432x288 with 1 Axes>"
      ]
     },
     "metadata": {
      "needs_background": "light"
     },
     "output_type": "display_data"
    }
   ],
   "source": [
    "psd = WelchPeriodogram(flu_data.pct_positive,50)"
   ]
  },
  {
   "cell_type": "code",
   "execution_count": 24,
   "id": "willing-tooth",
   "metadata": {},
   "outputs": [
    {
     "data": {
      "image/png": "[encoded data removed]",
      "text/plain": [
       "<Figure size 432x288 with 1 Axes>"
      ]
     },
     "metadata": {
      "needs_background": "light"
     },
     "output_type": "display_data"
    }
   ],
   "source": [
    "psd = Periodogram(flu_data.pct_positive, 50, scale_by_freq = True)\n",
    "psd.plot()"
   ]
  },
  {
   "cell_type": "code",
   "execution_count": 25,
   "id": "concerned-indonesian",
   "metadata": {},
   "outputs": [
    {
     "data": {
      "text/plain": [
       "52    -1.297876e+14\n",
       "53     4.927901e+13\n",
       "54     6.855134e+13\n",
       "55    -2.146537e+14\n",
       "56     3.732774e+14\n",
       "           ...     \n",
       "418   -4.375131e+13\n",
       "419    4.373794e+13\n",
       "420   -3.688791e+13\n",
       "421    2.428774e+13\n",
       "422   -7.724018e+12\n",
       "Name: pct_positive, Length: 371, dtype: float64"
      ]
     },
     "execution_count": 25,
     "metadata": {},
     "output_type": "execute_result"
    }
   ],
   "source": [
    "dif_52 = statsmodels.tsa.statespace.tools.diff(flu_data.pct_positive,k_diff=0, k_seasonal_diff=52, seasonal_periods=1 )\n",
    "dif_52"
   ]
  },
  {
   "cell_type": "code",
   "execution_count": 26,
   "id": "plain-diesel",
   "metadata": {},
   "outputs": [
    {
     "data": {
      "text/plain": [
       "<spectrum.psd.Spectrum at 0x193a8678e88>"
      ]
     },
     "execution_count": 26,
     "metadata": {},
     "output_type": "execute_result"
    },
    {
     "data": {
      "image/png": "[encoded data removed]",
      "text/plain": [
       "<Figure size 432x288 with 1 Axes>"
      ]
     },
     "metadata": {
      "needs_background": "light"
     },
     "output_type": "display_data"
    }
   ],
   "source": [
    "\n",
    "make_welch_periodgram(dif_52.values,sampling = 50)"
   ]
  },
  {
   "cell_type": "code",
   "execution_count": 27,
   "id": "minute-raise",
   "metadata": {},
   "outputs": [
    {
     "data": {
      "text/html": [
       "\n",
       "<div id=\"altair-viz-40418fe6439844feba32b12ce24a0d15\"></div>\n",
       "<script type=\"text/javascript\">\n",
       "  (function(spec, embedOpt){\n",
       "    let outputDiv = document.currentScript.previousElementSibling;\n",
       "    if (outputDiv.id !== \"altair-viz-40418fe6439844feba32b12ce24a0d15\") {\n",
       "      outputDiv = document.getElementById(\"altair-viz-40418fe6439844feba32b12ce24a0d15\");\n",
       "    }\n",
       "    const paths = {\n",
       "      \"vega\": \"https://cdn.jsdelivr.net/npm//vega@5?noext\",\n",
       "      \"vega-lib\": \"https://cdn.jsdelivr.net/npm//vega-lib?noext\",\n",
       "      \"vega-lite\": \"https://cdn.jsdelivr.net/npm//vega-lite@4.8.1?noext\",\n",
       "      \"vega-embed\": \"https://cdn.jsdelivr.net/npm//vega-embed@6?noext\",\n",
       "    };\n",
       "\n",
       "    function loadScript(lib) {\n",
       "      return new Promise(function(resolve, reject) {\n",
       "        var s = document.createElement('script');\n",
       "        s.src = paths[lib];\n",
       "        s.async = true;\n",
       "        s.onload = () => resolve(paths[lib]);\n",
       "        s.onerror = () => reject(`Error loading script: ${paths[lib]}`);\n",
       "        document.getElementsByTagName(\"head\")[0].appendChild(s);\n",
       "      });\n",
       "    }\n",
       "\n",
       "    function showError(err) {\n",
       "      outputDiv.innerHTML = `<div class=\"error\" style=\"color:red;\">${err}</div>`;\n",
       "      throw err;\n",
       "    }\n",
       "\n",
       "    function displayChart(vegaEmbed) {\n",
       "      vegaEmbed(outputDiv, spec, embedOpt)\n",
       "        .catch(err => showError(`Javascript Error: ${err.message}<br>This usually means there's a typo in your chart specification. See the javascript console for the full traceback.`));\n",
       "    }\n",
       "\n",
       "    if(typeof define === \"function\" && define.amd) {\n",
       "      requirejs.config({paths});\n",
       "      require([\"vega-embed\"], displayChart, err => showError(`Error loading script: ${err.message}`));\n",
       "    } else if (typeof vegaEmbed === \"function\") {\n",
       "      displayChart(vegaEmbed);\n",
       "    } else {\n",
       "      loadScript(\"vega\")\n",
       "        .then(() => loadScript(\"vega-lite\"))\n",
       "        .then(() => loadScript(\"vega-embed\"))\n",
       "        .catch(showError)\n",
       "        .then(() => displayChart(vegaEmbed));\n",
       "    }\n",
       "  })({\"config\": {\"view\": {\"continuousWidth\": 400, \"continuousHeight\": 300}}, \"data\": {\"name\": \"data-e60bc6eb9a1361b1471f47d629650e2b\"}, \"mark\": \"bar\", \"encoding\": {\"x\": {\"type\": \"quantitative\", \"field\": \"Lag\"}, \"y\": {\"type\": \"quantitative\", \"field\": \"AutoCor\"}}, \"$schema\": \"https://vega.github.io/schema/vega-lite/v4.8.1.json\", \"datasets\": {\"data-e60bc6eb9a1361b1471f47d629650e2b\": [{\"Lag\": 0, \"AutoCor\": 1.0}, {\"Lag\": 1, \"AutoCor\": -0.9768023467115218}, {\"Lag\": 2, \"AutoCor\": 0.9104746746384059}, {\"Lag\": 3, \"AutoCor\": -0.8094190388319312}, {\"Lag\": 4, \"AutoCor\": 0.685839247547919}, {\"Lag\": 5, \"AutoCor\": -0.5535840059167549}, {\"Lag\": 6, \"AutoCor\": 0.42589801586664555}, {\"Lag\": 7, \"AutoCor\": -0.3135555975670356}, {\"Lag\": 8, \"AutoCor\": 0.2236915834415587}, {\"Lag\": 9, \"AutoCor\": -0.15942566832161417}, {\"Lag\": 10, \"AutoCor\": 0.12017569127561392}, {\"Lag\": 11, \"AutoCor\": -0.1024338866198252}, {\"Lag\": 12, \"AutoCor\": 0.10075368469611175}, {\"Lag\": 13, \"AutoCor\": -0.1087467075764519}, {\"Lag\": 14, \"AutoCor\": 0.11997240057030074}, {\"Lag\": 15, \"AutoCor\": -0.12867719289907684}, {\"Lag\": 16, \"AutoCor\": 0.13037521795052376}, {\"Lag\": 17, \"AutoCor\": -0.12226377320696374}, {\"Lag\": 18, \"AutoCor\": 0.1034469184197227}, {\"Lag\": 19, \"AutoCor\": -0.07493193619403912}, {\"Lag\": 20, \"AutoCor\": 0.03937563770158959}, {\"Lag\": 21, \"AutoCor\": -0.0005989223518210623}, {\"Lag\": 22, \"AutoCor\": -0.03706422416319049}, {\"Lag\": 23, \"AutoCor\": 0.06947526399786676}, {\"Lag\": 24, \"AutoCor\": -0.09333822428259972}, {\"Lag\": 25, \"AutoCor\": 0.10668040326252984}, {\"Lag\": 26, \"AutoCor\": -0.10910197061631764}, {\"Lag\": 27, \"AutoCor\": 0.10177160927146159}, {\"Lag\": 28, \"AutoCor\": -0.0871877761941438}, {\"Lag\": 29, \"AutoCor\": 0.0687513079471257}, {\"Lag\": 30, \"AutoCor\": -0.0502173944026091}, {\"Lag\": 31, \"AutoCor\": 0.03510334359675626}, {\"Lag\": 32, \"AutoCor\": -0.02613711909624276}, {\"Lag\": 33, \"AutoCor\": 0.024825845620145233}, {\"Lag\": 34, \"AutoCor\": -0.031215090865037338}, {\"Lag\": 35, \"AutoCor\": 0.04388274416851735}, {\"Lag\": 36, \"AutoCor\": -0.060180990384840045}, {\"Lag\": 37, \"AutoCor\": 0.07669443865061368}, {\"Lag\": 38, \"AutoCor\": -0.08984499180759904}, {\"Lag\": 39, \"AutoCor\": 0.09653814171150114}, {\"Lag\": 40, \"AutoCor\": -0.0947373338665124}]}}, {\"mode\": \"vega-lite\"});\n",
       "</script>"
      ],
      "text/plain": [
       "alt.Chart(...)"
      ]
     },
     "execution_count": 27,
     "metadata": {},
     "output_type": "execute_result"
    }
   ],
   "source": [
    "#Auto Correlation Plot\n",
    "make_autocorr(dif_52.values, nlags = 40)"
   ]
  },
  {
   "cell_type": "markdown",
   "id": "native-anaheim",
   "metadata": {},
   "source": [
    "\n",
    "# Tests and model start here"
   ]
  },
  {
   "cell_type": "code",
   "execution_count": 28,
   "id": "cordless-difficulty",
   "metadata": {},
   "outputs": [
    {
     "data": {
      "text/plain": [
       "count    423.000000\n",
       "mean       9.364681\n",
       "std        9.520811\n",
       "min        0.050000\n",
       "25%        2.325000\n",
       "50%        4.440000\n",
       "75%       15.035000\n",
       "max       35.530000\n",
       "Name: Seasonal_Series, dtype: float64"
      ]
     },
     "execution_count": 28,
     "metadata": {},
     "output_type": "execute_result"
    }
   ],
   "source": [
    "series = pd.Series(flu_data.pct_positive.values, index = flu_data.EDATE.astype('datetime64[ns]'), name = \"Seasonal_Series\")\n",
    "series.describe()"
   ]
  },
  {
   "cell_type": "code",
   "execution_count": 29,
   "id": "functioning-thing",
   "metadata": {},
   "outputs": [
    {
     "data": {
      "text/plain": [
       "count    423.000000\n",
       "mean       9.364681\n",
       "std        9.520811\n",
       "min        0.050000\n",
       "25%        2.325000\n",
       "50%        4.440000\n",
       "75%       15.035000\n",
       "max       35.530000\n",
       "Name: Seasonal_Series, dtype: float64"
      ]
     },
     "execution_count": 29,
     "metadata": {},
     "output_type": "execute_result"
    }
   ],
   "source": [
    "series = pd.Series(flu_data.pct_positive.values, index = flu_data.EDATE.astype('datetime64[ns]'), name = \"Seasonal_Series\")\n",
    "series.describe()"
   ]
  },
  {
   "cell_type": "code",
   "execution_count": 30,
   "id": "creative-contamination",
   "metadata": {},
   "outputs": [
    {
     "ename": "ValueError",
     "evalue": "Unable to determine period from endog",
     "output_type": "error",
     "traceback": [
      "\u001b[1;31m---------------------------------------------------------------------------\u001b[0m",
      "\u001b[1;31mValueError\u001b[0m                                Traceback (most recent call last)",
      "\u001b[1;32m<ipython-input-30-a99618d9255a>\u001b[0m in \u001b[0;36m<module>\u001b[1;34m\u001b[0m\n\u001b[1;32m----> 1\u001b[1;33m \u001b[0mstl\u001b[0m \u001b[1;33m=\u001b[0m \u001b[0mSTL\u001b[0m\u001b[1;33m(\u001b[0m\u001b[0mdif_52\u001b[0m\u001b[1;33m,\u001b[0m \u001b[0mseasonal\u001b[0m\u001b[1;33m=\u001b[0m\u001b[1;36m53\u001b[0m\u001b[1;33m)\u001b[0m\u001b[1;33m\u001b[0m\u001b[1;33m\u001b[0m\u001b[0m\n\u001b[0m\u001b[0;32m      2\u001b[0m \u001b[0mres\u001b[0m \u001b[1;33m=\u001b[0m \u001b[0mstl\u001b[0m\u001b[1;33m.\u001b[0m\u001b[0mfit\u001b[0m\u001b[1;33m(\u001b[0m\u001b[1;33m)\u001b[0m\u001b[1;33m\u001b[0m\u001b[1;33m\u001b[0m\u001b[0m\n\u001b[0;32m      3\u001b[0m \u001b[0mfig\u001b[0m \u001b[1;33m=\u001b[0m \u001b[0mres\u001b[0m\u001b[1;33m.\u001b[0m\u001b[0mplot\u001b[0m\u001b[1;33m(\u001b[0m\u001b[1;33m)\u001b[0m\u001b[1;33m\u001b[0m\u001b[1;33m\u001b[0m\u001b[0m\n",
      "\u001b[1;32mstatsmodels/tsa/_stl.pyx\u001b[0m in \u001b[0;36mstatsmodels.tsa._stl.STL.__init__\u001b[1;34m()\u001b[0m\n",
      "\u001b[1;31mValueError\u001b[0m: Unable to determine period from endog"
     ]
    }
   ],
   "source": [
    "stl = STL(dif_52, seasonal=53)\n",
    "res = stl.fit()\n",
    "fig = res.plot()"
   ]
  },
  {
   "cell_type": "code",
   "execution_count": 31,
   "id": "adverse-pastor",
   "metadata": {},
   "outputs": [
    {
     "data": {
      "text/html": [
       "\n",
       "<div id=\"altair-viz-ca1f36a95442402085cd3b4951fa6b8c\"></div>\n",
       "<script type=\"text/javascript\">\n",
       "  (function(spec, embedOpt){\n",
       "    let outputDiv = document.currentScript.previousElementSibling;\n",
       "    if (outputDiv.id !== \"altair-viz-ca1f36a95442402085cd3b4951fa6b8c\") {\n",
       "      outputDiv = document.getElementById(\"altair-viz-ca1f36a95442402085cd3b4951fa6b8c\");\n",
       "    }\n",
       "    const paths = {\n",
       "      \"vega\": \"https://cdn.jsdelivr.net/npm//vega@5?noext\",\n",
       "      \"vega-lib\": \"https://cdn.jsdelivr.net/npm//vega-lib?noext\",\n",
       "      \"vega-lite\": \"https://cdn.jsdelivr.net/npm//vega-lite@4.8.1?noext\",\n",
       "      \"vega-embed\": \"https://cdn.jsdelivr.net/npm//vega-embed@6?noext\",\n",
       "    };\n",
       "\n",
       "    function loadScript(lib) {\n",
       "      return new Promise(function(resolve, reject) {\n",
       "        var s = document.createElement('script');\n",
       "        s.src = paths[lib];\n",
       "        s.async = true;\n",
       "        s.onload = () => resolve(paths[lib]);\n",
       "        s.onerror = () => reject(`Error loading script: ${paths[lib]}`);\n",
       "        document.getElementsByTagName(\"head\")[0].appendChild(s);\n",
       "      });\n",
       "    }\n",
       "\n",
       "    function showError(err) {\n",
       "      outputDiv.innerHTML = `<div class=\"error\" style=\"color:red;\">${err}</div>`;\n",
       "      throw err;\n",
       "    }\n",
       "\n",
       "    function displayChart(vegaEmbed) {\n",
       "      vegaEmbed(outputDiv, spec, embedOpt)\n",
       "        .catch(err => showError(`Javascript Error: ${err.message}<br>This usually means there's a typo in your chart specification. See the javascript console for the full traceback.`));\n",
       "    }\n",
       "\n",
       "    if(typeof define === \"function\" && define.amd) {\n",
       "      requirejs.config({paths});\n",
       "      require([\"vega-embed\"], displayChart, err => showError(`Error loading script: ${err.message}`));\n",
       "    } else if (typeof vegaEmbed === \"function\") {\n",
       "      displayChart(vegaEmbed);\n",
       "    } else {\n",
       "      loadScript(\"vega\")\n",
       "        .then(() => loadScript(\"vega-lite\"))\n",
       "        .then(() => loadScript(\"vega-embed\"))\n",
       "        .catch(showError)\n",
       "        .then(() => displayChart(vegaEmbed));\n",
       "    }\n",
       "  })({\"config\": {\"view\": {\"continuousWidth\": 400, \"continuousHeight\": 300}}, \"data\": {\"name\": \"data-746a66a8d2ec13ea92faa8b34387d956\"}, \"mark\": \"bar\", \"encoding\": {\"x\": {\"type\": \"quantitative\", \"field\": \"Lag\"}, \"y\": {\"type\": \"quantitative\", \"field\": \"AutoCor\"}}, \"$schema\": \"https://vega.github.io/schema/vega-lite/v4.8.1.json\", \"datasets\": {\"data-746a66a8d2ec13ea92faa8b34387d956\": [{\"Lag\": 0, \"AutoCor\": 1.0}, {\"Lag\": 1, \"AutoCor\": -0.9768023467115218}, {\"Lag\": 2, \"AutoCor\": 0.9104746746384059}, {\"Lag\": 3, \"AutoCor\": -0.8094190388319312}, {\"Lag\": 4, \"AutoCor\": 0.685839247547919}, {\"Lag\": 5, \"AutoCor\": -0.5535840059167549}, {\"Lag\": 6, \"AutoCor\": 0.42589801586664555}, {\"Lag\": 7, \"AutoCor\": -0.3135555975670356}, {\"Lag\": 8, \"AutoCor\": 0.2236915834415587}, {\"Lag\": 9, \"AutoCor\": -0.15942566832161417}, {\"Lag\": 10, \"AutoCor\": 0.12017569127561392}, {\"Lag\": 11, \"AutoCor\": -0.1024338866198252}, {\"Lag\": 12, \"AutoCor\": 0.10075368469611175}, {\"Lag\": 13, \"AutoCor\": -0.1087467075764519}, {\"Lag\": 14, \"AutoCor\": 0.11997240057030074}, {\"Lag\": 15, \"AutoCor\": -0.12867719289907684}, {\"Lag\": 16, \"AutoCor\": 0.13037521795052376}, {\"Lag\": 17, \"AutoCor\": -0.12226377320696374}, {\"Lag\": 18, \"AutoCor\": 0.1034469184197227}, {\"Lag\": 19, \"AutoCor\": -0.07493193619403912}, {\"Lag\": 20, \"AutoCor\": 0.03937563770158959}, {\"Lag\": 21, \"AutoCor\": -0.0005989223518210623}, {\"Lag\": 22, \"AutoCor\": -0.03706422416319049}, {\"Lag\": 23, \"AutoCor\": 0.06947526399786676}, {\"Lag\": 24, \"AutoCor\": -0.09333822428259972}, {\"Lag\": 25, \"AutoCor\": 0.10668040326252984}, {\"Lag\": 26, \"AutoCor\": -0.10910197061631764}, {\"Lag\": 27, \"AutoCor\": 0.10177160927146159}, {\"Lag\": 28, \"AutoCor\": -0.0871877761941438}, {\"Lag\": 29, \"AutoCor\": 0.0687513079471257}, {\"Lag\": 30, \"AutoCor\": -0.0502173944026091}, {\"Lag\": 31, \"AutoCor\": 0.03510334359675626}, {\"Lag\": 32, \"AutoCor\": -0.02613711909624276}, {\"Lag\": 33, \"AutoCor\": 0.024825845620145233}, {\"Lag\": 34, \"AutoCor\": -0.031215090865037338}, {\"Lag\": 35, \"AutoCor\": 0.04388274416851735}, {\"Lag\": 36, \"AutoCor\": -0.060180990384840045}, {\"Lag\": 37, \"AutoCor\": 0.07669443865061368}, {\"Lag\": 38, \"AutoCor\": -0.08984499180759904}, {\"Lag\": 39, \"AutoCor\": 0.09653814171150114}, {\"Lag\": 40, \"AutoCor\": -0.0947373338665124}, {\"Lag\": 41, \"AutoCor\": 0.08386056425192649}, {\"Lag\": 42, \"AutoCor\": -0.06493181220698063}, {\"Lag\": 43, \"AutoCor\": 0.040461842988779875}, {\"Lag\": 44, \"AutoCor\": -0.014084935003895438}, {\"Lag\": 45, \"AutoCor\": -0.009988912997236565}, {\"Lag\": 46, \"AutoCor\": 0.027617703630451875}, {\"Lag\": 47, \"AutoCor\": -0.03537324201583807}, {\"Lag\": 48, \"AutoCor\": 0.031090772682248035}, {\"Lag\": 49, \"AutoCor\": -0.014240495296220415}, {\"Lag\": 50, \"AutoCor\": -0.013945086822882834}, {\"Lag\": 51, \"AutoCor\": 0.05061566043528789}, {\"Lag\": 52, \"AutoCor\": -0.09171026134068214}, {\"Lag\": 53, \"AutoCor\": 0.13256487002158868}, {\"Lag\": 54, \"AutoCor\": -0.16862160915206226}, {\"Lag\": 55, \"AutoCor\": 0.1961078102354511}, {\"Lag\": 56, \"AutoCor\": -0.212558625610554}, {\"Lag\": 57, \"AutoCor\": 0.21708057858708116}, {\"Lag\": 58, \"AutoCor\": -0.21031699719043548}, {\"Lag\": 59, \"AutoCor\": 0.19414000314343308}, {\"Lag\": 60, \"AutoCor\": -0.17116360728825508}, {\"Lag\": 61, \"AutoCor\": 0.14420178830812955}, {\"Lag\": 62, \"AutoCor\": -0.11580043619535849}, {\"Lag\": 63, \"AutoCor\": 0.08792760842986963}, {\"Lag\": 64, \"AutoCor\": -0.06185647811785036}, {\"Lag\": 65, \"AutoCor\": 0.03821235144754058}, {\"Lag\": 66, \"AutoCor\": -0.01712661176418119}, {\"Lag\": 67, \"AutoCor\": -0.0015755497543449362}, {\"Lag\": 68, \"AutoCor\": 0.018204145484694494}, {\"Lag\": 69, \"AutoCor\": -0.03308204490265201}, {\"Lag\": 70, \"AutoCor\": 0.0464701803103953}, {\"Lag\": 71, \"AutoCor\": -0.05853172007811867}, {\"Lag\": 72, \"AutoCor\": 0.06931424350941962}, {\"Lag\": 73, \"AutoCor\": -0.07874124931985944}, {\"Lag\": 74, \"AutoCor\": 0.08660342690142987}, {\"Lag\": 75, \"AutoCor\": -0.09255552570419417}, {\"Lag\": 76, \"AutoCor\": 0.09612011498454878}, {\"Lag\": 77, \"AutoCor\": -0.09670926082063871}, {\"Lag\": 78, \"AutoCor\": 0.09366511990796218}, {\"Lag\": 79, \"AutoCor\": -0.08632736348297379}, {\"Lag\": 80, \"AutoCor\": 0.07412367595218732}, {\"Lag\": 81, \"AutoCor\": -0.05668512185816693}, {\"Lag\": 82, \"AutoCor\": 0.03397297396870339}, {\"Lag\": 83, \"AutoCor\": -0.006404923819485525}, {\"Lag\": 84, \"AutoCor\": -0.025049723252360274}, {\"Lag\": 85, \"AutoCor\": 0.05883243450658248}, {\"Lag\": 86, \"AutoCor\": -0.09285082532161415}, {\"Lag\": 87, \"AutoCor\": 0.12464163799793984}, {\"Lag\": 88, \"AutoCor\": -0.15164498317115452}, {\"Lag\": 89, \"AutoCor\": 0.17155552135704527}, {\"Lag\": 90, \"AutoCor\": -0.1826991788736335}, {\"Lag\": 91, \"AutoCor\": 0.1843557609082693}, {\"Lag\": 92, \"AutoCor\": -0.1769581185851101}, {\"Lag\": 93, \"AutoCor\": 0.16210816508986653}, {\"Lag\": 94, \"AutoCor\": -0.14239765676580443}, {\"Lag\": 95, \"AutoCor\": 0.12105385203857973}, {\"Lag\": 96, \"AutoCor\": -0.10147797171486976}, {\"Lag\": 97, \"AutoCor\": 0.08675373633991541}, {\"Lag\": 98, \"AutoCor\": -0.07921511851393591}, {\"Lag\": 99, \"AutoCor\": 0.08013490338129271}, {\"Lag\": 100, \"AutoCor\": -0.08958153484544647}, {\"Lag\": 101, \"AutoCor\": 0.10645229548311082}, {\"Lag\": 102, \"AutoCor\": -0.12867694112586367}, {\"Lag\": 103, \"AutoCor\": 0.1535514413413012}, {\"Lag\": 104, \"AutoCor\": -0.1781537625316261}, {\"Lag\": 105, \"AutoCor\": 0.19976631363077135}, {\"Lag\": 106, \"AutoCor\": -0.21623586919066137}, {\"Lag\": 107, \"AutoCor\": 0.2261985929574339}, {\"Lag\": 108, \"AutoCor\": -0.2291378429766201}, {\"Lag\": 109, \"AutoCor\": 0.22527222705692992}, {\"Lag\": 110, \"AutoCor\": -0.21532959944380198}, {\"Lag\": 111, \"AutoCor\": 0.20028225442006692}, {\"Lag\": 112, \"AutoCor\": -0.18113690354342346}, {\"Lag\": 113, \"AutoCor\": 0.15883396038030884}, {\"Lag\": 114, \"AutoCor\": -0.13427505896472583}, {\"Lag\": 115, \"AutoCor\": 0.10843173035469302}, {\"Lag\": 116, \"AutoCor\": -0.08246631205928803}, {\"Lag\": 117, \"AutoCor\": 0.057779100359861744}, {\"Lag\": 118, \"AutoCor\": -0.035938705136598796}, {\"Lag\": 119, \"AutoCor\": 0.018488364941851427}, {\"Lag\": 120, \"AutoCor\": -0.006684592589877648}, {\"Lag\": 121, \"AutoCor\": 0.001241253556842132}, {\"Lag\": 122, \"AutoCor\": -0.0021677594250796477}, {\"Lag\": 123, \"AutoCor\": 0.008749256084341659}, {\"Lag\": 124, \"AutoCor\": -0.0196876029874182}, {\"Lag\": 125, \"AutoCor\": 0.03336229911641919}, {\"Lag\": 126, \"AutoCor\": -0.048152018536157394}, {\"Lag\": 127, \"AutoCor\": 0.06272970352903767}, {\"Lag\": 128, \"AutoCor\": -0.07626764099528997}, {\"Lag\": 129, \"AutoCor\": 0.08849988453054107}, {\"Lag\": 130, \"AutoCor\": -0.09963993637684862}, {\"Lag\": 131, \"AutoCor\": 0.11017238252255852}, {\"Lag\": 132, \"AutoCor\": -0.1205810171070373}, {\"Lag\": 133, \"AutoCor\": 0.13107579171254327}, {\"Lag\": 134, \"AutoCor\": -0.14139592561580583}, {\"Lag\": 135, \"AutoCor\": 0.15073487142520392}, {\"Lag\": 136, \"AutoCor\": -0.157820583355932}, {\"Lag\": 137, \"AutoCor\": 0.16113376018109107}, {\"Lag\": 138, \"AutoCor\": -0.1592282658023408}, {\"Lag\": 139, \"AutoCor\": 0.1510754065887142}, {\"Lag\": 140, \"AutoCor\": -0.13635910077806904}, {\"Lag\": 141, \"AutoCor\": 0.11564114274076215}, {\"Lag\": 142, \"AutoCor\": -0.09035948225161072}, {\"Lag\": 143, \"AutoCor\": 0.06264500308728269}, {\"Lag\": 144, \"AutoCor\": -0.03500022129915486}, {\"Lag\": 145, \"AutoCor\": 0.009899133951553618}, {\"Lag\": 146, \"AutoCor\": 0.01059883138977566}, {\"Lag\": 147, \"AutoCor\": -0.025147855220692114}, {\"Lag\": 148, \"AutoCor\": 0.03325969442515629}, {\"Lag\": 149, \"AutoCor\": -0.03527911195307321}, {\"Lag\": 150, \"AutoCor\": 0.03220388789597573}, {\"Lag\": 151, \"AutoCor\": -0.025419311341365294}, {\"Lag\": 152, \"AutoCor\": 0.016420749969280127}, {\"Lag\": 153, \"AutoCor\": -0.006610691309636316}, {\"Lag\": 154, \"AutoCor\": -0.0027929226658297696}, {\"Lag\": 155, \"AutoCor\": 0.010729860984905984}, {\"Lag\": 156, \"AutoCor\": -0.016209545107273942}, {\"Lag\": 157, \"AutoCor\": 0.018227515675542528}, {\"Lag\": 158, \"AutoCor\": -0.01576699098042533}, {\"Lag\": 159, \"AutoCor\": 0.007913904446157199}, {\"Lag\": 160, \"AutoCor\": 0.005918948866420592}, {\"Lag\": 161, \"AutoCor\": -0.025731963554097063}, {\"Lag\": 162, \"AutoCor\": 0.05072686238486271}, {\"Lag\": 163, \"AutoCor\": -0.0792427321449989}, {\"Lag\": 164, \"AutoCor\": 0.10888443291064834}, {\"Lag\": 165, \"AutoCor\": -0.13684966763672607}, {\"Lag\": 166, \"AutoCor\": 0.16038213026743808}, {\"Lag\": 167, \"AutoCor\": -0.1772562287636074}, {\"Lag\": 168, \"AutoCor\": 0.18616896125693486}, {\"Lag\": 169, \"AutoCor\": -0.18695738830003686}, {\"Lag\": 170, \"AutoCor\": 0.1805877044391466}, {\"Lag\": 171, \"AutoCor\": -0.16893783728059972}, {\"Lag\": 172, \"AutoCor\": 0.15442290417247376}, {\"Lag\": 173, \"AutoCor\": -0.1395602854103858}, {\"Lag\": 174, \"AutoCor\": 0.12655336149172594}, {\"Lag\": 175, \"AutoCor\": -0.11697538214354257}, {\"Lag\": 176, \"AutoCor\": 0.111584411461662}, {\"Lag\": 177, \"AutoCor\": -0.11028958142262046}, {\"Lag\": 178, \"AutoCor\": 0.1122430677387151}, {\"Lag\": 179, \"AutoCor\": -0.11603846460902031}, {\"Lag\": 180, \"AutoCor\": 0.11996981295117913}, {\"Lag\": 181, \"AutoCor\": -0.12232684054317142}, {\"Lag\": 182, \"AutoCor\": 0.1216814557819503}, {\"Lag\": 183, \"AutoCor\": -0.11714096377993789}, {\"Lag\": 184, \"AutoCor\": 0.10852017682511536}, {\"Lag\": 185, \"AutoCor\": -0.0964084845787501}, {\"Lag\": 186, \"AutoCor\": 0.0820974623655142}, {\"Lag\": 187, \"AutoCor\": -0.06737903363924033}, {\"Lag\": 188, \"AutoCor\": 0.054232001539643034}, {\"Lag\": 189, \"AutoCor\": -0.04446519564523935}, {\"Lag\": 190, \"AutoCor\": 0.039379503064891935}, {\"Lag\": 191, \"AutoCor\": -0.03953107953722449}, {\"Lag\": 192, \"AutoCor\": 0.04463420143876922}, {\"Lag\": 193, \"AutoCor\": -0.053630964373235814}, {\"Lag\": 194, \"AutoCor\": 0.06489561928409615}, {\"Lag\": 195, \"AutoCor\": -0.07653474689111621}, {\"Lag\": 196, \"AutoCor\": 0.08670604573192932}, {\"Lag\": 197, \"AutoCor\": -0.09390294736268588}, {\"Lag\": 198, \"AutoCor\": 0.09714519734024724}, {\"Lag\": 199, \"AutoCor\": -0.09606457327152042}, {\"Lag\": 200, \"AutoCor\": 0.09087899855820954}, {\"Lag\": 201, \"AutoCor\": -0.08229378614990138}, {\"Lag\": 202, \"AutoCor\": 0.07135545281078648}, {\"Lag\": 203, \"AutoCor\": -0.05930453718495061}, {\"Lag\": 204, \"AutoCor\": 0.047436408745990075}, {\"Lag\": 205, \"AutoCor\": -0.036985795856237104}, {\"Lag\": 206, \"AutoCor\": 0.029013668343854382}, {\"Lag\": 207, \"AutoCor\": -0.02429758563974646}, {\"Lag\": 208, \"AutoCor\": 0.023212646547138123}, {\"Lag\": 209, \"AutoCor\": -0.025632464213156812}, {\"Lag\": 210, \"AutoCor\": 0.030870173849358966}, {\"Lag\": 211, \"AutoCor\": -0.03770758664714853}, {\"Lag\": 212, \"AutoCor\": 0.044522420120755746}, {\"Lag\": 213, \"AutoCor\": -0.04952190616906438}, {\"Lag\": 214, \"AutoCor\": 0.051035231595840905}, {\"Lag\": 215, \"AutoCor\": -0.04781942489377592}, {\"Lag\": 216, \"AutoCor\": 0.03930077053193982}, {\"Lag\": 217, \"AutoCor\": -0.025710499145992553}, {\"Lag\": 218, \"AutoCor\": 0.008072930416611291}, {\"Lag\": 219, \"AutoCor\": 0.011939258737592072}, {\"Lag\": 220, \"AutoCor\": -0.03226626370557507}, {\"Lag\": 221, \"AutoCor\": 0.05077808129808571}, {\"Lag\": 222, \"AutoCor\": -0.065605331051565}, {\"Lag\": 223, \"AutoCor\": 0.07541861225208972}, {\"Lag\": 224, \"AutoCor\": -0.07962697490072693}, {\"Lag\": 225, \"AutoCor\": 0.078453301010258}, {\"Lag\": 226, \"AutoCor\": -0.07288743471020308}, {\"Lag\": 227, \"AutoCor\": 0.06450961134490961}, {\"Lag\": 228, \"AutoCor\": -0.05522286268687221}, {\"Lag\": 229, \"AutoCor\": 0.046923490298914024}, {\"Lag\": 230, \"AutoCor\": -0.04117736708707471}, {\"Lag\": 231, \"AutoCor\": 0.038944645322366286}, {\"Lag\": 232, \"AutoCor\": -0.04041365805410633}, {\"Lag\": 233, \"AutoCor\": 0.044958619333510516}, {\"Lag\": 234, \"AutoCor\": -0.0512394442934207}, {\"Lag\": 235, \"AutoCor\": 0.057411049696206536}, {\"Lag\": 236, \"AutoCor\": -0.06141951138083463}, {\"Lag\": 237, \"AutoCor\": 0.06132458565712776}, {\"Lag\": 238, \"AutoCor\": -0.05561384703007998}, {\"Lag\": 239, \"AutoCor\": 0.04344918397580573}, {\"Lag\": 240, \"AutoCor\": -0.024823042043388286}, {\"Lag\": 241, \"AutoCor\": 0.0005863310869069161}, {\"Lag\": 242, \"AutoCor\": 0.027643746090924404}, {\"Lag\": 243, \"AutoCor\": -0.05769494995701798}, {\"Lag\": 244, \"AutoCor\": 0.08711969975181381}, {\"Lag\": 245, \"AutoCor\": -0.11350727661953273}, {\"Lag\": 246, \"AutoCor\": 0.1347615544230609}, {\"Lag\": 247, \"AutoCor\": -0.14931803703071794}, {\"Lag\": 248, \"AutoCor\": 0.15626603243963777}, {\"Lag\": 249, \"AutoCor\": -0.15539406116690685}, {\"Lag\": 250, \"AutoCor\": 0.1471630023170214}, {\"Lag\": 251, \"AutoCor\": -0.13264494265506335}, {\"Lag\": 252, \"AutoCor\": 0.1134284060414781}, {\"Lag\": 253, \"AutoCor\": -0.091507320469613}, {\"Lag\": 254, \"AutoCor\": 0.06913030318084387}, {\"Lag\": 255, \"AutoCor\": -0.048615046164192384}, {\"Lag\": 256, \"AutoCor\": 0.032111661148111585}, {\"Lag\": 257, \"AutoCor\": -0.021346790516505374}, {\"Lag\": 258, \"AutoCor\": 0.017368986713833277}, {\"Lag\": 259, \"AutoCor\": -0.020359140589851266}, {\"Lag\": 260, \"AutoCor\": 0.029539229125868996}, {\"Lag\": 261, \"AutoCor\": -0.043229265201077366}, {\"Lag\": 262, \"AutoCor\": 0.05904575838383379}, {\"Lag\": 263, \"AutoCor\": -0.07423554456094957}, {\"Lag\": 264, \"AutoCor\": 0.08608013944197765}, {\"Lag\": 265, \"AutoCor\": -0.09231914562386757}, {\"Lag\": 266, \"AutoCor\": 0.09150524945540077}, {\"Lag\": 267, \"AutoCor\": -0.08324397321356669}, {\"Lag\": 268, \"AutoCor\": 0.0682600019564198}, {\"Lag\": 269, \"AutoCor\": -0.04829110479065014}, {\"Lag\": 270, \"AutoCor\": 0.025808727483948277}, {\"Lag\": 271, \"AutoCor\": -0.00362435612003799}, {\"Lag\": 272, \"AutoCor\": -0.015569512546955674}, {\"Lag\": 273, \"AutoCor\": 0.029630864059463694}, {\"Lag\": 274, \"AutoCor\": -0.03731284344506895}, {\"Lag\": 275, \"AutoCor\": 0.038445474836948684}, {\"Lag\": 276, \"AutoCor\": -0.03393908052591926}, {\"Lag\": 277, \"AutoCor\": 0.02559680133174273}, {\"Lag\": 278, \"AutoCor\": -0.01579140731974496}, {\"Lag\": 279, \"AutoCor\": 0.007054742642274775}, {\"Lag\": 280, \"AutoCor\": -0.0016724400104611572}, {\"Lag\": 281, \"AutoCor\": 0.0013375772200725727}, {\"Lag\": 282, \"AutoCor\": -0.00693023285508809}, {\"Lag\": 283, \"AutoCor\": 0.018428492822692027}, {\"Lag\": 284, \"AutoCor\": -0.03496222883722321}, {\"Lag\": 285, \"AutoCor\": 0.054966791502853156}, {\"Lag\": 286, \"AutoCor\": -0.07641831775786705}, {\"Lag\": 287, \"AutoCor\": 0.09709966460885214}, {\"Lag\": 288, \"AutoCor\": -0.11488673047630896}, {\"Lag\": 289, \"AutoCor\": 0.12801604484410875}, {\"Lag\": 290, \"AutoCor\": -0.13532795513040646}, {\"Lag\": 291, \"AutoCor\": 0.13643909743435426}, {\"Lag\": 292, \"AutoCor\": -0.1318272349296366}, {\"Lag\": 293, \"AutoCor\": 0.12278137464789544}, {\"Lag\": 294, \"AutoCor\": -0.11122369054859547}, {\"Lag\": 295, \"AutoCor\": 0.09940502445945436}, {\"Lag\": 296, \"AutoCor\": -0.0895418605075829}, {\"Lag\": 297, \"AutoCor\": 0.08344723463954506}, {\"Lag\": 298, \"AutoCor\": -0.08224355529775297}, {\"Lag\": 299, \"AutoCor\": 0.08619100289528578}, {\"Lag\": 300, \"AutoCor\": -0.09467029611820804}, {\"Lag\": 301, \"AutoCor\": 0.10629219239494425}, {\"Lag\": 302, \"AutoCor\": -0.11911965296820771}, {\"Lag\": 303, \"AutoCor\": 0.13094311296858188}, {\"Lag\": 304, \"AutoCor\": -0.1395864731652571}, {\"Lag\": 305, \"AutoCor\": 0.1431921761299618}, {\"Lag\": 306, \"AutoCor\": -0.1404767091248589}, {\"Lag\": 307, \"AutoCor\": 0.1309148341557554}, {\"Lag\": 308, \"AutoCor\": -0.11484747421304443}, {\"Lag\": 309, \"AutoCor\": 0.0934725698450156}, {\"Lag\": 310, \"AutoCor\": -0.06872192341696014}, {\"Lag\": 311, \"AutoCor\": 0.04300677646525743}, {\"Lag\": 312, \"AutoCor\": -0.01887667368169015}, {\"Lag\": 313, \"AutoCor\": -0.001374228995386292}, {\"Lag\": 314, \"AutoCor\": 0.016063440433042014}, {\"Lag\": 315, \"AutoCor\": -0.024384362328910374}, {\"Lag\": 316, \"AutoCor\": 0.02650449129506018}, {\"Lag\": 317, \"AutoCor\": -0.023495221021849713}, {\"Lag\": 318, \"AutoCor\": 0.017093425565123097}, {\"Lag\": 319, \"AutoCor\": -0.009367295520098955}, {\"Lag\": 320, \"AutoCor\": 0.002340519417693845}, {\"Lag\": 321, \"AutoCor\": 0.00233257309707805}, {\"Lag\": 322, \"AutoCor\": -0.003602982861871841}, {\"Lag\": 323, \"AutoCor\": 0.0011252045543169984}, {\"Lag\": 324, \"AutoCor\": 0.004763485279255811}, {\"Lag\": 325, \"AutoCor\": -0.013178239245346692}, {\"Lag\": 326, \"AutoCor\": 0.02287979720922217}, {\"Lag\": 327, \"AutoCor\": -0.03250507943000799}, {\"Lag\": 328, \"AutoCor\": 0.04078073055731386}, {\"Lag\": 329, \"AutoCor\": -0.04671166791841306}, {\"Lag\": 330, \"AutoCor\": 0.0497044417368673}, {\"Lag\": 331, \"AutoCor\": -0.04963035528097208}, {\"Lag\": 332, \"AutoCor\": 0.046801350512706764}, {\"Lag\": 333, \"AutoCor\": -0.04188214238277218}, {\"Lag\": 334, \"AutoCor\": 0.03573660317635382}, {\"Lag\": 335, \"AutoCor\": -0.02925931559604399}, {\"Lag\": 336, \"AutoCor\": 0.02321044327145995}, {\"Lag\": 337, \"AutoCor\": -0.01810895929685666}, {\"Lag\": 338, \"AutoCor\": 0.0141858006029377}, {\"Lag\": 339, \"AutoCor\": -0.011418515792528857}, {\"Lag\": 340, \"AutoCor\": 0.009608274224447275}, {\"Lag\": 341, \"AutoCor\": -0.008486979267300524}, {\"Lag\": 342, \"AutoCor\": 0.007800048292964424}, {\"Lag\": 343, \"AutoCor\": -0.007361722273454947}, {\"Lag\": 344, \"AutoCor\": 0.007057135828808895}, {\"Lag\": 345, \"AutoCor\": -0.006823751258596713}, {\"Lag\": 346, \"AutoCor\": 0.006613134859110645}, {\"Lag\": 347, \"AutoCor\": -0.00637340829779132}, {\"Lag\": 348, \"AutoCor\": 0.006041166211967099}, {\"Lag\": 349, \"AutoCor\": -0.0055605880654197234}, {\"Lag\": 350, \"AutoCor\": 0.004897838518391472}, {\"Lag\": 351, \"AutoCor\": -0.004059713318710882}, {\"Lag\": 352, \"AutoCor\": 0.003089170679942991}, {\"Lag\": 353, \"AutoCor\": -0.0020595962054915508}, {\"Lag\": 354, \"AutoCor\": 0.0010527124473033642}, {\"Lag\": 355, \"AutoCor\": -0.0001478497076471171}, {\"Lag\": 356, \"AutoCor\": -0.0005945518372840158}, {\"Lag\": 357, \"AutoCor\": 0.0011334496921278838}, {\"Lag\": 358, \"AutoCor\": -0.0014544385944306234}, {\"Lag\": 359, \"AutoCor\": 0.0015639470621365878}, {\"Lag\": 360, \"AutoCor\": -0.001492288745972731}, {\"Lag\": 361, \"AutoCor\": 0.0012838508355675347}, {\"Lag\": 362, \"AutoCor\": -0.0009956963846612155}, {\"Lag\": 363, \"AutoCor\": 0.0006836022097554662}, {\"Lag\": 364, \"AutoCor\": -0.000398608050500228}, {\"Lag\": 365, \"AutoCor\": 0.00017431059835010452}, {\"Lag\": 366, \"AutoCor\": -2.8306992758403414e-05}, {\"Lag\": 367, \"AutoCor\": -4.315874260813098e-05}, {\"Lag\": 368, \"AutoCor\": 5.578903776938093e-05}, {\"Lag\": 369, \"AutoCor\": -3.6315370637708805e-05}, {\"Lag\": 370, \"AutoCor\": 9.964617268266503e-06}]}}, {\"mode\": \"vega-lite\"});\n",
       "</script>"
      ],
      "text/plain": [
       "alt.Chart(...)"
      ]
     },
     "execution_count": 31,
     "metadata": {},
     "output_type": "execute_result"
    }
   ],
   "source": [
    "#Auto Correlation Plot\n",
    "make_autocorr(dif_52, nlags = 500)"
   ]
  },
  {
   "cell_type": "code",
   "execution_count": 32,
   "id": "artistic-great",
   "metadata": {},
   "outputs": [
    {
     "name": "stdout",
     "output_type": "stream",
     "text": [
      "Results of Dickey-Fuller Test:\n",
      "Test Statistic                 -47.495134\n",
      "p-value                          0.000000\n",
      "#Lags Used                      16.000000\n",
      "Number of Observations Used    354.000000\n",
      "Critical Value (1%)             -3.448958\n",
      "Critical Value (5%)             -2.869739\n",
      "Critical Value (10%)            -2.571138\n",
      "dtype: float64\n"
     ]
    }
   ],
   "source": [
    "#Dickey-Fuller Test\n",
    "\n",
    "adf_test(dif_52)"
   ]
  },
  {
   "cell_type": "markdown",
   "id": "ready-preview",
   "metadata": {},
   "source": [
    "Dickey-Fuller Test\n",
    "#### Caution: tends to reject more often than not, creating a Type 1 error. Incorrectly rejecting H0.\n",
    "\n",
    "H0: The series has a unit root.\n",
    "\n",
    "Ha: The series has no unit root\n",
    "\n",
    "Results: Reject H0 -- Series has no unit root"
   ]
  },
  {
   "cell_type": "code",
   "execution_count": 33,
   "id": "focal-vanilla",
   "metadata": {},
   "outputs": [
    {
     "name": "stdout",
     "output_type": "stream",
     "text": [
      "Results of KPSS Test:\n",
      "Test Statistic            0.029406\n",
      "p-value                   0.100000\n",
      "Lags Used                21.000000\n",
      "Critical Value (10%)      0.347000\n",
      "Critical Value (5%)       0.463000\n",
      "Critical Value (2.5%)     0.574000\n",
      "Critical Value (1%)       0.739000\n",
      "dtype: float64\n"
     ]
    },
    {
     "name": "stderr",
     "output_type": "stream",
     "text": [
      "C:\\Users\\seans\\Anaconda3\\envs\\qtw\\lib\\site-packages\\statsmodels\\tsa\\stattools.py:1911: InterpolationWarning: The test statistic is outside of the range of p-values available in the\n",
      "look-up table. The actual p-value is greater than the p-value returned.\n",
      "\n",
      "  warn_msg.format(direction=\"greater\"), InterpolationWarning\n"
     ]
    }
   ],
   "source": [
    "#KPSS Test\n",
    "kpss_test(dif_52)"
   ]
  },
  {
   "cell_type": "markdown",
   "id": "viral-choice",
   "metadata": {},
   "source": [
    "\n",
    "KPSS test\n",
    "\n",
    "H0: The process is trend stationary.\n",
    "Ha: The series has a unit root (series is not stationary).\n",
    "\n",
    "Results:  Fail to reject H0 (p > 0.05) -- Trend is stationary"
   ]
  },
  {
   "cell_type": "code",
   "execution_count": 34,
   "id": "eastern-montgomery",
   "metadata": {},
   "outputs": [
    {
     "name": "stderr",
     "output_type": "stream",
     "text": [
      "C:\\Users\\seans\\Anaconda3\\envs\\qtw\\lib\\site-packages\\statsmodels\\tsa\\arima_model.py:472: FutureWarning: \n",
      "statsmodels.tsa.arima_model.ARMA and statsmodels.tsa.arima_model.ARIMA have\n",
      "been deprecated in favor of statsmodels.tsa.arima.model.ARIMA (note the .\n",
      "between arima and model) and\n",
      "statsmodels.tsa.SARIMAX. These will be removed after the 0.12 release.\n",
      "\n",
      "statsmodels.tsa.arima.model.ARIMA makes use of the statespace framework and\n",
      "is both well tested and maintained.\n",
      "\n",
      "To silence this warning and continue using ARMA and ARIMA until they are\n",
      "removed, use:\n",
      "\n",
      "import warnings\n",
      "warnings.filterwarnings('ignore', 'statsmodels.tsa.arima_model.ARMA',\n",
      "                        FutureWarning)\n",
      "warnings.filterwarnings('ignore', 'statsmodels.tsa.arima_model.ARIMA',\n",
      "                        FutureWarning)\n",
      "\n",
      "  warnings.warn(ARIMA_DEPRECATION_WARN, FutureWarning)\n",
      "C:\\Users\\seans\\Anaconda3\\envs\\qtw\\lib\\site-packages\\statsmodels\\regression\\linear_model.py:1434: RuntimeWarning: invalid value encountered in sqrt\n",
      "  return rho, np.sqrt(sigmasq)\n",
      "C:\\Users\\seans\\Anaconda3\\envs\\qtw\\lib\\site-packages\\statsmodels\\base\\model.py:568: ConvergenceWarning: Maximum Likelihood optimization failed to converge. Check mle_retvals\n",
      "  ConvergenceWarning)\n",
      "C:\\Users\\seans\\Anaconda3\\envs\\qtw\\lib\\site-packages\\statsmodels\\base\\model.py:548: HessianInversionWarning: Inverting hessian failed, no bse or cov_params available\n",
      "  'available', HessianInversionWarning)\n",
      "C:\\Users\\seans\\Anaconda3\\envs\\qtw\\lib\\site-packages\\statsmodels\\base\\model.py:568: ConvergenceWarning: Maximum Likelihood optimization failed to converge. Check mle_retvals\n",
      "  ConvergenceWarning)\n",
      "C:\\Users\\seans\\Anaconda3\\envs\\qtw\\lib\\site-packages\\statsmodels\\base\\model.py:568: ConvergenceWarning: Maximum Likelihood optimization failed to converge. Check mle_retvals\n",
      "  ConvergenceWarning)\n",
      "C:\\Users\\seans\\Anaconda3\\envs\\qtw\\lib\\site-packages\\statsmodels\\tsa\\arima_model.py:472: FutureWarning: \n",
      "statsmodels.tsa.arima_model.ARMA and statsmodels.tsa.arima_model.ARIMA have\n",
      "been deprecated in favor of statsmodels.tsa.arima.model.ARIMA (note the .\n",
      "between arima and model) and\n",
      "statsmodels.tsa.SARIMAX. These will be removed after the 0.12 release.\n",
      "\n",
      "statsmodels.tsa.arima.model.ARIMA makes use of the statespace framework and\n",
      "is both well tested and maintained.\n",
      "\n",
      "To silence this warning and continue using ARMA and ARIMA until they are\n",
      "removed, use:\n",
      "\n",
      "import warnings\n",
      "warnings.filterwarnings('ignore', 'statsmodels.tsa.arima_model.ARMA',\n",
      "                        FutureWarning)\n",
      "warnings.filterwarnings('ignore', 'statsmodels.tsa.arima_model.ARIMA',\n",
      "                        FutureWarning)\n",
      "\n",
      "  warnings.warn(ARIMA_DEPRECATION_WARN, FutureWarning)\n",
      "C:\\Users\\seans\\Anaconda3\\envs\\qtw\\lib\\site-packages\\statsmodels\\tsa\\arima_model.py:472: FutureWarning: \n",
      "statsmodels.tsa.arima_model.ARMA and statsmodels.tsa.arima_model.ARIMA have\n",
      "been deprecated in favor of statsmodels.tsa.arima.model.ARIMA (note the .\n",
      "between arima and model) and\n",
      "statsmodels.tsa.SARIMAX. These will be removed after the 0.12 release.\n",
      "\n",
      "statsmodels.tsa.arima.model.ARIMA makes use of the statespace framework and\n",
      "is both well tested and maintained.\n",
      "\n",
      "To silence this warning and continue using ARMA and ARIMA until they are\n",
      "removed, use:\n",
      "\n",
      "import warnings\n",
      "warnings.filterwarnings('ignore', 'statsmodels.tsa.arima_model.ARMA',\n",
      "                        FutureWarning)\n",
      "warnings.filterwarnings('ignore', 'statsmodels.tsa.arima_model.ARIMA',\n",
      "                        FutureWarning)\n",
      "\n",
      "  warnings.warn(ARIMA_DEPRECATION_WARN, FutureWarning)\n",
      "C:\\Users\\seans\\Anaconda3\\envs\\qtw\\lib\\site-packages\\statsmodels\\tsa\\arima_model.py:472: FutureWarning: \n",
      "statsmodels.tsa.arima_model.ARMA and statsmodels.tsa.arima_model.ARIMA have\n",
      "been deprecated in favor of statsmodels.tsa.arima.model.ARIMA (note the .\n",
      "between arima and model) and\n",
      "statsmodels.tsa.SARIMAX. These will be removed after the 0.12 release.\n",
      "\n",
      "statsmodels.tsa.arima.model.ARIMA makes use of the statespace framework and\n",
      "is both well tested and maintained.\n",
      "\n",
      "To silence this warning and continue using ARMA and ARIMA until they are\n",
      "removed, use:\n",
      "\n",
      "import warnings\n",
      "warnings.filterwarnings('ignore', 'statsmodels.tsa.arima_model.ARMA',\n",
      "                        FutureWarning)\n",
      "warnings.filterwarnings('ignore', 'statsmodels.tsa.arima_model.ARIMA',\n",
      "                        FutureWarning)\n",
      "\n",
      "  warnings.warn(ARIMA_DEPRECATION_WARN, FutureWarning)\n",
      "C:\\Users\\seans\\Anaconda3\\envs\\qtw\\lib\\site-packages\\statsmodels\\base\\model.py:548: HessianInversionWarning: Inverting hessian failed, no bse or cov_params available\n",
      "  'available', HessianInversionWarning)\n",
      "C:\\Users\\seans\\Anaconda3\\envs\\qtw\\lib\\site-packages\\statsmodels\\base\\model.py:568: ConvergenceWarning: Maximum Likelihood optimization failed to converge. Check mle_retvals\n",
      "  ConvergenceWarning)\n",
      "C:\\Users\\seans\\Anaconda3\\envs\\qtw\\lib\\site-packages\\statsmodels\\tsa\\arima_model.py:472: FutureWarning: \n",
      "statsmodels.tsa.arima_model.ARMA and statsmodels.tsa.arima_model.ARIMA have\n",
      "been deprecated in favor of statsmodels.tsa.arima.model.ARIMA (note the .\n",
      "between arima and model) and\n",
      "statsmodels.tsa.SARIMAX. These will be removed after the 0.12 release.\n",
      "\n",
      "statsmodels.tsa.arima.model.ARIMA makes use of the statespace framework and\n",
      "is both well tested and maintained.\n",
      "\n",
      "To silence this warning and continue using ARMA and ARIMA until they are\n",
      "removed, use:\n",
      "\n",
      "import warnings\n",
      "warnings.filterwarnings('ignore', 'statsmodels.tsa.arima_model.ARMA',\n",
      "                        FutureWarning)\n",
      "warnings.filterwarnings('ignore', 'statsmodels.tsa.arima_model.ARIMA',\n",
      "                        FutureWarning)\n",
      "\n",
      "  warnings.warn(ARIMA_DEPRECATION_WARN, FutureWarning)\n",
      "C:\\Users\\seans\\Anaconda3\\envs\\qtw\\lib\\site-packages\\statsmodels\\base\\model.py:548: HessianInversionWarning: Inverting hessian failed, no bse or cov_params available\n",
      "  'available', HessianInversionWarning)\n",
      "C:\\Users\\seans\\Anaconda3\\envs\\qtw\\lib\\site-packages\\statsmodels\\base\\model.py:568: ConvergenceWarning: Maximum Likelihood optimization failed to converge. Check mle_retvals\n",
      "  ConvergenceWarning)\n",
      "C:\\Users\\seans\\Anaconda3\\envs\\qtw\\lib\\site-packages\\statsmodels\\tsa\\arima_model.py:472: FutureWarning: \n",
      "statsmodels.tsa.arima_model.ARMA and statsmodels.tsa.arima_model.ARIMA have\n",
      "been deprecated in favor of statsmodels.tsa.arima.model.ARIMA (note the .\n",
      "between arima and model) and\n",
      "statsmodels.tsa.SARIMAX. These will be removed after the 0.12 release.\n",
      "\n",
      "statsmodels.tsa.arima.model.ARIMA makes use of the statespace framework and\n",
      "is both well tested and maintained.\n",
      "\n",
      "To silence this warning and continue using ARMA and ARIMA until they are\n",
      "removed, use:\n",
      "\n",
      "import warnings\n",
      "warnings.filterwarnings('ignore', 'statsmodels.tsa.arima_model.ARMA',\n",
      "                        FutureWarning)\n",
      "warnings.filterwarnings('ignore', 'statsmodels.tsa.arima_model.ARIMA',\n",
      "                        FutureWarning)\n",
      "\n",
      "  warnings.warn(ARIMA_DEPRECATION_WARN, FutureWarning)\n",
      "C:\\Users\\seans\\Anaconda3\\envs\\qtw\\lib\\site-packages\\statsmodels\\base\\model.py:548: HessianInversionWarning: Inverting hessian failed, no bse or cov_params available\n",
      "  'available', HessianInversionWarning)\n",
      "C:\\Users\\seans\\Anaconda3\\envs\\qtw\\lib\\site-packages\\statsmodels\\base\\model.py:568: ConvergenceWarning: Maximum Likelihood optimization failed to converge. Check mle_retvals\n",
      "  ConvergenceWarning)\n",
      "C:\\Users\\seans\\Anaconda3\\envs\\qtw\\lib\\site-packages\\statsmodels\\tsa\\arima_model.py:472: FutureWarning: \n",
      "statsmodels.tsa.arima_model.ARMA and statsmodels.tsa.arima_model.ARIMA have\n",
      "been deprecated in favor of statsmodels.tsa.arima.model.ARIMA (note the .\n",
      "between arima and model) and\n",
      "statsmodels.tsa.SARIMAX. These will be removed after the 0.12 release.\n",
      "\n",
      "statsmodels.tsa.arima.model.ARIMA makes use of the statespace framework and\n",
      "is both well tested and maintained.\n",
      "\n",
      "To silence this warning and continue using ARMA and ARIMA until they are\n",
      "removed, use:\n",
      "\n",
      "import warnings\n",
      "warnings.filterwarnings('ignore', 'statsmodels.tsa.arima_model.ARMA',\n",
      "                        FutureWarning)\n",
      "warnings.filterwarnings('ignore', 'statsmodels.tsa.arima_model.ARIMA',\n",
      "                        FutureWarning)\n",
      "\n",
      "  warnings.warn(ARIMA_DEPRECATION_WARN, FutureWarning)\n",
      "C:\\Users\\seans\\Anaconda3\\envs\\qtw\\lib\\site-packages\\statsmodels\\tsa\\tsatools.py:701: RuntimeWarning: overflow encountered in exp\n",
      "  newparams = ((1-np.exp(-params))/(1+np.exp(-params))).copy()\n",
      "C:\\Users\\seans\\Anaconda3\\envs\\qtw\\lib\\site-packages\\statsmodels\\tsa\\tsatools.py:701: RuntimeWarning: invalid value encountered in true_divide\n",
      "  newparams = ((1-np.exp(-params))/(1+np.exp(-params))).copy()\n",
      "C:\\Users\\seans\\Anaconda3\\envs\\qtw\\lib\\site-packages\\statsmodels\\tsa\\tsatools.py:702: RuntimeWarning: overflow encountered in exp\n",
      "  tmp = ((1-np.exp(-params))/(1+np.exp(-params))).copy()\n",
      "C:\\Users\\seans\\Anaconda3\\envs\\qtw\\lib\\site-packages\\statsmodels\\tsa\\tsatools.py:702: RuntimeWarning: invalid value encountered in true_divide\n",
      "  tmp = ((1-np.exp(-params))/(1+np.exp(-params))).copy()\n"
     ]
    },
    {
     "name": "stderr",
     "output_type": "stream",
     "text": [
      "C:\\Users\\seans\\Anaconda3\\envs\\qtw\\lib\\site-packages\\statsmodels\\base\\model.py:548: HessianInversionWarning: Inverting hessian failed, no bse or cov_params available\n",
      "  'available', HessianInversionWarning)\n",
      "C:\\Users\\seans\\Anaconda3\\envs\\qtw\\lib\\site-packages\\statsmodels\\base\\model.py:568: ConvergenceWarning: Maximum Likelihood optimization failed to converge. Check mle_retvals\n",
      "  ConvergenceWarning)\n",
      "C:\\Users\\seans\\Anaconda3\\envs\\qtw\\lib\\site-packages\\statsmodels\\regression\\linear_model.py:1434: RuntimeWarning: invalid value encountered in sqrt\n",
      "  return rho, np.sqrt(sigmasq)\n",
      "C:\\Users\\seans\\Anaconda3\\envs\\qtw\\lib\\site-packages\\statsmodels\\tsa\\arima_model.py:472: FutureWarning: \n",
      "statsmodels.tsa.arima_model.ARMA and statsmodels.tsa.arima_model.ARIMA have\n",
      "been deprecated in favor of statsmodels.tsa.arima.model.ARIMA (note the .\n",
      "between arima and model) and\n",
      "statsmodels.tsa.SARIMAX. These will be removed after the 0.12 release.\n",
      "\n",
      "statsmodels.tsa.arima.model.ARIMA makes use of the statespace framework and\n",
      "is both well tested and maintained.\n",
      "\n",
      "To silence this warning and continue using ARMA and ARIMA until they are\n",
      "removed, use:\n",
      "\n",
      "import warnings\n",
      "warnings.filterwarnings('ignore', 'statsmodels.tsa.arima_model.ARMA',\n",
      "                        FutureWarning)\n",
      "warnings.filterwarnings('ignore', 'statsmodels.tsa.arima_model.ARIMA',\n",
      "                        FutureWarning)\n",
      "\n",
      "  warnings.warn(ARIMA_DEPRECATION_WARN, FutureWarning)\n",
      "C:\\Users\\seans\\Anaconda3\\envs\\qtw\\lib\\site-packages\\statsmodels\\base\\model.py:548: HessianInversionWarning: Inverting hessian failed, no bse or cov_params available\n",
      "  'available', HessianInversionWarning)\n",
      "C:\\Users\\seans\\Anaconda3\\envs\\qtw\\lib\\site-packages\\statsmodels\\tsa\\arima_model.py:472: FutureWarning: \n",
      "statsmodels.tsa.arima_model.ARMA and statsmodels.tsa.arima_model.ARIMA have\n",
      "been deprecated in favor of statsmodels.tsa.arima.model.ARIMA (note the .\n",
      "between arima and model) and\n",
      "statsmodels.tsa.SARIMAX. These will be removed after the 0.12 release.\n",
      "\n",
      "statsmodels.tsa.arima.model.ARIMA makes use of the statespace framework and\n",
      "is both well tested and maintained.\n",
      "\n",
      "To silence this warning and continue using ARMA and ARIMA until they are\n",
      "removed, use:\n",
      "\n",
      "import warnings\n",
      "warnings.filterwarnings('ignore', 'statsmodels.tsa.arima_model.ARMA',\n",
      "                        FutureWarning)\n",
      "warnings.filterwarnings('ignore', 'statsmodels.tsa.arima_model.ARIMA',\n",
      "                        FutureWarning)\n",
      "\n",
      "  warnings.warn(ARIMA_DEPRECATION_WARN, FutureWarning)\n",
      "C:\\Users\\seans\\Anaconda3\\envs\\qtw\\lib\\site-packages\\statsmodels\\tsa\\tsatools.py:701: RuntimeWarning: overflow encountered in exp\n",
      "  newparams = ((1-np.exp(-params))/(1+np.exp(-params))).copy()\n",
      "C:\\Users\\seans\\Anaconda3\\envs\\qtw\\lib\\site-packages\\statsmodels\\tsa\\tsatools.py:701: RuntimeWarning: invalid value encountered in true_divide\n",
      "  newparams = ((1-np.exp(-params))/(1+np.exp(-params))).copy()\n",
      "C:\\Users\\seans\\Anaconda3\\envs\\qtw\\lib\\site-packages\\statsmodels\\tsa\\tsatools.py:702: RuntimeWarning: overflow encountered in exp\n",
      "  tmp = ((1-np.exp(-params))/(1+np.exp(-params))).copy()\n",
      "C:\\Users\\seans\\Anaconda3\\envs\\qtw\\lib\\site-packages\\statsmodels\\tsa\\tsatools.py:702: RuntimeWarning: invalid value encountered in true_divide\n",
      "  tmp = ((1-np.exp(-params))/(1+np.exp(-params))).copy()\n",
      "C:\\Users\\seans\\Anaconda3\\envs\\qtw\\lib\\site-packages\\statsmodels\\base\\model.py:548: HessianInversionWarning: Inverting hessian failed, no bse or cov_params available\n",
      "  'available', HessianInversionWarning)\n",
      "C:\\Users\\seans\\Anaconda3\\envs\\qtw\\lib\\site-packages\\statsmodels\\base\\model.py:568: ConvergenceWarning: Maximum Likelihood optimization failed to converge. Check mle_retvals\n",
      "  ConvergenceWarning)\n",
      "C:\\Users\\seans\\Anaconda3\\envs\\qtw\\lib\\site-packages\\statsmodels\\tsa\\arima_model.py:472: FutureWarning: \n",
      "statsmodels.tsa.arima_model.ARMA and statsmodels.tsa.arima_model.ARIMA have\n",
      "been deprecated in favor of statsmodels.tsa.arima.model.ARIMA (note the .\n",
      "between arima and model) and\n",
      "statsmodels.tsa.SARIMAX. These will be removed after the 0.12 release.\n",
      "\n",
      "statsmodels.tsa.arima.model.ARIMA makes use of the statespace framework and\n",
      "is both well tested and maintained.\n",
      "\n",
      "To silence this warning and continue using ARMA and ARIMA until they are\n",
      "removed, use:\n",
      "\n",
      "import warnings\n",
      "warnings.filterwarnings('ignore', 'statsmodels.tsa.arima_model.ARMA',\n",
      "                        FutureWarning)\n",
      "warnings.filterwarnings('ignore', 'statsmodels.tsa.arima_model.ARIMA',\n",
      "                        FutureWarning)\n",
      "\n",
      "  warnings.warn(ARIMA_DEPRECATION_WARN, FutureWarning)\n",
      "C:\\Users\\seans\\Anaconda3\\envs\\qtw\\lib\\site-packages\\statsmodels\\tsa\\tsatools.py:701: RuntimeWarning: overflow encountered in exp\n",
      "  newparams = ((1-np.exp(-params))/(1+np.exp(-params))).copy()\n",
      "C:\\Users\\seans\\Anaconda3\\envs\\qtw\\lib\\site-packages\\statsmodels\\tsa\\tsatools.py:701: RuntimeWarning: invalid value encountered in true_divide\n",
      "  newparams = ((1-np.exp(-params))/(1+np.exp(-params))).copy()\n",
      "C:\\Users\\seans\\Anaconda3\\envs\\qtw\\lib\\site-packages\\statsmodels\\tsa\\tsatools.py:702: RuntimeWarning: overflow encountered in exp\n",
      "  tmp = ((1-np.exp(-params))/(1+np.exp(-params))).copy()\n",
      "C:\\Users\\seans\\Anaconda3\\envs\\qtw\\lib\\site-packages\\statsmodels\\tsa\\tsatools.py:702: RuntimeWarning: invalid value encountered in true_divide\n",
      "  tmp = ((1-np.exp(-params))/(1+np.exp(-params))).copy()\n",
      "C:\\Users\\seans\\Anaconda3\\envs\\qtw\\lib\\site-packages\\statsmodels\\base\\model.py:548: HessianInversionWarning: Inverting hessian failed, no bse or cov_params available\n",
      "  'available', HessianInversionWarning)\n",
      "C:\\Users\\seans\\Anaconda3\\envs\\qtw\\lib\\site-packages\\statsmodels\\base\\model.py:568: ConvergenceWarning: Maximum Likelihood optimization failed to converge. Check mle_retvals\n",
      "  ConvergenceWarning)\n",
      "C:\\Users\\seans\\Anaconda3\\envs\\qtw\\lib\\site-packages\\statsmodels\\tsa\\arima_model.py:472: FutureWarning: \n",
      "statsmodels.tsa.arima_model.ARMA and statsmodels.tsa.arima_model.ARIMA have\n",
      "been deprecated in favor of statsmodels.tsa.arima.model.ARIMA (note the .\n",
      "between arima and model) and\n",
      "statsmodels.tsa.SARIMAX. These will be removed after the 0.12 release.\n",
      "\n",
      "statsmodels.tsa.arima.model.ARIMA makes use of the statespace framework and\n",
      "is both well tested and maintained.\n",
      "\n",
      "To silence this warning and continue using ARMA and ARIMA until they are\n",
      "removed, use:\n",
      "\n",
      "import warnings\n",
      "warnings.filterwarnings('ignore', 'statsmodels.tsa.arima_model.ARMA',\n",
      "                        FutureWarning)\n",
      "warnings.filterwarnings('ignore', 'statsmodels.tsa.arima_model.ARIMA',\n",
      "                        FutureWarning)\n",
      "\n",
      "  warnings.warn(ARIMA_DEPRECATION_WARN, FutureWarning)\n",
      "C:\\Users\\seans\\Anaconda3\\envs\\qtw\\lib\\site-packages\\statsmodels\\tsa\\tsatools.py:701: RuntimeWarning: overflow encountered in exp\n",
      "  newparams = ((1-np.exp(-params))/(1+np.exp(-params))).copy()\n",
      "C:\\Users\\seans\\Anaconda3\\envs\\qtw\\lib\\site-packages\\statsmodels\\tsa\\tsatools.py:701: RuntimeWarning: invalid value encountered in true_divide\n",
      "  newparams = ((1-np.exp(-params))/(1+np.exp(-params))).copy()\n",
      "C:\\Users\\seans\\Anaconda3\\envs\\qtw\\lib\\site-packages\\statsmodels\\tsa\\tsatools.py:702: RuntimeWarning: overflow encountered in exp\n",
      "  tmp = ((1-np.exp(-params))/(1+np.exp(-params))).copy()\n",
      "C:\\Users\\seans\\Anaconda3\\envs\\qtw\\lib\\site-packages\\statsmodels\\tsa\\tsatools.py:702: RuntimeWarning: invalid value encountered in true_divide\n",
      "  tmp = ((1-np.exp(-params))/(1+np.exp(-params))).copy()\n",
      "C:\\Users\\seans\\Anaconda3\\envs\\qtw\\lib\\site-packages\\statsmodels\\base\\model.py:548: HessianInversionWarning: Inverting hessian failed, no bse or cov_params available\n",
      "  'available', HessianInversionWarning)\n",
      "C:\\Users\\seans\\Anaconda3\\envs\\qtw\\lib\\site-packages\\statsmodels\\base\\model.py:568: ConvergenceWarning: Maximum Likelihood optimization failed to converge. Check mle_retvals\n",
      "  ConvergenceWarning)\n",
      "C:\\Users\\seans\\Anaconda3\\envs\\qtw\\lib\\site-packages\\statsmodels\\tsa\\arima_model.py:472: FutureWarning: \n",
      "statsmodels.tsa.arima_model.ARMA and statsmodels.tsa.arima_model.ARIMA have\n",
      "been deprecated in favor of statsmodels.tsa.arima.model.ARIMA (note the .\n",
      "between arima and model) and\n",
      "statsmodels.tsa.SARIMAX. These will be removed after the 0.12 release.\n",
      "\n",
      "statsmodels.tsa.arima.model.ARIMA makes use of the statespace framework and\n",
      "is both well tested and maintained.\n",
      "\n",
      "To silence this warning and continue using ARMA and ARIMA until they are\n",
      "removed, use:\n",
      "\n",
      "import warnings\n",
      "warnings.filterwarnings('ignore', 'statsmodels.tsa.arima_model.ARMA',\n",
      "                        FutureWarning)\n",
      "warnings.filterwarnings('ignore', 'statsmodels.tsa.arima_model.ARIMA',\n",
      "                        FutureWarning)\n",
      "\n",
      "  warnings.warn(ARIMA_DEPRECATION_WARN, FutureWarning)\n"
     ]
    },
    {
     "name": "stderr",
     "output_type": "stream",
     "text": [
      "C:\\Users\\seans\\Anaconda3\\envs\\qtw\\lib\\site-packages\\statsmodels\\base\\model.py:548: HessianInversionWarning: Inverting hessian failed, no bse or cov_params available\n",
      "  'available', HessianInversionWarning)\n",
      "C:\\Users\\seans\\Anaconda3\\envs\\qtw\\lib\\site-packages\\statsmodels\\tsa\\arima_model.py:472: FutureWarning: \n",
      "statsmodels.tsa.arima_model.ARMA and statsmodels.tsa.arima_model.ARIMA have\n",
      "been deprecated in favor of statsmodels.tsa.arima.model.ARIMA (note the .\n",
      "between arima and model) and\n",
      "statsmodels.tsa.SARIMAX. These will be removed after the 0.12 release.\n",
      "\n",
      "statsmodels.tsa.arima.model.ARIMA makes use of the statespace framework and\n",
      "is both well tested and maintained.\n",
      "\n",
      "To silence this warning and continue using ARMA and ARIMA until they are\n",
      "removed, use:\n",
      "\n",
      "import warnings\n",
      "warnings.filterwarnings('ignore', 'statsmodels.tsa.arima_model.ARMA',\n",
      "                        FutureWarning)\n",
      "warnings.filterwarnings('ignore', 'statsmodels.tsa.arima_model.ARIMA',\n",
      "                        FutureWarning)\n",
      "\n",
      "  warnings.warn(ARIMA_DEPRECATION_WARN, FutureWarning)\n",
      "C:\\Users\\seans\\Anaconda3\\envs\\qtw\\lib\\site-packages\\statsmodels\\base\\model.py:548: HessianInversionWarning: Inverting hessian failed, no bse or cov_params available\n",
      "  'available', HessianInversionWarning)\n",
      "C:\\Users\\seans\\Anaconda3\\envs\\qtw\\lib\\site-packages\\statsmodels\\base\\model.py:548: HessianInversionWarning: Inverting hessian failed, no bse or cov_params available\n",
      "  'available', HessianInversionWarning)\n",
      "C:\\Users\\seans\\Anaconda3\\envs\\qtw\\lib\\site-packages\\statsmodels\\base\\model.py:568: ConvergenceWarning: Maximum Likelihood optimization failed to converge. Check mle_retvals\n",
      "  ConvergenceWarning)\n",
      "C:\\Users\\seans\\Anaconda3\\envs\\qtw\\lib\\site-packages\\statsmodels\\tsa\\arima_model.py:472: FutureWarning: \n",
      "statsmodels.tsa.arima_model.ARMA and statsmodels.tsa.arima_model.ARIMA have\n",
      "been deprecated in favor of statsmodels.tsa.arima.model.ARIMA (note the .\n",
      "between arima and model) and\n",
      "statsmodels.tsa.SARIMAX. These will be removed after the 0.12 release.\n",
      "\n",
      "statsmodels.tsa.arima.model.ARIMA makes use of the statespace framework and\n",
      "is both well tested and maintained.\n",
      "\n",
      "To silence this warning and continue using ARMA and ARIMA until they are\n",
      "removed, use:\n",
      "\n",
      "import warnings\n",
      "warnings.filterwarnings('ignore', 'statsmodels.tsa.arima_model.ARMA',\n",
      "                        FutureWarning)\n",
      "warnings.filterwarnings('ignore', 'statsmodels.tsa.arima_model.ARIMA',\n",
      "                        FutureWarning)\n",
      "\n",
      "  warnings.warn(ARIMA_DEPRECATION_WARN, FutureWarning)\n",
      "C:\\Users\\seans\\Anaconda3\\envs\\qtw\\lib\\site-packages\\statsmodels\\base\\model.py:548: HessianInversionWarning: Inverting hessian failed, no bse or cov_params available\n",
      "  'available', HessianInversionWarning)\n",
      "C:\\Users\\seans\\Anaconda3\\envs\\qtw\\lib\\site-packages\\statsmodels\\base\\model.py:568: ConvergenceWarning: Maximum Likelihood optimization failed to converge. Check mle_retvals\n",
      "  ConvergenceWarning)\n",
      "C:\\Users\\seans\\Anaconda3\\envs\\qtw\\lib\\site-packages\\statsmodels\\tsa\\arima_model.py:472: FutureWarning: \n",
      "statsmodels.tsa.arima_model.ARMA and statsmodels.tsa.arima_model.ARIMA have\n",
      "been deprecated in favor of statsmodels.tsa.arima.model.ARIMA (note the .\n",
      "between arima and model) and\n",
      "statsmodels.tsa.SARIMAX. These will be removed after the 0.12 release.\n",
      "\n",
      "statsmodels.tsa.arima.model.ARIMA makes use of the statespace framework and\n",
      "is both well tested and maintained.\n",
      "\n",
      "To silence this warning and continue using ARMA and ARIMA until they are\n",
      "removed, use:\n",
      "\n",
      "import warnings\n",
      "warnings.filterwarnings('ignore', 'statsmodels.tsa.arima_model.ARMA',\n",
      "                        FutureWarning)\n",
      "warnings.filterwarnings('ignore', 'statsmodels.tsa.arima_model.ARIMA',\n",
      "                        FutureWarning)\n",
      "\n",
      "  warnings.warn(ARIMA_DEPRECATION_WARN, FutureWarning)\n",
      "C:\\Users\\seans\\Anaconda3\\envs\\qtw\\lib\\site-packages\\statsmodels\\tsa\\tsatools.py:701: RuntimeWarning: overflow encountered in exp\n",
      "  newparams = ((1-np.exp(-params))/(1+np.exp(-params))).copy()\n",
      "C:\\Users\\seans\\Anaconda3\\envs\\qtw\\lib\\site-packages\\statsmodels\\tsa\\tsatools.py:701: RuntimeWarning: invalid value encountered in true_divide\n",
      "  newparams = ((1-np.exp(-params))/(1+np.exp(-params))).copy()\n",
      "C:\\Users\\seans\\Anaconda3\\envs\\qtw\\lib\\site-packages\\statsmodels\\tsa\\tsatools.py:702: RuntimeWarning: overflow encountered in exp\n",
      "  tmp = ((1-np.exp(-params))/(1+np.exp(-params))).copy()\n",
      "C:\\Users\\seans\\Anaconda3\\envs\\qtw\\lib\\site-packages\\statsmodels\\tsa\\tsatools.py:702: RuntimeWarning: invalid value encountered in true_divide\n",
      "  tmp = ((1-np.exp(-params))/(1+np.exp(-params))).copy()\n",
      "C:\\Users\\seans\\Anaconda3\\envs\\qtw\\lib\\site-packages\\statsmodels\\base\\model.py:548: HessianInversionWarning: Inverting hessian failed, no bse or cov_params available\n",
      "  'available', HessianInversionWarning)\n",
      "C:\\Users\\seans\\Anaconda3\\envs\\qtw\\lib\\site-packages\\statsmodels\\tsa\\arima_model.py:472: FutureWarning: \n",
      "statsmodels.tsa.arima_model.ARMA and statsmodels.tsa.arima_model.ARIMA have\n",
      "been deprecated in favor of statsmodels.tsa.arima.model.ARIMA (note the .\n",
      "between arima and model) and\n",
      "statsmodels.tsa.SARIMAX. These will be removed after the 0.12 release.\n",
      "\n",
      "statsmodels.tsa.arima.model.ARIMA makes use of the statespace framework and\n",
      "is both well tested and maintained.\n",
      "\n",
      "To silence this warning and continue using ARMA and ARIMA until they are\n",
      "removed, use:\n",
      "\n",
      "import warnings\n",
      "warnings.filterwarnings('ignore', 'statsmodels.tsa.arima_model.ARMA',\n",
      "                        FutureWarning)\n",
      "warnings.filterwarnings('ignore', 'statsmodels.tsa.arima_model.ARIMA',\n",
      "                        FutureWarning)\n",
      "\n",
      "  warnings.warn(ARIMA_DEPRECATION_WARN, FutureWarning)\n",
      "C:\\Users\\seans\\Anaconda3\\envs\\qtw\\lib\\site-packages\\statsmodels\\tsa\\tsatools.py:701: RuntimeWarning: overflow encountered in exp\n",
      "  newparams = ((1-np.exp(-params))/(1+np.exp(-params))).copy()\n",
      "C:\\Users\\seans\\Anaconda3\\envs\\qtw\\lib\\site-packages\\statsmodels\\tsa\\tsatools.py:701: RuntimeWarning: invalid value encountered in true_divide\n",
      "  newparams = ((1-np.exp(-params))/(1+np.exp(-params))).copy()\n",
      "C:\\Users\\seans\\Anaconda3\\envs\\qtw\\lib\\site-packages\\statsmodels\\tsa\\tsatools.py:702: RuntimeWarning: overflow encountered in exp\n",
      "  tmp = ((1-np.exp(-params))/(1+np.exp(-params))).copy()\n",
      "C:\\Users\\seans\\Anaconda3\\envs\\qtw\\lib\\site-packages\\statsmodels\\tsa\\tsatools.py:702: RuntimeWarning: invalid value encountered in true_divide\n",
      "  tmp = ((1-np.exp(-params))/(1+np.exp(-params))).copy()\n",
      "C:\\Users\\seans\\Anaconda3\\envs\\qtw\\lib\\site-packages\\statsmodels\\base\\model.py:568: ConvergenceWarning: Maximum Likelihood optimization failed to converge. Check mle_retvals\n",
      "  ConvergenceWarning)\n",
      "C:\\Users\\seans\\Anaconda3\\envs\\qtw\\lib\\site-packages\\statsmodels\\tsa\\arima_model.py:472: FutureWarning: \n",
      "statsmodels.tsa.arima_model.ARMA and statsmodels.tsa.arima_model.ARIMA have\n",
      "been deprecated in favor of statsmodels.tsa.arima.model.ARIMA (note the .\n",
      "between arima and model) and\n",
      "statsmodels.tsa.SARIMAX. These will be removed after the 0.12 release.\n",
      "\n",
      "statsmodels.tsa.arima.model.ARIMA makes use of the statespace framework and\n",
      "is both well tested and maintained.\n",
      "\n",
      "To silence this warning and continue using ARMA and ARIMA until they are\n",
      "removed, use:\n",
      "\n",
      "import warnings\n",
      "warnings.filterwarnings('ignore', 'statsmodels.tsa.arima_model.ARMA',\n",
      "                        FutureWarning)\n",
      "warnings.filterwarnings('ignore', 'statsmodels.tsa.arima_model.ARIMA',\n",
      "                        FutureWarning)\n",
      "\n",
      "  warnings.warn(ARIMA_DEPRECATION_WARN, FutureWarning)\n",
      "C:\\Users\\seans\\Anaconda3\\envs\\qtw\\lib\\site-packages\\statsmodels\\tsa\\tsatools.py:701: RuntimeWarning: overflow encountered in exp\n",
      "  newparams = ((1-np.exp(-params))/(1+np.exp(-params))).copy()\n",
      "C:\\Users\\seans\\Anaconda3\\envs\\qtw\\lib\\site-packages\\statsmodels\\tsa\\tsatools.py:701: RuntimeWarning: invalid value encountered in true_divide\n",
      "  newparams = ((1-np.exp(-params))/(1+np.exp(-params))).copy()\n",
      "C:\\Users\\seans\\Anaconda3\\envs\\qtw\\lib\\site-packages\\statsmodels\\tsa\\tsatools.py:702: RuntimeWarning: overflow encountered in exp\n",
      "  tmp = ((1-np.exp(-params))/(1+np.exp(-params))).copy()\n",
      "C:\\Users\\seans\\Anaconda3\\envs\\qtw\\lib\\site-packages\\statsmodels\\tsa\\tsatools.py:702: RuntimeWarning: invalid value encountered in true_divide\n",
      "  tmp = ((1-np.exp(-params))/(1+np.exp(-params))).copy()\n",
      "C:\\Users\\seans\\Anaconda3\\envs\\qtw\\lib\\site-packages\\statsmodels\\base\\model.py:548: HessianInversionWarning: Inverting hessian failed, no bse or cov_params available\n",
      "  'available', HessianInversionWarning)\n",
      "C:\\Users\\seans\\Anaconda3\\envs\\qtw\\lib\\site-packages\\statsmodels\\base\\model.py:568: ConvergenceWarning: Maximum Likelihood optimization failed to converge. Check mle_retvals\n",
      "  ConvergenceWarning)\n",
      "C:\\Users\\seans\\Anaconda3\\envs\\qtw\\lib\\site-packages\\statsmodels\\tsa\\arima_model.py:472: FutureWarning: \n",
      "statsmodels.tsa.arima_model.ARMA and statsmodels.tsa.arima_model.ARIMA have\n",
      "been deprecated in favor of statsmodels.tsa.arima.model.ARIMA (note the .\n",
      "between arima and model) and\n",
      "statsmodels.tsa.SARIMAX. These will be removed after the 0.12 release.\n",
      "\n",
      "statsmodels.tsa.arima.model.ARIMA makes use of the statespace framework and\n",
      "is both well tested and maintained.\n",
      "\n",
      "To silence this warning and continue using ARMA and ARIMA until they are\n",
      "removed, use:\n",
      "\n",
      "import warnings\n",
      "warnings.filterwarnings('ignore', 'statsmodels.tsa.arima_model.ARMA',\n",
      "                        FutureWarning)\n",
      "warnings.filterwarnings('ignore', 'statsmodels.tsa.arima_model.ARIMA',\n",
      "                        FutureWarning)\n",
      "\n",
      "  warnings.warn(ARIMA_DEPRECATION_WARN, FutureWarning)\n",
      "C:\\Users\\seans\\Anaconda3\\envs\\qtw\\lib\\site-packages\\statsmodels\\tsa\\tsatools.py:701: RuntimeWarning: overflow encountered in exp\n",
      "  newparams = ((1-np.exp(-params))/(1+np.exp(-params))).copy()\n",
      "C:\\Users\\seans\\Anaconda3\\envs\\qtw\\lib\\site-packages\\statsmodels\\tsa\\tsatools.py:701: RuntimeWarning: invalid value encountered in true_divide\n",
      "  newparams = ((1-np.exp(-params))/(1+np.exp(-params))).copy()\n",
      "C:\\Users\\seans\\Anaconda3\\envs\\qtw\\lib\\site-packages\\statsmodels\\tsa\\tsatools.py:702: RuntimeWarning: overflow encountered in exp\n",
      "  tmp = ((1-np.exp(-params))/(1+np.exp(-params))).copy()\n",
      "C:\\Users\\seans\\Anaconda3\\envs\\qtw\\lib\\site-packages\\statsmodels\\tsa\\tsatools.py:702: RuntimeWarning: invalid value encountered in true_divide\n",
      "  tmp = ((1-np.exp(-params))/(1+np.exp(-params))).copy()\n"
     ]
    },
    {
     "name": "stderr",
     "output_type": "stream",
     "text": [
      "C:\\Users\\seans\\Anaconda3\\envs\\qtw\\lib\\site-packages\\statsmodels\\base\\model.py:548: HessianInversionWarning: Inverting hessian failed, no bse or cov_params available\n",
      "  'available', HessianInversionWarning)\n",
      "C:\\Users\\seans\\Anaconda3\\envs\\qtw\\lib\\site-packages\\statsmodels\\base\\model.py:568: ConvergenceWarning: Maximum Likelihood optimization failed to converge. Check mle_retvals\n",
      "  ConvergenceWarning)\n",
      "C:\\Users\\seans\\Anaconda3\\envs\\qtw\\lib\\site-packages\\statsmodels\\tsa\\arima_model.py:472: FutureWarning: \n",
      "statsmodels.tsa.arima_model.ARMA and statsmodels.tsa.arima_model.ARIMA have\n",
      "been deprecated in favor of statsmodels.tsa.arima.model.ARIMA (note the .\n",
      "between arima and model) and\n",
      "statsmodels.tsa.SARIMAX. These will be removed after the 0.12 release.\n",
      "\n",
      "statsmodels.tsa.arima.model.ARIMA makes use of the statespace framework and\n",
      "is both well tested and maintained.\n",
      "\n",
      "To silence this warning and continue using ARMA and ARIMA until they are\n",
      "removed, use:\n",
      "\n",
      "import warnings\n",
      "warnings.filterwarnings('ignore', 'statsmodels.tsa.arima_model.ARMA',\n",
      "                        FutureWarning)\n",
      "warnings.filterwarnings('ignore', 'statsmodels.tsa.arima_model.ARIMA',\n",
      "                        FutureWarning)\n",
      "\n",
      "  warnings.warn(ARIMA_DEPRECATION_WARN, FutureWarning)\n",
      "C:\\Users\\seans\\Anaconda3\\envs\\qtw\\lib\\site-packages\\statsmodels\\tsa\\tsatools.py:701: RuntimeWarning: overflow encountered in exp\n",
      "  newparams = ((1-np.exp(-params))/(1+np.exp(-params))).copy()\n",
      "C:\\Users\\seans\\Anaconda3\\envs\\qtw\\lib\\site-packages\\statsmodels\\tsa\\tsatools.py:701: RuntimeWarning: invalid value encountered in true_divide\n",
      "  newparams = ((1-np.exp(-params))/(1+np.exp(-params))).copy()\n",
      "C:\\Users\\seans\\Anaconda3\\envs\\qtw\\lib\\site-packages\\statsmodels\\tsa\\tsatools.py:702: RuntimeWarning: overflow encountered in exp\n",
      "  tmp = ((1-np.exp(-params))/(1+np.exp(-params))).copy()\n",
      "C:\\Users\\seans\\Anaconda3\\envs\\qtw\\lib\\site-packages\\statsmodels\\tsa\\tsatools.py:702: RuntimeWarning: invalid value encountered in true_divide\n",
      "  tmp = ((1-np.exp(-params))/(1+np.exp(-params))).copy()\n",
      "C:\\Users\\seans\\Anaconda3\\envs\\qtw\\lib\\site-packages\\statsmodels\\base\\model.py:548: HessianInversionWarning: Inverting hessian failed, no bse or cov_params available\n",
      "  'available', HessianInversionWarning)\n",
      "C:\\Users\\seans\\Anaconda3\\envs\\qtw\\lib\\site-packages\\statsmodels\\base\\model.py:568: ConvergenceWarning: Maximum Likelihood optimization failed to converge. Check mle_retvals\n",
      "  ConvergenceWarning)\n",
      "C:\\Users\\seans\\Anaconda3\\envs\\qtw\\lib\\site-packages\\statsmodels\\regression\\linear_model.py:1434: RuntimeWarning: invalid value encountered in sqrt\n",
      "  return rho, np.sqrt(sigmasq)\n",
      "C:\\Users\\seans\\Anaconda3\\envs\\qtw\\lib\\site-packages\\statsmodels\\base\\model.py:548: HessianInversionWarning: Inverting hessian failed, no bse or cov_params available\n",
      "  'available', HessianInversionWarning)\n",
      "C:\\Users\\seans\\Anaconda3\\envs\\qtw\\lib\\site-packages\\statsmodels\\base\\model.py:568: ConvergenceWarning: Maximum Likelihood optimization failed to converge. Check mle_retvals\n",
      "  ConvergenceWarning)\n",
      "C:\\Users\\seans\\Anaconda3\\envs\\qtw\\lib\\site-packages\\statsmodels\\tsa\\arima_model.py:472: FutureWarning: \n",
      "statsmodels.tsa.arima_model.ARMA and statsmodels.tsa.arima_model.ARIMA have\n",
      "been deprecated in favor of statsmodels.tsa.arima.model.ARIMA (note the .\n",
      "between arima and model) and\n",
      "statsmodels.tsa.SARIMAX. These will be removed after the 0.12 release.\n",
      "\n",
      "statsmodels.tsa.arima.model.ARIMA makes use of the statespace framework and\n",
      "is both well tested and maintained.\n",
      "\n",
      "To silence this warning and continue using ARMA and ARIMA until they are\n",
      "removed, use:\n",
      "\n",
      "import warnings\n",
      "warnings.filterwarnings('ignore', 'statsmodels.tsa.arima_model.ARMA',\n",
      "                        FutureWarning)\n",
      "warnings.filterwarnings('ignore', 'statsmodels.tsa.arima_model.ARIMA',\n",
      "                        FutureWarning)\n",
      "\n",
      "  warnings.warn(ARIMA_DEPRECATION_WARN, FutureWarning)\n",
      "C:\\Users\\seans\\Anaconda3\\envs\\qtw\\lib\\site-packages\\statsmodels\\tsa\\tsatools.py:701: RuntimeWarning: overflow encountered in exp\n",
      "  newparams = ((1-np.exp(-params))/(1+np.exp(-params))).copy()\n",
      "C:\\Users\\seans\\Anaconda3\\envs\\qtw\\lib\\site-packages\\statsmodels\\tsa\\tsatools.py:701: RuntimeWarning: invalid value encountered in true_divide\n",
      "  newparams = ((1-np.exp(-params))/(1+np.exp(-params))).copy()\n",
      "C:\\Users\\seans\\Anaconda3\\envs\\qtw\\lib\\site-packages\\statsmodels\\tsa\\tsatools.py:702: RuntimeWarning: overflow encountered in exp\n",
      "  tmp = ((1-np.exp(-params))/(1+np.exp(-params))).copy()\n",
      "C:\\Users\\seans\\Anaconda3\\envs\\qtw\\lib\\site-packages\\statsmodels\\tsa\\tsatools.py:702: RuntimeWarning: invalid value encountered in true_divide\n",
      "  tmp = ((1-np.exp(-params))/(1+np.exp(-params))).copy()\n",
      "C:\\Users\\seans\\Anaconda3\\envs\\qtw\\lib\\site-packages\\statsmodels\\base\\model.py:548: HessianInversionWarning: Inverting hessian failed, no bse or cov_params available\n",
      "  'available', HessianInversionWarning)\n",
      "C:\\Users\\seans\\Anaconda3\\envs\\qtw\\lib\\site-packages\\statsmodels\\base\\model.py:568: ConvergenceWarning: Maximum Likelihood optimization failed to converge. Check mle_retvals\n",
      "  ConvergenceWarning)\n",
      "C:\\Users\\seans\\Anaconda3\\envs\\qtw\\lib\\site-packages\\statsmodels\\tsa\\arima_model.py:472: FutureWarning: \n",
      "statsmodels.tsa.arima_model.ARMA and statsmodels.tsa.arima_model.ARIMA have\n",
      "been deprecated in favor of statsmodels.tsa.arima.model.ARIMA (note the .\n",
      "between arima and model) and\n",
      "statsmodels.tsa.SARIMAX. These will be removed after the 0.12 release.\n",
      "\n",
      "statsmodels.tsa.arima.model.ARIMA makes use of the statespace framework and\n",
      "is both well tested and maintained.\n",
      "\n",
      "To silence this warning and continue using ARMA and ARIMA until they are\n",
      "removed, use:\n",
      "\n",
      "import warnings\n",
      "warnings.filterwarnings('ignore', 'statsmodels.tsa.arima_model.ARMA',\n",
      "                        FutureWarning)\n",
      "warnings.filterwarnings('ignore', 'statsmodels.tsa.arima_model.ARIMA',\n",
      "                        FutureWarning)\n",
      "\n",
      "  warnings.warn(ARIMA_DEPRECATION_WARN, FutureWarning)\n",
      "C:\\Users\\seans\\Anaconda3\\envs\\qtw\\lib\\site-packages\\statsmodels\\base\\model.py:548: HessianInversionWarning: Inverting hessian failed, no bse or cov_params available\n",
      "  'available', HessianInversionWarning)\n",
      "C:\\Users\\seans\\Anaconda3\\envs\\qtw\\lib\\site-packages\\statsmodels\\tsa\\arima_model.py:472: FutureWarning: \n",
      "statsmodels.tsa.arima_model.ARMA and statsmodels.tsa.arima_model.ARIMA have\n",
      "been deprecated in favor of statsmodels.tsa.arima.model.ARIMA (note the .\n",
      "between arima and model) and\n",
      "statsmodels.tsa.SARIMAX. These will be removed after the 0.12 release.\n",
      "\n",
      "statsmodels.tsa.arima.model.ARIMA makes use of the statespace framework and\n",
      "is both well tested and maintained.\n",
      "\n",
      "To silence this warning and continue using ARMA and ARIMA until they are\n",
      "removed, use:\n",
      "\n",
      "import warnings\n",
      "warnings.filterwarnings('ignore', 'statsmodels.tsa.arima_model.ARMA',\n",
      "                        FutureWarning)\n",
      "warnings.filterwarnings('ignore', 'statsmodels.tsa.arima_model.ARIMA',\n",
      "                        FutureWarning)\n",
      "\n",
      "  warnings.warn(ARIMA_DEPRECATION_WARN, FutureWarning)\n",
      "C:\\Users\\seans\\Anaconda3\\envs\\qtw\\lib\\site-packages\\statsmodels\\tsa\\tsatools.py:701: RuntimeWarning: overflow encountered in exp\n",
      "  newparams = ((1-np.exp(-params))/(1+np.exp(-params))).copy()\n",
      "C:\\Users\\seans\\Anaconda3\\envs\\qtw\\lib\\site-packages\\statsmodels\\tsa\\tsatools.py:701: RuntimeWarning: invalid value encountered in true_divide\n",
      "  newparams = ((1-np.exp(-params))/(1+np.exp(-params))).copy()\n",
      "C:\\Users\\seans\\Anaconda3\\envs\\qtw\\lib\\site-packages\\statsmodels\\tsa\\tsatools.py:702: RuntimeWarning: overflow encountered in exp\n",
      "  tmp = ((1-np.exp(-params))/(1+np.exp(-params))).copy()\n",
      "C:\\Users\\seans\\Anaconda3\\envs\\qtw\\lib\\site-packages\\statsmodels\\tsa\\tsatools.py:702: RuntimeWarning: invalid value encountered in true_divide\n",
      "  tmp = ((1-np.exp(-params))/(1+np.exp(-params))).copy()\n",
      "C:\\Users\\seans\\Anaconda3\\envs\\qtw\\lib\\site-packages\\statsmodels\\base\\model.py:548: HessianInversionWarning: Inverting hessian failed, no bse or cov_params available\n",
      "  'available', HessianInversionWarning)\n",
      "C:\\Users\\seans\\Anaconda3\\envs\\qtw\\lib\\site-packages\\statsmodels\\base\\model.py:568: ConvergenceWarning: Maximum Likelihood optimization failed to converge. Check mle_retvals\n",
      "  ConvergenceWarning)\n",
      "C:\\Users\\seans\\Anaconda3\\envs\\qtw\\lib\\site-packages\\statsmodels\\tsa\\arima_model.py:472: FutureWarning: \n",
      "statsmodels.tsa.arima_model.ARMA and statsmodels.tsa.arima_model.ARIMA have\n",
      "been deprecated in favor of statsmodels.tsa.arima.model.ARIMA (note the .\n",
      "between arima and model) and\n",
      "statsmodels.tsa.SARIMAX. These will be removed after the 0.12 release.\n",
      "\n",
      "statsmodels.tsa.arima.model.ARIMA makes use of the statespace framework and\n",
      "is both well tested and maintained.\n",
      "\n",
      "To silence this warning and continue using ARMA and ARIMA until they are\n",
      "removed, use:\n",
      "\n",
      "import warnings\n",
      "warnings.filterwarnings('ignore', 'statsmodels.tsa.arima_model.ARMA',\n",
      "                        FutureWarning)\n",
      "warnings.filterwarnings('ignore', 'statsmodels.tsa.arima_model.ARIMA',\n",
      "                        FutureWarning)\n",
      "\n",
      "  warnings.warn(ARIMA_DEPRECATION_WARN, FutureWarning)\n"
     ]
    },
    {
     "name": "stderr",
     "output_type": "stream",
     "text": [
      "C:\\Users\\seans\\Anaconda3\\envs\\qtw\\lib\\site-packages\\statsmodels\\tsa\\tsatools.py:701: RuntimeWarning: overflow encountered in exp\n",
      "  newparams = ((1-np.exp(-params))/(1+np.exp(-params))).copy()\n",
      "C:\\Users\\seans\\Anaconda3\\envs\\qtw\\lib\\site-packages\\statsmodels\\tsa\\tsatools.py:701: RuntimeWarning: invalid value encountered in true_divide\n",
      "  newparams = ((1-np.exp(-params))/(1+np.exp(-params))).copy()\n",
      "C:\\Users\\seans\\Anaconda3\\envs\\qtw\\lib\\site-packages\\statsmodels\\tsa\\tsatools.py:702: RuntimeWarning: overflow encountered in exp\n",
      "  tmp = ((1-np.exp(-params))/(1+np.exp(-params))).copy()\n",
      "C:\\Users\\seans\\Anaconda3\\envs\\qtw\\lib\\site-packages\\statsmodels\\tsa\\tsatools.py:702: RuntimeWarning: invalid value encountered in true_divide\n",
      "  tmp = ((1-np.exp(-params))/(1+np.exp(-params))).copy()\n",
      "C:\\Users\\seans\\Anaconda3\\envs\\qtw\\lib\\site-packages\\statsmodels\\base\\model.py:548: HessianInversionWarning: Inverting hessian failed, no bse or cov_params available\n",
      "  'available', HessianInversionWarning)\n",
      "C:\\Users\\seans\\Anaconda3\\envs\\qtw\\lib\\site-packages\\statsmodels\\base\\model.py:568: ConvergenceWarning: Maximum Likelihood optimization failed to converge. Check mle_retvals\n",
      "  ConvergenceWarning)\n",
      "C:\\Users\\seans\\Anaconda3\\envs\\qtw\\lib\\site-packages\\statsmodels\\tsa\\arima_model.py:472: FutureWarning: \n",
      "statsmodels.tsa.arima_model.ARMA and statsmodels.tsa.arima_model.ARIMA have\n",
      "been deprecated in favor of statsmodels.tsa.arima.model.ARIMA (note the .\n",
      "between arima and model) and\n",
      "statsmodels.tsa.SARIMAX. These will be removed after the 0.12 release.\n",
      "\n",
      "statsmodels.tsa.arima.model.ARIMA makes use of the statespace framework and\n",
      "is both well tested and maintained.\n",
      "\n",
      "To silence this warning and continue using ARMA and ARIMA until they are\n",
      "removed, use:\n",
      "\n",
      "import warnings\n",
      "warnings.filterwarnings('ignore', 'statsmodels.tsa.arima_model.ARMA',\n",
      "                        FutureWarning)\n",
      "warnings.filterwarnings('ignore', 'statsmodels.tsa.arima_model.ARIMA',\n",
      "                        FutureWarning)\n",
      "\n",
      "  warnings.warn(ARIMA_DEPRECATION_WARN, FutureWarning)\n",
      "C:\\Users\\seans\\Anaconda3\\envs\\qtw\\lib\\site-packages\\statsmodels\\tsa\\tsatools.py:701: RuntimeWarning: overflow encountered in exp\n",
      "  newparams = ((1-np.exp(-params))/(1+np.exp(-params))).copy()\n",
      "C:\\Users\\seans\\Anaconda3\\envs\\qtw\\lib\\site-packages\\statsmodels\\tsa\\tsatools.py:701: RuntimeWarning: invalid value encountered in true_divide\n",
      "  newparams = ((1-np.exp(-params))/(1+np.exp(-params))).copy()\n",
      "C:\\Users\\seans\\Anaconda3\\envs\\qtw\\lib\\site-packages\\statsmodels\\tsa\\tsatools.py:702: RuntimeWarning: overflow encountered in exp\n",
      "  tmp = ((1-np.exp(-params))/(1+np.exp(-params))).copy()\n",
      "C:\\Users\\seans\\Anaconda3\\envs\\qtw\\lib\\site-packages\\statsmodels\\tsa\\tsatools.py:702: RuntimeWarning: invalid value encountered in true_divide\n",
      "  tmp = ((1-np.exp(-params))/(1+np.exp(-params))).copy()\n",
      "C:\\Users\\seans\\Anaconda3\\envs\\qtw\\lib\\site-packages\\statsmodels\\base\\model.py:548: HessianInversionWarning: Inverting hessian failed, no bse or cov_params available\n",
      "  'available', HessianInversionWarning)\n",
      "C:\\Users\\seans\\Anaconda3\\envs\\qtw\\lib\\site-packages\\statsmodels\\base\\model.py:568: ConvergenceWarning: Maximum Likelihood optimization failed to converge. Check mle_retvals\n",
      "  ConvergenceWarning)\n",
      "C:\\Users\\seans\\Anaconda3\\envs\\qtw\\lib\\site-packages\\statsmodels\\tsa\\arima_model.py:472: FutureWarning: \n",
      "statsmodels.tsa.arima_model.ARMA and statsmodels.tsa.arima_model.ARIMA have\n",
      "been deprecated in favor of statsmodels.tsa.arima.model.ARIMA (note the .\n",
      "between arima and model) and\n",
      "statsmodels.tsa.SARIMAX. These will be removed after the 0.12 release.\n",
      "\n",
      "statsmodels.tsa.arima.model.ARIMA makes use of the statespace framework and\n",
      "is both well tested and maintained.\n",
      "\n",
      "To silence this warning and continue using ARMA and ARIMA until they are\n",
      "removed, use:\n",
      "\n",
      "import warnings\n",
      "warnings.filterwarnings('ignore', 'statsmodels.tsa.arima_model.ARMA',\n",
      "                        FutureWarning)\n",
      "warnings.filterwarnings('ignore', 'statsmodels.tsa.arima_model.ARIMA',\n",
      "                        FutureWarning)\n",
      "\n",
      "  warnings.warn(ARIMA_DEPRECATION_WARN, FutureWarning)\n",
      "C:\\Users\\seans\\Anaconda3\\envs\\qtw\\lib\\site-packages\\statsmodels\\tsa\\tsatools.py:701: RuntimeWarning: overflow encountered in exp\n",
      "  newparams = ((1-np.exp(-params))/(1+np.exp(-params))).copy()\n",
      "C:\\Users\\seans\\Anaconda3\\envs\\qtw\\lib\\site-packages\\statsmodels\\tsa\\tsatools.py:701: RuntimeWarning: invalid value encountered in true_divide\n",
      "  newparams = ((1-np.exp(-params))/(1+np.exp(-params))).copy()\n",
      "C:\\Users\\seans\\Anaconda3\\envs\\qtw\\lib\\site-packages\\statsmodels\\tsa\\tsatools.py:702: RuntimeWarning: overflow encountered in exp\n",
      "  tmp = ((1-np.exp(-params))/(1+np.exp(-params))).copy()\n",
      "C:\\Users\\seans\\Anaconda3\\envs\\qtw\\lib\\site-packages\\statsmodels\\tsa\\tsatools.py:702: RuntimeWarning: invalid value encountered in true_divide\n",
      "  tmp = ((1-np.exp(-params))/(1+np.exp(-params))).copy()\n",
      "C:\\Users\\seans\\Anaconda3\\envs\\qtw\\lib\\site-packages\\statsmodels\\base\\model.py:548: HessianInversionWarning: Inverting hessian failed, no bse or cov_params available\n",
      "  'available', HessianInversionWarning)\n",
      "C:\\Users\\seans\\Anaconda3\\envs\\qtw\\lib\\site-packages\\statsmodels\\base\\model.py:568: ConvergenceWarning: Maximum Likelihood optimization failed to converge. Check mle_retvals\n",
      "  ConvergenceWarning)\n",
      "C:\\Users\\seans\\Anaconda3\\envs\\qtw\\lib\\site-packages\\statsmodels\\regression\\linear_model.py:1434: RuntimeWarning: invalid value encountered in sqrt\n",
      "  return rho, np.sqrt(sigmasq)\n",
      "C:\\Users\\seans\\Anaconda3\\envs\\qtw\\lib\\site-packages\\statsmodels\\base\\model.py:568: ConvergenceWarning: Maximum Likelihood optimization failed to converge. Check mle_retvals\n",
      "  ConvergenceWarning)\n",
      "C:\\Users\\seans\\Anaconda3\\envs\\qtw\\lib\\site-packages\\statsmodels\\tsa\\arima_model.py:472: FutureWarning: \n",
      "statsmodels.tsa.arima_model.ARMA and statsmodels.tsa.arima_model.ARIMA have\n",
      "been deprecated in favor of statsmodels.tsa.arima.model.ARIMA (note the .\n",
      "between arima and model) and\n",
      "statsmodels.tsa.SARIMAX. These will be removed after the 0.12 release.\n",
      "\n",
      "statsmodels.tsa.arima.model.ARIMA makes use of the statespace framework and\n",
      "is both well tested and maintained.\n",
      "\n",
      "To silence this warning and continue using ARMA and ARIMA until they are\n",
      "removed, use:\n",
      "\n",
      "import warnings\n",
      "warnings.filterwarnings('ignore', 'statsmodels.tsa.arima_model.ARMA',\n",
      "                        FutureWarning)\n",
      "warnings.filterwarnings('ignore', 'statsmodels.tsa.arima_model.ARIMA',\n",
      "                        FutureWarning)\n",
      "\n",
      "  warnings.warn(ARIMA_DEPRECATION_WARN, FutureWarning)\n",
      "C:\\Users\\seans\\Anaconda3\\envs\\qtw\\lib\\site-packages\\statsmodels\\tsa\\tsatools.py:701: RuntimeWarning: overflow encountered in exp\n",
      "  newparams = ((1-np.exp(-params))/(1+np.exp(-params))).copy()\n",
      "C:\\Users\\seans\\Anaconda3\\envs\\qtw\\lib\\site-packages\\statsmodels\\tsa\\tsatools.py:701: RuntimeWarning: invalid value encountered in true_divide\n",
      "  newparams = ((1-np.exp(-params))/(1+np.exp(-params))).copy()\n",
      "C:\\Users\\seans\\Anaconda3\\envs\\qtw\\lib\\site-packages\\statsmodels\\tsa\\tsatools.py:702: RuntimeWarning: overflow encountered in exp\n",
      "  tmp = ((1-np.exp(-params))/(1+np.exp(-params))).copy()\n",
      "C:\\Users\\seans\\Anaconda3\\envs\\qtw\\lib\\site-packages\\statsmodels\\tsa\\tsatools.py:702: RuntimeWarning: invalid value encountered in true_divide\n",
      "  tmp = ((1-np.exp(-params))/(1+np.exp(-params))).copy()\n",
      "C:\\Users\\seans\\Anaconda3\\envs\\qtw\\lib\\site-packages\\statsmodels\\base\\model.py:548: HessianInversionWarning: Inverting hessian failed, no bse or cov_params available\n",
      "  'available', HessianInversionWarning)\n",
      "C:\\Users\\seans\\Anaconda3\\envs\\qtw\\lib\\site-packages\\statsmodels\\base\\model.py:568: ConvergenceWarning: Maximum Likelihood optimization failed to converge. Check mle_retvals\n",
      "  ConvergenceWarning)\n",
      "C:\\Users\\seans\\Anaconda3\\envs\\qtw\\lib\\site-packages\\statsmodels\\tsa\\arima_model.py:472: FutureWarning: \n",
      "statsmodels.tsa.arima_model.ARMA and statsmodels.tsa.arima_model.ARIMA have\n",
      "been deprecated in favor of statsmodels.tsa.arima.model.ARIMA (note the .\n",
      "between arima and model) and\n",
      "statsmodels.tsa.SARIMAX. These will be removed after the 0.12 release.\n",
      "\n",
      "statsmodels.tsa.arima.model.ARIMA makes use of the statespace framework and\n",
      "is both well tested and maintained.\n",
      "\n",
      "To silence this warning and continue using ARMA and ARIMA until they are\n",
      "removed, use:\n",
      "\n",
      "import warnings\n",
      "warnings.filterwarnings('ignore', 'statsmodels.tsa.arima_model.ARMA',\n",
      "                        FutureWarning)\n",
      "warnings.filterwarnings('ignore', 'statsmodels.tsa.arima_model.ARIMA',\n",
      "                        FutureWarning)\n",
      "\n",
      "  warnings.warn(ARIMA_DEPRECATION_WARN, FutureWarning)\n",
      "C:\\Users\\seans\\Anaconda3\\envs\\qtw\\lib\\site-packages\\statsmodels\\tsa\\tsatools.py:701: RuntimeWarning: overflow encountered in exp\n",
      "  newparams = ((1-np.exp(-params))/(1+np.exp(-params))).copy()\n",
      "C:\\Users\\seans\\Anaconda3\\envs\\qtw\\lib\\site-packages\\statsmodels\\tsa\\tsatools.py:701: RuntimeWarning: invalid value encountered in true_divide\n",
      "  newparams = ((1-np.exp(-params))/(1+np.exp(-params))).copy()\n",
      "C:\\Users\\seans\\Anaconda3\\envs\\qtw\\lib\\site-packages\\statsmodels\\tsa\\tsatools.py:702: RuntimeWarning: overflow encountered in exp\n",
      "  tmp = ((1-np.exp(-params))/(1+np.exp(-params))).copy()\n",
      "C:\\Users\\seans\\Anaconda3\\envs\\qtw\\lib\\site-packages\\statsmodels\\tsa\\tsatools.py:702: RuntimeWarning: invalid value encountered in true_divide\n",
      "  tmp = ((1-np.exp(-params))/(1+np.exp(-params))).copy()\n"
     ]
    },
    {
     "name": "stderr",
     "output_type": "stream",
     "text": [
      "C:\\Users\\seans\\Anaconda3\\envs\\qtw\\lib\\site-packages\\statsmodels\\base\\model.py:548: HessianInversionWarning: Inverting hessian failed, no bse or cov_params available\n",
      "  'available', HessianInversionWarning)\n",
      "C:\\Users\\seans\\Anaconda3\\envs\\qtw\\lib\\site-packages\\statsmodels\\base\\model.py:568: ConvergenceWarning: Maximum Likelihood optimization failed to converge. Check mle_retvals\n",
      "  ConvergenceWarning)\n",
      "C:\\Users\\seans\\Anaconda3\\envs\\qtw\\lib\\site-packages\\statsmodels\\tsa\\arima_model.py:472: FutureWarning: \n",
      "statsmodels.tsa.arima_model.ARMA and statsmodels.tsa.arima_model.ARIMA have\n",
      "been deprecated in favor of statsmodels.tsa.arima.model.ARIMA (note the .\n",
      "between arima and model) and\n",
      "statsmodels.tsa.SARIMAX. These will be removed after the 0.12 release.\n",
      "\n",
      "statsmodels.tsa.arima.model.ARIMA makes use of the statespace framework and\n",
      "is both well tested and maintained.\n",
      "\n",
      "To silence this warning and continue using ARMA and ARIMA until they are\n",
      "removed, use:\n",
      "\n",
      "import warnings\n",
      "warnings.filterwarnings('ignore', 'statsmodels.tsa.arima_model.ARMA',\n",
      "                        FutureWarning)\n",
      "warnings.filterwarnings('ignore', 'statsmodels.tsa.arima_model.ARIMA',\n",
      "                        FutureWarning)\n",
      "\n",
      "  warnings.warn(ARIMA_DEPRECATION_WARN, FutureWarning)\n",
      "C:\\Users\\seans\\Anaconda3\\envs\\qtw\\lib\\site-packages\\statsmodels\\tsa\\tsatools.py:701: RuntimeWarning: overflow encountered in exp\n",
      "  newparams = ((1-np.exp(-params))/(1+np.exp(-params))).copy()\n",
      "C:\\Users\\seans\\Anaconda3\\envs\\qtw\\lib\\site-packages\\statsmodels\\tsa\\tsatools.py:701: RuntimeWarning: invalid value encountered in true_divide\n",
      "  newparams = ((1-np.exp(-params))/(1+np.exp(-params))).copy()\n",
      "C:\\Users\\seans\\Anaconda3\\envs\\qtw\\lib\\site-packages\\statsmodels\\tsa\\tsatools.py:702: RuntimeWarning: overflow encountered in exp\n",
      "  tmp = ((1-np.exp(-params))/(1+np.exp(-params))).copy()\n",
      "C:\\Users\\seans\\Anaconda3\\envs\\qtw\\lib\\site-packages\\statsmodels\\tsa\\tsatools.py:702: RuntimeWarning: invalid value encountered in true_divide\n",
      "  tmp = ((1-np.exp(-params))/(1+np.exp(-params))).copy()\n",
      "C:\\Users\\seans\\Anaconda3\\envs\\qtw\\lib\\site-packages\\statsmodels\\base\\model.py:548: HessianInversionWarning: Inverting hessian failed, no bse or cov_params available\n",
      "  'available', HessianInversionWarning)\n",
      "C:\\Users\\seans\\Anaconda3\\envs\\qtw\\lib\\site-packages\\statsmodels\\base\\model.py:568: ConvergenceWarning: Maximum Likelihood optimization failed to converge. Check mle_retvals\n",
      "  ConvergenceWarning)\n",
      "C:\\Users\\seans\\Anaconda3\\envs\\qtw\\lib\\site-packages\\statsmodels\\tsa\\arima_model.py:472: FutureWarning: \n",
      "statsmodels.tsa.arima_model.ARMA and statsmodels.tsa.arima_model.ARIMA have\n",
      "been deprecated in favor of statsmodels.tsa.arima.model.ARIMA (note the .\n",
      "between arima and model) and\n",
      "statsmodels.tsa.SARIMAX. These will be removed after the 0.12 release.\n",
      "\n",
      "statsmodels.tsa.arima.model.ARIMA makes use of the statespace framework and\n",
      "is both well tested and maintained.\n",
      "\n",
      "To silence this warning and continue using ARMA and ARIMA until they are\n",
      "removed, use:\n",
      "\n",
      "import warnings\n",
      "warnings.filterwarnings('ignore', 'statsmodels.tsa.arima_model.ARMA',\n",
      "                        FutureWarning)\n",
      "warnings.filterwarnings('ignore', 'statsmodels.tsa.arima_model.ARIMA',\n",
      "                        FutureWarning)\n",
      "\n",
      "  warnings.warn(ARIMA_DEPRECATION_WARN, FutureWarning)\n",
      "C:\\Users\\seans\\Anaconda3\\envs\\qtw\\lib\\site-packages\\statsmodels\\tsa\\tsatools.py:701: RuntimeWarning: overflow encountered in exp\n",
      "  newparams = ((1-np.exp(-params))/(1+np.exp(-params))).copy()\n",
      "C:\\Users\\seans\\Anaconda3\\envs\\qtw\\lib\\site-packages\\statsmodels\\tsa\\tsatools.py:701: RuntimeWarning: invalid value encountered in true_divide\n",
      "  newparams = ((1-np.exp(-params))/(1+np.exp(-params))).copy()\n",
      "C:\\Users\\seans\\Anaconda3\\envs\\qtw\\lib\\site-packages\\statsmodels\\tsa\\tsatools.py:702: RuntimeWarning: overflow encountered in exp\n",
      "  tmp = ((1-np.exp(-params))/(1+np.exp(-params))).copy()\n",
      "C:\\Users\\seans\\Anaconda3\\envs\\qtw\\lib\\site-packages\\statsmodels\\tsa\\tsatools.py:702: RuntimeWarning: invalid value encountered in true_divide\n",
      "  tmp = ((1-np.exp(-params))/(1+np.exp(-params))).copy()\n",
      "C:\\Users\\seans\\Anaconda3\\envs\\qtw\\lib\\site-packages\\statsmodels\\base\\model.py:548: HessianInversionWarning: Inverting hessian failed, no bse or cov_params available\n",
      "  'available', HessianInversionWarning)\n",
      "C:\\Users\\seans\\Anaconda3\\envs\\qtw\\lib\\site-packages\\statsmodels\\base\\model.py:568: ConvergenceWarning: Maximum Likelihood optimization failed to converge. Check mle_retvals\n",
      "  ConvergenceWarning)\n",
      "C:\\Users\\seans\\Anaconda3\\envs\\qtw\\lib\\site-packages\\statsmodels\\tsa\\arima_model.py:472: FutureWarning: \n",
      "statsmodels.tsa.arima_model.ARMA and statsmodels.tsa.arima_model.ARIMA have\n",
      "been deprecated in favor of statsmodels.tsa.arima.model.ARIMA (note the .\n",
      "between arima and model) and\n",
      "statsmodels.tsa.SARIMAX. These will be removed after the 0.12 release.\n",
      "\n",
      "statsmodels.tsa.arima.model.ARIMA makes use of the statespace framework and\n",
      "is both well tested and maintained.\n",
      "\n",
      "To silence this warning and continue using ARMA and ARIMA until they are\n",
      "removed, use:\n",
      "\n",
      "import warnings\n",
      "warnings.filterwarnings('ignore', 'statsmodels.tsa.arima_model.ARMA',\n",
      "                        FutureWarning)\n",
      "warnings.filterwarnings('ignore', 'statsmodels.tsa.arima_model.ARIMA',\n",
      "                        FutureWarning)\n",
      "\n",
      "  warnings.warn(ARIMA_DEPRECATION_WARN, FutureWarning)\n",
      "C:\\Users\\seans\\Anaconda3\\envs\\qtw\\lib\\site-packages\\statsmodels\\tsa\\tsatools.py:701: RuntimeWarning: overflow encountered in exp\n",
      "  newparams = ((1-np.exp(-params))/(1+np.exp(-params))).copy()\n",
      "C:\\Users\\seans\\Anaconda3\\envs\\qtw\\lib\\site-packages\\statsmodels\\tsa\\tsatools.py:701: RuntimeWarning: invalid value encountered in true_divide\n",
      "  newparams = ((1-np.exp(-params))/(1+np.exp(-params))).copy()\n",
      "C:\\Users\\seans\\Anaconda3\\envs\\qtw\\lib\\site-packages\\statsmodels\\tsa\\tsatools.py:702: RuntimeWarning: overflow encountered in exp\n",
      "  tmp = ((1-np.exp(-params))/(1+np.exp(-params))).copy()\n",
      "C:\\Users\\seans\\Anaconda3\\envs\\qtw\\lib\\site-packages\\statsmodels\\tsa\\tsatools.py:702: RuntimeWarning: invalid value encountered in true_divide\n",
      "  tmp = ((1-np.exp(-params))/(1+np.exp(-params))).copy()\n",
      "C:\\Users\\seans\\Anaconda3\\envs\\qtw\\lib\\site-packages\\statsmodels\\base\\model.py:548: HessianInversionWarning: Inverting hessian failed, no bse or cov_params available\n",
      "  'available', HessianInversionWarning)\n",
      "C:\\Users\\seans\\Anaconda3\\envs\\qtw\\lib\\site-packages\\statsmodels\\tsa\\arima_model.py:472: FutureWarning: \n",
      "statsmodels.tsa.arima_model.ARMA and statsmodels.tsa.arima_model.ARIMA have\n",
      "been deprecated in favor of statsmodels.tsa.arima.model.ARIMA (note the .\n",
      "between arima and model) and\n",
      "statsmodels.tsa.SARIMAX. These will be removed after the 0.12 release.\n",
      "\n",
      "statsmodels.tsa.arima.model.ARIMA makes use of the statespace framework and\n",
      "is both well tested and maintained.\n",
      "\n",
      "To silence this warning and continue using ARMA and ARIMA until they are\n",
      "removed, use:\n",
      "\n",
      "import warnings\n",
      "warnings.filterwarnings('ignore', 'statsmodels.tsa.arima_model.ARMA',\n",
      "                        FutureWarning)\n",
      "warnings.filterwarnings('ignore', 'statsmodels.tsa.arima_model.ARIMA',\n",
      "                        FutureWarning)\n",
      "\n",
      "  warnings.warn(ARIMA_DEPRECATION_WARN, FutureWarning)\n",
      "C:\\Users\\seans\\Anaconda3\\envs\\qtw\\lib\\site-packages\\statsmodels\\tsa\\tsatools.py:701: RuntimeWarning: overflow encountered in exp\n",
      "  newparams = ((1-np.exp(-params))/(1+np.exp(-params))).copy()\n",
      "C:\\Users\\seans\\Anaconda3\\envs\\qtw\\lib\\site-packages\\statsmodels\\tsa\\tsatools.py:701: RuntimeWarning: invalid value encountered in true_divide\n",
      "  newparams = ((1-np.exp(-params))/(1+np.exp(-params))).copy()\n",
      "C:\\Users\\seans\\Anaconda3\\envs\\qtw\\lib\\site-packages\\statsmodels\\tsa\\tsatools.py:702: RuntimeWarning: overflow encountered in exp\n",
      "  tmp = ((1-np.exp(-params))/(1+np.exp(-params))).copy()\n",
      "C:\\Users\\seans\\Anaconda3\\envs\\qtw\\lib\\site-packages\\statsmodels\\tsa\\tsatools.py:702: RuntimeWarning: invalid value encountered in true_divide\n",
      "  tmp = ((1-np.exp(-params))/(1+np.exp(-params))).copy()\n",
      "C:\\Users\\seans\\Anaconda3\\envs\\qtw\\lib\\site-packages\\statsmodels\\base\\model.py:548: HessianInversionWarning: Inverting hessian failed, no bse or cov_params available\n",
      "  'available', HessianInversionWarning)\n",
      "C:\\Users\\seans\\Anaconda3\\envs\\qtw\\lib\\site-packages\\statsmodels\\regression\\linear_model.py:1434: RuntimeWarning: invalid value encountered in sqrt\n",
      "  return rho, np.sqrt(sigmasq)\n"
     ]
    },
    {
     "name": "stderr",
     "output_type": "stream",
     "text": [
      "C:\\Users\\seans\\Anaconda3\\envs\\qtw\\lib\\site-packages\\statsmodels\\base\\model.py:548: HessianInversionWarning: Inverting hessian failed, no bse or cov_params available\n",
      "  'available', HessianInversionWarning)\n",
      "C:\\Users\\seans\\Anaconda3\\envs\\qtw\\lib\\site-packages\\statsmodels\\base\\model.py:568: ConvergenceWarning: Maximum Likelihood optimization failed to converge. Check mle_retvals\n",
      "  ConvergenceWarning)\n",
      "C:\\Users\\seans\\Anaconda3\\envs\\qtw\\lib\\site-packages\\statsmodels\\tsa\\arima_model.py:472: FutureWarning: \n",
      "statsmodels.tsa.arima_model.ARMA and statsmodels.tsa.arima_model.ARIMA have\n",
      "been deprecated in favor of statsmodels.tsa.arima.model.ARIMA (note the .\n",
      "between arima and model) and\n",
      "statsmodels.tsa.SARIMAX. These will be removed after the 0.12 release.\n",
      "\n",
      "statsmodels.tsa.arima.model.ARIMA makes use of the statespace framework and\n",
      "is both well tested and maintained.\n",
      "\n",
      "To silence this warning and continue using ARMA and ARIMA until they are\n",
      "removed, use:\n",
      "\n",
      "import warnings\n",
      "warnings.filterwarnings('ignore', 'statsmodels.tsa.arima_model.ARMA',\n",
      "                        FutureWarning)\n",
      "warnings.filterwarnings('ignore', 'statsmodels.tsa.arima_model.ARIMA',\n",
      "                        FutureWarning)\n",
      "\n",
      "  warnings.warn(ARIMA_DEPRECATION_WARN, FutureWarning)\n",
      "C:\\Users\\seans\\Anaconda3\\envs\\qtw\\lib\\site-packages\\statsmodels\\tsa\\tsatools.py:701: RuntimeWarning: overflow encountered in exp\n",
      "  newparams = ((1-np.exp(-params))/(1+np.exp(-params))).copy()\n",
      "C:\\Users\\seans\\Anaconda3\\envs\\qtw\\lib\\site-packages\\statsmodels\\tsa\\tsatools.py:701: RuntimeWarning: invalid value encountered in true_divide\n",
      "  newparams = ((1-np.exp(-params))/(1+np.exp(-params))).copy()\n",
      "C:\\Users\\seans\\Anaconda3\\envs\\qtw\\lib\\site-packages\\statsmodels\\tsa\\tsatools.py:702: RuntimeWarning: overflow encountered in exp\n",
      "  tmp = ((1-np.exp(-params))/(1+np.exp(-params))).copy()\n",
      "C:\\Users\\seans\\Anaconda3\\envs\\qtw\\lib\\site-packages\\statsmodels\\tsa\\tsatools.py:702: RuntimeWarning: invalid value encountered in true_divide\n",
      "  tmp = ((1-np.exp(-params))/(1+np.exp(-params))).copy()\n",
      "C:\\Users\\seans\\Anaconda3\\envs\\qtw\\lib\\site-packages\\statsmodels\\base\\model.py:548: HessianInversionWarning: Inverting hessian failed, no bse or cov_params available\n",
      "  'available', HessianInversionWarning)\n",
      "C:\\Users\\seans\\Anaconda3\\envs\\qtw\\lib\\site-packages\\statsmodels\\base\\model.py:568: ConvergenceWarning: Maximum Likelihood optimization failed to converge. Check mle_retvals\n",
      "  ConvergenceWarning)\n",
      "C:\\Users\\seans\\Anaconda3\\envs\\qtw\\lib\\site-packages\\statsmodels\\tsa\\arima_model.py:472: FutureWarning: \n",
      "statsmodels.tsa.arima_model.ARMA and statsmodels.tsa.arima_model.ARIMA have\n",
      "been deprecated in favor of statsmodels.tsa.arima.model.ARIMA (note the .\n",
      "between arima and model) and\n",
      "statsmodels.tsa.SARIMAX. These will be removed after the 0.12 release.\n",
      "\n",
      "statsmodels.tsa.arima.model.ARIMA makes use of the statespace framework and\n",
      "is both well tested and maintained.\n",
      "\n",
      "To silence this warning and continue using ARMA and ARIMA until they are\n",
      "removed, use:\n",
      "\n",
      "import warnings\n",
      "warnings.filterwarnings('ignore', 'statsmodels.tsa.arima_model.ARMA',\n",
      "                        FutureWarning)\n",
      "warnings.filterwarnings('ignore', 'statsmodels.tsa.arima_model.ARIMA',\n",
      "                        FutureWarning)\n",
      "\n",
      "  warnings.warn(ARIMA_DEPRECATION_WARN, FutureWarning)\n",
      "C:\\Users\\seans\\Anaconda3\\envs\\qtw\\lib\\site-packages\\statsmodels\\tsa\\tsatools.py:701: RuntimeWarning: overflow encountered in exp\n",
      "  newparams = ((1-np.exp(-params))/(1+np.exp(-params))).copy()\n",
      "C:\\Users\\seans\\Anaconda3\\envs\\qtw\\lib\\site-packages\\statsmodels\\tsa\\tsatools.py:701: RuntimeWarning: invalid value encountered in true_divide\n",
      "  newparams = ((1-np.exp(-params))/(1+np.exp(-params))).copy()\n",
      "C:\\Users\\seans\\Anaconda3\\envs\\qtw\\lib\\site-packages\\statsmodels\\tsa\\tsatools.py:702: RuntimeWarning: overflow encountered in exp\n",
      "  tmp = ((1-np.exp(-params))/(1+np.exp(-params))).copy()\n",
      "C:\\Users\\seans\\Anaconda3\\envs\\qtw\\lib\\site-packages\\statsmodels\\tsa\\tsatools.py:702: RuntimeWarning: invalid value encountered in true_divide\n",
      "  tmp = ((1-np.exp(-params))/(1+np.exp(-params))).copy()\n",
      "C:\\Users\\seans\\Anaconda3\\envs\\qtw\\lib\\site-packages\\statsmodels\\base\\model.py:548: HessianInversionWarning: Inverting hessian failed, no bse or cov_params available\n",
      "  'available', HessianInversionWarning)\n",
      "C:\\Users\\seans\\Anaconda3\\envs\\qtw\\lib\\site-packages\\statsmodels\\base\\model.py:568: ConvergenceWarning: Maximum Likelihood optimization failed to converge. Check mle_retvals\n",
      "  ConvergenceWarning)\n",
      "C:\\Users\\seans\\Anaconda3\\envs\\qtw\\lib\\site-packages\\statsmodels\\tsa\\arima_model.py:472: FutureWarning: \n",
      "statsmodels.tsa.arima_model.ARMA and statsmodels.tsa.arima_model.ARIMA have\n",
      "been deprecated in favor of statsmodels.tsa.arima.model.ARIMA (note the .\n",
      "between arima and model) and\n",
      "statsmodels.tsa.SARIMAX. These will be removed after the 0.12 release.\n",
      "\n",
      "statsmodels.tsa.arima.model.ARIMA makes use of the statespace framework and\n",
      "is both well tested and maintained.\n",
      "\n",
      "To silence this warning and continue using ARMA and ARIMA until they are\n",
      "removed, use:\n",
      "\n",
      "import warnings\n",
      "warnings.filterwarnings('ignore', 'statsmodels.tsa.arima_model.ARMA',\n",
      "                        FutureWarning)\n",
      "warnings.filterwarnings('ignore', 'statsmodels.tsa.arima_model.ARIMA',\n",
      "                        FutureWarning)\n",
      "\n",
      "  warnings.warn(ARIMA_DEPRECATION_WARN, FutureWarning)\n",
      "C:\\Users\\seans\\Anaconda3\\envs\\qtw\\lib\\site-packages\\statsmodels\\tsa\\tsatools.py:701: RuntimeWarning: overflow encountered in exp\n",
      "  newparams = ((1-np.exp(-params))/(1+np.exp(-params))).copy()\n",
      "C:\\Users\\seans\\Anaconda3\\envs\\qtw\\lib\\site-packages\\statsmodels\\tsa\\tsatools.py:701: RuntimeWarning: invalid value encountered in true_divide\n",
      "  newparams = ((1-np.exp(-params))/(1+np.exp(-params))).copy()\n",
      "C:\\Users\\seans\\Anaconda3\\envs\\qtw\\lib\\site-packages\\statsmodels\\tsa\\tsatools.py:702: RuntimeWarning: overflow encountered in exp\n",
      "  tmp = ((1-np.exp(-params))/(1+np.exp(-params))).copy()\n",
      "C:\\Users\\seans\\Anaconda3\\envs\\qtw\\lib\\site-packages\\statsmodels\\tsa\\tsatools.py:702: RuntimeWarning: invalid value encountered in true_divide\n",
      "  tmp = ((1-np.exp(-params))/(1+np.exp(-params))).copy()\n",
      "C:\\Users\\seans\\Anaconda3\\envs\\qtw\\lib\\site-packages\\statsmodels\\base\\model.py:548: HessianInversionWarning: Inverting hessian failed, no bse or cov_params available\n",
      "  'available', HessianInversionWarning)\n",
      "C:\\Users\\seans\\Anaconda3\\envs\\qtw\\lib\\site-packages\\statsmodels\\base\\model.py:568: ConvergenceWarning: Maximum Likelihood optimization failed to converge. Check mle_retvals\n",
      "  ConvergenceWarning)\n",
      "C:\\Users\\seans\\Anaconda3\\envs\\qtw\\lib\\site-packages\\statsmodels\\tsa\\arima_model.py:472: FutureWarning: \n",
      "statsmodels.tsa.arima_model.ARMA and statsmodels.tsa.arima_model.ARIMA have\n",
      "been deprecated in favor of statsmodels.tsa.arima.model.ARIMA (note the .\n",
      "between arima and model) and\n",
      "statsmodels.tsa.SARIMAX. These will be removed after the 0.12 release.\n",
      "\n",
      "statsmodels.tsa.arima.model.ARIMA makes use of the statespace framework and\n",
      "is both well tested and maintained.\n",
      "\n",
      "To silence this warning and continue using ARMA and ARIMA until they are\n",
      "removed, use:\n",
      "\n",
      "import warnings\n",
      "warnings.filterwarnings('ignore', 'statsmodels.tsa.arima_model.ARMA',\n",
      "                        FutureWarning)\n",
      "warnings.filterwarnings('ignore', 'statsmodels.tsa.arima_model.ARIMA',\n",
      "                        FutureWarning)\n",
      "\n",
      "  warnings.warn(ARIMA_DEPRECATION_WARN, FutureWarning)\n",
      "C:\\Users\\seans\\Anaconda3\\envs\\qtw\\lib\\site-packages\\statsmodels\\tsa\\tsatools.py:701: RuntimeWarning: overflow encountered in exp\n",
      "  newparams = ((1-np.exp(-params))/(1+np.exp(-params))).copy()\n",
      "C:\\Users\\seans\\Anaconda3\\envs\\qtw\\lib\\site-packages\\statsmodels\\tsa\\tsatools.py:701: RuntimeWarning: invalid value encountered in true_divide\n",
      "  newparams = ((1-np.exp(-params))/(1+np.exp(-params))).copy()\n",
      "C:\\Users\\seans\\Anaconda3\\envs\\qtw\\lib\\site-packages\\statsmodels\\tsa\\tsatools.py:702: RuntimeWarning: overflow encountered in exp\n",
      "  tmp = ((1-np.exp(-params))/(1+np.exp(-params))).copy()\n",
      "C:\\Users\\seans\\Anaconda3\\envs\\qtw\\lib\\site-packages\\statsmodels\\tsa\\tsatools.py:702: RuntimeWarning: invalid value encountered in true_divide\n",
      "  tmp = ((1-np.exp(-params))/(1+np.exp(-params))).copy()\n",
      "C:\\Users\\seans\\Anaconda3\\envs\\qtw\\lib\\site-packages\\statsmodels\\base\\model.py:548: HessianInversionWarning: Inverting hessian failed, no bse or cov_params available\n",
      "  'available', HessianInversionWarning)\n",
      "C:\\Users\\seans\\Anaconda3\\envs\\qtw\\lib\\site-packages\\statsmodels\\base\\model.py:568: ConvergenceWarning: Maximum Likelihood optimization failed to converge. Check mle_retvals\n",
      "  ConvergenceWarning)\n",
      "C:\\Users\\seans\\Anaconda3\\envs\\qtw\\lib\\site-packages\\statsmodels\\tsa\\arima_model.py:472: FutureWarning: \n",
      "statsmodels.tsa.arima_model.ARMA and statsmodels.tsa.arima_model.ARIMA have\n",
      "been deprecated in favor of statsmodels.tsa.arima.model.ARIMA (note the .\n",
      "between arima and model) and\n",
      "statsmodels.tsa.SARIMAX. These will be removed after the 0.12 release.\n",
      "\n",
      "statsmodels.tsa.arima.model.ARIMA makes use of the statespace framework and\n",
      "is both well tested and maintained.\n",
      "\n",
      "To silence this warning and continue using ARMA and ARIMA until they are\n",
      "removed, use:\n",
      "\n",
      "import warnings\n",
      "warnings.filterwarnings('ignore', 'statsmodels.tsa.arima_model.ARMA',\n",
      "                        FutureWarning)\n",
      "warnings.filterwarnings('ignore', 'statsmodels.tsa.arima_model.ARIMA',\n",
      "                        FutureWarning)\n",
      "\n",
      "  warnings.warn(ARIMA_DEPRECATION_WARN, FutureWarning)\n"
     ]
    },
    {
     "name": "stderr",
     "output_type": "stream",
     "text": [
      "C:\\Users\\seans\\Anaconda3\\envs\\qtw\\lib\\site-packages\\statsmodels\\tsa\\tsatools.py:701: RuntimeWarning: overflow encountered in exp\n",
      "  newparams = ((1-np.exp(-params))/(1+np.exp(-params))).copy()\n",
      "C:\\Users\\seans\\Anaconda3\\envs\\qtw\\lib\\site-packages\\statsmodels\\tsa\\tsatools.py:701: RuntimeWarning: invalid value encountered in true_divide\n",
      "  newparams = ((1-np.exp(-params))/(1+np.exp(-params))).copy()\n",
      "C:\\Users\\seans\\Anaconda3\\envs\\qtw\\lib\\site-packages\\statsmodels\\tsa\\tsatools.py:702: RuntimeWarning: overflow encountered in exp\n",
      "  tmp = ((1-np.exp(-params))/(1+np.exp(-params))).copy()\n",
      "C:\\Users\\seans\\Anaconda3\\envs\\qtw\\lib\\site-packages\\statsmodels\\tsa\\tsatools.py:702: RuntimeWarning: invalid value encountered in true_divide\n",
      "  tmp = ((1-np.exp(-params))/(1+np.exp(-params))).copy()\n",
      "C:\\Users\\seans\\Anaconda3\\envs\\qtw\\lib\\site-packages\\statsmodels\\base\\model.py:548: HessianInversionWarning: Inverting hessian failed, no bse or cov_params available\n",
      "  'available', HessianInversionWarning)\n",
      "C:\\Users\\seans\\Anaconda3\\envs\\qtw\\lib\\site-packages\\statsmodels\\base\\model.py:568: ConvergenceWarning: Maximum Likelihood optimization failed to converge. Check mle_retvals\n",
      "  ConvergenceWarning)\n",
      "C:\\Users\\seans\\Anaconda3\\envs\\qtw\\lib\\site-packages\\statsmodels\\tsa\\arima_model.py:472: FutureWarning: \n",
      "statsmodels.tsa.arima_model.ARMA and statsmodels.tsa.arima_model.ARIMA have\n",
      "been deprecated in favor of statsmodels.tsa.arima.model.ARIMA (note the .\n",
      "between arima and model) and\n",
      "statsmodels.tsa.SARIMAX. These will be removed after the 0.12 release.\n",
      "\n",
      "statsmodels.tsa.arima.model.ARIMA makes use of the statespace framework and\n",
      "is both well tested and maintained.\n",
      "\n",
      "To silence this warning and continue using ARMA and ARIMA until they are\n",
      "removed, use:\n",
      "\n",
      "import warnings\n",
      "warnings.filterwarnings('ignore', 'statsmodels.tsa.arima_model.ARMA',\n",
      "                        FutureWarning)\n",
      "warnings.filterwarnings('ignore', 'statsmodels.tsa.arima_model.ARIMA',\n",
      "                        FutureWarning)\n",
      "\n",
      "  warnings.warn(ARIMA_DEPRECATION_WARN, FutureWarning)\n",
      "C:\\Users\\seans\\Anaconda3\\envs\\qtw\\lib\\site-packages\\statsmodels\\base\\model.py:548: HessianInversionWarning: Inverting hessian failed, no bse or cov_params available\n",
      "  'available', HessianInversionWarning)\n",
      "C:\\Users\\seans\\Anaconda3\\envs\\qtw\\lib\\site-packages\\statsmodels\\base\\model.py:548: HessianInversionWarning: Inverting hessian failed, no bse or cov_params available\n",
      "  'available', HessianInversionWarning)\n",
      "C:\\Users\\seans\\Anaconda3\\envs\\qtw\\lib\\site-packages\\statsmodels\\base\\model.py:568: ConvergenceWarning: Maximum Likelihood optimization failed to converge. Check mle_retvals\n",
      "  ConvergenceWarning)\n",
      "C:\\Users\\seans\\Anaconda3\\envs\\qtw\\lib\\site-packages\\statsmodels\\tsa\\arima_model.py:472: FutureWarning: \n",
      "statsmodels.tsa.arima_model.ARMA and statsmodels.tsa.arima_model.ARIMA have\n",
      "been deprecated in favor of statsmodels.tsa.arima.model.ARIMA (note the .\n",
      "between arima and model) and\n",
      "statsmodels.tsa.SARIMAX. These will be removed after the 0.12 release.\n",
      "\n",
      "statsmodels.tsa.arima.model.ARIMA makes use of the statespace framework and\n",
      "is both well tested and maintained.\n",
      "\n",
      "To silence this warning and continue using ARMA and ARIMA until they are\n",
      "removed, use:\n",
      "\n",
      "import warnings\n",
      "warnings.filterwarnings('ignore', 'statsmodels.tsa.arima_model.ARMA',\n",
      "                        FutureWarning)\n",
      "warnings.filterwarnings('ignore', 'statsmodels.tsa.arima_model.ARIMA',\n",
      "                        FutureWarning)\n",
      "\n",
      "  warnings.warn(ARIMA_DEPRECATION_WARN, FutureWarning)\n",
      "C:\\Users\\seans\\Anaconda3\\envs\\qtw\\lib\\site-packages\\statsmodels\\tsa\\tsatools.py:701: RuntimeWarning: overflow encountered in exp\n",
      "  newparams = ((1-np.exp(-params))/(1+np.exp(-params))).copy()\n",
      "C:\\Users\\seans\\Anaconda3\\envs\\qtw\\lib\\site-packages\\statsmodels\\tsa\\tsatools.py:701: RuntimeWarning: invalid value encountered in true_divide\n",
      "  newparams = ((1-np.exp(-params))/(1+np.exp(-params))).copy()\n",
      "C:\\Users\\seans\\Anaconda3\\envs\\qtw\\lib\\site-packages\\statsmodels\\tsa\\tsatools.py:702: RuntimeWarning: overflow encountered in exp\n",
      "  tmp = ((1-np.exp(-params))/(1+np.exp(-params))).copy()\n",
      "C:\\Users\\seans\\Anaconda3\\envs\\qtw\\lib\\site-packages\\statsmodels\\tsa\\tsatools.py:702: RuntimeWarning: invalid value encountered in true_divide\n",
      "  tmp = ((1-np.exp(-params))/(1+np.exp(-params))).copy()\n",
      "C:\\Users\\seans\\Anaconda3\\envs\\qtw\\lib\\site-packages\\statsmodels\\base\\model.py:548: HessianInversionWarning: Inverting hessian failed, no bse or cov_params available\n",
      "  'available', HessianInversionWarning)\n",
      "C:\\Users\\seans\\Anaconda3\\envs\\qtw\\lib\\site-packages\\statsmodels\\base\\model.py:568: ConvergenceWarning: Maximum Likelihood optimization failed to converge. Check mle_retvals\n",
      "  ConvergenceWarning)\n",
      "C:\\Users\\seans\\Anaconda3\\envs\\qtw\\lib\\site-packages\\statsmodels\\tsa\\arima_model.py:472: FutureWarning: \n",
      "statsmodels.tsa.arima_model.ARMA and statsmodels.tsa.arima_model.ARIMA have\n",
      "been deprecated in favor of statsmodels.tsa.arima.model.ARIMA (note the .\n",
      "between arima and model) and\n",
      "statsmodels.tsa.SARIMAX. These will be removed after the 0.12 release.\n",
      "\n",
      "statsmodels.tsa.arima.model.ARIMA makes use of the statespace framework and\n",
      "is both well tested and maintained.\n",
      "\n",
      "To silence this warning and continue using ARMA and ARIMA until they are\n",
      "removed, use:\n",
      "\n",
      "import warnings\n",
      "warnings.filterwarnings('ignore', 'statsmodels.tsa.arima_model.ARMA',\n",
      "                        FutureWarning)\n",
      "warnings.filterwarnings('ignore', 'statsmodels.tsa.arima_model.ARIMA',\n",
      "                        FutureWarning)\n",
      "\n",
      "  warnings.warn(ARIMA_DEPRECATION_WARN, FutureWarning)\n",
      "C:\\Users\\seans\\Anaconda3\\envs\\qtw\\lib\\site-packages\\statsmodels\\tsa\\tsatools.py:701: RuntimeWarning: overflow encountered in exp\n",
      "  newparams = ((1-np.exp(-params))/(1+np.exp(-params))).copy()\n",
      "C:\\Users\\seans\\Anaconda3\\envs\\qtw\\lib\\site-packages\\statsmodels\\tsa\\tsatools.py:701: RuntimeWarning: invalid value encountered in true_divide\n",
      "  newparams = ((1-np.exp(-params))/(1+np.exp(-params))).copy()\n",
      "C:\\Users\\seans\\Anaconda3\\envs\\qtw\\lib\\site-packages\\statsmodels\\tsa\\tsatools.py:702: RuntimeWarning: overflow encountered in exp\n",
      "  tmp = ((1-np.exp(-params))/(1+np.exp(-params))).copy()\n",
      "C:\\Users\\seans\\Anaconda3\\envs\\qtw\\lib\\site-packages\\statsmodels\\tsa\\tsatools.py:702: RuntimeWarning: invalid value encountered in true_divide\n",
      "  tmp = ((1-np.exp(-params))/(1+np.exp(-params))).copy()\n",
      "C:\\Users\\seans\\Anaconda3\\envs\\qtw\\lib\\site-packages\\statsmodels\\base\\model.py:548: HessianInversionWarning: Inverting hessian failed, no bse or cov_params available\n",
      "  'available', HessianInversionWarning)\n",
      "C:\\Users\\seans\\Anaconda3\\envs\\qtw\\lib\\site-packages\\statsmodels\\base\\model.py:568: ConvergenceWarning: Maximum Likelihood optimization failed to converge. Check mle_retvals\n",
      "  ConvergenceWarning)\n",
      "C:\\Users\\seans\\Anaconda3\\envs\\qtw\\lib\\site-packages\\statsmodels\\tsa\\arima_model.py:472: FutureWarning: \n",
      "statsmodels.tsa.arima_model.ARMA and statsmodels.tsa.arima_model.ARIMA have\n",
      "been deprecated in favor of statsmodels.tsa.arima.model.ARIMA (note the .\n",
      "between arima and model) and\n",
      "statsmodels.tsa.SARIMAX. These will be removed after the 0.12 release.\n",
      "\n",
      "statsmodels.tsa.arima.model.ARIMA makes use of the statespace framework and\n",
      "is both well tested and maintained.\n",
      "\n",
      "To silence this warning and continue using ARMA and ARIMA until they are\n",
      "removed, use:\n",
      "\n",
      "import warnings\n",
      "warnings.filterwarnings('ignore', 'statsmodels.tsa.arima_model.ARMA',\n",
      "                        FutureWarning)\n",
      "warnings.filterwarnings('ignore', 'statsmodels.tsa.arima_model.ARIMA',\n",
      "                        FutureWarning)\n",
      "\n",
      "  warnings.warn(ARIMA_DEPRECATION_WARN, FutureWarning)\n",
      "C:\\Users\\seans\\Anaconda3\\envs\\qtw\\lib\\site-packages\\statsmodels\\tsa\\tsatools.py:701: RuntimeWarning: overflow encountered in exp\n",
      "  newparams = ((1-np.exp(-params))/(1+np.exp(-params))).copy()\n",
      "C:\\Users\\seans\\Anaconda3\\envs\\qtw\\lib\\site-packages\\statsmodels\\tsa\\tsatools.py:701: RuntimeWarning: invalid value encountered in true_divide\n",
      "  newparams = ((1-np.exp(-params))/(1+np.exp(-params))).copy()\n",
      "C:\\Users\\seans\\Anaconda3\\envs\\qtw\\lib\\site-packages\\statsmodels\\tsa\\tsatools.py:702: RuntimeWarning: overflow encountered in exp\n",
      "  tmp = ((1-np.exp(-params))/(1+np.exp(-params))).copy()\n",
      "C:\\Users\\seans\\Anaconda3\\envs\\qtw\\lib\\site-packages\\statsmodels\\tsa\\tsatools.py:702: RuntimeWarning: invalid value encountered in true_divide\n",
      "  tmp = ((1-np.exp(-params))/(1+np.exp(-params))).copy()\n"
     ]
    },
    {
     "name": "stderr",
     "output_type": "stream",
     "text": [
      "C:\\Users\\seans\\Anaconda3\\envs\\qtw\\lib\\site-packages\\statsmodels\\base\\model.py:548: HessianInversionWarning: Inverting hessian failed, no bse or cov_params available\n",
      "  'available', HessianInversionWarning)\n",
      "C:\\Users\\seans\\Anaconda3\\envs\\qtw\\lib\\site-packages\\statsmodels\\base\\model.py:568: ConvergenceWarning: Maximum Likelihood optimization failed to converge. Check mle_retvals\n",
      "  ConvergenceWarning)\n",
      "C:\\Users\\seans\\Anaconda3\\envs\\qtw\\lib\\site-packages\\statsmodels\\tsa\\arima_model.py:472: FutureWarning: \n",
      "statsmodels.tsa.arima_model.ARMA and statsmodels.tsa.arima_model.ARIMA have\n",
      "been deprecated in favor of statsmodels.tsa.arima.model.ARIMA (note the .\n",
      "between arima and model) and\n",
      "statsmodels.tsa.SARIMAX. These will be removed after the 0.12 release.\n",
      "\n",
      "statsmodels.tsa.arima.model.ARIMA makes use of the statespace framework and\n",
      "is both well tested and maintained.\n",
      "\n",
      "To silence this warning and continue using ARMA and ARIMA until they are\n",
      "removed, use:\n",
      "\n",
      "import warnings\n",
      "warnings.filterwarnings('ignore', 'statsmodels.tsa.arima_model.ARMA',\n",
      "                        FutureWarning)\n",
      "warnings.filterwarnings('ignore', 'statsmodels.tsa.arima_model.ARIMA',\n",
      "                        FutureWarning)\n",
      "\n",
      "  warnings.warn(ARIMA_DEPRECATION_WARN, FutureWarning)\n",
      "C:\\Users\\seans\\Anaconda3\\envs\\qtw\\lib\\site-packages\\statsmodels\\tsa\\tsatools.py:701: RuntimeWarning: overflow encountered in exp\n",
      "  newparams = ((1-np.exp(-params))/(1+np.exp(-params))).copy()\n",
      "C:\\Users\\seans\\Anaconda3\\envs\\qtw\\lib\\site-packages\\statsmodels\\tsa\\tsatools.py:701: RuntimeWarning: invalid value encountered in true_divide\n",
      "  newparams = ((1-np.exp(-params))/(1+np.exp(-params))).copy()\n",
      "C:\\Users\\seans\\Anaconda3\\envs\\qtw\\lib\\site-packages\\statsmodels\\tsa\\tsatools.py:702: RuntimeWarning: overflow encountered in exp\n",
      "  tmp = ((1-np.exp(-params))/(1+np.exp(-params))).copy()\n",
      "C:\\Users\\seans\\Anaconda3\\envs\\qtw\\lib\\site-packages\\statsmodels\\tsa\\tsatools.py:702: RuntimeWarning: invalid value encountered in true_divide\n",
      "  tmp = ((1-np.exp(-params))/(1+np.exp(-params))).copy()\n",
      "C:\\Users\\seans\\Anaconda3\\envs\\qtw\\lib\\site-packages\\statsmodels\\base\\model.py:548: HessianInversionWarning: Inverting hessian failed, no bse or cov_params available\n",
      "  'available', HessianInversionWarning)\n",
      "C:\\Users\\seans\\Anaconda3\\envs\\qtw\\lib\\site-packages\\statsmodels\\base\\model.py:568: ConvergenceWarning: Maximum Likelihood optimization failed to converge. Check mle_retvals\n",
      "  ConvergenceWarning)\n",
      "C:\\Users\\seans\\Anaconda3\\envs\\qtw\\lib\\site-packages\\statsmodels\\tsa\\arima_model.py:472: FutureWarning: \n",
      "statsmodels.tsa.arima_model.ARMA and statsmodels.tsa.arima_model.ARIMA have\n",
      "been deprecated in favor of statsmodels.tsa.arima.model.ARIMA (note the .\n",
      "between arima and model) and\n",
      "statsmodels.tsa.SARIMAX. These will be removed after the 0.12 release.\n",
      "\n",
      "statsmodels.tsa.arima.model.ARIMA makes use of the statespace framework and\n",
      "is both well tested and maintained.\n",
      "\n",
      "To silence this warning and continue using ARMA and ARIMA until they are\n",
      "removed, use:\n",
      "\n",
      "import warnings\n",
      "warnings.filterwarnings('ignore', 'statsmodels.tsa.arima_model.ARMA',\n",
      "                        FutureWarning)\n",
      "warnings.filterwarnings('ignore', 'statsmodels.tsa.arima_model.ARIMA',\n",
      "                        FutureWarning)\n",
      "\n",
      "  warnings.warn(ARIMA_DEPRECATION_WARN, FutureWarning)\n",
      "C:\\Users\\seans\\Anaconda3\\envs\\qtw\\lib\\site-packages\\statsmodels\\tsa\\tsatools.py:701: RuntimeWarning: overflow encountered in exp\n",
      "  newparams = ((1-np.exp(-params))/(1+np.exp(-params))).copy()\n",
      "C:\\Users\\seans\\Anaconda3\\envs\\qtw\\lib\\site-packages\\statsmodels\\tsa\\tsatools.py:701: RuntimeWarning: invalid value encountered in true_divide\n",
      "  newparams = ((1-np.exp(-params))/(1+np.exp(-params))).copy()\n",
      "C:\\Users\\seans\\Anaconda3\\envs\\qtw\\lib\\site-packages\\statsmodels\\tsa\\tsatools.py:702: RuntimeWarning: overflow encountered in exp\n",
      "  tmp = ((1-np.exp(-params))/(1+np.exp(-params))).copy()\n",
      "C:\\Users\\seans\\Anaconda3\\envs\\qtw\\lib\\site-packages\\statsmodels\\tsa\\tsatools.py:702: RuntimeWarning: invalid value encountered in true_divide\n",
      "  tmp = ((1-np.exp(-params))/(1+np.exp(-params))).copy()\n",
      "C:\\Users\\seans\\Anaconda3\\envs\\qtw\\lib\\site-packages\\statsmodels\\base\\model.py:548: HessianInversionWarning: Inverting hessian failed, no bse or cov_params available\n",
      "  'available', HessianInversionWarning)\n",
      "C:\\Users\\seans\\Anaconda3\\envs\\qtw\\lib\\site-packages\\statsmodels\\base\\model.py:568: ConvergenceWarning: Maximum Likelihood optimization failed to converge. Check mle_retvals\n",
      "  ConvergenceWarning)\n",
      "C:\\Users\\seans\\Anaconda3\\envs\\qtw\\lib\\site-packages\\statsmodels\\tsa\\arima_model.py:472: FutureWarning: \n",
      "statsmodels.tsa.arima_model.ARMA and statsmodels.tsa.arima_model.ARIMA have\n",
      "been deprecated in favor of statsmodels.tsa.arima.model.ARIMA (note the .\n",
      "between arima and model) and\n",
      "statsmodels.tsa.SARIMAX. These will be removed after the 0.12 release.\n",
      "\n",
      "statsmodels.tsa.arima.model.ARIMA makes use of the statespace framework and\n",
      "is both well tested and maintained.\n",
      "\n",
      "To silence this warning and continue using ARMA and ARIMA until they are\n",
      "removed, use:\n",
      "\n",
      "import warnings\n",
      "warnings.filterwarnings('ignore', 'statsmodels.tsa.arima_model.ARMA',\n",
      "                        FutureWarning)\n",
      "warnings.filterwarnings('ignore', 'statsmodels.tsa.arima_model.ARIMA',\n",
      "                        FutureWarning)\n",
      "\n",
      "  warnings.warn(ARIMA_DEPRECATION_WARN, FutureWarning)\n",
      "C:\\Users\\seans\\Anaconda3\\envs\\qtw\\lib\\site-packages\\statsmodels\\tsa\\tsatools.py:701: RuntimeWarning: overflow encountered in exp\n",
      "  newparams = ((1-np.exp(-params))/(1+np.exp(-params))).copy()\n",
      "C:\\Users\\seans\\Anaconda3\\envs\\qtw\\lib\\site-packages\\statsmodels\\tsa\\tsatools.py:701: RuntimeWarning: invalid value encountered in true_divide\n",
      "  newparams = ((1-np.exp(-params))/(1+np.exp(-params))).copy()\n",
      "C:\\Users\\seans\\Anaconda3\\envs\\qtw\\lib\\site-packages\\statsmodels\\tsa\\tsatools.py:702: RuntimeWarning: overflow encountered in exp\n",
      "  tmp = ((1-np.exp(-params))/(1+np.exp(-params))).copy()\n",
      "C:\\Users\\seans\\Anaconda3\\envs\\qtw\\lib\\site-packages\\statsmodels\\tsa\\tsatools.py:702: RuntimeWarning: invalid value encountered in true_divide\n",
      "  tmp = ((1-np.exp(-params))/(1+np.exp(-params))).copy()\n",
      "C:\\Users\\seans\\Anaconda3\\envs\\qtw\\lib\\site-packages\\statsmodels\\base\\model.py:548: HessianInversionWarning: Inverting hessian failed, no bse or cov_params available\n",
      "  'available', HessianInversionWarning)\n",
      "C:\\Users\\seans\\Anaconda3\\envs\\qtw\\lib\\site-packages\\statsmodels\\base\\model.py:568: ConvergenceWarning: Maximum Likelihood optimization failed to converge. Check mle_retvals\n",
      "  ConvergenceWarning)\n",
      "C:\\Users\\seans\\Anaconda3\\envs\\qtw\\lib\\site-packages\\statsmodels\\regression\\linear_model.py:1434: RuntimeWarning: invalid value encountered in sqrt\n",
      "  return rho, np.sqrt(sigmasq)\n",
      "C:\\Users\\seans\\Anaconda3\\envs\\qtw\\lib\\site-packages\\statsmodels\\base\\model.py:548: HessianInversionWarning: Inverting hessian failed, no bse or cov_params available\n",
      "  'available', HessianInversionWarning)\n",
      "C:\\Users\\seans\\Anaconda3\\envs\\qtw\\lib\\site-packages\\statsmodels\\base\\model.py:568: ConvergenceWarning: Maximum Likelihood optimization failed to converge. Check mle_retvals\n",
      "  ConvergenceWarning)\n",
      "C:\\Users\\seans\\Anaconda3\\envs\\qtw\\lib\\site-packages\\statsmodels\\tsa\\arima_model.py:472: FutureWarning: \n",
      "statsmodels.tsa.arima_model.ARMA and statsmodels.tsa.arima_model.ARIMA have\n",
      "been deprecated in favor of statsmodels.tsa.arima.model.ARIMA (note the .\n",
      "between arima and model) and\n",
      "statsmodels.tsa.SARIMAX. These will be removed after the 0.12 release.\n",
      "\n",
      "statsmodels.tsa.arima.model.ARIMA makes use of the statespace framework and\n",
      "is both well tested and maintained.\n",
      "\n",
      "To silence this warning and continue using ARMA and ARIMA until they are\n",
      "removed, use:\n",
      "\n",
      "import warnings\n",
      "warnings.filterwarnings('ignore', 'statsmodels.tsa.arima_model.ARMA',\n",
      "                        FutureWarning)\n",
      "warnings.filterwarnings('ignore', 'statsmodels.tsa.arima_model.ARIMA',\n",
      "                        FutureWarning)\n",
      "\n",
      "  warnings.warn(ARIMA_DEPRECATION_WARN, FutureWarning)\n",
      "C:\\Users\\seans\\Anaconda3\\envs\\qtw\\lib\\site-packages\\statsmodels\\tsa\\tsatools.py:701: RuntimeWarning: overflow encountered in exp\n",
      "  newparams = ((1-np.exp(-params))/(1+np.exp(-params))).copy()\n",
      "C:\\Users\\seans\\Anaconda3\\envs\\qtw\\lib\\site-packages\\statsmodels\\tsa\\tsatools.py:701: RuntimeWarning: invalid value encountered in true_divide\n",
      "  newparams = ((1-np.exp(-params))/(1+np.exp(-params))).copy()\n",
      "C:\\Users\\seans\\Anaconda3\\envs\\qtw\\lib\\site-packages\\statsmodels\\tsa\\tsatools.py:702: RuntimeWarning: overflow encountered in exp\n",
      "  tmp = ((1-np.exp(-params))/(1+np.exp(-params))).copy()\n",
      "C:\\Users\\seans\\Anaconda3\\envs\\qtw\\lib\\site-packages\\statsmodels\\tsa\\tsatools.py:702: RuntimeWarning: invalid value encountered in true_divide\n",
      "  tmp = ((1-np.exp(-params))/(1+np.exp(-params))).copy()\n"
     ]
    },
    {
     "name": "stderr",
     "output_type": "stream",
     "text": [
      "C:\\Users\\seans\\Anaconda3\\envs\\qtw\\lib\\site-packages\\statsmodels\\base\\model.py:548: HessianInversionWarning: Inverting hessian failed, no bse or cov_params available\n",
      "  'available', HessianInversionWarning)\n",
      "C:\\Users\\seans\\Anaconda3\\envs\\qtw\\lib\\site-packages\\statsmodels\\base\\model.py:568: ConvergenceWarning: Maximum Likelihood optimization failed to converge. Check mle_retvals\n",
      "  ConvergenceWarning)\n",
      "C:\\Users\\seans\\Anaconda3\\envs\\qtw\\lib\\site-packages\\statsmodels\\tsa\\arima_model.py:472: FutureWarning: \n",
      "statsmodels.tsa.arima_model.ARMA and statsmodels.tsa.arima_model.ARIMA have\n",
      "been deprecated in favor of statsmodels.tsa.arima.model.ARIMA (note the .\n",
      "between arima and model) and\n",
      "statsmodels.tsa.SARIMAX. These will be removed after the 0.12 release.\n",
      "\n",
      "statsmodels.tsa.arima.model.ARIMA makes use of the statespace framework and\n",
      "is both well tested and maintained.\n",
      "\n",
      "To silence this warning and continue using ARMA and ARIMA until they are\n",
      "removed, use:\n",
      "\n",
      "import warnings\n",
      "warnings.filterwarnings('ignore', 'statsmodels.tsa.arima_model.ARMA',\n",
      "                        FutureWarning)\n",
      "warnings.filterwarnings('ignore', 'statsmodels.tsa.arima_model.ARIMA',\n",
      "                        FutureWarning)\n",
      "\n",
      "  warnings.warn(ARIMA_DEPRECATION_WARN, FutureWarning)\n",
      "C:\\Users\\seans\\Anaconda3\\envs\\qtw\\lib\\site-packages\\statsmodels\\tsa\\tsatools.py:701: RuntimeWarning: overflow encountered in exp\n",
      "  newparams = ((1-np.exp(-params))/(1+np.exp(-params))).copy()\n",
      "C:\\Users\\seans\\Anaconda3\\envs\\qtw\\lib\\site-packages\\statsmodels\\tsa\\tsatools.py:701: RuntimeWarning: invalid value encountered in true_divide\n",
      "  newparams = ((1-np.exp(-params))/(1+np.exp(-params))).copy()\n",
      "C:\\Users\\seans\\Anaconda3\\envs\\qtw\\lib\\site-packages\\statsmodels\\tsa\\tsatools.py:702: RuntimeWarning: overflow encountered in exp\n",
      "  tmp = ((1-np.exp(-params))/(1+np.exp(-params))).copy()\n",
      "C:\\Users\\seans\\Anaconda3\\envs\\qtw\\lib\\site-packages\\statsmodels\\tsa\\tsatools.py:702: RuntimeWarning: invalid value encountered in true_divide\n",
      "  tmp = ((1-np.exp(-params))/(1+np.exp(-params))).copy()\n",
      "C:\\Users\\seans\\Anaconda3\\envs\\qtw\\lib\\site-packages\\statsmodels\\base\\model.py:548: HessianInversionWarning: Inverting hessian failed, no bse or cov_params available\n",
      "  'available', HessianInversionWarning)\n",
      "C:\\Users\\seans\\Anaconda3\\envs\\qtw\\lib\\site-packages\\statsmodels\\base\\model.py:568: ConvergenceWarning: Maximum Likelihood optimization failed to converge. Check mle_retvals\n",
      "  ConvergenceWarning)\n",
      "C:\\Users\\seans\\Anaconda3\\envs\\qtw\\lib\\site-packages\\statsmodels\\tsa\\arima_model.py:472: FutureWarning: \n",
      "statsmodels.tsa.arima_model.ARMA and statsmodels.tsa.arima_model.ARIMA have\n",
      "been deprecated in favor of statsmodels.tsa.arima.model.ARIMA (note the .\n",
      "between arima and model) and\n",
      "statsmodels.tsa.SARIMAX. These will be removed after the 0.12 release.\n",
      "\n",
      "statsmodels.tsa.arima.model.ARIMA makes use of the statespace framework and\n",
      "is both well tested and maintained.\n",
      "\n",
      "To silence this warning and continue using ARMA and ARIMA until they are\n",
      "removed, use:\n",
      "\n",
      "import warnings\n",
      "warnings.filterwarnings('ignore', 'statsmodels.tsa.arima_model.ARMA',\n",
      "                        FutureWarning)\n",
      "warnings.filterwarnings('ignore', 'statsmodels.tsa.arima_model.ARIMA',\n",
      "                        FutureWarning)\n",
      "\n",
      "  warnings.warn(ARIMA_DEPRECATION_WARN, FutureWarning)\n",
      "C:\\Users\\seans\\Anaconda3\\envs\\qtw\\lib\\site-packages\\statsmodels\\tsa\\tsatools.py:701: RuntimeWarning: overflow encountered in exp\n",
      "  newparams = ((1-np.exp(-params))/(1+np.exp(-params))).copy()\n",
      "C:\\Users\\seans\\Anaconda3\\envs\\qtw\\lib\\site-packages\\statsmodels\\tsa\\tsatools.py:701: RuntimeWarning: invalid value encountered in true_divide\n",
      "  newparams = ((1-np.exp(-params))/(1+np.exp(-params))).copy()\n",
      "C:\\Users\\seans\\Anaconda3\\envs\\qtw\\lib\\site-packages\\statsmodels\\tsa\\tsatools.py:702: RuntimeWarning: overflow encountered in exp\n",
      "  tmp = ((1-np.exp(-params))/(1+np.exp(-params))).copy()\n",
      "C:\\Users\\seans\\Anaconda3\\envs\\qtw\\lib\\site-packages\\statsmodels\\tsa\\tsatools.py:702: RuntimeWarning: invalid value encountered in true_divide\n",
      "  tmp = ((1-np.exp(-params))/(1+np.exp(-params))).copy()\n",
      "C:\\Users\\seans\\Anaconda3\\envs\\qtw\\lib\\site-packages\\statsmodels\\base\\model.py:548: HessianInversionWarning: Inverting hessian failed, no bse or cov_params available\n",
      "  'available', HessianInversionWarning)\n",
      "C:\\Users\\seans\\Anaconda3\\envs\\qtw\\lib\\site-packages\\statsmodels\\base\\model.py:568: ConvergenceWarning: Maximum Likelihood optimization failed to converge. Check mle_retvals\n",
      "  ConvergenceWarning)\n",
      "C:\\Users\\seans\\Anaconda3\\envs\\qtw\\lib\\site-packages\\statsmodels\\tsa\\arima_model.py:472: FutureWarning: \n",
      "statsmodels.tsa.arima_model.ARMA and statsmodels.tsa.arima_model.ARIMA have\n",
      "been deprecated in favor of statsmodels.tsa.arima.model.ARIMA (note the .\n",
      "between arima and model) and\n",
      "statsmodels.tsa.SARIMAX. These will be removed after the 0.12 release.\n",
      "\n",
      "statsmodels.tsa.arima.model.ARIMA makes use of the statespace framework and\n",
      "is both well tested and maintained.\n",
      "\n",
      "To silence this warning and continue using ARMA and ARIMA until they are\n",
      "removed, use:\n",
      "\n",
      "import warnings\n",
      "warnings.filterwarnings('ignore', 'statsmodels.tsa.arima_model.ARMA',\n",
      "                        FutureWarning)\n",
      "warnings.filterwarnings('ignore', 'statsmodels.tsa.arima_model.ARIMA',\n",
      "                        FutureWarning)\n",
      "\n",
      "  warnings.warn(ARIMA_DEPRECATION_WARN, FutureWarning)\n",
      "C:\\Users\\seans\\Anaconda3\\envs\\qtw\\lib\\site-packages\\statsmodels\\tsa\\tsatools.py:701: RuntimeWarning: overflow encountered in exp\n",
      "  newparams = ((1-np.exp(-params))/(1+np.exp(-params))).copy()\n",
      "C:\\Users\\seans\\Anaconda3\\envs\\qtw\\lib\\site-packages\\statsmodels\\tsa\\tsatools.py:701: RuntimeWarning: invalid value encountered in true_divide\n",
      "  newparams = ((1-np.exp(-params))/(1+np.exp(-params))).copy()\n",
      "C:\\Users\\seans\\Anaconda3\\envs\\qtw\\lib\\site-packages\\statsmodels\\tsa\\tsatools.py:702: RuntimeWarning: overflow encountered in exp\n",
      "  tmp = ((1-np.exp(-params))/(1+np.exp(-params))).copy()\n",
      "C:\\Users\\seans\\Anaconda3\\envs\\qtw\\lib\\site-packages\\statsmodels\\tsa\\tsatools.py:702: RuntimeWarning: invalid value encountered in true_divide\n",
      "  tmp = ((1-np.exp(-params))/(1+np.exp(-params))).copy()\n",
      "C:\\Users\\seans\\Anaconda3\\envs\\qtw\\lib\\site-packages\\statsmodels\\base\\model.py:548: HessianInversionWarning: Inverting hessian failed, no bse or cov_params available\n",
      "  'available', HessianInversionWarning)\n",
      "C:\\Users\\seans\\Anaconda3\\envs\\qtw\\lib\\site-packages\\statsmodels\\base\\model.py:568: ConvergenceWarning: Maximum Likelihood optimization failed to converge. Check mle_retvals\n",
      "  ConvergenceWarning)\n",
      "C:\\Users\\seans\\Anaconda3\\envs\\qtw\\lib\\site-packages\\statsmodels\\tsa\\arima_model.py:472: FutureWarning: \n",
      "statsmodels.tsa.arima_model.ARMA and statsmodels.tsa.arima_model.ARIMA have\n",
      "been deprecated in favor of statsmodels.tsa.arima.model.ARIMA (note the .\n",
      "between arima and model) and\n",
      "statsmodels.tsa.SARIMAX. These will be removed after the 0.12 release.\n",
      "\n",
      "statsmodels.tsa.arima.model.ARIMA makes use of the statespace framework and\n",
      "is both well tested and maintained.\n",
      "\n",
      "To silence this warning and continue using ARMA and ARIMA until they are\n",
      "removed, use:\n",
      "\n",
      "import warnings\n",
      "warnings.filterwarnings('ignore', 'statsmodels.tsa.arima_model.ARMA',\n",
      "                        FutureWarning)\n",
      "warnings.filterwarnings('ignore', 'statsmodels.tsa.arima_model.ARIMA',\n",
      "                        FutureWarning)\n",
      "\n",
      "  warnings.warn(ARIMA_DEPRECATION_WARN, FutureWarning)\n",
      "C:\\Users\\seans\\Anaconda3\\envs\\qtw\\lib\\site-packages\\statsmodels\\tsa\\tsatools.py:701: RuntimeWarning: overflow encountered in exp\n",
      "  newparams = ((1-np.exp(-params))/(1+np.exp(-params))).copy()\n",
      "C:\\Users\\seans\\Anaconda3\\envs\\qtw\\lib\\site-packages\\statsmodels\\tsa\\tsatools.py:701: RuntimeWarning: invalid value encountered in true_divide\n",
      "  newparams = ((1-np.exp(-params))/(1+np.exp(-params))).copy()\n",
      "C:\\Users\\seans\\Anaconda3\\envs\\qtw\\lib\\site-packages\\statsmodels\\tsa\\tsatools.py:702: RuntimeWarning: overflow encountered in exp\n",
      "  tmp = ((1-np.exp(-params))/(1+np.exp(-params))).copy()\n",
      "C:\\Users\\seans\\Anaconda3\\envs\\qtw\\lib\\site-packages\\statsmodels\\tsa\\tsatools.py:702: RuntimeWarning: invalid value encountered in true_divide\n",
      "  tmp = ((1-np.exp(-params))/(1+np.exp(-params))).copy()\n",
      "C:\\Users\\seans\\Anaconda3\\envs\\qtw\\lib\\site-packages\\statsmodels\\base\\model.py:548: HessianInversionWarning: Inverting hessian failed, no bse or cov_params available\n",
      "  'available', HessianInversionWarning)\n",
      "C:\\Users\\seans\\Anaconda3\\envs\\qtw\\lib\\site-packages\\statsmodels\\base\\model.py:568: ConvergenceWarning: Maximum Likelihood optimization failed to converge. Check mle_retvals\n",
      "  ConvergenceWarning)\n",
      "C:\\Users\\seans\\Anaconda3\\envs\\qtw\\lib\\site-packages\\statsmodels\\tsa\\arima_model.py:472: FutureWarning: \n",
      "statsmodels.tsa.arima_model.ARMA and statsmodels.tsa.arima_model.ARIMA have\n",
      "been deprecated in favor of statsmodels.tsa.arima.model.ARIMA (note the .\n",
      "between arima and model) and\n",
      "statsmodels.tsa.SARIMAX. These will be removed after the 0.12 release.\n",
      "\n",
      "statsmodels.tsa.arima.model.ARIMA makes use of the statespace framework and\n",
      "is both well tested and maintained.\n",
      "\n",
      "To silence this warning and continue using ARMA and ARIMA until they are\n",
      "removed, use:\n",
      "\n",
      "import warnings\n",
      "warnings.filterwarnings('ignore', 'statsmodels.tsa.arima_model.ARMA',\n",
      "                        FutureWarning)\n",
      "warnings.filterwarnings('ignore', 'statsmodels.tsa.arima_model.ARIMA',\n",
      "                        FutureWarning)\n",
      "\n",
      "  warnings.warn(ARIMA_DEPRECATION_WARN, FutureWarning)\n"
     ]
    },
    {
     "name": "stderr",
     "output_type": "stream",
     "text": [
      "C:\\Users\\seans\\Anaconda3\\envs\\qtw\\lib\\site-packages\\statsmodels\\tsa\\tsatools.py:701: RuntimeWarning: overflow encountered in exp\n",
      "  newparams = ((1-np.exp(-params))/(1+np.exp(-params))).copy()\n",
      "C:\\Users\\seans\\Anaconda3\\envs\\qtw\\lib\\site-packages\\statsmodels\\tsa\\tsatools.py:701: RuntimeWarning: invalid value encountered in true_divide\n",
      "  newparams = ((1-np.exp(-params))/(1+np.exp(-params))).copy()\n",
      "C:\\Users\\seans\\Anaconda3\\envs\\qtw\\lib\\site-packages\\statsmodels\\tsa\\tsatools.py:702: RuntimeWarning: overflow encountered in exp\n",
      "  tmp = ((1-np.exp(-params))/(1+np.exp(-params))).copy()\n",
      "C:\\Users\\seans\\Anaconda3\\envs\\qtw\\lib\\site-packages\\statsmodels\\tsa\\tsatools.py:702: RuntimeWarning: invalid value encountered in true_divide\n",
      "  tmp = ((1-np.exp(-params))/(1+np.exp(-params))).copy()\n",
      "C:\\Users\\seans\\Anaconda3\\envs\\qtw\\lib\\site-packages\\statsmodels\\base\\model.py:548: HessianInversionWarning: Inverting hessian failed, no bse or cov_params available\n",
      "  'available', HessianInversionWarning)\n",
      "C:\\Users\\seans\\Anaconda3\\envs\\qtw\\lib\\site-packages\\statsmodels\\base\\model.py:568: ConvergenceWarning: Maximum Likelihood optimization failed to converge. Check mle_retvals\n",
      "  ConvergenceWarning)\n",
      "C:\\Users\\seans\\Anaconda3\\envs\\qtw\\lib\\site-packages\\statsmodels\\regression\\linear_model.py:1434: RuntimeWarning: invalid value encountered in sqrt\n",
      "  return rho, np.sqrt(sigmasq)\n",
      "C:\\Users\\seans\\Anaconda3\\envs\\qtw\\lib\\site-packages\\statsmodels\\base\\model.py:548: HessianInversionWarning: Inverting hessian failed, no bse or cov_params available\n",
      "  'available', HessianInversionWarning)\n",
      "C:\\Users\\seans\\Anaconda3\\envs\\qtw\\lib\\site-packages\\statsmodels\\base\\model.py:568: ConvergenceWarning: Maximum Likelihood optimization failed to converge. Check mle_retvals\n",
      "  ConvergenceWarning)\n",
      "C:\\Users\\seans\\Anaconda3\\envs\\qtw\\lib\\site-packages\\statsmodels\\tsa\\arima_model.py:472: FutureWarning: \n",
      "statsmodels.tsa.arima_model.ARMA and statsmodels.tsa.arima_model.ARIMA have\n",
      "been deprecated in favor of statsmodels.tsa.arima.model.ARIMA (note the .\n",
      "between arima and model) and\n",
      "statsmodels.tsa.SARIMAX. These will be removed after the 0.12 release.\n",
      "\n",
      "statsmodels.tsa.arima.model.ARIMA makes use of the statespace framework and\n",
      "is both well tested and maintained.\n",
      "\n",
      "To silence this warning and continue using ARMA and ARIMA until they are\n",
      "removed, use:\n",
      "\n",
      "import warnings\n",
      "warnings.filterwarnings('ignore', 'statsmodels.tsa.arima_model.ARMA',\n",
      "                        FutureWarning)\n",
      "warnings.filterwarnings('ignore', 'statsmodels.tsa.arima_model.ARIMA',\n",
      "                        FutureWarning)\n",
      "\n",
      "  warnings.warn(ARIMA_DEPRECATION_WARN, FutureWarning)\n",
      "C:\\Users\\seans\\Anaconda3\\envs\\qtw\\lib\\site-packages\\statsmodels\\tsa\\tsatools.py:701: RuntimeWarning: overflow encountered in exp\n",
      "  newparams = ((1-np.exp(-params))/(1+np.exp(-params))).copy()\n",
      "C:\\Users\\seans\\Anaconda3\\envs\\qtw\\lib\\site-packages\\statsmodels\\tsa\\tsatools.py:701: RuntimeWarning: invalid value encountered in true_divide\n",
      "  newparams = ((1-np.exp(-params))/(1+np.exp(-params))).copy()\n",
      "C:\\Users\\seans\\Anaconda3\\envs\\qtw\\lib\\site-packages\\statsmodels\\tsa\\tsatools.py:702: RuntimeWarning: overflow encountered in exp\n",
      "  tmp = ((1-np.exp(-params))/(1+np.exp(-params))).copy()\n",
      "C:\\Users\\seans\\Anaconda3\\envs\\qtw\\lib\\site-packages\\statsmodels\\tsa\\tsatools.py:702: RuntimeWarning: invalid value encountered in true_divide\n",
      "  tmp = ((1-np.exp(-params))/(1+np.exp(-params))).copy()\n",
      "C:\\Users\\seans\\Anaconda3\\envs\\qtw\\lib\\site-packages\\statsmodels\\base\\model.py:548: HessianInversionWarning: Inverting hessian failed, no bse or cov_params available\n",
      "  'available', HessianInversionWarning)\n",
      "C:\\Users\\seans\\Anaconda3\\envs\\qtw\\lib\\site-packages\\statsmodels\\base\\model.py:568: ConvergenceWarning: Maximum Likelihood optimization failed to converge. Check mle_retvals\n",
      "  ConvergenceWarning)\n",
      "C:\\Users\\seans\\Anaconda3\\envs\\qtw\\lib\\site-packages\\statsmodels\\tsa\\arima_model.py:472: FutureWarning: \n",
      "statsmodels.tsa.arima_model.ARMA and statsmodels.tsa.arima_model.ARIMA have\n",
      "been deprecated in favor of statsmodels.tsa.arima.model.ARIMA (note the .\n",
      "between arima and model) and\n",
      "statsmodels.tsa.SARIMAX. These will be removed after the 0.12 release.\n",
      "\n",
      "statsmodels.tsa.arima.model.ARIMA makes use of the statespace framework and\n",
      "is both well tested and maintained.\n",
      "\n",
      "To silence this warning and continue using ARMA and ARIMA until they are\n",
      "removed, use:\n",
      "\n",
      "import warnings\n",
      "warnings.filterwarnings('ignore', 'statsmodels.tsa.arima_model.ARMA',\n",
      "                        FutureWarning)\n",
      "warnings.filterwarnings('ignore', 'statsmodels.tsa.arima_model.ARIMA',\n",
      "                        FutureWarning)\n",
      "\n",
      "  warnings.warn(ARIMA_DEPRECATION_WARN, FutureWarning)\n",
      "C:\\Users\\seans\\Anaconda3\\envs\\qtw\\lib\\site-packages\\statsmodels\\tsa\\tsatools.py:701: RuntimeWarning: overflow encountered in exp\n",
      "  newparams = ((1-np.exp(-params))/(1+np.exp(-params))).copy()\n",
      "C:\\Users\\seans\\Anaconda3\\envs\\qtw\\lib\\site-packages\\statsmodels\\tsa\\tsatools.py:701: RuntimeWarning: invalid value encountered in true_divide\n",
      "  newparams = ((1-np.exp(-params))/(1+np.exp(-params))).copy()\n",
      "C:\\Users\\seans\\Anaconda3\\envs\\qtw\\lib\\site-packages\\statsmodels\\tsa\\tsatools.py:702: RuntimeWarning: overflow encountered in exp\n",
      "  tmp = ((1-np.exp(-params))/(1+np.exp(-params))).copy()\n",
      "C:\\Users\\seans\\Anaconda3\\envs\\qtw\\lib\\site-packages\\statsmodels\\tsa\\tsatools.py:702: RuntimeWarning: invalid value encountered in true_divide\n",
      "  tmp = ((1-np.exp(-params))/(1+np.exp(-params))).copy()\n",
      "C:\\Users\\seans\\Anaconda3\\envs\\qtw\\lib\\site-packages\\statsmodels\\base\\model.py:548: HessianInversionWarning: Inverting hessian failed, no bse or cov_params available\n",
      "  'available', HessianInversionWarning)\n",
      "C:\\Users\\seans\\Anaconda3\\envs\\qtw\\lib\\site-packages\\statsmodels\\base\\model.py:568: ConvergenceWarning: Maximum Likelihood optimization failed to converge. Check mle_retvals\n",
      "  ConvergenceWarning)\n",
      "C:\\Users\\seans\\Anaconda3\\envs\\qtw\\lib\\site-packages\\statsmodels\\tsa\\arima_model.py:472: FutureWarning: \n",
      "statsmodels.tsa.arima_model.ARMA and statsmodels.tsa.arima_model.ARIMA have\n",
      "been deprecated in favor of statsmodels.tsa.arima.model.ARIMA (note the .\n",
      "between arima and model) and\n",
      "statsmodels.tsa.SARIMAX. These will be removed after the 0.12 release.\n",
      "\n",
      "statsmodels.tsa.arima.model.ARIMA makes use of the statespace framework and\n",
      "is both well tested and maintained.\n",
      "\n",
      "To silence this warning and continue using ARMA and ARIMA until they are\n",
      "removed, use:\n",
      "\n",
      "import warnings\n",
      "warnings.filterwarnings('ignore', 'statsmodels.tsa.arima_model.ARMA',\n",
      "                        FutureWarning)\n",
      "warnings.filterwarnings('ignore', 'statsmodels.tsa.arima_model.ARIMA',\n",
      "                        FutureWarning)\n",
      "\n",
      "  warnings.warn(ARIMA_DEPRECATION_WARN, FutureWarning)\n",
      "C:\\Users\\seans\\Anaconda3\\envs\\qtw\\lib\\site-packages\\statsmodels\\tsa\\tsatools.py:701: RuntimeWarning: overflow encountered in exp\n",
      "  newparams = ((1-np.exp(-params))/(1+np.exp(-params))).copy()\n",
      "C:\\Users\\seans\\Anaconda3\\envs\\qtw\\lib\\site-packages\\statsmodels\\tsa\\tsatools.py:701: RuntimeWarning: invalid value encountered in true_divide\n",
      "  newparams = ((1-np.exp(-params))/(1+np.exp(-params))).copy()\n",
      "C:\\Users\\seans\\Anaconda3\\envs\\qtw\\lib\\site-packages\\statsmodels\\tsa\\tsatools.py:702: RuntimeWarning: overflow encountered in exp\n",
      "  tmp = ((1-np.exp(-params))/(1+np.exp(-params))).copy()\n",
      "C:\\Users\\seans\\Anaconda3\\envs\\qtw\\lib\\site-packages\\statsmodels\\tsa\\tsatools.py:702: RuntimeWarning: invalid value encountered in true_divide\n",
      "  tmp = ((1-np.exp(-params))/(1+np.exp(-params))).copy()\n",
      "C:\\Users\\seans\\Anaconda3\\envs\\qtw\\lib\\site-packages\\statsmodels\\base\\model.py:548: HessianInversionWarning: Inverting hessian failed, no bse or cov_params available\n",
      "  'available', HessianInversionWarning)\n",
      "C:\\Users\\seans\\Anaconda3\\envs\\qtw\\lib\\site-packages\\statsmodels\\base\\model.py:568: ConvergenceWarning: Maximum Likelihood optimization failed to converge. Check mle_retvals\n",
      "  ConvergenceWarning)\n",
      "C:\\Users\\seans\\Anaconda3\\envs\\qtw\\lib\\site-packages\\statsmodels\\tsa\\arima_model.py:472: FutureWarning: \n",
      "statsmodels.tsa.arima_model.ARMA and statsmodels.tsa.arima_model.ARIMA have\n",
      "been deprecated in favor of statsmodels.tsa.arima.model.ARIMA (note the .\n",
      "between arima and model) and\n",
      "statsmodels.tsa.SARIMAX. These will be removed after the 0.12 release.\n",
      "\n",
      "statsmodels.tsa.arima.model.ARIMA makes use of the statespace framework and\n",
      "is both well tested and maintained.\n",
      "\n",
      "To silence this warning and continue using ARMA and ARIMA until they are\n",
      "removed, use:\n",
      "\n",
      "import warnings\n",
      "warnings.filterwarnings('ignore', 'statsmodels.tsa.arima_model.ARMA',\n",
      "                        FutureWarning)\n",
      "warnings.filterwarnings('ignore', 'statsmodels.tsa.arima_model.ARIMA',\n",
      "                        FutureWarning)\n",
      "\n",
      "  warnings.warn(ARIMA_DEPRECATION_WARN, FutureWarning)\n"
     ]
    },
    {
     "name": "stderr",
     "output_type": "stream",
     "text": [
      "C:\\Users\\seans\\Anaconda3\\envs\\qtw\\lib\\site-packages\\statsmodels\\tsa\\tsatools.py:701: RuntimeWarning: overflow encountered in exp\n",
      "  newparams = ((1-np.exp(-params))/(1+np.exp(-params))).copy()\n",
      "C:\\Users\\seans\\Anaconda3\\envs\\qtw\\lib\\site-packages\\statsmodels\\tsa\\tsatools.py:701: RuntimeWarning: invalid value encountered in true_divide\n",
      "  newparams = ((1-np.exp(-params))/(1+np.exp(-params))).copy()\n",
      "C:\\Users\\seans\\Anaconda3\\envs\\qtw\\lib\\site-packages\\statsmodels\\tsa\\tsatools.py:702: RuntimeWarning: overflow encountered in exp\n",
      "  tmp = ((1-np.exp(-params))/(1+np.exp(-params))).copy()\n",
      "C:\\Users\\seans\\Anaconda3\\envs\\qtw\\lib\\site-packages\\statsmodels\\tsa\\tsatools.py:702: RuntimeWarning: invalid value encountered in true_divide\n",
      "  tmp = ((1-np.exp(-params))/(1+np.exp(-params))).copy()\n",
      "C:\\Users\\seans\\Anaconda3\\envs\\qtw\\lib\\site-packages\\statsmodels\\base\\model.py:548: HessianInversionWarning: Inverting hessian failed, no bse or cov_params available\n",
      "  'available', HessianInversionWarning)\n",
      "C:\\Users\\seans\\Anaconda3\\envs\\qtw\\lib\\site-packages\\statsmodels\\base\\model.py:568: ConvergenceWarning: Maximum Likelihood optimization failed to converge. Check mle_retvals\n",
      "  ConvergenceWarning)\n",
      "C:\\Users\\seans\\Anaconda3\\envs\\qtw\\lib\\site-packages\\statsmodels\\tsa\\arima_model.py:472: FutureWarning: \n",
      "statsmodels.tsa.arima_model.ARMA and statsmodels.tsa.arima_model.ARIMA have\n",
      "been deprecated in favor of statsmodels.tsa.arima.model.ARIMA (note the .\n",
      "between arima and model) and\n",
      "statsmodels.tsa.SARIMAX. These will be removed after the 0.12 release.\n",
      "\n",
      "statsmodels.tsa.arima.model.ARIMA makes use of the statespace framework and\n",
      "is both well tested and maintained.\n",
      "\n",
      "To silence this warning and continue using ARMA and ARIMA until they are\n",
      "removed, use:\n",
      "\n",
      "import warnings\n",
      "warnings.filterwarnings('ignore', 'statsmodels.tsa.arima_model.ARMA',\n",
      "                        FutureWarning)\n",
      "warnings.filterwarnings('ignore', 'statsmodels.tsa.arima_model.ARIMA',\n",
      "                        FutureWarning)\n",
      "\n",
      "  warnings.warn(ARIMA_DEPRECATION_WARN, FutureWarning)\n",
      "C:\\Users\\seans\\Anaconda3\\envs\\qtw\\lib\\site-packages\\statsmodels\\tsa\\tsatools.py:701: RuntimeWarning: overflow encountered in exp\n",
      "  newparams = ((1-np.exp(-params))/(1+np.exp(-params))).copy()\n",
      "C:\\Users\\seans\\Anaconda3\\envs\\qtw\\lib\\site-packages\\statsmodels\\tsa\\tsatools.py:701: RuntimeWarning: invalid value encountered in true_divide\n",
      "  newparams = ((1-np.exp(-params))/(1+np.exp(-params))).copy()\n",
      "C:\\Users\\seans\\Anaconda3\\envs\\qtw\\lib\\site-packages\\statsmodels\\tsa\\tsatools.py:702: RuntimeWarning: overflow encountered in exp\n",
      "  tmp = ((1-np.exp(-params))/(1+np.exp(-params))).copy()\n",
      "C:\\Users\\seans\\Anaconda3\\envs\\qtw\\lib\\site-packages\\statsmodels\\tsa\\tsatools.py:702: RuntimeWarning: invalid value encountered in true_divide\n",
      "  tmp = ((1-np.exp(-params))/(1+np.exp(-params))).copy()\n",
      "C:\\Users\\seans\\Anaconda3\\envs\\qtw\\lib\\site-packages\\statsmodels\\base\\model.py:548: HessianInversionWarning: Inverting hessian failed, no bse or cov_params available\n",
      "  'available', HessianInversionWarning)\n",
      "C:\\Users\\seans\\Anaconda3\\envs\\qtw\\lib\\site-packages\\statsmodels\\tsa\\arima_model.py:472: FutureWarning: \n",
      "statsmodels.tsa.arima_model.ARMA and statsmodels.tsa.arima_model.ARIMA have\n",
      "been deprecated in favor of statsmodels.tsa.arima.model.ARIMA (note the .\n",
      "between arima and model) and\n",
      "statsmodels.tsa.SARIMAX. These will be removed after the 0.12 release.\n",
      "\n",
      "statsmodels.tsa.arima.model.ARIMA makes use of the statespace framework and\n",
      "is both well tested and maintained.\n",
      "\n",
      "To silence this warning and continue using ARMA and ARIMA until they are\n",
      "removed, use:\n",
      "\n",
      "import warnings\n",
      "warnings.filterwarnings('ignore', 'statsmodels.tsa.arima_model.ARMA',\n",
      "                        FutureWarning)\n",
      "warnings.filterwarnings('ignore', 'statsmodels.tsa.arima_model.ARIMA',\n",
      "                        FutureWarning)\n",
      "\n",
      "  warnings.warn(ARIMA_DEPRECATION_WARN, FutureWarning)\n",
      "C:\\Users\\seans\\Anaconda3\\envs\\qtw\\lib\\site-packages\\statsmodels\\tsa\\tsatools.py:701: RuntimeWarning: overflow encountered in exp\n",
      "  newparams = ((1-np.exp(-params))/(1+np.exp(-params))).copy()\n",
      "C:\\Users\\seans\\Anaconda3\\envs\\qtw\\lib\\site-packages\\statsmodels\\tsa\\tsatools.py:701: RuntimeWarning: invalid value encountered in true_divide\n",
      "  newparams = ((1-np.exp(-params))/(1+np.exp(-params))).copy()\n",
      "C:\\Users\\seans\\Anaconda3\\envs\\qtw\\lib\\site-packages\\statsmodels\\tsa\\tsatools.py:702: RuntimeWarning: overflow encountered in exp\n",
      "  tmp = ((1-np.exp(-params))/(1+np.exp(-params))).copy()\n",
      "C:\\Users\\seans\\Anaconda3\\envs\\qtw\\lib\\site-packages\\statsmodels\\tsa\\tsatools.py:702: RuntimeWarning: invalid value encountered in true_divide\n",
      "  tmp = ((1-np.exp(-params))/(1+np.exp(-params))).copy()\n",
      "C:\\Users\\seans\\Anaconda3\\envs\\qtw\\lib\\site-packages\\statsmodels\\base\\model.py:548: HessianInversionWarning: Inverting hessian failed, no bse or cov_params available\n",
      "  'available', HessianInversionWarning)\n",
      "C:\\Users\\seans\\Anaconda3\\envs\\qtw\\lib\\site-packages\\statsmodels\\base\\model.py:568: ConvergenceWarning: Maximum Likelihood optimization failed to converge. Check mle_retvals\n",
      "  ConvergenceWarning)\n",
      "C:\\Users\\seans\\Anaconda3\\envs\\qtw\\lib\\site-packages\\statsmodels\\regression\\linear_model.py:1434: RuntimeWarning: invalid value encountered in sqrt\n",
      "  return rho, np.sqrt(sigmasq)\n",
      "C:\\Users\\seans\\Anaconda3\\envs\\qtw\\lib\\site-packages\\statsmodels\\tsa\\tsatools.py:684: RuntimeWarning: invalid value encountered in arctanh\n",
      "  invarcoefs = 2*np.arctanh(params)\n",
      "C:\\Users\\seans\\Anaconda3\\envs\\qtw\\lib\\site-packages\\statsmodels\\tsa\\arima_model.py:472: FutureWarning: \n",
      "statsmodels.tsa.arima_model.ARMA and statsmodels.tsa.arima_model.ARIMA have\n",
      "been deprecated in favor of statsmodels.tsa.arima.model.ARIMA (note the .\n",
      "between arima and model) and\n",
      "statsmodels.tsa.SARIMAX. These will be removed after the 0.12 release.\n",
      "\n",
      "statsmodels.tsa.arima.model.ARIMA makes use of the statespace framework and\n",
      "is both well tested and maintained.\n",
      "\n",
      "To silence this warning and continue using ARMA and ARIMA until they are\n",
      "removed, use:\n",
      "\n",
      "import warnings\n",
      "warnings.filterwarnings('ignore', 'statsmodels.tsa.arima_model.ARMA',\n",
      "                        FutureWarning)\n",
      "warnings.filterwarnings('ignore', 'statsmodels.tsa.arima_model.ARIMA',\n",
      "                        FutureWarning)\n",
      "\n",
      "  warnings.warn(ARIMA_DEPRECATION_WARN, FutureWarning)\n",
      "C:\\Users\\seans\\Anaconda3\\envs\\qtw\\lib\\site-packages\\statsmodels\\tsa\\tsatools.py:684: RuntimeWarning: invalid value encountered in arctanh\n",
      "  invarcoefs = 2*np.arctanh(params)\n",
      "C:\\Users\\seans\\Anaconda3\\envs\\qtw\\lib\\site-packages\\statsmodels\\tsa\\arima_model.py:472: FutureWarning: \n",
      "statsmodels.tsa.arima_model.ARMA and statsmodels.tsa.arima_model.ARIMA have\n",
      "been deprecated in favor of statsmodels.tsa.arima.model.ARIMA (note the .\n",
      "between arima and model) and\n",
      "statsmodels.tsa.SARIMAX. These will be removed after the 0.12 release.\n",
      "\n",
      "statsmodels.tsa.arima.model.ARIMA makes use of the statespace framework and\n",
      "is both well tested and maintained.\n",
      "\n",
      "To silence this warning and continue using ARMA and ARIMA until they are\n",
      "removed, use:\n",
      "\n",
      "import warnings\n",
      "warnings.filterwarnings('ignore', 'statsmodels.tsa.arima_model.ARMA',\n",
      "                        FutureWarning)\n",
      "warnings.filterwarnings('ignore', 'statsmodels.tsa.arima_model.ARIMA',\n",
      "                        FutureWarning)\n",
      "\n",
      "  warnings.warn(ARIMA_DEPRECATION_WARN, FutureWarning)\n",
      "C:\\Users\\seans\\Anaconda3\\envs\\qtw\\lib\\site-packages\\statsmodels\\tsa\\tsatools.py:684: RuntimeWarning: invalid value encountered in arctanh\n",
      "  invarcoefs = 2*np.arctanh(params)\n",
      "C:\\Users\\seans\\Anaconda3\\envs\\qtw\\lib\\site-packages\\statsmodels\\tsa\\arima_model.py:472: FutureWarning: \n",
      "statsmodels.tsa.arima_model.ARMA and statsmodels.tsa.arima_model.ARIMA have\n",
      "been deprecated in favor of statsmodels.tsa.arima.model.ARIMA (note the .\n",
      "between arima and model) and\n",
      "statsmodels.tsa.SARIMAX. These will be removed after the 0.12 release.\n",
      "\n",
      "statsmodels.tsa.arima.model.ARIMA makes use of the statespace framework and\n",
      "is both well tested and maintained.\n",
      "\n",
      "To silence this warning and continue using ARMA and ARIMA until they are\n",
      "removed, use:\n",
      "\n",
      "import warnings\n",
      "warnings.filterwarnings('ignore', 'statsmodels.tsa.arima_model.ARMA',\n",
      "                        FutureWarning)\n",
      "warnings.filterwarnings('ignore', 'statsmodels.tsa.arima_model.ARIMA',\n",
      "                        FutureWarning)\n",
      "\n",
      "  warnings.warn(ARIMA_DEPRECATION_WARN, FutureWarning)\n",
      "C:\\Users\\seans\\Anaconda3\\envs\\qtw\\lib\\site-packages\\statsmodels\\tsa\\tsatools.py:684: RuntimeWarning: invalid value encountered in arctanh\n",
      "  invarcoefs = 2*np.arctanh(params)\n",
      "C:\\Users\\seans\\Anaconda3\\envs\\qtw\\lib\\site-packages\\statsmodels\\tsa\\arima_model.py:472: FutureWarning: \n",
      "statsmodels.tsa.arima_model.ARMA and statsmodels.tsa.arima_model.ARIMA have\n",
      "been deprecated in favor of statsmodels.tsa.arima.model.ARIMA (note the .\n",
      "between arima and model) and\n",
      "statsmodels.tsa.SARIMAX. These will be removed after the 0.12 release.\n",
      "\n",
      "statsmodels.tsa.arima.model.ARIMA makes use of the statespace framework and\n",
      "is both well tested and maintained.\n",
      "\n",
      "To silence this warning and continue using ARMA and ARIMA until they are\n",
      "removed, use:\n",
      "\n",
      "import warnings\n",
      "warnings.filterwarnings('ignore', 'statsmodels.tsa.arima_model.ARMA',\n",
      "                        FutureWarning)\n",
      "warnings.filterwarnings('ignore', 'statsmodels.tsa.arima_model.ARIMA',\n",
      "                        FutureWarning)\n",
      "\n",
      "  warnings.warn(ARIMA_DEPRECATION_WARN, FutureWarning)\n",
      "C:\\Users\\seans\\Anaconda3\\envs\\qtw\\lib\\site-packages\\statsmodels\\tsa\\tsatools.py:684: RuntimeWarning: invalid value encountered in arctanh\n",
      "  invarcoefs = 2*np.arctanh(params)\n",
      "C:\\Users\\seans\\Anaconda3\\envs\\qtw\\lib\\site-packages\\statsmodels\\tsa\\arima_model.py:472: FutureWarning: \n",
      "statsmodels.tsa.arima_model.ARMA and statsmodels.tsa.arima_model.ARIMA have\n",
      "been deprecated in favor of statsmodels.tsa.arima.model.ARIMA (note the .\n",
      "between arima and model) and\n",
      "statsmodels.tsa.SARIMAX. These will be removed after the 0.12 release.\n",
      "\n",
      "statsmodels.tsa.arima.model.ARIMA makes use of the statespace framework and\n",
      "is both well tested and maintained.\n",
      "\n",
      "To silence this warning and continue using ARMA and ARIMA until they are\n",
      "removed, use:\n",
      "\n",
      "import warnings\n",
      "warnings.filterwarnings('ignore', 'statsmodels.tsa.arima_model.ARMA',\n",
      "                        FutureWarning)\n",
      "warnings.filterwarnings('ignore', 'statsmodels.tsa.arima_model.ARIMA',\n",
      "                        FutureWarning)\n",
      "\n",
      "  warnings.warn(ARIMA_DEPRECATION_WARN, FutureWarning)\n",
      "C:\\Users\\seans\\Anaconda3\\envs\\qtw\\lib\\site-packages\\statsmodels\\tsa\\tsatools.py:684: RuntimeWarning: invalid value encountered in arctanh\n",
      "  invarcoefs = 2*np.arctanh(params)\n"
     ]
    },
    {
     "name": "stderr",
     "output_type": "stream",
     "text": [
      "C:\\Users\\seans\\Anaconda3\\envs\\qtw\\lib\\site-packages\\statsmodels\\tsa\\arima_model.py:472: FutureWarning: \n",
      "statsmodels.tsa.arima_model.ARMA and statsmodels.tsa.arima_model.ARIMA have\n",
      "been deprecated in favor of statsmodels.tsa.arima.model.ARIMA (note the .\n",
      "between arima and model) and\n",
      "statsmodels.tsa.SARIMAX. These will be removed after the 0.12 release.\n",
      "\n",
      "statsmodels.tsa.arima.model.ARIMA makes use of the statespace framework and\n",
      "is both well tested and maintained.\n",
      "\n",
      "To silence this warning and continue using ARMA and ARIMA until they are\n",
      "removed, use:\n",
      "\n",
      "import warnings\n",
      "warnings.filterwarnings('ignore', 'statsmodels.tsa.arima_model.ARMA',\n",
      "                        FutureWarning)\n",
      "warnings.filterwarnings('ignore', 'statsmodels.tsa.arima_model.ARIMA',\n",
      "                        FutureWarning)\n",
      "\n",
      "  warnings.warn(ARIMA_DEPRECATION_WARN, FutureWarning)\n",
      "C:\\Users\\seans\\Anaconda3\\envs\\qtw\\lib\\site-packages\\statsmodels\\tsa\\tsatools.py:684: RuntimeWarning: invalid value encountered in arctanh\n",
      "  invarcoefs = 2*np.arctanh(params)\n"
     ]
    }
   ],
   "source": [
    "#Order determination assuming seasonality\n",
    "res = statsmodels.tsa.stattools.arma_order_select_ic(dif_52, max_ar=10, max_ma=6, ic=[\"aic\", \"bic\"], trend=\"nc\")"
   ]
  },
  {
   "cell_type": "code",
   "execution_count": 35,
   "id": "furnished-container",
   "metadata": {},
   "outputs": [
    {
     "data": {
      "text/html": [
       "<div>\n",
       "<style scoped>\n",
       "    .dataframe tbody tr th:only-of-type {\n",
       "        vertical-align: middle;\n",
       "    }\n",
       "\n",
       "    .dataframe tbody tr th {\n",
       "        vertical-align: top;\n",
       "    }\n",
       "\n",
       "    .dataframe thead th {\n",
       "        text-align: right;\n",
       "    }\n",
       "</style>\n",
       "<table border=\"1\" class=\"dataframe\">\n",
       "  <thead>\n",
       "    <tr style=\"text-align: right;\">\n",
       "      <th></th>\n",
       "      <th>0</th>\n",
       "      <th>1</th>\n",
       "      <th>2</th>\n",
       "      <th>3</th>\n",
       "      <th>4</th>\n",
       "      <th>5</th>\n",
       "      <th>6</th>\n",
       "    </tr>\n",
       "  </thead>\n",
       "  <tbody>\n",
       "    <tr>\n",
       "      <th>0</th>\n",
       "      <td>NaN</td>\n",
       "      <td>25685.495636</td>\n",
       "      <td>25188.520429</td>\n",
       "      <td>24696.094369</td>\n",
       "      <td>24210.281836</td>\n",
       "      <td>23724.364463</td>\n",
       "      <td>23323.741723</td>\n",
       "    </tr>\n",
       "    <tr>\n",
       "      <th>1</th>\n",
       "      <td>25047.632286</td>\n",
       "      <td>24554.915081</td>\n",
       "      <td>24067.204939</td>\n",
       "      <td>23591.339108</td>\n",
       "      <td>23113.463006</td>\n",
       "      <td>22671.943314</td>\n",
       "      <td>22174.924535</td>\n",
       "    </tr>\n",
       "    <tr>\n",
       "      <th>2</th>\n",
       "      <td>24122.248217</td>\n",
       "      <td>26974.611678</td>\n",
       "      <td>24580.523661</td>\n",
       "      <td>23577.376443</td>\n",
       "      <td>23672.512290</td>\n",
       "      <td>21811.703333</td>\n",
       "      <td>22447.951816</td>\n",
       "    </tr>\n",
       "    <tr>\n",
       "      <th>3</th>\n",
       "      <td>23644.121657</td>\n",
       "      <td>23060.588746</td>\n",
       "      <td>23636.451411</td>\n",
       "      <td>23155.402015</td>\n",
       "      <td>22717.061665</td>\n",
       "      <td>21911.722930</td>\n",
       "      <td>22005.650845</td>\n",
       "    </tr>\n",
       "    <tr>\n",
       "      <th>4</th>\n",
       "      <td>23778.377198</td>\n",
       "      <td>23264.967810</td>\n",
       "      <td>24395.349536</td>\n",
       "      <td>23437.023376</td>\n",
       "      <td>22928.027950</td>\n",
       "      <td>22001.383540</td>\n",
       "      <td>22027.756612</td>\n",
       "    </tr>\n",
       "    <tr>\n",
       "      <th>5</th>\n",
       "      <td>23089.385867</td>\n",
       "      <td>23216.862375</td>\n",
       "      <td>22363.208550</td>\n",
       "      <td>22838.845948</td>\n",
       "      <td>22423.804616</td>\n",
       "      <td>22973.996224</td>\n",
       "      <td>22615.408486</td>\n",
       "    </tr>\n",
       "    <tr>\n",
       "      <th>6</th>\n",
       "      <td>22663.551844</td>\n",
       "      <td>22071.443425</td>\n",
       "      <td>22240.726003</td>\n",
       "      <td>22562.599442</td>\n",
       "      <td>22552.981963</td>\n",
       "      <td>22133.459511</td>\n",
       "      <td>22868.834796</td>\n",
       "    </tr>\n",
       "    <tr>\n",
       "      <th>7</th>\n",
       "      <td>23856.355188</td>\n",
       "      <td>23019.086603</td>\n",
       "      <td>22626.602153</td>\n",
       "      <td>22473.811723</td>\n",
       "      <td>22511.835234</td>\n",
       "      <td>22007.659407</td>\n",
       "      <td>21736.368773</td>\n",
       "    </tr>\n",
       "    <tr>\n",
       "      <th>8</th>\n",
       "      <td>25352.011750</td>\n",
       "      <td>23638.663803</td>\n",
       "      <td>21997.886577</td>\n",
       "      <td>23222.117816</td>\n",
       "      <td>22715.762263</td>\n",
       "      <td>22508.190221</td>\n",
       "      <td>22471.803111</td>\n",
       "    </tr>\n",
       "    <tr>\n",
       "      <th>9</th>\n",
       "      <td>25464.533137</td>\n",
       "      <td>23675.020700</td>\n",
       "      <td>22908.250265</td>\n",
       "      <td>23412.804362</td>\n",
       "      <td>22547.032300</td>\n",
       "      <td>22418.410798</td>\n",
       "      <td>22950.210790</td>\n",
       "    </tr>\n",
       "    <tr>\n",
       "      <th>10</th>\n",
       "      <td>NaN</td>\n",
       "      <td>NaN</td>\n",
       "      <td>NaN</td>\n",
       "      <td>NaN</td>\n",
       "      <td>NaN</td>\n",
       "      <td>NaN</td>\n",
       "      <td>NaN</td>\n",
       "    </tr>\n",
       "  </tbody>\n",
       "</table>\n",
       "</div>"
      ],
      "text/plain": [
       "               0             1             2             3             4  \\\n",
       "0            NaN  25685.495636  25188.520429  24696.094369  24210.281836   \n",
       "1   25047.632286  24554.915081  24067.204939  23591.339108  23113.463006   \n",
       "2   24122.248217  26974.611678  24580.523661  23577.376443  23672.512290   \n",
       "3   23644.121657  23060.588746  23636.451411  23155.402015  22717.061665   \n",
       "4   23778.377198  23264.967810  24395.349536  23437.023376  22928.027950   \n",
       "5   23089.385867  23216.862375  22363.208550  22838.845948  22423.804616   \n",
       "6   22663.551844  22071.443425  22240.726003  22562.599442  22552.981963   \n",
       "7   23856.355188  23019.086603  22626.602153  22473.811723  22511.835234   \n",
       "8   25352.011750  23638.663803  21997.886577  23222.117816  22715.762263   \n",
       "9   25464.533137  23675.020700  22908.250265  23412.804362  22547.032300   \n",
       "10           NaN           NaN           NaN           NaN           NaN   \n",
       "\n",
       "               5             6  \n",
       "0   23724.364463  23323.741723  \n",
       "1   22671.943314  22174.924535  \n",
       "2   21811.703333  22447.951816  \n",
       "3   21911.722930  22005.650845  \n",
       "4   22001.383540  22027.756612  \n",
       "5   22973.996224  22615.408486  \n",
       "6   22133.459511  22868.834796  \n",
       "7   22007.659407  21736.368773  \n",
       "8   22508.190221  22471.803111  \n",
       "9   22418.410798  22950.210790  \n",
       "10           NaN           NaN  "
      ]
     },
     "execution_count": 35,
     "metadata": {},
     "output_type": "execute_result"
    }
   ],
   "source": [
    "res.aic"
   ]
  },
  {
   "cell_type": "code",
   "execution_count": 36,
   "id": "thermal-roman",
   "metadata": {},
   "outputs": [
    {
     "data": {
      "text/plain": [
       "(7, 6)"
      ]
     },
     "execution_count": 36,
     "metadata": {},
     "output_type": "execute_result"
    }
   ],
   "source": [
    "res.aic_min_order"
   ]
  },
  {
   "cell_type": "code",
   "execution_count": 37,
   "id": "opposite-holiday",
   "metadata": {},
   "outputs": [
    {
     "data": {
      "text/html": [
       "<div>\n",
       "<style scoped>\n",
       "    .dataframe tbody tr th:only-of-type {\n",
       "        vertical-align: middle;\n",
       "    }\n",
       "\n",
       "    .dataframe tbody tr th {\n",
       "        vertical-align: top;\n",
       "    }\n",
       "\n",
       "    .dataframe thead th {\n",
       "        text-align: right;\n",
       "    }\n",
       "</style>\n",
       "<table border=\"1\" class=\"dataframe\">\n",
       "  <thead>\n",
       "    <tr style=\"text-align: right;\">\n",
       "      <th></th>\n",
       "      <th>0</th>\n",
       "      <th>1</th>\n",
       "      <th>2</th>\n",
       "      <th>3</th>\n",
       "      <th>4</th>\n",
       "      <th>5</th>\n",
       "      <th>6</th>\n",
       "    </tr>\n",
       "  </thead>\n",
       "  <tbody>\n",
       "    <tr>\n",
       "      <th>0</th>\n",
       "      <td>NaN</td>\n",
       "      <td>25693.328040</td>\n",
       "      <td>25200.269035</td>\n",
       "      <td>24711.759178</td>\n",
       "      <td>24229.862846</td>\n",
       "      <td>23747.861676</td>\n",
       "      <td>23351.155138</td>\n",
       "    </tr>\n",
       "    <tr>\n",
       "      <th>1</th>\n",
       "      <td>25055.464690</td>\n",
       "      <td>24566.663687</td>\n",
       "      <td>24082.869747</td>\n",
       "      <td>23610.920118</td>\n",
       "      <td>23136.960218</td>\n",
       "      <td>22699.356729</td>\n",
       "      <td>22206.254152</td>\n",
       "    </tr>\n",
       "    <tr>\n",
       "      <th>2</th>\n",
       "      <td>24133.996824</td>\n",
       "      <td>26990.276487</td>\n",
       "      <td>24600.104671</td>\n",
       "      <td>23600.873655</td>\n",
       "      <td>23699.925704</td>\n",
       "      <td>21843.032949</td>\n",
       "      <td>22483.197634</td>\n",
       "    </tr>\n",
       "    <tr>\n",
       "      <th>3</th>\n",
       "      <td>23659.786465</td>\n",
       "      <td>23080.169756</td>\n",
       "      <td>23659.948624</td>\n",
       "      <td>23182.815430</td>\n",
       "      <td>22748.391282</td>\n",
       "      <td>21946.968749</td>\n",
       "      <td>22044.812866</td>\n",
       "    </tr>\n",
       "    <tr>\n",
       "      <th>4</th>\n",
       "      <td>23797.958208</td>\n",
       "      <td>23288.465022</td>\n",
       "      <td>24422.762950</td>\n",
       "      <td>23468.352993</td>\n",
       "      <td>22963.273769</td>\n",
       "      <td>22040.545561</td>\n",
       "      <td>22070.834834</td>\n",
       "    </tr>\n",
       "    <tr>\n",
       "      <th>5</th>\n",
       "      <td>23112.883080</td>\n",
       "      <td>23244.275789</td>\n",
       "      <td>22394.538167</td>\n",
       "      <td>22874.091767</td>\n",
       "      <td>22462.966637</td>\n",
       "      <td>23017.074447</td>\n",
       "      <td>22662.402911</td>\n",
       "    </tr>\n",
       "    <tr>\n",
       "      <th>6</th>\n",
       "      <td>22690.965258</td>\n",
       "      <td>22102.773042</td>\n",
       "      <td>22275.971822</td>\n",
       "      <td>22601.761463</td>\n",
       "      <td>22596.060186</td>\n",
       "      <td>22180.453936</td>\n",
       "      <td>22919.745422</td>\n",
       "    </tr>\n",
       "    <tr>\n",
       "      <th>7</th>\n",
       "      <td>23887.684804</td>\n",
       "      <td>23054.332422</td>\n",
       "      <td>22665.764174</td>\n",
       "      <td>22516.889945</td>\n",
       "      <td>22558.829659</td>\n",
       "      <td>22058.570034</td>\n",
       "      <td>21791.195602</td>\n",
       "    </tr>\n",
       "    <tr>\n",
       "      <th>8</th>\n",
       "      <td>25387.257569</td>\n",
       "      <td>23677.825823</td>\n",
       "      <td>22040.964800</td>\n",
       "      <td>23269.112241</td>\n",
       "      <td>22766.672890</td>\n",
       "      <td>22563.017050</td>\n",
       "      <td>22530.546142</td>\n",
       "    </tr>\n",
       "    <tr>\n",
       "      <th>9</th>\n",
       "      <td>25503.695158</td>\n",
       "      <td>23718.098923</td>\n",
       "      <td>22955.244690</td>\n",
       "      <td>23463.714989</td>\n",
       "      <td>22601.859129</td>\n",
       "      <td>22477.153829</td>\n",
       "      <td>23012.870023</td>\n",
       "    </tr>\n",
       "    <tr>\n",
       "      <th>10</th>\n",
       "      <td>NaN</td>\n",
       "      <td>NaN</td>\n",
       "      <td>NaN</td>\n",
       "      <td>NaN</td>\n",
       "      <td>NaN</td>\n",
       "      <td>NaN</td>\n",
       "      <td>NaN</td>\n",
       "    </tr>\n",
       "  </tbody>\n",
       "</table>\n",
       "</div>"
      ],
      "text/plain": [
       "               0             1             2             3             4  \\\n",
       "0            NaN  25693.328040  25200.269035  24711.759178  24229.862846   \n",
       "1   25055.464690  24566.663687  24082.869747  23610.920118  23136.960218   \n",
       "2   24133.996824  26990.276487  24600.104671  23600.873655  23699.925704   \n",
       "3   23659.786465  23080.169756  23659.948624  23182.815430  22748.391282   \n",
       "4   23797.958208  23288.465022  24422.762950  23468.352993  22963.273769   \n",
       "5   23112.883080  23244.275789  22394.538167  22874.091767  22462.966637   \n",
       "6   22690.965258  22102.773042  22275.971822  22601.761463  22596.060186   \n",
       "7   23887.684804  23054.332422  22665.764174  22516.889945  22558.829659   \n",
       "8   25387.257569  23677.825823  22040.964800  23269.112241  22766.672890   \n",
       "9   25503.695158  23718.098923  22955.244690  23463.714989  22601.859129   \n",
       "10           NaN           NaN           NaN           NaN           NaN   \n",
       "\n",
       "               5             6  \n",
       "0   23747.861676  23351.155138  \n",
       "1   22699.356729  22206.254152  \n",
       "2   21843.032949  22483.197634  \n",
       "3   21946.968749  22044.812866  \n",
       "4   22040.545561  22070.834834  \n",
       "5   23017.074447  22662.402911  \n",
       "6   22180.453936  22919.745422  \n",
       "7   22058.570034  21791.195602  \n",
       "8   22563.017050  22530.546142  \n",
       "9   22477.153829  23012.870023  \n",
       "10           NaN           NaN  "
      ]
     },
     "execution_count": 37,
     "metadata": {},
     "output_type": "execute_result"
    }
   ],
   "source": [
    "res.bic"
   ]
  },
  {
   "cell_type": "code",
   "execution_count": 38,
   "id": "postal-crack",
   "metadata": {},
   "outputs": [
    {
     "data": {
      "text/plain": [
       "(7, 6)"
      ]
     },
     "execution_count": 38,
     "metadata": {},
     "output_type": "execute_result"
    }
   ],
   "source": [
    "res.bic_min_order"
   ]
  },
  {
   "cell_type": "code",
   "execution_count": 39,
   "id": "accompanied-occupation",
   "metadata": {},
   "outputs": [
    {
     "name": "stderr",
     "output_type": "stream",
     "text": [
      "C:\\Users\\seans\\Anaconda3\\envs\\qtw\\lib\\site-packages\\statsmodels\\base\\model.py:568: ConvergenceWarning: Maximum Likelihood optimization failed to converge. Check mle_retvals\n",
      "  ConvergenceWarning)\n"
     ]
    }
   ],
   "source": [
    "#https://www.statsmodels.org/stable/generated/statsmodels.tsa.arima.model.ARIMA.html?highlight=arima#statsmodels.tsa.arima.model.ARIMA\n",
    "#https://machinelearningmastery.com/arima-for-time-series-forecasting-with-python/\n",
    "#Original was 5,1,0\n",
    "\n",
    "model = ARIMA(flu_data.pct_positive.values, order=(7,0,6), seasonal_order = (1, 0, 1, 52))\n",
    "model_fit = model.fit()"
   ]
  },
  {
   "cell_type": "code",
   "execution_count": 40,
   "id": "thorough-injury",
   "metadata": {},
   "outputs": [
    {
     "data": {
      "text/html": [
       "<table class=\"simpletable\">\n",
       "<caption>SARIMAX Results</caption>\n",
       "<tr>\n",
       "  <th>Dep. Variable:</th>                  <td>y</td>               <th>  No. Observations:  </th>    <td>423</td>  \n",
       "</tr>\n",
       "<tr>\n",
       "  <th>Model:</th>           <td>ARIMA(7, 0, 6)x(1, 0, [1], 52)</td> <th>  Log Likelihood     </th> <td>-702.678</td>\n",
       "</tr>\n",
       "<tr>\n",
       "  <th>Date:</th>                   <td>Tue, 23 Feb 2021</td>        <th>  AIC                </th> <td>1439.356</td>\n",
       "</tr>\n",
       "<tr>\n",
       "  <th>Time:</th>                       <td>21:51:27</td>            <th>  BIC                </th> <td>1508.161</td>\n",
       "</tr>\n",
       "<tr>\n",
       "  <th>Sample:</th>                         <td>0</td>               <th>  HQIC               </th> <td>1466.543</td>\n",
       "</tr>\n",
       "<tr>\n",
       "  <th></th>                             <td> - 423</td>             <th>                     </th>     <td> </td>   \n",
       "</tr>\n",
       "<tr>\n",
       "  <th>Covariance Type:</th>               <td>opg</td>              <th>                     </th>     <td> </td>   \n",
       "</tr>\n",
       "</table>\n",
       "<table class=\"simpletable\">\n",
       "<tr>\n",
       "      <td></td>        <th>coef</th>     <th>std err</th>      <th>z</th>      <th>P>|z|</th>  <th>[0.025</th>    <th>0.975]</th>  \n",
       "</tr>\n",
       "<tr>\n",
       "  <th>const</th>    <td>    9.3010</td> <td>    1.876</td> <td>    4.958</td> <td> 0.000</td> <td>    5.624</td> <td>   12.978</td>\n",
       "</tr>\n",
       "<tr>\n",
       "  <th>ar.L1</th>    <td>    2.0158</td> <td>    0.296</td> <td>    6.811</td> <td> 0.000</td> <td>    1.436</td> <td>    2.596</td>\n",
       "</tr>\n",
       "<tr>\n",
       "  <th>ar.L2</th>    <td>   -0.2755</td> <td>    0.428</td> <td>   -0.643</td> <td> 0.520</td> <td>   -1.115</td> <td>    0.564</td>\n",
       "</tr>\n",
       "<tr>\n",
       "  <th>ar.L3</th>    <td>   -2.2911</td> <td>    0.196</td> <td>  -11.684</td> <td> 0.000</td> <td>   -2.675</td> <td>   -1.907</td>\n",
       "</tr>\n",
       "<tr>\n",
       "  <th>ar.L4</th>    <td>    1.4884</td> <td>    0.574</td> <td>    2.593</td> <td> 0.010</td> <td>    0.363</td> <td>    2.614</td>\n",
       "</tr>\n",
       "<tr>\n",
       "  <th>ar.L5</th>    <td>    1.2016</td> <td>    0.173</td> <td>    6.957</td> <td> 0.000</td> <td>    0.863</td> <td>    1.540</td>\n",
       "</tr>\n",
       "<tr>\n",
       "  <th>ar.L6</th>    <td>   -1.6308</td> <td>    0.385</td> <td>   -4.236</td> <td> 0.000</td> <td>   -2.385</td> <td>   -0.876</td>\n",
       "</tr>\n",
       "<tr>\n",
       "  <th>ar.L7</th>    <td>    0.4706</td> <td>    0.231</td> <td>    2.035</td> <td> 0.042</td> <td>    0.017</td> <td>    0.924</td>\n",
       "</tr>\n",
       "<tr>\n",
       "  <th>ma.L1</th>    <td>   -0.4497</td> <td>    0.295</td> <td>   -1.525</td> <td> 0.127</td> <td>   -1.028</td> <td>    0.128</td>\n",
       "</tr>\n",
       "<tr>\n",
       "  <th>ma.L2</th>    <td>   -1.0185</td> <td>    0.090</td> <td>  -11.348</td> <td> 0.000</td> <td>   -1.194</td> <td>   -0.843</td>\n",
       "</tr>\n",
       "<tr>\n",
       "  <th>ma.L3</th>    <td>    0.9833</td> <td>    0.248</td> <td>    3.966</td> <td> 0.000</td> <td>    0.497</td> <td>    1.469</td>\n",
       "</tr>\n",
       "<tr>\n",
       "  <th>ma.L4</th>    <td>    0.6086</td> <td>    0.199</td> <td>    3.065</td> <td> 0.002</td> <td>    0.219</td> <td>    0.998</td>\n",
       "</tr>\n",
       "<tr>\n",
       "  <th>ma.L5</th>    <td>   -0.7739</td> <td>    0.240</td> <td>   -3.227</td> <td> 0.001</td> <td>   -1.244</td> <td>   -0.304</td>\n",
       "</tr>\n",
       "<tr>\n",
       "  <th>ma.L6</th>    <td>    0.0007</td> <td>    0.096</td> <td>    0.007</td> <td> 0.994</td> <td>   -0.187</td> <td>    0.189</td>\n",
       "</tr>\n",
       "<tr>\n",
       "  <th>ar.S.L52</th> <td>    0.6448</td> <td>    0.146</td> <td>    4.413</td> <td> 0.000</td> <td>    0.358</td> <td>    0.931</td>\n",
       "</tr>\n",
       "<tr>\n",
       "  <th>ma.S.L52</th> <td>   -0.4213</td> <td>    0.178</td> <td>   -2.370</td> <td> 0.018</td> <td>   -0.770</td> <td>   -0.073</td>\n",
       "</tr>\n",
       "<tr>\n",
       "  <th>sigma2</th>   <td>    1.5685</td> <td>    0.077</td> <td>   20.435</td> <td> 0.000</td> <td>    1.418</td> <td>    1.719</td>\n",
       "</tr>\n",
       "</table>\n",
       "<table class=\"simpletable\">\n",
       "<tr>\n",
       "  <th>Ljung-Box (L1) (Q):</th>     <td>1.42</td> <th>  Jarque-Bera (JB):  </th> <td>344.35</td>\n",
       "</tr>\n",
       "<tr>\n",
       "  <th>Prob(Q):</th>                <td>0.23</td> <th>  Prob(JB):          </th>  <td>0.00</td> \n",
       "</tr>\n",
       "<tr>\n",
       "  <th>Heteroskedasticity (H):</th> <td>0.81</td> <th>  Skew:              </th>  <td>-0.02</td>\n",
       "</tr>\n",
       "<tr>\n",
       "  <th>Prob(H) (two-sided):</th>    <td>0.21</td> <th>  Kurtosis:          </th>  <td>7.42</td> \n",
       "</tr>\n",
       "</table><br/><br/>Warnings:<br/>[1] Covariance matrix calculated using the outer product of gradients (complex-step)."
      ],
      "text/plain": [
       "<class 'statsmodels.iolib.summary.Summary'>\n",
       "\"\"\"\n",
       "                                     SARIMAX Results                                      \n",
       "==========================================================================================\n",
       "Dep. Variable:                                  y   No. Observations:                  423\n",
       "Model:             ARIMA(7, 0, 6)x(1, 0, [1], 52)   Log Likelihood                -702.678\n",
       "Date:                            Tue, 23 Feb 2021   AIC                           1439.356\n",
       "Time:                                    21:51:27   BIC                           1508.161\n",
       "Sample:                                         0   HQIC                          1466.543\n",
       "                                            - 423                                         \n",
       "Covariance Type:                              opg                                         \n",
       "==============================================================================\n",
       "                 coef    std err          z      P>|z|      [0.025      0.975]\n",
       "------------------------------------------------------------------------------\n",
       "const          9.3010      1.876      4.958      0.000       5.624      12.978\n",
       "ar.L1          2.0158      0.296      6.811      0.000       1.436       2.596\n",
       "ar.L2         -0.2755      0.428     -0.643      0.520      -1.115       0.564\n",
       "ar.L3         -2.2911      0.196    -11.684      0.000      -2.675      -1.907\n",
       "ar.L4          1.4884      0.574      2.593      0.010       0.363       2.614\n",
       "ar.L5          1.2016      0.173      6.957      0.000       0.863       1.540\n",
       "ar.L6         -1.6308      0.385     -4.236      0.000      -2.385      -0.876\n",
       "ar.L7          0.4706      0.231      2.035      0.042       0.017       0.924\n",
       "ma.L1         -0.4497      0.295     -1.525      0.127      -1.028       0.128\n",
       "ma.L2         -1.0185      0.090    -11.348      0.000      -1.194      -0.843\n",
       "ma.L3          0.9833      0.248      3.966      0.000       0.497       1.469\n",
       "ma.L4          0.6086      0.199      3.065      0.002       0.219       0.998\n",
       "ma.L5         -0.7739      0.240     -3.227      0.001      -1.244      -0.304\n",
       "ma.L6          0.0007      0.096      0.007      0.994      -0.187       0.189\n",
       "ar.S.L52       0.6448      0.146      4.413      0.000       0.358       0.931\n",
       "ma.S.L52      -0.4213      0.178     -2.370      0.018      -0.770      -0.073\n",
       "sigma2         1.5685      0.077     20.435      0.000       1.418       1.719\n",
       "===================================================================================\n",
       "Ljung-Box (L1) (Q):                   1.42   Jarque-Bera (JB):               344.35\n",
       "Prob(Q):                              0.23   Prob(JB):                         0.00\n",
       "Heteroskedasticity (H):               0.81   Skew:                            -0.02\n",
       "Prob(H) (two-sided):                  0.21   Kurtosis:                         7.42\n",
       "===================================================================================\n",
       "\n",
       "Warnings:\n",
       "[1] Covariance matrix calculated using the outer product of gradients (complex-step).\n",
       "\"\"\""
      ]
     },
     "execution_count": 40,
     "metadata": {},
     "output_type": "execute_result"
    }
   ],
   "source": [
    "model_fit.summary()"
   ]
  },
  {
   "cell_type": "code",
   "execution_count": 41,
   "id": "continental-spyware",
   "metadata": {},
   "outputs": [
    {
     "data": {
      "image/png": "[encoded data removed]",
      "text/plain": [
       "<Figure size 432x288 with 1 Axes>"
      ]
     },
     "metadata": {
      "needs_background": "light"
     },
     "output_type": "display_data"
    }
   ],
   "source": [
    "residuals = pd.DataFrame(model_fit.resid)\n",
    "residuals.plot()\n",
    "pyplot.show()"
   ]
  },
  {
   "cell_type": "code",
   "execution_count": 42,
   "id": "distant-collar",
   "metadata": {},
   "outputs": [
    {
     "data": {
      "image/png": "[encoded data removed]",
      "text/plain": [
       "<Figure size 432x288 with 1 Axes>"
      ]
     },
     "metadata": {
      "needs_background": "light"
     },
     "output_type": "display_data"
    }
   ],
   "source": [
    "residuals.plot(kind='kde')\n",
    "pyplot.show()"
   ]
  },
  {
   "cell_type": "code",
   "execution_count": 43,
   "id": "natural-rebound",
   "metadata": {},
   "outputs": [
    {
     "data": {
      "text/html": [
       "<div>\n",
       "<style scoped>\n",
       "    .dataframe tbody tr th:only-of-type {\n",
       "        vertical-align: middle;\n",
       "    }\n",
       "\n",
       "    .dataframe tbody tr th {\n",
       "        vertical-align: top;\n",
       "    }\n",
       "\n",
       "    .dataframe thead th {\n",
       "        text-align: right;\n",
       "    }\n",
       "</style>\n",
       "<table border=\"1\" class=\"dataframe\">\n",
       "  <thead>\n",
       "    <tr style=\"text-align: right;\">\n",
       "      <th></th>\n",
       "      <th>0</th>\n",
       "    </tr>\n",
       "  </thead>\n",
       "  <tbody>\n",
       "    <tr>\n",
       "      <th>count</th>\n",
       "      <td>423.000000</td>\n",
       "    </tr>\n",
       "    <tr>\n",
       "      <th>mean</th>\n",
       "      <td>0.028838</td>\n",
       "    </tr>\n",
       "    <tr>\n",
       "      <th>std</th>\n",
       "      <td>1.791990</td>\n",
       "    </tr>\n",
       "    <tr>\n",
       "      <th>min</th>\n",
       "      <td>-5.681551</td>\n",
       "    </tr>\n",
       "    <tr>\n",
       "      <th>25%</th>\n",
       "      <td>-0.641629</td>\n",
       "    </tr>\n",
       "    <tr>\n",
       "      <th>50%</th>\n",
       "      <td>-0.118033</td>\n",
       "    </tr>\n",
       "    <tr>\n",
       "      <th>75%</th>\n",
       "      <td>0.578079</td>\n",
       "    </tr>\n",
       "    <tr>\n",
       "      <th>max</th>\n",
       "      <td>26.229049</td>\n",
       "    </tr>\n",
       "  </tbody>\n",
       "</table>\n",
       "</div>"
      ],
      "text/plain": [
       "                0\n",
       "count  423.000000\n",
       "mean     0.028838\n",
       "std      1.791990\n",
       "min     -5.681551\n",
       "25%     -0.641629\n",
       "50%     -0.118033\n",
       "75%      0.578079\n",
       "max     26.229049"
      ]
     },
     "execution_count": 43,
     "metadata": {},
     "output_type": "execute_result"
    }
   ],
   "source": [
    "residuals.describe()"
   ]
  },
  {
   "cell_type": "code",
   "execution_count": 44,
   "id": "previous-fight",
   "metadata": {
    "scrolled": true
   },
   "outputs": [
    {
     "name": "stdout",
     "output_type": "stream",
     "text": [
      "     lb_stat  lb_pvalue\n",
      "24  7.459195   0.999496\n",
      "     lb_stat  lb_pvalue\n",
      "25  7.465651   0.999729\n",
      "     lb_stat  lb_pvalue\n",
      "26  7.467615   0.999858\n",
      "     lb_stat  lb_pvalue\n",
      "27  7.930779   0.999866\n",
      "     lb_stat  lb_pvalue\n",
      "28  8.129893    0.99991\n",
      "    lb_stat  lb_pvalue\n",
      "29  8.19915   0.999949\n",
      "     lb_stat  lb_pvalue\n",
      "30  8.406996   0.999965\n",
      "     lb_stat  lb_pvalue\n",
      "31  8.773425   0.999971\n",
      "     lb_stat  lb_pvalue\n",
      "32  8.823559   0.999984\n",
      "     lb_stat  lb_pvalue\n",
      "33  8.912548   0.999991\n",
      "     lb_stat  lb_pvalue\n",
      "34  9.247614   0.999993\n",
      "    lb_stat  lb_pvalue\n",
      "35  9.51945   0.999994\n",
      "     lb_stat  lb_pvalue\n",
      "36  9.635349   0.999997\n",
      "     lb_stat  lb_pvalue\n",
      "37  9.818269   0.999998\n",
      "     lb_stat  lb_pvalue\n",
      "38  9.833074   0.999999\n",
      "      lb_stat  lb_pvalue\n",
      "39  10.082644   0.999999\n",
      "      lb_stat  lb_pvalue\n",
      "40  10.887463   0.999999\n",
      "      lb_stat  lb_pvalue\n",
      "41  12.082507   0.999997\n",
      "      lb_stat  lb_pvalue\n",
      "42  12.098061   0.999998\n",
      "      lb_stat  lb_pvalue\n",
      "43  12.276818   0.999999\n",
      "      lb_stat  lb_pvalue\n",
      "44  12.550153   0.999999\n",
      "     lb_stat  lb_pvalue\n",
      "45  13.97013   0.999998\n",
      "      lb_stat  lb_pvalue\n",
      "46  14.072024   0.999999\n",
      "      lb_stat  lb_pvalue\n",
      "47  14.530733   0.999999\n",
      "      lb_stat  lb_pvalue\n",
      "48  20.389558   0.999841\n",
      "      lb_stat  lb_pvalue\n",
      "49  20.962756   0.999848\n",
      "      lb_stat  lb_pvalue\n",
      "50  30.993372   0.984055\n"
     ]
    }
   ],
   "source": [
    "for i in range(24,51):\n",
    "    print(sm.stats.acorr_ljungbox(model_fit.resid, lags=[i], return_df=True))"
   ]
  },
  {
   "cell_type": "markdown",
   "id": "heavy-belle",
   "metadata": {},
   "source": [
    "#### No serial correlation"
   ]
  },
  {
   "cell_type": "code",
   "execution_count": 45,
   "id": "invisible-haiti",
   "metadata": {},
   "outputs": [
    {
     "data": {
      "image/png": "[encoded data removed]",
      "text/plain": [
       "<Figure size 432x288 with 1 Axes>"
      ]
     },
     "execution_count": 45,
     "metadata": {},
     "output_type": "execute_result"
    },
    {
     "data": {
      "image/png": "[encoded data removed]",
      "text/plain": [
       "<Figure size 432x288 with 1 Axes>"
      ]
     },
     "metadata": {
      "needs_background": "light"
     },
     "output_type": "display_data"
    }
   ],
   "source": [
    "sm.graphics.tsa.plot_acf(residuals.values)"
   ]
  },
  {
   "cell_type": "code",
   "execution_count": 46,
   "id": "characteristic-magnitude",
   "metadata": {},
   "outputs": [],
   "source": [
    "#Prediction\n",
    "X = flu_data.pct_positive.values\n",
    "size = int(len(X) * 0.80)\n",
    "train, test = X[0:size], X[size:len(X)]\n",
    "history = [x for x in train]\n",
    "predictions = list()"
   ]
  },
  {
   "cell_type": "code",
   "execution_count": 48,
   "id": "initial-synthetic",
   "metadata": {},
   "outputs": [
    {
     "name": "stderr",
     "output_type": "stream",
     "text": [
      "C:\\Users\\seans\\Anaconda3\\envs\\qtw\\lib\\site-packages\\statsmodels\\base\\model.py:568: ConvergenceWarning: Maximum Likelihood optimization failed to converge. Check mle_retvals\n",
      "  ConvergenceWarning)\n"
     ]
    },
    {
     "name": "stdout",
     "output_type": "stream",
     "text": [
      "predicted=1.919740, expected=2.930000\n"
     ]
    },
    {
     "name": "stderr",
     "output_type": "stream",
     "text": [
      "C:\\Users\\seans\\Anaconda3\\envs\\qtw\\lib\\site-packages\\statsmodels\\base\\model.py:568: ConvergenceWarning: Maximum Likelihood optimization failed to converge. Check mle_retvals\n",
      "  ConvergenceWarning)\n"
     ]
    },
    {
     "name": "stdout",
     "output_type": "stream",
     "text": [
      "predicted=-1.966399, expected=3.310000\n"
     ]
    },
    {
     "name": "stderr",
     "output_type": "stream",
     "text": [
      "C:\\Users\\seans\\Anaconda3\\envs\\qtw\\lib\\site-packages\\statsmodels\\base\\model.py:568: ConvergenceWarning: Maximum Likelihood optimization failed to converge. Check mle_retvals\n",
      "  ConvergenceWarning)\n"
     ]
    },
    {
     "name": "stdout",
     "output_type": "stream",
     "text": [
      "predicted=2.562170, expected=2.620000\n"
     ]
    },
    {
     "name": "stderr",
     "output_type": "stream",
     "text": [
      "C:\\Users\\seans\\Anaconda3\\envs\\qtw\\lib\\site-packages\\statsmodels\\base\\model.py:568: ConvergenceWarning: Maximum Likelihood optimization failed to converge. Check mle_retvals\n",
      "  ConvergenceWarning)\n"
     ]
    },
    {
     "name": "stdout",
     "output_type": "stream",
     "text": [
      "predicted=1.205731, expected=3.080000\n"
     ]
    },
    {
     "name": "stderr",
     "output_type": "stream",
     "text": [
      "C:\\Users\\seans\\Anaconda3\\envs\\qtw\\lib\\site-packages\\statsmodels\\base\\model.py:568: ConvergenceWarning: Maximum Likelihood optimization failed to converge. Check mle_retvals\n",
      "  ConvergenceWarning)\n"
     ]
    },
    {
     "name": "stdout",
     "output_type": "stream",
     "text": [
      "predicted=2.501771, expected=3.070000\n"
     ]
    },
    {
     "name": "stderr",
     "output_type": "stream",
     "text": [
      "C:\\Users\\seans\\Anaconda3\\envs\\qtw\\lib\\site-packages\\statsmodels\\base\\model.py:568: ConvergenceWarning: Maximum Likelihood optimization failed to converge. Check mle_retvals\n",
      "  ConvergenceWarning)\n"
     ]
    },
    {
     "name": "stdout",
     "output_type": "stream",
     "text": [
      "predicted=2.931606, expected=3.020000\n"
     ]
    },
    {
     "name": "stderr",
     "output_type": "stream",
     "text": [
      "C:\\Users\\seans\\Anaconda3\\envs\\qtw\\lib\\site-packages\\statsmodels\\base\\model.py:568: ConvergenceWarning: Maximum Likelihood optimization failed to converge. Check mle_retvals\n",
      "  ConvergenceWarning)\n"
     ]
    },
    {
     "name": "stdout",
     "output_type": "stream",
     "text": [
      "predicted=3.481846, expected=2.660000\n"
     ]
    },
    {
     "name": "stderr",
     "output_type": "stream",
     "text": [
      "C:\\Users\\seans\\Anaconda3\\envs\\qtw\\lib\\site-packages\\statsmodels\\base\\model.py:568: ConvergenceWarning: Maximum Likelihood optimization failed to converge. Check mle_retvals\n",
      "  ConvergenceWarning)\n"
     ]
    },
    {
     "name": "stdout",
     "output_type": "stream",
     "text": [
      "predicted=2.752709, expected=3.090000\n"
     ]
    },
    {
     "name": "stderr",
     "output_type": "stream",
     "text": [
      "C:\\Users\\seans\\Anaconda3\\envs\\qtw\\lib\\site-packages\\statsmodels\\base\\model.py:568: ConvergenceWarning: Maximum Likelihood optimization failed to converge. Check mle_retvals\n",
      "  ConvergenceWarning)\n"
     ]
    },
    {
     "name": "stdout",
     "output_type": "stream",
     "text": [
      "predicted=3.096659, expected=3.270000\n"
     ]
    },
    {
     "name": "stderr",
     "output_type": "stream",
     "text": [
      "C:\\Users\\seans\\Anaconda3\\envs\\qtw\\lib\\site-packages\\statsmodels\\base\\model.py:568: ConvergenceWarning: Maximum Likelihood optimization failed to converge. Check mle_retvals\n",
      "  ConvergenceWarning)\n"
     ]
    },
    {
     "name": "stdout",
     "output_type": "stream",
     "text": [
      "predicted=3.090666, expected=4.130000\n"
     ]
    },
    {
     "name": "stderr",
     "output_type": "stream",
     "text": [
      "C:\\Users\\seans\\Anaconda3\\envs\\qtw\\lib\\site-packages\\statsmodels\\base\\model.py:568: ConvergenceWarning: Maximum Likelihood optimization failed to converge. Check mle_retvals\n",
      "  ConvergenceWarning)\n"
     ]
    },
    {
     "name": "stdout",
     "output_type": "stream",
     "text": [
      "predicted=4.991836, expected=3.880000\n"
     ]
    },
    {
     "name": "stderr",
     "output_type": "stream",
     "text": [
      "C:\\Users\\seans\\Anaconda3\\envs\\qtw\\lib\\site-packages\\statsmodels\\base\\model.py:568: ConvergenceWarning: Maximum Likelihood optimization failed to converge. Check mle_retvals\n",
      "  ConvergenceWarning)\n"
     ]
    },
    {
     "name": "stdout",
     "output_type": "stream",
     "text": [
      "predicted=3.871060, expected=3.400000\n"
     ]
    },
    {
     "name": "stderr",
     "output_type": "stream",
     "text": [
      "C:\\Users\\seans\\Anaconda3\\envs\\qtw\\lib\\site-packages\\statsmodels\\base\\model.py:568: ConvergenceWarning: Maximum Likelihood optimization failed to converge. Check mle_retvals\n",
      "  ConvergenceWarning)\n"
     ]
    },
    {
     "name": "stdout",
     "output_type": "stream",
     "text": [
      "predicted=3.573839, expected=3.540000\n"
     ]
    },
    {
     "name": "stderr",
     "output_type": "stream",
     "text": [
      "C:\\Users\\seans\\Anaconda3\\envs\\qtw\\lib\\site-packages\\statsmodels\\base\\model.py:568: ConvergenceWarning: Maximum Likelihood optimization failed to converge. Check mle_retvals\n",
      "  ConvergenceWarning)\n"
     ]
    },
    {
     "name": "stdout",
     "output_type": "stream",
     "text": [
      "predicted=4.045717, expected=3.460000\n"
     ]
    },
    {
     "name": "stderr",
     "output_type": "stream",
     "text": [
      "C:\\Users\\seans\\Anaconda3\\envs\\qtw\\lib\\site-packages\\statsmodels\\base\\model.py:568: ConvergenceWarning: Maximum Likelihood optimization failed to converge. Check mle_retvals\n",
      "  ConvergenceWarning)\n"
     ]
    },
    {
     "name": "stdout",
     "output_type": "stream",
     "text": [
      "predicted=3.548430, expected=2.050000\n"
     ]
    },
    {
     "name": "stderr",
     "output_type": "stream",
     "text": [
      "C:\\Users\\seans\\Anaconda3\\envs\\qtw\\lib\\site-packages\\statsmodels\\base\\model.py:568: ConvergenceWarning: Maximum Likelihood optimization failed to converge. Check mle_retvals\n",
      "  ConvergenceWarning)\n"
     ]
    },
    {
     "name": "stdout",
     "output_type": "stream",
     "text": [
      "predicted=1.032210, expected=2.260000\n"
     ]
    },
    {
     "name": "stderr",
     "output_type": "stream",
     "text": [
      "C:\\Users\\seans\\Anaconda3\\envs\\qtw\\lib\\site-packages\\statsmodels\\base\\model.py:568: ConvergenceWarning: Maximum Likelihood optimization failed to converge. Check mle_retvals\n",
      "  ConvergenceWarning)\n"
     ]
    },
    {
     "name": "stdout",
     "output_type": "stream",
     "text": [
      "predicted=2.805243, expected=2.440000\n"
     ]
    },
    {
     "name": "stderr",
     "output_type": "stream",
     "text": [
      "C:\\Users\\seans\\Anaconda3\\envs\\qtw\\lib\\site-packages\\statsmodels\\base\\model.py:568: ConvergenceWarning: Maximum Likelihood optimization failed to converge. Check mle_retvals\n",
      "  ConvergenceWarning)\n"
     ]
    },
    {
     "name": "stdout",
     "output_type": "stream",
     "text": [
      "predicted=2.937833, expected=3.270000\n"
     ]
    },
    {
     "name": "stderr",
     "output_type": "stream",
     "text": [
      "C:\\Users\\seans\\Anaconda3\\envs\\qtw\\lib\\site-packages\\statsmodels\\base\\model.py:568: ConvergenceWarning: Maximum Likelihood optimization failed to converge. Check mle_retvals\n",
      "  ConvergenceWarning)\n"
     ]
    },
    {
     "name": "stdout",
     "output_type": "stream",
     "text": [
      "predicted=4.024752, expected=4.210000\n"
     ]
    },
    {
     "name": "stderr",
     "output_type": "stream",
     "text": [
      "C:\\Users\\seans\\Anaconda3\\envs\\qtw\\lib\\site-packages\\statsmodels\\base\\model.py:568: ConvergenceWarning: Maximum Likelihood optimization failed to converge. Check mle_retvals\n",
      "  ConvergenceWarning)\n"
     ]
    },
    {
     "name": "stdout",
     "output_type": "stream",
     "text": [
      "predicted=4.747882, expected=7.080000\n"
     ]
    },
    {
     "name": "stderr",
     "output_type": "stream",
     "text": [
      "C:\\Users\\seans\\Anaconda3\\envs\\qtw\\lib\\site-packages\\statsmodels\\base\\model.py:568: ConvergenceWarning: Maximum Likelihood optimization failed to converge. Check mle_retvals\n",
      "  ConvergenceWarning)\n"
     ]
    },
    {
     "name": "stdout",
     "output_type": "stream",
     "text": [
      "predicted=8.873240, expected=8.640000\n"
     ]
    },
    {
     "name": "stderr",
     "output_type": "stream",
     "text": [
      "C:\\Users\\seans\\Anaconda3\\envs\\qtw\\lib\\site-packages\\statsmodels\\base\\model.py:568: ConvergenceWarning: Maximum Likelihood optimization failed to converge. Check mle_retvals\n",
      "  ConvergenceWarning)\n"
     ]
    },
    {
     "name": "stdout",
     "output_type": "stream",
     "text": [
      "predicted=9.916744, expected=11.700000\n"
     ]
    },
    {
     "name": "stderr",
     "output_type": "stream",
     "text": [
      "C:\\Users\\seans\\Anaconda3\\envs\\qtw\\lib\\site-packages\\statsmodels\\base\\model.py:568: ConvergenceWarning: Maximum Likelihood optimization failed to converge. Check mle_retvals\n",
      "  ConvergenceWarning)\n"
     ]
    },
    {
     "name": "stdout",
     "output_type": "stream",
     "text": [
      "predicted=13.450961, expected=13.420000\n"
     ]
    },
    {
     "name": "stderr",
     "output_type": "stream",
     "text": [
      "C:\\Users\\seans\\Anaconda3\\envs\\qtw\\lib\\site-packages\\statsmodels\\base\\model.py:568: ConvergenceWarning: Maximum Likelihood optimization failed to converge. Check mle_retvals\n",
      "  ConvergenceWarning)\n"
     ]
    },
    {
     "name": "stdout",
     "output_type": "stream",
     "text": [
      "predicted=14.336760, expected=14.240000\n"
     ]
    },
    {
     "name": "stderr",
     "output_type": "stream",
     "text": [
      "C:\\Users\\seans\\Anaconda3\\envs\\qtw\\lib\\site-packages\\statsmodels\\base\\model.py:568: ConvergenceWarning: Maximum Likelihood optimization failed to converge. Check mle_retvals\n",
      "  ConvergenceWarning)\n"
     ]
    },
    {
     "name": "stdout",
     "output_type": "stream",
     "text": [
      "predicted=14.586947, expected=18.850000\n"
     ]
    },
    {
     "name": "stderr",
     "output_type": "stream",
     "text": [
      "C:\\Users\\seans\\Anaconda3\\envs\\qtw\\lib\\site-packages\\statsmodels\\base\\model.py:568: ConvergenceWarning: Maximum Likelihood optimization failed to converge. Check mle_retvals\n",
      "  ConvergenceWarning)\n"
     ]
    },
    {
     "name": "stdout",
     "output_type": "stream",
     "text": [
      "predicted=21.059925, expected=25.130000\n"
     ]
    },
    {
     "name": "stderr",
     "output_type": "stream",
     "text": [
      "C:\\Users\\seans\\Anaconda3\\envs\\qtw\\lib\\site-packages\\statsmodels\\base\\model.py:568: ConvergenceWarning: Maximum Likelihood optimization failed to converge. Check mle_retvals\n",
      "  ConvergenceWarning)\n"
     ]
    },
    {
     "name": "stdout",
     "output_type": "stream",
     "text": [
      "predicted=28.171026, expected=29.700000\n"
     ]
    },
    {
     "name": "stderr",
     "output_type": "stream",
     "text": [
      "C:\\Users\\seans\\Anaconda3\\envs\\qtw\\lib\\site-packages\\statsmodels\\base\\model.py:568: ConvergenceWarning: Maximum Likelihood optimization failed to converge. Check mle_retvals\n",
      "  ConvergenceWarning)\n"
     ]
    },
    {
     "name": "stdout",
     "output_type": "stream",
     "text": [
      "predicted=31.396967, expected=26.220000\n"
     ]
    },
    {
     "name": "stderr",
     "output_type": "stream",
     "text": [
      "C:\\Users\\seans\\Anaconda3\\envs\\qtw\\lib\\site-packages\\statsmodels\\base\\model.py:568: ConvergenceWarning: Maximum Likelihood optimization failed to converge. Check mle_retvals\n",
      "  ConvergenceWarning)\n"
     ]
    },
    {
     "name": "stdout",
     "output_type": "stream",
     "text": [
      "predicted=24.523262, expected=25.880000\n"
     ]
    },
    {
     "name": "stderr",
     "output_type": "stream",
     "text": [
      "C:\\Users\\seans\\Anaconda3\\envs\\qtw\\lib\\site-packages\\statsmodels\\base\\model.py:568: ConvergenceWarning: Maximum Likelihood optimization failed to converge. Check mle_retvals\n",
      "  ConvergenceWarning)\n"
     ]
    },
    {
     "name": "stdout",
     "output_type": "stream",
     "text": [
      "predicted=25.028295, expected=29.070000\n"
     ]
    },
    {
     "name": "stderr",
     "output_type": "stream",
     "text": [
      "C:\\Users\\seans\\Anaconda3\\envs\\qtw\\lib\\site-packages\\statsmodels\\base\\model.py:568: ConvergenceWarning: Maximum Likelihood optimization failed to converge. Check mle_retvals\n",
      "  ConvergenceWarning)\n"
     ]
    },
    {
     "name": "stdout",
     "output_type": "stream",
     "text": [
      "predicted=29.895314, expected=30.970000\n"
     ]
    },
    {
     "name": "stderr",
     "output_type": "stream",
     "text": [
      "C:\\Users\\seans\\Anaconda3\\envs\\qtw\\lib\\site-packages\\statsmodels\\base\\model.py:568: ConvergenceWarning: Maximum Likelihood optimization failed to converge. Check mle_retvals\n",
      "  ConvergenceWarning)\n"
     ]
    },
    {
     "name": "stdout",
     "output_type": "stream",
     "text": [
      "predicted=31.567936, expected=32.760000\n"
     ]
    },
    {
     "name": "stderr",
     "output_type": "stream",
     "text": [
      "C:\\Users\\seans\\Anaconda3\\envs\\qtw\\lib\\site-packages\\statsmodels\\base\\model.py:568: ConvergenceWarning: Maximum Likelihood optimization failed to converge. Check mle_retvals\n",
      "  ConvergenceWarning)\n"
     ]
    },
    {
     "name": "stdout",
     "output_type": "stream",
     "text": [
      "predicted=33.103357, expected=32.780000\n"
     ]
    },
    {
     "name": "stderr",
     "output_type": "stream",
     "text": [
      "C:\\Users\\seans\\Anaconda3\\envs\\qtw\\lib\\site-packages\\statsmodels\\base\\model.py:568: ConvergenceWarning: Maximum Likelihood optimization failed to converge. Check mle_retvals\n",
      "  ConvergenceWarning)\n"
     ]
    },
    {
     "name": "stdout",
     "output_type": "stream",
     "text": [
      "predicted=31.768114, expected=32.080000\n"
     ]
    },
    {
     "name": "stderr",
     "output_type": "stream",
     "text": [
      "C:\\Users\\seans\\Anaconda3\\envs\\qtw\\lib\\site-packages\\statsmodels\\base\\model.py:568: ConvergenceWarning: Maximum Likelihood optimization failed to converge. Check mle_retvals\n",
      "  ConvergenceWarning)\n"
     ]
    },
    {
     "name": "stdout",
     "output_type": "stream",
     "text": [
      "predicted=31.197013, expected=30.420000\n"
     ]
    },
    {
     "name": "stderr",
     "output_type": "stream",
     "text": [
      "C:\\Users\\seans\\Anaconda3\\envs\\qtw\\lib\\site-packages\\statsmodels\\base\\model.py:568: ConvergenceWarning: Maximum Likelihood optimization failed to converge. Check mle_retvals\n",
      "  ConvergenceWarning)\n"
     ]
    },
    {
     "name": "stdout",
     "output_type": "stream",
     "text": [
      "predicted=28.718018, expected=27.790000\n"
     ]
    },
    {
     "name": "stderr",
     "output_type": "stream",
     "text": [
      "C:\\Users\\seans\\Anaconda3\\envs\\qtw\\lib\\site-packages\\statsmodels\\base\\model.py:568: ConvergenceWarning: Maximum Likelihood optimization failed to converge. Check mle_retvals\n",
      "  ConvergenceWarning)\n"
     ]
    },
    {
     "name": "stdout",
     "output_type": "stream",
     "text": [
      "predicted=25.143969, expected=24.390000\n"
     ]
    },
    {
     "name": "stderr",
     "output_type": "stream",
     "text": [
      "C:\\Users\\seans\\Anaconda3\\envs\\qtw\\lib\\site-packages\\statsmodels\\base\\model.py:568: ConvergenceWarning: Maximum Likelihood optimization failed to converge. Check mle_retvals\n",
      "  ConvergenceWarning)\n"
     ]
    },
    {
     "name": "stdout",
     "output_type": "stream",
     "text": [
      "predicted=21.940669, expected=17.060000\n"
     ]
    },
    {
     "name": "stderr",
     "output_type": "stream",
     "text": [
      "C:\\Users\\seans\\Anaconda3\\envs\\qtw\\lib\\site-packages\\statsmodels\\base\\model.py:568: ConvergenceWarning: Maximum Likelihood optimization failed to converge. Check mle_retvals\n",
      "  ConvergenceWarning)\n"
     ]
    },
    {
     "name": "stdout",
     "output_type": "stream",
     "text": [
      "predicted=12.277943, expected=8.040000\n"
     ]
    },
    {
     "name": "stderr",
     "output_type": "stream",
     "text": [
      "C:\\Users\\seans\\Anaconda3\\envs\\qtw\\lib\\site-packages\\statsmodels\\base\\model.py:568: ConvergenceWarning: Maximum Likelihood optimization failed to converge. Check mle_retvals\n",
      "  ConvergenceWarning)\n"
     ]
    },
    {
     "name": "stdout",
     "output_type": "stream",
     "text": [
      "predicted=1.843482, expected=2.580000\n"
     ]
    },
    {
     "name": "stderr",
     "output_type": "stream",
     "text": [
      "C:\\Users\\seans\\Anaconda3\\envs\\qtw\\lib\\site-packages\\statsmodels\\base\\model.py:568: ConvergenceWarning: Maximum Likelihood optimization failed to converge. Check mle_retvals\n",
      "  ConvergenceWarning)\n"
     ]
    },
    {
     "name": "stdout",
     "output_type": "stream",
     "text": [
      "predicted=-2.963406, expected=1.150000\n"
     ]
    },
    {
     "name": "stderr",
     "output_type": "stream",
     "text": [
      "C:\\Users\\seans\\Anaconda3\\envs\\qtw\\lib\\site-packages\\statsmodels\\base\\model.py:568: ConvergenceWarning: Maximum Likelihood optimization failed to converge. Check mle_retvals\n",
      "  ConvergenceWarning)\n"
     ]
    },
    {
     "name": "stdout",
     "output_type": "stream",
     "text": [
      "predicted=-0.012206, expected=0.760000\n"
     ]
    },
    {
     "name": "stderr",
     "output_type": "stream",
     "text": [
      "C:\\Users\\seans\\Anaconda3\\envs\\qtw\\lib\\site-packages\\statsmodels\\base\\model.py:568: ConvergenceWarning: Maximum Likelihood optimization failed to converge. Check mle_retvals\n",
      "  ConvergenceWarning)\n"
     ]
    },
    {
     "name": "stdout",
     "output_type": "stream",
     "text": [
      "predicted=0.042374, expected=0.740000\n"
     ]
    },
    {
     "name": "stderr",
     "output_type": "stream",
     "text": [
      "C:\\Users\\seans\\Anaconda3\\envs\\qtw\\lib\\site-packages\\statsmodels\\base\\model.py:568: ConvergenceWarning: Maximum Likelihood optimization failed to converge. Check mle_retvals\n",
      "  ConvergenceWarning)\n"
     ]
    },
    {
     "name": "stdout",
     "output_type": "stream",
     "text": [
      "predicted=-0.086113, expected=0.430000\n"
     ]
    },
    {
     "name": "stderr",
     "output_type": "stream",
     "text": [
      "C:\\Users\\seans\\Anaconda3\\envs\\qtw\\lib\\site-packages\\statsmodels\\base\\model.py:568: ConvergenceWarning: Maximum Likelihood optimization failed to converge. Check mle_retvals\n",
      "  ConvergenceWarning)\n"
     ]
    },
    {
     "name": "stdout",
     "output_type": "stream",
     "text": [
      "predicted=0.015058, expected=0.490000\n"
     ]
    },
    {
     "name": "stderr",
     "output_type": "stream",
     "text": [
      "C:\\Users\\seans\\Anaconda3\\envs\\qtw\\lib\\site-packages\\statsmodels\\base\\model.py:568: ConvergenceWarning: Maximum Likelihood optimization failed to converge. Check mle_retvals\n",
      "  ConvergenceWarning)\n"
     ]
    },
    {
     "name": "stdout",
     "output_type": "stream",
     "text": [
      "predicted=0.700713, expected=0.610000\n"
     ]
    },
    {
     "name": "stderr",
     "output_type": "stream",
     "text": [
      "C:\\Users\\seans\\Anaconda3\\envs\\qtw\\lib\\site-packages\\statsmodels\\base\\model.py:568: ConvergenceWarning: Maximum Likelihood optimization failed to converge. Check mle_retvals\n",
      "  ConvergenceWarning)\n"
     ]
    },
    {
     "name": "stdout",
     "output_type": "stream",
     "text": [
      "predicted=0.562551, expected=0.600000\n"
     ]
    },
    {
     "name": "stderr",
     "output_type": "stream",
     "text": [
      "C:\\Users\\seans\\Anaconda3\\envs\\qtw\\lib\\site-packages\\statsmodels\\base\\model.py:568: ConvergenceWarning: Maximum Likelihood optimization failed to converge. Check mle_retvals\n",
      "  ConvergenceWarning)\n"
     ]
    },
    {
     "name": "stdout",
     "output_type": "stream",
     "text": [
      "predicted=0.494128, expected=0.210000\n"
     ]
    },
    {
     "name": "stderr",
     "output_type": "stream",
     "text": [
      "C:\\Users\\seans\\Anaconda3\\envs\\qtw\\lib\\site-packages\\statsmodels\\base\\model.py:568: ConvergenceWarning: Maximum Likelihood optimization failed to converge. Check mle_retvals\n",
      "  ConvergenceWarning)\n"
     ]
    },
    {
     "name": "stdout",
     "output_type": "stream",
     "text": [
      "predicted=-0.583640, expected=0.210000\n"
     ]
    },
    {
     "name": "stderr",
     "output_type": "stream",
     "text": [
      "C:\\Users\\seans\\Anaconda3\\envs\\qtw\\lib\\site-packages\\statsmodels\\base\\model.py:568: ConvergenceWarning: Maximum Likelihood optimization failed to converge. Check mle_retvals\n",
      "  ConvergenceWarning)\n"
     ]
    },
    {
     "name": "stdout",
     "output_type": "stream",
     "text": [
      "predicted=0.542321, expected=0.350000\n"
     ]
    },
    {
     "name": "stderr",
     "output_type": "stream",
     "text": [
      "C:\\Users\\seans\\Anaconda3\\envs\\qtw\\lib\\site-packages\\statsmodels\\base\\model.py:568: ConvergenceWarning: Maximum Likelihood optimization failed to converge. Check mle_retvals\n",
      "  ConvergenceWarning)\n"
     ]
    },
    {
     "name": "stdout",
     "output_type": "stream",
     "text": [
      "predicted=0.177512, expected=0.360000\n"
     ]
    },
    {
     "name": "stderr",
     "output_type": "stream",
     "text": [
      "C:\\Users\\seans\\Anaconda3\\envs\\qtw\\lib\\site-packages\\statsmodels\\base\\model.py:568: ConvergenceWarning: Maximum Likelihood optimization failed to converge. Check mle_retvals\n",
      "  ConvergenceWarning)\n"
     ]
    },
    {
     "name": "stdout",
     "output_type": "stream",
     "text": [
      "predicted=0.303009, expected=0.350000\n"
     ]
    },
    {
     "name": "stderr",
     "output_type": "stream",
     "text": [
      "C:\\Users\\seans\\Anaconda3\\envs\\qtw\\lib\\site-packages\\statsmodels\\base\\model.py:568: ConvergenceWarning: Maximum Likelihood optimization failed to converge. Check mle_retvals\n",
      "  ConvergenceWarning)\n"
     ]
    },
    {
     "name": "stdout",
     "output_type": "stream",
     "text": [
      "predicted=1.137388, expected=0.320000\n"
     ]
    },
    {
     "name": "stderr",
     "output_type": "stream",
     "text": [
      "C:\\Users\\seans\\Anaconda3\\envs\\qtw\\lib\\site-packages\\statsmodels\\base\\model.py:568: ConvergenceWarning: Maximum Likelihood optimization failed to converge. Check mle_retvals\n",
      "  ConvergenceWarning)\n"
     ]
    },
    {
     "name": "stdout",
     "output_type": "stream",
     "text": [
      "predicted=1.364065, expected=0.220000\n"
     ]
    },
    {
     "name": "stderr",
     "output_type": "stream",
     "text": [
      "C:\\Users\\seans\\Anaconda3\\envs\\qtw\\lib\\site-packages\\statsmodels\\base\\model.py:568: ConvergenceWarning: Maximum Likelihood optimization failed to converge. Check mle_retvals\n",
      "  ConvergenceWarning)\n"
     ]
    },
    {
     "name": "stdout",
     "output_type": "stream",
     "text": [
      "predicted=1.092958, expected=0.200000\n"
     ]
    },
    {
     "name": "stderr",
     "output_type": "stream",
     "text": [
      "C:\\Users\\seans\\Anaconda3\\envs\\qtw\\lib\\site-packages\\statsmodels\\base\\model.py:568: ConvergenceWarning: Maximum Likelihood optimization failed to converge. Check mle_retvals\n",
      "  ConvergenceWarning)\n"
     ]
    },
    {
     "name": "stdout",
     "output_type": "stream",
     "text": [
      "predicted=1.154753, expected=0.360000\n"
     ]
    },
    {
     "name": "stderr",
     "output_type": "stream",
     "text": [
      "C:\\Users\\seans\\Anaconda3\\envs\\qtw\\lib\\site-packages\\statsmodels\\base\\model.py:568: ConvergenceWarning: Maximum Likelihood optimization failed to converge. Check mle_retvals\n",
      "  ConvergenceWarning)\n"
     ]
    },
    {
     "name": "stdout",
     "output_type": "stream",
     "text": [
      "predicted=0.572670, expected=0.180000\n"
     ]
    },
    {
     "name": "stderr",
     "output_type": "stream",
     "text": [
      "C:\\Users\\seans\\Anaconda3\\envs\\qtw\\lib\\site-packages\\statsmodels\\base\\model.py:568: ConvergenceWarning: Maximum Likelihood optimization failed to converge. Check mle_retvals\n",
      "  ConvergenceWarning)\n"
     ]
    },
    {
     "name": "stdout",
     "output_type": "stream",
     "text": [
      "predicted=0.069247, expected=0.130000\n"
     ]
    },
    {
     "name": "stderr",
     "output_type": "stream",
     "text": [
      "C:\\Users\\seans\\Anaconda3\\envs\\qtw\\lib\\site-packages\\statsmodels\\base\\model.py:568: ConvergenceWarning: Maximum Likelihood optimization failed to converge. Check mle_retvals\n",
      "  ConvergenceWarning)\n"
     ]
    },
    {
     "name": "stdout",
     "output_type": "stream",
     "text": [
      "predicted=0.594397, expected=0.170000\n"
     ]
    },
    {
     "name": "stderr",
     "output_type": "stream",
     "text": [
      "C:\\Users\\seans\\Anaconda3\\envs\\qtw\\lib\\site-packages\\statsmodels\\base\\model.py:568: ConvergenceWarning: Maximum Likelihood optimization failed to converge. Check mle_retvals\n",
      "  ConvergenceWarning)\n"
     ]
    },
    {
     "name": "stdout",
     "output_type": "stream",
     "text": [
      "predicted=1.334100, expected=0.150000\n"
     ]
    },
    {
     "name": "stderr",
     "output_type": "stream",
     "text": [
      "C:\\Users\\seans\\Anaconda3\\envs\\qtw\\lib\\site-packages\\statsmodels\\base\\model.py:568: ConvergenceWarning: Maximum Likelihood optimization failed to converge. Check mle_retvals\n",
      "  ConvergenceWarning)\n"
     ]
    },
    {
     "name": "stdout",
     "output_type": "stream",
     "text": [
      "predicted=0.495380, expected=0.220000\n"
     ]
    },
    {
     "name": "stderr",
     "output_type": "stream",
     "text": [
      "C:\\Users\\seans\\Anaconda3\\envs\\qtw\\lib\\site-packages\\statsmodels\\base\\model.py:568: ConvergenceWarning: Maximum Likelihood optimization failed to converge. Check mle_retvals\n",
      "  ConvergenceWarning)\n"
     ]
    },
    {
     "name": "stdout",
     "output_type": "stream",
     "text": [
      "predicted=0.880684, expected=0.230000\n"
     ]
    },
    {
     "name": "stderr",
     "output_type": "stream",
     "text": [
      "C:\\Users\\seans\\Anaconda3\\envs\\qtw\\lib\\site-packages\\statsmodels\\base\\model.py:568: ConvergenceWarning: Maximum Likelihood optimization failed to converge. Check mle_retvals\n",
      "  ConvergenceWarning)\n"
     ]
    },
    {
     "name": "stdout",
     "output_type": "stream",
     "text": [
      "predicted=0.912636, expected=0.160000\n"
     ]
    },
    {
     "name": "stderr",
     "output_type": "stream",
     "text": [
      "C:\\Users\\seans\\Anaconda3\\envs\\qtw\\lib\\site-packages\\statsmodels\\base\\model.py:568: ConvergenceWarning: Maximum Likelihood optimization failed to converge. Check mle_retvals\n",
      "  ConvergenceWarning)\n"
     ]
    },
    {
     "name": "stdout",
     "output_type": "stream",
     "text": [
      "predicted=1.059573, expected=0.210000\n"
     ]
    },
    {
     "name": "stderr",
     "output_type": "stream",
     "text": [
      "C:\\Users\\seans\\Anaconda3\\envs\\qtw\\lib\\site-packages\\statsmodels\\base\\model.py:568: ConvergenceWarning: Maximum Likelihood optimization failed to converge. Check mle_retvals\n",
      "  ConvergenceWarning)\n"
     ]
    },
    {
     "name": "stdout",
     "output_type": "stream",
     "text": [
      "predicted=1.226115, expected=0.440000\n"
     ]
    },
    {
     "name": "stderr",
     "output_type": "stream",
     "text": [
      "C:\\Users\\seans\\Anaconda3\\envs\\qtw\\lib\\site-packages\\statsmodels\\base\\model.py:568: ConvergenceWarning: Maximum Likelihood optimization failed to converge. Check mle_retvals\n",
      "  ConvergenceWarning)\n"
     ]
    },
    {
     "name": "stdout",
     "output_type": "stream",
     "text": [
      "predicted=1.189625, expected=0.240000\n"
     ]
    },
    {
     "name": "stderr",
     "output_type": "stream",
     "text": [
      "C:\\Users\\seans\\Anaconda3\\envs\\qtw\\lib\\site-packages\\statsmodels\\base\\model.py:568: ConvergenceWarning: Maximum Likelihood optimization failed to converge. Check mle_retvals\n",
      "  ConvergenceWarning)\n"
     ]
    },
    {
     "name": "stdout",
     "output_type": "stream",
     "text": [
      "predicted=0.304985, expected=0.190000\n"
     ]
    },
    {
     "name": "stderr",
     "output_type": "stream",
     "text": [
      "C:\\Users\\seans\\Anaconda3\\envs\\qtw\\lib\\site-packages\\statsmodels\\base\\model.py:568: ConvergenceWarning: Maximum Likelihood optimization failed to converge. Check mle_retvals\n",
      "  ConvergenceWarning)\n"
     ]
    },
    {
     "name": "stdout",
     "output_type": "stream",
     "text": [
      "predicted=0.996537, expected=0.270000\n"
     ]
    },
    {
     "name": "stderr",
     "output_type": "stream",
     "text": [
      "C:\\Users\\seans\\Anaconda3\\envs\\qtw\\lib\\site-packages\\statsmodels\\base\\model.py:568: ConvergenceWarning: Maximum Likelihood optimization failed to converge. Check mle_retvals\n",
      "  ConvergenceWarning)\n"
     ]
    },
    {
     "name": "stdout",
     "output_type": "stream",
     "text": [
      "predicted=1.151164, expected=0.240000\n"
     ]
    },
    {
     "name": "stderr",
     "output_type": "stream",
     "text": [
      "C:\\Users\\seans\\Anaconda3\\envs\\qtw\\lib\\site-packages\\statsmodels\\base\\model.py:568: ConvergenceWarning: Maximum Likelihood optimization failed to converge. Check mle_retvals\n",
      "  ConvergenceWarning)\n"
     ]
    },
    {
     "name": "stdout",
     "output_type": "stream",
     "text": [
      "predicted=1.413854, expected=0.180000\n"
     ]
    },
    {
     "name": "stderr",
     "output_type": "stream",
     "text": [
      "C:\\Users\\seans\\Anaconda3\\envs\\qtw\\lib\\site-packages\\statsmodels\\base\\model.py:568: ConvergenceWarning: Maximum Likelihood optimization failed to converge. Check mle_retvals\n",
      "  ConvergenceWarning)\n"
     ]
    },
    {
     "name": "stdout",
     "output_type": "stream",
     "text": [
      "predicted=1.188026, expected=0.170000\n"
     ]
    },
    {
     "name": "stderr",
     "output_type": "stream",
     "text": [
      "C:\\Users\\seans\\Anaconda3\\envs\\qtw\\lib\\site-packages\\statsmodels\\base\\model.py:568: ConvergenceWarning: Maximum Likelihood optimization failed to converge. Check mle_retvals\n",
      "  ConvergenceWarning)\n"
     ]
    },
    {
     "name": "stdout",
     "output_type": "stream",
     "text": [
      "predicted=1.382500, expected=0.120000\n"
     ]
    },
    {
     "name": "stderr",
     "output_type": "stream",
     "text": [
      "C:\\Users\\seans\\Anaconda3\\envs\\qtw\\lib\\site-packages\\statsmodels\\base\\model.py:568: ConvergenceWarning: Maximum Likelihood optimization failed to converge. Check mle_retvals\n",
      "  ConvergenceWarning)\n"
     ]
    },
    {
     "name": "stdout",
     "output_type": "stream",
     "text": [
      "predicted=0.700063, expected=0.150000\n"
     ]
    },
    {
     "name": "stderr",
     "output_type": "stream",
     "text": [
      "C:\\Users\\seans\\Anaconda3\\envs\\qtw\\lib\\site-packages\\statsmodels\\base\\model.py:568: ConvergenceWarning: Maximum Likelihood optimization failed to converge. Check mle_retvals\n",
      "  ConvergenceWarning)\n"
     ]
    },
    {
     "name": "stdout",
     "output_type": "stream",
     "text": [
      "predicted=1.375240, expected=0.170000\n"
     ]
    },
    {
     "name": "stderr",
     "output_type": "stream",
     "text": [
      "C:\\Users\\seans\\Anaconda3\\envs\\qtw\\lib\\site-packages\\statsmodels\\base\\model.py:568: ConvergenceWarning: Maximum Likelihood optimization failed to converge. Check mle_retvals\n",
      "  ConvergenceWarning)\n"
     ]
    },
    {
     "name": "stdout",
     "output_type": "stream",
     "text": [
      "predicted=1.154615, expected=0.140000\n"
     ]
    },
    {
     "name": "stderr",
     "output_type": "stream",
     "text": [
      "C:\\Users\\seans\\Anaconda3\\envs\\qtw\\lib\\site-packages\\statsmodels\\base\\model.py:568: ConvergenceWarning: Maximum Likelihood optimization failed to converge. Check mle_retvals\n",
      "  ConvergenceWarning)\n"
     ]
    },
    {
     "name": "stdout",
     "output_type": "stream",
     "text": [
      "predicted=1.202936, expected=0.180000\n"
     ]
    },
    {
     "name": "stderr",
     "output_type": "stream",
     "text": [
      "C:\\Users\\seans\\Anaconda3\\envs\\qtw\\lib\\site-packages\\statsmodels\\base\\model.py:568: ConvergenceWarning: Maximum Likelihood optimization failed to converge. Check mle_retvals\n",
      "  ConvergenceWarning)\n"
     ]
    },
    {
     "name": "stdout",
     "output_type": "stream",
     "text": [
      "predicted=1.964247, expected=0.200000\n"
     ]
    },
    {
     "name": "stderr",
     "output_type": "stream",
     "text": [
      "C:\\Users\\seans\\Anaconda3\\envs\\qtw\\lib\\site-packages\\statsmodels\\base\\model.py:568: ConvergenceWarning: Maximum Likelihood optimization failed to converge. Check mle_retvals\n",
      "  ConvergenceWarning)\n"
     ]
    },
    {
     "name": "stdout",
     "output_type": "stream",
     "text": [
      "predicted=1.596263, expected=0.220000\n"
     ]
    },
    {
     "name": "stderr",
     "output_type": "stream",
     "text": [
      "C:\\Users\\seans\\Anaconda3\\envs\\qtw\\lib\\site-packages\\statsmodels\\base\\model.py:568: ConvergenceWarning: Maximum Likelihood optimization failed to converge. Check mle_retvals\n",
      "  ConvergenceWarning)\n"
     ]
    },
    {
     "name": "stdout",
     "output_type": "stream",
     "text": [
      "predicted=0.992962, expected=0.210000\n"
     ]
    },
    {
     "name": "stderr",
     "output_type": "stream",
     "text": [
      "C:\\Users\\seans\\Anaconda3\\envs\\qtw\\lib\\site-packages\\statsmodels\\base\\model.py:568: ConvergenceWarning: Maximum Likelihood optimization failed to converge. Check mle_retvals\n",
      "  ConvergenceWarning)\n"
     ]
    },
    {
     "name": "stdout",
     "output_type": "stream",
     "text": [
      "predicted=0.271679, expected=0.220000\n"
     ]
    },
    {
     "name": "stderr",
     "output_type": "stream",
     "text": [
      "C:\\Users\\seans\\Anaconda3\\envs\\qtw\\lib\\site-packages\\statsmodels\\base\\model.py:568: ConvergenceWarning: Maximum Likelihood optimization failed to converge. Check mle_retvals\n",
      "  ConvergenceWarning)\n"
     ]
    },
    {
     "name": "stdout",
     "output_type": "stream",
     "text": [
      "predicted=1.483008, expected=0.220000\n"
     ]
    },
    {
     "name": "stderr",
     "output_type": "stream",
     "text": [
      "C:\\Users\\seans\\Anaconda3\\envs\\qtw\\lib\\site-packages\\statsmodels\\base\\model.py:568: ConvergenceWarning: Maximum Likelihood optimization failed to converge. Check mle_retvals\n",
      "  ConvergenceWarning)\n"
     ]
    },
    {
     "name": "stdout",
     "output_type": "stream",
     "text": [
      "predicted=1.710283, expected=0.120000\n"
     ]
    },
    {
     "name": "stderr",
     "output_type": "stream",
     "text": [
      "C:\\Users\\seans\\Anaconda3\\envs\\qtw\\lib\\site-packages\\statsmodels\\base\\model.py:568: ConvergenceWarning: Maximum Likelihood optimization failed to converge. Check mle_retvals\n",
      "  ConvergenceWarning)\n"
     ]
    },
    {
     "name": "stdout",
     "output_type": "stream",
     "text": [
      "predicted=0.808768, expected=0.170000\n"
     ]
    },
    {
     "name": "stderr",
     "output_type": "stream",
     "text": [
      "C:\\Users\\seans\\Anaconda3\\envs\\qtw\\lib\\site-packages\\statsmodels\\base\\model.py:568: ConvergenceWarning: Maximum Likelihood optimization failed to converge. Check mle_retvals\n",
      "  ConvergenceWarning)\n"
     ]
    },
    {
     "name": "stdout",
     "output_type": "stream",
     "text": [
      "predicted=0.991180, expected=0.140000\n"
     ]
    },
    {
     "name": "stderr",
     "output_type": "stream",
     "text": [
      "C:\\Users\\seans\\Anaconda3\\envs\\qtw\\lib\\site-packages\\statsmodels\\base\\model.py:568: ConvergenceWarning: Maximum Likelihood optimization failed to converge. Check mle_retvals\n",
      "  ConvergenceWarning)\n"
     ]
    },
    {
     "name": "stdout",
     "output_type": "stream",
     "text": [
      "predicted=0.525951, expected=0.050000\n"
     ]
    }
   ],
   "source": [
    "for t in range(len(test)):\n",
    "    model = ARIMA(history, order=(7,0,6), seasonal_order = (1, 0, 1, 52))\n",
    "    model_fit = model.fit()\n",
    "    output = model_fit.forecast()\n",
    "    yhat = output[0]\n",
    "    predictions.append(yhat)\n",
    "    obs = test[t]\n",
    "    history.append(obs)\n",
    "    print('predicted=%f, expected=%f' % (yhat, obs))"
   ]
  },
  {
   "cell_type": "code",
   "execution_count": 49,
   "id": "embedded-memorabilia",
   "metadata": {},
   "outputs": [
    {
     "data": {
      "image/png": "[encoded data removed]",
      "text/plain": [
       "<Figure size 432x288 with 1 Axes>"
      ]
     },
     "metadata": {
      "needs_background": "light"
     },
     "output_type": "display_data"
    }
   ],
   "source": [
    "pyplot.plot(test)\n",
    "pyplot.plot(predictions, color='red')\n",
    "pyplot.show()"
   ]
  },
  {
   "cell_type": "code",
   "execution_count": 50,
   "id": "textile-lender",
   "metadata": {},
   "outputs": [
    {
     "name": "stderr",
     "output_type": "stream",
     "text": [
      "C:\\Users\\seans\\Anaconda3\\envs\\qtw\\lib\\site-packages\\statsmodels\\base\\model.py:568: ConvergenceWarning: Maximum Likelihood optimization failed to converge. Check mle_retvals\n",
      "  ConvergenceWarning)\n",
      "C:\\Users\\seans\\Anaconda3\\envs\\qtw\\lib\\site-packages\\statsmodels\\base\\model.py:568: ConvergenceWarning: Maximum Likelihood optimization failed to converge. Check mle_retvals\n",
      "  ConvergenceWarning)\n",
      "C:\\Users\\seans\\Anaconda3\\envs\\qtw\\lib\\site-packages\\statsmodels\\base\\model.py:568: ConvergenceWarning: Maximum Likelihood optimization failed to converge. Check mle_retvals\n",
      "  ConvergenceWarning)\n",
      "C:\\Users\\seans\\Anaconda3\\envs\\qtw\\lib\\site-packages\\statsmodels\\base\\model.py:568: ConvergenceWarning: Maximum Likelihood optimization failed to converge. Check mle_retvals\n",
      "  ConvergenceWarning)\n",
      "C:\\Users\\seans\\Anaconda3\\envs\\qtw\\lib\\site-packages\\statsmodels\\base\\model.py:568: ConvergenceWarning: Maximum Likelihood optimization failed to converge. Check mle_retvals\n",
      "  ConvergenceWarning)\n",
      "C:\\Users\\seans\\Anaconda3\\envs\\qtw\\lib\\site-packages\\statsmodels\\base\\model.py:568: ConvergenceWarning: Maximum Likelihood optimization failed to converge. Check mle_retvals\n",
      "  ConvergenceWarning)\n"
     ]
    },
    {
     "ename": "KeyboardInterrupt",
     "evalue": "",
     "output_type": "error",
     "traceback": [
      "\u001b[1;31m---------------------------------------------------------------------------\u001b[0m",
      "\u001b[1;31mKeyboardInterrupt\u001b[0m                         Traceback (most recent call last)",
      "\u001b[1;32m<ipython-input-50-023b57b13841>\u001b[0m in \u001b[0;36m<module>\u001b[1;34m\u001b[0m\n\u001b[0;32m      1\u001b[0m \u001b[1;31m#RMSE\u001b[0m\u001b[1;33m\u001b[0m\u001b[1;33m\u001b[0m\u001b[1;33m\u001b[0m\u001b[0m\n\u001b[1;32m----> 2\u001b[1;33m \u001b[0marima_seas_window_ase\u001b[0m\u001b[1;33m(\u001b[0m\u001b[0mflu_data\u001b[0m\u001b[1;33m.\u001b[0m\u001b[0mpct_positive\u001b[0m\u001b[1;33m,\u001b[0m \u001b[0mtrain_ratio\u001b[0m \u001b[1;33m=\u001b[0m \u001b[1;36m.80\u001b[0m\u001b[1;33m,\u001b[0m  \u001b[0morder\u001b[0m\u001b[1;33m=\u001b[0m\u001b[1;33m(\u001b[0m\u001b[1;36m7\u001b[0m\u001b[1;33m,\u001b[0m\u001b[1;36m0\u001b[0m\u001b[1;33m,\u001b[0m\u001b[1;36m6\u001b[0m\u001b[1;33m)\u001b[0m\u001b[1;33m,\u001b[0m \u001b[0mseasonal_order\u001b[0m \u001b[1;33m=\u001b[0m \u001b[1;33m(\u001b[0m\u001b[1;36m1\u001b[0m\u001b[1;33m,\u001b[0m \u001b[1;36m0\u001b[0m\u001b[1;33m,\u001b[0m \u001b[1;36m1\u001b[0m\u001b[1;33m,\u001b[0m \u001b[1;36m52\u001b[0m\u001b[1;33m)\u001b[0m\u001b[1;33m)\u001b[0m\u001b[1;33m\u001b[0m\u001b[1;33m\u001b[0m\u001b[0m\n\u001b[0m",
      "\u001b[1;32m<ipython-input-7-bc1914692e69>\u001b[0m in \u001b[0;36marima_seas_window_ase\u001b[1;34m(data_series, train_ratio, order, seasonal_order, simple_differencing)\u001b[0m\n\u001b[0;32m      8\u001b[0m         \u001b[0mmodel\u001b[0m \u001b[1;33m=\u001b[0m \u001b[0mARIMA\u001b[0m\u001b[1;33m(\u001b[0m\u001b[0mhistory\u001b[0m\u001b[1;33m,\u001b[0m \u001b[0morder\u001b[0m\u001b[1;33m=\u001b[0m\u001b[0morder\u001b[0m\u001b[1;33m)\u001b[0m\u001b[1;33m\u001b[0m\u001b[1;33m\u001b[0m\u001b[0m\n\u001b[0;32m      9\u001b[0m         \u001b[0mmodel\u001b[0m \u001b[1;33m=\u001b[0m \u001b[0msm\u001b[0m\u001b[1;33m.\u001b[0m\u001b[0mtsa\u001b[0m\u001b[1;33m.\u001b[0m\u001b[0mstatespace\u001b[0m\u001b[1;33m.\u001b[0m\u001b[0mSARIMAX\u001b[0m\u001b[1;33m(\u001b[0m\u001b[0mhistory\u001b[0m\u001b[1;33m,\u001b[0m \u001b[0morder\u001b[0m\u001b[1;33m=\u001b[0m\u001b[0morder\u001b[0m\u001b[1;33m,\u001b[0m \u001b[0mseasonal_order\u001b[0m\u001b[1;33m=\u001b[0m\u001b[0mseasonal_order\u001b[0m\u001b[1;33m,\u001b[0m\u001b[0msimple_differencing\u001b[0m\u001b[1;33m=\u001b[0m\u001b[0msimple_differencing\u001b[0m\u001b[1;33m)\u001b[0m\u001b[1;33m\u001b[0m\u001b[1;33m\u001b[0m\u001b[0m\n\u001b[1;32m---> 10\u001b[1;33m         \u001b[0mmodel_fit\u001b[0m \u001b[1;33m=\u001b[0m \u001b[0mmodel\u001b[0m\u001b[1;33m.\u001b[0m\u001b[0mfit\u001b[0m\u001b[1;33m(\u001b[0m\u001b[1;33m)\u001b[0m\u001b[1;33m\u001b[0m\u001b[1;33m\u001b[0m\u001b[0m\n\u001b[0m\u001b[0;32m     11\u001b[0m         \u001b[0mfore_cast\u001b[0m \u001b[1;33m=\u001b[0m \u001b[0mmodel_fit\u001b[0m\u001b[1;33m.\u001b[0m\u001b[0mforecast\u001b[0m\u001b[1;33m(\u001b[0m\u001b[1;33m)\u001b[0m\u001b[1;33m\u001b[0m\u001b[1;33m\u001b[0m\u001b[0m\n\u001b[0;32m     12\u001b[0m         \u001b[0myhat\u001b[0m \u001b[1;33m=\u001b[0m \u001b[0mfore_cast\u001b[0m\u001b[1;33m[\u001b[0m\u001b[1;36m0\u001b[0m\u001b[1;33m]\u001b[0m\u001b[1;33m\u001b[0m\u001b[1;33m\u001b[0m\u001b[0m\n",
      "\u001b[1;32m~\\Anaconda3\\envs\\qtw\\lib\\site-packages\\statsmodels\\tsa\\statespace\\mlemodel.py\u001b[0m in \u001b[0;36mfit\u001b[1;34m(self, start_params, transformed, includes_fixed, cov_type, cov_kwds, method, maxiter, full_output, disp, callback, return_params, optim_score, optim_complex_step, optim_hessian, flags, low_memory, **kwargs)\u001b[0m\n\u001b[0;32m    693\u001b[0m                                                \u001b[0mfull_output\u001b[0m\u001b[1;33m=\u001b[0m\u001b[0mfull_output\u001b[0m\u001b[1;33m,\u001b[0m\u001b[1;33m\u001b[0m\u001b[1;33m\u001b[0m\u001b[0m\n\u001b[0;32m    694\u001b[0m                                                \u001b[0mdisp\u001b[0m\u001b[1;33m=\u001b[0m\u001b[0mdisp\u001b[0m\u001b[1;33m,\u001b[0m \u001b[0mcallback\u001b[0m\u001b[1;33m=\u001b[0m\u001b[0mcallback\u001b[0m\u001b[1;33m,\u001b[0m\u001b[1;33m\u001b[0m\u001b[1;33m\u001b[0m\u001b[0m\n\u001b[1;32m--> 695\u001b[1;33m                                                skip_hessian=True, **kwargs)\n\u001b[0m\u001b[0;32m    696\u001b[0m \u001b[1;33m\u001b[0m\u001b[0m\n\u001b[0;32m    697\u001b[0m         \u001b[1;31m# Just return the fitted parameters if requested\u001b[0m\u001b[1;33m\u001b[0m\u001b[1;33m\u001b[0m\u001b[1;33m\u001b[0m\u001b[0m\n",
      "\u001b[1;32m~\\Anaconda3\\envs\\qtw\\lib\\site-packages\\statsmodels\\base\\model.py\u001b[0m in \u001b[0;36mfit\u001b[1;34m(self, start_params, method, maxiter, full_output, disp, fargs, callback, retall, skip_hessian, **kwargs)\u001b[0m\n\u001b[0;32m    525\u001b[0m                                                        \u001b[0mcallback\u001b[0m\u001b[1;33m=\u001b[0m\u001b[0mcallback\u001b[0m\u001b[1;33m,\u001b[0m\u001b[1;33m\u001b[0m\u001b[1;33m\u001b[0m\u001b[0m\n\u001b[0;32m    526\u001b[0m                                                        \u001b[0mretall\u001b[0m\u001b[1;33m=\u001b[0m\u001b[0mretall\u001b[0m\u001b[1;33m,\u001b[0m\u001b[1;33m\u001b[0m\u001b[1;33m\u001b[0m\u001b[0m\n\u001b[1;32m--> 527\u001b[1;33m                                                        full_output=full_output)\n\u001b[0m\u001b[0;32m    528\u001b[0m \u001b[1;33m\u001b[0m\u001b[0m\n\u001b[0;32m    529\u001b[0m         \u001b[1;31m# NOTE: this is for fit_regularized and should be generalized\u001b[0m\u001b[1;33m\u001b[0m\u001b[1;33m\u001b[0m\u001b[1;33m\u001b[0m\u001b[0m\n",
      "\u001b[1;32m~\\Anaconda3\\envs\\qtw\\lib\\site-packages\\statsmodels\\base\\optimizer.py\u001b[0m in \u001b[0;36m_fit\u001b[1;34m(self, objective, gradient, start_params, fargs, kwargs, hessian, method, maxiter, full_output, disp, callback, retall)\u001b[0m\n\u001b[0;32m    225\u001b[0m                             \u001b[0mdisp\u001b[0m\u001b[1;33m=\u001b[0m\u001b[0mdisp\u001b[0m\u001b[1;33m,\u001b[0m \u001b[0mmaxiter\u001b[0m\u001b[1;33m=\u001b[0m\u001b[0mmaxiter\u001b[0m\u001b[1;33m,\u001b[0m \u001b[0mcallback\u001b[0m\u001b[1;33m=\u001b[0m\u001b[0mcallback\u001b[0m\u001b[1;33m,\u001b[0m\u001b[1;33m\u001b[0m\u001b[1;33m\u001b[0m\u001b[0m\n\u001b[0;32m    226\u001b[0m                             \u001b[0mretall\u001b[0m\u001b[1;33m=\u001b[0m\u001b[0mretall\u001b[0m\u001b[1;33m,\u001b[0m \u001b[0mfull_output\u001b[0m\u001b[1;33m=\u001b[0m\u001b[0mfull_output\u001b[0m\u001b[1;33m,\u001b[0m\u001b[1;33m\u001b[0m\u001b[1;33m\u001b[0m\u001b[0m\n\u001b[1;32m--> 227\u001b[1;33m                             hess=hessian)\n\u001b[0m\u001b[0;32m    228\u001b[0m \u001b[1;33m\u001b[0m\u001b[0m\n\u001b[0;32m    229\u001b[0m         optim_settings = {'optimizer': method, 'start_params': start_params,\n",
      "\u001b[1;32m~\\Anaconda3\\envs\\qtw\\lib\\site-packages\\statsmodels\\base\\optimizer.py\u001b[0m in \u001b[0;36m_fit_lbfgs\u001b[1;34m(f, score, start_params, fargs, kwargs, disp, maxiter, callback, retall, full_output, hess)\u001b[0m\n\u001b[0;32m    630\u001b[0m                                      \u001b[0mcallback\u001b[0m\u001b[1;33m=\u001b[0m\u001b[0mcallback\u001b[0m\u001b[1;33m,\u001b[0m \u001b[0margs\u001b[0m\u001b[1;33m=\u001b[0m\u001b[0mfargs\u001b[0m\u001b[1;33m,\u001b[0m\u001b[1;33m\u001b[0m\u001b[1;33m\u001b[0m\u001b[0m\n\u001b[0;32m    631\u001b[0m                                      \u001b[0mbounds\u001b[0m\u001b[1;33m=\u001b[0m\u001b[0mbounds\u001b[0m\u001b[1;33m,\u001b[0m \u001b[0mdisp\u001b[0m\u001b[1;33m=\u001b[0m\u001b[0mdisp\u001b[0m\u001b[1;33m,\u001b[0m\u001b[1;33m\u001b[0m\u001b[1;33m\u001b[0m\u001b[0m\n\u001b[1;32m--> 632\u001b[1;33m                                      **extra_kwargs)\n\u001b[0m\u001b[0;32m    633\u001b[0m \u001b[1;33m\u001b[0m\u001b[0m\n\u001b[0;32m    634\u001b[0m     \u001b[1;32mif\u001b[0m \u001b[0mfull_output\u001b[0m\u001b[1;33m:\u001b[0m\u001b[1;33m\u001b[0m\u001b[1;33m\u001b[0m\u001b[0m\n",
      "\u001b[1;32m~\\Anaconda3\\envs\\qtw\\lib\\site-packages\\scipy\\optimize\\lbfgsb.py\u001b[0m in \u001b[0;36mfmin_l_bfgs_b\u001b[1;34m(func, x0, fprime, args, approx_grad, bounds, m, factr, pgtol, epsilon, iprint, maxfun, maxiter, disp, callback, maxls)\u001b[0m\n\u001b[0;32m    196\u001b[0m \u001b[1;33m\u001b[0m\u001b[0m\n\u001b[0;32m    197\u001b[0m     res = _minimize_lbfgsb(fun, x0, args=args, jac=jac, bounds=bounds,\n\u001b[1;32m--> 198\u001b[1;33m                            **opts)\n\u001b[0m\u001b[0;32m    199\u001b[0m     d = {'grad': res['jac'],\n\u001b[0;32m    200\u001b[0m          \u001b[1;34m'task'\u001b[0m\u001b[1;33m:\u001b[0m \u001b[0mres\u001b[0m\u001b[1;33m[\u001b[0m\u001b[1;34m'message'\u001b[0m\u001b[1;33m]\u001b[0m\u001b[1;33m,\u001b[0m\u001b[1;33m\u001b[0m\u001b[1;33m\u001b[0m\u001b[0m\n",
      "\u001b[1;32m~\\Anaconda3\\envs\\qtw\\lib\\site-packages\\scipy\\optimize\\lbfgsb.py\u001b[0m in \u001b[0;36m_minimize_lbfgsb\u001b[1;34m(fun, x0, args, jac, bounds, disp, maxcor, ftol, gtol, eps, maxfun, maxiter, iprint, callback, maxls, finite_diff_rel_step, **unknown_options)\u001b[0m\n\u001b[0;32m    358\u001b[0m             \u001b[1;31m# until the completion of the current minimization iteration.\u001b[0m\u001b[1;33m\u001b[0m\u001b[1;33m\u001b[0m\u001b[1;33m\u001b[0m\u001b[0m\n\u001b[0;32m    359\u001b[0m             \u001b[1;31m# Overwrite f and g:\u001b[0m\u001b[1;33m\u001b[0m\u001b[1;33m\u001b[0m\u001b[1;33m\u001b[0m\u001b[0m\n\u001b[1;32m--> 360\u001b[1;33m             \u001b[0mf\u001b[0m\u001b[1;33m,\u001b[0m \u001b[0mg\u001b[0m \u001b[1;33m=\u001b[0m \u001b[0mfunc_and_grad\u001b[0m\u001b[1;33m(\u001b[0m\u001b[0mx\u001b[0m\u001b[1;33m)\u001b[0m\u001b[1;33m\u001b[0m\u001b[1;33m\u001b[0m\u001b[0m\n\u001b[0m\u001b[0;32m    361\u001b[0m         \u001b[1;32melif\u001b[0m \u001b[0mtask_str\u001b[0m\u001b[1;33m.\u001b[0m\u001b[0mstartswith\u001b[0m\u001b[1;33m(\u001b[0m\u001b[1;34mb'NEW_X'\u001b[0m\u001b[1;33m)\u001b[0m\u001b[1;33m:\u001b[0m\u001b[1;33m\u001b[0m\u001b[1;33m\u001b[0m\u001b[0m\n\u001b[0;32m    362\u001b[0m             \u001b[1;31m# new iteration\u001b[0m\u001b[1;33m\u001b[0m\u001b[1;33m\u001b[0m\u001b[1;33m\u001b[0m\u001b[0m\n",
      "\u001b[1;32m~\\Anaconda3\\envs\\qtw\\lib\\site-packages\\scipy\\optimize\\_differentiable_functions.py\u001b[0m in \u001b[0;36mfun_and_grad\u001b[1;34m(self, x)\u001b[0m\n\u001b[0;32m    259\u001b[0m             \u001b[0mself\u001b[0m\u001b[1;33m.\u001b[0m\u001b[0m_update_x_impl\u001b[0m\u001b[1;33m(\u001b[0m\u001b[0mx\u001b[0m\u001b[1;33m)\u001b[0m\u001b[1;33m\u001b[0m\u001b[1;33m\u001b[0m\u001b[0m\n\u001b[0;32m    260\u001b[0m         \u001b[0mself\u001b[0m\u001b[1;33m.\u001b[0m\u001b[0m_update_fun\u001b[0m\u001b[1;33m(\u001b[0m\u001b[1;33m)\u001b[0m\u001b[1;33m\u001b[0m\u001b[1;33m\u001b[0m\u001b[0m\n\u001b[1;32m--> 261\u001b[1;33m         \u001b[0mself\u001b[0m\u001b[1;33m.\u001b[0m\u001b[0m_update_grad\u001b[0m\u001b[1;33m(\u001b[0m\u001b[1;33m)\u001b[0m\u001b[1;33m\u001b[0m\u001b[1;33m\u001b[0m\u001b[0m\n\u001b[0m\u001b[0;32m    262\u001b[0m         \u001b[1;32mreturn\u001b[0m \u001b[0mself\u001b[0m\u001b[1;33m.\u001b[0m\u001b[0mf\u001b[0m\u001b[1;33m,\u001b[0m \u001b[0mself\u001b[0m\u001b[1;33m.\u001b[0m\u001b[0mg\u001b[0m\u001b[1;33m\u001b[0m\u001b[1;33m\u001b[0m\u001b[0m\n\u001b[0;32m    263\u001b[0m \u001b[1;33m\u001b[0m\u001b[0m\n",
      "\u001b[1;32m~\\Anaconda3\\envs\\qtw\\lib\\site-packages\\scipy\\optimize\\_differentiable_functions.py\u001b[0m in \u001b[0;36m_update_grad\u001b[1;34m(self)\u001b[0m\n\u001b[0;32m    229\u001b[0m     \u001b[1;32mdef\u001b[0m \u001b[0m_update_grad\u001b[0m\u001b[1;33m(\u001b[0m\u001b[0mself\u001b[0m\u001b[1;33m)\u001b[0m\u001b[1;33m:\u001b[0m\u001b[1;33m\u001b[0m\u001b[1;33m\u001b[0m\u001b[0m\n\u001b[0;32m    230\u001b[0m         \u001b[1;32mif\u001b[0m \u001b[1;32mnot\u001b[0m \u001b[0mself\u001b[0m\u001b[1;33m.\u001b[0m\u001b[0mg_updated\u001b[0m\u001b[1;33m:\u001b[0m\u001b[1;33m\u001b[0m\u001b[1;33m\u001b[0m\u001b[0m\n\u001b[1;32m--> 231\u001b[1;33m             \u001b[0mself\u001b[0m\u001b[1;33m.\u001b[0m\u001b[0m_update_grad_impl\u001b[0m\u001b[1;33m(\u001b[0m\u001b[1;33m)\u001b[0m\u001b[1;33m\u001b[0m\u001b[1;33m\u001b[0m\u001b[0m\n\u001b[0m\u001b[0;32m    232\u001b[0m             \u001b[0mself\u001b[0m\u001b[1;33m.\u001b[0m\u001b[0mg_updated\u001b[0m \u001b[1;33m=\u001b[0m \u001b[1;32mTrue\u001b[0m\u001b[1;33m\u001b[0m\u001b[1;33m\u001b[0m\u001b[0m\n\u001b[0;32m    233\u001b[0m \u001b[1;33m\u001b[0m\u001b[0m\n",
      "\u001b[1;32m~\\Anaconda3\\envs\\qtw\\lib\\site-packages\\scipy\\optimize\\_differentiable_functions.py\u001b[0m in \u001b[0;36mupdate_grad\u001b[1;34m()\u001b[0m\n\u001b[0;32m    150\u001b[0m                 \u001b[0mself\u001b[0m\u001b[1;33m.\u001b[0m\u001b[0mngev\u001b[0m \u001b[1;33m+=\u001b[0m \u001b[1;36m1\u001b[0m\u001b[1;33m\u001b[0m\u001b[1;33m\u001b[0m\u001b[0m\n\u001b[0;32m    151\u001b[0m                 self.g = approx_derivative(fun_wrapped, self.x, f0=self.f,\n\u001b[1;32m--> 152\u001b[1;33m                                            **finite_diff_options)\n\u001b[0m\u001b[0;32m    153\u001b[0m \u001b[1;33m\u001b[0m\u001b[0m\n\u001b[0;32m    154\u001b[0m         \u001b[0mself\u001b[0m\u001b[1;33m.\u001b[0m\u001b[0m_update_grad_impl\u001b[0m \u001b[1;33m=\u001b[0m \u001b[0mupdate_grad\u001b[0m\u001b[1;33m\u001b[0m\u001b[1;33m\u001b[0m\u001b[0m\n",
      "\u001b[1;32m~\\Anaconda3\\envs\\qtw\\lib\\site-packages\\scipy\\optimize\\_numdiff.py\u001b[0m in \u001b[0;36mapprox_derivative\u001b[1;34m(fun, x0, method, rel_step, abs_step, f0, bounds, sparsity, as_linear_operator, args, kwargs)\u001b[0m\n\u001b[0;32m    485\u001b[0m         \u001b[1;32mif\u001b[0m \u001b[0msparsity\u001b[0m \u001b[1;32mis\u001b[0m \u001b[1;32mNone\u001b[0m\u001b[1;33m:\u001b[0m\u001b[1;33m\u001b[0m\u001b[1;33m\u001b[0m\u001b[0m\n\u001b[0;32m    486\u001b[0m             return _dense_difference(fun_wrapped, x0, f0, h,\n\u001b[1;32m--> 487\u001b[1;33m                                      use_one_sided, method)\n\u001b[0m\u001b[0;32m    488\u001b[0m         \u001b[1;32melse\u001b[0m\u001b[1;33m:\u001b[0m\u001b[1;33m\u001b[0m\u001b[1;33m\u001b[0m\u001b[0m\n\u001b[0;32m    489\u001b[0m             \u001b[1;32mif\u001b[0m \u001b[1;32mnot\u001b[0m \u001b[0missparse\u001b[0m\u001b[1;33m(\u001b[0m\u001b[0msparsity\u001b[0m\u001b[1;33m)\u001b[0m \u001b[1;32mand\u001b[0m \u001b[0mlen\u001b[0m\u001b[1;33m(\u001b[0m\u001b[0msparsity\u001b[0m\u001b[1;33m)\u001b[0m \u001b[1;33m==\u001b[0m \u001b[1;36m2\u001b[0m\u001b[1;33m:\u001b[0m\u001b[1;33m\u001b[0m\u001b[1;33m\u001b[0m\u001b[0m\n",
      "\u001b[1;32m~\\Anaconda3\\envs\\qtw\\lib\\site-packages\\scipy\\optimize\\_numdiff.py\u001b[0m in \u001b[0;36m_dense_difference\u001b[1;34m(fun, x0, f0, h, use_one_sided, method)\u001b[0m\n\u001b[0;32m    555\u001b[0m             \u001b[0mx\u001b[0m \u001b[1;33m=\u001b[0m \u001b[0mx0\u001b[0m \u001b[1;33m+\u001b[0m \u001b[0mh_vecs\u001b[0m\u001b[1;33m[\u001b[0m\u001b[0mi\u001b[0m\u001b[1;33m]\u001b[0m\u001b[1;33m\u001b[0m\u001b[1;33m\u001b[0m\u001b[0m\n\u001b[0;32m    556\u001b[0m             \u001b[0mdx\u001b[0m \u001b[1;33m=\u001b[0m \u001b[0mx\u001b[0m\u001b[1;33m[\u001b[0m\u001b[0mi\u001b[0m\u001b[1;33m]\u001b[0m \u001b[1;33m-\u001b[0m \u001b[0mx0\u001b[0m\u001b[1;33m[\u001b[0m\u001b[0mi\u001b[0m\u001b[1;33m]\u001b[0m  \u001b[1;31m# Recompute dx as exactly representable number.\u001b[0m\u001b[1;33m\u001b[0m\u001b[1;33m\u001b[0m\u001b[0m\n\u001b[1;32m--> 557\u001b[1;33m             \u001b[0mdf\u001b[0m \u001b[1;33m=\u001b[0m \u001b[0mfun\u001b[0m\u001b[1;33m(\u001b[0m\u001b[0mx\u001b[0m\u001b[1;33m)\u001b[0m \u001b[1;33m-\u001b[0m \u001b[0mf0\u001b[0m\u001b[1;33m\u001b[0m\u001b[1;33m\u001b[0m\u001b[0m\n\u001b[0m\u001b[0;32m    558\u001b[0m         \u001b[1;32melif\u001b[0m \u001b[0mmethod\u001b[0m \u001b[1;33m==\u001b[0m \u001b[1;34m'3-point'\u001b[0m \u001b[1;32mand\u001b[0m \u001b[0muse_one_sided\u001b[0m\u001b[1;33m[\u001b[0m\u001b[0mi\u001b[0m\u001b[1;33m]\u001b[0m\u001b[1;33m:\u001b[0m\u001b[1;33m\u001b[0m\u001b[1;33m\u001b[0m\u001b[0m\n\u001b[0;32m    559\u001b[0m             \u001b[0mx1\u001b[0m \u001b[1;33m=\u001b[0m \u001b[0mx0\u001b[0m \u001b[1;33m+\u001b[0m \u001b[0mh_vecs\u001b[0m\u001b[1;33m[\u001b[0m\u001b[0mi\u001b[0m\u001b[1;33m]\u001b[0m\u001b[1;33m\u001b[0m\u001b[1;33m\u001b[0m\u001b[0m\n",
      "\u001b[1;32m~\\Anaconda3\\envs\\qtw\\lib\\site-packages\\scipy\\optimize\\_numdiff.py\u001b[0m in \u001b[0;36mfun_wrapped\u001b[1;34m(x)\u001b[0m\n\u001b[0;32m    435\u001b[0m \u001b[1;33m\u001b[0m\u001b[0m\n\u001b[0;32m    436\u001b[0m     \u001b[1;32mdef\u001b[0m \u001b[0mfun_wrapped\u001b[0m\u001b[1;33m(\u001b[0m\u001b[0mx\u001b[0m\u001b[1;33m)\u001b[0m\u001b[1;33m:\u001b[0m\u001b[1;33m\u001b[0m\u001b[1;33m\u001b[0m\u001b[0m\n\u001b[1;32m--> 437\u001b[1;33m         \u001b[0mf\u001b[0m \u001b[1;33m=\u001b[0m \u001b[0mnp\u001b[0m\u001b[1;33m.\u001b[0m\u001b[0matleast_1d\u001b[0m\u001b[1;33m(\u001b[0m\u001b[0mfun\u001b[0m\u001b[1;33m(\u001b[0m\u001b[0mx\u001b[0m\u001b[1;33m,\u001b[0m \u001b[1;33m*\u001b[0m\u001b[0margs\u001b[0m\u001b[1;33m,\u001b[0m \u001b[1;33m**\u001b[0m\u001b[0mkwargs\u001b[0m\u001b[1;33m)\u001b[0m\u001b[1;33m)\u001b[0m\u001b[1;33m\u001b[0m\u001b[1;33m\u001b[0m\u001b[0m\n\u001b[0m\u001b[0;32m    438\u001b[0m         \u001b[1;32mif\u001b[0m \u001b[0mf\u001b[0m\u001b[1;33m.\u001b[0m\u001b[0mndim\u001b[0m \u001b[1;33m>\u001b[0m \u001b[1;36m1\u001b[0m\u001b[1;33m:\u001b[0m\u001b[1;33m\u001b[0m\u001b[1;33m\u001b[0m\u001b[0m\n\u001b[0;32m    439\u001b[0m             raise RuntimeError(\"`fun` return value has \"\n",
      "\u001b[1;32m~\\Anaconda3\\envs\\qtw\\lib\\site-packages\\scipy\\optimize\\_differentiable_functions.py\u001b[0m in \u001b[0;36mfun_wrapped\u001b[1;34m(x)\u001b[0m\n\u001b[0;32m    128\u001b[0m         \u001b[1;32mdef\u001b[0m \u001b[0mfun_wrapped\u001b[0m\u001b[1;33m(\u001b[0m\u001b[0mx\u001b[0m\u001b[1;33m)\u001b[0m\u001b[1;33m:\u001b[0m\u001b[1;33m\u001b[0m\u001b[1;33m\u001b[0m\u001b[0m\n\u001b[0;32m    129\u001b[0m             \u001b[0mself\u001b[0m\u001b[1;33m.\u001b[0m\u001b[0mnfev\u001b[0m \u001b[1;33m+=\u001b[0m \u001b[1;36m1\u001b[0m\u001b[1;33m\u001b[0m\u001b[1;33m\u001b[0m\u001b[0m\n\u001b[1;32m--> 130\u001b[1;33m             \u001b[1;32mreturn\u001b[0m \u001b[0mfun\u001b[0m\u001b[1;33m(\u001b[0m\u001b[0mx\u001b[0m\u001b[1;33m,\u001b[0m \u001b[1;33m*\u001b[0m\u001b[0margs\u001b[0m\u001b[1;33m)\u001b[0m\u001b[1;33m\u001b[0m\u001b[1;33m\u001b[0m\u001b[0m\n\u001b[0m\u001b[0;32m    131\u001b[0m \u001b[1;33m\u001b[0m\u001b[0m\n\u001b[0;32m    132\u001b[0m         \u001b[1;32mdef\u001b[0m \u001b[0mupdate_fun\u001b[0m\u001b[1;33m(\u001b[0m\u001b[1;33m)\u001b[0m\u001b[1;33m:\u001b[0m\u001b[1;33m\u001b[0m\u001b[1;33m\u001b[0m\u001b[0m\n",
      "\u001b[1;32m~\\Anaconda3\\envs\\qtw\\lib\\site-packages\\statsmodels\\base\\model.py\u001b[0m in \u001b[0;36mf\u001b[1;34m(params, *args)\u001b[0m\n\u001b[0;32m    499\u001b[0m \u001b[1;33m\u001b[0m\u001b[0m\n\u001b[0;32m    500\u001b[0m         \u001b[1;32mdef\u001b[0m \u001b[0mf\u001b[0m\u001b[1;33m(\u001b[0m\u001b[0mparams\u001b[0m\u001b[1;33m,\u001b[0m \u001b[1;33m*\u001b[0m\u001b[0margs\u001b[0m\u001b[1;33m)\u001b[0m\u001b[1;33m:\u001b[0m\u001b[1;33m\u001b[0m\u001b[1;33m\u001b[0m\u001b[0m\n\u001b[1;32m--> 501\u001b[1;33m             \u001b[1;32mreturn\u001b[0m \u001b[1;33m-\u001b[0m\u001b[0mself\u001b[0m\u001b[1;33m.\u001b[0m\u001b[0mloglike\u001b[0m\u001b[1;33m(\u001b[0m\u001b[0mparams\u001b[0m\u001b[1;33m,\u001b[0m \u001b[1;33m*\u001b[0m\u001b[0margs\u001b[0m\u001b[1;33m)\u001b[0m \u001b[1;33m/\u001b[0m \u001b[0mnobs\u001b[0m\u001b[1;33m\u001b[0m\u001b[1;33m\u001b[0m\u001b[0m\n\u001b[0m\u001b[0;32m    502\u001b[0m \u001b[1;33m\u001b[0m\u001b[0m\n\u001b[0;32m    503\u001b[0m         \u001b[1;32mif\u001b[0m \u001b[0mmethod\u001b[0m \u001b[1;33m==\u001b[0m \u001b[1;34m'newton'\u001b[0m\u001b[1;33m:\u001b[0m\u001b[1;33m\u001b[0m\u001b[1;33m\u001b[0m\u001b[0m\n",
      "\u001b[1;32m~\\Anaconda3\\envs\\qtw\\lib\\site-packages\\statsmodels\\tsa\\statespace\\mlemodel.py\u001b[0m in \u001b[0;36mloglike\u001b[1;34m(self, params, *args, **kwargs)\u001b[0m\n\u001b[0;32m    923\u001b[0m             \u001b[0mkwargs\u001b[0m\u001b[1;33m[\u001b[0m\u001b[1;34m'inversion_method'\u001b[0m\u001b[1;33m]\u001b[0m \u001b[1;33m=\u001b[0m \u001b[0mINVERT_UNIVARIATE\u001b[0m \u001b[1;33m|\u001b[0m \u001b[0mSOLVE_LU\u001b[0m\u001b[1;33m\u001b[0m\u001b[1;33m\u001b[0m\u001b[0m\n\u001b[0;32m    924\u001b[0m \u001b[1;33m\u001b[0m\u001b[0m\n\u001b[1;32m--> 925\u001b[1;33m         \u001b[0mloglike\u001b[0m \u001b[1;33m=\u001b[0m \u001b[0mself\u001b[0m\u001b[1;33m.\u001b[0m\u001b[0mssm\u001b[0m\u001b[1;33m.\u001b[0m\u001b[0mloglike\u001b[0m\u001b[1;33m(\u001b[0m\u001b[0mcomplex_step\u001b[0m\u001b[1;33m=\u001b[0m\u001b[0mcomplex_step\u001b[0m\u001b[1;33m,\u001b[0m \u001b[1;33m**\u001b[0m\u001b[0mkwargs\u001b[0m\u001b[1;33m)\u001b[0m\u001b[1;33m\u001b[0m\u001b[1;33m\u001b[0m\u001b[0m\n\u001b[0m\u001b[0;32m    926\u001b[0m \u001b[1;33m\u001b[0m\u001b[0m\n\u001b[0;32m    927\u001b[0m         \u001b[1;31m# Koopman, Shephard, and Doornik recommend maximizing the average\u001b[0m\u001b[1;33m\u001b[0m\u001b[1;33m\u001b[0m\u001b[1;33m\u001b[0m\u001b[0m\n",
      "\u001b[1;32m~\\Anaconda3\\envs\\qtw\\lib\\site-packages\\statsmodels\\tsa\\statespace\\kalman_filter.py\u001b[0m in \u001b[0;36mloglike\u001b[1;34m(self, **kwargs)\u001b[0m\n\u001b[0;32m    981\u001b[0m         kwargs.setdefault('conserve_memory',\n\u001b[0;32m    982\u001b[0m                           MEMORY_CONSERVE ^ MEMORY_NO_LIKELIHOOD)\n\u001b[1;32m--> 983\u001b[1;33m         \u001b[0mkfilter\u001b[0m \u001b[1;33m=\u001b[0m \u001b[0mself\u001b[0m\u001b[1;33m.\u001b[0m\u001b[0m_filter\u001b[0m\u001b[1;33m(\u001b[0m\u001b[1;33m**\u001b[0m\u001b[0mkwargs\u001b[0m\u001b[1;33m)\u001b[0m\u001b[1;33m\u001b[0m\u001b[1;33m\u001b[0m\u001b[0m\n\u001b[0m\u001b[0;32m    984\u001b[0m         loglikelihood_burn = kwargs.get('loglikelihood_burn',\n\u001b[0;32m    985\u001b[0m                                         self.loglikelihood_burn)\n",
      "\u001b[1;31mKeyboardInterrupt\u001b[0m: "
     ]
    }
   ],
   "source": [
    "#RMSE\n",
    "arima_seas_window_ase(flu_data.pct_positive, train_ratio = .80,  order=(7,0,6), seasonal_order = (1, 0, 1, 52))"
   ]
  },
  {
   "cell_type": "code",
   "execution_count": null,
   "id": "sonic-tradition",
   "metadata": {},
   "outputs": [],
   "source": [
    "\n",
    "#Create Training and Test\n",
    "train = flu_data.pct_positive[:338]\n",
    "test = flu_data.pct_positive[338:422]\n",
    "\n",
    "#Model fit and forecast\n",
    "model = ARIMA(flu_data.pct_positive[:338], order=(7,0,6), seasonal_order = (1, 0, 1, 52))\n",
    "model_fit = model.fit()\n",
    "forecast = model_fit.predict(start = 338, end = 422, dynamic=False)\n",
    "forecast_series = pd.Series(forecast)\n",
    "\n",
    "# Plot\n",
    "plt.figure(figsize=(12,5), dpi=100)\n",
    "plt.plot(train, label='training')\n",
    "plt.plot(test, label='actual')\n",
    "plt.plot(forecast_series, label='forecast')\n",
    "plt.title('Forecast vs Actuals')\n",
    "plt.legend(loc='upper left', fontsize=8)\n",
    "plt.show()"
   ]
  },
  {
   "cell_type": "code",
   "execution_count": null,
   "id": "indie-photographer",
   "metadata": {},
   "outputs": [],
   "source": [
    "#bForecast with \n",
    "model = ARIMA(flu_data.pct_positive.values, order=(7,0,6), seasonal_order = (1, 0, 1, 52))\n",
    "fitted = model.fit()\n",
    "print(fitted.summary())\n",
    "\n",
    "#Forecast\n",
    "fc, se, conf = fitted.forecast(25, alpha=0.05)  # 95% conf\n",
    "\n",
    "# Make as pandas series\n",
    "fc_series = pd.Series(fc, index=test.index)\n",
    "lower_series = pd.Series(conf[:, 0], index=test.index)\n",
    "upper_series = pd.Series(conf[:, 1], index=test.index)\n",
    "\n",
    "# Plot\n",
    "plt.figure(figsize=(12,5), dpi=100)\n",
    "plt.plot(train, label='training')\n",
    "plt.plot(test, label='actual')\n",
    "plt.plot(fc_series, label='forecast')\n",
    "plt.fill_between(lower_series.index, lower_series, upper_series, color='k', alpha=.15)\n",
    "plt.title('Forecast vs Actuals')\n",
    "plt.legend(loc='upper left', fontsize=8)\n",
    "plt.show()\n"
   ]
  },
  {
   "cell_type": "code",
   "execution_count": null,
   "id": "associate-biology",
   "metadata": {},
   "outputs": [],
   "source": [
    "model_fit.predict(422,440)"
   ]
  },
  {
   "cell_type": "code",
   "execution_count": null,
   "id": "comfortable-taxation",
   "metadata": {},
   "outputs": [],
   "source": [
    "flu_data.EDATE[422]"
   ]
  },
  {
   "cell_type": "code",
   "execution_count": null,
   "id": "moral-understanding",
   "metadata": {},
   "outputs": [],
   "source": [
    "len(flu_data.pct_positive)"
   ]
  },
  {
   "cell_type": "code",
   "execution_count": null,
   "id": "emotional-fireplace",
   "metadata": {},
   "outputs": [],
   "source": [
    "statsmodels.__version__"
   ]
  },
  {
   "cell_type": "code",
   "execution_count": null,
   "id": "exciting-outline",
   "metadata": {},
   "outputs": [],
   "source": []
  }
 ],
 "metadata": {
  "kernelspec": {
   "display_name": "Python 3",
   "language": "python",
   "name": "python3"
  },
  "language_info": {
   "codemirror_mode": {
    "name": "ipython",
    "version": 3
   },
   "file_extension": ".py",
   "mimetype": "text/x-python",
   "name": "python",
   "nbconvert_exporter": "python",
   "pygments_lexer": "ipython3",
   "version": "3.7.9"
  }
 },
 "nbformat": 4,
 "nbformat_minor": 5
}
