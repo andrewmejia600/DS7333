{
 "cells": [
  {
   "cell_type": "markdown",
   "metadata": {},
   "source": [
    "https://www.tensorflow.org/tutorials/keras/overfit_and_underfit"
   ]
  },
  {
   "cell_type": "code",
   "execution_count": 37,
   "metadata": {},
   "outputs": [
    {
     "name": "stdout",
     "output_type": "stream",
     "text": [
      "2.2.0\n"
     ]
    }
   ],
   "source": [
    "from __future__ import absolute_import, division, print_function, unicode_literals\n",
    "\n",
    "try:\n",
    "  # %tensorflow_version only exists in Colab.\n",
    "  %tensorflow_version 2.x\n",
    "except Exception:\n",
    "  pass\n",
    "  \n",
    "import tensorflow as tf\n",
    "\n",
    "from tensorflow.keras import layers\n",
    "from tensorflow.keras.regularizers import l1, l2\n",
    "\n",
    "print(tf.__version__)"
   ]
  },
  {
   "cell_type": "code",
   "execution_count": 2,
   "metadata": {},
   "outputs": [],
   "source": [
    "import tensorflow_docs as tfdocs\n",
    "import tensorflow_docs.modeling\n",
    "import tensorflow_docs.plots"
   ]
  },
  {
   "cell_type": "code",
   "execution_count": 3,
   "metadata": {},
   "outputs": [],
   "source": [
    "from  IPython import display\n",
    "from matplotlib import pyplot as plt\n",
    "\n",
    "import numpy as np\n",
    "import matplotlib.pyplot as plt\n",
    "\n",
    "import pathlib\n",
    "import shutil\n",
    "import tempfile"
   ]
  },
  {
   "cell_type": "code",
   "execution_count": 4,
   "metadata": {},
   "outputs": [],
   "source": [
    "logdir = pathlib.Path(tempfile.mkdtemp())/\"tensorboard_logs\"\n",
    "shutil.rmtree(logdir, ignore_errors=True)"
   ]
  },
  {
   "cell_type": "code",
   "execution_count": 5,
   "metadata": {},
   "outputs": [
    {
     "name": "stdout",
     "output_type": "stream",
     "text": [
      "Downloading data from https://archive.ics.uci.edu/ml/machine-learning-databases/00280/HIGGS.csv.gz\n",
      "2816409600/2816407858 [==============================] - 1193s 0us/step\n"
     ]
    }
   ],
   "source": [
    "gz = tf.keras.utils.get_file('HIGGS.csv.gz', 'https://archive.ics.uci.edu/ml/machine-learning-databases/00280/HIGGS.csv.gz')"
   ]
  },
  {
   "cell_type": "code",
   "execution_count": 6,
   "metadata": {},
   "outputs": [],
   "source": [
    "FEATURES = 28"
   ]
  },
  {
   "cell_type": "code",
   "execution_count": 7,
   "metadata": {},
   "outputs": [],
   "source": [
    "ds = tf.data.experimental.CsvDataset( gz,[float(),]*(FEATURES+1), compression_type=\"GZIP\")"
   ]
  },
  {
   "cell_type": "code",
   "execution_count": 8,
   "metadata": {},
   "outputs": [],
   "source": [
    "def pack_row(*row):\n",
    "  label = row[0]\n",
    "  features = tf.stack(row[1:],1)\n",
    "  return features, label"
   ]
  },
  {
   "cell_type": "code",
   "execution_count": 9,
   "metadata": {},
   "outputs": [],
   "source": [
    "packed_ds = ds.batch(10000).map(pack_row).unbatch()"
   ]
  },
  {
   "cell_type": "code",
   "execution_count": 10,
   "metadata": {},
   "outputs": [
    {
     "name": "stdout",
     "output_type": "stream",
     "text": [
      "tf.Tensor(\n",
      "[ 0.8692932  -0.6350818   0.22569026  0.32747006 -0.6899932   0.75420225\n",
      " -0.24857314 -1.0920639   0.          1.3749921  -0.6536742   0.9303491\n",
      "  1.1074361   1.1389043  -1.5781983  -1.0469854   0.          0.65792954\n",
      " -0.01045457 -0.04576717  3.1019614   1.35376     0.9795631   0.97807616\n",
      "  0.92000484  0.72165745  0.98875093  0.87667835], shape=(28,), dtype=float32)\n"
     ]
    },
    {
     "data": {
      "image/png": "[encoded data removed]",
      "text/plain": [
       "<Figure size 432x288 with 1 Axes>"
      ]
     },
     "metadata": {
      "needs_background": "light"
     },
     "output_type": "display_data"
    }
   ],
   "source": [
    "for features,label in packed_ds.batch(1000).take(1):\n",
    "  print(features[0])\n",
    "  plt.hist(features.numpy().flatten(), bins = 101)"
   ]
  },
  {
   "cell_type": "code",
   "execution_count": 11,
   "metadata": {},
   "outputs": [
    {
     "name": "stdout",
     "output_type": "stream",
     "text": [
      "(1.0, 0.8692932, -0.6350818, 0.22569026, 0.32747006, -0.6899932, 0.75420225, -0.24857314, -1.0920639, 0.0, 1.3749921, -0.6536742, 0.9303491, 1.1074361, 1.1389043, -1.5781983, -1.0469854, 0.0, 0.65792954, -0.01045457, -0.04576717, 3.1019614, 1.35376, 0.9795631, 0.97807616, 0.92000484, 0.72165745, 0.98875093, 0.87667835)\n",
      "(1.0, 0.9075421, 0.32914728, 0.35941187, 1.4979699, -0.31300953, 1.0955306, -0.5575249, -1.5882298, 2.1730762, 0.8125812, -0.21364193, 1.2710146, 2.2148721, 0.49999395, -1.2614318, 0.73215616, 0.0, 0.3987009, -1.1389301, -0.0008191102, 0.0, 0.3022199, 0.83304816, 0.98569965, 0.9780984, 0.77973217, 0.99235576, 0.7983426)\n"
     ]
    }
   ],
   "source": [
    "print(list(ds.take(2).as_numpy_iterator())[0])\n",
    "print(list(ds.take(2).as_numpy_iterator())[1])"
   ]
  },
  {
   "cell_type": "code",
   "execution_count": 12,
   "metadata": {},
   "outputs": [],
   "source": [
    "featVals=[features.numpy()[0] for features,label in packed_ds.take(1000)]\n",
    "\n",
    "t=packed_ds.take(20000)"
   ]
  },
  {
   "cell_type": "code",
   "execution_count": 13,
   "metadata": {},
   "outputs": [
    {
     "name": "stdout",
     "output_type": "stream",
     "text": [
      "Values 1: 10457.0\n",
      "Values 0: 9543\n"
     ]
    }
   ],
   "source": [
    "t = [label.numpy() for features,label in packed_ds.take(20000)]\n",
    "print(\"Values 1:\",sum(t))\n",
    "print(\"Values 0:\",sum(np.equal(t,0)))"
   ]
  },
  {
   "cell_type": "code",
   "execution_count": 14,
   "metadata": {},
   "outputs": [
    {
     "name": "stdout",
     "output_type": "stream",
     "text": [
      "Min Value: -2.960813\n",
      "Max Value: 16.131908\n"
     ]
    }
   ],
   "source": [
    "t = np.array([features.numpy() for features,label in packed_ds.take(20000)])\n",
    "print(\"Min Value:\",min(t.flatten()))\n",
    "print(\"Max Value:\",max(t.flatten()))"
   ]
  },
  {
   "cell_type": "code",
   "execution_count": 17,
   "metadata": {},
   "outputs": [],
   "source": [
    "N_VALIDATION = int(1e3)\n",
    "N_TRAIN = int(1e4)\n",
    "BUFFER_SIZE = int(1e4)\n",
    "BATCH_SIZE = 500  # TODO: Note that the paper used 100, we can increase this to reduce training time.\n",
    "STEPS_PER_EPOCH = N_TRAIN//BATCH_SIZE"
   ]
  },
  {
   "cell_type": "code",
   "execution_count": 18,
   "metadata": {},
   "outputs": [],
   "source": [
    "validate_ds = packed_ds.take(N_VALIDATION).cache()\n",
    "train_ds = packed_ds.skip(N_VALIDATION).take(N_TRAIN).cache()"
   ]
  },
  {
   "cell_type": "code",
   "execution_count": 19,
   "metadata": {},
   "outputs": [
    {
     "data": {
      "text/plain": [
       "<CacheDataset shapes: ((28,), ()), types: (tf.float32, tf.float32)>"
      ]
     },
     "execution_count": 19,
     "metadata": {},
     "output_type": "execute_result"
    }
   ],
   "source": [
    "train_ds"
   ]
  },
  {
   "cell_type": "code",
   "execution_count": 20,
   "metadata": {},
   "outputs": [],
   "source": [
    "validate_ds = validate_ds.batch(BATCH_SIZE)\n",
    "train_ds = train_ds.shuffle(BUFFER_SIZE).repeat().batch(BATCH_SIZE)"
   ]
  },
  {
   "cell_type": "code",
   "execution_count": 21,
   "metadata": {},
   "outputs": [],
   "source": [
    "# https://www.tensorflow.org/tutorials/text/transformer\n",
    "class CustomSchedule(tf.keras.optimizers.schedules.LearningRateSchedule):\n",
    "  def __init__(self):\n",
    "    super(CustomSchedule, self).__init__()\n",
    "    \n",
    "  def __call__(self, step):\n",
    "    lr = tf.clip_by_value(0.05 / 1.0000002**step, clip_value_min=0.000001, clip_value_max=0.05)\n",
    "    return lr"
   ]
  },
  {
   "cell_type": "code",
   "execution_count": 22,
   "metadata": {},
   "outputs": [
    {
     "data": {
      "text/plain": [
       "<tf.Tensor: shape=(25,), dtype=float32, numpy=\n",
       "array([ 0.,  1.,  2.,  3.,  4.,  5.,  6.,  7.,  8.,  9., 10., 11., 12.,\n",
       "       13., 14., 15., 16., 17., 18., 19., 20., 21., 22., 23., 24.],\n",
       "      dtype=float32)>"
      ]
     },
     "execution_count": 22,
     "metadata": {},
     "output_type": "execute_result"
    }
   ],
   "source": [
    "tf.range(25, dtype=tf.float32)"
   ]
  },
  {
   "cell_type": "code",
   "execution_count": 23,
   "metadata": {},
   "outputs": [
    {
     "data": {
      "text/plain": [
       "Text(0.5, 0, 'Train Step')"
      ]
     },
     "execution_count": 23,
     "metadata": {},
     "output_type": "execute_result"
    },
    {
     "data": {
      "image/png": "[encoded data removed]",
      "text/plain": [
       "<Figure size 576x432 with 1 Axes>"
      ]
     },
     "metadata": {
      "needs_background": "light"
     },
     "output_type": "display_data"
    }
   ],
   "source": [
    "temp_lr_schedule = CustomSchedule()\n",
    "plt.figure(figsize = (8,6))\n",
    "lrs = temp_lr_schedule(tf.range(40000000, dtype=tf.float32))\n",
    "plt.plot(lrs)\n",
    "plt.ylabel(\"Learning Rate\")\n",
    "plt.xlabel(\"Train Step\")"
   ]
  },
  {
   "cell_type": "code",
   "execution_count": 24,
   "metadata": {},
   "outputs": [
    {
     "data": {
      "text/plain": [
       "<tf.Tensor: shape=(40000000,), dtype=float32, numpy=\n",
       "array([0.05      , 0.04999999, 0.04999998, ..., 0.00091578, 0.00091578,\n",
       "       0.00091578], dtype=float32)>"
      ]
     },
     "execution_count": 24,
     "metadata": {},
     "output_type": "execute_result"
    }
   ],
   "source": [
    "lrs"
   ]
  },
  {
   "cell_type": "code",
   "execution_count": 25,
   "metadata": {},
   "outputs": [],
   "source": [
    "def get_optimizer():\n",
    "  lr_schedule = CustomSchedule()\n",
    "  return tf.keras.optimizers.SGD(lr_schedule, momentum=0.9)"
   ]
  },
  {
   "cell_type": "code",
   "execution_count": 26,
   "metadata": {},
   "outputs": [],
   "source": [
    "def get_callbacks(name):\n",
    "  return [\n",
    "    tfdocs.modeling.EpochDots(),\n",
    "    tf.keras.callbacks.EarlyStopping(monitor='val_binary_crossentropy', min_delta=0.00001, patience=200),\n",
    "    tf.keras.callbacks.TensorBoard(logdir/name),\n",
    "  ]"
   ]
  },
  {
   "cell_type": "code",
   "execution_count": 27,
   "metadata": {},
   "outputs": [],
   "source": [
    "def compile_and_fit(model, name, optimizer=None, max_epochs=10000):\n",
    "  if optimizer is None:\n",
    "    optimizer = get_optimizer()\n",
    "  model.compile(optimizer=optimizer,\n",
    "                loss=tf.keras.losses.BinaryCrossentropy(from_logits=True),\n",
    "                metrics=[\n",
    "                  tf.keras.metrics.AUC(name='AUC'),\n",
    "                  tf.keras.losses.BinaryCrossentropy(from_logits=True, name='binary_crossentropy'),\n",
    "                  'accuracy'])\n",
    "\n",
    "  model.summary()\n",
    "\n",
    "  history = model.fit(\n",
    "    train_ds,\n",
    "    steps_per_epoch = STEPS_PER_EPOCH,\n",
    "    epochs=max_epochs,\n",
    "    validation_data=validate_ds,\n",
    "    callbacks=get_callbacks(name),\n",
    "    verbose=2)\n",
    "  return history"
   ]
  },
  {
   "cell_type": "code",
   "execution_count": 28,
   "metadata": {},
   "outputs": [],
   "source": [
    "size_histories = {}"
   ]
  },
  {
   "cell_type": "markdown",
   "metadata": {},
   "source": [
    "##  https://archive.ics.uci.edu/ml/datasets/HIGGS"
   ]
  },
  {
   "cell_type": "code",
   "execution_count": 29,
   "metadata": {},
   "outputs": [],
   "source": [
    "# https://www.tensorflow.org/api_docs/python/tf/keras/initializers/RandomNormal\n",
    "first_initializer = tf.keras.initializers.RandomNormal(mean=0., stddev=0.1, seed=42)\n",
    "outer_initializer = tf.keras.initializers.RandomNormal(mean=0., stddev=0.001, seed=42)\n",
    "other_initializers = tf.keras.initializers.RandomNormal(mean=0., stddev=0.05, seed=42)\n",
    "\n",
    "\n",
    "weight_decay=0.00001\n",
    "paper_model = tf.keras.Sequential([\n",
    "    layers.Dense(300, activation='tanh', input_shape=(FEATURES,), kernel_initializer=first_initializer, kernel_regularizer=l2(weight_decay)),\n",
    "    layers.Dense(300, activation='tanh', kernel_initializer=other_initializers, kernel_regularizer=l2(weight_decay)),\n",
    "    layers.Dense(300, activation='tanh', kernel_initializer=other_initializers, kernel_regularizer=l2(weight_decay)),\n",
    "    layers.Dense(300, activation='tanh', kernel_initializer=other_initializers, kernel_regularizer=l2(weight_decay)),\n",
    "    layers.Dropout(0.5), # Top Hidden Layer\n",
    "    layers.Dense(1, activation='sigmoid', kernel_initializer=outer_initializer, kernel_regularizer=l2(weight_decay))\n",
    "    \n",
    "])"
   ]
  },
  {
   "cell_type": "markdown",
   "metadata": {},
   "source": [
    "## Paper Model Architecture "
   ]
  },
  {
   "cell_type": "code",
   "execution_count": 30,
   "metadata": {},
   "outputs": [
    {
     "name": "stdout",
     "output_type": "stream",
     "text": [
      "Model: \"sequential\"\n",
      "_________________________________________________________________\n",
      "Layer (type)                 Output Shape              Param #   \n",
      "=================================================================\n",
      "dense (Dense)                (None, 300)               8700      \n",
      "_________________________________________________________________\n",
      "dense_1 (Dense)              (None, 300)               90300     \n",
      "_________________________________________________________________\n",
      "dense_2 (Dense)              (None, 300)               90300     \n",
      "_________________________________________________________________\n",
      "dense_3 (Dense)              (None, 300)               90300     \n",
      "_________________________________________________________________\n",
      "dropout (Dropout)            (None, 300)               0         \n",
      "_________________________________________________________________\n",
      "dense_4 (Dense)              (None, 1)                 301       \n",
      "=================================================================\n",
      "Total params: 279,901\n",
      "Trainable params: 279,901\n",
      "Non-trainable params: 0\n",
      "_________________________________________________________________\n",
      "Epoch 1/10000\n",
      "\n",
      "Epoch: 0, AUC:0.5019,  accuracy:0.4743,  binary_crossentropy:0.7026,  loss:0.7101,  val_AUC:0.5443,  val_accuracy:0.4600,  val_binary_crossentropy:0.6894,  val_loss:0.6969,  \n",
      ".20/20 - 1s - loss: 0.7101 - AUC: 0.5019 - binary_crossentropy: 0.7026 - accuracy: 0.4743 - val_loss: 0.6969 - val_AUC: 0.5443 - val_binary_crossentropy: 0.6894 - val_accuracy: 0.4600\n",
      "Epoch 2/10000\n",
      ".20/20 - 0s - loss: 0.6994 - AUC: 0.5119 - binary_crossentropy: 0.6919 - accuracy: 0.4738 - val_loss: 0.6965 - val_AUC: 0.5649 - val_binary_crossentropy: 0.6890 - val_accuracy: 0.4600\n",
      "Epoch 3/10000\n",
      ".20/20 - 0s - loss: 0.6981 - AUC: 0.5481 - binary_crossentropy: 0.6905 - accuracy: 0.4738 - val_loss: 0.6956 - val_AUC: 0.5756 - val_binary_crossentropy: 0.6880 - val_accuracy: 0.4600\n",
      "Epoch 4/10000\n",
      ".20/20 - 0s - loss: 0.6970 - AUC: 0.5681 - binary_crossentropy: 0.6894 - accuracy: 0.4738 - val_loss: 0.6942 - val_AUC: 0.5830 - val_binary_crossentropy: 0.6867 - val_accuracy: 0.4600\n",
      "Epoch 5/10000\n",
      ".20/20 - 0s - loss: 0.6957 - AUC: 0.5784 - binary_crossentropy: 0.6882 - accuracy: 0.4749 - val_loss: 0.6928 - val_AUC: 0.5849 - val_binary_crossentropy: 0.6853 - val_accuracy: 0.4600\n",
      "Epoch 6/10000\n",
      ".20/20 - 0s - loss: 0.6939 - AUC: 0.5898 - binary_crossentropy: 0.6864 - accuracy: 0.4783 - val_loss: 0.6908 - val_AUC: 0.5889 - val_binary_crossentropy: 0.6832 - val_accuracy: 0.4650\n",
      "Epoch 7/10000\n",
      ".20/20 - 0s - loss: 0.6909 - AUC: 0.6032 - binary_crossentropy: 0.6833 - accuracy: 0.4925 - val_loss: 0.6887 - val_AUC: 0.5921 - val_binary_crossentropy: 0.6812 - val_accuracy: 0.4800\n",
      "Epoch 8/10000\n",
      ".20/20 - 0s - loss: 0.6882 - AUC: 0.6107 - binary_crossentropy: 0.6806 - accuracy: 0.5085 - val_loss: 0.6864 - val_AUC: 0.5969 - val_binary_crossentropy: 0.6788 - val_accuracy: 0.5010\n",
      "Epoch 9/10000\n",
      ".20/20 - 0s - loss: 0.6847 - AUC: 0.6246 - binary_crossentropy: 0.6771 - accuracy: 0.5260 - val_loss: 0.6841 - val_AUC: 0.6054 - val_binary_crossentropy: 0.6765 - val_accuracy: 0.5070\n",
      "Epoch 10/10000\n",
      ".20/20 - 0s - loss: 0.6826 - AUC: 0.6292 - binary_crossentropy: 0.6751 - accuracy: 0.5378 - val_loss: 0.6820 - val_AUC: 0.6155 - val_binary_crossentropy: 0.6744 - val_accuracy: 0.5160\n",
      "Epoch 11/10000\n",
      ".20/20 - 0s - loss: 0.6804 - AUC: 0.6342 - binary_crossentropy: 0.6728 - accuracy: 0.5513 - val_loss: 0.6813 - val_AUC: 0.6187 - val_binary_crossentropy: 0.6738 - val_accuracy: 0.5120\n",
      "Epoch 12/10000\n",
      ".20/20 - 0s - loss: 0.6785 - AUC: 0.6443 - binary_crossentropy: 0.6710 - accuracy: 0.5579 - val_loss: 0.6793 - val_AUC: 0.6280 - val_binary_crossentropy: 0.6717 - val_accuracy: 0.5310\n",
      "Epoch 13/10000\n",
      ".20/20 - 0s - loss: 0.6772 - AUC: 0.6495 - binary_crossentropy: 0.6697 - accuracy: 0.5633 - val_loss: 0.6786 - val_AUC: 0.6295 - val_binary_crossentropy: 0.6710 - val_accuracy: 0.5430\n",
      "Epoch 14/10000\n",
      ".20/20 - 0s - loss: 0.6768 - AUC: 0.6497 - binary_crossentropy: 0.6693 - accuracy: 0.5647 - val_loss: 0.6772 - val_AUC: 0.6366 - val_binary_crossentropy: 0.6696 - val_accuracy: 0.5450\n",
      "Epoch 15/10000\n",
      ".20/20 - 0s - loss: 0.6756 - AUC: 0.6531 - binary_crossentropy: 0.6681 - accuracy: 0.5729 - val_loss: 0.6764 - val_AUC: 0.6384 - val_binary_crossentropy: 0.6688 - val_accuracy: 0.5580\n",
      "Epoch 16/10000\n",
      ".20/20 - 0s - loss: 0.6756 - AUC: 0.6536 - binary_crossentropy: 0.6681 - accuracy: 0.5723 - val_loss: 0.6757 - val_AUC: 0.6410 - val_binary_crossentropy: 0.6681 - val_accuracy: 0.5680\n",
      "Epoch 17/10000\n",
      ".20/20 - 0s - loss: 0.6745 - AUC: 0.6577 - binary_crossentropy: 0.6669 - accuracy: 0.5770 - val_loss: 0.6747 - val_AUC: 0.6450 - val_binary_crossentropy: 0.6671 - val_accuracy: 0.5770\n",
      "Epoch 18/10000\n",
      ".20/20 - 0s - loss: 0.6749 - AUC: 0.6566 - binary_crossentropy: 0.6673 - accuracy: 0.5788 - val_loss: 0.6755 - val_AUC: 0.6436 - val_binary_crossentropy: 0.6679 - val_accuracy: 0.5730\n",
      "Epoch 19/10000\n",
      ".20/20 - 0s - loss: 0.6761 - AUC: 0.6483 - binary_crossentropy: 0.6686 - accuracy: 0.5730 - val_loss: 0.6762 - val_AUC: 0.6428 - val_binary_crossentropy: 0.6686 - val_accuracy: 0.5380\n",
      "Epoch 20/10000\n",
      ".20/20 - 0s - loss: 0.6735 - AUC: 0.6579 - binary_crossentropy: 0.6659 - accuracy: 0.5811 - val_loss: 0.6756 - val_AUC: 0.6427 - val_binary_crossentropy: 0.6680 - val_accuracy: 0.5750\n",
      "Epoch 21/10000\n",
      ".20/20 - 0s - loss: 0.6730 - AUC: 0.6562 - binary_crossentropy: 0.6654 - accuracy: 0.5838 - val_loss: 0.6738 - val_AUC: 0.6457 - val_binary_crossentropy: 0.6662 - val_accuracy: 0.5660\n",
      "Epoch 22/10000\n",
      ".20/20 - 0s - loss: 0.6737 - AUC: 0.6544 - binary_crossentropy: 0.6661 - accuracy: 0.5796 - val_loss: 0.6737 - val_AUC: 0.6486 - val_binary_crossentropy: 0.6661 - val_accuracy: 0.5620\n",
      "Epoch 23/10000\n",
      ".20/20 - 0s - loss: 0.6725 - AUC: 0.6593 - binary_crossentropy: 0.6649 - accuracy: 0.5821 - val_loss: 0.6724 - val_AUC: 0.6508 - val_binary_crossentropy: 0.6648 - val_accuracy: 0.5590\n",
      "Epoch 24/10000\n",
      ".20/20 - 0s - loss: 0.6722 - AUC: 0.6589 - binary_crossentropy: 0.6647 - accuracy: 0.5885 - val_loss: 0.6742 - val_AUC: 0.6443 - val_binary_crossentropy: 0.6667 - val_accuracy: 0.5630\n",
      "Epoch 25/10000\n",
      ".20/20 - 0s - loss: 0.6729 - AUC: 0.6596 - binary_crossentropy: 0.6653 - accuracy: 0.5787 - val_loss: 0.6740 - val_AUC: 0.6518 - val_binary_crossentropy: 0.6664 - val_accuracy: 0.5980\n",
      "Epoch 26/10000\n",
      ".20/20 - 0s - loss: 0.6741 - AUC: 0.6535 - binary_crossentropy: 0.6665 - accuracy: 0.5892 - val_loss: 0.6724 - val_AUC: 0.6458 - val_binary_crossentropy: 0.6648 - val_accuracy: 0.5740\n",
      "Epoch 27/10000\n",
      ".20/20 - 0s - loss: 0.6722 - AUC: 0.6624 - binary_crossentropy: 0.6646 - accuracy: 0.5846 - val_loss: 0.6745 - val_AUC: 0.6519 - val_binary_crossentropy: 0.6669 - val_accuracy: 0.5540\n",
      "Epoch 28/10000\n",
      ".20/20 - 0s - loss: 0.6707 - AUC: 0.6639 - binary_crossentropy: 0.6631 - accuracy: 0.5954 - val_loss: 0.6764 - val_AUC: 0.6538 - val_binary_crossentropy: 0.6689 - val_accuracy: 0.6040\n",
      "Epoch 29/10000\n",
      ".20/20 - 0s - loss: 0.6712 - AUC: 0.6632 - binary_crossentropy: 0.6637 - accuracy: 0.5922 - val_loss: 0.6716 - val_AUC: 0.6573 - val_binary_crossentropy: 0.6640 - val_accuracy: 0.5630\n",
      "Epoch 30/10000\n",
      ".20/20 - 0s - loss: 0.6709 - AUC: 0.6658 - binary_crossentropy: 0.6633 - accuracy: 0.5892 - val_loss: 0.6710 - val_AUC: 0.6589 - val_binary_crossentropy: 0.6634 - val_accuracy: 0.5850\n",
      "Epoch 31/10000\n",
      ".20/20 - 0s - loss: 0.6708 - AUC: 0.6607 - binary_crossentropy: 0.6632 - accuracy: 0.5951 - val_loss: 0.6713 - val_AUC: 0.6614 - val_binary_crossentropy: 0.6637 - val_accuracy: 0.5680\n",
      "Epoch 32/10000\n",
      ".20/20 - 0s - loss: 0.6696 - AUC: 0.6686 - binary_crossentropy: 0.6621 - accuracy: 0.5944 - val_loss: 0.6767 - val_AUC: 0.6428 - val_binary_crossentropy: 0.6691 - val_accuracy: 0.5340\n",
      "Epoch 33/10000\n",
      ".20/20 - 0s - loss: 0.6693 - AUC: 0.6687 - binary_crossentropy: 0.6617 - accuracy: 0.5970 - val_loss: 0.6696 - val_AUC: 0.6646 - val_binary_crossentropy: 0.6621 - val_accuracy: 0.5880\n",
      "Epoch 34/10000\n",
      ".20/20 - 0s - loss: 0.6688 - AUC: 0.6721 - binary_crossentropy: 0.6613 - accuracy: 0.6047 - val_loss: 0.6709 - val_AUC: 0.6611 - val_binary_crossentropy: 0.6633 - val_accuracy: 0.5620\n",
      "Epoch 35/10000\n",
      ".20/20 - 0s - loss: 0.6688 - AUC: 0.6691 - binary_crossentropy: 0.6612 - accuracy: 0.5935 - val_loss: 0.6717 - val_AUC: 0.6650 - val_binary_crossentropy: 0.6642 - val_accuracy: 0.6080\n"
     ]
    },
    {
     "name": "stdout",
     "output_type": "stream",
     "text": [
      "Epoch 36/10000\n",
      ".20/20 - 0s - loss: 0.6693 - AUC: 0.6700 - binary_crossentropy: 0.6617 - accuracy: 0.6003 - val_loss: 0.6711 - val_AUC: 0.6623 - val_binary_crossentropy: 0.6635 - val_accuracy: 0.5640\n",
      "Epoch 37/10000\n",
      ".20/20 - 0s - loss: 0.6690 - AUC: 0.6692 - binary_crossentropy: 0.6614 - accuracy: 0.5991 - val_loss: 0.6701 - val_AUC: 0.6636 - val_binary_crossentropy: 0.6626 - val_accuracy: 0.5970\n",
      "Epoch 38/10000\n",
      ".20/20 - 0s - loss: 0.6666 - AUC: 0.6762 - binary_crossentropy: 0.6590 - accuracy: 0.6074 - val_loss: 0.6687 - val_AUC: 0.6653 - val_binary_crossentropy: 0.6611 - val_accuracy: 0.5930\n",
      "Epoch 39/10000\n",
      ".20/20 - 0s - loss: 0.6675 - AUC: 0.6750 - binary_crossentropy: 0.6600 - accuracy: 0.6092 - val_loss: 0.6703 - val_AUC: 0.6643 - val_binary_crossentropy: 0.6627 - val_accuracy: 0.5700\n",
      "Epoch 40/10000\n",
      ".20/20 - 0s - loss: 0.6675 - AUC: 0.6762 - binary_crossentropy: 0.6599 - accuracy: 0.6048 - val_loss: 0.6696 - val_AUC: 0.6690 - val_binary_crossentropy: 0.6620 - val_accuracy: 0.6030\n",
      "Epoch 41/10000\n",
      ".20/20 - 0s - loss: 0.6653 - AUC: 0.6831 - binary_crossentropy: 0.6577 - accuracy: 0.6118 - val_loss: 0.6679 - val_AUC: 0.6745 - val_binary_crossentropy: 0.6603 - val_accuracy: 0.5880\n",
      "Epoch 42/10000\n",
      ".20/20 - 0s - loss: 0.6678 - AUC: 0.6737 - binary_crossentropy: 0.6603 - accuracy: 0.6055 - val_loss: 0.6705 - val_AUC: 0.6687 - val_binary_crossentropy: 0.6629 - val_accuracy: 0.6130\n",
      "Epoch 43/10000\n",
      ".20/20 - 0s - loss: 0.6678 - AUC: 0.6722 - binary_crossentropy: 0.6603 - accuracy: 0.5965 - val_loss: 0.6680 - val_AUC: 0.6680 - val_binary_crossentropy: 0.6604 - val_accuracy: 0.5990\n",
      "Epoch 44/10000\n",
      ".20/20 - 0s - loss: 0.6647 - AUC: 0.6831 - binary_crossentropy: 0.6571 - accuracy: 0.6128 - val_loss: 0.6659 - val_AUC: 0.6794 - val_binary_crossentropy: 0.6583 - val_accuracy: 0.5920\n",
      "Epoch 45/10000\n",
      ".20/20 - 0s - loss: 0.6651 - AUC: 0.6817 - binary_crossentropy: 0.6575 - accuracy: 0.6108 - val_loss: 0.6666 - val_AUC: 0.6827 - val_binary_crossentropy: 0.6590 - val_accuracy: 0.6070\n",
      "Epoch 46/10000\n",
      ".20/20 - 0s - loss: 0.6652 - AUC: 0.6825 - binary_crossentropy: 0.6576 - accuracy: 0.6149 - val_loss: 0.6688 - val_AUC: 0.6679 - val_binary_crossentropy: 0.6612 - val_accuracy: 0.5940\n",
      "Epoch 47/10000\n",
      ".20/20 - 0s - loss: 0.6633 - AUC: 0.6885 - binary_crossentropy: 0.6557 - accuracy: 0.6155 - val_loss: 0.6695 - val_AUC: 0.6769 - val_binary_crossentropy: 0.6619 - val_accuracy: 0.6030\n",
      "Epoch 48/10000\n",
      ".20/20 - 0s - loss: 0.6660 - AUC: 0.6796 - binary_crossentropy: 0.6584 - accuracy: 0.6088 - val_loss: 0.6655 - val_AUC: 0.6782 - val_binary_crossentropy: 0.6579 - val_accuracy: 0.6160\n",
      "Epoch 49/10000\n",
      ".20/20 - 0s - loss: 0.6629 - AUC: 0.6896 - binary_crossentropy: 0.6553 - accuracy: 0.6185 - val_loss: 0.6692 - val_AUC: 0.6677 - val_binary_crossentropy: 0.6617 - val_accuracy: 0.5620\n",
      "Epoch 50/10000\n",
      ".20/20 - 0s - loss: 0.6652 - AUC: 0.6820 - binary_crossentropy: 0.6576 - accuracy: 0.6073 - val_loss: 0.6664 - val_AUC: 0.6711 - val_binary_crossentropy: 0.6588 - val_accuracy: 0.5880\n",
      "Epoch 51/10000\n",
      ".20/20 - 0s - loss: 0.6627 - AUC: 0.6896 - binary_crossentropy: 0.6551 - accuracy: 0.6195 - val_loss: 0.6678 - val_AUC: 0.6741 - val_binary_crossentropy: 0.6602 - val_accuracy: 0.6070\n",
      "Epoch 52/10000\n",
      ".20/20 - 0s - loss: 0.6625 - AUC: 0.6898 - binary_crossentropy: 0.6549 - accuracy: 0.6254 - val_loss: 0.6650 - val_AUC: 0.6806 - val_binary_crossentropy: 0.6574 - val_accuracy: 0.6030\n",
      "Epoch 53/10000\n",
      ".20/20 - 0s - loss: 0.6608 - AUC: 0.6941 - binary_crossentropy: 0.6532 - accuracy: 0.6216 - val_loss: 0.6642 - val_AUC: 0.6793 - val_binary_crossentropy: 0.6566 - val_accuracy: 0.6110\n",
      "Epoch 54/10000\n",
      ".20/20 - 0s - loss: 0.6610 - AUC: 0.6948 - binary_crossentropy: 0.6534 - accuracy: 0.6316 - val_loss: 0.6698 - val_AUC: 0.6628 - val_binary_crossentropy: 0.6622 - val_accuracy: 0.5610\n",
      "Epoch 55/10000\n",
      ".20/20 - 0s - loss: 0.6645 - AUC: 0.6818 - binary_crossentropy: 0.6569 - accuracy: 0.6132 - val_loss: 0.6710 - val_AUC: 0.6544 - val_binary_crossentropy: 0.6634 - val_accuracy: 0.5490\n",
      "Epoch 56/10000\n",
      ".20/20 - 0s - loss: 0.6638 - AUC: 0.6790 - binary_crossentropy: 0.6562 - accuracy: 0.6158 - val_loss: 0.6647 - val_AUC: 0.6706 - val_binary_crossentropy: 0.6571 - val_accuracy: 0.5960\n",
      "Epoch 57/10000\n",
      ".20/20 - 0s - loss: 0.6610 - AUC: 0.6932 - binary_crossentropy: 0.6533 - accuracy: 0.6240 - val_loss: 0.6643 - val_AUC: 0.6871 - val_binary_crossentropy: 0.6567 - val_accuracy: 0.6180\n",
      "Epoch 58/10000\n",
      ".20/20 - 0s - loss: 0.6590 - AUC: 0.6978 - binary_crossentropy: 0.6514 - accuracy: 0.6312 - val_loss: 0.6630 - val_AUC: 0.6937 - val_binary_crossentropy: 0.6554 - val_accuracy: 0.6230\n",
      "Epoch 59/10000\n",
      ".20/20 - 0s - loss: 0.6596 - AUC: 0.6989 - binary_crossentropy: 0.6520 - accuracy: 0.6303 - val_loss: 0.6647 - val_AUC: 0.6920 - val_binary_crossentropy: 0.6571 - val_accuracy: 0.6190\n",
      "Epoch 60/10000\n",
      ".20/20 - 0s - loss: 0.6604 - AUC: 0.6938 - binary_crossentropy: 0.6528 - accuracy: 0.6267 - val_loss: 0.6671 - val_AUC: 0.6745 - val_binary_crossentropy: 0.6595 - val_accuracy: 0.5710\n",
      "Epoch 61/10000\n",
      ".20/20 - 0s - loss: 0.6591 - AUC: 0.6955 - binary_crossentropy: 0.6515 - accuracy: 0.6293 - val_loss: 0.6635 - val_AUC: 0.6825 - val_binary_crossentropy: 0.6559 - val_accuracy: 0.6090\n",
      "Epoch 62/10000\n",
      ".20/20 - 0s - loss: 0.6626 - AUC: 0.6875 - binary_crossentropy: 0.6550 - accuracy: 0.6174 - val_loss: 0.6615 - val_AUC: 0.6936 - val_binary_crossentropy: 0.6539 - val_accuracy: 0.6490\n",
      "Epoch 63/10000\n",
      ".20/20 - 0s - loss: 0.6594 - AUC: 0.6942 - binary_crossentropy: 0.6518 - accuracy: 0.6289 - val_loss: 0.6647 - val_AUC: 0.6754 - val_binary_crossentropy: 0.6570 - val_accuracy: 0.6110\n",
      "Epoch 64/10000\n",
      ".20/20 - 0s - loss: 0.6596 - AUC: 0.6990 - binary_crossentropy: 0.6520 - accuracy: 0.6344 - val_loss: 0.6649 - val_AUC: 0.6743 - val_binary_crossentropy: 0.6573 - val_accuracy: 0.5750\n",
      "Epoch 65/10000\n",
      ".20/20 - 0s - loss: 0.6660 - AUC: 0.6774 - binary_crossentropy: 0.6584 - accuracy: 0.6037 - val_loss: 0.6612 - val_AUC: 0.6775 - val_binary_crossentropy: 0.6536 - val_accuracy: 0.5980\n",
      "Epoch 66/10000\n",
      ".20/20 - 0s - loss: 0.6605 - AUC: 0.6877 - binary_crossentropy: 0.6529 - accuracy: 0.6253 - val_loss: 0.6647 - val_AUC: 0.6744 - val_binary_crossentropy: 0.6571 - val_accuracy: 0.5820\n",
      "Epoch 67/10000\n",
      ".20/20 - 0s - loss: 0.6867 - AUC: 0.5862 - binary_crossentropy: 0.6790 - accuracy: 0.5389 - val_loss: 0.6723 - val_AUC: 0.6375 - val_binary_crossentropy: 0.6647 - val_accuracy: 0.5740\n",
      "Epoch 68/10000\n",
      ".20/20 - 0s - loss: 0.6683 - AUC: 0.6548 - binary_crossentropy: 0.6606 - accuracy: 0.6023 - val_loss: 0.6713 - val_AUC: 0.6556 - val_binary_crossentropy: 0.6637 - val_accuracy: 0.6020\n",
      "Epoch 69/10000\n",
      ".20/20 - 0s - loss: 0.6600 - AUC: 0.6928 - binary_crossentropy: 0.6523 - accuracy: 0.6317 - val_loss: 0.6638 - val_AUC: 0.6750 - val_binary_crossentropy: 0.6561 - val_accuracy: 0.6010\n",
      "Epoch 70/10000\n",
      ".20/20 - 0s - loss: 0.6563 - AUC: 0.7007 - binary_crossentropy: 0.6486 - accuracy: 0.6366 - val_loss: 0.6597 - val_AUC: 0.6865 - val_binary_crossentropy: 0.6520 - val_accuracy: 0.6130\n",
      "Epoch 71/10000\n",
      ".20/20 - 0s - loss: 0.6541 - AUC: 0.7086 - binary_crossentropy: 0.6465 - accuracy: 0.6506 - val_loss: 0.6607 - val_AUC: 0.6821 - val_binary_crossentropy: 0.6530 - val_accuracy: 0.6090\n",
      "Epoch 72/10000\n",
      ".20/20 - 0s - loss: 0.6545 - AUC: 0.7073 - binary_crossentropy: 0.6468 - accuracy: 0.6440 - val_loss: 0.6630 - val_AUC: 0.6923 - val_binary_crossentropy: 0.6554 - val_accuracy: 0.6360\n",
      "Epoch 73/10000\n",
      ".20/20 - 0s - loss: 0.6562 - AUC: 0.7049 - binary_crossentropy: 0.6486 - accuracy: 0.6431 - val_loss: 0.6673 - val_AUC: 0.6730 - val_binary_crossentropy: 0.6596 - val_accuracy: 0.5660\n",
      "Epoch 74/10000\n",
      ".20/20 - 0s - loss: 0.6563 - AUC: 0.7023 - binary_crossentropy: 0.6486 - accuracy: 0.6371 - val_loss: 0.6589 - val_AUC: 0.6829 - val_binary_crossentropy: 0.6512 - val_accuracy: 0.6300\n",
      "Epoch 75/10000\n",
      ".20/20 - 0s - loss: 0.6579 - AUC: 0.6966 - binary_crossentropy: 0.6502 - accuracy: 0.6421 - val_loss: 0.6692 - val_AUC: 0.6523 - val_binary_crossentropy: 0.6616 - val_accuracy: 0.5610\n",
      "Epoch 76/10000\n",
      ".20/20 - 0s - loss: 0.6549 - AUC: 0.7063 - binary_crossentropy: 0.6472 - accuracy: 0.6414 - val_loss: 0.6604 - val_AUC: 0.6961 - val_binary_crossentropy: 0.6527 - val_accuracy: 0.6490\n",
      "Epoch 77/10000\n",
      ".20/20 - 0s - loss: 0.6542 - AUC: 0.7041 - binary_crossentropy: 0.6465 - accuracy: 0.6451 - val_loss: 0.6603 - val_AUC: 0.6928 - val_binary_crossentropy: 0.6527 - val_accuracy: 0.6280\n"
     ]
    },
    {
     "name": "stdout",
     "output_type": "stream",
     "text": [
      "Epoch 78/10000\n",
      ".20/20 - 0s - loss: 0.6531 - AUC: 0.7100 - binary_crossentropy: 0.6455 - accuracy: 0.6538 - val_loss: 0.6584 - val_AUC: 0.6927 - val_binary_crossentropy: 0.6507 - val_accuracy: 0.6370\n",
      "Epoch 79/10000\n",
      ".20/20 - 0s - loss: 0.6516 - AUC: 0.7131 - binary_crossentropy: 0.6439 - accuracy: 0.6550 - val_loss: 0.6570 - val_AUC: 0.7017 - val_binary_crossentropy: 0.6493 - val_accuracy: 0.6430\n",
      "Epoch 80/10000\n",
      ".20/20 - 0s - loss: 0.6560 - AUC: 0.7032 - binary_crossentropy: 0.6483 - accuracy: 0.6448 - val_loss: 0.6586 - val_AUC: 0.6903 - val_binary_crossentropy: 0.6509 - val_accuracy: 0.6130\n",
      "Epoch 81/10000\n",
      ".20/20 - 0s - loss: 0.6550 - AUC: 0.6999 - binary_crossentropy: 0.6474 - accuracy: 0.6372 - val_loss: 0.6693 - val_AUC: 0.6665 - val_binary_crossentropy: 0.6617 - val_accuracy: 0.5610\n",
      "Epoch 82/10000\n",
      ".20/20 - 0s - loss: 0.6620 - AUC: 0.6857 - binary_crossentropy: 0.6543 - accuracy: 0.6230 - val_loss: 0.6600 - val_AUC: 0.6904 - val_binary_crossentropy: 0.6523 - val_accuracy: 0.6310\n",
      "Epoch 83/10000\n",
      ".20/20 - 0s - loss: 0.6566 - AUC: 0.6979 - binary_crossentropy: 0.6489 - accuracy: 0.6472 - val_loss: 0.6627 - val_AUC: 0.6785 - val_binary_crossentropy: 0.6550 - val_accuracy: 0.5930\n",
      "Epoch 84/10000\n",
      ".20/20 - 0s - loss: 0.6547 - AUC: 0.7028 - binary_crossentropy: 0.6470 - accuracy: 0.6420 - val_loss: 0.6689 - val_AUC: 0.6631 - val_binary_crossentropy: 0.6612 - val_accuracy: 0.5630\n",
      "Epoch 85/10000\n",
      ".20/20 - 0s - loss: 0.6583 - AUC: 0.6945 - binary_crossentropy: 0.6506 - accuracy: 0.6314 - val_loss: 0.6632 - val_AUC: 0.6732 - val_binary_crossentropy: 0.6555 - val_accuracy: 0.5840\n",
      "Epoch 86/10000\n",
      ".20/20 - 0s - loss: 0.6564 - AUC: 0.7011 - binary_crossentropy: 0.6487 - accuracy: 0.6425 - val_loss: 0.6621 - val_AUC: 0.6799 - val_binary_crossentropy: 0.6544 - val_accuracy: 0.6380\n",
      "Epoch 87/10000\n",
      ".20/20 - 0s - loss: 0.6526 - AUC: 0.7117 - binary_crossentropy: 0.6449 - accuracy: 0.6536 - val_loss: 0.6674 - val_AUC: 0.6719 - val_binary_crossentropy: 0.6597 - val_accuracy: 0.5750\n",
      "Epoch 88/10000\n",
      ".20/20 - 0s - loss: 0.6504 - AUC: 0.7114 - binary_crossentropy: 0.6427 - accuracy: 0.6560 - val_loss: 0.6589 - val_AUC: 0.6865 - val_binary_crossentropy: 0.6512 - val_accuracy: 0.6090\n",
      "Epoch 89/10000\n",
      ".20/20 - 0s - loss: 0.6477 - AUC: 0.7208 - binary_crossentropy: 0.6400 - accuracy: 0.6662 - val_loss: 0.6592 - val_AUC: 0.7006 - val_binary_crossentropy: 0.6515 - val_accuracy: 0.6230\n",
      "Epoch 90/10000\n",
      ".20/20 - 0s - loss: 0.6483 - AUC: 0.7193 - binary_crossentropy: 0.6406 - accuracy: 0.6659 - val_loss: 0.6616 - val_AUC: 0.6766 - val_binary_crossentropy: 0.6539 - val_accuracy: 0.5940\n",
      "Epoch 91/10000\n",
      ".20/20 - 0s - loss: 0.6479 - AUC: 0.7213 - binary_crossentropy: 0.6402 - accuracy: 0.6680 - val_loss: 0.6569 - val_AUC: 0.6945 - val_binary_crossentropy: 0.6491 - val_accuracy: 0.6250\n",
      "Epoch 92/10000\n",
      ".20/20 - 0s - loss: 0.6532 - AUC: 0.7082 - binary_crossentropy: 0.6455 - accuracy: 0.6471 - val_loss: 0.6572 - val_AUC: 0.6970 - val_binary_crossentropy: 0.6494 - val_accuracy: 0.6250\n",
      "Epoch 93/10000\n",
      ".20/20 - 0s - loss: 0.6451 - AUC: 0.7266 - binary_crossentropy: 0.6374 - accuracy: 0.6705 - val_loss: 0.6577 - val_AUC: 0.6916 - val_binary_crossentropy: 0.6499 - val_accuracy: 0.6120\n",
      "Epoch 94/10000\n",
      ".20/20 - 0s - loss: 0.6468 - AUC: 0.7209 - binary_crossentropy: 0.6390 - accuracy: 0.6674 - val_loss: 0.6574 - val_AUC: 0.6979 - val_binary_crossentropy: 0.6496 - val_accuracy: 0.6200\n",
      "Epoch 95/10000\n",
      ".20/20 - 0s - loss: 0.6450 - AUC: 0.7246 - binary_crossentropy: 0.6373 - accuracy: 0.6724 - val_loss: 0.6545 - val_AUC: 0.6949 - val_binary_crossentropy: 0.6468 - val_accuracy: 0.6370\n",
      "Epoch 96/10000\n",
      ".20/20 - 0s - loss: 0.6428 - AUC: 0.7269 - binary_crossentropy: 0.6351 - accuracy: 0.6809 - val_loss: 0.6603 - val_AUC: 0.6830 - val_binary_crossentropy: 0.6526 - val_accuracy: 0.5990\n",
      "Epoch 97/10000\n",
      ".20/20 - 0s - loss: 0.6479 - AUC: 0.7208 - binary_crossentropy: 0.6401 - accuracy: 0.6667 - val_loss: 0.6567 - val_AUC: 0.6798 - val_binary_crossentropy: 0.6490 - val_accuracy: 0.6280\n",
      "Epoch 98/10000\n",
      ".20/20 - 0s - loss: 0.6438 - AUC: 0.7273 - binary_crossentropy: 0.6360 - accuracy: 0.6760 - val_loss: 0.6620 - val_AUC: 0.6735 - val_binary_crossentropy: 0.6542 - val_accuracy: 0.6130\n",
      "Epoch 99/10000\n",
      ".20/20 - 0s - loss: 0.6420 - AUC: 0.7306 - binary_crossentropy: 0.6342 - accuracy: 0.6816 - val_loss: 0.6565 - val_AUC: 0.6994 - val_binary_crossentropy: 0.6488 - val_accuracy: 0.6350\n",
      "Epoch 100/10000\n",
      ".20/20 - 0s - loss: 0.6428 - AUC: 0.7265 - binary_crossentropy: 0.6351 - accuracy: 0.6723 - val_loss: 0.6575 - val_AUC: 0.7024 - val_binary_crossentropy: 0.6497 - val_accuracy: 0.6550\n",
      "Epoch 101/10000\n",
      "\n",
      "Epoch: 100, AUC:0.7161,  accuracy:0.6634,  binary_crossentropy:0.6404,  loss:0.6481,  val_AUC:0.6811,  val_accuracy:0.5970,  val_binary_crossentropy:0.6565,  val_loss:0.6643,  \n",
      ".20/20 - 0s - loss: 0.6481 - AUC: 0.7161 - binary_crossentropy: 0.6404 - accuracy: 0.6634 - val_loss: 0.6643 - val_AUC: 0.6811 - val_binary_crossentropy: 0.6565 - val_accuracy: 0.5970\n",
      "Epoch 102/10000\n",
      ".20/20 - 0s - loss: 0.6456 - AUC: 0.7222 - binary_crossentropy: 0.6378 - accuracy: 0.6673 - val_loss: 0.6583 - val_AUC: 0.6961 - val_binary_crossentropy: 0.6505 - val_accuracy: 0.6250\n",
      "Epoch 103/10000\n",
      ".20/20 - 0s - loss: 0.6406 - AUC: 0.7297 - binary_crossentropy: 0.6328 - accuracy: 0.6859 - val_loss: 0.6562 - val_AUC: 0.7039 - val_binary_crossentropy: 0.6484 - val_accuracy: 0.6190\n",
      "Epoch 104/10000\n",
      ".20/20 - 0s - loss: 0.6383 - AUC: 0.7363 - binary_crossentropy: 0.6306 - accuracy: 0.6882 - val_loss: 0.6513 - val_AUC: 0.7057 - val_binary_crossentropy: 0.6435 - val_accuracy: 0.6490\n",
      "Epoch 105/10000\n",
      ".20/20 - 0s - loss: 0.6404 - AUC: 0.7305 - binary_crossentropy: 0.6327 - accuracy: 0.6815 - val_loss: 0.6597 - val_AUC: 0.6893 - val_binary_crossentropy: 0.6519 - val_accuracy: 0.6270\n",
      "Epoch 106/10000\n",
      ".20/20 - 0s - loss: 0.6388 - AUC: 0.7347 - binary_crossentropy: 0.6310 - accuracy: 0.6878 - val_loss: 0.6613 - val_AUC: 0.6880 - val_binary_crossentropy: 0.6535 - val_accuracy: 0.6090\n",
      "Epoch 107/10000\n",
      ".20/20 - 0s - loss: 0.6401 - AUC: 0.7318 - binary_crossentropy: 0.6323 - accuracy: 0.6858 - val_loss: 0.6682 - val_AUC: 0.6616 - val_binary_crossentropy: 0.6604 - val_accuracy: 0.5670\n",
      "Epoch 108/10000\n",
      ".20/20 - 0s - loss: 0.6477 - AUC: 0.7163 - binary_crossentropy: 0.6398 - accuracy: 0.6684 - val_loss: 0.6598 - val_AUC: 0.6842 - val_binary_crossentropy: 0.6520 - val_accuracy: 0.6140\n",
      "Epoch 109/10000\n",
      ".20/20 - 0s - loss: 0.6448 - AUC: 0.7238 - binary_crossentropy: 0.6370 - accuracy: 0.6712 - val_loss: 0.6615 - val_AUC: 0.6753 - val_binary_crossentropy: 0.6537 - val_accuracy: 0.5960\n",
      "Epoch 110/10000\n",
      ".20/20 - 0s - loss: 0.6400 - AUC: 0.7314 - binary_crossentropy: 0.6322 - accuracy: 0.6821 - val_loss: 0.6579 - val_AUC: 0.6952 - val_binary_crossentropy: 0.6500 - val_accuracy: 0.6390\n",
      "Epoch 111/10000\n",
      ".20/20 - 0s - loss: 0.6391 - AUC: 0.7345 - binary_crossentropy: 0.6313 - accuracy: 0.6879 - val_loss: 0.6588 - val_AUC: 0.6855 - val_binary_crossentropy: 0.6510 - val_accuracy: 0.6220\n",
      "Epoch 112/10000\n",
      ".20/20 - 0s - loss: 0.6378 - AUC: 0.7356 - binary_crossentropy: 0.6300 - accuracy: 0.6884 - val_loss: 0.6526 - val_AUC: 0.7029 - val_binary_crossentropy: 0.6447 - val_accuracy: 0.6610\n",
      "Epoch 113/10000\n",
      ".20/20 - 0s - loss: 0.6385 - AUC: 0.7349 - binary_crossentropy: 0.6306 - accuracy: 0.6879 - val_loss: 0.6574 - val_AUC: 0.6903 - val_binary_crossentropy: 0.6496 - val_accuracy: 0.6260\n",
      "Epoch 114/10000\n",
      ".20/20 - 0s - loss: 0.6351 - AUC: 0.7363 - binary_crossentropy: 0.6273 - accuracy: 0.6930 - val_loss: 0.6537 - val_AUC: 0.7025 - val_binary_crossentropy: 0.6459 - val_accuracy: 0.6440\n",
      "Epoch 115/10000\n",
      ".20/20 - 0s - loss: 0.6386 - AUC: 0.7327 - binary_crossentropy: 0.6308 - accuracy: 0.6865 - val_loss: 0.6542 - val_AUC: 0.6976 - val_binary_crossentropy: 0.6464 - val_accuracy: 0.6420\n",
      "Epoch 116/10000\n",
      ".20/20 - 0s - loss: 0.6445 - AUC: 0.7232 - binary_crossentropy: 0.6367 - accuracy: 0.6750 - val_loss: 0.6612 - val_AUC: 0.6760 - val_binary_crossentropy: 0.6533 - val_accuracy: 0.6000\n",
      "Epoch 117/10000\n",
      ".20/20 - 0s - loss: 0.6437 - AUC: 0.7224 - binary_crossentropy: 0.6359 - accuracy: 0.6731 - val_loss: 0.6634 - val_AUC: 0.6747 - val_binary_crossentropy: 0.6555 - val_accuracy: 0.5840\n",
      "Epoch 118/10000\n",
      ".20/20 - 0s - loss: 0.6449 - AUC: 0.7212 - binary_crossentropy: 0.6370 - accuracy: 0.6731 - val_loss: 0.6621 - val_AUC: 0.6749 - val_binary_crossentropy: 0.6542 - val_accuracy: 0.6030\n"
     ]
    },
    {
     "name": "stdout",
     "output_type": "stream",
     "text": [
      "Epoch 119/10000\n",
      ".20/20 - 0s - loss: 0.6358 - AUC: 0.7384 - binary_crossentropy: 0.6280 - accuracy: 0.6959 - val_loss: 0.6575 - val_AUC: 0.6924 - val_binary_crossentropy: 0.6496 - val_accuracy: 0.6160\n",
      "Epoch 120/10000\n",
      ".20/20 - 0s - loss: 0.6388 - AUC: 0.7347 - binary_crossentropy: 0.6310 - accuracy: 0.6859 - val_loss: 0.6525 - val_AUC: 0.7162 - val_binary_crossentropy: 0.6446 - val_accuracy: 0.6700\n",
      "Epoch 121/10000\n",
      ".20/20 - 0s - loss: 0.6373 - AUC: 0.7339 - binary_crossentropy: 0.6294 - accuracy: 0.6889 - val_loss: 0.6563 - val_AUC: 0.6984 - val_binary_crossentropy: 0.6484 - val_accuracy: 0.6490\n",
      "Epoch 122/10000\n",
      ".20/20 - 0s - loss: 0.6406 - AUC: 0.7284 - binary_crossentropy: 0.6327 - accuracy: 0.6803 - val_loss: 0.6621 - val_AUC: 0.6750 - val_binary_crossentropy: 0.6542 - val_accuracy: 0.5880\n",
      "Epoch 123/10000\n",
      ".20/20 - 0s - loss: 0.6418 - AUC: 0.7261 - binary_crossentropy: 0.6339 - accuracy: 0.6800 - val_loss: 0.6656 - val_AUC: 0.6633 - val_binary_crossentropy: 0.6577 - val_accuracy: 0.5830\n",
      "Epoch 124/10000\n",
      ".20/20 - 0s - loss: 0.6373 - AUC: 0.7345 - binary_crossentropy: 0.6295 - accuracy: 0.6866 - val_loss: 0.6555 - val_AUC: 0.7010 - val_binary_crossentropy: 0.6476 - val_accuracy: 0.6360\n",
      "Epoch 125/10000\n",
      ".20/20 - 0s - loss: 0.6347 - AUC: 0.7415 - binary_crossentropy: 0.6268 - accuracy: 0.6957 - val_loss: 0.6520 - val_AUC: 0.7054 - val_binary_crossentropy: 0.6441 - val_accuracy: 0.6680\n",
      "Epoch 126/10000\n",
      ".20/20 - 0s - loss: 0.6322 - AUC: 0.7427 - binary_crossentropy: 0.6243 - accuracy: 0.7013 - val_loss: 0.6528 - val_AUC: 0.7014 - val_binary_crossentropy: 0.6449 - val_accuracy: 0.6450\n",
      "Epoch 127/10000\n",
      ".20/20 - 0s - loss: 0.6306 - AUC: 0.7481 - binary_crossentropy: 0.6227 - accuracy: 0.7074 - val_loss: 0.6540 - val_AUC: 0.6973 - val_binary_crossentropy: 0.6461 - val_accuracy: 0.6330\n",
      "Epoch 128/10000\n",
      ".20/20 - 0s - loss: 0.6289 - AUC: 0.7487 - binary_crossentropy: 0.6209 - accuracy: 0.7118 - val_loss: 0.6544 - val_AUC: 0.7052 - val_binary_crossentropy: 0.6465 - val_accuracy: 0.6460\n",
      "Epoch 129/10000\n",
      ".20/20 - 0s - loss: 0.6320 - AUC: 0.7423 - binary_crossentropy: 0.6241 - accuracy: 0.7026 - val_loss: 0.6562 - val_AUC: 0.6975 - val_binary_crossentropy: 0.6482 - val_accuracy: 0.6250\n",
      "Epoch 130/10000\n",
      ".20/20 - 0s - loss: 0.6319 - AUC: 0.7433 - binary_crossentropy: 0.6240 - accuracy: 0.7035 - val_loss: 0.6592 - val_AUC: 0.7087 - val_binary_crossentropy: 0.6513 - val_accuracy: 0.6600\n",
      "Epoch 131/10000\n",
      ".20/20 - 0s - loss: 0.6386 - AUC: 0.7323 - binary_crossentropy: 0.6307 - accuracy: 0.6882 - val_loss: 0.6536 - val_AUC: 0.7032 - val_binary_crossentropy: 0.6456 - val_accuracy: 0.6640\n",
      "Epoch 132/10000\n",
      ".20/20 - 0s - loss: 0.6315 - AUC: 0.7434 - binary_crossentropy: 0.6236 - accuracy: 0.7043 - val_loss: 0.6547 - val_AUC: 0.7045 - val_binary_crossentropy: 0.6467 - val_accuracy: 0.6660\n",
      "Epoch 133/10000\n",
      ".20/20 - 0s - loss: 0.6358 - AUC: 0.7346 - binary_crossentropy: 0.6279 - accuracy: 0.6905 - val_loss: 0.6598 - val_AUC: 0.6885 - val_binary_crossentropy: 0.6518 - val_accuracy: 0.6320\n",
      "Epoch 134/10000\n",
      ".20/20 - 0s - loss: 0.6319 - AUC: 0.7441 - binary_crossentropy: 0.6239 - accuracy: 0.7019 - val_loss: 0.6527 - val_AUC: 0.6878 - val_binary_crossentropy: 0.6447 - val_accuracy: 0.6400\n",
      "Epoch 135/10000\n",
      ".20/20 - 0s - loss: 0.6290 - AUC: 0.7495 - binary_crossentropy: 0.6210 - accuracy: 0.7127 - val_loss: 0.6634 - val_AUC: 0.6758 - val_binary_crossentropy: 0.6554 - val_accuracy: 0.5930\n",
      "Epoch 136/10000\n",
      ".20/20 - 0s - loss: 0.6405 - AUC: 0.7297 - binary_crossentropy: 0.6325 - accuracy: 0.6841 - val_loss: 0.6603 - val_AUC: 0.6841 - val_binary_crossentropy: 0.6523 - val_accuracy: 0.6230\n",
      "Epoch 137/10000\n",
      ".20/20 - 0s - loss: 0.6278 - AUC: 0.7485 - binary_crossentropy: 0.6198 - accuracy: 0.7130 - val_loss: 0.6564 - val_AUC: 0.6854 - val_binary_crossentropy: 0.6485 - val_accuracy: 0.6310\n",
      "Epoch 138/10000\n",
      ".20/20 - 0s - loss: 0.6332 - AUC: 0.7425 - binary_crossentropy: 0.6252 - accuracy: 0.7035 - val_loss: 0.6615 - val_AUC: 0.6848 - val_binary_crossentropy: 0.6535 - val_accuracy: 0.6230\n",
      "Epoch 139/10000\n",
      ".20/20 - 0s - loss: 0.6332 - AUC: 0.7439 - binary_crossentropy: 0.6252 - accuracy: 0.6970 - val_loss: 0.6626 - val_AUC: 0.6651 - val_binary_crossentropy: 0.6546 - val_accuracy: 0.5890\n",
      "Epoch 140/10000\n",
      ".20/20 - 0s - loss: 0.6293 - AUC: 0.7500 - binary_crossentropy: 0.6213 - accuracy: 0.7102 - val_loss: 0.6563 - val_AUC: 0.7016 - val_binary_crossentropy: 0.6483 - val_accuracy: 0.6410\n",
      "Epoch 141/10000\n",
      ".20/20 - 0s - loss: 0.6268 - AUC: 0.7519 - binary_crossentropy: 0.6188 - accuracy: 0.7164 - val_loss: 0.6574 - val_AUC: 0.6875 - val_binary_crossentropy: 0.6494 - val_accuracy: 0.6180\n",
      "Epoch 142/10000\n",
      ".20/20 - 0s - loss: 0.6352 - AUC: 0.7381 - binary_crossentropy: 0.6272 - accuracy: 0.6982 - val_loss: 0.6645 - val_AUC: 0.6530 - val_binary_crossentropy: 0.6565 - val_accuracy: 0.5910\n",
      "Epoch 143/10000\n",
      ".20/20 - 0s - loss: 0.6313 - AUC: 0.7427 - binary_crossentropy: 0.6232 - accuracy: 0.7003 - val_loss: 0.6570 - val_AUC: 0.6893 - val_binary_crossentropy: 0.6490 - val_accuracy: 0.6230\n",
      "Epoch 144/10000\n",
      ".20/20 - 0s - loss: 0.6268 - AUC: 0.7492 - binary_crossentropy: 0.6188 - accuracy: 0.7131 - val_loss: 0.6580 - val_AUC: 0.6812 - val_binary_crossentropy: 0.6500 - val_accuracy: 0.6230\n",
      "Epoch 145/10000\n",
      ".20/20 - 0s - loss: 0.6261 - AUC: 0.7551 - binary_crossentropy: 0.6181 - accuracy: 0.7180 - val_loss: 0.6597 - val_AUC: 0.6803 - val_binary_crossentropy: 0.6517 - val_accuracy: 0.6210\n",
      "Epoch 146/10000\n",
      ".20/20 - 0s - loss: 0.6245 - AUC: 0.7551 - binary_crossentropy: 0.6165 - accuracy: 0.7216 - val_loss: 0.6616 - val_AUC: 0.6788 - val_binary_crossentropy: 0.6536 - val_accuracy: 0.6170\n",
      "Epoch 147/10000\n",
      ".20/20 - 0s - loss: 0.6275 - AUC: 0.7519 - binary_crossentropy: 0.6195 - accuracy: 0.7124 - val_loss: 0.6592 - val_AUC: 0.6860 - val_binary_crossentropy: 0.6511 - val_accuracy: 0.6460\n",
      "Epoch 148/10000\n",
      ".20/20 - 0s - loss: 0.6278 - AUC: 0.7500 - binary_crossentropy: 0.6197 - accuracy: 0.7152 - val_loss: 0.6589 - val_AUC: 0.6884 - val_binary_crossentropy: 0.6509 - val_accuracy: 0.6200\n",
      "Epoch 149/10000\n",
      ".20/20 - 0s - loss: 0.6250 - AUC: 0.7536 - binary_crossentropy: 0.6169 - accuracy: 0.7216 - val_loss: 0.6605 - val_AUC: 0.6826 - val_binary_crossentropy: 0.6524 - val_accuracy: 0.6250\n",
      "Epoch 150/10000\n",
      ".20/20 - 0s - loss: 0.6238 - AUC: 0.7560 - binary_crossentropy: 0.6158 - accuracy: 0.7200 - val_loss: 0.6592 - val_AUC: 0.6797 - val_binary_crossentropy: 0.6511 - val_accuracy: 0.6330\n",
      "Epoch 151/10000\n",
      ".20/20 - 0s - loss: 0.6277 - AUC: 0.7509 - binary_crossentropy: 0.6196 - accuracy: 0.7150 - val_loss: 0.6606 - val_AUC: 0.6723 - val_binary_crossentropy: 0.6526 - val_accuracy: 0.6100\n",
      "Epoch 152/10000\n",
      ".20/20 - 0s - loss: 0.6315 - AUC: 0.7433 - binary_crossentropy: 0.6234 - accuracy: 0.7002 - val_loss: 0.6651 - val_AUC: 0.6550 - val_binary_crossentropy: 0.6570 - val_accuracy: 0.5890\n",
      "Epoch 153/10000\n",
      ".20/20 - 0s - loss: 0.6300 - AUC: 0.7453 - binary_crossentropy: 0.6219 - accuracy: 0.7073 - val_loss: 0.6584 - val_AUC: 0.6849 - val_binary_crossentropy: 0.6503 - val_accuracy: 0.6270\n",
      "Epoch 154/10000\n",
      ".20/20 - 0s - loss: 0.6300 - AUC: 0.7468 - binary_crossentropy: 0.6219 - accuracy: 0.7083 - val_loss: 0.6545 - val_AUC: 0.7059 - val_binary_crossentropy: 0.6464 - val_accuracy: 0.6560\n",
      "Epoch 155/10000\n",
      ".20/20 - 0s - loss: 0.6320 - AUC: 0.7424 - binary_crossentropy: 0.6239 - accuracy: 0.6997 - val_loss: 0.6614 - val_AUC: 0.6934 - val_binary_crossentropy: 0.6533 - val_accuracy: 0.6560\n",
      "Epoch 156/10000\n",
      ".20/20 - 0s - loss: 0.6293 - AUC: 0.7467 - binary_crossentropy: 0.6213 - accuracy: 0.7062 - val_loss: 0.6660 - val_AUC: 0.6497 - val_binary_crossentropy: 0.6579 - val_accuracy: 0.5850\n",
      "Epoch 157/10000\n",
      ".20/20 - 0s - loss: 0.6287 - AUC: 0.7532 - binary_crossentropy: 0.6206 - accuracy: 0.7110 - val_loss: 0.6530 - val_AUC: 0.6890 - val_binary_crossentropy: 0.6449 - val_accuracy: 0.6460\n",
      "Epoch 158/10000\n",
      ".20/20 - 0s - loss: 0.6223 - AUC: 0.7580 - binary_crossentropy: 0.6142 - accuracy: 0.7269 - val_loss: 0.6592 - val_AUC: 0.6775 - val_binary_crossentropy: 0.6511 - val_accuracy: 0.6250\n",
      "Epoch 159/10000\n",
      ".20/20 - 0s - loss: 0.6217 - AUC: 0.7589 - binary_crossentropy: 0.6136 - accuracy: 0.7282 - val_loss: 0.6555 - val_AUC: 0.6936 - val_binary_crossentropy: 0.6474 - val_accuracy: 0.6520\n"
     ]
    },
    {
     "name": "stdout",
     "output_type": "stream",
     "text": [
      "Epoch 160/10000\n",
      ".20/20 - 0s - loss: 0.6231 - AUC: 0.7600 - binary_crossentropy: 0.6149 - accuracy: 0.7262 - val_loss: 0.6585 - val_AUC: 0.6882 - val_binary_crossentropy: 0.6504 - val_accuracy: 0.6380\n",
      "Epoch 161/10000\n",
      ".20/20 - 0s - loss: 0.6245 - AUC: 0.7556 - binary_crossentropy: 0.6164 - accuracy: 0.7192 - val_loss: 0.6574 - val_AUC: 0.6835 - val_binary_crossentropy: 0.6493 - val_accuracy: 0.6360\n",
      "Epoch 162/10000\n",
      ".20/20 - 0s - loss: 0.6224 - AUC: 0.7583 - binary_crossentropy: 0.6142 - accuracy: 0.7241 - val_loss: 0.6576 - val_AUC: 0.6938 - val_binary_crossentropy: 0.6495 - val_accuracy: 0.6490\n",
      "Epoch 163/10000\n",
      ".20/20 - 0s - loss: 0.6339 - AUC: 0.7348 - binary_crossentropy: 0.6258 - accuracy: 0.6942 - val_loss: 0.6630 - val_AUC: 0.6851 - val_binary_crossentropy: 0.6548 - val_accuracy: 0.6490\n",
      "Epoch 164/10000\n",
      ".20/20 - 0s - loss: 0.6276 - AUC: 0.7518 - binary_crossentropy: 0.6194 - accuracy: 0.7156 - val_loss: 0.6577 - val_AUC: 0.6889 - val_binary_crossentropy: 0.6496 - val_accuracy: 0.6430\n",
      "Epoch 165/10000\n",
      ".20/20 - 0s - loss: 0.6336 - AUC: 0.7435 - binary_crossentropy: 0.6255 - accuracy: 0.7011 - val_loss: 0.6610 - val_AUC: 0.6778 - val_binary_crossentropy: 0.6529 - val_accuracy: 0.6240\n",
      "Epoch 166/10000\n",
      ".20/20 - 0s - loss: 0.6440 - AUC: 0.7169 - binary_crossentropy: 0.6358 - accuracy: 0.6729 - val_loss: 0.6579 - val_AUC: 0.6928 - val_binary_crossentropy: 0.6498 - val_accuracy: 0.6630\n",
      "Epoch 167/10000\n",
      ".20/20 - 0s - loss: 0.6267 - AUC: 0.7526 - binary_crossentropy: 0.6186 - accuracy: 0.7160 - val_loss: 0.6618 - val_AUC: 0.6794 - val_binary_crossentropy: 0.6537 - val_accuracy: 0.6170\n",
      "Epoch 168/10000\n",
      ".20/20 - 0s - loss: 0.6226 - AUC: 0.7614 - binary_crossentropy: 0.6144 - accuracy: 0.7282 - val_loss: 0.6576 - val_AUC: 0.6867 - val_binary_crossentropy: 0.6494 - val_accuracy: 0.6240\n",
      "Epoch 169/10000\n",
      ".20/20 - 0s - loss: 0.6212 - AUC: 0.7622 - binary_crossentropy: 0.6130 - accuracy: 0.7288 - val_loss: 0.6605 - val_AUC: 0.6726 - val_binary_crossentropy: 0.6523 - val_accuracy: 0.6090\n",
      "Epoch 170/10000\n",
      ".20/20 - 0s - loss: 0.6181 - AUC: 0.7660 - binary_crossentropy: 0.6099 - accuracy: 0.7348 - val_loss: 0.6542 - val_AUC: 0.6914 - val_binary_crossentropy: 0.6461 - val_accuracy: 0.6520\n",
      "Epoch 171/10000\n",
      ".20/20 - 0s - loss: 0.6206 - AUC: 0.7645 - binary_crossentropy: 0.6124 - accuracy: 0.7309 - val_loss: 0.6642 - val_AUC: 0.6597 - val_binary_crossentropy: 0.6560 - val_accuracy: 0.6030\n",
      "Epoch 172/10000\n",
      ".20/20 - 0s - loss: 0.6214 - AUC: 0.7619 - binary_crossentropy: 0.6132 - accuracy: 0.7279 - val_loss: 0.6559 - val_AUC: 0.6887 - val_binary_crossentropy: 0.6477 - val_accuracy: 0.6480\n",
      "Epoch 173/10000\n",
      ".20/20 - 0s - loss: 0.6173 - AUC: 0.7659 - binary_crossentropy: 0.6091 - accuracy: 0.7393 - val_loss: 0.6586 - val_AUC: 0.6790 - val_binary_crossentropy: 0.6503 - val_accuracy: 0.6440\n",
      "Epoch 174/10000\n",
      ".20/20 - 0s - loss: 0.6164 - AUC: 0.7683 - binary_crossentropy: 0.6081 - accuracy: 0.7429 - val_loss: 0.6565 - val_AUC: 0.6894 - val_binary_crossentropy: 0.6483 - val_accuracy: 0.6490\n",
      "Epoch 175/10000\n",
      ".20/20 - 0s - loss: 0.6183 - AUC: 0.7654 - binary_crossentropy: 0.6101 - accuracy: 0.7348 - val_loss: 0.6574 - val_AUC: 0.6775 - val_binary_crossentropy: 0.6491 - val_accuracy: 0.6180\n",
      "Epoch 176/10000\n",
      ".20/20 - 0s - loss: 0.6168 - AUC: 0.7681 - binary_crossentropy: 0.6086 - accuracy: 0.7405 - val_loss: 0.6587 - val_AUC: 0.6743 - val_binary_crossentropy: 0.6505 - val_accuracy: 0.6190\n",
      "Epoch 177/10000\n",
      ".20/20 - 0s - loss: 0.6172 - AUC: 0.7693 - binary_crossentropy: 0.6090 - accuracy: 0.7395 - val_loss: 0.6533 - val_AUC: 0.6914 - val_binary_crossentropy: 0.6451 - val_accuracy: 0.6490\n",
      "Epoch 178/10000\n",
      ".20/20 - 0s - loss: 0.6224 - AUC: 0.7608 - binary_crossentropy: 0.6141 - accuracy: 0.7264 - val_loss: 0.6611 - val_AUC: 0.6637 - val_binary_crossentropy: 0.6528 - val_accuracy: 0.6050\n",
      "Epoch 179/10000\n",
      ".20/20 - 0s - loss: 0.6238 - AUC: 0.7585 - binary_crossentropy: 0.6156 - accuracy: 0.7213 - val_loss: 0.6649 - val_AUC: 0.6568 - val_binary_crossentropy: 0.6566 - val_accuracy: 0.5890\n",
      "Epoch 180/10000\n",
      ".20/20 - 0s - loss: 0.6193 - AUC: 0.7669 - binary_crossentropy: 0.6110 - accuracy: 0.7330 - val_loss: 0.6596 - val_AUC: 0.6751 - val_binary_crossentropy: 0.6513 - val_accuracy: 0.6390\n",
      "Epoch 181/10000\n",
      ".20/20 - 0s - loss: 0.6166 - AUC: 0.7713 - binary_crossentropy: 0.6083 - accuracy: 0.7389 - val_loss: 0.6601 - val_AUC: 0.6740 - val_binary_crossentropy: 0.6518 - val_accuracy: 0.6380\n",
      "Epoch 182/10000\n",
      ".20/20 - 0s - loss: 0.6131 - AUC: 0.7744 - binary_crossentropy: 0.6048 - accuracy: 0.7486 - val_loss: 0.6619 - val_AUC: 0.6680 - val_binary_crossentropy: 0.6536 - val_accuracy: 0.6220\n",
      "Epoch 183/10000\n",
      ".20/20 - 0s - loss: 0.6120 - AUC: 0.7755 - binary_crossentropy: 0.6037 - accuracy: 0.7507 - val_loss: 0.6612 - val_AUC: 0.6766 - val_binary_crossentropy: 0.6529 - val_accuracy: 0.6320\n",
      "Epoch 184/10000\n",
      ".20/20 - 0s - loss: 0.6139 - AUC: 0.7761 - binary_crossentropy: 0.6056 - accuracy: 0.7437 - val_loss: 0.6592 - val_AUC: 0.6864 - val_binary_crossentropy: 0.6509 - val_accuracy: 0.6530\n",
      "Epoch 185/10000\n",
      ".20/20 - 0s - loss: 0.6125 - AUC: 0.7755 - binary_crossentropy: 0.6042 - accuracy: 0.7500 - val_loss: 0.6567 - val_AUC: 0.6799 - val_binary_crossentropy: 0.6484 - val_accuracy: 0.6440\n",
      "Epoch 186/10000\n",
      ".20/20 - 0s - loss: 0.6169 - AUC: 0.7702 - binary_crossentropy: 0.6086 - accuracy: 0.7386 - val_loss: 0.6585 - val_AUC: 0.6846 - val_binary_crossentropy: 0.6502 - val_accuracy: 0.6570\n",
      "Epoch 187/10000\n",
      ".20/20 - 0s - loss: 0.6165 - AUC: 0.7688 - binary_crossentropy: 0.6082 - accuracy: 0.7414 - val_loss: 0.6613 - val_AUC: 0.6629 - val_binary_crossentropy: 0.6530 - val_accuracy: 0.6200\n",
      "Epoch 188/10000\n",
      ".20/20 - 0s - loss: 0.6143 - AUC: 0.7723 - binary_crossentropy: 0.6060 - accuracy: 0.7432 - val_loss: 0.6573 - val_AUC: 0.6776 - val_binary_crossentropy: 0.6490 - val_accuracy: 0.6440\n",
      "Epoch 189/10000\n",
      ".20/20 - 0s - loss: 0.6130 - AUC: 0.7760 - binary_crossentropy: 0.6047 - accuracy: 0.7459 - val_loss: 0.6579 - val_AUC: 0.6780 - val_binary_crossentropy: 0.6496 - val_accuracy: 0.6430\n",
      "Epoch 190/10000\n",
      ".20/20 - 0s - loss: 0.6077 - AUC: 0.7815 - binary_crossentropy: 0.5994 - accuracy: 0.7624 - val_loss: 0.6570 - val_AUC: 0.6858 - val_binary_crossentropy: 0.6486 - val_accuracy: 0.6570\n",
      "Epoch 191/10000\n",
      ".20/20 - 0s - loss: 0.6189 - AUC: 0.7662 - binary_crossentropy: 0.6105 - accuracy: 0.7336 - val_loss: 0.6668 - val_AUC: 0.6542 - val_binary_crossentropy: 0.6584 - val_accuracy: 0.5960\n",
      "Epoch 192/10000\n",
      ".20/20 - 0s - loss: 0.6138 - AUC: 0.7738 - binary_crossentropy: 0.6054 - accuracy: 0.7433 - val_loss: 0.6610 - val_AUC: 0.6773 - val_binary_crossentropy: 0.6526 - val_accuracy: 0.6400\n",
      "Epoch 193/10000\n",
      ".20/20 - 0s - loss: 0.6101 - AUC: 0.7795 - binary_crossentropy: 0.6018 - accuracy: 0.7550 - val_loss: 0.6631 - val_AUC: 0.6767 - val_binary_crossentropy: 0.6548 - val_accuracy: 0.6390\n",
      "Epoch 194/10000\n",
      ".20/20 - 0s - loss: 0.6156 - AUC: 0.7709 - binary_crossentropy: 0.6072 - accuracy: 0.7400 - val_loss: 0.6638 - val_AUC: 0.6633 - val_binary_crossentropy: 0.6554 - val_accuracy: 0.6130\n",
      "Epoch 195/10000\n",
      ".20/20 - 0s - loss: 0.6306 - AUC: 0.7462 - binary_crossentropy: 0.6222 - accuracy: 0.7084 - val_loss: 0.6679 - val_AUC: 0.6447 - val_binary_crossentropy: 0.6596 - val_accuracy: 0.5860\n",
      "Epoch 196/10000\n",
      ".20/20 - 0s - loss: 0.6232 - AUC: 0.7600 - binary_crossentropy: 0.6148 - accuracy: 0.7243 - val_loss: 0.6620 - val_AUC: 0.6639 - val_binary_crossentropy: 0.6536 - val_accuracy: 0.6160\n",
      "Epoch 197/10000\n",
      ".20/20 - 0s - loss: 0.6109 - AUC: 0.7808 - binary_crossentropy: 0.6025 - accuracy: 0.7512 - val_loss: 0.6617 - val_AUC: 0.6569 - val_binary_crossentropy: 0.6533 - val_accuracy: 0.6130\n",
      "Epoch 198/10000\n",
      ".20/20 - 0s - loss: 0.6098 - AUC: 0.7816 - binary_crossentropy: 0.6014 - accuracy: 0.7556 - val_loss: 0.6584 - val_AUC: 0.6715 - val_binary_crossentropy: 0.6500 - val_accuracy: 0.6330\n",
      "Epoch 199/10000\n",
      ".20/20 - 0s - loss: 0.6095 - AUC: 0.7825 - binary_crossentropy: 0.6011 - accuracy: 0.7547 - val_loss: 0.6629 - val_AUC: 0.6684 - val_binary_crossentropy: 0.6545 - val_accuracy: 0.6220\n",
      "Epoch 200/10000\n",
      ".20/20 - 0s - loss: 0.6080 - AUC: 0.7825 - binary_crossentropy: 0.5996 - accuracy: 0.7607 - val_loss: 0.6623 - val_AUC: 0.6617 - val_binary_crossentropy: 0.6539 - val_accuracy: 0.6190\n"
     ]
    },
    {
     "name": "stdout",
     "output_type": "stream",
     "text": [
      "Epoch 201/10000\n",
      "\n",
      "Epoch: 200, AUC:0.7816,  accuracy:0.7548,  binary_crossentropy:0.6014,  loss:0.6098,  val_AUC:0.6670,  val_accuracy:0.6170,  val_binary_crossentropy:0.6548,  val_loss:0.6632,  \n",
      ".20/20 - 0s - loss: 0.6098 - AUC: 0.7816 - binary_crossentropy: 0.6014 - accuracy: 0.7548 - val_loss: 0.6632 - val_AUC: 0.6670 - val_binary_crossentropy: 0.6548 - val_accuracy: 0.6170\n",
      "Epoch 202/10000\n",
      ".20/20 - 0s - loss: 0.6092 - AUC: 0.7806 - binary_crossentropy: 0.6008 - accuracy: 0.7578 - val_loss: 0.6620 - val_AUC: 0.6779 - val_binary_crossentropy: 0.6535 - val_accuracy: 0.6370\n",
      "Epoch 203/10000\n",
      ".20/20 - 0s - loss: 0.6074 - AUC: 0.7853 - binary_crossentropy: 0.5989 - accuracy: 0.7620 - val_loss: 0.6623 - val_AUC: 0.6568 - val_binary_crossentropy: 0.6539 - val_accuracy: 0.6180\n",
      "Epoch 204/10000\n",
      ".20/20 - 0s - loss: 0.6052 - AUC: 0.7863 - binary_crossentropy: 0.5967 - accuracy: 0.7670 - val_loss: 0.6625 - val_AUC: 0.6674 - val_binary_crossentropy: 0.6540 - val_accuracy: 0.6290\n",
      "Epoch 205/10000\n",
      ".20/20 - 0s - loss: 0.6036 - AUC: 0.7881 - binary_crossentropy: 0.5952 - accuracy: 0.7690 - val_loss: 0.6607 - val_AUC: 0.6648 - val_binary_crossentropy: 0.6522 - val_accuracy: 0.6250\n",
      "Epoch 206/10000\n",
      ".20/20 - 0s - loss: 0.6055 - AUC: 0.7869 - binary_crossentropy: 0.5970 - accuracy: 0.7654 - val_loss: 0.6595 - val_AUC: 0.6743 - val_binary_crossentropy: 0.6510 - val_accuracy: 0.6420\n",
      "Epoch 207/10000\n",
      ".20/20 - 0s - loss: 0.6057 - AUC: 0.7876 - binary_crossentropy: 0.5972 - accuracy: 0.7657 - val_loss: 0.6644 - val_AUC: 0.6662 - val_binary_crossentropy: 0.6559 - val_accuracy: 0.6230\n",
      "Epoch 208/10000\n",
      ".20/20 - 0s - loss: 0.6033 - AUC: 0.7874 - binary_crossentropy: 0.5948 - accuracy: 0.7717 - val_loss: 0.6640 - val_AUC: 0.6759 - val_binary_crossentropy: 0.6555 - val_accuracy: 0.6210\n",
      "Epoch 209/10000\n",
      ".20/20 - 0s - loss: 0.6035 - AUC: 0.7906 - binary_crossentropy: 0.5950 - accuracy: 0.7699 - val_loss: 0.6599 - val_AUC: 0.6769 - val_binary_crossentropy: 0.6514 - val_accuracy: 0.6380\n",
      "Epoch 210/10000\n",
      ".20/20 - 0s - loss: 0.6038 - AUC: 0.7896 - binary_crossentropy: 0.5954 - accuracy: 0.7708 - val_loss: 0.6674 - val_AUC: 0.6569 - val_binary_crossentropy: 0.6589 - val_accuracy: 0.6190\n",
      "Epoch 211/10000\n",
      ".20/20 - 0s - loss: 0.6084 - AUC: 0.7848 - binary_crossentropy: 0.5999 - accuracy: 0.7575 - val_loss: 0.6623 - val_AUC: 0.6759 - val_binary_crossentropy: 0.6538 - val_accuracy: 0.6380\n",
      "Epoch 212/10000\n",
      ".20/20 - 0s - loss: 0.6008 - AUC: 0.7933 - binary_crossentropy: 0.5923 - accuracy: 0.7755 - val_loss: 0.6644 - val_AUC: 0.6718 - val_binary_crossentropy: 0.6559 - val_accuracy: 0.6190\n",
      "Epoch 213/10000\n",
      ".20/20 - 0s - loss: 0.6006 - AUC: 0.7925 - binary_crossentropy: 0.5921 - accuracy: 0.7768 - val_loss: 0.6620 - val_AUC: 0.6667 - val_binary_crossentropy: 0.6535 - val_accuracy: 0.6290\n",
      "Epoch 214/10000\n",
      ".20/20 - 0s - loss: 0.5990 - AUC: 0.7927 - binary_crossentropy: 0.5905 - accuracy: 0.7811 - val_loss: 0.6631 - val_AUC: 0.6758 - val_binary_crossentropy: 0.6545 - val_accuracy: 0.6400\n",
      "Epoch 215/10000\n",
      ".20/20 - 0s - loss: 0.6016 - AUC: 0.7939 - binary_crossentropy: 0.5931 - accuracy: 0.7750 - val_loss: 0.6627 - val_AUC: 0.6762 - val_binary_crossentropy: 0.6542 - val_accuracy: 0.6500\n",
      "Epoch 216/10000\n",
      ".20/20 - 0s - loss: 0.6010 - AUC: 0.7948 - binary_crossentropy: 0.5924 - accuracy: 0.7757 - val_loss: 0.6643 - val_AUC: 0.6666 - val_binary_crossentropy: 0.6557 - val_accuracy: 0.6270\n",
      "Epoch 217/10000\n",
      ".20/20 - 0s - loss: 0.6031 - AUC: 0.7919 - binary_crossentropy: 0.5945 - accuracy: 0.7719 - val_loss: 0.6667 - val_AUC: 0.6440 - val_binary_crossentropy: 0.6582 - val_accuracy: 0.5970\n",
      "Epoch 218/10000\n",
      ".20/20 - 0s - loss: 0.6038 - AUC: 0.7909 - binary_crossentropy: 0.5952 - accuracy: 0.7701 - val_loss: 0.6682 - val_AUC: 0.6342 - val_binary_crossentropy: 0.6596 - val_accuracy: 0.5920\n",
      "Epoch 219/10000\n",
      ".20/20 - 0s - loss: 0.6054 - AUC: 0.7901 - binary_crossentropy: 0.5969 - accuracy: 0.7643 - val_loss: 0.6659 - val_AUC: 0.6438 - val_binary_crossentropy: 0.6574 - val_accuracy: 0.5990\n",
      "Epoch 220/10000\n",
      ".20/20 - 0s - loss: 0.6078 - AUC: 0.7878 - binary_crossentropy: 0.5992 - accuracy: 0.7584 - val_loss: 0.6591 - val_AUC: 0.6802 - val_binary_crossentropy: 0.6505 - val_accuracy: 0.6540\n",
      "Epoch 221/10000\n",
      ".20/20 - 0s - loss: 0.6169 - AUC: 0.7738 - binary_crossentropy: 0.6084 - accuracy: 0.7396 - val_loss: 0.6638 - val_AUC: 0.6685 - val_binary_crossentropy: 0.6553 - val_accuracy: 0.6360\n",
      "Epoch 222/10000\n",
      ".20/20 - 0s - loss: 0.6073 - AUC: 0.7867 - binary_crossentropy: 0.5987 - accuracy: 0.7592 - val_loss: 0.6637 - val_AUC: 0.6526 - val_binary_crossentropy: 0.6551 - val_accuracy: 0.6020\n",
      "Epoch 223/10000\n",
      ".20/20 - 0s - loss: 0.6018 - AUC: 0.7943 - binary_crossentropy: 0.5932 - accuracy: 0.7732 - val_loss: 0.6602 - val_AUC: 0.6698 - val_binary_crossentropy: 0.6516 - val_accuracy: 0.6340\n",
      "Epoch 224/10000\n",
      ".20/20 - 0s - loss: 0.5990 - AUC: 0.7981 - binary_crossentropy: 0.5904 - accuracy: 0.7806 - val_loss: 0.6617 - val_AUC: 0.6696 - val_binary_crossentropy: 0.6531 - val_accuracy: 0.6330\n",
      "Epoch 225/10000\n",
      ".20/20 - 0s - loss: 0.5991 - AUC: 0.7977 - binary_crossentropy: 0.5905 - accuracy: 0.7797 - val_loss: 0.6639 - val_AUC: 0.6730 - val_binary_crossentropy: 0.6553 - val_accuracy: 0.6500\n",
      "Epoch 226/10000\n",
      ".20/20 - 0s - loss: 0.6031 - AUC: 0.7921 - binary_crossentropy: 0.5945 - accuracy: 0.7706 - val_loss: 0.6620 - val_AUC: 0.6713 - val_binary_crossentropy: 0.6534 - val_accuracy: 0.6300\n",
      "Epoch 227/10000\n",
      ".20/20 - 0s - loss: 0.6039 - AUC: 0.7933 - binary_crossentropy: 0.5953 - accuracy: 0.7714 - val_loss: 0.6634 - val_AUC: 0.6551 - val_binary_crossentropy: 0.6548 - val_accuracy: 0.6200\n",
      "Epoch 228/10000\n",
      ".20/20 - 0s - loss: 0.6006 - AUC: 0.7975 - binary_crossentropy: 0.5920 - accuracy: 0.7768 - val_loss: 0.6624 - val_AUC: 0.6763 - val_binary_crossentropy: 0.6538 - val_accuracy: 0.6380\n",
      "Epoch 229/10000\n",
      ".20/20 - 0s - loss: 0.5989 - AUC: 0.7972 - binary_crossentropy: 0.5902 - accuracy: 0.7804 - val_loss: 0.6602 - val_AUC: 0.6860 - val_binary_crossentropy: 0.6515 - val_accuracy: 0.6510\n",
      "Epoch 230/10000\n",
      ".20/20 - 0s - loss: 0.5966 - AUC: 0.8011 - binary_crossentropy: 0.5880 - accuracy: 0.7871 - val_loss: 0.6608 - val_AUC: 0.6722 - val_binary_crossentropy: 0.6522 - val_accuracy: 0.6350\n",
      "Epoch 231/10000\n",
      ".20/20 - 0s - loss: 0.5996 - AUC: 0.7976 - binary_crossentropy: 0.5910 - accuracy: 0.7794 - val_loss: 0.6625 - val_AUC: 0.6604 - val_binary_crossentropy: 0.6539 - val_accuracy: 0.6230\n",
      "Epoch 232/10000\n",
      ".20/20 - 0s - loss: 0.6002 - AUC: 0.7992 - binary_crossentropy: 0.5915 - accuracy: 0.7766 - val_loss: 0.6619 - val_AUC: 0.6572 - val_binary_crossentropy: 0.6532 - val_accuracy: 0.6220\n",
      "Epoch 233/10000\n",
      ".20/20 - 0s - loss: 0.5983 - AUC: 0.8014 - binary_crossentropy: 0.5897 - accuracy: 0.7846 - val_loss: 0.6603 - val_AUC: 0.6761 - val_binary_crossentropy: 0.6517 - val_accuracy: 0.6380\n",
      "Epoch 234/10000\n",
      ".20/20 - 0s - loss: 0.5946 - AUC: 0.8042 - binary_crossentropy: 0.5860 - accuracy: 0.7895 - val_loss: 0.6626 - val_AUC: 0.6655 - val_binary_crossentropy: 0.6539 - val_accuracy: 0.6280\n",
      "Epoch 235/10000\n",
      ".20/20 - 0s - loss: 0.5939 - AUC: 0.8045 - binary_crossentropy: 0.5853 - accuracy: 0.7915 - val_loss: 0.6631 - val_AUC: 0.6577 - val_binary_crossentropy: 0.6544 - val_accuracy: 0.6260\n",
      "Epoch 236/10000\n",
      ".20/20 - 0s - loss: 0.5944 - AUC: 0.8065 - binary_crossentropy: 0.5857 - accuracy: 0.7908 - val_loss: 0.6608 - val_AUC: 0.6800 - val_binary_crossentropy: 0.6521 - val_accuracy: 0.6460\n",
      "Epoch 237/10000\n",
      ".20/20 - 0s - loss: 0.5971 - AUC: 0.8019 - binary_crossentropy: 0.5884 - accuracy: 0.7849 - val_loss: 0.6638 - val_AUC: 0.6691 - val_binary_crossentropy: 0.6551 - val_accuracy: 0.6400\n",
      "Epoch 238/10000\n",
      ".20/20 - 0s - loss: 0.6033 - AUC: 0.7961 - binary_crossentropy: 0.5946 - accuracy: 0.7709 - val_loss: 0.6676 - val_AUC: 0.6489 - val_binary_crossentropy: 0.6589 - val_accuracy: 0.6030\n",
      "Epoch 239/10000\n",
      ".20/20 - 0s - loss: 0.6016 - AUC: 0.7991 - binary_crossentropy: 0.5929 - accuracy: 0.7750 - val_loss: 0.6613 - val_AUC: 0.6607 - val_binary_crossentropy: 0.6526 - val_accuracy: 0.6210\n",
      "Epoch 240/10000\n",
      ".20/20 - 0s - loss: 0.5979 - AUC: 0.8025 - binary_crossentropy: 0.5892 - accuracy: 0.7817 - val_loss: 0.6658 - val_AUC: 0.6595 - val_binary_crossentropy: 0.6570 - val_accuracy: 0.6320\n",
      "Epoch 241/10000\n"
     ]
    },
    {
     "name": "stdout",
     "output_type": "stream",
     "text": [
      ".20/20 - 0s - loss: 0.5975 - AUC: 0.8040 - binary_crossentropy: 0.5887 - accuracy: 0.7831 - val_loss: 0.6608 - val_AUC: 0.6689 - val_binary_crossentropy: 0.6521 - val_accuracy: 0.6360\n",
      "Epoch 242/10000\n",
      ".20/20 - 0s - loss: 0.5952 - AUC: 0.8052 - binary_crossentropy: 0.5865 - accuracy: 0.7890 - val_loss: 0.6632 - val_AUC: 0.6637 - val_binary_crossentropy: 0.6545 - val_accuracy: 0.6250\n",
      "Epoch 243/10000\n",
      ".20/20 - 0s - loss: 0.5943 - AUC: 0.8058 - binary_crossentropy: 0.5855 - accuracy: 0.7911 - val_loss: 0.6648 - val_AUC: 0.6590 - val_binary_crossentropy: 0.6560 - val_accuracy: 0.6160\n",
      "Epoch 244/10000\n",
      ".20/20 - 0s - loss: 0.5928 - AUC: 0.8091 - binary_crossentropy: 0.5841 - accuracy: 0.7959 - val_loss: 0.6661 - val_AUC: 0.6594 - val_binary_crossentropy: 0.6573 - val_accuracy: 0.6210\n",
      "Epoch 245/10000\n",
      ".20/20 - 0s - loss: 0.5910 - AUC: 0.8099 - binary_crossentropy: 0.5822 - accuracy: 0.8000 - val_loss: 0.6641 - val_AUC: 0.6641 - val_binary_crossentropy: 0.6554 - val_accuracy: 0.6310\n",
      "Epoch 246/10000\n",
      ".20/20 - 0s - loss: 0.5899 - AUC: 0.8107 - binary_crossentropy: 0.5812 - accuracy: 0.8013 - val_loss: 0.6628 - val_AUC: 0.6494 - val_binary_crossentropy: 0.6540 - val_accuracy: 0.6190\n",
      "Epoch 247/10000\n",
      ".20/20 - 0s - loss: 0.5989 - AUC: 0.8021 - binary_crossentropy: 0.5901 - accuracy: 0.7814 - val_loss: 0.6641 - val_AUC: 0.6714 - val_binary_crossentropy: 0.6553 - val_accuracy: 0.6450\n",
      "Epoch 248/10000\n",
      ".20/20 - 0s - loss: 0.5981 - AUC: 0.8025 - binary_crossentropy: 0.5893 - accuracy: 0.7815 - val_loss: 0.6618 - val_AUC: 0.6659 - val_binary_crossentropy: 0.6530 - val_accuracy: 0.6320\n",
      "Epoch 249/10000\n",
      ".20/20 - 0s - loss: 0.5956 - AUC: 0.8060 - binary_crossentropy: 0.5868 - accuracy: 0.7889 - val_loss: 0.6638 - val_AUC: 0.6534 - val_binary_crossentropy: 0.6550 - val_accuracy: 0.6100\n",
      "Epoch 250/10000\n",
      ".20/20 - 0s - loss: 0.5977 - AUC: 0.8042 - binary_crossentropy: 0.5889 - accuracy: 0.7832 - val_loss: 0.6642 - val_AUC: 0.6553 - val_binary_crossentropy: 0.6555 - val_accuracy: 0.6090\n",
      "Epoch 251/10000\n",
      ".20/20 - 0s - loss: 0.5931 - AUC: 0.8084 - binary_crossentropy: 0.5843 - accuracy: 0.7936 - val_loss: 0.6641 - val_AUC: 0.6639 - val_binary_crossentropy: 0.6553 - val_accuracy: 0.6350\n",
      "Epoch 252/10000\n",
      ".20/20 - 0s - loss: 0.5939 - AUC: 0.8102 - binary_crossentropy: 0.5851 - accuracy: 0.7922 - val_loss: 0.6651 - val_AUC: 0.6519 - val_binary_crossentropy: 0.6563 - val_accuracy: 0.6200\n",
      "Epoch 253/10000\n",
      ".20/20 - 0s - loss: 0.5908 - AUC: 0.8111 - binary_crossentropy: 0.5820 - accuracy: 0.7994 - val_loss: 0.6652 - val_AUC: 0.6698 - val_binary_crossentropy: 0.6564 - val_accuracy: 0.6330\n",
      "Epoch 254/10000\n",
      ".20/20 - 0s - loss: 0.5899 - AUC: 0.8141 - binary_crossentropy: 0.5810 - accuracy: 0.8009 - val_loss: 0.6671 - val_AUC: 0.6563 - val_binary_crossentropy: 0.6583 - val_accuracy: 0.6240\n",
      "Epoch 255/10000\n",
      ".20/20 - 0s - loss: 0.5881 - AUC: 0.8136 - binary_crossentropy: 0.5792 - accuracy: 0.8058 - val_loss: 0.6647 - val_AUC: 0.6609 - val_binary_crossentropy: 0.6559 - val_accuracy: 0.6310\n",
      "Epoch 256/10000\n",
      ".20/20 - 0s - loss: 0.5873 - AUC: 0.8154 - binary_crossentropy: 0.5784 - accuracy: 0.8079 - val_loss: 0.6654 - val_AUC: 0.6691 - val_binary_crossentropy: 0.6565 - val_accuracy: 0.6360\n",
      "Epoch 257/10000\n",
      ".20/20 - 0s - loss: 0.5892 - AUC: 0.8132 - binary_crossentropy: 0.5803 - accuracy: 0.8035 - val_loss: 0.6655 - val_AUC: 0.6539 - val_binary_crossentropy: 0.6566 - val_accuracy: 0.6250\n",
      "Epoch 258/10000\n",
      ".20/20 - 0s - loss: 0.5912 - AUC: 0.8124 - binary_crossentropy: 0.5824 - accuracy: 0.7986 - val_loss: 0.6662 - val_AUC: 0.6626 - val_binary_crossentropy: 0.6573 - val_accuracy: 0.6190\n",
      "Epoch 259/10000\n",
      ".20/20 - 0s - loss: 0.5919 - AUC: 0.8134 - binary_crossentropy: 0.5830 - accuracy: 0.7979 - val_loss: 0.6656 - val_AUC: 0.6520 - val_binary_crossentropy: 0.6567 - val_accuracy: 0.6150\n",
      "Epoch 260/10000\n",
      ".20/20 - 0s - loss: 0.5928 - AUC: 0.8107 - binary_crossentropy: 0.5839 - accuracy: 0.7933 - val_loss: 0.6668 - val_AUC: 0.6705 - val_binary_crossentropy: 0.6579 - val_accuracy: 0.6370\n",
      "Epoch 261/10000\n",
      ".20/20 - 0s - loss: 0.5906 - AUC: 0.8129 - binary_crossentropy: 0.5818 - accuracy: 0.8001 - val_loss: 0.6632 - val_AUC: 0.6589 - val_binary_crossentropy: 0.6543 - val_accuracy: 0.6350\n",
      "Epoch 262/10000\n",
      ".20/20 - 0s - loss: 0.5859 - AUC: 0.8186 - binary_crossentropy: 0.5770 - accuracy: 0.8110 - val_loss: 0.6651 - val_AUC: 0.6635 - val_binary_crossentropy: 0.6563 - val_accuracy: 0.6350\n",
      "Epoch 263/10000\n",
      ".20/20 - 0s - loss: 0.5942 - AUC: 0.8110 - binary_crossentropy: 0.5853 - accuracy: 0.7907 - val_loss: 0.6691 - val_AUC: 0.6462 - val_binary_crossentropy: 0.6602 - val_accuracy: 0.6090\n",
      "Epoch 264/10000\n",
      ".20/20 - 0s - loss: 0.5950 - AUC: 0.8088 - binary_crossentropy: 0.5861 - accuracy: 0.7902 - val_loss: 0.6691 - val_AUC: 0.6535 - val_binary_crossentropy: 0.6602 - val_accuracy: 0.6110\n",
      "Epoch 265/10000\n",
      ".20/20 - 0s - loss: 0.5917 - AUC: 0.8138 - binary_crossentropy: 0.5828 - accuracy: 0.7969 - val_loss: 0.6702 - val_AUC: 0.6542 - val_binary_crossentropy: 0.6613 - val_accuracy: 0.6200\n",
      "Epoch 266/10000\n",
      ".20/20 - 0s - loss: 0.5912 - AUC: 0.8152 - binary_crossentropy: 0.5823 - accuracy: 0.7998 - val_loss: 0.6698 - val_AUC: 0.6576 - val_binary_crossentropy: 0.6609 - val_accuracy: 0.6190\n",
      "Epoch 267/10000\n",
      ".20/20 - 0s - loss: 0.5848 - AUC: 0.8199 - binary_crossentropy: 0.5759 - accuracy: 0.8125 - val_loss: 0.6668 - val_AUC: 0.6599 - val_binary_crossentropy: 0.6579 - val_accuracy: 0.6200\n",
      "Epoch 268/10000\n",
      ".20/20 - 0s - loss: 0.5874 - AUC: 0.8183 - binary_crossentropy: 0.5785 - accuracy: 0.8063 - val_loss: 0.6690 - val_AUC: 0.6516 - val_binary_crossentropy: 0.6600 - val_accuracy: 0.6190\n",
      "Epoch 269/10000\n",
      ".20/20 - 0s - loss: 0.5890 - AUC: 0.8153 - binary_crossentropy: 0.5801 - accuracy: 0.8054 - val_loss: 0.6688 - val_AUC: 0.6622 - val_binary_crossentropy: 0.6599 - val_accuracy: 0.6300\n",
      "Epoch 270/10000\n",
      ".20/20 - 0s - loss: 0.5841 - AUC: 0.8212 - binary_crossentropy: 0.5752 - accuracy: 0.8150 - val_loss: 0.6675 - val_AUC: 0.6580 - val_binary_crossentropy: 0.6586 - val_accuracy: 0.6280\n",
      "Epoch 271/10000\n",
      ".20/20 - 0s - loss: 0.5843 - AUC: 0.8215 - binary_crossentropy: 0.5753 - accuracy: 0.8148 - val_loss: 0.6712 - val_AUC: 0.6441 - val_binary_crossentropy: 0.6623 - val_accuracy: 0.6150\n",
      "Epoch 272/10000\n",
      ".20/20 - 0s - loss: 0.5848 - AUC: 0.8208 - binary_crossentropy: 0.5759 - accuracy: 0.8134 - val_loss: 0.6650 - val_AUC: 0.6589 - val_binary_crossentropy: 0.6560 - val_accuracy: 0.6240\n",
      "Epoch 273/10000\n",
      ".20/20 - 0s - loss: 0.5834 - AUC: 0.8235 - binary_crossentropy: 0.5744 - accuracy: 0.8164 - val_loss: 0.6698 - val_AUC: 0.6362 - val_binary_crossentropy: 0.6609 - val_accuracy: 0.5990\n",
      "Epoch 274/10000\n",
      ".20/20 - 0s - loss: 0.5843 - AUC: 0.8233 - binary_crossentropy: 0.5753 - accuracy: 0.8136 - val_loss: 0.6654 - val_AUC: 0.6603 - val_binary_crossentropy: 0.6565 - val_accuracy: 0.6360\n",
      "Epoch 275/10000\n",
      ".20/20 - 0s - loss: 0.5825 - AUC: 0.8239 - binary_crossentropy: 0.5735 - accuracy: 0.8192 - val_loss: 0.6670 - val_AUC: 0.6625 - val_binary_crossentropy: 0.6581 - val_accuracy: 0.6350\n",
      "Epoch 276/10000\n",
      ".20/20 - 0s - loss: 0.5844 - AUC: 0.8221 - binary_crossentropy: 0.5754 - accuracy: 0.8145 - val_loss: 0.6647 - val_AUC: 0.6632 - val_binary_crossentropy: 0.6557 - val_accuracy: 0.6310\n",
      "Epoch 277/10000\n",
      ".20/20 - 0s - loss: 0.5868 - AUC: 0.8212 - binary_crossentropy: 0.5778 - accuracy: 0.8076 - val_loss: 0.6674 - val_AUC: 0.6574 - val_binary_crossentropy: 0.6585 - val_accuracy: 0.6180\n",
      "Epoch 278/10000\n",
      ".20/20 - 0s - loss: 0.5943 - AUC: 0.8128 - binary_crossentropy: 0.5853 - accuracy: 0.7917 - val_loss: 0.6711 - val_AUC: 0.6432 - val_binary_crossentropy: 0.6621 - val_accuracy: 0.5990\n",
      "Epoch 279/10000\n",
      ".20/20 - 0s - loss: 0.5900 - AUC: 0.8167 - binary_crossentropy: 0.5810 - accuracy: 0.8004 - val_loss: 0.6660 - val_AUC: 0.6662 - val_binary_crossentropy: 0.6571 - val_accuracy: 0.6450\n",
      "Epoch 280/10000\n",
      ".20/20 - 0s - loss: 0.5901 - AUC: 0.8159 - binary_crossentropy: 0.5811 - accuracy: 0.8012 - val_loss: 0.6688 - val_AUC: 0.6431 - val_binary_crossentropy: 0.6598 - val_accuracy: 0.6210\n",
      "Epoch 281/10000\n",
      ".20/20 - 0s - loss: 0.5906 - AUC: 0.8176 - binary_crossentropy: 0.5816 - accuracy: 0.8011 - val_loss: 0.6682 - val_AUC: 0.6557 - val_binary_crossentropy: 0.6592 - val_accuracy: 0.6220\n",
      "Epoch 282/10000\n"
     ]
    },
    {
     "name": "stdout",
     "output_type": "stream",
     "text": [
      ".20/20 - 0s - loss: 0.5882 - AUC: 0.8204 - binary_crossentropy: 0.5792 - accuracy: 0.8052 - val_loss: 0.6695 - val_AUC: 0.6499 - val_binary_crossentropy: 0.6605 - val_accuracy: 0.6190\n",
      "Epoch 283/10000\n",
      ".20/20 - 0s - loss: 0.5859 - AUC: 0.8218 - binary_crossentropy: 0.5769 - accuracy: 0.8106 - val_loss: 0.6650 - val_AUC: 0.6577 - val_binary_crossentropy: 0.6560 - val_accuracy: 0.6330\n",
      "Epoch 284/10000\n",
      ".20/20 - 0s - loss: 0.5835 - AUC: 0.8250 - binary_crossentropy: 0.5744 - accuracy: 0.8165 - val_loss: 0.6697 - val_AUC: 0.6426 - val_binary_crossentropy: 0.6607 - val_accuracy: 0.6090\n",
      "Epoch 285/10000\n",
      ".20/20 - 0s - loss: 0.5903 - AUC: 0.8180 - binary_crossentropy: 0.5812 - accuracy: 0.8004 - val_loss: 0.6657 - val_AUC: 0.6571 - val_binary_crossentropy: 0.6566 - val_accuracy: 0.6170\n",
      "Epoch 286/10000\n",
      ".20/20 - 0s - loss: 0.5950 - AUC: 0.8133 - binary_crossentropy: 0.5859 - accuracy: 0.7883 - val_loss: 0.6583 - val_AUC: 0.6700 - val_binary_crossentropy: 0.6492 - val_accuracy: 0.6480\n",
      "Epoch 287/10000\n",
      ".20/20 - 0s - loss: 0.5879 - AUC: 0.8188 - binary_crossentropy: 0.5788 - accuracy: 0.8055 - val_loss: 0.6647 - val_AUC: 0.6605 - val_binary_crossentropy: 0.6557 - val_accuracy: 0.6350\n",
      "Epoch 288/10000\n",
      ".20/20 - 0s - loss: 0.5856 - AUC: 0.8241 - binary_crossentropy: 0.5765 - accuracy: 0.8117 - val_loss: 0.6668 - val_AUC: 0.6668 - val_binary_crossentropy: 0.6578 - val_accuracy: 0.6320\n",
      "Epoch 289/10000\n",
      ".20/20 - 0s - loss: 0.5835 - AUC: 0.8265 - binary_crossentropy: 0.5745 - accuracy: 0.8160 - val_loss: 0.6667 - val_AUC: 0.6645 - val_binary_crossentropy: 0.6576 - val_accuracy: 0.6370\n",
      "Epoch 290/10000\n",
      ".20/20 - 0s - loss: 0.5871 - AUC: 0.8220 - binary_crossentropy: 0.5780 - accuracy: 0.8107 - val_loss: 0.6667 - val_AUC: 0.6561 - val_binary_crossentropy: 0.6577 - val_accuracy: 0.6210\n",
      "Epoch 291/10000\n",
      ".20/20 - 0s - loss: 0.5885 - AUC: 0.8210 - binary_crossentropy: 0.5794 - accuracy: 0.8039 - val_loss: 0.6660 - val_AUC: 0.6613 - val_binary_crossentropy: 0.6569 - val_accuracy: 0.6390\n",
      "Epoch 292/10000\n",
      ".20/20 - 0s - loss: 0.5822 - AUC: 0.8270 - binary_crossentropy: 0.5732 - accuracy: 0.8193 - val_loss: 0.6685 - val_AUC: 0.6608 - val_binary_crossentropy: 0.6594 - val_accuracy: 0.6200\n",
      "Epoch 293/10000\n",
      ".20/20 - 0s - loss: 0.5805 - AUC: 0.8297 - binary_crossentropy: 0.5714 - accuracy: 0.8237 - val_loss: 0.6666 - val_AUC: 0.6618 - val_binary_crossentropy: 0.6575 - val_accuracy: 0.6260\n",
      "Epoch 294/10000\n",
      ".20/20 - 0s - loss: 0.5811 - AUC: 0.8295 - binary_crossentropy: 0.5720 - accuracy: 0.8223 - val_loss: 0.6648 - val_AUC: 0.6695 - val_binary_crossentropy: 0.6557 - val_accuracy: 0.6550\n",
      "Epoch 295/10000\n",
      ".20/20 - 0s - loss: 0.5812 - AUC: 0.8280 - binary_crossentropy: 0.5721 - accuracy: 0.8222 - val_loss: 0.6695 - val_AUC: 0.6526 - val_binary_crossentropy: 0.6604 - val_accuracy: 0.6180\n",
      "Epoch 296/10000\n",
      ".20/20 - 0s - loss: 0.5810 - AUC: 0.8302 - binary_crossentropy: 0.5718 - accuracy: 0.8216 - val_loss: 0.6686 - val_AUC: 0.6551 - val_binary_crossentropy: 0.6595 - val_accuracy: 0.6330\n",
      "Epoch 297/10000\n",
      ".20/20 - 0s - loss: 0.5812 - AUC: 0.8297 - binary_crossentropy: 0.5721 - accuracy: 0.8216 - val_loss: 0.6655 - val_AUC: 0.6671 - val_binary_crossentropy: 0.6564 - val_accuracy: 0.6340\n",
      "Epoch 298/10000\n",
      ".20/20 - 0s - loss: 0.5803 - AUC: 0.8302 - binary_crossentropy: 0.5712 - accuracy: 0.8233 - val_loss: 0.6653 - val_AUC: 0.6673 - val_binary_crossentropy: 0.6562 - val_accuracy: 0.6400\n",
      "Epoch 299/10000\n",
      ".20/20 - 0s - loss: 0.5824 - AUC: 0.8291 - binary_crossentropy: 0.5733 - accuracy: 0.8188 - val_loss: 0.6730 - val_AUC: 0.6436 - val_binary_crossentropy: 0.6639 - val_accuracy: 0.6060\n",
      "Epoch 300/10000\n",
      ".20/20 - 0s - loss: 0.5856 - AUC: 0.8252 - binary_crossentropy: 0.5764 - accuracy: 0.8125 - val_loss: 0.6658 - val_AUC: 0.6496 - val_binary_crossentropy: 0.6567 - val_accuracy: 0.6160\n",
      "Epoch 301/10000\n",
      "\n",
      "Epoch: 300, AUC:0.8269,  accuracy:0.8151,  binary_crossentropy:0.5753,  loss:0.5844,  val_AUC:0.6542,  val_accuracy:0.6230,  val_binary_crossentropy:0.6567,  val_loss:0.6658,  \n",
      ".20/20 - 0s - loss: 0.5844 - AUC: 0.8269 - binary_crossentropy: 0.5753 - accuracy: 0.8151 - val_loss: 0.6658 - val_AUC: 0.6542 - val_binary_crossentropy: 0.6567 - val_accuracy: 0.6230\n",
      "Epoch 302/10000\n",
      ".20/20 - 0s - loss: 0.5836 - AUC: 0.8277 - binary_crossentropy: 0.5744 - accuracy: 0.8168 - val_loss: 0.6653 - val_AUC: 0.6666 - val_binary_crossentropy: 0.6562 - val_accuracy: 0.6420\n",
      "Epoch 303/10000\n",
      ".20/20 - 0s - loss: 0.5795 - AUC: 0.8309 - binary_crossentropy: 0.5703 - accuracy: 0.8266 - val_loss: 0.6664 - val_AUC: 0.6568 - val_binary_crossentropy: 0.6572 - val_accuracy: 0.6280\n",
      "Epoch 304/10000\n",
      ".20/20 - 0s - loss: 0.5781 - AUC: 0.8329 - binary_crossentropy: 0.5689 - accuracy: 0.8295 - val_loss: 0.6668 - val_AUC: 0.6552 - val_binary_crossentropy: 0.6576 - val_accuracy: 0.6300\n"
     ]
    }
   ],
   "source": [
    "size_histories['paper'] = compile_and_fit(paper_model, 'sizes/paper')"
   ]
  },
  {
   "cell_type": "code",
   "execution_count": 31,
   "metadata": {},
   "outputs": [
    {
     "data": {
      "text/plain": [
       "[0.5019132494926453,\n",
       " 0.511874258518219,\n",
       " 0.5480530261993408,\n",
       " 0.5680968761444092,\n",
       " 0.5784492492675781,\n",
       " 0.5897914171218872,\n",
       " 0.6031762957572937,\n",
       " 0.6107280850410461,\n",
       " 0.6245710253715515,\n",
       " 0.6292386651039124]"
      ]
     },
     "execution_count": 31,
     "metadata": {},
     "output_type": "execute_result"
    }
   ],
   "source": [
    "size_histories['paper'].history['AUC'][0:10]"
   ]
  },
  {
   "cell_type": "code",
   "execution_count": 32,
   "metadata": {},
   "outputs": [
    {
     "data": {
      "image/png": "[encoded data removed]",
      "text/plain": [
       "<Figure size 432x288 with 1 Axes>"
      ]
     },
     "metadata": {
      "needs_background": "light"
     },
     "output_type": "display_data"
    }
   ],
   "source": [
    "plotter = tfdocs.plots.HistoryPlotter(metric = 'binary_crossentropy', smoothing_std=10)\n",
    "plotter.plot(size_histories)"
   ]
  },
  {
   "cell_type": "code",
   "execution_count": 33,
   "metadata": {},
   "outputs": [
    {
     "data": {
      "image/png": "[encoded data removed]",
      "text/plain": [
       "<Figure size 432x288 with 1 Axes>"
      ]
     },
     "metadata": {
      "needs_background": "light"
     },
     "output_type": "display_data"
    }
   ],
   "source": [
    "plotter = tfdocs.plots.HistoryPlotter(metric = 'AUC', smoothing_std=10)\n",
    "plotter.plot(size_histories)"
   ]
  },
  {
   "cell_type": "code",
   "execution_count": 34,
   "metadata": {},
   "outputs": [
    {
     "data": {
      "text/plain": [
       "Text(0.5, 0, 'Epochs [Log Scale]')"
      ]
     },
     "execution_count": 34,
     "metadata": {},
     "output_type": "execute_result"
    },
    {
     "data": {
      "image/png": "[encoded data removed]",
      "text/plain": [
       "<Figure size 432x288 with 1 Axes>"
      ]
     },
     "metadata": {
      "needs_background": "light"
     },
     "output_type": "display_data"
    }
   ],
   "source": [
    "plotter.plot(size_histories)\n",
    "a = plt.xscale('log')\n",
    "plt.xlim([5, max(plt.xlim())])\n",
    "plt.ylim([0.5, 0.7])\n",
    "plt.xlabel(\"Epochs [Log Scale]\")"
   ]
  },
  {
   "cell_type": "code",
   "execution_count": 35,
   "metadata": {},
   "outputs": [
    {
     "name": "stderr",
     "output_type": "stream",
     "text": [
      "UsageError: Line magic function `%tensorboard` not found.\n"
     ]
    }
   ],
   "source": [
    "%tensorboard --logdir {logdir}/sizes"
   ]
  },
  {
   "cell_type": "code",
   "execution_count": 36,
   "metadata": {},
   "outputs": [
    {
     "data": {
      "text/html": [
       "\n",
       "        <iframe\n",
       "            width=\"100%\"\n",
       "            height=\"800px\"\n",
       "            src=\"https://tensorboard.dev/experiment/vW7jmmF9TmKmy3rbheMQpw/#scalars&_smoothingWeight=0.97\"\n",
       "            frameborder=\"0\"\n",
       "            allowfullscreen\n",
       "        ></iframe>\n",
       "        "
      ],
      "text/plain": [
       "<IPython.lib.display.IFrame at 0x7f4c206e96a0>"
      ]
     },
     "execution_count": 36,
     "metadata": {},
     "output_type": "execute_result"
    }
   ],
   "source": [
    "display.IFrame(\n",
    "    src=\"https://tensorboard.dev/experiment/vW7jmmF9TmKmy3rbheMQpw/#scalars&_smoothingWeight=0.97\",\n",
    "    width=\"100%\", height=\"800px\")"
   ]
  },
  {
   "cell_type": "code",
   "execution_count": null,
   "metadata": {},
   "outputs": [],
   "source": []
  }
 ],
 "metadata": {
  "kernelspec": {
   "display_name": "Python 3",
   "language": "python",
   "name": "python3"
  },
  "language_info": {
   "codemirror_mode": {
    "name": "ipython",
    "version": 3
   },
   "file_extension": ".py",
   "mimetype": "text/x-python",
   "name": "python",
   "nbconvert_exporter": "python",
   "pygments_lexer": "ipython3",
   "version": "3.8.8"
  }
 },
 "nbformat": 4,
 "nbformat_minor": 5
}
