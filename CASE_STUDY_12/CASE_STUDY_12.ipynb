{
 "cells": [
  {
   "cell_type": "markdown",
   "metadata": {},
   "source": [
    "https://www.tensorflow.org/tutorials/keras/overfit_and_underfit"
   ]
  },
  {
   "cell_type": "markdown",
   "metadata": {},
   "source": [
    "### Setup your environment"
   ]
  },
  {
   "cell_type": "code",
   "execution_count": 1,
   "metadata": {},
   "outputs": [
    {
     "name": "stdout",
     "output_type": "stream",
     "text": [
      "2.2.0\n"
     ]
    }
   ],
   "source": [
    "from __future__ import absolute_import, division, print_function, unicode_literals\n",
    "\n",
    "try:\n",
    "  # %tensorflow_version only exists in Colab.\n",
    "  %tensorflow_version 2.x\n",
    "except Exception:\n",
    "  pass\n",
    "  \n",
    "import tensorflow as tf\n",
    "\n",
    "from tensorflow.keras import layers\n",
    "from tensorflow.keras.regularizers import l1, l2\n",
    "\n",
    "print(tf.__version__)"
   ]
  },
  {
   "cell_type": "code",
   "execution_count": 2,
   "metadata": {},
   "outputs": [
    {
     "name": "stdout",
     "output_type": "stream",
     "text": [
      "Num GPUs Available:  1\n"
     ]
    }
   ],
   "source": [
    "print(\"Num GPUs Available: \", len(tf.config.list_physical_devices('GPU')))"
   ]
  },
  {
   "cell_type": "code",
   "execution_count": 3,
   "metadata": {},
   "outputs": [
    {
     "name": "stdout",
     "output_type": "stream",
     "text": [
      "Num CPUs Available:  1\n"
     ]
    }
   ],
   "source": [
    "print(\"Num CPUs Available: \", len(tf.config.list_physical_devices('CPU')))"
   ]
  },
  {
   "cell_type": "code",
   "execution_count": 4,
   "metadata": {},
   "outputs": [],
   "source": [
    "import tensorflow_docs as tfdocs\n",
    "import tensorflow_docs.modeling\n",
    "import tensorflow_docs.plots"
   ]
  },
  {
   "cell_type": "code",
   "execution_count": 5,
   "metadata": {},
   "outputs": [],
   "source": [
    "from  IPython import display\n",
    "from matplotlib import pyplot as plt\n",
    "\n",
    "import numpy as np\n",
    "import matplotlib.pyplot as plt\n",
    "\n",
    "import pathlib\n",
    "import shutil\n",
    "import tempfile"
   ]
  },
  {
   "cell_type": "code",
   "execution_count": 6,
   "metadata": {},
   "outputs": [],
   "source": [
    "logdir = pathlib.Path(tempfile.mkdtemp())/\"tensorboard_logs\"\n",
    "shutil.rmtree(logdir, ignore_errors=True)"
   ]
  },
  {
   "cell_type": "markdown",
   "metadata": {},
   "source": [
    "#### Helper Functions"
   ]
  },
  {
   "cell_type": "markdown",
   "metadata": {},
   "source": [
    "#### That csv reader class returns a list of scalars for each record. The following function repacks that list of scalars into a (feature_vector, label) pair."
   ]
  },
  {
   "cell_type": "code",
   "execution_count": 7,
   "metadata": {},
   "outputs": [],
   "source": [
    "def pack_row(*row):\n",
    "  label = row[0]\n",
    "  features = tf.stack(row[1:],1)\n",
    "  return features, label"
   ]
  },
  {
   "cell_type": "markdown",
   "metadata": {},
   "source": [
    "# https://www.tensorflow.org/tutorials/text/transformer\n",
    "### A transformer model handles variable-sized input using stacks of self-attention layers instead of RNNs or CNNs.\n",
    "\n",
    "### https://arxiv.org/abs/1706.03762\n",
    "\n",
    "### https://www.tensorflow.org/api_docs/python/tf/clip_by_value\n",
    "\n",
    "### we want to set our learning rates to these parameters based on the step"
   ]
  },
  {
   "cell_type": "markdown",
   "metadata": {},
   "source": [
    "<span style=\"color:red\">\n",
    "    \n",
    "# Note:\n",
    ">I got some errors around this function, saying it couldn't convert 0.05 and 1.000002 to type int64, so I enclosed them in int() to get it to run on GCP.  Gave me wonky results"
   ]
  },
  {
   "cell_type": "code",
   "execution_count": 8,
   "metadata": {},
   "outputs": [],
   "source": [
    "class CustomSchedule(tf.keras.optimizers.schedules.LearningRateSchedule):\n",
    "  def __init__(self):\n",
    "    super(CustomSchedule, self).__init__()\n",
    "    \n",
    "  def __call__(self, step):\n",
    "    lr = tf.clip_by_value(0.05 / 1.0000002**step, clip_value_min=0.000001, clip_value_max=0.05)\n",
    "    return lr"
   ]
  },
  {
   "cell_type": "markdown",
   "metadata": {},
   "source": [
    "### Define the optimizer based on the learner schedule. \n",
    "### Paper uses SGD\n",
    "### https://github.com/uci-igb/higgs-susy/blob/master/higgs/layers4_width300_lr005_m200_wd000001_all.py\n",
    "### https://www.researchgate.net/publication/263704884_Searching_for_Exotic_Particles_in_High-Energy_Physics_with_Deep_Learning"
   ]
  },
  {
   "cell_type": "code",
   "execution_count": 9,
   "metadata": {},
   "outputs": [],
   "source": [
    "def get_optimizer():\n",
    "  lr_schedule = CustomSchedule()\n",
    "  return tf.keras.optimizers.SGD(lr_schedule, momentum=0.9)"
   ]
  },
  {
   "cell_type": "markdown",
   "metadata": {},
   "source": [
    "#### Next include callbacks.EarlyStopping to avoid long and unnecessary training times. Note that this callback is set to monitor the val_binary_crossentropy, not the val_loss. This difference will be important later.\n",
    "#### Use callbacks.TensorBoard to generate TensorBoard logs for the training."
   ]
  },
  {
   "cell_type": "code",
   "execution_count": 10,
   "metadata": {},
   "outputs": [],
   "source": [
    "def get_callbacks(name):\n",
    "  return [\n",
    "    tfdocs.modeling.EpochDots(),\n",
    "    tf.keras.callbacks.EarlyStopping(monitor='val_binary_crossentropy', min_delta=0.00001, patience=200),\n",
    "    tf.keras.callbacks.TensorBoard(logdir/name),\n",
    "  ]"
   ]
  },
  {
   "cell_type": "code",
   "execution_count": 11,
   "metadata": {},
   "outputs": [],
   "source": [
    "def compile_and_fit(model, name, optimizer=None, max_epochs=10000):\n",
    "  if optimizer is None:\n",
    "    optimizer = get_optimizer()\n",
    "  model.compile(optimizer=optimizer,\n",
    "                loss=tf.keras.losses.BinaryCrossentropy(from_logits=True),\n",
    "                metrics=[\n",
    "                  tf.keras.metrics.AUC(name='AUC'),\n",
    "                  tf.keras.losses.BinaryCrossentropy(from_logits=True, name='binary_crossentropy'),\n",
    "                  'accuracy'])\n",
    "\n",
    "  model.summary()\n",
    "\n",
    "  history = model.fit(\n",
    "    train_ds,\n",
    "    steps_per_epoch = STEPS_PER_EPOCH,\n",
    "    epochs=max_epochs,\n",
    "    validation_data=validate_ds,\n",
    "    callbacks=get_callbacks(name),\n",
    "    verbose=2)\n",
    "  return history"
   ]
  },
  {
   "cell_type": "markdown",
   "metadata": {},
   "source": [
    "## Dataset download, otherwise use local copy"
   ]
  },
  {
   "cell_type": "code",
   "execution_count": 12,
   "metadata": {},
   "outputs": [],
   "source": [
    "gz = tf.keras.utils.get_file('HIGGS.csv.gz', 'https://archive.ics.uci.edu/ml/machine-learning-databases/00280/HIGGS.csv.gz')"
   ]
  },
  {
   "cell_type": "markdown",
   "metadata": {},
   "source": [
    "### Each example has 28 features, there are 11000000 examples"
   ]
  },
  {
   "cell_type": "code",
   "execution_count": 13,
   "metadata": {},
   "outputs": [],
   "source": [
    "FEATURES = 28"
   ]
  },
  {
   "cell_type": "markdown",
   "metadata": {},
   "source": [
    "### This should be used to read the csv directly unpacking from the gzip file without unpacking"
   ]
  },
  {
   "cell_type": "code",
   "execution_count": 14,
   "metadata": {},
   "outputs": [],
   "source": [
    "ds = tf.data.experimental.CsvDataset( gz,[float(),]*(FEATURES+1), compression_type=\"GZIP\")"
   ]
  },
  {
   "cell_type": "markdown",
   "metadata": {},
   "source": [
    "### working in batches of 10000 use the map function to following function repacks that list of scalars into a (feature_vector, label) pair."
   ]
  },
  {
   "cell_type": "code",
   "execution_count": 15,
   "metadata": {},
   "outputs": [],
   "source": [
    "packed_ds = ds.batch(10000).map(pack_row).unbatch()"
   ]
  },
  {
   "cell_type": "markdown",
   "metadata": {},
   "source": [
    "### Have a look at some of the records from this new packed_ds. The features are not perfectly normalized, but this is sufficient for this tutorial."
   ]
  },
  {
   "cell_type": "code",
   "execution_count": 16,
   "metadata": {},
   "outputs": [
    {
     "name": "stdout",
     "output_type": "stream",
     "text": [
      "tf.Tensor(\n",
      "[ 0.8692932  -0.6350818   0.22569026  0.32747006 -0.6899932   0.75420225\n",
      " -0.24857314 -1.0920639   0.          1.3749921  -0.6536742   0.9303491\n",
      "  1.1074361   1.1389043  -1.5781983  -1.0469854   0.          0.65792954\n",
      " -0.01045457 -0.04576717  3.1019614   1.35376     0.9795631   0.97807616\n",
      "  0.92000484  0.72165745  0.98875093  0.87667835], shape=(28,), dtype=float32)\n"
     ]
    },
    {
     "data": {
      "image/png": "[encoded data removed]",
      "text/plain": [
       "<Figure size 432x288 with 1 Axes>"
      ]
     },
     "metadata": {
      "needs_background": "light"
     },
     "output_type": "display_data"
    }
   ],
   "source": [
    "for features,label in packed_ds.batch(1000).take(1):\n",
    "  print(features[0])\n",
    "  plt.hist(features.numpy().flatten(), bins = 101)"
   ]
  },
  {
   "cell_type": "markdown",
   "metadata": {},
   "source": [
    "#### This is what 1 observation looks like. "
   ]
  },
  {
   "cell_type": "code",
   "execution_count": 17,
   "metadata": {},
   "outputs": [
    {
     "name": "stdout",
     "output_type": "stream",
     "text": [
      "(1.0, 0.8692932, -0.6350818, 0.22569026, 0.32747006, -0.6899932, 0.75420225, -0.24857314, -1.0920639, 0.0, 1.3749921, -0.6536742, 0.9303491, 1.1074361, 1.1389043, -1.5781983, -1.0469854, 0.0, 0.65792954, -0.01045457, -0.04576717, 3.1019614, 1.35376, 0.9795631, 0.97807616, 0.92000484, 0.72165745, 0.98875093, 0.87667835)\n",
      "(1.0, 0.9075421, 0.32914728, 0.35941187, 1.4979699, -0.31300953, 1.0955306, -0.5575249, -1.5882298, 2.1730762, 0.8125812, -0.21364193, 1.2710146, 2.2148721, 0.49999395, -1.2614318, 0.73215616, 0.0, 0.3987009, -1.1389301, -0.0008191102, 0.0, 0.3022199, 0.83304816, 0.98569965, 0.9780984, 0.77973217, 0.99235576, 0.7983426)\n"
     ]
    }
   ],
   "source": [
    "print(list(ds.take(2).as_numpy_iterator())[0])\n",
    "print(list(ds.take(2).as_numpy_iterator())[1])"
   ]
  },
  {
   "cell_type": "code",
   "execution_count": 18,
   "metadata": {},
   "outputs": [],
   "source": [
    "featVals=[features.numpy()[0] for features,label in packed_ds.take(1000)]\n",
    "\n",
    "t=packed_ds.take(20000)"
   ]
  },
  {
   "cell_type": "code",
   "execution_count": 19,
   "metadata": {},
   "outputs": [
    {
     "name": "stdout",
     "output_type": "stream",
     "text": [
      "Values 1: 10457.0\n",
      "Values 0: 9543\n"
     ]
    }
   ],
   "source": [
    "t = [label.numpy() for features,label in packed_ds.take(20000)]\n",
    "print(\"Values 1:\",sum(t))\n",
    "print(\"Values 0:\",sum(np.equal(t,0)))"
   ]
  },
  {
   "cell_type": "code",
   "execution_count": 20,
   "metadata": {},
   "outputs": [
    {
     "name": "stdout",
     "output_type": "stream",
     "text": [
      "Min Value: -2.960813\n",
      "Max Value: 16.131908\n"
     ]
    }
   ],
   "source": [
    "t = np.array([features.numpy() for features,label in packed_ds.take(20000)])\n",
    "print(\"Min Value:\",min(t.flatten()))\n",
    "print(\"Max Value:\",max(t.flatten()))"
   ]
  },
  {
   "cell_type": "markdown",
   "metadata": {},
   "source": [
    "### TODO: Note that the paper used 100, we can increase this to reduce training time."
   ]
  },
  {
   "cell_type": "code",
   "execution_count": 21,
   "metadata": {},
   "outputs": [],
   "source": [
    "N_VALIDATION = int(1e3)\n",
    "N_TRAIN = int(1e4)\n",
    "BUFFER_SIZE = int(1e4)\n",
    "BATCH_SIZE = 500  \n",
    "STEPS_PER_EPOCH = N_TRAIN//BATCH_SIZE"
   ]
  },
  {
   "cell_type": "markdown",
   "metadata": {},
   "source": [
    "### At the same time, use the Dataset.cache method to ensure that the loader doesn't need to re-read the data from the file on each epoch:"
   ]
  },
  {
   "cell_type": "code",
   "execution_count": 22,
   "metadata": {},
   "outputs": [],
   "source": [
    "validate_ds = packed_ds.take(N_VALIDATION).cache()\n",
    "train_ds = packed_ds.skip(N_VALIDATION).take(N_TRAIN).cache()"
   ]
  },
  {
   "cell_type": "code",
   "execution_count": 23,
   "metadata": {},
   "outputs": [
    {
     "data": {
      "text/plain": [
       "<CacheDataset shapes: ((28,), ()), types: (tf.float32, tf.float32)>"
      ]
     },
     "execution_count": 23,
     "metadata": {},
     "output_type": "execute_result"
    }
   ],
   "source": [
    "train_ds"
   ]
  },
  {
   "cell_type": "code",
   "execution_count": 24,
   "metadata": {},
   "outputs": [],
   "source": [
    "validate_ds = validate_ds.batch(BATCH_SIZE)\n",
    "train_ds = train_ds.shuffle(BUFFER_SIZE).repeat().batch(BATCH_SIZE)"
   ]
  },
  {
   "cell_type": "code",
   "execution_count": 25,
   "metadata": {},
   "outputs": [
    {
     "data": {
      "text/plain": [
       "<tf.Tensor: shape=(25,), dtype=float32, numpy=\n",
       "array([ 0.,  1.,  2.,  3.,  4.,  5.,  6.,  7.,  8.,  9., 10., 11., 12.,\n",
       "       13., 14., 15., 16., 17., 18., 19., 20., 21., 22., 23., 24.],\n",
       "      dtype=float32)>"
      ]
     },
     "execution_count": 25,
     "metadata": {},
     "output_type": "execute_result"
    }
   ],
   "source": [
    "tf.range(25, dtype=tf.float32)"
   ]
  },
  {
   "cell_type": "code",
   "execution_count": 26,
   "metadata": {},
   "outputs": [
    {
     "data": {
      "text/plain": [
       "Text(0.5, 0, 'Train Step')"
      ]
     },
     "execution_count": 26,
     "metadata": {},
     "output_type": "execute_result"
    },
    {
     "data": {
      "image/png": "[encoded data removed]",
      "text/plain": [
       "<Figure size 576x432 with 1 Axes>"
      ]
     },
     "metadata": {
      "needs_background": "light"
     },
     "output_type": "display_data"
    }
   ],
   "source": [
    "temp_lr_schedule = CustomSchedule()\n",
    "plt.figure(figsize = (8,6))\n",
    "lrs = temp_lr_schedule(tf.range(40000000, dtype=tf.float32))\n",
    "plt.plot(lrs)\n",
    "plt.ylabel(\"Learning Rate\")\n",
    "plt.xlabel(\"Train Step\")"
   ]
  },
  {
   "cell_type": "code",
   "execution_count": 27,
   "metadata": {},
   "outputs": [
    {
     "data": {
      "text/plain": [
       "<tf.Tensor: shape=(40000000,), dtype=float32, numpy=\n",
       "array([0.05      , 0.04999999, 0.04999998, ..., 0.00091578, 0.00091578,\n",
       "       0.00091578], dtype=float32)>"
      ]
     },
     "execution_count": 27,
     "metadata": {},
     "output_type": "execute_result"
    }
   ],
   "source": [
    "lrs"
   ]
  },
  {
   "cell_type": "code",
   "execution_count": 28,
   "metadata": {},
   "outputs": [],
   "source": [
    "size_histories = {}"
   ]
  },
  {
   "cell_type": "markdown",
   "metadata": {},
   "source": [
    "##  Paper: https://archive.ics.uci.edu/ml/datasets/HIGGS\n",
    "### https://github.com/uci-igb/higgs-susy/blob/master/higgs/layers4_width300_lr005_m200_wd000001_all.py\n",
    "### https://www.tensorflow.org/api_docs/python/tf/keras/initializers/RandomNormal"
   ]
  },
  {
   "cell_type": "markdown",
   "metadata": {},
   "source": [
    "#### Basically this tells our models where to initialize for each layer in the deep learning model"
   ]
  },
  {
   "cell_type": "code",
   "execution_count": 29,
   "metadata": {},
   "outputs": [],
   "source": [
    "\n",
    "first_initializer = tf.keras.initializers.RandomNormal(mean=0., stddev=0.1, seed=42)\n",
    "outer_initializer = tf.keras.initializers.RandomNormal(mean=0., stddev=0.001, seed=42)\n",
    "other_initializers = tf.keras.initializers.RandomNormal(mean=0., stddev=0.05, seed=42)\n",
    "\n",
    "\n",
    "weight_decay=0.00001\n",
    "paper_model = tf.keras.Sequential([\n",
    "    layers.Dense(300, activation='tanh', input_shape=(FEATURES,), kernel_initializer=first_initializer, kernel_regularizer=l2(weight_decay)),\n",
    "    layers.Dense(300, activation='tanh', kernel_initializer=other_initializers, kernel_regularizer=l2(weight_decay)),\n",
    "    layers.Dense(300, activation='tanh', kernel_initializer=other_initializers, kernel_regularizer=l2(weight_decay)),\n",
    "    layers.Dense(300, activation='tanh', kernel_initializer=other_initializers, kernel_regularizer=l2(weight_decay)),\n",
    "    layers.Dropout(0.5), \n",
    "    layers.Dense(1, activation='sigmoid', kernel_initializer=outer_initializer, kernel_regularizer=l2(weight_decay))\n",
    "    \n",
    "])"
   ]
  },
  {
   "cell_type": "markdown",
   "metadata": {},
   "source": [
    "## Paper Model Architecture "
   ]
  },
  {
   "cell_type": "code",
   "execution_count": 30,
   "metadata": {},
   "outputs": [
    {
     "name": "stdout",
     "output_type": "stream",
     "text": [
      "Model: \"sequential\"\n",
      "_________________________________________________________________\n",
      "Layer (type)                 Output Shape              Param #   \n",
      "=================================================================\n",
      "dense (Dense)                (None, 300)               8700      \n",
      "_________________________________________________________________\n",
      "dense_1 (Dense)              (None, 300)               90300     \n",
      "_________________________________________________________________\n",
      "dense_2 (Dense)              (None, 300)               90300     \n",
      "_________________________________________________________________\n",
      "dense_3 (Dense)              (None, 300)               90300     \n",
      "_________________________________________________________________\n",
      "dropout (Dropout)            (None, 300)               0         \n",
      "_________________________________________________________________\n",
      "dense_4 (Dense)              (None, 1)                 301       \n",
      "=================================================================\n",
      "Total params: 279,901\n",
      "Trainable params: 279,901\n",
      "Non-trainable params: 0\n",
      "_________________________________________________________________\n",
      "Epoch 1/10000\n",
      "\n",
      "Epoch: 0, AUC:0.5029,  accuracy:0.4753,  binary_crossentropy:0.7024,  loss:0.7100,  val_AUC:0.5479,  val_accuracy:0.4600,  val_binary_crossentropy:0.6892,  val_loss:0.6968,  \n",
      ".20/20 - 1s - loss: 0.7100 - AUC: 0.5029 - binary_crossentropy: 0.7024 - accuracy: 0.4753 - val_loss: 0.6968 - val_AUC: 0.5479 - val_binary_crossentropy: 0.6892 - val_accuracy: 0.4600\n",
      "Epoch 2/10000\n",
      ".20/20 - 0s - loss: 0.6987 - AUC: 0.5285 - binary_crossentropy: 0.6911 - accuracy: 0.4738 - val_loss: 0.6963 - val_AUC: 0.5668 - val_binary_crossentropy: 0.6887 - val_accuracy: 0.4600\n",
      "Epoch 3/10000\n",
      ".20/20 - 0s - loss: 0.6980 - AUC: 0.5526 - binary_crossentropy: 0.6904 - accuracy: 0.4738 - val_loss: 0.6957 - val_AUC: 0.5775 - val_binary_crossentropy: 0.6882 - val_accuracy: 0.4600\n",
      "Epoch 4/10000\n",
      ".20/20 - 0s - loss: 0.6971 - AUC: 0.5618 - binary_crossentropy: 0.6896 - accuracy: 0.4738 - val_loss: 0.6943 - val_AUC: 0.5845 - val_binary_crossentropy: 0.6868 - val_accuracy: 0.4600\n",
      "Epoch 5/10000\n",
      ".20/20 - 0s - loss: 0.6956 - AUC: 0.5826 - binary_crossentropy: 0.6881 - accuracy: 0.4740 - val_loss: 0.6928 - val_AUC: 0.5852 - val_binary_crossentropy: 0.6853 - val_accuracy: 0.4600\n",
      "Epoch 6/10000\n",
      ".20/20 - 0s - loss: 0.6939 - AUC: 0.5899 - binary_crossentropy: 0.6863 - accuracy: 0.4811 - val_loss: 0.6908 - val_AUC: 0.5901 - val_binary_crossentropy: 0.6833 - val_accuracy: 0.4650\n",
      "Epoch 7/10000\n",
      ".20/20 - 0s - loss: 0.6910 - AUC: 0.6022 - binary_crossentropy: 0.6834 - accuracy: 0.4918 - val_loss: 0.6886 - val_AUC: 0.5920 - val_binary_crossentropy: 0.6811 - val_accuracy: 0.4830\n",
      "Epoch 8/10000\n",
      ".20/20 - 0s - loss: 0.6879 - AUC: 0.6117 - binary_crossentropy: 0.6803 - accuracy: 0.5098 - val_loss: 0.6862 - val_AUC: 0.5982 - val_binary_crossentropy: 0.6787 - val_accuracy: 0.5070\n",
      "Epoch 9/10000\n",
      ".20/20 - 0s - loss: 0.6847 - AUC: 0.6258 - binary_crossentropy: 0.6772 - accuracy: 0.5326 - val_loss: 0.6841 - val_AUC: 0.6060 - val_binary_crossentropy: 0.6766 - val_accuracy: 0.5070\n",
      "Epoch 10/10000\n",
      ".20/20 - 0s - loss: 0.6820 - AUC: 0.6317 - binary_crossentropy: 0.6745 - accuracy: 0.5409 - val_loss: 0.6823 - val_AUC: 0.6131 - val_binary_crossentropy: 0.6747 - val_accuracy: 0.5160\n",
      "Epoch 11/10000\n",
      ".20/20 - 0s - loss: 0.6805 - AUC: 0.6361 - binary_crossentropy: 0.6730 - accuracy: 0.5455 - val_loss: 0.6810 - val_AUC: 0.6195 - val_binary_crossentropy: 0.6735 - val_accuracy: 0.5310\n",
      "Epoch 12/10000\n",
      ".20/20 - 0s - loss: 0.6787 - AUC: 0.6438 - binary_crossentropy: 0.6712 - accuracy: 0.5607 - val_loss: 0.6800 - val_AUC: 0.6294 - val_binary_crossentropy: 0.6724 - val_accuracy: 0.5170\n",
      "Epoch 13/10000\n",
      ".20/20 - 0s - loss: 0.6777 - AUC: 0.6475 - binary_crossentropy: 0.6701 - accuracy: 0.5584 - val_loss: 0.6780 - val_AUC: 0.6316 - val_binary_crossentropy: 0.6704 - val_accuracy: 0.5370\n",
      "Epoch 14/10000\n",
      ".20/20 - 0s - loss: 0.6764 - AUC: 0.6496 - binary_crossentropy: 0.6688 - accuracy: 0.5685 - val_loss: 0.6773 - val_AUC: 0.6340 - val_binary_crossentropy: 0.6697 - val_accuracy: 0.5570\n",
      "Epoch 15/10000\n",
      ".20/20 - 0s - loss: 0.6762 - AUC: 0.6514 - binary_crossentropy: 0.6686 - accuracy: 0.5700 - val_loss: 0.6759 - val_AUC: 0.6400 - val_binary_crossentropy: 0.6684 - val_accuracy: 0.5510\n",
      "Epoch 16/10000\n",
      ".20/20 - 0s - loss: 0.6756 - AUC: 0.6541 - binary_crossentropy: 0.6680 - accuracy: 0.5689 - val_loss: 0.6759 - val_AUC: 0.6407 - val_binary_crossentropy: 0.6683 - val_accuracy: 0.5570\n",
      "Epoch 17/10000\n",
      ".20/20 - 0s - loss: 0.6752 - AUC: 0.6518 - binary_crossentropy: 0.6676 - accuracy: 0.5818 - val_loss: 0.6756 - val_AUC: 0.6420 - val_binary_crossentropy: 0.6680 - val_accuracy: 0.5420\n",
      "Epoch 18/10000\n",
      ".20/20 - 0s - loss: 0.6750 - AUC: 0.6524 - binary_crossentropy: 0.6674 - accuracy: 0.5704 - val_loss: 0.6743 - val_AUC: 0.6438 - val_binary_crossentropy: 0.6667 - val_accuracy: 0.5650\n",
      "Epoch 19/10000\n",
      ".20/20 - 0s - loss: 0.6743 - AUC: 0.6553 - binary_crossentropy: 0.6667 - accuracy: 0.5776 - val_loss: 0.6743 - val_AUC: 0.6453 - val_binary_crossentropy: 0.6667 - val_accuracy: 0.5700\n",
      "Epoch 20/10000\n",
      ".20/20 - 0s - loss: 0.6733 - AUC: 0.6597 - binary_crossentropy: 0.6657 - accuracy: 0.5869 - val_loss: 0.6737 - val_AUC: 0.6479 - val_binary_crossentropy: 0.6662 - val_accuracy: 0.5560\n",
      "Epoch 21/10000\n",
      ".20/20 - 0s - loss: 0.6730 - AUC: 0.6601 - binary_crossentropy: 0.6654 - accuracy: 0.5794 - val_loss: 0.6736 - val_AUC: 0.6491 - val_binary_crossentropy: 0.6660 - val_accuracy: 0.5710\n",
      "Epoch 22/10000\n",
      ".20/20 - 0s - loss: 0.6734 - AUC: 0.6535 - binary_crossentropy: 0.6659 - accuracy: 0.5830 - val_loss: 0.6743 - val_AUC: 0.6424 - val_binary_crossentropy: 0.6667 - val_accuracy: 0.5530\n",
      "Epoch 23/10000\n",
      ".20/20 - 0s - loss: 0.6724 - AUC: 0.6585 - binary_crossentropy: 0.6648 - accuracy: 0.5864 - val_loss: 0.6734 - val_AUC: 0.6466 - val_binary_crossentropy: 0.6659 - val_accuracy: 0.5730\n",
      "Epoch 24/10000\n",
      ".20/20 - 0s - loss: 0.6722 - AUC: 0.6608 - binary_crossentropy: 0.6646 - accuracy: 0.5916 - val_loss: 0.6729 - val_AUC: 0.6475 - val_binary_crossentropy: 0.6653 - val_accuracy: 0.5510\n",
      "Epoch 25/10000\n",
      ".20/20 - 0s - loss: 0.6729 - AUC: 0.6581 - binary_crossentropy: 0.6654 - accuracy: 0.5753 - val_loss: 0.6733 - val_AUC: 0.6485 - val_binary_crossentropy: 0.6657 - val_accuracy: 0.5650\n",
      "Epoch 26/10000\n",
      ".20/20 - 0s - loss: 0.6710 - AUC: 0.6619 - binary_crossentropy: 0.6634 - accuracy: 0.5920 - val_loss: 0.6724 - val_AUC: 0.6519 - val_binary_crossentropy: 0.6649 - val_accuracy: 0.5730\n",
      "Epoch 27/10000\n",
      ".20/20 - 0s - loss: 0.6705 - AUC: 0.6638 - binary_crossentropy: 0.6630 - accuracy: 0.5958 - val_loss: 0.6724 - val_AUC: 0.6509 - val_binary_crossentropy: 0.6648 - val_accuracy: 0.5660\n",
      "Epoch 28/10000\n",
      ".20/20 - 0s - loss: 0.6703 - AUC: 0.6650 - binary_crossentropy: 0.6627 - accuracy: 0.5935 - val_loss: 0.6713 - val_AUC: 0.6592 - val_binary_crossentropy: 0.6637 - val_accuracy: 0.5670\n",
      "Epoch 29/10000\n",
      ".20/20 - 0s - loss: 0.6700 - AUC: 0.6653 - binary_crossentropy: 0.6624 - accuracy: 0.5924 - val_loss: 0.6701 - val_AUC: 0.6584 - val_binary_crossentropy: 0.6625 - val_accuracy: 0.5820\n",
      "Epoch 30/10000\n",
      ".20/20 - 0s - loss: 0.6699 - AUC: 0.6669 - binary_crossentropy: 0.6623 - accuracy: 0.6012 - val_loss: 0.6720 - val_AUC: 0.6562 - val_binary_crossentropy: 0.6644 - val_accuracy: 0.5720\n",
      "Epoch 31/10000\n",
      ".20/20 - 0s - loss: 0.6693 - AUC: 0.6688 - binary_crossentropy: 0.6618 - accuracy: 0.5959 - val_loss: 0.6697 - val_AUC: 0.6598 - val_binary_crossentropy: 0.6621 - val_accuracy: 0.5860\n",
      "Epoch 32/10000\n",
      ".20/20 - 0s - loss: 0.6687 - AUC: 0.6690 - binary_crossentropy: 0.6611 - accuracy: 0.5984 - val_loss: 0.6705 - val_AUC: 0.6620 - val_binary_crossentropy: 0.6629 - val_accuracy: 0.5760\n",
      "Epoch 33/10000\n",
      ".20/20 - 0s - loss: 0.6695 - AUC: 0.6661 - binary_crossentropy: 0.6619 - accuracy: 0.5965 - val_loss: 0.6724 - val_AUC: 0.6575 - val_binary_crossentropy: 0.6649 - val_accuracy: 0.5920\n",
      "Epoch 34/10000\n",
      ".20/20 - 0s - loss: 0.6686 - AUC: 0.6714 - binary_crossentropy: 0.6610 - accuracy: 0.6009 - val_loss: 0.6706 - val_AUC: 0.6581 - val_binary_crossentropy: 0.6630 - val_accuracy: 0.5720\n",
      "Epoch 35/10000\n",
      ".20/20 - 0s - loss: 0.6687 - AUC: 0.6742 - binary_crossentropy: 0.6611 - accuracy: 0.6034 - val_loss: 0.6734 - val_AUC: 0.6538 - val_binary_crossentropy: 0.6659 - val_accuracy: 0.5390\n"
     ]
    },
    {
     "name": "stdout",
     "output_type": "stream",
     "text": [
      "Epoch 36/10000\n",
      ".20/20 - 0s - loss: 0.6703 - AUC: 0.6679 - binary_crossentropy: 0.6628 - accuracy: 0.5925 - val_loss: 0.6708 - val_AUC: 0.6650 - val_binary_crossentropy: 0.6632 - val_accuracy: 0.5920\n",
      "Epoch 37/10000\n",
      ".20/20 - 0s - loss: 0.6718 - AUC: 0.6633 - binary_crossentropy: 0.6643 - accuracy: 0.5825 - val_loss: 0.6710 - val_AUC: 0.6643 - val_binary_crossentropy: 0.6634 - val_accuracy: 0.5920\n",
      "Epoch 38/10000\n",
      ".20/20 - 0s - loss: 0.6684 - AUC: 0.6732 - binary_crossentropy: 0.6608 - accuracy: 0.6061 - val_loss: 0.6699 - val_AUC: 0.6640 - val_binary_crossentropy: 0.6623 - val_accuracy: 0.5680\n",
      "Epoch 39/10000\n",
      ".20/20 - 0s - loss: 0.6670 - AUC: 0.6773 - binary_crossentropy: 0.6594 - accuracy: 0.6049 - val_loss: 0.6684 - val_AUC: 0.6725 - val_binary_crossentropy: 0.6608 - val_accuracy: 0.6150\n",
      "Epoch 40/10000\n",
      ".20/20 - 0s - loss: 0.6683 - AUC: 0.6738 - binary_crossentropy: 0.6607 - accuracy: 0.6040 - val_loss: 0.6692 - val_AUC: 0.6664 - val_binary_crossentropy: 0.6616 - val_accuracy: 0.5960\n",
      "Epoch 41/10000\n",
      ".20/20 - 0s - loss: 0.6660 - AUC: 0.6787 - binary_crossentropy: 0.6584 - accuracy: 0.6045 - val_loss: 0.6672 - val_AUC: 0.6708 - val_binary_crossentropy: 0.6596 - val_accuracy: 0.5850\n",
      "Epoch 42/10000\n",
      ".20/20 - 0s - loss: 0.6660 - AUC: 0.6780 - binary_crossentropy: 0.6584 - accuracy: 0.6100 - val_loss: 0.6744 - val_AUC: 0.6544 - val_binary_crossentropy: 0.6668 - val_accuracy: 0.5420\n",
      "Epoch 43/10000\n",
      ".20/20 - 0s - loss: 0.6662 - AUC: 0.6784 - binary_crossentropy: 0.6586 - accuracy: 0.6110 - val_loss: 0.6702 - val_AUC: 0.6727 - val_binary_crossentropy: 0.6626 - val_accuracy: 0.6090\n",
      "Epoch 44/10000\n",
      ".20/20 - 0s - loss: 0.6657 - AUC: 0.6813 - binary_crossentropy: 0.6581 - accuracy: 0.6076 - val_loss: 0.6681 - val_AUC: 0.6755 - val_binary_crossentropy: 0.6605 - val_accuracy: 0.5920\n",
      "Epoch 45/10000\n",
      ".20/20 - 0s - loss: 0.6662 - AUC: 0.6803 - binary_crossentropy: 0.6587 - accuracy: 0.6095 - val_loss: 0.6688 - val_AUC: 0.6723 - val_binary_crossentropy: 0.6613 - val_accuracy: 0.5600\n",
      "Epoch 46/10000\n",
      ".20/20 - 0s - loss: 0.6647 - AUC: 0.6838 - binary_crossentropy: 0.6571 - accuracy: 0.6132 - val_loss: 0.6709 - val_AUC: 0.6788 - val_binary_crossentropy: 0.6633 - val_accuracy: 0.6230\n",
      "Epoch 47/10000\n",
      ".20/20 - 0s - loss: 0.6652 - AUC: 0.6792 - binary_crossentropy: 0.6576 - accuracy: 0.6071 - val_loss: 0.6676 - val_AUC: 0.6827 - val_binary_crossentropy: 0.6600 - val_accuracy: 0.6190\n",
      "Epoch 48/10000\n",
      ".20/20 - 0s - loss: 0.6634 - AUC: 0.6874 - binary_crossentropy: 0.6558 - accuracy: 0.6207 - val_loss: 0.6672 - val_AUC: 0.6782 - val_binary_crossentropy: 0.6596 - val_accuracy: 0.5820\n",
      "Epoch 49/10000\n",
      ".20/20 - 0s - loss: 0.6643 - AUC: 0.6840 - binary_crossentropy: 0.6567 - accuracy: 0.6176 - val_loss: 0.6699 - val_AUC: 0.6674 - val_binary_crossentropy: 0.6623 - val_accuracy: 0.5720\n",
      "Epoch 50/10000\n",
      ".20/20 - 0s - loss: 0.6662 - AUC: 0.6838 - binary_crossentropy: 0.6586 - accuracy: 0.6090 - val_loss: 0.6663 - val_AUC: 0.6695 - val_binary_crossentropy: 0.6587 - val_accuracy: 0.5950\n",
      "Epoch 51/10000\n",
      ".20/20 - 0s - loss: 0.6639 - AUC: 0.6856 - binary_crossentropy: 0.6563 - accuracy: 0.6174 - val_loss: 0.6714 - val_AUC: 0.6789 - val_binary_crossentropy: 0.6638 - val_accuracy: 0.6250\n",
      "Epoch 52/10000\n",
      ".20/20 - 0s - loss: 0.6645 - AUC: 0.6892 - binary_crossentropy: 0.6569 - accuracy: 0.6202 - val_loss: 0.6623 - val_AUC: 0.6889 - val_binary_crossentropy: 0.6547 - val_accuracy: 0.5930\n",
      "Epoch 53/10000\n",
      ".20/20 - 0s - loss: 0.6657 - AUC: 0.6811 - binary_crossentropy: 0.6581 - accuracy: 0.6058 - val_loss: 0.6702 - val_AUC: 0.6622 - val_binary_crossentropy: 0.6626 - val_accuracy: 0.5610\n",
      "Epoch 54/10000\n",
      ".20/20 - 0s - loss: 0.6612 - AUC: 0.6937 - binary_crossentropy: 0.6536 - accuracy: 0.6224 - val_loss: 0.6682 - val_AUC: 0.6874 - val_binary_crossentropy: 0.6606 - val_accuracy: 0.6230\n",
      "Epoch 55/10000\n",
      ".20/20 - 0s - loss: 0.6609 - AUC: 0.6971 - binary_crossentropy: 0.6533 - accuracy: 0.6277 - val_loss: 0.6740 - val_AUC: 0.6577 - val_binary_crossentropy: 0.6664 - val_accuracy: 0.5360\n",
      "Epoch 56/10000\n",
      ".20/20 - 0s - loss: 0.6620 - AUC: 0.6885 - binary_crossentropy: 0.6544 - accuracy: 0.6196 - val_loss: 0.6619 - val_AUC: 0.6924 - val_binary_crossentropy: 0.6543 - val_accuracy: 0.6140\n",
      "Epoch 57/10000\n",
      ".20/20 - 0s - loss: 0.6593 - AUC: 0.7011 - binary_crossentropy: 0.6517 - accuracy: 0.6277 - val_loss: 0.6611 - val_AUC: 0.6868 - val_binary_crossentropy: 0.6534 - val_accuracy: 0.6050\n",
      "Epoch 58/10000\n",
      ".20/20 - 0s - loss: 0.6603 - AUC: 0.6935 - binary_crossentropy: 0.6527 - accuracy: 0.6243 - val_loss: 0.6629 - val_AUC: 0.6893 - val_binary_crossentropy: 0.6553 - val_accuracy: 0.6140\n",
      "Epoch 59/10000\n",
      ".20/20 - 0s - loss: 0.6622 - AUC: 0.6913 - binary_crossentropy: 0.6546 - accuracy: 0.6239 - val_loss: 0.6619 - val_AUC: 0.6835 - val_binary_crossentropy: 0.6543 - val_accuracy: 0.6030\n",
      "Epoch 60/10000\n",
      ".20/20 - 0s - loss: 0.6583 - AUC: 0.7000 - binary_crossentropy: 0.6507 - accuracy: 0.6315 - val_loss: 0.6628 - val_AUC: 0.6938 - val_binary_crossentropy: 0.6552 - val_accuracy: 0.6100\n",
      "Epoch 61/10000\n",
      ".20/20 - 0s - loss: 0.6578 - AUC: 0.7037 - binary_crossentropy: 0.6502 - accuracy: 0.6380 - val_loss: 0.6669 - val_AUC: 0.6813 - val_binary_crossentropy: 0.6592 - val_accuracy: 0.5920\n",
      "Epoch 62/10000\n",
      ".20/20 - 0s - loss: 0.6587 - AUC: 0.7037 - binary_crossentropy: 0.6510 - accuracy: 0.6305 - val_loss: 0.6624 - val_AUC: 0.6839 - val_binary_crossentropy: 0.6548 - val_accuracy: 0.5880\n",
      "Epoch 63/10000\n",
      ".20/20 - 0s - loss: 0.6584 - AUC: 0.6977 - binary_crossentropy: 0.6508 - accuracy: 0.6325 - val_loss: 0.6572 - val_AUC: 0.6988 - val_binary_crossentropy: 0.6496 - val_accuracy: 0.6440\n",
      "Epoch 64/10000\n",
      ".20/20 - 0s - loss: 0.6558 - AUC: 0.7095 - binary_crossentropy: 0.6482 - accuracy: 0.6433 - val_loss: 0.6622 - val_AUC: 0.6942 - val_binary_crossentropy: 0.6546 - val_accuracy: 0.6180\n",
      "Epoch 65/10000\n",
      ".20/20 - 1s - loss: 0.6573 - AUC: 0.7018 - binary_crossentropy: 0.6497 - accuracy: 0.6367 - val_loss: 0.6607 - val_AUC: 0.6967 - val_binary_crossentropy: 0.6531 - val_accuracy: 0.6210\n",
      "Epoch 66/10000\n",
      ".20/20 - 1s - loss: 0.6623 - AUC: 0.6867 - binary_crossentropy: 0.6547 - accuracy: 0.6227 - val_loss: 0.6611 - val_AUC: 0.6848 - val_binary_crossentropy: 0.6535 - val_accuracy: 0.6060\n",
      "Epoch 67/10000\n",
      ".20/20 - 1s - loss: 0.6544 - AUC: 0.7107 - binary_crossentropy: 0.6468 - accuracy: 0.6429 - val_loss: 0.6633 - val_AUC: 0.6853 - val_binary_crossentropy: 0.6557 - val_accuracy: 0.6070\n",
      "Epoch 68/10000\n",
      ".20/20 - 2s - loss: 0.6565 - AUC: 0.7055 - binary_crossentropy: 0.6488 - accuracy: 0.6419 - val_loss: 0.6602 - val_AUC: 0.7029 - val_binary_crossentropy: 0.6526 - val_accuracy: 0.6340\n",
      "Epoch 69/10000\n",
      ".20/20 - 2s - loss: 0.6564 - AUC: 0.7024 - binary_crossentropy: 0.6487 - accuracy: 0.6376 - val_loss: 0.6662 - val_AUC: 0.6788 - val_binary_crossentropy: 0.6585 - val_accuracy: 0.5680\n",
      "Epoch 70/10000\n",
      ".20/20 - 2s - loss: 0.6572 - AUC: 0.7018 - binary_crossentropy: 0.6495 - accuracy: 0.6388 - val_loss: 0.6623 - val_AUC: 0.6808 - val_binary_crossentropy: 0.6547 - val_accuracy: 0.5890\n",
      "Epoch 71/10000\n",
      ".20/20 - 1s - loss: 0.6568 - AUC: 0.7028 - binary_crossentropy: 0.6491 - accuracy: 0.6371 - val_loss: 0.6597 - val_AUC: 0.6941 - val_binary_crossentropy: 0.6520 - val_accuracy: 0.6150\n",
      "Epoch 72/10000\n",
      ".20/20 - 1s - loss: 0.6556 - AUC: 0.7058 - binary_crossentropy: 0.6480 - accuracy: 0.6422 - val_loss: 0.6616 - val_AUC: 0.6822 - val_binary_crossentropy: 0.6539 - val_accuracy: 0.6030\n",
      "Epoch 73/10000\n",
      ".20/20 - 2s - loss: 0.6536 - AUC: 0.7067 - binary_crossentropy: 0.6460 - accuracy: 0.6495 - val_loss: 0.6587 - val_AUC: 0.6911 - val_binary_crossentropy: 0.6511 - val_accuracy: 0.6180\n",
      "Epoch 74/10000\n",
      ".20/20 - 2s - loss: 0.6562 - AUC: 0.7011 - binary_crossentropy: 0.6485 - accuracy: 0.6387 - val_loss: 0.6651 - val_AUC: 0.6817 - val_binary_crossentropy: 0.6574 - val_accuracy: 0.6160\n",
      "Epoch 75/10000\n",
      ".20/20 - 2s - loss: 0.6537 - AUC: 0.7083 - binary_crossentropy: 0.6460 - accuracy: 0.6454 - val_loss: 0.6582 - val_AUC: 0.6857 - val_binary_crossentropy: 0.6505 - val_accuracy: 0.6220\n",
      "Epoch 76/10000\n",
      ".20/20 - 1s - loss: 0.6533 - AUC: 0.7093 - binary_crossentropy: 0.6456 - accuracy: 0.6510 - val_loss: 0.6595 - val_AUC: 0.6942 - val_binary_crossentropy: 0.6518 - val_accuracy: 0.6240\n",
      "Epoch 77/10000\n",
      ".20/20 - 1s - loss: 0.6556 - AUC: 0.7004 - binary_crossentropy: 0.6480 - accuracy: 0.6413 - val_loss: 0.6597 - val_AUC: 0.6793 - val_binary_crossentropy: 0.6521 - val_accuracy: 0.6010\n"
     ]
    },
    {
     "name": "stdout",
     "output_type": "stream",
     "text": [
      "Epoch 78/10000\n",
      ".20/20 - 1s - loss: 0.6585 - AUC: 0.6972 - binary_crossentropy: 0.6508 - accuracy: 0.6384 - val_loss: 0.6627 - val_AUC: 0.6825 - val_binary_crossentropy: 0.6550 - val_accuracy: 0.5850\n",
      "Epoch 79/10000\n",
      ".20/20 - 1s - loss: 0.6593 - AUC: 0.6937 - binary_crossentropy: 0.6516 - accuracy: 0.6296 - val_loss: 0.6701 - val_AUC: 0.6954 - val_binary_crossentropy: 0.6624 - val_accuracy: 0.6550\n",
      "Epoch 80/10000\n",
      ".20/20 - 1s - loss: 0.6574 - AUC: 0.6939 - binary_crossentropy: 0.6497 - accuracy: 0.6364 - val_loss: 0.6607 - val_AUC: 0.6782 - val_binary_crossentropy: 0.6530 - val_accuracy: 0.5980\n",
      "Epoch 81/10000\n",
      ".20/20 - 1s - loss: 0.6490 - AUC: 0.7164 - binary_crossentropy: 0.6413 - accuracy: 0.6623 - val_loss: 0.6590 - val_AUC: 0.6950 - val_binary_crossentropy: 0.6513 - val_accuracy: 0.6210\n",
      "Epoch 82/10000\n",
      ".20/20 - 1s - loss: 0.6475 - AUC: 0.7194 - binary_crossentropy: 0.6398 - accuracy: 0.6659 - val_loss: 0.6573 - val_AUC: 0.6969 - val_binary_crossentropy: 0.6496 - val_accuracy: 0.6330\n",
      "Epoch 83/10000\n",
      ".20/20 - 1s - loss: 0.6486 - AUC: 0.7186 - binary_crossentropy: 0.6409 - accuracy: 0.6608 - val_loss: 0.6576 - val_AUC: 0.6992 - val_binary_crossentropy: 0.6499 - val_accuracy: 0.6370\n",
      "Epoch 84/10000\n",
      ".20/20 - 1s - loss: 0.6455 - AUC: 0.7247 - binary_crossentropy: 0.6378 - accuracy: 0.6708 - val_loss: 0.6557 - val_AUC: 0.7075 - val_binary_crossentropy: 0.6480 - val_accuracy: 0.6430\n",
      "Epoch 85/10000\n",
      ".20/20 - 1s - loss: 0.6490 - AUC: 0.7189 - binary_crossentropy: 0.6413 - accuracy: 0.6633 - val_loss: 0.6538 - val_AUC: 0.7064 - val_binary_crossentropy: 0.6461 - val_accuracy: 0.6540\n",
      "Epoch 86/10000\n",
      ".20/20 - 1s - loss: 0.6448 - AUC: 0.7266 - binary_crossentropy: 0.6371 - accuracy: 0.6718 - val_loss: 0.6546 - val_AUC: 0.7046 - val_binary_crossentropy: 0.6469 - val_accuracy: 0.6520\n",
      "Epoch 87/10000\n",
      ".20/20 - 1s - loss: 0.6497 - AUC: 0.7167 - binary_crossentropy: 0.6420 - accuracy: 0.6600 - val_loss: 0.6562 - val_AUC: 0.7062 - val_binary_crossentropy: 0.6484 - val_accuracy: 0.6260\n",
      "Epoch 88/10000\n",
      ".20/20 - 1s - loss: 0.6462 - AUC: 0.7234 - binary_crossentropy: 0.6385 - accuracy: 0.6687 - val_loss: 0.6577 - val_AUC: 0.7044 - val_binary_crossentropy: 0.6500 - val_accuracy: 0.6120\n",
      "Epoch 89/10000\n",
      ".20/20 - 2s - loss: 0.6566 - AUC: 0.6968 - binary_crossentropy: 0.6488 - accuracy: 0.6444 - val_loss: 0.6571 - val_AUC: 0.6855 - val_binary_crossentropy: 0.6494 - val_accuracy: 0.6340\n",
      "Epoch 90/10000\n",
      ".20/20 - 1s - loss: 0.6453 - AUC: 0.7228 - binary_crossentropy: 0.6376 - accuracy: 0.6713 - val_loss: 0.6546 - val_AUC: 0.7016 - val_binary_crossentropy: 0.6468 - val_accuracy: 0.6370\n",
      "Epoch 91/10000\n",
      ".20/20 - 1s - loss: 0.6510 - AUC: 0.7088 - binary_crossentropy: 0.6432 - accuracy: 0.6526 - val_loss: 0.6627 - val_AUC: 0.6863 - val_binary_crossentropy: 0.6550 - val_accuracy: 0.6210\n",
      "Epoch 92/10000\n",
      ".20/20 - 1s - loss: 0.6494 - AUC: 0.7141 - binary_crossentropy: 0.6416 - accuracy: 0.6634 - val_loss: 0.6682 - val_AUC: 0.6626 - val_binary_crossentropy: 0.6604 - val_accuracy: 0.5690\n",
      "Epoch 93/10000\n",
      ".20/20 - 1s - loss: 0.6446 - AUC: 0.7216 - binary_crossentropy: 0.6368 - accuracy: 0.6704 - val_loss: 0.6569 - val_AUC: 0.7004 - val_binary_crossentropy: 0.6491 - val_accuracy: 0.6420\n",
      "Epoch 94/10000\n",
      ".20/20 - 1s - loss: 0.6472 - AUC: 0.7221 - binary_crossentropy: 0.6394 - accuracy: 0.6679 - val_loss: 0.6572 - val_AUC: 0.6900 - val_binary_crossentropy: 0.6494 - val_accuracy: 0.6210\n",
      "Epoch 95/10000\n",
      ".20/20 - 1s - loss: 0.6448 - AUC: 0.7205 - binary_crossentropy: 0.6370 - accuracy: 0.6706 - val_loss: 0.6610 - val_AUC: 0.6714 - val_binary_crossentropy: 0.6532 - val_accuracy: 0.5960\n",
      "Epoch 96/10000\n",
      ".20/20 - 1s - loss: 0.6425 - AUC: 0.7263 - binary_crossentropy: 0.6347 - accuracy: 0.6769 - val_loss: 0.6578 - val_AUC: 0.6921 - val_binary_crossentropy: 0.6500 - val_accuracy: 0.6130\n",
      "Epoch 97/10000\n",
      ".20/20 - 1s - loss: 0.6425 - AUC: 0.7265 - binary_crossentropy: 0.6347 - accuracy: 0.6771 - val_loss: 0.6593 - val_AUC: 0.6866 - val_binary_crossentropy: 0.6515 - val_accuracy: 0.6060\n",
      "Epoch 98/10000\n",
      ".20/20 - 1s - loss: 0.6455 - AUC: 0.7233 - binary_crossentropy: 0.6377 - accuracy: 0.6712 - val_loss: 0.6551 - val_AUC: 0.7004 - val_binary_crossentropy: 0.6473 - val_accuracy: 0.6520\n",
      "Epoch 99/10000\n",
      ".20/20 - 1s - loss: 0.6540 - AUC: 0.6994 - binary_crossentropy: 0.6463 - accuracy: 0.6460 - val_loss: 0.6620 - val_AUC: 0.6756 - val_binary_crossentropy: 0.6543 - val_accuracy: 0.6010\n",
      "Epoch 100/10000\n",
      ".20/20 - 1s - loss: 0.6471 - AUC: 0.7172 - binary_crossentropy: 0.6393 - accuracy: 0.6678 - val_loss: 0.6627 - val_AUC: 0.6775 - val_binary_crossentropy: 0.6549 - val_accuracy: 0.5930\n",
      "Epoch 101/10000\n",
      "\n",
      "Epoch: 100, AUC:0.7272,  accuracy:0.6788,  binary_crossentropy:0.6345,  loss:0.6423,  val_AUC:0.6964,  val_accuracy:0.6250,  val_binary_crossentropy:0.6501,  val_loss:0.6579,  \n",
      ".20/20 - 1s - loss: 0.6423 - AUC: 0.7272 - binary_crossentropy: 0.6345 - accuracy: 0.6788 - val_loss: 0.6579 - val_AUC: 0.6964 - val_binary_crossentropy: 0.6501 - val_accuracy: 0.6250\n",
      "Epoch 102/10000\n",
      ".20/20 - 1s - loss: 0.6424 - AUC: 0.7281 - binary_crossentropy: 0.6346 - accuracy: 0.6795 - val_loss: 0.6584 - val_AUC: 0.6956 - val_binary_crossentropy: 0.6506 - val_accuracy: 0.6470\n",
      "Epoch 103/10000\n",
      ".20/20 - 1s - loss: 0.6511 - AUC: 0.7086 - binary_crossentropy: 0.6433 - accuracy: 0.6564 - val_loss: 0.6572 - val_AUC: 0.6903 - val_binary_crossentropy: 0.6494 - val_accuracy: 0.6320\n",
      "Epoch 104/10000\n",
      ".20/20 - 1s - loss: 0.6504 - AUC: 0.7100 - binary_crossentropy: 0.6426 - accuracy: 0.6570 - val_loss: 0.6572 - val_AUC: 0.6809 - val_binary_crossentropy: 0.6493 - val_accuracy: 0.6110\n",
      "Epoch 105/10000\n",
      ".20/20 - 1s - loss: 0.6441 - AUC: 0.7224 - binary_crossentropy: 0.6363 - accuracy: 0.6714 - val_loss: 0.6573 - val_AUC: 0.6958 - val_binary_crossentropy: 0.6495 - val_accuracy: 0.6340\n",
      "Epoch 106/10000\n",
      ".20/20 - 1s - loss: 0.6428 - AUC: 0.7282 - binary_crossentropy: 0.6349 - accuracy: 0.6777 - val_loss: 0.6645 - val_AUC: 0.6751 - val_binary_crossentropy: 0.6567 - val_accuracy: 0.5990\n",
      "Epoch 107/10000\n",
      ".20/20 - 1s - loss: 0.6389 - AUC: 0.7335 - binary_crossentropy: 0.6311 - accuracy: 0.6891 - val_loss: 0.6576 - val_AUC: 0.6918 - val_binary_crossentropy: 0.6497 - val_accuracy: 0.6330\n",
      "Epoch 108/10000\n",
      ".20/20 - 1s - loss: 0.6436 - AUC: 0.7246 - binary_crossentropy: 0.6358 - accuracy: 0.6751 - val_loss: 0.6602 - val_AUC: 0.6826 - val_binary_crossentropy: 0.6524 - val_accuracy: 0.6080\n",
      "Epoch 109/10000\n",
      ".20/20 - 1s - loss: 0.6545 - AUC: 0.7004 - binary_crossentropy: 0.6467 - accuracy: 0.6460 - val_loss: 0.6667 - val_AUC: 0.6458 - val_binary_crossentropy: 0.6589 - val_accuracy: 0.5860\n",
      "Epoch 110/10000\n",
      ".20/20 - 2s - loss: 0.6470 - AUC: 0.7137 - binary_crossentropy: 0.6391 - accuracy: 0.6654 - val_loss: 0.6596 - val_AUC: 0.7085 - val_binary_crossentropy: 0.6517 - val_accuracy: 0.6640\n",
      "Epoch 111/10000\n",
      ".20/20 - 2s - loss: 0.6455 - AUC: 0.7221 - binary_crossentropy: 0.6377 - accuracy: 0.6702 - val_loss: 0.6598 - val_AUC: 0.6764 - val_binary_crossentropy: 0.6520 - val_accuracy: 0.6210\n",
      "Epoch 112/10000\n",
      ".20/20 - 1s - loss: 0.6368 - AUC: 0.7367 - binary_crossentropy: 0.6289 - accuracy: 0.6922 - val_loss: 0.6574 - val_AUC: 0.6863 - val_binary_crossentropy: 0.6495 - val_accuracy: 0.6300\n",
      "Epoch 113/10000\n",
      ".20/20 - 1s - loss: 0.6428 - AUC: 0.7270 - binary_crossentropy: 0.6349 - accuracy: 0.6756 - val_loss: 0.6551 - val_AUC: 0.7094 - val_binary_crossentropy: 0.6472 - val_accuracy: 0.6450\n",
      "Epoch 114/10000\n",
      ".20/20 - 2s - loss: 0.6484 - AUC: 0.7162 - binary_crossentropy: 0.6405 - accuracy: 0.6643 - val_loss: 0.6694 - val_AUC: 0.6503 - val_binary_crossentropy: 0.6615 - val_accuracy: 0.5580\n",
      "Epoch 115/10000\n",
      ".20/20 - 1s - loss: 0.6413 - AUC: 0.7260 - binary_crossentropy: 0.6334 - accuracy: 0.6812 - val_loss: 0.6537 - val_AUC: 0.6972 - val_binary_crossentropy: 0.6459 - val_accuracy: 0.6520\n",
      "Epoch 116/10000\n",
      ".20/20 - 1s - loss: 0.6363 - AUC: 0.7394 - binary_crossentropy: 0.6284 - accuracy: 0.6930 - val_loss: 0.6539 - val_AUC: 0.7030 - val_binary_crossentropy: 0.6460 - val_accuracy: 0.6430\n",
      "Epoch 117/10000\n",
      ".20/20 - 1s - loss: 0.6343 - AUC: 0.7406 - binary_crossentropy: 0.6264 - accuracy: 0.6986 - val_loss: 0.6571 - val_AUC: 0.6948 - val_binary_crossentropy: 0.6492 - val_accuracy: 0.6320\n",
      "Epoch 118/10000\n",
      ".20/20 - 1s - loss: 0.6364 - AUC: 0.7368 - binary_crossentropy: 0.6285 - accuracy: 0.6923 - val_loss: 0.6542 - val_AUC: 0.7002 - val_binary_crossentropy: 0.6463 - val_accuracy: 0.6390\n"
     ]
    },
    {
     "name": "stdout",
     "output_type": "stream",
     "text": [
      "Epoch 119/10000\n",
      ".20/20 - 1s - loss: 0.6370 - AUC: 0.7373 - binary_crossentropy: 0.6291 - accuracy: 0.6907 - val_loss: 0.6568 - val_AUC: 0.6947 - val_binary_crossentropy: 0.6489 - val_accuracy: 0.6500\n",
      "Epoch 120/10000\n",
      ".20/20 - 1s - loss: 0.6416 - AUC: 0.7269 - binary_crossentropy: 0.6337 - accuracy: 0.6797 - val_loss: 0.6563 - val_AUC: 0.7014 - val_binary_crossentropy: 0.6484 - val_accuracy: 0.6400\n",
      "Epoch 121/10000\n",
      ".20/20 - 1s - loss: 0.6352 - AUC: 0.7372 - binary_crossentropy: 0.6273 - accuracy: 0.6935 - val_loss: 0.6515 - val_AUC: 0.7102 - val_binary_crossentropy: 0.6435 - val_accuracy: 0.6580\n",
      "Epoch 122/10000\n",
      ".20/20 - 0s - loss: 0.6337 - AUC: 0.7429 - binary_crossentropy: 0.6258 - accuracy: 0.6984 - val_loss: 0.6589 - val_AUC: 0.6853 - val_binary_crossentropy: 0.6510 - val_accuracy: 0.6100\n",
      "Epoch 123/10000\n",
      ".20/20 - 0s - loss: 0.6372 - AUC: 0.7368 - binary_crossentropy: 0.6293 - accuracy: 0.6877 - val_loss: 0.6587 - val_AUC: 0.6948 - val_binary_crossentropy: 0.6508 - val_accuracy: 0.6270\n",
      "Epoch 124/10000\n",
      ".20/20 - 0s - loss: 0.6322 - AUC: 0.7420 - binary_crossentropy: 0.6243 - accuracy: 0.7028 - val_loss: 0.6575 - val_AUC: 0.7054 - val_binary_crossentropy: 0.6496 - val_accuracy: 0.6490\n",
      "Epoch 125/10000\n",
      ".20/20 - 0s - loss: 0.6370 - AUC: 0.7345 - binary_crossentropy: 0.6291 - accuracy: 0.6885 - val_loss: 0.6592 - val_AUC: 0.6844 - val_binary_crossentropy: 0.6513 - val_accuracy: 0.6140\n",
      "Epoch 126/10000\n",
      ".20/20 - 0s - loss: 0.6304 - AUC: 0.7447 - binary_crossentropy: 0.6225 - accuracy: 0.7074 - val_loss: 0.6610 - val_AUC: 0.6818 - val_binary_crossentropy: 0.6530 - val_accuracy: 0.6070\n",
      "Epoch 127/10000\n",
      ".20/20 - 0s - loss: 0.6372 - AUC: 0.7354 - binary_crossentropy: 0.6292 - accuracy: 0.6910 - val_loss: 0.6582 - val_AUC: 0.6862 - val_binary_crossentropy: 0.6503 - val_accuracy: 0.6270\n",
      "Epoch 128/10000\n",
      ".20/20 - 0s - loss: 0.6357 - AUC: 0.7319 - binary_crossentropy: 0.6278 - accuracy: 0.6907 - val_loss: 0.6625 - val_AUC: 0.6792 - val_binary_crossentropy: 0.6545 - val_accuracy: 0.6060\n",
      "Epoch 129/10000\n",
      ".20/20 - 0s - loss: 0.6342 - AUC: 0.7420 - binary_crossentropy: 0.6263 - accuracy: 0.7011 - val_loss: 0.6545 - val_AUC: 0.6957 - val_binary_crossentropy: 0.6466 - val_accuracy: 0.6590\n",
      "Epoch 130/10000\n",
      ".20/20 - 0s - loss: 0.6359 - AUC: 0.7354 - binary_crossentropy: 0.6279 - accuracy: 0.6963 - val_loss: 0.6583 - val_AUC: 0.6894 - val_binary_crossentropy: 0.6504 - val_accuracy: 0.6400\n",
      "Epoch 131/10000\n",
      ".20/20 - 0s - loss: 0.6316 - AUC: 0.7449 - binary_crossentropy: 0.6237 - accuracy: 0.7040 - val_loss: 0.6566 - val_AUC: 0.6890 - val_binary_crossentropy: 0.6487 - val_accuracy: 0.6320\n",
      "Epoch 132/10000\n",
      ".20/20 - 0s - loss: 0.6314 - AUC: 0.7452 - binary_crossentropy: 0.6234 - accuracy: 0.7045 - val_loss: 0.6591 - val_AUC: 0.6879 - val_binary_crossentropy: 0.6511 - val_accuracy: 0.6250\n",
      "Epoch 133/10000\n",
      ".20/20 - 0s - loss: 0.6302 - AUC: 0.7485 - binary_crossentropy: 0.6223 - accuracy: 0.7054 - val_loss: 0.6606 - val_AUC: 0.6834 - val_binary_crossentropy: 0.6527 - val_accuracy: 0.6210\n",
      "Epoch 134/10000\n",
      ".20/20 - 0s - loss: 0.6334 - AUC: 0.7403 - binary_crossentropy: 0.6254 - accuracy: 0.6982 - val_loss: 0.6612 - val_AUC: 0.6975 - val_binary_crossentropy: 0.6532 - val_accuracy: 0.6640\n",
      "Epoch 135/10000\n",
      ".20/20 - 0s - loss: 0.6362 - AUC: 0.7363 - binary_crossentropy: 0.6282 - accuracy: 0.6918 - val_loss: 0.6623 - val_AUC: 0.7071 - val_binary_crossentropy: 0.6543 - val_accuracy: 0.6500\n",
      "Epoch 136/10000\n",
      ".20/20 - 0s - loss: 0.6370 - AUC: 0.7355 - binary_crossentropy: 0.6291 - accuracy: 0.6906 - val_loss: 0.6639 - val_AUC: 0.6765 - val_binary_crossentropy: 0.6559 - val_accuracy: 0.6050\n",
      "Epoch 137/10000\n",
      ".20/20 - 0s - loss: 0.6299 - AUC: 0.7475 - binary_crossentropy: 0.6219 - accuracy: 0.7069 - val_loss: 0.6550 - val_AUC: 0.6977 - val_binary_crossentropy: 0.6470 - val_accuracy: 0.6470\n",
      "Epoch 138/10000\n",
      ".20/20 - 0s - loss: 0.6286 - AUC: 0.7479 - binary_crossentropy: 0.6206 - accuracy: 0.7096 - val_loss: 0.6572 - val_AUC: 0.6868 - val_binary_crossentropy: 0.6492 - val_accuracy: 0.6280\n",
      "Epoch 139/10000\n",
      ".20/20 - 0s - loss: 0.6273 - AUC: 0.7513 - binary_crossentropy: 0.6193 - accuracy: 0.7139 - val_loss: 0.6531 - val_AUC: 0.7009 - val_binary_crossentropy: 0.6451 - val_accuracy: 0.6540\n",
      "Epoch 140/10000\n",
      ".20/20 - 0s - loss: 0.6294 - AUC: 0.7473 - binary_crossentropy: 0.6214 - accuracy: 0.7103 - val_loss: 0.6565 - val_AUC: 0.6941 - val_binary_crossentropy: 0.6485 - val_accuracy: 0.6350\n",
      "Epoch 141/10000\n",
      ".20/20 - 0s - loss: 0.6311 - AUC: 0.7450 - binary_crossentropy: 0.6230 - accuracy: 0.7049 - val_loss: 0.6620 - val_AUC: 0.6715 - val_binary_crossentropy: 0.6540 - val_accuracy: 0.6010\n",
      "Epoch 142/10000\n",
      ".20/20 - 0s - loss: 0.6304 - AUC: 0.7472 - binary_crossentropy: 0.6224 - accuracy: 0.7054 - val_loss: 0.6555 - val_AUC: 0.6981 - val_binary_crossentropy: 0.6475 - val_accuracy: 0.6330\n",
      "Epoch 143/10000\n",
      ".20/20 - 0s - loss: 0.6285 - AUC: 0.7489 - binary_crossentropy: 0.6205 - accuracy: 0.7107 - val_loss: 0.6632 - val_AUC: 0.6688 - val_binary_crossentropy: 0.6552 - val_accuracy: 0.5950\n",
      "Epoch 144/10000\n",
      ".20/20 - 0s - loss: 0.6278 - AUC: 0.7502 - binary_crossentropy: 0.6197 - accuracy: 0.7123 - val_loss: 0.6540 - val_AUC: 0.7007 - val_binary_crossentropy: 0.6460 - val_accuracy: 0.6450\n",
      "Epoch 145/10000\n",
      ".20/20 - 0s - loss: 0.6259 - AUC: 0.7527 - binary_crossentropy: 0.6179 - accuracy: 0.7162 - val_loss: 0.6581 - val_AUC: 0.6931 - val_binary_crossentropy: 0.6500 - val_accuracy: 0.6340\n",
      "Epoch 146/10000\n",
      ".20/20 - 0s - loss: 0.6266 - AUC: 0.7534 - binary_crossentropy: 0.6185 - accuracy: 0.7133 - val_loss: 0.6573 - val_AUC: 0.7003 - val_binary_crossentropy: 0.6493 - val_accuracy: 0.6350\n",
      "Epoch 147/10000\n",
      ".20/20 - 0s - loss: 0.6240 - AUC: 0.7584 - binary_crossentropy: 0.6160 - accuracy: 0.7228 - val_loss: 0.6594 - val_AUC: 0.6801 - val_binary_crossentropy: 0.6513 - val_accuracy: 0.6090\n",
      "Epoch 148/10000\n",
      ".20/20 - 0s - loss: 0.6274 - AUC: 0.7511 - binary_crossentropy: 0.6194 - accuracy: 0.7110 - val_loss: 0.6518 - val_AUC: 0.6945 - val_binary_crossentropy: 0.6438 - val_accuracy: 0.6480\n",
      "Epoch 149/10000\n",
      ".20/20 - 0s - loss: 0.6226 - AUC: 0.7583 - binary_crossentropy: 0.6146 - accuracy: 0.7281 - val_loss: 0.6617 - val_AUC: 0.6643 - val_binary_crossentropy: 0.6536 - val_accuracy: 0.5980\n",
      "Epoch 150/10000\n",
      ".20/20 - 0s - loss: 0.6276 - AUC: 0.7495 - binary_crossentropy: 0.6195 - accuracy: 0.7107 - val_loss: 0.6547 - val_AUC: 0.6848 - val_binary_crossentropy: 0.6466 - val_accuracy: 0.6330\n",
      "Epoch 151/10000\n",
      ".20/20 - 0s - loss: 0.6237 - AUC: 0.7578 - binary_crossentropy: 0.6157 - accuracy: 0.7222 - val_loss: 0.6553 - val_AUC: 0.6896 - val_binary_crossentropy: 0.6472 - val_accuracy: 0.6480\n",
      "Epoch 152/10000\n",
      ".20/20 - 0s - loss: 0.6262 - AUC: 0.7556 - binary_crossentropy: 0.6182 - accuracy: 0.7177 - val_loss: 0.6578 - val_AUC: 0.6812 - val_binary_crossentropy: 0.6497 - val_accuracy: 0.6160\n",
      "Epoch 153/10000\n",
      ".20/20 - 0s - loss: 0.6240 - AUC: 0.7576 - binary_crossentropy: 0.6159 - accuracy: 0.7208 - val_loss: 0.6591 - val_AUC: 0.6922 - val_binary_crossentropy: 0.6510 - val_accuracy: 0.6540\n",
      "Epoch 154/10000\n",
      ".20/20 - 0s - loss: 0.6262 - AUC: 0.7564 - binary_crossentropy: 0.6181 - accuracy: 0.7142 - val_loss: 0.6521 - val_AUC: 0.7004 - val_binary_crossentropy: 0.6440 - val_accuracy: 0.6590\n",
      "Epoch 155/10000\n",
      ".20/20 - 0s - loss: 0.6245 - AUC: 0.7561 - binary_crossentropy: 0.6164 - accuracy: 0.7237 - val_loss: 0.6596 - val_AUC: 0.6729 - val_binary_crossentropy: 0.6515 - val_accuracy: 0.6070\n",
      "Epoch 156/10000\n",
      ".20/20 - 0s - loss: 0.6253 - AUC: 0.7559 - binary_crossentropy: 0.6172 - accuracy: 0.7170 - val_loss: 0.6615 - val_AUC: 0.6720 - val_binary_crossentropy: 0.6534 - val_accuracy: 0.6130\n",
      "Epoch 157/10000\n",
      ".20/20 - 0s - loss: 0.6247 - AUC: 0.7574 - binary_crossentropy: 0.6166 - accuracy: 0.7206 - val_loss: 0.6619 - val_AUC: 0.6769 - val_binary_crossentropy: 0.6538 - val_accuracy: 0.6130\n",
      "Epoch 158/10000\n",
      ".20/20 - 0s - loss: 0.6210 - AUC: 0.7612 - binary_crossentropy: 0.6129 - accuracy: 0.7299 - val_loss: 0.6490 - val_AUC: 0.7002 - val_binary_crossentropy: 0.6409 - val_accuracy: 0.6720\n",
      "Epoch 159/10000\n",
      ".20/20 - 0s - loss: 0.6235 - AUC: 0.7589 - binary_crossentropy: 0.6153 - accuracy: 0.7234 - val_loss: 0.6573 - val_AUC: 0.6699 - val_binary_crossentropy: 0.6492 - val_accuracy: 0.6150\n"
     ]
    },
    {
     "name": "stdout",
     "output_type": "stream",
     "text": [
      "Epoch 160/10000\n",
      ".20/20 - 0s - loss: 0.6260 - AUC: 0.7561 - binary_crossentropy: 0.6179 - accuracy: 0.7144 - val_loss: 0.6628 - val_AUC: 0.6811 - val_binary_crossentropy: 0.6546 - val_accuracy: 0.6090\n",
      "Epoch 161/10000\n",
      ".20/20 - 0s - loss: 0.6244 - AUC: 0.7564 - binary_crossentropy: 0.6162 - accuracy: 0.7218 - val_loss: 0.6598 - val_AUC: 0.6791 - val_binary_crossentropy: 0.6517 - val_accuracy: 0.6130\n",
      "Epoch 162/10000\n",
      ".20/20 - 0s - loss: 0.6242 - AUC: 0.7590 - binary_crossentropy: 0.6160 - accuracy: 0.7214 - val_loss: 0.6572 - val_AUC: 0.6893 - val_binary_crossentropy: 0.6490 - val_accuracy: 0.6370\n",
      "Epoch 163/10000\n",
      ".20/20 - 0s - loss: 0.6246 - AUC: 0.7576 - binary_crossentropy: 0.6165 - accuracy: 0.7236 - val_loss: 0.6509 - val_AUC: 0.7045 - val_binary_crossentropy: 0.6428 - val_accuracy: 0.6740\n",
      "Epoch 164/10000\n",
      ".20/20 - 0s - loss: 0.6217 - AUC: 0.7622 - binary_crossentropy: 0.6135 - accuracy: 0.7271 - val_loss: 0.6532 - val_AUC: 0.6900 - val_binary_crossentropy: 0.6451 - val_accuracy: 0.6430\n",
      "Epoch 165/10000\n",
      ".20/20 - 0s - loss: 0.6301 - AUC: 0.7452 - binary_crossentropy: 0.6219 - accuracy: 0.7079 - val_loss: 0.6567 - val_AUC: 0.6899 - val_binary_crossentropy: 0.6485 - val_accuracy: 0.6590\n",
      "Epoch 166/10000\n",
      ".20/20 - 0s - loss: 0.6279 - AUC: 0.7523 - binary_crossentropy: 0.6197 - accuracy: 0.7138 - val_loss: 0.6609 - val_AUC: 0.6677 - val_binary_crossentropy: 0.6528 - val_accuracy: 0.6210\n",
      "Epoch 167/10000\n",
      ".20/20 - 0s - loss: 0.6197 - AUC: 0.7649 - binary_crossentropy: 0.6115 - accuracy: 0.7301 - val_loss: 0.6617 - val_AUC: 0.6613 - val_binary_crossentropy: 0.6535 - val_accuracy: 0.6060\n",
      "Epoch 168/10000\n",
      ".20/20 - 0s - loss: 0.6203 - AUC: 0.7640 - binary_crossentropy: 0.6121 - accuracy: 0.7292 - val_loss: 0.6590 - val_AUC: 0.6663 - val_binary_crossentropy: 0.6508 - val_accuracy: 0.6180\n",
      "Epoch 169/10000\n",
      ".20/20 - 0s - loss: 0.6198 - AUC: 0.7669 - binary_crossentropy: 0.6116 - accuracy: 0.7308 - val_loss: 0.6541 - val_AUC: 0.6898 - val_binary_crossentropy: 0.6459 - val_accuracy: 0.6500\n",
      "Epoch 170/10000\n",
      ".20/20 - 0s - loss: 0.6171 - AUC: 0.7699 - binary_crossentropy: 0.6089 - accuracy: 0.7372 - val_loss: 0.6542 - val_AUC: 0.6984 - val_binary_crossentropy: 0.6460 - val_accuracy: 0.6520\n",
      "Epoch 171/10000\n",
      ".20/20 - 0s - loss: 0.6160 - AUC: 0.7707 - binary_crossentropy: 0.6078 - accuracy: 0.7409 - val_loss: 0.6586 - val_AUC: 0.6875 - val_binary_crossentropy: 0.6503 - val_accuracy: 0.6280\n",
      "Epoch 172/10000\n",
      ".20/20 - 0s - loss: 0.6207 - AUC: 0.7672 - binary_crossentropy: 0.6125 - accuracy: 0.7302 - val_loss: 0.6610 - val_AUC: 0.6774 - val_binary_crossentropy: 0.6528 - val_accuracy: 0.6370\n",
      "Epoch 173/10000\n",
      ".20/20 - 0s - loss: 0.6260 - AUC: 0.7574 - binary_crossentropy: 0.6178 - accuracy: 0.7142 - val_loss: 0.6597 - val_AUC: 0.6832 - val_binary_crossentropy: 0.6515 - val_accuracy: 0.6300\n",
      "Epoch 174/10000\n",
      ".20/20 - 0s - loss: 0.6191 - AUC: 0.7648 - binary_crossentropy: 0.6109 - accuracy: 0.7348 - val_loss: 0.6558 - val_AUC: 0.6902 - val_binary_crossentropy: 0.6476 - val_accuracy: 0.6500\n",
      "Epoch 175/10000\n",
      ".20/20 - 0s - loss: 0.6235 - AUC: 0.7595 - binary_crossentropy: 0.6153 - accuracy: 0.7231 - val_loss: 0.6622 - val_AUC: 0.6692 - val_binary_crossentropy: 0.6540 - val_accuracy: 0.6040\n",
      "Epoch 176/10000\n",
      ".20/20 - 0s - loss: 0.6180 - AUC: 0.7688 - binary_crossentropy: 0.6098 - accuracy: 0.7342 - val_loss: 0.6568 - val_AUC: 0.6884 - val_binary_crossentropy: 0.6486 - val_accuracy: 0.6430\n",
      "Epoch 177/10000\n",
      ".20/20 - 0s - loss: 0.6172 - AUC: 0.7686 - binary_crossentropy: 0.6089 - accuracy: 0.7350 - val_loss: 0.6587 - val_AUC: 0.6929 - val_binary_crossentropy: 0.6505 - val_accuracy: 0.6570\n",
      "Epoch 178/10000\n",
      ".20/20 - 0s - loss: 0.6346 - AUC: 0.7388 - binary_crossentropy: 0.6263 - accuracy: 0.6959 - val_loss: 0.6659 - val_AUC: 0.6827 - val_binary_crossentropy: 0.6576 - val_accuracy: 0.6580\n",
      "Epoch 179/10000\n",
      ".20/20 - 0s - loss: 0.6221 - AUC: 0.7639 - binary_crossentropy: 0.6138 - accuracy: 0.7283 - val_loss: 0.6566 - val_AUC: 0.6799 - val_binary_crossentropy: 0.6483 - val_accuracy: 0.6390\n",
      "Epoch 180/10000\n",
      ".20/20 - 0s - loss: 0.6141 - AUC: 0.7755 - binary_crossentropy: 0.6059 - accuracy: 0.7441 - val_loss: 0.6581 - val_AUC: 0.6874 - val_binary_crossentropy: 0.6499 - val_accuracy: 0.6430\n",
      "Epoch 181/10000\n",
      ".20/20 - 0s - loss: 0.6146 - AUC: 0.7755 - binary_crossentropy: 0.6063 - accuracy: 0.7434 - val_loss: 0.6582 - val_AUC: 0.6860 - val_binary_crossentropy: 0.6499 - val_accuracy: 0.6470\n",
      "Epoch 182/10000\n",
      ".20/20 - 0s - loss: 0.6117 - AUC: 0.7779 - binary_crossentropy: 0.6034 - accuracy: 0.7516 - val_loss: 0.6612 - val_AUC: 0.6639 - val_binary_crossentropy: 0.6529 - val_accuracy: 0.6130\n",
      "Epoch 183/10000\n",
      ".20/20 - 0s - loss: 0.6205 - AUC: 0.7679 - binary_crossentropy: 0.6122 - accuracy: 0.7285 - val_loss: 0.6546 - val_AUC: 0.6779 - val_binary_crossentropy: 0.6463 - val_accuracy: 0.6400\n",
      "Epoch 184/10000\n",
      ".20/20 - 0s - loss: 0.6217 - AUC: 0.7635 - binary_crossentropy: 0.6134 - accuracy: 0.7259 - val_loss: 0.6609 - val_AUC: 0.6731 - val_binary_crossentropy: 0.6526 - val_accuracy: 0.6210\n",
      "Epoch 185/10000\n",
      ".20/20 - 0s - loss: 0.6182 - AUC: 0.7696 - binary_crossentropy: 0.6099 - accuracy: 0.7345 - val_loss: 0.6599 - val_AUC: 0.6826 - val_binary_crossentropy: 0.6516 - val_accuracy: 0.6410\n",
      "Epoch 186/10000\n",
      ".20/20 - 0s - loss: 0.6227 - AUC: 0.7610 - binary_crossentropy: 0.6143 - accuracy: 0.7241 - val_loss: 0.6606 - val_AUC: 0.6635 - val_binary_crossentropy: 0.6523 - val_accuracy: 0.6270\n",
      "Epoch 187/10000\n",
      ".20/20 - 0s - loss: 0.6156 - AUC: 0.7726 - binary_crossentropy: 0.6073 - accuracy: 0.7381 - val_loss: 0.6622 - val_AUC: 0.6722 - val_binary_crossentropy: 0.6538 - val_accuracy: 0.6250\n",
      "Epoch 188/10000\n",
      ".20/20 - 0s - loss: 0.6152 - AUC: 0.7756 - binary_crossentropy: 0.6068 - accuracy: 0.7410 - val_loss: 0.6580 - val_AUC: 0.6907 - val_binary_crossentropy: 0.6496 - val_accuracy: 0.6550\n",
      "Epoch 189/10000\n",
      ".20/20 - 0s - loss: 0.6126 - AUC: 0.7777 - binary_crossentropy: 0.6042 - accuracy: 0.7519 - val_loss: 0.6592 - val_AUC: 0.6843 - val_binary_crossentropy: 0.6508 - val_accuracy: 0.6320\n",
      "Epoch 190/10000\n",
      ".20/20 - 0s - loss: 0.6102 - AUC: 0.7818 - binary_crossentropy: 0.6018 - accuracy: 0.7540 - val_loss: 0.6582 - val_AUC: 0.6813 - val_binary_crossentropy: 0.6499 - val_accuracy: 0.6380\n",
      "Epoch 191/10000\n",
      ".20/20 - 0s - loss: 0.6122 - AUC: 0.7799 - binary_crossentropy: 0.6038 - accuracy: 0.7494 - val_loss: 0.6613 - val_AUC: 0.6767 - val_binary_crossentropy: 0.6529 - val_accuracy: 0.6250\n",
      "Epoch 192/10000\n",
      ".20/20 - 0s - loss: 0.6097 - AUC: 0.7802 - binary_crossentropy: 0.6013 - accuracy: 0.7545 - val_loss: 0.6586 - val_AUC: 0.6906 - val_binary_crossentropy: 0.6502 - val_accuracy: 0.6530\n",
      "Epoch 193/10000\n",
      ".20/20 - 0s - loss: 0.6122 - AUC: 0.7779 - binary_crossentropy: 0.6038 - accuracy: 0.7514 - val_loss: 0.6613 - val_AUC: 0.6639 - val_binary_crossentropy: 0.6529 - val_accuracy: 0.6050\n",
      "Epoch 194/10000\n",
      ".20/20 - 0s - loss: 0.6145 - AUC: 0.7751 - binary_crossentropy: 0.6061 - accuracy: 0.7421 - val_loss: 0.6568 - val_AUC: 0.6841 - val_binary_crossentropy: 0.6484 - val_accuracy: 0.6370\n",
      "Epoch 195/10000\n",
      ".20/20 - 0s - loss: 0.6060 - AUC: 0.7874 - binary_crossentropy: 0.5976 - accuracy: 0.7667 - val_loss: 0.6576 - val_AUC: 0.6772 - val_binary_crossentropy: 0.6492 - val_accuracy: 0.6200\n",
      "Epoch 196/10000\n",
      ".20/20 - 0s - loss: 0.6089 - AUC: 0.7846 - binary_crossentropy: 0.6005 - accuracy: 0.7588 - val_loss: 0.6550 - val_AUC: 0.6868 - val_binary_crossentropy: 0.6466 - val_accuracy: 0.6480\n",
      "Epoch 197/10000\n",
      ".20/20 - 0s - loss: 0.6060 - AUC: 0.7855 - binary_crossentropy: 0.5976 - accuracy: 0.7644 - val_loss: 0.6535 - val_AUC: 0.6945 - val_binary_crossentropy: 0.6451 - val_accuracy: 0.6650\n",
      "Epoch 198/10000\n",
      ".20/20 - 0s - loss: 0.6086 - AUC: 0.7838 - binary_crossentropy: 0.6002 - accuracy: 0.7568 - val_loss: 0.6593 - val_AUC: 0.6876 - val_binary_crossentropy: 0.6509 - val_accuracy: 0.6490\n",
      "Epoch 199/10000\n",
      ".20/20 - 0s - loss: 0.6110 - AUC: 0.7811 - binary_crossentropy: 0.6026 - accuracy: 0.7530 - val_loss: 0.6594 - val_AUC: 0.6887 - val_binary_crossentropy: 0.6510 - val_accuracy: 0.6540\n",
      "Epoch 200/10000\n",
      ".20/20 - 0s - loss: 0.6098 - AUC: 0.7825 - binary_crossentropy: 0.6014 - accuracy: 0.7571 - val_loss: 0.6560 - val_AUC: 0.6738 - val_binary_crossentropy: 0.6476 - val_accuracy: 0.6260\n"
     ]
    },
    {
     "name": "stdout",
     "output_type": "stream",
     "text": [
      "Epoch 201/10000\n",
      "\n",
      "Epoch: 200, AUC:0.7869,  accuracy:0.7601,  binary_crossentropy:0.5995,  loss:0.6080,  val_AUC:0.6815,  val_accuracy:0.6340,  val_binary_crossentropy:0.6520,  val_loss:0.6605,  \n",
      ".20/20 - 0s - loss: 0.6080 - AUC: 0.7869 - binary_crossentropy: 0.5995 - accuracy: 0.7601 - val_loss: 0.6605 - val_AUC: 0.6815 - val_binary_crossentropy: 0.6520 - val_accuracy: 0.6340\n",
      "Epoch 202/10000\n",
      ".20/20 - 0s - loss: 0.6094 - AUC: 0.7869 - binary_crossentropy: 0.6010 - accuracy: 0.7558 - val_loss: 0.6580 - val_AUC: 0.6842 - val_binary_crossentropy: 0.6496 - val_accuracy: 0.6500\n",
      "Epoch 203/10000\n",
      ".20/20 - 0s - loss: 0.6093 - AUC: 0.7848 - binary_crossentropy: 0.6009 - accuracy: 0.7571 - val_loss: 0.6603 - val_AUC: 0.6887 - val_binary_crossentropy: 0.6518 - val_accuracy: 0.6450\n",
      "Epoch 204/10000\n",
      ".20/20 - 0s - loss: 0.6115 - AUC: 0.7811 - binary_crossentropy: 0.6030 - accuracy: 0.7487 - val_loss: 0.6578 - val_AUC: 0.6889 - val_binary_crossentropy: 0.6493 - val_accuracy: 0.6540\n",
      "Epoch 205/10000\n",
      ".20/20 - 0s - loss: 0.6180 - AUC: 0.7718 - binary_crossentropy: 0.6095 - accuracy: 0.7383 - val_loss: 0.6613 - val_AUC: 0.6826 - val_binary_crossentropy: 0.6528 - val_accuracy: 0.6450\n",
      "Epoch 206/10000\n",
      ".20/20 - 0s - loss: 0.6068 - AUC: 0.7882 - binary_crossentropy: 0.5983 - accuracy: 0.7614 - val_loss: 0.6607 - val_AUC: 0.6609 - val_binary_crossentropy: 0.6522 - val_accuracy: 0.6170\n",
      "Epoch 207/10000\n",
      ".20/20 - 0s - loss: 0.6085 - AUC: 0.7849 - binary_crossentropy: 0.6000 - accuracy: 0.7587 - val_loss: 0.6617 - val_AUC: 0.6799 - val_binary_crossentropy: 0.6532 - val_accuracy: 0.6310\n",
      "Epoch 208/10000\n",
      ".20/20 - 0s - loss: 0.6053 - AUC: 0.7880 - binary_crossentropy: 0.5968 - accuracy: 0.7650 - val_loss: 0.6627 - val_AUC: 0.6763 - val_binary_crossentropy: 0.6542 - val_accuracy: 0.6270\n",
      "Epoch 209/10000\n",
      ".20/20 - 0s - loss: 0.6080 - AUC: 0.7855 - binary_crossentropy: 0.5995 - accuracy: 0.7584 - val_loss: 0.6601 - val_AUC: 0.6569 - val_binary_crossentropy: 0.6516 - val_accuracy: 0.6230\n",
      "Epoch 210/10000\n",
      ".20/20 - 0s - loss: 0.6103 - AUC: 0.7859 - binary_crossentropy: 0.6018 - accuracy: 0.7533 - val_loss: 0.6579 - val_AUC: 0.6801 - val_binary_crossentropy: 0.6494 - val_accuracy: 0.6260\n",
      "Epoch 211/10000\n",
      ".20/20 - 0s - loss: 0.6038 - AUC: 0.7914 - binary_crossentropy: 0.5953 - accuracy: 0.7706 - val_loss: 0.6571 - val_AUC: 0.6844 - val_binary_crossentropy: 0.6486 - val_accuracy: 0.6540\n",
      "Epoch 212/10000\n",
      ".20/20 - 0s - loss: 0.6031 - AUC: 0.7918 - binary_crossentropy: 0.5946 - accuracy: 0.7729 - val_loss: 0.6590 - val_AUC: 0.6643 - val_binary_crossentropy: 0.6504 - val_accuracy: 0.6170\n",
      "Epoch 213/10000\n",
      ".20/20 - 0s - loss: 0.6046 - AUC: 0.7935 - binary_crossentropy: 0.5960 - accuracy: 0.7680 - val_loss: 0.6595 - val_AUC: 0.6817 - val_binary_crossentropy: 0.6509 - val_accuracy: 0.6430\n",
      "Epoch 214/10000\n",
      ".20/20 - 0s - loss: 0.5990 - AUC: 0.7970 - binary_crossentropy: 0.5905 - accuracy: 0.7816 - val_loss: 0.6595 - val_AUC: 0.6832 - val_binary_crossentropy: 0.6510 - val_accuracy: 0.6380\n",
      "Epoch 215/10000\n",
      ".20/20 - 0s - loss: 0.6002 - AUC: 0.7967 - binary_crossentropy: 0.5916 - accuracy: 0.7785 - val_loss: 0.6624 - val_AUC: 0.6737 - val_binary_crossentropy: 0.6538 - val_accuracy: 0.6260\n",
      "Epoch 216/10000\n",
      ".20/20 - 0s - loss: 0.6096 - AUC: 0.7858 - binary_crossentropy: 0.6010 - accuracy: 0.7564 - val_loss: 0.6589 - val_AUC: 0.6753 - val_binary_crossentropy: 0.6503 - val_accuracy: 0.6480\n",
      "Epoch 217/10000\n",
      ".20/20 - 0s - loss: 0.6017 - AUC: 0.7964 - binary_crossentropy: 0.5931 - accuracy: 0.7747 - val_loss: 0.6620 - val_AUC: 0.6769 - val_binary_crossentropy: 0.6534 - val_accuracy: 0.6430\n",
      "Epoch 218/10000\n",
      ".20/20 - 0s - loss: 0.6056 - AUC: 0.7919 - binary_crossentropy: 0.5970 - accuracy: 0.7653 - val_loss: 0.6632 - val_AUC: 0.6657 - val_binary_crossentropy: 0.6546 - val_accuracy: 0.6110\n",
      "Epoch 219/10000\n",
      ".20/20 - 0s - loss: 0.6024 - AUC: 0.7958 - binary_crossentropy: 0.5938 - accuracy: 0.7747 - val_loss: 0.6604 - val_AUC: 0.6746 - val_binary_crossentropy: 0.6518 - val_accuracy: 0.6340\n",
      "Epoch 220/10000\n",
      ".20/20 - 0s - loss: 0.6046 - AUC: 0.7926 - binary_crossentropy: 0.5960 - accuracy: 0.7677 - val_loss: 0.6568 - val_AUC: 0.6620 - val_binary_crossentropy: 0.6482 - val_accuracy: 0.6180\n",
      "Epoch 221/10000\n",
      ".20/20 - 0s - loss: 0.6097 - AUC: 0.7876 - binary_crossentropy: 0.6011 - accuracy: 0.7553 - val_loss: 0.6587 - val_AUC: 0.6796 - val_binary_crossentropy: 0.6501 - val_accuracy: 0.6600\n",
      "Epoch 222/10000\n",
      ".20/20 - 0s - loss: 0.5985 - AUC: 0.7991 - binary_crossentropy: 0.5899 - accuracy: 0.7833 - val_loss: 0.6631 - val_AUC: 0.6678 - val_binary_crossentropy: 0.6545 - val_accuracy: 0.6120\n",
      "Epoch 223/10000\n",
      ".20/20 - 0s - loss: 0.6012 - AUC: 0.7994 - binary_crossentropy: 0.5926 - accuracy: 0.7757 - val_loss: 0.6596 - val_AUC: 0.6773 - val_binary_crossentropy: 0.6510 - val_accuracy: 0.6490\n",
      "Epoch 224/10000\n",
      ".20/20 - 0s - loss: 0.6007 - AUC: 0.7991 - binary_crossentropy: 0.5921 - accuracy: 0.7762 - val_loss: 0.6596 - val_AUC: 0.6718 - val_binary_crossentropy: 0.6509 - val_accuracy: 0.6330\n",
      "Epoch 225/10000\n",
      ".20/20 - 0s - loss: 0.6012 - AUC: 0.7983 - binary_crossentropy: 0.5925 - accuracy: 0.7747 - val_loss: 0.6587 - val_AUC: 0.6763 - val_binary_crossentropy: 0.6500 - val_accuracy: 0.6390\n",
      "Epoch 226/10000\n",
      ".20/20 - 0s - loss: 0.5947 - AUC: 0.8043 - binary_crossentropy: 0.5861 - accuracy: 0.7913 - val_loss: 0.6581 - val_AUC: 0.6852 - val_binary_crossentropy: 0.6494 - val_accuracy: 0.6370\n",
      "Epoch 227/10000\n",
      ".20/20 - 0s - loss: 0.5956 - AUC: 0.8034 - binary_crossentropy: 0.5869 - accuracy: 0.7895 - val_loss: 0.6630 - val_AUC: 0.6780 - val_binary_crossentropy: 0.6543 - val_accuracy: 0.6310\n",
      "Epoch 228/10000\n",
      ".20/20 - 0s - loss: 0.5978 - AUC: 0.8031 - binary_crossentropy: 0.5891 - accuracy: 0.7836 - val_loss: 0.6592 - val_AUC: 0.6765 - val_binary_crossentropy: 0.6506 - val_accuracy: 0.6270\n",
      "Epoch 229/10000\n",
      ".20/20 - 0s - loss: 0.5945 - AUC: 0.8076 - binary_crossentropy: 0.5858 - accuracy: 0.7914 - val_loss: 0.6565 - val_AUC: 0.6740 - val_binary_crossentropy: 0.6478 - val_accuracy: 0.6490\n",
      "Epoch 230/10000\n",
      ".20/20 - 0s - loss: 0.5939 - AUC: 0.8070 - binary_crossentropy: 0.5853 - accuracy: 0.7937 - val_loss: 0.6604 - val_AUC: 0.6738 - val_binary_crossentropy: 0.6517 - val_accuracy: 0.6320\n",
      "Epoch 231/10000\n",
      ".20/20 - 0s - loss: 0.5923 - AUC: 0.8078 - binary_crossentropy: 0.5836 - accuracy: 0.7973 - val_loss: 0.6581 - val_AUC: 0.6736 - val_binary_crossentropy: 0.6494 - val_accuracy: 0.6340\n",
      "Epoch 232/10000\n",
      ".20/20 - 0s - loss: 0.5933 - AUC: 0.8079 - binary_crossentropy: 0.5846 - accuracy: 0.7947 - val_loss: 0.6558 - val_AUC: 0.6816 - val_binary_crossentropy: 0.6472 - val_accuracy: 0.6530\n",
      "Epoch 233/10000\n",
      ".20/20 - 0s - loss: 0.5918 - AUC: 0.8086 - binary_crossentropy: 0.5831 - accuracy: 0.7975 - val_loss: 0.6582 - val_AUC: 0.6733 - val_binary_crossentropy: 0.6495 - val_accuracy: 0.6440\n",
      "Epoch 234/10000\n",
      ".20/20 - 0s - loss: 0.5967 - AUC: 0.8053 - binary_crossentropy: 0.5880 - accuracy: 0.7870 - val_loss: 0.6581 - val_AUC: 0.6673 - val_binary_crossentropy: 0.6494 - val_accuracy: 0.6330\n",
      "Epoch 235/10000\n",
      ".20/20 - 0s - loss: 0.5974 - AUC: 0.8043 - binary_crossentropy: 0.5887 - accuracy: 0.7858 - val_loss: 0.6581 - val_AUC: 0.6647 - val_binary_crossentropy: 0.6494 - val_accuracy: 0.6310\n",
      "Epoch 236/10000\n",
      ".20/20 - 0s - loss: 0.5970 - AUC: 0.8049 - binary_crossentropy: 0.5883 - accuracy: 0.7870 - val_loss: 0.6611 - val_AUC: 0.6663 - val_binary_crossentropy: 0.6524 - val_accuracy: 0.6240\n",
      "Epoch 237/10000\n",
      ".20/20 - 0s - loss: 0.5917 - AUC: 0.8095 - binary_crossentropy: 0.5829 - accuracy: 0.7972 - val_loss: 0.6636 - val_AUC: 0.6644 - val_binary_crossentropy: 0.6548 - val_accuracy: 0.6220\n",
      "Epoch 238/10000\n",
      ".20/20 - 0s - loss: 0.5925 - AUC: 0.8111 - binary_crossentropy: 0.5838 - accuracy: 0.7956 - val_loss: 0.6584 - val_AUC: 0.6848 - val_binary_crossentropy: 0.6496 - val_accuracy: 0.6490\n",
      "Epoch 239/10000\n",
      ".20/20 - 0s - loss: 0.5941 - AUC: 0.8100 - binary_crossentropy: 0.5854 - accuracy: 0.7937 - val_loss: 0.6604 - val_AUC: 0.6752 - val_binary_crossentropy: 0.6516 - val_accuracy: 0.6480\n",
      "Epoch 240/10000\n",
      ".20/20 - 0s - loss: 0.5913 - AUC: 0.8104 - binary_crossentropy: 0.5826 - accuracy: 0.7986 - val_loss: 0.6614 - val_AUC: 0.6708 - val_binary_crossentropy: 0.6526 - val_accuracy: 0.6310\n",
      "Epoch 241/10000\n"
     ]
    },
    {
     "name": "stdout",
     "output_type": "stream",
     "text": [
      ".20/20 - 0s - loss: 0.5922 - AUC: 0.8115 - binary_crossentropy: 0.5834 - accuracy: 0.7996 - val_loss: 0.6590 - val_AUC: 0.6749 - val_binary_crossentropy: 0.6503 - val_accuracy: 0.6350\n",
      "Epoch 242/10000\n",
      ".20/20 - 0s - loss: 0.6120 - AUC: 0.7825 - binary_crossentropy: 0.6033 - accuracy: 0.7508 - val_loss: 0.6608 - val_AUC: 0.6654 - val_binary_crossentropy: 0.6520 - val_accuracy: 0.6270\n",
      "Epoch 243/10000\n",
      ".20/20 - 0s - loss: 0.5952 - AUC: 0.8068 - binary_crossentropy: 0.5864 - accuracy: 0.7894 - val_loss: 0.6625 - val_AUC: 0.6733 - val_binary_crossentropy: 0.6537 - val_accuracy: 0.6380\n",
      "Epoch 244/10000\n",
      ".20/20 - 0s - loss: 0.5905 - AUC: 0.8140 - binary_crossentropy: 0.5817 - accuracy: 0.8018 - val_loss: 0.6604 - val_AUC: 0.6789 - val_binary_crossentropy: 0.6517 - val_accuracy: 0.6460\n",
      "Epoch 245/10000\n",
      ".20/20 - 0s - loss: 0.5908 - AUC: 0.8130 - binary_crossentropy: 0.5820 - accuracy: 0.8007 - val_loss: 0.6586 - val_AUC: 0.6787 - val_binary_crossentropy: 0.6498 - val_accuracy: 0.6510\n",
      "Epoch 246/10000\n",
      ".20/20 - 0s - loss: 0.5881 - AUC: 0.8147 - binary_crossentropy: 0.5793 - accuracy: 0.8072 - val_loss: 0.6603 - val_AUC: 0.6696 - val_binary_crossentropy: 0.6515 - val_accuracy: 0.6420\n",
      "Epoch 247/10000\n",
      ".20/20 - 0s - loss: 0.5892 - AUC: 0.8143 - binary_crossentropy: 0.5804 - accuracy: 0.8037 - val_loss: 0.6603 - val_AUC: 0.6722 - val_binary_crossentropy: 0.6515 - val_accuracy: 0.6410\n",
      "Epoch 248/10000\n",
      ".20/20 - 0s - loss: 0.5885 - AUC: 0.8157 - binary_crossentropy: 0.5797 - accuracy: 0.8050 - val_loss: 0.6615 - val_AUC: 0.6707 - val_binary_crossentropy: 0.6527 - val_accuracy: 0.6380\n",
      "Epoch 249/10000\n",
      ".20/20 - 0s - loss: 0.5862 - AUC: 0.8178 - binary_crossentropy: 0.5774 - accuracy: 0.8113 - val_loss: 0.6595 - val_AUC: 0.6737 - val_binary_crossentropy: 0.6507 - val_accuracy: 0.6450\n",
      "Epoch 250/10000\n",
      ".20/20 - 0s - loss: 0.5863 - AUC: 0.8168 - binary_crossentropy: 0.5775 - accuracy: 0.8116 - val_loss: 0.6632 - val_AUC: 0.6591 - val_binary_crossentropy: 0.6544 - val_accuracy: 0.6210\n",
      "Epoch 251/10000\n",
      ".20/20 - 0s - loss: 0.5891 - AUC: 0.8154 - binary_crossentropy: 0.5803 - accuracy: 0.8035 - val_loss: 0.6599 - val_AUC: 0.6700 - val_binary_crossentropy: 0.6511 - val_accuracy: 0.6450\n",
      "Epoch 252/10000\n",
      ".20/20 - 0s - loss: 0.5903 - AUC: 0.8139 - binary_crossentropy: 0.5814 - accuracy: 0.8017 - val_loss: 0.6623 - val_AUC: 0.6599 - val_binary_crossentropy: 0.6535 - val_accuracy: 0.6320\n",
      "Epoch 253/10000\n",
      ".20/20 - 0s - loss: 0.5863 - AUC: 0.8184 - binary_crossentropy: 0.5775 - accuracy: 0.8107 - val_loss: 0.6663 - val_AUC: 0.6561 - val_binary_crossentropy: 0.6574 - val_accuracy: 0.6130\n",
      "Epoch 254/10000\n",
      ".20/20 - 0s - loss: 0.5883 - AUC: 0.8172 - binary_crossentropy: 0.5795 - accuracy: 0.8063 - val_loss: 0.6594 - val_AUC: 0.6733 - val_binary_crossentropy: 0.6506 - val_accuracy: 0.6500\n",
      "Epoch 255/10000\n",
      ".20/20 - 0s - loss: 0.5858 - AUC: 0.8182 - binary_crossentropy: 0.5769 - accuracy: 0.8128 - val_loss: 0.6622 - val_AUC: 0.6723 - val_binary_crossentropy: 0.6534 - val_accuracy: 0.6430\n",
      "Epoch 256/10000\n",
      ".20/20 - 0s - loss: 0.5897 - AUC: 0.8156 - binary_crossentropy: 0.5808 - accuracy: 0.8017 - val_loss: 0.6606 - val_AUC: 0.6730 - val_binary_crossentropy: 0.6518 - val_accuracy: 0.6480\n",
      "Epoch 257/10000\n",
      ".20/20 - 0s - loss: 0.5898 - AUC: 0.8162 - binary_crossentropy: 0.5810 - accuracy: 0.8028 - val_loss: 0.6629 - val_AUC: 0.6652 - val_binary_crossentropy: 0.6540 - val_accuracy: 0.6330\n",
      "Epoch 258/10000\n",
      ".20/20 - 0s - loss: 0.5906 - AUC: 0.8162 - binary_crossentropy: 0.5817 - accuracy: 0.7999 - val_loss: 0.6631 - val_AUC: 0.6575 - val_binary_crossentropy: 0.6542 - val_accuracy: 0.6210\n",
      "Epoch 259/10000\n",
      ".20/20 - 0s - loss: 0.5874 - AUC: 0.8184 - binary_crossentropy: 0.5785 - accuracy: 0.8086 - val_loss: 0.6634 - val_AUC: 0.6755 - val_binary_crossentropy: 0.6546 - val_accuracy: 0.6460\n",
      "Epoch 260/10000\n",
      ".20/20 - 0s - loss: 0.5889 - AUC: 0.8184 - binary_crossentropy: 0.5800 - accuracy: 0.8062 - val_loss: 0.6634 - val_AUC: 0.6619 - val_binary_crossentropy: 0.6545 - val_accuracy: 0.6200\n",
      "Epoch 261/10000\n",
      ".20/20 - 0s - loss: 0.5872 - AUC: 0.8194 - binary_crossentropy: 0.5783 - accuracy: 0.8090 - val_loss: 0.6642 - val_AUC: 0.6570 - val_binary_crossentropy: 0.6553 - val_accuracy: 0.6220\n",
      "Epoch 262/10000\n",
      ".20/20 - 0s - loss: 0.5858 - AUC: 0.8217 - binary_crossentropy: 0.5769 - accuracy: 0.8109 - val_loss: 0.6642 - val_AUC: 0.6590 - val_binary_crossentropy: 0.6553 - val_accuracy: 0.6150\n",
      "Epoch 263/10000\n",
      ".20/20 - 0s - loss: 0.6077 - AUC: 0.7885 - binary_crossentropy: 0.5988 - accuracy: 0.7630 - val_loss: 0.6672 - val_AUC: 0.6367 - val_binary_crossentropy: 0.6583 - val_accuracy: 0.5860\n",
      "Epoch 264/10000\n",
      ".20/20 - 0s - loss: 0.6015 - AUC: 0.8000 - binary_crossentropy: 0.5926 - accuracy: 0.7747 - val_loss: 0.6623 - val_AUC: 0.6632 - val_binary_crossentropy: 0.6533 - val_accuracy: 0.6260\n",
      "Epoch 265/10000\n",
      ".20/20 - 0s - loss: 0.5915 - AUC: 0.8158 - binary_crossentropy: 0.5826 - accuracy: 0.7984 - val_loss: 0.6591 - val_AUC: 0.6763 - val_binary_crossentropy: 0.6502 - val_accuracy: 0.6360\n",
      "Epoch 266/10000\n",
      ".20/20 - 0s - loss: 0.5904 - AUC: 0.8195 - binary_crossentropy: 0.5814 - accuracy: 0.8000 - val_loss: 0.6624 - val_AUC: 0.6661 - val_binary_crossentropy: 0.6535 - val_accuracy: 0.6350\n",
      "Epoch 267/10000\n",
      ".20/20 - 0s - loss: 0.5872 - AUC: 0.8220 - binary_crossentropy: 0.5782 - accuracy: 0.8092 - val_loss: 0.6652 - val_AUC: 0.6676 - val_binary_crossentropy: 0.6563 - val_accuracy: 0.6420\n",
      "Epoch 268/10000\n",
      ".20/20 - 0s - loss: 0.5859 - AUC: 0.8217 - binary_crossentropy: 0.5770 - accuracy: 0.8120 - val_loss: 0.6689 - val_AUC: 0.6610 - val_binary_crossentropy: 0.6599 - val_accuracy: 0.6270\n",
      "Epoch 269/10000\n",
      ".20/20 - 0s - loss: 0.5823 - AUC: 0.8268 - binary_crossentropy: 0.5733 - accuracy: 0.8197 - val_loss: 0.6648 - val_AUC: 0.6627 - val_binary_crossentropy: 0.6558 - val_accuracy: 0.6300\n",
      "Epoch 270/10000\n",
      ".20/20 - 0s - loss: 0.5818 - AUC: 0.8257 - binary_crossentropy: 0.5728 - accuracy: 0.8207 - val_loss: 0.6670 - val_AUC: 0.6625 - val_binary_crossentropy: 0.6581 - val_accuracy: 0.6220\n",
      "Epoch 271/10000\n",
      ".20/20 - 0s - loss: 0.5821 - AUC: 0.8265 - binary_crossentropy: 0.5731 - accuracy: 0.8201 - val_loss: 0.6629 - val_AUC: 0.6581 - val_binary_crossentropy: 0.6539 - val_accuracy: 0.6270\n",
      "Epoch 272/10000\n",
      ".20/20 - 0s - loss: 0.5831 - AUC: 0.8251 - binary_crossentropy: 0.5742 - accuracy: 0.8176 - val_loss: 0.6636 - val_AUC: 0.6676 - val_binary_crossentropy: 0.6547 - val_accuracy: 0.6230\n",
      "Epoch 273/10000\n",
      ".20/20 - 0s - loss: 0.5860 - AUC: 0.8230 - binary_crossentropy: 0.5770 - accuracy: 0.8109 - val_loss: 0.6585 - val_AUC: 0.6591 - val_binary_crossentropy: 0.6495 - val_accuracy: 0.6210\n",
      "Epoch 274/10000\n",
      ".20/20 - 0s - loss: 0.5941 - AUC: 0.8134 - binary_crossentropy: 0.5852 - accuracy: 0.7910 - val_loss: 0.6649 - val_AUC: 0.6661 - val_binary_crossentropy: 0.6559 - val_accuracy: 0.6380\n",
      "Epoch 275/10000\n",
      ".20/20 - 0s - loss: 0.5916 - AUC: 0.8154 - binary_crossentropy: 0.5826 - accuracy: 0.7983 - val_loss: 0.6654 - val_AUC: 0.6638 - val_binary_crossentropy: 0.6564 - val_accuracy: 0.6340\n",
      "Epoch 276/10000\n",
      ".20/20 - 0s - loss: 0.5897 - AUC: 0.8201 - binary_crossentropy: 0.5807 - accuracy: 0.8043 - val_loss: 0.6605 - val_AUC: 0.6537 - val_binary_crossentropy: 0.6515 - val_accuracy: 0.6190\n",
      "Epoch 277/10000\n",
      ".20/20 - 0s - loss: 0.5862 - AUC: 0.8235 - binary_crossentropy: 0.5772 - accuracy: 0.8115 - val_loss: 0.6648 - val_AUC: 0.6592 - val_binary_crossentropy: 0.6558 - val_accuracy: 0.6230\n",
      "Epoch 278/10000\n",
      ".20/20 - 0s - loss: 0.5833 - AUC: 0.8268 - binary_crossentropy: 0.5743 - accuracy: 0.8176 - val_loss: 0.6635 - val_AUC: 0.6579 - val_binary_crossentropy: 0.6545 - val_accuracy: 0.6310\n",
      "Epoch 279/10000\n",
      ".20/20 - 0s - loss: 0.5867 - AUC: 0.8229 - binary_crossentropy: 0.5777 - accuracy: 0.8092 - val_loss: 0.6658 - val_AUC: 0.6615 - val_binary_crossentropy: 0.6568 - val_accuracy: 0.6390\n",
      "Epoch 280/10000\n",
      ".20/20 - 0s - loss: 0.5863 - AUC: 0.8231 - binary_crossentropy: 0.5773 - accuracy: 0.8103 - val_loss: 0.6638 - val_AUC: 0.6652 - val_binary_crossentropy: 0.6548 - val_accuracy: 0.6390\n",
      "Epoch 281/10000\n",
      ".20/20 - 0s - loss: 0.5804 - AUC: 0.8298 - binary_crossentropy: 0.5714 - accuracy: 0.8242 - val_loss: 0.6659 - val_AUC: 0.6621 - val_binary_crossentropy: 0.6568 - val_accuracy: 0.6400\n",
      "Epoch 282/10000\n",
      ".20/20 - 0s - loss: 0.5820 - AUC: 0.8284 - binary_crossentropy: 0.5729 - accuracy: 0.8206 - val_loss: 0.6652 - val_AUC: 0.6648 - val_binary_crossentropy: 0.6562 - val_accuracy: 0.6450\n"
     ]
    },
    {
     "name": "stdout",
     "output_type": "stream",
     "text": [
      "Epoch 283/10000\n",
      ".20/20 - 0s - loss: 0.5823 - AUC: 0.8275 - binary_crossentropy: 0.5733 - accuracy: 0.8194 - val_loss: 0.6634 - val_AUC: 0.6525 - val_binary_crossentropy: 0.6544 - val_accuracy: 0.6280\n",
      "Epoch 284/10000\n",
      ".20/20 - 0s - loss: 0.5826 - AUC: 0.8283 - binary_crossentropy: 0.5736 - accuracy: 0.8193 - val_loss: 0.6670 - val_AUC: 0.6557 - val_binary_crossentropy: 0.6579 - val_accuracy: 0.6110\n",
      "Epoch 285/10000\n",
      ".20/20 - 0s - loss: 0.5838 - AUC: 0.8257 - binary_crossentropy: 0.5748 - accuracy: 0.8170 - val_loss: 0.6662 - val_AUC: 0.6640 - val_binary_crossentropy: 0.6571 - val_accuracy: 0.6320\n",
      "Epoch 286/10000\n",
      ".20/20 - 0s - loss: 0.5812 - AUC: 0.8301 - binary_crossentropy: 0.5721 - accuracy: 0.8217 - val_loss: 0.6638 - val_AUC: 0.6725 - val_binary_crossentropy: 0.6547 - val_accuracy: 0.6490\n",
      "Epoch 287/10000\n",
      ".20/20 - 0s - loss: 0.5805 - AUC: 0.8300 - binary_crossentropy: 0.5714 - accuracy: 0.8251 - val_loss: 0.6646 - val_AUC: 0.6599 - val_binary_crossentropy: 0.6556 - val_accuracy: 0.6280\n",
      "Epoch 288/10000\n",
      ".20/20 - 0s - loss: 0.5795 - AUC: 0.8313 - binary_crossentropy: 0.5704 - accuracy: 0.8256 - val_loss: 0.6673 - val_AUC: 0.6658 - val_binary_crossentropy: 0.6582 - val_accuracy: 0.6450\n",
      "Epoch 289/10000\n",
      ".20/20 - 0s - loss: 0.5844 - AUC: 0.8263 - binary_crossentropy: 0.5753 - accuracy: 0.8159 - val_loss: 0.6638 - val_AUC: 0.6661 - val_binary_crossentropy: 0.6547 - val_accuracy: 0.6470\n",
      "Epoch 290/10000\n",
      ".20/20 - 0s - loss: 0.5805 - AUC: 0.8304 - binary_crossentropy: 0.5714 - accuracy: 0.8249 - val_loss: 0.6625 - val_AUC: 0.6594 - val_binary_crossentropy: 0.6535 - val_accuracy: 0.6370\n",
      "Epoch 291/10000\n",
      ".20/20 - 0s - loss: 0.5791 - AUC: 0.8323 - binary_crossentropy: 0.5700 - accuracy: 0.8267 - val_loss: 0.6625 - val_AUC: 0.6594 - val_binary_crossentropy: 0.6534 - val_accuracy: 0.6300\n",
      "Epoch 292/10000\n",
      ".20/20 - 0s - loss: 0.5785 - AUC: 0.8324 - binary_crossentropy: 0.5694 - accuracy: 0.8295 - val_loss: 0.6624 - val_AUC: 0.6687 - val_binary_crossentropy: 0.6533 - val_accuracy: 0.6380\n",
      "Epoch 293/10000\n",
      ".20/20 - 0s - loss: 0.5793 - AUC: 0.8319 - binary_crossentropy: 0.5702 - accuracy: 0.8263 - val_loss: 0.6647 - val_AUC: 0.6709 - val_binary_crossentropy: 0.6556 - val_accuracy: 0.6500\n",
      "Epoch 294/10000\n",
      ".20/20 - 0s - loss: 0.5812 - AUC: 0.8309 - binary_crossentropy: 0.5722 - accuracy: 0.8226 - val_loss: 0.6650 - val_AUC: 0.6646 - val_binary_crossentropy: 0.6558 - val_accuracy: 0.6340\n",
      "Epoch 295/10000\n",
      ".20/20 - 0s - loss: 0.5805 - AUC: 0.8316 - binary_crossentropy: 0.5714 - accuracy: 0.8240 - val_loss: 0.6604 - val_AUC: 0.6742 - val_binary_crossentropy: 0.6513 - val_accuracy: 0.6430\n",
      "Epoch 296/10000\n",
      ".20/20 - 0s - loss: 0.5797 - AUC: 0.8321 - binary_crossentropy: 0.5706 - accuracy: 0.8259 - val_loss: 0.6635 - val_AUC: 0.6631 - val_binary_crossentropy: 0.6544 - val_accuracy: 0.6360\n",
      "Epoch 297/10000\n",
      ".20/20 - 0s - loss: 0.5789 - AUC: 0.8332 - binary_crossentropy: 0.5698 - accuracy: 0.8286 - val_loss: 0.6645 - val_AUC: 0.6508 - val_binary_crossentropy: 0.6554 - val_accuracy: 0.6280\n",
      "Epoch 298/10000\n",
      ".20/20 - 0s - loss: 0.5795 - AUC: 0.8338 - binary_crossentropy: 0.5703 - accuracy: 0.8268 - val_loss: 0.6680 - val_AUC: 0.6585 - val_binary_crossentropy: 0.6589 - val_accuracy: 0.6190\n",
      "Epoch 299/10000\n",
      ".20/20 - 0s - loss: 0.5836 - AUC: 0.8292 - binary_crossentropy: 0.5745 - accuracy: 0.8173 - val_loss: 0.6651 - val_AUC: 0.6553 - val_binary_crossentropy: 0.6559 - val_accuracy: 0.6290\n",
      "Epoch 300/10000\n",
      ".20/20 - 0s - loss: 0.5835 - AUC: 0.8282 - binary_crossentropy: 0.5744 - accuracy: 0.8174 - val_loss: 0.6634 - val_AUC: 0.6648 - val_binary_crossentropy: 0.6543 - val_accuracy: 0.6430\n",
      "Epoch 301/10000\n",
      "\n",
      "Epoch: 300, AUC:0.8340,  accuracy:0.8271,  binary_crossentropy:0.5698,  loss:0.5790,  val_AUC:0.6646,  val_accuracy:0.6430,  val_binary_crossentropy:0.6546,  val_loss:0.6638,  \n",
      ".20/20 - 0s - loss: 0.5790 - AUC: 0.8340 - binary_crossentropy: 0.5698 - accuracy: 0.8271 - val_loss: 0.6638 - val_AUC: 0.6646 - val_binary_crossentropy: 0.6546 - val_accuracy: 0.6430\n",
      "Epoch 302/10000\n",
      ".20/20 - 0s - loss: 0.5779 - AUC: 0.8351 - binary_crossentropy: 0.5687 - accuracy: 0.8298 - val_loss: 0.6654 - val_AUC: 0.6598 - val_binary_crossentropy: 0.6563 - val_accuracy: 0.6300\n",
      "Epoch 303/10000\n",
      ".20/20 - 0s - loss: 0.5772 - AUC: 0.8353 - binary_crossentropy: 0.5680 - accuracy: 0.8311 - val_loss: 0.6676 - val_AUC: 0.6583 - val_binary_crossentropy: 0.6585 - val_accuracy: 0.6360\n",
      "Epoch 304/10000\n",
      ".20/20 - 0s - loss: 0.5783 - AUC: 0.8347 - binary_crossentropy: 0.5691 - accuracy: 0.8290 - val_loss: 0.6646 - val_AUC: 0.6533 - val_binary_crossentropy: 0.6555 - val_accuracy: 0.6350\n",
      "Epoch 305/10000\n",
      ".20/20 - 0s - loss: 0.5830 - AUC: 0.8302 - binary_crossentropy: 0.5738 - accuracy: 0.8180 - val_loss: 0.6703 - val_AUC: 0.6423 - val_binary_crossentropy: 0.6611 - val_accuracy: 0.6060\n",
      "Epoch 306/10000\n",
      ".20/20 - 0s - loss: 0.5814 - AUC: 0.8315 - binary_crossentropy: 0.5723 - accuracy: 0.8206 - val_loss: 0.6657 - val_AUC: 0.6520 - val_binary_crossentropy: 0.6565 - val_accuracy: 0.6210\n",
      "Epoch 307/10000\n",
      ".20/20 - 0s - loss: 0.5779 - AUC: 0.8342 - binary_crossentropy: 0.5687 - accuracy: 0.8301 - val_loss: 0.6678 - val_AUC: 0.6506 - val_binary_crossentropy: 0.6586 - val_accuracy: 0.6190\n",
      "Epoch 308/10000\n",
      ".20/20 - 0s - loss: 0.5768 - AUC: 0.8363 - binary_crossentropy: 0.5677 - accuracy: 0.8326 - val_loss: 0.6649 - val_AUC: 0.6601 - val_binary_crossentropy: 0.6557 - val_accuracy: 0.6460\n",
      "Epoch 309/10000\n",
      ".20/20 - 0s - loss: 0.5761 - AUC: 0.8368 - binary_crossentropy: 0.5669 - accuracy: 0.8347 - val_loss: 0.6668 - val_AUC: 0.6490 - val_binary_crossentropy: 0.6576 - val_accuracy: 0.6300\n",
      "Epoch 310/10000\n",
      ".20/20 - 0s - loss: 0.5754 - AUC: 0.8383 - binary_crossentropy: 0.5662 - accuracy: 0.8347 - val_loss: 0.6642 - val_AUC: 0.6573 - val_binary_crossentropy: 0.6550 - val_accuracy: 0.6370\n",
      "Epoch 311/10000\n",
      ".20/20 - 0s - loss: 0.5746 - AUC: 0.8382 - binary_crossentropy: 0.5654 - accuracy: 0.8373 - val_loss: 0.6641 - val_AUC: 0.6534 - val_binary_crossentropy: 0.6550 - val_accuracy: 0.6290\n",
      "Epoch 312/10000\n",
      ".20/20 - 0s - loss: 0.5753 - AUC: 0.8376 - binary_crossentropy: 0.5661 - accuracy: 0.8353 - val_loss: 0.6652 - val_AUC: 0.6657 - val_binary_crossentropy: 0.6560 - val_accuracy: 0.6340\n",
      "Epoch 313/10000\n",
      ".20/20 - 0s - loss: 0.5766 - AUC: 0.8366 - binary_crossentropy: 0.5674 - accuracy: 0.8328 - val_loss: 0.6670 - val_AUC: 0.6647 - val_binary_crossentropy: 0.6578 - val_accuracy: 0.6420\n",
      "Epoch 314/10000\n",
      ".20/20 - 0s - loss: 0.5787 - AUC: 0.8355 - binary_crossentropy: 0.5695 - accuracy: 0.8281 - val_loss: 0.6664 - val_AUC: 0.6690 - val_binary_crossentropy: 0.6572 - val_accuracy: 0.6480\n",
      "Epoch 315/10000\n",
      ".20/20 - 0s - loss: 0.5767 - AUC: 0.8363 - binary_crossentropy: 0.5675 - accuracy: 0.8323 - val_loss: 0.6663 - val_AUC: 0.6556 - val_binary_crossentropy: 0.6571 - val_accuracy: 0.6380\n",
      "Epoch 316/10000\n",
      ".20/20 - 0s - loss: 0.5760 - AUC: 0.8384 - binary_crossentropy: 0.5668 - accuracy: 0.8342 - val_loss: 0.6673 - val_AUC: 0.6619 - val_binary_crossentropy: 0.6581 - val_accuracy: 0.6390\n",
      "Epoch 317/10000\n",
      ".20/20 - 0s - loss: 0.5749 - AUC: 0.8388 - binary_crossentropy: 0.5657 - accuracy: 0.8365 - val_loss: 0.6643 - val_AUC: 0.6636 - val_binary_crossentropy: 0.6551 - val_accuracy: 0.6440\n",
      "Epoch 318/10000\n",
      ".20/20 - 0s - loss: 0.5746 - AUC: 0.8393 - binary_crossentropy: 0.5654 - accuracy: 0.8377 - val_loss: 0.6655 - val_AUC: 0.6565 - val_binary_crossentropy: 0.6563 - val_accuracy: 0.6300\n",
      "Epoch 319/10000\n",
      ".20/20 - 0s - loss: 0.5761 - AUC: 0.8382 - binary_crossentropy: 0.5669 - accuracy: 0.8345 - val_loss: 0.6620 - val_AUC: 0.6590 - val_binary_crossentropy: 0.6528 - val_accuracy: 0.6470\n",
      "Epoch 320/10000\n",
      ".20/20 - 0s - loss: 0.5761 - AUC: 0.8379 - binary_crossentropy: 0.5669 - accuracy: 0.8335 - val_loss: 0.6700 - val_AUC: 0.6587 - val_binary_crossentropy: 0.6608 - val_accuracy: 0.6320\n",
      "Epoch 321/10000\n",
      ".20/20 - 0s - loss: 0.5883 - AUC: 0.8239 - binary_crossentropy: 0.5791 - accuracy: 0.8046 - val_loss: 0.6654 - val_AUC: 0.6454 - val_binary_crossentropy: 0.6561 - val_accuracy: 0.6270\n",
      "Epoch 322/10000\n",
      ".20/20 - 0s - loss: 0.5967 - AUC: 0.8109 - binary_crossentropy: 0.5875 - accuracy: 0.7849 - val_loss: 0.6734 - val_AUC: 0.6612 - val_binary_crossentropy: 0.6642 - val_accuracy: 0.6440\n",
      "Epoch 323/10000\n"
     ]
    },
    {
     "name": "stdout",
     "output_type": "stream",
     "text": [
      ".20/20 - 0s - loss: 0.6021 - AUC: 0.8017 - binary_crossentropy: 0.5929 - accuracy: 0.7771 - val_loss: 0.6672 - val_AUC: 0.6424 - val_binary_crossentropy: 0.6579 - val_accuracy: 0.6270\n",
      "Epoch 324/10000\n",
      ".20/20 - 0s - loss: 0.5872 - AUC: 0.8253 - binary_crossentropy: 0.5779 - accuracy: 0.8092 - val_loss: 0.6694 - val_AUC: 0.6395 - val_binary_crossentropy: 0.6601 - val_accuracy: 0.6150\n",
      "Epoch 325/10000\n",
      ".20/20 - 0s - loss: 0.5849 - AUC: 0.8311 - binary_crossentropy: 0.5756 - accuracy: 0.8130 - val_loss: 0.6668 - val_AUC: 0.6547 - val_binary_crossentropy: 0.6576 - val_accuracy: 0.6380\n",
      "Epoch 326/10000\n",
      ".20/20 - 0s - loss: 0.5806 - AUC: 0.8345 - binary_crossentropy: 0.5713 - accuracy: 0.8241 - val_loss: 0.6631 - val_AUC: 0.6497 - val_binary_crossentropy: 0.6539 - val_accuracy: 0.6250\n",
      "Epoch 327/10000\n",
      ".20/20 - 0s - loss: 0.5789 - AUC: 0.8361 - binary_crossentropy: 0.5696 - accuracy: 0.8286 - val_loss: 0.6685 - val_AUC: 0.6586 - val_binary_crossentropy: 0.6593 - val_accuracy: 0.6310\n",
      "Epoch 328/10000\n",
      ".20/20 - 0s - loss: 0.5787 - AUC: 0.8370 - binary_crossentropy: 0.5695 - accuracy: 0.8280 - val_loss: 0.6713 - val_AUC: 0.6586 - val_binary_crossentropy: 0.6620 - val_accuracy: 0.6260\n",
      "Epoch 329/10000\n",
      ".20/20 - 0s - loss: 0.5767 - AUC: 0.8395 - binary_crossentropy: 0.5674 - accuracy: 0.8322 - val_loss: 0.6640 - val_AUC: 0.6555 - val_binary_crossentropy: 0.6547 - val_accuracy: 0.6350\n",
      "Epoch 330/10000\n",
      ".20/20 - 0s - loss: 0.5769 - AUC: 0.8386 - binary_crossentropy: 0.5676 - accuracy: 0.8324 - val_loss: 0.6681 - val_AUC: 0.6601 - val_binary_crossentropy: 0.6588 - val_accuracy: 0.6290\n",
      "Epoch 331/10000\n",
      ".20/20 - 0s - loss: 0.5759 - AUC: 0.8397 - binary_crossentropy: 0.5666 - accuracy: 0.8338 - val_loss: 0.6709 - val_AUC: 0.6478 - val_binary_crossentropy: 0.6616 - val_accuracy: 0.6150\n",
      "Epoch 332/10000\n",
      ".20/20 - 0s - loss: 0.5779 - AUC: 0.8368 - binary_crossentropy: 0.5686 - accuracy: 0.8304 - val_loss: 0.6683 - val_AUC: 0.6610 - val_binary_crossentropy: 0.6590 - val_accuracy: 0.6360\n",
      "Epoch 333/10000\n",
      ".20/20 - 0s - loss: 0.5763 - AUC: 0.8392 - binary_crossentropy: 0.5670 - accuracy: 0.8341 - val_loss: 0.6675 - val_AUC: 0.6477 - val_binary_crossentropy: 0.6582 - val_accuracy: 0.6170\n",
      "Epoch 334/10000\n",
      ".20/20 - 0s - loss: 0.5791 - AUC: 0.8363 - binary_crossentropy: 0.5698 - accuracy: 0.8275 - val_loss: 0.6678 - val_AUC: 0.6623 - val_binary_crossentropy: 0.6585 - val_accuracy: 0.6370\n",
      "Epoch 335/10000\n",
      ".20/20 - 0s - loss: 0.5767 - AUC: 0.8388 - binary_crossentropy: 0.5674 - accuracy: 0.8327 - val_loss: 0.6691 - val_AUC: 0.6491 - val_binary_crossentropy: 0.6598 - val_accuracy: 0.6300\n",
      "Epoch 336/10000\n",
      ".20/20 - 0s - loss: 0.5789 - AUC: 0.8366 - binary_crossentropy: 0.5696 - accuracy: 0.8274 - val_loss: 0.6668 - val_AUC: 0.6483 - val_binary_crossentropy: 0.6574 - val_accuracy: 0.6260\n",
      "Epoch 337/10000\n",
      ".20/20 - 0s - loss: 0.5811 - AUC: 0.8346 - binary_crossentropy: 0.5718 - accuracy: 0.8224 - val_loss: 0.6717 - val_AUC: 0.6468 - val_binary_crossentropy: 0.6624 - val_accuracy: 0.6230\n",
      "Epoch 338/10000\n",
      ".20/20 - 0s - loss: 0.5766 - AUC: 0.8396 - binary_crossentropy: 0.5673 - accuracy: 0.8335 - val_loss: 0.6713 - val_AUC: 0.6417 - val_binary_crossentropy: 0.6619 - val_accuracy: 0.6240\n",
      "Epoch 339/10000\n",
      ".20/20 - 0s - loss: 0.5758 - AUC: 0.8404 - binary_crossentropy: 0.5664 - accuracy: 0.8346 - val_loss: 0.6699 - val_AUC: 0.6548 - val_binary_crossentropy: 0.6606 - val_accuracy: 0.6310\n",
      "Epoch 340/10000\n",
      ".20/20 - 0s - loss: 0.5749 - AUC: 0.8406 - binary_crossentropy: 0.5656 - accuracy: 0.8363 - val_loss: 0.6704 - val_AUC: 0.6520 - val_binary_crossentropy: 0.6610 - val_accuracy: 0.6270\n",
      "Epoch 341/10000\n",
      ".20/20 - 0s - loss: 0.5769 - AUC: 0.8402 - binary_crossentropy: 0.5676 - accuracy: 0.8321 - val_loss: 0.6663 - val_AUC: 0.6457 - val_binary_crossentropy: 0.6570 - val_accuracy: 0.6220\n",
      "Epoch 342/10000\n",
      ".20/20 - 0s - loss: 0.5791 - AUC: 0.8374 - binary_crossentropy: 0.5698 - accuracy: 0.8275 - val_loss: 0.6709 - val_AUC: 0.6513 - val_binary_crossentropy: 0.6616 - val_accuracy: 0.6240\n",
      "Epoch 343/10000\n",
      ".20/20 - 0s - loss: 0.5758 - AUC: 0.8417 - binary_crossentropy: 0.5665 - accuracy: 0.8348 - val_loss: 0.6691 - val_AUC: 0.6509 - val_binary_crossentropy: 0.6598 - val_accuracy: 0.6260\n",
      "Epoch 344/10000\n",
      ".20/20 - 0s - loss: 0.5756 - AUC: 0.8420 - binary_crossentropy: 0.5662 - accuracy: 0.8352 - val_loss: 0.6659 - val_AUC: 0.6640 - val_binary_crossentropy: 0.6566 - val_accuracy: 0.6360\n",
      "Epoch 345/10000\n",
      ".20/20 - 0s - loss: 0.5740 - AUC: 0.8427 - binary_crossentropy: 0.5646 - accuracy: 0.8389 - val_loss: 0.6681 - val_AUC: 0.6490 - val_binary_crossentropy: 0.6588 - val_accuracy: 0.6230\n",
      "Epoch 346/10000\n",
      ".20/20 - 0s - loss: 0.5741 - AUC: 0.8429 - binary_crossentropy: 0.5647 - accuracy: 0.8389 - val_loss: 0.6684 - val_AUC: 0.6521 - val_binary_crossentropy: 0.6590 - val_accuracy: 0.6320\n",
      "Epoch 347/10000\n",
      ".20/20 - 0s - loss: 0.5740 - AUC: 0.8434 - binary_crossentropy: 0.5646 - accuracy: 0.8388 - val_loss: 0.6671 - val_AUC: 0.6586 - val_binary_crossentropy: 0.6577 - val_accuracy: 0.6340\n",
      "Epoch 348/10000\n",
      ".20/20 - 0s - loss: 0.5729 - AUC: 0.8439 - binary_crossentropy: 0.5635 - accuracy: 0.8414 - val_loss: 0.6691 - val_AUC: 0.6508 - val_binary_crossentropy: 0.6597 - val_accuracy: 0.6260\n",
      "Epoch 349/10000\n",
      ".20/20 - 0s - loss: 0.5724 - AUC: 0.8450 - binary_crossentropy: 0.5631 - accuracy: 0.8422 - val_loss: 0.6644 - val_AUC: 0.6550 - val_binary_crossentropy: 0.6550 - val_accuracy: 0.6400\n",
      "Epoch 350/10000\n",
      ".20/20 - 0s - loss: 0.5718 - AUC: 0.8457 - binary_crossentropy: 0.5624 - accuracy: 0.8428 - val_loss: 0.6689 - val_AUC: 0.6523 - val_binary_crossentropy: 0.6595 - val_accuracy: 0.6320\n",
      "Epoch 351/10000\n",
      ".20/20 - 0s - loss: 0.5737 - AUC: 0.8438 - binary_crossentropy: 0.5644 - accuracy: 0.8393 - val_loss: 0.6676 - val_AUC: 0.6605 - val_binary_crossentropy: 0.6582 - val_accuracy: 0.6450\n",
      "Epoch 352/10000\n",
      ".20/20 - 0s - loss: 0.5762 - AUC: 0.8415 - binary_crossentropy: 0.5668 - accuracy: 0.8334 - val_loss: 0.6665 - val_AUC: 0.6529 - val_binary_crossentropy: 0.6571 - val_accuracy: 0.6400\n",
      "Epoch 353/10000\n",
      ".20/20 - 0s - loss: 0.5750 - AUC: 0.8415 - binary_crossentropy: 0.5656 - accuracy: 0.8372 - val_loss: 0.6682 - val_AUC: 0.6623 - val_binary_crossentropy: 0.6589 - val_accuracy: 0.6400\n",
      "Epoch 354/10000\n",
      ".20/20 - 0s - loss: 0.5768 - AUC: 0.8404 - binary_crossentropy: 0.5674 - accuracy: 0.8325 - val_loss: 0.6665 - val_AUC: 0.6473 - val_binary_crossentropy: 0.6571 - val_accuracy: 0.6160\n",
      "Epoch 355/10000\n",
      ".20/20 - 0s - loss: 0.5778 - AUC: 0.8402 - binary_crossentropy: 0.5685 - accuracy: 0.8295 - val_loss: 0.6680 - val_AUC: 0.6541 - val_binary_crossentropy: 0.6586 - val_accuracy: 0.6310\n",
      "Epoch 356/10000\n",
      ".20/20 - 0s - loss: 0.5760 - AUC: 0.8420 - binary_crossentropy: 0.5666 - accuracy: 0.8344 - val_loss: 0.6683 - val_AUC: 0.6518 - val_binary_crossentropy: 0.6589 - val_accuracy: 0.6200\n",
      "Epoch 357/10000\n",
      ".20/20 - 0s - loss: 0.5735 - AUC: 0.8441 - binary_crossentropy: 0.5641 - accuracy: 0.8399 - val_loss: 0.6683 - val_AUC: 0.6423 - val_binary_crossentropy: 0.6590 - val_accuracy: 0.6160\n",
      "Epoch 358/10000\n",
      ".20/20 - 0s - loss: 0.5737 - AUC: 0.8455 - binary_crossentropy: 0.5643 - accuracy: 0.8395 - val_loss: 0.6659 - val_AUC: 0.6547 - val_binary_crossentropy: 0.6565 - val_accuracy: 0.6320\n"
     ]
    }
   ],
   "source": [
    "size_histories['paper'] = compile_and_fit(paper_model, 'sizes/paper')"
   ]
  },
  {
   "cell_type": "code",
   "execution_count": null,
   "metadata": {},
   "outputs": [],
   "source": []
  },
  {
   "cell_type": "code",
   "execution_count": 31,
   "metadata": {},
   "outputs": [
    {
     "data": {
      "text/plain": [
       "[0.5029281973838806,\n",
       " 0.5285380482673645,\n",
       " 0.5525993704795837,\n",
       " 0.5617892742156982,\n",
       " 0.5826312303543091,\n",
       " 0.5899243354797363,\n",
       " 0.6022430658340454,\n",
       " 0.6117173433303833,\n",
       " 0.6257873773574829,\n",
       " 0.6316566467285156]"
      ]
     },
     "execution_count": 31,
     "metadata": {},
     "output_type": "execute_result"
    }
   ],
   "source": [
    "size_histories['paper'].history['AUC'][0:10]"
   ]
  },
  {
   "cell_type": "code",
   "execution_count": 32,
   "metadata": {},
   "outputs": [
    {
     "data": {
      "image/png": "[encoded data removed]",
      "text/plain": [
       "<Figure size 432x288 with 1 Axes>"
      ]
     },
     "metadata": {
      "needs_background": "light"
     },
     "output_type": "display_data"
    }
   ],
   "source": [
    "plotter = tfdocs.plots.HistoryPlotter(metric = 'binary_crossentropy', smoothing_std=10)\n",
    "plotter.plot(size_histories)"
   ]
  },
  {
   "cell_type": "code",
   "execution_count": 33,
   "metadata": {},
   "outputs": [
    {
     "data": {
      "image/png": "[encoded data removed]",
      "text/plain": [
       "<Figure size 432x288 with 1 Axes>"
      ]
     },
     "metadata": {
      "needs_background": "light"
     },
     "output_type": "display_data"
    }
   ],
   "source": [
    "plotter = tfdocs.plots.HistoryPlotter(metric = 'AUC', smoothing_std=10)\n",
    "plotter.plot(size_histories)"
   ]
  },
  {
   "cell_type": "code",
   "execution_count": 34,
   "metadata": {},
   "outputs": [
    {
     "data": {
      "text/plain": [
       "Text(0.5, 0, 'Epochs [Log Scale]')"
      ]
     },
     "execution_count": 34,
     "metadata": {},
     "output_type": "execute_result"
    },
    {
     "data": {
      "image/png": "[encoded data removed]",
      "text/plain": [
       "<Figure size 432x288 with 1 Axes>"
      ]
     },
     "metadata": {
      "needs_background": "light"
     },
     "output_type": "display_data"
    }
   ],
   "source": [
    "plotter.plot(size_histories)\n",
    "a = plt.xscale('log')\n",
    "plt.xlim([5, max(plt.xlim())])\n",
    "plt.ylim([0.5, 0.7])\n",
    "plt.xlabel(\"Epochs [Log Scale]\")"
   ]
  },
  {
   "cell_type": "code",
   "execution_count": 35,
   "metadata": {},
   "outputs": [
    {
     "name": "stderr",
     "output_type": "stream",
     "text": [
      "UsageError: Line magic function `%tensorboard` not found.\n"
     ]
    }
   ],
   "source": [
    "%tensorboard --logdir {logdir}/sizes"
   ]
  },
  {
   "cell_type": "code",
   "execution_count": 36,
   "metadata": {},
   "outputs": [
    {
     "data": {
      "text/html": [
       "\n",
       "        <iframe\n",
       "            width=\"100%\"\n",
       "            height=\"800px\"\n",
       "            src=\"https://tensorboard.dev/experiment/vW7jmmF9TmKmy3rbheMQpw/#scalars&_smoothingWeight=0.97\"\n",
       "            frameborder=\"0\"\n",
       "            allowfullscreen\n",
       "        ></iframe>\n",
       "        "
      ],
      "text/plain": [
       "<IPython.lib.display.IFrame at 0x7f34fc17bb80>"
      ]
     },
     "execution_count": 36,
     "metadata": {},
     "output_type": "execute_result"
    }
   ],
   "source": [
    "display.IFrame(\n",
    "    src=\"https://tensorboard.dev/experiment/vW7jmmF9TmKmy3rbheMQpw/#scalars&_smoothingWeight=0.97\",\n",
    "    width=\"100%\", height=\"800px\")"
   ]
  },
  {
   "cell_type": "markdown",
   "metadata": {},
   "source": [
    "<span style=\"color:Blue\">\n",
    "    \n",
    "# Updated Model"
   ]
  },
  {
   "cell_type": "markdown",
   "metadata": {},
   "source": [
    ">Increase batch size to 500 from 100 to decrease training time"
   ]
  },
  {
   "cell_type": "code",
   "execution_count": null,
   "metadata": {},
   "outputs": [],
   "source": [
    "N_VALIDATION = int(1e3)\n",
    "N_TRAIN = int(1e4)\n",
    "BUFFER_SIZE = int(1e4)\n",
    "BATCH_SIZE = 500  \n",
    "STEPS_PER_EPOCH = N_TRAIN//BATCH_SIZE"
   ]
  },
  {
   "cell_type": "code",
   "execution_count": null,
   "metadata": {},
   "outputs": [],
   "source": [
    "validate_ds = packed_ds.take(N_VALIDATION).cache()\n",
    "train_ds = packed_ds.skip(N_VALIDATION).take(N_TRAIN).cache()"
   ]
  },
  {
   "cell_type": "code",
   "execution_count": null,
   "metadata": {},
   "outputs": [],
   "source": [
    "validate_ds = validate_ds.batch(BATCH_SIZE)\n",
    "train_ds = train_ds.shuffle(BUFFER_SIZE).repeat().batch(BATCH_SIZE)"
   ]
  },
  {
   "cell_type": "markdown",
   "metadata": {},
   "source": [
    ">Paper Architecture"
   ]
  },
  {
   "cell_type": "code",
   "execution_count": null,
   "metadata": {},
   "outputs": [],
   "source": [
    "first_initializer = tf.keras.initializers.RandomNormal(mean=0., stddev=0.1, seed=42)\n",
    "outer_initializer = tf.keras.initializers.RandomNormal(mean=0., stddev=0.001, seed=42)\n",
    "other_initializers = tf.keras.initializers.RandomNormal(mean=0., stddev=0.05, seed=42)\n",
    "\n",
    "\n",
    "weight_decay=0.00001\n",
    "paper_model = tf.keras.Sequential([\n",
    "    layers.Dense(300, activation='tanh', input_shape=(FEATURES,), kernel_initializer=first_initializer, kernel_regularizer=l2(weight_decay)),\n",
    "    layers.Dense(300, activation='tanh', kernel_initializer=other_initializers, kernel_regularizer=l2(weight_decay)),\n",
    "    layers.Dense(300, activation='tanh', kernel_initializer=other_initializers, kernel_regularizer=l2(weight_decay)),\n",
    "    layers.Dense(300, activation='tanh', kernel_initializer=other_initializers, kernel_regularizer=l2(weight_decay)),\n",
    "    layers.Dropout(0.5), \n",
    "    layers.Dense(1, activation='sigmoid', kernel_initializer=outer_initializer, kernel_regularizer=l2(weight_decay))\n",
    "    \n",
    "])"
   ]
  },
  {
   "cell_type": "markdown",
   "metadata": {},
   "source": [
    "# Potential Improvements\n",
    "\n",
    "<span style=\"color:red\">\n",
    "    \n",
    "## Activation Functions\n",
    "\n",
    "</span>\n",
    "\n",
    "##### Sigmoid\n",
    "\n",
    "1/1(e^-bx)\n",
    "\n",
    ">Pros:\n",
    "\n",
    ">Cons:\n",
    "Vanishing/exploding Gradient problem.  Extremely low weights backpropigate and end up vanishing near the input neruons\n",
    "Non-zero Centered - This causes weights to be either all positive or all negative\n",
    "\n",
    "##### Tanh (Current)\n",
    "\n",
    "(2/1(e^-2x))-1\n",
    "\n",
    "Generally preferred over sigmoid\n",
    "\n",
    "\n",
    "\n",
    ">Pros:\n",
    "Output is zero-centered, which makes optimization easier\n",
    "\n",
    ">Cons:\n",
    "Also sufferes from the vanishing gradient problem\n",
    "\n",
    "##### Relu (Has become very popular over the past few years)\n",
    "\n",
    "0 for X < 0\n",
    "x for x >= 0\n",
    "\n",
    "Anything less than zero is zero, positive values increase with a slope of 1.\n",
    "\n",
    "Note: only for hidden layers.  Softmax possibly for output?\n",
    "\n",
    "\n",
    ">Pros:\n",
    "\n",
    "6x improvement vs tanh in covergence (ImageNet Classification with Deep Convolutional Neural Networks by Krizhevsky)\n",
    "Much simpler so it runs faster\n",
    "Avoids vanishing gradient problem\n",
    "\n",
    ">Cons:\n",
    "\n",
    "Can cause dead neurons (dying relu problem).  If a major weight update hits, that neuron could potentially not activate again. Leaky Relu was introduced to fix this problem\n",
    "Leaky Relu has a small negative slope for values x < 0\n",
    "\n",
    "https://www.youtube.com/watch?v=s-V7gKrsels\n",
    "\n",
    "<span style=\"color:red\">\n",
    "\n",
    "#### Proposal: Leaky Relu or Elu activation for hidden layers\n",
    "\n",
    "</span>\n",
    "\n",
    "Since the output is binary, I don't know if it matters if we were to use Softmax over Sigmoid.\n"
   ]
  },
  {
   "cell_type": "markdown",
   "metadata": {},
   "source": [
    "<span style=\"color:red\">\n",
    "    \n",
    "## Hidden Layers\n",
    "\n",
    "</span>\n",
    "\n",
    "\n",
    "<span style=\"color:red\">\n",
    "\n",
    "#####  Proposal: \n",
    "</span>\n",
    "\n",
    ">From what I've found, it sounds like the hidden layers should be about the same size as the number of inputs?"
   ]
  },
  {
   "cell_type": "markdown",
   "metadata": {},
   "source": [
    "<span style=\"color:red\">\n",
    "\n",
    "# Learning Rate\n",
    "\n",
    "<span/>\n",
    "\n",
    "\n",
    "\"Learning rate is arguably the most importnat hyperparameter of the model\"\n",
    "https://machinelearningmastery.com/learning-rate-for-deep-learning-neural-networks/\n",
    "\n",
    "Trial and error is suggested to optimize.  Using a 'learning rate schedule' is considered best practice. \n",
    "\n",
    "------------------\n",
    "\n",
    "https://towardsdatascience.com/estimating-optimal-learning-rate-for-a-deep-neural-network-ce32f2556ce0\n",
    "\n",
    "“Cyclical Learning Rates for Training Neural Networks” - Leslie N. Smith 2015\n",
    "\n",
    "Effective learning rate estimation technique:\n",
    "\n",
    "    1.Train the network starting at a very low learning rate, increasing it exponentially with each batch\n",
    "    \n",
    "   ![](lr_vs_batch.jpg)\n",
    "   \n"
   ]
  },
  {
   "cell_type": "markdown",
   "metadata": {},
   "source": [
    "    2.Record the learning rate and training loss for every batch; plot learning rate vs loss\n",
    "\n",
    "![](lr_vs_loss.jpg)"
   ]
  },
  {
   "cell_type": "markdown",
   "metadata": {},
   "source": [
    "    3. Select the point in the graph with the fastest decrease in loss (deriv. loss wrt learning rate)\n",
    "    \n",
    " ![](dloss_wrt_lr.jpg)    \n",
    " \n",
    " \n",
    "     Fastest decrease would be the minimum value, so we can see that it's 10e-2 on this graph.  "
   ]
  },
  {
   "cell_type": "markdown",
   "metadata": {},
   "source": [
    "<span style=\"color:red\">\n",
    "\n",
    "## Weight Decay\n",
    "\n",
    "<span/>\n",
    "\n",
    "--------------------\n",
    "\n",
    "https://arxiv.org/pdf/1907.08931.pdf\n",
    "\n",
    "Adaptive weight decay?\n",
    "\n",
    ".00001 seems like it wouldn't really do much\n"
   ]
  },
  {
   "cell_type": "markdown",
   "metadata": {},
   "source": [
    "## Preprocessing question\n",
    "\n",
    "\"Data sets. The data sets were nearly balanced, with 53% positive examples in the\n",
    "HIGGS data set and 46% positive examples in the SUSY data set. Input features\n",
    "were standardized over the entire training/test set with mean 0 and s.d. 1, except\n",
    "for those features with values strictly 40—these we scaled so that the mean\n",
    "value was 1.\" https://www.nature.com/articles/ncomms5308.pdf\n",
    "\n",
    "Does this normalization technique make sense?"
   ]
  },
  {
   "cell_type": "code",
   "execution_count": null,
   "metadata": {},
   "outputs": [],
   "source": []
  },
  {
   "cell_type": "code",
   "execution_count": null,
   "metadata": {},
   "outputs": [],
   "source": []
  },
  {
   "cell_type": "code",
   "execution_count": null,
   "metadata": {},
   "outputs": [],
   "source": [
    "N_VALIDATION = int(1e3)\n",
    "N_TRAIN = int(1e4)\n",
    "BUFFER_SIZE = int(1e4)\n",
    "BATCH_SIZE = 500  \n",
    "STEPS_PER_EPOCH = N_TRAIN//BATCH_SIZE"
   ]
  },
  {
   "cell_type": "code",
   "execution_count": null,
   "metadata": {},
   "outputs": [],
   "source": []
  },
  {
   "cell_type": "code",
   "execution_count": null,
   "metadata": {},
   "outputs": [],
   "source": []
  },
  {
   "cell_type": "code",
   "execution_count": null,
   "metadata": {},
   "outputs": [],
   "source": []
  },
  {
   "cell_type": "code",
   "execution_count": null,
   "metadata": {},
   "outputs": [],
   "source": []
  },
  {
   "cell_type": "code",
   "execution_count": null,
   "metadata": {},
   "outputs": [],
   "source": [
    "first_initializer = tf.keras.initializers.RandomNormal(mean=0., stddev=0.1, seed=42)\n",
    "outer_initializer = tf.keras.initializers.RandomNormal(mean=0., stddev=0.001, seed=42)\n",
    "other_initializers = tf.keras.initializers.RandomNormal(mean=0., stddev=0.05, seed=42)\n",
    "\n",
    "\n",
    "weight_decay=0.01\n",
    "updated_model = tf.keras.Sequential([\n",
    "    layers.Dense(28, activation='relu', input_shape=(FEATURES,), kernel_initializer=first_initializer, kernel_regularizer=l2(weight_decay)),\n",
    "    layers.Dense(28, activation='relu', kernel_initializer=other_initializers, kernel_regularizer=l2(weight_decay)),\n",
    "    layers.Dense(28, activation='relu', kernel_initializer=other_initializers, kernel_regularizer=l2(weight_decay)),\n",
    "    layers.Dense(28, activation='relu', kernel_initializer=other_initializers, kernel_regularizer=l2(weight_decay)),\n",
    "    layers.Dropout(0.2), \n",
    "    layers.Dense(1, activation='sigmoid', kernel_initializer=outer_initializer, kernel_regularizer=l2(weight_decay))\n",
    "    \n",
    "])"
   ]
  },
  {
   "cell_type": "code",
   "execution_count": null,
   "metadata": {},
   "outputs": [],
   "source": [
    "size_histories['updated'] = compile_and_fit(paper_model, 'sizes/updated')"
   ]
  }
 ],
 "metadata": {
  "kernelspec": {
   "display_name": "Python 3",
   "language": "python",
   "name": "python3"
  },
  "language_info": {
   "codemirror_mode": {
    "name": "ipython",
    "version": 3
   },
   "file_extension": ".py",
   "mimetype": "text/x-python",
   "name": "python",
   "nbconvert_exporter": "python",
   "pygments_lexer": "ipython3",
   "version": "3.7.4"
  }
 },
 "nbformat": 4,
 "nbformat_minor": 5
}
