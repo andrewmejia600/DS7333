{
 "cells": [
  {
   "cell_type": "markdown",
   "id": "democratic-lambda",
   "metadata": {},
   "source": [
    "#### The following code is adapted from the following tutorial \n",
    "\n",
    "https://www.tensorflow.org/tutorials/keras/overfit_and_underfit"
   ]
  },
  {
   "cell_type": "markdown",
   "id": "monetary-switzerland",
   "metadata": {},
   "source": [
    "### Setup your environment"
   ]
  },
  {
   "cell_type": "code",
   "execution_count": 1,
   "id": "trying-sensitivity",
   "metadata": {},
   "outputs": [
    {
     "name": "stdout",
     "output_type": "stream",
     "text": [
      "2.2.0\n"
     ]
    }
   ],
   "source": [
    "from __future__ import absolute_import, division, print_function, unicode_literals\n",
    "\n",
    "try:\n",
    "  # %tensorflow_version only exists in Colab.\n",
    "  %tensorflow_version 2.x\n",
    "except Exception:\n",
    "  pass\n",
    "  \n",
    "import tensorflow as tf\n",
    "\n",
    "from tensorflow.keras import layers\n",
    "from tensorflow.keras.regularizers import l1, l2\n",
    "\n",
    "print(tf.__version__)"
   ]
  },
  {
   "cell_type": "code",
   "execution_count": 2,
   "id": "anonymous-terror",
   "metadata": {},
   "outputs": [
    {
     "name": "stdout",
     "output_type": "stream",
     "text": [
      "Num GPUs Available:  1\n"
     ]
    }
   ],
   "source": [
    "print(\"Num GPUs Available: \", len(tf.config.list_physical_devices('GPU')))"
   ]
  },
  {
   "cell_type": "code",
   "execution_count": 3,
   "id": "fundamental-yemen",
   "metadata": {},
   "outputs": [
    {
     "name": "stdout",
     "output_type": "stream",
     "text": [
      "Num CPUs Available:  1\n"
     ]
    }
   ],
   "source": [
    "print(\"Num CPUs Available: \", len(tf.config.list_physical_devices('CPU')))"
   ]
  },
  {
   "cell_type": "code",
   "execution_count": 4,
   "id": "comfortable-liberal",
   "metadata": {},
   "outputs": [],
   "source": [
    "import tensorflow_docs as tfdocs\n",
    "import tensorflow_docs.modeling\n",
    "import tensorflow_docs.plots"
   ]
  },
  {
   "cell_type": "code",
   "execution_count": 5,
   "id": "connected-tonight",
   "metadata": {},
   "outputs": [],
   "source": [
    "from  IPython import display\n",
    "from matplotlib import pyplot as plt\n",
    "\n",
    "import numpy as np\n",
    "import matplotlib.pyplot as plt\n",
    "\n",
    "import pathlib\n",
    "import shutil\n",
    "import tempfile"
   ]
  },
  {
   "cell_type": "code",
   "execution_count": 6,
   "id": "varying-vegetarian",
   "metadata": {},
   "outputs": [],
   "source": [
    "logdir = pathlib.Path(tempfile.mkdtemp())/\"tensorboard_logs\"\n",
    "shutil.rmtree(logdir, ignore_errors=True)"
   ]
  },
  {
   "cell_type": "markdown",
   "id": "interstate-trademark",
   "metadata": {},
   "source": [
    "#### Helper Functions"
   ]
  },
  {
   "cell_type": "markdown",
   "id": "fewer-thought",
   "metadata": {},
   "source": [
    "#### That csv reader class returns a list of scalars for each record. The following function repacks that list of scalars into a (feature_vector, label) pair."
   ]
  },
  {
   "cell_type": "code",
   "execution_count": 7,
   "id": "chicken-charger",
   "metadata": {},
   "outputs": [],
   "source": [
    "def pack_row(*row):\n",
    "  label = row[0]\n",
    "  features = tf.stack(row[1:],1)\n",
    "  return features, label"
   ]
  },
  {
   "cell_type": "markdown",
   "id": "premium-papua",
   "metadata": {},
   "source": [
    "# https://www.tensorflow.org/tutorials/text/transformer\n",
    "### A transformer model handles variable-sized input using stacks of self-attention layers instead of RNNs or CNNs.\n",
    "\n",
    "### https://arxiv.org/abs/1706.03762\n",
    "\n",
    "### https://www.tensorflow.org/api_docs/python/tf/clip_by_value\n",
    "\n",
    "### we want to set our learning rates to these parameters based on the step\n",
    "##### credit to this code is from https://github.com/ngupta23/ds7333_qtw/blob/master/case_study_6/analysis/master/cs6.ipynb"
   ]
  },
  {
   "cell_type": "code",
   "execution_count": 8,
   "id": "executed-steal",
   "metadata": {},
   "outputs": [],
   "source": [
    "class CustomSchedule(tf.keras.optimizers.schedules.LearningRateSchedule):\n",
    "  def __init__(self):\n",
    "    super(CustomSchedule, self).__init__()\n",
    "    \n",
    "  def __call__(self, step):\n",
    "    lr = tf.clip_by_value(0.05 / 1.0000002**step, clip_value_min=0.000001, clip_value_max=0.05)\n",
    "    return lr"
   ]
  },
  {
   "cell_type": "markdown",
   "id": "marine-farmer",
   "metadata": {},
   "source": [
    "### Define the optimizer based on the learner schedule. \n",
    "### Paper uses SGD\n",
    "### https://github.com/uci-igb/higgs-susy/blob/master/higgs/layers4_width300_lr005_m200_wd000001_all.py\n",
    "### https://www.researchgate.net/publication/263704884_Searching_for_Exotic_Particles_in_High-Energy_Physics_with_Deep_Learning"
   ]
  },
  {
   "cell_type": "code",
   "execution_count": 9,
   "id": "thousand-bolivia",
   "metadata": {},
   "outputs": [],
   "source": [
    "def get_optimizer():\n",
    "  lr_schedule = CustomSchedule()\n",
    "  return tf.keras.optimizers.SGD(lr_schedule, momentum=0.9)"
   ]
  },
  {
   "cell_type": "markdown",
   "id": "continuing-anthropology",
   "metadata": {},
   "source": [
    "#### Next include callbacks.EarlyStopping to avoid long and unnecessary training times. Note that this callback is set to monitor the val_binary_crossentropy, not the val_loss. This difference will be important later.\n",
    "#### Use callbacks.TensorBoard to generate TensorBoard logs for the training."
   ]
  },
  {
   "cell_type": "code",
   "execution_count": 10,
   "id": "accessory-walter",
   "metadata": {},
   "outputs": [],
   "source": [
    "def get_callbacks(name):\n",
    "  return [\n",
    "    tfdocs.modeling.EpochDots(),\n",
    "    tf.keras.callbacks.EarlyStopping(monitor='val_binary_crossentropy', min_delta=0.00001, patience=200),\n",
    "    tf.keras.callbacks.TensorBoard(logdir/name),\n",
    "  ]"
   ]
  },
  {
   "cell_type": "code",
   "execution_count": 11,
   "id": "wrapped-brief",
   "metadata": {},
   "outputs": [],
   "source": [
    "def compile_and_fit(model, name, optimizer=None, max_epochs=10000):\n",
    "  if optimizer is None:\n",
    "    optimizer = get_optimizer()\n",
    "  model.compile(optimizer=optimizer,\n",
    "                loss=tf.keras.losses.BinaryCrossentropy(from_logits=True),\n",
    "                metrics=[\n",
    "                  tf.keras.metrics.AUC(name='AUC'),\n",
    "                  tf.keras.losses.BinaryCrossentropy(from_logits=True, name='binary_crossentropy'),\n",
    "                  'accuracy'])\n",
    "\n",
    "  model.summary()\n",
    "\n",
    "  history = model.fit(\n",
    "    train_ds,\n",
    "    steps_per_epoch = STEPS_PER_EPOCH,\n",
    "    epochs=max_epochs,\n",
    "    validation_data=validate_ds,\n",
    "    callbacks=get_callbacks(name),\n",
    "    verbose=2)\n",
    "  return history"
   ]
  },
  {
   "cell_type": "markdown",
   "id": "controversial-burst",
   "metadata": {},
   "source": [
    "## Dataset download, otherwise use local copy"
   ]
  },
  {
   "cell_type": "code",
   "execution_count": 12,
   "id": "encouraging-public",
   "metadata": {},
   "outputs": [],
   "source": [
    "gz = tf.keras.utils.get_file('HIGGS.csv.gz', 'https://archive.ics.uci.edu/ml/machine-learning-databases/00280/HIGGS.csv.gz')"
   ]
  },
  {
   "cell_type": "markdown",
   "id": "eight-lewis",
   "metadata": {},
   "source": [
    "### Each example has 28 features, there are 11000000 examples"
   ]
  },
  {
   "cell_type": "code",
   "execution_count": 13,
   "id": "filled-ceremony",
   "metadata": {},
   "outputs": [],
   "source": [
    "FEATURES = 28"
   ]
  },
  {
   "cell_type": "markdown",
   "id": "stable-jacksonville",
   "metadata": {},
   "source": [
    "### This should be used to read the csv directly unpacking from the gzip file without unpacking"
   ]
  },
  {
   "cell_type": "code",
   "execution_count": 14,
   "id": "durable-margin",
   "metadata": {},
   "outputs": [],
   "source": [
    "ds = tf.data.experimental.CsvDataset( gz,[float(),]*(FEATURES+1), compression_type=\"GZIP\")"
   ]
  },
  {
   "cell_type": "markdown",
   "id": "acknowledged-penalty",
   "metadata": {},
   "source": [
    "### working in batches of 10000 use the map function to following function repacks that list of scalars into a (feature_vector, label) pair."
   ]
  },
  {
   "cell_type": "code",
   "execution_count": 15,
   "id": "demonstrated-digit",
   "metadata": {},
   "outputs": [],
   "source": [
    "packed_ds = ds.batch(10000).map(pack_row).unbatch()"
   ]
  },
  {
   "cell_type": "markdown",
   "id": "solar-assumption",
   "metadata": {},
   "source": [
    "### Have a look at some of the records from this new packed_ds. The features are not perfectly normalized, but this is sufficient for this tutorial."
   ]
  },
  {
   "cell_type": "code",
   "execution_count": 16,
   "id": "ethical-review",
   "metadata": {},
   "outputs": [
    {
     "name": "stdout",
     "output_type": "stream",
     "text": [
      "tf.Tensor(\n",
      "[ 0.8692932  -0.6350818   0.22569026  0.32747006 -0.6899932   0.75420225\n",
      " -0.24857314 -1.0920639   0.          1.3749921  -0.6536742   0.9303491\n",
      "  1.1074361   1.1389043  -1.5781983  -1.0469854   0.          0.65792954\n",
      " -0.01045457 -0.04576717  3.1019614   1.35376     0.9795631   0.97807616\n",
      "  0.92000484  0.72165745  0.98875093  0.87667835], shape=(28,), dtype=float32)\n"
     ]
    },
    {
     "data": {
      "image/png": "[encoded data removed]",
      "text/plain": [
       "<Figure size 432x288 with 1 Axes>"
      ]
     },
     "metadata": {
      "needs_background": "light"
     },
     "output_type": "display_data"
    }
   ],
   "source": [
    "for features,label in packed_ds.batch(1000).take(1):\n",
    "  print(features[0])\n",
    "  plt.hist(features.numpy().flatten(), bins = 101)"
   ]
  },
  {
   "cell_type": "markdown",
   "id": "correct-launch",
   "metadata": {},
   "source": [
    "#### This is what 1 observation looks like. "
   ]
  },
  {
   "cell_type": "code",
   "execution_count": 17,
   "id": "suffering-discipline",
   "metadata": {},
   "outputs": [
    {
     "name": "stdout",
     "output_type": "stream",
     "text": [
      "(1.0, 0.8692932, -0.6350818, 0.22569026, 0.32747006, -0.6899932, 0.75420225, -0.24857314, -1.0920639, 0.0, 1.3749921, -0.6536742, 0.9303491, 1.1074361, 1.1389043, -1.5781983, -1.0469854, 0.0, 0.65792954, -0.01045457, -0.04576717, 3.1019614, 1.35376, 0.9795631, 0.97807616, 0.92000484, 0.72165745, 0.98875093, 0.87667835)\n",
      "(1.0, 0.9075421, 0.32914728, 0.35941187, 1.4979699, -0.31300953, 1.0955306, -0.5575249, -1.5882298, 2.1730762, 0.8125812, -0.21364193, 1.2710146, 2.2148721, 0.49999395, -1.2614318, 0.73215616, 0.0, 0.3987009, -1.1389301, -0.0008191102, 0.0, 0.3022199, 0.83304816, 0.98569965, 0.9780984, 0.77973217, 0.99235576, 0.7983426)\n"
     ]
    }
   ],
   "source": [
    "print(list(ds.take(2).as_numpy_iterator())[0])\n",
    "print(list(ds.take(2).as_numpy_iterator())[1])"
   ]
  },
  {
   "cell_type": "code",
   "execution_count": 18,
   "id": "simplified-morgan",
   "metadata": {},
   "outputs": [],
   "source": [
    "featVals=[features.numpy()[0] for features,label in packed_ds.take(1000)]\n",
    "\n",
    "t=packed_ds.take(20000)"
   ]
  },
  {
   "cell_type": "code",
   "execution_count": 19,
   "id": "exciting-seeker",
   "metadata": {},
   "outputs": [
    {
     "name": "stdout",
     "output_type": "stream",
     "text": [
      "Values 1: 10457.0\n",
      "Values 0: 9543\n"
     ]
    }
   ],
   "source": [
    "t = [label.numpy() for features,label in packed_ds.take(20000)]\n",
    "print(\"Values 1:\",sum(t))\n",
    "print(\"Values 0:\",sum(np.equal(t,0)))"
   ]
  },
  {
   "cell_type": "code",
   "execution_count": 20,
   "id": "female-invalid",
   "metadata": {},
   "outputs": [
    {
     "name": "stdout",
     "output_type": "stream",
     "text": [
      "Min Value: -2.960813\n",
      "Max Value: 16.131908\n"
     ]
    }
   ],
   "source": [
    "t = np.array([features.numpy() for features,label in packed_ds.take(20000)])\n",
    "print(\"Min Value:\",min(t.flatten()))\n",
    "print(\"Max Value:\",max(t.flatten()))"
   ]
  },
  {
   "cell_type": "markdown",
   "id": "marked-bulgarian",
   "metadata": {},
   "source": [
    "### TODO: Note that the paper used 100, we can increase this to reduce training time."
   ]
  },
  {
   "cell_type": "code",
   "execution_count": 21,
   "id": "indoor-sugar",
   "metadata": {},
   "outputs": [],
   "source": [
    "N_VALIDATION = int(1e3)\n",
    "N_TRAIN = int(1e4)\n",
    "BUFFER_SIZE = int(1e4)\n",
    "BATCH_SIZE = 500  \n",
    "STEPS_PER_EPOCH = N_TRAIN//BATCH_SIZE"
   ]
  },
  {
   "cell_type": "markdown",
   "id": "advisory-soccer",
   "metadata": {},
   "source": [
    "### At the same time, use the Dataset.cache method to ensure that the loader doesn't need to re-read the data from the file on each epoch:"
   ]
  },
  {
   "cell_type": "code",
   "execution_count": 22,
   "id": "interested-values",
   "metadata": {},
   "outputs": [],
   "source": [
    "validate_ds = packed_ds.take(N_VALIDATION).cache()\n",
    "train_ds = packed_ds.skip(N_VALIDATION).take(N_TRAIN).cache()"
   ]
  },
  {
   "cell_type": "code",
   "execution_count": 23,
   "id": "senior-security",
   "metadata": {},
   "outputs": [
    {
     "data": {
      "text/plain": [
       "<CacheDataset shapes: ((28,), ()), types: (tf.float32, tf.float32)>"
      ]
     },
     "execution_count": 23,
     "metadata": {},
     "output_type": "execute_result"
    }
   ],
   "source": [
    "train_ds"
   ]
  },
  {
   "cell_type": "code",
   "execution_count": 24,
   "id": "about-chosen",
   "metadata": {},
   "outputs": [],
   "source": [
    "validate_ds = validate_ds.batch(BATCH_SIZE)\n",
    "train_ds = train_ds.shuffle(BUFFER_SIZE).repeat().batch(BATCH_SIZE)"
   ]
  },
  {
   "cell_type": "code",
   "execution_count": 25,
   "id": "available-monaco",
   "metadata": {},
   "outputs": [
    {
     "data": {
      "text/plain": [
       "<tf.Tensor: shape=(25,), dtype=float32, numpy=\n",
       "array([ 0.,  1.,  2.,  3.,  4.,  5.,  6.,  7.,  8.,  9., 10., 11., 12.,\n",
       "       13., 14., 15., 16., 17., 18., 19., 20., 21., 22., 23., 24.],\n",
       "      dtype=float32)>"
      ]
     },
     "execution_count": 25,
     "metadata": {},
     "output_type": "execute_result"
    }
   ],
   "source": [
    "tf.range(25, dtype=tf.float32)"
   ]
  },
  {
   "cell_type": "code",
   "execution_count": 26,
   "id": "heavy-sacramento",
   "metadata": {},
   "outputs": [
    {
     "data": {
      "text/plain": [
       "Text(0.5, 0, 'Train Step')"
      ]
     },
     "execution_count": 26,
     "metadata": {},
     "output_type": "execute_result"
    },
    {
     "data": {
      "image/png": "[encoded data removed]",
      "text/plain": [
       "<Figure size 576x432 with 1 Axes>"
      ]
     },
     "metadata": {
      "needs_background": "light"
     },
     "output_type": "display_data"
    }
   ],
   "source": [
    "temp_lr_schedule = CustomSchedule()\n",
    "plt.figure(figsize = (8,6))\n",
    "lrs = temp_lr_schedule(tf.range(40000000, dtype=tf.float32))\n",
    "plt.plot(lrs)\n",
    "plt.ylabel(\"Learning Rate\")\n",
    "plt.xlabel(\"Train Step\")"
   ]
  },
  {
   "cell_type": "code",
   "execution_count": 27,
   "id": "initial-harbor",
   "metadata": {},
   "outputs": [
    {
     "data": {
      "text/plain": [
       "<tf.Tensor: shape=(40000000,), dtype=float32, numpy=\n",
       "array([0.05      , 0.04999999, 0.04999998, ..., 0.00091578, 0.00091578,\n",
       "       0.00091578], dtype=float32)>"
      ]
     },
     "execution_count": 27,
     "metadata": {},
     "output_type": "execute_result"
    }
   ],
   "source": [
    "lrs"
   ]
  },
  {
   "cell_type": "code",
   "execution_count": 28,
   "id": "warming-equation",
   "metadata": {},
   "outputs": [],
   "source": [
    "size_histories = {}"
   ]
  },
  {
   "cell_type": "markdown",
   "id": "threaded-tract",
   "metadata": {},
   "source": [
    "##  Paper: https://archive.ics.uci.edu/ml/datasets/HIGGS\n",
    "### https://github.com/uci-igb/higgs-susy/blob/master/higgs/layers4_width300_lr005_m200_wd000001_all.py\n",
    "### https://www.tensorflow.org/api_docs/python/tf/keras/initializers/RandomNormal"
   ]
  },
  {
   "cell_type": "markdown",
   "id": "white-porter",
   "metadata": {},
   "source": [
    "#### Basically this tells our models where to initialize for each layer in the deep learning model"
   ]
  },
  {
   "cell_type": "code",
   "execution_count": 29,
   "id": "billion-tobago",
   "metadata": {},
   "outputs": [],
   "source": [
    "\n",
    "first_initializer = tf.keras.initializers.RandomNormal(mean=0., stddev=0.1, seed=42)\n",
    "outer_initializer = tf.keras.initializers.RandomNormal(mean=0., stddev=0.001, seed=42)\n",
    "other_initializers = tf.keras.initializers.RandomNormal(mean=0., stddev=0.05, seed=42)\n",
    "\n",
    "\n",
    "weight_decay=0.00001\n",
    "paper_model = tf.keras.Sequential([\n",
    "    layers.Dense(300, activation='tanh', input_shape=(FEATURES,), kernel_initializer=first_initializer, kernel_regularizer=l2(weight_decay)),\n",
    "    layers.Dense(300, activation='tanh', kernel_initializer=other_initializers, kernel_regularizer=l2(weight_decay)),\n",
    "    #layers.Dropout(0.5), \n",
    "    layers.Dense(300, activation='tanh', kernel_initializer=other_initializers, kernel_regularizer=l2(weight_decay)),\n",
    "    layers.Dense(300, activation='tanh', kernel_initializer=other_initializers, kernel_regularizer=l2(weight_decay)),\n",
    "    layers.Dropout(0.5), \n",
    "    layers.Dense(1, activation='sigmoid', kernel_initializer=outer_initializer, kernel_regularizer=l2(weight_decay))\n",
    "    \n",
    "])"
   ]
  },
  {
   "cell_type": "markdown",
   "id": "together-compatibility",
   "metadata": {},
   "source": [
    "## Paper Model Architecture "
   ]
  },
  {
   "cell_type": "code",
   "execution_count": 30,
   "id": "dangerous-greensboro",
   "metadata": {},
   "outputs": [
    {
     "name": "stdout",
     "output_type": "stream",
     "text": [
      "Model: \"sequential\"\n",
      "_________________________________________________________________\n",
      "Layer (type)                 Output Shape              Param #   \n",
      "=================================================================\n",
      "dense (Dense)                (None, 300)               8700      \n",
      "_________________________________________________________________\n",
      "dense_1 (Dense)              (None, 300)               90300     \n",
      "_________________________________________________________________\n",
      "dropout (Dropout)            (None, 300)               0         \n",
      "_________________________________________________________________\n",
      "dense_2 (Dense)              (None, 300)               90300     \n",
      "_________________________________________________________________\n",
      "dense_3 (Dense)              (None, 300)               90300     \n",
      "_________________________________________________________________\n",
      "dense_4 (Dense)              (None, 1)                 301       \n",
      "=================================================================\n",
      "Total params: 279,901\n",
      "Trainable params: 279,901\n",
      "Non-trainable params: 0\n",
      "_________________________________________________________________\n",
      "Epoch 1/10000\n",
      "\n",
      "Epoch: 0, AUC:0.5130,  accuracy:0.4733,  binary_crossentropy:0.7034,  loss:0.7109,  val_AUC:0.5441,  val_accuracy:0.4600,  val_binary_crossentropy:0.6897,  val_loss:0.6973,  \n",
      ".20/20 - 1s - loss: 0.7109 - AUC: 0.5130 - binary_crossentropy: 0.7034 - accuracy: 0.4733 - val_loss: 0.6973 - val_AUC: 0.5441 - val_binary_crossentropy: 0.6897 - val_accuracy: 0.4600\n",
      "Epoch 2/10000\n",
      ".20/20 - 0s - loss: 0.6998 - AUC: 0.5102 - binary_crossentropy: 0.6923 - accuracy: 0.4738 - val_loss: 0.6968 - val_AUC: 0.5621 - val_binary_crossentropy: 0.6893 - val_accuracy: 0.4600\n",
      "Epoch 3/10000\n",
      ".20/20 - 0s - loss: 0.6982 - AUC: 0.5463 - binary_crossentropy: 0.6906 - accuracy: 0.4738 - val_loss: 0.6963 - val_AUC: 0.5732 - val_binary_crossentropy: 0.6888 - val_accuracy: 0.4600\n",
      "Epoch 4/10000\n",
      ".20/20 - 0s - loss: 0.6976 - AUC: 0.5596 - binary_crossentropy: 0.6900 - accuracy: 0.4738 - val_loss: 0.6955 - val_AUC: 0.5839 - val_binary_crossentropy: 0.6879 - val_accuracy: 0.4600\n",
      "Epoch 5/10000\n",
      ".20/20 - 0s - loss: 0.6967 - AUC: 0.5665 - binary_crossentropy: 0.6891 - accuracy: 0.4738 - val_loss: 0.6939 - val_AUC: 0.5873 - val_binary_crossentropy: 0.6863 - val_accuracy: 0.4600\n",
      "Epoch 6/10000\n",
      ".20/20 - 0s - loss: 0.6954 - AUC: 0.5808 - binary_crossentropy: 0.6878 - accuracy: 0.4755 - val_loss: 0.6925 - val_AUC: 0.5883 - val_binary_crossentropy: 0.6850 - val_accuracy: 0.4600\n",
      "Epoch 7/10000\n",
      ".20/20 - 0s - loss: 0.6936 - AUC: 0.5874 - binary_crossentropy: 0.6861 - accuracy: 0.4807 - val_loss: 0.6906 - val_AUC: 0.5907 - val_binary_crossentropy: 0.6830 - val_accuracy: 0.4670\n",
      "Epoch 8/10000\n",
      ".20/20 - 0s - loss: 0.6917 - AUC: 0.5949 - binary_crossentropy: 0.6841 - accuracy: 0.4905 - val_loss: 0.6886 - val_AUC: 0.5932 - val_binary_crossentropy: 0.6810 - val_accuracy: 0.4800\n",
      "Epoch 9/10000\n",
      ".20/20 - 0s - loss: 0.6891 - AUC: 0.6039 - binary_crossentropy: 0.6815 - accuracy: 0.5034 - val_loss: 0.6859 - val_AUC: 0.5992 - val_binary_crossentropy: 0.6783 - val_accuracy: 0.5050\n",
      "Epoch 10/10000\n",
      ".20/20 - 0s - loss: 0.6857 - AUC: 0.6167 - binary_crossentropy: 0.6781 - accuracy: 0.5209 - val_loss: 0.6840 - val_AUC: 0.6047 - val_binary_crossentropy: 0.6764 - val_accuracy: 0.5080\n",
      "Epoch 11/10000\n",
      ".20/20 - 0s - loss: 0.6839 - AUC: 0.6227 - binary_crossentropy: 0.6763 - accuracy: 0.5380 - val_loss: 0.6830 - val_AUC: 0.6092 - val_binary_crossentropy: 0.6755 - val_accuracy: 0.5100\n",
      "Epoch 12/10000\n",
      ".20/20 - 0s - loss: 0.6822 - AUC: 0.6297 - binary_crossentropy: 0.6746 - accuracy: 0.5412 - val_loss: 0.6816 - val_AUC: 0.6165 - val_binary_crossentropy: 0.6740 - val_accuracy: 0.5160\n",
      "Epoch 13/10000\n",
      ".20/20 - 0s - loss: 0.6814 - AUC: 0.6307 - binary_crossentropy: 0.6739 - accuracy: 0.5464 - val_loss: 0.6803 - val_AUC: 0.6218 - val_binary_crossentropy: 0.6728 - val_accuracy: 0.5220\n",
      "Epoch 14/10000\n",
      ".20/20 - 0s - loss: 0.6799 - AUC: 0.6367 - binary_crossentropy: 0.6723 - accuracy: 0.5528 - val_loss: 0.6796 - val_AUC: 0.6286 - val_binary_crossentropy: 0.6720 - val_accuracy: 0.5290\n",
      "Epoch 15/10000\n",
      ".20/20 - 0s - loss: 0.6789 - AUC: 0.6377 - binary_crossentropy: 0.6713 - accuracy: 0.5615 - val_loss: 0.6787 - val_AUC: 0.6281 - val_binary_crossentropy: 0.6711 - val_accuracy: 0.5470\n",
      "Epoch 16/10000\n",
      ".20/20 - 0s - loss: 0.6787 - AUC: 0.6389 - binary_crossentropy: 0.6711 - accuracy: 0.5576 - val_loss: 0.6781 - val_AUC: 0.6307 - val_binary_crossentropy: 0.6706 - val_accuracy: 0.5330\n",
      "Epoch 17/10000\n",
      ".20/20 - 0s - loss: 0.6779 - AUC: 0.6443 - binary_crossentropy: 0.6703 - accuracy: 0.5573 - val_loss: 0.6771 - val_AUC: 0.6342 - val_binary_crossentropy: 0.6696 - val_accuracy: 0.5570\n",
      "Epoch 18/10000\n",
      ".20/20 - 0s - loss: 0.6774 - AUC: 0.6466 - binary_crossentropy: 0.6698 - accuracy: 0.5722 - val_loss: 0.6767 - val_AUC: 0.6381 - val_binary_crossentropy: 0.6692 - val_accuracy: 0.5360\n",
      "Epoch 19/10000\n",
      ".20/20 - 0s - loss: 0.6768 - AUC: 0.6447 - binary_crossentropy: 0.6693 - accuracy: 0.5720 - val_loss: 0.6784 - val_AUC: 0.6318 - val_binary_crossentropy: 0.6709 - val_accuracy: 0.5260\n",
      "Epoch 20/10000\n",
      ".20/20 - 0s - loss: 0.6776 - AUC: 0.6446 - binary_crossentropy: 0.6700 - accuracy: 0.5666 - val_loss: 0.6762 - val_AUC: 0.6348 - val_binary_crossentropy: 0.6686 - val_accuracy: 0.5440\n",
      "Epoch 21/10000\n",
      ".20/20 - 0s - loss: 0.6762 - AUC: 0.6464 - binary_crossentropy: 0.6687 - accuracy: 0.5717 - val_loss: 0.6772 - val_AUC: 0.6330 - val_binary_crossentropy: 0.6696 - val_accuracy: 0.5310\n",
      "Epoch 22/10000\n",
      ".20/20 - 0s - loss: 0.6758 - AUC: 0.6486 - binary_crossentropy: 0.6682 - accuracy: 0.5723 - val_loss: 0.6752 - val_AUC: 0.6392 - val_binary_crossentropy: 0.6676 - val_accuracy: 0.5710\n",
      "Epoch 23/10000\n",
      ".20/20 - 0s - loss: 0.6753 - AUC: 0.6487 - binary_crossentropy: 0.6678 - accuracy: 0.5804 - val_loss: 0.6745 - val_AUC: 0.6442 - val_binary_crossentropy: 0.6670 - val_accuracy: 0.5590\n",
      "Epoch 24/10000\n",
      ".20/20 - 0s - loss: 0.6748 - AUC: 0.6491 - binary_crossentropy: 0.6672 - accuracy: 0.5733 - val_loss: 0.6751 - val_AUC: 0.6348 - val_binary_crossentropy: 0.6676 - val_accuracy: 0.5600\n",
      "Epoch 25/10000\n",
      ".20/20 - 0s - loss: 0.6739 - AUC: 0.6500 - binary_crossentropy: 0.6664 - accuracy: 0.5801 - val_loss: 0.6750 - val_AUC: 0.6401 - val_binary_crossentropy: 0.6675 - val_accuracy: 0.5730\n",
      "Epoch 26/10000\n",
      ".20/20 - 0s - loss: 0.6757 - AUC: 0.6480 - binary_crossentropy: 0.6682 - accuracy: 0.5773 - val_loss: 0.6738 - val_AUC: 0.6390 - val_binary_crossentropy: 0.6663 - val_accuracy: 0.5650\n",
      "Epoch 27/10000\n",
      ".20/20 - 0s - loss: 0.6741 - AUC: 0.6513 - binary_crossentropy: 0.6666 - accuracy: 0.5809 - val_loss: 0.6738 - val_AUC: 0.6417 - val_binary_crossentropy: 0.6663 - val_accuracy: 0.5570\n",
      "Epoch 28/10000\n",
      ".20/20 - 0s - loss: 0.6743 - AUC: 0.6523 - binary_crossentropy: 0.6667 - accuracy: 0.5807 - val_loss: 0.6733 - val_AUC: 0.6443 - val_binary_crossentropy: 0.6658 - val_accuracy: 0.5650\n",
      "Epoch 29/10000\n",
      ".20/20 - 0s - loss: 0.6733 - AUC: 0.6518 - binary_crossentropy: 0.6657 - accuracy: 0.5847 - val_loss: 0.6738 - val_AUC: 0.6438 - val_binary_crossentropy: 0.6663 - val_accuracy: 0.5840\n",
      "Epoch 30/10000\n",
      ".20/20 - 0s - loss: 0.6735 - AUC: 0.6526 - binary_crossentropy: 0.6659 - accuracy: 0.5831 - val_loss: 0.6735 - val_AUC: 0.6419 - val_binary_crossentropy: 0.6659 - val_accuracy: 0.5690\n",
      "Epoch 31/10000\n",
      ".20/20 - 0s - loss: 0.6726 - AUC: 0.6562 - binary_crossentropy: 0.6651 - accuracy: 0.5867 - val_loss: 0.6732 - val_AUC: 0.6452 - val_binary_crossentropy: 0.6657 - val_accuracy: 0.5700\n",
      "Epoch 32/10000\n",
      ".20/20 - 0s - loss: 0.6741 - AUC: 0.6548 - binary_crossentropy: 0.6666 - accuracy: 0.5840 - val_loss: 0.6716 - val_AUC: 0.6504 - val_binary_crossentropy: 0.6641 - val_accuracy: 0.5800\n",
      "Epoch 33/10000\n",
      ".20/20 - 0s - loss: 0.6740 - AUC: 0.6501 - binary_crossentropy: 0.6665 - accuracy: 0.5808 - val_loss: 0.6749 - val_AUC: 0.6417 - val_binary_crossentropy: 0.6674 - val_accuracy: 0.5470\n",
      "Epoch 34/10000\n",
      ".20/20 - 0s - loss: 0.6729 - AUC: 0.6530 - binary_crossentropy: 0.6653 - accuracy: 0.5860 - val_loss: 0.6729 - val_AUC: 0.6440 - val_binary_crossentropy: 0.6653 - val_accuracy: 0.5770\n",
      "Epoch 35/10000\n",
      ".20/20 - 0s - loss: 0.6716 - AUC: 0.6579 - binary_crossentropy: 0.6641 - accuracy: 0.5902 - val_loss: 0.6727 - val_AUC: 0.6510 - val_binary_crossentropy: 0.6652 - val_accuracy: 0.5810\n"
     ]
    },
    {
     "name": "stdout",
     "output_type": "stream",
     "text": [
      "Epoch 36/10000\n",
      ".20/20 - 0s - loss: 0.6729 - AUC: 0.6543 - binary_crossentropy: 0.6653 - accuracy: 0.5868 - val_loss: 0.6712 - val_AUC: 0.6513 - val_binary_crossentropy: 0.6637 - val_accuracy: 0.5770\n",
      "Epoch 37/10000\n",
      ".20/20 - 0s - loss: 0.6725 - AUC: 0.6553 - binary_crossentropy: 0.6650 - accuracy: 0.5884 - val_loss: 0.6731 - val_AUC: 0.6413 - val_binary_crossentropy: 0.6656 - val_accuracy: 0.5580\n",
      "Epoch 38/10000\n",
      ".20/20 - 0s - loss: 0.6723 - AUC: 0.6537 - binary_crossentropy: 0.6648 - accuracy: 0.5871 - val_loss: 0.6722 - val_AUC: 0.6457 - val_binary_crossentropy: 0.6646 - val_accuracy: 0.5660\n",
      "Epoch 39/10000\n",
      ".20/20 - 0s - loss: 0.6717 - AUC: 0.6533 - binary_crossentropy: 0.6642 - accuracy: 0.5892 - val_loss: 0.6716 - val_AUC: 0.6467 - val_binary_crossentropy: 0.6641 - val_accuracy: 0.5700\n",
      "Epoch 40/10000\n",
      ".20/20 - 0s - loss: 0.6714 - AUC: 0.6574 - binary_crossentropy: 0.6638 - accuracy: 0.5961 - val_loss: 0.6709 - val_AUC: 0.6506 - val_binary_crossentropy: 0.6634 - val_accuracy: 0.5770\n",
      "Epoch 41/10000\n",
      ".20/20 - 0s - loss: 0.6711 - AUC: 0.6577 - binary_crossentropy: 0.6636 - accuracy: 0.5915 - val_loss: 0.6727 - val_AUC: 0.6466 - val_binary_crossentropy: 0.6652 - val_accuracy: 0.5700\n",
      "Epoch 42/10000\n",
      ".20/20 - 0s - loss: 0.6702 - AUC: 0.6603 - binary_crossentropy: 0.6627 - accuracy: 0.5975 - val_loss: 0.6718 - val_AUC: 0.6498 - val_binary_crossentropy: 0.6642 - val_accuracy: 0.5730\n",
      "Epoch 43/10000\n",
      ".20/20 - 0s - loss: 0.6716 - AUC: 0.6576 - binary_crossentropy: 0.6640 - accuracy: 0.5906 - val_loss: 0.6728 - val_AUC: 0.6546 - val_binary_crossentropy: 0.6652 - val_accuracy: 0.5960\n",
      "Epoch 44/10000\n",
      ".20/20 - 0s - loss: 0.6719 - AUC: 0.6555 - binary_crossentropy: 0.6644 - accuracy: 0.5885 - val_loss: 0.6732 - val_AUC: 0.6518 - val_binary_crossentropy: 0.6657 - val_accuracy: 0.5860\n",
      "Epoch 45/10000\n",
      ".20/20 - 0s - loss: 0.6701 - AUC: 0.6598 - binary_crossentropy: 0.6626 - accuracy: 0.5959 - val_loss: 0.6725 - val_AUC: 0.6477 - val_binary_crossentropy: 0.6650 - val_accuracy: 0.5550\n",
      "Epoch 46/10000\n",
      ".20/20 - 0s - loss: 0.6710 - AUC: 0.6569 - binary_crossentropy: 0.6635 - accuracy: 0.5919 - val_loss: 0.6720 - val_AUC: 0.6468 - val_binary_crossentropy: 0.6645 - val_accuracy: 0.5690\n",
      "Epoch 47/10000\n",
      ".20/20 - 0s - loss: 0.6710 - AUC: 0.6593 - binary_crossentropy: 0.6634 - accuracy: 0.5931 - val_loss: 0.6708 - val_AUC: 0.6560 - val_binary_crossentropy: 0.6632 - val_accuracy: 0.5750\n",
      "Epoch 48/10000\n",
      ".20/20 - 0s - loss: 0.6700 - AUC: 0.6625 - binary_crossentropy: 0.6625 - accuracy: 0.5988 - val_loss: 0.6711 - val_AUC: 0.6578 - val_binary_crossentropy: 0.6635 - val_accuracy: 0.5890\n",
      "Epoch 49/10000\n",
      ".20/20 - 0s - loss: 0.6698 - AUC: 0.6648 - binary_crossentropy: 0.6623 - accuracy: 0.5985 - val_loss: 0.6700 - val_AUC: 0.6567 - val_binary_crossentropy: 0.6625 - val_accuracy: 0.5760\n",
      "Epoch 50/10000\n",
      ".20/20 - 0s - loss: 0.6685 - AUC: 0.6632 - binary_crossentropy: 0.6610 - accuracy: 0.6007 - val_loss: 0.6704 - val_AUC: 0.6591 - val_binary_crossentropy: 0.6628 - val_accuracy: 0.5910\n",
      "Epoch 51/10000\n",
      ".20/20 - 0s - loss: 0.6687 - AUC: 0.6669 - binary_crossentropy: 0.6612 - accuracy: 0.6000 - val_loss: 0.6697 - val_AUC: 0.6616 - val_binary_crossentropy: 0.6622 - val_accuracy: 0.5930\n",
      "Epoch 52/10000\n",
      ".20/20 - 0s - loss: 0.6693 - AUC: 0.6670 - binary_crossentropy: 0.6618 - accuracy: 0.5980 - val_loss: 0.6703 - val_AUC: 0.6642 - val_binary_crossentropy: 0.6628 - val_accuracy: 0.6160\n",
      "Epoch 53/10000\n",
      ".20/20 - 0s - loss: 0.6696 - AUC: 0.6673 - binary_crossentropy: 0.6621 - accuracy: 0.6021 - val_loss: 0.6705 - val_AUC: 0.6575 - val_binary_crossentropy: 0.6630 - val_accuracy: 0.5720\n",
      "Epoch 54/10000\n",
      ".20/20 - 0s - loss: 0.6686 - AUC: 0.6651 - binary_crossentropy: 0.6610 - accuracy: 0.5976 - val_loss: 0.6688 - val_AUC: 0.6625 - val_binary_crossentropy: 0.6613 - val_accuracy: 0.5850\n",
      "Epoch 55/10000\n",
      ".20/20 - 0s - loss: 0.6679 - AUC: 0.6698 - binary_crossentropy: 0.6604 - accuracy: 0.6036 - val_loss: 0.6690 - val_AUC: 0.6585 - val_binary_crossentropy: 0.6615 - val_accuracy: 0.5740\n",
      "Epoch 56/10000\n",
      ".20/20 - 0s - loss: 0.6674 - AUC: 0.6701 - binary_crossentropy: 0.6599 - accuracy: 0.6046 - val_loss: 0.6669 - val_AUC: 0.6704 - val_binary_crossentropy: 0.6594 - val_accuracy: 0.5970\n",
      "Epoch 57/10000\n",
      ".20/20 - 0s - loss: 0.6666 - AUC: 0.6695 - binary_crossentropy: 0.6591 - accuracy: 0.6080 - val_loss: 0.6684 - val_AUC: 0.6600 - val_binary_crossentropy: 0.6609 - val_accuracy: 0.5770\n",
      "Epoch 58/10000\n",
      ".20/20 - 0s - loss: 0.6677 - AUC: 0.6707 - binary_crossentropy: 0.6601 - accuracy: 0.6043 - val_loss: 0.6713 - val_AUC: 0.6545 - val_binary_crossentropy: 0.6638 - val_accuracy: 0.5630\n",
      "Epoch 59/10000\n",
      ".20/20 - 0s - loss: 0.6677 - AUC: 0.6674 - binary_crossentropy: 0.6602 - accuracy: 0.5990 - val_loss: 0.6672 - val_AUC: 0.6637 - val_binary_crossentropy: 0.6597 - val_accuracy: 0.5940\n",
      "Epoch 60/10000\n",
      ".20/20 - 0s - loss: 0.6666 - AUC: 0.6724 - binary_crossentropy: 0.6591 - accuracy: 0.6067 - val_loss: 0.6680 - val_AUC: 0.6617 - val_binary_crossentropy: 0.6605 - val_accuracy: 0.5840\n",
      "Epoch 61/10000\n",
      ".20/20 - 0s - loss: 0.6666 - AUC: 0.6687 - binary_crossentropy: 0.6591 - accuracy: 0.6114 - val_loss: 0.6686 - val_AUC: 0.6627 - val_binary_crossentropy: 0.6611 - val_accuracy: 0.5770\n",
      "Epoch 62/10000\n",
      ".20/20 - 0s - loss: 0.6669 - AUC: 0.6693 - binary_crossentropy: 0.6594 - accuracy: 0.6036 - val_loss: 0.6681 - val_AUC: 0.6645 - val_binary_crossentropy: 0.6606 - val_accuracy: 0.6010\n",
      "Epoch 63/10000\n",
      ".20/20 - 0s - loss: 0.6657 - AUC: 0.6743 - binary_crossentropy: 0.6582 - accuracy: 0.6100 - val_loss: 0.6698 - val_AUC: 0.6495 - val_binary_crossentropy: 0.6623 - val_accuracy: 0.5670\n",
      "Epoch 64/10000\n",
      ".20/20 - 0s - loss: 0.6664 - AUC: 0.6702 - binary_crossentropy: 0.6588 - accuracy: 0.6075 - val_loss: 0.6674 - val_AUC: 0.6622 - val_binary_crossentropy: 0.6599 - val_accuracy: 0.5840\n",
      "Epoch 65/10000\n",
      ".20/20 - 0s - loss: 0.6659 - AUC: 0.6720 - binary_crossentropy: 0.6584 - accuracy: 0.6105 - val_loss: 0.6676 - val_AUC: 0.6715 - val_binary_crossentropy: 0.6600 - val_accuracy: 0.6090\n",
      "Epoch 66/10000\n",
      ".20/20 - 0s - loss: 0.6660 - AUC: 0.6767 - binary_crossentropy: 0.6584 - accuracy: 0.6090 - val_loss: 0.6675 - val_AUC: 0.6617 - val_binary_crossentropy: 0.6600 - val_accuracy: 0.5880\n",
      "Epoch 67/10000\n",
      ".20/20 - 0s - loss: 0.6637 - AUC: 0.6792 - binary_crossentropy: 0.6562 - accuracy: 0.6165 - val_loss: 0.6652 - val_AUC: 0.6670 - val_binary_crossentropy: 0.6577 - val_accuracy: 0.5930\n",
      "Epoch 68/10000\n",
      ".20/20 - 0s - loss: 0.6647 - AUC: 0.6804 - binary_crossentropy: 0.6572 - accuracy: 0.6116 - val_loss: 0.6654 - val_AUC: 0.6716 - val_binary_crossentropy: 0.6579 - val_accuracy: 0.5900\n",
      "Epoch 69/10000\n",
      ".20/20 - 0s - loss: 0.6646 - AUC: 0.6794 - binary_crossentropy: 0.6571 - accuracy: 0.6193 - val_loss: 0.6662 - val_AUC: 0.6638 - val_binary_crossentropy: 0.6587 - val_accuracy: 0.5810\n",
      "Epoch 70/10000\n",
      ".20/20 - 0s - loss: 0.6638 - AUC: 0.6806 - binary_crossentropy: 0.6563 - accuracy: 0.6127 - val_loss: 0.6647 - val_AUC: 0.6703 - val_binary_crossentropy: 0.6571 - val_accuracy: 0.5820\n",
      "Epoch 71/10000\n",
      ".20/20 - 0s - loss: 0.6629 - AUC: 0.6825 - binary_crossentropy: 0.6554 - accuracy: 0.6180 - val_loss: 0.6663 - val_AUC: 0.6670 - val_binary_crossentropy: 0.6588 - val_accuracy: 0.5920\n",
      "Epoch 72/10000\n",
      ".20/20 - 0s - loss: 0.6623 - AUC: 0.6828 - binary_crossentropy: 0.6547 - accuracy: 0.6232 - val_loss: 0.6634 - val_AUC: 0.6769 - val_binary_crossentropy: 0.6559 - val_accuracy: 0.5970\n",
      "Epoch 73/10000\n",
      ".20/20 - 0s - loss: 0.6659 - AUC: 0.6726 - binary_crossentropy: 0.6584 - accuracy: 0.6069 - val_loss: 0.6673 - val_AUC: 0.6609 - val_binary_crossentropy: 0.6598 - val_accuracy: 0.5730\n",
      "Epoch 74/10000\n",
      ".20/20 - 0s - loss: 0.6637 - AUC: 0.6841 - binary_crossentropy: 0.6561 - accuracy: 0.6176 - val_loss: 0.6648 - val_AUC: 0.6729 - val_binary_crossentropy: 0.6573 - val_accuracy: 0.6040\n",
      "Epoch 75/10000\n",
      ".20/20 - 0s - loss: 0.6636 - AUC: 0.6806 - binary_crossentropy: 0.6561 - accuracy: 0.6129 - val_loss: 0.6624 - val_AUC: 0.6786 - val_binary_crossentropy: 0.6549 - val_accuracy: 0.6030\n",
      "Epoch 76/10000\n",
      ".20/20 - 0s - loss: 0.6632 - AUC: 0.6838 - binary_crossentropy: 0.6557 - accuracy: 0.6189 - val_loss: 0.6630 - val_AUC: 0.6777 - val_binary_crossentropy: 0.6555 - val_accuracy: 0.6170\n",
      "Epoch 77/10000\n",
      ".20/20 - 0s - loss: 0.6624 - AUC: 0.6822 - binary_crossentropy: 0.6549 - accuracy: 0.6195 - val_loss: 0.6647 - val_AUC: 0.6689 - val_binary_crossentropy: 0.6572 - val_accuracy: 0.5840\n"
     ]
    },
    {
     "name": "stdout",
     "output_type": "stream",
     "text": [
      "Epoch 78/10000\n",
      ".20/20 - 0s - loss: 0.6623 - AUC: 0.6859 - binary_crossentropy: 0.6548 - accuracy: 0.6246 - val_loss: 0.6624 - val_AUC: 0.6681 - val_binary_crossentropy: 0.6549 - val_accuracy: 0.5880\n",
      "Epoch 79/10000\n",
      ".20/20 - 0s - loss: 0.6629 - AUC: 0.6803 - binary_crossentropy: 0.6553 - accuracy: 0.6160 - val_loss: 0.6705 - val_AUC: 0.6532 - val_binary_crossentropy: 0.6630 - val_accuracy: 0.5590\n",
      "Epoch 80/10000\n",
      ".20/20 - 0s - loss: 0.6640 - AUC: 0.6790 - binary_crossentropy: 0.6564 - accuracy: 0.6205 - val_loss: 0.6651 - val_AUC: 0.6680 - val_binary_crossentropy: 0.6576 - val_accuracy: 0.5900\n",
      "Epoch 81/10000\n",
      ".20/20 - 0s - loss: 0.6640 - AUC: 0.6795 - binary_crossentropy: 0.6565 - accuracy: 0.6165 - val_loss: 0.6642 - val_AUC: 0.6799 - val_binary_crossentropy: 0.6567 - val_accuracy: 0.6200\n",
      "Epoch 82/10000\n",
      ".20/20 - 0s - loss: 0.6616 - AUC: 0.6877 - binary_crossentropy: 0.6541 - accuracy: 0.6226 - val_loss: 0.6633 - val_AUC: 0.6761 - val_binary_crossentropy: 0.6558 - val_accuracy: 0.6100\n",
      "Epoch 83/10000\n",
      ".20/20 - 0s - loss: 0.6600 - AUC: 0.6927 - binary_crossentropy: 0.6524 - accuracy: 0.6285 - val_loss: 0.6624 - val_AUC: 0.6930 - val_binary_crossentropy: 0.6549 - val_accuracy: 0.6210\n",
      "Epoch 84/10000\n",
      ".20/20 - 0s - loss: 0.6595 - AUC: 0.6960 - binary_crossentropy: 0.6520 - accuracy: 0.6320 - val_loss: 0.6657 - val_AUC: 0.6723 - val_binary_crossentropy: 0.6582 - val_accuracy: 0.5850\n",
      "Epoch 85/10000\n",
      ".20/20 - 0s - loss: 0.6606 - AUC: 0.6895 - binary_crossentropy: 0.6530 - accuracy: 0.6267 - val_loss: 0.6620 - val_AUC: 0.6746 - val_binary_crossentropy: 0.6545 - val_accuracy: 0.5980\n",
      "Epoch 86/10000\n",
      ".20/20 - 0s - loss: 0.6602 - AUC: 0.6922 - binary_crossentropy: 0.6526 - accuracy: 0.6249 - val_loss: 0.6626 - val_AUC: 0.6807 - val_binary_crossentropy: 0.6551 - val_accuracy: 0.6160\n",
      "Epoch 87/10000\n",
      ".20/20 - 0s - loss: 0.6580 - AUC: 0.6974 - binary_crossentropy: 0.6504 - accuracy: 0.6402 - val_loss: 0.6612 - val_AUC: 0.6888 - val_binary_crossentropy: 0.6537 - val_accuracy: 0.6050\n",
      "Epoch 88/10000\n",
      ".20/20 - 0s - loss: 0.6581 - AUC: 0.6957 - binary_crossentropy: 0.6506 - accuracy: 0.6329 - val_loss: 0.6613 - val_AUC: 0.6802 - val_binary_crossentropy: 0.6538 - val_accuracy: 0.6010\n",
      "Epoch 89/10000\n",
      ".20/20 - 0s - loss: 0.6596 - AUC: 0.6928 - binary_crossentropy: 0.6521 - accuracy: 0.6321 - val_loss: 0.6599 - val_AUC: 0.6957 - val_binary_crossentropy: 0.6524 - val_accuracy: 0.6260\n",
      "Epoch 90/10000\n",
      ".20/20 - 0s - loss: 0.6614 - AUC: 0.6884 - binary_crossentropy: 0.6538 - accuracy: 0.6258 - val_loss: 0.6585 - val_AUC: 0.6914 - val_binary_crossentropy: 0.6509 - val_accuracy: 0.6250\n",
      "Epoch 91/10000\n",
      ".20/20 - 0s - loss: 0.6582 - AUC: 0.6947 - binary_crossentropy: 0.6506 - accuracy: 0.6362 - val_loss: 0.6608 - val_AUC: 0.6816 - val_binary_crossentropy: 0.6532 - val_accuracy: 0.6170\n",
      "Epoch 92/10000\n",
      ".20/20 - 0s - loss: 0.6588 - AUC: 0.6915 - binary_crossentropy: 0.6512 - accuracy: 0.6309 - val_loss: 0.6618 - val_AUC: 0.6929 - val_binary_crossentropy: 0.6542 - val_accuracy: 0.6300\n",
      "Epoch 93/10000\n",
      ".20/20 - 0s - loss: 0.6606 - AUC: 0.6913 - binary_crossentropy: 0.6530 - accuracy: 0.6272 - val_loss: 0.6602 - val_AUC: 0.6891 - val_binary_crossentropy: 0.6526 - val_accuracy: 0.6200\n",
      "Epoch 94/10000\n",
      ".20/20 - 0s - loss: 0.6593 - AUC: 0.6926 - binary_crossentropy: 0.6517 - accuracy: 0.6331 - val_loss: 0.6610 - val_AUC: 0.6764 - val_binary_crossentropy: 0.6534 - val_accuracy: 0.6080\n",
      "Epoch 95/10000\n",
      ".20/20 - 0s - loss: 0.6593 - AUC: 0.6906 - binary_crossentropy: 0.6517 - accuracy: 0.6309 - val_loss: 0.6637 - val_AUC: 0.6644 - val_binary_crossentropy: 0.6562 - val_accuracy: 0.5810\n",
      "Epoch 96/10000\n",
      ".20/20 - 0s - loss: 0.6584 - AUC: 0.6954 - binary_crossentropy: 0.6508 - accuracy: 0.6288 - val_loss: 0.6629 - val_AUC: 0.6687 - val_binary_crossentropy: 0.6553 - val_accuracy: 0.5970\n",
      "Epoch 97/10000\n",
      ".20/20 - 0s - loss: 0.6571 - AUC: 0.6939 - binary_crossentropy: 0.6495 - accuracy: 0.6343 - val_loss: 0.6621 - val_AUC: 0.6758 - val_binary_crossentropy: 0.6546 - val_accuracy: 0.5900\n",
      "Epoch 98/10000\n",
      ".20/20 - 0s - loss: 0.6585 - AUC: 0.6999 - binary_crossentropy: 0.6510 - accuracy: 0.6342 - val_loss: 0.6629 - val_AUC: 0.6736 - val_binary_crossentropy: 0.6554 - val_accuracy: 0.5940\n",
      "Epoch 99/10000\n",
      ".20/20 - 0s - loss: 0.6564 - AUC: 0.7018 - binary_crossentropy: 0.6488 - accuracy: 0.6432 - val_loss: 0.6616 - val_AUC: 0.6840 - val_binary_crossentropy: 0.6540 - val_accuracy: 0.5910\n",
      "Epoch 100/10000\n",
      ".20/20 - 0s - loss: 0.6561 - AUC: 0.6989 - binary_crossentropy: 0.6486 - accuracy: 0.6387 - val_loss: 0.6644 - val_AUC: 0.6665 - val_binary_crossentropy: 0.6569 - val_accuracy: 0.5790\n",
      "Epoch 101/10000\n",
      "\n",
      "Epoch: 100, AUC:0.7002,  accuracy:0.6395,  binary_crossentropy:0.6490,  loss:0.6566,  val_AUC:0.6646,  val_accuracy:0.5720,  val_binary_crossentropy:0.6587,  val_loss:0.6663,  \n",
      ".20/20 - 0s - loss: 0.6566 - AUC: 0.7002 - binary_crossentropy: 0.6490 - accuracy: 0.6395 - val_loss: 0.6663 - val_AUC: 0.6646 - val_binary_crossentropy: 0.6587 - val_accuracy: 0.5720\n",
      "Epoch 102/10000\n",
      ".20/20 - 0s - loss: 0.6644 - AUC: 0.6751 - binary_crossentropy: 0.6569 - accuracy: 0.6148 - val_loss: 0.6596 - val_AUC: 0.6781 - val_binary_crossentropy: 0.6521 - val_accuracy: 0.6050\n",
      "Epoch 103/10000\n",
      ".20/20 - 0s - loss: 0.6625 - AUC: 0.6821 - binary_crossentropy: 0.6550 - accuracy: 0.6160 - val_loss: 0.6685 - val_AUC: 0.6869 - val_binary_crossentropy: 0.6610 - val_accuracy: 0.6420\n",
      "Epoch 104/10000\n",
      ".20/20 - 0s - loss: 0.6628 - AUC: 0.6822 - binary_crossentropy: 0.6552 - accuracy: 0.6201 - val_loss: 0.6591 - val_AUC: 0.6809 - val_binary_crossentropy: 0.6515 - val_accuracy: 0.6130\n",
      "Epoch 105/10000\n",
      ".20/20 - 0s - loss: 0.6600 - AUC: 0.6874 - binary_crossentropy: 0.6525 - accuracy: 0.6292 - val_loss: 0.6613 - val_AUC: 0.6755 - val_binary_crossentropy: 0.6537 - val_accuracy: 0.5990\n",
      "Epoch 106/10000\n",
      ".20/20 - 0s - loss: 0.6545 - AUC: 0.7039 - binary_crossentropy: 0.6469 - accuracy: 0.6445 - val_loss: 0.6584 - val_AUC: 0.6925 - val_binary_crossentropy: 0.6509 - val_accuracy: 0.6280\n",
      "Epoch 107/10000\n",
      ".20/20 - 0s - loss: 0.6530 - AUC: 0.7069 - binary_crossentropy: 0.6454 - accuracy: 0.6460 - val_loss: 0.6590 - val_AUC: 0.6900 - val_binary_crossentropy: 0.6514 - val_accuracy: 0.6150\n",
      "Epoch 108/10000\n",
      ".20/20 - 0s - loss: 0.6534 - AUC: 0.7067 - binary_crossentropy: 0.6458 - accuracy: 0.6483 - val_loss: 0.6586 - val_AUC: 0.6907 - val_binary_crossentropy: 0.6511 - val_accuracy: 0.6260\n",
      "Epoch 109/10000\n",
      ".20/20 - 0s - loss: 0.6542 - AUC: 0.7045 - binary_crossentropy: 0.6467 - accuracy: 0.6419 - val_loss: 0.6601 - val_AUC: 0.6960 - val_binary_crossentropy: 0.6526 - val_accuracy: 0.6430\n",
      "Epoch 110/10000\n",
      ".20/20 - 0s - loss: 0.6590 - AUC: 0.6920 - binary_crossentropy: 0.6514 - accuracy: 0.6343 - val_loss: 0.6594 - val_AUC: 0.6972 - val_binary_crossentropy: 0.6518 - val_accuracy: 0.6470\n",
      "Epoch 111/10000\n",
      ".20/20 - 0s - loss: 0.6759 - AUC: 0.6236 - binary_crossentropy: 0.6683 - accuracy: 0.5718 - val_loss: 0.6598 - val_AUC: 0.6854 - val_binary_crossentropy: 0.6522 - val_accuracy: 0.6260\n",
      "Epoch 112/10000\n",
      ".20/20 - 0s - loss: 0.6589 - AUC: 0.6884 - binary_crossentropy: 0.6513 - accuracy: 0.6263 - val_loss: 0.6612 - val_AUC: 0.6846 - val_binary_crossentropy: 0.6536 - val_accuracy: 0.6370\n",
      "Epoch 113/10000\n",
      ".20/20 - 0s - loss: 0.6560 - AUC: 0.6979 - binary_crossentropy: 0.6485 - accuracy: 0.6431 - val_loss: 0.6574 - val_AUC: 0.6922 - val_binary_crossentropy: 0.6498 - val_accuracy: 0.6250\n",
      "Epoch 114/10000\n",
      ".20/20 - 0s - loss: 0.6542 - AUC: 0.7039 - binary_crossentropy: 0.6466 - accuracy: 0.6472 - val_loss: 0.6570 - val_AUC: 0.6850 - val_binary_crossentropy: 0.6494 - val_accuracy: 0.6200\n",
      "Epoch 115/10000\n",
      ".20/20 - 0s - loss: 0.6533 - AUC: 0.7089 - binary_crossentropy: 0.6457 - accuracy: 0.6479 - val_loss: 0.6612 - val_AUC: 0.6775 - val_binary_crossentropy: 0.6536 - val_accuracy: 0.5970\n",
      "Epoch 116/10000\n",
      ".20/20 - 0s - loss: 0.6545 - AUC: 0.7046 - binary_crossentropy: 0.6469 - accuracy: 0.6410 - val_loss: 0.6591 - val_AUC: 0.6937 - val_binary_crossentropy: 0.6515 - val_accuracy: 0.6410\n",
      "Epoch 117/10000\n",
      ".20/20 - 0s - loss: 0.6573 - AUC: 0.6928 - binary_crossentropy: 0.6497 - accuracy: 0.6369 - val_loss: 0.6577 - val_AUC: 0.6929 - val_binary_crossentropy: 0.6501 - val_accuracy: 0.6380\n",
      "Epoch 118/10000\n",
      ".20/20 - 0s - loss: 0.6547 - AUC: 0.7020 - binary_crossentropy: 0.6471 - accuracy: 0.6495 - val_loss: 0.6581 - val_AUC: 0.6878 - val_binary_crossentropy: 0.6505 - val_accuracy: 0.6310\n"
     ]
    },
    {
     "name": "stdout",
     "output_type": "stream",
     "text": [
      "Epoch 119/10000\n",
      ".20/20 - 0s - loss: 0.6530 - AUC: 0.7088 - binary_crossentropy: 0.6454 - accuracy: 0.6508 - val_loss: 0.6570 - val_AUC: 0.7039 - val_binary_crossentropy: 0.6494 - val_accuracy: 0.6410\n",
      "Epoch 120/10000\n",
      ".20/20 - 0s - loss: 0.6522 - AUC: 0.7064 - binary_crossentropy: 0.6446 - accuracy: 0.6495 - val_loss: 0.6613 - val_AUC: 0.6988 - val_binary_crossentropy: 0.6537 - val_accuracy: 0.6540\n",
      "Epoch 121/10000\n",
      ".20/20 - 0s - loss: 0.6519 - AUC: 0.7056 - binary_crossentropy: 0.6443 - accuracy: 0.6522 - val_loss: 0.6569 - val_AUC: 0.6907 - val_binary_crossentropy: 0.6493 - val_accuracy: 0.6290\n",
      "Epoch 122/10000\n",
      ".20/20 - 0s - loss: 0.6490 - AUC: 0.7128 - binary_crossentropy: 0.6414 - accuracy: 0.6582 - val_loss: 0.6558 - val_AUC: 0.6923 - val_binary_crossentropy: 0.6482 - val_accuracy: 0.6270\n",
      "Epoch 123/10000\n",
      ".20/20 - 0s - loss: 0.6497 - AUC: 0.7153 - binary_crossentropy: 0.6421 - accuracy: 0.6609 - val_loss: 0.6641 - val_AUC: 0.6690 - val_binary_crossentropy: 0.6565 - val_accuracy: 0.5760\n",
      "Epoch 124/10000\n",
      ".20/20 - 0s - loss: 0.6527 - AUC: 0.7038 - binary_crossentropy: 0.6451 - accuracy: 0.6491 - val_loss: 0.6641 - val_AUC: 0.6703 - val_binary_crossentropy: 0.6565 - val_accuracy: 0.5800\n",
      "Epoch 125/10000\n",
      ".20/20 - 0s - loss: 0.6490 - AUC: 0.7105 - binary_crossentropy: 0.6413 - accuracy: 0.6587 - val_loss: 0.6591 - val_AUC: 0.6911 - val_binary_crossentropy: 0.6515 - val_accuracy: 0.6320\n",
      "Epoch 126/10000\n",
      ".20/20 - 0s - loss: 0.6484 - AUC: 0.7146 - binary_crossentropy: 0.6408 - accuracy: 0.6631 - val_loss: 0.6557 - val_AUC: 0.6974 - val_binary_crossentropy: 0.6480 - val_accuracy: 0.6310\n",
      "Epoch 127/10000\n",
      ".20/20 - 0s - loss: 0.6505 - AUC: 0.7114 - binary_crossentropy: 0.6429 - accuracy: 0.6613 - val_loss: 0.6592 - val_AUC: 0.6853 - val_binary_crossentropy: 0.6516 - val_accuracy: 0.6100\n",
      "Epoch 128/10000\n",
      ".20/20 - 0s - loss: 0.6497 - AUC: 0.7136 - binary_crossentropy: 0.6421 - accuracy: 0.6614 - val_loss: 0.6606 - val_AUC: 0.6853 - val_binary_crossentropy: 0.6530 - val_accuracy: 0.6140\n",
      "Epoch 129/10000\n",
      ".20/20 - 0s - loss: 0.6481 - AUC: 0.7109 - binary_crossentropy: 0.6405 - accuracy: 0.6624 - val_loss: 0.6557 - val_AUC: 0.6954 - val_binary_crossentropy: 0.6481 - val_accuracy: 0.6450\n",
      "Epoch 130/10000\n",
      ".20/20 - 0s - loss: 0.6469 - AUC: 0.7163 - binary_crossentropy: 0.6393 - accuracy: 0.6613 - val_loss: 0.6594 - val_AUC: 0.7003 - val_binary_crossentropy: 0.6517 - val_accuracy: 0.6500\n",
      "Epoch 131/10000\n",
      ".20/20 - 0s - loss: 0.6514 - AUC: 0.7087 - binary_crossentropy: 0.6438 - accuracy: 0.6570 - val_loss: 0.6534 - val_AUC: 0.6928 - val_binary_crossentropy: 0.6457 - val_accuracy: 0.6580\n",
      "Epoch 132/10000\n",
      ".20/20 - 0s - loss: 0.6498 - AUC: 0.7111 - binary_crossentropy: 0.6421 - accuracy: 0.6584 - val_loss: 0.6656 - val_AUC: 0.6590 - val_binary_crossentropy: 0.6580 - val_accuracy: 0.5830\n",
      "Epoch 133/10000\n",
      ".20/20 - 0s - loss: 0.6530 - AUC: 0.7074 - binary_crossentropy: 0.6454 - accuracy: 0.6502 - val_loss: 0.6628 - val_AUC: 0.6921 - val_binary_crossentropy: 0.6551 - val_accuracy: 0.6330\n",
      "Epoch 134/10000\n",
      ".20/20 - 0s - loss: 0.6470 - AUC: 0.7154 - binary_crossentropy: 0.6394 - accuracy: 0.6613 - val_loss: 0.6598 - val_AUC: 0.6907 - val_binary_crossentropy: 0.6522 - val_accuracy: 0.6190\n",
      "Epoch 135/10000\n",
      ".20/20 - 0s - loss: 0.6496 - AUC: 0.7105 - binary_crossentropy: 0.6420 - accuracy: 0.6569 - val_loss: 0.6542 - val_AUC: 0.7036 - val_binary_crossentropy: 0.6466 - val_accuracy: 0.6560\n",
      "Epoch 136/10000\n",
      ".20/20 - 0s - loss: 0.6506 - AUC: 0.7066 - binary_crossentropy: 0.6430 - accuracy: 0.6574 - val_loss: 0.6632 - val_AUC: 0.6673 - val_binary_crossentropy: 0.6556 - val_accuracy: 0.5930\n",
      "Epoch 137/10000\n",
      ".20/20 - 0s - loss: 0.6455 - AUC: 0.7178 - binary_crossentropy: 0.6379 - accuracy: 0.6698 - val_loss: 0.6542 - val_AUC: 0.6962 - val_binary_crossentropy: 0.6465 - val_accuracy: 0.6450\n",
      "Epoch 138/10000\n",
      ".20/20 - 0s - loss: 0.6466 - AUC: 0.7199 - binary_crossentropy: 0.6389 - accuracy: 0.6722 - val_loss: 0.6532 - val_AUC: 0.7001 - val_binary_crossentropy: 0.6456 - val_accuracy: 0.6390\n",
      "Epoch 139/10000\n",
      ".20/20 - 0s - loss: 0.6442 - AUC: 0.7212 - binary_crossentropy: 0.6366 - accuracy: 0.6762 - val_loss: 0.6558 - val_AUC: 0.7007 - val_binary_crossentropy: 0.6481 - val_accuracy: 0.6380\n",
      "Epoch 140/10000\n",
      ".20/20 - 0s - loss: 0.6435 - AUC: 0.7228 - binary_crossentropy: 0.6359 - accuracy: 0.6722 - val_loss: 0.6591 - val_AUC: 0.6920 - val_binary_crossentropy: 0.6515 - val_accuracy: 0.6340\n",
      "Epoch 141/10000\n",
      ".20/20 - 0s - loss: 0.6474 - AUC: 0.7185 - binary_crossentropy: 0.6398 - accuracy: 0.6689 - val_loss: 0.6555 - val_AUC: 0.6988 - val_binary_crossentropy: 0.6479 - val_accuracy: 0.6340\n",
      "Epoch 142/10000\n",
      ".20/20 - 0s - loss: 0.6464 - AUC: 0.7215 - binary_crossentropy: 0.6388 - accuracy: 0.6707 - val_loss: 0.6554 - val_AUC: 0.6898 - val_binary_crossentropy: 0.6478 - val_accuracy: 0.6330\n",
      "Epoch 143/10000\n",
      ".20/20 - 0s - loss: 0.6435 - AUC: 0.7230 - binary_crossentropy: 0.6358 - accuracy: 0.6728 - val_loss: 0.6564 - val_AUC: 0.6902 - val_binary_crossentropy: 0.6488 - val_accuracy: 0.6320\n",
      "Epoch 144/10000\n",
      ".20/20 - 0s - loss: 0.6441 - AUC: 0.7223 - binary_crossentropy: 0.6364 - accuracy: 0.6736 - val_loss: 0.6575 - val_AUC: 0.6981 - val_binary_crossentropy: 0.6499 - val_accuracy: 0.6340\n",
      "Epoch 145/10000\n",
      ".20/20 - 0s - loss: 0.6433 - AUC: 0.7240 - binary_crossentropy: 0.6356 - accuracy: 0.6755 - val_loss: 0.6575 - val_AUC: 0.6966 - val_binary_crossentropy: 0.6498 - val_accuracy: 0.6280\n",
      "Epoch 146/10000\n",
      ".20/20 - 0s - loss: 0.6444 - AUC: 0.7236 - binary_crossentropy: 0.6367 - accuracy: 0.6740 - val_loss: 0.6578 - val_AUC: 0.6789 - val_binary_crossentropy: 0.6501 - val_accuracy: 0.6300\n",
      "Epoch 147/10000\n",
      ".20/20 - 0s - loss: 0.6428 - AUC: 0.7251 - binary_crossentropy: 0.6352 - accuracy: 0.6774 - val_loss: 0.6531 - val_AUC: 0.7040 - val_binary_crossentropy: 0.6454 - val_accuracy: 0.6610\n",
      "Epoch 148/10000\n",
      ".20/20 - 0s - loss: 0.6428 - AUC: 0.7214 - binary_crossentropy: 0.6351 - accuracy: 0.6754 - val_loss: 0.6561 - val_AUC: 0.6895 - val_binary_crossentropy: 0.6484 - val_accuracy: 0.6370\n",
      "Epoch 149/10000\n",
      ".20/20 - 0s - loss: 0.6422 - AUC: 0.7269 - binary_crossentropy: 0.6345 - accuracy: 0.6773 - val_loss: 0.6558 - val_AUC: 0.7001 - val_binary_crossentropy: 0.6481 - val_accuracy: 0.6550\n",
      "Epoch 150/10000\n",
      ".20/20 - 0s - loss: 0.6459 - AUC: 0.7170 - binary_crossentropy: 0.6382 - accuracy: 0.6664 - val_loss: 0.6578 - val_AUC: 0.6766 - val_binary_crossentropy: 0.6501 - val_accuracy: 0.6170\n",
      "Epoch 151/10000\n",
      ".20/20 - 0s - loss: 0.6422 - AUC: 0.7258 - binary_crossentropy: 0.6346 - accuracy: 0.6820 - val_loss: 0.6539 - val_AUC: 0.6977 - val_binary_crossentropy: 0.6462 - val_accuracy: 0.6300\n",
      "Epoch 152/10000\n",
      ".20/20 - 0s - loss: 0.6459 - AUC: 0.7204 - binary_crossentropy: 0.6382 - accuracy: 0.6689 - val_loss: 0.6591 - val_AUC: 0.6859 - val_binary_crossentropy: 0.6514 - val_accuracy: 0.6210\n",
      "Epoch 153/10000\n",
      ".20/20 - 0s - loss: 0.6444 - AUC: 0.7191 - binary_crossentropy: 0.6367 - accuracy: 0.6690 - val_loss: 0.6612 - val_AUC: 0.6854 - val_binary_crossentropy: 0.6535 - val_accuracy: 0.6480\n",
      "Epoch 154/10000\n",
      ".20/20 - 0s - loss: 0.6422 - AUC: 0.7270 - binary_crossentropy: 0.6345 - accuracy: 0.6786 - val_loss: 0.6552 - val_AUC: 0.6891 - val_binary_crossentropy: 0.6475 - val_accuracy: 0.6380\n",
      "Epoch 155/10000\n",
      ".20/20 - 0s - loss: 0.6432 - AUC: 0.7229 - binary_crossentropy: 0.6355 - accuracy: 0.6782 - val_loss: 0.6583 - val_AUC: 0.6759 - val_binary_crossentropy: 0.6506 - val_accuracy: 0.6130\n",
      "Epoch 156/10000\n",
      ".20/20 - 0s - loss: 0.6399 - AUC: 0.7293 - binary_crossentropy: 0.6322 - accuracy: 0.6863 - val_loss: 0.6578 - val_AUC: 0.6799 - val_binary_crossentropy: 0.6501 - val_accuracy: 0.6260\n",
      "Epoch 157/10000\n",
      ".20/20 - 0s - loss: 0.6388 - AUC: 0.7302 - binary_crossentropy: 0.6311 - accuracy: 0.6884 - val_loss: 0.6574 - val_AUC: 0.6900 - val_binary_crossentropy: 0.6497 - val_accuracy: 0.6310\n",
      "Epoch 158/10000\n",
      ".20/20 - 0s - loss: 0.6392 - AUC: 0.7295 - binary_crossentropy: 0.6315 - accuracy: 0.6840 - val_loss: 0.6584 - val_AUC: 0.7010 - val_binary_crossentropy: 0.6507 - val_accuracy: 0.6600\n",
      "Epoch 159/10000\n",
      ".20/20 - 0s - loss: 0.6469 - AUC: 0.7187 - binary_crossentropy: 0.6392 - accuracy: 0.6696 - val_loss: 0.6641 - val_AUC: 0.6557 - val_binary_crossentropy: 0.6564 - val_accuracy: 0.5830\n"
     ]
    },
    {
     "name": "stdout",
     "output_type": "stream",
     "text": [
      "Epoch 160/10000\n",
      ".20/20 - 0s - loss: 0.6411 - AUC: 0.7251 - binary_crossentropy: 0.6334 - accuracy: 0.6755 - val_loss: 0.6640 - val_AUC: 0.6872 - val_binary_crossentropy: 0.6562 - val_accuracy: 0.6400\n",
      "Epoch 161/10000\n",
      ".20/20 - 0s - loss: 0.6424 - AUC: 0.7271 - binary_crossentropy: 0.6346 - accuracy: 0.6813 - val_loss: 0.6507 - val_AUC: 0.6910 - val_binary_crossentropy: 0.6430 - val_accuracy: 0.6430\n",
      "Epoch 162/10000\n",
      ".20/20 - 0s - loss: 0.6399 - AUC: 0.7272 - binary_crossentropy: 0.6321 - accuracy: 0.6842 - val_loss: 0.6570 - val_AUC: 0.6922 - val_binary_crossentropy: 0.6493 - val_accuracy: 0.6420\n",
      "Epoch 163/10000\n",
      ".20/20 - 0s - loss: 0.6397 - AUC: 0.7297 - binary_crossentropy: 0.6320 - accuracy: 0.6857 - val_loss: 0.6535 - val_AUC: 0.6792 - val_binary_crossentropy: 0.6458 - val_accuracy: 0.6210\n",
      "Epoch 164/10000\n",
      ".20/20 - 0s - loss: 0.6425 - AUC: 0.7226 - binary_crossentropy: 0.6347 - accuracy: 0.6817 - val_loss: 0.6599 - val_AUC: 0.7030 - val_binary_crossentropy: 0.6522 - val_accuracy: 0.6760\n",
      "Epoch 165/10000\n",
      ".20/20 - 0s - loss: 0.6415 - AUC: 0.7253 - binary_crossentropy: 0.6338 - accuracy: 0.6813 - val_loss: 0.6554 - val_AUC: 0.6929 - val_binary_crossentropy: 0.6476 - val_accuracy: 0.6390\n",
      "Epoch 166/10000\n",
      ".20/20 - 0s - loss: 0.6389 - AUC: 0.7314 - binary_crossentropy: 0.6311 - accuracy: 0.6876 - val_loss: 0.6522 - val_AUC: 0.6852 - val_binary_crossentropy: 0.6445 - val_accuracy: 0.6420\n",
      "Epoch 167/10000\n",
      ".20/20 - 0s - loss: 0.6397 - AUC: 0.7280 - binary_crossentropy: 0.6320 - accuracy: 0.6870 - val_loss: 0.6541 - val_AUC: 0.6833 - val_binary_crossentropy: 0.6464 - val_accuracy: 0.6250\n",
      "Epoch 168/10000\n",
      ".20/20 - 0s - loss: 0.6384 - AUC: 0.7313 - binary_crossentropy: 0.6307 - accuracy: 0.6848 - val_loss: 0.6570 - val_AUC: 0.6719 - val_binary_crossentropy: 0.6493 - val_accuracy: 0.6180\n",
      "Epoch 169/10000\n",
      ".20/20 - 0s - loss: 0.6368 - AUC: 0.7332 - binary_crossentropy: 0.6291 - accuracy: 0.6921 - val_loss: 0.6579 - val_AUC: 0.6793 - val_binary_crossentropy: 0.6501 - val_accuracy: 0.6270\n",
      "Epoch 170/10000\n",
      ".20/20 - 0s - loss: 0.6358 - AUC: 0.7327 - binary_crossentropy: 0.6280 - accuracy: 0.6964 - val_loss: 0.6578 - val_AUC: 0.6753 - val_binary_crossentropy: 0.6500 - val_accuracy: 0.6090\n",
      "Epoch 171/10000\n",
      ".20/20 - 0s - loss: 0.6370 - AUC: 0.7338 - binary_crossentropy: 0.6292 - accuracy: 0.6920 - val_loss: 0.6598 - val_AUC: 0.6679 - val_binary_crossentropy: 0.6520 - val_accuracy: 0.6070\n",
      "Epoch 172/10000\n",
      ".20/20 - 0s - loss: 0.6389 - AUC: 0.7285 - binary_crossentropy: 0.6312 - accuracy: 0.6875 - val_loss: 0.6575 - val_AUC: 0.6747 - val_binary_crossentropy: 0.6498 - val_accuracy: 0.6220\n",
      "Epoch 173/10000\n",
      ".20/20 - 0s - loss: 0.6439 - AUC: 0.7170 - binary_crossentropy: 0.6361 - accuracy: 0.6724 - val_loss: 0.6595 - val_AUC: 0.6777 - val_binary_crossentropy: 0.6517 - val_accuracy: 0.6160\n",
      "Epoch 174/10000\n",
      ".20/20 - 0s - loss: 0.6403 - AUC: 0.7282 - binary_crossentropy: 0.6325 - accuracy: 0.6840 - val_loss: 0.6617 - val_AUC: 0.6701 - val_binary_crossentropy: 0.6539 - val_accuracy: 0.6070\n",
      "Epoch 175/10000\n",
      ".20/20 - 0s - loss: 0.6374 - AUC: 0.7323 - binary_crossentropy: 0.6296 - accuracy: 0.6878 - val_loss: 0.6628 - val_AUC: 0.6784 - val_binary_crossentropy: 0.6550 - val_accuracy: 0.6080\n",
      "Epoch 176/10000\n",
      ".20/20 - 0s - loss: 0.6367 - AUC: 0.7341 - binary_crossentropy: 0.6289 - accuracy: 0.6932 - val_loss: 0.6633 - val_AUC: 0.6571 - val_binary_crossentropy: 0.6555 - val_accuracy: 0.6010\n",
      "Epoch 177/10000\n",
      ".20/20 - 0s - loss: 0.6389 - AUC: 0.7287 - binary_crossentropy: 0.6311 - accuracy: 0.6837 - val_loss: 0.6522 - val_AUC: 0.6860 - val_binary_crossentropy: 0.6444 - val_accuracy: 0.6370\n",
      "Epoch 178/10000\n",
      ".20/20 - 0s - loss: 0.6351 - AUC: 0.7357 - binary_crossentropy: 0.6273 - accuracy: 0.6924 - val_loss: 0.6560 - val_AUC: 0.6906 - val_binary_crossentropy: 0.6482 - val_accuracy: 0.6380\n",
      "Epoch 179/10000\n",
      ".20/20 - 0s - loss: 0.6393 - AUC: 0.7282 - binary_crossentropy: 0.6315 - accuracy: 0.6880 - val_loss: 0.6577 - val_AUC: 0.6624 - val_binary_crossentropy: 0.6499 - val_accuracy: 0.6120\n",
      "Epoch 180/10000\n",
      ".20/20 - 0s - loss: 0.6385 - AUC: 0.7274 - binary_crossentropy: 0.6307 - accuracy: 0.6858 - val_loss: 0.6599 - val_AUC: 0.6712 - val_binary_crossentropy: 0.6521 - val_accuracy: 0.6320\n",
      "Epoch 181/10000\n",
      ".20/20 - 0s - loss: 0.6337 - AUC: 0.7409 - binary_crossentropy: 0.6259 - accuracy: 0.6968 - val_loss: 0.6522 - val_AUC: 0.7069 - val_binary_crossentropy: 0.6444 - val_accuracy: 0.6670\n",
      "Epoch 182/10000\n",
      ".20/20 - 0s - loss: 0.6352 - AUC: 0.7349 - binary_crossentropy: 0.6274 - accuracy: 0.6948 - val_loss: 0.6557 - val_AUC: 0.6926 - val_binary_crossentropy: 0.6480 - val_accuracy: 0.6350\n",
      "Epoch 183/10000\n",
      ".20/20 - 0s - loss: 0.6354 - AUC: 0.7379 - binary_crossentropy: 0.6276 - accuracy: 0.6972 - val_loss: 0.6559 - val_AUC: 0.6789 - val_binary_crossentropy: 0.6481 - val_accuracy: 0.6330\n",
      "Epoch 184/10000\n",
      ".20/20 - 0s - loss: 0.6380 - AUC: 0.7317 - binary_crossentropy: 0.6302 - accuracy: 0.6887 - val_loss: 0.6535 - val_AUC: 0.7021 - val_binary_crossentropy: 0.6457 - val_accuracy: 0.6600\n",
      "Epoch 185/10000\n",
      ".20/20 - 0s - loss: 0.6358 - AUC: 0.7352 - binary_crossentropy: 0.6280 - accuracy: 0.6927 - val_loss: 0.6556 - val_AUC: 0.6866 - val_binary_crossentropy: 0.6478 - val_accuracy: 0.6460\n",
      "Epoch 186/10000\n",
      ".20/20 - 0s - loss: 0.6370 - AUC: 0.7338 - binary_crossentropy: 0.6292 - accuracy: 0.6900 - val_loss: 0.6540 - val_AUC: 0.6868 - val_binary_crossentropy: 0.6461 - val_accuracy: 0.6530\n",
      "Epoch 187/10000\n",
      ".20/20 - 0s - loss: 0.6461 - AUC: 0.7149 - binary_crossentropy: 0.6383 - accuracy: 0.6729 - val_loss: 0.6594 - val_AUC: 0.6954 - val_binary_crossentropy: 0.6516 - val_accuracy: 0.6510\n",
      "Epoch 188/10000\n",
      ".20/20 - 0s - loss: 0.6402 - AUC: 0.7226 - binary_crossentropy: 0.6323 - accuracy: 0.6825 - val_loss: 0.6537 - val_AUC: 0.6895 - val_binary_crossentropy: 0.6459 - val_accuracy: 0.6410\n",
      "Epoch 189/10000\n",
      ".20/20 - 0s - loss: 0.6368 - AUC: 0.7329 - binary_crossentropy: 0.6290 - accuracy: 0.6926 - val_loss: 0.6563 - val_AUC: 0.6683 - val_binary_crossentropy: 0.6485 - val_accuracy: 0.6270\n",
      "Epoch 190/10000\n",
      ".20/20 - 0s - loss: 0.6365 - AUC: 0.7327 - binary_crossentropy: 0.6287 - accuracy: 0.6931 - val_loss: 0.6568 - val_AUC: 0.6669 - val_binary_crossentropy: 0.6489 - val_accuracy: 0.6070\n",
      "Epoch 191/10000\n",
      ".20/20 - 0s - loss: 0.6373 - AUC: 0.7304 - binary_crossentropy: 0.6295 - accuracy: 0.6865 - val_loss: 0.6621 - val_AUC: 0.6929 - val_binary_crossentropy: 0.6543 - val_accuracy: 0.6520\n",
      "Epoch 192/10000\n",
      ".20/20 - 0s - loss: 0.6531 - AUC: 0.6962 - binary_crossentropy: 0.6452 - accuracy: 0.6562 - val_loss: 0.6627 - val_AUC: 0.6788 - val_binary_crossentropy: 0.6549 - val_accuracy: 0.6570\n",
      "Epoch 193/10000\n",
      ".20/20 - 0s - loss: 0.6503 - AUC: 0.6995 - binary_crossentropy: 0.6424 - accuracy: 0.6600 - val_loss: 0.6533 - val_AUC: 0.6755 - val_binary_crossentropy: 0.6455 - val_accuracy: 0.6360\n",
      "Epoch 194/10000\n",
      ".20/20 - 0s - loss: 0.6546 - AUC: 0.6910 - binary_crossentropy: 0.6467 - accuracy: 0.6457 - val_loss: 0.6640 - val_AUC: 0.6852 - val_binary_crossentropy: 0.6562 - val_accuracy: 0.6490\n",
      "Epoch 195/10000\n",
      ".20/20 - 0s - loss: 0.6483 - AUC: 0.6997 - binary_crossentropy: 0.6405 - accuracy: 0.6546 - val_loss: 0.6595 - val_AUC: 0.6939 - val_binary_crossentropy: 0.6517 - val_accuracy: 0.6520\n",
      "Epoch 196/10000\n",
      ".20/20 - 0s - loss: 0.6396 - AUC: 0.7224 - binary_crossentropy: 0.6317 - accuracy: 0.6837 - val_loss: 0.6551 - val_AUC: 0.6693 - val_binary_crossentropy: 0.6473 - val_accuracy: 0.6380\n",
      "Epoch 197/10000\n",
      ".20/20 - 0s - loss: 0.6333 - AUC: 0.7369 - binary_crossentropy: 0.6254 - accuracy: 0.7008 - val_loss: 0.6557 - val_AUC: 0.6706 - val_binary_crossentropy: 0.6478 - val_accuracy: 0.6320\n",
      "Epoch 198/10000\n",
      ".20/20 - 0s - loss: 0.6344 - AUC: 0.7375 - binary_crossentropy: 0.6265 - accuracy: 0.6991 - val_loss: 0.6586 - val_AUC: 0.6792 - val_binary_crossentropy: 0.6507 - val_accuracy: 0.6240\n",
      "Epoch 199/10000\n",
      ".20/20 - 0s - loss: 0.6335 - AUC: 0.7355 - binary_crossentropy: 0.6257 - accuracy: 0.7008 - val_loss: 0.6587 - val_AUC: 0.6775 - val_binary_crossentropy: 0.6508 - val_accuracy: 0.6230\n",
      "Epoch 200/10000\n",
      ".20/20 - 0s - loss: 0.6347 - AUC: 0.7369 - binary_crossentropy: 0.6268 - accuracy: 0.6964 - val_loss: 0.6563 - val_AUC: 0.6819 - val_binary_crossentropy: 0.6484 - val_accuracy: 0.6250\n"
     ]
    },
    {
     "name": "stdout",
     "output_type": "stream",
     "text": [
      "Epoch 201/10000\n",
      "\n",
      "Epoch: 200, AUC:0.7387,  accuracy:0.6958,  binary_crossentropy:0.6268,  loss:0.6347,  val_AUC:0.6580,  val_accuracy:0.5970,  val_binary_crossentropy:0.6549,  val_loss:0.6627,  \n",
      ".20/20 - 0s - loss: 0.6347 - AUC: 0.7387 - binary_crossentropy: 0.6268 - accuracy: 0.6958 - val_loss: 0.6627 - val_AUC: 0.6580 - val_binary_crossentropy: 0.6549 - val_accuracy: 0.5970\n",
      "Epoch 202/10000\n",
      ".20/20 - 0s - loss: 0.6396 - AUC: 0.7232 - binary_crossentropy: 0.6318 - accuracy: 0.6797 - val_loss: 0.6560 - val_AUC: 0.6889 - val_binary_crossentropy: 0.6481 - val_accuracy: 0.6400\n",
      "Epoch 203/10000\n",
      ".20/20 - 0s - loss: 0.6368 - AUC: 0.7289 - binary_crossentropy: 0.6289 - accuracy: 0.6936 - val_loss: 0.6539 - val_AUC: 0.6865 - val_binary_crossentropy: 0.6460 - val_accuracy: 0.6570\n",
      "Epoch 204/10000\n",
      ".20/20 - 0s - loss: 0.6307 - AUC: 0.7436 - binary_crossentropy: 0.6228 - accuracy: 0.7044 - val_loss: 0.6598 - val_AUC: 0.6937 - val_binary_crossentropy: 0.6519 - val_accuracy: 0.6590\n",
      "Epoch 205/10000\n",
      ".20/20 - 0s - loss: 0.6384 - AUC: 0.7308 - binary_crossentropy: 0.6305 - accuracy: 0.6887 - val_loss: 0.6592 - val_AUC: 0.6727 - val_binary_crossentropy: 0.6513 - val_accuracy: 0.6160\n",
      "Epoch 206/10000\n",
      ".20/20 - 0s - loss: 0.6304 - AUC: 0.7434 - binary_crossentropy: 0.6225 - accuracy: 0.7039 - val_loss: 0.6583 - val_AUC: 0.6685 - val_binary_crossentropy: 0.6504 - val_accuracy: 0.6180\n",
      "Epoch 207/10000\n",
      ".20/20 - 0s - loss: 0.6302 - AUC: 0.7458 - binary_crossentropy: 0.6223 - accuracy: 0.7061 - val_loss: 0.6549 - val_AUC: 0.6790 - val_binary_crossentropy: 0.6470 - val_accuracy: 0.6290\n",
      "Epoch 208/10000\n",
      ".20/20 - 0s - loss: 0.6335 - AUC: 0.7419 - binary_crossentropy: 0.6256 - accuracy: 0.6989 - val_loss: 0.6576 - val_AUC: 0.6993 - val_binary_crossentropy: 0.6497 - val_accuracy: 0.6580\n",
      "Epoch 209/10000\n",
      ".20/20 - 0s - loss: 0.6345 - AUC: 0.7362 - binary_crossentropy: 0.6266 - accuracy: 0.6963 - val_loss: 0.6537 - val_AUC: 0.6805 - val_binary_crossentropy: 0.6458 - val_accuracy: 0.6290\n",
      "Epoch 210/10000\n",
      ".20/20 - 0s - loss: 0.6314 - AUC: 0.7424 - binary_crossentropy: 0.6235 - accuracy: 0.7027 - val_loss: 0.6536 - val_AUC: 0.6978 - val_binary_crossentropy: 0.6457 - val_accuracy: 0.6550\n",
      "Epoch 211/10000\n",
      ".20/20 - 0s - loss: 0.6296 - AUC: 0.7453 - binary_crossentropy: 0.6217 - accuracy: 0.7074 - val_loss: 0.6548 - val_AUC: 0.6762 - val_binary_crossentropy: 0.6469 - val_accuracy: 0.6350\n",
      "Epoch 212/10000\n",
      ".20/20 - 0s - loss: 0.6296 - AUC: 0.7473 - binary_crossentropy: 0.6217 - accuracy: 0.7082 - val_loss: 0.6605 - val_AUC: 0.6913 - val_binary_crossentropy: 0.6526 - val_accuracy: 0.6660\n",
      "Epoch 213/10000\n",
      ".20/20 - 0s - loss: 0.6332 - AUC: 0.7403 - binary_crossentropy: 0.6253 - accuracy: 0.6993 - val_loss: 0.6542 - val_AUC: 0.6939 - val_binary_crossentropy: 0.6463 - val_accuracy: 0.6590\n",
      "Epoch 214/10000\n",
      ".20/20 - 0s - loss: 0.6330 - AUC: 0.7397 - binary_crossentropy: 0.6251 - accuracy: 0.7018 - val_loss: 0.6632 - val_AUC: 0.6568 - val_binary_crossentropy: 0.6553 - val_accuracy: 0.6050\n",
      "Epoch 215/10000\n",
      ".20/20 - 0s - loss: 0.6349 - AUC: 0.7349 - binary_crossentropy: 0.6270 - accuracy: 0.6946 - val_loss: 0.6593 - val_AUC: 0.6730 - val_binary_crossentropy: 0.6514 - val_accuracy: 0.6190\n",
      "Epoch 216/10000\n",
      ".20/20 - 0s - loss: 0.6371 - AUC: 0.7301 - binary_crossentropy: 0.6292 - accuracy: 0.6837 - val_loss: 0.6588 - val_AUC: 0.6629 - val_binary_crossentropy: 0.6509 - val_accuracy: 0.6060\n",
      "Epoch 217/10000\n",
      ".20/20 - 0s - loss: 0.6342 - AUC: 0.7351 - binary_crossentropy: 0.6262 - accuracy: 0.6994 - val_loss: 0.6621 - val_AUC: 0.6681 - val_binary_crossentropy: 0.6542 - val_accuracy: 0.6070\n",
      "Epoch 218/10000\n",
      ".20/20 - 0s - loss: 0.6340 - AUC: 0.7362 - binary_crossentropy: 0.6261 - accuracy: 0.6976 - val_loss: 0.6558 - val_AUC: 0.6749 - val_binary_crossentropy: 0.6479 - val_accuracy: 0.6240\n",
      "Epoch 219/10000\n",
      ".20/20 - 0s - loss: 0.6323 - AUC: 0.7384 - binary_crossentropy: 0.6244 - accuracy: 0.7013 - val_loss: 0.6558 - val_AUC: 0.6920 - val_binary_crossentropy: 0.6478 - val_accuracy: 0.6580\n",
      "Epoch 220/10000\n",
      ".20/20 - 0s - loss: 0.6283 - AUC: 0.7482 - binary_crossentropy: 0.6203 - accuracy: 0.7138 - val_loss: 0.6589 - val_AUC: 0.6676 - val_binary_crossentropy: 0.6510 - val_accuracy: 0.6300\n",
      "Epoch 221/10000\n",
      ".20/20 - 0s - loss: 0.6291 - AUC: 0.7422 - binary_crossentropy: 0.6212 - accuracy: 0.7088 - val_loss: 0.6604 - val_AUC: 0.6732 - val_binary_crossentropy: 0.6525 - val_accuracy: 0.6240\n",
      "Epoch 222/10000\n",
      ".20/20 - 0s - loss: 0.6281 - AUC: 0.7459 - binary_crossentropy: 0.6202 - accuracy: 0.7137 - val_loss: 0.6643 - val_AUC: 0.6537 - val_binary_crossentropy: 0.6564 - val_accuracy: 0.5950\n",
      "Epoch 223/10000\n",
      ".20/20 - 0s - loss: 0.6298 - AUC: 0.7436 - binary_crossentropy: 0.6218 - accuracy: 0.7049 - val_loss: 0.6571 - val_AUC: 0.6886 - val_binary_crossentropy: 0.6492 - val_accuracy: 0.6580\n",
      "Epoch 224/10000\n",
      ".20/20 - 0s - loss: 0.6335 - AUC: 0.7414 - binary_crossentropy: 0.6255 - accuracy: 0.7006 - val_loss: 0.6620 - val_AUC: 0.6462 - val_binary_crossentropy: 0.6541 - val_accuracy: 0.5930\n",
      "Epoch 225/10000\n",
      ".20/20 - 0s - loss: 0.6420 - AUC: 0.7158 - binary_crossentropy: 0.6340 - accuracy: 0.6732 - val_loss: 0.6661 - val_AUC: 0.6357 - val_binary_crossentropy: 0.6581 - val_accuracy: 0.5780\n",
      "Epoch 226/10000\n",
      ".20/20 - 0s - loss: 0.6398 - AUC: 0.7242 - binary_crossentropy: 0.6319 - accuracy: 0.6863 - val_loss: 0.6570 - val_AUC: 0.6778 - val_binary_crossentropy: 0.6490 - val_accuracy: 0.6370\n",
      "Epoch 227/10000\n",
      ".20/20 - 0s - loss: 0.6338 - AUC: 0.7359 - binary_crossentropy: 0.6258 - accuracy: 0.6987 - val_loss: 0.6564 - val_AUC: 0.6841 - val_binary_crossentropy: 0.6484 - val_accuracy: 0.6590\n",
      "Epoch 228/10000\n",
      ".20/20 - 0s - loss: 0.6300 - AUC: 0.7414 - binary_crossentropy: 0.6220 - accuracy: 0.7065 - val_loss: 0.6570 - val_AUC: 0.6838 - val_binary_crossentropy: 0.6490 - val_accuracy: 0.6560\n",
      "Epoch 229/10000\n",
      ".20/20 - 0s - loss: 0.6315 - AUC: 0.7422 - binary_crossentropy: 0.6235 - accuracy: 0.7059 - val_loss: 0.6553 - val_AUC: 0.6803 - val_binary_crossentropy: 0.6473 - val_accuracy: 0.6310\n",
      "Epoch 230/10000\n",
      ".20/20 - 0s - loss: 0.6292 - AUC: 0.7455 - binary_crossentropy: 0.6212 - accuracy: 0.7072 - val_loss: 0.6584 - val_AUC: 0.6798 - val_binary_crossentropy: 0.6504 - val_accuracy: 0.6290\n",
      "Epoch 231/10000\n",
      ".20/20 - 0s - loss: 0.6276 - AUC: 0.7474 - binary_crossentropy: 0.6196 - accuracy: 0.7139 - val_loss: 0.6582 - val_AUC: 0.6775 - val_binary_crossentropy: 0.6502 - val_accuracy: 0.6290\n",
      "Epoch 232/10000\n",
      ".20/20 - 0s - loss: 0.6260 - AUC: 0.7506 - binary_crossentropy: 0.6180 - accuracy: 0.7142 - val_loss: 0.6638 - val_AUC: 0.6659 - val_binary_crossentropy: 0.6558 - val_accuracy: 0.6100\n",
      "Epoch 233/10000\n",
      ".20/20 - 0s - loss: 0.6292 - AUC: 0.7481 - binary_crossentropy: 0.6212 - accuracy: 0.7091 - val_loss: 0.6625 - val_AUC: 0.6457 - val_binary_crossentropy: 0.6545 - val_accuracy: 0.6070\n",
      "Epoch 234/10000\n",
      ".20/20 - 0s - loss: 0.6299 - AUC: 0.7430 - binary_crossentropy: 0.6219 - accuracy: 0.7040 - val_loss: 0.6563 - val_AUC: 0.6886 - val_binary_crossentropy: 0.6483 - val_accuracy: 0.6470\n",
      "Epoch 235/10000\n",
      ".20/20 - 0s - loss: 0.6328 - AUC: 0.7391 - binary_crossentropy: 0.6248 - accuracy: 0.7038 - val_loss: 0.6547 - val_AUC: 0.6763 - val_binary_crossentropy: 0.6466 - val_accuracy: 0.6400\n",
      "Epoch 236/10000\n",
      ".20/20 - 0s - loss: 0.6284 - AUC: 0.7497 - binary_crossentropy: 0.6204 - accuracy: 0.7102 - val_loss: 0.6659 - val_AUC: 0.6628 - val_binary_crossentropy: 0.6579 - val_accuracy: 0.6030\n",
      "Epoch 237/10000\n",
      ".20/20 - 0s - loss: 0.6281 - AUC: 0.7449 - binary_crossentropy: 0.6201 - accuracy: 0.7120 - val_loss: 0.6649 - val_AUC: 0.6555 - val_binary_crossentropy: 0.6569 - val_accuracy: 0.6030\n",
      "Epoch 238/10000\n",
      ".20/20 - 0s - loss: 0.6282 - AUC: 0.7448 - binary_crossentropy: 0.6201 - accuracy: 0.7099 - val_loss: 0.6535 - val_AUC: 0.6955 - val_binary_crossentropy: 0.6455 - val_accuracy: 0.6590\n",
      "Epoch 239/10000\n",
      ".20/20 - 0s - loss: 0.6345 - AUC: 0.7352 - binary_crossentropy: 0.6264 - accuracy: 0.6957 - val_loss: 0.6683 - val_AUC: 0.6453 - val_binary_crossentropy: 0.6602 - val_accuracy: 0.5890\n",
      "Epoch 240/10000\n",
      ".20/20 - 0s - loss: 0.6350 - AUC: 0.7326 - binary_crossentropy: 0.6270 - accuracy: 0.6943 - val_loss: 0.6540 - val_AUC: 0.6800 - val_binary_crossentropy: 0.6460 - val_accuracy: 0.6500\n",
      "Epoch 241/10000\n"
     ]
    },
    {
     "name": "stdout",
     "output_type": "stream",
     "text": [
      ".20/20 - 0s - loss: 0.6271 - AUC: 0.7453 - binary_crossentropy: 0.6190 - accuracy: 0.7096 - val_loss: 0.6549 - val_AUC: 0.6830 - val_binary_crossentropy: 0.6469 - val_accuracy: 0.6400\n",
      "Epoch 242/10000\n",
      ".20/20 - 0s - loss: 0.6254 - AUC: 0.7499 - binary_crossentropy: 0.6173 - accuracy: 0.7159 - val_loss: 0.6559 - val_AUC: 0.6751 - val_binary_crossentropy: 0.6479 - val_accuracy: 0.6300\n",
      "Epoch 243/10000\n",
      ".20/20 - 0s - loss: 0.6304 - AUC: 0.7417 - binary_crossentropy: 0.6224 - accuracy: 0.7073 - val_loss: 0.6632 - val_AUC: 0.6406 - val_binary_crossentropy: 0.6551 - val_accuracy: 0.5920\n",
      "Epoch 244/10000\n",
      ".20/20 - 0s - loss: 0.6268 - AUC: 0.7473 - binary_crossentropy: 0.6188 - accuracy: 0.7143 - val_loss: 0.6617 - val_AUC: 0.6752 - val_binary_crossentropy: 0.6537 - val_accuracy: 0.6310\n",
      "Epoch 245/10000\n",
      ".20/20 - 0s - loss: 0.6279 - AUC: 0.7500 - binary_crossentropy: 0.6198 - accuracy: 0.7108 - val_loss: 0.6621 - val_AUC: 0.6630 - val_binary_crossentropy: 0.6541 - val_accuracy: 0.6080\n",
      "Epoch 246/10000\n",
      ".20/20 - 0s - loss: 0.6309 - AUC: 0.7373 - binary_crossentropy: 0.6229 - accuracy: 0.6997 - val_loss: 0.6596 - val_AUC: 0.6724 - val_binary_crossentropy: 0.6515 - val_accuracy: 0.6370\n",
      "Epoch 247/10000\n",
      ".20/20 - 0s - loss: 0.6270 - AUC: 0.7494 - binary_crossentropy: 0.6189 - accuracy: 0.7151 - val_loss: 0.6605 - val_AUC: 0.6727 - val_binary_crossentropy: 0.6524 - val_accuracy: 0.6450\n",
      "Epoch 248/10000\n",
      ".20/20 - 0s - loss: 0.6243 - AUC: 0.7524 - binary_crossentropy: 0.6163 - accuracy: 0.7180 - val_loss: 0.6601 - val_AUC: 0.6711 - val_binary_crossentropy: 0.6520 - val_accuracy: 0.6350\n",
      "Epoch 249/10000\n",
      ".20/20 - 0s - loss: 0.6236 - AUC: 0.7524 - binary_crossentropy: 0.6156 - accuracy: 0.7208 - val_loss: 0.6565 - val_AUC: 0.6873 - val_binary_crossentropy: 0.6484 - val_accuracy: 0.6530\n",
      "Epoch 250/10000\n",
      ".20/20 - 0s - loss: 0.6255 - AUC: 0.7546 - binary_crossentropy: 0.6174 - accuracy: 0.7198 - val_loss: 0.6618 - val_AUC: 0.6544 - val_binary_crossentropy: 0.6537 - val_accuracy: 0.6040\n",
      "Epoch 251/10000\n",
      ".20/20 - 0s - loss: 0.6254 - AUC: 0.7516 - binary_crossentropy: 0.6173 - accuracy: 0.7177 - val_loss: 0.6638 - val_AUC: 0.6554 - val_binary_crossentropy: 0.6557 - val_accuracy: 0.6250\n",
      "Epoch 252/10000\n",
      ".20/20 - 0s - loss: 0.6263 - AUC: 0.7520 - binary_crossentropy: 0.6182 - accuracy: 0.7163 - val_loss: 0.6612 - val_AUC: 0.6609 - val_binary_crossentropy: 0.6531 - val_accuracy: 0.6380\n",
      "Epoch 253/10000\n",
      ".20/20 - 0s - loss: 0.6234 - AUC: 0.7546 - binary_crossentropy: 0.6153 - accuracy: 0.7179 - val_loss: 0.6608 - val_AUC: 0.6692 - val_binary_crossentropy: 0.6527 - val_accuracy: 0.6190\n",
      "Epoch 254/10000\n",
      ".20/20 - 0s - loss: 0.6236 - AUC: 0.7551 - binary_crossentropy: 0.6155 - accuracy: 0.7232 - val_loss: 0.6578 - val_AUC: 0.6808 - val_binary_crossentropy: 0.6497 - val_accuracy: 0.6430\n",
      "Epoch 255/10000\n",
      ".20/20 - 0s - loss: 0.6247 - AUC: 0.7501 - binary_crossentropy: 0.6166 - accuracy: 0.7176 - val_loss: 0.6630 - val_AUC: 0.6754 - val_binary_crossentropy: 0.6548 - val_accuracy: 0.6310\n",
      "Epoch 256/10000\n",
      ".20/20 - 0s - loss: 0.6221 - AUC: 0.7573 - binary_crossentropy: 0.6139 - accuracy: 0.7238 - val_loss: 0.6617 - val_AUC: 0.6747 - val_binary_crossentropy: 0.6536 - val_accuracy: 0.6370\n",
      "Epoch 257/10000\n",
      ".20/20 - 0s - loss: 0.6261 - AUC: 0.7482 - binary_crossentropy: 0.6180 - accuracy: 0.7129 - val_loss: 0.6626 - val_AUC: 0.6501 - val_binary_crossentropy: 0.6545 - val_accuracy: 0.6020\n",
      "Epoch 258/10000\n",
      ".20/20 - 0s - loss: 0.6283 - AUC: 0.7463 - binary_crossentropy: 0.6202 - accuracy: 0.7121 - val_loss: 0.6615 - val_AUC: 0.6662 - val_binary_crossentropy: 0.6534 - val_accuracy: 0.6170\n",
      "Epoch 259/10000\n",
      ".20/20 - 0s - loss: 0.6288 - AUC: 0.7426 - binary_crossentropy: 0.6206 - accuracy: 0.7073 - val_loss: 0.6581 - val_AUC: 0.6579 - val_binary_crossentropy: 0.6499 - val_accuracy: 0.6130\n",
      "Epoch 260/10000\n",
      ".20/20 - 0s - loss: 0.6225 - AUC: 0.7572 - binary_crossentropy: 0.6144 - accuracy: 0.7241 - val_loss: 0.6612 - val_AUC: 0.6729 - val_binary_crossentropy: 0.6531 - val_accuracy: 0.6270\n",
      "Epoch 261/10000\n",
      ".20/20 - 0s - loss: 0.6218 - AUC: 0.7570 - binary_crossentropy: 0.6136 - accuracy: 0.7215 - val_loss: 0.6614 - val_AUC: 0.6646 - val_binary_crossentropy: 0.6533 - val_accuracy: 0.6370\n",
      "Epoch 262/10000\n",
      ".20/20 - 0s - loss: 0.6260 - AUC: 0.7524 - binary_crossentropy: 0.6178 - accuracy: 0.7176 - val_loss: 0.6615 - val_AUC: 0.6594 - val_binary_crossentropy: 0.6533 - val_accuracy: 0.6200\n",
      "Epoch 263/10000\n",
      ".20/20 - 0s - loss: 0.6205 - AUC: 0.7596 - binary_crossentropy: 0.6124 - accuracy: 0.7270 - val_loss: 0.6595 - val_AUC: 0.6745 - val_binary_crossentropy: 0.6514 - val_accuracy: 0.6330\n",
      "Epoch 264/10000\n",
      ".20/20 - 0s - loss: 0.6231 - AUC: 0.7515 - binary_crossentropy: 0.6150 - accuracy: 0.7210 - val_loss: 0.6627 - val_AUC: 0.6640 - val_binary_crossentropy: 0.6545 - val_accuracy: 0.6130\n",
      "Epoch 265/10000\n",
      ".20/20 - 0s - loss: 0.6240 - AUC: 0.7507 - binary_crossentropy: 0.6158 - accuracy: 0.7194 - val_loss: 0.6623 - val_AUC: 0.6598 - val_binary_crossentropy: 0.6542 - val_accuracy: 0.6230\n",
      "Epoch 266/10000\n",
      ".20/20 - 0s - loss: 0.6212 - AUC: 0.7583 - binary_crossentropy: 0.6131 - accuracy: 0.7270 - val_loss: 0.6603 - val_AUC: 0.6668 - val_binary_crossentropy: 0.6522 - val_accuracy: 0.6370\n",
      "Epoch 267/10000\n",
      ".20/20 - 0s - loss: 0.6232 - AUC: 0.7548 - binary_crossentropy: 0.6151 - accuracy: 0.7233 - val_loss: 0.6607 - val_AUC: 0.6700 - val_binary_crossentropy: 0.6525 - val_accuracy: 0.6230\n",
      "Epoch 268/10000\n",
      ".20/20 - 0s - loss: 0.6191 - AUC: 0.7620 - binary_crossentropy: 0.6110 - accuracy: 0.7312 - val_loss: 0.6577 - val_AUC: 0.6747 - val_binary_crossentropy: 0.6495 - val_accuracy: 0.6450\n",
      "Epoch 269/10000\n",
      ".20/20 - 0s - loss: 0.6185 - AUC: 0.7612 - binary_crossentropy: 0.6103 - accuracy: 0.7332 - val_loss: 0.6578 - val_AUC: 0.6640 - val_binary_crossentropy: 0.6496 - val_accuracy: 0.6270\n",
      "Epoch 270/10000\n",
      ".20/20 - 0s - loss: 0.6218 - AUC: 0.7556 - binary_crossentropy: 0.6136 - accuracy: 0.7259 - val_loss: 0.6618 - val_AUC: 0.6473 - val_binary_crossentropy: 0.6536 - val_accuracy: 0.6090\n",
      "Epoch 271/10000\n",
      ".20/20 - 0s - loss: 0.6250 - AUC: 0.7501 - binary_crossentropy: 0.6169 - accuracy: 0.7182 - val_loss: 0.6608 - val_AUC: 0.6621 - val_binary_crossentropy: 0.6527 - val_accuracy: 0.6170\n",
      "Epoch 272/10000\n",
      ".20/20 - 0s - loss: 0.6197 - AUC: 0.7575 - binary_crossentropy: 0.6116 - accuracy: 0.7281 - val_loss: 0.6601 - val_AUC: 0.6692 - val_binary_crossentropy: 0.6519 - val_accuracy: 0.6200\n",
      "Epoch 273/10000\n",
      ".20/20 - 0s - loss: 0.6235 - AUC: 0.7564 - binary_crossentropy: 0.6153 - accuracy: 0.7237 - val_loss: 0.6591 - val_AUC: 0.6693 - val_binary_crossentropy: 0.6509 - val_accuracy: 0.6270\n",
      "Epoch 274/10000\n",
      ".20/20 - 0s - loss: 0.6181 - AUC: 0.7621 - binary_crossentropy: 0.6099 - accuracy: 0.7333 - val_loss: 0.6639 - val_AUC: 0.6554 - val_binary_crossentropy: 0.6558 - val_accuracy: 0.6130\n",
      "Epoch 275/10000\n",
      ".20/20 - 0s - loss: 0.6175 - AUC: 0.7647 - binary_crossentropy: 0.6093 - accuracy: 0.7364 - val_loss: 0.6625 - val_AUC: 0.6597 - val_binary_crossentropy: 0.6543 - val_accuracy: 0.6260\n",
      "Epoch 276/10000\n",
      ".20/20 - 0s - loss: 0.6170 - AUC: 0.7633 - binary_crossentropy: 0.6088 - accuracy: 0.7360 - val_loss: 0.6645 - val_AUC: 0.6783 - val_binary_crossentropy: 0.6563 - val_accuracy: 0.6310\n",
      "Epoch 277/10000\n",
      ".20/20 - 0s - loss: 0.6168 - AUC: 0.7629 - binary_crossentropy: 0.6086 - accuracy: 0.7359 - val_loss: 0.6556 - val_AUC: 0.6596 - val_binary_crossentropy: 0.6474 - val_accuracy: 0.6430\n",
      "Epoch 278/10000\n",
      ".20/20 - 0s - loss: 0.6167 - AUC: 0.7647 - binary_crossentropy: 0.6085 - accuracy: 0.7370 - val_loss: 0.6641 - val_AUC: 0.6653 - val_binary_crossentropy: 0.6558 - val_accuracy: 0.6400\n",
      "Epoch 279/10000\n",
      ".20/20 - 0s - loss: 0.6181 - AUC: 0.7627 - binary_crossentropy: 0.6099 - accuracy: 0.7355 - val_loss: 0.6626 - val_AUC: 0.6745 - val_binary_crossentropy: 0.6544 - val_accuracy: 0.6440\n",
      "Epoch 280/10000\n",
      ".20/20 - 0s - loss: 0.6206 - AUC: 0.7604 - binary_crossentropy: 0.6123 - accuracy: 0.7290 - val_loss: 0.6631 - val_AUC: 0.6492 - val_binary_crossentropy: 0.6549 - val_accuracy: 0.6070\n",
      "Epoch 281/10000\n",
      ".20/20 - 0s - loss: 0.6318 - AUC: 0.7390 - binary_crossentropy: 0.6236 - accuracy: 0.7043 - val_loss: 0.6705 - val_AUC: 0.6717 - val_binary_crossentropy: 0.6623 - val_accuracy: 0.6520\n",
      "Epoch 282/10000\n"
     ]
    },
    {
     "name": "stdout",
     "output_type": "stream",
     "text": [
      ".20/20 - 0s - loss: 0.6411 - AUC: 0.7095 - binary_crossentropy: 0.6329 - accuracy: 0.6730 - val_loss: 0.6650 - val_AUC: 0.6595 - val_binary_crossentropy: 0.6567 - val_accuracy: 0.6260\n",
      "Epoch 283/10000\n",
      ".20/20 - 0s - loss: 0.6217 - AUC: 0.7560 - binary_crossentropy: 0.6135 - accuracy: 0.7249 - val_loss: 0.6609 - val_AUC: 0.6790 - val_binary_crossentropy: 0.6527 - val_accuracy: 0.6520\n",
      "Epoch 284/10000\n",
      ".20/20 - 0s - loss: 0.6176 - AUC: 0.7638 - binary_crossentropy: 0.6094 - accuracy: 0.7334 - val_loss: 0.6638 - val_AUC: 0.6524 - val_binary_crossentropy: 0.6555 - val_accuracy: 0.6120\n",
      "Epoch 285/10000\n",
      ".20/20 - 0s - loss: 0.6186 - AUC: 0.7630 - binary_crossentropy: 0.6104 - accuracy: 0.7324 - val_loss: 0.6619 - val_AUC: 0.6557 - val_binary_crossentropy: 0.6537 - val_accuracy: 0.6180\n",
      "Epoch 286/10000\n",
      ".20/20 - 0s - loss: 0.6188 - AUC: 0.7617 - binary_crossentropy: 0.6105 - accuracy: 0.7313 - val_loss: 0.6614 - val_AUC: 0.6575 - val_binary_crossentropy: 0.6531 - val_accuracy: 0.6250\n",
      "Epoch 287/10000\n",
      ".20/20 - 0s - loss: 0.6192 - AUC: 0.7621 - binary_crossentropy: 0.6110 - accuracy: 0.7336 - val_loss: 0.6603 - val_AUC: 0.6580 - val_binary_crossentropy: 0.6521 - val_accuracy: 0.6150\n",
      "Epoch 288/10000\n",
      ".20/20 - 0s - loss: 0.6179 - AUC: 0.7636 - binary_crossentropy: 0.6097 - accuracy: 0.7331 - val_loss: 0.6583 - val_AUC: 0.6808 - val_binary_crossentropy: 0.6501 - val_accuracy: 0.6540\n",
      "Epoch 289/10000\n",
      ".20/20 - 0s - loss: 0.6188 - AUC: 0.7619 - binary_crossentropy: 0.6106 - accuracy: 0.7330 - val_loss: 0.6632 - val_AUC: 0.6585 - val_binary_crossentropy: 0.6549 - val_accuracy: 0.6240\n",
      "Epoch 290/10000\n",
      ".20/20 - 0s - loss: 0.6157 - AUC: 0.7654 - binary_crossentropy: 0.6074 - accuracy: 0.7390 - val_loss: 0.6627 - val_AUC: 0.6651 - val_binary_crossentropy: 0.6544 - val_accuracy: 0.6220\n",
      "Epoch 291/10000\n",
      ".20/20 - 0s - loss: 0.6152 - AUC: 0.7672 - binary_crossentropy: 0.6070 - accuracy: 0.7395 - val_loss: 0.6632 - val_AUC: 0.6699 - val_binary_crossentropy: 0.6549 - val_accuracy: 0.6330\n",
      "Epoch 292/10000\n",
      ".20/20 - 0s - loss: 0.6145 - AUC: 0.7675 - binary_crossentropy: 0.6062 - accuracy: 0.7424 - val_loss: 0.6634 - val_AUC: 0.6579 - val_binary_crossentropy: 0.6551 - val_accuracy: 0.6190\n",
      "Epoch 293/10000\n",
      ".20/20 - 0s - loss: 0.6149 - AUC: 0.7680 - binary_crossentropy: 0.6066 - accuracy: 0.7421 - val_loss: 0.6607 - val_AUC: 0.6557 - val_binary_crossentropy: 0.6524 - val_accuracy: 0.6180\n",
      "Epoch 294/10000\n",
      ".20/20 - 0s - loss: 0.6184 - AUC: 0.7616 - binary_crossentropy: 0.6102 - accuracy: 0.7302 - val_loss: 0.6578 - val_AUC: 0.6757 - val_binary_crossentropy: 0.6495 - val_accuracy: 0.6410\n",
      "Epoch 295/10000\n",
      ".20/20 - 0s - loss: 0.6181 - AUC: 0.7634 - binary_crossentropy: 0.6098 - accuracy: 0.7347 - val_loss: 0.6644 - val_AUC: 0.6710 - val_binary_crossentropy: 0.6561 - val_accuracy: 0.6400\n",
      "Epoch 296/10000\n",
      ".20/20 - 0s - loss: 0.6192 - AUC: 0.7622 - binary_crossentropy: 0.6109 - accuracy: 0.7318 - val_loss: 0.6626 - val_AUC: 0.6592 - val_binary_crossentropy: 0.6543 - val_accuracy: 0.6210\n",
      "Epoch 297/10000\n",
      ".20/20 - 0s - loss: 0.6131 - AUC: 0.7714 - binary_crossentropy: 0.6048 - accuracy: 0.7470 - val_loss: 0.6613 - val_AUC: 0.6675 - val_binary_crossentropy: 0.6530 - val_accuracy: 0.6310\n",
      "Epoch 298/10000\n",
      ".20/20 - 0s - loss: 0.6116 - AUC: 0.7716 - binary_crossentropy: 0.6033 - accuracy: 0.7509 - val_loss: 0.6654 - val_AUC: 0.6646 - val_binary_crossentropy: 0.6571 - val_accuracy: 0.6300\n",
      "Epoch 299/10000\n",
      ".20/20 - 0s - loss: 0.6127 - AUC: 0.7717 - binary_crossentropy: 0.6044 - accuracy: 0.7473 - val_loss: 0.6578 - val_AUC: 0.6652 - val_binary_crossentropy: 0.6495 - val_accuracy: 0.6400\n",
      "Epoch 300/10000\n",
      ".20/20 - 0s - loss: 0.6154 - AUC: 0.7670 - binary_crossentropy: 0.6071 - accuracy: 0.7397 - val_loss: 0.6617 - val_AUC: 0.6590 - val_binary_crossentropy: 0.6534 - val_accuracy: 0.6190\n",
      "Epoch 301/10000\n",
      "\n",
      "Epoch: 300, AUC:0.7619,  accuracy:0.7337,  binary_crossentropy:0.6097,  loss:0.6180,  val_AUC:0.6791,  val_accuracy:0.6360,  val_binary_crossentropy:0.6519,  val_loss:0.6602,  \n",
      ".20/20 - 0s - loss: 0.6180 - AUC: 0.7619 - binary_crossentropy: 0.6097 - accuracy: 0.7337 - val_loss: 0.6602 - val_AUC: 0.6791 - val_binary_crossentropy: 0.6519 - val_accuracy: 0.6360\n",
      "Epoch 302/10000\n",
      ".20/20 - 0s - loss: 0.6146 - AUC: 0.7682 - binary_crossentropy: 0.6063 - accuracy: 0.7412 - val_loss: 0.6583 - val_AUC: 0.6707 - val_binary_crossentropy: 0.6500 - val_accuracy: 0.6370\n",
      "Epoch 303/10000\n",
      ".20/20 - 0s - loss: 0.6131 - AUC: 0.7681 - binary_crossentropy: 0.6048 - accuracy: 0.7446 - val_loss: 0.6621 - val_AUC: 0.6535 - val_binary_crossentropy: 0.6538 - val_accuracy: 0.6180\n",
      "Epoch 304/10000\n",
      ".20/20 - 0s - loss: 0.6155 - AUC: 0.7696 - binary_crossentropy: 0.6072 - accuracy: 0.7417 - val_loss: 0.6602 - val_AUC: 0.6592 - val_binary_crossentropy: 0.6519 - val_accuracy: 0.6260\n",
      "Epoch 305/10000\n",
      ".20/20 - 0s - loss: 0.6163 - AUC: 0.7662 - binary_crossentropy: 0.6080 - accuracy: 0.7404 - val_loss: 0.6604 - val_AUC: 0.6684 - val_binary_crossentropy: 0.6521 - val_accuracy: 0.6380\n",
      "Epoch 306/10000\n",
      ".20/20 - 0s - loss: 0.6129 - AUC: 0.7721 - binary_crossentropy: 0.6046 - accuracy: 0.7447 - val_loss: 0.6613 - val_AUC: 0.6629 - val_binary_crossentropy: 0.6529 - val_accuracy: 0.6310\n",
      "Epoch 307/10000\n",
      ".20/20 - 0s - loss: 0.6180 - AUC: 0.7631 - binary_crossentropy: 0.6096 - accuracy: 0.7341 - val_loss: 0.6620 - val_AUC: 0.6572 - val_binary_crossentropy: 0.6536 - val_accuracy: 0.6180\n",
      "Epoch 308/10000\n",
      ".20/20 - 0s - loss: 0.6271 - AUC: 0.7484 - binary_crossentropy: 0.6188 - accuracy: 0.7173 - val_loss: 0.6796 - val_AUC: 0.6612 - val_binary_crossentropy: 0.6712 - val_accuracy: 0.6430\n",
      "Epoch 309/10000\n",
      ".20/20 - 0s - loss: 0.6385 - AUC: 0.7130 - binary_crossentropy: 0.6302 - accuracy: 0.6821 - val_loss: 0.6635 - val_AUC: 0.6685 - val_binary_crossentropy: 0.6551 - val_accuracy: 0.6470\n",
      "Epoch 310/10000\n",
      ".20/20 - 0s - loss: 0.6214 - AUC: 0.7550 - binary_crossentropy: 0.6131 - accuracy: 0.7258 - val_loss: 0.6594 - val_AUC: 0.6566 - val_binary_crossentropy: 0.6510 - val_accuracy: 0.6300\n",
      "Epoch 311/10000\n",
      ".20/20 - 0s - loss: 0.6195 - AUC: 0.7609 - binary_crossentropy: 0.6111 - accuracy: 0.7345 - val_loss: 0.6633 - val_AUC: 0.6534 - val_binary_crossentropy: 0.6550 - val_accuracy: 0.6160\n",
      "Epoch 312/10000\n",
      ".20/20 - 0s - loss: 0.6198 - AUC: 0.7583 - binary_crossentropy: 0.6115 - accuracy: 0.7312 - val_loss: 0.6677 - val_AUC: 0.6591 - val_binary_crossentropy: 0.6593 - val_accuracy: 0.6290\n",
      "Epoch 313/10000\n",
      ".20/20 - 0s - loss: 0.6138 - AUC: 0.7694 - binary_crossentropy: 0.6054 - accuracy: 0.7439 - val_loss: 0.6649 - val_AUC: 0.6471 - val_binary_crossentropy: 0.6565 - val_accuracy: 0.6080\n",
      "Epoch 314/10000\n",
      ".20/20 - 0s - loss: 0.6143 - AUC: 0.7712 - binary_crossentropy: 0.6059 - accuracy: 0.7442 - val_loss: 0.6624 - val_AUC: 0.6658 - val_binary_crossentropy: 0.6540 - val_accuracy: 0.6310\n",
      "Epoch 315/10000\n",
      ".20/20 - 0s - loss: 0.6100 - AUC: 0.7763 - binary_crossentropy: 0.6016 - accuracy: 0.7551 - val_loss: 0.6634 - val_AUC: 0.6382 - val_binary_crossentropy: 0.6550 - val_accuracy: 0.6080\n",
      "Epoch 316/10000\n",
      ".20/20 - 0s - loss: 0.6167 - AUC: 0.7666 - binary_crossentropy: 0.6083 - accuracy: 0.7363 - val_loss: 0.6555 - val_AUC: 0.6701 - val_binary_crossentropy: 0.6471 - val_accuracy: 0.6410\n",
      "Epoch 317/10000\n",
      ".20/20 - 0s - loss: 0.6142 - AUC: 0.7698 - binary_crossentropy: 0.6058 - accuracy: 0.7437 - val_loss: 0.6614 - val_AUC: 0.6532 - val_binary_crossentropy: 0.6530 - val_accuracy: 0.6300\n",
      "Epoch 318/10000\n",
      ".20/20 - 0s - loss: 0.6142 - AUC: 0.7728 - binary_crossentropy: 0.6058 - accuracy: 0.7428 - val_loss: 0.6585 - val_AUC: 0.6563 - val_binary_crossentropy: 0.6501 - val_accuracy: 0.6170\n",
      "Epoch 319/10000\n",
      ".20/20 - 0s - loss: 0.6161 - AUC: 0.7640 - binary_crossentropy: 0.6077 - accuracy: 0.7398 - val_loss: 0.6656 - val_AUC: 0.6711 - val_binary_crossentropy: 0.6572 - val_accuracy: 0.6360\n",
      "Epoch 320/10000\n",
      ".20/20 - 0s - loss: 0.6129 - AUC: 0.7732 - binary_crossentropy: 0.6045 - accuracy: 0.7462 - val_loss: 0.6632 - val_AUC: 0.6482 - val_binary_crossentropy: 0.6548 - val_accuracy: 0.6220\n",
      "Epoch 321/10000\n",
      ".20/20 - 0s - loss: 0.6143 - AUC: 0.7700 - binary_crossentropy: 0.6059 - accuracy: 0.7440 - val_loss: 0.6587 - val_AUC: 0.6532 - val_binary_crossentropy: 0.6503 - val_accuracy: 0.6210\n",
      "Epoch 322/10000\n",
      ".20/20 - 0s - loss: 0.6176 - AUC: 0.7650 - binary_crossentropy: 0.6091 - accuracy: 0.7386 - val_loss: 0.6618 - val_AUC: 0.6537 - val_binary_crossentropy: 0.6534 - val_accuracy: 0.6250\n"
     ]
    },
    {
     "name": "stdout",
     "output_type": "stream",
     "text": [
      "Epoch 323/10000\n",
      ".20/20 - 0s - loss: 0.6203 - AUC: 0.7583 - binary_crossentropy: 0.6119 - accuracy: 0.7293 - val_loss: 0.6645 - val_AUC: 0.6391 - val_binary_crossentropy: 0.6561 - val_accuracy: 0.6070\n",
      "Epoch 324/10000\n",
      ".20/20 - 0s - loss: 0.6224 - AUC: 0.7552 - binary_crossentropy: 0.6140 - accuracy: 0.7243 - val_loss: 0.6677 - val_AUC: 0.6544 - val_binary_crossentropy: 0.6593 - val_accuracy: 0.6240\n",
      "Epoch 325/10000\n",
      ".20/20 - 0s - loss: 0.6143 - AUC: 0.7676 - binary_crossentropy: 0.6059 - accuracy: 0.7409 - val_loss: 0.6588 - val_AUC: 0.6759 - val_binary_crossentropy: 0.6503 - val_accuracy: 0.6530\n",
      "Epoch 326/10000\n",
      ".20/20 - 0s - loss: 0.6123 - AUC: 0.7740 - binary_crossentropy: 0.6039 - accuracy: 0.7489 - val_loss: 0.6638 - val_AUC: 0.6560 - val_binary_crossentropy: 0.6554 - val_accuracy: 0.6270\n",
      "Epoch 327/10000\n",
      ".20/20 - 0s - loss: 0.6128 - AUC: 0.7724 - binary_crossentropy: 0.6043 - accuracy: 0.7513 - val_loss: 0.6642 - val_AUC: 0.6506 - val_binary_crossentropy: 0.6558 - val_accuracy: 0.6180\n",
      "Epoch 328/10000\n",
      ".20/20 - 0s - loss: 0.6161 - AUC: 0.7656 - binary_crossentropy: 0.6077 - accuracy: 0.7385 - val_loss: 0.6594 - val_AUC: 0.6619 - val_binary_crossentropy: 0.6510 - val_accuracy: 0.6350\n",
      "Epoch 329/10000\n",
      ".20/20 - 0s - loss: 0.6105 - AUC: 0.7765 - binary_crossentropy: 0.6021 - accuracy: 0.7527 - val_loss: 0.6607 - val_AUC: 0.6544 - val_binary_crossentropy: 0.6522 - val_accuracy: 0.6340\n",
      "Epoch 330/10000\n",
      ".20/20 - 0s - loss: 0.6109 - AUC: 0.7747 - binary_crossentropy: 0.6025 - accuracy: 0.7517 - val_loss: 0.6618 - val_AUC: 0.6597 - val_binary_crossentropy: 0.6534 - val_accuracy: 0.6330\n",
      "Epoch 331/10000\n",
      ".20/20 - 0s - loss: 0.6098 - AUC: 0.7768 - binary_crossentropy: 0.6014 - accuracy: 0.7531 - val_loss: 0.6678 - val_AUC: 0.6575 - val_binary_crossentropy: 0.6594 - val_accuracy: 0.6190\n",
      "Epoch 332/10000\n",
      ".20/20 - 0s - loss: 0.6114 - AUC: 0.7738 - binary_crossentropy: 0.6029 - accuracy: 0.7499 - val_loss: 0.6565 - val_AUC: 0.6777 - val_binary_crossentropy: 0.6480 - val_accuracy: 0.6480\n",
      "Epoch 333/10000\n",
      ".20/20 - 0s - loss: 0.6107 - AUC: 0.7776 - binary_crossentropy: 0.6023 - accuracy: 0.7520 - val_loss: 0.6594 - val_AUC: 0.6474 - val_binary_crossentropy: 0.6510 - val_accuracy: 0.6270\n",
      "Epoch 334/10000\n",
      ".20/20 - 0s - loss: 0.6080 - AUC: 0.7798 - binary_crossentropy: 0.5996 - accuracy: 0.7581 - val_loss: 0.6607 - val_AUC: 0.6595 - val_binary_crossentropy: 0.6522 - val_accuracy: 0.6330\n",
      "Epoch 335/10000\n",
      ".20/20 - 0s - loss: 0.6093 - AUC: 0.7762 - binary_crossentropy: 0.6008 - accuracy: 0.7565 - val_loss: 0.6661 - val_AUC: 0.6471 - val_binary_crossentropy: 0.6576 - val_accuracy: 0.6090\n",
      "Epoch 336/10000\n",
      ".20/20 - 0s - loss: 0.6104 - AUC: 0.7739 - binary_crossentropy: 0.6019 - accuracy: 0.7519 - val_loss: 0.6661 - val_AUC: 0.6604 - val_binary_crossentropy: 0.6577 - val_accuracy: 0.6250\n",
      "Epoch 337/10000\n",
      ".20/20 - 0s - loss: 0.6083 - AUC: 0.7793 - binary_crossentropy: 0.5999 - accuracy: 0.7562 - val_loss: 0.6607 - val_AUC: 0.6564 - val_binary_crossentropy: 0.6522 - val_accuracy: 0.6280\n",
      "Epoch 338/10000\n",
      ".20/20 - 0s - loss: 0.6100 - AUC: 0.7770 - binary_crossentropy: 0.6015 - accuracy: 0.7553 - val_loss: 0.6667 - val_AUC: 0.6362 - val_binary_crossentropy: 0.6582 - val_accuracy: 0.6000\n",
      "Epoch 339/10000\n",
      ".20/20 - 0s - loss: 0.6103 - AUC: 0.7772 - binary_crossentropy: 0.6018 - accuracy: 0.7522 - val_loss: 0.6663 - val_AUC: 0.6551 - val_binary_crossentropy: 0.6578 - val_accuracy: 0.6230\n",
      "Epoch 340/10000\n",
      ".20/20 - 0s - loss: 0.6088 - AUC: 0.7773 - binary_crossentropy: 0.6003 - accuracy: 0.7560 - val_loss: 0.6615 - val_AUC: 0.6578 - val_binary_crossentropy: 0.6531 - val_accuracy: 0.6310\n",
      "Epoch 341/10000\n",
      ".20/20 - 0s - loss: 0.6087 - AUC: 0.7793 - binary_crossentropy: 0.6002 - accuracy: 0.7553 - val_loss: 0.6600 - val_AUC: 0.6582 - val_binary_crossentropy: 0.6515 - val_accuracy: 0.6400\n",
      "Epoch 342/10000\n",
      ".20/20 - 0s - loss: 0.6163 - AUC: 0.7666 - binary_crossentropy: 0.6078 - accuracy: 0.7375 - val_loss: 0.6633 - val_AUC: 0.6606 - val_binary_crossentropy: 0.6548 - val_accuracy: 0.6320\n",
      "Epoch 343/10000\n",
      ".20/20 - 0s - loss: 0.6132 - AUC: 0.7726 - binary_crossentropy: 0.6047 - accuracy: 0.7447 - val_loss: 0.6624 - val_AUC: 0.6602 - val_binary_crossentropy: 0.6539 - val_accuracy: 0.6320\n",
      "Epoch 344/10000\n",
      ".20/20 - 0s - loss: 0.6101 - AUC: 0.7765 - binary_crossentropy: 0.6016 - accuracy: 0.7529 - val_loss: 0.6647 - val_AUC: 0.6566 - val_binary_crossentropy: 0.6562 - val_accuracy: 0.6330\n",
      "Epoch 345/10000\n",
      ".20/20 - 0s - loss: 0.6078 - AUC: 0.7816 - binary_crossentropy: 0.5993 - accuracy: 0.7593 - val_loss: 0.6683 - val_AUC: 0.6696 - val_binary_crossentropy: 0.6598 - val_accuracy: 0.6290\n",
      "Epoch 346/10000\n",
      ".20/20 - 0s - loss: 0.6104 - AUC: 0.7751 - binary_crossentropy: 0.6019 - accuracy: 0.7525 - val_loss: 0.6709 - val_AUC: 0.6586 - val_binary_crossentropy: 0.6624 - val_accuracy: 0.6230\n",
      "Epoch 347/10000\n",
      ".20/20 - 0s - loss: 0.6162 - AUC: 0.7677 - binary_crossentropy: 0.6077 - accuracy: 0.7368 - val_loss: 0.6690 - val_AUC: 0.6626 - val_binary_crossentropy: 0.6604 - val_accuracy: 0.6450\n",
      "Epoch 348/10000\n",
      ".20/20 - 0s - loss: 0.6177 - AUC: 0.7639 - binary_crossentropy: 0.6092 - accuracy: 0.7371 - val_loss: 0.6655 - val_AUC: 0.6412 - val_binary_crossentropy: 0.6570 - val_accuracy: 0.6120\n",
      "Epoch 349/10000\n",
      ".20/20 - 0s - loss: 0.6112 - AUC: 0.7746 - binary_crossentropy: 0.6026 - accuracy: 0.7520 - val_loss: 0.6650 - val_AUC: 0.6589 - val_binary_crossentropy: 0.6565 - val_accuracy: 0.6260\n",
      "Epoch 350/10000\n",
      ".20/20 - 0s - loss: 0.6066 - AUC: 0.7827 - binary_crossentropy: 0.5981 - accuracy: 0.7611 - val_loss: 0.6642 - val_AUC: 0.6649 - val_binary_crossentropy: 0.6557 - val_accuracy: 0.6300\n",
      "Epoch 351/10000\n",
      ".20/20 - 0s - loss: 0.6099 - AUC: 0.7764 - binary_crossentropy: 0.6013 - accuracy: 0.7520 - val_loss: 0.6655 - val_AUC: 0.6617 - val_binary_crossentropy: 0.6570 - val_accuracy: 0.6420\n",
      "Epoch 352/10000\n",
      ".20/20 - 0s - loss: 0.6138 - AUC: 0.7687 - binary_crossentropy: 0.6053 - accuracy: 0.7464 - val_loss: 0.6627 - val_AUC: 0.6485 - val_binary_crossentropy: 0.6541 - val_accuracy: 0.6220\n",
      "Epoch 353/10000\n",
      ".20/20 - 0s - loss: 0.6111 - AUC: 0.7729 - binary_crossentropy: 0.6026 - accuracy: 0.7505 - val_loss: 0.6652 - val_AUC: 0.6503 - val_binary_crossentropy: 0.6567 - val_accuracy: 0.6200\n",
      "Epoch 354/10000\n",
      ".20/20 - 0s - loss: 0.6120 - AUC: 0.7733 - binary_crossentropy: 0.6034 - accuracy: 0.7519 - val_loss: 0.6651 - val_AUC: 0.6403 - val_binary_crossentropy: 0.6566 - val_accuracy: 0.6110\n",
      "Epoch 355/10000\n",
      ".20/20 - 0s - loss: 0.6119 - AUC: 0.7749 - binary_crossentropy: 0.6033 - accuracy: 0.7497 - val_loss: 0.6641 - val_AUC: 0.6474 - val_binary_crossentropy: 0.6555 - val_accuracy: 0.6190\n",
      "Epoch 356/10000\n",
      ".20/20 - 0s - loss: 0.6095 - AUC: 0.7799 - binary_crossentropy: 0.6010 - accuracy: 0.7549 - val_loss: 0.6632 - val_AUC: 0.6568 - val_binary_crossentropy: 0.6547 - val_accuracy: 0.6340\n",
      "Epoch 357/10000\n",
      ".20/20 - 0s - loss: 0.6101 - AUC: 0.7766 - binary_crossentropy: 0.6015 - accuracy: 0.7553 - val_loss: 0.6664 - val_AUC: 0.6577 - val_binary_crossentropy: 0.6579 - val_accuracy: 0.6280\n",
      "Epoch 358/10000\n",
      ".20/20 - 0s - loss: 0.6157 - AUC: 0.7666 - binary_crossentropy: 0.6072 - accuracy: 0.7407 - val_loss: 0.6658 - val_AUC: 0.6530 - val_binary_crossentropy: 0.6572 - val_accuracy: 0.6330\n",
      "Epoch 359/10000\n",
      ".20/20 - 0s - loss: 0.6152 - AUC: 0.7681 - binary_crossentropy: 0.6066 - accuracy: 0.7437 - val_loss: 0.6690 - val_AUC: 0.6300 - val_binary_crossentropy: 0.6604 - val_accuracy: 0.6030\n",
      "Epoch 360/10000\n",
      ".20/20 - 0s - loss: 0.6109 - AUC: 0.7748 - binary_crossentropy: 0.6023 - accuracy: 0.7508 - val_loss: 0.6678 - val_AUC: 0.6465 - val_binary_crossentropy: 0.6592 - val_accuracy: 0.6170\n",
      "Epoch 361/10000\n",
      ".20/20 - 0s - loss: 0.6107 - AUC: 0.7739 - binary_crossentropy: 0.6022 - accuracy: 0.7495 - val_loss: 0.6598 - val_AUC: 0.6568 - val_binary_crossentropy: 0.6512 - val_accuracy: 0.6320\n"
     ]
    }
   ],
   "source": [
    "size_histories['paper'] = compile_and_fit(paper_model, 'sizes/paper')"
   ]
  },
  {
   "cell_type": "code",
   "execution_count": 31,
   "id": "interstate-sweet",
   "metadata": {},
   "outputs": [
    {
     "data": {
      "text/plain": [
       "[0.5129669308662415,\n",
       " 0.5102459788322449,\n",
       " 0.5463467240333557,\n",
       " 0.5596256852149963,\n",
       " 0.5665290951728821,\n",
       " 0.5807941555976868,\n",
       " 0.5873706936836243,\n",
       " 0.5948611497879028,\n",
       " 0.6039280891418457,\n",
       " 0.6166744828224182]"
      ]
     },
     "execution_count": 31,
     "metadata": {},
     "output_type": "execute_result"
    }
   ],
   "source": [
    "size_histories['paper'].history['AUC'][0:10]"
   ]
  },
  {
   "cell_type": "code",
   "execution_count": 32,
   "id": "sophisticated-treasurer",
   "metadata": {},
   "outputs": [
    {
     "data": {
      "image/png": "[encoded data removed]",
      "text/plain": [
       "<Figure size 432x288 with 1 Axes>"
      ]
     },
     "metadata": {
      "needs_background": "light"
     },
     "output_type": "display_data"
    }
   ],
   "source": [
    "plotter = tfdocs.plots.HistoryPlotter(metric = 'binary_crossentropy', smoothing_std=10)\n",
    "plotter.plot(size_histories)"
   ]
  },
  {
   "cell_type": "code",
   "execution_count": 33,
   "id": "desperate-constitutional",
   "metadata": {},
   "outputs": [
    {
     "data": {
      "image/png": "[encoded data removed]",
      "text/plain": [
       "<Figure size 432x288 with 1 Axes>"
      ]
     },
     "metadata": {
      "needs_background": "light"
     },
     "output_type": "display_data"
    }
   ],
   "source": [
    "plotter = tfdocs.plots.HistoryPlotter(metric = 'AUC', smoothing_std=10)\n",
    "plotter.plot(size_histories)"
   ]
  },
  {
   "cell_type": "code",
   "execution_count": 34,
   "id": "alternative-rover",
   "metadata": {},
   "outputs": [
    {
     "data": {
      "text/plain": [
       "Text(0.5, 0, 'Epochs [Log Scale]')"
      ]
     },
     "execution_count": 34,
     "metadata": {},
     "output_type": "execute_result"
    },
    {
     "data": {
      "image/png": "[encoded data removed]",
      "text/plain": [
       "<Figure size 432x288 with 1 Axes>"
      ]
     },
     "metadata": {
      "needs_background": "light"
     },
     "output_type": "display_data"
    }
   ],
   "source": [
    "plotter.plot(size_histories)\n",
    "a = plt.xscale('log')\n",
    "plt.xlim([5, max(plt.xlim())])\n",
    "plt.ylim([0.5, 0.7])\n",
    "plt.xlabel(\"Epochs [Log Scale]\")"
   ]
  },
  {
   "cell_type": "code",
   "execution_count": 35,
   "id": "destroyed-language",
   "metadata": {},
   "outputs": [
    {
     "name": "stderr",
     "output_type": "stream",
     "text": [
      "UsageError: Line magic function `%tensorboard` not found.\n"
     ]
    }
   ],
   "source": [
    "%tensorboard --logdir {logdir}/sizes"
   ]
  },
  {
   "cell_type": "code",
   "execution_count": null,
   "id": "integral-essex",
   "metadata": {},
   "outputs": [],
   "source": [
    "display.IFrame(\n",
    "    src=\"https://tensorboard.dev/experiment/vW7jmmF9TmKmy3rbheMQpw/#scalars&_smoothingWeight=0.97\",\n",
    "    width=\"100%\", height=\"800px\")"
   ]
  },
  {
   "cell_type": "code",
   "execution_count": null,
   "id": "induced-empire",
   "metadata": {},
   "outputs": [],
   "source": []
  }
 ],
 "metadata": {
  "kernelspec": {
   "display_name": "Python 3",
   "language": "python",
   "name": "python3"
  },
  "language_info": {
   "codemirror_mode": {
    "name": "ipython",
    "version": 3
   },
   "file_extension": ".py",
   "mimetype": "text/x-python",
   "name": "python",
   "nbconvert_exporter": "python",
   "pygments_lexer": "ipython3",
   "version": "3.7.9"
  }
 },
 "nbformat": 4,
 "nbformat_minor": 5
}
