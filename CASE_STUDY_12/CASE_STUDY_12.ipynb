{
 "cells": [
  {
   "cell_type": "markdown",
   "metadata": {},
   "source": [
    "https://www.tensorflow.org/tutorials/keras/overfit_and_underfit"
   ]
  },
  {
   "cell_type": "markdown",
   "metadata": {},
   "source": [
    "### Setup your environment"
   ]
  },
  {
   "cell_type": "code",
   "execution_count": 2,
   "metadata": {},
   "outputs": [
    {
     "name": "stdout",
     "output_type": "stream",
     "text": [
      "2.2.0\n"
     ]
    }
   ],
   "source": [
    "from __future__ import absolute_import, division, print_function, unicode_literals\n",
    "\n",
    "try:\n",
    "  # %tensorflow_version only exists in Colab.\n",
    "  %tensorflow_version 2.x\n",
    "except Exception:\n",
    "  pass\n",
    "  \n",
    "import tensorflow as tf\n",
    "\n",
    "from tensorflow.keras import layers\n",
    "from tensorflow.keras.regularizers import l1, l2\n",
    "\n",
    "print(tf.__version__)"
   ]
  },
  {
   "cell_type": "code",
   "execution_count": 3,
   "metadata": {},
   "outputs": [],
   "source": [
    "import tensorflow_docs as tfdocs\n",
    "import tensorflow_docs.modeling\n",
    "import tensorflow_docs.plots"
   ]
  },
  {
   "cell_type": "code",
   "execution_count": 4,
   "metadata": {},
   "outputs": [],
   "source": [
    "from  IPython import display\n",
    "from matplotlib import pyplot as plt\n",
    "\n",
    "import numpy as np\n",
    "import matplotlib.pyplot as plt\n",
    "\n",
    "import pathlib\n",
    "import shutil\n",
    "import tempfile"
   ]
  },
  {
   "cell_type": "code",
   "execution_count": 5,
   "metadata": {},
   "outputs": [],
   "source": [
    "logdir = pathlib.Path(tempfile.mkdtemp())/\"tensorboard_logs\"\n",
    "shutil.rmtree(logdir, ignore_errors=True)"
   ]
  },
  {
   "cell_type": "markdown",
   "metadata": {},
   "source": [
    "#### Helper Functions"
   ]
  },
  {
   "cell_type": "markdown",
   "metadata": {},
   "source": [
    "#### That csv reader class returns a list of scalars for each record. The following function repacks that list of scalars into a (feature_vector, label) pair."
   ]
  },
  {
   "cell_type": "code",
   "execution_count": 6,
   "metadata": {},
   "outputs": [],
   "source": [
    "def pack_row(*row):\n",
    "  label = row[0]\n",
    "  features = tf.stack(row[1:],1)\n",
    "  return features, label"
   ]
  },
  {
   "cell_type": "markdown",
   "metadata": {},
   "source": [
    "# https://www.tensorflow.org/tutorials/text/transformer\n",
    "### A transformer model handles variable-sized input using stacks of self-attention layers instead of RNNs or CNNs.\n",
    "\n",
    "### https://arxiv.org/abs/1706.03762\n",
    "\n",
    "### https://www.tensorflow.org/api_docs/python/tf/clip_by_value\n",
    "\n",
    "### we want to set our learning rates to these parameters based on the step"
   ]
  },
  {
   "cell_type": "code",
   "execution_count": 7,
   "metadata": {},
   "outputs": [],
   "source": [
    "class CustomSchedule(tf.keras.optimizers.schedules.LearningRateSchedule):\n",
    "  def __init__(self):\n",
    "    super(CustomSchedule, self).__init__()\n",
    "    \n",
    "  def __call__(self, step):\n",
    "    lr = tf.clip_by_value(0.05 / 1.0000002**step, clip_value_min=0.000001, clip_value_max=0.05)\n",
    "    return lr"
   ]
  },
  {
   "cell_type": "markdown",
   "metadata": {},
   "source": [
    "### Define the optimizer based on the learner schedule. "
   ]
  },
  {
   "cell_type": "code",
   "execution_count": 8,
   "metadata": {},
   "outputs": [],
   "source": [
    "def get_optimizer():\n",
    "  lr_schedule = CustomSchedule()\n",
    "  return tf.keras.optimizers.SGD(lr_schedule, momentum=0.9)"
   ]
  },
  {
   "cell_type": "markdown",
   "metadata": {},
   "source": [
    "#### Next include callbacks.EarlyStopping to avoid long and unnecessary training times. Note that this callback is set to monitor the val_binary_crossentropy, not the val_loss. This difference will be important later.\n",
    "#### Use callbacks.TensorBoard to generate TensorBoard logs for the training."
   ]
  },
  {
   "cell_type": "code",
   "execution_count": 9,
   "metadata": {},
   "outputs": [],
   "source": [
    "def get_callbacks(name):\n",
    "  return [\n",
    "    tfdocs.modeling.EpochDots(),\n",
    "    tf.keras.callbacks.EarlyStopping(monitor='val_binary_crossentropy', min_delta=0.00001, patience=200),\n",
    "    tf.keras.callbacks.TensorBoard(logdir/name),\n",
    "  ]"
   ]
  },
  {
   "cell_type": "code",
   "execution_count": 10,
   "metadata": {},
   "outputs": [],
   "source": [
    "def compile_and_fit(model, name, optimizer=None, max_epochs=10000):\n",
    "  if optimizer is None:\n",
    "    optimizer = get_optimizer()\n",
    "  model.compile(optimizer=optimizer,\n",
    "                loss=tf.keras.losses.BinaryCrossentropy(from_logits=True),\n",
    "                metrics=[\n",
    "                  tf.keras.metrics.AUC(name='AUC'),\n",
    "                  tf.keras.losses.BinaryCrossentropy(from_logits=True, name='binary_crossentropy'),\n",
    "                  'accuracy'])\n",
    "\n",
    "  model.summary()\n",
    "\n",
    "  history = model.fit(\n",
    "    train_ds,\n",
    "    steps_per_epoch = STEPS_PER_EPOCH,\n",
    "    epochs=max_epochs,\n",
    "    validation_data=validate_ds,\n",
    "    callbacks=get_callbacks(name),\n",
    "    verbose=2)\n",
    "  return history"
   ]
  },
  {
   "cell_type": "markdown",
   "metadata": {},
   "source": [
    "## Dataset download, otherwise use local copy"
   ]
  },
  {
   "cell_type": "code",
   "execution_count": 11,
   "metadata": {},
   "outputs": [],
   "source": [
    "gz = tf.keras.utils.get_file('HIGGS.csv.gz', 'https://archive.ics.uci.edu/ml/machine-learning-databases/00280/HIGGS.csv.gz')"
   ]
  },
  {
   "cell_type": "markdown",
   "metadata": {},
   "source": [
    "### Each example has 28 features, there are 11000000 examples"
   ]
  },
  {
   "cell_type": "code",
   "execution_count": 12,
   "metadata": {},
   "outputs": [],
   "source": [
    "FEATURES = 28"
   ]
  },
  {
   "cell_type": "markdown",
   "metadata": {},
   "source": [
    "### This should be used to read the csv directly unpacking from the gzip file without unpacking"
   ]
  },
  {
   "cell_type": "code",
   "execution_count": 13,
   "metadata": {},
   "outputs": [],
   "source": [
    "ds = tf.data.experimental.CsvDataset( gz,[float(),]*(FEATURES+1), compression_type=\"GZIP\")"
   ]
  },
  {
   "cell_type": "markdown",
   "metadata": {},
   "source": [
    "### working in batches of 10000 use the map function to following function repacks that list of scalars into a (feature_vector, label) pair."
   ]
  },
  {
   "cell_type": "code",
   "execution_count": 14,
   "metadata": {},
   "outputs": [],
   "source": [
    "packed_ds = ds.batch(10000).map(pack_row).unbatch()"
   ]
  },
  {
   "cell_type": "markdown",
   "metadata": {},
   "source": [
    "### Have a look at some of the records from this new packed_ds. The features are not perfectly normalized, but this is sufficient for this tutorial."
   ]
  },
  {
   "cell_type": "code",
   "execution_count": 15,
   "metadata": {},
   "outputs": [
    {
     "name": "stdout",
     "output_type": "stream",
     "text": [
      "tf.Tensor(\n",
      "[ 0.8692932  -0.6350818   0.22569026  0.32747006 -0.6899932   0.75420225\n",
      " -0.24857314 -1.0920639   0.          1.3749921  -0.6536742   0.9303491\n",
      "  1.1074361   1.1389043  -1.5781983  -1.0469854   0.          0.65792954\n",
      " -0.01045457 -0.04576717  3.1019614   1.35376     0.9795631   0.97807616\n",
      "  0.92000484  0.72165745  0.98875093  0.87667835], shape=(28,), dtype=float32)\n"
     ]
    },
    {
     "data": {
      "image/png": "[encoded data removed]",
      "text/plain": [
       "<Figure size 432x288 with 1 Axes>"
      ]
     },
     "metadata": {
      "needs_background": "light"
     },
     "output_type": "display_data"
    }
   ],
   "source": [
    "for features,label in packed_ds.batch(1000).take(1):\n",
    "  print(features[0])\n",
    "  plt.hist(features.numpy().flatten(), bins = 101)"
   ]
  },
  {
   "cell_type": "markdown",
   "metadata": {},
   "source": [
    "#### This is what 1 observation looks like. "
   ]
  },
  {
   "cell_type": "code",
   "execution_count": 16,
   "metadata": {},
   "outputs": [
    {
     "name": "stdout",
     "output_type": "stream",
     "text": [
      "(1.0, 0.8692932, -0.6350818, 0.22569026, 0.32747006, -0.6899932, 0.75420225, -0.24857314, -1.0920639, 0.0, 1.3749921, -0.6536742, 0.9303491, 1.1074361, 1.1389043, -1.5781983, -1.0469854, 0.0, 0.65792954, -0.01045457, -0.04576717, 3.1019614, 1.35376, 0.9795631, 0.97807616, 0.92000484, 0.72165745, 0.98875093, 0.87667835)\n",
      "(1.0, 0.9075421, 0.32914728, 0.35941187, 1.4979699, -0.31300953, 1.0955306, -0.5575249, -1.5882298, 2.1730762, 0.8125812, -0.21364193, 1.2710146, 2.2148721, 0.49999395, -1.2614318, 0.73215616, 0.0, 0.3987009, -1.1389301, -0.0008191102, 0.0, 0.3022199, 0.83304816, 0.98569965, 0.9780984, 0.77973217, 0.99235576, 0.7983426)\n"
     ]
    }
   ],
   "source": [
    "print(list(ds.take(2).as_numpy_iterator())[0])\n",
    "print(list(ds.take(2).as_numpy_iterator())[1])"
   ]
  },
  {
   "cell_type": "code",
   "execution_count": 17,
   "metadata": {},
   "outputs": [],
   "source": [
    "featVals=[features.numpy()[0] for features,label in packed_ds.take(1000)]\n",
    "\n",
    "t=packed_ds.take(20000)"
   ]
  },
  {
   "cell_type": "code",
   "execution_count": 18,
   "metadata": {},
   "outputs": [
    {
     "name": "stdout",
     "output_type": "stream",
     "text": [
      "Values 1: 10457.0\n",
      "Values 0: 9543\n"
     ]
    }
   ],
   "source": [
    "t = [label.numpy() for features,label in packed_ds.take(20000)]\n",
    "print(\"Values 1:\",sum(t))\n",
    "print(\"Values 0:\",sum(np.equal(t,0)))"
   ]
  },
  {
   "cell_type": "code",
   "execution_count": 19,
   "metadata": {},
   "outputs": [
    {
     "name": "stdout",
     "output_type": "stream",
     "text": [
      "Min Value: -2.960813\n",
      "Max Value: 16.131908\n"
     ]
    }
   ],
   "source": [
    "t = np.array([features.numpy() for features,label in packed_ds.take(20000)])\n",
    "print(\"Min Value:\",min(t.flatten()))\n",
    "print(\"Max Value:\",max(t.flatten()))"
   ]
  },
  {
   "cell_type": "markdown",
   "metadata": {},
   "source": [
    "### TODO: Note that the paper used 100, we can increase this to reduce training time."
   ]
  },
  {
   "cell_type": "code",
   "execution_count": 20,
   "metadata": {},
   "outputs": [],
   "source": [
    "N_VALIDATION = int(1e3)\n",
    "N_TRAIN = int(1e4)\n",
    "BUFFER_SIZE = int(1e4)\n",
    "BATCH_SIZE = 500  \n",
    "STEPS_PER_EPOCH = N_TRAIN//BATCH_SIZE"
   ]
  },
  {
   "cell_type": "markdown",
   "metadata": {},
   "source": [
    "### At the same time, use the Dataset.cache method to ensure that the loader doesn't need to re-read the data from the file on each epoch:"
   ]
  },
  {
   "cell_type": "code",
   "execution_count": 21,
   "metadata": {},
   "outputs": [],
   "source": [
    "validate_ds = packed_ds.take(N_VALIDATION).cache()\n",
    "train_ds = packed_ds.skip(N_VALIDATION).take(N_TRAIN).cache()"
   ]
  },
  {
   "cell_type": "code",
   "execution_count": 22,
   "metadata": {},
   "outputs": [
    {
     "data": {
      "text/plain": [
       "<CacheDataset shapes: ((28,), ()), types: (tf.float32, tf.float32)>"
      ]
     },
     "execution_count": 22,
     "metadata": {},
     "output_type": "execute_result"
    }
   ],
   "source": [
    "train_ds"
   ]
  },
  {
   "cell_type": "code",
   "execution_count": 23,
   "metadata": {},
   "outputs": [],
   "source": [
    "validate_ds = validate_ds.batch(BATCH_SIZE)\n",
    "train_ds = train_ds.shuffle(BUFFER_SIZE).repeat().batch(BATCH_SIZE)"
   ]
  },
  {
   "cell_type": "code",
   "execution_count": 24,
   "metadata": {},
   "outputs": [
    {
     "data": {
      "text/plain": [
       "<tf.Tensor: shape=(25,), dtype=float32, numpy=\n",
       "array([ 0.,  1.,  2.,  3.,  4.,  5.,  6.,  7.,  8.,  9., 10., 11., 12.,\n",
       "       13., 14., 15., 16., 17., 18., 19., 20., 21., 22., 23., 24.],\n",
       "      dtype=float32)>"
      ]
     },
     "execution_count": 24,
     "metadata": {},
     "output_type": "execute_result"
    }
   ],
   "source": [
    "tf.range(25, dtype=tf.float32)"
   ]
  },
  {
   "cell_type": "code",
   "execution_count": 25,
   "metadata": {},
   "outputs": [
    {
     "data": {
      "text/plain": [
       "Text(0.5, 0, 'Train Step')"
      ]
     },
     "execution_count": 25,
     "metadata": {},
     "output_type": "execute_result"
    },
    {
     "data": {
      "image/png": "[encoded data removed]",
      "text/plain": [
       "<Figure size 576x432 with 1 Axes>"
      ]
     },
     "metadata": {
      "needs_background": "light"
     },
     "output_type": "display_data"
    }
   ],
   "source": [
    "temp_lr_schedule = CustomSchedule()\n",
    "plt.figure(figsize = (8,6))\n",
    "lrs = temp_lr_schedule(tf.range(40000000, dtype=tf.float32))\n",
    "plt.plot(lrs)\n",
    "plt.ylabel(\"Learning Rate\")\n",
    "plt.xlabel(\"Train Step\")"
   ]
  },
  {
   "cell_type": "code",
   "execution_count": 26,
   "metadata": {},
   "outputs": [
    {
     "data": {
      "text/plain": [
       "<tf.Tensor: shape=(40000000,), dtype=float32, numpy=\n",
       "array([0.05      , 0.04999999, 0.04999998, ..., 0.00091578, 0.00091578,\n",
       "       0.00091578], dtype=float32)>"
      ]
     },
     "execution_count": 26,
     "metadata": {},
     "output_type": "execute_result"
    }
   ],
   "source": [
    "lrs"
   ]
  },
  {
   "cell_type": "code",
   "execution_count": 27,
   "metadata": {},
   "outputs": [],
   "source": [
    "size_histories = {}"
   ]
  },
  {
   "cell_type": "markdown",
   "metadata": {},
   "source": [
    "##  Paper: https://archive.ics.uci.edu/ml/datasets/HIGGS\n",
    "### https://www.tensorflow.org/api_docs/python/tf/keras/initializers/RandomNormal"
   ]
  },
  {
   "cell_type": "markdown",
   "metadata": {},
   "source": [
    "#### Basically this tells our models where to initialize for each layer in the deep learning model"
   ]
  },
  {
   "cell_type": "code",
   "execution_count": 28,
   "metadata": {},
   "outputs": [],
   "source": [
    "\n",
    "first_initializer = tf.keras.initializers.RandomNormal(mean=0., stddev=0.1, seed=42)\n",
    "outer_initializer = tf.keras.initializers.RandomNormal(mean=0., stddev=0.001, seed=42)\n",
    "other_initializers = tf.keras.initializers.RandomNormal(mean=0., stddev=0.05, seed=42)\n",
    "\n",
    "\n",
    "weight_decay=0.00001\n",
    "paper_model = tf.keras.Sequential([\n",
    "    layers.Dense(300, activation='tanh', input_shape=(FEATURES,), kernel_initializer=first_initializer, kernel_regularizer=l2(weight_decay)),\n",
    "    layers.Dense(300, activation='tanh', kernel_initializer=other_initializers, kernel_regularizer=l2(weight_decay)),\n",
    "    layers.Dense(300, activation='tanh', kernel_initializer=other_initializers, kernel_regularizer=l2(weight_decay)),\n",
    "    layers.Dense(300, activation='tanh', kernel_initializer=other_initializers, kernel_regularizer=l2(weight_decay)),\n",
    "    layers.Dropout(0.5), # Top Hidden Layer\n",
    "    layers.Dense(1, activation='sigmoid', kernel_initializer=outer_initializer, kernel_regularizer=l2(weight_decay))\n",
    "    \n",
    "])"
   ]
  },
  {
   "cell_type": "markdown",
   "metadata": {},
   "source": [
    "## Paper Model Architecture "
   ]
  },
  {
   "cell_type": "code",
   "execution_count": 29,
   "metadata": {},
   "outputs": [
    {
     "name": "stdout",
     "output_type": "stream",
     "text": [
      "Model: \"sequential\"\n",
      "_________________________________________________________________\n",
      "Layer (type)                 Output Shape              Param #   \n",
      "=================================================================\n",
      "dense (Dense)                (None, 300)               8700      \n",
      "_________________________________________________________________\n",
      "dense_1 (Dense)              (None, 300)               90300     \n",
      "_________________________________________________________________\n",
      "dense_2 (Dense)              (None, 300)               90300     \n",
      "_________________________________________________________________\n",
      "dense_3 (Dense)              (None, 300)               90300     \n",
      "_________________________________________________________________\n",
      "dropout (Dropout)            (None, 300)               0         \n",
      "_________________________________________________________________\n",
      "dense_4 (Dense)              (None, 1)                 301       \n",
      "=================================================================\n",
      "Total params: 279,901\n",
      "Trainable params: 279,901\n",
      "Non-trainable params: 0\n",
      "_________________________________________________________________\n",
      "Epoch 1/10000\n",
      "\n",
      "Epoch: 0, AUC:0.5055,  accuracy:0.4751,  binary_crossentropy:0.7025,  loss:0.7101,  val_AUC:0.5485,  val_accuracy:0.4600,  val_binary_crossentropy:0.6893,  val_loss:0.6969,  \n",
      ".20/20 - 0s - loss: 0.7101 - AUC: 0.5055 - binary_crossentropy: 0.7025 - accuracy: 0.4751 - val_loss: 0.6969 - val_AUC: 0.5485 - val_binary_crossentropy: 0.6893 - val_accuracy: 0.4600\n",
      "Epoch 2/10000\n",
      ".20/20 - 0s - loss: 0.6986 - AUC: 0.5304 - binary_crossentropy: 0.6910 - accuracy: 0.4738 - val_loss: 0.6964 - val_AUC: 0.5668 - val_binary_crossentropy: 0.6888 - val_accuracy: 0.4600\n",
      "Epoch 3/10000\n",
      ".20/20 - 0s - loss: 0.6980 - AUC: 0.5487 - binary_crossentropy: 0.6905 - accuracy: 0.4738 - val_loss: 0.6957 - val_AUC: 0.5776 - val_binary_crossentropy: 0.6882 - val_accuracy: 0.4600\n",
      "Epoch 4/10000\n",
      ".20/20 - 0s - loss: 0.6971 - AUC: 0.5649 - binary_crossentropy: 0.6895 - accuracy: 0.4738 - val_loss: 0.6942 - val_AUC: 0.5823 - val_binary_crossentropy: 0.6867 - val_accuracy: 0.4600\n",
      "Epoch 5/10000\n",
      ".20/20 - 0s - loss: 0.6958 - AUC: 0.5810 - binary_crossentropy: 0.6882 - accuracy: 0.4741 - val_loss: 0.6928 - val_AUC: 0.5861 - val_binary_crossentropy: 0.6853 - val_accuracy: 0.4600\n",
      "Epoch 6/10000\n",
      ".20/20 - 0s - loss: 0.6937 - AUC: 0.5911 - binary_crossentropy: 0.6862 - accuracy: 0.4793 - val_loss: 0.6909 - val_AUC: 0.5884 - val_binary_crossentropy: 0.6833 - val_accuracy: 0.4650\n",
      "Epoch 7/10000\n",
      ".20/20 - 0s - loss: 0.6911 - AUC: 0.6020 - binary_crossentropy: 0.6835 - accuracy: 0.4932 - val_loss: 0.6886 - val_AUC: 0.5935 - val_binary_crossentropy: 0.6810 - val_accuracy: 0.4820\n",
      "Epoch 8/10000\n",
      ".20/20 - 0s - loss: 0.6882 - AUC: 0.6116 - binary_crossentropy: 0.6806 - accuracy: 0.5096 - val_loss: 0.6865 - val_AUC: 0.5966 - val_binary_crossentropy: 0.6789 - val_accuracy: 0.4990\n",
      "Epoch 9/10000\n",
      ".20/20 - 0s - loss: 0.6851 - AUC: 0.6219 - binary_crossentropy: 0.6776 - accuracy: 0.5257 - val_loss: 0.6842 - val_AUC: 0.6046 - val_binary_crossentropy: 0.6766 - val_accuracy: 0.5200\n",
      "Epoch 10/10000\n",
      ".20/20 - 0s - loss: 0.6822 - AUC: 0.6319 - binary_crossentropy: 0.6746 - accuracy: 0.5412 - val_loss: 0.6826 - val_AUC: 0.6131 - val_binary_crossentropy: 0.6750 - val_accuracy: 0.5340\n",
      "Epoch 11/10000\n",
      ".20/20 - 0s - loss: 0.6804 - AUC: 0.6382 - binary_crossentropy: 0.6728 - accuracy: 0.5476 - val_loss: 0.6812 - val_AUC: 0.6180 - val_binary_crossentropy: 0.6736 - val_accuracy: 0.5390\n",
      "Epoch 12/10000\n",
      ".20/20 - 0s - loss: 0.6789 - AUC: 0.6420 - binary_crossentropy: 0.6713 - accuracy: 0.5591 - val_loss: 0.6792 - val_AUC: 0.6276 - val_binary_crossentropy: 0.6716 - val_accuracy: 0.5220\n",
      "Epoch 13/10000\n",
      ".20/20 - 0s - loss: 0.6775 - AUC: 0.6474 - binary_crossentropy: 0.6699 - accuracy: 0.5607 - val_loss: 0.6784 - val_AUC: 0.6321 - val_binary_crossentropy: 0.6708 - val_accuracy: 0.5450\n",
      "Epoch 14/10000\n",
      ".20/20 - 0s - loss: 0.6772 - AUC: 0.6460 - binary_crossentropy: 0.6696 - accuracy: 0.5687 - val_loss: 0.6772 - val_AUC: 0.6334 - val_binary_crossentropy: 0.6697 - val_accuracy: 0.5590\n",
      "Epoch 15/10000\n",
      ".20/20 - 0s - loss: 0.6759 - AUC: 0.6528 - binary_crossentropy: 0.6683 - accuracy: 0.5679 - val_loss: 0.6765 - val_AUC: 0.6368 - val_binary_crossentropy: 0.6689 - val_accuracy: 0.5480\n",
      "Epoch 16/10000\n",
      ".20/20 - 0s - loss: 0.6756 - AUC: 0.6535 - binary_crossentropy: 0.6680 - accuracy: 0.5715 - val_loss: 0.6762 - val_AUC: 0.6424 - val_binary_crossentropy: 0.6686 - val_accuracy: 0.5470\n",
      "Epoch 17/10000\n",
      ".20/20 - 0s - loss: 0.6752 - AUC: 0.6546 - binary_crossentropy: 0.6676 - accuracy: 0.5766 - val_loss: 0.6762 - val_AUC: 0.6436 - val_binary_crossentropy: 0.6686 - val_accuracy: 0.5380\n",
      "Epoch 18/10000\n",
      ".20/20 - 0s - loss: 0.6752 - AUC: 0.6521 - binary_crossentropy: 0.6676 - accuracy: 0.5693 - val_loss: 0.6748 - val_AUC: 0.6438 - val_binary_crossentropy: 0.6672 - val_accuracy: 0.5620\n",
      "Epoch 19/10000\n",
      ".20/20 - 0s - loss: 0.6743 - AUC: 0.6567 - binary_crossentropy: 0.6667 - accuracy: 0.5810 - val_loss: 0.6737 - val_AUC: 0.6471 - val_binary_crossentropy: 0.6661 - val_accuracy: 0.5690\n",
      "Epoch 20/10000\n",
      ".20/20 - 0s - loss: 0.6733 - AUC: 0.6607 - binary_crossentropy: 0.6658 - accuracy: 0.5807 - val_loss: 0.6731 - val_AUC: 0.6525 - val_binary_crossentropy: 0.6655 - val_accuracy: 0.5830\n",
      "Epoch 21/10000\n",
      ".20/20 - 0s - loss: 0.6745 - AUC: 0.6548 - binary_crossentropy: 0.6669 - accuracy: 0.5806 - val_loss: 0.6746 - val_AUC: 0.6488 - val_binary_crossentropy: 0.6671 - val_accuracy: 0.5420\n",
      "Epoch 22/10000\n",
      ".20/20 - 0s - loss: 0.6729 - AUC: 0.6591 - binary_crossentropy: 0.6653 - accuracy: 0.5830 - val_loss: 0.6727 - val_AUC: 0.6498 - val_binary_crossentropy: 0.6652 - val_accuracy: 0.5730\n",
      "Epoch 23/10000\n",
      ".20/20 - 0s - loss: 0.6723 - AUC: 0.6622 - binary_crossentropy: 0.6647 - accuracy: 0.5920 - val_loss: 0.6732 - val_AUC: 0.6507 - val_binary_crossentropy: 0.6656 - val_accuracy: 0.5600\n",
      "Epoch 24/10000\n",
      ".20/20 - 0s - loss: 0.6721 - AUC: 0.6609 - binary_crossentropy: 0.6645 - accuracy: 0.5852 - val_loss: 0.6734 - val_AUC: 0.6495 - val_binary_crossentropy: 0.6659 - val_accuracy: 0.5660\n",
      "Epoch 25/10000\n",
      ".20/20 - 0s - loss: 0.6718 - AUC: 0.6610 - binary_crossentropy: 0.6642 - accuracy: 0.5885 - val_loss: 0.6709 - val_AUC: 0.6596 - val_binary_crossentropy: 0.6634 - val_accuracy: 0.5740\n",
      "Epoch 26/10000\n",
      ".20/20 - 0s - loss: 0.6711 - AUC: 0.6622 - binary_crossentropy: 0.6635 - accuracy: 0.5920 - val_loss: 0.6745 - val_AUC: 0.6476 - val_binary_crossentropy: 0.6669 - val_accuracy: 0.5910\n",
      "Epoch 27/10000\n",
      ".20/20 - 0s - loss: 0.6715 - AUC: 0.6631 - binary_crossentropy: 0.6639 - accuracy: 0.5931 - val_loss: 0.6724 - val_AUC: 0.6576 - val_binary_crossentropy: 0.6648 - val_accuracy: 0.5530\n",
      "Epoch 28/10000\n",
      ".20/20 - 0s - loss: 0.6713 - AUC: 0.6629 - binary_crossentropy: 0.6638 - accuracy: 0.5908 - val_loss: 0.6716 - val_AUC: 0.6577 - val_binary_crossentropy: 0.6641 - val_accuracy: 0.5800\n",
      "Epoch 29/10000\n",
      ".20/20 - 0s - loss: 0.6698 - AUC: 0.6654 - binary_crossentropy: 0.6623 - accuracy: 0.5946 - val_loss: 0.6709 - val_AUC: 0.6560 - val_binary_crossentropy: 0.6633 - val_accuracy: 0.5810\n",
      "Epoch 30/10000\n",
      ".20/20 - 0s - loss: 0.6694 - AUC: 0.6690 - binary_crossentropy: 0.6618 - accuracy: 0.5999 - val_loss: 0.6695 - val_AUC: 0.6621 - val_binary_crossentropy: 0.6620 - val_accuracy: 0.5750\n",
      "Epoch 31/10000\n",
      ".20/20 - 0s - loss: 0.6695 - AUC: 0.6660 - binary_crossentropy: 0.6619 - accuracy: 0.5940 - val_loss: 0.6741 - val_AUC: 0.6587 - val_binary_crossentropy: 0.6665 - val_accuracy: 0.6170\n",
      "Epoch 32/10000\n",
      ".20/20 - 0s - loss: 0.6705 - AUC: 0.6674 - binary_crossentropy: 0.6629 - accuracy: 0.5981 - val_loss: 0.6745 - val_AUC: 0.6542 - val_binary_crossentropy: 0.6669 - val_accuracy: 0.5470\n",
      "Epoch 33/10000\n",
      ".20/20 - 0s - loss: 0.6690 - AUC: 0.6685 - binary_crossentropy: 0.6614 - accuracy: 0.5986 - val_loss: 0.6694 - val_AUC: 0.6613 - val_binary_crossentropy: 0.6618 - val_accuracy: 0.5830\n",
      "Epoch 34/10000\n",
      ".20/20 - 0s - loss: 0.6697 - AUC: 0.6653 - binary_crossentropy: 0.6621 - accuracy: 0.5960 - val_loss: 0.6727 - val_AUC: 0.6521 - val_binary_crossentropy: 0.6651 - val_accuracy: 0.5640\n",
      "Epoch 35/10000\n",
      ".20/20 - 0s - loss: 0.6710 - AUC: 0.6653 - binary_crossentropy: 0.6635 - accuracy: 0.5964 - val_loss: 0.6711 - val_AUC: 0.6612 - val_binary_crossentropy: 0.6635 - val_accuracy: 0.5700\n"
     ]
    },
    {
     "name": "stdout",
     "output_type": "stream",
     "text": [
      "Epoch 36/10000\n",
      ".20/20 - 0s - loss: 0.6727 - AUC: 0.6601 - binary_crossentropy: 0.6651 - accuracy: 0.5782 - val_loss: 0.6725 - val_AUC: 0.6520 - val_binary_crossentropy: 0.6649 - val_accuracy: 0.5530\n",
      "Epoch 37/10000\n",
      ".20/20 - 0s - loss: 0.6695 - AUC: 0.6684 - binary_crossentropy: 0.6619 - accuracy: 0.5991 - val_loss: 0.6713 - val_AUC: 0.6532 - val_binary_crossentropy: 0.6637 - val_accuracy: 0.5660\n",
      "Epoch 38/10000\n",
      ".20/20 - 0s - loss: 0.6682 - AUC: 0.6701 - binary_crossentropy: 0.6606 - accuracy: 0.5966 - val_loss: 0.6692 - val_AUC: 0.6687 - val_binary_crossentropy: 0.6616 - val_accuracy: 0.5960\n",
      "Epoch 39/10000\n",
      ".20/20 - 0s - loss: 0.6669 - AUC: 0.6765 - binary_crossentropy: 0.6593 - accuracy: 0.6078 - val_loss: 0.6702 - val_AUC: 0.6660 - val_binary_crossentropy: 0.6626 - val_accuracy: 0.6080\n",
      "Epoch 40/10000\n",
      ".20/20 - 0s - loss: 0.6667 - AUC: 0.6772 - binary_crossentropy: 0.6592 - accuracy: 0.6048 - val_loss: 0.6673 - val_AUC: 0.6737 - val_binary_crossentropy: 0.6597 - val_accuracy: 0.5910\n",
      "Epoch 41/10000\n",
      ".20/20 - 0s - loss: 0.6649 - AUC: 0.6828 - binary_crossentropy: 0.6574 - accuracy: 0.6169 - val_loss: 0.6677 - val_AUC: 0.6740 - val_binary_crossentropy: 0.6601 - val_accuracy: 0.5800\n",
      "Epoch 42/10000\n",
      ".20/20 - 0s - loss: 0.6655 - AUC: 0.6812 - binary_crossentropy: 0.6579 - accuracy: 0.6113 - val_loss: 0.6662 - val_AUC: 0.6746 - val_binary_crossentropy: 0.6586 - val_accuracy: 0.5890\n",
      "Epoch 43/10000\n",
      ".20/20 - 0s - loss: 0.6654 - AUC: 0.6821 - binary_crossentropy: 0.6578 - accuracy: 0.6135 - val_loss: 0.6671 - val_AUC: 0.6707 - val_binary_crossentropy: 0.6596 - val_accuracy: 0.5910\n",
      "Epoch 44/10000\n",
      ".20/20 - 0s - loss: 0.6664 - AUC: 0.6790 - binary_crossentropy: 0.6588 - accuracy: 0.6133 - val_loss: 0.6677 - val_AUC: 0.6766 - val_binary_crossentropy: 0.6601 - val_accuracy: 0.6080\n",
      "Epoch 45/10000\n",
      ".20/20 - 0s - loss: 0.6636 - AUC: 0.6880 - binary_crossentropy: 0.6560 - accuracy: 0.6124 - val_loss: 0.6668 - val_AUC: 0.6737 - val_binary_crossentropy: 0.6592 - val_accuracy: 0.5920\n",
      "Epoch 46/10000\n",
      ".20/20 - 0s - loss: 0.6639 - AUC: 0.6852 - binary_crossentropy: 0.6563 - accuracy: 0.6129 - val_loss: 0.6644 - val_AUC: 0.6776 - val_binary_crossentropy: 0.6568 - val_accuracy: 0.5950\n",
      "Epoch 47/10000\n",
      ".20/20 - 0s - loss: 0.6657 - AUC: 0.6787 - binary_crossentropy: 0.6581 - accuracy: 0.6062 - val_loss: 0.6676 - val_AUC: 0.6750 - val_binary_crossentropy: 0.6600 - val_accuracy: 0.5800\n",
      "Epoch 48/10000\n",
      ".20/20 - 0s - loss: 0.6656 - AUC: 0.6804 - binary_crossentropy: 0.6580 - accuracy: 0.6112 - val_loss: 0.6681 - val_AUC: 0.6682 - val_binary_crossentropy: 0.6605 - val_accuracy: 0.6090\n",
      "Epoch 49/10000\n",
      ".20/20 - 0s - loss: 0.6627 - AUC: 0.6890 - binary_crossentropy: 0.6551 - accuracy: 0.6233 - val_loss: 0.6656 - val_AUC: 0.6697 - val_binary_crossentropy: 0.6580 - val_accuracy: 0.6050\n",
      "Epoch 50/10000\n",
      ".20/20 - 0s - loss: 0.6629 - AUC: 0.6930 - binary_crossentropy: 0.6553 - accuracy: 0.6198 - val_loss: 0.6635 - val_AUC: 0.6891 - val_binary_crossentropy: 0.6559 - val_accuracy: 0.5910\n",
      "Epoch 51/10000\n",
      ".20/20 - 0s - loss: 0.6627 - AUC: 0.6930 - binary_crossentropy: 0.6551 - accuracy: 0.6242 - val_loss: 0.6650 - val_AUC: 0.6812 - val_binary_crossentropy: 0.6574 - val_accuracy: 0.6100\n",
      "Epoch 52/10000\n",
      ".20/20 - 0s - loss: 0.6619 - AUC: 0.6899 - binary_crossentropy: 0.6543 - accuracy: 0.6207 - val_loss: 0.6633 - val_AUC: 0.6827 - val_binary_crossentropy: 0.6557 - val_accuracy: 0.5960\n",
      "Epoch 53/10000\n",
      ".20/20 - 0s - loss: 0.6603 - AUC: 0.6936 - binary_crossentropy: 0.6527 - accuracy: 0.6238 - val_loss: 0.6668 - val_AUC: 0.6867 - val_binary_crossentropy: 0.6592 - val_accuracy: 0.6350\n",
      "Epoch 54/10000\n",
      ".20/20 - 0s - loss: 0.6630 - AUC: 0.6900 - binary_crossentropy: 0.6554 - accuracy: 0.6218 - val_loss: 0.6652 - val_AUC: 0.6821 - val_binary_crossentropy: 0.6576 - val_accuracy: 0.5750\n",
      "Epoch 55/10000\n",
      ".20/20 - 0s - loss: 0.6626 - AUC: 0.6882 - binary_crossentropy: 0.6550 - accuracy: 0.6207 - val_loss: 0.6647 - val_AUC: 0.6783 - val_binary_crossentropy: 0.6571 - val_accuracy: 0.5820\n",
      "Epoch 56/10000\n",
      ".20/20 - 0s - loss: 0.6614 - AUC: 0.6908 - binary_crossentropy: 0.6538 - accuracy: 0.6240 - val_loss: 0.6665 - val_AUC: 0.6834 - val_binary_crossentropy: 0.6589 - val_accuracy: 0.6290\n",
      "Epoch 57/10000\n",
      ".20/20 - 0s - loss: 0.6602 - AUC: 0.6979 - binary_crossentropy: 0.6526 - accuracy: 0.6264 - val_loss: 0.6646 - val_AUC: 0.6923 - val_binary_crossentropy: 0.6570 - val_accuracy: 0.6340\n",
      "Epoch 58/10000\n",
      ".20/20 - 0s - loss: 0.6656 - AUC: 0.6843 - binary_crossentropy: 0.6580 - accuracy: 0.6173 - val_loss: 0.6726 - val_AUC: 0.6663 - val_binary_crossentropy: 0.6650 - val_accuracy: 0.5420\n",
      "Epoch 59/10000\n",
      ".20/20 - 0s - loss: 0.6626 - AUC: 0.6884 - binary_crossentropy: 0.6549 - accuracy: 0.6218 - val_loss: 0.6625 - val_AUC: 0.6979 - val_binary_crossentropy: 0.6549 - val_accuracy: 0.6330\n",
      "Epoch 60/10000\n",
      ".20/20 - 0s - loss: 0.6590 - AUC: 0.7004 - binary_crossentropy: 0.6514 - accuracy: 0.6337 - val_loss: 0.6660 - val_AUC: 0.6768 - val_binary_crossentropy: 0.6584 - val_accuracy: 0.5710\n",
      "Epoch 61/10000\n",
      ".20/20 - 0s - loss: 0.6584 - AUC: 0.7024 - binary_crossentropy: 0.6508 - accuracy: 0.6319 - val_loss: 0.6614 - val_AUC: 0.6861 - val_binary_crossentropy: 0.6538 - val_accuracy: 0.6210\n",
      "Epoch 62/10000\n",
      ".20/20 - 0s - loss: 0.6588 - AUC: 0.6997 - binary_crossentropy: 0.6512 - accuracy: 0.6391 - val_loss: 0.6658 - val_AUC: 0.6822 - val_binary_crossentropy: 0.6581 - val_accuracy: 0.5790\n",
      "Epoch 63/10000\n",
      ".20/20 - 0s - loss: 0.6610 - AUC: 0.6950 - binary_crossentropy: 0.6533 - accuracy: 0.6216 - val_loss: 0.6709 - val_AUC: 0.6849 - val_binary_crossentropy: 0.6633 - val_accuracy: 0.6290\n",
      "Epoch 64/10000\n",
      ".20/20 - 0s - loss: 0.6600 - AUC: 0.6985 - binary_crossentropy: 0.6523 - accuracy: 0.6322 - val_loss: 0.6653 - val_AUC: 0.6816 - val_binary_crossentropy: 0.6577 - val_accuracy: 0.5890\n",
      "Epoch 65/10000\n",
      ".20/20 - 0s - loss: 0.6595 - AUC: 0.6957 - binary_crossentropy: 0.6518 - accuracy: 0.6376 - val_loss: 0.6643 - val_AUC: 0.6720 - val_binary_crossentropy: 0.6567 - val_accuracy: 0.5860\n",
      "Epoch 66/10000\n",
      ".20/20 - 0s - loss: 0.6566 - AUC: 0.6996 - binary_crossentropy: 0.6490 - accuracy: 0.6378 - val_loss: 0.6595 - val_AUC: 0.6817 - val_binary_crossentropy: 0.6519 - val_accuracy: 0.6180\n",
      "Epoch 67/10000\n",
      ".20/20 - 0s - loss: 0.6556 - AUC: 0.7077 - binary_crossentropy: 0.6479 - accuracy: 0.6394 - val_loss: 0.6593 - val_AUC: 0.6921 - val_binary_crossentropy: 0.6516 - val_accuracy: 0.6110\n",
      "Epoch 68/10000\n",
      ".20/20 - 0s - loss: 0.6577 - AUC: 0.7018 - binary_crossentropy: 0.6501 - accuracy: 0.6364 - val_loss: 0.6730 - val_AUC: 0.6589 - val_binary_crossentropy: 0.6654 - val_accuracy: 0.5470\n",
      "Epoch 69/10000\n",
      ".20/20 - 0s - loss: 0.6584 - AUC: 0.7004 - binary_crossentropy: 0.6508 - accuracy: 0.6370 - val_loss: 0.6579 - val_AUC: 0.6914 - val_binary_crossentropy: 0.6503 - val_accuracy: 0.6280\n",
      "Epoch 70/10000\n",
      ".20/20 - 0s - loss: 0.6571 - AUC: 0.7009 - binary_crossentropy: 0.6494 - accuracy: 0.6310 - val_loss: 0.6616 - val_AUC: 0.6812 - val_binary_crossentropy: 0.6539 - val_accuracy: 0.5810\n",
      "Epoch 71/10000\n",
      ".20/20 - 0s - loss: 0.6550 - AUC: 0.7076 - binary_crossentropy: 0.6474 - accuracy: 0.6460 - val_loss: 0.6718 - val_AUC: 0.6602 - val_binary_crossentropy: 0.6641 - val_accuracy: 0.5410\n",
      "Epoch 72/10000\n",
      ".20/20 - 0s - loss: 0.6588 - AUC: 0.6964 - binary_crossentropy: 0.6512 - accuracy: 0.6277 - val_loss: 0.6602 - val_AUC: 0.6909 - val_binary_crossentropy: 0.6525 - val_accuracy: 0.6170\n",
      "Epoch 73/10000\n",
      ".20/20 - 0s - loss: 0.6538 - AUC: 0.7083 - binary_crossentropy: 0.6462 - accuracy: 0.6445 - val_loss: 0.6610 - val_AUC: 0.6897 - val_binary_crossentropy: 0.6534 - val_accuracy: 0.6150\n",
      "Epoch 74/10000\n",
      ".20/20 - 0s - loss: 0.6525 - AUC: 0.7115 - binary_crossentropy: 0.6448 - accuracy: 0.6545 - val_loss: 0.6579 - val_AUC: 0.6993 - val_binary_crossentropy: 0.6502 - val_accuracy: 0.6270\n",
      "Epoch 75/10000\n",
      ".20/20 - 0s - loss: 0.6568 - AUC: 0.7046 - binary_crossentropy: 0.6491 - accuracy: 0.6359 - val_loss: 0.6609 - val_AUC: 0.6865 - val_binary_crossentropy: 0.6532 - val_accuracy: 0.6110\n",
      "Epoch 76/10000\n",
      ".20/20 - 0s - loss: 0.6547 - AUC: 0.7097 - binary_crossentropy: 0.6470 - accuracy: 0.6479 - val_loss: 0.6592 - val_AUC: 0.6992 - val_binary_crossentropy: 0.6516 - val_accuracy: 0.6130\n",
      "Epoch 77/10000\n",
      ".20/20 - 0s - loss: 0.6515 - AUC: 0.7168 - binary_crossentropy: 0.6438 - accuracy: 0.6572 - val_loss: 0.6683 - val_AUC: 0.6604 - val_binary_crossentropy: 0.6606 - val_accuracy: 0.5690\n"
     ]
    },
    {
     "name": "stdout",
     "output_type": "stream",
     "text": [
      "Epoch 78/10000\n",
      ".20/20 - 0s - loss: 0.6555 - AUC: 0.7034 - binary_crossentropy: 0.6478 - accuracy: 0.6406 - val_loss: 0.6578 - val_AUC: 0.6850 - val_binary_crossentropy: 0.6501 - val_accuracy: 0.6210\n",
      "Epoch 79/10000\n",
      ".20/20 - 0s - loss: 0.6499 - AUC: 0.7151 - binary_crossentropy: 0.6422 - accuracy: 0.6559 - val_loss: 0.6560 - val_AUC: 0.7016 - val_binary_crossentropy: 0.6483 - val_accuracy: 0.6230\n",
      "Epoch 80/10000\n",
      ".20/20 - 0s - loss: 0.6485 - AUC: 0.7203 - binary_crossentropy: 0.6408 - accuracy: 0.6638 - val_loss: 0.6551 - val_AUC: 0.6976 - val_binary_crossentropy: 0.6474 - val_accuracy: 0.6320\n",
      "Epoch 81/10000\n",
      ".20/20 - 0s - loss: 0.6544 - AUC: 0.7047 - binary_crossentropy: 0.6467 - accuracy: 0.6478 - val_loss: 0.6611 - val_AUC: 0.6876 - val_binary_crossentropy: 0.6534 - val_accuracy: 0.5890\n",
      "Epoch 82/10000\n",
      ".20/20 - 0s - loss: 0.6496 - AUC: 0.7157 - binary_crossentropy: 0.6419 - accuracy: 0.6553 - val_loss: 0.6602 - val_AUC: 0.6818 - val_binary_crossentropy: 0.6525 - val_accuracy: 0.6120\n",
      "Epoch 83/10000\n",
      ".20/20 - 0s - loss: 0.6499 - AUC: 0.7132 - binary_crossentropy: 0.6422 - accuracy: 0.6580 - val_loss: 0.6571 - val_AUC: 0.6903 - val_binary_crossentropy: 0.6494 - val_accuracy: 0.6530\n",
      "Epoch 84/10000\n",
      ".20/20 - 0s - loss: 0.6599 - AUC: 0.6924 - binary_crossentropy: 0.6522 - accuracy: 0.6342 - val_loss: 0.6743 - val_AUC: 0.6512 - val_binary_crossentropy: 0.6666 - val_accuracy: 0.5450\n",
      "Epoch 85/10000\n",
      ".20/20 - 0s - loss: 0.6554 - AUC: 0.7031 - binary_crossentropy: 0.6477 - accuracy: 0.6443 - val_loss: 0.6607 - val_AUC: 0.7013 - val_binary_crossentropy: 0.6530 - val_accuracy: 0.6500\n",
      "Epoch 86/10000\n",
      ".20/20 - 0s - loss: 0.6528 - AUC: 0.7101 - binary_crossentropy: 0.6451 - accuracy: 0.6539 - val_loss: 0.6634 - val_AUC: 0.6744 - val_binary_crossentropy: 0.6557 - val_accuracy: 0.5860\n",
      "Epoch 87/10000\n",
      ".20/20 - 0s - loss: 0.6489 - AUC: 0.7161 - binary_crossentropy: 0.6412 - accuracy: 0.6667 - val_loss: 0.6616 - val_AUC: 0.6826 - val_binary_crossentropy: 0.6539 - val_accuracy: 0.6030\n",
      "Epoch 88/10000\n",
      ".20/20 - 0s - loss: 0.6471 - AUC: 0.7185 - binary_crossentropy: 0.6394 - accuracy: 0.6638 - val_loss: 0.6557 - val_AUC: 0.7059 - val_binary_crossentropy: 0.6480 - val_accuracy: 0.6290\n",
      "Epoch 89/10000\n",
      ".20/20 - 0s - loss: 0.6516 - AUC: 0.7136 - binary_crossentropy: 0.6439 - accuracy: 0.6541 - val_loss: 0.6622 - val_AUC: 0.6764 - val_binary_crossentropy: 0.6545 - val_accuracy: 0.6010\n",
      "Epoch 90/10000\n",
      ".20/20 - 0s - loss: 0.6555 - AUC: 0.7005 - binary_crossentropy: 0.6477 - accuracy: 0.6408 - val_loss: 0.6604 - val_AUC: 0.6750 - val_binary_crossentropy: 0.6527 - val_accuracy: 0.5920\n",
      "Epoch 91/10000\n",
      ".20/20 - 0s - loss: 0.6515 - AUC: 0.7112 - binary_crossentropy: 0.6438 - accuracy: 0.6594 - val_loss: 0.6618 - val_AUC: 0.6728 - val_binary_crossentropy: 0.6541 - val_accuracy: 0.5980\n",
      "Epoch 92/10000\n",
      ".20/20 - 0s - loss: 0.6477 - AUC: 0.7173 - binary_crossentropy: 0.6400 - accuracy: 0.6628 - val_loss: 0.6544 - val_AUC: 0.6923 - val_binary_crossentropy: 0.6466 - val_accuracy: 0.6360\n",
      "Epoch 93/10000\n",
      ".20/20 - 0s - loss: 0.6475 - AUC: 0.7198 - binary_crossentropy: 0.6398 - accuracy: 0.6626 - val_loss: 0.6541 - val_AUC: 0.6979 - val_binary_crossentropy: 0.6463 - val_accuracy: 0.6470\n",
      "Epoch 94/10000\n",
      ".20/20 - 0s - loss: 0.6435 - AUC: 0.7279 - binary_crossentropy: 0.6357 - accuracy: 0.6740 - val_loss: 0.6548 - val_AUC: 0.7054 - val_binary_crossentropy: 0.6470 - val_accuracy: 0.6320\n",
      "Epoch 95/10000\n",
      ".20/20 - 0s - loss: 0.6430 - AUC: 0.7298 - binary_crossentropy: 0.6353 - accuracy: 0.6786 - val_loss: 0.6619 - val_AUC: 0.6835 - val_binary_crossentropy: 0.6542 - val_accuracy: 0.5920\n",
      "Epoch 96/10000\n",
      ".20/20 - 0s - loss: 0.6511 - AUC: 0.7140 - binary_crossentropy: 0.6433 - accuracy: 0.6583 - val_loss: 0.6772 - val_AUC: 0.6257 - val_binary_crossentropy: 0.6694 - val_accuracy: 0.5330\n",
      "Epoch 97/10000\n",
      ".20/20 - 0s - loss: 0.6573 - AUC: 0.6906 - binary_crossentropy: 0.6495 - accuracy: 0.6342 - val_loss: 0.6594 - val_AUC: 0.6752 - val_binary_crossentropy: 0.6517 - val_accuracy: 0.6020\n",
      "Epoch 98/10000\n",
      ".20/20 - 0s - loss: 0.6457 - AUC: 0.7232 - binary_crossentropy: 0.6380 - accuracy: 0.6732 - val_loss: 0.6574 - val_AUC: 0.6927 - val_binary_crossentropy: 0.6496 - val_accuracy: 0.6290\n",
      "Epoch 99/10000\n",
      ".20/20 - 0s - loss: 0.6439 - AUC: 0.7261 - binary_crossentropy: 0.6361 - accuracy: 0.6788 - val_loss: 0.6601 - val_AUC: 0.6839 - val_binary_crossentropy: 0.6524 - val_accuracy: 0.5990\n",
      "Epoch 100/10000\n",
      ".20/20 - 0s - loss: 0.6443 - AUC: 0.7256 - binary_crossentropy: 0.6365 - accuracy: 0.6737 - val_loss: 0.6575 - val_AUC: 0.6919 - val_binary_crossentropy: 0.6497 - val_accuracy: 0.6290\n",
      "Epoch 101/10000\n",
      "\n",
      "Epoch: 100, AUC:0.7310,  accuracy:0.6824,  binary_crossentropy:0.6344,  loss:0.6422,  val_AUC:0.6955,  val_accuracy:0.6030,  val_binary_crossentropy:0.6521,  val_loss:0.6599,  \n",
      ".20/20 - 0s - loss: 0.6422 - AUC: 0.7310 - binary_crossentropy: 0.6344 - accuracy: 0.6824 - val_loss: 0.6599 - val_AUC: 0.6955 - val_binary_crossentropy: 0.6521 - val_accuracy: 0.6030\n",
      "Epoch 102/10000\n",
      ".20/20 - 0s - loss: 0.6394 - AUC: 0.7343 - binary_crossentropy: 0.6316 - accuracy: 0.6839 - val_loss: 0.6546 - val_AUC: 0.7094 - val_binary_crossentropy: 0.6468 - val_accuracy: 0.6380\n",
      "Epoch 103/10000\n",
      ".20/20 - 0s - loss: 0.6456 - AUC: 0.7200 - binary_crossentropy: 0.6378 - accuracy: 0.6677 - val_loss: 0.6601 - val_AUC: 0.6900 - val_binary_crossentropy: 0.6523 - val_accuracy: 0.6090\n",
      "Epoch 104/10000\n",
      ".20/20 - 0s - loss: 0.6398 - AUC: 0.7320 - binary_crossentropy: 0.6320 - accuracy: 0.6838 - val_loss: 0.6533 - val_AUC: 0.7093 - val_binary_crossentropy: 0.6455 - val_accuracy: 0.6650\n",
      "Epoch 105/10000\n",
      ".20/20 - 0s - loss: 0.6411 - AUC: 0.7291 - binary_crossentropy: 0.6333 - accuracy: 0.6836 - val_loss: 0.6540 - val_AUC: 0.7054 - val_binary_crossentropy: 0.6461 - val_accuracy: 0.6320\n",
      "Epoch 106/10000\n",
      ".20/20 - 0s - loss: 0.6425 - AUC: 0.7274 - binary_crossentropy: 0.6347 - accuracy: 0.6770 - val_loss: 0.6526 - val_AUC: 0.7085 - val_binary_crossentropy: 0.6448 - val_accuracy: 0.6710\n",
      "Epoch 107/10000\n",
      ".20/20 - 0s - loss: 0.6410 - AUC: 0.7293 - binary_crossentropy: 0.6332 - accuracy: 0.6809 - val_loss: 0.6590 - val_AUC: 0.6927 - val_binary_crossentropy: 0.6512 - val_accuracy: 0.6110\n",
      "Epoch 108/10000\n",
      ".20/20 - 0s - loss: 0.6453 - AUC: 0.7214 - binary_crossentropy: 0.6374 - accuracy: 0.6706 - val_loss: 0.6551 - val_AUC: 0.6891 - val_binary_crossentropy: 0.6473 - val_accuracy: 0.6330\n",
      "Epoch 109/10000\n",
      ".20/20 - 0s - loss: 0.6398 - AUC: 0.7323 - binary_crossentropy: 0.6319 - accuracy: 0.6875 - val_loss: 0.6550 - val_AUC: 0.6937 - val_binary_crossentropy: 0.6472 - val_accuracy: 0.6250\n",
      "Epoch 110/10000\n",
      ".20/20 - 0s - loss: 0.6371 - AUC: 0.7389 - binary_crossentropy: 0.6293 - accuracy: 0.6910 - val_loss: 0.6543 - val_AUC: 0.7090 - val_binary_crossentropy: 0.6465 - val_accuracy: 0.6500\n",
      "Epoch 111/10000\n",
      ".20/20 - 0s - loss: 0.6359 - AUC: 0.7370 - binary_crossentropy: 0.6280 - accuracy: 0.6961 - val_loss: 0.6581 - val_AUC: 0.7002 - val_binary_crossentropy: 0.6502 - val_accuracy: 0.6350\n",
      "Epoch 112/10000\n",
      ".20/20 - 0s - loss: 0.6352 - AUC: 0.7386 - binary_crossentropy: 0.6274 - accuracy: 0.6979 - val_loss: 0.6558 - val_AUC: 0.6985 - val_binary_crossentropy: 0.6480 - val_accuracy: 0.6310\n",
      "Epoch 113/10000\n",
      ".20/20 - 0s - loss: 0.6406 - AUC: 0.7330 - binary_crossentropy: 0.6328 - accuracy: 0.6832 - val_loss: 0.6716 - val_AUC: 0.6468 - val_binary_crossentropy: 0.6637 - val_accuracy: 0.5630\n",
      "Epoch 114/10000\n",
      ".20/20 - 0s - loss: 0.6432 - AUC: 0.7273 - binary_crossentropy: 0.6354 - accuracy: 0.6767 - val_loss: 0.6622 - val_AUC: 0.6864 - val_binary_crossentropy: 0.6543 - val_accuracy: 0.6240\n",
      "Epoch 115/10000\n",
      ".20/20 - 0s - loss: 0.6413 - AUC: 0.7296 - binary_crossentropy: 0.6335 - accuracy: 0.6787 - val_loss: 0.6549 - val_AUC: 0.6950 - val_binary_crossentropy: 0.6471 - val_accuracy: 0.6250\n",
      "Epoch 116/10000\n",
      ".20/20 - 0s - loss: 0.6391 - AUC: 0.7339 - binary_crossentropy: 0.6312 - accuracy: 0.6852 - val_loss: 0.6582 - val_AUC: 0.6929 - val_binary_crossentropy: 0.6503 - val_accuracy: 0.6240\n",
      "Epoch 117/10000\n",
      ".20/20 - 0s - loss: 0.6365 - AUC: 0.7381 - binary_crossentropy: 0.6287 - accuracy: 0.6932 - val_loss: 0.6557 - val_AUC: 0.6986 - val_binary_crossentropy: 0.6479 - val_accuracy: 0.6520\n",
      "Epoch 118/10000\n",
      ".20/20 - 0s - loss: 0.6362 - AUC: 0.7397 - binary_crossentropy: 0.6283 - accuracy: 0.6941 - val_loss: 0.6536 - val_AUC: 0.6987 - val_binary_crossentropy: 0.6457 - val_accuracy: 0.6380\n"
     ]
    },
    {
     "name": "stdout",
     "output_type": "stream",
     "text": [
      "Epoch 119/10000\n",
      ".20/20 - 0s - loss: 0.6351 - AUC: 0.7393 - binary_crossentropy: 0.6272 - accuracy: 0.6976 - val_loss: 0.6597 - val_AUC: 0.6816 - val_binary_crossentropy: 0.6518 - val_accuracy: 0.6080\n",
      "Epoch 120/10000\n",
      ".20/20 - 0s - loss: 0.6389 - AUC: 0.7352 - binary_crossentropy: 0.6310 - accuracy: 0.6872 - val_loss: 0.6736 - val_AUC: 0.6413 - val_binary_crossentropy: 0.6657 - val_accuracy: 0.5470\n",
      "Epoch 121/10000\n",
      ".20/20 - 0s - loss: 0.6599 - AUC: 0.6761 - binary_crossentropy: 0.6520 - accuracy: 0.6244 - val_loss: 0.6565 - val_AUC: 0.6762 - val_binary_crossentropy: 0.6486 - val_accuracy: 0.6240\n",
      "Epoch 122/10000\n",
      ".20/20 - 0s - loss: 0.6395 - AUC: 0.7286 - binary_crossentropy: 0.6316 - accuracy: 0.6821 - val_loss: 0.6625 - val_AUC: 0.6921 - val_binary_crossentropy: 0.6546 - val_accuracy: 0.6030\n",
      "Epoch 123/10000\n",
      ".20/20 - 0s - loss: 0.6335 - AUC: 0.7421 - binary_crossentropy: 0.6256 - accuracy: 0.7000 - val_loss: 0.6597 - val_AUC: 0.6895 - val_binary_crossentropy: 0.6518 - val_accuracy: 0.6080\n",
      "Epoch 124/10000\n",
      ".20/20 - 0s - loss: 0.6339 - AUC: 0.7405 - binary_crossentropy: 0.6260 - accuracy: 0.6970 - val_loss: 0.6527 - val_AUC: 0.7091 - val_binary_crossentropy: 0.6448 - val_accuracy: 0.6440\n",
      "Epoch 125/10000\n",
      ".20/20 - 0s - loss: 0.6382 - AUC: 0.7335 - binary_crossentropy: 0.6303 - accuracy: 0.6863 - val_loss: 0.6580 - val_AUC: 0.7002 - val_binary_crossentropy: 0.6500 - val_accuracy: 0.6710\n",
      "Epoch 126/10000\n",
      ".20/20 - 0s - loss: 0.6434 - AUC: 0.7244 - binary_crossentropy: 0.6354 - accuracy: 0.6722 - val_loss: 0.6619 - val_AUC: 0.6703 - val_binary_crossentropy: 0.6540 - val_accuracy: 0.6040\n",
      "Epoch 127/10000\n",
      ".20/20 - 0s - loss: 0.6446 - AUC: 0.7232 - binary_crossentropy: 0.6366 - accuracy: 0.6708 - val_loss: 0.6642 - val_AUC: 0.6524 - val_binary_crossentropy: 0.6563 - val_accuracy: 0.5860\n",
      "Epoch 128/10000\n",
      ".20/20 - 0s - loss: 0.6387 - AUC: 0.7327 - binary_crossentropy: 0.6308 - accuracy: 0.6865 - val_loss: 0.6603 - val_AUC: 0.6850 - val_binary_crossentropy: 0.6523 - val_accuracy: 0.6270\n",
      "Epoch 129/10000\n",
      ".20/20 - 0s - loss: 0.6366 - AUC: 0.7362 - binary_crossentropy: 0.6286 - accuracy: 0.6892 - val_loss: 0.6666 - val_AUC: 0.6509 - val_binary_crossentropy: 0.6586 - val_accuracy: 0.5790\n",
      "Epoch 130/10000\n",
      ".20/20 - 0s - loss: 0.6388 - AUC: 0.7317 - binary_crossentropy: 0.6309 - accuracy: 0.6872 - val_loss: 0.6761 - val_AUC: 0.6162 - val_binary_crossentropy: 0.6681 - val_accuracy: 0.5430\n",
      "Epoch 131/10000\n",
      ".20/20 - 0s - loss: 0.6562 - AUC: 0.6905 - binary_crossentropy: 0.6482 - accuracy: 0.6407 - val_loss: 0.6620 - val_AUC: 0.6786 - val_binary_crossentropy: 0.6541 - val_accuracy: 0.6080\n",
      "Epoch 132/10000\n",
      ".20/20 - 0s - loss: 0.6336 - AUC: 0.7412 - binary_crossentropy: 0.6257 - accuracy: 0.6967 - val_loss: 0.6596 - val_AUC: 0.6751 - val_binary_crossentropy: 0.6516 - val_accuracy: 0.6180\n",
      "Epoch 133/10000\n",
      ".20/20 - 0s - loss: 0.6361 - AUC: 0.7388 - binary_crossentropy: 0.6281 - accuracy: 0.6897 - val_loss: 0.6585 - val_AUC: 0.6972 - val_binary_crossentropy: 0.6505 - val_accuracy: 0.6460\n",
      "Epoch 134/10000\n",
      ".20/20 - 0s - loss: 0.6327 - AUC: 0.7455 - binary_crossentropy: 0.6247 - accuracy: 0.6996 - val_loss: 0.6549 - val_AUC: 0.7116 - val_binary_crossentropy: 0.6469 - val_accuracy: 0.6690\n",
      "Epoch 135/10000\n",
      ".20/20 - 0s - loss: 0.6358 - AUC: 0.7393 - binary_crossentropy: 0.6278 - accuracy: 0.6961 - val_loss: 0.6555 - val_AUC: 0.6885 - val_binary_crossentropy: 0.6475 - val_accuracy: 0.6460\n",
      "Epoch 136/10000\n",
      ".20/20 - 0s - loss: 0.6303 - AUC: 0.7462 - binary_crossentropy: 0.6223 - accuracy: 0.7078 - val_loss: 0.6571 - val_AUC: 0.7038 - val_binary_crossentropy: 0.6491 - val_accuracy: 0.6510\n",
      "Epoch 137/10000\n",
      ".20/20 - 0s - loss: 0.6286 - AUC: 0.7497 - binary_crossentropy: 0.6206 - accuracy: 0.7103 - val_loss: 0.6578 - val_AUC: 0.6952 - val_binary_crossentropy: 0.6498 - val_accuracy: 0.6450\n",
      "Epoch 138/10000\n",
      ".20/20 - 0s - loss: 0.6278 - AUC: 0.7517 - binary_crossentropy: 0.6198 - accuracy: 0.7127 - val_loss: 0.6568 - val_AUC: 0.6965 - val_binary_crossentropy: 0.6488 - val_accuracy: 0.6390\n",
      "Epoch 139/10000\n",
      ".20/20 - 0s - loss: 0.6266 - AUC: 0.7542 - binary_crossentropy: 0.6185 - accuracy: 0.7147 - val_loss: 0.6598 - val_AUC: 0.6804 - val_binary_crossentropy: 0.6518 - val_accuracy: 0.6220\n",
      "Epoch 140/10000\n",
      ".20/20 - 0s - loss: 0.6295 - AUC: 0.7483 - binary_crossentropy: 0.6215 - accuracy: 0.7135 - val_loss: 0.6549 - val_AUC: 0.6976 - val_binary_crossentropy: 0.6469 - val_accuracy: 0.6460\n",
      "Epoch 141/10000\n",
      ".20/20 - 0s - loss: 0.6273 - AUC: 0.7521 - binary_crossentropy: 0.6193 - accuracy: 0.7148 - val_loss: 0.6576 - val_AUC: 0.6931 - val_binary_crossentropy: 0.6495 - val_accuracy: 0.6340\n",
      "Epoch 142/10000\n",
      ".20/20 - 0s - loss: 0.6256 - AUC: 0.7522 - binary_crossentropy: 0.6175 - accuracy: 0.7189 - val_loss: 0.6601 - val_AUC: 0.6801 - val_binary_crossentropy: 0.6521 - val_accuracy: 0.6080\n",
      "Epoch 143/10000\n",
      ".20/20 - 0s - loss: 0.6258 - AUC: 0.7505 - binary_crossentropy: 0.6178 - accuracy: 0.7161 - val_loss: 0.6562 - val_AUC: 0.6910 - val_binary_crossentropy: 0.6482 - val_accuracy: 0.6320\n",
      "Epoch 144/10000\n",
      ".20/20 - 0s - loss: 0.6256 - AUC: 0.7566 - binary_crossentropy: 0.6176 - accuracy: 0.7190 - val_loss: 0.6561 - val_AUC: 0.6993 - val_binary_crossentropy: 0.6481 - val_accuracy: 0.6550\n",
      "Epoch 145/10000\n",
      ".20/20 - 0s - loss: 0.6304 - AUC: 0.7470 - binary_crossentropy: 0.6223 - accuracy: 0.7076 - val_loss: 0.6554 - val_AUC: 0.6848 - val_binary_crossentropy: 0.6474 - val_accuracy: 0.6350\n",
      "Epoch 146/10000\n",
      ".20/20 - 0s - loss: 0.6289 - AUC: 0.7502 - binary_crossentropy: 0.6208 - accuracy: 0.7098 - val_loss: 0.6613 - val_AUC: 0.6836 - val_binary_crossentropy: 0.6532 - val_accuracy: 0.6080\n",
      "Epoch 147/10000\n",
      ".20/20 - 0s - loss: 0.6235 - AUC: 0.7596 - binary_crossentropy: 0.6154 - accuracy: 0.7232 - val_loss: 0.6566 - val_AUC: 0.6864 - val_binary_crossentropy: 0.6485 - val_accuracy: 0.6340\n",
      "Epoch 148/10000\n",
      ".20/20 - 0s - loss: 0.6231 - AUC: 0.7587 - binary_crossentropy: 0.6150 - accuracy: 0.7263 - val_loss: 0.6621 - val_AUC: 0.6654 - val_binary_crossentropy: 0.6540 - val_accuracy: 0.6090\n",
      "Epoch 149/10000\n",
      ".20/20 - 0s - loss: 0.6232 - AUC: 0.7572 - binary_crossentropy: 0.6152 - accuracy: 0.7212 - val_loss: 0.6557 - val_AUC: 0.6935 - val_binary_crossentropy: 0.6476 - val_accuracy: 0.6480\n",
      "Epoch 150/10000\n",
      ".20/20 - 0s - loss: 0.6206 - AUC: 0.7599 - binary_crossentropy: 0.6126 - accuracy: 0.7320 - val_loss: 0.6554 - val_AUC: 0.6933 - val_binary_crossentropy: 0.6474 - val_accuracy: 0.6410\n",
      "Epoch 151/10000\n",
      ".20/20 - 0s - loss: 0.6211 - AUC: 0.7605 - binary_crossentropy: 0.6130 - accuracy: 0.7291 - val_loss: 0.6633 - val_AUC: 0.6786 - val_binary_crossentropy: 0.6552 - val_accuracy: 0.6210\n",
      "Epoch 152/10000\n",
      ".20/20 - 0s - loss: 0.6267 - AUC: 0.7565 - binary_crossentropy: 0.6186 - accuracy: 0.7144 - val_loss: 0.6627 - val_AUC: 0.6954 - val_binary_crossentropy: 0.6547 - val_accuracy: 0.6680\n",
      "Epoch 153/10000\n",
      ".20/20 - 0s - loss: 0.6345 - AUC: 0.7401 - binary_crossentropy: 0.6265 - accuracy: 0.6969 - val_loss: 0.6606 - val_AUC: 0.6873 - val_binary_crossentropy: 0.6525 - val_accuracy: 0.6350\n",
      "Epoch 154/10000\n",
      ".20/20 - 0s - loss: 0.6230 - AUC: 0.7585 - binary_crossentropy: 0.6149 - accuracy: 0.7271 - val_loss: 0.6612 - val_AUC: 0.6730 - val_binary_crossentropy: 0.6531 - val_accuracy: 0.6090\n",
      "Epoch 155/10000\n",
      ".20/20 - 0s - loss: 0.6199 - AUC: 0.7626 - binary_crossentropy: 0.6118 - accuracy: 0.7336 - val_loss: 0.6572 - val_AUC: 0.6981 - val_binary_crossentropy: 0.6491 - val_accuracy: 0.6510\n",
      "Epoch 156/10000\n",
      ".20/20 - 0s - loss: 0.6240 - AUC: 0.7609 - binary_crossentropy: 0.6159 - accuracy: 0.7221 - val_loss: 0.6591 - val_AUC: 0.6738 - val_binary_crossentropy: 0.6510 - val_accuracy: 0.6290\n",
      "Epoch 157/10000\n",
      ".20/20 - 0s - loss: 0.6205 - AUC: 0.7640 - binary_crossentropy: 0.6124 - accuracy: 0.7301 - val_loss: 0.6591 - val_AUC: 0.6760 - val_binary_crossentropy: 0.6509 - val_accuracy: 0.6120\n",
      "Epoch 158/10000\n",
      ".20/20 - 0s - loss: 0.6289 - AUC: 0.7496 - binary_crossentropy: 0.6208 - accuracy: 0.7097 - val_loss: 0.6583 - val_AUC: 0.6829 - val_binary_crossentropy: 0.6502 - val_accuracy: 0.6420\n",
      "Epoch 159/10000\n",
      ".20/20 - 0s - loss: 0.6217 - AUC: 0.7612 - binary_crossentropy: 0.6135 - accuracy: 0.7277 - val_loss: 0.6620 - val_AUC: 0.6635 - val_binary_crossentropy: 0.6539 - val_accuracy: 0.6080\n"
     ]
    },
    {
     "name": "stdout",
     "output_type": "stream",
     "text": [
      "Epoch 160/10000\n",
      ".20/20 - 0s - loss: 0.6181 - AUC: 0.7659 - binary_crossentropy: 0.6100 - accuracy: 0.7366 - val_loss: 0.6572 - val_AUC: 0.6738 - val_binary_crossentropy: 0.6491 - val_accuracy: 0.6320\n",
      "Epoch 161/10000\n",
      ".20/20 - 0s - loss: 0.6167 - AUC: 0.7677 - binary_crossentropy: 0.6085 - accuracy: 0.7419 - val_loss: 0.6665 - val_AUC: 0.6575 - val_binary_crossentropy: 0.6584 - val_accuracy: 0.5830\n",
      "Epoch 162/10000\n",
      ".20/20 - 0s - loss: 0.6225 - AUC: 0.7602 - binary_crossentropy: 0.6143 - accuracy: 0.7245 - val_loss: 0.6591 - val_AUC: 0.6841 - val_binary_crossentropy: 0.6510 - val_accuracy: 0.6210\n",
      "Epoch 163/10000\n",
      ".20/20 - 0s - loss: 0.6198 - AUC: 0.7639 - binary_crossentropy: 0.6116 - accuracy: 0.7303 - val_loss: 0.6579 - val_AUC: 0.6776 - val_binary_crossentropy: 0.6498 - val_accuracy: 0.6330\n",
      "Epoch 164/10000\n",
      ".20/20 - 0s - loss: 0.6188 - AUC: 0.7660 - binary_crossentropy: 0.6107 - accuracy: 0.7352 - val_loss: 0.6596 - val_AUC: 0.6883 - val_binary_crossentropy: 0.6515 - val_accuracy: 0.6350\n",
      "Epoch 165/10000\n",
      ".20/20 - 0s - loss: 0.6170 - AUC: 0.7670 - binary_crossentropy: 0.6088 - accuracy: 0.7377 - val_loss: 0.6590 - val_AUC: 0.6859 - val_binary_crossentropy: 0.6508 - val_accuracy: 0.6320\n",
      "Epoch 166/10000\n",
      ".20/20 - 0s - loss: 0.6161 - AUC: 0.7694 - binary_crossentropy: 0.6079 - accuracy: 0.7410 - val_loss: 0.6597 - val_AUC: 0.6741 - val_binary_crossentropy: 0.6515 - val_accuracy: 0.6270\n",
      "Epoch 167/10000\n",
      ".20/20 - 0s - loss: 0.6194 - AUC: 0.7628 - binary_crossentropy: 0.6112 - accuracy: 0.7309 - val_loss: 0.6607 - val_AUC: 0.6776 - val_binary_crossentropy: 0.6525 - val_accuracy: 0.6220\n",
      "Epoch 168/10000\n",
      ".20/20 - 0s - loss: 0.6195 - AUC: 0.7655 - binary_crossentropy: 0.6113 - accuracy: 0.7329 - val_loss: 0.6601 - val_AUC: 0.6942 - val_binary_crossentropy: 0.6518 - val_accuracy: 0.6440\n",
      "Epoch 169/10000\n",
      ".20/20 - 0s - loss: 0.6233 - AUC: 0.7602 - binary_crossentropy: 0.6151 - accuracy: 0.7276 - val_loss: 0.6627 - val_AUC: 0.6587 - val_binary_crossentropy: 0.6545 - val_accuracy: 0.6000\n",
      "Epoch 170/10000\n",
      ".20/20 - 0s - loss: 0.6291 - AUC: 0.7523 - binary_crossentropy: 0.6208 - accuracy: 0.7089 - val_loss: 0.6657 - val_AUC: 0.6490 - val_binary_crossentropy: 0.6575 - val_accuracy: 0.5860\n",
      "Epoch 171/10000\n",
      ".20/20 - 0s - loss: 0.6288 - AUC: 0.7497 - binary_crossentropy: 0.6205 - accuracy: 0.7112 - val_loss: 0.6685 - val_AUC: 0.6446 - val_binary_crossentropy: 0.6603 - val_accuracy: 0.5900\n",
      "Epoch 172/10000\n",
      ".20/20 - 0s - loss: 0.6238 - AUC: 0.7573 - binary_crossentropy: 0.6156 - accuracy: 0.7225 - val_loss: 0.6619 - val_AUC: 0.6833 - val_binary_crossentropy: 0.6536 - val_accuracy: 0.6650\n",
      "Epoch 173/10000\n",
      ".20/20 - 0s - loss: 0.6215 - AUC: 0.7608 - binary_crossentropy: 0.6132 - accuracy: 0.7307 - val_loss: 0.6673 - val_AUC: 0.6668 - val_binary_crossentropy: 0.6590 - val_accuracy: 0.6040\n",
      "Epoch 174/10000\n",
      ".20/20 - 0s - loss: 0.6198 - AUC: 0.7666 - binary_crossentropy: 0.6116 - accuracy: 0.7333 - val_loss: 0.6642 - val_AUC: 0.6845 - val_binary_crossentropy: 0.6559 - val_accuracy: 0.6690\n",
      "Epoch 175/10000\n",
      ".20/20 - 0s - loss: 0.6223 - AUC: 0.7606 - binary_crossentropy: 0.6140 - accuracy: 0.7303 - val_loss: 0.6630 - val_AUC: 0.6559 - val_binary_crossentropy: 0.6547 - val_accuracy: 0.6080\n",
      "Epoch 176/10000\n",
      ".20/20 - 0s - loss: 0.6263 - AUC: 0.7544 - binary_crossentropy: 0.6180 - accuracy: 0.7133 - val_loss: 0.6665 - val_AUC: 0.6592 - val_binary_crossentropy: 0.6582 - val_accuracy: 0.6090\n",
      "Epoch 177/10000\n",
      ".20/20 - 0s - loss: 0.6187 - AUC: 0.7690 - binary_crossentropy: 0.6104 - accuracy: 0.7315 - val_loss: 0.6603 - val_AUC: 0.6812 - val_binary_crossentropy: 0.6521 - val_accuracy: 0.6420\n",
      "Epoch 178/10000\n",
      ".20/20 - 0s - loss: 0.6185 - AUC: 0.7700 - binary_crossentropy: 0.6102 - accuracy: 0.7366 - val_loss: 0.6612 - val_AUC: 0.6663 - val_binary_crossentropy: 0.6529 - val_accuracy: 0.6110\n",
      "Epoch 179/10000\n",
      ".20/20 - 0s - loss: 0.6155 - AUC: 0.7705 - binary_crossentropy: 0.6072 - accuracy: 0.7415 - val_loss: 0.6591 - val_AUC: 0.6989 - val_binary_crossentropy: 0.6509 - val_accuracy: 0.6580\n",
      "Epoch 180/10000\n",
      ".20/20 - 0s - loss: 0.6186 - AUC: 0.7693 - binary_crossentropy: 0.6103 - accuracy: 0.7312 - val_loss: 0.6629 - val_AUC: 0.6748 - val_binary_crossentropy: 0.6546 - val_accuracy: 0.6220\n",
      "Epoch 181/10000\n",
      ".20/20 - 0s - loss: 0.6186 - AUC: 0.7675 - binary_crossentropy: 0.6103 - accuracy: 0.7372 - val_loss: 0.6611 - val_AUC: 0.6807 - val_binary_crossentropy: 0.6528 - val_accuracy: 0.6370\n",
      "Epoch 182/10000\n",
      ".20/20 - 0s - loss: 0.6199 - AUC: 0.7687 - binary_crossentropy: 0.6116 - accuracy: 0.7320 - val_loss: 0.6602 - val_AUC: 0.6793 - val_binary_crossentropy: 0.6519 - val_accuracy: 0.6340\n",
      "Epoch 183/10000\n",
      ".20/20 - 0s - loss: 0.6135 - AUC: 0.7746 - binary_crossentropy: 0.6052 - accuracy: 0.7440 - val_loss: 0.6557 - val_AUC: 0.6869 - val_binary_crossentropy: 0.6474 - val_accuracy: 0.6510\n",
      "Epoch 184/10000\n",
      ".20/20 - 0s - loss: 0.6120 - AUC: 0.7777 - binary_crossentropy: 0.6037 - accuracy: 0.7499 - val_loss: 0.6623 - val_AUC: 0.6776 - val_binary_crossentropy: 0.6539 - val_accuracy: 0.6290\n",
      "Epoch 185/10000\n",
      ".20/20 - 0s - loss: 0.6129 - AUC: 0.7758 - binary_crossentropy: 0.6046 - accuracy: 0.7488 - val_loss: 0.6583 - val_AUC: 0.6686 - val_binary_crossentropy: 0.6499 - val_accuracy: 0.6240\n",
      "Epoch 186/10000\n",
      ".20/20 - 0s - loss: 0.6137 - AUC: 0.7752 - binary_crossentropy: 0.6053 - accuracy: 0.7447 - val_loss: 0.6590 - val_AUC: 0.6759 - val_binary_crossentropy: 0.6507 - val_accuracy: 0.6280\n",
      "Epoch 187/10000\n",
      ".20/20 - 0s - loss: 0.6131 - AUC: 0.7761 - binary_crossentropy: 0.6048 - accuracy: 0.7474 - val_loss: 0.6653 - val_AUC: 0.6712 - val_binary_crossentropy: 0.6569 - val_accuracy: 0.6330\n",
      "Epoch 188/10000\n",
      ".20/20 - 0s - loss: 0.6127 - AUC: 0.7770 - binary_crossentropy: 0.6043 - accuracy: 0.7488 - val_loss: 0.6641 - val_AUC: 0.6731 - val_binary_crossentropy: 0.6557 - val_accuracy: 0.6440\n",
      "Epoch 189/10000\n",
      ".20/20 - 0s - loss: 0.6133 - AUC: 0.7762 - binary_crossentropy: 0.6049 - accuracy: 0.7466 - val_loss: 0.6667 - val_AUC: 0.6485 - val_binary_crossentropy: 0.6583 - val_accuracy: 0.5920\n",
      "Epoch 190/10000\n",
      ".20/20 - 0s - loss: 0.6121 - AUC: 0.7761 - binary_crossentropy: 0.6037 - accuracy: 0.7489 - val_loss: 0.6658 - val_AUC: 0.6801 - val_binary_crossentropy: 0.6574 - val_accuracy: 0.6420\n",
      "Epoch 191/10000\n",
      ".20/20 - 0s - loss: 0.6219 - AUC: 0.7631 - binary_crossentropy: 0.6136 - accuracy: 0.7258 - val_loss: 0.6616 - val_AUC: 0.6796 - val_binary_crossentropy: 0.6532 - val_accuracy: 0.6550\n",
      "Epoch 192/10000\n",
      ".20/20 - 0s - loss: 0.6115 - AUC: 0.7809 - binary_crossentropy: 0.6031 - accuracy: 0.7500 - val_loss: 0.6579 - val_AUC: 0.6727 - val_binary_crossentropy: 0.6495 - val_accuracy: 0.6320\n",
      "Epoch 193/10000\n",
      ".20/20 - 0s - loss: 0.6121 - AUC: 0.7802 - binary_crossentropy: 0.6037 - accuracy: 0.7518 - val_loss: 0.6579 - val_AUC: 0.6841 - val_binary_crossentropy: 0.6495 - val_accuracy: 0.6560\n",
      "Epoch 194/10000\n",
      ".20/20 - 0s - loss: 0.6167 - AUC: 0.7735 - binary_crossentropy: 0.6083 - accuracy: 0.7394 - val_loss: 0.6636 - val_AUC: 0.6635 - val_binary_crossentropy: 0.6552 - val_accuracy: 0.6210\n",
      "Epoch 195/10000\n",
      ".20/20 - 0s - loss: 0.6087 - AUC: 0.7835 - binary_crossentropy: 0.6003 - accuracy: 0.7573 - val_loss: 0.6591 - val_AUC: 0.6837 - val_binary_crossentropy: 0.6507 - val_accuracy: 0.6420\n",
      "Epoch 196/10000\n",
      ".20/20 - 0s - loss: 0.6057 - AUC: 0.7888 - binary_crossentropy: 0.5973 - accuracy: 0.7650 - val_loss: 0.6623 - val_AUC: 0.6793 - val_binary_crossentropy: 0.6539 - val_accuracy: 0.6340\n",
      "Epoch 197/10000\n",
      ".20/20 - 0s - loss: 0.6067 - AUC: 0.7850 - binary_crossentropy: 0.5983 - accuracy: 0.7617 - val_loss: 0.6659 - val_AUC: 0.6707 - val_binary_crossentropy: 0.6574 - val_accuracy: 0.6410\n",
      "Epoch 198/10000\n",
      ".20/20 - 0s - loss: 0.6084 - AUC: 0.7857 - binary_crossentropy: 0.6000 - accuracy: 0.7600 - val_loss: 0.6611 - val_AUC: 0.6679 - val_binary_crossentropy: 0.6526 - val_accuracy: 0.6430\n",
      "Epoch 199/10000\n",
      ".20/20 - 0s - loss: 0.6068 - AUC: 0.7867 - binary_crossentropy: 0.5984 - accuracy: 0.7627 - val_loss: 0.6629 - val_AUC: 0.6581 - val_binary_crossentropy: 0.6545 - val_accuracy: 0.6070\n",
      "Epoch 200/10000\n",
      ".20/20 - 0s - loss: 0.6074 - AUC: 0.7851 - binary_crossentropy: 0.5989 - accuracy: 0.7617 - val_loss: 0.6600 - val_AUC: 0.6754 - val_binary_crossentropy: 0.6516 - val_accuracy: 0.6370\n"
     ]
    },
    {
     "name": "stdout",
     "output_type": "stream",
     "text": [
      "Epoch 201/10000\n",
      "\n",
      "Epoch: 200, AUC:0.7852,  accuracy:0.7601,  binary_crossentropy:0.5991,  loss:0.6075,  val_AUC:0.6796,  val_accuracy:0.6440,  val_binary_crossentropy:0.6509,  val_loss:0.6593,  \n",
      ".20/20 - 0s - loss: 0.6075 - AUC: 0.7852 - binary_crossentropy: 0.5991 - accuracy: 0.7601 - val_loss: 0.6593 - val_AUC: 0.6796 - val_binary_crossentropy: 0.6509 - val_accuracy: 0.6440\n",
      "Epoch 202/10000\n",
      ".20/20 - 0s - loss: 0.6089 - AUC: 0.7812 - binary_crossentropy: 0.6004 - accuracy: 0.7577 - val_loss: 0.6588 - val_AUC: 0.6763 - val_binary_crossentropy: 0.6503 - val_accuracy: 0.6310\n",
      "Epoch 203/10000\n",
      ".20/20 - 0s - loss: 0.6044 - AUC: 0.7887 - binary_crossentropy: 0.5959 - accuracy: 0.7698 - val_loss: 0.6662 - val_AUC: 0.6610 - val_binary_crossentropy: 0.6577 - val_accuracy: 0.6070\n",
      "Epoch 204/10000\n",
      ".20/20 - 0s - loss: 0.6066 - AUC: 0.7864 - binary_crossentropy: 0.5981 - accuracy: 0.7617 - val_loss: 0.6605 - val_AUC: 0.6650 - val_binary_crossentropy: 0.6520 - val_accuracy: 0.6280\n",
      "Epoch 205/10000\n",
      ".20/20 - 0s - loss: 0.6026 - AUC: 0.7918 - binary_crossentropy: 0.5941 - accuracy: 0.7727 - val_loss: 0.6609 - val_AUC: 0.6829 - val_binary_crossentropy: 0.6524 - val_accuracy: 0.6420\n",
      "Epoch 206/10000\n",
      ".20/20 - 0s - loss: 0.6032 - AUC: 0.7915 - binary_crossentropy: 0.5947 - accuracy: 0.7715 - val_loss: 0.6672 - val_AUC: 0.6482 - val_binary_crossentropy: 0.6587 - val_accuracy: 0.5890\n",
      "Epoch 207/10000\n",
      ".20/20 - 0s - loss: 0.6097 - AUC: 0.7845 - binary_crossentropy: 0.6012 - accuracy: 0.7516 - val_loss: 0.6673 - val_AUC: 0.6687 - val_binary_crossentropy: 0.6588 - val_accuracy: 0.6370\n",
      "Epoch 208/10000\n",
      ".20/20 - 0s - loss: 0.6046 - AUC: 0.7876 - binary_crossentropy: 0.5961 - accuracy: 0.7673 - val_loss: 0.6606 - val_AUC: 0.6846 - val_binary_crossentropy: 0.6521 - val_accuracy: 0.6560\n",
      "Epoch 209/10000\n",
      ".20/20 - 0s - loss: 0.6118 - AUC: 0.7837 - binary_crossentropy: 0.6033 - accuracy: 0.7513 - val_loss: 0.6666 - val_AUC: 0.6638 - val_binary_crossentropy: 0.6581 - val_accuracy: 0.6290\n",
      "Epoch 210/10000\n",
      ".20/20 - 0s - loss: 0.6012 - AUC: 0.7956 - binary_crossentropy: 0.5926 - accuracy: 0.7739 - val_loss: 0.6641 - val_AUC: 0.6637 - val_binary_crossentropy: 0.6555 - val_accuracy: 0.6150\n",
      "Epoch 211/10000\n",
      ".20/20 - 0s - loss: 0.6015 - AUC: 0.7956 - binary_crossentropy: 0.5929 - accuracy: 0.7747 - val_loss: 0.6634 - val_AUC: 0.6736 - val_binary_crossentropy: 0.6548 - val_accuracy: 0.6410\n",
      "Epoch 212/10000\n",
      ".20/20 - 0s - loss: 0.6025 - AUC: 0.7942 - binary_crossentropy: 0.5940 - accuracy: 0.7717 - val_loss: 0.6610 - val_AUC: 0.6720 - val_binary_crossentropy: 0.6525 - val_accuracy: 0.6490\n",
      "Epoch 213/10000\n",
      ".20/20 - 0s - loss: 0.6029 - AUC: 0.7938 - binary_crossentropy: 0.5944 - accuracy: 0.7710 - val_loss: 0.6605 - val_AUC: 0.6809 - val_binary_crossentropy: 0.6520 - val_accuracy: 0.6450\n",
      "Epoch 214/10000\n",
      ".20/20 - 0s - loss: 0.6140 - AUC: 0.7799 - binary_crossentropy: 0.6055 - accuracy: 0.7493 - val_loss: 0.6593 - val_AUC: 0.6780 - val_binary_crossentropy: 0.6507 - val_accuracy: 0.6560\n",
      "Epoch 215/10000\n",
      ".20/20 - 0s - loss: 0.6008 - AUC: 0.7959 - binary_crossentropy: 0.5922 - accuracy: 0.7753 - val_loss: 0.6634 - val_AUC: 0.6652 - val_binary_crossentropy: 0.6549 - val_accuracy: 0.6270\n",
      "Epoch 216/10000\n",
      ".20/20 - 0s - loss: 0.6008 - AUC: 0.7984 - binary_crossentropy: 0.5922 - accuracy: 0.7761 - val_loss: 0.6666 - val_AUC: 0.6615 - val_binary_crossentropy: 0.6580 - val_accuracy: 0.6130\n",
      "Epoch 217/10000\n",
      ".20/20 - 0s - loss: 0.5978 - AUC: 0.7993 - binary_crossentropy: 0.5892 - accuracy: 0.7841 - val_loss: 0.6668 - val_AUC: 0.6703 - val_binary_crossentropy: 0.6582 - val_accuracy: 0.6380\n",
      "Epoch 218/10000\n",
      ".20/20 - 0s - loss: 0.5981 - AUC: 0.7987 - binary_crossentropy: 0.5895 - accuracy: 0.7835 - val_loss: 0.6658 - val_AUC: 0.6695 - val_binary_crossentropy: 0.6572 - val_accuracy: 0.6310\n",
      "Epoch 219/10000\n",
      ".20/20 - 0s - loss: 0.5965 - AUC: 0.8007 - binary_crossentropy: 0.5878 - accuracy: 0.7860 - val_loss: 0.6685 - val_AUC: 0.6657 - val_binary_crossentropy: 0.6598 - val_accuracy: 0.6340\n",
      "Epoch 220/10000\n",
      ".20/20 - 0s - loss: 0.5989 - AUC: 0.8006 - binary_crossentropy: 0.5903 - accuracy: 0.7827 - val_loss: 0.6644 - val_AUC: 0.6536 - val_binary_crossentropy: 0.6558 - val_accuracy: 0.6260\n",
      "Epoch 221/10000\n",
      ".20/20 - 0s - loss: 0.5972 - AUC: 0.8008 - binary_crossentropy: 0.5886 - accuracy: 0.7848 - val_loss: 0.6653 - val_AUC: 0.6648 - val_binary_crossentropy: 0.6566 - val_accuracy: 0.6260\n",
      "Epoch 222/10000\n",
      ".20/20 - 0s - loss: 0.6087 - AUC: 0.7875 - binary_crossentropy: 0.6001 - accuracy: 0.7568 - val_loss: 0.6635 - val_AUC: 0.6672 - val_binary_crossentropy: 0.6549 - val_accuracy: 0.6250\n",
      "Epoch 223/10000\n",
      ".20/20 - 0s - loss: 0.6009 - AUC: 0.7977 - binary_crossentropy: 0.5923 - accuracy: 0.7754 - val_loss: 0.6676 - val_AUC: 0.6529 - val_binary_crossentropy: 0.6590 - val_accuracy: 0.6140\n",
      "Epoch 224/10000\n",
      ".20/20 - 0s - loss: 0.6021 - AUC: 0.7974 - binary_crossentropy: 0.5935 - accuracy: 0.7744 - val_loss: 0.6619 - val_AUC: 0.6617 - val_binary_crossentropy: 0.6532 - val_accuracy: 0.6160\n",
      "Epoch 225/10000\n",
      ".20/20 - 0s - loss: 0.6019 - AUC: 0.7969 - binary_crossentropy: 0.5933 - accuracy: 0.7728 - val_loss: 0.6687 - val_AUC: 0.6669 - val_binary_crossentropy: 0.6600 - val_accuracy: 0.6370\n",
      "Epoch 226/10000\n",
      ".20/20 - 0s - loss: 0.5998 - AUC: 0.8001 - binary_crossentropy: 0.5911 - accuracy: 0.7783 - val_loss: 0.6666 - val_AUC: 0.6599 - val_binary_crossentropy: 0.6580 - val_accuracy: 0.6240\n",
      "Epoch 227/10000\n",
      ".20/20 - 0s - loss: 0.5969 - AUC: 0.8042 - binary_crossentropy: 0.5882 - accuracy: 0.7849 - val_loss: 0.6643 - val_AUC: 0.6589 - val_binary_crossentropy: 0.6556 - val_accuracy: 0.6240\n",
      "Epoch 228/10000\n",
      ".20/20 - 0s - loss: 0.5920 - AUC: 0.8076 - binary_crossentropy: 0.5834 - accuracy: 0.7969 - val_loss: 0.6634 - val_AUC: 0.6704 - val_binary_crossentropy: 0.6548 - val_accuracy: 0.6430\n",
      "Epoch 229/10000\n",
      ".20/20 - 0s - loss: 0.5920 - AUC: 0.8069 - binary_crossentropy: 0.5834 - accuracy: 0.7961 - val_loss: 0.6627 - val_AUC: 0.6661 - val_binary_crossentropy: 0.6540 - val_accuracy: 0.6400\n",
      "Epoch 230/10000\n",
      ".20/20 - 0s - loss: 0.5910 - AUC: 0.8101 - binary_crossentropy: 0.5823 - accuracy: 0.7998 - val_loss: 0.6641 - val_AUC: 0.6607 - val_binary_crossentropy: 0.6554 - val_accuracy: 0.6230\n",
      "Epoch 231/10000\n",
      ".20/20 - 0s - loss: 0.5909 - AUC: 0.8094 - binary_crossentropy: 0.5822 - accuracy: 0.7998 - val_loss: 0.6631 - val_AUC: 0.6640 - val_binary_crossentropy: 0.6544 - val_accuracy: 0.6400\n",
      "Epoch 232/10000\n",
      ".20/20 - 0s - loss: 0.5936 - AUC: 0.8072 - binary_crossentropy: 0.5849 - accuracy: 0.7938 - val_loss: 0.6644 - val_AUC: 0.6639 - val_binary_crossentropy: 0.6557 - val_accuracy: 0.6340\n",
      "Epoch 233/10000\n",
      ".20/20 - 0s - loss: 0.5939 - AUC: 0.8087 - binary_crossentropy: 0.5852 - accuracy: 0.7934 - val_loss: 0.6624 - val_AUC: 0.6564 - val_binary_crossentropy: 0.6537 - val_accuracy: 0.6160\n",
      "Epoch 234/10000\n",
      ".20/20 - 0s - loss: 0.5924 - AUC: 0.8092 - binary_crossentropy: 0.5837 - accuracy: 0.7956 - val_loss: 0.6659 - val_AUC: 0.6576 - val_binary_crossentropy: 0.6572 - val_accuracy: 0.6150\n",
      "Epoch 235/10000\n",
      ".20/20 - 0s - loss: 0.5914 - AUC: 0.8097 - binary_crossentropy: 0.5827 - accuracy: 0.7978 - val_loss: 0.6608 - val_AUC: 0.6646 - val_binary_crossentropy: 0.6521 - val_accuracy: 0.6310\n",
      "Epoch 236/10000\n",
      ".20/20 - 0s - loss: 0.5903 - AUC: 0.8121 - binary_crossentropy: 0.5816 - accuracy: 0.8003 - val_loss: 0.6644 - val_AUC: 0.6595 - val_binary_crossentropy: 0.6556 - val_accuracy: 0.6310\n",
      "Epoch 237/10000\n",
      ".20/20 - 0s - loss: 0.5905 - AUC: 0.8113 - binary_crossentropy: 0.5817 - accuracy: 0.8005 - val_loss: 0.6634 - val_AUC: 0.6590 - val_binary_crossentropy: 0.6546 - val_accuracy: 0.6210\n",
      "Epoch 238/10000\n",
      ".20/20 - 0s - loss: 0.5957 - AUC: 0.8070 - binary_crossentropy: 0.5869 - accuracy: 0.7872 - val_loss: 0.6682 - val_AUC: 0.6533 - val_binary_crossentropy: 0.6594 - val_accuracy: 0.6210\n",
      "Epoch 239/10000\n",
      ".20/20 - 0s - loss: 0.5905 - AUC: 0.8129 - binary_crossentropy: 0.5817 - accuracy: 0.7992 - val_loss: 0.6655 - val_AUC: 0.6686 - val_binary_crossentropy: 0.6567 - val_accuracy: 0.6400\n",
      "Epoch 240/10000\n",
      ".20/20 - 0s - loss: 0.5940 - AUC: 0.8097 - binary_crossentropy: 0.5853 - accuracy: 0.7924 - val_loss: 0.6663 - val_AUC: 0.6554 - val_binary_crossentropy: 0.6576 - val_accuracy: 0.6320\n",
      "Epoch 241/10000\n"
     ]
    },
    {
     "name": "stdout",
     "output_type": "stream",
     "text": [
      ".20/20 - 0s - loss: 0.5919 - AUC: 0.8105 - binary_crossentropy: 0.5832 - accuracy: 0.7960 - val_loss: 0.6650 - val_AUC: 0.6573 - val_binary_crossentropy: 0.6563 - val_accuracy: 0.6290\n",
      "Epoch 242/10000\n",
      ".20/20 - 0s - loss: 0.5902 - AUC: 0.8132 - binary_crossentropy: 0.5814 - accuracy: 0.8012 - val_loss: 0.6613 - val_AUC: 0.6741 - val_binary_crossentropy: 0.6525 - val_accuracy: 0.6410\n",
      "Epoch 243/10000\n",
      ".20/20 - 0s - loss: 0.5878 - AUC: 0.8150 - binary_crossentropy: 0.5790 - accuracy: 0.8064 - val_loss: 0.6666 - val_AUC: 0.6565 - val_binary_crossentropy: 0.6578 - val_accuracy: 0.6220\n",
      "Epoch 244/10000\n",
      ".20/20 - 0s - loss: 0.5920 - AUC: 0.8125 - binary_crossentropy: 0.5832 - accuracy: 0.7969 - val_loss: 0.6649 - val_AUC: 0.6534 - val_binary_crossentropy: 0.6561 - val_accuracy: 0.6100\n",
      "Epoch 245/10000\n",
      ".20/20 - 0s - loss: 0.5969 - AUC: 0.8072 - binary_crossentropy: 0.5881 - accuracy: 0.7848 - val_loss: 0.6615 - val_AUC: 0.6554 - val_binary_crossentropy: 0.6527 - val_accuracy: 0.6390\n",
      "Epoch 246/10000\n",
      ".20/20 - 0s - loss: 0.5924 - AUC: 0.8126 - binary_crossentropy: 0.5836 - accuracy: 0.7945 - val_loss: 0.6632 - val_AUC: 0.6623 - val_binary_crossentropy: 0.6544 - val_accuracy: 0.6250\n",
      "Epoch 247/10000\n",
      ".20/20 - 0s - loss: 0.5865 - AUC: 0.8169 - binary_crossentropy: 0.5777 - accuracy: 0.8084 - val_loss: 0.6614 - val_AUC: 0.6752 - val_binary_crossentropy: 0.6526 - val_accuracy: 0.6520\n",
      "Epoch 248/10000\n",
      ".20/20 - 0s - loss: 0.5914 - AUC: 0.8122 - binary_crossentropy: 0.5826 - accuracy: 0.7985 - val_loss: 0.6675 - val_AUC: 0.6461 - val_binary_crossentropy: 0.6587 - val_accuracy: 0.6090\n",
      "Epoch 249/10000\n",
      ".20/20 - 0s - loss: 0.5888 - AUC: 0.8157 - binary_crossentropy: 0.5800 - accuracy: 0.8034 - val_loss: 0.6645 - val_AUC: 0.6666 - val_binary_crossentropy: 0.6557 - val_accuracy: 0.6330\n",
      "Epoch 250/10000\n",
      ".20/20 - 0s - loss: 0.5897 - AUC: 0.8154 - binary_crossentropy: 0.5809 - accuracy: 0.8014 - val_loss: 0.6641 - val_AUC: 0.6618 - val_binary_crossentropy: 0.6553 - val_accuracy: 0.6330\n",
      "Epoch 251/10000\n",
      ".20/20 - 0s - loss: 0.5923 - AUC: 0.8124 - binary_crossentropy: 0.5835 - accuracy: 0.7954 - val_loss: 0.6696 - val_AUC: 0.6623 - val_binary_crossentropy: 0.6607 - val_accuracy: 0.6430\n",
      "Epoch 252/10000\n",
      ".20/20 - 0s - loss: 0.6165 - AUC: 0.7739 - binary_crossentropy: 0.6077 - accuracy: 0.7383 - val_loss: 0.6734 - val_AUC: 0.6590 - val_binary_crossentropy: 0.6645 - val_accuracy: 0.6370\n",
      "Epoch 253/10000\n",
      ".20/20 - 0s - loss: 0.6055 - AUC: 0.7928 - binary_crossentropy: 0.5966 - accuracy: 0.7661 - val_loss: 0.6669 - val_AUC: 0.6596 - val_binary_crossentropy: 0.6581 - val_accuracy: 0.6180\n",
      "Epoch 254/10000\n",
      ".20/20 - 0s - loss: 0.6097 - AUC: 0.7875 - binary_crossentropy: 0.6009 - accuracy: 0.7589 - val_loss: 0.6653 - val_AUC: 0.6417 - val_binary_crossentropy: 0.6564 - val_accuracy: 0.6120\n",
      "Epoch 255/10000\n",
      ".20/20 - 0s - loss: 0.5957 - AUC: 0.8085 - binary_crossentropy: 0.5868 - accuracy: 0.7863 - val_loss: 0.6648 - val_AUC: 0.6515 - val_binary_crossentropy: 0.6559 - val_accuracy: 0.6280\n",
      "Epoch 256/10000\n",
      ".20/20 - 0s - loss: 0.5901 - AUC: 0.8157 - binary_crossentropy: 0.5812 - accuracy: 0.8008 - val_loss: 0.6651 - val_AUC: 0.6707 - val_binary_crossentropy: 0.6562 - val_accuracy: 0.6360\n",
      "Epoch 257/10000\n",
      ".20/20 - 0s - loss: 0.5879 - AUC: 0.8188 - binary_crossentropy: 0.5790 - accuracy: 0.8058 - val_loss: 0.6636 - val_AUC: 0.6476 - val_binary_crossentropy: 0.6547 - val_accuracy: 0.6040\n",
      "Epoch 258/10000\n",
      ".20/20 - 0s - loss: 0.6040 - AUC: 0.7972 - binary_crossentropy: 0.5951 - accuracy: 0.7668 - val_loss: 0.6683 - val_AUC: 0.6480 - val_binary_crossentropy: 0.6594 - val_accuracy: 0.6120\n",
      "Epoch 259/10000\n",
      ".20/20 - 0s - loss: 0.5973 - AUC: 0.8071 - binary_crossentropy: 0.5884 - accuracy: 0.7834 - val_loss: 0.6607 - val_AUC: 0.6698 - val_binary_crossentropy: 0.6517 - val_accuracy: 0.6510\n",
      "Epoch 260/10000\n",
      ".20/20 - 0s - loss: 0.5881 - AUC: 0.8191 - binary_crossentropy: 0.5792 - accuracy: 0.8067 - val_loss: 0.6589 - val_AUC: 0.6731 - val_binary_crossentropy: 0.6500 - val_accuracy: 0.6460\n",
      "Epoch 261/10000\n",
      ".20/20 - 0s - loss: 0.5873 - AUC: 0.8196 - binary_crossentropy: 0.5784 - accuracy: 0.8077 - val_loss: 0.6655 - val_AUC: 0.6571 - val_binary_crossentropy: 0.6566 - val_accuracy: 0.6200\n",
      "Epoch 262/10000\n",
      ".20/20 - 0s - loss: 0.5869 - AUC: 0.8197 - binary_crossentropy: 0.5779 - accuracy: 0.8084 - val_loss: 0.6599 - val_AUC: 0.6640 - val_binary_crossentropy: 0.6510 - val_accuracy: 0.6450\n",
      "Epoch 263/10000\n",
      ".20/20 - 0s - loss: 0.5848 - AUC: 0.8227 - binary_crossentropy: 0.5758 - accuracy: 0.8121 - val_loss: 0.6659 - val_AUC: 0.6610 - val_binary_crossentropy: 0.6569 - val_accuracy: 0.6280\n",
      "Epoch 264/10000\n",
      ".20/20 - 0s - loss: 0.5841 - AUC: 0.8226 - binary_crossentropy: 0.5751 - accuracy: 0.8141 - val_loss: 0.6649 - val_AUC: 0.6617 - val_binary_crossentropy: 0.6559 - val_accuracy: 0.6320\n",
      "Epoch 265/10000\n",
      ".20/20 - 0s - loss: 0.5834 - AUC: 0.8230 - binary_crossentropy: 0.5745 - accuracy: 0.8166 - val_loss: 0.6662 - val_AUC: 0.6634 - val_binary_crossentropy: 0.6572 - val_accuracy: 0.6410\n",
      "Epoch 266/10000\n",
      ".20/20 - 0s - loss: 0.5858 - AUC: 0.8211 - binary_crossentropy: 0.5768 - accuracy: 0.8112 - val_loss: 0.6695 - val_AUC: 0.6660 - val_binary_crossentropy: 0.6605 - val_accuracy: 0.6400\n",
      "Epoch 267/10000\n",
      ".20/20 - 0s - loss: 0.5859 - AUC: 0.8220 - binary_crossentropy: 0.5770 - accuracy: 0.8115 - val_loss: 0.6641 - val_AUC: 0.6636 - val_binary_crossentropy: 0.6551 - val_accuracy: 0.6280\n",
      "Epoch 268/10000\n",
      ".20/20 - 0s - loss: 0.5872 - AUC: 0.8210 - binary_crossentropy: 0.5782 - accuracy: 0.8079 - val_loss: 0.6599 - val_AUC: 0.6603 - val_binary_crossentropy: 0.6509 - val_accuracy: 0.6230\n",
      "Epoch 269/10000\n",
      ".20/20 - 0s - loss: 0.5889 - AUC: 0.8193 - binary_crossentropy: 0.5799 - accuracy: 0.8040 - val_loss: 0.6655 - val_AUC: 0.6665 - val_binary_crossentropy: 0.6566 - val_accuracy: 0.6340\n",
      "Epoch 270/10000\n",
      ".20/20 - 0s - loss: 0.5826 - AUC: 0.8247 - binary_crossentropy: 0.5737 - accuracy: 0.8193 - val_loss: 0.6624 - val_AUC: 0.6689 - val_binary_crossentropy: 0.6534 - val_accuracy: 0.6500\n",
      "Epoch 271/10000\n",
      ".20/20 - 0s - loss: 0.5836 - AUC: 0.8251 - binary_crossentropy: 0.5746 - accuracy: 0.8167 - val_loss: 0.6600 - val_AUC: 0.6570 - val_binary_crossentropy: 0.6510 - val_accuracy: 0.6330\n",
      "Epoch 272/10000\n",
      ".20/20 - 0s - loss: 0.5864 - AUC: 0.8231 - binary_crossentropy: 0.5774 - accuracy: 0.8094 - val_loss: 0.6635 - val_AUC: 0.6610 - val_binary_crossentropy: 0.6545 - val_accuracy: 0.6300\n",
      "Epoch 273/10000\n",
      ".20/20 - 0s - loss: 0.5849 - AUC: 0.8248 - binary_crossentropy: 0.5759 - accuracy: 0.8134 - val_loss: 0.6644 - val_AUC: 0.6638 - val_binary_crossentropy: 0.6554 - val_accuracy: 0.6240\n",
      "Epoch 274/10000\n",
      ".20/20 - 0s - loss: 0.5863 - AUC: 0.8219 - binary_crossentropy: 0.5773 - accuracy: 0.8112 - val_loss: 0.6608 - val_AUC: 0.6627 - val_binary_crossentropy: 0.6518 - val_accuracy: 0.6290\n",
      "Epoch 275/10000\n",
      ".20/20 - 0s - loss: 0.5854 - AUC: 0.8237 - binary_crossentropy: 0.5764 - accuracy: 0.8124 - val_loss: 0.6614 - val_AUC: 0.6694 - val_binary_crossentropy: 0.6523 - val_accuracy: 0.6410\n",
      "Epoch 276/10000\n",
      ".20/20 - 0s - loss: 0.5867 - AUC: 0.8231 - binary_crossentropy: 0.5777 - accuracy: 0.8092 - val_loss: 0.6663 - val_AUC: 0.6561 - val_binary_crossentropy: 0.6573 - val_accuracy: 0.6210\n",
      "Epoch 277/10000\n",
      ".20/20 - 0s - loss: 0.5869 - AUC: 0.8212 - binary_crossentropy: 0.5778 - accuracy: 0.8066 - val_loss: 0.6611 - val_AUC: 0.6597 - val_binary_crossentropy: 0.6520 - val_accuracy: 0.6310\n",
      "Epoch 278/10000\n",
      ".20/20 - 0s - loss: 0.5885 - AUC: 0.8207 - binary_crossentropy: 0.5794 - accuracy: 0.8040 - val_loss: 0.6672 - val_AUC: 0.6512 - val_binary_crossentropy: 0.6581 - val_accuracy: 0.6150\n",
      "Epoch 279/10000\n",
      ".20/20 - 0s - loss: 0.5829 - AUC: 0.8258 - binary_crossentropy: 0.5739 - accuracy: 0.8172 - val_loss: 0.6612 - val_AUC: 0.6571 - val_binary_crossentropy: 0.6521 - val_accuracy: 0.6330\n",
      "Epoch 280/10000\n",
      ".20/20 - 0s - loss: 0.5815 - AUC: 0.8281 - binary_crossentropy: 0.5724 - accuracy: 0.8201 - val_loss: 0.6669 - val_AUC: 0.6630 - val_binary_crossentropy: 0.6579 - val_accuracy: 0.6400\n",
      "Epoch 281/10000\n",
      ".20/20 - 0s - loss: 0.5813 - AUC: 0.8281 - binary_crossentropy: 0.5723 - accuracy: 0.8215 - val_loss: 0.6623 - val_AUC: 0.6653 - val_binary_crossentropy: 0.6532 - val_accuracy: 0.6420\n",
      "Epoch 282/10000\n"
     ]
    },
    {
     "name": "stdout",
     "output_type": "stream",
     "text": [
      ".20/20 - 0s - loss: 0.5795 - AUC: 0.8301 - binary_crossentropy: 0.5705 - accuracy: 0.8256 - val_loss: 0.6622 - val_AUC: 0.6648 - val_binary_crossentropy: 0.6532 - val_accuracy: 0.6430\n",
      "Epoch 283/10000\n",
      ".20/20 - 0s - loss: 0.5786 - AUC: 0.8295 - binary_crossentropy: 0.5695 - accuracy: 0.8277 - val_loss: 0.6641 - val_AUC: 0.6599 - val_binary_crossentropy: 0.6551 - val_accuracy: 0.6270\n",
      "Epoch 284/10000\n",
      ".20/20 - 0s - loss: 0.5826 - AUC: 0.8273 - binary_crossentropy: 0.5735 - accuracy: 0.8193 - val_loss: 0.6638 - val_AUC: 0.6545 - val_binary_crossentropy: 0.6547 - val_accuracy: 0.6300\n",
      "Epoch 285/10000\n",
      ".20/20 - 0s - loss: 0.5848 - AUC: 0.8251 - binary_crossentropy: 0.5757 - accuracy: 0.8129 - val_loss: 0.6595 - val_AUC: 0.6675 - val_binary_crossentropy: 0.6504 - val_accuracy: 0.6510\n",
      "Epoch 286/10000\n",
      ".20/20 - 0s - loss: 0.5796 - AUC: 0.8298 - binary_crossentropy: 0.5705 - accuracy: 0.8255 - val_loss: 0.6637 - val_AUC: 0.6534 - val_binary_crossentropy: 0.6546 - val_accuracy: 0.6380\n",
      "Epoch 287/10000\n",
      ".20/20 - 0s - loss: 0.5798 - AUC: 0.8307 - binary_crossentropy: 0.5707 - accuracy: 0.8249 - val_loss: 0.6672 - val_AUC: 0.6517 - val_binary_crossentropy: 0.6581 - val_accuracy: 0.6220\n",
      "Epoch 288/10000\n",
      ".20/20 - 0s - loss: 0.5784 - AUC: 0.8324 - binary_crossentropy: 0.5693 - accuracy: 0.8286 - val_loss: 0.6633 - val_AUC: 0.6622 - val_binary_crossentropy: 0.6542 - val_accuracy: 0.6370\n",
      "Epoch 289/10000\n",
      ".20/20 - 0s - loss: 0.5782 - AUC: 0.8322 - binary_crossentropy: 0.5691 - accuracy: 0.8290 - val_loss: 0.6655 - val_AUC: 0.6577 - val_binary_crossentropy: 0.6564 - val_accuracy: 0.6350\n",
      "Epoch 290/10000\n",
      ".20/20 - 0s - loss: 0.5775 - AUC: 0.8329 - binary_crossentropy: 0.5684 - accuracy: 0.8292 - val_loss: 0.6649 - val_AUC: 0.6602 - val_binary_crossentropy: 0.6558 - val_accuracy: 0.6360\n",
      "Epoch 291/10000\n",
      ".20/20 - 0s - loss: 0.5785 - AUC: 0.8318 - binary_crossentropy: 0.5694 - accuracy: 0.8278 - val_loss: 0.6652 - val_AUC: 0.6639 - val_binary_crossentropy: 0.6561 - val_accuracy: 0.6440\n",
      "Epoch 292/10000\n",
      ".20/20 - 0s - loss: 0.5786 - AUC: 0.8315 - binary_crossentropy: 0.5695 - accuracy: 0.8269 - val_loss: 0.6627 - val_AUC: 0.6565 - val_binary_crossentropy: 0.6536 - val_accuracy: 0.6410\n",
      "Epoch 293/10000\n",
      ".20/20 - 0s - loss: 0.5777 - AUC: 0.8331 - binary_crossentropy: 0.5685 - accuracy: 0.8294 - val_loss: 0.6641 - val_AUC: 0.6609 - val_binary_crossentropy: 0.6550 - val_accuracy: 0.6310\n",
      "Epoch 294/10000\n",
      ".20/20 - 0s - loss: 0.5773 - AUC: 0.8333 - binary_crossentropy: 0.5682 - accuracy: 0.8308 - val_loss: 0.6632 - val_AUC: 0.6547 - val_binary_crossentropy: 0.6541 - val_accuracy: 0.6410\n",
      "Epoch 295/10000\n",
      ".20/20 - 0s - loss: 0.5778 - AUC: 0.8335 - binary_crossentropy: 0.5687 - accuracy: 0.8302 - val_loss: 0.6671 - val_AUC: 0.6550 - val_binary_crossentropy: 0.6580 - val_accuracy: 0.6210\n",
      "Epoch 296/10000\n",
      ".20/20 - 0s - loss: 0.5787 - AUC: 0.8331 - binary_crossentropy: 0.5696 - accuracy: 0.8271 - val_loss: 0.6607 - val_AUC: 0.6629 - val_binary_crossentropy: 0.6515 - val_accuracy: 0.6540\n",
      "Epoch 297/10000\n",
      ".20/20 - 0s - loss: 0.5817 - AUC: 0.8302 - binary_crossentropy: 0.5725 - accuracy: 0.8213 - val_loss: 0.6646 - val_AUC: 0.6546 - val_binary_crossentropy: 0.6555 - val_accuracy: 0.6360\n",
      "Epoch 298/10000\n",
      ".20/20 - 0s - loss: 0.5809 - AUC: 0.8304 - binary_crossentropy: 0.5717 - accuracy: 0.8239 - val_loss: 0.6665 - val_AUC: 0.6549 - val_binary_crossentropy: 0.6574 - val_accuracy: 0.6190\n",
      "Epoch 299/10000\n",
      ".20/20 - 0s - loss: 0.5797 - AUC: 0.8336 - binary_crossentropy: 0.5705 - accuracy: 0.8252 - val_loss: 0.6634 - val_AUC: 0.6546 - val_binary_crossentropy: 0.6542 - val_accuracy: 0.6390\n",
      "Epoch 300/10000\n",
      ".20/20 - 0s - loss: 0.5787 - AUC: 0.8340 - binary_crossentropy: 0.5696 - accuracy: 0.8266 - val_loss: 0.6656 - val_AUC: 0.6621 - val_binary_crossentropy: 0.6565 - val_accuracy: 0.6360\n",
      "Epoch 301/10000\n",
      "\n",
      "Epoch: 300, AUC:0.8342,  accuracy:0.8304,  binary_crossentropy:0.5685,  loss:0.5776,  val_AUC:0.6572,  val_accuracy:0.6270,  val_binary_crossentropy:0.6538,  val_loss:0.6630,  \n",
      ".20/20 - 0s - loss: 0.5776 - AUC: 0.8342 - binary_crossentropy: 0.5685 - accuracy: 0.8304 - val_loss: 0.6630 - val_AUC: 0.6572 - val_binary_crossentropy: 0.6538 - val_accuracy: 0.6270\n",
      "Epoch 302/10000\n",
      ".20/20 - 0s - loss: 0.5766 - AUC: 0.8348 - binary_crossentropy: 0.5675 - accuracy: 0.8318 - val_loss: 0.6629 - val_AUC: 0.6621 - val_binary_crossentropy: 0.6537 - val_accuracy: 0.6450\n",
      "Epoch 303/10000\n",
      ".20/20 - 0s - loss: 0.5765 - AUC: 0.8347 - binary_crossentropy: 0.5673 - accuracy: 0.8326 - val_loss: 0.6621 - val_AUC: 0.6563 - val_binary_crossentropy: 0.6530 - val_accuracy: 0.6470\n",
      "Epoch 304/10000\n",
      ".20/20 - 0s - loss: 0.5755 - AUC: 0.8361 - binary_crossentropy: 0.5664 - accuracy: 0.8342 - val_loss: 0.6615 - val_AUC: 0.6600 - val_binary_crossentropy: 0.6524 - val_accuracy: 0.6350\n",
      "Epoch 305/10000\n",
      ".20/20 - 0s - loss: 0.5750 - AUC: 0.8365 - binary_crossentropy: 0.5659 - accuracy: 0.8358 - val_loss: 0.6634 - val_AUC: 0.6616 - val_binary_crossentropy: 0.6543 - val_accuracy: 0.6340\n",
      "Epoch 306/10000\n",
      ".20/20 - 0s - loss: 0.5763 - AUC: 0.8357 - binary_crossentropy: 0.5672 - accuracy: 0.8327 - val_loss: 0.6647 - val_AUC: 0.6511 - val_binary_crossentropy: 0.6556 - val_accuracy: 0.6180\n"
     ]
    }
   ],
   "source": [
    "size_histories['paper'] = compile_and_fit(paper_model, 'sizes/paper')"
   ]
  },
  {
   "cell_type": "code",
   "execution_count": 30,
   "metadata": {},
   "outputs": [
    {
     "data": {
      "text/plain": [
       "[0.5055361390113831,\n",
       " 0.5304370522499084,\n",
       " 0.5486615896224976,\n",
       " 0.5648791193962097,\n",
       " 0.5810124278068542,\n",
       " 0.5910511016845703,\n",
       " 0.6020484566688538,\n",
       " 0.6116256713867188,\n",
       " 0.6218888163566589,\n",
       " 0.6319416761398315]"
      ]
     },
     "execution_count": 30,
     "metadata": {},
     "output_type": "execute_result"
    }
   ],
   "source": [
    "size_histories['paper'].history['AUC'][0:10]"
   ]
  },
  {
   "cell_type": "code",
   "execution_count": 31,
   "metadata": {},
   "outputs": [
    {
     "data": {
      "image/png": "[encoded data removed]",
      "text/plain": [
       "<Figure size 432x288 with 1 Axes>"
      ]
     },
     "metadata": {
      "needs_background": "light"
     },
     "output_type": "display_data"
    }
   ],
   "source": [
    "plotter = tfdocs.plots.HistoryPlotter(metric = 'binary_crossentropy', smoothing_std=10)\n",
    "plotter.plot(size_histories)"
   ]
  },
  {
   "cell_type": "code",
   "execution_count": 32,
   "metadata": {},
   "outputs": [
    {
     "data": {
      "image/png": "[encoded data removed]",
      "text/plain": [
       "<Figure size 432x288 with 1 Axes>"
      ]
     },
     "metadata": {
      "needs_background": "light"
     },
     "output_type": "display_data"
    }
   ],
   "source": [
    "plotter = tfdocs.plots.HistoryPlotter(metric = 'AUC', smoothing_std=10)\n",
    "plotter.plot(size_histories)"
   ]
  },
  {
   "cell_type": "code",
   "execution_count": 33,
   "metadata": {},
   "outputs": [
    {
     "data": {
      "text/plain": [
       "Text(0.5, 0, 'Epochs [Log Scale]')"
      ]
     },
     "execution_count": 33,
     "metadata": {},
     "output_type": "execute_result"
    },
    {
     "data": {
      "image/png": "[encoded data removed]",
      "text/plain": [
       "<Figure size 432x288 with 1 Axes>"
      ]
     },
     "metadata": {
      "needs_background": "light"
     },
     "output_type": "display_data"
    }
   ],
   "source": [
    "plotter.plot(size_histories)\n",
    "a = plt.xscale('log')\n",
    "plt.xlim([5, max(plt.xlim())])\n",
    "plt.ylim([0.5, 0.7])\n",
    "plt.xlabel(\"Epochs [Log Scale]\")"
   ]
  },
  {
   "cell_type": "code",
   "execution_count": 34,
   "metadata": {},
   "outputs": [
    {
     "name": "stderr",
     "output_type": "stream",
     "text": [
      "UsageError: Line magic function `%tensorboard` not found.\n"
     ]
    }
   ],
   "source": [
    "%tensorboard --logdir {logdir}/sizes"
   ]
  },
  {
   "cell_type": "code",
   "execution_count": 35,
   "metadata": {},
   "outputs": [
    {
     "data": {
      "text/html": [
       "\n",
       "        <iframe\n",
       "            width=\"100%\"\n",
       "            height=\"800px\"\n",
       "            src=\"https://tensorboard.dev/experiment/vW7jmmF9TmKmy3rbheMQpw/#scalars&_smoothingWeight=0.97\"\n",
       "            frameborder=\"0\"\n",
       "            allowfullscreen\n",
       "        ></iframe>\n",
       "        "
      ],
      "text/plain": [
       "<IPython.lib.display.IFrame at 0x7fc5cc150fa0>"
      ]
     },
     "execution_count": 35,
     "metadata": {},
     "output_type": "execute_result"
    }
   ],
   "source": [
    "display.IFrame(\n",
    "    src=\"https://tensorboard.dev/experiment/vW7jmmF9TmKmy3rbheMQpw/#scalars&_smoothingWeight=0.97\",\n",
    "    width=\"100%\", height=\"800px\")"
   ]
  },
  {
   "cell_type": "code",
   "execution_count": null,
   "metadata": {},
   "outputs": [],
   "source": []
  }
 ],
 "metadata": {
  "kernelspec": {
   "display_name": "Python 3",
   "language": "python",
   "name": "python3"
  },
  "language_info": {
   "codemirror_mode": {
    "name": "ipython",
    "version": 3
   },
   "file_extension": ".py",
   "mimetype": "text/x-python",
   "name": "python",
   "nbconvert_exporter": "python",
   "pygments_lexer": "ipython3",
   "version": "3.8.8"
  }
 },
 "nbformat": 4,
 "nbformat_minor": 5
}
